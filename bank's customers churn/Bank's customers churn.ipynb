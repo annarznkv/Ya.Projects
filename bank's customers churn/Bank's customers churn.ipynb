{
 "cells": [
  {
   "cell_type": "markdown",
   "metadata": {
    "toc": true
   },
   "source": [
    "<h1>Содержание<span class=\"tocSkip\"></span></h1>\n",
    "<div class=\"toc\"><ul class=\"toc-item\"><li><span><a href=\"#Подготовка-данных\" data-toc-modified-id=\"Подготовка-данных-1\"><span class=\"toc-item-num\">1&nbsp;&nbsp;</span>Подготовка данных</a></span></li><li><span><a href=\"#Исследование-задачи\" data-toc-modified-id=\"Исследование-задачи-2\"><span class=\"toc-item-num\">2&nbsp;&nbsp;</span>Исследование задачи</a></span></li><li><span><a href=\"#Борьба-с-дисбалансом\" data-toc-modified-id=\"Борьба-с-дисбалансом-3\"><span class=\"toc-item-num\">3&nbsp;&nbsp;</span>Борьба с дисбалансом</a></span></li><li><span><a href=\"#Тестирование-модели\" data-toc-modified-id=\"Тестирование-модели-4\"><span class=\"toc-item-num\">4&nbsp;&nbsp;</span>Тестирование модели</a></span></li>"
   ]
  },
  {
   "cell_type": "markdown",
   "metadata": {},
   "source": [
    "# Отток клиентов"
   ]
  },
  {
   "cell_type": "markdown",
   "metadata": {},
   "source": [
    "Из «Бета-Банка» стали уходить клиенты. Каждый месяц. Немного, но заметно. Банковские маркетологи посчитали: сохранять текущих клиентов дешевле, чем привлекать новых.\n",
    "\n",
    "Нужно спрогнозировать, уйдёт клиент из банка в ближайшее время или нет. \n",
    "Предоставлены исторические данные о поведении клиентов и расторжении договоров с банком. \n",
    "\n",
    "Нужно построить модель с предельно большим значением *F1*-меры. Чтобы сдать проект успешно, нужно довести метрику до 0.59.\n",
    "\n",
    "Источник данных: [https://www.kaggle.com/barelydedicated/bank-customer-churn-modeling](https://www.kaggle.com/barelydedicated/bank-customer-churn-modeling)"
   ]
  },
  {
   "cell_type": "markdown",
   "metadata": {},
   "source": [
    "## Подготовка данных"
   ]
  },
  {
   "cell_type": "code",
   "execution_count": 1,
   "metadata": {},
   "outputs": [],
   "source": [
    "#подключим библиотеки\n",
    "import pandas as pd\n",
    "import matplotlib.pyplot as plt\n",
    "\n",
    "from sklearn.preprocessing import OrdinalEncoder\n",
    "\n",
    "from sklearn.model_selection import train_test_split\n",
    "from sklearn.tree import DecisionTreeClassifier \n",
    "from sklearn.ensemble import RandomForestClassifier\n",
    "from sklearn.linear_model import LogisticRegression\n",
    "\\\n",
    "from sklearn.metrics import f1_score\n",
    "from sklearn.metrics import roc_auc_score\n",
    "from sklearn.metrics import confusion_matrix\n",
    "\n",
    "from sklearn.utils import shuffle\n",
    "\n",
    "from sklearn.metrics import roc_curve"
   ]
  },
  {
   "cell_type": "code",
   "execution_count": 2,
   "metadata": {},
   "outputs": [
    {
     "name": "stdout",
     "output_type": "stream",
     "text": [
      "<class 'pandas.core.frame.DataFrame'>\n",
      "RangeIndex: 10000 entries, 0 to 9999\n",
      "Data columns (total 14 columns):\n",
      " #   Column           Non-Null Count  Dtype  \n",
      "---  ------           --------------  -----  \n",
      " 0   RowNumber        10000 non-null  int64  \n",
      " 1   CustomerId       10000 non-null  int64  \n",
      " 2   Surname          10000 non-null  object \n",
      " 3   CreditScore      10000 non-null  int64  \n",
      " 4   Geography        10000 non-null  object \n",
      " 5   Gender           10000 non-null  object \n",
      " 6   Age              10000 non-null  int64  \n",
      " 7   Tenure           9091 non-null   float64\n",
      " 8   Balance          10000 non-null  float64\n",
      " 9   NumOfProducts    10000 non-null  int64  \n",
      " 10  HasCrCard        10000 non-null  int64  \n",
      " 11  IsActiveMember   10000 non-null  int64  \n",
      " 12  EstimatedSalary  10000 non-null  float64\n",
      " 13  Exited           10000 non-null  int64  \n",
      "dtypes: float64(3), int64(8), object(3)\n",
      "memory usage: 1.1+ MB\n"
     ]
    },
    {
     "data": {
      "text/html": [
       "<div>\n",
       "<style scoped>\n",
       "    .dataframe tbody tr th:only-of-type {\n",
       "        vertical-align: middle;\n",
       "    }\n",
       "\n",
       "    .dataframe tbody tr th {\n",
       "        vertical-align: top;\n",
       "    }\n",
       "\n",
       "    .dataframe thead th {\n",
       "        text-align: right;\n",
       "    }\n",
       "</style>\n",
       "<table border=\"1\" class=\"dataframe\">\n",
       "  <thead>\n",
       "    <tr style=\"text-align: right;\">\n",
       "      <th></th>\n",
       "      <th>RowNumber</th>\n",
       "      <th>CustomerId</th>\n",
       "      <th>Surname</th>\n",
       "      <th>CreditScore</th>\n",
       "      <th>Geography</th>\n",
       "      <th>Gender</th>\n",
       "      <th>Age</th>\n",
       "      <th>Tenure</th>\n",
       "      <th>Balance</th>\n",
       "      <th>NumOfProducts</th>\n",
       "      <th>HasCrCard</th>\n",
       "      <th>IsActiveMember</th>\n",
       "      <th>EstimatedSalary</th>\n",
       "      <th>Exited</th>\n",
       "    </tr>\n",
       "  </thead>\n",
       "  <tbody>\n",
       "    <tr>\n",
       "      <th>0</th>\n",
       "      <td>1</td>\n",
       "      <td>15634602</td>\n",
       "      <td>Hargrave</td>\n",
       "      <td>619</td>\n",
       "      <td>France</td>\n",
       "      <td>Female</td>\n",
       "      <td>42</td>\n",
       "      <td>2.0</td>\n",
       "      <td>0.00</td>\n",
       "      <td>1</td>\n",
       "      <td>1</td>\n",
       "      <td>1</td>\n",
       "      <td>101348.88</td>\n",
       "      <td>1</td>\n",
       "    </tr>\n",
       "    <tr>\n",
       "      <th>1</th>\n",
       "      <td>2</td>\n",
       "      <td>15647311</td>\n",
       "      <td>Hill</td>\n",
       "      <td>608</td>\n",
       "      <td>Spain</td>\n",
       "      <td>Female</td>\n",
       "      <td>41</td>\n",
       "      <td>1.0</td>\n",
       "      <td>83807.86</td>\n",
       "      <td>1</td>\n",
       "      <td>0</td>\n",
       "      <td>1</td>\n",
       "      <td>112542.58</td>\n",
       "      <td>0</td>\n",
       "    </tr>\n",
       "    <tr>\n",
       "      <th>2</th>\n",
       "      <td>3</td>\n",
       "      <td>15619304</td>\n",
       "      <td>Onio</td>\n",
       "      <td>502</td>\n",
       "      <td>France</td>\n",
       "      <td>Female</td>\n",
       "      <td>42</td>\n",
       "      <td>8.0</td>\n",
       "      <td>159660.80</td>\n",
       "      <td>3</td>\n",
       "      <td>1</td>\n",
       "      <td>0</td>\n",
       "      <td>113931.57</td>\n",
       "      <td>1</td>\n",
       "    </tr>\n",
       "    <tr>\n",
       "      <th>3</th>\n",
       "      <td>4</td>\n",
       "      <td>15701354</td>\n",
       "      <td>Boni</td>\n",
       "      <td>699</td>\n",
       "      <td>France</td>\n",
       "      <td>Female</td>\n",
       "      <td>39</td>\n",
       "      <td>1.0</td>\n",
       "      <td>0.00</td>\n",
       "      <td>2</td>\n",
       "      <td>0</td>\n",
       "      <td>0</td>\n",
       "      <td>93826.63</td>\n",
       "      <td>0</td>\n",
       "    </tr>\n",
       "    <tr>\n",
       "      <th>4</th>\n",
       "      <td>5</td>\n",
       "      <td>15737888</td>\n",
       "      <td>Mitchell</td>\n",
       "      <td>850</td>\n",
       "      <td>Spain</td>\n",
       "      <td>Female</td>\n",
       "      <td>43</td>\n",
       "      <td>2.0</td>\n",
       "      <td>125510.82</td>\n",
       "      <td>1</td>\n",
       "      <td>1</td>\n",
       "      <td>1</td>\n",
       "      <td>79084.10</td>\n",
       "      <td>0</td>\n",
       "    </tr>\n",
       "  </tbody>\n",
       "</table>\n",
       "</div>"
      ],
      "text/plain": [
       "   RowNumber  CustomerId   Surname  CreditScore Geography  Gender  Age  \\\n",
       "0          1    15634602  Hargrave          619    France  Female   42   \n",
       "1          2    15647311      Hill          608     Spain  Female   41   \n",
       "2          3    15619304      Onio          502    France  Female   42   \n",
       "3          4    15701354      Boni          699    France  Female   39   \n",
       "4          5    15737888  Mitchell          850     Spain  Female   43   \n",
       "\n",
       "   Tenure    Balance  NumOfProducts  HasCrCard  IsActiveMember  \\\n",
       "0     2.0       0.00              1          1               1   \n",
       "1     1.0   83807.86              1          0               1   \n",
       "2     8.0  159660.80              3          1               0   \n",
       "3     1.0       0.00              2          0               0   \n",
       "4     2.0  125510.82              1          1               1   \n",
       "\n",
       "   EstimatedSalary  Exited  \n",
       "0        101348.88       1  \n",
       "1        112542.58       0  \n",
       "2        113931.57       1  \n",
       "3         93826.63       0  \n",
       "4         79084.10       0  "
      ]
     },
     "execution_count": 2,
     "metadata": {},
     "output_type": "execute_result"
    }
   ],
   "source": [
    "data = pd.read_csv('/datasets/Churn.csv')\n",
    "data.info()\n",
    "data.head()"
   ]
  },
  {
   "cell_type": "code",
   "execution_count": 3,
   "metadata": {},
   "outputs": [
    {
     "data": {
      "text/plain": [
       "France     5014\n",
       "Germany    2509\n",
       "Spain      2477\n",
       "Name: Geography, dtype: int64"
      ]
     },
     "execution_count": 3,
     "metadata": {},
     "output_type": "execute_result"
    }
   ],
   "source": [
    "#Посмотрим на нечисловые данные\n",
    "data['Geography'].value_counts()"
   ]
  },
  {
   "cell_type": "code",
   "execution_count": 4,
   "metadata": {},
   "outputs": [
    {
     "data": {
      "text/plain": [
       "Male      5457\n",
       "Female    4543\n",
       "Name: Gender, dtype: int64"
      ]
     },
     "execution_count": 4,
     "metadata": {},
     "output_type": "execute_result"
    }
   ],
   "source": [
    "data['Gender'].value_counts()"
   ]
  },
  {
   "cell_type": "code",
   "execution_count": 5,
   "metadata": {},
   "outputs": [
    {
     "data": {
      "text/plain": [
       "2932"
      ]
     },
     "execution_count": 5,
     "metadata": {},
     "output_type": "execute_result"
    }
   ],
   "source": [
    "data['Surname'].nunique()"
   ]
  },
  {
   "cell_type": "code",
   "execution_count": 6,
   "metadata": {
    "scrolled": false
   },
   "outputs": [
    {
     "name": "stdout",
     "output_type": "stream",
     "text": [
      "not numeric type Surname\n",
      "not numeric type Geography\n",
      "not numeric type Gender\n"
     ]
    },
    {
     "data": {
      "image/png": "[encoded data removed]",
      "text/plain": [
       "<Figure size 432x288 with 1 Axes>"
      ]
     },
     "metadata": {
      "needs_background": "light"
     },
     "output_type": "display_data"
    },
    {
     "data": {
      "image/png": "[encoded data removed]",
      "text/plain": [
       "<Figure size 432x288 with 1 Axes>"
      ]
     },
     "metadata": {
      "needs_background": "light"
     },
     "output_type": "display_data"
    },
    {
     "data": {
      "image/png": "[encoded data removed]",
      "text/plain": [
       "<Figure size 432x288 with 1 Axes>"
      ]
     },
     "metadata": {
      "needs_background": "light"
     },
     "output_type": "display_data"
    },
    {
     "data": {
      "image/png": "[encoded data removed]",
      "text/plain": [
       "<Figure size 432x288 with 1 Axes>"
      ]
     },
     "metadata": {
      "needs_background": "light"
     },
     "output_type": "display_data"
    },
    {
     "data": {
      "image/png": "[encoded data removed]",
      "text/plain": [
       "<Figure size 432x288 with 1 Axes>"
      ]
     },
     "metadata": {
      "needs_background": "light"
     },
     "output_type": "display_data"
    },
    {
     "data": {
      "image/png": "[encoded data removed]",
      "text/plain": [
       "<Figure size 432x288 with 1 Axes>"
      ]
     },
     "metadata": {
      "needs_background": "light"
     },
     "output_type": "display_data"
    },
    {
     "data": {
      "image/png": "[encoded data removed]",
      "text/plain": [
       "<Figure size 432x288 with 1 Axes>"
      ]
     },
     "metadata": {
      "needs_background": "light"
     },
     "output_type": "display_data"
    },
    {
     "data": {
      "image/png": "[encoded data removed]",
      "text/plain": [
       "<Figure size 432x288 with 1 Axes>"
      ]
     },
     "metadata": {
      "needs_background": "light"
     },
     "output_type": "display_data"
    },
    {
     "data": {
      "image/png": "[encoded data removed]",
      "text/plain": [
       "<Figure size 432x288 with 1 Axes>"
      ]
     },
     "metadata": {
      "needs_background": "light"
     },
     "output_type": "display_data"
    },
    {
     "data": {
      "image/png": "[encoded data removed]",
      "text/plain": [
       "<Figure size 432x288 with 1 Axes>"
      ]
     },
     "metadata": {
      "needs_background": "light"
     },
     "output_type": "display_data"
    },
    {
     "data": {
      "image/png": "[encoded data removed]",
      "text/plain": [
       "<Figure size 432x288 with 1 Axes>"
      ]
     },
     "metadata": {
      "needs_background": "light"
     },
     "output_type": "display_data"
    }
   ],
   "source": [
    "# Посмотрим на распределение числовых данных\n",
    "for i in data:\n",
    "    try:\n",
    "        data.plot(y = i,title = i,kind = 'hist', bins = 50)\n",
    "    except:\n",
    "        print('not numeric type',i)"
   ]
  },
  {
   "cell_type": "code",
   "execution_count": 7,
   "metadata": {},
   "outputs": [
    {
     "data": {
      "text/plain": [
       "0"
      ]
     },
     "execution_count": 7,
     "metadata": {},
     "output_type": "execute_result"
    }
   ],
   "source": [
    "#Удалим столбцы, не участвующие в анализе, и проверим дублирование\n",
    "data = data.drop(['RowNumber','CustomerId','Surname'],axis = 1)\n",
    "data.duplicated().sum()"
   ]
  },
  {
   "cell_type": "markdown",
   "metadata": {},
   "source": [
    "Признаки\n",
    "- RowNumber — индекс строки в данных\n",
    "- CustomerId — уникальный идентификатор клиента\n",
    "- Surname — фамилия\n",
    "- CreditScore — кредитный рейтинг\n",
    "- Geography — страна проживания\n",
    "- Gender — пол\n",
    "- Age — возраст\n",
    "- Tenure — сколько лет человек является клиентом банка\n",
    "- Balance — баланс на счёте\n",
    "- NumOfProducts — количество продуктов банка, используемых клиентом\n",
    "- HasCrCard — наличие кредитной карты\n",
    "- IsActiveMember — активность клиента\n",
    "- EstimatedSalary — предполагаемая зарплата\n",
    "\n",
    "Целевой признак\n",
    "- Exited — факт ухода клиента"
   ]
  },
  {
   "cell_type": "markdown",
   "metadata": {},
   "source": [
    "Качество данных неплохое: дублирования нет, есть пропуски в сроке взаимодействия клиента с банком. Заменим пустые значения единым \"100500\", чтобы сработало кодирование.\n",
    "\n",
    "Нужно будет кодировать пол и географию.\n",
    "\n",
    "Распределения данных не вызывают вопросов."
   ]
  },
  {
   "cell_type": "markdown",
   "metadata": {},
   "source": [
    "## Исследование задачи"
   ]
  },
  {
   "cell_type": "code",
   "execution_count": 8,
   "metadata": {},
   "outputs": [
    {
     "data": {
      "text/html": [
       "<div>\n",
       "<style scoped>\n",
       "    .dataframe tbody tr th:only-of-type {\n",
       "        vertical-align: middle;\n",
       "    }\n",
       "\n",
       "    .dataframe tbody tr th {\n",
       "        vertical-align: top;\n",
       "    }\n",
       "\n",
       "    .dataframe thead th {\n",
       "        text-align: right;\n",
       "    }\n",
       "</style>\n",
       "<table border=\"1\" class=\"dataframe\">\n",
       "  <thead>\n",
       "    <tr style=\"text-align: right;\">\n",
       "      <th></th>\n",
       "      <th>CreditScore</th>\n",
       "      <th>Age</th>\n",
       "      <th>Balance</th>\n",
       "      <th>NumOfProducts</th>\n",
       "      <th>HasCrCard</th>\n",
       "      <th>IsActiveMember</th>\n",
       "      <th>EstimatedSalary</th>\n",
       "      <th>Exited</th>\n",
       "      <th>Tenure_0.0</th>\n",
       "      <th>Tenure_1.0</th>\n",
       "      <th>...</th>\n",
       "      <th>Tenure_4.0</th>\n",
       "      <th>Tenure_5.0</th>\n",
       "      <th>Tenure_6.0</th>\n",
       "      <th>Tenure_7.0</th>\n",
       "      <th>Tenure_8.0</th>\n",
       "      <th>Tenure_9.0</th>\n",
       "      <th>Tenure_10.0</th>\n",
       "      <th>Gender_Male</th>\n",
       "      <th>Geography_Germany</th>\n",
       "      <th>Geography_Spain</th>\n",
       "    </tr>\n",
       "  </thead>\n",
       "  <tbody>\n",
       "    <tr>\n",
       "      <th>0</th>\n",
       "      <td>619</td>\n",
       "      <td>42</td>\n",
       "      <td>0.00</td>\n",
       "      <td>1</td>\n",
       "      <td>1</td>\n",
       "      <td>1</td>\n",
       "      <td>101348.88</td>\n",
       "      <td>1</td>\n",
       "      <td>0</td>\n",
       "      <td>0</td>\n",
       "      <td>...</td>\n",
       "      <td>0</td>\n",
       "      <td>0</td>\n",
       "      <td>0</td>\n",
       "      <td>0</td>\n",
       "      <td>0</td>\n",
       "      <td>0</td>\n",
       "      <td>0</td>\n",
       "      <td>0</td>\n",
       "      <td>0</td>\n",
       "      <td>0</td>\n",
       "    </tr>\n",
       "    <tr>\n",
       "      <th>1</th>\n",
       "      <td>608</td>\n",
       "      <td>41</td>\n",
       "      <td>83807.86</td>\n",
       "      <td>1</td>\n",
       "      <td>0</td>\n",
       "      <td>1</td>\n",
       "      <td>112542.58</td>\n",
       "      <td>0</td>\n",
       "      <td>0</td>\n",
       "      <td>1</td>\n",
       "      <td>...</td>\n",
       "      <td>0</td>\n",
       "      <td>0</td>\n",
       "      <td>0</td>\n",
       "      <td>0</td>\n",
       "      <td>0</td>\n",
       "      <td>0</td>\n",
       "      <td>0</td>\n",
       "      <td>0</td>\n",
       "      <td>0</td>\n",
       "      <td>1</td>\n",
       "    </tr>\n",
       "    <tr>\n",
       "      <th>2</th>\n",
       "      <td>502</td>\n",
       "      <td>42</td>\n",
       "      <td>159660.80</td>\n",
       "      <td>3</td>\n",
       "      <td>1</td>\n",
       "      <td>0</td>\n",
       "      <td>113931.57</td>\n",
       "      <td>1</td>\n",
       "      <td>0</td>\n",
       "      <td>0</td>\n",
       "      <td>...</td>\n",
       "      <td>0</td>\n",
       "      <td>0</td>\n",
       "      <td>0</td>\n",
       "      <td>0</td>\n",
       "      <td>1</td>\n",
       "      <td>0</td>\n",
       "      <td>0</td>\n",
       "      <td>0</td>\n",
       "      <td>0</td>\n",
       "      <td>0</td>\n",
       "    </tr>\n",
       "    <tr>\n",
       "      <th>3</th>\n",
       "      <td>699</td>\n",
       "      <td>39</td>\n",
       "      <td>0.00</td>\n",
       "      <td>2</td>\n",
       "      <td>0</td>\n",
       "      <td>0</td>\n",
       "      <td>93826.63</td>\n",
       "      <td>0</td>\n",
       "      <td>0</td>\n",
       "      <td>1</td>\n",
       "      <td>...</td>\n",
       "      <td>0</td>\n",
       "      <td>0</td>\n",
       "      <td>0</td>\n",
       "      <td>0</td>\n",
       "      <td>0</td>\n",
       "      <td>0</td>\n",
       "      <td>0</td>\n",
       "      <td>0</td>\n",
       "      <td>0</td>\n",
       "      <td>0</td>\n",
       "    </tr>\n",
       "    <tr>\n",
       "      <th>4</th>\n",
       "      <td>850</td>\n",
       "      <td>43</td>\n",
       "      <td>125510.82</td>\n",
       "      <td>1</td>\n",
       "      <td>1</td>\n",
       "      <td>1</td>\n",
       "      <td>79084.10</td>\n",
       "      <td>0</td>\n",
       "      <td>0</td>\n",
       "      <td>0</td>\n",
       "      <td>...</td>\n",
       "      <td>0</td>\n",
       "      <td>0</td>\n",
       "      <td>0</td>\n",
       "      <td>0</td>\n",
       "      <td>0</td>\n",
       "      <td>0</td>\n",
       "      <td>0</td>\n",
       "      <td>0</td>\n",
       "      <td>0</td>\n",
       "      <td>1</td>\n",
       "    </tr>\n",
       "  </tbody>\n",
       "</table>\n",
       "<p>5 rows × 22 columns</p>\n",
       "</div>"
      ],
      "text/plain": [
       "   CreditScore  Age    Balance  NumOfProducts  HasCrCard  IsActiveMember  \\\n",
       "0          619   42       0.00              1          1               1   \n",
       "1          608   41   83807.86              1          0               1   \n",
       "2          502   42  159660.80              3          1               0   \n",
       "3          699   39       0.00              2          0               0   \n",
       "4          850   43  125510.82              1          1               1   \n",
       "\n",
       "   EstimatedSalary  Exited  Tenure_0.0  Tenure_1.0  ...  Tenure_4.0  \\\n",
       "0        101348.88       1           0           0  ...           0   \n",
       "1        112542.58       0           0           1  ...           0   \n",
       "2        113931.57       1           0           0  ...           0   \n",
       "3         93826.63       0           0           1  ...           0   \n",
       "4         79084.10       0           0           0  ...           0   \n",
       "\n",
       "   Tenure_5.0  Tenure_6.0  Tenure_7.0  Tenure_8.0  Tenure_9.0  Tenure_10.0  \\\n",
       "0           0           0           0           0           0            0   \n",
       "1           0           0           0           0           0            0   \n",
       "2           0           0           0           1           0            0   \n",
       "3           0           0           0           0           0            0   \n",
       "4           0           0           0           0           0            0   \n",
       "\n",
       "   Gender_Male  Geography_Germany  Geography_Spain  \n",
       "0            0                  0                0  \n",
       "1            0                  0                1  \n",
       "2            0                  0                0  \n",
       "3            0                  0                0  \n",
       "4            0                  0                1  \n",
       "\n",
       "[5 rows x 22 columns]"
      ]
     },
     "execution_count": 8,
     "metadata": {},
     "output_type": "execute_result"
    }
   ],
   "source": [
    "data_ohe = pd.get_dummies(data,columns=['Tenure'], drop_first=False)\n",
    "data_ohe = pd.get_dummies(data_ohe,columns=['Gender','Geography'], drop_first=True)\n",
    "data_ohe.head()"
   ]
  },
  {
   "cell_type": "markdown",
   "metadata": {},
   "source": [
    "Ок, кодирование свершилось. Все данные - числа с плавающей точкой.\n",
    "Переходим к моделированию. "
   ]
  },
  {
   "cell_type": "code",
   "execution_count": 9,
   "metadata": {},
   "outputs": [
    {
     "name": "stdout",
     "output_type": "stream",
     "text": [
      "(10000, 21)\n",
      "(2000, 21)\n",
      "(6000, 21)\n",
      "(10000,)\n",
      "(2000,)\n",
      "(6000,)\n"
     ]
    }
   ],
   "source": [
    "features = data_ohe.drop(['Exited'],axis = 1)\n",
    "target = data_ohe['Exited']\n",
    "\n",
    "\n",
    "features_valid, features_train, target_valid, target_train = train_test_split(features, target, test_size = 0.8, random_state = 12345,stratify = target)\n",
    "features_test, features_train, target_test, target_train = train_test_split(features_train, target_train, test_size = 0.75, random_state = 12345,stratify = target_train)\n",
    "\n",
    "\n",
    "print(features.shape)\n",
    "print(features_valid.shape)\n",
    "print(features_train.shape)\n",
    "\n",
    "print(target.shape)\n",
    "print(target_valid.shape)\n",
    "print(target_train.shape)"
   ]
  },
  {
   "cell_type": "code",
   "execution_count": 10,
   "metadata": {},
   "outputs": [
    {
     "name": "stdout",
     "output_type": "stream",
     "text": [
      "f1 is 0.13\n",
      "auc-roc is 0.68\n"
     ]
    }
   ],
   "source": [
    "#Протестируем на модели логистической регрессии\n",
    "model = LogisticRegression(random_state=12345, solver='liblinear')\n",
    "model.fit(features_train,target_train)\n",
    "predictions_valid = model.predict(features_valid)\n",
    "\n",
    "print(\"f1 is\",round(f1_score(target_valid, predictions_valid),2))\n",
    "\n",
    "probabilities_valid = model.predict_proba(features_valid)\n",
    "probabilities_one_valid = probabilities_valid[:, 1]\n",
    "auc_roc = roc_auc_score(target_valid, probabilities_one_valid)\n",
    "print(\"auc-roc is\",round(auc_roc,2))"
   ]
  },
  {
   "cell_type": "code",
   "execution_count": 11,
   "metadata": {},
   "outputs": [
    {
     "name": "stdout",
     "output_type": "stream",
     "text": [
      "f1 is 0.51\n",
      "auc-roc is 0.69\n"
     ]
    }
   ],
   "source": [
    "#Протестируем на модели деревьев решений\n",
    "model = DecisionTreeClassifier(random_state=12345)\n",
    "model.fit(features_train,target_train)\n",
    "predictions_valid = model.predict(features_valid)\n",
    "\n",
    "print(\"f1 is\",round(f1_score(target_valid, predictions_valid),2))\n",
    "\n",
    "probabilities_valid = model.predict_proba(features_valid)\n",
    "probabilities_one_valid = probabilities_valid[:, 1]\n",
    "auc_roc = roc_auc_score(target_valid, probabilities_one_valid)\n",
    "print(\"auc-roc is\",round(auc_roc,2))"
   ]
  },
  {
   "cell_type": "code",
   "execution_count": 12,
   "metadata": {},
   "outputs": [
    {
     "name": "stdout",
     "output_type": "stream",
     "text": [
      "f1 is 0.55\n",
      "auc-roc is 0.85\n"
     ]
    }
   ],
   "source": [
    "#Протестируем на модели RandomForest\n",
    "model = RandomForestClassifier(random_state=12345)\n",
    "model.fit(features_train,target_train)\n",
    "predictions_valid = model.predict(features_valid)\n",
    "\n",
    "print(\"f1 is\",round(f1_score(target_valid, predictions_valid),2))\n",
    "\n",
    "probabilities_valid = model.predict_proba(features_valid)\n",
    "probabilities_one_valid = probabilities_valid[:, 1]\n",
    "auc_roc = roc_auc_score(target_valid, probabilities_one_valid)\n",
    "print(\"auc-roc is\",round(auc_roc,2))"
   ]
  },
  {
   "cell_type": "markdown",
   "metadata": {},
   "source": [
    "До целевого значения F1-меры - 0.59 - не дотягивает результат ни у одной модели :("
   ]
  },
  {
   "cell_type": "markdown",
   "metadata": {},
   "source": [
    "## Борьба с дисбалансом"
   ]
  },
  {
   "cell_type": "code",
   "execution_count": 13,
   "metadata": {},
   "outputs": [
    {
     "data": {
      "text/plain": [
       "0    7963\n",
       "1    2037\n",
       "Name: Exited, dtype: int64"
      ]
     },
     "execution_count": 13,
     "metadata": {},
     "output_type": "execute_result"
    }
   ],
   "source": [
    "#Посмотрим на дисбаланс\n",
    "data_ohe['Exited'].value_counts()"
   ]
  },
  {
   "cell_type": "code",
   "execution_count": 14,
   "metadata": {},
   "outputs": [
    {
     "name": "stdout",
     "output_type": "stream",
     "text": [
      "f1 is 0.49\n",
      "auc-roc is 0.76\n"
     ]
    }
   ],
   "source": [
    "#Добавим в модель аргумент взвешивания классов\n",
    "model = LogisticRegression(random_state=12345, solver='liblinear',class_weight='balanced')\n",
    "model.fit(features_train,target_train)\n",
    "predictions_valid = model.predict(features_valid)\n",
    "\n",
    "print(\"f1 is\",round(f1_score(target_valid, predictions_valid),2))\n",
    "\n",
    "probabilities_valid = model.predict_proba(features_valid)\n",
    "probabilities_one_valid = probabilities_valid[:, 1]\n",
    "auc_roc = roc_auc_score(target_valid, probabilities_one_valid)\n",
    "print(\"auc-roc is\",round(auc_roc,2))"
   ]
  },
  {
   "cell_type": "code",
   "execution_count": 15,
   "metadata": {},
   "outputs": [
    {
     "name": "stdout",
     "output_type": "stream",
     "text": [
      "f1 is 0.49\n",
      "auc-roc is 0.68\n"
     ]
    }
   ],
   "source": [
    "#Проверим взвешивание классов на модели деревьев решений\n",
    "model = DecisionTreeClassifier(random_state=12345, class_weight='balanced')\n",
    "model.fit(features_train,target_train)\n",
    "predictions_valid = model.predict(features_valid)\n",
    "\n",
    "print(\"f1 is\",round(f1_score(target_valid, predictions_valid),2))\n",
    "\n",
    "probabilities_valid = model.predict_proba(features_valid)\n",
    "probabilities_one_valid = probabilities_valid[:, 1]\n",
    "auc_roc = roc_auc_score(target_valid, probabilities_one_valid)\n",
    "print(\"auc-roc is\",round(auc_roc,2))"
   ]
  },
  {
   "cell_type": "code",
   "execution_count": 16,
   "metadata": {},
   "outputs": [
    {
     "name": "stdout",
     "output_type": "stream",
     "text": [
      "f1 is 0.53\n",
      "auc-roc is 0.85\n"
     ]
    }
   ],
   "source": [
    "#Проверим взвешивание классов на модели RandomForest\n",
    "model = RandomForestClassifier(random_state=12345, class_weight='balanced')\n",
    "model.fit(features_train,target_train)\n",
    "predictions_valid = model.predict(features_valid)\n",
    "\n",
    "print(\"f1 is\",round(f1_score(target_valid, predictions_valid),2))\n",
    "\n",
    "probabilities_valid = model.predict_proba(features_valid)\n",
    "probabilities_one_valid = probabilities_valid[:, 1]\n",
    "auc_roc = roc_auc_score(target_valid, probabilities_one_valid)\n",
    "print(\"auc-roc is\",round(auc_roc,2))"
   ]
  },
  {
   "cell_type": "markdown",
   "metadata": {},
   "source": [
    "Взвешивание классов не дало нужного эффекта на F1. Жаль\n",
    "Интересно, что взвешивание для Random Forest ухудшило результат."
   ]
  },
  {
   "cell_type": "code",
   "execution_count": 17,
   "metadata": {},
   "outputs": [],
   "source": [
    "#Увеличим выборку\n",
    "def upsample(features, target, repeat):\n",
    "    features_zeros = features[target == 0]\n",
    "    features_ones = features[target == 1]\n",
    "    target_zeros = target[target == 0]\n",
    "    target_ones = target[target == 1]\n",
    "\n",
    "    features_upsampled = pd.concat([features_zeros] + [features_ones] * repeat)\n",
    "    target_upsampled = pd.concat([target_zeros] + [target_ones] * repeat)\n",
    "    \n",
    "    features_upsampled, target_upsampled = shuffle(\n",
    "        features_upsampled, target_upsampled, random_state=12345)\n",
    "    \n",
    "    return features_upsampled, target_upsampled\n",
    "\n",
    "features_upsampled, target_upsampled = upsample(features_train, target_train, 3)"
   ]
  },
  {
   "cell_type": "code",
   "execution_count": 18,
   "metadata": {},
   "outputs": [],
   "source": [
    "#Уменьшим выборку\n",
    "def downsample(features, target, fraction):\n",
    "    features_zeros = features[target == 0]\n",
    "    features_ones = features[target == 1]\n",
    "    target_zeros = target[target == 0]\n",
    "    target_ones = target[target == 1]\n",
    "\n",
    "    features_downsampled = pd.concat(\n",
    "        [features_zeros.sample(frac=fraction, random_state=12345)] + [features_ones])\n",
    "    target_downsampled = pd.concat(\n",
    "        [target_zeros.sample(frac=fraction, random_state=12345)] + [target_ones])\n",
    "    \n",
    "    features_downsampled, target_downsampled = shuffle(\n",
    "        features_downsampled, target_downsampled, random_state=12345)\n",
    "    \n",
    "    return features_downsampled, target_downsampled\n",
    "\n",
    "features_downsampled, target_downsampled = downsample(features_train, target_train, 0.3)"
   ]
  },
  {
   "cell_type": "code",
   "execution_count": 19,
   "metadata": {},
   "outputs": [
    {
     "name": "stdout",
     "output_type": "stream",
     "text": [
      "f1 is 0.53\n",
      "auc-roc is 0.72\n"
     ]
    }
   ],
   "source": [
    "#Протестируем модель логистической регрессии на увеличенной выборке\n",
    "model = LogisticRegression(solver='liblinear',random_state=12345)\n",
    "model.fit(features_upsampled, target_upsampled)\n",
    "predicted_valid = model.predict(features_valid)\n",
    "\n",
    "print(\"f1 is\",round(f1_score(target_valid, predictions_valid),2))\n",
    "\n",
    "probabilities_valid = model.predict_proba(features_valid)\n",
    "probabilities_one_valid = probabilities_valid[:, 1]\n",
    "auc_roc = roc_auc_score(target_valid, probabilities_one_valid)\n",
    "print(\"auc-roc is\",round(auc_roc,2))"
   ]
  },
  {
   "cell_type": "code",
   "execution_count": 20,
   "metadata": {},
   "outputs": [
    {
     "name": "stdout",
     "output_type": "stream",
     "text": [
      "f1 is 0.53\n",
      "auc-roc is 0.72\n"
     ]
    }
   ],
   "source": [
    "#Протестируем модель логистической регрессии на уменьшенной выборке\n",
    "model = LogisticRegression(random_state=12345, solver='liblinear')\n",
    "model.fit(features_downsampled, target_downsampled)\n",
    "predicted_valid = model.predict(features_valid)\n",
    "\n",
    "print(\"f1 is\",round(f1_score(target_valid, predictions_valid),2))\n",
    "\n",
    "probabilities_valid = model.predict_proba(features_valid)\n",
    "probabilities_one_valid = probabilities_valid[:, 1]\n",
    "auc_roc = roc_auc_score(target_valid, probabilities_one_valid)\n",
    "print(\"auc-roc is\",round(auc_roc,2))"
   ]
  },
  {
   "cell_type": "markdown",
   "metadata": {},
   "source": [
    "Модель логистической регрессии не дала целевой результат ни на увеличенной, ни на уменьшенной выборке."
   ]
  },
  {
   "cell_type": "code",
   "execution_count": 21,
   "metadata": {},
   "outputs": [
    {
     "name": "stdout",
     "output_type": "stream",
     "text": [
      "f1 is 0.53\n",
      "auc-roc is 0.69\n"
     ]
    }
   ],
   "source": [
    "#Протестируем модель дерева решений на увеличенной выборке\n",
    "model = DecisionTreeClassifier(random_state=12345)\n",
    "model.fit(features_upsampled, target_upsampled)\n",
    "predicted_valid = model.predict(features_valid)\n",
    "\n",
    "print(\"f1 is\",round(f1_score(target_valid, predictions_valid),2))\n",
    "\n",
    "probabilities_valid = model.predict_proba(features_valid)\n",
    "probabilities_one_valid = probabilities_valid[:, 1]\n",
    "auc_roc = roc_auc_score(target_valid, probabilities_one_valid)\n",
    "print(\"auc-roc is\",round(auc_roc,2))"
   ]
  },
  {
   "cell_type": "code",
   "execution_count": 22,
   "metadata": {},
   "outputs": [
    {
     "name": "stdout",
     "output_type": "stream",
     "text": [
      "f1 is 0.53\n",
      "auc-roc is 0.7\n"
     ]
    }
   ],
   "source": [
    "#Протестируем модель дерева решений на уменьшенной выборке\n",
    "model = DecisionTreeClassifier(random_state=12345)\n",
    "model.fit(features_downsampled, target_downsampled)\n",
    "predicted_valid = model.predict(features_valid)\n",
    "\n",
    "print(\"f1 is\",round(f1_score(target_valid, predictions_valid),2))\n",
    "\n",
    "probabilities_valid = model.predict_proba(features_valid)\n",
    "probabilities_one_valid = probabilities_valid[:, 1]\n",
    "auc_roc = roc_auc_score(target_valid, probabilities_one_valid)\n",
    "print(\"auc-roc is\",round(auc_roc,2))"
   ]
  },
  {
   "cell_type": "markdown",
   "metadata": {},
   "source": [
    "Модель дерева решений не дала целевой результат ни на увеличенной, ни на уменьшенной выборке."
   ]
  },
  {
   "cell_type": "code",
   "execution_count": 23,
   "metadata": {},
   "outputs": [
    {
     "name": "stdout",
     "output_type": "stream",
     "text": [
      "f1 is 0.53\n",
      "auc-roc is 0.85\n"
     ]
    }
   ],
   "source": [
    "#Протестируем модель random forest на увеличенной выборке\n",
    "model = RandomForestClassifier(random_state=12345)\n",
    "model.fit(features_upsampled, target_upsampled)\n",
    "predicted_valid = model.predict(features_valid)\n",
    "\n",
    "print(\"f1 is\",round(f1_score(target_valid, predictions_valid),2))\n",
    "\n",
    "probabilities_valid = model.predict_proba(features_valid)\n",
    "probabilities_one_valid = probabilities_valid[:, 1]\n",
    "auc_roc = roc_auc_score(target_valid, probabilities_one_valid)\n",
    "print(\"auc-roc is\",round(auc_roc,2))"
   ]
  },
  {
   "cell_type": "code",
   "execution_count": 24,
   "metadata": {},
   "outputs": [
    {
     "name": "stdout",
     "output_type": "stream",
     "text": [
      "f1 is 0.53\n",
      "auc-roc is 0.85\n"
     ]
    }
   ],
   "source": [
    "#Протестируем модель random forest на уменьшенной выборке\n",
    "model = RandomForestClassifier(random_state=12345)\n",
    "model.fit(features_downsampled, target_downsampled)\n",
    "predicted_valid = model.predict(features_valid)\n",
    "\n",
    "print(\"f1 is\",round(f1_score(target_valid, predictions_valid),2))\n",
    "\n",
    "probabilities_valid = model.predict_proba(features_valid)\n",
    "probabilities_one_valid = probabilities_valid[:, 1]\n",
    "auc_roc = roc_auc_score(target_valid, probabilities_one_valid)\n",
    "print(\"auc-roc is\",round(auc_roc,2))"
   ]
  },
  {
   "cell_type": "markdown",
   "metadata": {},
   "source": [
    "Модель random forest не дала целевой результат ни на увеличенной, ни на уменьшенной выборке.\n",
    "\n",
    "Максимальное значение f1-меры -0,58. Пока что это лучший результат.\n",
    "Поэкспериментируем с гиперпараметрами модели"
   ]
  },
  {
   "cell_type": "code",
   "execution_count": 25,
   "metadata": {},
   "outputs": [
    {
     "name": "stdout",
     "output_type": "stream",
     "text": [
      "CPU times: user 2 µs, sys: 0 ns, total: 2 µs\n",
      "Wall time: 4.77 µs\n",
      "0.6387176325524044\n",
      "11\n",
      "60\n"
     ]
    }
   ],
   "source": [
    "%time\n",
    "\n",
    "best_res = 0\n",
    "best_depth = 0\n",
    "best_est = 0\n",
    "\n",
    "for estimator in range(10, 100, 10):\n",
    "    for depth in range(1, 20, 1):\n",
    "        model = RandomForestClassifier(n_estimators=estimator, max_depth=depth, random_state=12345)\n",
    "        model.fit(features_upsampled, target_upsampled)\n",
    "        predicted_valid = model.predict(features_valid)\n",
    "        if f1_score(target_valid, predicted_valid)>best_res:\n",
    "            best_res = f1_score(target_valid, predicted_valid)\n",
    "            best_depth = depth\n",
    "            best_est = estimator\n",
    "        \n",
    "\n",
    "print(best_res)\n",
    "print(best_depth)\n",
    "print(best_est)"
   ]
  },
  {
   "cell_type": "markdown",
   "metadata": {},
   "source": [
    "## Тестирование модели"
   ]
  },
  {
   "cell_type": "markdown",
   "metadata": {},
   "source": [
    "Ок, целевое значение получено на модели RandomForestClassifier c 60 деревьями глубиной до 11.\n",
    "Проверим на тестовой выборке."
   ]
  },
  {
   "cell_type": "code",
   "execution_count": 26,
   "metadata": {},
   "outputs": [
    {
     "name": "stdout",
     "output_type": "stream",
     "text": [
      "f1_test: 0.65\n",
      "f1_valid: 0.64\n",
      "f1_train: 0.82\n",
      "auc-roc is 0.88\n",
      "[[1444  148]\n",
      " [ 141  267]]\n"
     ]
    }
   ],
   "source": [
    "model = RandomForestClassifier(n_estimators=60, max_depth=11, random_state=12345)\n",
    "model.fit(features_upsampled, target_upsampled)\n",
    "\n",
    "print(\"f1_test:\", round(f1_score(target_test, model.predict(features_test)),2))\n",
    "print(\"f1_valid:\", round(f1_score(target_valid, model.predict(features_valid)),2))\n",
    "print(\"f1_train:\", round(f1_score(target_train, model.predict(features_train)),2))\n",
    "\n",
    "probabilities_test = model.predict_proba(features_test)\n",
    "probabilities_one_test = probabilities_test[:, 1]\n",
    "auc_roc = roc_auc_score(target_test, probabilities_one_test)\n",
    "print(\"auc-roc is\",round(auc_roc,2))\n",
    "\n",
    "print(confusion_matrix(target_test,model.predict(features_test)))"
   ]
  },
  {
   "cell_type": "code",
   "execution_count": 27,
   "metadata": {},
   "outputs": [
    {
     "data": {
      "text/plain": [
       "[<matplotlib.lines.Line2D at 0x7fc76f728280>]"
      ]
     },
     "execution_count": 27,
     "metadata": {},
     "output_type": "execute_result"
    },
    {
     "data": {
      "image/png": "[encoded data removed]",
      "text/plain": [
       "<Figure size 432x288 with 1 Axes>"
      ]
     },
     "metadata": {
      "needs_background": "light"
     },
     "output_type": "display_data"
    }
   ],
   "source": [
    "fpr, tpr, thresholds = roc_curve(target_test, probabilities_one_test)\n",
    "\n",
    "plt.figure()\n",
    "plt.plot(fpr, tpr)\n",
    "plt.xlim([0.0, 1.0])\n",
    "plt.ylim([0.0, 1.0])\n",
    "plt.xlabel('False Positive Rate')\n",
    "plt.ylabel('True Positive Rate')\n",
    "plt.title('ROC-кривая')\n",
    "\n",
    "# ROC-кривая случайной модели \n",
    "plt.plot([0, 1], [0, 1], linestyle='--')"
   ]
  },
  {
   "cell_type": "markdown",
   "metadata": {},
   "source": [
    "Модель верно распознает 86% клиентов.\n",
    "\n",
    "Но не отловила 35% оттекающих клиентов - плохо.\n",
    "\n",
    "Расходы на удержание клиентов, которые на самом деле не собирались оттекать, составят 55% от расходов на true positive clients -  тоже негативный фактор. \n",
    "\n",
    "14% бюджета, направленного на удержание, может быть потрачено впустую - нужно учитывать при планировании коммуникационной компании. \n",
    "\n",
    "Для удержания клиента обычно нужно продать новый продукт. Доходы от проданных продуктов должы покрыть расходы на коммуникацию и удержание - важно учесть при планировании продаж."
   ]
  }
 ],
 "metadata": {
  "ExecuteTimeLog": [
   {
    "duration": 72,
    "start_time": "2022-07-21T08:09:02.904Z"
   },
   {
    "duration": 1080,
    "start_time": "2022-07-21T08:09:05.025Z"
   },
   {
    "duration": 371,
    "start_time": "2022-07-21T08:09:07.010Z"
   },
   {
    "duration": 86,
    "start_time": "2022-07-21T08:09:56.388Z"
   },
   {
    "duration": 91,
    "start_time": "2022-07-21T08:10:03.589Z"
   },
   {
    "duration": 6,
    "start_time": "2022-07-21T08:19:41.999Z"
   },
   {
    "duration": 1203,
    "start_time": "2022-07-21T08:20:17.984Z"
   },
   {
    "duration": 55,
    "start_time": "2022-07-21T08:20:19.190Z"
   },
   {
    "duration": 9,
    "start_time": "2022-07-21T08:20:19.247Z"
   },
   {
    "duration": 3008,
    "start_time": "2022-07-21T08:20:55.505Z"
   },
   {
    "duration": 64,
    "start_time": "2022-07-21T08:23:04.180Z"
   },
   {
    "duration": 119,
    "start_time": "2022-07-21T08:30:37.301Z"
   },
   {
    "duration": 15,
    "start_time": "2022-07-21T08:31:32.049Z"
   },
   {
    "duration": 12,
    "start_time": "2022-07-21T08:31:35.610Z"
   },
   {
    "duration": 18,
    "start_time": "2022-07-21T08:31:57.221Z"
   },
   {
    "duration": 6,
    "start_time": "2022-07-21T08:32:12.947Z"
   },
   {
    "duration": 6,
    "start_time": "2022-07-21T08:32:18.707Z"
   },
   {
    "duration": 10,
    "start_time": "2022-07-21T08:32:58.123Z"
   },
   {
    "duration": 12,
    "start_time": "2022-07-21T08:33:01.270Z"
   },
   {
    "duration": 9,
    "start_time": "2022-07-21T08:33:41.746Z"
   },
   {
    "duration": 16,
    "start_time": "2022-07-21T08:34:02.396Z"
   },
   {
    "duration": 9,
    "start_time": "2022-07-21T08:34:24.599Z"
   },
   {
    "duration": 9,
    "start_time": "2022-07-21T08:34:56.918Z"
   },
   {
    "duration": 8,
    "start_time": "2022-07-21T08:35:02.392Z"
   },
   {
    "duration": 1168,
    "start_time": "2022-07-21T09:10:51.372Z"
   },
   {
    "duration": 99,
    "start_time": "2022-07-21T09:10:52.543Z"
   },
   {
    "duration": 8,
    "start_time": "2022-07-21T09:10:52.645Z"
   },
   {
    "duration": 13,
    "start_time": "2022-07-21T09:10:52.656Z"
   },
   {
    "duration": 17,
    "start_time": "2022-07-21T09:10:52.672Z"
   },
   {
    "duration": 3083,
    "start_time": "2022-07-21T09:10:52.692Z"
   },
   {
    "duration": 143,
    "start_time": "2022-07-21T09:10:55.777Z"
   },
   {
    "duration": 25,
    "start_time": "2022-07-21T09:11:32.572Z"
   },
   {
    "duration": 35,
    "start_time": "2022-07-21T09:13:21.594Z"
   },
   {
    "duration": 81,
    "start_time": "2022-07-21T09:13:31.684Z"
   },
   {
    "duration": 68,
    "start_time": "2022-07-21T09:13:40.779Z"
   },
   {
    "duration": 82,
    "start_time": "2022-07-21T09:21:17.871Z"
   },
   {
    "duration": 92,
    "start_time": "2022-07-21T09:21:46.919Z"
   },
   {
    "duration": 65,
    "start_time": "2022-07-21T09:22:57.304Z"
   },
   {
    "duration": 4,
    "start_time": "2022-07-21T09:26:40.243Z"
   },
   {
    "duration": 16,
    "start_time": "2022-07-21T09:26:52.470Z"
   },
   {
    "duration": 5,
    "start_time": "2022-07-21T09:27:20.886Z"
   },
   {
    "duration": 12,
    "start_time": "2022-07-21T09:29:04.967Z"
   },
   {
    "duration": 8,
    "start_time": "2022-07-21T09:29:17.001Z"
   },
   {
    "duration": 15,
    "start_time": "2022-07-21T09:29:32.862Z"
   },
   {
    "duration": 10,
    "start_time": "2022-07-21T09:29:36.925Z"
   },
   {
    "duration": 15,
    "start_time": "2022-07-21T09:29:50.249Z"
   },
   {
    "duration": 11,
    "start_time": "2022-07-21T09:29:56.997Z"
   },
   {
    "duration": 9,
    "start_time": "2022-07-21T09:30:10.180Z"
   },
   {
    "duration": 9,
    "start_time": "2022-07-21T09:30:26.990Z"
   },
   {
    "duration": 13,
    "start_time": "2022-07-21T09:30:55.570Z"
   },
   {
    "duration": 12,
    "start_time": "2022-07-21T09:31:19.080Z"
   },
   {
    "duration": 13,
    "start_time": "2022-07-21T09:31:27.211Z"
   },
   {
    "duration": 49,
    "start_time": "2022-07-21T15:29:31.503Z"
   },
   {
    "duration": 1118,
    "start_time": "2022-07-21T15:29:37.751Z"
   },
   {
    "duration": 129,
    "start_time": "2022-07-21T15:29:38.874Z"
   },
   {
    "duration": 7,
    "start_time": "2022-07-21T15:29:39.005Z"
   },
   {
    "duration": 15,
    "start_time": "2022-07-21T15:29:39.014Z"
   },
   {
    "duration": 13,
    "start_time": "2022-07-21T15:29:39.032Z"
   },
   {
    "duration": 2687,
    "start_time": "2022-07-21T15:29:39.047Z"
   },
   {
    "duration": 82,
    "start_time": "2022-07-21T15:29:41.736Z"
   },
   {
    "duration": 8,
    "start_time": "2022-07-21T15:29:41.820Z"
   },
   {
    "duration": 167,
    "start_time": "2022-07-21T15:29:41.830Z"
   },
   {
    "duration": 3,
    "start_time": "2022-07-21T15:42:50.605Z"
   },
   {
    "duration": 60,
    "start_time": "2022-07-21T15:43:01.757Z"
   },
   {
    "duration": 1105,
    "start_time": "2022-07-21T15:43:21.357Z"
   },
   {
    "duration": 68,
    "start_time": "2022-07-21T15:43:22.464Z"
   },
   {
    "duration": 5,
    "start_time": "2022-07-21T15:43:22.536Z"
   },
   {
    "duration": 9,
    "start_time": "2022-07-21T15:43:22.543Z"
   },
   {
    "duration": 11,
    "start_time": "2022-07-21T15:43:22.553Z"
   },
   {
    "duration": 2998,
    "start_time": "2022-07-21T15:43:22.565Z"
   },
   {
    "duration": 84,
    "start_time": "2022-07-21T15:43:25.564Z"
   },
   {
    "duration": 9,
    "start_time": "2022-07-21T15:43:25.649Z"
   },
   {
    "duration": 186,
    "start_time": "2022-07-21T15:43:25.660Z"
   },
   {
    "duration": 1122,
    "start_time": "2022-07-21T16:43:00.056Z"
   },
   {
    "duration": 70,
    "start_time": "2022-07-21T16:43:01.181Z"
   },
   {
    "duration": 6,
    "start_time": "2022-07-21T16:43:01.253Z"
   },
   {
    "duration": 11,
    "start_time": "2022-07-21T16:43:01.261Z"
   },
   {
    "duration": 11,
    "start_time": "2022-07-21T16:43:01.273Z"
   },
   {
    "duration": 2560,
    "start_time": "2022-07-21T16:43:01.285Z"
   },
   {
    "duration": 79,
    "start_time": "2022-07-21T16:43:03.847Z"
   },
   {
    "duration": 23,
    "start_time": "2022-07-21T16:43:03.928Z"
   },
   {
    "duration": 116,
    "start_time": "2022-07-21T16:43:03.953Z"
   },
   {
    "duration": 1106,
    "start_time": "2022-07-21T16:43:36.206Z"
   },
   {
    "duration": 84,
    "start_time": "2022-07-21T16:43:37.314Z"
   },
   {
    "duration": 5,
    "start_time": "2022-07-21T16:43:37.400Z"
   },
   {
    "duration": 10,
    "start_time": "2022-07-21T16:43:37.407Z"
   },
   {
    "duration": 10,
    "start_time": "2022-07-21T16:43:37.418Z"
   },
   {
    "duration": 2691,
    "start_time": "2022-07-21T16:43:37.430Z"
   },
   {
    "duration": 89,
    "start_time": "2022-07-21T16:43:40.123Z"
   },
   {
    "duration": 8,
    "start_time": "2022-07-21T16:43:40.213Z"
   },
   {
    "duration": 237,
    "start_time": "2022-07-21T16:43:40.223Z"
   },
   {
    "duration": 223,
    "start_time": "2022-07-21T16:47:05.128Z"
   },
   {
    "duration": 71,
    "start_time": "2022-07-21T16:47:11.576Z"
   },
   {
    "duration": 6,
    "start_time": "2022-07-21T16:48:39.590Z"
   },
   {
    "duration": 1067,
    "start_time": "2022-07-21T19:27:13.974Z"
   },
   {
    "duration": 80,
    "start_time": "2022-07-21T19:27:15.043Z"
   },
   {
    "duration": 6,
    "start_time": "2022-07-21T19:27:15.124Z"
   },
   {
    "duration": 54,
    "start_time": "2022-07-21T19:27:15.132Z"
   },
   {
    "duration": 24,
    "start_time": "2022-07-21T19:27:15.188Z"
   },
   {
    "duration": 2661,
    "start_time": "2022-07-21T19:27:15.214Z"
   },
   {
    "duration": 129,
    "start_time": "2022-07-21T19:27:17.877Z"
   },
   {
    "duration": 0,
    "start_time": "2022-07-21T19:27:18.007Z"
   },
   {
    "duration": 0,
    "start_time": "2022-07-21T19:27:18.009Z"
   },
   {
    "duration": 0,
    "start_time": "2022-07-21T19:27:18.010Z"
   },
   {
    "duration": 26,
    "start_time": "2022-07-21T19:27:55.748Z"
   },
   {
    "duration": 23,
    "start_time": "2022-07-21T19:28:45.580Z"
   },
   {
    "duration": 23,
    "start_time": "2022-07-21T19:29:00.795Z"
   },
   {
    "duration": 32,
    "start_time": "2022-07-21T19:29:28.848Z"
   },
   {
    "duration": 1119,
    "start_time": "2022-07-21T19:29:45.857Z"
   },
   {
    "duration": 63,
    "start_time": "2022-07-21T19:29:46.979Z"
   },
   {
    "duration": 6,
    "start_time": "2022-07-21T19:29:47.044Z"
   },
   {
    "duration": 8,
    "start_time": "2022-07-21T19:29:47.051Z"
   },
   {
    "duration": 9,
    "start_time": "2022-07-21T19:29:47.060Z"
   },
   {
    "duration": 2661,
    "start_time": "2022-07-21T19:29:47.071Z"
   },
   {
    "duration": 84,
    "start_time": "2022-07-21T19:29:49.734Z"
   },
   {
    "duration": 9,
    "start_time": "2022-07-21T19:29:49.819Z"
   },
   {
    "duration": 123,
    "start_time": "2022-07-21T19:29:49.830Z"
   },
   {
    "duration": 94,
    "start_time": "2022-07-21T19:29:49.955Z"
   },
   {
    "duration": 78,
    "start_time": "2022-07-21T19:30:00.683Z"
   },
   {
    "duration": 1185,
    "start_time": "2022-07-21T19:30:08.412Z"
   },
   {
    "duration": 68,
    "start_time": "2022-07-21T19:30:09.601Z"
   },
   {
    "duration": 6,
    "start_time": "2022-07-21T19:30:09.672Z"
   },
   {
    "duration": 12,
    "start_time": "2022-07-21T19:30:09.681Z"
   },
   {
    "duration": 17,
    "start_time": "2022-07-21T19:30:09.695Z"
   },
   {
    "duration": 2691,
    "start_time": "2022-07-21T19:30:09.714Z"
   },
   {
    "duration": 126,
    "start_time": "2022-07-21T19:30:12.407Z"
   },
   {
    "duration": 0,
    "start_time": "2022-07-21T19:30:12.535Z"
   },
   {
    "duration": 0,
    "start_time": "2022-07-21T19:30:12.546Z"
   },
   {
    "duration": 0,
    "start_time": "2022-07-21T19:30:12.547Z"
   },
   {
    "duration": 1198,
    "start_time": "2022-07-21T19:30:28.528Z"
   },
   {
    "duration": 74,
    "start_time": "2022-07-21T19:30:29.728Z"
   },
   {
    "duration": 5,
    "start_time": "2022-07-21T19:30:29.803Z"
   },
   {
    "duration": 11,
    "start_time": "2022-07-21T19:30:29.810Z"
   },
   {
    "duration": 7,
    "start_time": "2022-07-21T19:30:29.822Z"
   },
   {
    "duration": 2820,
    "start_time": "2022-07-21T19:30:29.831Z"
   },
   {
    "duration": 91,
    "start_time": "2022-07-21T19:30:32.655Z"
   },
   {
    "duration": 12,
    "start_time": "2022-07-21T19:30:32.752Z"
   },
   {
    "duration": 181,
    "start_time": "2022-07-21T19:30:32.766Z"
   },
   {
    "duration": 22,
    "start_time": "2022-07-21T19:30:32.950Z"
   },
   {
    "duration": 1064,
    "start_time": "2022-07-21T19:52:49.409Z"
   },
   {
    "duration": 65,
    "start_time": "2022-07-21T19:52:50.475Z"
   },
   {
    "duration": 10,
    "start_time": "2022-07-21T19:52:50.542Z"
   },
   {
    "duration": 16,
    "start_time": "2022-07-21T19:52:50.554Z"
   },
   {
    "duration": 9,
    "start_time": "2022-07-21T19:52:50.572Z"
   },
   {
    "duration": 2660,
    "start_time": "2022-07-21T19:52:50.582Z"
   },
   {
    "duration": 81,
    "start_time": "2022-07-21T19:52:53.247Z"
   },
   {
    "duration": 24,
    "start_time": "2022-07-21T19:52:53.330Z"
   },
   {
    "duration": 189,
    "start_time": "2022-07-21T19:52:53.357Z"
   },
   {
    "duration": 215,
    "start_time": "2022-07-21T19:52:53.554Z"
   },
   {
    "duration": 0,
    "start_time": "2022-07-21T19:52:53.770Z"
   },
   {
    "duration": 1058,
    "start_time": "2022-07-21T19:53:34.188Z"
   },
   {
    "duration": 70,
    "start_time": "2022-07-21T19:53:35.249Z"
   },
   {
    "duration": 5,
    "start_time": "2022-07-21T19:53:35.321Z"
   },
   {
    "duration": 8,
    "start_time": "2022-07-21T19:53:35.327Z"
   },
   {
    "duration": 7,
    "start_time": "2022-07-21T19:53:35.337Z"
   },
   {
    "duration": 2579,
    "start_time": "2022-07-21T19:53:35.347Z"
   },
   {
    "duration": 86,
    "start_time": "2022-07-21T19:53:37.928Z"
   },
   {
    "duration": 8,
    "start_time": "2022-07-21T19:53:38.015Z"
   },
   {
    "duration": 130,
    "start_time": "2022-07-21T19:53:38.025Z"
   },
   {
    "duration": 91,
    "start_time": "2022-07-21T19:53:38.158Z"
   },
   {
    "duration": 203,
    "start_time": "2022-07-21T19:53:38.251Z"
   },
   {
    "duration": 7,
    "start_time": "2022-07-21T19:54:19.897Z"
   },
   {
    "duration": 1192,
    "start_time": "2022-07-21T19:54:34.521Z"
   },
   {
    "duration": 74,
    "start_time": "2022-07-21T19:54:35.715Z"
   },
   {
    "duration": 6,
    "start_time": "2022-07-21T19:54:35.791Z"
   },
   {
    "duration": 7,
    "start_time": "2022-07-21T19:54:35.799Z"
   },
   {
    "duration": 7,
    "start_time": "2022-07-21T19:54:35.808Z"
   },
   {
    "duration": 2852,
    "start_time": "2022-07-21T19:54:35.817Z"
   },
   {
    "duration": 101,
    "start_time": "2022-07-21T19:54:38.671Z"
   },
   {
    "duration": 13,
    "start_time": "2022-07-21T19:54:38.775Z"
   },
   {
    "duration": 176,
    "start_time": "2022-07-21T19:54:38.790Z"
   },
   {
    "duration": 99,
    "start_time": "2022-07-21T19:54:39.048Z"
   },
   {
    "duration": 44,
    "start_time": "2022-07-21T19:54:39.149Z"
   },
   {
    "duration": 171,
    "start_time": "2022-07-21T19:54:39.195Z"
   },
   {
    "duration": 11,
    "start_time": "2022-07-21T19:54:56.655Z"
   },
   {
    "duration": 340,
    "start_time": "2022-07-21T19:54:58.906Z"
   },
   {
    "duration": 9,
    "start_time": "2022-07-21T19:55:04.113Z"
   },
   {
    "duration": 154,
    "start_time": "2022-07-21T19:55:05.703Z"
   },
   {
    "duration": 12,
    "start_time": "2022-07-21T19:55:08.907Z"
   },
   {
    "duration": 155,
    "start_time": "2022-07-21T19:55:10.201Z"
   },
   {
    "duration": 94,
    "start_time": "2022-07-21T19:56:58.823Z"
   },
   {
    "duration": 127,
    "start_time": "2022-07-21T19:57:08.922Z"
   },
   {
    "duration": 115,
    "start_time": "2022-07-21T19:57:37.340Z"
   },
   {
    "duration": 67,
    "start_time": "2022-07-21T19:59:07.187Z"
   },
   {
    "duration": 187,
    "start_time": "2022-07-21T19:59:29.259Z"
   },
   {
    "duration": 195,
    "start_time": "2022-07-21T19:59:31.852Z"
   },
   {
    "duration": 1096,
    "start_time": "2022-07-21T20:02:44.427Z"
   },
   {
    "duration": 64,
    "start_time": "2022-07-21T20:02:45.525Z"
   },
   {
    "duration": 5,
    "start_time": "2022-07-21T20:02:45.591Z"
   },
   {
    "duration": 7,
    "start_time": "2022-07-21T20:02:45.599Z"
   },
   {
    "duration": 8,
    "start_time": "2022-07-21T20:02:45.608Z"
   },
   {
    "duration": 2477,
    "start_time": "2022-07-21T20:02:45.617Z"
   },
   {
    "duration": 81,
    "start_time": "2022-07-21T20:02:48.095Z"
   },
   {
    "duration": 7,
    "start_time": "2022-07-21T20:02:48.178Z"
   },
   {
    "duration": 68,
    "start_time": "2022-07-21T20:02:48.187Z"
   },
   {
    "duration": 97,
    "start_time": "2022-07-21T20:02:48.348Z"
   },
   {
    "duration": 104,
    "start_time": "2022-07-21T20:02:48.447Z"
   },
   {
    "duration": 98,
    "start_time": "2022-07-21T20:02:48.553Z"
   },
   {
    "duration": 203,
    "start_time": "2022-07-21T20:02:48.653Z"
   },
   {
    "duration": 101,
    "start_time": "2022-07-21T20:02:48.946Z"
   },
   {
    "duration": 107,
    "start_time": "2022-07-21T20:02:49.049Z"
   },
   {
    "duration": 11,
    "start_time": "2022-07-21T20:03:02.310Z"
   },
   {
    "duration": 34,
    "start_time": "2022-07-21T20:03:03.820Z"
   },
   {
    "duration": 9,
    "start_time": "2022-07-21T20:03:07.309Z"
   },
   {
    "duration": 88,
    "start_time": "2022-07-21T20:03:08.966Z"
   },
   {
    "duration": 8,
    "start_time": "2022-07-21T20:03:16.868Z"
   },
   {
    "duration": 32,
    "start_time": "2022-07-21T20:03:18.423Z"
   },
   {
    "duration": 10,
    "start_time": "2022-07-21T20:03:25.386Z"
   },
   {
    "duration": 187,
    "start_time": "2022-07-21T20:03:26.762Z"
   },
   {
    "duration": 9,
    "start_time": "2022-07-21T20:03:30.650Z"
   },
   {
    "duration": 74,
    "start_time": "2022-07-21T20:03:31.980Z"
   },
   {
    "duration": 10,
    "start_time": "2022-07-21T20:03:35.812Z"
   },
   {
    "duration": 136,
    "start_time": "2022-07-21T20:03:37.214Z"
   },
   {
    "duration": 10,
    "start_time": "2022-07-21T20:03:40.738Z"
   },
   {
    "duration": 85,
    "start_time": "2022-07-21T20:03:42.065Z"
   },
   {
    "duration": 1033,
    "start_time": "2022-07-21T20:08:35.703Z"
   },
   {
    "duration": 66,
    "start_time": "2022-07-21T20:08:36.737Z"
   },
   {
    "duration": 5,
    "start_time": "2022-07-21T20:08:36.805Z"
   },
   {
    "duration": 9,
    "start_time": "2022-07-21T20:08:36.811Z"
   },
   {
    "duration": 8,
    "start_time": "2022-07-21T20:08:36.821Z"
   },
   {
    "duration": 2577,
    "start_time": "2022-07-21T20:08:36.830Z"
   },
   {
    "duration": 82,
    "start_time": "2022-07-21T20:08:39.408Z"
   },
   {
    "duration": 8,
    "start_time": "2022-07-21T20:08:39.492Z"
   },
   {
    "duration": 148,
    "start_time": "2022-07-21T20:08:39.502Z"
   },
   {
    "duration": 95,
    "start_time": "2022-07-21T20:08:39.652Z"
   },
   {
    "duration": 204,
    "start_time": "2022-07-21T20:08:39.749Z"
   },
   {
    "duration": 93,
    "start_time": "2022-07-21T20:08:39.955Z"
   },
   {
    "duration": 203,
    "start_time": "2022-07-21T20:08:40.049Z"
   },
   {
    "duration": 10,
    "start_time": "2022-07-21T20:08:40.345Z"
   },
   {
    "duration": 99,
    "start_time": "2022-07-21T20:08:40.356Z"
   },
   {
    "duration": 100,
    "start_time": "2022-07-21T20:18:29.813Z"
   },
   {
    "duration": 1037,
    "start_time": "2022-07-21T20:21:39.807Z"
   },
   {
    "duration": 66,
    "start_time": "2022-07-21T20:21:40.846Z"
   },
   {
    "duration": 5,
    "start_time": "2022-07-21T20:21:40.914Z"
   },
   {
    "duration": 8,
    "start_time": "2022-07-21T20:21:40.921Z"
   },
   {
    "duration": 8,
    "start_time": "2022-07-21T20:21:40.931Z"
   },
   {
    "duration": 2352,
    "start_time": "2022-07-21T20:21:40.940Z"
   },
   {
    "duration": 90,
    "start_time": "2022-07-21T20:21:43.293Z"
   },
   {
    "duration": 9,
    "start_time": "2022-07-21T20:21:43.384Z"
   },
   {
    "duration": 153,
    "start_time": "2022-07-21T20:21:43.395Z"
   },
   {
    "duration": 97,
    "start_time": "2022-07-21T20:21:43.551Z"
   },
   {
    "duration": 197,
    "start_time": "2022-07-21T20:21:43.650Z"
   },
   {
    "duration": 129,
    "start_time": "2022-07-21T20:21:43.851Z"
   },
   {
    "duration": 9,
    "start_time": "2022-07-21T20:21:43.982Z"
   },
   {
    "duration": 10,
    "start_time": "2022-07-21T20:21:43.993Z"
   },
   {
    "duration": 243,
    "start_time": "2022-07-21T20:21:44.004Z"
   },
   {
    "duration": 205,
    "start_time": "2022-07-21T20:21:44.249Z"
   },
   {
    "duration": 1080,
    "start_time": "2022-07-21T21:10:10.978Z"
   },
   {
    "duration": 71,
    "start_time": "2022-07-21T21:10:12.060Z"
   },
   {
    "duration": 6,
    "start_time": "2022-07-21T21:10:12.133Z"
   },
   {
    "duration": 10,
    "start_time": "2022-07-21T21:10:12.141Z"
   },
   {
    "duration": 10,
    "start_time": "2022-07-21T21:10:12.153Z"
   },
   {
    "duration": 2466,
    "start_time": "2022-07-21T21:10:12.165Z"
   },
   {
    "duration": 85,
    "start_time": "2022-07-21T21:10:14.633Z"
   },
   {
    "duration": 8,
    "start_time": "2022-07-21T21:10:14.720Z"
   },
   {
    "duration": 119,
    "start_time": "2022-07-21T21:10:14.729Z"
   },
   {
    "duration": 95,
    "start_time": "2022-07-21T21:10:14.851Z"
   },
   {
    "duration": 108,
    "start_time": "2022-07-21T21:10:14.948Z"
   },
   {
    "duration": 125,
    "start_time": "2022-07-21T21:10:15.146Z"
   },
   {
    "duration": 10,
    "start_time": "2022-07-21T21:10:15.272Z"
   },
   {
    "duration": 18,
    "start_time": "2022-07-21T21:10:15.284Z"
   },
   {
    "duration": 145,
    "start_time": "2022-07-21T21:10:15.304Z"
   },
   {
    "duration": 296,
    "start_time": "2022-07-21T21:10:15.451Z"
   },
   {
    "duration": 1090,
    "start_time": "2022-07-21T21:13:18.755Z"
   },
   {
    "duration": 65,
    "start_time": "2022-07-21T21:13:19.846Z"
   },
   {
    "duration": 6,
    "start_time": "2022-07-21T21:13:19.912Z"
   },
   {
    "duration": 11,
    "start_time": "2022-07-21T21:13:19.919Z"
   },
   {
    "duration": 9,
    "start_time": "2022-07-21T21:13:19.931Z"
   },
   {
    "duration": 2539,
    "start_time": "2022-07-21T21:13:19.941Z"
   },
   {
    "duration": 96,
    "start_time": "2022-07-21T21:13:22.482Z"
   },
   {
    "duration": 11,
    "start_time": "2022-07-21T21:13:22.581Z"
   },
   {
    "duration": 160,
    "start_time": "2022-07-21T21:13:22.593Z"
   },
   {
    "duration": 93,
    "start_time": "2022-07-21T21:13:22.756Z"
   },
   {
    "duration": 203,
    "start_time": "2022-07-21T21:13:22.851Z"
   },
   {
    "duration": 203,
    "start_time": "2022-07-21T21:13:23.056Z"
   },
   {
    "duration": 576,
    "start_time": "2022-07-21T21:13:23.262Z"
   },
   {
    "duration": 9,
    "start_time": "2022-07-21T21:13:23.846Z"
   },
   {
    "duration": 10,
    "start_time": "2022-07-21T21:13:23.857Z"
   },
   {
    "duration": 86,
    "start_time": "2022-07-21T21:13:23.869Z"
   },
   {
    "duration": 287,
    "start_time": "2022-07-21T21:13:23.960Z"
   },
   {
    "duration": 35,
    "start_time": "2022-07-21T21:18:16.883Z"
   },
   {
    "duration": 23,
    "start_time": "2022-07-21T21:19:48.580Z"
   },
   {
    "duration": 55,
    "start_time": "2022-07-21T21:20:11.043Z"
   },
   {
    "duration": 1073,
    "start_time": "2022-07-21T21:26:39.762Z"
   },
   {
    "duration": 73,
    "start_time": "2022-07-21T21:26:40.837Z"
   },
   {
    "duration": 7,
    "start_time": "2022-07-21T21:26:40.912Z"
   },
   {
    "duration": 8,
    "start_time": "2022-07-21T21:26:40.922Z"
   },
   {
    "duration": 8,
    "start_time": "2022-07-21T21:26:40.932Z"
   },
   {
    "duration": 2559,
    "start_time": "2022-07-21T21:26:40.941Z"
   },
   {
    "duration": 102,
    "start_time": "2022-07-21T21:26:43.502Z"
   },
   {
    "duration": 10,
    "start_time": "2022-07-21T21:26:43.606Z"
   },
   {
    "duration": 138,
    "start_time": "2022-07-21T21:26:43.617Z"
   },
   {
    "duration": 13,
    "start_time": "2022-07-21T21:26:43.757Z"
   },
   {
    "duration": 187,
    "start_time": "2022-07-21T21:26:43.772Z"
   },
   {
    "duration": 201,
    "start_time": "2022-07-21T21:26:43.961Z"
   },
   {
    "duration": 597,
    "start_time": "2022-07-21T21:26:44.164Z"
   },
   {
    "duration": 10,
    "start_time": "2022-07-21T21:26:44.764Z"
   },
   {
    "duration": 9,
    "start_time": "2022-07-21T21:26:44.776Z"
   },
   {
    "duration": 74,
    "start_time": "2022-07-21T21:26:44.786Z"
   },
   {
    "duration": 384,
    "start_time": "2022-07-21T21:26:44.864Z"
   },
   {
    "duration": 104,
    "start_time": "2022-07-21T21:26:45.250Z"
   },
   {
    "duration": 26,
    "start_time": "2022-07-21T21:26:45.358Z"
   },
   {
    "duration": 125,
    "start_time": "2022-07-21T21:26:45.386Z"
   },
   {
    "duration": 671,
    "start_time": "2022-07-21T21:27:50.404Z"
   },
   {
    "duration": 422,
    "start_time": "2022-07-21T21:31:52.908Z"
   },
   {
    "duration": 44,
    "start_time": "2022-07-22T08:12:02.830Z"
   },
   {
    "duration": 1017,
    "start_time": "2022-07-22T08:12:11.868Z"
   },
   {
    "duration": 171,
    "start_time": "2022-07-22T08:12:12.886Z"
   },
   {
    "duration": 5,
    "start_time": "2022-07-22T08:12:13.058Z"
   },
   {
    "duration": 9,
    "start_time": "2022-07-22T08:12:13.065Z"
   },
   {
    "duration": 7,
    "start_time": "2022-07-22T08:12:13.076Z"
   },
   {
    "duration": 2594,
    "start_time": "2022-07-22T08:12:13.084Z"
   },
   {
    "duration": 79,
    "start_time": "2022-07-22T08:12:15.680Z"
   },
   {
    "duration": 7,
    "start_time": "2022-07-22T08:12:15.761Z"
   },
   {
    "duration": 185,
    "start_time": "2022-07-22T08:12:15.770Z"
   },
   {
    "duration": 96,
    "start_time": "2022-07-22T08:12:15.958Z"
   },
   {
    "duration": 109,
    "start_time": "2022-07-22T08:12:16.056Z"
   },
   {
    "duration": 116,
    "start_time": "2022-07-22T08:12:16.253Z"
   },
   {
    "duration": 554,
    "start_time": "2022-07-22T08:12:16.371Z"
   },
   {
    "duration": 9,
    "start_time": "2022-07-22T08:12:16.926Z"
   },
   {
    "duration": 18,
    "start_time": "2022-07-22T08:12:16.936Z"
   },
   {
    "duration": 198,
    "start_time": "2022-07-22T08:12:16.956Z"
   },
   {
    "duration": 196,
    "start_time": "2022-07-22T08:12:17.155Z"
   },
   {
    "duration": 129,
    "start_time": "2022-07-22T08:12:17.354Z"
   },
   {
    "duration": 22,
    "start_time": "2022-07-22T08:12:17.484Z"
   },
   {
    "duration": 641,
    "start_time": "2022-07-22T08:12:17.507Z"
   },
   {
    "duration": 424,
    "start_time": "2022-07-22T08:12:18.149Z"
   },
   {
    "duration": 1779,
    "start_time": "2022-07-22T08:12:18.574Z"
   },
   {
    "duration": 1810,
    "start_time": "2022-07-22T08:13:01.919Z"
   },
   {
    "duration": 1008,
    "start_time": "2022-07-22T08:15:10.035Z"
   },
   {
    "duration": 60,
    "start_time": "2022-07-22T08:15:11.044Z"
   },
   {
    "duration": 5,
    "start_time": "2022-07-22T08:15:11.106Z"
   },
   {
    "duration": 9,
    "start_time": "2022-07-22T08:15:11.112Z"
   },
   {
    "duration": 11,
    "start_time": "2022-07-22T08:15:11.122Z"
   },
   {
    "duration": 2353,
    "start_time": "2022-07-22T08:15:11.134Z"
   },
   {
    "duration": 80,
    "start_time": "2022-07-22T08:15:13.489Z"
   },
   {
    "duration": 9,
    "start_time": "2022-07-22T08:15:13.570Z"
   },
   {
    "duration": 78,
    "start_time": "2022-07-22T08:15:13.581Z"
   },
   {
    "duration": 92,
    "start_time": "2022-07-22T08:15:13.662Z"
   },
   {
    "duration": 203,
    "start_time": "2022-07-22T08:15:13.756Z"
   },
   {
    "duration": 204,
    "start_time": "2022-07-22T08:15:13.961Z"
   },
   {
    "duration": 575,
    "start_time": "2022-07-22T08:15:14.166Z"
   },
   {
    "duration": 17,
    "start_time": "2022-07-22T08:15:14.743Z"
   },
   {
    "duration": 9,
    "start_time": "2022-07-22T08:15:14.762Z"
   },
   {
    "duration": 180,
    "start_time": "2022-07-22T08:15:14.772Z"
   },
   {
    "duration": 202,
    "start_time": "2022-07-22T08:15:14.954Z"
   },
   {
    "duration": 121,
    "start_time": "2022-07-22T08:15:15.158Z"
   },
   {
    "duration": 22,
    "start_time": "2022-07-22T08:15:15.281Z"
   },
   {
    "duration": 636,
    "start_time": "2022-07-22T08:15:15.305Z"
   },
   {
    "duration": 435,
    "start_time": "2022-07-22T08:15:15.942Z"
   },
   {
    "duration": 21323,
    "start_time": "2022-07-22T08:15:16.379Z"
   },
   {
    "duration": 71,
    "start_time": "2022-07-22T08:20:43.650Z"
   },
   {
    "duration": 38751,
    "start_time": "2022-07-22T08:21:14.109Z"
   },
   {
    "duration": 169,
    "start_time": "2022-07-22T08:23:48.990Z"
   },
   {
    "duration": 142,
    "start_time": "2022-07-22T08:24:11.515Z"
   },
   {
    "duration": 170,
    "start_time": "2022-07-22T08:27:40.638Z"
   },
   {
    "duration": 1137,
    "start_time": "2022-07-22T08:27:55.851Z"
   },
   {
    "duration": 60,
    "start_time": "2022-07-22T08:27:56.990Z"
   },
   {
    "duration": 6,
    "start_time": "2022-07-22T08:27:57.052Z"
   },
   {
    "duration": 7,
    "start_time": "2022-07-22T08:27:57.060Z"
   },
   {
    "duration": 6,
    "start_time": "2022-07-22T08:27:57.069Z"
   },
   {
    "duration": 2447,
    "start_time": "2022-07-22T08:27:57.076Z"
   },
   {
    "duration": 85,
    "start_time": "2022-07-22T08:27:59.524Z"
   },
   {
    "duration": 9,
    "start_time": "2022-07-22T08:27:59.611Z"
   },
   {
    "duration": 237,
    "start_time": "2022-07-22T08:27:59.621Z"
   },
   {
    "duration": 94,
    "start_time": "2022-07-22T08:27:59.862Z"
   },
   {
    "duration": 100,
    "start_time": "2022-07-22T08:27:59.958Z"
   },
   {
    "duration": 117,
    "start_time": "2022-07-22T08:28:00.060Z"
   },
   {
    "duration": 577,
    "start_time": "2022-07-22T08:28:00.253Z"
   },
   {
    "duration": 20,
    "start_time": "2022-07-22T08:28:00.832Z"
   },
   {
    "duration": 9,
    "start_time": "2022-07-22T08:28:00.854Z"
   },
   {
    "duration": 96,
    "start_time": "2022-07-22T08:28:00.864Z"
   },
   {
    "duration": 293,
    "start_time": "2022-07-22T08:28:00.962Z"
   },
   {
    "duration": 130,
    "start_time": "2022-07-22T08:28:01.257Z"
   },
   {
    "duration": 26,
    "start_time": "2022-07-22T08:28:01.388Z"
   },
   {
    "duration": 683,
    "start_time": "2022-07-22T08:28:01.415Z"
   },
   {
    "duration": 415,
    "start_time": "2022-07-22T08:28:02.100Z"
   },
   {
    "duration": 38439,
    "start_time": "2022-07-22T08:28:02.517Z"
   },
   {
    "duration": 161,
    "start_time": "2022-07-22T08:28:40.957Z"
   },
   {
    "duration": 6,
    "start_time": "2022-07-22T08:28:45.693Z"
   },
   {
    "duration": 1078,
    "start_time": "2022-07-22T08:28:57.401Z"
   },
   {
    "duration": 63,
    "start_time": "2022-07-22T08:28:58.481Z"
   },
   {
    "duration": 5,
    "start_time": "2022-07-22T08:28:58.546Z"
   },
   {
    "duration": 26,
    "start_time": "2022-07-22T08:28:58.553Z"
   },
   {
    "duration": 12,
    "start_time": "2022-07-22T08:28:58.580Z"
   },
   {
    "duration": 2458,
    "start_time": "2022-07-22T08:28:58.594Z"
   },
   {
    "duration": 73,
    "start_time": "2022-07-22T08:29:01.054Z"
   },
   {
    "duration": 24,
    "start_time": "2022-07-22T08:29:01.128Z"
   },
   {
    "duration": 104,
    "start_time": "2022-07-22T08:29:01.154Z"
   },
   {
    "duration": 100,
    "start_time": "2022-07-22T08:29:01.261Z"
   },
   {
    "duration": 106,
    "start_time": "2022-07-22T08:29:01.453Z"
   },
   {
    "duration": 205,
    "start_time": "2022-07-22T08:29:01.561Z"
   },
   {
    "duration": 571,
    "start_time": "2022-07-22T08:29:01.767Z"
   },
   {
    "duration": 17,
    "start_time": "2022-07-22T08:29:02.339Z"
   },
   {
    "duration": 9,
    "start_time": "2022-07-22T08:29:02.357Z"
   },
   {
    "duration": 285,
    "start_time": "2022-07-22T08:29:02.367Z"
   },
   {
    "duration": 208,
    "start_time": "2022-07-22T08:29:02.655Z"
   },
   {
    "duration": 126,
    "start_time": "2022-07-22T08:29:02.953Z"
   },
   {
    "duration": 24,
    "start_time": "2022-07-22T08:29:03.081Z"
   },
   {
    "duration": 708,
    "start_time": "2022-07-22T08:29:03.107Z"
   },
   {
    "duration": 406,
    "start_time": "2022-07-22T08:29:03.817Z"
   },
   {
    "duration": 41047,
    "start_time": "2022-07-22T08:29:04.225Z"
   },
   {
    "duration": 196,
    "start_time": "2022-07-22T08:29:45.274Z"
   },
   {
    "duration": 122,
    "start_time": "2022-07-22T08:30:10.296Z"
   },
   {
    "duration": 10,
    "start_time": "2022-07-22T08:30:14.889Z"
   },
   {
    "duration": 1125,
    "start_time": "2022-07-22T08:30:21.190Z"
   },
   {
    "duration": 69,
    "start_time": "2022-07-22T08:30:22.317Z"
   },
   {
    "duration": 7,
    "start_time": "2022-07-22T08:30:22.388Z"
   },
   {
    "duration": 13,
    "start_time": "2022-07-22T08:30:22.398Z"
   },
   {
    "duration": 12,
    "start_time": "2022-07-22T08:30:22.413Z"
   },
   {
    "duration": 2850,
    "start_time": "2022-07-22T08:30:22.427Z"
   },
   {
    "duration": 92,
    "start_time": "2022-07-22T08:30:25.279Z"
   },
   {
    "duration": 9,
    "start_time": "2022-07-22T08:30:25.373Z"
   },
   {
    "duration": 83,
    "start_time": "2022-07-22T08:30:25.384Z"
   },
   {
    "duration": 98,
    "start_time": "2022-07-22T08:30:25.556Z"
   },
   {
    "duration": 105,
    "start_time": "2022-07-22T08:30:25.656Z"
   },
   {
    "duration": 216,
    "start_time": "2022-07-22T08:30:25.768Z"
   },
   {
    "duration": 728,
    "start_time": "2022-07-22T08:30:25.986Z"
   },
   {
    "duration": 10,
    "start_time": "2022-07-22T08:30:26.715Z"
   },
   {
    "duration": 27,
    "start_time": "2022-07-22T08:30:26.727Z"
   },
   {
    "duration": 209,
    "start_time": "2022-07-22T08:30:26.756Z"
   },
   {
    "duration": 386,
    "start_time": "2022-07-22T08:30:26.967Z"
   },
   {
    "duration": 132,
    "start_time": "2022-07-22T08:30:27.357Z"
   },
   {
    "duration": 37,
    "start_time": "2022-07-22T08:30:27.491Z"
   },
   {
    "duration": 677,
    "start_time": "2022-07-22T08:30:27.530Z"
   },
   {
    "duration": 485,
    "start_time": "2022-07-22T08:30:28.209Z"
   },
   {
    "duration": 37284,
    "start_time": "2022-07-22T08:30:28.696Z"
   },
   {
    "duration": 222,
    "start_time": "2022-07-22T08:31:05.982Z"
   },
   {
    "duration": 1033,
    "start_time": "2022-07-22T08:31:33.131Z"
   },
   {
    "duration": 62,
    "start_time": "2022-07-22T08:31:34.166Z"
   },
   {
    "duration": 6,
    "start_time": "2022-07-22T08:31:34.230Z"
   },
   {
    "duration": 7,
    "start_time": "2022-07-22T08:31:34.238Z"
   },
   {
    "duration": 6,
    "start_time": "2022-07-22T08:31:34.247Z"
   },
   {
    "duration": 2660,
    "start_time": "2022-07-22T08:31:34.255Z"
   },
   {
    "duration": 79,
    "start_time": "2022-07-22T08:31:36.917Z"
   },
   {
    "duration": 7,
    "start_time": "2022-07-22T08:31:36.998Z"
   },
   {
    "duration": 256,
    "start_time": "2022-07-22T08:31:37.007Z"
   },
   {
    "duration": 92,
    "start_time": "2022-07-22T08:31:37.267Z"
   },
   {
    "duration": 291,
    "start_time": "2022-07-22T08:31:37.361Z"
   },
   {
    "duration": 117,
    "start_time": "2022-07-22T08:31:37.662Z"
   },
   {
    "duration": 627,
    "start_time": "2022-07-22T08:31:37.781Z"
   },
   {
    "duration": 12,
    "start_time": "2022-07-22T08:31:38.410Z"
   },
   {
    "duration": 9,
    "start_time": "2022-07-22T08:31:38.423Z"
   },
   {
    "duration": 126,
    "start_time": "2022-07-22T08:31:38.434Z"
   },
   {
    "duration": 291,
    "start_time": "2022-07-22T08:31:38.563Z"
   },
   {
    "duration": 117,
    "start_time": "2022-07-22T08:31:38.856Z"
   },
   {
    "duration": 24,
    "start_time": "2022-07-22T08:31:38.975Z"
   },
   {
    "duration": 671,
    "start_time": "2022-07-22T08:31:39.001Z"
   },
   {
    "duration": 414,
    "start_time": "2022-07-22T08:31:39.673Z"
   },
   {
    "duration": 38333,
    "start_time": "2022-07-22T08:31:40.089Z"
   },
   {
    "duration": 178,
    "start_time": "2022-07-22T08:32:18.424Z"
   },
   {
    "duration": 178,
    "start_time": "2022-07-22T08:32:46.291Z"
   },
   {
    "duration": 199,
    "start_time": "2022-07-22T08:32:55.465Z"
   },
   {
    "duration": 3,
    "start_time": "2022-07-22T08:34:47.419Z"
   },
   {
    "duration": 1020,
    "start_time": "2022-07-22T08:34:54.444Z"
   },
   {
    "duration": 60,
    "start_time": "2022-07-22T08:34:55.466Z"
   },
   {
    "duration": 5,
    "start_time": "2022-07-22T08:34:55.529Z"
   },
   {
    "duration": 7,
    "start_time": "2022-07-22T08:34:55.536Z"
   },
   {
    "duration": 8,
    "start_time": "2022-07-22T08:34:55.544Z"
   },
   {
    "duration": 2575,
    "start_time": "2022-07-22T08:34:55.553Z"
   },
   {
    "duration": 84,
    "start_time": "2022-07-22T08:34:58.130Z"
   },
   {
    "duration": 8,
    "start_time": "2022-07-22T08:34:58.215Z"
   },
   {
    "duration": 128,
    "start_time": "2022-07-22T08:34:58.225Z"
   },
   {
    "duration": 11,
    "start_time": "2022-07-22T08:34:58.354Z"
   },
   {
    "duration": 193,
    "start_time": "2022-07-22T08:34:58.367Z"
   },
   {
    "duration": 204,
    "start_time": "2022-07-22T08:34:58.562Z"
   },
   {
    "duration": 563,
    "start_time": "2022-07-22T08:34:58.769Z"
   },
   {
    "duration": 9,
    "start_time": "2022-07-22T08:34:59.334Z"
   },
   {
    "duration": 8,
    "start_time": "2022-07-22T08:34:59.351Z"
   },
   {
    "duration": 99,
    "start_time": "2022-07-22T08:34:59.360Z"
   },
   {
    "duration": 295,
    "start_time": "2022-07-22T08:34:59.461Z"
   },
   {
    "duration": 110,
    "start_time": "2022-07-22T08:34:59.758Z"
   },
   {
    "duration": 0,
    "start_time": "2022-07-22T08:34:59.870Z"
   },
   {
    "duration": 0,
    "start_time": "2022-07-22T08:34:59.871Z"
   },
   {
    "duration": 0,
    "start_time": "2022-07-22T08:34:59.872Z"
   },
   {
    "duration": 0,
    "start_time": "2022-07-22T08:34:59.873Z"
   },
   {
    "duration": 0,
    "start_time": "2022-07-22T08:34:59.874Z"
   },
   {
    "duration": 1578,
    "start_time": "2022-07-22T08:35:13.738Z"
   },
   {
    "duration": 61,
    "start_time": "2022-07-22T08:35:15.318Z"
   },
   {
    "duration": 5,
    "start_time": "2022-07-22T08:35:15.380Z"
   },
   {
    "duration": 6,
    "start_time": "2022-07-22T08:35:15.387Z"
   },
   {
    "duration": 7,
    "start_time": "2022-07-22T08:35:15.395Z"
   },
   {
    "duration": 2835,
    "start_time": "2022-07-22T08:35:15.403Z"
   },
   {
    "duration": 88,
    "start_time": "2022-07-22T08:35:18.240Z"
   },
   {
    "duration": 7,
    "start_time": "2022-07-22T08:35:18.330Z"
   },
   {
    "duration": 121,
    "start_time": "2022-07-22T08:35:18.339Z"
   },
   {
    "duration": 92,
    "start_time": "2022-07-22T08:35:18.463Z"
   },
   {
    "duration": 196,
    "start_time": "2022-07-22T08:35:18.557Z"
   },
   {
    "duration": 119,
    "start_time": "2022-07-22T08:35:18.755Z"
   },
   {
    "duration": 556,
    "start_time": "2022-07-22T08:35:18.875Z"
   },
   {
    "duration": 8,
    "start_time": "2022-07-22T08:35:19.432Z"
   },
   {
    "duration": 15,
    "start_time": "2022-07-22T08:35:19.442Z"
   },
   {
    "duration": 100,
    "start_time": "2022-07-22T08:35:19.459Z"
   },
   {
    "duration": 200,
    "start_time": "2022-07-22T08:35:19.560Z"
   },
   {
    "duration": 215,
    "start_time": "2022-07-22T08:35:19.762Z"
   },
   {
    "duration": 23,
    "start_time": "2022-07-22T08:35:19.978Z"
   },
   {
    "duration": 639,
    "start_time": "2022-07-22T08:35:20.002Z"
   },
   {
    "duration": 402,
    "start_time": "2022-07-22T08:35:20.642Z"
   },
   {
    "duration": 1292,
    "start_time": "2022-07-22T08:35:44.192Z"
   },
   {
    "duration": 61,
    "start_time": "2022-07-22T08:35:45.486Z"
   },
   {
    "duration": 6,
    "start_time": "2022-07-22T08:35:45.551Z"
   },
   {
    "duration": 11,
    "start_time": "2022-07-22T08:35:45.559Z"
   },
   {
    "duration": 7,
    "start_time": "2022-07-22T08:35:45.571Z"
   },
   {
    "duration": 2434,
    "start_time": "2022-07-22T08:35:45.580Z"
   },
   {
    "duration": 80,
    "start_time": "2022-07-22T08:35:48.016Z"
   },
   {
    "duration": 8,
    "start_time": "2022-07-22T08:35:48.098Z"
   },
   {
    "duration": 144,
    "start_time": "2022-07-22T08:35:48.109Z"
   },
   {
    "duration": 7,
    "start_time": "2022-07-22T08:35:48.254Z"
   },
   {
    "duration": 195,
    "start_time": "2022-07-22T08:35:48.263Z"
   },
   {
    "duration": 205,
    "start_time": "2022-07-22T08:35:48.460Z"
   },
   {
    "duration": 542,
    "start_time": "2022-07-22T08:35:48.666Z"
   },
   {
    "duration": 9,
    "start_time": "2022-07-22T08:35:49.209Z"
   },
   {
    "duration": 8,
    "start_time": "2022-07-22T08:35:49.219Z"
   },
   {
    "duration": 133,
    "start_time": "2022-07-22T08:35:49.228Z"
   },
   {
    "duration": 291,
    "start_time": "2022-07-22T08:35:49.362Z"
   },
   {
    "duration": 128,
    "start_time": "2022-07-22T08:35:49.656Z"
   },
   {
    "duration": 22,
    "start_time": "2022-07-22T08:35:49.786Z"
   },
   {
    "duration": 635,
    "start_time": "2022-07-22T08:35:49.810Z"
   },
   {
    "duration": 407,
    "start_time": "2022-07-22T08:35:50.447Z"
   },
   {
    "duration": 37388,
    "start_time": "2022-07-22T08:35:50.856Z"
   },
   {
    "duration": 193,
    "start_time": "2022-07-22T08:36:28.246Z"
   },
   {
    "duration": 92,
    "start_time": "2022-07-22T08:46:14.814Z"
   },
   {
    "duration": 4,
    "start_time": "2022-07-22T08:46:21.115Z"
   },
   {
    "duration": 11,
    "start_time": "2022-07-22T08:46:26.309Z"
   },
   {
    "duration": 5,
    "start_time": "2022-07-22T08:46:41.597Z"
   },
   {
    "duration": 10,
    "start_time": "2022-07-22T08:46:49.063Z"
   },
   {
    "duration": 1186,
    "start_time": "2022-07-22T08:47:11.087Z"
   },
   {
    "duration": 56,
    "start_time": "2022-07-22T08:47:12.275Z"
   },
   {
    "duration": 5,
    "start_time": "2022-07-22T08:47:12.333Z"
   },
   {
    "duration": 7,
    "start_time": "2022-07-22T08:47:12.339Z"
   },
   {
    "duration": 7,
    "start_time": "2022-07-22T08:47:12.347Z"
   },
   {
    "duration": 2118,
    "start_time": "2022-07-22T08:47:12.355Z"
   },
   {
    "duration": 78,
    "start_time": "2022-07-22T08:47:14.475Z"
   },
   {
    "duration": 7,
    "start_time": "2022-07-22T08:47:14.554Z"
   },
   {
    "duration": 98,
    "start_time": "2022-07-22T08:47:14.563Z"
   },
   {
    "duration": 100,
    "start_time": "2022-07-22T08:47:14.753Z"
   },
   {
    "duration": 107,
    "start_time": "2022-07-22T08:47:14.854Z"
   },
   {
    "duration": 202,
    "start_time": "2022-07-22T08:47:14.962Z"
   },
   {
    "duration": 558,
    "start_time": "2022-07-22T08:47:15.166Z"
   },
   {
    "duration": 9,
    "start_time": "2022-07-22T08:47:15.725Z"
   },
   {
    "duration": 8,
    "start_time": "2022-07-22T08:47:15.735Z"
   },
   {
    "duration": 106,
    "start_time": "2022-07-22T08:47:15.752Z"
   },
   {
    "duration": 293,
    "start_time": "2022-07-22T08:47:15.860Z"
   },
   {
    "duration": 136,
    "start_time": "2022-07-22T08:47:16.155Z"
   },
   {
    "duration": 28,
    "start_time": "2022-07-22T08:47:16.293Z"
   },
   {
    "duration": 638,
    "start_time": "2022-07-22T08:47:16.322Z"
   },
   {
    "duration": 400,
    "start_time": "2022-07-22T08:47:16.962Z"
   },
   {
    "duration": 20976,
    "start_time": "2022-07-22T08:47:17.364Z"
   },
   {
    "duration": 185,
    "start_time": "2022-07-22T08:47:38.341Z"
   },
   {
    "duration": 7,
    "start_time": "2022-07-22T08:47:38.527Z"
   },
   {
    "duration": 134,
    "start_time": "2022-07-22T08:48:14.549Z"
   },
   {
    "duration": 1248,
    "start_time": "2022-07-22T08:49:11.541Z"
   },
   {
    "duration": 59,
    "start_time": "2022-07-22T08:49:12.791Z"
   },
   {
    "duration": 5,
    "start_time": "2022-07-22T08:49:12.852Z"
   },
   {
    "duration": 7,
    "start_time": "2022-07-22T08:49:12.859Z"
   },
   {
    "duration": 6,
    "start_time": "2022-07-22T08:49:12.868Z"
   },
   {
    "duration": 2156,
    "start_time": "2022-07-22T08:49:12.875Z"
   },
   {
    "duration": 111,
    "start_time": "2022-07-22T08:49:15.033Z"
   },
   {
    "duration": 10,
    "start_time": "2022-07-22T08:49:15.146Z"
   },
   {
    "duration": 101,
    "start_time": "2022-07-22T08:49:15.158Z"
   },
   {
    "duration": 93,
    "start_time": "2022-07-22T08:49:15.260Z"
   },
   {
    "duration": 203,
    "start_time": "2022-07-22T08:49:15.355Z"
   },
   {
    "duration": 211,
    "start_time": "2022-07-22T08:49:15.560Z"
   },
   {
    "duration": 603,
    "start_time": "2022-07-22T08:49:15.772Z"
   },
   {
    "duration": 11,
    "start_time": "2022-07-22T08:49:16.378Z"
   },
   {
    "duration": 20,
    "start_time": "2022-07-22T08:49:16.391Z"
   },
   {
    "duration": 148,
    "start_time": "2022-07-22T08:49:16.413Z"
   },
   {
    "duration": 199,
    "start_time": "2022-07-22T08:49:16.654Z"
   },
   {
    "duration": 122,
    "start_time": "2022-07-22T08:49:16.855Z"
   },
   {
    "duration": 22,
    "start_time": "2022-07-22T08:49:16.979Z"
   },
   {
    "duration": 642,
    "start_time": "2022-07-22T08:49:17.002Z"
   },
   {
    "duration": 397,
    "start_time": "2022-07-22T08:49:17.646Z"
   },
   {
    "duration": 21288,
    "start_time": "2022-07-22T08:49:18.045Z"
   },
   {
    "duration": 186,
    "start_time": "2022-07-22T08:49:39.334Z"
   },
   {
    "duration": 111,
    "start_time": "2022-07-22T08:49:39.521Z"
   },
   {
    "duration": 567,
    "start_time": "2022-07-22T09:06:29.635Z"
   },
   {
    "duration": 36,
    "start_time": "2022-07-22T09:07:07.817Z"
   },
   {
    "duration": 1206,
    "start_time": "2022-07-22T09:08:18.779Z"
   },
   {
    "duration": 58,
    "start_time": "2022-07-22T09:08:19.987Z"
   },
   {
    "duration": 5,
    "start_time": "2022-07-22T09:08:20.046Z"
   },
   {
    "duration": 7,
    "start_time": "2022-07-22T09:08:20.053Z"
   },
   {
    "duration": 11,
    "start_time": "2022-07-22T09:08:20.061Z"
   },
   {
    "duration": 2219,
    "start_time": "2022-07-22T09:08:20.073Z"
   },
   {
    "duration": 84,
    "start_time": "2022-07-22T09:08:22.293Z"
   },
   {
    "duration": 9,
    "start_time": "2022-07-22T09:08:22.379Z"
   },
   {
    "duration": 69,
    "start_time": "2022-07-22T09:08:22.389Z"
   },
   {
    "duration": 211,
    "start_time": "2022-07-22T09:08:22.461Z"
   },
   {
    "duration": 596,
    "start_time": "2022-07-22T09:08:22.674Z"
   },
   {
    "duration": 6,
    "start_time": "2022-07-22T09:08:23.271Z"
   },
   {
    "duration": 174,
    "start_time": "2022-07-22T09:08:23.278Z"
   },
   {
    "duration": 123,
    "start_time": "2022-07-22T09:08:23.455Z"
   },
   {
    "duration": 624,
    "start_time": "2022-07-22T09:08:23.580Z"
   },
   {
    "duration": 11,
    "start_time": "2022-07-22T09:08:24.206Z"
   },
   {
    "duration": 10,
    "start_time": "2022-07-22T09:08:24.218Z"
   },
   {
    "duration": 129,
    "start_time": "2022-07-22T09:08:24.230Z"
   },
   {
    "duration": 293,
    "start_time": "2022-07-22T09:08:24.361Z"
   },
   {
    "duration": 123,
    "start_time": "2022-07-22T09:08:24.657Z"
   },
   {
    "duration": 27,
    "start_time": "2022-07-22T09:08:24.783Z"
   },
   {
    "duration": 747,
    "start_time": "2022-07-22T09:08:24.813Z"
   },
   {
    "duration": 477,
    "start_time": "2022-07-22T09:08:25.561Z"
   },
   {
    "duration": 21116,
    "start_time": "2022-07-22T09:08:26.041Z"
   },
   {
    "duration": 202,
    "start_time": "2022-07-22T09:08:47.159Z"
   },
   {
    "duration": 126,
    "start_time": "2022-07-22T09:08:47.363Z"
   },
   {
    "duration": 1224,
    "start_time": "2022-07-22T09:09:02.674Z"
   },
   {
    "duration": 55,
    "start_time": "2022-07-22T09:09:03.900Z"
   },
   {
    "duration": 5,
    "start_time": "2022-07-22T09:09:03.956Z"
   },
   {
    "duration": 6,
    "start_time": "2022-07-22T09:09:03.963Z"
   },
   {
    "duration": 10,
    "start_time": "2022-07-22T09:09:03.971Z"
   },
   {
    "duration": 2200,
    "start_time": "2022-07-22T09:09:03.982Z"
   },
   {
    "duration": 82,
    "start_time": "2022-07-22T09:09:06.184Z"
   },
   {
    "duration": 8,
    "start_time": "2022-07-22T09:09:06.268Z"
   },
   {
    "duration": 82,
    "start_time": "2022-07-22T09:09:06.277Z"
   },
   {
    "duration": 214,
    "start_time": "2022-07-22T09:09:06.362Z"
   },
   {
    "duration": 556,
    "start_time": "2022-07-22T09:09:06.578Z"
   },
   {
    "duration": 5,
    "start_time": "2022-07-22T09:09:07.135Z"
   },
   {
    "duration": 119,
    "start_time": "2022-07-22T09:09:07.142Z"
   },
   {
    "duration": 204,
    "start_time": "2022-07-22T09:09:07.262Z"
   },
   {
    "duration": 546,
    "start_time": "2022-07-22T09:09:07.468Z"
   },
   {
    "duration": 9,
    "start_time": "2022-07-22T09:09:08.015Z"
   },
   {
    "duration": 9,
    "start_time": "2022-07-22T09:09:08.025Z"
   },
   {
    "duration": 126,
    "start_time": "2022-07-22T09:09:08.035Z"
   },
   {
    "duration": 201,
    "start_time": "2022-07-22T09:09:08.253Z"
   },
   {
    "duration": 128,
    "start_time": "2022-07-22T09:09:08.456Z"
   },
   {
    "duration": 21,
    "start_time": "2022-07-22T09:09:08.586Z"
   },
   {
    "duration": 655,
    "start_time": "2022-07-22T09:09:08.609Z"
   },
   {
    "duration": 397,
    "start_time": "2022-07-22T09:09:09.266Z"
   },
   {
    "duration": 21169,
    "start_time": "2022-07-22T09:09:09.665Z"
   },
   {
    "duration": 185,
    "start_time": "2022-07-22T09:09:30.836Z"
   },
   {
    "duration": 108,
    "start_time": "2022-07-22T09:09:31.022Z"
   },
   {
    "duration": 1581,
    "start_time": "2022-07-22T09:47:58.530Z"
   },
   {
    "duration": 118,
    "start_time": "2022-07-22T09:48:00.113Z"
   },
   {
    "duration": 7,
    "start_time": "2022-07-22T09:48:00.233Z"
   },
   {
    "duration": 36,
    "start_time": "2022-07-22T09:48:00.242Z"
   },
   {
    "duration": 17,
    "start_time": "2022-07-22T09:48:00.281Z"
   },
   {
    "duration": 2394,
    "start_time": "2022-07-22T09:48:00.300Z"
   },
   {
    "duration": 90,
    "start_time": "2022-07-22T09:48:02.696Z"
   },
   {
    "duration": 9,
    "start_time": "2022-07-22T09:48:02.788Z"
   },
   {
    "duration": 168,
    "start_time": "2022-07-22T09:48:02.799Z"
   },
   {
    "duration": 44,
    "start_time": "2022-07-22T09:48:03.046Z"
   },
   {
    "duration": 683,
    "start_time": "2022-07-22T09:48:03.092Z"
   },
   {
    "duration": 7,
    "start_time": "2022-07-22T09:48:03.777Z"
   },
   {
    "duration": 189,
    "start_time": "2022-07-22T09:48:03.786Z"
   },
   {
    "duration": 97,
    "start_time": "2022-07-22T09:48:03.979Z"
   },
   {
    "duration": 602,
    "start_time": "2022-07-22T09:48:04.078Z"
   },
   {
    "duration": 10,
    "start_time": "2022-07-22T09:48:04.682Z"
   },
   {
    "duration": 12,
    "start_time": "2022-07-22T09:48:04.693Z"
   },
   {
    "duration": 159,
    "start_time": "2022-07-22T09:48:04.708Z"
   },
   {
    "duration": 297,
    "start_time": "2022-07-22T09:48:04.869Z"
   },
   {
    "duration": 139,
    "start_time": "2022-07-22T09:48:05.168Z"
   },
   {
    "duration": 24,
    "start_time": "2022-07-22T09:48:05.308Z"
   },
   {
    "duration": 691,
    "start_time": "2022-07-22T09:48:05.333Z"
   },
   {
    "duration": 437,
    "start_time": "2022-07-22T09:48:06.025Z"
   },
   {
    "duration": 24093,
    "start_time": "2022-07-22T09:48:06.464Z"
   },
   {
    "duration": 210,
    "start_time": "2022-07-22T09:48:30.562Z"
   },
   {
    "duration": 127,
    "start_time": "2022-07-22T09:48:30.774Z"
   },
   {
    "duration": 69,
    "start_time": "2022-07-23T08:56:00.159Z"
   },
   {
    "duration": 1754,
    "start_time": "2022-07-23T08:57:38.987Z"
   },
   {
    "duration": 136,
    "start_time": "2022-07-23T08:57:40.744Z"
   },
   {
    "duration": 9,
    "start_time": "2022-07-23T08:57:40.883Z"
   },
   {
    "duration": 21,
    "start_time": "2022-07-23T08:57:40.894Z"
   },
   {
    "duration": 20,
    "start_time": "2022-07-23T08:57:40.918Z"
   },
   {
    "duration": 3035,
    "start_time": "2022-07-23T08:57:40.941Z"
   },
   {
    "duration": 17,
    "start_time": "2022-07-23T08:57:43.978Z"
   },
   {
    "duration": 132,
    "start_time": "2022-07-23T08:57:44.000Z"
   },
   {
    "duration": 24,
    "start_time": "2022-07-23T08:57:44.134Z"
   },
   {
    "duration": 184,
    "start_time": "2022-07-23T08:57:44.162Z"
   },
   {
    "duration": 141,
    "start_time": "2022-07-23T08:57:44.352Z"
   },
   {
    "duration": 706,
    "start_time": "2022-07-23T08:57:44.495Z"
   },
   {
    "duration": 7,
    "start_time": "2022-07-23T08:57:45.203Z"
   },
   {
    "duration": 154,
    "start_time": "2022-07-23T08:57:45.211Z"
   },
   {
    "duration": 146,
    "start_time": "2022-07-23T08:57:45.367Z"
   },
   {
    "duration": 683,
    "start_time": "2022-07-23T08:57:45.515Z"
   },
   {
    "duration": 11,
    "start_time": "2022-07-23T08:57:46.201Z"
   },
   {
    "duration": 21,
    "start_time": "2022-07-23T08:57:46.213Z"
   },
   {
    "duration": 111,
    "start_time": "2022-07-23T08:57:46.236Z"
   },
   {
    "duration": 298,
    "start_time": "2022-07-23T08:57:46.349Z"
   },
   {
    "duration": 73,
    "start_time": "2022-07-23T08:57:46.649Z"
   },
   {
    "duration": 29,
    "start_time": "2022-07-23T08:57:46.724Z"
   },
   {
    "duration": 774,
    "start_time": "2022-07-23T08:57:46.755Z"
   },
   {
    "duration": 487,
    "start_time": "2022-07-23T08:57:47.530Z"
   },
   {
    "duration": 24619,
    "start_time": "2022-07-23T08:57:48.020Z"
   },
   {
    "duration": 216,
    "start_time": "2022-07-23T08:58:12.641Z"
   },
   {
    "duration": 147,
    "start_time": "2022-07-23T08:58:12.859Z"
   },
   {
    "duration": 56,
    "start_time": "2022-07-23T09:01:03.074Z"
   },
   {
    "duration": 12,
    "start_time": "2022-07-23T09:01:07.510Z"
   },
   {
    "duration": 69,
    "start_time": "2022-07-23T17:14:59.091Z"
   },
   {
    "duration": 1776,
    "start_time": "2022-07-23T17:15:04.762Z"
   },
   {
    "duration": 113,
    "start_time": "2022-07-23T17:15:06.541Z"
   },
   {
    "duration": 8,
    "start_time": "2022-07-23T17:15:06.656Z"
   },
   {
    "duration": 15,
    "start_time": "2022-07-23T17:15:06.667Z"
   },
   {
    "duration": 12,
    "start_time": "2022-07-23T17:15:06.684Z"
   },
   {
    "duration": 3079,
    "start_time": "2022-07-23T17:15:06.700Z"
   },
   {
    "duration": 20,
    "start_time": "2022-07-23T17:15:09.781Z"
   },
   {
    "duration": 91,
    "start_time": "2022-07-23T17:15:09.804Z"
   },
   {
    "duration": 11,
    "start_time": "2022-07-23T17:15:09.897Z"
   },
   {
    "duration": 10,
    "start_time": "2022-07-23T17:15:09.912Z"
   },
   {
    "duration": 110,
    "start_time": "2022-07-23T17:15:09.947Z"
   },
   {
    "duration": 205,
    "start_time": "2022-07-23T17:15:10.059Z"
   },
   {
    "duration": 622,
    "start_time": "2022-07-23T17:15:10.266Z"
   },
   {
    "duration": 7,
    "start_time": "2022-07-23T17:15:10.890Z"
   },
   {
    "duration": 58,
    "start_time": "2022-07-23T17:15:10.898Z"
   },
   {
    "duration": 204,
    "start_time": "2022-07-23T17:15:10.962Z"
   },
   {
    "duration": 625,
    "start_time": "2022-07-23T17:15:11.169Z"
   },
   {
    "duration": 11,
    "start_time": "2022-07-23T17:15:11.798Z"
   },
   {
    "duration": 10,
    "start_time": "2022-07-23T17:15:11.811Z"
   },
   {
    "duration": 241,
    "start_time": "2022-07-23T17:15:11.823Z"
   },
   {
    "duration": 210,
    "start_time": "2022-07-23T17:15:12.148Z"
   },
   {
    "duration": 220,
    "start_time": "2022-07-23T17:15:12.360Z"
   },
   {
    "duration": 26,
    "start_time": "2022-07-23T17:15:12.583Z"
   },
   {
    "duration": 711,
    "start_time": "2022-07-23T17:15:12.611Z"
   },
   {
    "duration": 471,
    "start_time": "2022-07-23T17:15:13.324Z"
   },
   {
    "duration": 23163,
    "start_time": "2022-07-23T17:15:13.797Z"
   },
   {
    "duration": 234,
    "start_time": "2022-07-23T17:15:36.962Z"
   },
   {
    "duration": 150,
    "start_time": "2022-07-23T17:15:37.199Z"
   },
   {
    "duration": 984,
    "start_time": "2022-07-23T17:22:21.352Z"
   },
   {
    "duration": 1085,
    "start_time": "2022-07-23T17:23:14.738Z"
   },
   {
    "duration": 1552,
    "start_time": "2022-07-23T17:23:58.815Z"
   },
   {
    "duration": 85,
    "start_time": "2022-07-23T17:24:00.369Z"
   },
   {
    "duration": 6,
    "start_time": "2022-07-23T17:24:00.456Z"
   },
   {
    "duration": 10,
    "start_time": "2022-07-23T17:24:00.466Z"
   },
   {
    "duration": 13,
    "start_time": "2022-07-23T17:24:00.478Z"
   },
   {
    "duration": 4556,
    "start_time": "2022-07-23T17:24:00.493Z"
   },
   {
    "duration": 18,
    "start_time": "2022-07-23T17:24:05.052Z"
   },
   {
    "duration": 6,
    "start_time": "2022-07-23T17:24:05.072Z"
   },
   {
    "duration": 1035,
    "start_time": "2022-07-23T17:24:05.080Z"
   },
   {
    "duration": 0,
    "start_time": "2022-07-23T17:24:06.117Z"
   },
   {
    "duration": 0,
    "start_time": "2022-07-23T17:24:06.119Z"
   },
   {
    "duration": 0,
    "start_time": "2022-07-23T17:24:06.120Z"
   },
   {
    "duration": 0,
    "start_time": "2022-07-23T17:24:06.121Z"
   },
   {
    "duration": 0,
    "start_time": "2022-07-23T17:24:06.122Z"
   },
   {
    "duration": 0,
    "start_time": "2022-07-23T17:24:06.123Z"
   },
   {
    "duration": 0,
    "start_time": "2022-07-23T17:24:06.124Z"
   },
   {
    "duration": 0,
    "start_time": "2022-07-23T17:24:06.125Z"
   },
   {
    "duration": 0,
    "start_time": "2022-07-23T17:24:06.126Z"
   },
   {
    "duration": 0,
    "start_time": "2022-07-23T17:24:06.128Z"
   },
   {
    "duration": 0,
    "start_time": "2022-07-23T17:24:06.129Z"
   },
   {
    "duration": 0,
    "start_time": "2022-07-23T17:24:06.130Z"
   },
   {
    "duration": 0,
    "start_time": "2022-07-23T17:24:06.131Z"
   },
   {
    "duration": 0,
    "start_time": "2022-07-23T17:24:06.132Z"
   },
   {
    "duration": 0,
    "start_time": "2022-07-23T17:24:06.133Z"
   },
   {
    "duration": 0,
    "start_time": "2022-07-23T17:24:06.134Z"
   },
   {
    "duration": 0,
    "start_time": "2022-07-23T17:24:06.135Z"
   },
   {
    "duration": 0,
    "start_time": "2022-07-23T17:24:06.137Z"
   },
   {
    "duration": 0,
    "start_time": "2022-07-23T17:24:06.137Z"
   },
   {
    "duration": 19,
    "start_time": "2022-07-23T17:24:24.914Z"
   },
   {
    "duration": 11,
    "start_time": "2022-07-23T17:24:35.410Z"
   },
   {
    "duration": 25,
    "start_time": "2022-07-23T17:25:32.549Z"
   },
   {
    "duration": 32,
    "start_time": "2022-07-23T17:28:28.961Z"
   },
   {
    "duration": 27,
    "start_time": "2022-07-23T17:56:10.203Z"
   },
   {
    "duration": 24,
    "start_time": "2022-07-23T17:58:58.586Z"
   },
   {
    "duration": 31,
    "start_time": "2022-07-23T17:59:49.609Z"
   },
   {
    "duration": 32,
    "start_time": "2022-07-23T18:01:00.967Z"
   },
   {
    "duration": 34,
    "start_time": "2022-07-23T18:01:25.451Z"
   },
   {
    "duration": 10,
    "start_time": "2022-07-23T18:02:06.049Z"
   },
   {
    "duration": 16,
    "start_time": "2022-07-23T18:08:00.557Z"
   },
   {
    "duration": 20,
    "start_time": "2022-07-23T18:11:00.376Z"
   },
   {
    "duration": 43,
    "start_time": "2022-07-23T18:11:09.172Z"
   },
   {
    "duration": 17,
    "start_time": "2022-07-23T18:11:24.342Z"
   },
   {
    "duration": 237,
    "start_time": "2022-07-23T18:13:17.313Z"
   },
   {
    "duration": 165,
    "start_time": "2022-07-23T18:13:30.986Z"
   },
   {
    "duration": 1550,
    "start_time": "2022-07-23T18:15:58.649Z"
   },
   {
    "duration": 73,
    "start_time": "2022-07-23T18:16:00.202Z"
   },
   {
    "duration": 6,
    "start_time": "2022-07-23T18:16:00.277Z"
   },
   {
    "duration": 17,
    "start_time": "2022-07-23T18:16:00.286Z"
   },
   {
    "duration": 14,
    "start_time": "2022-07-23T18:16:00.305Z"
   },
   {
    "duration": 2703,
    "start_time": "2022-07-23T18:16:00.321Z"
   },
   {
    "duration": 21,
    "start_time": "2022-07-23T18:16:03.026Z"
   },
   {
    "duration": 2,
    "start_time": "2022-07-23T18:16:03.049Z"
   },
   {
    "duration": 36,
    "start_time": "2022-07-23T18:16:03.053Z"
   },
   {
    "duration": 18,
    "start_time": "2022-07-23T18:16:03.092Z"
   },
   {
    "duration": 243,
    "start_time": "2022-07-23T18:16:03.112Z"
   },
   {
    "duration": 110,
    "start_time": "2022-07-23T18:16:03.356Z"
   },
   {
    "duration": 483,
    "start_time": "2022-07-23T18:16:03.468Z"
   },
   {
    "duration": 131,
    "start_time": "2022-07-23T18:16:03.953Z"
   },
   {
    "duration": 0,
    "start_time": "2022-07-23T18:16:04.086Z"
   },
   {
    "duration": 0,
    "start_time": "2022-07-23T18:16:04.087Z"
   },
   {
    "duration": 0,
    "start_time": "2022-07-23T18:16:04.088Z"
   },
   {
    "duration": 0,
    "start_time": "2022-07-23T18:16:04.090Z"
   },
   {
    "duration": 0,
    "start_time": "2022-07-23T18:16:04.090Z"
   },
   {
    "duration": 0,
    "start_time": "2022-07-23T18:16:04.092Z"
   },
   {
    "duration": 0,
    "start_time": "2022-07-23T18:16:04.093Z"
   },
   {
    "duration": 0,
    "start_time": "2022-07-23T18:16:04.094Z"
   },
   {
    "duration": 0,
    "start_time": "2022-07-23T18:16:04.096Z"
   },
   {
    "duration": 0,
    "start_time": "2022-07-23T18:16:04.097Z"
   },
   {
    "duration": 0,
    "start_time": "2022-07-23T18:16:04.098Z"
   },
   {
    "duration": 0,
    "start_time": "2022-07-23T18:16:04.099Z"
   },
   {
    "duration": 0,
    "start_time": "2022-07-23T18:16:04.100Z"
   },
   {
    "duration": 0,
    "start_time": "2022-07-23T18:16:04.101Z"
   },
   {
    "duration": 8,
    "start_time": "2022-07-23T18:17:04.855Z"
   },
   {
    "duration": 56,
    "start_time": "2022-07-23T18:21:42.343Z"
   },
   {
    "duration": 27,
    "start_time": "2022-07-23T18:26:46.692Z"
   },
   {
    "duration": 22,
    "start_time": "2022-07-23T18:27:05.176Z"
   },
   {
    "duration": 24,
    "start_time": "2022-07-23T18:28:09.705Z"
   },
   {
    "duration": 20,
    "start_time": "2022-07-23T18:28:17.146Z"
   },
   {
    "duration": 1378,
    "start_time": "2022-07-23T18:29:03.075Z"
   },
   {
    "duration": 66,
    "start_time": "2022-07-23T18:29:04.456Z"
   },
   {
    "duration": 8,
    "start_time": "2022-07-23T18:29:04.524Z"
   },
   {
    "duration": 13,
    "start_time": "2022-07-23T18:29:04.534Z"
   },
   {
    "duration": 19,
    "start_time": "2022-07-23T18:29:04.549Z"
   },
   {
    "duration": 2625,
    "start_time": "2022-07-23T18:29:04.570Z"
   },
   {
    "duration": 12,
    "start_time": "2022-07-23T18:29:07.197Z"
   },
   {
    "duration": 46,
    "start_time": "2022-07-23T18:29:07.211Z"
   },
   {
    "duration": 20,
    "start_time": "2022-07-23T18:29:07.260Z"
   },
   {
    "duration": 72,
    "start_time": "2022-07-23T18:29:07.283Z"
   },
   {
    "duration": 227,
    "start_time": "2022-07-23T18:29:07.357Z"
   },
   {
    "duration": 746,
    "start_time": "2022-07-23T18:29:07.586Z"
   },
   {
    "duration": 13,
    "start_time": "2022-07-23T18:29:08.334Z"
   },
   {
    "duration": 102,
    "start_time": "2022-07-23T18:29:08.349Z"
   },
   {
    "duration": 133,
    "start_time": "2022-07-23T18:29:08.453Z"
   },
   {
    "duration": 886,
    "start_time": "2022-07-23T18:29:08.588Z"
   },
   {
    "duration": 15,
    "start_time": "2022-07-23T18:29:09.477Z"
   },
   {
    "duration": 13,
    "start_time": "2022-07-23T18:29:09.493Z"
   },
   {
    "duration": 143,
    "start_time": "2022-07-23T18:29:09.509Z"
   },
   {
    "duration": 201,
    "start_time": "2022-07-23T18:29:09.654Z"
   },
   {
    "duration": 233,
    "start_time": "2022-07-23T18:29:09.857Z"
   },
   {
    "duration": 26,
    "start_time": "2022-07-23T18:29:10.092Z"
   },
   {
    "duration": 955,
    "start_time": "2022-07-23T18:29:10.120Z"
   },
   {
    "duration": 454,
    "start_time": "2022-07-23T18:29:11.077Z"
   },
   {
    "duration": 29810,
    "start_time": "2022-07-23T18:29:11.533Z"
   },
   {
    "duration": 106,
    "start_time": "2022-07-23T18:29:41.345Z"
   },
   {
    "duration": 0,
    "start_time": "2022-07-23T18:29:41.453Z"
   },
   {
    "duration": 57,
    "start_time": "2022-07-23T18:29:51.846Z"
   },
   {
    "duration": 57,
    "start_time": "2022-07-23T18:32:22.731Z"
   },
   {
    "duration": 51,
    "start_time": "2022-07-23T18:32:42.609Z"
   },
   {
    "duration": 257,
    "start_time": "2022-07-23T18:33:00.150Z"
   },
   {
    "duration": 243,
    "start_time": "2022-07-23T18:33:17.220Z"
   },
   {
    "duration": 223,
    "start_time": "2022-07-23T18:33:25.451Z"
   },
   {
    "duration": 440,
    "start_time": "2022-07-23T18:35:08.807Z"
   },
   {
    "duration": 255,
    "start_time": "2022-07-23T18:36:18.263Z"
   },
   {
    "duration": 127,
    "start_time": "2022-07-23T18:36:37.152Z"
   },
   {
    "duration": 254,
    "start_time": "2022-07-23T18:37:54.213Z"
   },
   {
    "duration": 60,
    "start_time": "2022-07-23T18:45:49.125Z"
   },
   {
    "duration": 92,
    "start_time": "2022-07-23T18:46:57.456Z"
   },
   {
    "duration": 1344,
    "start_time": "2022-07-23T18:47:39.422Z"
   },
   {
    "duration": 69,
    "start_time": "2022-07-23T18:47:40.769Z"
   },
   {
    "duration": 8,
    "start_time": "2022-07-23T18:47:40.840Z"
   },
   {
    "duration": 17,
    "start_time": "2022-07-23T18:47:40.850Z"
   },
   {
    "duration": 8,
    "start_time": "2022-07-23T18:47:40.869Z"
   },
   {
    "duration": 2422,
    "start_time": "2022-07-23T18:47:40.879Z"
   },
   {
    "duration": 11,
    "start_time": "2022-07-23T18:47:43.303Z"
   },
   {
    "duration": 44,
    "start_time": "2022-07-23T18:47:43.316Z"
   },
   {
    "duration": 18,
    "start_time": "2022-07-23T18:47:43.362Z"
   },
   {
    "duration": 170,
    "start_time": "2022-07-23T18:47:43.381Z"
   },
   {
    "duration": 141,
    "start_time": "2022-07-23T18:47:43.554Z"
   },
   {
    "duration": 713,
    "start_time": "2022-07-23T18:47:43.698Z"
   },
   {
    "duration": 22,
    "start_time": "2022-07-23T18:47:44.413Z"
   },
   {
    "duration": 109,
    "start_time": "2022-07-23T18:47:44.439Z"
   },
   {
    "duration": 128,
    "start_time": "2022-07-23T18:47:44.550Z"
   },
   {
    "duration": 682,
    "start_time": "2022-07-23T18:47:44.679Z"
   },
   {
    "duration": 13,
    "start_time": "2022-07-23T18:47:45.363Z"
   },
   {
    "duration": 11,
    "start_time": "2022-07-23T18:47:45.378Z"
   },
   {
    "duration": 77,
    "start_time": "2022-07-23T18:47:45.391Z"
   },
   {
    "duration": 188,
    "start_time": "2022-07-23T18:47:45.470Z"
   },
   {
    "duration": 222,
    "start_time": "2022-07-23T18:47:45.661Z"
   },
   {
    "duration": 26,
    "start_time": "2022-07-23T18:47:45.884Z"
   },
   {
    "duration": 868,
    "start_time": "2022-07-23T18:47:45.912Z"
   },
   {
    "duration": 424,
    "start_time": "2022-07-23T18:47:46.782Z"
   },
   {
    "duration": 54863,
    "start_time": "2022-07-23T18:47:47.208Z"
   },
   {
    "duration": 304,
    "start_time": "2022-07-23T18:48:42.075Z"
   },
   {
    "duration": 149,
    "start_time": "2022-07-23T18:48:42.382Z"
   },
   {
    "duration": 604,
    "start_time": "2022-07-23T18:49:07.161Z"
   },
   {
    "duration": 145,
    "start_time": "2022-07-23T18:49:35.422Z"
   },
   {
    "duration": 1547,
    "start_time": "2022-07-23T18:51:23.748Z"
   },
   {
    "duration": 68,
    "start_time": "2022-07-23T18:51:25.297Z"
   },
   {
    "duration": 7,
    "start_time": "2022-07-23T18:51:25.367Z"
   },
   {
    "duration": 10,
    "start_time": "2022-07-23T18:51:25.377Z"
   },
   {
    "duration": 11,
    "start_time": "2022-07-23T18:51:25.389Z"
   },
   {
    "duration": 2909,
    "start_time": "2022-07-23T18:51:25.402Z"
   },
   {
    "duration": 15,
    "start_time": "2022-07-23T18:51:28.313Z"
   },
   {
    "duration": 48,
    "start_time": "2022-07-23T18:51:28.330Z"
   },
   {
    "duration": 21,
    "start_time": "2022-07-23T18:51:28.380Z"
   },
   {
    "duration": 142,
    "start_time": "2022-07-23T18:51:28.405Z"
   },
   {
    "duration": 131,
    "start_time": "2022-07-23T18:51:28.550Z"
   },
   {
    "duration": 874,
    "start_time": "2022-07-23T18:51:28.683Z"
   },
   {
    "duration": 6,
    "start_time": "2022-07-23T18:51:29.559Z"
   },
   {
    "duration": 182,
    "start_time": "2022-07-23T18:51:29.567Z"
   },
   {
    "duration": 137,
    "start_time": "2022-07-23T18:51:29.751Z"
   },
   {
    "duration": 804,
    "start_time": "2022-07-23T18:51:29.889Z"
   },
   {
    "duration": 16,
    "start_time": "2022-07-23T18:51:30.695Z"
   },
   {
    "duration": 13,
    "start_time": "2022-07-23T18:51:30.713Z"
   },
   {
    "duration": 127,
    "start_time": "2022-07-23T18:51:30.728Z"
   },
   {
    "duration": 289,
    "start_time": "2022-07-23T18:51:30.858Z"
   },
   {
    "duration": 149,
    "start_time": "2022-07-23T18:51:31.154Z"
   },
   {
    "duration": 49,
    "start_time": "2022-07-23T18:51:31.305Z"
   },
   {
    "duration": 1038,
    "start_time": "2022-07-23T18:51:31.357Z"
   },
   {
    "duration": 481,
    "start_time": "2022-07-23T18:51:32.397Z"
   },
   {
    "duration": 53248,
    "start_time": "2022-07-23T18:51:32.879Z"
   },
   {
    "duration": 548,
    "start_time": "2022-07-23T18:52:26.130Z"
   },
   {
    "duration": 138,
    "start_time": "2022-07-23T18:52:26.680Z"
   }
  ],
  "kernelspec": {
   "display_name": "Python 3 (ipykernel)",
   "language": "python",
   "name": "python3"
  },
  "language_info": {
   "codemirror_mode": {
    "name": "ipython",
    "version": 3
   },
   "file_extension": ".py",
   "mimetype": "text/x-python",
   "name": "python",
   "nbconvert_exporter": "python",
   "pygments_lexer": "ipython3",
   "version": "3.9.12"
  },
  "toc": {
   "base_numbering": 1,
   "nav_menu": {},
   "number_sections": true,
   "sideBar": true,
   "skip_h1_title": true,
   "title_cell": "Содержание",
   "title_sidebar": "Contents",
   "toc_cell": true,
   "toc_position": {},
   "toc_section_display": true,
   "toc_window_display": true
  }
 },
 "nbformat": 4,
 "nbformat_minor": 2
}
