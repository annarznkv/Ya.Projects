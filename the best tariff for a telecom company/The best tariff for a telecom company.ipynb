{
 "cells": [
  {
   "cell_type": "markdown",
   "metadata": {},
   "source": [
    "## Описание проекта\n",
    "\n",
    "Клиентам «Мегалайн» — федерального оператора сотовой связи предлагают два тарифных плана: «Смарт» и «Ультра». Чтобы скорректировать рекламный бюджет, коммерческий департамент хочет понять, какой тариф приносит больше денег.\n",
    "\n",
    "Нужен предварительный анализ тарифов на небольшой выборке клиентов. В распоряжении данные 500 пользователей «Мегалайна»: кто они, откуда, каким тарифом пользуются, сколько звонков и сообщений каждый отправил за 2018 год. \n",
    "Нужно проанализировать поведение клиентов и сделать вывод — какой тариф лучше.\n",
    "\n",
    "Описание тарифов:\n",
    "Тариф «Смарт»\n",
    "- Ежемесячная плата: 550 рублей\n",
    "- Включено 500 минут разговора, 50 сообщений и 15 Гб интернет-трафика\n",
    "- Стоимость услуг сверх тарифного пакета:\n",
    "    - минута разговора: 3 рубля\n",
    "    - сообщение: 3 рубля\n",
    "    - 1 Гб интернет-трафика: 200 рублей\n",
    "\n",
    "Тариф «Ультра»\n",
    "- Ежемесячная плата: 1950 рублей\n",
    "- Включено 3000 минут разговора, 1000 сообщений и 30 Гб интернет-трафика\n",
    "- Стоимость услуг сверх тарифного пакета:\n",
    "    - минута разговора: 1 рубль\n",
    "    - сообщение: 1 рубль\n",
    "    - 1 Гб интернет-трафика: 150 рублей"
   ]
  },
  {
   "cell_type": "markdown",
   "metadata": {},
   "source": [
    "## Описание данных\n",
    "Таблица users (информация о пользователях):\n",
    "- user_id — уникальный идентификатор пользователя\n",
    "- first_name — имя пользователя\n",
    "- last_name — фамилия пользователя\n",
    "- age — возраст пользователя (годы)\n",
    "- reg_date — дата подключения тарифа (день, месяц, год)\n",
    "- churn_date — дата прекращения пользования тарифом (если значение пропущено, то тариф ещё действовал на момент выгрузки данных)\n",
    "- city — город проживания пользователя\n",
    "- tariff — название тарифного плана\n",
    "\n",
    "Таблица calls (информация о звонках):\n",
    "- id — уникальный номер звонка\n",
    "- call_date — дата звонка\n",
    "- duration — длительность звонка в минутах\n",
    "- user_id — идентификатор пользователя, сделавшего звонок\n",
    "\n",
    "Таблица messages (информация о сообщениях):\n",
    "- id — уникальный номер сообщения\n",
    "- message_date — дата сообщения\n",
    "- user_id — идентификатор пользователя, отправившего сообщение\n",
    "\n",
    "Таблица internet (информация об интернет-сессиях):\n",
    "- id — уникальный номер сессии\n",
    "- mb_used — объём потраченного за сессию интернет-трафика (в мегабайтах)\n",
    "- session_date — дата интернет-сессии\n",
    "- user_id — идентификатор пользователя\n",
    "\n",
    "Таблица tariffs (информация о тарифах):\n",
    "- tariff_name — название тарифа\n",
    "- rub_monthly_fee — ежемесячная абонентская плата в рублях\n",
    "- minutes_included — количество минут разговора в месяц, включённых в абонентскую плату\n",
    "- messages_included — количество сообщений в месяц, включённых в абонентскую плату\n",
    "- mb_per_month_included — объём интернет-трафика, включённого в абонентскую плату (в мегабайтах)\n",
    "- rub_per_minute — стоимость минуты разговора сверх тарифного пакета (например, если в тарифе 100 минут разговора в месяц, то со 101 минуты будет взиматься плата)\n",
    "- rub_per_message — стоимость отправки сообщения сверх тарифного пакета\n",
    "- rub_per_gb — стоимость дополнительного гигабайта интернет-трафика сверх тарифного пакета (1 гигабайт = 1024 мегабайта)"
   ]
  },
  {
   "cell_type": "code",
   "execution_count": 1,
   "metadata": {},
   "outputs": [],
   "source": [
    "# Подключаем все нужные нам библиотеки\n",
    "\n",
    "import pandas as pd\n",
    "import numpy as np\n",
    "import matplotlib.pyplot as plt\n",
    "from scipy import stats as st"
   ]
  },
  {
   "cell_type": "code",
   "execution_count": 2,
   "metadata": {},
   "outputs": [
    {
     "name": "stdout",
     "output_type": "stream",
     "text": [
      "<class 'pandas.core.frame.DataFrame'>\n",
      "RangeIndex: 202607 entries, 0 to 202606\n",
      "Data columns (total 4 columns):\n",
      " #   Column     Non-Null Count   Dtype  \n",
      "---  ------     --------------   -----  \n",
      " 0   id         202607 non-null  object \n",
      " 1   call_date  202607 non-null  object \n",
      " 2   duration   202607 non-null  float64\n",
      " 3   user_id    202607 non-null  int64  \n",
      "dtypes: float64(1), int64(1), object(2)\n",
      "memory usage: 6.2+ MB\n",
      "       id   call_date  duration  user_id\n",
      "0  1000_0  2018-07-25      0.00     1000\n",
      "1  1000_1  2018-08-17      0.00     1000\n",
      "2  1000_2  2018-06-11      2.85     1000\n",
      "3  1000_3  2018-09-21     13.80     1000\n",
      "4  1000_4  2018-12-15      5.18     1000\n",
      "<class 'pandas.core.frame.DataFrame'>\n",
      "RangeIndex: 149396 entries, 0 to 149395\n",
      "Data columns (total 5 columns):\n",
      " #   Column        Non-Null Count   Dtype  \n",
      "---  ------        --------------   -----  \n",
      " 0   Unnamed: 0    149396 non-null  int64  \n",
      " 1   id            149396 non-null  object \n",
      " 2   mb_used       149396 non-null  float64\n",
      " 3   session_date  149396 non-null  object \n",
      " 4   user_id       149396 non-null  int64  \n",
      "dtypes: float64(1), int64(2), object(2)\n",
      "memory usage: 5.7+ MB\n",
      "   Unnamed: 0      id  mb_used session_date  user_id\n",
      "0           0  1000_0   112.95   2018-11-25     1000\n",
      "1           1  1000_1  1052.81   2018-09-07     1000\n",
      "2           2  1000_2  1197.26   2018-06-25     1000\n",
      "3           3  1000_3   550.27   2018-08-22     1000\n",
      "4           4  1000_4   302.56   2018-09-24     1000\n",
      "<class 'pandas.core.frame.DataFrame'>\n",
      "RangeIndex: 123036 entries, 0 to 123035\n",
      "Data columns (total 3 columns):\n",
      " #   Column        Non-Null Count   Dtype \n",
      "---  ------        --------------   ----- \n",
      " 0   id            123036 non-null  object\n",
      " 1   message_date  123036 non-null  object\n",
      " 2   user_id       123036 non-null  int64 \n",
      "dtypes: int64(1), object(2)\n",
      "memory usage: 2.8+ MB\n",
      "       id message_date  user_id\n",
      "0  1000_0   2018-06-27     1000\n",
      "1  1000_1   2018-10-08     1000\n",
      "2  1000_2   2018-08-04     1000\n",
      "3  1000_3   2018-06-16     1000\n",
      "4  1000_4   2018-12-05     1000\n",
      "<class 'pandas.core.frame.DataFrame'>\n",
      "RangeIndex: 2 entries, 0 to 1\n",
      "Data columns (total 8 columns):\n",
      " #   Column                 Non-Null Count  Dtype \n",
      "---  ------                 --------------  ----- \n",
      " 0   messages_included      2 non-null      int64 \n",
      " 1   mb_per_month_included  2 non-null      int64 \n",
      " 2   minutes_included       2 non-null      int64 \n",
      " 3   rub_monthly_fee        2 non-null      int64 \n",
      " 4   rub_per_gb             2 non-null      int64 \n",
      " 5   rub_per_message        2 non-null      int64 \n",
      " 6   rub_per_minute         2 non-null      int64 \n",
      " 7   tariff_name            2 non-null      object\n",
      "dtypes: int64(7), object(1)\n",
      "memory usage: 256.0+ bytes\n",
      "   messages_included  mb_per_month_included  minutes_included  \\\n",
      "0                 50                  15360               500   \n",
      "1               1000                  30720              3000   \n",
      "\n",
      "   rub_monthly_fee  rub_per_gb  rub_per_message  rub_per_minute tariff_name  \n",
      "0              550         200                3               3       smart  \n",
      "1             1950         150                1               1       ultra  \n",
      "<class 'pandas.core.frame.DataFrame'>\n",
      "RangeIndex: 500 entries, 0 to 499\n",
      "Data columns (total 8 columns):\n",
      " #   Column      Non-Null Count  Dtype \n",
      "---  ------      --------------  ----- \n",
      " 0   user_id     500 non-null    int64 \n",
      " 1   age         500 non-null    int64 \n",
      " 2   churn_date  38 non-null     object\n",
      " 3   city        500 non-null    object\n",
      " 4   first_name  500 non-null    object\n",
      " 5   last_name   500 non-null    object\n",
      " 6   reg_date    500 non-null    object\n",
      " 7   tariff      500 non-null    object\n",
      "dtypes: int64(2), object(6)\n",
      "memory usage: 31.4+ KB\n",
      "   user_id  age churn_date         city first_name  last_name    reg_date  \\\n",
      "0     1000   52        NaN    Краснодар     Рафаил  Верещагин  2018-05-25   \n",
      "1     1001   41        NaN       Москва       Иван       Ежов  2018-11-01   \n",
      "2     1002   59        NaN  Стерлитамак    Евгений  Абрамович  2018-06-17   \n",
      "3     1003   23        NaN       Москва      Белла   Белякова  2018-08-17   \n",
      "4     1004   68        NaN  Новокузнецк    Татьяна   Авдеенко  2018-05-14   \n",
      "\n",
      "  tariff  \n",
      "0  ultra  \n",
      "1  smart  \n",
      "2  smart  \n",
      "3  ultra  \n",
      "4  ultra  \n"
     ]
    }
   ],
   "source": [
    "#считаем данные и плсмотрим на их содержание\n",
    "calls = pd.read_csv ('/datasets/calls.csv')\n",
    "calls.info()\n",
    "print(calls.head())\n",
    "\n",
    "inet = pd.read_csv ('/datasets/internet.csv') \n",
    "inet.info()\n",
    "print(inet.head())\n",
    "\n",
    "sms = pd.read_csv ('/datasets/messages.csv') \n",
    "sms.info()\n",
    "print(sms.head())\n",
    "\n",
    "tariffs = pd.read_csv ('/datasets/tariffs.csv') \n",
    "tariffs.info()\n",
    "print(tariffs.head())\n",
    "\n",
    "users = pd.read_csv ('/datasets/users.csv') \n",
    "users.info()\n",
    "print(users.head())"
   ]
  },
  {
   "cell_type": "code",
   "execution_count": 3,
   "metadata": {},
   "outputs": [],
   "source": [
    "#Переведем даты в формат дат\n",
    "calls['call_date'] = pd.to_datetime(calls['call_date'],format='%Y-%m-%d')\n",
    "inet['session_date'] = pd.to_datetime(inet['session_date'],format='%Y-%m-%d')\n",
    "sms['message_date'] = pd.to_datetime(sms['message_date'],format='%Y-%m-%d')\n",
    "users['reg_date'] = pd.to_datetime(users['reg_date'],format='%Y-%m-%d')"
   ]
  },
  {
   "cell_type": "code",
   "execution_count": 4,
   "metadata": {},
   "outputs": [],
   "source": [
    "#Округлим минуты в бОльшую сторону, тк даже 1 сек разговора считается минутой\n",
    "calls['duration'] = np.ceil(calls['duration'])"
   ]
  },
  {
   "cell_type": "code",
   "execution_count": 5,
   "metadata": {},
   "outputs": [
    {
     "data": {
      "text/html": [
       "<div>\n",
       "<style scoped>\n",
       "    .dataframe tbody tr th:only-of-type {\n",
       "        vertical-align: middle;\n",
       "    }\n",
       "\n",
       "    .dataframe tbody tr th {\n",
       "        vertical-align: top;\n",
       "    }\n",
       "\n",
       "    .dataframe thead th {\n",
       "        text-align: right;\n",
       "    }\n",
       "</style>\n",
       "<table border=\"1\" class=\"dataframe\">\n",
       "  <thead>\n",
       "    <tr style=\"text-align: right;\">\n",
       "      <th></th>\n",
       "      <th>user_id</th>\n",
       "      <th>age</th>\n",
       "    </tr>\n",
       "  </thead>\n",
       "  <tbody>\n",
       "    <tr>\n",
       "      <th>count</th>\n",
       "      <td>500.000000</td>\n",
       "      <td>500.00000</td>\n",
       "    </tr>\n",
       "    <tr>\n",
       "      <th>mean</th>\n",
       "      <td>1249.500000</td>\n",
       "      <td>46.58800</td>\n",
       "    </tr>\n",
       "    <tr>\n",
       "      <th>std</th>\n",
       "      <td>144.481833</td>\n",
       "      <td>16.66763</td>\n",
       "    </tr>\n",
       "    <tr>\n",
       "      <th>min</th>\n",
       "      <td>1000.000000</td>\n",
       "      <td>18.00000</td>\n",
       "    </tr>\n",
       "    <tr>\n",
       "      <th>25%</th>\n",
       "      <td>1124.750000</td>\n",
       "      <td>32.00000</td>\n",
       "    </tr>\n",
       "    <tr>\n",
       "      <th>50%</th>\n",
       "      <td>1249.500000</td>\n",
       "      <td>46.00000</td>\n",
       "    </tr>\n",
       "    <tr>\n",
       "      <th>75%</th>\n",
       "      <td>1374.250000</td>\n",
       "      <td>62.00000</td>\n",
       "    </tr>\n",
       "    <tr>\n",
       "      <th>max</th>\n",
       "      <td>1499.000000</td>\n",
       "      <td>75.00000</td>\n",
       "    </tr>\n",
       "  </tbody>\n",
       "</table>\n",
       "</div>"
      ],
      "text/plain": [
       "           user_id        age\n",
       "count   500.000000  500.00000\n",
       "mean   1249.500000   46.58800\n",
       "std     144.481833   16.66763\n",
       "min    1000.000000   18.00000\n",
       "25%    1124.750000   32.00000\n",
       "50%    1249.500000   46.00000\n",
       "75%    1374.250000   62.00000\n",
       "max    1499.000000   75.00000"
      ]
     },
     "metadata": {},
     "output_type": "display_data"
    },
    {
     "data": {
      "text/plain": [
       "array(['ultra', 'smart'], dtype=object)"
      ]
     },
     "execution_count": 5,
     "metadata": {},
     "output_type": "execute_result"
    }
   ],
   "source": [
    "#Данные кажутся полными и не вызывают вопросов на этом этапе\n",
    "display(users.describe())\n",
    "users['user_id'].nunique()\n",
    "users['city'].unique()\n",
    "users['tariff'].unique()"
   ]
  },
  {
   "cell_type": "code",
   "execution_count": 6,
   "metadata": {},
   "outputs": [
    {
     "name": "stdout",
     "output_type": "stream",
     "text": [
      "       messages_included  mb_per_month_included  minutes_included  \\\n",
      "count           2.000000               2.000000          2.000000   \n",
      "mean          525.000000           23040.000000       1750.000000   \n",
      "std           671.751442           10861.160159       1767.766953   \n",
      "min            50.000000           15360.000000        500.000000   \n",
      "25%           287.500000           19200.000000       1125.000000   \n",
      "50%           525.000000           23040.000000       1750.000000   \n",
      "75%           762.500000           26880.000000       2375.000000   \n",
      "max          1000.000000           30720.000000       3000.000000   \n",
      "\n",
      "       rub_monthly_fee  rub_per_gb  rub_per_message  rub_per_minute  \n",
      "count         2.000000    2.000000         2.000000        2.000000  \n",
      "mean       1250.000000  175.000000         2.000000        2.000000  \n",
      "std         989.949494   35.355339         1.414214        1.414214  \n",
      "min         550.000000  150.000000         1.000000        1.000000  \n",
      "25%         900.000000  162.500000         1.500000        1.500000  \n",
      "50%        1250.000000  175.000000         2.000000        2.000000  \n",
      "75%        1600.000000  187.500000         2.500000        2.500000  \n",
      "max        1950.000000  200.000000         3.000000        3.000000  \n"
     ]
    }
   ],
   "source": [
    "print(tariffs.describe())"
   ]
  },
  {
   "cell_type": "code",
   "execution_count": 7,
   "metadata": {},
   "outputs": [
    {
     "name": "stdout",
     "output_type": "stream",
     "text": [
      "             user_id\n",
      "count  123036.000000\n",
      "mean     1256.989410\n",
      "std       143.523967\n",
      "min      1000.000000\n",
      "25%      1134.000000\n",
      "50%      1271.000000\n",
      "75%      1381.000000\n",
      "max      1499.000000\n"
     ]
    },
    {
     "data": {
      "text/plain": [
       "426"
      ]
     },
     "execution_count": 7,
     "metadata": {},
     "output_type": "execute_result"
    }
   ],
   "source": [
    "#Не все пользователи отправляли смс\n",
    "print(sms.describe())\n",
    "sms['user_id'].nunique()"
   ]
  },
  {
   "cell_type": "code",
   "execution_count": 8,
   "metadata": {},
   "outputs": [
    {
     "name": "stdout",
     "output_type": "stream",
     "text": [
      "             mb_used        user_id\n",
      "count  149396.000000  149396.000000\n",
      "mean      370.192426    1252.099842\n",
      "std       278.300951     144.050823\n",
      "min         0.000000    1000.000000\n",
      "25%       138.187500    1130.000000\n",
      "50%       348.015000    1251.000000\n",
      "75%       559.552500    1380.000000\n",
      "max      1724.830000    1499.000000\n"
     ]
    },
    {
     "data": {
      "text/plain": [
       "497"
      ]
     },
     "execution_count": 8,
     "metadata": {},
     "output_type": "execute_result"
    }
   ],
   "source": [
    "#Почти все пользователи использовали интернет\n",
    "inet = inet.drop('Unnamed: 0',axis= 1)\n",
    "print(inet.describe())\n",
    "inet['user_id'].nunique()"
   ]
  },
  {
   "cell_type": "code",
   "execution_count": 9,
   "metadata": {},
   "outputs": [
    {
     "name": "stdout",
     "output_type": "stream",
     "text": [
      "            duration        user_id\n",
      "count  202607.000000  202607.000000\n",
      "mean        7.158198    1253.940619\n",
      "std         5.959173     144.722751\n",
      "min         0.000000    1000.000000\n",
      "25%         2.000000    1126.000000\n",
      "50%         6.000000    1260.000000\n",
      "75%        11.000000    1379.000000\n",
      "max        38.000000    1499.000000\n"
     ]
    },
    {
     "data": {
      "text/plain": [
       "492"
      ]
     },
     "execution_count": 9,
     "metadata": {},
     "output_type": "execute_result"
    }
   ],
   "source": [
    "#Почти все пользователи совершали звонки\n",
    "print(calls.describe())\n",
    "calls['user_id'].nunique()"
   ]
  },
  {
   "cell_type": "markdown",
   "metadata": {},
   "source": [
    "## Расчеты и добавление результатов в таблицу\n",
    "\n",
    "Задача - вычислить для каждого пользователя:\n",
    "- количество сделанных звонков и израсходованных минут разговора по месяцам;\n",
    "- количество отправленных сообщений по месяцам;\n",
    "- объем израсходованного интернет-трафика по месяцам;\n",
    "- помесячную выручку с каждого пользователя (вычтите бесплатный лимит из суммарного количества звонков, сообщений и интернет-трафика; остаток умножьте на значение из тарифного плана; прибавьте абонентскую плату, соответствующую тарифному плану)."
   ]
  },
  {
   "cell_type": "markdown",
   "metadata": {},
   "source": [
    "Используем единый подход для расчета экстра-дохода тарифов для каждого пользователя помесячно:\n",
    "- В исходных данных создадим столбец с месяцем события (звонок/ интернет/ смс)\n",
    "- Свернем данные в сводную таблицу, вычислив для каждого пользователя помесячно общую продолжительность звонков, количества смс и объемов интернет-трафика\n",
    "- По id пользователя присоединим название тарифа\n",
    "- По названию тарифа присоединим лимит по звонкам/ сообщениям и интернету\n",
    "- Создадим отдельную таблицу для подсчета дохода.\n",
    "- В цикле вычтем из потраченных минут, смс и трафика доступный лимит. Если лимит не превышен, обнулим значения - они не несут доход.\n",
    "- Умножим вычисленные экстра-минуты, интернет-трафик и смс на их стоимость."
   ]
  },
  {
   "cell_type": "code",
   "execution_count": 10,
   "metadata": {},
   "outputs": [],
   "source": [
    "dt = users.copy()\n",
    "dt = dt.rename(columns={'tariff': 'tariff_name'})"
   ]
  },
  {
   "cell_type": "code",
   "execution_count": 11,
   "metadata": {},
   "outputs": [
    {
     "name": "stdout",
     "output_type": "stream",
     "text": [
      "(3214, 3)\n"
     ]
    }
   ],
   "source": [
    "calls['month'] = calls['call_date'].dt.month\n",
    "calls_users_by_month = calls.pivot_table(index = ['user_id', 'month'], values='duration',aggfunc= ['sum'])\n",
    "\n",
    "sms['month'] = sms['message_date'].dt.month\n",
    "sms_users_by_month = sms.pivot_table(index=['user_id', 'month'], values='id',aggfunc= ['count'])\n",
    "\n",
    "inet['month'] = inet['session_date'].dt.month\n",
    "inet_users_by_month = inet.pivot_table(index=['user_id', 'month'], values='mb_used',aggfunc=['sum'])\n",
    "\n",
    "services = calls_users_by_month.copy()\n",
    "services = services.merge(sms_users_by_month, on = ['user_id', 'month'], how = 'outer')\n",
    "services = services.merge(inet_users_by_month, on = ['user_id', 'month'], how = 'outer')\n",
    "print(services.shape)"
   ]
  },
  {
   "cell_type": "code",
   "execution_count": 12,
   "metadata": {},
   "outputs": [
    {
     "name": "stdout",
     "output_type": "stream",
     "text": [
      "(3214, 18)\n"
     ]
    },
    {
     "name": "stderr",
     "output_type": "stream",
     "text": [
      "/opt/conda/lib/python3.9/site-packages/pandas/core/reshape/merge.py:648: UserWarning: merging between different levels can give an unintended result (1 levels on the left,2 on the right)\n",
      "  warnings.warn(msg, UserWarning)\n"
     ]
    }
   ],
   "source": [
    "df = users.copy()\n",
    "df = df.rename(columns={'tariff': 'tariff_name'})\n",
    "df = df.merge(tariffs, on='tariff_name', how = 'left')\n",
    "df = df.merge(services, on='user_id', how = 'right')\n",
    "\n",
    "df = df.rename(columns={('sum', 'duration') : 'calls'})\n",
    "df = df.rename(columns={('count', 'id') : 'sms'})\n",
    "df = df.rename(columns={('sum', 'mb_used') : 'inet'})\n",
    "print(df.shape)"
   ]
  },
  {
   "cell_type": "code",
   "execution_count": 13,
   "metadata": {},
   "outputs": [
    {
     "data": {
      "text/html": [
       "<div>\n",
       "<style scoped>\n",
       "    .dataframe tbody tr th:only-of-type {\n",
       "        vertical-align: middle;\n",
       "    }\n",
       "\n",
       "    .dataframe tbody tr th {\n",
       "        vertical-align: top;\n",
       "    }\n",
       "\n",
       "    .dataframe thead th {\n",
       "        text-align: right;\n",
       "    }\n",
       "</style>\n",
       "<table border=\"1\" class=\"dataframe\">\n",
       "  <thead>\n",
       "    <tr style=\"text-align: right;\">\n",
       "      <th></th>\n",
       "      <th>user_id</th>\n",
       "      <th>age</th>\n",
       "      <th>churn_date</th>\n",
       "      <th>city</th>\n",
       "      <th>first_name</th>\n",
       "      <th>last_name</th>\n",
       "      <th>reg_date</th>\n",
       "      <th>tariff_name</th>\n",
       "      <th>messages_included</th>\n",
       "      <th>mb_per_month_included</th>\n",
       "      <th>minutes_included</th>\n",
       "      <th>rub_monthly_fee</th>\n",
       "      <th>rub_per_gb</th>\n",
       "      <th>rub_per_message</th>\n",
       "      <th>rub_per_minute</th>\n",
       "      <th>calls</th>\n",
       "      <th>sms</th>\n",
       "      <th>inet</th>\n",
       "      <th>revenue</th>\n",
       "    </tr>\n",
       "  </thead>\n",
       "  <tbody>\n",
       "    <tr>\n",
       "      <th>3204</th>\n",
       "      <td>1473</td>\n",
       "      <td>18</td>\n",
       "      <td>NaN</td>\n",
       "      <td>Красноярск</td>\n",
       "      <td>Николай</td>\n",
       "      <td>Лебедев</td>\n",
       "      <td>2018-08-05</td>\n",
       "      <td>ultra</td>\n",
       "      <td>1000</td>\n",
       "      <td>30720</td>\n",
       "      <td>3000</td>\n",
       "      <td>1950</td>\n",
       "      <td>150</td>\n",
       "      <td>1</td>\n",
       "      <td>1</td>\n",
       "      <td>NaN</td>\n",
       "      <td>19.0</td>\n",
       "      <td>17289.85</td>\n",
       "      <td>1950.0</td>\n",
       "    </tr>\n",
       "    <tr>\n",
       "      <th>3205</th>\n",
       "      <td>1473</td>\n",
       "      <td>18</td>\n",
       "      <td>NaN</td>\n",
       "      <td>Красноярск</td>\n",
       "      <td>Николай</td>\n",
       "      <td>Лебедев</td>\n",
       "      <td>2018-08-05</td>\n",
       "      <td>ultra</td>\n",
       "      <td>1000</td>\n",
       "      <td>30720</td>\n",
       "      <td>3000</td>\n",
       "      <td>1950</td>\n",
       "      <td>150</td>\n",
       "      <td>1</td>\n",
       "      <td>1</td>\n",
       "      <td>NaN</td>\n",
       "      <td>20.0</td>\n",
       "      <td>13688.65</td>\n",
       "      <td>1950.0</td>\n",
       "    </tr>\n",
       "    <tr>\n",
       "      <th>3206</th>\n",
       "      <td>1473</td>\n",
       "      <td>18</td>\n",
       "      <td>NaN</td>\n",
       "      <td>Красноярск</td>\n",
       "      <td>Николай</td>\n",
       "      <td>Лебедев</td>\n",
       "      <td>2018-08-05</td>\n",
       "      <td>ultra</td>\n",
       "      <td>1000</td>\n",
       "      <td>30720</td>\n",
       "      <td>3000</td>\n",
       "      <td>1950</td>\n",
       "      <td>150</td>\n",
       "      <td>1</td>\n",
       "      <td>1</td>\n",
       "      <td>NaN</td>\n",
       "      <td>14.0</td>\n",
       "      <td>21673.80</td>\n",
       "      <td>1950.0</td>\n",
       "    </tr>\n",
       "    <tr>\n",
       "      <th>3207</th>\n",
       "      <td>1473</td>\n",
       "      <td>18</td>\n",
       "      <td>NaN</td>\n",
       "      <td>Красноярск</td>\n",
       "      <td>Николай</td>\n",
       "      <td>Лебедев</td>\n",
       "      <td>2018-08-05</td>\n",
       "      <td>ultra</td>\n",
       "      <td>1000</td>\n",
       "      <td>30720</td>\n",
       "      <td>3000</td>\n",
       "      <td>1950</td>\n",
       "      <td>150</td>\n",
       "      <td>1</td>\n",
       "      <td>1</td>\n",
       "      <td>NaN</td>\n",
       "      <td>20.0</td>\n",
       "      <td>18418.26</td>\n",
       "      <td>1950.0</td>\n",
       "    </tr>\n",
       "    <tr>\n",
       "      <th>3208</th>\n",
       "      <td>1489</td>\n",
       "      <td>35</td>\n",
       "      <td>NaN</td>\n",
       "      <td>Санкт-Петербург</td>\n",
       "      <td>Павел</td>\n",
       "      <td>Гончаров</td>\n",
       "      <td>2018-08-15</td>\n",
       "      <td>smart</td>\n",
       "      <td>50</td>\n",
       "      <td>15360</td>\n",
       "      <td>500</td>\n",
       "      <td>550</td>\n",
       "      <td>200</td>\n",
       "      <td>3</td>\n",
       "      <td>3</td>\n",
       "      <td>NaN</td>\n",
       "      <td>17.0</td>\n",
       "      <td>11050.56</td>\n",
       "      <td>550.0</td>\n",
       "    </tr>\n",
       "    <tr>\n",
       "      <th>3209</th>\n",
       "      <td>1489</td>\n",
       "      <td>35</td>\n",
       "      <td>NaN</td>\n",
       "      <td>Санкт-Петербург</td>\n",
       "      <td>Павел</td>\n",
       "      <td>Гончаров</td>\n",
       "      <td>2018-08-15</td>\n",
       "      <td>smart</td>\n",
       "      <td>50</td>\n",
       "      <td>15360</td>\n",
       "      <td>500</td>\n",
       "      <td>550</td>\n",
       "      <td>200</td>\n",
       "      <td>3</td>\n",
       "      <td>3</td>\n",
       "      <td>NaN</td>\n",
       "      <td>32.0</td>\n",
       "      <td>17206.30</td>\n",
       "      <td>950.0</td>\n",
       "    </tr>\n",
       "    <tr>\n",
       "      <th>3210</th>\n",
       "      <td>1489</td>\n",
       "      <td>35</td>\n",
       "      <td>NaN</td>\n",
       "      <td>Санкт-Петербург</td>\n",
       "      <td>Павел</td>\n",
       "      <td>Гончаров</td>\n",
       "      <td>2018-08-15</td>\n",
       "      <td>smart</td>\n",
       "      <td>50</td>\n",
       "      <td>15360</td>\n",
       "      <td>500</td>\n",
       "      <td>550</td>\n",
       "      <td>200</td>\n",
       "      <td>3</td>\n",
       "      <td>3</td>\n",
       "      <td>NaN</td>\n",
       "      <td>21.0</td>\n",
       "      <td>19559.44</td>\n",
       "      <td>1550.0</td>\n",
       "    </tr>\n",
       "    <tr>\n",
       "      <th>3211</th>\n",
       "      <td>1489</td>\n",
       "      <td>35</td>\n",
       "      <td>NaN</td>\n",
       "      <td>Санкт-Петербург</td>\n",
       "      <td>Павел</td>\n",
       "      <td>Гончаров</td>\n",
       "      <td>2018-08-15</td>\n",
       "      <td>smart</td>\n",
       "      <td>50</td>\n",
       "      <td>15360</td>\n",
       "      <td>500</td>\n",
       "      <td>550</td>\n",
       "      <td>200</td>\n",
       "      <td>3</td>\n",
       "      <td>3</td>\n",
       "      <td>NaN</td>\n",
       "      <td>20.0</td>\n",
       "      <td>17491.56</td>\n",
       "      <td>1150.0</td>\n",
       "    </tr>\n",
       "    <tr>\n",
       "      <th>3212</th>\n",
       "      <td>1489</td>\n",
       "      <td>35</td>\n",
       "      <td>NaN</td>\n",
       "      <td>Санкт-Петербург</td>\n",
       "      <td>Павел</td>\n",
       "      <td>Гончаров</td>\n",
       "      <td>2018-08-15</td>\n",
       "      <td>smart</td>\n",
       "      <td>50</td>\n",
       "      <td>15360</td>\n",
       "      <td>500</td>\n",
       "      <td>550</td>\n",
       "      <td>200</td>\n",
       "      <td>3</td>\n",
       "      <td>3</td>\n",
       "      <td>NaN</td>\n",
       "      <td>35.0</td>\n",
       "      <td>17322.51</td>\n",
       "      <td>950.0</td>\n",
       "    </tr>\n",
       "    <tr>\n",
       "      <th>3213</th>\n",
       "      <td>1476</td>\n",
       "      <td>50</td>\n",
       "      <td>NaN</td>\n",
       "      <td>Москва</td>\n",
       "      <td>Валентина</td>\n",
       "      <td>Семенова</td>\n",
       "      <td>2018-04-30</td>\n",
       "      <td>ultra</td>\n",
       "      <td>1000</td>\n",
       "      <td>30720</td>\n",
       "      <td>3000</td>\n",
       "      <td>1950</td>\n",
       "      <td>150</td>\n",
       "      <td>1</td>\n",
       "      <td>1</td>\n",
       "      <td>NaN</td>\n",
       "      <td>NaN</td>\n",
       "      <td>530.78</td>\n",
       "      <td>1950.0</td>\n",
       "    </tr>\n",
       "  </tbody>\n",
       "</table>\n",
       "</div>"
      ],
      "text/plain": [
       "      user_id  age churn_date             city first_name last_name  \\\n",
       "3204     1473   18        NaN       Красноярск    Николай   Лебедев   \n",
       "3205     1473   18        NaN       Красноярск    Николай   Лебедев   \n",
       "3206     1473   18        NaN       Красноярск    Николай   Лебедев   \n",
       "3207     1473   18        NaN       Красноярск    Николай   Лебедев   \n",
       "3208     1489   35        NaN  Санкт-Петербург      Павел  Гончаров   \n",
       "3209     1489   35        NaN  Санкт-Петербург      Павел  Гончаров   \n",
       "3210     1489   35        NaN  Санкт-Петербург      Павел  Гончаров   \n",
       "3211     1489   35        NaN  Санкт-Петербург      Павел  Гончаров   \n",
       "3212     1489   35        NaN  Санкт-Петербург      Павел  Гончаров   \n",
       "3213     1476   50        NaN           Москва  Валентина  Семенова   \n",
       "\n",
       "       reg_date tariff_name  messages_included  mb_per_month_included  \\\n",
       "3204 2018-08-05       ultra               1000                  30720   \n",
       "3205 2018-08-05       ultra               1000                  30720   \n",
       "3206 2018-08-05       ultra               1000                  30720   \n",
       "3207 2018-08-05       ultra               1000                  30720   \n",
       "3208 2018-08-15       smart                 50                  15360   \n",
       "3209 2018-08-15       smart                 50                  15360   \n",
       "3210 2018-08-15       smart                 50                  15360   \n",
       "3211 2018-08-15       smart                 50                  15360   \n",
       "3212 2018-08-15       smart                 50                  15360   \n",
       "3213 2018-04-30       ultra               1000                  30720   \n",
       "\n",
       "      minutes_included  rub_monthly_fee  rub_per_gb  rub_per_message  \\\n",
       "3204              3000             1950         150                1   \n",
       "3205              3000             1950         150                1   \n",
       "3206              3000             1950         150                1   \n",
       "3207              3000             1950         150                1   \n",
       "3208               500              550         200                3   \n",
       "3209               500              550         200                3   \n",
       "3210               500              550         200                3   \n",
       "3211               500              550         200                3   \n",
       "3212               500              550         200                3   \n",
       "3213              3000             1950         150                1   \n",
       "\n",
       "      rub_per_minute  calls   sms      inet  revenue  \n",
       "3204               1    NaN  19.0  17289.85   1950.0  \n",
       "3205               1    NaN  20.0  13688.65   1950.0  \n",
       "3206               1    NaN  14.0  21673.80   1950.0  \n",
       "3207               1    NaN  20.0  18418.26   1950.0  \n",
       "3208               3    NaN  17.0  11050.56    550.0  \n",
       "3209               3    NaN  32.0  17206.30    950.0  \n",
       "3210               3    NaN  21.0  19559.44   1550.0  \n",
       "3211               3    NaN  20.0  17491.56   1150.0  \n",
       "3212               3    NaN  35.0  17322.51    950.0  \n",
       "3213               1    NaN   NaN    530.78   1950.0  "
      ]
     },
     "metadata": {},
     "output_type": "display_data"
    }
   ],
   "source": [
    "df['revenue'] = df['rub_monthly_fee']\n",
    "\n",
    "\n",
    "def revenue(df):\n",
    "    if df['calls']>df['minutes_included']:\n",
    "        df['revenue'] += (df['calls']-df['minutes_included'])*df['rub_per_minute']\n",
    "    if df['inet']>df['mb_per_month_included']:\n",
    "        df['revenue'] += np.ceil((df['inet']-df['mb_per_month_included'])/1024)*df['rub_per_gb']\n",
    "    if df['sms']>df['messages_included']:\n",
    "        df['revenue'] += (df['sms']-df['messages_included'])*df['rub_per_message']\n",
    "    return df['revenue']\n",
    "\n",
    "\n",
    "df['revenue'] = df.apply(revenue, axis=1)\n",
    "display(df.tail(10))"
   ]
  },
  {
   "cell_type": "code",
   "execution_count": 14,
   "metadata": {},
   "outputs": [
    {
     "data": {
      "text/plain": [
       "0       1950.0\n",
       "1       1950.0\n",
       "2       1950.0\n",
       "3       1950.0\n",
       "4       1950.0\n",
       "         ...  \n",
       "3209     950.0\n",
       "3210    1550.0\n",
       "3211    1150.0\n",
       "3212     950.0\n",
       "3213    1950.0\n",
       "Name: revenue, Length: 3214, dtype: float64"
      ]
     },
     "execution_count": 14,
     "metadata": {},
     "output_type": "execute_result"
    }
   ],
   "source": [
    "df['revenue']"
   ]
  },
  {
   "cell_type": "markdown",
   "metadata": {},
   "source": [
    "## Анализ данных\n",
    "\n",
    "Задача - Описать поведение клиентов оператора, исходя из выборки. \n",
    "Сколько минут разговора, сколько сообщений и какой объём интернет-трафика требуется пользователям каждого тарифа в месяц? Посчитайте среднее количество, дисперсию и стандартное отклонение. Постройте гистограммы. Опишите распределения.\n"
   ]
  },
  {
   "cell_type": "code",
   "execution_count": 15,
   "metadata": {},
   "outputs": [
    {
     "data": {
      "image/png": "[encoded data removed]",
      "text/plain": [
       "<Figure size 432x288 with 1 Axes>"
      ]
     },
     "metadata": {
      "needs_background": "light"
     },
     "output_type": "display_data"
    }
   ],
   "source": [
    "ax = df.loc[df['tariff_name'] == 'ultra']['calls'].hist(bins = 30, alpha = 0.5, label = 'ultra')\n",
    "ax = df.loc[df['tariff_name'] == 'smart']['calls'].hist(bins = 30, alpha = 0.5, label = 'smart')\n",
    "ax.set_xlabel('Количество минут звонков в месяц, мин.')\n",
    "ax.set_ylabel('Количество пользователей, чел.')\n",
    "plt.title('Статистика минут разговора по тарифам')\n",
    "ax.legend();"
   ]
  },
  {
   "cell_type": "code",
   "execution_count": 16,
   "metadata": {},
   "outputs": [
    {
     "data": {
      "image/png": "[encoded data removed]",
      "text/plain": [
       "<Figure size 432x288 with 1 Axes>"
      ]
     },
     "metadata": {
      "needs_background": "light"
     },
     "output_type": "display_data"
    }
   ],
   "source": [
    "ax = df.loc[df['tariff_name'] == 'ultra']['sms'].hist(bins = 30, alpha = 0.5, label = 'ultra')\n",
    "ax = df.loc[df['tariff_name'] == 'smart']['sms'].hist(bins = 30, alpha = 0.5, label = 'smart')\n",
    "ax.set_xlabel('Количество sms в месяц, шт.')\n",
    "ax.set_ylabel('Количество пользователей, чел.')\n",
    "plt.title('Статистика сообщений по тарифам')\n",
    "ax.legend();"
   ]
  },
  {
   "cell_type": "code",
   "execution_count": 17,
   "metadata": {},
   "outputs": [
    {
     "data": {
      "image/png": "[encoded data removed]",
      "text/plain": [
       "<Figure size 432x288 with 1 Axes>"
      ]
     },
     "metadata": {
      "needs_background": "light"
     },
     "output_type": "display_data"
    }
   ],
   "source": [
    "ax = df.loc[df['tariff_name'] == 'ultra']['inet'].hist(bins = 30, alpha = 0.5, label = 'ultra')\n",
    "ax = df.loc[df['tariff_name'] == 'smart']['inet'].hist(bins = 30, alpha = 0.5, label = 'smart')\n",
    "ax.set_xlabel('Объем интернет-трафика в месяц, мб.')\n",
    "ax.set_ylabel('Количество пользователей, чел.')\n",
    "plt.title('Статистика объема интернет-трафика по тарифам')\n",
    "ax.legend();"
   ]
  },
  {
   "cell_type": "code",
   "execution_count": 18,
   "metadata": {},
   "outputs": [
    {
     "name": "stdout",
     "output_type": "stream",
     "text": [
      "Smart statistics:\n"
     ]
    },
    {
     "data": {
      "image/png": "[encoded data removed]",
      "text/plain": [
       "<Figure size 432x288 with 1 Axes>"
      ]
     },
     "metadata": {
      "needs_background": "light"
     },
     "output_type": "display_data"
    },
    {
     "data": {
      "text/plain": [
       "count    2223.000000\n",
       "mean      419.062978\n",
       "std       189.325618\n",
       "min         0.000000\n",
       "25%       285.000000\n",
       "50%       423.000000\n",
       "75%       545.500000\n",
       "max      1435.000000\n",
       "Name: calls, dtype: float64"
      ]
     },
     "metadata": {},
     "output_type": "display_data"
    },
    {
     "name": "stdout",
     "output_type": "stream",
     "text": [
      "Ultra statistics:\n"
     ]
    },
    {
     "data": {
      "image/png": "[encoded data removed]",
      "text/plain": [
       "<Figure size 432x288 with 1 Axes>"
      ]
     },
     "metadata": {
      "needs_background": "light"
     },
     "output_type": "display_data"
    },
    {
     "data": {
      "text/plain": [
       "count     951.000000\n",
       "mean      545.451104\n",
       "std       306.925754\n",
       "min         0.000000\n",
       "25%       310.000000\n",
       "50%       528.000000\n",
       "75%       756.500000\n",
       "max      1673.000000\n",
       "Name: calls, dtype: float64"
      ]
     },
     "metadata": {},
     "output_type": "display_data"
    },
    {
     "name": "stdout",
     "output_type": "stream",
     "text": [
      "Дисперсия звонков тарифа Smart:  35828.06530953033\n",
      "Дисперсия звонков тарифа Ultra:  94104.36117385984\n",
      "Стандартное отклонение звонков тарифа Smart:  189.2830296395594\n",
      "Стандартное отклонение звонков тарифа Ultra:  306.76434143143143\n",
      "Ср. количество минут разговора в месяц на тарифе Smart:  419.0629779577148\n",
      "Ср. количество минут разговора в месяц на тарифе Ultra:  545.4511041009464\n"
     ]
    }
   ],
   "source": [
    "print('Smart statistics:')\n",
    "df.loc[df['tariff_name'] == 'smart'].boxplot(column='calls') \n",
    "plt.show()\n",
    "display(df.loc[df['tariff_name'] == 'smart']['calls'].describe())\n",
    "\n",
    "print('Ultra statistics:')\n",
    "df.loc[df['tariff_name'] == 'ultra'].boxplot(column='calls') \n",
    "plt.show()\n",
    "display(df.loc[df['tariff_name'] == 'ultra']['calls'].describe())\n",
    "\n",
    "\n",
    "print('Дисперсия звонков тарифа Smart: ',np.var(df.loc[df['tariff_name'] == 'smart']['calls']))\n",
    "print('Дисперсия звонков тарифа Ultra: ',np.var(df.loc[df['tariff_name'] == 'ultra']['calls']))\n",
    "\n",
    "print('Стандартное отклонение звонков тарифа Smart: ',np.sqrt(np.var(df.loc[df['tariff_name'] == 'smart']['calls'])))\n",
    "print('Стандартное отклонение звонков тарифа Ultra: ',np.sqrt(np.var(df.loc[df['tariff_name'] == 'ultra']['calls'])))\n",
    "\n",
    "print('Ср. количество минут разговора в месяц на тарифе Smart: ',np.mean(df.loc[df['tariff_name'] == 'smart']['calls']))\n",
    "print('Ср. количество минут разговора в месяц на тарифе Ultra: ',np.mean(df.loc[df['tariff_name'] == 'ultra']['calls']))"
   ]
  },
  {
   "cell_type": "code",
   "execution_count": 19,
   "metadata": {},
   "outputs": [
    {
     "name": "stdout",
     "output_type": "stream",
     "text": [
      "Smart statistics:\n"
     ]
    },
    {
     "data": {
      "image/png": "[encoded data removed]",
      "text/plain": [
       "<Figure size 432x288 with 1 Axes>"
      ]
     },
     "metadata": {
      "needs_background": "light"
     },
     "output_type": "display_data"
    },
    {
     "data": {
      "text/plain": [
       "count    1922.000000\n",
       "mean       38.716441\n",
       "std        26.787949\n",
       "min         1.000000\n",
       "25%        17.000000\n",
       "50%        34.000000\n",
       "75%        55.000000\n",
       "max       143.000000\n",
       "Name: sms, dtype: float64"
      ]
     },
     "metadata": {},
     "output_type": "display_data"
    },
    {
     "name": "stdout",
     "output_type": "stream",
     "text": [
      "Ultra statistics:\n"
     ]
    },
    {
     "data": {
      "image/png": "[encoded data removed]",
      "text/plain": [
       "<Figure size 432x288 with 1 Axes>"
      ]
     },
     "metadata": {
      "needs_background": "light"
     },
     "output_type": "display_data"
    },
    {
     "data": {
      "text/plain": [
       "count    795.000000\n",
       "mean      61.161006\n",
       "std       45.931026\n",
       "min        1.000000\n",
       "25%       24.000000\n",
       "50%       51.000000\n",
       "75%       87.500000\n",
       "max      224.000000\n",
       "Name: sms, dtype: float64"
      ]
     },
     "metadata": {},
     "output_type": "display_data"
    },
    {
     "name": "stdout",
     "output_type": "stream",
     "text": [
      "Дисперсия sms тарифа Smart:  717.220843110227\n",
      "Дисперсия sms тарифа Ultra:  2107.0055235156838\n",
      "Стандартное отклонение sms тарифа Smart:  26.780979129042816\n",
      "Стандартное отклонение sms тарифа Ultra:  45.90212983637779\n",
      "Ср. количество sms в месяц на тарифе Smart:  38.71644120707596\n",
      "Ср. количество sms в месяц на тарифе Ultra:  61.161006289308176\n"
     ]
    }
   ],
   "source": [
    "print('Smart statistics:')\n",
    "df.loc[df['tariff_name'] == 'smart'].boxplot(column='sms') \n",
    "plt.show()\n",
    "display(df.loc[df['tariff_name'] == 'smart']['sms'].describe())\n",
    "\n",
    "print('Ultra statistics:')\n",
    "df.loc[df['tariff_name'] == 'ultra'].boxplot(column='sms') \n",
    "plt.show()\n",
    "display(df.loc[df['tariff_name'] == 'ultra']['sms'].describe())\n",
    "\n",
    "print('Дисперсия sms тарифа Smart: ',np.var(df.loc[df['tariff_name'] == 'smart']['sms']))\n",
    "print('Дисперсия sms тарифа Ultra: ',np.var(df.loc[df['tariff_name'] == 'ultra']['sms']))\n",
    "\n",
    "print('Стандартное отклонение sms тарифа Smart: ',np.sqrt(np.var(df.loc[df['tariff_name'] == 'smart']['sms'])))\n",
    "print('Стандартное отклонение sms тарифа Ultra: ',np.sqrt(np.var(df.loc[df['tariff_name'] == 'ultra']['sms'])))\n",
    "\n",
    "print('Ср. количество sms в месяц на тарифе Smart: ',np.mean(df.loc[df['tariff_name'] == 'smart']['sms']))\n",
    "print('Ср. количество sms в месяц на тарифе Ultra: ',np.mean(df.loc[df['tariff_name'] == 'ultra']['sms']))"
   ]
  },
  {
   "cell_type": "code",
   "execution_count": 20,
   "metadata": {},
   "outputs": [
    {
     "name": "stdout",
     "output_type": "stream",
     "text": [
      "Smart statistics:\n"
     ]
    },
    {
     "data": {
      "image/png": "[encoded data removed]",
      "text/plain": [
       "<Figure size 432x288 with 1 Axes>"
      ]
     },
     "metadata": {
      "needs_background": "light"
     },
     "output_type": "display_data"
    },
    {
     "data": {
      "text/plain": [
       "count     2228.000000\n",
       "mean     16215.661849\n",
       "std       5861.736234\n",
       "min          0.000000\n",
       "25%      12649.272500\n",
       "50%      16507.740000\n",
       "75%      20043.792500\n",
       "max      38552.450000\n",
       "Name: inet, dtype: float64"
      ]
     },
     "metadata": {},
     "output_type": "display_data"
    },
    {
     "name": "stdout",
     "output_type": "stream",
     "text": [
      "Ultra statistics:\n"
     ]
    },
    {
     "data": {
      "image/png": "[encoded data removed]",
      "text/plain": [
       "<Figure size 432x288 with 1 Axes>"
      ]
     },
     "metadata": {
      "needs_background": "light"
     },
     "output_type": "display_data"
    },
    {
     "data": {
      "text/plain": [
       "count      975.000000\n",
       "mean     19668.485262\n",
       "std       9943.050284\n",
       "min          0.000000\n",
       "25%      12008.305000\n",
       "50%      19394.290000\n",
       "75%      26896.550000\n",
       "max      49745.690000\n",
       "Name: inet, dtype: float64"
      ]
     },
     "metadata": {},
     "output_type": "display_data"
    },
    {
     "name": "stdout",
     "output_type": "stream",
     "text": [
      "Дисперсия объема интернет-трафика тарифа Smart:  34344529.80091768\n",
      "Дисперсия объема интернет-трафика тарифа Ultra:  98762849.72293654\n",
      "Стандартное отклонение объема интернет-трафика тарифа Smart:  5860.420616382213\n",
      "Стандартное отклонение объема интернет-трафика тарифа Ultra:  9937.949975872114\n",
      "Ср. объем интернет-трафика в месяц на тарифе Smart:  15.835607274601662\n",
      "Ср. объем интернет-трафика в месяц на тарифе Ultra:  19.20750513822115\n"
     ]
    }
   ],
   "source": [
    "print('Smart statistics:')\n",
    "df.loc[df['tariff_name'] == 'smart'].boxplot(column='inet') \n",
    "plt.show()\n",
    "display(df.loc[df['tariff_name'] == 'smart']['inet'].describe())\n",
    "\n",
    "print('Ultra statistics:')\n",
    "df.loc[df['tariff_name'] == 'ultra'].boxplot(column='inet') \n",
    "plt.show()\n",
    "display(df.loc[df['tariff_name'] == 'ultra']['inet'].describe())\n",
    "\n",
    "print('Дисперсия объема интернет-трафика тарифа Smart: ',np.var(df.loc[df['tariff_name'] == 'smart']['inet']))\n",
    "print('Дисперсия объема интернет-трафика тарифа Ultra: ',np.var(df.loc[df['tariff_name'] == 'ultra']['inet']))\n",
    "\n",
    "print('Стандартное отклонение объема интернет-трафика тарифа Smart: ',np.sqrt(np.var(df.loc[df['tariff_name'] == 'smart']['inet'])))\n",
    "print('Стандартное отклонение объема интернет-трафика тарифа Ultra: ',np.sqrt(np.var(df.loc[df['tariff_name'] == 'ultra']['inet'])))\n",
    "\n",
    "print('Ср. объем интернет-трафика в месяц на тарифе Smart: ',np.mean(df.loc[df['tariff_name'] == 'smart']['inet'])/1024)\n",
    "print('Ср. объем интернет-трафика в месяц на тарифе Ultra: ',np.mean(df.loc[df['tariff_name'] == 'ultra']['inet'])/1024)"
   ]
  },
  {
   "cell_type": "markdown",
   "metadata": {},
   "source": [
    "### Выводы:\n",
    "- Распределение потребления услуг смарт-клиентами похоже на пуассоновское, чего нельзя сказать о клиентах тарифа ультра\n",
    "- Средние значения потребления по тарифу смарт и ультра:\n",
    "    - Интернет-трафик: 16 гб vs 19 гб (+19%)\n",
    "    - Количество сообщений: 39 vs 61 (+56%)\n",
    "    - Количество минут разговора: 419 vs 545 (+30%)\n",
    "- Аналогично, медианные значения по тарифу смарт и ультра:\n",
    "    - Интернет-трафик: 16 гб vs 19 гб (+19%)\n",
    "    - Количество сообщений: 34 vs 51 (+50%)\n",
    "    - Количество минут разговора: 423 vs 528 (+25%)\n",
    "- В целом пользователей ультра-тарифа характеризует втрое бОльшая дисперсия по всем видам услуг по сравнению с аналогичным разбросом на смарт-тарифе. Соответственно, стандартные отклонения также больше на тарифе ультра в 1,6-1,7 раза."
   ]
  },
  {
   "cell_type": "markdown",
   "metadata": {},
   "source": [
    "## Проверка гипотез"
   ]
  },
  {
   "cell_type": "markdown",
   "metadata": {},
   "source": [
    "### Гипотеза 1:\n",
    "Средняя выручка пользователей тарифов «Ультра» и «Смарт» различаются"
   ]
  },
  {
   "cell_type": "markdown",
   "metadata": {},
   "source": [
    "Нулевая гипотеза: средняя выручка пользователей тарифа «Ультра» не равна средней выручке пользователей тарифа «Смарт»\n",
    "\n",
    "Альтернативная гипотеза: средняя выручка пользователей тарифа «Ультра» равна средней выручки пользователей тарифа «Смарт»"
   ]
  },
  {
   "cell_type": "code",
   "execution_count": 21,
   "metadata": {},
   "outputs": [
    {
     "data": {
      "text/html": [
       "<div>\n",
       "<style scoped>\n",
       "    .dataframe tbody tr th:only-of-type {\n",
       "        vertical-align: middle;\n",
       "    }\n",
       "\n",
       "    .dataframe tbody tr th {\n",
       "        vertical-align: top;\n",
       "    }\n",
       "\n",
       "    .dataframe thead th {\n",
       "        text-align: right;\n",
       "    }\n",
       "</style>\n",
       "<table border=\"1\" class=\"dataframe\">\n",
       "  <thead>\n",
       "    <tr style=\"text-align: right;\">\n",
       "      <th></th>\n",
       "      <th>revenue</th>\n",
       "    </tr>\n",
       "    <tr>\n",
       "      <th>tariff_name</th>\n",
       "      <th></th>\n",
       "    </tr>\n",
       "  </thead>\n",
       "  <tbody>\n",
       "    <tr>\n",
       "      <th>smart</th>\n",
       "      <td>1289.973531</td>\n",
       "    </tr>\n",
       "    <tr>\n",
       "      <th>ultra</th>\n",
       "      <td>2070.152284</td>\n",
       "    </tr>\n",
       "  </tbody>\n",
       "</table>\n",
       "</div>"
      ],
      "text/plain": [
       "                 revenue\n",
       "tariff_name             \n",
       "smart        1289.973531\n",
       "ultra        2070.152284"
      ]
     },
     "metadata": {},
     "output_type": "display_data"
    }
   ],
   "source": [
    "display(df.pivot_table(index = 'tariff_name',values = 'revenue',aggfunc = 'mean')) #спойлер"
   ]
  },
  {
   "cell_type": "code",
   "execution_count": 22,
   "metadata": {},
   "outputs": [
    {
     "name": "stdout",
     "output_type": "stream",
     "text": [
      "p-значение: 0.0\n",
      "Отвергаем нулевую гипотезу\n"
     ]
    }
   ],
   "source": [
    "# Проверим гипотезу двусторонним тестом \n",
    "#(нам неважно, больше или меньше значения средних доходностей в разрезе тарифов, поэтому тест двусторонний)\n",
    "\n",
    "alpha = .05 # критический уровень статистической значимости\n",
    "interested_value = df.loc[df['tariff_name'] == 'smart']['revenue'].mean() #среднее значение дохода пользователей тарифа Смарт\n",
    "revenue_ultra = df.loc[df['tariff_name']=='ultra']['revenue'] #срез доходов по другому тарифу\n",
    "\n",
    "results = st.ttest_1samp(\n",
    "    revenue_ultra, \n",
    "    interested_value)\n",
    "\n",
    "print('p-значение:', results.pvalue)\n",
    "\n",
    "if (results.pvalue < alpha):\n",
    "    print(\"Отвергаем нулевую гипотезу\")\n",
    "else:\n",
    "    print(\"Не получилось отвергнуть нулевую гипотезу\")\n"
   ]
  },
  {
   "cell_type": "markdown",
   "metadata": {},
   "source": [
    "### Гипотеза 2:\n",
    "Средняя выручка пользователей из Москвы отличается от выручки пользователей из других регионов."
   ]
  },
  {
   "cell_type": "markdown",
   "metadata": {},
   "source": [
    "Нулевая гипотеза: cредняя выручка пользователей из Москвы равна выручке пользователей из других регионов\n",
    "\n",
    "Альтернативная гипотеза: cредняя выручка пользователей из Москвы НЕ равна выручке пользователей из других регионов"
   ]
  },
  {
   "cell_type": "code",
   "execution_count": 23,
   "metadata": {},
   "outputs": [
    {
     "name": "stdout",
     "output_type": "stream",
     "text": [
      "p-значение: 0.1696376636320093\n",
      "Не получилось отвергнуть нулевую гипотезу\n"
     ]
    }
   ],
   "source": [
    "# Проверим гипотезу двусторонним тестом \n",
    "#(нам неважно, больше или меньше значения средних доходностей в разрезе регионов, поэтому тест двусторонний)\n",
    "\n",
    "alpha = .05 # критический уровень статистической значимости\n",
    "interested_value = df.loc[df['city']=='Москва']['revenue'].mean() #Среднее значение дохода пользователей Москвы\n",
    "revenue_regions = df.loc[df['city']!='Москва']['revenue'] #срез доходов по другим регионам\n",
    "\n",
    "results = st.ttest_1samp(\n",
    "    revenue_regions, \n",
    "    interested_value)\n",
    "\n",
    "print('p-значение:', results.pvalue)\n",
    "\n",
    "if (results.pvalue < alpha):\n",
    "    print(\"Отвергаем нулевую гипотезу\")\n",
    "else:\n",
    "    print(\"Не получилось отвергнуть нулевую гипотезу\")"
   ]
  },
  {
   "cell_type": "markdown",
   "metadata": {},
   "source": [
    "### Выводы: \n",
    "- средняя выручка пользователей тарифа «Ультра» не равна средней выручке пользователей тарифа «Смарт»\n",
    "- cредняя выручка пользователей из Москвы равна выручке пользователей из других регионов"
   ]
  },
  {
   "cell_type": "markdown",
   "metadata": {},
   "source": [
    " ## Дополнительный анализ по выручке\n",
    " \n",
    " Проведем небольшой анализ выручки от клиентов в разрезе тарифов"
   ]
  },
  {
   "cell_type": "code",
   "execution_count": 24,
   "metadata": {},
   "outputs": [
    {
     "data": {
      "image/png": "[encoded data removed]",
      "text/plain": [
       "<Figure size 432x288 with 1 Axes>"
      ]
     },
     "metadata": {
      "needs_background": "light"
     },
     "output_type": "display_data"
    }
   ],
   "source": [
    "ax = df.loc[df['tariff_name'] == 'ultra']['revenue'].hist(bins = 30, alpha = 0.5, label = 'ultra')\n",
    "ax = df.loc[df['tariff_name'] == 'smart']['revenue'].hist(bins = 30, alpha = 0.5, label = 'smart')\n",
    "ax.set_xlabel('Выручка за месяц, руб.')\n",
    "ax.set_ylabel('Количество пользователей, чел.')\n",
    "plt.title('Статистика объема выручки по тарифам')\n",
    "ax.legend();"
   ]
  },
  {
   "cell_type": "code",
   "execution_count": 25,
   "metadata": {},
   "outputs": [
    {
     "name": "stdout",
     "output_type": "stream",
     "text": [
      "Smart statistics:\n"
     ]
    },
    {
     "data": {
      "image/png": "[encoded data removed]",
      "text/plain": [
       "<Figure size 432x288 with 1 Axes>"
      ]
     },
     "metadata": {
      "needs_background": "light"
     },
     "output_type": "display_data"
    },
    {
     "data": {
      "text/plain": [
       "count    2229.000000\n",
       "mean     1289.973531\n",
       "std       818.404367\n",
       "min       550.000000\n",
       "25%       550.000000\n",
       "50%      1023.000000\n",
       "75%      1750.000000\n",
       "max      6770.000000\n",
       "Name: revenue, dtype: float64"
      ]
     },
     "metadata": {},
     "output_type": "display_data"
    },
    {
     "name": "stdout",
     "output_type": "stream",
     "text": [
      "Ultra statistics:\n"
     ]
    },
    {
     "data": {
      "image/png": "[encoded data removed]",
      "text/plain": [
       "<Figure size 432x288 with 1 Axes>"
      ]
     },
     "metadata": {
      "needs_background": "light"
     },
     "output_type": "display_data"
    },
    {
     "data": {
      "text/plain": [
       "count     985.000000\n",
       "mean     2070.152284\n",
       "std       376.187114\n",
       "min      1950.000000\n",
       "25%      1950.000000\n",
       "50%      1950.000000\n",
       "75%      1950.000000\n",
       "max      4800.000000\n",
       "Name: revenue, dtype: float64"
      ]
     },
     "metadata": {},
     "output_type": "display_data"
    },
    {
     "name": "stdout",
     "output_type": "stream",
     "text": [
      "Дисперсия выручки тарифа Smart:  669485.2209234245\n",
      "Дисперсия выручки тарифа Ultra:  141373.07325620347\n",
      "Стандартное отклонение выручки тарифа Smart:  818.2207653949051\n",
      "Стандартное отклонение выручки тарифа Ultra:  375.9961080333192\n",
      "Ср. выручка в месяц на тарифе Smart:  1289.9735307312696\n",
      "Ср. выручка в месяц на тарифе Ultra:  2070.1522842639592\n"
     ]
    }
   ],
   "source": [
    "print('Smart statistics:')\n",
    "df.loc[df['tariff_name'] == 'smart'].boxplot(column='revenue') \n",
    "plt.show()\n",
    "display(df.loc[df['tariff_name'] == 'smart']['revenue'].describe())\n",
    "\n",
    "print('Ultra statistics:')\n",
    "df.loc[df['tariff_name'] == 'ultra'].boxplot(column='revenue')\n",
    "plt.show()\n",
    "display(df.loc[df['tariff_name'] == 'ultra']['revenue'].describe())\n",
    "\n",
    "print('Дисперсия выручки тарифа Smart: ',np.var(df.loc[df['tariff_name'] == 'smart']['revenue']))\n",
    "print('Дисперсия выручки тарифа Ultra: ',np.var(df.loc[df['tariff_name'] == 'ultra']['revenue']))\n",
    "\n",
    "print('Стандартное отклонение выручки тарифа Smart: ',np.sqrt(np.var(df.loc[df['tariff_name'] == 'smart']['revenue'])))\n",
    "print('Стандартное отклонение выручки тарифа Ultra: ',np.sqrt(np.var(df.loc[df['tariff_name'] == 'ultra']['revenue'])))\n",
    "\n",
    "print('Ср. выручка в месяц на тарифе Smart: ',np.mean(df.loc[df['tariff_name'] == 'smart']['revenue']))\n",
    "print('Ср. выручка в месяц на тарифе Ultra: ',np.mean(df.loc[df['tariff_name'] == 'ultra']['revenue']))"
   ]
  },
  {
   "cell_type": "markdown",
   "metadata": {},
   "source": [
    "### Выводы\n",
    "- Большинство пользователей тарифа ultra вписываются в лимиты и платят только ежемесячную комиссию\n",
    "- Средний доход от ultra-клиента составляет 2070 руб, от smart-клиента - 1289 руб - на 61% меньше\n",
    "- Разброс значений выручки smart клиента больше, чем у ultra: стандартное отклонение вдвое больше\n"
   ]
  },
  {
   "cell_type": "markdown",
   "metadata": {},
   "source": [
    " ## Общий вывод\n",
    "\n",
    "- На основании данной выборки можно утверждать, что тариф ultra более выгоден, чем тариф smart.\n",
    "- При этом в разрезе регионов нет различий по доходности.\n",
    "- Пользователи ultra-тарифа, в среднем, платят 2070 руб, что в 1,6 раза больше smart-тарифа. \n",
    "- Большинство пользователей тарифа ultra вписываются в лимиты и платят только ежемесячную комиссию, что облегчает планирование объема доходов от сегмента.\n",
    "- С точки зрения потребления - пользователей ultra-тарифа характеризует втрое бОльший разброс значений по всем видам услуг.\n",
    "- Средние значения потребления по тарифу ultra в 1,2-1,6 раз больше smart:\n",
    "    - Интернет-трафик: 16 гб vs 19 гб (+19%)\n",
    "    - Количество сообщений: 39 vs 61 (+56%)\n",
    "    - Количество минут разговора: 419 vs 545 (+30%)"
   ]
  }
 ],
 "metadata": {
  "ExecuteTimeLog": [
   {
    "duration": 40,
    "start_time": "2022-06-06T19:42:40.692Z"
   },
   {
    "duration": 890,
    "start_time": "2022-06-06T19:45:32.499Z"
   },
   {
    "duration": 3,
    "start_time": "2022-06-06T19:45:58.351Z"
   },
   {
    "duration": 617,
    "start_time": "2022-06-06T19:49:08.816Z"
   },
   {
    "duration": 522,
    "start_time": "2022-06-06T19:49:15.890Z"
   },
   {
    "duration": 218,
    "start_time": "2022-06-06T19:49:35.042Z"
   },
   {
    "duration": 831,
    "start_time": "2022-06-06T19:54:23.440Z"
   },
   {
    "duration": 525,
    "start_time": "2022-06-06T19:55:08.776Z"
   },
   {
    "duration": 524,
    "start_time": "2022-06-06T19:59:44.708Z"
   },
   {
    "duration": 569,
    "start_time": "2022-06-06T20:00:31.752Z"
   },
   {
    "duration": 21,
    "start_time": "2022-06-06T20:02:08.258Z"
   },
   {
    "duration": 16,
    "start_time": "2022-06-06T20:03:14.967Z"
   },
   {
    "duration": 15,
    "start_time": "2022-06-06T20:05:53.847Z"
   },
   {
    "duration": 15,
    "start_time": "2022-06-06T20:06:06.349Z"
   },
   {
    "duration": 32,
    "start_time": "2022-06-06T20:06:52.145Z"
   },
   {
    "duration": 23,
    "start_time": "2022-06-06T20:07:06.080Z"
   },
   {
    "duration": 16,
    "start_time": "2022-06-06T20:08:07.874Z"
   },
   {
    "duration": 16,
    "start_time": "2022-06-06T20:08:56.704Z"
   },
   {
    "duration": 32,
    "start_time": "2022-06-06T20:09:46.414Z"
   },
   {
    "duration": 30,
    "start_time": "2022-06-06T20:10:46.323Z"
   },
   {
    "duration": 33,
    "start_time": "2022-06-06T20:11:00.848Z"
   },
   {
    "duration": 30,
    "start_time": "2022-06-06T20:11:21.748Z"
   },
   {
    "duration": 973,
    "start_time": "2022-06-07T17:50:39.108Z"
   },
   {
    "duration": 1398,
    "start_time": "2022-06-07T17:50:40.083Z"
   },
   {
    "duration": 21,
    "start_time": "2022-06-07T17:50:41.483Z"
   },
   {
    "duration": 31,
    "start_time": "2022-06-07T17:50:41.507Z"
   },
   {
    "duration": 45,
    "start_time": "2022-06-07T17:50:41.540Z"
   },
   {
    "duration": 46,
    "start_time": "2022-06-07T17:50:41.587Z"
   },
   {
    "duration": 49,
    "start_time": "2022-06-07T17:50:41.636Z"
   },
   {
    "duration": 3,
    "start_time": "2022-06-07T17:50:41.687Z"
   },
   {
    "duration": 928,
    "start_time": "2022-06-07T17:57:19.663Z"
   },
   {
    "duration": 764,
    "start_time": "2022-06-07T17:57:20.593Z"
   },
   {
    "duration": 22,
    "start_time": "2022-06-07T17:57:21.359Z"
   },
   {
    "duration": 36,
    "start_time": "2022-06-07T17:57:21.384Z"
   },
   {
    "duration": 40,
    "start_time": "2022-06-07T17:57:21.423Z"
   },
   {
    "duration": 83,
    "start_time": "2022-06-07T17:57:21.465Z"
   },
   {
    "duration": 58,
    "start_time": "2022-06-07T17:57:21.550Z"
   },
   {
    "duration": 95,
    "start_time": "2022-06-07T17:57:21.611Z"
   },
   {
    "duration": 990,
    "start_time": "2022-06-07T18:31:57.348Z"
   },
   {
    "duration": 775,
    "start_time": "2022-06-07T18:31:58.343Z"
   },
   {
    "duration": 191,
    "start_time": "2022-06-07T18:31:59.121Z"
   },
   {
    "duration": 35,
    "start_time": "2022-06-07T18:31:59.314Z"
   },
   {
    "duration": 47,
    "start_time": "2022-06-07T18:31:59.352Z"
   },
   {
    "duration": 53,
    "start_time": "2022-06-07T18:31:59.401Z"
   },
   {
    "duration": 46,
    "start_time": "2022-06-07T18:31:59.462Z"
   },
   {
    "duration": 42,
    "start_time": "2022-06-07T18:31:59.510Z"
   },
   {
    "duration": 143,
    "start_time": "2022-06-07T18:31:59.554Z"
   },
   {
    "duration": 1129,
    "start_time": "2022-06-07T18:39:11.921Z"
   },
   {
    "duration": 823,
    "start_time": "2022-06-07T18:39:13.056Z"
   },
   {
    "duration": 316,
    "start_time": "2022-06-07T18:39:13.882Z"
   },
   {
    "duration": 49,
    "start_time": "2022-06-07T18:39:14.207Z"
   },
   {
    "duration": 124,
    "start_time": "2022-06-07T18:39:14.263Z"
   },
   {
    "duration": 113,
    "start_time": "2022-06-07T18:39:14.391Z"
   },
   {
    "duration": 159,
    "start_time": "2022-06-07T18:39:14.509Z"
   },
   {
    "duration": 100,
    "start_time": "2022-06-07T18:39:14.678Z"
   },
   {
    "duration": 150,
    "start_time": "2022-06-07T18:39:48.951Z"
   },
   {
    "duration": 10919,
    "start_time": "2022-06-07T18:40:02.244Z"
   },
   {
    "duration": 2141,
    "start_time": "2022-06-07T18:40:13.169Z"
   },
   {
    "duration": 228,
    "start_time": "2022-06-07T18:40:15.312Z"
   },
   {
    "duration": 44,
    "start_time": "2022-06-07T18:40:15.543Z"
   },
   {
    "duration": 30,
    "start_time": "2022-06-07T18:40:15.589Z"
   },
   {
    "duration": 26,
    "start_time": "2022-06-07T18:40:15.621Z"
   },
   {
    "duration": 45,
    "start_time": "2022-06-07T18:40:15.652Z"
   },
   {
    "duration": 36,
    "start_time": "2022-06-07T18:40:15.699Z"
   },
   {
    "duration": 4700,
    "start_time": "2022-06-07T18:40:41.093Z"
   },
   {
    "duration": 2264,
    "start_time": "2022-06-07T18:40:45.798Z"
   },
   {
    "duration": 275,
    "start_time": "2022-06-07T18:40:48.064Z"
   },
   {
    "duration": 37,
    "start_time": "2022-06-07T18:40:48.345Z"
   },
   {
    "duration": 173,
    "start_time": "2022-06-07T18:40:48.393Z"
   },
   {
    "duration": 171,
    "start_time": "2022-06-07T18:40:48.578Z"
   },
   {
    "duration": 144,
    "start_time": "2022-06-07T18:40:48.766Z"
   },
   {
    "duration": 156,
    "start_time": "2022-06-07T18:40:48.922Z"
   },
   {
    "duration": 1167,
    "start_time": "2022-06-07T18:41:43.441Z"
   },
   {
    "duration": 2391,
    "start_time": "2022-06-07T18:41:44.614Z"
   },
   {
    "duration": 216,
    "start_time": "2022-06-07T18:41:47.007Z"
   },
   {
    "duration": 43,
    "start_time": "2022-06-07T18:41:47.228Z"
   },
   {
    "duration": 84,
    "start_time": "2022-06-07T18:41:47.273Z"
   },
   {
    "duration": 93,
    "start_time": "2022-06-07T18:41:47.359Z"
   },
   {
    "duration": 92,
    "start_time": "2022-06-07T18:41:47.458Z"
   },
   {
    "duration": 39,
    "start_time": "2022-06-07T18:41:47.555Z"
   },
   {
    "duration": 181,
    "start_time": "2022-06-07T18:42:17.204Z"
   },
   {
    "duration": 986,
    "start_time": "2022-06-07T18:46:54.252Z"
   },
   {
    "duration": 1662,
    "start_time": "2022-06-07T18:46:55.240Z"
   },
   {
    "duration": 191,
    "start_time": "2022-06-07T18:46:56.904Z"
   },
   {
    "duration": 50,
    "start_time": "2022-06-07T18:46:57.098Z"
   },
   {
    "duration": 29,
    "start_time": "2022-06-07T18:46:57.158Z"
   },
   {
    "duration": 20,
    "start_time": "2022-06-07T18:46:57.189Z"
   },
   {
    "duration": 65,
    "start_time": "2022-06-07T18:46:57.210Z"
   },
   {
    "duration": 41,
    "start_time": "2022-06-07T18:46:57.277Z"
   },
   {
    "duration": 101,
    "start_time": "2022-06-07T18:46:57.319Z"
   },
   {
    "duration": 22,
    "start_time": "2022-06-07T18:55:10.668Z"
   },
   {
    "duration": 31,
    "start_time": "2022-06-07T18:55:20.694Z"
   },
   {
    "duration": 170,
    "start_time": "2022-06-07T18:58:04.667Z"
   },
   {
    "duration": 105,
    "start_time": "2022-06-07T18:58:12.003Z"
   },
   {
    "duration": 154,
    "start_time": "2022-06-07T18:59:12.922Z"
   },
   {
    "duration": 99,
    "start_time": "2022-06-07T18:59:29.263Z"
   },
   {
    "duration": 109,
    "start_time": "2022-06-07T19:01:03.352Z"
   },
   {
    "duration": 106,
    "start_time": "2022-06-07T19:03:41.992Z"
   },
   {
    "duration": 93,
    "start_time": "2022-06-07T19:05:45.146Z"
   },
   {
    "duration": 916,
    "start_time": "2022-06-07T20:08:47.167Z"
   },
   {
    "duration": 1608,
    "start_time": "2022-06-07T20:08:48.085Z"
   },
   {
    "duration": 203,
    "start_time": "2022-06-07T20:08:49.694Z"
   },
   {
    "duration": 43,
    "start_time": "2022-06-07T20:08:49.899Z"
   },
   {
    "duration": 44,
    "start_time": "2022-06-07T20:08:49.946Z"
   },
   {
    "duration": 71,
    "start_time": "2022-06-07T20:08:49.992Z"
   },
   {
    "duration": 45,
    "start_time": "2022-06-07T20:08:50.065Z"
   },
   {
    "duration": 36,
    "start_time": "2022-06-07T20:08:50.112Z"
   },
   {
    "duration": 170,
    "start_time": "2022-06-07T20:08:50.150Z"
   },
   {
    "duration": 0,
    "start_time": "2022-06-07T20:08:50.321Z"
   },
   {
    "duration": 0,
    "start_time": "2022-06-07T20:08:50.323Z"
   },
   {
    "duration": 0,
    "start_time": "2022-06-07T20:08:50.324Z"
   },
   {
    "duration": 885,
    "start_time": "2022-06-07T20:16:12.795Z"
   },
   {
    "duration": 1375,
    "start_time": "2022-06-07T20:16:13.683Z"
   },
   {
    "duration": 148,
    "start_time": "2022-06-07T20:16:15.064Z"
   },
   {
    "duration": 44,
    "start_time": "2022-06-07T20:16:15.214Z"
   },
   {
    "duration": 40,
    "start_time": "2022-06-07T20:16:15.260Z"
   },
   {
    "duration": 17,
    "start_time": "2022-06-07T20:16:15.302Z"
   },
   {
    "duration": 40,
    "start_time": "2022-06-07T20:16:15.320Z"
   },
   {
    "duration": 50,
    "start_time": "2022-06-07T20:16:15.361Z"
   },
   {
    "duration": 135,
    "start_time": "2022-06-07T20:16:15.413Z"
   },
   {
    "duration": 0,
    "start_time": "2022-06-07T20:16:15.550Z"
   },
   {
    "duration": 0,
    "start_time": "2022-06-07T20:16:15.551Z"
   },
   {
    "duration": 0,
    "start_time": "2022-06-07T20:16:15.552Z"
   },
   {
    "duration": 18,
    "start_time": "2022-06-07T20:16:54.459Z"
   },
   {
    "duration": 13,
    "start_time": "2022-06-07T20:18:23.985Z"
   },
   {
    "duration": 63,
    "start_time": "2022-06-07T20:18:48.341Z"
   },
   {
    "duration": 53,
    "start_time": "2022-06-07T20:19:00.762Z"
   },
   {
    "duration": 48,
    "start_time": "2022-06-07T20:19:14.870Z"
   },
   {
    "duration": 62,
    "start_time": "2022-06-07T20:19:44.809Z"
   },
   {
    "duration": 44,
    "start_time": "2022-06-07T20:20:11.186Z"
   },
   {
    "duration": 47,
    "start_time": "2022-06-07T20:22:44.096Z"
   },
   {
    "duration": 51,
    "start_time": "2022-06-07T20:26:13.271Z"
   },
   {
    "duration": 47,
    "start_time": "2022-06-07T20:26:19.275Z"
   },
   {
    "duration": 51,
    "start_time": "2022-06-07T20:26:27.466Z"
   },
   {
    "duration": 61,
    "start_time": "2022-06-07T20:26:51.462Z"
   },
   {
    "duration": 54,
    "start_time": "2022-06-07T20:27:01.877Z"
   },
   {
    "duration": 952,
    "start_time": "2022-06-07T20:27:56.414Z"
   },
   {
    "duration": 646,
    "start_time": "2022-06-07T20:27:57.368Z"
   },
   {
    "duration": 194,
    "start_time": "2022-06-07T20:27:58.016Z"
   },
   {
    "duration": 52,
    "start_time": "2022-06-07T20:27:58.213Z"
   },
   {
    "duration": 61,
    "start_time": "2022-06-07T20:27:58.267Z"
   },
   {
    "duration": 28,
    "start_time": "2022-06-07T20:27:58.334Z"
   },
   {
    "duration": 68,
    "start_time": "2022-06-07T20:27:58.364Z"
   },
   {
    "duration": 45,
    "start_time": "2022-06-07T20:27:58.436Z"
   },
   {
    "duration": 26,
    "start_time": "2022-06-07T20:27:58.484Z"
   },
   {
    "duration": 102,
    "start_time": "2022-06-07T20:27:58.513Z"
   },
   {
    "duration": 99,
    "start_time": "2022-06-07T20:27:58.617Z"
   },
   {
    "duration": 87,
    "start_time": "2022-06-07T20:27:58.718Z"
   },
   {
    "duration": 919,
    "start_time": "2022-06-07T20:28:06.747Z"
   },
   {
    "duration": 608,
    "start_time": "2022-06-07T20:28:07.668Z"
   },
   {
    "duration": 146,
    "start_time": "2022-06-07T20:28:08.277Z"
   },
   {
    "duration": 43,
    "start_time": "2022-06-07T20:28:08.435Z"
   },
   {
    "duration": 41,
    "start_time": "2022-06-07T20:28:08.487Z"
   },
   {
    "duration": 90,
    "start_time": "2022-06-07T20:28:08.530Z"
   },
   {
    "duration": 63,
    "start_time": "2022-06-07T20:28:08.622Z"
   },
   {
    "duration": 60,
    "start_time": "2022-06-07T20:28:08.689Z"
   },
   {
    "duration": 28,
    "start_time": "2022-06-07T20:28:08.752Z"
   },
   {
    "duration": 133,
    "start_time": "2022-06-07T20:28:08.788Z"
   },
   {
    "duration": 94,
    "start_time": "2022-06-07T20:28:08.932Z"
   },
   {
    "duration": 81,
    "start_time": "2022-06-07T20:28:09.029Z"
   },
   {
    "duration": 893,
    "start_time": "2022-06-07T20:32:13.319Z"
   },
   {
    "duration": 577,
    "start_time": "2022-06-07T20:32:14.214Z"
   },
   {
    "duration": 177,
    "start_time": "2022-06-07T20:32:14.794Z"
   },
   {
    "duration": 21,
    "start_time": "2022-06-07T20:32:14.974Z"
   },
   {
    "duration": 50,
    "start_time": "2022-06-07T20:32:14.997Z"
   },
   {
    "duration": 20,
    "start_time": "2022-06-07T20:32:15.050Z"
   },
   {
    "duration": 30,
    "start_time": "2022-06-07T20:32:15.072Z"
   },
   {
    "duration": 69,
    "start_time": "2022-06-07T20:32:15.104Z"
   },
   {
    "duration": 18,
    "start_time": "2022-06-07T20:32:15.175Z"
   },
   {
    "duration": 94,
    "start_time": "2022-06-07T20:32:15.196Z"
   },
   {
    "duration": 102,
    "start_time": "2022-06-07T20:32:15.292Z"
   },
   {
    "duration": 70,
    "start_time": "2022-06-07T20:32:15.395Z"
   },
   {
    "duration": 21,
    "start_time": "2022-06-07T20:33:11.406Z"
   },
   {
    "duration": 115,
    "start_time": "2022-06-07T20:47:17.187Z"
   },
   {
    "duration": 28,
    "start_time": "2022-06-07T20:47:44.453Z"
   },
   {
    "duration": 19,
    "start_time": "2022-06-07T20:48:49.071Z"
   },
   {
    "duration": 492,
    "start_time": "2022-06-07T20:49:10.308Z"
   },
   {
    "duration": 464,
    "start_time": "2022-06-07T20:49:25.801Z"
   },
   {
    "duration": 436,
    "start_time": "2022-06-07T20:50:00.931Z"
   },
   {
    "duration": 382,
    "start_time": "2022-06-07T20:50:08.923Z"
   },
   {
    "duration": 19,
    "start_time": "2022-06-07T20:52:14.192Z"
   },
   {
    "duration": 18,
    "start_time": "2022-06-07T20:53:24.855Z"
   },
   {
    "duration": 895,
    "start_time": "2022-06-07T20:55:35.814Z"
   },
   {
    "duration": 1042,
    "start_time": "2022-06-07T20:55:36.712Z"
   },
   {
    "duration": 129,
    "start_time": "2022-06-07T20:55:37.756Z"
   },
   {
    "duration": 37,
    "start_time": "2022-06-07T20:55:37.887Z"
   },
   {
    "duration": 27,
    "start_time": "2022-06-07T20:55:37.927Z"
   },
   {
    "duration": 18,
    "start_time": "2022-06-07T20:55:37.956Z"
   },
   {
    "duration": 59,
    "start_time": "2022-06-07T20:55:37.976Z"
   },
   {
    "duration": 29,
    "start_time": "2022-06-07T20:55:38.041Z"
   },
   {
    "duration": 80,
    "start_time": "2022-06-07T20:55:38.072Z"
   },
   {
    "duration": 57,
    "start_time": "2022-06-07T20:55:38.154Z"
   },
   {
    "duration": 58,
    "start_time": "2022-06-07T20:55:38.232Z"
   },
   {
    "duration": 20,
    "start_time": "2022-06-07T20:55:38.292Z"
   },
   {
    "duration": 30,
    "start_time": "2022-06-07T21:04:41.154Z"
   },
   {
    "duration": 122,
    "start_time": "2022-06-07T21:06:27.162Z"
   },
   {
    "duration": 819,
    "start_time": "2022-06-07T21:06:42.389Z"
   },
   {
    "duration": 539,
    "start_time": "2022-06-07T21:06:43.210Z"
   },
   {
    "duration": 121,
    "start_time": "2022-06-07T21:06:43.751Z"
   },
   {
    "duration": 20,
    "start_time": "2022-06-07T21:06:43.875Z"
   },
   {
    "duration": 42,
    "start_time": "2022-06-07T21:06:43.896Z"
   },
   {
    "duration": 15,
    "start_time": "2022-06-07T21:06:43.941Z"
   },
   {
    "duration": 34,
    "start_time": "2022-06-07T21:06:43.958Z"
   },
   {
    "duration": 63,
    "start_time": "2022-06-07T21:06:43.994Z"
   },
   {
    "duration": 103,
    "start_time": "2022-06-07T21:06:44.058Z"
   },
   {
    "duration": 73,
    "start_time": "2022-06-07T21:06:44.163Z"
   },
   {
    "duration": 55,
    "start_time": "2022-06-07T21:06:44.238Z"
   },
   {
    "duration": 55,
    "start_time": "2022-06-07T21:06:44.294Z"
   },
   {
    "duration": 843,
    "start_time": "2022-06-07T21:16:08.801Z"
   },
   {
    "duration": 1096,
    "start_time": "2022-06-07T21:16:09.646Z"
   },
   {
    "duration": 124,
    "start_time": "2022-06-07T21:16:10.744Z"
   },
   {
    "duration": 21,
    "start_time": "2022-06-07T21:16:10.870Z"
   },
   {
    "duration": 45,
    "start_time": "2022-06-07T21:16:10.893Z"
   },
   {
    "duration": 33,
    "start_time": "2022-06-07T21:16:10.939Z"
   },
   {
    "duration": 32,
    "start_time": "2022-06-07T21:16:10.974Z"
   },
   {
    "duration": 36,
    "start_time": "2022-06-07T21:16:11.008Z"
   },
   {
    "duration": 69,
    "start_time": "2022-06-07T21:16:11.045Z"
   },
   {
    "duration": 58,
    "start_time": "2022-06-07T21:16:11.126Z"
   },
   {
    "duration": 75,
    "start_time": "2022-06-07T21:16:11.185Z"
   },
   {
    "duration": 32,
    "start_time": "2022-06-07T21:16:11.261Z"
   },
   {
    "duration": 113,
    "start_time": "2022-06-07T21:18:03.039Z"
   },
   {
    "duration": 763,
    "start_time": "2022-06-07T21:18:13.073Z"
   },
   {
    "duration": 507,
    "start_time": "2022-06-07T21:18:13.838Z"
   },
   {
    "duration": 121,
    "start_time": "2022-06-07T21:18:14.346Z"
   },
   {
    "duration": 20,
    "start_time": "2022-06-07T21:18:14.469Z"
   },
   {
    "duration": 48,
    "start_time": "2022-06-07T21:18:14.490Z"
   },
   {
    "duration": 16,
    "start_time": "2022-06-07T21:18:14.540Z"
   },
   {
    "duration": 29,
    "start_time": "2022-06-07T21:18:14.557Z"
   },
   {
    "duration": 48,
    "start_time": "2022-06-07T21:18:14.587Z"
   },
   {
    "duration": 70,
    "start_time": "2022-06-07T21:18:14.637Z"
   },
   {
    "duration": 71,
    "start_time": "2022-06-07T21:18:14.709Z"
   },
   {
    "duration": 85,
    "start_time": "2022-06-07T21:18:14.783Z"
   },
   {
    "duration": 34,
    "start_time": "2022-06-07T21:18:14.869Z"
   },
   {
    "duration": 109,
    "start_time": "2022-06-07T21:20:24.563Z"
   },
   {
    "duration": 859,
    "start_time": "2022-06-07T21:20:30.470Z"
   },
   {
    "duration": 543,
    "start_time": "2022-06-07T21:20:31.331Z"
   },
   {
    "duration": 136,
    "start_time": "2022-06-07T21:20:31.876Z"
   },
   {
    "duration": 33,
    "start_time": "2022-06-07T21:20:32.014Z"
   },
   {
    "duration": 27,
    "start_time": "2022-06-07T21:20:32.049Z"
   },
   {
    "duration": 14,
    "start_time": "2022-06-07T21:20:32.078Z"
   },
   {
    "duration": 53,
    "start_time": "2022-06-07T21:20:32.094Z"
   },
   {
    "duration": 27,
    "start_time": "2022-06-07T21:20:32.149Z"
   },
   {
    "duration": 100,
    "start_time": "2022-06-07T21:20:32.178Z"
   },
   {
    "duration": 72,
    "start_time": "2022-06-07T21:20:32.280Z"
   },
   {
    "duration": 73,
    "start_time": "2022-06-07T21:20:32.354Z"
   },
   {
    "duration": 45,
    "start_time": "2022-06-07T21:20:32.433Z"
   },
   {
    "duration": 119,
    "start_time": "2022-06-07T21:22:09.294Z"
   },
   {
    "duration": 802,
    "start_time": "2022-06-07T21:22:17.710Z"
   },
   {
    "duration": 561,
    "start_time": "2022-06-07T21:22:18.515Z"
   },
   {
    "duration": 129,
    "start_time": "2022-06-07T21:22:19.078Z"
   },
   {
    "duration": 34,
    "start_time": "2022-06-07T21:22:19.210Z"
   },
   {
    "duration": 35,
    "start_time": "2022-06-07T21:22:19.247Z"
   },
   {
    "duration": 21,
    "start_time": "2022-06-07T21:22:19.284Z"
   },
   {
    "duration": 39,
    "start_time": "2022-06-07T21:22:19.322Z"
   },
   {
    "duration": 35,
    "start_time": "2022-06-07T21:22:19.363Z"
   },
   {
    "duration": 76,
    "start_time": "2022-06-07T21:22:19.424Z"
   },
   {
    "duration": 77,
    "start_time": "2022-06-07T21:22:19.502Z"
   },
   {
    "duration": 73,
    "start_time": "2022-06-07T21:22:19.582Z"
   },
   {
    "duration": 155,
    "start_time": "2022-06-07T21:22:19.656Z"
   },
   {
    "duration": 28,
    "start_time": "2022-06-07T21:25:52.648Z"
   },
   {
    "duration": 847,
    "start_time": "2022-06-07T21:26:00.819Z"
   },
   {
    "duration": 560,
    "start_time": "2022-06-07T21:26:01.668Z"
   },
   {
    "duration": 124,
    "start_time": "2022-06-07T21:26:02.229Z"
   },
   {
    "duration": 19,
    "start_time": "2022-06-07T21:26:02.355Z"
   },
   {
    "duration": 24,
    "start_time": "2022-06-07T21:26:02.375Z"
   },
   {
    "duration": 36,
    "start_time": "2022-06-07T21:26:02.401Z"
   },
   {
    "duration": 27,
    "start_time": "2022-06-07T21:26:02.439Z"
   },
   {
    "duration": 29,
    "start_time": "2022-06-07T21:26:02.468Z"
   },
   {
    "duration": 108,
    "start_time": "2022-06-07T21:26:02.499Z"
   },
   {
    "duration": 77,
    "start_time": "2022-06-07T21:26:02.610Z"
   },
   {
    "duration": 86,
    "start_time": "2022-06-07T21:26:02.689Z"
   },
   {
    "duration": 153,
    "start_time": "2022-06-07T21:26:02.777Z"
   },
   {
    "duration": 22,
    "start_time": "2022-06-07T21:27:21.848Z"
   },
   {
    "duration": 816,
    "start_time": "2022-06-07T21:27:34.199Z"
   },
   {
    "duration": 530,
    "start_time": "2022-06-07T21:27:35.016Z"
   },
   {
    "duration": 122,
    "start_time": "2022-06-07T21:27:35.548Z"
   },
   {
    "duration": 24,
    "start_time": "2022-06-07T21:27:35.672Z"
   },
   {
    "duration": 40,
    "start_time": "2022-06-07T21:27:35.699Z"
   },
   {
    "duration": 15,
    "start_time": "2022-06-07T21:27:35.741Z"
   },
   {
    "duration": 32,
    "start_time": "2022-06-07T21:27:35.758Z"
   },
   {
    "duration": 55,
    "start_time": "2022-06-07T21:27:35.791Z"
   },
   {
    "duration": 80,
    "start_time": "2022-06-07T21:27:35.848Z"
   },
   {
    "duration": 67,
    "start_time": "2022-06-07T21:27:35.938Z"
   },
   {
    "duration": 61,
    "start_time": "2022-06-07T21:27:36.007Z"
   },
   {
    "duration": 33,
    "start_time": "2022-06-07T21:27:36.070Z"
   },
   {
    "duration": 747,
    "start_time": "2022-06-07T21:28:25.366Z"
   },
   {
    "duration": 503,
    "start_time": "2022-06-07T21:28:26.116Z"
   },
   {
    "duration": 129,
    "start_time": "2022-06-07T21:28:26.621Z"
   },
   {
    "duration": 20,
    "start_time": "2022-06-07T21:28:26.751Z"
   },
   {
    "duration": 21,
    "start_time": "2022-06-07T21:28:26.772Z"
   },
   {
    "duration": 39,
    "start_time": "2022-06-07T21:28:26.795Z"
   },
   {
    "duration": 30,
    "start_time": "2022-06-07T21:28:26.837Z"
   },
   {
    "duration": 28,
    "start_time": "2022-06-07T21:28:26.868Z"
   },
   {
    "duration": 89,
    "start_time": "2022-06-07T21:28:26.898Z"
   },
   {
    "duration": 71,
    "start_time": "2022-06-07T21:28:26.988Z"
   },
   {
    "duration": 69,
    "start_time": "2022-06-07T21:28:27.061Z"
   },
   {
    "duration": 37,
    "start_time": "2022-06-07T21:28:27.131Z"
   },
   {
    "duration": 107,
    "start_time": "2022-06-07T21:29:21.320Z"
   },
   {
    "duration": 888,
    "start_time": "2022-06-07T21:29:27.250Z"
   },
   {
    "duration": 546,
    "start_time": "2022-06-07T21:29:28.140Z"
   },
   {
    "duration": 159,
    "start_time": "2022-06-07T21:29:28.687Z"
   },
   {
    "duration": 24,
    "start_time": "2022-06-07T21:29:28.848Z"
   },
   {
    "duration": 26,
    "start_time": "2022-06-07T21:29:28.875Z"
   },
   {
    "duration": 27,
    "start_time": "2022-06-07T21:29:28.923Z"
   },
   {
    "duration": 35,
    "start_time": "2022-06-07T21:29:28.952Z"
   },
   {
    "duration": 49,
    "start_time": "2022-06-07T21:29:28.989Z"
   },
   {
    "duration": 86,
    "start_time": "2022-06-07T21:29:29.039Z"
   },
   {
    "duration": 59,
    "start_time": "2022-06-07T21:29:29.128Z"
   },
   {
    "duration": 77,
    "start_time": "2022-06-07T21:29:29.189Z"
   },
   {
    "duration": 40,
    "start_time": "2022-06-07T21:29:29.268Z"
   },
   {
    "duration": 820,
    "start_time": "2022-06-08T11:40:25.752Z"
   },
   {
    "duration": 1049,
    "start_time": "2022-06-08T11:40:26.574Z"
   },
   {
    "duration": 86,
    "start_time": "2022-06-08T11:40:27.624Z"
   },
   {
    "duration": 30,
    "start_time": "2022-06-08T11:40:27.711Z"
   },
   {
    "duration": 21,
    "start_time": "2022-06-08T11:40:27.744Z"
   },
   {
    "duration": 13,
    "start_time": "2022-06-08T11:40:27.766Z"
   },
   {
    "duration": 27,
    "start_time": "2022-06-08T11:40:27.781Z"
   },
   {
    "duration": 38,
    "start_time": "2022-06-08T11:40:27.829Z"
   },
   {
    "duration": 85,
    "start_time": "2022-06-08T11:40:27.869Z"
   },
   {
    "duration": 50,
    "start_time": "2022-06-08T11:40:27.956Z"
   },
   {
    "duration": 65,
    "start_time": "2022-06-08T11:40:28.008Z"
   },
   {
    "duration": 132,
    "start_time": "2022-06-08T11:40:28.075Z"
   },
   {
    "duration": 53,
    "start_time": "2022-06-08T11:42:16.699Z"
   },
   {
    "duration": 47,
    "start_time": "2022-06-08T11:44:19.779Z"
   },
   {
    "duration": 49,
    "start_time": "2022-06-08T11:46:57.654Z"
   },
   {
    "duration": 62,
    "start_time": "2022-06-08T11:47:21.432Z"
   },
   {
    "duration": 57,
    "start_time": "2022-06-08T11:47:34.410Z"
   },
   {
    "duration": 64,
    "start_time": "2022-06-08T11:47:41.472Z"
   },
   {
    "duration": 821,
    "start_time": "2022-06-08T16:31:09.367Z"
   },
   {
    "duration": 1001,
    "start_time": "2022-06-08T16:31:10.190Z"
   },
   {
    "duration": 74,
    "start_time": "2022-06-08T16:31:11.192Z"
   },
   {
    "duration": 19,
    "start_time": "2022-06-08T16:31:11.268Z"
   },
   {
    "duration": 22,
    "start_time": "2022-06-08T16:31:11.289Z"
   },
   {
    "duration": 14,
    "start_time": "2022-06-08T16:31:11.312Z"
   },
   {
    "duration": 56,
    "start_time": "2022-06-08T16:31:11.328Z"
   },
   {
    "duration": 32,
    "start_time": "2022-06-08T16:31:11.386Z"
   },
   {
    "duration": 87,
    "start_time": "2022-06-08T16:31:11.420Z"
   },
   {
    "duration": 65,
    "start_time": "2022-06-08T16:31:11.509Z"
   },
   {
    "duration": 51,
    "start_time": "2022-06-08T16:31:11.576Z"
   },
   {
    "duration": 74,
    "start_time": "2022-06-08T16:31:11.629Z"
   },
   {
    "duration": 893,
    "start_time": "2022-06-08T16:52:14.712Z"
   },
   {
    "duration": 738,
    "start_time": "2022-06-08T16:52:15.607Z"
   },
   {
    "duration": 83,
    "start_time": "2022-06-08T16:52:16.347Z"
   },
   {
    "duration": 36,
    "start_time": "2022-06-08T16:52:16.432Z"
   },
   {
    "duration": 24,
    "start_time": "2022-06-08T16:52:16.470Z"
   },
   {
    "duration": 15,
    "start_time": "2022-06-08T16:52:16.496Z"
   },
   {
    "duration": 57,
    "start_time": "2022-06-08T16:52:16.513Z"
   },
   {
    "duration": 38,
    "start_time": "2022-06-08T16:52:16.572Z"
   },
   {
    "duration": 96,
    "start_time": "2022-06-08T16:52:16.611Z"
   },
   {
    "duration": 73,
    "start_time": "2022-06-08T16:52:16.709Z"
   },
   {
    "duration": 54,
    "start_time": "2022-06-08T16:52:16.784Z"
   },
   {
    "duration": 93,
    "start_time": "2022-06-08T16:52:16.839Z"
   },
   {
    "duration": 67,
    "start_time": "2022-06-08T16:59:35.510Z"
   },
   {
    "duration": 69,
    "start_time": "2022-06-08T16:59:46.626Z"
   },
   {
    "duration": 77,
    "start_time": "2022-06-08T17:03:54.014Z"
   },
   {
    "duration": 826,
    "start_time": "2022-06-08T17:04:26.770Z"
   },
   {
    "duration": 461,
    "start_time": "2022-06-08T17:04:27.598Z"
   },
   {
    "duration": 73,
    "start_time": "2022-06-08T17:04:28.060Z"
   },
   {
    "duration": 30,
    "start_time": "2022-06-08T17:04:28.135Z"
   },
   {
    "duration": 20,
    "start_time": "2022-06-08T17:04:28.167Z"
   },
   {
    "duration": 13,
    "start_time": "2022-06-08T17:04:28.188Z"
   },
   {
    "duration": 29,
    "start_time": "2022-06-08T17:04:28.203Z"
   },
   {
    "duration": 47,
    "start_time": "2022-06-08T17:04:28.233Z"
   },
   {
    "duration": 79,
    "start_time": "2022-06-08T17:04:28.281Z"
   },
   {
    "duration": 54,
    "start_time": "2022-06-08T17:04:28.362Z"
   },
   {
    "duration": 68,
    "start_time": "2022-06-08T17:04:28.417Z"
   },
   {
    "duration": 72,
    "start_time": "2022-06-08T17:04:28.486Z"
   },
   {
    "duration": 66,
    "start_time": "2022-06-08T17:04:42.214Z"
   },
   {
    "duration": 67,
    "start_time": "2022-06-08T17:04:49.710Z"
   },
   {
    "duration": 79,
    "start_time": "2022-06-08T17:17:46.335Z"
   },
   {
    "duration": 825,
    "start_time": "2022-06-08T18:27:27.153Z"
   },
   {
    "duration": 451,
    "start_time": "2022-06-08T18:27:27.980Z"
   },
   {
    "duration": 77,
    "start_time": "2022-06-08T18:27:28.433Z"
   },
   {
    "duration": 19,
    "start_time": "2022-06-08T18:27:28.512Z"
   },
   {
    "duration": 30,
    "start_time": "2022-06-08T18:27:28.532Z"
   },
   {
    "duration": 13,
    "start_time": "2022-06-08T18:27:28.564Z"
   },
   {
    "duration": 33,
    "start_time": "2022-06-08T18:27:28.579Z"
   },
   {
    "duration": 53,
    "start_time": "2022-06-08T18:27:28.614Z"
   },
   {
    "duration": 63,
    "start_time": "2022-06-08T18:27:28.669Z"
   },
   {
    "duration": 78,
    "start_time": "2022-06-08T18:27:28.735Z"
   },
   {
    "duration": 63,
    "start_time": "2022-06-08T18:27:28.815Z"
   },
   {
    "duration": 89,
    "start_time": "2022-06-08T18:27:28.879Z"
   },
   {
    "duration": 798,
    "start_time": "2022-06-08T18:37:35.487Z"
   },
   {
    "duration": 470,
    "start_time": "2022-06-08T18:37:36.287Z"
   },
   {
    "duration": 75,
    "start_time": "2022-06-08T18:37:36.758Z"
   },
   {
    "duration": 30,
    "start_time": "2022-06-08T18:37:36.835Z"
   },
   {
    "duration": 22,
    "start_time": "2022-06-08T18:37:36.867Z"
   },
   {
    "duration": 39,
    "start_time": "2022-06-08T18:37:36.890Z"
   },
   {
    "duration": 54,
    "start_time": "2022-06-08T18:37:36.931Z"
   },
   {
    "duration": 37,
    "start_time": "2022-06-08T18:37:36.986Z"
   },
   {
    "duration": 82,
    "start_time": "2022-06-08T18:37:37.025Z"
   },
   {
    "duration": 57,
    "start_time": "2022-06-08T18:37:37.109Z"
   },
   {
    "duration": 65,
    "start_time": "2022-06-08T18:37:37.168Z"
   },
   {
    "duration": 125,
    "start_time": "2022-06-08T18:37:37.236Z"
   },
   {
    "duration": 78,
    "start_time": "2022-06-08T18:43:34.015Z"
   },
   {
    "duration": 79,
    "start_time": "2022-06-08T18:44:02.797Z"
   },
   {
    "duration": 100,
    "start_time": "2022-06-08T18:44:17.096Z"
   },
   {
    "duration": 83,
    "start_time": "2022-06-08T18:45:29.849Z"
   },
   {
    "duration": 81,
    "start_time": "2022-06-08T18:45:57.457Z"
   },
   {
    "duration": 131,
    "start_time": "2022-06-08T19:01:01.088Z"
   },
   {
    "duration": 40,
    "start_time": "2022-06-08T19:01:38.352Z"
   },
   {
    "duration": 42,
    "start_time": "2022-06-09T08:20:09.307Z"
   },
   {
    "duration": 795,
    "start_time": "2022-06-09T08:20:14.484Z"
   },
   {
    "duration": 1136,
    "start_time": "2022-06-09T08:20:15.280Z"
   },
   {
    "duration": 64,
    "start_time": "2022-06-09T08:20:16.417Z"
   },
   {
    "duration": 16,
    "start_time": "2022-06-09T08:20:16.483Z"
   },
   {
    "duration": 17,
    "start_time": "2022-06-09T08:20:16.500Z"
   },
   {
    "duration": 11,
    "start_time": "2022-06-09T08:20:16.518Z"
   },
   {
    "duration": 22,
    "start_time": "2022-06-09T08:20:16.531Z"
   },
   {
    "duration": 45,
    "start_time": "2022-06-09T08:20:16.554Z"
   },
   {
    "duration": 138,
    "start_time": "2022-06-09T08:20:16.600Z"
   },
   {
    "duration": 0,
    "start_time": "2022-06-09T08:20:16.740Z"
   },
   {
    "duration": 0,
    "start_time": "2022-06-09T08:20:16.741Z"
   },
   {
    "duration": 0,
    "start_time": "2022-06-09T08:20:16.742Z"
   },
   {
    "duration": 4,
    "start_time": "2022-06-09T08:20:55.080Z"
   },
   {
    "duration": 65,
    "start_time": "2022-06-09T08:20:58.312Z"
   },
   {
    "duration": 65,
    "start_time": "2022-06-09T08:21:15.997Z"
   },
   {
    "duration": 534,
    "start_time": "2022-06-09T08:21:29.028Z"
   },
   {
    "duration": 61,
    "start_time": "2022-06-09T08:31:52.377Z"
   },
   {
    "duration": 2016,
    "start_time": "2022-06-09T08:40:26.303Z"
   },
   {
    "duration": 69,
    "start_time": "2022-06-09T08:40:37.793Z"
   },
   {
    "duration": 83,
    "start_time": "2022-06-09T08:43:57.088Z"
   },
   {
    "duration": 42,
    "start_time": "2022-06-09T08:44:23.250Z"
   },
   {
    "duration": 78,
    "start_time": "2022-06-09T08:44:36.453Z"
   },
   {
    "duration": 93,
    "start_time": "2022-06-09T08:44:57.615Z"
   },
   {
    "duration": 78,
    "start_time": "2022-06-09T08:46:30.956Z"
   },
   {
    "duration": 81,
    "start_time": "2022-06-09T08:47:08.786Z"
   },
   {
    "duration": 82,
    "start_time": "2022-06-09T08:47:34.557Z"
   },
   {
    "duration": 122,
    "start_time": "2022-06-09T08:50:58.218Z"
   },
   {
    "duration": 118,
    "start_time": "2022-06-09T08:51:15.878Z"
   },
   {
    "duration": 82,
    "start_time": "2022-06-09T08:52:06.393Z"
   },
   {
    "duration": 68,
    "start_time": "2022-06-09T08:53:00.575Z"
   },
   {
    "duration": 508,
    "start_time": "2022-06-09T09:21:43.545Z"
   },
   {
    "duration": 481,
    "start_time": "2022-06-09T09:22:09.920Z"
   },
   {
    "duration": 581,
    "start_time": "2022-06-09T09:22:33.137Z"
   },
   {
    "duration": 85,
    "start_time": "2022-06-09T09:22:51.488Z"
   },
   {
    "duration": 464,
    "start_time": "2022-06-09T09:28:11.263Z"
   },
   {
    "duration": 485,
    "start_time": "2022-06-09T09:29:33.341Z"
   },
   {
    "duration": 92,
    "start_time": "2022-06-09T09:33:09.524Z"
   },
   {
    "duration": 802,
    "start_time": "2022-06-09T09:35:43.525Z"
   },
   {
    "duration": 664,
    "start_time": "2022-06-09T09:36:08.126Z"
   },
   {
    "duration": 82,
    "start_time": "2022-06-09T09:37:20.709Z"
   },
   {
    "duration": 80,
    "start_time": "2022-06-09T09:37:50.182Z"
   },
   {
    "duration": 72,
    "start_time": "2022-06-09T09:38:50.883Z"
   },
   {
    "duration": 129,
    "start_time": "2022-06-09T09:40:05.612Z"
   },
   {
    "duration": 185,
    "start_time": "2022-06-09T09:40:10.280Z"
   },
   {
    "duration": 109,
    "start_time": "2022-06-09T09:40:33.698Z"
   },
   {
    "duration": 88,
    "start_time": "2022-06-09T09:41:44.509Z"
   },
   {
    "duration": 30,
    "start_time": "2022-06-09T09:42:25.509Z"
   },
   {
    "duration": 32,
    "start_time": "2022-06-09T09:48:53.300Z"
   },
   {
    "duration": 41,
    "start_time": "2022-06-09T09:49:07.188Z"
   },
   {
    "duration": 25,
    "start_time": "2022-06-09T09:49:14.719Z"
   },
   {
    "duration": 32,
    "start_time": "2022-06-09T09:49:40.147Z"
   },
   {
    "duration": 606,
    "start_time": "2022-06-09T09:49:57.987Z"
   },
   {
    "duration": 28,
    "start_time": "2022-06-09T12:43:24.335Z"
   },
   {
    "duration": 792,
    "start_time": "2022-06-09T12:43:34.403Z"
   },
   {
    "duration": 444,
    "start_time": "2022-06-09T12:43:35.197Z"
   },
   {
    "duration": 73,
    "start_time": "2022-06-09T12:43:35.642Z"
   },
   {
    "duration": 16,
    "start_time": "2022-06-09T12:43:35.716Z"
   },
   {
    "duration": 17,
    "start_time": "2022-06-09T12:43:35.734Z"
   },
   {
    "duration": 12,
    "start_time": "2022-06-09T12:43:35.753Z"
   },
   {
    "duration": 50,
    "start_time": "2022-06-09T12:43:35.767Z"
   },
   {
    "duration": 25,
    "start_time": "2022-06-09T12:43:35.819Z"
   },
   {
    "duration": 3,
    "start_time": "2022-06-09T12:43:35.845Z"
   },
   {
    "duration": 8,
    "start_time": "2022-06-09T12:43:35.849Z"
   },
   {
    "duration": 0,
    "start_time": "2022-06-09T12:43:35.859Z"
   },
   {
    "duration": 0,
    "start_time": "2022-06-09T12:43:35.859Z"
   },
   {
    "duration": 0,
    "start_time": "2022-06-09T12:43:35.861Z"
   },
   {
    "duration": 284,
    "start_time": "2022-06-09T12:45:06.235Z"
   },
   {
    "duration": 296,
    "start_time": "2022-06-09T12:45:30.011Z"
   },
   {
    "duration": 295,
    "start_time": "2022-06-09T12:46:00.013Z"
   },
   {
    "duration": 615,
    "start_time": "2022-06-09T12:46:12.672Z"
   },
   {
    "duration": 42,
    "start_time": "2022-06-09T12:48:00.181Z"
   },
   {
    "duration": 552,
    "start_time": "2022-06-09T12:48:30.659Z"
   },
   {
    "duration": 810,
    "start_time": "2022-06-09T18:29:36.967Z"
   },
   {
    "duration": 433,
    "start_time": "2022-06-09T18:29:37.779Z"
   },
   {
    "duration": 67,
    "start_time": "2022-06-09T18:29:38.214Z"
   },
   {
    "duration": 81,
    "start_time": "2022-06-09T18:29:38.283Z"
   },
   {
    "duration": 0,
    "start_time": "2022-06-09T18:29:38.366Z"
   },
   {
    "duration": 0,
    "start_time": "2022-06-09T18:29:38.368Z"
   },
   {
    "duration": 0,
    "start_time": "2022-06-09T18:29:38.369Z"
   },
   {
    "duration": 0,
    "start_time": "2022-06-09T18:29:38.369Z"
   },
   {
    "duration": 0,
    "start_time": "2022-06-09T18:29:38.371Z"
   },
   {
    "duration": 0,
    "start_time": "2022-06-09T18:29:38.372Z"
   },
   {
    "duration": 0,
    "start_time": "2022-06-09T18:29:38.373Z"
   },
   {
    "duration": 0,
    "start_time": "2022-06-09T18:29:38.391Z"
   },
   {
    "duration": 0,
    "start_time": "2022-06-09T18:29:38.392Z"
   },
   {
    "duration": 0,
    "start_time": "2022-06-09T18:29:38.393Z"
   },
   {
    "duration": 721,
    "start_time": "2022-06-09T18:33:05.761Z"
   },
   {
    "duration": 465,
    "start_time": "2022-06-09T18:33:06.484Z"
   },
   {
    "duration": 82,
    "start_time": "2022-06-09T18:33:06.951Z"
   },
   {
    "duration": 4,
    "start_time": "2022-06-09T18:33:07.035Z"
   },
   {
    "duration": 26,
    "start_time": "2022-06-09T18:33:07.041Z"
   },
   {
    "duration": 43,
    "start_time": "2022-06-09T18:33:07.069Z"
   },
   {
    "duration": 15,
    "start_time": "2022-06-09T18:33:07.114Z"
   },
   {
    "duration": 34,
    "start_time": "2022-06-09T18:33:07.131Z"
   },
   {
    "duration": 57,
    "start_time": "2022-06-09T18:33:07.167Z"
   },
   {
    "duration": 4,
    "start_time": "2022-06-09T18:33:07.225Z"
   },
   {
    "duration": 630,
    "start_time": "2022-06-09T18:33:07.231Z"
   },
   {
    "duration": 65,
    "start_time": "2022-06-09T18:33:07.863Z"
   },
   {
    "duration": 52,
    "start_time": "2022-06-09T18:33:07.929Z"
   },
   {
    "duration": 88,
    "start_time": "2022-06-09T18:33:07.992Z"
   },
   {
    "duration": 554,
    "start_time": "2022-06-09T18:39:46.121Z"
   },
   {
    "duration": 481,
    "start_time": "2022-06-09T18:44:38.801Z"
   },
   {
    "duration": 163,
    "start_time": "2022-06-09T18:49:53.245Z"
   },
   {
    "duration": 456,
    "start_time": "2022-06-09T18:50:35.877Z"
   },
   {
    "duration": 17,
    "start_time": "2022-06-09T19:23:37.991Z"
   },
   {
    "duration": 14,
    "start_time": "2022-06-09T19:25:04.821Z"
   },
   {
    "duration": 14,
    "start_time": "2022-06-09T19:29:07.537Z"
   },
   {
    "duration": 17,
    "start_time": "2022-06-09T19:32:59.520Z"
   },
   {
    "duration": 16,
    "start_time": "2022-06-09T19:33:19.906Z"
   },
   {
    "duration": 12,
    "start_time": "2022-06-09T19:33:29.462Z"
   },
   {
    "duration": 11,
    "start_time": "2022-06-09T19:33:58.500Z"
   },
   {
    "duration": 4,
    "start_time": "2022-06-09T19:44:19.717Z"
   },
   {
    "duration": 21,
    "start_time": "2022-06-09T19:44:35.703Z"
   },
   {
    "duration": 18,
    "start_time": "2022-06-09T19:45:10.296Z"
   },
   {
    "duration": 18,
    "start_time": "2022-06-09T19:45:50.582Z"
   },
   {
    "duration": 4,
    "start_time": "2022-06-09T19:46:09.694Z"
   },
   {
    "duration": 19,
    "start_time": "2022-06-09T19:46:20.005Z"
   },
   {
    "duration": 27,
    "start_time": "2022-06-09T19:46:48.650Z"
   },
   {
    "duration": 4,
    "start_time": "2022-06-09T19:48:10.719Z"
   },
   {
    "duration": 7,
    "start_time": "2022-06-09T19:48:15.954Z"
   },
   {
    "duration": 210,
    "start_time": "2022-06-09T19:49:28.220Z"
   },
   {
    "duration": 215,
    "start_time": "2022-06-09T19:49:32.291Z"
   },
   {
    "duration": 23,
    "start_time": "2022-06-09T19:53:18.524Z"
   },
   {
    "duration": 425,
    "start_time": "2022-06-09T19:54:12.337Z"
   },
   {
    "duration": 13,
    "start_time": "2022-06-09T19:55:26.830Z"
   },
   {
    "duration": 12,
    "start_time": "2022-06-09T19:55:30.876Z"
   },
   {
    "duration": 21,
    "start_time": "2022-06-09T19:56:13.841Z"
   },
   {
    "duration": 438,
    "start_time": "2022-06-09T19:56:49.915Z"
   },
   {
    "duration": 470,
    "start_time": "2022-06-09T19:57:09.291Z"
   },
   {
    "duration": 38,
    "start_time": "2022-06-09T19:57:44.417Z"
   },
   {
    "duration": 431,
    "start_time": "2022-06-09T19:58:13.383Z"
   },
   {
    "duration": 30,
    "start_time": "2022-06-09T19:58:32.929Z"
   },
   {
    "duration": 66,
    "start_time": "2022-06-09T19:58:47.091Z"
   },
   {
    "duration": 744,
    "start_time": "2022-06-09T19:59:20.428Z"
   },
   {
    "duration": 409,
    "start_time": "2022-06-09T19:59:21.173Z"
   },
   {
    "duration": 72,
    "start_time": "2022-06-09T19:59:21.584Z"
   },
   {
    "duration": 5,
    "start_time": "2022-06-09T19:59:21.658Z"
   },
   {
    "duration": 32,
    "start_time": "2022-06-09T19:59:21.664Z"
   },
   {
    "duration": 23,
    "start_time": "2022-06-09T19:59:21.698Z"
   },
   {
    "duration": 15,
    "start_time": "2022-06-09T19:59:21.723Z"
   },
   {
    "duration": 56,
    "start_time": "2022-06-09T19:59:21.740Z"
   },
   {
    "duration": 27,
    "start_time": "2022-06-09T19:59:21.797Z"
   },
   {
    "duration": 3,
    "start_time": "2022-06-09T19:59:21.827Z"
   },
   {
    "duration": 667,
    "start_time": "2022-06-09T19:59:21.832Z"
   },
   {
    "duration": 562,
    "start_time": "2022-06-09T19:59:22.500Z"
   },
   {
    "duration": 469,
    "start_time": "2022-06-09T19:59:23.064Z"
   },
   {
    "duration": 57,
    "start_time": "2022-06-09T19:59:23.534Z"
   },
   {
    "duration": 95,
    "start_time": "2022-06-09T19:59:58.720Z"
   },
   {
    "duration": 34,
    "start_time": "2022-06-09T20:00:14.236Z"
   },
   {
    "duration": 38,
    "start_time": "2022-06-09T20:01:14.002Z"
   },
   {
    "duration": 41,
    "start_time": "2022-06-09T20:01:37.813Z"
   },
   {
    "duration": 29,
    "start_time": "2022-06-09T20:02:54.081Z"
   },
   {
    "duration": 1088,
    "start_time": "2022-06-09T20:03:01.705Z"
   },
   {
    "duration": 1084,
    "start_time": "2022-06-09T20:03:23.826Z"
   },
   {
    "duration": 1019,
    "start_time": "2022-06-09T20:04:38.990Z"
   },
   {
    "duration": 1180,
    "start_time": "2022-06-09T20:05:02.746Z"
   },
   {
    "duration": 468,
    "start_time": "2022-06-09T20:12:59.792Z"
   },
   {
    "duration": 422,
    "start_time": "2022-06-09T20:13:23.880Z"
   },
   {
    "duration": 550,
    "start_time": "2022-06-09T20:14:22.412Z"
   },
   {
    "duration": 521,
    "start_time": "2022-06-09T20:15:48.690Z"
   },
   {
    "duration": 747,
    "start_time": "2022-06-09T20:16:11.538Z"
   },
   {
    "duration": 424,
    "start_time": "2022-06-09T20:16:12.287Z"
   },
   {
    "duration": 64,
    "start_time": "2022-06-09T20:16:12.713Z"
   },
   {
    "duration": 4,
    "start_time": "2022-06-09T20:16:12.779Z"
   },
   {
    "duration": 22,
    "start_time": "2022-06-09T20:16:12.784Z"
   },
   {
    "duration": 21,
    "start_time": "2022-06-09T20:16:12.807Z"
   },
   {
    "duration": 12,
    "start_time": "2022-06-09T20:16:12.829Z"
   },
   {
    "duration": 50,
    "start_time": "2022-06-09T20:16:12.842Z"
   },
   {
    "duration": 27,
    "start_time": "2022-06-09T20:16:12.893Z"
   },
   {
    "duration": 3,
    "start_time": "2022-06-09T20:16:12.922Z"
   },
   {
    "duration": 597,
    "start_time": "2022-06-09T20:16:12.926Z"
   },
   {
    "duration": 462,
    "start_time": "2022-06-09T20:16:13.525Z"
   },
   {
    "duration": 421,
    "start_time": "2022-06-09T20:16:13.991Z"
   },
   {
    "duration": 1251,
    "start_time": "2022-06-09T20:16:14.414Z"
   },
   {
    "duration": 1164,
    "start_time": "2022-06-09T20:17:31.617Z"
   },
   {
    "duration": 1151,
    "start_time": "2022-06-09T20:18:11.506Z"
   },
   {
    "duration": 1181,
    "start_time": "2022-06-09T20:18:20.418Z"
   },
   {
    "duration": 3063,
    "start_time": "2022-06-09T20:20:08.940Z"
   },
   {
    "duration": 1766,
    "start_time": "2022-06-09T20:20:23.940Z"
   },
   {
    "duration": 1335,
    "start_time": "2022-06-09T20:20:50.350Z"
   },
   {
    "duration": 1165,
    "start_time": "2022-06-09T20:21:02.456Z"
   },
   {
    "duration": 1207,
    "start_time": "2022-06-09T20:22:36.586Z"
   },
   {
    "duration": 1150,
    "start_time": "2022-06-09T20:44:37.217Z"
   },
   {
    "duration": 1642,
    "start_time": "2022-06-09T20:45:56.261Z"
   },
   {
    "duration": 1608,
    "start_time": "2022-06-09T20:46:16.306Z"
   },
   {
    "duration": 1588,
    "start_time": "2022-06-09T20:46:51.176Z"
   },
   {
    "duration": 1638,
    "start_time": "2022-06-09T20:47:51.626Z"
   },
   {
    "duration": 1570,
    "start_time": "2022-06-09T20:48:16.770Z"
   },
   {
    "duration": 1583,
    "start_time": "2022-06-09T20:48:38.806Z"
   },
   {
    "duration": 1608,
    "start_time": "2022-06-09T20:49:03.957Z"
   },
   {
    "duration": 1142,
    "start_time": "2022-06-09T20:50:19.510Z"
   },
   {
    "duration": 1215,
    "start_time": "2022-06-09T20:50:43.726Z"
   },
   {
    "duration": 30,
    "start_time": "2022-06-09T20:51:05.828Z"
   },
   {
    "duration": 1983,
    "start_time": "2022-06-09T20:51:18.177Z"
   },
   {
    "duration": 2075,
    "start_time": "2022-06-09T20:52:01.622Z"
   },
   {
    "duration": 1894,
    "start_time": "2022-06-09T20:56:00.367Z"
   },
   {
    "duration": 1957,
    "start_time": "2022-06-09T20:56:13.410Z"
   },
   {
    "duration": 2003,
    "start_time": "2022-06-09T20:56:21.718Z"
   },
   {
    "duration": 2294,
    "start_time": "2022-06-09T20:56:38.312Z"
   },
   {
    "duration": 2039,
    "start_time": "2022-06-09T20:57:30.446Z"
   },
   {
    "duration": 1540,
    "start_time": "2022-06-09T20:58:10.275Z"
   },
   {
    "duration": 1580,
    "start_time": "2022-06-09T20:58:29.548Z"
   },
   {
    "duration": 1133,
    "start_time": "2022-06-09T20:58:54.396Z"
   },
   {
    "duration": 1209,
    "start_time": "2022-06-09T20:59:05.943Z"
   },
   {
    "duration": 1150,
    "start_time": "2022-06-09T20:59:47.788Z"
   },
   {
    "duration": 1126,
    "start_time": "2022-06-09T20:59:55.298Z"
   },
   {
    "duration": 1224,
    "start_time": "2022-06-09T21:00:07.128Z"
   },
   {
    "duration": 1173,
    "start_time": "2022-06-09T21:00:21.630Z"
   },
   {
    "duration": 29,
    "start_time": "2022-06-09T21:00:48.761Z"
   },
   {
    "duration": 1569,
    "start_time": "2022-06-09T21:01:05.379Z"
   },
   {
    "duration": 1560,
    "start_time": "2022-06-09T21:01:24.418Z"
   },
   {
    "duration": 1160,
    "start_time": "2022-06-09T21:01:55.206Z"
   },
   {
    "duration": 1188,
    "start_time": "2022-06-09T21:02:06.250Z"
   },
   {
    "duration": 1208,
    "start_time": "2022-06-09T21:02:22.618Z"
   },
   {
    "duration": 1216,
    "start_time": "2022-06-09T21:03:38.411Z"
   },
   {
    "duration": 1630,
    "start_time": "2022-06-09T21:04:08.250Z"
   },
   {
    "duration": 1596,
    "start_time": "2022-06-09T21:04:29.513Z"
   },
   {
    "duration": 1177,
    "start_time": "2022-06-09T21:04:43.596Z"
   },
   {
    "duration": 1356,
    "start_time": "2022-06-09T21:05:08.353Z"
   },
   {
    "duration": 1512,
    "start_time": "2022-06-09T21:05:18.318Z"
   },
   {
    "duration": 1141,
    "start_time": "2022-06-09T21:06:37.373Z"
   },
   {
    "duration": 1431,
    "start_time": "2022-06-09T21:08:11.167Z"
   },
   {
    "duration": 1261,
    "start_time": "2022-06-09T21:10:09.364Z"
   },
   {
    "duration": 1196,
    "start_time": "2022-06-09T21:10:31.999Z"
   },
   {
    "duration": 1174,
    "start_time": "2022-06-09T21:11:19.054Z"
   },
   {
    "duration": 1202,
    "start_time": "2022-06-09T21:12:17.978Z"
   },
   {
    "duration": 1137,
    "start_time": "2022-06-09T21:12:23.508Z"
   },
   {
    "duration": 1163,
    "start_time": "2022-06-09T21:12:46.321Z"
   },
   {
    "duration": 1176,
    "start_time": "2022-06-09T21:13:33.316Z"
   },
   {
    "duration": 1198,
    "start_time": "2022-06-09T21:17:12.826Z"
   },
   {
    "duration": 1242,
    "start_time": "2022-06-09T21:19:10.437Z"
   },
   {
    "duration": 1245,
    "start_time": "2022-06-09T21:20:41.750Z"
   },
   {
    "duration": 1184,
    "start_time": "2022-06-09T21:21:10.954Z"
   },
   {
    "duration": 1222,
    "start_time": "2022-06-09T21:21:32.635Z"
   },
   {
    "duration": 1258,
    "start_time": "2022-06-09T21:21:44.645Z"
   },
   {
    "duration": 1239,
    "start_time": "2022-06-09T21:21:56.977Z"
   },
   {
    "duration": 1251,
    "start_time": "2022-06-09T21:22:12.309Z"
   },
   {
    "duration": 1296,
    "start_time": "2022-06-09T21:23:17.006Z"
   },
   {
    "duration": 1273,
    "start_time": "2022-06-09T21:25:04.737Z"
   },
   {
    "duration": 782,
    "start_time": "2022-06-09T21:27:00.105Z"
   },
   {
    "duration": 409,
    "start_time": "2022-06-09T21:27:00.890Z"
   },
   {
    "duration": 67,
    "start_time": "2022-06-09T21:27:01.300Z"
   },
   {
    "duration": 4,
    "start_time": "2022-06-09T21:27:01.368Z"
   },
   {
    "duration": 30,
    "start_time": "2022-06-09T21:27:01.374Z"
   },
   {
    "duration": 19,
    "start_time": "2022-06-09T21:27:01.405Z"
   },
   {
    "duration": 12,
    "start_time": "2022-06-09T21:27:01.425Z"
   },
   {
    "duration": 24,
    "start_time": "2022-06-09T21:27:01.438Z"
   },
   {
    "duration": 50,
    "start_time": "2022-06-09T21:27:01.463Z"
   },
   {
    "duration": 2,
    "start_time": "2022-06-09T21:27:01.515Z"
   },
   {
    "duration": 594,
    "start_time": "2022-06-09T21:27:01.519Z"
   },
   {
    "duration": 454,
    "start_time": "2022-06-09T21:27:02.114Z"
   },
   {
    "duration": 411,
    "start_time": "2022-06-09T21:27:02.570Z"
   },
   {
    "duration": 1178,
    "start_time": "2022-06-09T21:27:02.983Z"
   },
   {
    "duration": 1160,
    "start_time": "2022-06-09T21:27:35.377Z"
   },
   {
    "duration": 1191,
    "start_time": "2022-06-09T21:29:12.668Z"
   },
   {
    "duration": 1213,
    "start_time": "2022-06-09T21:29:31.121Z"
   },
   {
    "duration": 732,
    "start_time": "2022-06-09T21:34:14.846Z"
   },
   {
    "duration": 401,
    "start_time": "2022-06-09T21:34:15.580Z"
   },
   {
    "duration": 65,
    "start_time": "2022-06-09T21:34:15.982Z"
   },
   {
    "duration": 3,
    "start_time": "2022-06-09T21:34:16.049Z"
   },
   {
    "duration": 17,
    "start_time": "2022-06-09T21:34:16.054Z"
   },
   {
    "duration": 31,
    "start_time": "2022-06-09T21:34:16.073Z"
   },
   {
    "duration": 12,
    "start_time": "2022-06-09T21:34:16.105Z"
   },
   {
    "duration": 24,
    "start_time": "2022-06-09T21:34:16.118Z"
   },
   {
    "duration": 23,
    "start_time": "2022-06-09T21:34:16.144Z"
   },
   {
    "duration": 2,
    "start_time": "2022-06-09T21:34:16.192Z"
   },
   {
    "duration": 570,
    "start_time": "2022-06-09T21:34:16.196Z"
   },
   {
    "duration": 499,
    "start_time": "2022-06-09T21:34:16.768Z"
   },
   {
    "duration": 408,
    "start_time": "2022-06-09T21:34:17.268Z"
   },
   {
    "duration": 1170,
    "start_time": "2022-06-09T21:34:17.677Z"
   },
   {
    "duration": 33,
    "start_time": "2022-06-09T21:38:33.702Z"
   },
   {
    "duration": 549,
    "start_time": "2022-06-09T21:39:27.475Z"
   },
   {
    "duration": 773,
    "start_time": "2022-06-09T21:40:11.997Z"
   },
   {
    "duration": 404,
    "start_time": "2022-06-09T21:40:12.774Z"
   },
   {
    "duration": 64,
    "start_time": "2022-06-09T21:40:13.180Z"
   },
   {
    "duration": 4,
    "start_time": "2022-06-09T21:40:13.245Z"
   },
   {
    "duration": 23,
    "start_time": "2022-06-09T21:40:13.250Z"
   },
   {
    "duration": 33,
    "start_time": "2022-06-09T21:40:13.274Z"
   },
   {
    "duration": 14,
    "start_time": "2022-06-09T21:40:13.309Z"
   },
   {
    "duration": 31,
    "start_time": "2022-06-09T21:40:13.325Z"
   },
   {
    "duration": 32,
    "start_time": "2022-06-09T21:40:13.359Z"
   },
   {
    "duration": 3,
    "start_time": "2022-06-09T21:40:13.392Z"
   },
   {
    "duration": 617,
    "start_time": "2022-06-09T21:40:13.397Z"
   },
   {
    "duration": 465,
    "start_time": "2022-06-09T21:40:14.016Z"
   },
   {
    "duration": 415,
    "start_time": "2022-06-09T21:40:14.482Z"
   },
   {
    "duration": 1220,
    "start_time": "2022-06-09T21:40:14.899Z"
   },
   {
    "duration": 22,
    "start_time": "2022-06-09T21:40:16.121Z"
   },
   {
    "duration": 538,
    "start_time": "2022-06-09T21:40:55.890Z"
   },
   {
    "duration": 524,
    "start_time": "2022-06-09T21:41:22.088Z"
   },
   {
    "duration": 769,
    "start_time": "2022-06-09T21:42:03.600Z"
   },
   {
    "duration": 404,
    "start_time": "2022-06-09T21:42:04.370Z"
   },
   {
    "duration": 66,
    "start_time": "2022-06-09T21:42:04.775Z"
   },
   {
    "duration": 3,
    "start_time": "2022-06-09T21:42:04.843Z"
   },
   {
    "duration": 26,
    "start_time": "2022-06-09T21:42:04.848Z"
   },
   {
    "duration": 19,
    "start_time": "2022-06-09T21:42:04.876Z"
   },
   {
    "duration": 13,
    "start_time": "2022-06-09T21:42:04.897Z"
   },
   {
    "duration": 29,
    "start_time": "2022-06-09T21:42:04.911Z"
   },
   {
    "duration": 24,
    "start_time": "2022-06-09T21:42:04.942Z"
   },
   {
    "duration": 3,
    "start_time": "2022-06-09T21:42:04.993Z"
   },
   {
    "duration": 601,
    "start_time": "2022-06-09T21:42:04.997Z"
   },
   {
    "duration": 453,
    "start_time": "2022-06-09T21:42:05.600Z"
   },
   {
    "duration": 441,
    "start_time": "2022-06-09T21:42:06.055Z"
   },
   {
    "duration": 84,
    "start_time": "2022-06-09T21:42:06.498Z"
   },
   {
    "duration": 0,
    "start_time": "2022-06-09T21:42:06.591Z"
   },
   {
    "duration": 755,
    "start_time": "2022-06-09T21:42:32.118Z"
   },
   {
    "duration": 400,
    "start_time": "2022-06-09T21:42:32.875Z"
   },
   {
    "duration": 64,
    "start_time": "2022-06-09T21:42:33.277Z"
   },
   {
    "duration": 4,
    "start_time": "2022-06-09T21:42:33.343Z"
   },
   {
    "duration": 20,
    "start_time": "2022-06-09T21:42:33.348Z"
   },
   {
    "duration": 25,
    "start_time": "2022-06-09T21:42:33.370Z"
   },
   {
    "duration": 12,
    "start_time": "2022-06-09T21:42:33.396Z"
   },
   {
    "duration": 24,
    "start_time": "2022-06-09T21:42:33.409Z"
   },
   {
    "duration": 32,
    "start_time": "2022-06-09T21:42:33.434Z"
   },
   {
    "duration": 24,
    "start_time": "2022-06-09T21:42:33.468Z"
   },
   {
    "duration": 559,
    "start_time": "2022-06-09T21:42:33.493Z"
   },
   {
    "duration": 461,
    "start_time": "2022-06-09T21:42:34.054Z"
   },
   {
    "duration": 418,
    "start_time": "2022-06-09T21:42:34.517Z"
   },
   {
    "duration": 1217,
    "start_time": "2022-06-09T21:42:34.936Z"
   },
   {
    "duration": 17,
    "start_time": "2022-06-09T21:42:36.155Z"
   },
   {
    "duration": 53,
    "start_time": "2022-06-09T21:43:00.697Z"
   },
   {
    "duration": 3,
    "start_time": "2022-06-09T21:45:14.943Z"
   },
   {
    "duration": 105,
    "start_time": "2022-06-09T21:45:18.174Z"
   },
   {
    "duration": 201,
    "start_time": "2022-06-09T21:47:07.930Z"
   },
   {
    "duration": 13,
    "start_time": "2022-06-09T21:47:21.445Z"
   },
   {
    "duration": 57,
    "start_time": "2022-06-10T06:37:27.161Z"
   },
   {
    "duration": 956,
    "start_time": "2022-06-10T06:37:32.930Z"
   },
   {
    "duration": 1378,
    "start_time": "2022-06-10T06:37:33.888Z"
   },
   {
    "duration": 125,
    "start_time": "2022-06-10T06:37:35.270Z"
   },
   {
    "duration": 4,
    "start_time": "2022-06-10T06:37:35.398Z"
   },
   {
    "duration": 34,
    "start_time": "2022-06-10T06:37:35.405Z"
   },
   {
    "duration": 52,
    "start_time": "2022-06-10T06:37:35.442Z"
   },
   {
    "duration": 21,
    "start_time": "2022-06-10T06:37:35.496Z"
   },
   {
    "duration": 63,
    "start_time": "2022-06-10T06:37:35.519Z"
   },
   {
    "duration": 39,
    "start_time": "2022-06-10T06:37:35.585Z"
   },
   {
    "duration": 4,
    "start_time": "2022-06-10T06:37:35.626Z"
   },
   {
    "duration": 809,
    "start_time": "2022-06-10T06:37:35.632Z"
   },
   {
    "duration": 659,
    "start_time": "2022-06-10T06:37:36.443Z"
   },
   {
    "duration": 544,
    "start_time": "2022-06-10T06:37:37.104Z"
   },
   {
    "duration": 1505,
    "start_time": "2022-06-10T06:37:37.650Z"
   },
   {
    "duration": 114,
    "start_time": "2022-06-10T06:37:39.156Z"
   },
   {
    "duration": 0,
    "start_time": "2022-06-10T06:37:39.272Z"
   },
   {
    "duration": 45,
    "start_time": "2022-06-10T06:38:02.823Z"
   },
   {
    "duration": 32,
    "start_time": "2022-06-10T06:39:06.117Z"
   },
   {
    "duration": 47,
    "start_time": "2022-06-10T06:39:26.904Z"
   },
   {
    "duration": 29,
    "start_time": "2022-06-10T06:39:43.479Z"
   },
   {
    "duration": 31,
    "start_time": "2022-06-10T06:39:49.683Z"
   },
   {
    "duration": 962,
    "start_time": "2022-06-10T06:40:03.063Z"
   },
   {
    "duration": 590,
    "start_time": "2022-06-10T06:40:04.028Z"
   },
   {
    "duration": 93,
    "start_time": "2022-06-10T06:40:04.619Z"
   },
   {
    "duration": 4,
    "start_time": "2022-06-10T06:40:04.714Z"
   },
   {
    "duration": 27,
    "start_time": "2022-06-10T06:40:04.722Z"
   },
   {
    "duration": 36,
    "start_time": "2022-06-10T06:40:04.750Z"
   },
   {
    "duration": 16,
    "start_time": "2022-06-10T06:40:04.788Z"
   },
   {
    "duration": 69,
    "start_time": "2022-06-10T06:40:04.806Z"
   },
   {
    "duration": 40,
    "start_time": "2022-06-10T06:40:04.876Z"
   },
   {
    "duration": 11,
    "start_time": "2022-06-10T06:40:04.919Z"
   },
   {
    "duration": 762,
    "start_time": "2022-06-10T06:40:04.932Z"
   },
   {
    "duration": 660,
    "start_time": "2022-06-10T06:40:05.696Z"
   },
   {
    "duration": 567,
    "start_time": "2022-06-10T06:40:06.358Z"
   },
   {
    "duration": 1622,
    "start_time": "2022-06-10T06:40:06.928Z"
   },
   {
    "duration": 39,
    "start_time": "2022-06-10T06:40:08.552Z"
   },
   {
    "duration": 86,
    "start_time": "2022-06-10T06:40:08.593Z"
   },
   {
    "duration": 38,
    "start_time": "2022-06-10T06:41:14.694Z"
   },
   {
    "duration": 132,
    "start_time": "2022-06-10T06:41:26.549Z"
   },
   {
    "duration": 29,
    "start_time": "2022-06-10T06:42:09.575Z"
   },
   {
    "duration": 49,
    "start_time": "2022-06-10T06:42:40.541Z"
   },
   {
    "duration": 39,
    "start_time": "2022-06-10T06:42:46.204Z"
   },
   {
    "duration": 33,
    "start_time": "2022-06-10T06:43:00.709Z"
   },
   {
    "duration": 29,
    "start_time": "2022-06-10T06:43:26.504Z"
   },
   {
    "duration": 47,
    "start_time": "2022-06-10T06:43:41.983Z"
   },
   {
    "duration": 37,
    "start_time": "2022-06-10T06:45:35.479Z"
   },
   {
    "duration": 42,
    "start_time": "2022-06-10T06:53:12.329Z"
   },
   {
    "duration": 47,
    "start_time": "2022-06-10T06:54:09.404Z"
   },
   {
    "duration": 50,
    "start_time": "2022-06-10T06:54:26.806Z"
   },
   {
    "duration": 49,
    "start_time": "2022-06-10T06:54:36.858Z"
   },
   {
    "duration": 56,
    "start_time": "2022-06-10T06:59:57.011Z"
   },
   {
    "duration": 800,
    "start_time": "2022-06-10T17:32:15.171Z"
   },
   {
    "duration": 1160,
    "start_time": "2022-06-10T17:32:15.973Z"
   },
   {
    "duration": 75,
    "start_time": "2022-06-10T17:32:17.135Z"
   },
   {
    "duration": 4,
    "start_time": "2022-06-10T17:32:17.213Z"
   },
   {
    "duration": 22,
    "start_time": "2022-06-10T17:32:17.219Z"
   },
   {
    "duration": 35,
    "start_time": "2022-06-10T17:32:17.243Z"
   },
   {
    "duration": 13,
    "start_time": "2022-06-10T17:32:17.280Z"
   },
   {
    "duration": 27,
    "start_time": "2022-06-10T17:32:17.294Z"
   },
   {
    "duration": 32,
    "start_time": "2022-06-10T17:32:17.323Z"
   },
   {
    "duration": 3,
    "start_time": "2022-06-10T17:32:17.381Z"
   },
   {
    "duration": 650,
    "start_time": "2022-06-10T17:32:17.386Z"
   },
   {
    "duration": 521,
    "start_time": "2022-06-10T17:32:18.037Z"
   },
   {
    "duration": 420,
    "start_time": "2022-06-10T17:32:18.560Z"
   },
   {
    "duration": 1292,
    "start_time": "2022-06-10T17:32:18.981Z"
   },
   {
    "duration": 115,
    "start_time": "2022-06-10T17:32:20.277Z"
   },
   {
    "duration": 0,
    "start_time": "2022-06-10T17:32:20.393Z"
   },
   {
    "duration": 40,
    "start_time": "2022-06-10T17:34:18.427Z"
   },
   {
    "duration": 453,
    "start_time": "2022-06-10T17:37:47.324Z"
   },
   {
    "duration": 43,
    "start_time": "2022-06-10T17:38:25.093Z"
   },
   {
    "duration": 41,
    "start_time": "2022-06-10T17:38:34.521Z"
   },
   {
    "duration": 42,
    "start_time": "2022-06-10T17:45:44.197Z"
   },
   {
    "duration": 42,
    "start_time": "2022-06-10T17:47:11.026Z"
   },
   {
    "duration": 573,
    "start_time": "2022-06-10T17:53:07.899Z"
   },
   {
    "duration": 162,
    "start_time": "2022-06-10T17:53:33.447Z"
   },
   {
    "duration": 187,
    "start_time": "2022-06-10T17:53:42.197Z"
   },
   {
    "duration": 849,
    "start_time": "2022-06-10T18:07:09.990Z"
   },
   {
    "duration": 255,
    "start_time": "2022-06-10T18:12:04.553Z"
   },
   {
    "duration": 1758,
    "start_time": "2022-06-10T18:15:27.269Z"
   },
   {
    "duration": 2415,
    "start_time": "2022-06-10T18:15:46.659Z"
   },
   {
    "duration": 751,
    "start_time": "2022-06-10T18:16:08.714Z"
   },
   {
    "duration": 438,
    "start_time": "2022-06-10T18:16:09.467Z"
   },
   {
    "duration": 71,
    "start_time": "2022-06-10T18:16:09.907Z"
   },
   {
    "duration": 8,
    "start_time": "2022-06-10T18:16:09.980Z"
   },
   {
    "duration": 24,
    "start_time": "2022-06-10T18:16:09.989Z"
   },
   {
    "duration": 21,
    "start_time": "2022-06-10T18:16:10.014Z"
   },
   {
    "duration": 13,
    "start_time": "2022-06-10T18:16:10.037Z"
   },
   {
    "duration": 47,
    "start_time": "2022-06-10T18:16:10.051Z"
   },
   {
    "duration": 27,
    "start_time": "2022-06-10T18:16:10.099Z"
   },
   {
    "duration": 3,
    "start_time": "2022-06-10T18:16:10.129Z"
   },
   {
    "duration": 660,
    "start_time": "2022-06-10T18:16:10.134Z"
   },
   {
    "duration": 505,
    "start_time": "2022-06-10T18:16:10.795Z"
   },
   {
    "duration": 449,
    "start_time": "2022-06-10T18:16:11.301Z"
   },
   {
    "duration": 1280,
    "start_time": "2022-06-10T18:16:11.751Z"
   },
   {
    "duration": 2596,
    "start_time": "2022-06-10T18:16:13.033Z"
   },
   {
    "duration": 3,
    "start_time": "2022-06-10T18:16:15.630Z"
   },
   {
    "duration": 2470,
    "start_time": "2022-06-10T18:17:15.729Z"
   },
   {
    "duration": 2293,
    "start_time": "2022-06-10T18:17:52.628Z"
   },
   {
    "duration": 135,
    "start_time": "2022-06-10T18:19:25.688Z"
   },
   {
    "duration": 50,
    "start_time": "2022-06-10T18:19:41.627Z"
   },
   {
    "duration": 2494,
    "start_time": "2022-06-10T18:19:54.715Z"
   },
   {
    "duration": 2758,
    "start_time": "2022-06-10T18:22:51.653Z"
   },
   {
    "duration": 2588,
    "start_time": "2022-06-10T18:24:23.924Z"
   },
   {
    "duration": 775,
    "start_time": "2022-06-10T18:24:32.403Z"
   },
   {
    "duration": 441,
    "start_time": "2022-06-10T18:24:33.180Z"
   },
   {
    "duration": 69,
    "start_time": "2022-06-10T18:24:33.622Z"
   },
   {
    "duration": 5,
    "start_time": "2022-06-10T18:24:33.693Z"
   },
   {
    "duration": 28,
    "start_time": "2022-06-10T18:24:33.700Z"
   },
   {
    "duration": 24,
    "start_time": "2022-06-10T18:24:33.730Z"
   },
   {
    "duration": 27,
    "start_time": "2022-06-10T18:24:33.755Z"
   },
   {
    "duration": 32,
    "start_time": "2022-06-10T18:24:33.784Z"
   },
   {
    "duration": 45,
    "start_time": "2022-06-10T18:24:33.817Z"
   },
   {
    "duration": 14,
    "start_time": "2022-06-10T18:24:33.864Z"
   },
   {
    "duration": 593,
    "start_time": "2022-06-10T18:24:33.879Z"
   },
   {
    "duration": 490,
    "start_time": "2022-06-10T18:24:34.473Z"
   },
   {
    "duration": 489,
    "start_time": "2022-06-10T18:24:34.965Z"
   },
   {
    "duration": 1346,
    "start_time": "2022-06-10T18:24:35.456Z"
   },
   {
    "duration": 3184,
    "start_time": "2022-06-10T18:24:36.804Z"
   },
   {
    "duration": 2,
    "start_time": "2022-06-10T18:24:39.989Z"
   },
   {
    "duration": 2539,
    "start_time": "2022-06-10T18:32:13.882Z"
   },
   {
    "duration": 2808,
    "start_time": "2022-06-10T18:32:25.754Z"
   },
   {
    "duration": 2747,
    "start_time": "2022-06-10T18:36:06.996Z"
   },
   {
    "duration": 771,
    "start_time": "2022-06-10T18:36:16.631Z"
   },
   {
    "duration": 467,
    "start_time": "2022-06-10T18:36:17.404Z"
   },
   {
    "duration": 90,
    "start_time": "2022-06-10T18:36:17.873Z"
   },
   {
    "duration": 4,
    "start_time": "2022-06-10T18:36:17.966Z"
   },
   {
    "duration": 48,
    "start_time": "2022-06-10T18:36:17.972Z"
   },
   {
    "duration": 23,
    "start_time": "2022-06-10T18:36:18.022Z"
   },
   {
    "duration": 19,
    "start_time": "2022-06-10T18:36:18.046Z"
   },
   {
    "duration": 34,
    "start_time": "2022-06-10T18:36:18.066Z"
   },
   {
    "duration": 33,
    "start_time": "2022-06-10T18:36:18.101Z"
   },
   {
    "duration": 4,
    "start_time": "2022-06-10T18:36:18.136Z"
   },
   {
    "duration": 674,
    "start_time": "2022-06-10T18:36:18.142Z"
   },
   {
    "duration": 488,
    "start_time": "2022-06-10T18:36:18.818Z"
   },
   {
    "duration": 501,
    "start_time": "2022-06-10T18:36:19.307Z"
   },
   {
    "duration": 1263,
    "start_time": "2022-06-10T18:36:19.809Z"
   },
   {
    "duration": 2916,
    "start_time": "2022-06-10T18:36:21.074Z"
   },
   {
    "duration": 2,
    "start_time": "2022-06-10T18:36:23.991Z"
   },
   {
    "duration": 778,
    "start_time": "2022-06-10T18:36:44.046Z"
   },
   {
    "duration": 415,
    "start_time": "2022-06-10T18:36:44.826Z"
   },
   {
    "duration": 72,
    "start_time": "2022-06-10T18:36:45.242Z"
   },
   {
    "duration": 3,
    "start_time": "2022-06-10T18:36:45.316Z"
   },
   {
    "duration": 26,
    "start_time": "2022-06-10T18:36:45.321Z"
   },
   {
    "duration": 40,
    "start_time": "2022-06-10T18:36:45.349Z"
   },
   {
    "duration": 15,
    "start_time": "2022-06-10T18:36:45.391Z"
   },
   {
    "duration": 26,
    "start_time": "2022-06-10T18:36:45.407Z"
   },
   {
    "duration": 47,
    "start_time": "2022-06-10T18:36:45.435Z"
   },
   {
    "duration": 3,
    "start_time": "2022-06-10T18:36:45.485Z"
   },
   {
    "duration": 541,
    "start_time": "2022-06-10T18:36:45.489Z"
   },
   {
    "duration": 495,
    "start_time": "2022-06-10T18:36:46.032Z"
   },
   {
    "duration": 407,
    "start_time": "2022-06-10T18:36:46.529Z"
   },
   {
    "duration": 1233,
    "start_time": "2022-06-10T18:36:46.938Z"
   },
   {
    "duration": 2779,
    "start_time": "2022-06-10T18:36:48.172Z"
   },
   {
    "duration": 2,
    "start_time": "2022-06-10T18:36:50.953Z"
   },
   {
    "duration": 805,
    "start_time": "2022-06-10T18:37:43.960Z"
   },
   {
    "duration": 419,
    "start_time": "2022-06-10T18:37:44.767Z"
   },
   {
    "duration": 65,
    "start_time": "2022-06-10T18:37:45.187Z"
   },
   {
    "duration": 4,
    "start_time": "2022-06-10T18:37:45.254Z"
   },
   {
    "duration": 25,
    "start_time": "2022-06-10T18:37:45.260Z"
   },
   {
    "duration": 21,
    "start_time": "2022-06-10T18:37:45.287Z"
   },
   {
    "duration": 13,
    "start_time": "2022-06-10T18:37:45.309Z"
   },
   {
    "duration": 29,
    "start_time": "2022-06-10T18:37:45.323Z"
   },
   {
    "duration": 28,
    "start_time": "2022-06-10T18:37:45.378Z"
   },
   {
    "duration": 3,
    "start_time": "2022-06-10T18:37:45.408Z"
   },
   {
    "duration": 591,
    "start_time": "2022-06-10T18:37:45.412Z"
   },
   {
    "duration": 485,
    "start_time": "2022-06-10T18:37:46.004Z"
   },
   {
    "duration": 433,
    "start_time": "2022-06-10T18:37:46.491Z"
   },
   {
    "duration": 1350,
    "start_time": "2022-06-10T18:37:46.926Z"
   },
   {
    "duration": 2819,
    "start_time": "2022-06-10T18:37:48.277Z"
   },
   {
    "duration": 2,
    "start_time": "2022-06-10T18:37:51.098Z"
   },
   {
    "duration": 795,
    "start_time": "2022-06-10T18:39:17.127Z"
   },
   {
    "duration": 454,
    "start_time": "2022-06-10T18:39:17.923Z"
   },
   {
    "duration": 69,
    "start_time": "2022-06-10T18:39:18.378Z"
   },
   {
    "duration": 3,
    "start_time": "2022-06-10T18:39:18.449Z"
   },
   {
    "duration": 30,
    "start_time": "2022-06-10T18:39:18.454Z"
   },
   {
    "duration": 23,
    "start_time": "2022-06-10T18:39:18.486Z"
   },
   {
    "duration": 14,
    "start_time": "2022-06-10T18:39:18.510Z"
   },
   {
    "duration": 26,
    "start_time": "2022-06-10T18:39:18.525Z"
   },
   {
    "duration": 32,
    "start_time": "2022-06-10T18:39:18.578Z"
   },
   {
    "duration": 3,
    "start_time": "2022-06-10T18:39:18.612Z"
   },
   {
    "duration": 644,
    "start_time": "2022-06-10T18:39:18.616Z"
   },
   {
    "duration": 540,
    "start_time": "2022-06-10T18:39:19.262Z"
   },
   {
    "duration": 427,
    "start_time": "2022-06-10T18:39:19.804Z"
   },
   {
    "duration": 1289,
    "start_time": "2022-06-10T18:39:20.233Z"
   },
   {
    "duration": 2890,
    "start_time": "2022-06-10T18:39:21.524Z"
   },
   {
    "duration": 3,
    "start_time": "2022-06-10T18:39:24.415Z"
   },
   {
    "duration": 4296,
    "start_time": "2022-06-10T18:42:34.980Z"
   },
   {
    "duration": 5927,
    "start_time": "2022-06-10T18:44:27.046Z"
   },
   {
    "duration": 1475,
    "start_time": "2022-06-10T18:44:47.297Z"
   },
   {
    "duration": 1669,
    "start_time": "2022-06-10T18:46:08.530Z"
   },
   {
    "duration": 1492,
    "start_time": "2022-06-10T18:49:44.593Z"
   },
   {
    "duration": 732,
    "start_time": "2022-06-10T18:54:23.730Z"
   },
   {
    "duration": 420,
    "start_time": "2022-06-10T18:54:24.464Z"
   },
   {
    "duration": 73,
    "start_time": "2022-06-10T18:54:24.885Z"
   },
   {
    "duration": 4,
    "start_time": "2022-06-10T18:54:24.960Z"
   },
   {
    "duration": 40,
    "start_time": "2022-06-10T18:54:24.965Z"
   },
   {
    "duration": 20,
    "start_time": "2022-06-10T18:54:25.006Z"
   },
   {
    "duration": 12,
    "start_time": "2022-06-10T18:54:25.027Z"
   },
   {
    "duration": 41,
    "start_time": "2022-06-10T18:54:25.040Z"
   },
   {
    "duration": 28,
    "start_time": "2022-06-10T18:54:25.083Z"
   },
   {
    "duration": 3,
    "start_time": "2022-06-10T18:54:25.113Z"
   },
   {
    "duration": 624,
    "start_time": "2022-06-10T18:54:25.117Z"
   },
   {
    "duration": 512,
    "start_time": "2022-06-10T18:54:25.742Z"
   },
   {
    "duration": 440,
    "start_time": "2022-06-10T18:54:26.256Z"
   },
   {
    "duration": 1409,
    "start_time": "2022-06-10T18:54:26.697Z"
   },
   {
    "duration": 1635,
    "start_time": "2022-06-10T18:54:28.108Z"
   },
   {
    "duration": 2,
    "start_time": "2022-06-10T18:54:29.744Z"
   },
   {
    "duration": 1702,
    "start_time": "2022-06-10T18:55:28.483Z"
   },
   {
    "duration": 1663,
    "start_time": "2022-06-10T18:55:57.703Z"
   },
   {
    "duration": 795,
    "start_time": "2022-06-10T18:56:14.186Z"
   },
   {
    "duration": 431,
    "start_time": "2022-06-10T18:56:14.982Z"
   },
   {
    "duration": 66,
    "start_time": "2022-06-10T18:56:15.414Z"
   },
   {
    "duration": 3,
    "start_time": "2022-06-10T18:56:15.482Z"
   },
   {
    "duration": 20,
    "start_time": "2022-06-10T18:56:15.487Z"
   },
   {
    "duration": 20,
    "start_time": "2022-06-10T18:56:15.508Z"
   },
   {
    "duration": 12,
    "start_time": "2022-06-10T18:56:15.529Z"
   },
   {
    "duration": 46,
    "start_time": "2022-06-10T18:56:15.543Z"
   },
   {
    "duration": 23,
    "start_time": "2022-06-10T18:56:15.590Z"
   },
   {
    "duration": 3,
    "start_time": "2022-06-10T18:56:15.615Z"
   },
   {
    "duration": 583,
    "start_time": "2022-06-10T18:56:15.619Z"
   },
   {
    "duration": 463,
    "start_time": "2022-06-10T18:56:16.204Z"
   },
   {
    "duration": 404,
    "start_time": "2022-06-10T18:56:16.669Z"
   },
   {
    "duration": 1293,
    "start_time": "2022-06-10T18:56:17.074Z"
   },
   {
    "duration": 1713,
    "start_time": "2022-06-10T18:56:18.368Z"
   },
   {
    "duration": 2,
    "start_time": "2022-06-10T18:56:20.082Z"
   },
   {
    "duration": 771,
    "start_time": "2022-06-10T18:59:29.114Z"
   },
   {
    "duration": 435,
    "start_time": "2022-06-10T18:59:29.887Z"
   },
   {
    "duration": 71,
    "start_time": "2022-06-10T18:59:30.326Z"
   },
   {
    "duration": 4,
    "start_time": "2022-06-10T18:59:30.399Z"
   },
   {
    "duration": 24,
    "start_time": "2022-06-10T18:59:30.404Z"
   },
   {
    "duration": 19,
    "start_time": "2022-06-10T18:59:30.430Z"
   },
   {
    "duration": 30,
    "start_time": "2022-06-10T18:59:30.451Z"
   },
   {
    "duration": 28,
    "start_time": "2022-06-10T18:59:30.483Z"
   },
   {
    "duration": 25,
    "start_time": "2022-06-10T18:59:30.512Z"
   },
   {
    "duration": 3,
    "start_time": "2022-06-10T18:59:30.539Z"
   },
   {
    "duration": 594,
    "start_time": "2022-06-10T18:59:30.543Z"
   },
   {
    "duration": 496,
    "start_time": "2022-06-10T18:59:31.138Z"
   },
   {
    "duration": 462,
    "start_time": "2022-06-10T18:59:31.636Z"
   },
   {
    "duration": 1257,
    "start_time": "2022-06-10T18:59:32.100Z"
   },
   {
    "duration": 1753,
    "start_time": "2022-06-10T18:59:33.358Z"
   },
   {
    "duration": 2,
    "start_time": "2022-06-10T18:59:35.112Z"
   },
   {
    "duration": 836,
    "start_time": "2022-06-10T19:00:23.060Z"
   },
   {
    "duration": 423,
    "start_time": "2022-06-10T19:00:23.897Z"
   },
   {
    "duration": 67,
    "start_time": "2022-06-10T19:00:24.322Z"
   },
   {
    "duration": 4,
    "start_time": "2022-06-10T19:00:24.391Z"
   },
   {
    "duration": 22,
    "start_time": "2022-06-10T19:00:24.396Z"
   },
   {
    "duration": 19,
    "start_time": "2022-06-10T19:00:24.420Z"
   },
   {
    "duration": 12,
    "start_time": "2022-06-10T19:00:24.440Z"
   },
   {
    "duration": 40,
    "start_time": "2022-06-10T19:00:24.453Z"
   },
   {
    "duration": 28,
    "start_time": "2022-06-10T19:00:24.495Z"
   },
   {
    "duration": 3,
    "start_time": "2022-06-10T19:00:24.525Z"
   },
   {
    "duration": 586,
    "start_time": "2022-06-10T19:00:24.529Z"
   },
   {
    "duration": 466,
    "start_time": "2022-06-10T19:00:25.116Z"
   },
   {
    "duration": 417,
    "start_time": "2022-06-10T19:00:25.583Z"
   },
   {
    "duration": 1223,
    "start_time": "2022-06-10T19:00:26.001Z"
   },
   {
    "duration": 1868,
    "start_time": "2022-06-10T19:00:27.225Z"
   },
   {
    "duration": 3,
    "start_time": "2022-06-10T19:00:29.094Z"
   },
   {
    "duration": 807,
    "start_time": "2022-06-10T19:01:03.874Z"
   },
   {
    "duration": 425,
    "start_time": "2022-06-10T19:01:04.683Z"
   },
   {
    "duration": 67,
    "start_time": "2022-06-10T19:01:05.110Z"
   },
   {
    "duration": 3,
    "start_time": "2022-06-10T19:01:05.179Z"
   },
   {
    "duration": 22,
    "start_time": "2022-06-10T19:01:05.184Z"
   },
   {
    "duration": 20,
    "start_time": "2022-06-10T19:01:05.208Z"
   },
   {
    "duration": 23,
    "start_time": "2022-06-10T19:01:05.230Z"
   },
   {
    "duration": 42,
    "start_time": "2022-06-10T19:01:05.254Z"
   },
   {
    "duration": 25,
    "start_time": "2022-06-10T19:01:05.297Z"
   },
   {
    "duration": 4,
    "start_time": "2022-06-10T19:01:05.324Z"
   },
   {
    "duration": 618,
    "start_time": "2022-06-10T19:01:05.329Z"
   },
   {
    "duration": 471,
    "start_time": "2022-06-10T19:01:05.949Z"
   },
   {
    "duration": 436,
    "start_time": "2022-06-10T19:01:06.422Z"
   },
   {
    "duration": 1278,
    "start_time": "2022-06-10T19:01:06.859Z"
   },
   {
    "duration": 1734,
    "start_time": "2022-06-10T19:01:08.138Z"
   },
   {
    "duration": 3,
    "start_time": "2022-06-10T19:01:09.879Z"
   },
   {
    "duration": 1618,
    "start_time": "2022-06-10T19:01:24.541Z"
   },
   {
    "duration": 753,
    "start_time": "2022-06-10T19:01:32.206Z"
   },
   {
    "duration": 424,
    "start_time": "2022-06-10T19:01:32.961Z"
   },
   {
    "duration": 64,
    "start_time": "2022-06-10T19:01:33.386Z"
   },
   {
    "duration": 3,
    "start_time": "2022-06-10T19:01:33.452Z"
   },
   {
    "duration": 32,
    "start_time": "2022-06-10T19:01:33.456Z"
   },
   {
    "duration": 22,
    "start_time": "2022-06-10T19:01:33.489Z"
   },
   {
    "duration": 17,
    "start_time": "2022-06-10T19:01:33.513Z"
   },
   {
    "duration": 47,
    "start_time": "2022-06-10T19:01:33.531Z"
   },
   {
    "duration": 24,
    "start_time": "2022-06-10T19:01:33.580Z"
   },
   {
    "duration": 3,
    "start_time": "2022-06-10T19:01:33.606Z"
   },
   {
    "duration": 567,
    "start_time": "2022-06-10T19:01:33.611Z"
   },
   {
    "duration": 474,
    "start_time": "2022-06-10T19:01:34.179Z"
   },
   {
    "duration": 405,
    "start_time": "2022-06-10T19:01:34.655Z"
   },
   {
    "duration": 1215,
    "start_time": "2022-06-10T19:01:35.061Z"
   },
   {
    "duration": 1768,
    "start_time": "2022-06-10T19:01:36.278Z"
   },
   {
    "duration": 2,
    "start_time": "2022-06-10T19:01:38.047Z"
   },
   {
    "duration": 1594,
    "start_time": "2022-06-10T19:03:54.528Z"
   },
   {
    "duration": 1674,
    "start_time": "2022-06-10T19:04:07.698Z"
   },
   {
    "duration": 794,
    "start_time": "2022-06-10T19:04:46.686Z"
   },
   {
    "duration": 458,
    "start_time": "2022-06-10T19:04:47.482Z"
   },
   {
    "duration": 66,
    "start_time": "2022-06-10T19:04:47.942Z"
   },
   {
    "duration": 5,
    "start_time": "2022-06-10T19:04:48.010Z"
   },
   {
    "duration": 19,
    "start_time": "2022-06-10T19:04:48.016Z"
   },
   {
    "duration": 20,
    "start_time": "2022-06-10T19:04:48.036Z"
   },
   {
    "duration": 14,
    "start_time": "2022-06-10T19:04:48.078Z"
   },
   {
    "duration": 24,
    "start_time": "2022-06-10T19:04:48.094Z"
   },
   {
    "duration": 22,
    "start_time": "2022-06-10T19:04:48.120Z"
   },
   {
    "duration": 3,
    "start_time": "2022-06-10T19:04:48.144Z"
   },
   {
    "duration": 630,
    "start_time": "2022-06-10T19:04:48.149Z"
   },
   {
    "duration": 475,
    "start_time": "2022-06-10T19:04:48.781Z"
   },
   {
    "duration": 432,
    "start_time": "2022-06-10T19:04:49.258Z"
   },
   {
    "duration": 1220,
    "start_time": "2022-06-10T19:04:49.691Z"
   },
   {
    "duration": 1796,
    "start_time": "2022-06-10T19:04:50.912Z"
   },
   {
    "duration": 2,
    "start_time": "2022-06-10T19:04:52.709Z"
   },
   {
    "duration": 1679,
    "start_time": "2022-06-10T19:05:37.509Z"
   },
   {
    "duration": 792,
    "start_time": "2022-06-10T19:07:13.092Z"
   },
   {
    "duration": 411,
    "start_time": "2022-06-10T19:07:13.886Z"
   },
   {
    "duration": 65,
    "start_time": "2022-06-10T19:07:14.299Z"
   },
   {
    "duration": 3,
    "start_time": "2022-06-10T19:07:14.366Z"
   },
   {
    "duration": 19,
    "start_time": "2022-06-10T19:07:14.371Z"
   },
   {
    "duration": 18,
    "start_time": "2022-06-10T19:07:14.391Z"
   },
   {
    "duration": 12,
    "start_time": "2022-06-10T19:07:14.411Z"
   },
   {
    "duration": 26,
    "start_time": "2022-06-10T19:07:14.424Z"
   },
   {
    "duration": 49,
    "start_time": "2022-06-10T19:07:14.451Z"
   },
   {
    "duration": 3,
    "start_time": "2022-06-10T19:07:14.501Z"
   },
   {
    "duration": 586,
    "start_time": "2022-06-10T19:07:14.506Z"
   },
   {
    "duration": 482,
    "start_time": "2022-06-10T19:07:15.093Z"
   },
   {
    "duration": 422,
    "start_time": "2022-06-10T19:07:15.576Z"
   },
   {
    "duration": 1206,
    "start_time": "2022-06-10T19:07:16.001Z"
   },
   {
    "duration": 1584,
    "start_time": "2022-06-10T19:07:17.209Z"
   },
   {
    "duration": 2,
    "start_time": "2022-06-10T19:07:18.794Z"
   },
   {
    "duration": 1490,
    "start_time": "2022-06-10T19:22:15.680Z"
   },
   {
    "duration": 1385,
    "start_time": "2022-06-10T19:23:08.757Z"
   },
   {
    "duration": 809,
    "start_time": "2022-06-10T19:23:40.669Z"
   },
   {
    "duration": 414,
    "start_time": "2022-06-10T19:23:41.480Z"
   },
   {
    "duration": 65,
    "start_time": "2022-06-10T19:23:41.895Z"
   },
   {
    "duration": 3,
    "start_time": "2022-06-10T19:23:41.962Z"
   },
   {
    "duration": 28,
    "start_time": "2022-06-10T19:23:41.966Z"
   },
   {
    "duration": 18,
    "start_time": "2022-06-10T19:23:41.995Z"
   },
   {
    "duration": 12,
    "start_time": "2022-06-10T19:23:42.015Z"
   },
   {
    "duration": 26,
    "start_time": "2022-06-10T19:23:42.028Z"
   },
   {
    "duration": 42,
    "start_time": "2022-06-10T19:23:42.055Z"
   },
   {
    "duration": 3,
    "start_time": "2022-06-10T19:23:42.099Z"
   },
   {
    "duration": 585,
    "start_time": "2022-06-10T19:23:42.103Z"
   },
   {
    "duration": 451,
    "start_time": "2022-06-10T19:23:42.689Z"
   },
   {
    "duration": 439,
    "start_time": "2022-06-10T19:23:43.141Z"
   },
   {
    "duration": 1231,
    "start_time": "2022-06-10T19:23:43.582Z"
   },
   {
    "duration": 1555,
    "start_time": "2022-06-10T19:23:44.814Z"
   },
   {
    "duration": 1,
    "start_time": "2022-06-10T19:23:46.371Z"
   },
   {
    "duration": 1423,
    "start_time": "2022-06-10T19:28:57.482Z"
   },
   {
    "duration": 740,
    "start_time": "2022-06-10T19:30:25.133Z"
   },
   {
    "duration": 426,
    "start_time": "2022-06-10T19:30:25.878Z"
   },
   {
    "duration": 73,
    "start_time": "2022-06-10T19:30:26.305Z"
   },
   {
    "duration": 3,
    "start_time": "2022-06-10T19:30:26.380Z"
   },
   {
    "duration": 19,
    "start_time": "2022-06-10T19:30:26.384Z"
   },
   {
    "duration": 20,
    "start_time": "2022-06-10T19:30:26.404Z"
   },
   {
    "duration": 13,
    "start_time": "2022-06-10T19:30:26.425Z"
   },
   {
    "duration": 54,
    "start_time": "2022-06-10T19:30:26.440Z"
   },
   {
    "duration": 25,
    "start_time": "2022-06-10T19:30:26.496Z"
   },
   {
    "duration": 3,
    "start_time": "2022-06-10T19:30:26.523Z"
   },
   {
    "duration": 651,
    "start_time": "2022-06-10T19:30:26.528Z"
   },
   {
    "duration": 568,
    "start_time": "2022-06-10T19:30:27.180Z"
   },
   {
    "duration": 497,
    "start_time": "2022-06-10T19:30:27.750Z"
   },
   {
    "duration": 1188,
    "start_time": "2022-06-10T19:30:28.249Z"
   },
   {
    "duration": 1515,
    "start_time": "2022-06-10T19:30:29.439Z"
   },
   {
    "duration": 1400,
    "start_time": "2022-06-10T19:30:30.955Z"
   },
   {
    "duration": 2,
    "start_time": "2022-06-10T19:30:32.356Z"
   },
   {
    "duration": 1288,
    "start_time": "2022-06-10T19:31:33.919Z"
   },
   {
    "duration": 734,
    "start_time": "2022-06-10T19:31:38.925Z"
   },
   {
    "duration": 425,
    "start_time": "2022-06-10T19:31:39.661Z"
   },
   {
    "duration": 67,
    "start_time": "2022-06-10T19:31:40.087Z"
   },
   {
    "duration": 3,
    "start_time": "2022-06-10T19:31:40.156Z"
   },
   {
    "duration": 30,
    "start_time": "2022-06-10T19:31:40.161Z"
   },
   {
    "duration": 19,
    "start_time": "2022-06-10T19:31:40.192Z"
   },
   {
    "duration": 12,
    "start_time": "2022-06-10T19:31:40.212Z"
   },
   {
    "duration": 25,
    "start_time": "2022-06-10T19:31:40.226Z"
   },
   {
    "duration": 49,
    "start_time": "2022-06-10T19:31:40.252Z"
   },
   {
    "duration": 3,
    "start_time": "2022-06-10T19:31:40.302Z"
   },
   {
    "duration": 573,
    "start_time": "2022-06-10T19:31:40.306Z"
   },
   {
    "duration": 474,
    "start_time": "2022-06-10T19:31:40.880Z"
   },
   {
    "duration": 407,
    "start_time": "2022-06-10T19:31:41.356Z"
   },
   {
    "duration": 1247,
    "start_time": "2022-06-10T19:31:41.766Z"
   },
   {
    "duration": 1558,
    "start_time": "2022-06-10T19:31:43.015Z"
   },
   {
    "duration": 1341,
    "start_time": "2022-06-10T19:31:44.577Z"
   },
   {
    "duration": 2,
    "start_time": "2022-06-10T19:31:45.920Z"
   },
   {
    "duration": 780,
    "start_time": "2022-06-10T19:32:08.987Z"
   },
   {
    "duration": 412,
    "start_time": "2022-06-10T19:32:09.769Z"
   },
   {
    "duration": 67,
    "start_time": "2022-06-10T19:32:10.182Z"
   },
   {
    "duration": 4,
    "start_time": "2022-06-10T19:32:10.250Z"
   },
   {
    "duration": 33,
    "start_time": "2022-06-10T19:32:10.255Z"
   },
   {
    "duration": 18,
    "start_time": "2022-06-10T19:32:10.289Z"
   },
   {
    "duration": 14,
    "start_time": "2022-06-10T19:32:10.309Z"
   },
   {
    "duration": 24,
    "start_time": "2022-06-10T19:32:10.324Z"
   },
   {
    "duration": 42,
    "start_time": "2022-06-10T19:32:10.350Z"
   },
   {
    "duration": 3,
    "start_time": "2022-06-10T19:32:10.394Z"
   },
   {
    "duration": 595,
    "start_time": "2022-06-10T19:32:10.398Z"
   },
   {
    "duration": 518,
    "start_time": "2022-06-10T19:32:10.995Z"
   },
   {
    "duration": 419,
    "start_time": "2022-06-10T19:32:11.516Z"
   },
   {
    "duration": 1229,
    "start_time": "2022-06-10T19:32:11.937Z"
   },
   {
    "duration": 1496,
    "start_time": "2022-06-10T19:32:13.167Z"
   },
   {
    "duration": 1315,
    "start_time": "2022-06-10T19:32:14.664Z"
   },
   {
    "duration": 2,
    "start_time": "2022-06-10T19:32:15.981Z"
   },
   {
    "duration": 742,
    "start_time": "2022-06-10T19:32:46.222Z"
   },
   {
    "duration": 442,
    "start_time": "2022-06-10T19:32:46.965Z"
   },
   {
    "duration": 67,
    "start_time": "2022-06-10T19:32:47.408Z"
   },
   {
    "duration": 4,
    "start_time": "2022-06-10T19:32:47.476Z"
   },
   {
    "duration": 28,
    "start_time": "2022-06-10T19:32:47.482Z"
   },
   {
    "duration": 21,
    "start_time": "2022-06-10T19:32:47.511Z"
   },
   {
    "duration": 14,
    "start_time": "2022-06-10T19:32:47.533Z"
   },
   {
    "duration": 57,
    "start_time": "2022-06-10T19:32:47.549Z"
   },
   {
    "duration": 30,
    "start_time": "2022-06-10T19:32:47.608Z"
   },
   {
    "duration": 4,
    "start_time": "2022-06-10T19:32:47.641Z"
   },
   {
    "duration": 728,
    "start_time": "2022-06-10T19:32:47.648Z"
   },
   {
    "duration": 506,
    "start_time": "2022-06-10T19:32:48.378Z"
   },
   {
    "duration": 536,
    "start_time": "2022-06-10T19:32:48.886Z"
   },
   {
    "duration": 1207,
    "start_time": "2022-06-10T19:32:49.424Z"
   },
   {
    "duration": 1475,
    "start_time": "2022-06-10T19:32:50.632Z"
   },
   {
    "duration": 1463,
    "start_time": "2022-06-10T19:32:52.108Z"
   },
   {
    "duration": 2,
    "start_time": "2022-06-10T19:32:53.578Z"
   },
   {
    "duration": 750,
    "start_time": "2022-06-10T20:06:53.227Z"
   },
   {
    "duration": 435,
    "start_time": "2022-06-10T20:06:53.979Z"
   },
   {
    "duration": 64,
    "start_time": "2022-06-10T20:06:54.415Z"
   },
   {
    "duration": 3,
    "start_time": "2022-06-10T20:06:54.481Z"
   },
   {
    "duration": 17,
    "start_time": "2022-06-10T20:06:54.486Z"
   },
   {
    "duration": 20,
    "start_time": "2022-06-10T20:06:54.504Z"
   },
   {
    "duration": 13,
    "start_time": "2022-06-10T20:06:54.525Z"
   },
   {
    "duration": 49,
    "start_time": "2022-06-10T20:06:54.539Z"
   },
   {
    "duration": 23,
    "start_time": "2022-06-10T20:06:54.589Z"
   },
   {
    "duration": 3,
    "start_time": "2022-06-10T20:06:54.614Z"
   },
   {
    "duration": 631,
    "start_time": "2022-06-10T20:06:54.619Z"
   },
   {
    "duration": 485,
    "start_time": "2022-06-10T20:06:55.252Z"
   },
   {
    "duration": 446,
    "start_time": "2022-06-10T20:06:55.739Z"
   },
   {
    "duration": 1202,
    "start_time": "2022-06-10T20:06:56.187Z"
   },
   {
    "duration": 1545,
    "start_time": "2022-06-10T20:06:57.391Z"
   },
   {
    "duration": 1309,
    "start_time": "2022-06-10T20:06:58.937Z"
   },
   {
    "duration": 1333,
    "start_time": "2022-06-10T20:07:00.248Z"
   },
   {
    "duration": 1434,
    "start_time": "2022-06-10T20:08:33.841Z"
   },
   {
    "duration": 813,
    "start_time": "2022-06-11T18:36:28.628Z"
   },
   {
    "duration": 1224,
    "start_time": "2022-06-11T18:36:29.443Z"
   },
   {
    "duration": 122,
    "start_time": "2022-06-11T18:36:30.669Z"
   },
   {
    "duration": 4,
    "start_time": "2022-06-11T18:36:30.794Z"
   },
   {
    "duration": 39,
    "start_time": "2022-06-11T18:36:30.800Z"
   },
   {
    "duration": 30,
    "start_time": "2022-06-11T18:36:30.841Z"
   },
   {
    "duration": 31,
    "start_time": "2022-06-11T18:36:30.874Z"
   },
   {
    "duration": 39,
    "start_time": "2022-06-11T18:36:30.907Z"
   },
   {
    "duration": 32,
    "start_time": "2022-06-11T18:36:30.947Z"
   },
   {
    "duration": 4,
    "start_time": "2022-06-11T18:36:30.982Z"
   },
   {
    "duration": 613,
    "start_time": "2022-06-11T18:36:30.988Z"
   },
   {
    "duration": 544,
    "start_time": "2022-06-11T18:36:31.603Z"
   },
   {
    "duration": 473,
    "start_time": "2022-06-11T18:36:32.149Z"
   },
   {
    "duration": 1399,
    "start_time": "2022-06-11T18:36:32.624Z"
   },
   {
    "duration": 584,
    "start_time": "2022-06-11T18:36:34.025Z"
   },
   {
    "duration": 0,
    "start_time": "2022-06-11T18:36:34.611Z"
   },
   {
    "duration": 0,
    "start_time": "2022-06-11T18:36:34.612Z"
   },
   {
    "duration": 960,
    "start_time": "2022-06-11T18:38:11.985Z"
   },
   {
    "duration": 542,
    "start_time": "2022-06-11T18:38:12.947Z"
   },
   {
    "duration": 76,
    "start_time": "2022-06-11T18:38:13.491Z"
   },
   {
    "duration": 4,
    "start_time": "2022-06-11T18:38:13.569Z"
   },
   {
    "duration": 20,
    "start_time": "2022-06-11T18:38:13.574Z"
   },
   {
    "duration": 41,
    "start_time": "2022-06-11T18:38:13.596Z"
   },
   {
    "duration": 17,
    "start_time": "2022-06-11T18:38:13.639Z"
   },
   {
    "duration": 39,
    "start_time": "2022-06-11T18:38:13.658Z"
   },
   {
    "duration": 64,
    "start_time": "2022-06-11T18:38:13.699Z"
   },
   {
    "duration": 3,
    "start_time": "2022-06-11T18:38:13.766Z"
   },
   {
    "duration": 625,
    "start_time": "2022-06-11T18:38:13.772Z"
   },
   {
    "duration": 521,
    "start_time": "2022-06-11T18:38:14.398Z"
   },
   {
    "duration": 444,
    "start_time": "2022-06-11T18:38:14.920Z"
   },
   {
    "duration": 1457,
    "start_time": "2022-06-11T18:38:15.365Z"
   },
   {
    "duration": 2873,
    "start_time": "2022-06-11T18:38:16.828Z"
   },
   {
    "duration": 1500,
    "start_time": "2022-06-11T18:38:19.703Z"
   },
   {
    "duration": 1444,
    "start_time": "2022-06-11T18:38:21.205Z"
   },
   {
    "duration": 2652,
    "start_time": "2022-06-11T18:39:20.707Z"
   },
   {
    "duration": 973,
    "start_time": "2022-06-11T18:39:33.077Z"
   },
   {
    "duration": 450,
    "start_time": "2022-06-11T18:39:34.053Z"
   },
   {
    "duration": 71,
    "start_time": "2022-06-11T18:39:34.504Z"
   },
   {
    "duration": 4,
    "start_time": "2022-06-11T18:39:34.577Z"
   },
   {
    "duration": 19,
    "start_time": "2022-06-11T18:39:34.583Z"
   },
   {
    "duration": 36,
    "start_time": "2022-06-11T18:39:34.603Z"
   },
   {
    "duration": 16,
    "start_time": "2022-06-11T18:39:34.641Z"
   },
   {
    "duration": 36,
    "start_time": "2022-06-11T18:39:34.659Z"
   },
   {
    "duration": 53,
    "start_time": "2022-06-11T18:39:34.697Z"
   },
   {
    "duration": 4,
    "start_time": "2022-06-11T18:39:34.752Z"
   },
   {
    "duration": 602,
    "start_time": "2022-06-11T18:39:34.757Z"
   },
   {
    "duration": 482,
    "start_time": "2022-06-11T18:39:35.361Z"
   },
   {
    "duration": 492,
    "start_time": "2022-06-11T18:39:35.844Z"
   },
   {
    "duration": 1335,
    "start_time": "2022-06-11T18:39:36.339Z"
   },
   {
    "duration": 2641,
    "start_time": "2022-06-11T18:39:37.676Z"
   },
   {
    "duration": 1433,
    "start_time": "2022-06-11T18:39:40.320Z"
   },
   {
    "duration": 1398,
    "start_time": "2022-06-11T18:39:41.754Z"
   },
   {
    "duration": 4277,
    "start_time": "2022-06-11T18:41:40.981Z"
   },
   {
    "duration": 1066,
    "start_time": "2022-06-11T18:41:49.271Z"
   },
   {
    "duration": 481,
    "start_time": "2022-06-11T18:41:50.339Z"
   },
   {
    "duration": 82,
    "start_time": "2022-06-11T18:41:50.822Z"
   },
   {
    "duration": 3,
    "start_time": "2022-06-11T18:41:50.906Z"
   },
   {
    "duration": 22,
    "start_time": "2022-06-11T18:41:50.911Z"
   },
   {
    "duration": 27,
    "start_time": "2022-06-11T18:41:50.935Z"
   },
   {
    "duration": 22,
    "start_time": "2022-06-11T18:41:50.964Z"
   },
   {
    "duration": 61,
    "start_time": "2022-06-11T18:41:50.988Z"
   },
   {
    "duration": 29,
    "start_time": "2022-06-11T18:41:51.050Z"
   },
   {
    "duration": 3,
    "start_time": "2022-06-11T18:41:51.081Z"
   },
   {
    "duration": 672,
    "start_time": "2022-06-11T18:41:51.085Z"
   },
   {
    "duration": 555,
    "start_time": "2022-06-11T18:41:51.759Z"
   },
   {
    "duration": 456,
    "start_time": "2022-06-11T18:41:52.316Z"
   },
   {
    "duration": 1397,
    "start_time": "2022-06-11T18:41:52.774Z"
   },
   {
    "duration": 4146,
    "start_time": "2022-06-11T18:41:54.173Z"
   },
   {
    "duration": 1521,
    "start_time": "2022-06-11T18:41:58.321Z"
   },
   {
    "duration": 1491,
    "start_time": "2022-06-11T18:41:59.843Z"
   },
   {
    "duration": 981,
    "start_time": "2022-06-11T18:42:43.678Z"
   },
   {
    "duration": 467,
    "start_time": "2022-06-11T18:42:44.661Z"
   },
   {
    "duration": 74,
    "start_time": "2022-06-11T18:42:45.130Z"
   },
   {
    "duration": 5,
    "start_time": "2022-06-11T18:42:45.208Z"
   },
   {
    "duration": 39,
    "start_time": "2022-06-11T18:42:45.227Z"
   },
   {
    "duration": 65,
    "start_time": "2022-06-11T18:42:45.268Z"
   },
   {
    "duration": 16,
    "start_time": "2022-06-11T18:42:45.335Z"
   },
   {
    "duration": 53,
    "start_time": "2022-06-11T18:42:45.353Z"
   },
   {
    "duration": 39,
    "start_time": "2022-06-11T18:42:45.408Z"
   },
   {
    "duration": 4,
    "start_time": "2022-06-11T18:42:45.450Z"
   },
   {
    "duration": 617,
    "start_time": "2022-06-11T18:42:45.456Z"
   },
   {
    "duration": 612,
    "start_time": "2022-06-11T18:42:46.075Z"
   },
   {
    "duration": 505,
    "start_time": "2022-06-11T18:42:46.689Z"
   },
   {
    "duration": 1288,
    "start_time": "2022-06-11T18:42:47.197Z"
   },
   {
    "duration": 2694,
    "start_time": "2022-06-11T18:42:48.487Z"
   },
   {
    "duration": 1459,
    "start_time": "2022-06-11T18:42:51.183Z"
   },
   {
    "duration": 1492,
    "start_time": "2022-06-11T18:42:52.644Z"
   },
   {
    "duration": 1133,
    "start_time": "2022-06-11T18:44:56.228Z"
   },
   {
    "duration": 450,
    "start_time": "2022-06-11T18:44:57.363Z"
   },
   {
    "duration": 68,
    "start_time": "2022-06-11T18:44:57.815Z"
   },
   {
    "duration": 4,
    "start_time": "2022-06-11T18:44:57.885Z"
   },
   {
    "duration": 19,
    "start_time": "2022-06-11T18:44:57.890Z"
   },
   {
    "duration": 34,
    "start_time": "2022-06-11T18:44:57.910Z"
   },
   {
    "duration": 14,
    "start_time": "2022-06-11T18:44:57.946Z"
   },
   {
    "duration": 33,
    "start_time": "2022-06-11T18:44:57.961Z"
   },
   {
    "duration": 54,
    "start_time": "2022-06-11T18:44:57.996Z"
   },
   {
    "duration": 4,
    "start_time": "2022-06-11T18:44:58.053Z"
   },
   {
    "duration": 642,
    "start_time": "2022-06-11T18:44:58.059Z"
   },
   {
    "duration": 522,
    "start_time": "2022-06-11T18:44:58.703Z"
   },
   {
    "duration": 444,
    "start_time": "2022-06-11T18:44:59.227Z"
   },
   {
    "duration": 1363,
    "start_time": "2022-06-11T18:44:59.673Z"
   },
   {
    "duration": 2899,
    "start_time": "2022-06-11T18:45:01.038Z"
   },
   {
    "duration": 2937,
    "start_time": "2022-06-11T18:45:03.939Z"
   },
   {
    "duration": 2757,
    "start_time": "2022-06-11T18:45:06.878Z"
   },
   {
    "duration": 35,
    "start_time": "2022-06-11T18:48:01.284Z"
   },
   {
    "duration": 17,
    "start_time": "2022-06-11T18:49:57.858Z"
   },
   {
    "duration": 2,
    "start_time": "2022-06-11T18:52:05.660Z"
   },
   {
    "duration": 6,
    "start_time": "2022-06-11T19:05:52.783Z"
   },
   {
    "duration": 39,
    "start_time": "2022-06-11T19:06:08.048Z"
   },
   {
    "duration": 100,
    "start_time": "2022-06-11T19:07:12.340Z"
   },
   {
    "duration": 9,
    "start_time": "2022-06-11T19:07:34.579Z"
   },
   {
    "duration": 10,
    "start_time": "2022-06-11T19:07:37.608Z"
   },
   {
    "duration": 1101,
    "start_time": "2022-06-11T19:07:50.684Z"
   },
   {
    "duration": 504,
    "start_time": "2022-06-11T19:07:51.787Z"
   },
   {
    "duration": 84,
    "start_time": "2022-06-11T19:07:52.293Z"
   },
   {
    "duration": 4,
    "start_time": "2022-06-11T19:07:52.379Z"
   },
   {
    "duration": 26,
    "start_time": "2022-06-11T19:07:52.384Z"
   },
   {
    "duration": 39,
    "start_time": "2022-06-11T19:07:52.412Z"
   },
   {
    "duration": 15,
    "start_time": "2022-06-11T19:07:52.453Z"
   },
   {
    "duration": 30,
    "start_time": "2022-06-11T19:07:52.470Z"
   },
   {
    "duration": 63,
    "start_time": "2022-06-11T19:07:52.502Z"
   },
   {
    "duration": 4,
    "start_time": "2022-06-11T19:07:52.567Z"
   },
   {
    "duration": 687,
    "start_time": "2022-06-11T19:07:52.572Z"
   },
   {
    "duration": 573,
    "start_time": "2022-06-11T19:07:53.263Z"
   },
   {
    "duration": 492,
    "start_time": "2022-06-11T19:07:53.838Z"
   },
   {
    "duration": 1504,
    "start_time": "2022-06-11T19:07:54.335Z"
   },
   {
    "duration": 2914,
    "start_time": "2022-06-11T19:07:55.842Z"
   },
   {
    "duration": 2796,
    "start_time": "2022-06-11T19:07:58.757Z"
   },
   {
    "duration": 3062,
    "start_time": "2022-06-11T19:08:01.555Z"
   },
   {
    "duration": 98,
    "start_time": "2022-06-11T19:08:04.619Z"
   },
   {
    "duration": 12,
    "start_time": "2022-06-11T19:08:43.183Z"
   },
   {
    "duration": 38,
    "start_time": "2022-06-11T19:08:55.193Z"
   },
   {
    "duration": 36,
    "start_time": "2022-06-11T19:09:07.452Z"
   },
   {
    "duration": 44,
    "start_time": "2022-06-11T19:09:10.536Z"
   },
   {
    "duration": 2854,
    "start_time": "2022-06-11T19:10:08.390Z"
   },
   {
    "duration": 2615,
    "start_time": "2022-06-11T19:10:27.462Z"
   },
   {
    "duration": 2616,
    "start_time": "2022-06-11T19:10:45.442Z"
   },
   {
    "duration": 2444,
    "start_time": "2022-06-11T19:10:53.583Z"
   },
   {
    "duration": 2566,
    "start_time": "2022-06-11T19:11:01.684Z"
   },
   {
    "duration": 2770,
    "start_time": "2022-06-11T19:11:19.952Z"
   },
   {
    "duration": 27,
    "start_time": "2022-06-11T19:13:41.431Z"
   },
   {
    "duration": 45,
    "start_time": "2022-06-11T19:13:51.392Z"
   },
   {
    "duration": 986,
    "start_time": "2022-06-11T19:14:07.474Z"
   },
   {
    "duration": 470,
    "start_time": "2022-06-11T19:14:08.462Z"
   },
   {
    "duration": 72,
    "start_time": "2022-06-11T19:14:08.934Z"
   },
   {
    "duration": 3,
    "start_time": "2022-06-11T19:14:09.008Z"
   },
   {
    "duration": 30,
    "start_time": "2022-06-11T19:14:09.012Z"
   },
   {
    "duration": 21,
    "start_time": "2022-06-11T19:14:09.044Z"
   },
   {
    "duration": 14,
    "start_time": "2022-06-11T19:14:09.066Z"
   },
   {
    "duration": 57,
    "start_time": "2022-06-11T19:14:09.082Z"
   },
   {
    "duration": 30,
    "start_time": "2022-06-11T19:14:09.141Z"
   },
   {
    "duration": 3,
    "start_time": "2022-06-11T19:14:09.174Z"
   },
   {
    "duration": 608,
    "start_time": "2022-06-11T19:14:09.178Z"
   },
   {
    "duration": 515,
    "start_time": "2022-06-11T19:14:09.787Z"
   },
   {
    "duration": 469,
    "start_time": "2022-06-11T19:14:10.304Z"
   },
   {
    "duration": 1344,
    "start_time": "2022-06-11T19:14:10.774Z"
   },
   {
    "duration": 2616,
    "start_time": "2022-06-11T19:14:12.120Z"
   },
   {
    "duration": 2735,
    "start_time": "2022-06-11T19:14:14.738Z"
   },
   {
    "duration": 2614,
    "start_time": "2022-06-11T19:14:17.474Z"
   },
   {
    "duration": 38,
    "start_time": "2022-06-11T19:14:20.090Z"
   },
   {
    "duration": 28,
    "start_time": "2022-06-11T19:14:59.934Z"
   },
   {
    "duration": 1049,
    "start_time": "2022-06-11T19:15:05.794Z"
   },
   {
    "duration": 504,
    "start_time": "2022-06-11T19:15:06.845Z"
   },
   {
    "duration": 86,
    "start_time": "2022-06-11T19:15:07.351Z"
   },
   {
    "duration": 4,
    "start_time": "2022-06-11T19:15:07.439Z"
   },
   {
    "duration": 38,
    "start_time": "2022-06-11T19:15:07.444Z"
   },
   {
    "duration": 40,
    "start_time": "2022-06-11T19:15:07.484Z"
   },
   {
    "duration": 32,
    "start_time": "2022-06-11T19:15:07.526Z"
   },
   {
    "duration": 47,
    "start_time": "2022-06-11T19:15:07.560Z"
   },
   {
    "duration": 30,
    "start_time": "2022-06-11T19:15:07.609Z"
   },
   {
    "duration": 4,
    "start_time": "2022-06-11T19:15:07.640Z"
   },
   {
    "duration": 598,
    "start_time": "2022-06-11T19:15:07.645Z"
   },
   {
    "duration": 492,
    "start_time": "2022-06-11T19:15:08.244Z"
   },
   {
    "duration": 443,
    "start_time": "2022-06-11T19:15:08.737Z"
   },
   {
    "duration": 1282,
    "start_time": "2022-06-11T19:15:09.183Z"
   },
   {
    "duration": 2591,
    "start_time": "2022-06-11T19:15:10.466Z"
   },
   {
    "duration": 2870,
    "start_time": "2022-06-11T19:15:13.059Z"
   },
   {
    "duration": 2970,
    "start_time": "2022-06-11T19:15:15.930Z"
   },
   {
    "duration": 39,
    "start_time": "2022-06-11T19:15:18.902Z"
   },
   {
    "duration": 1475,
    "start_time": "2022-06-11T19:17:31.039Z"
   },
   {
    "duration": 1031,
    "start_time": "2022-06-11T19:17:42.826Z"
   },
   {
    "duration": 474,
    "start_time": "2022-06-11T19:17:43.860Z"
   },
   {
    "duration": 71,
    "start_time": "2022-06-11T19:17:44.336Z"
   },
   {
    "duration": 4,
    "start_time": "2022-06-11T19:17:44.409Z"
   },
   {
    "duration": 22,
    "start_time": "2022-06-11T19:17:44.414Z"
   },
   {
    "duration": 19,
    "start_time": "2022-06-11T19:17:44.437Z"
   },
   {
    "duration": 14,
    "start_time": "2022-06-11T19:17:44.457Z"
   },
   {
    "duration": 59,
    "start_time": "2022-06-11T19:17:44.472Z"
   },
   {
    "duration": 30,
    "start_time": "2022-06-11T19:17:44.532Z"
   },
   {
    "duration": 3,
    "start_time": "2022-06-11T19:17:44.564Z"
   },
   {
    "duration": 628,
    "start_time": "2022-06-11T19:17:44.568Z"
   },
   {
    "duration": 491,
    "start_time": "2022-06-11T19:17:45.198Z"
   },
   {
    "duration": 466,
    "start_time": "2022-06-11T19:17:45.691Z"
   },
   {
    "duration": 1430,
    "start_time": "2022-06-11T19:17:46.159Z"
   },
   {
    "duration": 2542,
    "start_time": "2022-06-11T19:17:47.590Z"
   },
   {
    "duration": 2563,
    "start_time": "2022-06-11T19:17:50.133Z"
   },
   {
    "duration": 2684,
    "start_time": "2022-06-11T19:17:52.698Z"
   },
   {
    "duration": 28,
    "start_time": "2022-06-11T19:17:55.384Z"
   },
   {
    "duration": 1611,
    "start_time": "2022-06-11T19:18:15.233Z"
   },
   {
    "duration": 39,
    "start_time": "2022-06-11T19:24:39.246Z"
   },
   {
    "duration": 22,
    "start_time": "2022-06-11T19:24:56.917Z"
   },
   {
    "duration": 19,
    "start_time": "2022-06-11T19:25:11.050Z"
   },
   {
    "duration": 29,
    "start_time": "2022-06-11T19:26:14.382Z"
   },
   {
    "duration": 31,
    "start_time": "2022-06-11T19:27:27.644Z"
   },
   {
    "duration": 20,
    "start_time": "2022-06-11T19:27:48.480Z"
   },
   {
    "duration": 21,
    "start_time": "2022-06-11T19:27:55.455Z"
   },
   {
    "duration": 20,
    "start_time": "2022-06-11T19:28:00.874Z"
   },
   {
    "duration": 40,
    "start_time": "2022-06-11T19:28:13.293Z"
   },
   {
    "duration": 36,
    "start_time": "2022-06-11T19:28:38.341Z"
   },
   {
    "duration": 1013,
    "start_time": "2022-06-11T19:31:30.254Z"
   },
   {
    "duration": 495,
    "start_time": "2022-06-11T19:31:31.269Z"
   },
   {
    "duration": 75,
    "start_time": "2022-06-11T19:31:31.765Z"
   },
   {
    "duration": 4,
    "start_time": "2022-06-11T19:31:31.842Z"
   },
   {
    "duration": 22,
    "start_time": "2022-06-11T19:31:31.848Z"
   },
   {
    "duration": 23,
    "start_time": "2022-06-11T19:31:31.871Z"
   },
   {
    "duration": 37,
    "start_time": "2022-06-11T19:31:31.895Z"
   },
   {
    "duration": 52,
    "start_time": "2022-06-11T19:31:31.934Z"
   },
   {
    "duration": 41,
    "start_time": "2022-06-11T19:31:31.989Z"
   },
   {
    "duration": 4,
    "start_time": "2022-06-11T19:31:32.032Z"
   },
   {
    "duration": 624,
    "start_time": "2022-06-11T19:31:32.038Z"
   },
   {
    "duration": 512,
    "start_time": "2022-06-11T19:31:32.664Z"
   },
   {
    "duration": 506,
    "start_time": "2022-06-11T19:31:33.178Z"
   },
   {
    "duration": 1303,
    "start_time": "2022-06-11T19:31:33.686Z"
   },
   {
    "duration": 2732,
    "start_time": "2022-06-11T19:31:34.990Z"
   },
   {
    "duration": 2604,
    "start_time": "2022-06-11T19:31:37.724Z"
   },
   {
    "duration": 2746,
    "start_time": "2022-06-11T19:31:40.330Z"
   },
   {
    "duration": 125,
    "start_time": "2022-06-11T19:31:43.078Z"
   },
   {
    "duration": 0,
    "start_time": "2022-06-11T19:31:43.205Z"
   },
   {
    "duration": 1025,
    "start_time": "2022-06-11T19:31:52.450Z"
   },
   {
    "duration": 487,
    "start_time": "2022-06-11T19:31:53.477Z"
   },
   {
    "duration": 80,
    "start_time": "2022-06-11T19:31:53.965Z"
   },
   {
    "duration": 5,
    "start_time": "2022-06-11T19:31:54.047Z"
   },
   {
    "duration": 18,
    "start_time": "2022-06-11T19:31:54.053Z"
   },
   {
    "duration": 21,
    "start_time": "2022-06-11T19:31:54.072Z"
   },
   {
    "duration": 40,
    "start_time": "2022-06-11T19:31:54.095Z"
   },
   {
    "duration": 28,
    "start_time": "2022-06-11T19:31:54.137Z"
   },
   {
    "duration": 26,
    "start_time": "2022-06-11T19:31:54.166Z"
   },
   {
    "duration": 4,
    "start_time": "2022-06-11T19:31:54.195Z"
   },
   {
    "duration": 620,
    "start_time": "2022-06-11T19:31:54.200Z"
   },
   {
    "duration": 533,
    "start_time": "2022-06-11T19:31:54.821Z"
   },
   {
    "duration": 423,
    "start_time": "2022-06-11T19:31:55.356Z"
   },
   {
    "duration": 1328,
    "start_time": "2022-06-11T19:31:55.781Z"
   },
   {
    "duration": 2659,
    "start_time": "2022-06-11T19:31:57.111Z"
   },
   {
    "duration": 2917,
    "start_time": "2022-06-11T19:31:59.772Z"
   },
   {
    "duration": 2966,
    "start_time": "2022-06-11T19:32:02.690Z"
   },
   {
    "duration": 32,
    "start_time": "2022-06-11T19:32:05.657Z"
   },
   {
    "duration": 108,
    "start_time": "2022-06-11T19:32:05.690Z"
   },
   {
    "duration": 59,
    "start_time": "2022-06-11T19:33:26.225Z"
   },
   {
    "duration": 1101,
    "start_time": "2022-06-11T19:34:50.293Z"
   },
   {
    "duration": 539,
    "start_time": "2022-06-11T19:34:51.396Z"
   },
   {
    "duration": 74,
    "start_time": "2022-06-11T19:34:51.937Z"
   },
   {
    "duration": 16,
    "start_time": "2022-06-11T19:34:52.013Z"
   },
   {
    "duration": 16,
    "start_time": "2022-06-11T19:34:52.030Z"
   },
   {
    "duration": 22,
    "start_time": "2022-06-11T19:34:52.048Z"
   },
   {
    "duration": 21,
    "start_time": "2022-06-11T19:34:52.071Z"
   },
   {
    "duration": 61,
    "start_time": "2022-06-11T19:34:52.094Z"
   },
   {
    "duration": 38,
    "start_time": "2022-06-11T19:34:52.157Z"
   },
   {
    "duration": 3,
    "start_time": "2022-06-11T19:34:52.198Z"
   },
   {
    "duration": 627,
    "start_time": "2022-06-11T19:34:52.202Z"
   },
   {
    "duration": 533,
    "start_time": "2022-06-11T19:34:52.830Z"
   },
   {
    "duration": 444,
    "start_time": "2022-06-11T19:34:53.364Z"
   },
   {
    "duration": 1300,
    "start_time": "2022-06-11T19:34:53.810Z"
   },
   {
    "duration": 2720,
    "start_time": "2022-06-11T19:34:55.111Z"
   },
   {
    "duration": 2706,
    "start_time": "2022-06-11T19:34:57.832Z"
   },
   {
    "duration": 3022,
    "start_time": "2022-06-11T19:35:00.540Z"
   },
   {
    "duration": 66,
    "start_time": "2022-06-11T19:35:03.564Z"
   },
   {
    "duration": 119,
    "start_time": "2022-06-11T19:35:03.632Z"
   },
   {
    "duration": 21,
    "start_time": "2022-06-11T19:36:45.012Z"
   },
   {
    "duration": 33,
    "start_time": "2022-06-11T19:36:51.724Z"
   },
   {
    "duration": 11,
    "start_time": "2022-06-11T19:37:06.291Z"
   },
   {
    "duration": 8,
    "start_time": "2022-06-11T19:37:16.414Z"
   },
   {
    "duration": 7,
    "start_time": "2022-06-11T19:39:53.363Z"
   },
   {
    "duration": 1086,
    "start_time": "2022-06-11T19:40:12.900Z"
   },
   {
    "duration": 499,
    "start_time": "2022-06-11T19:40:13.988Z"
   },
   {
    "duration": 76,
    "start_time": "2022-06-11T19:40:14.489Z"
   },
   {
    "duration": 3,
    "start_time": "2022-06-11T19:40:14.568Z"
   },
   {
    "duration": 21,
    "start_time": "2022-06-11T19:40:14.573Z"
   },
   {
    "duration": 36,
    "start_time": "2022-06-11T19:40:14.595Z"
   },
   {
    "duration": 14,
    "start_time": "2022-06-11T19:40:14.633Z"
   },
   {
    "duration": 29,
    "start_time": "2022-06-11T19:40:14.648Z"
   },
   {
    "duration": 63,
    "start_time": "2022-06-11T19:40:14.679Z"
   },
   {
    "duration": 3,
    "start_time": "2022-06-11T19:40:14.744Z"
   },
   {
    "duration": 635,
    "start_time": "2022-06-11T19:40:14.749Z"
   },
   {
    "duration": 518,
    "start_time": "2022-06-11T19:40:15.385Z"
   },
   {
    "duration": 586,
    "start_time": "2022-06-11T19:40:15.905Z"
   },
   {
    "duration": 1407,
    "start_time": "2022-06-11T19:40:16.494Z"
   },
   {
    "duration": 2857,
    "start_time": "2022-06-11T19:40:17.903Z"
   },
   {
    "duration": 2875,
    "start_time": "2022-06-11T19:40:20.762Z"
   },
   {
    "duration": 3130,
    "start_time": "2022-06-11T19:40:23.639Z"
   },
   {
    "duration": 32,
    "start_time": "2022-06-11T19:40:26.771Z"
   },
   {
    "duration": 27,
    "start_time": "2022-06-11T19:40:26.805Z"
   },
   {
    "duration": 7,
    "start_time": "2022-06-11T19:41:50.318Z"
   },
   {
    "duration": 7,
    "start_time": "2022-06-11T19:41:53.131Z"
   },
   {
    "duration": 8,
    "start_time": "2022-06-11T19:48:04.893Z"
   },
   {
    "duration": 15,
    "start_time": "2022-06-11T19:52:19.284Z"
   },
   {
    "duration": 6,
    "start_time": "2022-06-11T19:53:37.639Z"
   },
   {
    "duration": 2,
    "start_time": "2022-06-11T19:54:09.562Z"
   },
   {
    "duration": 33,
    "start_time": "2022-06-11T19:55:16.806Z"
   },
   {
    "duration": 7,
    "start_time": "2022-06-11T19:57:11.978Z"
   },
   {
    "duration": 26,
    "start_time": "2022-06-11T19:58:51.625Z"
   },
   {
    "duration": 1060,
    "start_time": "2022-06-11T19:59:04.287Z"
   },
   {
    "duration": 510,
    "start_time": "2022-06-11T19:59:05.349Z"
   },
   {
    "duration": 107,
    "start_time": "2022-06-11T19:59:05.860Z"
   },
   {
    "duration": 5,
    "start_time": "2022-06-11T19:59:05.969Z"
   },
   {
    "duration": 22,
    "start_time": "2022-06-11T19:59:05.976Z"
   },
   {
    "duration": 35,
    "start_time": "2022-06-11T19:59:06.000Z"
   },
   {
    "duration": 16,
    "start_time": "2022-06-11T19:59:06.036Z"
   },
   {
    "duration": 29,
    "start_time": "2022-06-11T19:59:06.054Z"
   },
   {
    "duration": 68,
    "start_time": "2022-06-11T19:59:06.085Z"
   },
   {
    "duration": 4,
    "start_time": "2022-06-11T19:59:06.155Z"
   },
   {
    "duration": 798,
    "start_time": "2022-06-11T19:59:06.161Z"
   },
   {
    "duration": 519,
    "start_time": "2022-06-11T19:59:06.961Z"
   },
   {
    "duration": 451,
    "start_time": "2022-06-11T19:59:07.482Z"
   },
   {
    "duration": 1312,
    "start_time": "2022-06-11T19:59:07.934Z"
   },
   {
    "duration": 2903,
    "start_time": "2022-06-11T19:59:09.248Z"
   },
   {
    "duration": 2833,
    "start_time": "2022-06-11T19:59:12.153Z"
   },
   {
    "duration": 2946,
    "start_time": "2022-06-11T19:59:14.988Z"
   },
   {
    "duration": 31,
    "start_time": "2022-06-11T19:59:17.935Z"
   },
   {
    "duration": 12,
    "start_time": "2022-06-11T19:59:17.968Z"
   },
   {
    "duration": 21,
    "start_time": "2022-06-11T19:59:17.982Z"
   },
   {
    "duration": 33,
    "start_time": "2022-06-11T19:59:18.006Z"
   },
   {
    "duration": 11,
    "start_time": "2022-06-11T20:12:39.746Z"
   },
   {
    "duration": 106,
    "start_time": "2022-06-11T20:30:04.426Z"
   },
   {
    "duration": 8,
    "start_time": "2022-06-11T20:30:44.043Z"
   },
   {
    "duration": 1034,
    "start_time": "2022-06-11T20:35:13.082Z"
   },
   {
    "duration": 520,
    "start_time": "2022-06-11T20:35:14.118Z"
   },
   {
    "duration": 74,
    "start_time": "2022-06-11T20:35:14.643Z"
   },
   {
    "duration": 12,
    "start_time": "2022-06-11T20:35:14.719Z"
   },
   {
    "duration": 30,
    "start_time": "2022-06-11T20:35:14.738Z"
   },
   {
    "duration": 26,
    "start_time": "2022-06-11T20:35:14.770Z"
   },
   {
    "duration": 18,
    "start_time": "2022-06-11T20:35:14.798Z"
   },
   {
    "duration": 47,
    "start_time": "2022-06-11T20:35:14.828Z"
   },
   {
    "duration": 32,
    "start_time": "2022-06-11T20:35:14.876Z"
   },
   {
    "duration": 4,
    "start_time": "2022-06-11T20:35:14.910Z"
   },
   {
    "duration": 640,
    "start_time": "2022-06-11T20:35:14.915Z"
   },
   {
    "duration": 554,
    "start_time": "2022-06-11T20:35:15.556Z"
   },
   {
    "duration": 582,
    "start_time": "2022-06-11T20:35:16.112Z"
   },
   {
    "duration": 1311,
    "start_time": "2022-06-11T20:35:16.695Z"
   },
   {
    "duration": 2803,
    "start_time": "2022-06-11T20:35:18.007Z"
   },
   {
    "duration": 2743,
    "start_time": "2022-06-11T20:35:20.812Z"
   },
   {
    "duration": 2902,
    "start_time": "2022-06-11T20:35:23.556Z"
   },
   {
    "duration": 36,
    "start_time": "2022-06-11T20:35:26.460Z"
   },
   {
    "duration": 35,
    "start_time": "2022-06-11T20:35:26.498Z"
   },
   {
    "duration": 9,
    "start_time": "2022-06-11T20:35:26.539Z"
   },
   {
    "duration": 11,
    "start_time": "2022-06-11T20:35:26.550Z"
   },
   {
    "duration": 10,
    "start_time": "2022-06-11T20:35:26.563Z"
   },
   {
    "duration": 18,
    "start_time": "2022-06-11T20:35:26.575Z"
   },
   {
    "duration": 13,
    "start_time": "2022-06-11T20:35:26.595Z"
   },
   {
    "duration": 49,
    "start_time": "2022-06-12T15:38:41.455Z"
   },
   {
    "duration": 1223,
    "start_time": "2022-06-12T15:38:46.882Z"
   },
   {
    "duration": 1036,
    "start_time": "2022-06-12T15:38:48.107Z"
   },
   {
    "duration": 75,
    "start_time": "2022-06-12T15:38:49.145Z"
   },
   {
    "duration": 4,
    "start_time": "2022-06-12T15:38:49.223Z"
   },
   {
    "duration": 21,
    "start_time": "2022-06-12T15:38:49.228Z"
   },
   {
    "duration": 23,
    "start_time": "2022-06-12T15:38:49.251Z"
   },
   {
    "duration": 18,
    "start_time": "2022-06-12T15:38:49.277Z"
   },
   {
    "duration": 54,
    "start_time": "2022-06-12T15:38:49.297Z"
   },
   {
    "duration": 32,
    "start_time": "2022-06-12T15:38:49.353Z"
   },
   {
    "duration": 3,
    "start_time": "2022-06-12T15:38:49.388Z"
   },
   {
    "duration": 651,
    "start_time": "2022-06-12T15:38:49.392Z"
   },
   {
    "duration": 522,
    "start_time": "2022-06-12T15:38:50.046Z"
   },
   {
    "duration": 464,
    "start_time": "2022-06-12T15:38:50.570Z"
   },
   {
    "duration": 1379,
    "start_time": "2022-06-12T15:38:51.036Z"
   },
   {
    "duration": 2864,
    "start_time": "2022-06-12T15:38:52.418Z"
   },
   {
    "duration": 2806,
    "start_time": "2022-06-12T15:38:55.284Z"
   },
   {
    "duration": 2958,
    "start_time": "2022-06-12T15:38:58.092Z"
   },
   {
    "duration": 31,
    "start_time": "2022-06-12T15:39:01.051Z"
   },
   {
    "duration": 26,
    "start_time": "2022-06-12T15:39:01.084Z"
   },
   {
    "duration": 22,
    "start_time": "2022-06-12T15:39:01.111Z"
   },
   {
    "duration": 14,
    "start_time": "2022-06-12T15:39:01.134Z"
   },
   {
    "duration": 29,
    "start_time": "2022-06-12T15:39:01.150Z"
   },
   {
    "duration": 49,
    "start_time": "2022-06-12T15:39:01.181Z"
   },
   {
    "duration": 50,
    "start_time": "2022-06-12T15:39:01.232Z"
   },
   {
    "duration": 6,
    "start_time": "2022-06-12T15:40:57.158Z"
   },
   {
    "duration": 20,
    "start_time": "2022-06-12T15:41:46.149Z"
   },
   {
    "duration": 18,
    "start_time": "2022-06-12T15:42:15.702Z"
   },
   {
    "duration": 4,
    "start_time": "2022-06-12T15:42:23.680Z"
   },
   {
    "duration": 130,
    "start_time": "2022-06-12T15:44:59.994Z"
   },
   {
    "duration": 48,
    "start_time": "2022-06-12T15:45:17.627Z"
   },
   {
    "duration": 46,
    "start_time": "2022-06-12T15:45:24.395Z"
   },
   {
    "duration": 56,
    "start_time": "2022-06-12T15:45:39.201Z"
   },
   {
    "duration": 46,
    "start_time": "2022-06-12T15:45:46.324Z"
   },
   {
    "duration": 17,
    "start_time": "2022-06-12T15:46:08.811Z"
   },
   {
    "duration": 1058,
    "start_time": "2022-06-12T15:46:15.040Z"
   },
   {
    "duration": 520,
    "start_time": "2022-06-12T15:46:16.100Z"
   },
   {
    "duration": 79,
    "start_time": "2022-06-12T15:46:16.622Z"
   },
   {
    "duration": 4,
    "start_time": "2022-06-12T15:46:16.703Z"
   },
   {
    "duration": 30,
    "start_time": "2022-06-12T15:46:16.709Z"
   },
   {
    "duration": 39,
    "start_time": "2022-06-12T15:46:16.741Z"
   },
   {
    "duration": 24,
    "start_time": "2022-06-12T15:46:16.781Z"
   },
   {
    "duration": 31,
    "start_time": "2022-06-12T15:46:16.806Z"
   },
   {
    "duration": 38,
    "start_time": "2022-06-12T15:46:16.839Z"
   },
   {
    "duration": 4,
    "start_time": "2022-06-12T15:46:16.879Z"
   },
   {
    "duration": 616,
    "start_time": "2022-06-12T15:46:16.885Z"
   },
   {
    "duration": 545,
    "start_time": "2022-06-12T15:46:17.503Z"
   },
   {
    "duration": 482,
    "start_time": "2022-06-12T15:46:18.050Z"
   },
   {
    "duration": 1425,
    "start_time": "2022-06-12T15:46:18.534Z"
   },
   {
    "duration": 2881,
    "start_time": "2022-06-12T15:46:19.960Z"
   },
   {
    "duration": 2886,
    "start_time": "2022-06-12T15:46:22.843Z"
   },
   {
    "duration": 2889,
    "start_time": "2022-06-12T15:46:25.731Z"
   },
   {
    "duration": 35,
    "start_time": "2022-06-12T15:46:28.623Z"
   },
   {
    "duration": 14,
    "start_time": "2022-06-12T15:46:28.660Z"
   },
   {
    "duration": 11,
    "start_time": "2022-06-12T15:46:28.676Z"
   },
   {
    "duration": 34,
    "start_time": "2022-06-12T15:46:28.689Z"
   },
   {
    "duration": 2,
    "start_time": "2022-06-12T15:46:28.725Z"
   },
   {
    "duration": 10,
    "start_time": "2022-06-12T15:46:28.729Z"
   },
   {
    "duration": 7,
    "start_time": "2022-06-12T15:46:28.740Z"
   },
   {
    "duration": 27,
    "start_time": "2022-06-12T16:17:52.030Z"
   },
   {
    "duration": 4,
    "start_time": "2022-06-12T16:40:25.248Z"
   },
   {
    "duration": 84,
    "start_time": "2022-06-12T16:40:57.510Z"
   },
   {
    "duration": 390,
    "start_time": "2022-06-12T17:45:43.523Z"
   },
   {
    "duration": 194,
    "start_time": "2022-06-12T17:46:51.176Z"
   },
   {
    "duration": 179,
    "start_time": "2022-06-12T17:53:18.075Z"
   },
   {
    "duration": 6,
    "start_time": "2022-06-12T17:56:05.384Z"
   },
   {
    "duration": 270,
    "start_time": "2022-06-12T17:56:09.316Z"
   },
   {
    "duration": 176,
    "start_time": "2022-06-12T17:56:18.571Z"
   },
   {
    "duration": 154,
    "start_time": "2022-06-12T17:57:02.031Z"
   },
   {
    "duration": 146,
    "start_time": "2022-06-12T18:02:53.713Z"
   },
   {
    "duration": 149,
    "start_time": "2022-06-12T18:04:16.067Z"
   },
   {
    "duration": 61,
    "start_time": "2022-06-12T18:11:10.423Z"
   },
   {
    "duration": 10,
    "start_time": "2022-06-12T18:12:25.033Z"
   },
   {
    "duration": 1046,
    "start_time": "2022-06-12T18:12:36.740Z"
   },
   {
    "duration": 1059,
    "start_time": "2022-06-12T18:12:37.787Z"
   },
   {
    "duration": 91,
    "start_time": "2022-06-12T18:12:38.848Z"
   },
   {
    "duration": 4,
    "start_time": "2022-06-12T18:12:38.941Z"
   },
   {
    "duration": 23,
    "start_time": "2022-06-12T18:12:38.947Z"
   },
   {
    "duration": 22,
    "start_time": "2022-06-12T18:12:38.972Z"
   },
   {
    "duration": 32,
    "start_time": "2022-06-12T18:12:38.996Z"
   },
   {
    "duration": 38,
    "start_time": "2022-06-12T18:12:39.030Z"
   },
   {
    "duration": 59,
    "start_time": "2022-06-12T18:12:39.070Z"
   },
   {
    "duration": 6,
    "start_time": "2022-06-12T18:12:39.133Z"
   },
   {
    "duration": 210,
    "start_time": "2022-06-12T18:12:39.141Z"
   },
   {
    "duration": 141,
    "start_time": "2022-06-12T18:12:39.352Z"
   },
   {
    "duration": 0,
    "start_time": "2022-06-12T18:12:39.495Z"
   },
   {
    "duration": 0,
    "start_time": "2022-06-12T18:12:39.496Z"
   },
   {
    "duration": 0,
    "start_time": "2022-06-12T18:12:39.497Z"
   },
   {
    "duration": 0,
    "start_time": "2022-06-12T18:12:39.498Z"
   },
   {
    "duration": 0,
    "start_time": "2022-06-12T18:12:39.500Z"
   },
   {
    "duration": 0,
    "start_time": "2022-06-12T18:12:39.501Z"
   },
   {
    "duration": 0,
    "start_time": "2022-06-12T18:12:39.502Z"
   },
   {
    "duration": 0,
    "start_time": "2022-06-12T18:12:39.503Z"
   },
   {
    "duration": 0,
    "start_time": "2022-06-12T18:12:39.504Z"
   },
   {
    "duration": 190,
    "start_time": "2022-06-12T18:13:34.744Z"
   },
   {
    "duration": 148,
    "start_time": "2022-06-12T18:14:10.010Z"
   },
   {
    "duration": 164,
    "start_time": "2022-06-12T18:14:48.147Z"
   },
   {
    "duration": 137,
    "start_time": "2022-06-12T18:14:56.150Z"
   },
   {
    "duration": 25,
    "start_time": "2022-06-12T18:15:57.655Z"
   },
   {
    "duration": 20,
    "start_time": "2022-06-12T18:22:29.457Z"
   },
   {
    "duration": 156,
    "start_time": "2022-06-12T18:25:17.042Z"
   },
   {
    "duration": 135,
    "start_time": "2022-06-12T18:25:56.725Z"
   },
   {
    "duration": 147,
    "start_time": "2022-06-12T18:26:24.392Z"
   },
   {
    "duration": 134,
    "start_time": "2022-06-12T18:26:35.456Z"
   },
   {
    "duration": 145,
    "start_time": "2022-06-12T18:27:31.596Z"
   },
   {
    "duration": 1058,
    "start_time": "2022-06-12T18:27:39.413Z"
   },
   {
    "duration": 494,
    "start_time": "2022-06-12T18:27:40.473Z"
   },
   {
    "duration": 74,
    "start_time": "2022-06-12T18:27:40.969Z"
   },
   {
    "duration": 3,
    "start_time": "2022-06-12T18:27:41.045Z"
   },
   {
    "duration": 30,
    "start_time": "2022-06-12T18:27:41.050Z"
   },
   {
    "duration": 22,
    "start_time": "2022-06-12T18:27:41.081Z"
   },
   {
    "duration": 20,
    "start_time": "2022-06-12T18:27:41.104Z"
   },
   {
    "duration": 31,
    "start_time": "2022-06-12T18:27:41.125Z"
   },
   {
    "duration": 36,
    "start_time": "2022-06-12T18:27:41.158Z"
   },
   {
    "duration": 3,
    "start_time": "2022-06-12T18:27:41.197Z"
   },
   {
    "duration": 235,
    "start_time": "2022-06-12T18:27:41.224Z"
   },
   {
    "duration": 0,
    "start_time": "2022-06-12T18:27:41.461Z"
   },
   {
    "duration": 0,
    "start_time": "2022-06-12T18:27:41.462Z"
   },
   {
    "duration": 0,
    "start_time": "2022-06-12T18:27:41.463Z"
   },
   {
    "duration": 0,
    "start_time": "2022-06-12T18:27:41.465Z"
   },
   {
    "duration": 0,
    "start_time": "2022-06-12T18:27:41.466Z"
   },
   {
    "duration": 0,
    "start_time": "2022-06-12T18:27:41.467Z"
   },
   {
    "duration": 0,
    "start_time": "2022-06-12T18:27:41.468Z"
   },
   {
    "duration": 0,
    "start_time": "2022-06-12T18:27:41.469Z"
   },
   {
    "duration": 0,
    "start_time": "2022-06-12T18:27:41.470Z"
   },
   {
    "duration": 0,
    "start_time": "2022-06-12T18:27:41.471Z"
   },
   {
    "duration": 0,
    "start_time": "2022-06-12T18:27:41.472Z"
   },
   {
    "duration": 125,
    "start_time": "2022-06-12T18:30:50.787Z"
   },
   {
    "duration": 19,
    "start_time": "2022-06-12T18:30:57.569Z"
   },
   {
    "duration": 1076,
    "start_time": "2022-06-12T18:31:06.511Z"
   },
   {
    "duration": 551,
    "start_time": "2022-06-12T18:31:07.589Z"
   },
   {
    "duration": 93,
    "start_time": "2022-06-12T18:31:08.142Z"
   },
   {
    "duration": 4,
    "start_time": "2022-06-12T18:31:08.238Z"
   },
   {
    "duration": 26,
    "start_time": "2022-06-12T18:31:08.244Z"
   },
   {
    "duration": 22,
    "start_time": "2022-06-12T18:31:08.271Z"
   },
   {
    "duration": 36,
    "start_time": "2022-06-12T18:31:08.294Z"
   },
   {
    "duration": 33,
    "start_time": "2022-06-12T18:31:08.331Z"
   },
   {
    "duration": 34,
    "start_time": "2022-06-12T18:31:08.365Z"
   },
   {
    "duration": 4,
    "start_time": "2022-06-12T18:31:08.423Z"
   },
   {
    "duration": 152,
    "start_time": "2022-06-12T18:31:08.428Z"
   },
   {
    "duration": 17,
    "start_time": "2022-06-12T18:31:08.582Z"
   },
   {
    "duration": 106,
    "start_time": "2022-06-12T18:31:08.601Z"
   },
   {
    "duration": 0,
    "start_time": "2022-06-12T18:31:08.709Z"
   },
   {
    "duration": 0,
    "start_time": "2022-06-12T18:31:08.710Z"
   },
   {
    "duration": 0,
    "start_time": "2022-06-12T18:31:08.711Z"
   },
   {
    "duration": 0,
    "start_time": "2022-06-12T18:31:08.712Z"
   },
   {
    "duration": 0,
    "start_time": "2022-06-12T18:31:08.713Z"
   },
   {
    "duration": 0,
    "start_time": "2022-06-12T18:31:08.723Z"
   },
   {
    "duration": 0,
    "start_time": "2022-06-12T18:31:08.724Z"
   },
   {
    "duration": 0,
    "start_time": "2022-06-12T18:31:08.724Z"
   },
   {
    "duration": 0,
    "start_time": "2022-06-12T18:31:08.725Z"
   },
   {
    "duration": 132,
    "start_time": "2022-06-12T18:31:56.703Z"
   },
   {
    "duration": 18,
    "start_time": "2022-06-12T18:32:22.235Z"
   },
   {
    "duration": 1192,
    "start_time": "2022-06-12T18:32:52.402Z"
   },
   {
    "duration": 554,
    "start_time": "2022-06-12T18:32:53.596Z"
   },
   {
    "duration": 79,
    "start_time": "2022-06-12T18:32:54.152Z"
   },
   {
    "duration": 5,
    "start_time": "2022-06-12T18:32:54.235Z"
   },
   {
    "duration": 19,
    "start_time": "2022-06-12T18:32:54.243Z"
   },
   {
    "duration": 23,
    "start_time": "2022-06-12T18:32:54.264Z"
   },
   {
    "duration": 16,
    "start_time": "2022-06-12T18:32:54.288Z"
   },
   {
    "duration": 38,
    "start_time": "2022-06-12T18:32:54.324Z"
   },
   {
    "duration": 29,
    "start_time": "2022-06-12T18:32:54.364Z"
   },
   {
    "duration": 27,
    "start_time": "2022-06-12T18:32:54.396Z"
   },
   {
    "duration": 158,
    "start_time": "2022-06-12T18:32:54.426Z"
   },
   {
    "duration": 18,
    "start_time": "2022-06-12T18:32:54.586Z"
   },
   {
    "duration": 124,
    "start_time": "2022-06-12T18:32:54.605Z"
   },
   {
    "duration": 0,
    "start_time": "2022-06-12T18:32:54.731Z"
   },
   {
    "duration": 0,
    "start_time": "2022-06-12T18:32:54.733Z"
   },
   {
    "duration": 0,
    "start_time": "2022-06-12T18:32:54.734Z"
   },
   {
    "duration": 0,
    "start_time": "2022-06-12T18:32:54.735Z"
   },
   {
    "duration": 0,
    "start_time": "2022-06-12T18:32:54.737Z"
   },
   {
    "duration": 0,
    "start_time": "2022-06-12T18:32:54.738Z"
   },
   {
    "duration": 0,
    "start_time": "2022-06-12T18:32:54.739Z"
   },
   {
    "duration": 0,
    "start_time": "2022-06-12T18:32:54.740Z"
   },
   {
    "duration": 0,
    "start_time": "2022-06-12T18:32:54.742Z"
   },
   {
    "duration": 20,
    "start_time": "2022-06-12T18:34:20.053Z"
   },
   {
    "duration": 1082,
    "start_time": "2022-06-12T18:34:30.193Z"
   },
   {
    "duration": 523,
    "start_time": "2022-06-12T18:34:31.277Z"
   },
   {
    "duration": 84,
    "start_time": "2022-06-12T18:34:31.801Z"
   },
   {
    "duration": 4,
    "start_time": "2022-06-12T18:34:31.888Z"
   },
   {
    "duration": 34,
    "start_time": "2022-06-12T18:34:31.894Z"
   },
   {
    "duration": 32,
    "start_time": "2022-06-12T18:34:31.930Z"
   },
   {
    "duration": 15,
    "start_time": "2022-06-12T18:34:31.964Z"
   },
   {
    "duration": 58,
    "start_time": "2022-06-12T18:34:31.982Z"
   },
   {
    "duration": 29,
    "start_time": "2022-06-12T18:34:32.043Z"
   },
   {
    "duration": 4,
    "start_time": "2022-06-12T18:34:32.075Z"
   },
   {
    "duration": 168,
    "start_time": "2022-06-12T18:34:32.080Z"
   },
   {
    "duration": 25,
    "start_time": "2022-06-12T18:34:32.250Z"
   },
   {
    "duration": 123,
    "start_time": "2022-06-12T18:34:32.277Z"
   },
   {
    "duration": 0,
    "start_time": "2022-06-12T18:34:32.402Z"
   },
   {
    "duration": 0,
    "start_time": "2022-06-12T18:34:32.403Z"
   },
   {
    "duration": 0,
    "start_time": "2022-06-12T18:34:32.404Z"
   },
   {
    "duration": 0,
    "start_time": "2022-06-12T18:34:32.405Z"
   },
   {
    "duration": 1,
    "start_time": "2022-06-12T18:34:32.406Z"
   },
   {
    "duration": 0,
    "start_time": "2022-06-12T18:34:32.408Z"
   },
   {
    "duration": 0,
    "start_time": "2022-06-12T18:34:32.423Z"
   },
   {
    "duration": 0,
    "start_time": "2022-06-12T18:34:32.424Z"
   },
   {
    "duration": 0,
    "start_time": "2022-06-12T18:34:32.426Z"
   },
   {
    "duration": 18,
    "start_time": "2022-06-12T18:35:46.290Z"
   },
   {
    "duration": 21,
    "start_time": "2022-06-12T18:35:57.985Z"
   },
   {
    "duration": 33,
    "start_time": "2022-06-12T18:39:29.264Z"
   },
   {
    "duration": 18,
    "start_time": "2022-06-12T18:39:49.115Z"
   },
   {
    "duration": 19,
    "start_time": "2022-06-12T18:40:39.108Z"
   },
   {
    "duration": 20,
    "start_time": "2022-06-12T18:40:42.367Z"
   },
   {
    "duration": 20,
    "start_time": "2022-06-12T18:41:54.603Z"
   },
   {
    "duration": 14,
    "start_time": "2022-06-12T18:41:58.542Z"
   },
   {
    "duration": 21,
    "start_time": "2022-06-12T18:42:58.094Z"
   },
   {
    "duration": 17,
    "start_time": "2022-06-12T18:43:14.659Z"
   },
   {
    "duration": 31,
    "start_time": "2022-06-12T18:43:21.825Z"
   },
   {
    "duration": 29,
    "start_time": "2022-06-12T18:43:37.393Z"
   },
   {
    "duration": 25,
    "start_time": "2022-06-12T18:43:44.222Z"
   },
   {
    "duration": 21,
    "start_time": "2022-06-12T18:43:46.868Z"
   },
   {
    "duration": 23,
    "start_time": "2022-06-12T18:57:32.058Z"
   },
   {
    "duration": 35,
    "start_time": "2022-06-12T18:58:36.282Z"
   },
   {
    "duration": 33,
    "start_time": "2022-06-12T19:27:46.143Z"
   },
   {
    "duration": 69,
    "start_time": "2022-06-12T19:28:09.796Z"
   },
   {
    "duration": 120,
    "start_time": "2022-06-12T19:43:26.027Z"
   },
   {
    "duration": 63,
    "start_time": "2022-06-12T19:43:47.156Z"
   },
   {
    "duration": 44,
    "start_time": "2022-06-12T19:45:11.418Z"
   },
   {
    "duration": 44,
    "start_time": "2022-06-12T19:46:21.599Z"
   },
   {
    "duration": 25,
    "start_time": "2022-06-12T19:52:08.461Z"
   },
   {
    "duration": 92,
    "start_time": "2022-06-12T19:52:55.952Z"
   },
   {
    "duration": 1129,
    "start_time": "2022-06-12T19:54:03.265Z"
   },
   {
    "duration": 531,
    "start_time": "2022-06-12T19:54:04.396Z"
   },
   {
    "duration": 84,
    "start_time": "2022-06-12T19:54:04.928Z"
   },
   {
    "duration": 11,
    "start_time": "2022-06-12T19:54:05.014Z"
   },
   {
    "duration": 27,
    "start_time": "2022-06-12T19:54:05.027Z"
   },
   {
    "duration": 22,
    "start_time": "2022-06-12T19:54:05.056Z"
   },
   {
    "duration": 26,
    "start_time": "2022-06-12T19:54:05.080Z"
   },
   {
    "duration": 40,
    "start_time": "2022-06-12T19:54:05.108Z"
   },
   {
    "duration": 35,
    "start_time": "2022-06-12T19:54:05.150Z"
   },
   {
    "duration": 4,
    "start_time": "2022-06-12T19:54:05.188Z"
   },
   {
    "duration": 173,
    "start_time": "2022-06-12T19:54:05.194Z"
   },
   {
    "duration": 15,
    "start_time": "2022-06-12T19:54:05.369Z"
   },
   {
    "duration": 173,
    "start_time": "2022-06-12T19:54:05.386Z"
   },
   {
    "duration": 110,
    "start_time": "2022-06-12T19:54:05.561Z"
   },
   {
    "duration": 0,
    "start_time": "2022-06-12T19:54:05.672Z"
   },
   {
    "duration": 0,
    "start_time": "2022-06-12T19:54:05.673Z"
   },
   {
    "duration": 0,
    "start_time": "2022-06-12T19:54:05.674Z"
   },
   {
    "duration": 0,
    "start_time": "2022-06-12T19:54:05.675Z"
   },
   {
    "duration": 0,
    "start_time": "2022-06-12T19:54:05.676Z"
   },
   {
    "duration": 0,
    "start_time": "2022-06-12T19:54:05.677Z"
   },
   {
    "duration": 0,
    "start_time": "2022-06-12T19:54:05.678Z"
   },
   {
    "duration": 0,
    "start_time": "2022-06-12T19:54:05.679Z"
   },
   {
    "duration": 0,
    "start_time": "2022-06-12T19:54:05.680Z"
   },
   {
    "duration": 156,
    "start_time": "2022-06-12T19:55:50.304Z"
   },
   {
    "duration": 1171,
    "start_time": "2022-06-12T20:02:22.313Z"
   },
   {
    "duration": 536,
    "start_time": "2022-06-12T20:02:23.487Z"
   },
   {
    "duration": 85,
    "start_time": "2022-06-12T20:02:24.025Z"
   },
   {
    "duration": 17,
    "start_time": "2022-06-12T20:02:24.112Z"
   },
   {
    "duration": 19,
    "start_time": "2022-06-12T20:02:24.136Z"
   },
   {
    "duration": 24,
    "start_time": "2022-06-12T20:02:24.157Z"
   },
   {
    "duration": 14,
    "start_time": "2022-06-12T20:02:24.183Z"
   },
   {
    "duration": 50,
    "start_time": "2022-06-12T20:02:24.199Z"
   },
   {
    "duration": 29,
    "start_time": "2022-06-12T20:02:24.250Z"
   },
   {
    "duration": 3,
    "start_time": "2022-06-12T20:02:24.282Z"
   },
   {
    "duration": 173,
    "start_time": "2022-06-12T20:02:24.287Z"
   },
   {
    "duration": 16,
    "start_time": "2022-06-12T20:02:24.462Z"
   },
   {
    "duration": 192,
    "start_time": "2022-06-12T20:02:24.480Z"
   },
   {
    "duration": 121,
    "start_time": "2022-06-12T20:02:24.673Z"
   },
   {
    "duration": 0,
    "start_time": "2022-06-12T20:02:24.796Z"
   },
   {
    "duration": 0,
    "start_time": "2022-06-12T20:02:24.798Z"
   },
   {
    "duration": 0,
    "start_time": "2022-06-12T20:02:24.799Z"
   },
   {
    "duration": 0,
    "start_time": "2022-06-12T20:02:24.800Z"
   },
   {
    "duration": 0,
    "start_time": "2022-06-12T20:02:24.801Z"
   },
   {
    "duration": 0,
    "start_time": "2022-06-12T20:02:24.803Z"
   },
   {
    "duration": 0,
    "start_time": "2022-06-12T20:02:24.804Z"
   },
   {
    "duration": 0,
    "start_time": "2022-06-12T20:02:24.805Z"
   },
   {
    "duration": 0,
    "start_time": "2022-06-12T20:02:24.806Z"
   },
   {
    "duration": 19,
    "start_time": "2022-06-12T20:18:20.253Z"
   },
   {
    "duration": 199,
    "start_time": "2022-06-12T20:21:43.278Z"
   },
   {
    "duration": 162,
    "start_time": "2022-06-12T20:22:38.198Z"
   },
   {
    "duration": 160,
    "start_time": "2022-06-12T20:24:39.432Z"
   },
   {
    "duration": 192,
    "start_time": "2022-06-12T20:28:45.026Z"
   },
   {
    "duration": 214,
    "start_time": "2022-06-12T20:28:57.953Z"
   },
   {
    "duration": 194,
    "start_time": "2022-06-12T20:29:13.131Z"
   },
   {
    "duration": 386,
    "start_time": "2022-06-12T20:29:41.722Z"
   },
   {
    "duration": 451,
    "start_time": "2022-06-12T20:30:20.964Z"
   },
   {
    "duration": 517,
    "start_time": "2022-06-12T20:36:10.343Z"
   },
   {
    "duration": 408,
    "start_time": "2022-06-12T20:36:22.464Z"
   },
   {
    "duration": 204,
    "start_time": "2022-06-12T20:36:58.759Z"
   },
   {
    "duration": 321,
    "start_time": "2022-06-12T20:38:42.883Z"
   },
   {
    "duration": 234,
    "start_time": "2022-06-12T20:39:48.953Z"
   },
   {
    "duration": 227,
    "start_time": "2022-06-12T20:40:03.936Z"
   },
   {
    "duration": 215,
    "start_time": "2022-06-12T20:40:17.236Z"
   },
   {
    "duration": 218,
    "start_time": "2022-06-12T20:40:26.522Z"
   },
   {
    "duration": 239,
    "start_time": "2022-06-12T20:41:57.352Z"
   },
   {
    "duration": 366,
    "start_time": "2022-06-12T20:42:10.743Z"
   },
   {
    "duration": 242,
    "start_time": "2022-06-12T20:42:44.559Z"
   },
   {
    "duration": 213,
    "start_time": "2022-06-12T20:43:52.942Z"
   },
   {
    "duration": 247,
    "start_time": "2022-06-12T20:43:59.827Z"
   },
   {
    "duration": 219,
    "start_time": "2022-06-12T20:44:34.714Z"
   },
   {
    "duration": 20,
    "start_time": "2022-06-12T20:47:15.760Z"
   },
   {
    "duration": 112,
    "start_time": "2022-06-12T20:47:24.952Z"
   },
   {
    "duration": 221,
    "start_time": "2022-06-12T20:47:43.154Z"
   },
   {
    "duration": 109,
    "start_time": "2022-06-12T20:47:59.955Z"
   },
   {
    "duration": 166,
    "start_time": "2022-06-12T20:49:20.284Z"
   },
   {
    "duration": 112,
    "start_time": "2022-06-12T20:49:34.786Z"
   },
   {
    "duration": 483,
    "start_time": "2022-06-12T20:50:11.017Z"
   },
   {
    "duration": 121,
    "start_time": "2022-06-12T20:50:20.675Z"
   },
   {
    "duration": 224,
    "start_time": "2022-06-12T20:50:50.550Z"
   },
   {
    "duration": 213,
    "start_time": "2022-06-12T20:51:29.372Z"
   },
   {
    "duration": 209,
    "start_time": "2022-06-12T20:51:55.575Z"
   },
   {
    "duration": 254,
    "start_time": "2022-06-12T20:52:13.901Z"
   },
   {
    "duration": 258,
    "start_time": "2022-06-12T20:56:38.630Z"
   },
   {
    "duration": 352,
    "start_time": "2022-06-12T20:57:11.939Z"
   },
   {
    "duration": 233,
    "start_time": "2022-06-12T20:57:34.513Z"
   },
   {
    "duration": 250,
    "start_time": "2022-06-12T20:58:36.823Z"
   },
   {
    "duration": 230,
    "start_time": "2022-06-12T20:59:06.847Z"
   },
   {
    "duration": 250,
    "start_time": "2022-06-12T21:00:53.925Z"
   },
   {
    "duration": 241,
    "start_time": "2022-06-12T21:01:18.314Z"
   },
   {
    "duration": 228,
    "start_time": "2022-06-12T21:02:02.151Z"
   },
   {
    "duration": 247,
    "start_time": "2022-06-12T21:03:23.753Z"
   },
   {
    "duration": 45,
    "start_time": "2022-06-13T17:33:40.098Z"
   },
   {
    "duration": 1140,
    "start_time": "2022-06-13T17:33:46.241Z"
   },
   {
    "duration": 1246,
    "start_time": "2022-06-13T17:33:47.383Z"
   },
   {
    "duration": 84,
    "start_time": "2022-06-13T17:33:48.631Z"
   },
   {
    "duration": 4,
    "start_time": "2022-06-13T17:33:48.718Z"
   },
   {
    "duration": 24,
    "start_time": "2022-06-13T17:33:48.724Z"
   },
   {
    "duration": 44,
    "start_time": "2022-06-13T17:33:48.750Z"
   },
   {
    "duration": 25,
    "start_time": "2022-06-13T17:33:48.795Z"
   },
   {
    "duration": 34,
    "start_time": "2022-06-13T17:33:48.822Z"
   },
   {
    "duration": 49,
    "start_time": "2022-06-13T17:33:48.857Z"
   },
   {
    "duration": 4,
    "start_time": "2022-06-13T17:33:48.908Z"
   },
   {
    "duration": 149,
    "start_time": "2022-06-13T17:33:48.914Z"
   },
   {
    "duration": 18,
    "start_time": "2022-06-13T17:33:49.065Z"
   },
   {
    "duration": 154,
    "start_time": "2022-06-13T17:33:49.098Z"
   },
   {
    "duration": 246,
    "start_time": "2022-06-13T17:33:49.254Z"
   },
   {
    "duration": 217,
    "start_time": "2022-06-13T17:33:49.502Z"
   },
   {
    "duration": 212,
    "start_time": "2022-06-13T17:33:49.721Z"
   },
   {
    "duration": 226,
    "start_time": "2022-06-13T17:33:49.935Z"
   },
   {
    "duration": 285,
    "start_time": "2022-06-13T17:33:50.162Z"
   },
   {
    "duration": 260,
    "start_time": "2022-06-13T17:33:50.449Z"
   },
   {
    "duration": 92,
    "start_time": "2022-06-13T17:33:50.713Z"
   },
   {
    "duration": 0,
    "start_time": "2022-06-13T17:33:50.808Z"
   },
   {
    "duration": 0,
    "start_time": "2022-06-13T17:33:50.809Z"
   },
   {
    "duration": 0,
    "start_time": "2022-06-13T17:33:50.810Z"
   },
   {
    "duration": 0,
    "start_time": "2022-06-13T17:33:50.811Z"
   },
   {
    "duration": 0,
    "start_time": "2022-06-13T17:33:50.811Z"
   },
   {
    "duration": 0,
    "start_time": "2022-06-13T17:33:50.812Z"
   },
   {
    "duration": 1154,
    "start_time": "2022-06-13T18:01:38.965Z"
   },
   {
    "duration": 652,
    "start_time": "2022-06-13T18:01:40.121Z"
   },
   {
    "duration": 77,
    "start_time": "2022-06-13T18:01:40.774Z"
   },
   {
    "duration": 5,
    "start_time": "2022-06-13T18:01:40.853Z"
   },
   {
    "duration": 41,
    "start_time": "2022-06-13T18:01:40.860Z"
   },
   {
    "duration": 36,
    "start_time": "2022-06-13T18:01:40.904Z"
   },
   {
    "duration": 17,
    "start_time": "2022-06-13T18:01:40.941Z"
   },
   {
    "duration": 42,
    "start_time": "2022-06-13T18:01:40.960Z"
   },
   {
    "duration": 32,
    "start_time": "2022-06-13T18:01:41.004Z"
   },
   {
    "duration": 3,
    "start_time": "2022-06-13T18:01:41.040Z"
   },
   {
    "duration": 184,
    "start_time": "2022-06-13T18:01:41.045Z"
   },
   {
    "duration": 23,
    "start_time": "2022-06-13T18:01:41.232Z"
   },
   {
    "duration": 224,
    "start_time": "2022-06-13T18:01:41.257Z"
   },
   {
    "duration": 275,
    "start_time": "2022-06-13T18:01:41.483Z"
   },
   {
    "duration": 265,
    "start_time": "2022-06-13T18:01:41.759Z"
   },
   {
    "duration": 320,
    "start_time": "2022-06-13T18:01:42.026Z"
   },
   {
    "duration": 352,
    "start_time": "2022-06-13T18:01:42.348Z"
   },
   {
    "duration": 393,
    "start_time": "2022-06-13T18:01:42.705Z"
   },
   {
    "duration": 301,
    "start_time": "2022-06-13T18:01:43.101Z"
   },
   {
    "duration": 108,
    "start_time": "2022-06-13T18:01:43.407Z"
   },
   {
    "duration": 0,
    "start_time": "2022-06-13T18:01:43.516Z"
   },
   {
    "duration": 0,
    "start_time": "2022-06-13T18:01:43.517Z"
   },
   {
    "duration": 0,
    "start_time": "2022-06-13T18:01:43.518Z"
   },
   {
    "duration": 0,
    "start_time": "2022-06-13T18:01:43.519Z"
   },
   {
    "duration": 0,
    "start_time": "2022-06-13T18:01:43.520Z"
   },
   {
    "duration": 0,
    "start_time": "2022-06-13T18:01:43.521Z"
   },
   {
    "duration": 204,
    "start_time": "2022-06-13T18:19:55.954Z"
   },
   {
    "duration": 175,
    "start_time": "2022-06-13T18:36:02.066Z"
   },
   {
    "duration": 161,
    "start_time": "2022-06-13T18:36:25.654Z"
   },
   {
    "duration": 155,
    "start_time": "2022-06-13T18:36:52.013Z"
   },
   {
    "duration": 957,
    "start_time": "2022-06-13T18:37:00.251Z"
   },
   {
    "duration": 441,
    "start_time": "2022-06-13T18:37:01.209Z"
   },
   {
    "duration": 68,
    "start_time": "2022-06-13T18:37:01.651Z"
   },
   {
    "duration": 4,
    "start_time": "2022-06-13T18:37:01.721Z"
   },
   {
    "duration": 21,
    "start_time": "2022-06-13T18:37:01.726Z"
   },
   {
    "duration": 19,
    "start_time": "2022-06-13T18:37:01.749Z"
   },
   {
    "duration": 33,
    "start_time": "2022-06-13T18:37:01.769Z"
   },
   {
    "duration": 29,
    "start_time": "2022-06-13T18:37:01.804Z"
   },
   {
    "duration": 29,
    "start_time": "2022-06-13T18:37:01.834Z"
   },
   {
    "duration": 4,
    "start_time": "2022-06-13T18:37:01.891Z"
   },
   {
    "duration": 133,
    "start_time": "2022-06-13T18:37:01.896Z"
   },
   {
    "duration": 20,
    "start_time": "2022-06-13T18:37:02.031Z"
   },
   {
    "duration": 182,
    "start_time": "2022-06-13T18:37:02.052Z"
   },
   {
    "duration": 309,
    "start_time": "2022-06-13T18:37:02.236Z"
   },
   {
    "duration": 217,
    "start_time": "2022-06-13T18:37:02.547Z"
   },
   {
    "duration": 242,
    "start_time": "2022-06-13T18:37:02.766Z"
   },
   {
    "duration": 216,
    "start_time": "2022-06-13T18:37:03.010Z"
   },
   {
    "duration": 273,
    "start_time": "2022-06-13T18:37:03.228Z"
   },
   {
    "duration": 215,
    "start_time": "2022-06-13T18:37:03.507Z"
   },
   {
    "duration": 115,
    "start_time": "2022-06-13T18:37:03.724Z"
   },
   {
    "duration": 0,
    "start_time": "2022-06-13T18:37:03.842Z"
   },
   {
    "duration": 0,
    "start_time": "2022-06-13T18:37:03.844Z"
   },
   {
    "duration": 0,
    "start_time": "2022-06-13T18:37:03.845Z"
   },
   {
    "duration": 0,
    "start_time": "2022-06-13T18:37:03.846Z"
   },
   {
    "duration": 0,
    "start_time": "2022-06-13T18:37:03.848Z"
   },
   {
    "duration": 0,
    "start_time": "2022-06-13T18:37:03.849Z"
   },
   {
    "duration": 6,
    "start_time": "2022-06-13T18:37:38.565Z"
   },
   {
    "duration": 6,
    "start_time": "2022-06-13T18:37:56.455Z"
   },
   {
    "duration": 11,
    "start_time": "2022-06-13T18:38:13.211Z"
   },
   {
    "duration": 12,
    "start_time": "2022-06-13T18:38:25.105Z"
   },
   {
    "duration": 9,
    "start_time": "2022-06-13T18:40:03.598Z"
   },
   {
    "duration": 14,
    "start_time": "2022-06-13T18:49:10.412Z"
   },
   {
    "duration": 8,
    "start_time": "2022-06-13T18:49:26.625Z"
   },
   {
    "duration": 8,
    "start_time": "2022-06-13T18:52:29.034Z"
   },
   {
    "duration": 441,
    "start_time": "2022-06-13T18:53:32.337Z"
   },
   {
    "duration": 478,
    "start_time": "2022-06-13T18:53:43.666Z"
   },
   {
    "duration": 6,
    "start_time": "2022-06-13T18:53:50.542Z"
   },
   {
    "duration": 2,
    "start_time": "2022-06-13T18:56:39.312Z"
   },
   {
    "duration": 243,
    "start_time": "2022-06-13T18:58:34.139Z"
   },
   {
    "duration": 234,
    "start_time": "2022-06-13T19:00:31.777Z"
   },
   {
    "duration": 1044,
    "start_time": "2022-06-14T17:20:15.676Z"
   },
   {
    "duration": 491,
    "start_time": "2022-06-14T17:20:16.722Z"
   },
   {
    "duration": 70,
    "start_time": "2022-06-14T17:20:17.215Z"
   },
   {
    "duration": 4,
    "start_time": "2022-06-14T17:20:17.287Z"
   },
   {
    "duration": 18,
    "start_time": "2022-06-14T17:20:17.293Z"
   },
   {
    "duration": 21,
    "start_time": "2022-06-14T17:20:17.313Z"
   },
   {
    "duration": 32,
    "start_time": "2022-06-14T17:20:17.336Z"
   },
   {
    "duration": 32,
    "start_time": "2022-06-14T17:20:17.369Z"
   },
   {
    "duration": 35,
    "start_time": "2022-06-14T17:20:17.404Z"
   },
   {
    "duration": 4,
    "start_time": "2022-06-14T17:20:17.465Z"
   },
   {
    "duration": 144,
    "start_time": "2022-06-14T17:20:17.471Z"
   },
   {
    "duration": 15,
    "start_time": "2022-06-14T17:20:17.617Z"
   },
   {
    "duration": 40,
    "start_time": "2022-06-14T17:20:17.634Z"
   },
   {
    "duration": 163,
    "start_time": "2022-06-14T17:20:17.676Z"
   },
   {
    "duration": 266,
    "start_time": "2022-06-14T17:20:17.841Z"
   },
   {
    "duration": 270,
    "start_time": "2022-06-14T17:20:18.109Z"
   },
   {
    "duration": 251,
    "start_time": "2022-06-14T17:20:18.381Z"
   },
   {
    "duration": 237,
    "start_time": "2022-06-14T17:20:18.634Z"
   },
   {
    "duration": 297,
    "start_time": "2022-06-14T17:20:18.872Z"
   },
   {
    "duration": 230,
    "start_time": "2022-06-14T17:20:19.171Z"
   },
   {
    "duration": 11,
    "start_time": "2022-06-14T17:20:19.403Z"
   },
   {
    "duration": 9,
    "start_time": "2022-06-14T17:20:19.415Z"
   },
   {
    "duration": 7,
    "start_time": "2022-06-14T17:20:19.425Z"
   },
   {
    "duration": 33,
    "start_time": "2022-06-14T17:20:19.434Z"
   },
   {
    "duration": 6,
    "start_time": "2022-06-14T17:20:19.469Z"
   },
   {
    "duration": 302,
    "start_time": "2022-06-14T17:20:19.477Z"
   },
   {
    "duration": 228,
    "start_time": "2022-06-14T17:20:19.781Z"
   },
   {
    "duration": 4,
    "start_time": "2022-06-14T17:21:14.049Z"
   },
   {
    "duration": 212,
    "start_time": "2022-06-14T17:36:40.093Z"
   },
   {
    "duration": 230,
    "start_time": "2022-06-14T17:36:47.262Z"
   },
   {
    "duration": 302,
    "start_time": "2022-06-14T17:36:56.448Z"
   },
   {
    "duration": 207,
    "start_time": "2022-06-14T17:37:14.589Z"
   },
   {
    "duration": 223,
    "start_time": "2022-06-14T17:37:20.569Z"
   },
   {
    "duration": 35,
    "start_time": "2022-06-14T17:42:57.885Z"
   },
   {
    "duration": 1043,
    "start_time": "2022-06-14T17:43:22.771Z"
   },
   {
    "duration": 479,
    "start_time": "2022-06-14T17:43:23.816Z"
   },
   {
    "duration": 71,
    "start_time": "2022-06-14T17:43:24.297Z"
   },
   {
    "duration": 3,
    "start_time": "2022-06-14T17:43:24.371Z"
   },
   {
    "duration": 25,
    "start_time": "2022-06-14T17:43:24.376Z"
   },
   {
    "duration": 22,
    "start_time": "2022-06-14T17:43:24.402Z"
   },
   {
    "duration": 15,
    "start_time": "2022-06-14T17:43:24.425Z"
   },
   {
    "duration": 51,
    "start_time": "2022-06-14T17:43:24.441Z"
   },
   {
    "duration": 29,
    "start_time": "2022-06-14T17:43:24.494Z"
   },
   {
    "duration": 3,
    "start_time": "2022-06-14T17:43:24.526Z"
   },
   {
    "duration": 167,
    "start_time": "2022-06-14T17:43:24.531Z"
   },
   {
    "duration": 16,
    "start_time": "2022-06-14T17:43:24.699Z"
   },
   {
    "duration": 172,
    "start_time": "2022-06-14T17:43:24.716Z"
   },
   {
    "duration": 250,
    "start_time": "2022-06-14T17:43:24.890Z"
   },
   {
    "duration": 236,
    "start_time": "2022-06-14T17:43:25.141Z"
   },
   {
    "duration": 227,
    "start_time": "2022-06-14T17:43:25.379Z"
   },
   {
    "duration": 227,
    "start_time": "2022-06-14T17:43:25.608Z"
   },
   {
    "duration": 299,
    "start_time": "2022-06-14T17:43:25.837Z"
   },
   {
    "duration": 238,
    "start_time": "2022-06-14T17:43:26.137Z"
   },
   {
    "duration": 12,
    "start_time": "2022-06-14T17:43:26.377Z"
   },
   {
    "duration": 22,
    "start_time": "2022-06-14T17:43:26.390Z"
   },
   {
    "duration": 10,
    "start_time": "2022-06-14T17:43:26.414Z"
   },
   {
    "duration": 7,
    "start_time": "2022-06-14T17:43:26.425Z"
   },
   {
    "duration": 12,
    "start_time": "2022-06-14T17:43:26.434Z"
   },
   {
    "duration": 253,
    "start_time": "2022-06-14T17:43:26.448Z"
   },
   {
    "duration": 231,
    "start_time": "2022-06-14T17:43:26.703Z"
   },
   {
    "duration": 34,
    "start_time": "2022-06-14T18:01:11.530Z"
   },
   {
    "duration": 42,
    "start_time": "2022-06-14T18:01:55.707Z"
   },
   {
    "duration": 1227,
    "start_time": "2022-06-14T18:02:04.684Z"
   },
   {
    "duration": 1319,
    "start_time": "2022-06-14T18:02:05.914Z"
   },
   {
    "duration": 77,
    "start_time": "2022-06-14T18:02:07.235Z"
   },
   {
    "duration": 14,
    "start_time": "2022-06-14T18:02:07.314Z"
   },
   {
    "duration": 26,
    "start_time": "2022-06-14T18:02:07.329Z"
   },
   {
    "duration": 28,
    "start_time": "2022-06-14T18:02:07.356Z"
   },
   {
    "duration": 44,
    "start_time": "2022-06-14T18:02:07.386Z"
   },
   {
    "duration": 36,
    "start_time": "2022-06-14T18:02:07.431Z"
   },
   {
    "duration": 57,
    "start_time": "2022-06-14T18:02:07.469Z"
   },
   {
    "duration": 4,
    "start_time": "2022-06-14T18:02:07.529Z"
   },
   {
    "duration": 160,
    "start_time": "2022-06-14T18:02:07.535Z"
   },
   {
    "duration": 32,
    "start_time": "2022-06-14T18:02:07.697Z"
   },
   {
    "duration": 189,
    "start_time": "2022-06-14T18:02:07.731Z"
   },
   {
    "duration": 293,
    "start_time": "2022-06-14T18:02:07.922Z"
   },
   {
    "duration": 283,
    "start_time": "2022-06-14T18:02:08.217Z"
   },
   {
    "duration": 278,
    "start_time": "2022-06-14T18:02:08.502Z"
   },
   {
    "duration": 308,
    "start_time": "2022-06-14T18:02:08.783Z"
   },
   {
    "duration": 382,
    "start_time": "2022-06-14T18:02:09.093Z"
   },
   {
    "duration": 274,
    "start_time": "2022-06-14T18:02:09.477Z"
   },
   {
    "duration": 11,
    "start_time": "2022-06-14T18:02:09.753Z"
   },
   {
    "duration": 10,
    "start_time": "2022-06-14T18:02:09.766Z"
   },
   {
    "duration": 8,
    "start_time": "2022-06-14T18:02:09.777Z"
   },
   {
    "duration": 9,
    "start_time": "2022-06-14T18:02:09.786Z"
   },
   {
    "duration": 32,
    "start_time": "2022-06-14T18:02:09.797Z"
   },
   {
    "duration": 240,
    "start_time": "2022-06-14T18:02:09.830Z"
   },
   {
    "duration": 208,
    "start_time": "2022-06-14T18:02:10.071Z"
   },
   {
    "duration": 222,
    "start_time": "2022-06-14T18:04:51.502Z"
   },
   {
    "duration": 227,
    "start_time": "2022-06-14T18:04:58.759Z"
   },
   {
    "duration": 290,
    "start_time": "2022-06-14T18:05:02.478Z"
   },
   {
    "duration": 1163,
    "start_time": "2022-06-14T18:10:46.239Z"
   },
   {
    "duration": 547,
    "start_time": "2022-06-14T18:10:47.404Z"
   },
   {
    "duration": 81,
    "start_time": "2022-06-14T18:10:47.956Z"
   },
   {
    "duration": 4,
    "start_time": "2022-06-14T18:10:48.040Z"
   },
   {
    "duration": 31,
    "start_time": "2022-06-14T18:10:48.046Z"
   },
   {
    "duration": 30,
    "start_time": "2022-06-14T18:10:48.079Z"
   },
   {
    "duration": 18,
    "start_time": "2022-06-14T18:10:48.126Z"
   },
   {
    "duration": 36,
    "start_time": "2022-06-14T18:10:48.146Z"
   },
   {
    "duration": 68,
    "start_time": "2022-06-14T18:10:48.185Z"
   },
   {
    "duration": 4,
    "start_time": "2022-06-14T18:10:48.255Z"
   },
   {
    "duration": 170,
    "start_time": "2022-06-14T18:10:48.261Z"
   },
   {
    "duration": 22,
    "start_time": "2022-06-14T18:10:48.433Z"
   },
   {
    "duration": 199,
    "start_time": "2022-06-14T18:10:48.457Z"
   },
   {
    "duration": 301,
    "start_time": "2022-06-14T18:10:48.657Z"
   },
   {
    "duration": 270,
    "start_time": "2022-06-14T18:10:48.960Z"
   },
   {
    "duration": 261,
    "start_time": "2022-06-14T18:10:49.232Z"
   },
   {
    "duration": 260,
    "start_time": "2022-06-14T18:10:49.495Z"
   },
   {
    "duration": 381,
    "start_time": "2022-06-14T18:10:49.756Z"
   },
   {
    "duration": 296,
    "start_time": "2022-06-14T18:10:50.139Z"
   },
   {
    "duration": 15,
    "start_time": "2022-06-14T18:10:50.438Z"
   },
   {
    "duration": 11,
    "start_time": "2022-06-14T18:10:50.456Z"
   },
   {
    "duration": 9,
    "start_time": "2022-06-14T18:10:50.470Z"
   },
   {
    "duration": 48,
    "start_time": "2022-06-14T18:10:50.481Z"
   },
   {
    "duration": 14,
    "start_time": "2022-06-14T18:10:50.531Z"
   },
   {
    "duration": 329,
    "start_time": "2022-06-14T18:10:50.547Z"
   },
   {
    "duration": 278,
    "start_time": "2022-06-14T18:10:50.878Z"
   },
   {
    "duration": 20,
    "start_time": "2022-06-14T18:11:20.559Z"
   },
   {
    "duration": 25,
    "start_time": "2022-06-14T18:12:34.803Z"
   },
   {
    "duration": 293,
    "start_time": "2022-06-14T18:19:57.921Z"
   },
   {
    "duration": 200,
    "start_time": "2022-06-14T18:20:34.220Z"
   },
   {
    "duration": 398,
    "start_time": "2022-06-14T18:21:57.367Z"
   },
   {
    "duration": 289,
    "start_time": "2022-06-14T18:22:28.387Z"
   },
   {
    "duration": 336,
    "start_time": "2022-06-14T18:23:01.835Z"
   },
   {
    "duration": 313,
    "start_time": "2022-06-14T18:23:24.912Z"
   },
   {
    "duration": 497,
    "start_time": "2022-06-14T18:27:43.796Z"
   },
   {
    "duration": 1070,
    "start_time": "2022-06-14T18:28:21.616Z"
   },
   {
    "duration": 540,
    "start_time": "2022-06-14T18:28:22.688Z"
   },
   {
    "duration": 96,
    "start_time": "2022-06-14T18:28:23.231Z"
   },
   {
    "duration": 5,
    "start_time": "2022-06-14T18:28:23.330Z"
   },
   {
    "duration": 38,
    "start_time": "2022-06-14T18:28:23.336Z"
   },
   {
    "duration": 34,
    "start_time": "2022-06-14T18:28:23.377Z"
   },
   {
    "duration": 26,
    "start_time": "2022-06-14T18:28:23.427Z"
   },
   {
    "duration": 40,
    "start_time": "2022-06-14T18:28:23.455Z"
   },
   {
    "duration": 73,
    "start_time": "2022-06-14T18:28:23.496Z"
   },
   {
    "duration": 4,
    "start_time": "2022-06-14T18:28:23.572Z"
   },
   {
    "duration": 226,
    "start_time": "2022-06-14T18:28:23.578Z"
   },
   {
    "duration": 37,
    "start_time": "2022-06-14T18:28:23.807Z"
   },
   {
    "duration": 231,
    "start_time": "2022-06-14T18:28:23.846Z"
   },
   {
    "duration": 339,
    "start_time": "2022-06-14T18:28:24.079Z"
   },
   {
    "duration": 360,
    "start_time": "2022-06-14T18:28:24.421Z"
   },
   {
    "duration": 306,
    "start_time": "2022-06-14T18:28:24.784Z"
   },
   {
    "duration": 311,
    "start_time": "2022-06-14T18:28:25.092Z"
   },
   {
    "duration": 400,
    "start_time": "2022-06-14T18:28:25.405Z"
   },
   {
    "duration": 338,
    "start_time": "2022-06-14T18:28:25.807Z"
   },
   {
    "duration": 17,
    "start_time": "2022-06-14T18:28:26.147Z"
   },
   {
    "duration": 11,
    "start_time": "2022-06-14T18:28:26.166Z"
   },
   {
    "duration": 55,
    "start_time": "2022-06-14T18:28:26.180Z"
   },
   {
    "duration": 388,
    "start_time": "2022-06-14T18:28:26.237Z"
   },
   {
    "duration": 371,
    "start_time": "2022-06-14T18:28:26.629Z"
   },
   {
    "duration": 30,
    "start_time": "2022-06-14T18:33:45.523Z"
   },
   {
    "duration": 31,
    "start_time": "2022-06-14T18:37:12.375Z"
   },
   {
    "duration": 1277,
    "start_time": "2022-06-14T20:38:37.205Z"
   },
   {
    "duration": 1052,
    "start_time": "2022-06-14T20:38:38.484Z"
   },
   {
    "duration": 112,
    "start_time": "2022-06-14T20:38:39.537Z"
   },
   {
    "duration": 6,
    "start_time": "2022-06-14T20:38:39.652Z"
   },
   {
    "duration": 36,
    "start_time": "2022-06-14T20:38:39.661Z"
   },
   {
    "duration": 45,
    "start_time": "2022-06-14T20:38:39.699Z"
   },
   {
    "duration": 30,
    "start_time": "2022-06-14T20:38:39.747Z"
   },
   {
    "duration": 59,
    "start_time": "2022-06-14T20:38:39.780Z"
   },
   {
    "duration": 45,
    "start_time": "2022-06-14T20:38:39.841Z"
   },
   {
    "duration": 4,
    "start_time": "2022-06-14T20:38:39.888Z"
   },
   {
    "duration": 181,
    "start_time": "2022-06-14T20:38:39.897Z"
   },
   {
    "duration": 18,
    "start_time": "2022-06-14T20:38:40.080Z"
   },
   {
    "duration": 198,
    "start_time": "2022-06-14T20:38:40.099Z"
   },
   {
    "duration": 272,
    "start_time": "2022-06-14T20:38:40.300Z"
   },
   {
    "duration": 307,
    "start_time": "2022-06-14T20:38:40.574Z"
   },
   {
    "duration": 278,
    "start_time": "2022-06-14T20:38:40.884Z"
   },
   {
    "duration": 261,
    "start_time": "2022-06-14T20:38:41.165Z"
   },
   {
    "duration": 315,
    "start_time": "2022-06-14T20:38:41.427Z"
   },
   {
    "duration": 266,
    "start_time": "2022-06-14T20:38:41.744Z"
   },
   {
    "duration": 24,
    "start_time": "2022-06-14T20:38:42.012Z"
   },
   {
    "duration": 9,
    "start_time": "2022-06-14T20:38:42.038Z"
   },
   {
    "duration": 13,
    "start_time": "2022-06-14T20:38:42.048Z"
   },
   {
    "duration": 307,
    "start_time": "2022-06-14T20:38:42.063Z"
   },
   {
    "duration": 233,
    "start_time": "2022-06-14T20:38:42.372Z"
   },
   {
    "duration": 1135,
    "start_time": "2022-06-15T11:51:42.713Z"
   },
   {
    "duration": 1166,
    "start_time": "2022-06-15T11:51:43.850Z"
   },
   {
    "duration": 67,
    "start_time": "2022-06-15T11:51:45.017Z"
   },
   {
    "duration": 4,
    "start_time": "2022-06-15T11:51:45.086Z"
   },
   {
    "duration": 19,
    "start_time": "2022-06-15T11:51:45.093Z"
   },
   {
    "duration": 23,
    "start_time": "2022-06-15T11:51:45.113Z"
   },
   {
    "duration": 15,
    "start_time": "2022-06-15T11:51:45.137Z"
   },
   {
    "duration": 59,
    "start_time": "2022-06-15T11:51:45.153Z"
   },
   {
    "duration": 29,
    "start_time": "2022-06-15T11:51:45.213Z"
   },
   {
    "duration": 3,
    "start_time": "2022-06-15T11:51:45.244Z"
   },
   {
    "duration": 145,
    "start_time": "2022-06-15T11:51:45.249Z"
   },
   {
    "duration": 15,
    "start_time": "2022-06-15T11:51:45.395Z"
   },
   {
    "duration": 168,
    "start_time": "2022-06-15T11:51:45.411Z"
   },
   {
    "duration": 5,
    "start_time": "2022-06-15T11:51:45.580Z"
   },
   {
    "duration": 245,
    "start_time": "2022-06-15T11:51:45.586Z"
   },
   {
    "duration": 238,
    "start_time": "2022-06-15T11:51:45.833Z"
   },
   {
    "duration": 226,
    "start_time": "2022-06-15T11:51:46.072Z"
   },
   {
    "duration": 216,
    "start_time": "2022-06-15T11:51:46.299Z"
   },
   {
    "duration": 281,
    "start_time": "2022-06-15T11:51:46.517Z"
   },
   {
    "duration": 215,
    "start_time": "2022-06-15T11:51:46.799Z"
   },
   {
    "duration": 11,
    "start_time": "2022-06-15T11:51:47.015Z"
   },
   {
    "duration": 12,
    "start_time": "2022-06-15T11:51:47.028Z"
   },
   {
    "duration": 13,
    "start_time": "2022-06-15T11:51:47.041Z"
   },
   {
    "duration": 284,
    "start_time": "2022-06-15T11:51:47.055Z"
   },
   {
    "duration": 263,
    "start_time": "2022-06-15T11:51:47.341Z"
   }
  ],
  "kernelspec": {
   "display_name": "Python 3 (ipykernel)",
   "language": "python",
   "name": "python3"
  },
  "language_info": {
   "codemirror_mode": {
    "name": "ipython",
    "version": 3
   },
   "file_extension": ".py",
   "mimetype": "text/x-python",
   "name": "python",
   "nbconvert_exporter": "python",
   "pygments_lexer": "ipython3",
   "version": "3.9.12"
  },
  "toc": {
   "base_numbering": 1,
   "nav_menu": {},
   "number_sections": true,
   "sideBar": true,
   "skip_h1_title": true,
   "title_cell": "Table of Contents",
   "title_sidebar": "Contents",
   "toc_cell": false,
   "toc_position": {},
   "toc_section_display": true,
   "toc_window_display": false
  }
 },
 "nbformat": 4,
 "nbformat_minor": 2
}
