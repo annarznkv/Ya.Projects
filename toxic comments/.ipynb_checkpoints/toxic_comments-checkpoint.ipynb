{
 "cells": [
  {
   "cell_type": "markdown",
   "metadata": {},
   "source": [
    "# Проект для «Викишоп»"
   ]
  },
  {
   "cell_type": "markdown",
   "metadata": {},
   "source": [
    "Интернет-магазин «Викишоп» запускает новый сервис. Теперь пользователи могут редактировать и дополнять описания товаров, как в вики-сообществах. То есть клиенты предлагают свои правки и комментируют изменения других. Магазину нужен инструмент, который будет искать токсичные комментарии и отправлять их на модерацию. \n",
    "\n",
    "Обучите модель классифицировать комментарии на позитивные и негативные. В вашем распоряжении набор данных с разметкой о токсичности правок.\n",
    "\n",
    "Постройте модель со значением метрики качества *F1* не меньше 0.75.\n",
    "\n",
    "\n",
    "**Описание данных**\n",
    "\n",
    "Данные находятся в файле `toxic_comments.csv`. Столбец *text* в нём содержит текст комментария, а *toxic* — целевой признак."
   ]
  },
  {
   "cell_type": "markdown",
   "metadata": {},
   "source": [
    "## Подготовка"
   ]
  },
  {
   "cell_type": "markdown",
   "metadata": {},
   "source": [
    "Импортируем библиотеки, загрузим данные и посмотрим на них"
   ]
  },
  {
   "cell_type": "code",
   "execution_count": 1,
   "metadata": {},
   "outputs": [
    {
     "name": "stderr",
     "output_type": "stream",
     "text": [
      "[nltk_data] Downloading package wordnet to /home/jovyan/nltk_data...\n",
      "[nltk_data]   Package wordnet is already up-to-date!\n",
      "[nltk_data] Downloading package omw-1.4 to /home/jovyan/nltk_data...\n",
      "[nltk_data] Downloading package stopwords to /home/jovyan/nltk_data...\n",
      "[nltk_data]   Package stopwords is already up-to-date!\n",
      "[nltk_data] Downloading package averaged_perceptron_tagger to\n",
      "[nltk_data]     /home/jovyan/nltk_data...\n",
      "[nltk_data]   Unzipping taggers/averaged_perceptron_tagger.zip.\n"
     ]
    },
    {
     "data": {
      "text/plain": [
       "True"
      ]
     },
     "execution_count": 1,
     "metadata": {},
     "output_type": "execute_result"
    }
   ],
   "source": [
    "import pandas as pd\n",
    "import numpy as np\n",
    "\n",
    "import nltk\n",
    "from nltk import pos_tag\n",
    "from nltk.corpus import stopwords as nltk_stopwords\n",
    "from nltk.corpus import wordnet\n",
    "\n",
    "from sklearn.feature_extraction.text import TfidfVectorizer\n",
    "from sklearn.feature_extraction.text import CountVectorizer\n",
    "\n",
    "import re\n",
    "\n",
    "from sklearn.model_selection import train_test_split\n",
    "\n",
    "from sklearn.utils import shuffle\n",
    "from sklearn.metrics import f1_score\n",
    "\n",
    "from sklearn.model_selection import GridSearchCV\n",
    "\n",
    "from sklearn.neighbors import KNeighborsClassifier\n",
    "from sklearn.ensemble import RandomForestClassifier\n",
    "from sklearn.linear_model import LogisticRegression\n",
    "\n",
    "\n",
    "\n",
    "\n",
    "nltk.download('wordnet')\n",
    "nltk.download('omw-1.4')\n",
    "nltk.download('stopwords')\n",
    "nltk.download('averaged_perceptron_tagger')"
   ]
  },
  {
   "cell_type": "code",
   "execution_count": 2,
   "metadata": {},
   "outputs": [],
   "source": [
    "try:\n",
    "    df = pd.read_csv(\"/datasets/toxic_comments.csv\",index_col=[0])\n",
    "except:\n",
    "    df = pd.read_csv(\"toxic_comments.csv\",index_col=[0])"
   ]
  },
  {
   "cell_type": "code",
   "execution_count": 3,
   "metadata": {},
   "outputs": [
    {
     "name": "stdout",
     "output_type": "stream",
     "text": [
      "<class 'pandas.core.frame.DataFrame'>\n",
      "Int64Index: 159292 entries, 0 to 159450\n",
      "Data columns (total 2 columns):\n",
      " #   Column  Non-Null Count   Dtype \n",
      "---  ------  --------------   ----- \n",
      " 0   text    159292 non-null  object\n",
      " 1   toxic   159292 non-null  int64 \n",
      "dtypes: int64(1), object(1)\n",
      "memory usage: 3.6+ MB\n"
     ]
    }
   ],
   "source": [
    "df.info()"
   ]
  },
  {
   "cell_type": "code",
   "execution_count": 4,
   "metadata": {},
   "outputs": [
    {
     "data": {
      "text/plain": [
       "0"
      ]
     },
     "execution_count": 4,
     "metadata": {},
     "output_type": "execute_result"
    }
   ],
   "source": [
    "df.duplicated().sum() "
   ]
  },
  {
   "cell_type": "markdown",
   "metadata": {},
   "source": [
    "Ок, дубликатов нет, пропусков нет - дольчевита. \n",
    "\n",
    "Определим признаки и целевую функцию."
   ]
  },
  {
   "cell_type": "code",
   "execution_count": 5,
   "metadata": {},
   "outputs": [],
   "source": [
    "features = df['text']\n",
    "target = df['toxic']"
   ]
  },
  {
   "cell_type": "code",
   "execution_count": 6,
   "metadata": {},
   "outputs": [
    {
     "data": {
      "text/plain": [
       "0    143106\n",
       "1     16186\n",
       "Name: toxic, dtype: int64"
      ]
     },
     "execution_count": 6,
     "metadata": {},
     "output_type": "execute_result"
    }
   ],
   "source": [
    "target.value_counts()"
   ]
  },
  {
   "cell_type": "markdown",
   "metadata": {},
   "source": [
    "Большинство комментариев в выборке нетоксичные. Налицо перекос классов. \n",
    "\n",
    "Разделим выборку на обучающую и тестовую. Преобразуем обучающую выборку техникой downsampling."
   ]
  },
  {
   "cell_type": "code",
   "execution_count": 7,
   "metadata": {},
   "outputs": [],
   "source": [
    "#features_test, features_train, target_test, target_train = train_test_split(features, target, test_size = 0.20, random_state = 12345, stratify = target)\n",
    "features_test, features_train, target_test, target_train = train_test_split(features, target, test_size = 0.20, random_state = 12345)"
   ]
  },
  {
   "cell_type": "code",
   "execution_count": 8,
   "metadata": {},
   "outputs": [],
   "source": [
    "def downsample(features, target, fraction):\n",
    "    features_zeros = features[target == 0]\n",
    "    features_ones = features[target == 1]\n",
    "    target_zeros = target[target == 0]\n",
    "    target_ones = target[target == 1]\n",
    "\n",
    "    features_downsampled = pd.concat(\n",
    "        [features_zeros.sample(frac=fraction, random_state=12345)] + [features_ones])\n",
    "    target_downsampled = pd.concat(\n",
    "        [target_zeros.sample(frac=fraction, random_state=12345)] + [target_ones])\n",
    "    \n",
    "    features_downsampled, target_downsampled = shuffle(\n",
    "        features_downsampled, target_downsampled, random_state=12345)\n",
    "    \n",
    "    return features_downsampled, target_downsampled"
   ]
  },
  {
   "cell_type": "code",
   "execution_count": 9,
   "metadata": {},
   "outputs": [],
   "source": [
    "features_downsampled, target_downsampled = downsample(features_train, target_train, 0.4)"
   ]
  },
  {
   "cell_type": "code",
   "execution_count": 10,
   "metadata": {},
   "outputs": [
    {
     "data": {
      "text/plain": [
       "0    11452\n",
       "1     3230\n",
       "Name: toxic, dtype: int64"
      ]
     },
     "execution_count": 10,
     "metadata": {},
     "output_type": "execute_result"
    }
   ],
   "source": [
    "target_downsampled.value_counts()"
   ]
  },
  {
   "cell_type": "markdown",
   "metadata": {},
   "source": [
    "Ок, теперь классы сбалансированы. Посмотрим на данные."
   ]
  },
  {
   "cell_type": "code",
   "execution_count": 11,
   "metadata": {},
   "outputs": [
    {
     "data": {
      "text/plain": [
       "136215    yeah I did read that source but not read that ...\n",
       "150369    Conspiracy/Complicity\\nHi, I just posted a mes...\n",
       "65337     \"\\n\\n Ambedkar's response to the Poona Pact \\n...\n",
       "142056    \"\\nHere's a good look at the next-generation T...\n",
       "76182     Was in Scotland, Loch ness, Inverness, Edinbor...\n",
       "                                ...                        \n",
       "8734         because Wikipedia is poop-racist!99.99.167.130\n",
       "129231    \"\\n\\n More 2012 \\n\\n... and ... \"\"He spends a ...\n",
       "15303     \"\\nI'm not trying to make a point here, I'm tr...\n",
       "69365     \"\\n\\n Douchebag award \\n\\n  Being a massive di...\n",
       "51737     \"\\n\\nBiased Viewponit\\n\\nJust reading this art...\n",
       "Name: text, Length: 14682, dtype: object"
      ]
     },
     "execution_count": 11,
     "metadata": {},
     "output_type": "execute_result"
    }
   ],
   "source": [
    "features_downsampled"
   ]
  },
  {
   "cell_type": "code",
   "execution_count": 12,
   "metadata": {},
   "outputs": [
    {
     "data": {
      "text/plain": [
       "97494     Bushranger you're a GRASS with no sense of hum...\n",
       "4383      \"\\n\\n Need administrative help \\n\\nI have been...\n",
       "103777    I'd also like to point out that he has used a ...\n",
       "38619      You cant block me you fucking retard. BRB nigger\n",
       "128443    I believe that the frequency of the wave needs...\n",
       "                                ...                        \n",
       "110090    Hahaha. ) I dont live in a lie like you and do...\n",
       "85493                    March 2006 – March 2006]]\\n \\n\\n|}\n",
       "133387    \"\\n\\nAgreed.  We really should try to stick to...\n",
       "130469    \"\\n\\n Umm killer \\n\\nDo you not like that he c...\n",
       "77361     Bradford City \\n\\nI am removing unreferanced c...\n",
       "Name: text, Length: 127433, dtype: object"
      ]
     },
     "execution_count": 12,
     "metadata": {},
     "output_type": "execute_result"
    }
   ],
   "source": [
    "features_test"
   ]
  },
  {
   "cell_type": "markdown",
   "metadata": {},
   "source": [
    "Уберем лишние символы - пунктуацию и др. Оставим только буквы и пробелы."
   ]
  },
  {
   "cell_type": "code",
   "execution_count": 13,
   "metadata": {},
   "outputs": [],
   "source": [
    "def re_func(text):\n",
    "    return re.sub(r'[^a-zA-Z ]',\"\", str(text))"
   ]
  },
  {
   "cell_type": "code",
   "execution_count": 14,
   "metadata": {},
   "outputs": [],
   "source": [
    "features_downsampled = features_downsampled.apply(re_func)\n",
    "features_test = features_test.apply(re_func)"
   ]
  },
  {
   "cell_type": "markdown",
   "metadata": {},
   "source": [
    "Пора лемматизировать комментарии - привести слова к начальной форме"
   ]
  },
  {
   "cell_type": "code",
   "execution_count": 15,
   "metadata": {},
   "outputs": [],
   "source": [
    "def get_wordnet_pos(word):\n",
    "    tag = nltk.pos_tag([word])[0][1][0].upper()\n",
    "    tag_dict = {\"J\": wordnet.ADJ,\n",
    "                \"N\": wordnet.NOUN,\n",
    "                \"V\": wordnet.VERB,\n",
    "                \"R\": wordnet.ADV}\n",
    "    return tag_dict.get(tag, wordnet.NOUN)"
   ]
  },
  {
   "cell_type": "code",
   "execution_count": 16,
   "metadata": {
    "scrolled": true
   },
   "outputs": [],
   "source": [
    "w_tokenizer = nltk.tokenize.WhitespaceTokenizer()\n",
    "lemmatizer = nltk.stem.WordNetLemmatizer()\n",
    "def lemmatize_text(text):\n",
    "    return (\" \".join(lemmatizer.lemmatize(w, get_wordnet_pos(w)) for w in w_tokenizer.tokenize(text)))"
   ]
  },
  {
   "cell_type": "code",
   "execution_count": 17,
   "metadata": {
    "scrolled": true
   },
   "outputs": [
    {
     "name": "stdout",
     "output_type": "stream",
     "text": [
      "CPU times: user 1min 26s, sys: 8.61 s, total: 1min 34s\n",
      "Wall time: 1min 34s\n"
     ]
    }
   ],
   "source": [
    "%%time\n",
    "features_downsampled = features_downsampled.apply(lemmatize_text)"
   ]
  },
  {
   "cell_type": "code",
   "execution_count": 18,
   "metadata": {},
   "outputs": [
    {
     "name": "stdout",
     "output_type": "stream",
     "text": [
      "CPU times: user 12min 18s, sys: 1min 16s, total: 13min 34s\n",
      "Wall time: 13min 34s\n"
     ]
    }
   ],
   "source": [
    "%%time\n",
    "features_test = features_test.apply(lemmatize_text)"
   ]
  },
  {
   "cell_type": "markdown",
   "metadata": {},
   "source": [
    "Уберем лишние пробелы"
   ]
  },
  {
   "cell_type": "code",
   "execution_count": 19,
   "metadata": {},
   "outputs": [],
   "source": [
    "def re_space(text):\n",
    "    return re.sub(\"r'\\s+'\", \" \", str(text))"
   ]
  },
  {
   "cell_type": "code",
   "execution_count": 20,
   "metadata": {},
   "outputs": [],
   "source": [
    "features_downsampled = features_downsampled.apply(re_space)\n",
    "features_test = features_test.apply(re_space)"
   ]
  },
  {
   "cell_type": "code",
   "execution_count": 21,
   "metadata": {},
   "outputs": [
    {
     "data": {
      "text/plain": [
       "136215    yeah I do read that source but not read that t...\n",
       "150369    ConspiracyComplicityHi I just post a message h...\n",
       "65337     Ambedkars response to the Poona Pact A transla...\n",
       "142056    Heres a good look at the nextgeneration Toyota...\n",
       "76182     Was in Scotland Loch ness Inverness Edinboroug...\n",
       "                                ...                        \n",
       "8734                        because Wikipedia be poopracist\n",
       "129231    More and He spends a lot of time online and ha...\n",
       "15303     Im not try to make a point here Im try to ensu...\n",
       "69365     Douchebag award Being a massive dick YEEEY You...\n",
       "51737     Biased ViewponitJust reading this article Ive ...\n",
       "Name: text, Length: 14682, dtype: object"
      ]
     },
     "execution_count": 21,
     "metadata": {},
     "output_type": "execute_result"
    }
   ],
   "source": [
    "features_downsampled"
   ]
  },
  {
   "cell_type": "code",
   "execution_count": 22,
   "metadata": {},
   "outputs": [
    {
     "data": {
      "text/plain": [
       "97494     Bushranger youre a GRASS with no sense of humo...\n",
       "4383      Need administrative help I have be block iniqu...\n",
       "103777    Id also like to point out that he have use a t...\n",
       "38619          You cant block me you fuck retard BRB nigger\n",
       "128443    I believe that the frequency of the wave need ...\n",
       "                                ...                        \n",
       "110090    Hahaha I dont live in a lie like you and dont ...\n",
       "85493                                           March March\n",
       "133387    Agreed We really should try to stick to the su...\n",
       "130469    Umm killer Do you not like that he copy your w...\n",
       "77361        Bradford City I be remove unreferanced content\n",
       "Name: text, Length: 127433, dtype: object"
      ]
     },
     "execution_count": 22,
     "metadata": {},
     "output_type": "execute_result"
    }
   ],
   "source": [
    "features_test"
   ]
  },
  {
   "cell_type": "markdown",
   "metadata": {},
   "source": [
    "Уберем стоп-слова и выполним tf-idf-преобразование текста."
   ]
  },
  {
   "cell_type": "code",
   "execution_count": 23,
   "metadata": {},
   "outputs": [],
   "source": [
    "stopwords = set(nltk_stopwords.words('english'))\n",
    "count_tf_idf = TfidfVectorizer(stop_words=stopwords)\n",
    "\n",
    "#count_tf_idf = TfidfVectorizer(stop_words=stopwords, lowercase=True, min_df=0.0001)"
   ]
  },
  {
   "cell_type": "code",
   "execution_count": 24,
   "metadata": {},
   "outputs": [],
   "source": [
    "features_train_tf_idf = count_tf_idf.fit_transform(features_downsampled)\n",
    "features_test_tf_idf = count_tf_idf.transform(features_test)"
   ]
  },
  {
   "cell_type": "markdown",
   "metadata": {},
   "source": [
    "## Обучение"
   ]
  },
  {
   "cell_type": "markdown",
   "metadata": {},
   "source": [
    "Протестируем три модели - LogisticRegression, RandomForestClassifier, KNeighborsClassifier - и вычсилим для каждой f1-меру."
   ]
  },
  {
   "cell_type": "code",
   "execution_count": 41,
   "metadata": {},
   "outputs": [
    {
     "name": "stderr",
     "output_type": "stream",
     "text": [
      "/Users/a.oleinik/opt/anaconda3/lib/python3.9/site-packages/sklearn/linear_model/_logistic.py:814: ConvergenceWarning: lbfgs failed to converge (status=1):\n",
      "STOP: TOTAL NO. of ITERATIONS REACHED LIMIT.\n",
      "\n",
      "Increase the number of iterations (max_iter) or scale the data as shown in:\n",
      "    https://scikit-learn.org/stable/modules/preprocessing.html\n",
      "Please also refer to the documentation for alternative solver options:\n",
      "    https://scikit-learn.org/stable/modules/linear_model.html#logistic-regression\n",
      "  n_iter_i = _check_optimize_result(\n",
      "/Users/a.oleinik/opt/anaconda3/lib/python3.9/site-packages/sklearn/linear_model/_logistic.py:814: ConvergenceWarning: lbfgs failed to converge (status=1):\n",
      "STOP: TOTAL NO. of ITERATIONS REACHED LIMIT.\n",
      "\n",
      "Increase the number of iterations (max_iter) or scale the data as shown in:\n",
      "    https://scikit-learn.org/stable/modules/preprocessing.html\n",
      "Please also refer to the documentation for alternative solver options:\n",
      "    https://scikit-learn.org/stable/modules/linear_model.html#logistic-regression\n",
      "  n_iter_i = _check_optimize_result(\n",
      "/Users/a.oleinik/opt/anaconda3/lib/python3.9/site-packages/sklearn/linear_model/_logistic.py:814: ConvergenceWarning: lbfgs failed to converge (status=1):\n",
      "STOP: TOTAL NO. of ITERATIONS REACHED LIMIT.\n",
      "\n",
      "Increase the number of iterations (max_iter) or scale the data as shown in:\n",
      "    https://scikit-learn.org/stable/modules/preprocessing.html\n",
      "Please also refer to the documentation for alternative solver options:\n",
      "    https://scikit-learn.org/stable/modules/linear_model.html#logistic-regression\n",
      "  n_iter_i = _check_optimize_result(\n",
      "/Users/a.oleinik/opt/anaconda3/lib/python3.9/site-packages/sklearn/linear_model/_logistic.py:814: ConvergenceWarning: lbfgs failed to converge (status=1):\n",
      "STOP: TOTAL NO. of ITERATIONS REACHED LIMIT.\n",
      "\n",
      "Increase the number of iterations (max_iter) or scale the data as shown in:\n",
      "    https://scikit-learn.org/stable/modules/preprocessing.html\n",
      "Please also refer to the documentation for alternative solver options:\n",
      "    https://scikit-learn.org/stable/modules/linear_model.html#logistic-regression\n",
      "  n_iter_i = _check_optimize_result(\n",
      "/Users/a.oleinik/opt/anaconda3/lib/python3.9/site-packages/sklearn/linear_model/_logistic.py:814: ConvergenceWarning: lbfgs failed to converge (status=1):\n",
      "STOP: TOTAL NO. of ITERATIONS REACHED LIMIT.\n",
      "\n",
      "Increase the number of iterations (max_iter) or scale the data as shown in:\n",
      "    https://scikit-learn.org/stable/modules/preprocessing.html\n",
      "Please also refer to the documentation for alternative solver options:\n",
      "    https://scikit-learn.org/stable/modules/linear_model.html#logistic-regression\n",
      "  n_iter_i = _check_optimize_result(\n",
      "/Users/a.oleinik/opt/anaconda3/lib/python3.9/site-packages/sklearn/linear_model/_logistic.py:814: ConvergenceWarning: lbfgs failed to converge (status=1):\n",
      "STOP: TOTAL NO. of ITERATIONS REACHED LIMIT.\n",
      "\n",
      "Increase the number of iterations (max_iter) or scale the data as shown in:\n",
      "    https://scikit-learn.org/stable/modules/preprocessing.html\n",
      "Please also refer to the documentation for alternative solver options:\n",
      "    https://scikit-learn.org/stable/modules/linear_model.html#logistic-regression\n",
      "  n_iter_i = _check_optimize_result(\n",
      "/Users/a.oleinik/opt/anaconda3/lib/python3.9/site-packages/sklearn/linear_model/_logistic.py:814: ConvergenceWarning: lbfgs failed to converge (status=1):\n",
      "STOP: TOTAL NO. of ITERATIONS REACHED LIMIT.\n",
      "\n",
      "Increase the number of iterations (max_iter) or scale the data as shown in:\n",
      "    https://scikit-learn.org/stable/modules/preprocessing.html\n",
      "Please also refer to the documentation for alternative solver options:\n",
      "    https://scikit-learn.org/stable/modules/linear_model.html#logistic-regression\n",
      "  n_iter_i = _check_optimize_result(\n",
      "/Users/a.oleinik/opt/anaconda3/lib/python3.9/site-packages/sklearn/linear_model/_logistic.py:814: ConvergenceWarning: lbfgs failed to converge (status=1):\n",
      "STOP: TOTAL NO. of ITERATIONS REACHED LIMIT.\n",
      "\n",
      "Increase the number of iterations (max_iter) or scale the data as shown in:\n",
      "    https://scikit-learn.org/stable/modules/preprocessing.html\n",
      "Please also refer to the documentation for alternative solver options:\n",
      "    https://scikit-learn.org/stable/modules/linear_model.html#logistic-regression\n",
      "  n_iter_i = _check_optimize_result(\n",
      "/Users/a.oleinik/opt/anaconda3/lib/python3.9/site-packages/sklearn/linear_model/_logistic.py:814: ConvergenceWarning: lbfgs failed to converge (status=1):\n",
      "STOP: TOTAL NO. of ITERATIONS REACHED LIMIT.\n",
      "\n",
      "Increase the number of iterations (max_iter) or scale the data as shown in:\n",
      "    https://scikit-learn.org/stable/modules/preprocessing.html\n",
      "Please also refer to the documentation for alternative solver options:\n",
      "    https://scikit-learn.org/stable/modules/linear_model.html#logistic-regression\n",
      "  n_iter_i = _check_optimize_result(\n",
      "/Users/a.oleinik/opt/anaconda3/lib/python3.9/site-packages/sklearn/linear_model/_logistic.py:814: ConvergenceWarning: lbfgs failed to converge (status=1):\n",
      "STOP: TOTAL NO. of ITERATIONS REACHED LIMIT.\n",
      "\n",
      "Increase the number of iterations (max_iter) or scale the data as shown in:\n",
      "    https://scikit-learn.org/stable/modules/preprocessing.html\n",
      "Please also refer to the documentation for alternative solver options:\n",
      "    https://scikit-learn.org/stable/modules/linear_model.html#logistic-regression\n",
      "  n_iter_i = _check_optimize_result(\n",
      "/Users/a.oleinik/opt/anaconda3/lib/python3.9/site-packages/sklearn/linear_model/_logistic.py:814: ConvergenceWarning: lbfgs failed to converge (status=1):\n",
      "STOP: TOTAL NO. of ITERATIONS REACHED LIMIT.\n",
      "\n",
      "Increase the number of iterations (max_iter) or scale the data as shown in:\n",
      "    https://scikit-learn.org/stable/modules/preprocessing.html\n",
      "Please also refer to the documentation for alternative solver options:\n",
      "    https://scikit-learn.org/stable/modules/linear_model.html#logistic-regression\n",
      "  n_iter_i = _check_optimize_result(\n",
      "/Users/a.oleinik/opt/anaconda3/lib/python3.9/site-packages/sklearn/linear_model/_logistic.py:814: ConvergenceWarning: lbfgs failed to converge (status=1):\n",
      "STOP: TOTAL NO. of ITERATIONS REACHED LIMIT.\n",
      "\n",
      "Increase the number of iterations (max_iter) or scale the data as shown in:\n",
      "    https://scikit-learn.org/stable/modules/preprocessing.html\n",
      "Please also refer to the documentation for alternative solver options:\n",
      "    https://scikit-learn.org/stable/modules/linear_model.html#logistic-regression\n",
      "  n_iter_i = _check_optimize_result(\n",
      "/Users/a.oleinik/opt/anaconda3/lib/python3.9/site-packages/sklearn/linear_model/_logistic.py:814: ConvergenceWarning: lbfgs failed to converge (status=1):\n",
      "STOP: TOTAL NO. of ITERATIONS REACHED LIMIT.\n",
      "\n",
      "Increase the number of iterations (max_iter) or scale the data as shown in:\n",
      "    https://scikit-learn.org/stable/modules/preprocessing.html\n",
      "Please also refer to the documentation for alternative solver options:\n",
      "    https://scikit-learn.org/stable/modules/linear_model.html#logistic-regression\n",
      "  n_iter_i = _check_optimize_result(\n",
      "/Users/a.oleinik/opt/anaconda3/lib/python3.9/site-packages/sklearn/linear_model/_logistic.py:814: ConvergenceWarning: lbfgs failed to converge (status=1):\n",
      "STOP: TOTAL NO. of ITERATIONS REACHED LIMIT.\n",
      "\n",
      "Increase the number of iterations (max_iter) or scale the data as shown in:\n",
      "    https://scikit-learn.org/stable/modules/preprocessing.html\n",
      "Please also refer to the documentation for alternative solver options:\n",
      "    https://scikit-learn.org/stable/modules/linear_model.html#logistic-regression\n",
      "  n_iter_i = _check_optimize_result(\n",
      "/Users/a.oleinik/opt/anaconda3/lib/python3.9/site-packages/sklearn/linear_model/_logistic.py:814: ConvergenceWarning: lbfgs failed to converge (status=1):\n",
      "STOP: TOTAL NO. of ITERATIONS REACHED LIMIT.\n",
      "\n",
      "Increase the number of iterations (max_iter) or scale the data as shown in:\n",
      "    https://scikit-learn.org/stable/modules/preprocessing.html\n",
      "Please also refer to the documentation for alternative solver options:\n",
      "    https://scikit-learn.org/stable/modules/linear_model.html#logistic-regression\n",
      "  n_iter_i = _check_optimize_result(\n"
     ]
    },
    {
     "data": {
      "text/plain": [
       "{'C': 9.0}"
      ]
     },
     "execution_count": 41,
     "metadata": {},
     "output_type": "execute_result"
    }
   ],
   "source": [
    "clf = LogisticRegression()\n",
    "\n",
    "parametrs = { 'C': np.arange(5.0, 10.0, 1.0)}\n",
    "\n",
    "grid = GridSearchCV(clf, parametrs, cv=5)\n",
    "grid.fit(features_train_tf_idf, target_downsampled)\n",
    "grid.best_params_"
   ]
  },
  {
   "cell_type": "code",
   "execution_count": 63,
   "metadata": {},
   "outputs": [
    {
     "name": "stdout",
     "output_type": "stream",
     "text": [
      "F1: 0.7376842789262071\n"
     ]
    },
    {
     "name": "stderr",
     "output_type": "stream",
     "text": [
      "/Users/a.oleinik/opt/anaconda3/lib/python3.9/site-packages/sklearn/linear_model/_logistic.py:814: ConvergenceWarning: lbfgs failed to converge (status=1):\n",
      "STOP: TOTAL NO. of ITERATIONS REACHED LIMIT.\n",
      "\n",
      "Increase the number of iterations (max_iter) or scale the data as shown in:\n",
      "    https://scikit-learn.org/stable/modules/preprocessing.html\n",
      "Please also refer to the documentation for alternative solver options:\n",
      "    https://scikit-learn.org/stable/modules/linear_model.html#logistic-regression\n",
      "  n_iter_i = _check_optimize_result(\n"
     ]
    }
   ],
   "source": [
    "model = LogisticRegression(C=8.5, multi_class = 'ovr', random_state = 12345, class_weight='dict')\n",
    "model.fit(features_train_tf_idf, target_downsampled)\n",
    "predictions = pd.DataFrame(model.predict(features_test_tf_idf))\n",
    "print(\"F1:\", f1_score(target_test, predictions))"
   ]
  },
  {
   "cell_type": "code",
   "execution_count": 27,
   "metadata": {},
   "outputs": [
    {
     "data": {
      "text/plain": [
       "{'max_depth': 11, 'n_estimators': 70}"
      ]
     },
     "execution_count": 27,
     "metadata": {},
     "output_type": "execute_result"
    }
   ],
   "source": [
    "clf = RandomForestClassifier()\n",
    "\n",
    "parametrs = { 'n_estimators': range (70, 101, 10),\n",
    "              'max_depth': range (1,13, 2)}\n",
    "\n",
    "grid = GridSearchCV(clf, parametrs, cv=5)\n",
    "grid.fit(features_train_tf_idf, target_downsampled)\n",
    "grid.best_params_"
   ]
  },
  {
   "cell_type": "code",
   "execution_count": 31,
   "metadata": {},
   "outputs": [
    {
     "name": "stdout",
     "output_type": "stream",
     "text": [
      "F1: 0.0007715454054471106\n"
     ]
    }
   ],
   "source": [
    "model = RandomForestClassifier(random_state = 12345, n_estimators = 70, max_depth = 11)\n",
    "model.fit(features_train_tf_idf, target_downsampled)\n",
    "predictions = pd.DataFrame(model.predict(features_test_tf_idf))\n",
    "print(\"F1:\", f1_score(target_test, predictions))"
   ]
  },
  {
   "cell_type": "code",
   "execution_count": 35,
   "metadata": {},
   "outputs": [
    {
     "data": {
      "text/plain": [
       "{'n_neighbors': 30}"
      ]
     },
     "execution_count": 35,
     "metadata": {},
     "output_type": "execute_result"
    }
   ],
   "source": [
    "clf = KNeighborsClassifier()\n",
    "\n",
    "parametrs = {'n_neighbors': range (10, 41, 10)}\n",
    "\n",
    "grid = GridSearchCV(clf, parametrs, cv=5)\n",
    "grid.fit(features_train_tf_idf, target_downsampled)\n",
    "grid.best_params_"
   ]
  },
  {
   "cell_type": "code",
   "execution_count": 34,
   "metadata": {},
   "outputs": [
    {
     "name": "stdout",
     "output_type": "stream",
     "text": [
      "F1: 0.6088184845121581\n"
     ]
    }
   ],
   "source": [
    "model = KNeighborsClassifier(n_neighbors = 30)\n",
    "model.fit(features_train_tf_idf, target_downsampled)\n",
    "predictions = pd.DataFrame(model.predict(features_test_tf_idf))\n",
    "print(\"F1:\", f1_score(target_test, predictions))"
   ]
  },
  {
   "cell_type": "markdown",
   "metadata": {},
   "source": [
    "Самый лучший результат показала модель логистической регрессии:\n",
    "- F1 LogisticRegression = 0.74\n",
    "- F1 KNeighborsClassifier = 0.61\n",
    "- F1 RandomForestClassifier = 0.00"
   ]
  },
  {
   "cell_type": "markdown",
   "metadata": {},
   "source": [
    "## Выводы"
   ]
  },
  {
   "cell_type": "markdown",
   "metadata": {},
   "source": [
    "- В исходных данных представлены почти 160 тыс твитов с разметкой на позитивные и негативные, нет пропусков и дубликатов\n",
    "- Разбили выборку на обучающую и тестовую, тестируем на 20% данных\n",
    "- Негативных комментариев в 9 раз меньше. В связи с этим выполнили даунсемплинг - сбалансировали классы, сузили обучающую выборку до 14 тыс. твитов\n",
    "- Тексты комментариев токенизировали, лемматизировали, убрали лишние символы и стоп-слова\n",
    "- Протестировали три модели - LogisticRegression, RandomForestClassifier, KNeighborsClassifier - и вычислили для каждой f1-меру\n",
    "- Самый лучший результат показала модель логистической регрессии - F1 = 0.74"
   ]
  }
 ],
 "metadata": {
  "ExecuteTimeLog": [
   {
    "duration": 459,
    "start_time": "2022-10-03T20:34:33.062Z"
   },
   {
    "duration": 2290,
    "start_time": "2022-10-03T20:35:13.266Z"
   },
   {
    "duration": 831,
    "start_time": "2022-10-03T20:35:59.528Z"
   },
   {
    "duration": 817,
    "start_time": "2022-10-03T20:37:11.566Z"
   },
   {
    "duration": 50,
    "start_time": "2022-10-04T19:38:08.265Z"
   },
   {
    "duration": 2734,
    "start_time": "2022-10-04T19:38:17.188Z"
   },
   {
    "duration": 1957,
    "start_time": "2022-10-04T19:44:19.606Z"
   },
   {
    "duration": 60,
    "start_time": "2022-10-04T19:46:26.250Z"
   },
   {
    "duration": 4879,
    "start_time": "2022-10-04T19:46:44.890Z"
   },
   {
    "duration": 1810,
    "start_time": "2022-10-04T19:46:49.770Z"
   },
   {
    "duration": 11420,
    "start_time": "2022-10-04T19:46:51.582Z"
   },
   {
    "duration": 4,
    "start_time": "2022-10-04T19:47:33.277Z"
   },
   {
    "duration": 5395,
    "start_time": "2022-10-04T19:48:06.521Z"
   },
   {
    "duration": 1966,
    "start_time": "2022-10-04T19:48:11.918Z"
   },
   {
    "duration": 0,
    "start_time": "2022-10-04T19:48:13.885Z"
   },
   {
    "duration": 0,
    "start_time": "2022-10-04T19:48:13.888Z"
   },
   {
    "duration": 64,
    "start_time": "2022-10-04T19:48:35.958Z"
   },
   {
    "duration": 4309,
    "start_time": "2022-10-04T19:50:51.761Z"
   },
   {
    "duration": 1980,
    "start_time": "2022-10-04T19:50:56.072Z"
   },
   {
    "duration": 868,
    "start_time": "2022-10-04T19:50:58.273Z"
   },
   {
    "duration": 3871,
    "start_time": "2022-10-04T19:55:51.741Z"
   },
   {
    "duration": 2009,
    "start_time": "2022-10-04T19:56:00.605Z"
   },
   {
    "duration": 52,
    "start_time": "2022-10-04T19:56:33.196Z"
   },
   {
    "duration": 1543,
    "start_time": "2022-10-04T19:56:53.203Z"
   },
   {
    "duration": 2307,
    "start_time": "2022-10-04T19:56:57.461Z"
   },
   {
    "duration": 1920,
    "start_time": "2022-10-04T19:57:04.021Z"
   },
   {
    "duration": 51,
    "start_time": "2022-10-04T19:58:35.401Z"
   },
   {
    "duration": 1522,
    "start_time": "2022-10-04T19:58:37.876Z"
   },
   {
    "duration": 2313,
    "start_time": "2022-10-04T19:58:40.633Z"
   },
   {
    "duration": 86,
    "start_time": "2022-10-04T19:58:42.948Z"
   },
   {
    "duration": 1874,
    "start_time": "2022-10-04T20:00:10.858Z"
   },
   {
    "duration": 1368,
    "start_time": "2022-10-05T08:16:50.833Z"
   },
   {
    "duration": 3777,
    "start_time": "2022-10-05T08:16:52.413Z"
   },
   {
    "duration": 35429,
    "start_time": "2022-10-05T08:16:56.192Z"
   },
   {
    "duration": 27,
    "start_time": "2022-10-05T08:18:21.203Z"
   },
   {
    "duration": 166,
    "start_time": "2022-10-05T08:22:24.632Z"
   },
   {
    "duration": 111,
    "start_time": "2022-10-05T08:25:59.852Z"
   },
   {
    "duration": 1362,
    "start_time": "2022-10-05T08:27:39.552Z"
   },
   {
    "duration": 895,
    "start_time": "2022-10-05T08:27:40.916Z"
   },
   {
    "duration": 34937,
    "start_time": "2022-10-05T08:27:41.814Z"
   },
   {
    "duration": 36,
    "start_time": "2022-10-05T08:28:16.753Z"
   },
   {
    "duration": 955,
    "start_time": "2022-10-05T08:28:16.791Z"
   },
   {
    "duration": 183,
    "start_time": "2022-10-05T08:30:00.355Z"
   },
   {
    "duration": 1368,
    "start_time": "2022-10-05T08:31:51.721Z"
   },
   {
    "duration": 898,
    "start_time": "2022-10-05T08:31:53.091Z"
   },
   {
    "duration": 36404,
    "start_time": "2022-10-05T08:31:53.991Z"
   },
   {
    "duration": 29,
    "start_time": "2022-10-05T08:32:30.397Z"
   },
   {
    "duration": 362,
    "start_time": "2022-10-05T08:32:30.427Z"
   },
   {
    "duration": 10,
    "start_time": "2022-10-05T08:34:01.527Z"
   },
   {
    "duration": 4,
    "start_time": "2022-10-05T08:38:52.090Z"
   },
   {
    "duration": 13,
    "start_time": "2022-10-05T08:40:29.434Z"
   },
   {
    "duration": 5,
    "start_time": "2022-10-05T08:41:02.464Z"
   },
   {
    "duration": 14,
    "start_time": "2022-10-05T08:41:14.234Z"
   },
   {
    "duration": 35884,
    "start_time": "2022-10-05T08:44:21.779Z"
   },
   {
    "duration": 0,
    "start_time": "2022-10-05T08:44:57.666Z"
   },
   {
    "duration": 61,
    "start_time": "2022-10-05T08:54:17.934Z"
   },
   {
    "duration": 46,
    "start_time": "2022-10-05T08:54:40.099Z"
   },
   {
    "duration": 18,
    "start_time": "2022-10-05T08:54:53.637Z"
   },
   {
    "duration": 1479,
    "start_time": "2022-10-05T09:12:27.910Z"
   },
   {
    "duration": 1019,
    "start_time": "2022-10-05T09:12:29.392Z"
   },
   {
    "duration": 36398,
    "start_time": "2022-10-05T09:12:30.413Z"
   },
   {
    "duration": 29,
    "start_time": "2022-10-05T09:13:06.814Z"
   },
   {
    "duration": 8,
    "start_time": "2022-10-05T09:13:06.845Z"
   },
   {
    "duration": 21,
    "start_time": "2022-10-05T09:13:06.855Z"
   },
   {
    "duration": 241,
    "start_time": "2022-10-05T09:13:06.878Z"
   },
   {
    "duration": 2,
    "start_time": "2022-10-05T09:13:07.121Z"
   },
   {
    "duration": 126,
    "start_time": "2022-10-05T09:38:11.445Z"
   },
   {
    "duration": 768,
    "start_time": "2022-10-05T09:40:53.271Z"
   },
   {
    "duration": 3,
    "start_time": "2022-10-05T09:41:05.639Z"
   },
   {
    "duration": 817,
    "start_time": "2022-10-05T09:41:07.297Z"
   },
   {
    "duration": 791,
    "start_time": "2022-10-05T09:41:08.843Z"
   },
   {
    "duration": 747,
    "start_time": "2022-10-05T09:41:26.828Z"
   },
   {
    "duration": 25,
    "start_time": "2022-10-05T09:41:35.925Z"
   },
   {
    "duration": 17453,
    "start_time": "2022-10-05T09:42:16.849Z"
   },
   {
    "duration": 284985,
    "start_time": "2022-10-05T09:42:36.289Z"
   },
   {
    "duration": 3,
    "start_time": "2022-10-05T09:47:25.871Z"
   },
   {
    "duration": 842,
    "start_time": "2022-10-05T09:47:27.169Z"
   },
   {
    "duration": 4,
    "start_time": "2022-10-05T09:47:29.224Z"
   },
   {
    "duration": 2479,
    "start_time": "2022-10-05T09:47:47.846Z"
   },
   {
    "duration": 15,
    "start_time": "2022-10-05T09:48:06.506Z"
   },
   {
    "duration": 1280,
    "start_time": "2022-10-05T19:19:48.529Z"
   },
   {
    "duration": 2376,
    "start_time": "2022-10-05T19:19:49.812Z"
   },
   {
    "duration": 4,
    "start_time": "2022-10-05T19:19:52.190Z"
   },
   {
    "duration": 135,
    "start_time": "2022-10-05T19:19:52.196Z"
   },
   {
    "duration": 1,
    "start_time": "2022-10-05T19:19:52.332Z"
   },
   {
    "duration": 0,
    "start_time": "2022-10-05T19:19:52.334Z"
   },
   {
    "duration": 0,
    "start_time": "2022-10-05T19:19:52.335Z"
   },
   {
    "duration": 0,
    "start_time": "2022-10-05T19:19:52.336Z"
   },
   {
    "duration": 0,
    "start_time": "2022-10-05T19:19:52.337Z"
   },
   {
    "duration": 791,
    "start_time": "2022-10-05T19:22:22.493Z"
   },
   {
    "duration": 142204,
    "start_time": "2022-10-05T19:22:24.573Z"
   },
   {
    "duration": 777,
    "start_time": "2022-10-05T19:24:49.927Z"
   },
   {
    "duration": 123609,
    "start_time": "2022-10-05T19:24:52.334Z"
   },
   {
    "duration": 5141,
    "start_time": "2022-10-05T19:27:13.836Z"
   },
   {
    "duration": 3,
    "start_time": "2022-10-05T19:27:22.686Z"
   },
   {
    "duration": 826,
    "start_time": "2022-10-05T19:27:25.206Z"
   },
   {
    "duration": 33458,
    "start_time": "2022-10-05T19:27:42.072Z"
   },
   {
    "duration": 2,
    "start_time": "2022-10-05T19:29:12.261Z"
   },
   {
    "duration": 992,
    "start_time": "2022-10-05T19:29:14.123Z"
   },
   {
    "duration": 157820,
    "start_time": "2022-10-05T19:29:23.596Z"
   },
   {
    "duration": 33834,
    "start_time": "2022-10-05T19:32:01.418Z"
   },
   {
    "duration": 27,
    "start_time": "2022-10-05T19:32:35.254Z"
   },
   {
    "duration": 5,
    "start_time": "2022-10-05T19:33:00.909Z"
   },
   {
    "duration": 235,
    "start_time": "2022-10-05T19:33:03.683Z"
   },
   {
    "duration": 18,
    "start_time": "2022-10-05T19:33:16.985Z"
   },
   {
    "duration": 12,
    "start_time": "2022-10-05T19:34:15.708Z"
   },
   {
    "duration": 11,
    "start_time": "2022-10-05T19:34:20.038Z"
   },
   {
    "duration": 10,
    "start_time": "2022-10-05T19:34:29.443Z"
   },
   {
    "duration": 44,
    "start_time": "2022-10-05T19:34:33.613Z"
   },
   {
    "duration": 4,
    "start_time": "2022-10-05T19:34:38.342Z"
   },
   {
    "duration": 795,
    "start_time": "2022-10-05T19:41:45.704Z"
   },
   {
    "duration": 9,
    "start_time": "2022-10-05T19:46:17.271Z"
   },
   {
    "duration": 3,
    "start_time": "2022-10-05T19:46:21.791Z"
   },
   {
    "duration": 674,
    "start_time": "2022-10-05T19:46:23.573Z"
   },
   {
    "duration": 32345,
    "start_time": "2022-10-05T19:46:27.468Z"
   },
   {
    "duration": 3,
    "start_time": "2022-10-05T19:47:43.295Z"
   },
   {
    "duration": 11,
    "start_time": "2022-10-05T19:47:49.541Z"
   },
   {
    "duration": 3,
    "start_time": "2022-10-05T19:49:24.373Z"
   },
   {
    "duration": 571,
    "start_time": "2022-10-05T19:49:26.480Z"
   },
   {
    "duration": 8,
    "start_time": "2022-10-05T19:49:39.698Z"
   },
   {
    "duration": 58,
    "start_time": "2022-10-05T19:50:52.575Z"
   },
   {
    "duration": 146,
    "start_time": "2022-10-05T19:51:30.120Z"
   },
   {
    "duration": 3,
    "start_time": "2022-10-05T19:51:37.507Z"
   },
   {
    "duration": 1261,
    "start_time": "2022-10-05T19:51:39.969Z"
   },
   {
    "duration": 8,
    "start_time": "2022-10-05T19:51:44.038Z"
   },
   {
    "duration": 3,
    "start_time": "2022-10-05T19:51:51.598Z"
   },
   {
    "duration": 1278,
    "start_time": "2022-10-05T19:51:53.185Z"
   },
   {
    "duration": 8,
    "start_time": "2022-10-05T19:51:57.274Z"
   },
   {
    "duration": 9,
    "start_time": "2022-10-05T19:52:02.573Z"
   },
   {
    "duration": 4,
    "start_time": "2022-10-05T19:52:07.381Z"
   },
   {
    "duration": 1239,
    "start_time": "2022-10-05T19:52:37.601Z"
   },
   {
    "duration": 2393,
    "start_time": "2022-10-05T19:52:38.842Z"
   },
   {
    "duration": 33772,
    "start_time": "2022-10-05T19:52:41.236Z"
   },
   {
    "duration": 2,
    "start_time": "2022-10-05T19:53:15.011Z"
   },
   {
    "duration": 1638,
    "start_time": "2022-10-05T19:53:15.015Z"
   },
   {
    "duration": 14,
    "start_time": "2022-10-05T19:53:16.655Z"
   },
   {
    "duration": 6,
    "start_time": "2022-10-05T19:53:16.677Z"
   },
   {
    "duration": 4,
    "start_time": "2022-10-05T19:53:16.684Z"
   },
   {
    "duration": 1943,
    "start_time": "2022-10-05T19:53:16.689Z"
   },
   {
    "duration": 226,
    "start_time": "2022-10-05T19:53:18.635Z"
   },
   {
    "duration": 3,
    "start_time": "2022-10-05T19:53:18.863Z"
   },
   {
    "duration": 8729,
    "start_time": "2022-10-05T19:53:18.867Z"
   },
   {
    "duration": 4,
    "start_time": "2022-10-05T20:17:05.066Z"
   },
   {
    "duration": 110,
    "start_time": "2022-10-05T20:17:13.679Z"
   },
   {
    "duration": 1216,
    "start_time": "2022-10-05T20:27:19.311Z"
   },
   {
    "duration": 2351,
    "start_time": "2022-10-05T20:27:20.529Z"
   },
   {
    "duration": 33188,
    "start_time": "2022-10-05T20:27:22.882Z"
   },
   {
    "duration": 4,
    "start_time": "2022-10-05T20:27:56.073Z"
   },
   {
    "duration": 1611,
    "start_time": "2022-10-05T20:27:56.078Z"
   },
   {
    "duration": 13,
    "start_time": "2022-10-05T20:27:57.690Z"
   },
   {
    "duration": 4,
    "start_time": "2022-10-05T20:27:57.704Z"
   },
   {
    "duration": 2037,
    "start_time": "2022-10-05T20:27:57.710Z"
   },
   {
    "duration": 114,
    "start_time": "2022-10-05T20:27:59.749Z"
   },
   {
    "duration": 0,
    "start_time": "2022-10-05T20:27:59.865Z"
   },
   {
    "duration": 1298,
    "start_time": "2022-10-05T20:30:27.758Z"
   },
   {
    "duration": 863,
    "start_time": "2022-10-05T20:30:29.058Z"
   },
   {
    "duration": 33894,
    "start_time": "2022-10-05T20:30:29.923Z"
   },
   {
    "duration": 3,
    "start_time": "2022-10-05T20:31:03.819Z"
   },
   {
    "duration": 1618,
    "start_time": "2022-10-05T20:31:03.824Z"
   },
   {
    "duration": 13,
    "start_time": "2022-10-05T20:31:05.444Z"
   },
   {
    "duration": 18,
    "start_time": "2022-10-05T20:31:05.459Z"
   },
   {
    "duration": 2031,
    "start_time": "2022-10-05T20:31:05.478Z"
   },
   {
    "duration": 47,
    "start_time": "2022-10-05T20:31:36.701Z"
   },
   {
    "duration": 1201,
    "start_time": "2022-10-05T20:31:42.819Z"
   },
   {
    "duration": 1216,
    "start_time": "2022-10-05T20:32:05.505Z"
   },
   {
    "duration": 2433,
    "start_time": "2022-10-05T20:32:08.523Z"
   },
   {
    "duration": 33646,
    "start_time": "2022-10-05T20:32:14.037Z"
   },
   {
    "duration": 4,
    "start_time": "2022-10-05T20:32:47.685Z"
   },
   {
    "duration": 1574,
    "start_time": "2022-10-05T20:32:47.691Z"
   },
   {
    "duration": 18,
    "start_time": "2022-10-05T20:32:49.267Z"
   },
   {
    "duration": 4,
    "start_time": "2022-10-05T20:34:02.110Z"
   },
   {
    "duration": 2017,
    "start_time": "2022-10-05T20:34:05.285Z"
   },
   {
    "duration": 49,
    "start_time": "2022-10-05T20:34:39.324Z"
   },
   {
    "duration": 1267,
    "start_time": "2022-10-05T20:35:12.168Z"
   },
   {
    "duration": 2368,
    "start_time": "2022-10-05T20:35:13.437Z"
   },
   {
    "duration": 32783,
    "start_time": "2022-10-05T20:35:15.807Z"
   },
   {
    "duration": 2,
    "start_time": "2022-10-05T20:35:48.593Z"
   },
   {
    "duration": 1540,
    "start_time": "2022-10-05T20:35:48.597Z"
   },
   {
    "duration": 13,
    "start_time": "2022-10-05T20:35:50.138Z"
   },
   {
    "duration": 5,
    "start_time": "2022-10-05T20:35:50.153Z"
   },
   {
    "duration": 1947,
    "start_time": "2022-10-05T20:35:50.160Z"
   },
   {
    "duration": 1307,
    "start_time": "2022-10-05T20:37:35.461Z"
   },
   {
    "duration": 2358,
    "start_time": "2022-10-05T20:37:36.770Z"
   },
   {
    "duration": 33161,
    "start_time": "2022-10-05T20:37:39.130Z"
   },
   {
    "duration": 2,
    "start_time": "2022-10-05T20:38:12.293Z"
   },
   {
    "duration": 1545,
    "start_time": "2022-10-05T20:38:12.297Z"
   },
   {
    "duration": 14,
    "start_time": "2022-10-05T20:38:13.844Z"
   },
   {
    "duration": 3,
    "start_time": "2022-10-05T20:38:13.860Z"
   },
   {
    "duration": 1997,
    "start_time": "2022-10-05T20:38:13.877Z"
   },
   {
    "duration": 1203,
    "start_time": "2022-10-05T20:38:33.729Z"
   },
   {
    "duration": 2399,
    "start_time": "2022-10-05T20:38:34.934Z"
   },
   {
    "duration": 33745,
    "start_time": "2022-10-05T20:38:37.334Z"
   },
   {
    "duration": 3,
    "start_time": "2022-10-05T20:39:11.081Z"
   },
   {
    "duration": 1574,
    "start_time": "2022-10-05T20:39:11.086Z"
   },
   {
    "duration": 18,
    "start_time": "2022-10-05T20:39:12.662Z"
   },
   {
    "duration": 3,
    "start_time": "2022-10-05T20:39:12.682Z"
   },
   {
    "duration": 1968,
    "start_time": "2022-10-05T20:39:12.687Z"
   },
   {
    "duration": 53,
    "start_time": "2022-10-06T09:22:20.134Z"
   },
   {
    "duration": 6,
    "start_time": "2022-10-06T09:22:22.566Z"
   },
   {
    "duration": 1422,
    "start_time": "2022-10-06T09:22:39.731Z"
   },
   {
    "duration": 3791,
    "start_time": "2022-10-06T09:22:41.796Z"
   },
   {
    "duration": 840,
    "start_time": "2022-10-06T09:22:45.589Z"
   },
   {
    "duration": 960,
    "start_time": "2022-10-06T09:23:00.212Z"
   },
   {
    "duration": 7,
    "start_time": "2022-10-06T09:24:05.300Z"
   },
   {
    "duration": 33,
    "start_time": "2022-10-06T09:24:29.192Z"
   },
   {
    "duration": 1370,
    "start_time": "2022-10-06T09:29:38.648Z"
   },
   {
    "duration": 937,
    "start_time": "2022-10-06T09:29:40.020Z"
   },
   {
    "duration": 38,
    "start_time": "2022-10-06T09:29:40.958Z"
   },
   {
    "duration": 36164,
    "start_time": "2022-10-06T09:29:40.997Z"
   },
   {
    "duration": 16,
    "start_time": "2022-10-06T09:30:17.164Z"
   },
   {
    "duration": 1668,
    "start_time": "2022-10-06T09:30:17.189Z"
   },
   {
    "duration": 15,
    "start_time": "2022-10-06T09:30:18.859Z"
   },
   {
    "duration": 16,
    "start_time": "2022-10-06T09:30:18.875Z"
   },
   {
    "duration": 2042,
    "start_time": "2022-10-06T09:30:18.893Z"
   },
   {
    "duration": 12,
    "start_time": "2022-10-06T09:30:20.937Z"
   },
   {
    "duration": 1601,
    "start_time": "2022-10-06T09:31:10.295Z"
   },
   {
    "duration": 3604,
    "start_time": "2022-10-06T09:31:14.125Z"
   },
   {
    "duration": 32,
    "start_time": "2022-10-06T09:31:17.731Z"
   },
   {
    "duration": 35907,
    "start_time": "2022-10-06T09:31:20.134Z"
   },
   {
    "duration": 3,
    "start_time": "2022-10-06T09:31:56.043Z"
   },
   {
    "duration": 1585,
    "start_time": "2022-10-06T09:31:56.047Z"
   },
   {
    "duration": 15,
    "start_time": "2022-10-06T09:31:57.634Z"
   },
   {
    "duration": 2068,
    "start_time": "2022-10-06T09:31:57.651Z"
   },
   {
    "duration": 17,
    "start_time": "2022-10-06T09:31:59.721Z"
   },
   {
    "duration": 4,
    "start_time": "2022-10-06T09:31:59.740Z"
   },
   {
    "duration": 5,
    "start_time": "2022-10-06T09:32:23.363Z"
   },
   {
    "duration": 52,
    "start_time": "2022-10-06T09:33:08.811Z"
   },
   {
    "duration": 1372,
    "start_time": "2022-10-06T09:33:57.177Z"
   },
   {
    "duration": 4,
    "start_time": "2022-10-06T09:34:09.245Z"
   },
   {
    "duration": 3515,
    "start_time": "2022-10-06T09:34:10.886Z"
   },
   {
    "duration": 1225,
    "start_time": "2022-10-06T09:34:16.017Z"
   },
   {
    "duration": 2029,
    "start_time": "2022-10-06T09:34:54.212Z"
   },
   {
    "duration": 4,
    "start_time": "2022-10-06T09:34:59.934Z"
   },
   {
    "duration": 2,
    "start_time": "2022-10-06T09:35:06.089Z"
   },
   {
    "duration": 44,
    "start_time": "2022-10-07T12:19:10.861Z"
   },
   {
    "duration": 1324,
    "start_time": "2022-10-07T12:20:04.911Z"
   },
   {
    "duration": 2357,
    "start_time": "2022-10-07T12:20:06.237Z"
   },
   {
    "duration": 28,
    "start_time": "2022-10-07T12:20:08.595Z"
   },
   {
    "duration": 221,
    "start_time": "2022-10-07T12:20:08.625Z"
   },
   {
    "duration": 2,
    "start_time": "2022-10-07T12:20:08.848Z"
   },
   {
    "duration": 12,
    "start_time": "2022-10-07T12:20:08.851Z"
   },
   {
    "duration": 117,
    "start_time": "2022-10-07T12:20:08.864Z"
   },
   {
    "duration": 0,
    "start_time": "2022-10-07T12:20:08.982Z"
   },
   {
    "duration": 0,
    "start_time": "2022-10-07T12:20:08.983Z"
   },
   {
    "duration": 0,
    "start_time": "2022-10-07T12:20:08.985Z"
   },
   {
    "duration": 0,
    "start_time": "2022-10-07T12:20:08.986Z"
   },
   {
    "duration": 0,
    "start_time": "2022-10-07T12:20:08.987Z"
   },
   {
    "duration": 0,
    "start_time": "2022-10-07T12:20:08.988Z"
   },
   {
    "duration": 0,
    "start_time": "2022-10-07T12:20:08.989Z"
   },
   {
    "duration": 0,
    "start_time": "2022-10-07T12:20:08.990Z"
   },
   {
    "duration": 0,
    "start_time": "2022-10-07T12:20:08.991Z"
   },
   {
    "duration": 0,
    "start_time": "2022-10-07T12:20:08.992Z"
   },
   {
    "duration": 0,
    "start_time": "2022-10-07T12:20:08.993Z"
   },
   {
    "duration": 0,
    "start_time": "2022-10-07T12:20:08.994Z"
   },
   {
    "duration": 83,
    "start_time": "2022-10-07T12:20:41.426Z"
   },
   {
    "duration": 4,
    "start_time": "2022-10-07T12:20:44.236Z"
   },
   {
    "duration": 15,
    "start_time": "2022-10-07T12:20:47.590Z"
   },
   {
    "duration": 1246,
    "start_time": "2022-10-07T12:20:54.276Z"
   },
   {
    "duration": 864,
    "start_time": "2022-10-07T12:20:55.524Z"
   },
   {
    "duration": 44,
    "start_time": "2022-10-07T12:20:56.390Z"
   },
   {
    "duration": 244,
    "start_time": "2022-10-07T12:20:56.437Z"
   },
   {
    "duration": 3,
    "start_time": "2022-10-07T12:20:56.683Z"
   },
   {
    "duration": 11,
    "start_time": "2022-10-07T12:20:56.688Z"
   },
   {
    "duration": 75,
    "start_time": "2022-10-07T12:20:56.701Z"
   },
   {
    "duration": 4,
    "start_time": "2022-10-07T12:20:56.778Z"
   },
   {
    "duration": 18,
    "start_time": "2022-10-07T12:20:56.784Z"
   },
   {
    "duration": 5,
    "start_time": "2022-10-07T12:20:56.804Z"
   },
   {
    "duration": 2401,
    "start_time": "2022-10-07T12:20:56.811Z"
   },
   {
    "duration": 3,
    "start_time": "2022-10-07T12:20:59.214Z"
   },
   {
    "duration": 309,
    "start_time": "2022-10-07T12:20:59.218Z"
   },
   {
    "duration": 6544,
    "start_time": "2022-10-07T12:20:59.529Z"
   },
   {
    "duration": 20688,
    "start_time": "2022-10-07T12:21:06.075Z"
   },
   {
    "duration": 320608,
    "start_time": "2022-10-07T12:21:26.765Z"
   },
   {
    "duration": 2218,
    "start_time": "2022-10-07T12:26:47.374Z"
   },
   {
    "duration": 220977,
    "start_time": "2022-10-07T12:26:49.594Z"
   },
   {
    "duration": 1223,
    "start_time": "2022-10-07T12:31:41.891Z"
   },
   {
    "duration": 874,
    "start_time": "2022-10-07T12:31:43.116Z"
   },
   {
    "duration": 29,
    "start_time": "2022-10-07T12:31:43.991Z"
   },
   {
    "duration": 236,
    "start_time": "2022-10-07T12:31:44.022Z"
   },
   {
    "duration": 3,
    "start_time": "2022-10-07T12:31:44.260Z"
   },
   {
    "duration": 11,
    "start_time": "2022-10-07T12:31:44.264Z"
   },
   {
    "duration": 30,
    "start_time": "2022-10-07T12:31:44.276Z"
   },
   {
    "duration": 4,
    "start_time": "2022-10-07T12:31:44.308Z"
   },
   {
    "duration": 34,
    "start_time": "2022-10-07T12:31:44.314Z"
   },
   {
    "duration": 4,
    "start_time": "2022-10-07T12:31:44.351Z"
   },
   {
    "duration": 2520,
    "start_time": "2022-10-07T12:31:44.356Z"
   },
   {
    "duration": 4,
    "start_time": "2022-10-07T12:31:46.877Z"
   },
   {
    "duration": 317,
    "start_time": "2022-10-07T12:31:46.883Z"
   },
   {
    "duration": 6564,
    "start_time": "2022-10-07T12:31:47.202Z"
   },
   {
    "duration": 23518,
    "start_time": "2022-10-07T12:31:53.767Z"
   },
   {
    "duration": 1270,
    "start_time": "2022-10-07T12:34:54.537Z"
   },
   {
    "duration": 894,
    "start_time": "2022-10-07T12:34:55.809Z"
   },
   {
    "duration": 36,
    "start_time": "2022-10-07T12:34:56.705Z"
   },
   {
    "duration": 238,
    "start_time": "2022-10-07T12:34:56.743Z"
   },
   {
    "duration": 3,
    "start_time": "2022-10-07T12:34:56.982Z"
   },
   {
    "duration": 21,
    "start_time": "2022-10-07T12:34:56.987Z"
   },
   {
    "duration": 58,
    "start_time": "2022-10-07T12:34:57.010Z"
   },
   {
    "duration": 4,
    "start_time": "2022-10-07T12:34:57.070Z"
   },
   {
    "duration": 23,
    "start_time": "2022-10-07T12:34:57.076Z"
   },
   {
    "duration": 5,
    "start_time": "2022-10-07T12:34:57.102Z"
   },
   {
    "duration": 25996,
    "start_time": "2022-10-07T12:34:57.109Z"
   },
   {
    "duration": 3,
    "start_time": "2022-10-07T12:35:23.107Z"
   },
   {
    "duration": 5693,
    "start_time": "2022-10-07T12:35:23.112Z"
   },
   {
    "duration": 4595,
    "start_time": "2022-10-07T12:35:28.807Z"
   },
   {
    "duration": 129,
    "start_time": "2022-10-07T12:35:33.404Z"
   },
   {
    "duration": 0,
    "start_time": "2022-10-07T12:35:33.535Z"
   },
   {
    "duration": 0,
    "start_time": "2022-10-07T12:35:33.536Z"
   },
   {
    "duration": 0,
    "start_time": "2022-10-07T12:35:33.537Z"
   },
   {
    "duration": 0,
    "start_time": "2022-10-07T12:35:33.538Z"
   },
   {
    "duration": 2778,
    "start_time": "2022-10-07T12:36:26.784Z"
   },
   {
    "duration": 1299,
    "start_time": "2022-10-07T12:37:23.503Z"
   },
   {
    "duration": 847,
    "start_time": "2022-10-07T12:37:24.803Z"
   },
   {
    "duration": 29,
    "start_time": "2022-10-07T12:37:25.652Z"
   },
   {
    "duration": 236,
    "start_time": "2022-10-07T12:37:25.684Z"
   },
   {
    "duration": 3,
    "start_time": "2022-10-07T12:37:25.922Z"
   },
   {
    "duration": 5,
    "start_time": "2022-10-07T12:37:25.933Z"
   },
   {
    "duration": 29,
    "start_time": "2022-10-07T12:37:25.940Z"
   },
   {
    "duration": 4,
    "start_time": "2022-10-07T12:37:25.970Z"
   },
   {
    "duration": 22,
    "start_time": "2022-10-07T12:37:25.976Z"
   },
   {
    "duration": 5,
    "start_time": "2022-10-07T12:37:26.001Z"
   },
   {
    "duration": 26539,
    "start_time": "2022-10-07T12:37:26.007Z"
   },
   {
    "duration": 3,
    "start_time": "2022-10-07T12:37:52.547Z"
   },
   {
    "duration": 5678,
    "start_time": "2022-10-07T12:37:52.551Z"
   },
   {
    "duration": 4564,
    "start_time": "2022-10-07T12:37:58.230Z"
   },
   {
    "duration": 6859,
    "start_time": "2022-10-07T12:38:02.796Z"
   },
   {
    "duration": 60044,
    "start_time": "2022-10-07T12:38:09.657Z"
   },
   {
    "duration": 1051,
    "start_time": "2022-10-07T12:39:09.703Z"
   },
   {
    "duration": 9501,
    "start_time": "2022-10-07T12:39:10.756Z"
   },
   {
    "duration": 34988,
    "start_time": "2022-10-07T12:39:20.259Z"
   },
   {
    "duration": 48,
    "start_time": "2022-10-07T17:47:19.759Z"
   },
   {
    "duration": 1352,
    "start_time": "2022-10-07T17:47:26.069Z"
   },
   {
    "duration": 2245,
    "start_time": "2022-10-07T17:47:27.423Z"
   },
   {
    "duration": 28,
    "start_time": "2022-10-07T17:47:29.670Z"
   },
   {
    "duration": 213,
    "start_time": "2022-10-07T17:47:29.700Z"
   },
   {
    "duration": 2,
    "start_time": "2022-10-07T17:47:29.915Z"
   },
   {
    "duration": 16,
    "start_time": "2022-10-07T17:47:29.918Z"
   },
   {
    "duration": 27,
    "start_time": "2022-10-07T17:47:29.935Z"
   },
   {
    "duration": 4,
    "start_time": "2022-10-07T17:47:29.964Z"
   },
   {
    "duration": 15,
    "start_time": "2022-10-07T17:47:29.970Z"
   },
   {
    "duration": 4,
    "start_time": "2022-10-07T17:47:29.988Z"
   },
   {
    "duration": 6,
    "start_time": "2022-10-07T17:47:29.993Z"
   },
   {
    "duration": 1050,
    "start_time": "2022-10-07T17:47:30.000Z"
   },
   {
    "duration": 24685,
    "start_time": "2022-10-07T17:47:31.052Z"
   },
   {
    "duration": 16,
    "start_time": "2022-10-07T17:47:55.739Z"
   },
   {
    "duration": 130,
    "start_time": "2022-10-07T17:47:55.757Z"
   },
   {
    "duration": 0,
    "start_time": "2022-10-07T17:47:55.889Z"
   },
   {
    "duration": 0,
    "start_time": "2022-10-07T17:47:55.890Z"
   },
   {
    "duration": 0,
    "start_time": "2022-10-07T17:47:55.891Z"
   },
   {
    "duration": 0,
    "start_time": "2022-10-07T17:47:55.892Z"
   },
   {
    "duration": 0,
    "start_time": "2022-10-07T17:47:55.893Z"
   },
   {
    "duration": 15,
    "start_time": "2022-10-07T18:53:53.159Z"
   },
   {
    "duration": 13,
    "start_time": "2022-10-07T18:53:59.141Z"
   },
   {
    "duration": 15,
    "start_time": "2022-10-07T19:01:36.437Z"
   },
   {
    "duration": 14,
    "start_time": "2022-10-07T19:02:01.590Z"
   },
   {
    "duration": 207,
    "start_time": "2022-10-07T19:10:31.972Z"
   },
   {
    "duration": 1243,
    "start_time": "2022-10-07T19:16:07.690Z"
   },
   {
    "duration": 818,
    "start_time": "2022-10-07T19:16:08.935Z"
   },
   {
    "duration": 31,
    "start_time": "2022-10-07T19:16:09.755Z"
   },
   {
    "duration": 221,
    "start_time": "2022-10-07T19:16:09.788Z"
   },
   {
    "duration": 3,
    "start_time": "2022-10-07T19:16:10.011Z"
   },
   {
    "duration": 24,
    "start_time": "2022-10-07T19:16:10.016Z"
   },
   {
    "duration": 48,
    "start_time": "2022-10-07T19:16:10.042Z"
   },
   {
    "duration": 4,
    "start_time": "2022-10-07T19:16:10.092Z"
   },
   {
    "duration": 44,
    "start_time": "2022-10-07T19:16:10.098Z"
   },
   {
    "duration": 12,
    "start_time": "2022-10-07T19:16:10.145Z"
   },
   {
    "duration": 30,
    "start_time": "2022-10-07T19:16:10.159Z"
   },
   {
    "duration": 1049,
    "start_time": "2022-10-07T19:16:10.191Z"
   },
   {
    "duration": 25010,
    "start_time": "2022-10-07T19:16:11.242Z"
   },
   {
    "duration": 166,
    "start_time": "2022-10-07T19:16:36.254Z"
   },
   {
    "duration": 0,
    "start_time": "2022-10-07T19:16:36.421Z"
   },
   {
    "duration": 0,
    "start_time": "2022-10-07T19:16:36.423Z"
   },
   {
    "duration": 0,
    "start_time": "2022-10-07T19:16:36.424Z"
   },
   {
    "duration": 0,
    "start_time": "2022-10-07T19:16:36.433Z"
   },
   {
    "duration": 0,
    "start_time": "2022-10-07T19:16:36.435Z"
   },
   {
    "duration": 0,
    "start_time": "2022-10-07T19:16:36.436Z"
   },
   {
    "duration": 0,
    "start_time": "2022-10-07T19:16:36.437Z"
   },
   {
    "duration": 383,
    "start_time": "2022-10-07T19:20:28.359Z"
   },
   {
    "duration": 7,
    "start_time": "2022-10-07T19:20:50.082Z"
   },
   {
    "duration": 74,
    "start_time": "2022-10-07T19:22:01.040Z"
   },
   {
    "duration": 184,
    "start_time": "2022-10-07T19:22:36.384Z"
   },
   {
    "duration": 2,
    "start_time": "2022-10-07T19:23:57.302Z"
   },
   {
    "duration": 1288,
    "start_time": "2022-10-07T19:24:04.317Z"
   },
   {
    "duration": 854,
    "start_time": "2022-10-07T19:24:05.606Z"
   },
   {
    "duration": 33,
    "start_time": "2022-10-07T19:24:06.463Z"
   },
   {
    "duration": 233,
    "start_time": "2022-10-07T19:24:06.498Z"
   },
   {
    "duration": 2,
    "start_time": "2022-10-07T19:24:06.734Z"
   },
   {
    "duration": 23,
    "start_time": "2022-10-07T19:24:06.738Z"
   },
   {
    "duration": 31,
    "start_time": "2022-10-07T19:24:06.762Z"
   },
   {
    "duration": 12,
    "start_time": "2022-10-07T19:24:06.795Z"
   },
   {
    "duration": 43,
    "start_time": "2022-10-07T19:24:06.809Z"
   },
   {
    "duration": 6,
    "start_time": "2022-10-07T19:24:06.854Z"
   },
   {
    "duration": 23,
    "start_time": "2022-10-07T19:24:06.862Z"
   },
   {
    "duration": 1055,
    "start_time": "2022-10-07T19:24:06.886Z"
   },
   {
    "duration": 25747,
    "start_time": "2022-10-07T19:24:07.942Z"
   },
   {
    "duration": 19,
    "start_time": "2022-10-07T19:24:33.690Z"
   },
   {
    "duration": 14,
    "start_time": "2022-10-07T19:24:33.710Z"
   },
   {
    "duration": 117,
    "start_time": "2022-10-07T19:24:33.725Z"
   },
   {
    "duration": 0,
    "start_time": "2022-10-07T19:24:33.843Z"
   },
   {
    "duration": 0,
    "start_time": "2022-10-07T19:24:33.844Z"
   },
   {
    "duration": 0,
    "start_time": "2022-10-07T19:24:33.845Z"
   },
   {
    "duration": 0,
    "start_time": "2022-10-07T19:24:33.846Z"
   },
   {
    "duration": 0,
    "start_time": "2022-10-07T19:24:33.847Z"
   },
   {
    "duration": 6,
    "start_time": "2022-10-07T19:25:16.490Z"
   },
   {
    "duration": 4886,
    "start_time": "2022-10-07T19:25:18.140Z"
   },
   {
    "duration": 1241,
    "start_time": "2022-10-07T19:25:29.875Z"
   },
   {
    "duration": 852,
    "start_time": "2022-10-07T19:25:31.118Z"
   },
   {
    "duration": 27,
    "start_time": "2022-10-07T19:25:31.972Z"
   },
   {
    "duration": 237,
    "start_time": "2022-10-07T19:25:32.001Z"
   },
   {
    "duration": 2,
    "start_time": "2022-10-07T19:25:32.240Z"
   },
   {
    "duration": 18,
    "start_time": "2022-10-07T19:25:32.243Z"
   },
   {
    "duration": 29,
    "start_time": "2022-10-07T19:25:32.262Z"
   },
   {
    "duration": 4,
    "start_time": "2022-10-07T19:25:32.292Z"
   },
   {
    "duration": 20,
    "start_time": "2022-10-07T19:25:32.297Z"
   },
   {
    "duration": 4,
    "start_time": "2022-10-07T19:25:32.319Z"
   },
   {
    "duration": 17,
    "start_time": "2022-10-07T19:25:32.324Z"
   },
   {
    "duration": 1021,
    "start_time": "2022-10-07T19:25:32.342Z"
   },
   {
    "duration": 4359,
    "start_time": "2022-10-07T19:25:33.364Z"
   },
   {
    "duration": 8117,
    "start_time": "2022-10-07T19:25:37.725Z"
   },
   {
    "duration": 0,
    "start_time": "2022-10-07T19:25:45.844Z"
   },
   {
    "duration": 0,
    "start_time": "2022-10-07T19:25:45.845Z"
   },
   {
    "duration": 0,
    "start_time": "2022-10-07T19:25:45.846Z"
   },
   {
    "duration": 0,
    "start_time": "2022-10-07T19:25:45.847Z"
   },
   {
    "duration": 0,
    "start_time": "2022-10-07T19:25:45.848Z"
   },
   {
    "duration": 0,
    "start_time": "2022-10-07T19:25:45.849Z"
   },
   {
    "duration": 0,
    "start_time": "2022-10-07T19:25:45.849Z"
   },
   {
    "duration": 4,
    "start_time": "2022-10-07T19:25:55.140Z"
   },
   {
    "duration": 10,
    "start_time": "2022-10-07T19:26:02.553Z"
   },
   {
    "duration": 1347,
    "start_time": "2022-10-07T19:27:03.567Z"
   },
   {
    "duration": 887,
    "start_time": "2022-10-07T19:27:04.916Z"
   },
   {
    "duration": 35,
    "start_time": "2022-10-07T19:27:05.805Z"
   },
   {
    "duration": 224,
    "start_time": "2022-10-07T19:27:05.842Z"
   },
   {
    "duration": 3,
    "start_time": "2022-10-07T19:27:06.067Z"
   },
   {
    "duration": 10,
    "start_time": "2022-10-07T19:27:06.071Z"
   },
   {
    "duration": 31,
    "start_time": "2022-10-07T19:27:06.083Z"
   },
   {
    "duration": 5,
    "start_time": "2022-10-07T19:27:06.115Z"
   },
   {
    "duration": 35,
    "start_time": "2022-10-07T19:27:06.121Z"
   },
   {
    "duration": 5,
    "start_time": "2022-10-07T19:27:06.159Z"
   },
   {
    "duration": 7,
    "start_time": "2022-10-07T19:27:06.166Z"
   },
   {
    "duration": 1121,
    "start_time": "2022-10-07T19:27:06.174Z"
   },
   {
    "duration": 25073,
    "start_time": "2022-10-07T19:27:07.297Z"
   },
   {
    "duration": 136,
    "start_time": "2022-10-07T19:27:32.371Z"
   },
   {
    "duration": 0,
    "start_time": "2022-10-07T19:27:32.508Z"
   },
   {
    "duration": 0,
    "start_time": "2022-10-07T19:27:32.509Z"
   },
   {
    "duration": 0,
    "start_time": "2022-10-07T19:27:32.510Z"
   },
   {
    "duration": 0,
    "start_time": "2022-10-07T19:27:32.511Z"
   },
   {
    "duration": 0,
    "start_time": "2022-10-07T19:27:32.512Z"
   },
   {
    "duration": 8,
    "start_time": "2022-10-07T19:28:26.793Z"
   },
   {
    "duration": 11,
    "start_time": "2022-10-07T19:28:38.239Z"
   },
   {
    "duration": 6,
    "start_time": "2022-10-07T19:28:48.057Z"
   },
   {
    "duration": 1369,
    "start_time": "2022-10-09T18:44:10.913Z"
   },
   {
    "duration": 3547,
    "start_time": "2022-10-09T18:44:15.644Z"
   },
   {
    "duration": 31,
    "start_time": "2022-10-09T18:44:20.617Z"
   },
   {
    "duration": 206,
    "start_time": "2022-10-09T18:44:23.990Z"
   },
   {
    "duration": 3,
    "start_time": "2022-10-09T18:44:25.650Z"
   },
   {
    "duration": 7,
    "start_time": "2022-10-09T18:44:28.389Z"
   },
   {
    "duration": 29,
    "start_time": "2022-10-09T18:44:31.117Z"
   },
   {
    "duration": 32,
    "start_time": "2022-10-09T18:46:47.569Z"
   },
   {
    "duration": 4,
    "start_time": "2022-10-09T18:46:49.077Z"
   },
   {
    "duration": 14,
    "start_time": "2022-10-09T18:46:51.971Z"
   },
   {
    "duration": 4,
    "start_time": "2022-10-09T18:46:54.276Z"
   },
   {
    "duration": 3,
    "start_time": "2022-10-09T18:48:38.194Z"
   },
   {
    "duration": 1112,
    "start_time": "2022-10-09T18:48:41.460Z"
   },
   {
    "duration": 491,
    "start_time": "2022-10-09T18:49:59.589Z"
   },
   {
    "duration": 4599,
    "start_time": "2022-10-09T18:50:03.772Z"
   },
   {
    "duration": 26712,
    "start_time": "2022-10-09T18:50:13.657Z"
   },
   {
    "duration": 6,
    "start_time": "2022-10-09T18:50:54.557Z"
   },
   {
    "duration": 139,
    "start_time": "2022-10-09T20:30:03.004Z"
   },
   {
    "duration": 1531,
    "start_time": "2022-10-09T20:30:57.408Z"
   },
   {
    "duration": 2087,
    "start_time": "2022-10-09T20:30:58.940Z"
   },
   {
    "duration": 36,
    "start_time": "2022-10-09T20:31:01.028Z"
   },
   {
    "duration": 236,
    "start_time": "2022-10-09T20:31:01.065Z"
   },
   {
    "duration": 2,
    "start_time": "2022-10-09T20:31:01.303Z"
   },
   {
    "duration": 27,
    "start_time": "2022-10-09T20:31:01.307Z"
   },
   {
    "duration": 55,
    "start_time": "2022-10-09T20:31:01.335Z"
   },
   {
    "duration": 4,
    "start_time": "2022-10-09T20:31:01.392Z"
   },
   {
    "duration": 26,
    "start_time": "2022-10-09T20:31:01.398Z"
   },
   {
    "duration": 7,
    "start_time": "2022-10-09T20:31:01.427Z"
   },
   {
    "duration": 15,
    "start_time": "2022-10-09T20:31:01.436Z"
   },
   {
    "duration": 1067,
    "start_time": "2022-10-09T20:31:01.453Z"
   },
   {
    "duration": 24213,
    "start_time": "2022-10-09T20:31:02.521Z"
   },
   {
    "duration": 139,
    "start_time": "2022-10-09T20:31:26.736Z"
   },
   {
    "duration": 0,
    "start_time": "2022-10-09T20:31:26.876Z"
   },
   {
    "duration": 0,
    "start_time": "2022-10-09T20:31:26.877Z"
   },
   {
    "duration": 0,
    "start_time": "2022-10-09T20:31:26.877Z"
   },
   {
    "duration": 0,
    "start_time": "2022-10-09T20:31:26.878Z"
   },
   {
    "duration": 0,
    "start_time": "2022-10-09T20:31:26.879Z"
   },
   {
    "duration": 0,
    "start_time": "2022-10-09T20:31:26.880Z"
   },
   {
    "duration": 16,
    "start_time": "2022-10-09T20:41:25.595Z"
   },
   {
    "duration": 1176,
    "start_time": "2022-10-09T20:42:25.858Z"
   },
   {
    "duration": 752,
    "start_time": "2022-10-09T20:42:27.036Z"
   },
   {
    "duration": 32,
    "start_time": "2022-10-09T20:42:27.790Z"
   },
   {
    "duration": 223,
    "start_time": "2022-10-09T20:42:27.823Z"
   },
   {
    "duration": 3,
    "start_time": "2022-10-09T20:42:28.047Z"
   },
   {
    "duration": 18,
    "start_time": "2022-10-09T20:42:28.051Z"
   },
   {
    "duration": 29,
    "start_time": "2022-10-09T20:42:28.071Z"
   },
   {
    "duration": 4,
    "start_time": "2022-10-09T20:42:28.101Z"
   },
   {
    "duration": 23,
    "start_time": "2022-10-09T20:42:28.106Z"
   },
   {
    "duration": 5,
    "start_time": "2022-10-09T20:42:28.132Z"
   },
   {
    "duration": 15,
    "start_time": "2022-10-09T20:42:28.138Z"
   },
   {
    "duration": 967,
    "start_time": "2022-10-09T20:42:28.154Z"
   },
   {
    "duration": 23451,
    "start_time": "2022-10-09T20:42:29.123Z"
   },
   {
    "duration": 128,
    "start_time": "2022-10-09T20:42:52.576Z"
   },
   {
    "duration": 0,
    "start_time": "2022-10-09T20:42:52.706Z"
   },
   {
    "duration": 0,
    "start_time": "2022-10-09T20:42:52.707Z"
   },
   {
    "duration": 0,
    "start_time": "2022-10-09T20:42:52.708Z"
   },
   {
    "duration": 0,
    "start_time": "2022-10-09T20:42:52.709Z"
   },
   {
    "duration": 0,
    "start_time": "2022-10-09T20:42:52.710Z"
   },
   {
    "duration": 0,
    "start_time": "2022-10-09T20:42:52.711Z"
   },
   {
    "duration": 1152,
    "start_time": "2022-10-09T20:51:42.186Z"
   },
   {
    "duration": 750,
    "start_time": "2022-10-09T20:51:43.339Z"
   },
   {
    "duration": 31,
    "start_time": "2022-10-09T20:51:44.090Z"
   },
   {
    "duration": 203,
    "start_time": "2022-10-09T20:51:44.123Z"
   },
   {
    "duration": 3,
    "start_time": "2022-10-09T20:51:44.327Z"
   },
   {
    "duration": 8,
    "start_time": "2022-10-09T20:51:44.331Z"
   },
   {
    "duration": 27,
    "start_time": "2022-10-09T20:51:44.340Z"
   },
   {
    "duration": 3,
    "start_time": "2022-10-09T20:51:44.368Z"
   },
   {
    "duration": 14,
    "start_time": "2022-10-09T20:51:44.373Z"
   },
   {
    "duration": 4,
    "start_time": "2022-10-09T20:51:44.389Z"
   },
   {
    "duration": 28,
    "start_time": "2022-10-09T20:51:44.394Z"
   },
   {
    "duration": 967,
    "start_time": "2022-10-09T20:51:44.423Z"
   },
   {
    "duration": 4,
    "start_time": "2022-10-09T20:51:45.391Z"
   },
   {
    "duration": 445,
    "start_time": "2022-10-09T20:51:45.396Z"
   },
   {
    "duration": 0,
    "start_time": "2022-10-09T20:51:45.843Z"
   },
   {
    "duration": 0,
    "start_time": "2022-10-09T20:51:45.844Z"
   },
   {
    "duration": 0,
    "start_time": "2022-10-09T20:51:45.845Z"
   },
   {
    "duration": 0,
    "start_time": "2022-10-09T20:51:45.847Z"
   },
   {
    "duration": 0,
    "start_time": "2022-10-09T20:51:45.848Z"
   },
   {
    "duration": 0,
    "start_time": "2022-10-09T20:51:45.849Z"
   },
   {
    "duration": 0,
    "start_time": "2022-10-09T20:51:45.850Z"
   },
   {
    "duration": 525,
    "start_time": "2022-10-09T20:52:22.110Z"
   },
   {
    "duration": 1311,
    "start_time": "2022-10-09T20:52:29.589Z"
   },
   {
    "duration": 751,
    "start_time": "2022-10-09T20:52:30.901Z"
   },
   {
    "duration": 25,
    "start_time": "2022-10-09T20:52:31.653Z"
   },
   {
    "duration": 207,
    "start_time": "2022-10-09T20:52:31.680Z"
   },
   {
    "duration": 4,
    "start_time": "2022-10-09T20:52:31.889Z"
   },
   {
    "duration": 9,
    "start_time": "2022-10-09T20:52:31.895Z"
   },
   {
    "duration": 37,
    "start_time": "2022-10-09T20:52:31.905Z"
   },
   {
    "duration": 3,
    "start_time": "2022-10-09T20:52:31.943Z"
   },
   {
    "duration": 15,
    "start_time": "2022-10-09T20:52:31.948Z"
   },
   {
    "duration": 4,
    "start_time": "2022-10-09T20:52:31.965Z"
   },
   {
    "duration": 4,
    "start_time": "2022-10-09T20:52:31.970Z"
   },
   {
    "duration": 959,
    "start_time": "2022-10-09T20:52:31.976Z"
   },
   {
    "duration": 4,
    "start_time": "2022-10-09T20:52:32.936Z"
   },
   {
    "duration": 1522,
    "start_time": "2022-10-10T08:01:37.222Z"
   },
   {
    "duration": 2411,
    "start_time": "2022-10-10T08:01:38.746Z"
   },
   {
    "duration": 28,
    "start_time": "2022-10-10T08:01:41.159Z"
   },
   {
    "duration": 217,
    "start_time": "2022-10-10T08:01:41.189Z"
   },
   {
    "duration": 3,
    "start_time": "2022-10-10T08:01:41.407Z"
   },
   {
    "duration": 10,
    "start_time": "2022-10-10T08:01:41.411Z"
   },
   {
    "duration": 32,
    "start_time": "2022-10-10T08:01:41.422Z"
   },
   {
    "duration": 4,
    "start_time": "2022-10-10T08:01:41.455Z"
   },
   {
    "duration": 18,
    "start_time": "2022-10-10T08:01:41.461Z"
   },
   {
    "duration": 6,
    "start_time": "2022-10-10T08:01:41.482Z"
   },
   {
    "duration": 7,
    "start_time": "2022-10-10T08:01:41.490Z"
   },
   {
    "duration": 1123,
    "start_time": "2022-10-10T08:01:41.499Z"
   },
   {
    "duration": 3,
    "start_time": "2022-10-10T08:01:42.624Z"
   },
   {
    "duration": 404,
    "start_time": "2022-10-10T08:01:42.633Z"
   },
   {
    "duration": 0,
    "start_time": "2022-10-10T08:01:43.039Z"
   },
   {
    "duration": 0,
    "start_time": "2022-10-10T08:01:43.041Z"
   },
   {
    "duration": 0,
    "start_time": "2022-10-10T08:01:43.042Z"
   },
   {
    "duration": 0,
    "start_time": "2022-10-10T08:01:43.044Z"
   },
   {
    "duration": 0,
    "start_time": "2022-10-10T08:01:43.045Z"
   },
   {
    "duration": 0,
    "start_time": "2022-10-10T08:01:43.047Z"
   },
   {
    "duration": 0,
    "start_time": "2022-10-10T08:01:43.048Z"
   },
   {
    "duration": 2534,
    "start_time": "2022-10-10T08:02:15.491Z"
   },
   {
    "duration": 844,
    "start_time": "2022-10-10T08:02:18.027Z"
   },
   {
    "duration": 28,
    "start_time": "2022-10-10T08:02:18.873Z"
   },
   {
    "duration": 223,
    "start_time": "2022-10-10T08:02:18.903Z"
   },
   {
    "duration": 7,
    "start_time": "2022-10-10T08:02:19.127Z"
   },
   {
    "duration": 18,
    "start_time": "2022-10-10T08:02:19.135Z"
   },
   {
    "duration": 34,
    "start_time": "2022-10-10T08:02:19.154Z"
   },
   {
    "duration": 4,
    "start_time": "2022-10-10T08:02:19.190Z"
   },
   {
    "duration": 21,
    "start_time": "2022-10-10T08:02:19.195Z"
   },
   {
    "duration": 5,
    "start_time": "2022-10-10T08:02:19.219Z"
   },
   {
    "duration": 5,
    "start_time": "2022-10-10T08:02:19.225Z"
   },
   {
    "duration": 1077,
    "start_time": "2022-10-10T08:02:19.233Z"
   },
   {
    "duration": 4,
    "start_time": "2022-10-10T08:02:20.312Z"
   },
   {
    "duration": 523,
    "start_time": "2022-10-10T10:00:37.681Z"
   },
   {
    "duration": 1602,
    "start_time": "2022-10-10T10:01:25.141Z"
   },
   {
    "duration": 888,
    "start_time": "2022-10-10T10:01:26.745Z"
   },
   {
    "duration": 32,
    "start_time": "2022-10-10T10:01:27.635Z"
   },
   {
    "duration": 235,
    "start_time": "2022-10-10T10:01:27.669Z"
   },
   {
    "duration": 3,
    "start_time": "2022-10-10T10:01:27.906Z"
   },
   {
    "duration": 15,
    "start_time": "2022-10-10T10:01:27.911Z"
   },
   {
    "duration": 30,
    "start_time": "2022-10-10T10:01:27.934Z"
   },
   {
    "duration": 4,
    "start_time": "2022-10-10T10:01:27.966Z"
   },
   {
    "duration": 40,
    "start_time": "2022-10-10T10:01:27.972Z"
   },
   {
    "duration": 5,
    "start_time": "2022-10-10T10:01:28.013Z"
   },
   {
    "duration": 10,
    "start_time": "2022-10-10T10:01:28.020Z"
   },
   {
    "duration": 1110,
    "start_time": "2022-10-10T10:01:28.032Z"
   },
   {
    "duration": 3,
    "start_time": "2022-10-10T10:01:29.144Z"
   },
   {
    "duration": 26657,
    "start_time": "2022-10-10T10:01:29.150Z"
   },
   {
    "duration": 134,
    "start_time": "2022-10-10T10:01:55.809Z"
   },
   {
    "duration": 0,
    "start_time": "2022-10-10T10:01:55.945Z"
   },
   {
    "duration": 0,
    "start_time": "2022-10-10T10:01:55.946Z"
   },
   {
    "duration": 0,
    "start_time": "2022-10-10T10:01:55.947Z"
   },
   {
    "duration": 0,
    "start_time": "2022-10-10T10:01:55.949Z"
   },
   {
    "duration": 0,
    "start_time": "2022-10-10T10:01:55.950Z"
   },
   {
    "duration": 0,
    "start_time": "2022-10-10T10:01:55.952Z"
   },
   {
    "duration": 11,
    "start_time": "2022-10-10T10:02:26.136Z"
   },
   {
    "duration": 11,
    "start_time": "2022-10-10T10:03:59.878Z"
   },
   {
    "duration": 10,
    "start_time": "2022-10-10T10:04:12.739Z"
   },
   {
    "duration": 1496,
    "start_time": "2022-10-10T10:04:31.259Z"
   },
   {
    "duration": 890,
    "start_time": "2022-10-10T10:04:32.757Z"
   },
   {
    "duration": 33,
    "start_time": "2022-10-10T10:04:33.649Z"
   },
   {
    "duration": 234,
    "start_time": "2022-10-10T10:04:33.684Z"
   },
   {
    "duration": 2,
    "start_time": "2022-10-10T10:04:33.920Z"
   },
   {
    "duration": 13,
    "start_time": "2022-10-10T10:04:33.923Z"
   },
   {
    "duration": 29,
    "start_time": "2022-10-10T10:04:33.937Z"
   },
   {
    "duration": 6,
    "start_time": "2022-10-10T10:04:33.968Z"
   },
   {
    "duration": 17,
    "start_time": "2022-10-10T10:04:33.976Z"
   },
   {
    "duration": 6,
    "start_time": "2022-10-10T10:04:33.996Z"
   },
   {
    "duration": 5,
    "start_time": "2022-10-10T10:04:34.004Z"
   },
   {
    "duration": 1077,
    "start_time": "2022-10-10T10:04:34.010Z"
   },
   {
    "duration": 4,
    "start_time": "2022-10-10T10:04:35.089Z"
   },
   {
    "duration": 26777,
    "start_time": "2022-10-10T10:04:35.094Z"
   },
   {
    "duration": 3,
    "start_time": "2022-10-10T10:05:01.872Z"
   },
   {
    "duration": 144,
    "start_time": "2022-10-10T10:05:01.876Z"
   },
   {
    "duration": 0,
    "start_time": "2022-10-10T10:05:02.021Z"
   },
   {
    "duration": 0,
    "start_time": "2022-10-10T10:05:02.023Z"
   },
   {
    "duration": 0,
    "start_time": "2022-10-10T10:05:02.033Z"
   },
   {
    "duration": 0,
    "start_time": "2022-10-10T10:05:02.034Z"
   },
   {
    "duration": 0,
    "start_time": "2022-10-10T10:05:02.036Z"
   },
   {
    "duration": 0,
    "start_time": "2022-10-10T10:05:02.037Z"
   },
   {
    "duration": 12,
    "start_time": "2022-10-10T10:05:14.649Z"
   },
   {
    "duration": 18,
    "start_time": "2022-10-10T10:05:28.286Z"
   },
   {
    "duration": 13,
    "start_time": "2022-10-10T10:06:06.507Z"
   },
   {
    "duration": 16,
    "start_time": "2022-10-10T10:07:57.970Z"
   },
   {
    "duration": 15,
    "start_time": "2022-10-10T10:09:21.203Z"
   },
   {
    "duration": 206,
    "start_time": "2022-10-10T12:23:12.285Z"
   },
   {
    "duration": 1586,
    "start_time": "2022-10-10T12:23:45.657Z"
   },
   {
    "duration": 847,
    "start_time": "2022-10-10T12:23:47.245Z"
   },
   {
    "duration": 26,
    "start_time": "2022-10-10T12:23:48.094Z"
   },
   {
    "duration": 229,
    "start_time": "2022-10-10T12:23:48.122Z"
   },
   {
    "duration": 2,
    "start_time": "2022-10-10T12:23:48.352Z"
   },
   {
    "duration": 11,
    "start_time": "2022-10-10T12:23:48.356Z"
   },
   {
    "duration": 30,
    "start_time": "2022-10-10T12:23:48.368Z"
   },
   {
    "duration": 4,
    "start_time": "2022-10-10T12:23:48.399Z"
   },
   {
    "duration": 34,
    "start_time": "2022-10-10T12:23:48.404Z"
   },
   {
    "duration": 5,
    "start_time": "2022-10-10T12:23:48.441Z"
   },
   {
    "duration": 5,
    "start_time": "2022-10-10T12:23:48.448Z"
   },
   {
    "duration": 1059,
    "start_time": "2022-10-10T12:23:48.455Z"
   },
   {
    "duration": 3,
    "start_time": "2022-10-10T12:23:49.515Z"
   },
   {
    "duration": 25719,
    "start_time": "2022-10-10T12:23:49.520Z"
   },
   {
    "duration": 2,
    "start_time": "2022-10-10T12:24:15.241Z"
   },
   {
    "duration": 131,
    "start_time": "2022-10-10T12:24:15.245Z"
   },
   {
    "duration": 0,
    "start_time": "2022-10-10T12:24:15.378Z"
   },
   {
    "duration": 0,
    "start_time": "2022-10-10T12:24:15.379Z"
   },
   {
    "duration": 0,
    "start_time": "2022-10-10T12:24:15.380Z"
   },
   {
    "duration": 0,
    "start_time": "2022-10-10T12:24:15.381Z"
   },
   {
    "duration": 0,
    "start_time": "2022-10-10T12:24:15.382Z"
   },
   {
    "duration": 0,
    "start_time": "2022-10-10T12:24:15.383Z"
   },
   {
    "duration": 42,
    "start_time": "2022-10-10T17:53:19.287Z"
   },
   {
    "duration": 6907,
    "start_time": "2022-10-10T17:53:32.889Z"
   },
   {
    "duration": 3270,
    "start_time": "2022-10-10T17:53:39.799Z"
   },
   {
    "duration": 29,
    "start_time": "2022-10-10T17:53:43.070Z"
   },
   {
    "duration": 201,
    "start_time": "2022-10-10T17:53:43.100Z"
   },
   {
    "duration": 4,
    "start_time": "2022-10-10T17:53:43.303Z"
   },
   {
    "duration": 9,
    "start_time": "2022-10-10T17:53:43.308Z"
   },
   {
    "duration": 26,
    "start_time": "2022-10-10T17:53:43.319Z"
   },
   {
    "duration": 3,
    "start_time": "2022-10-10T17:53:43.347Z"
   },
   {
    "duration": 17,
    "start_time": "2022-10-10T17:53:43.352Z"
   },
   {
    "duration": 4,
    "start_time": "2022-10-10T17:53:43.371Z"
   },
   {
    "duration": 5,
    "start_time": "2022-10-10T17:53:43.376Z"
   },
   {
    "duration": 928,
    "start_time": "2022-10-10T17:53:43.405Z"
   },
   {
    "duration": 3,
    "start_time": "2022-10-10T17:53:44.334Z"
   },
   {
    "duration": 23790,
    "start_time": "2022-10-10T17:53:44.339Z"
   },
   {
    "duration": 3,
    "start_time": "2022-10-10T17:54:08.130Z"
   },
   {
    "duration": 8,
    "start_time": "2022-10-10T17:54:08.134Z"
   },
   {
    "duration": 15,
    "start_time": "2022-10-10T17:54:08.143Z"
   },
   {
    "duration": 110,
    "start_time": "2022-10-10T17:54:08.159Z"
   },
   {
    "duration": 0,
    "start_time": "2022-10-10T17:54:08.271Z"
   },
   {
    "duration": 0,
    "start_time": "2022-10-10T17:54:08.271Z"
   },
   {
    "duration": 0,
    "start_time": "2022-10-10T17:54:08.272Z"
   },
   {
    "duration": 0,
    "start_time": "2022-10-10T17:54:08.273Z"
   },
   {
    "duration": 12,
    "start_time": "2022-10-10T17:54:52.414Z"
   },
   {
    "duration": 12,
    "start_time": "2022-10-10T17:55:54.958Z"
   },
   {
    "duration": 1536,
    "start_time": "2022-10-10T17:57:08.604Z"
   },
   {
    "duration": 756,
    "start_time": "2022-10-10T17:57:10.142Z"
   },
   {
    "duration": 28,
    "start_time": "2022-10-10T17:57:10.900Z"
   },
   {
    "duration": 218,
    "start_time": "2022-10-10T17:57:10.930Z"
   },
   {
    "duration": 3,
    "start_time": "2022-10-10T17:57:11.149Z"
   },
   {
    "duration": 8,
    "start_time": "2022-10-10T17:57:11.153Z"
   },
   {
    "duration": 27,
    "start_time": "2022-10-10T17:57:11.162Z"
   },
   {
    "duration": 15,
    "start_time": "2022-10-10T17:57:11.191Z"
   },
   {
    "duration": 19,
    "start_time": "2022-10-10T17:57:11.208Z"
   },
   {
    "duration": 6,
    "start_time": "2022-10-10T17:57:11.229Z"
   },
   {
    "duration": 5,
    "start_time": "2022-10-10T17:57:11.236Z"
   },
   {
    "duration": 986,
    "start_time": "2022-10-10T17:57:11.242Z"
   },
   {
    "duration": 4,
    "start_time": "2022-10-10T17:57:12.229Z"
   },
   {
    "duration": 23894,
    "start_time": "2022-10-10T17:57:12.235Z"
   },
   {
    "duration": 2,
    "start_time": "2022-10-10T17:57:36.131Z"
   },
   {
    "duration": 8,
    "start_time": "2022-10-10T17:57:36.135Z"
   },
   {
    "duration": 12,
    "start_time": "2022-10-10T17:57:36.144Z"
   },
   {
    "duration": 130,
    "start_time": "2022-10-10T17:57:36.157Z"
   },
   {
    "duration": 0,
    "start_time": "2022-10-10T17:57:36.289Z"
   },
   {
    "duration": 0,
    "start_time": "2022-10-10T17:57:36.291Z"
   },
   {
    "duration": 0,
    "start_time": "2022-10-10T17:57:36.292Z"
   },
   {
    "duration": 0,
    "start_time": "2022-10-10T17:57:36.294Z"
   },
   {
    "duration": 0,
    "start_time": "2022-10-10T17:57:36.305Z"
   },
   {
    "duration": 0,
    "start_time": "2022-10-10T17:57:36.307Z"
   },
   {
    "duration": 12,
    "start_time": "2022-10-10T18:25:42.668Z"
   },
   {
    "duration": 102,
    "start_time": "2022-10-10T18:29:43.791Z"
   },
   {
    "duration": 373,
    "start_time": "2022-10-10T18:30:29.647Z"
   },
   {
    "duration": 401,
    "start_time": "2022-10-10T18:30:49.190Z"
   },
   {
    "duration": 1545,
    "start_time": "2022-10-10T18:31:34.511Z"
   },
   {
    "duration": 0,
    "start_time": "2022-10-10T18:40:54.456Z"
   },
   {
    "duration": 0,
    "start_time": "2022-10-10T18:40:54.461Z"
   },
   {
    "duration": 0,
    "start_time": "2022-10-10T18:40:54.463Z"
   },
   {
    "duration": 0,
    "start_time": "2022-10-10T18:40:54.464Z"
   },
   {
    "duration": 0,
    "start_time": "2022-10-10T18:40:54.465Z"
   },
   {
    "duration": 0,
    "start_time": "2022-10-10T18:40:54.466Z"
   },
   {
    "duration": 0,
    "start_time": "2022-10-10T18:40:54.467Z"
   },
   {
    "duration": 0,
    "start_time": "2022-10-10T18:40:54.468Z"
   },
   {
    "duration": 0,
    "start_time": "2022-10-10T18:40:54.469Z"
   },
   {
    "duration": 0,
    "start_time": "2022-10-10T18:40:54.470Z"
   },
   {
    "duration": 0,
    "start_time": "2022-10-10T18:40:54.471Z"
   },
   {
    "duration": 0,
    "start_time": "2022-10-10T18:40:54.472Z"
   },
   {
    "duration": 0,
    "start_time": "2022-10-10T18:40:54.473Z"
   },
   {
    "duration": 1758,
    "start_time": "2022-10-10T18:41:09.670Z"
   },
   {
    "duration": 776,
    "start_time": "2022-10-10T18:41:11.429Z"
   },
   {
    "duration": 29,
    "start_time": "2022-10-10T18:41:12.207Z"
   },
   {
    "duration": 232,
    "start_time": "2022-10-10T18:41:12.237Z"
   },
   {
    "duration": 3,
    "start_time": "2022-10-10T18:41:12.471Z"
   },
   {
    "duration": 13,
    "start_time": "2022-10-10T18:41:12.475Z"
   },
   {
    "duration": 43,
    "start_time": "2022-10-10T18:41:12.490Z"
   },
   {
    "duration": 4,
    "start_time": "2022-10-10T18:41:12.534Z"
   },
   {
    "duration": 25,
    "start_time": "2022-10-10T18:41:12.539Z"
   },
   {
    "duration": 5,
    "start_time": "2022-10-10T18:41:12.565Z"
   },
   {
    "duration": 5,
    "start_time": "2022-10-10T18:41:12.571Z"
   },
   {
    "duration": 1053,
    "start_time": "2022-10-10T18:41:12.577Z"
   },
   {
    "duration": 3,
    "start_time": "2022-10-10T18:41:13.632Z"
   },
   {
    "duration": 624,
    "start_time": "2022-10-10T18:41:13.637Z"
   },
   {
    "duration": 0,
    "start_time": "2022-10-10T18:41:14.262Z"
   },
   {
    "duration": 0,
    "start_time": "2022-10-10T18:41:14.263Z"
   },
   {
    "duration": 0,
    "start_time": "2022-10-10T18:41:14.264Z"
   },
   {
    "duration": 0,
    "start_time": "2022-10-10T18:41:14.265Z"
   },
   {
    "duration": 0,
    "start_time": "2022-10-10T18:41:14.266Z"
   },
   {
    "duration": 0,
    "start_time": "2022-10-10T18:41:14.267Z"
   },
   {
    "duration": 0,
    "start_time": "2022-10-10T18:41:14.268Z"
   },
   {
    "duration": 0,
    "start_time": "2022-10-10T18:41:14.269Z"
   },
   {
    "duration": 0,
    "start_time": "2022-10-10T18:41:14.270Z"
   },
   {
    "duration": 0,
    "start_time": "2022-10-10T18:41:14.271Z"
   },
   {
    "duration": 2111,
    "start_time": "2022-10-10T18:42:36.387Z"
   },
   {
    "duration": 6,
    "start_time": "2022-10-10T18:42:53.687Z"
   },
   {
    "duration": 1523,
    "start_time": "2022-10-10T18:43:12.618Z"
   },
   {
    "duration": 766,
    "start_time": "2022-10-10T18:43:14.143Z"
   },
   {
    "duration": 29,
    "start_time": "2022-10-10T18:43:14.911Z"
   },
   {
    "duration": 226,
    "start_time": "2022-10-10T18:43:14.942Z"
   },
   {
    "duration": 3,
    "start_time": "2022-10-10T18:43:15.170Z"
   },
   {
    "duration": 36,
    "start_time": "2022-10-10T18:43:15.174Z"
   },
   {
    "duration": 29,
    "start_time": "2022-10-10T18:43:15.211Z"
   },
   {
    "duration": 4,
    "start_time": "2022-10-10T18:43:15.241Z"
   },
   {
    "duration": 19,
    "start_time": "2022-10-10T18:43:15.247Z"
   },
   {
    "duration": 5,
    "start_time": "2022-10-10T18:43:15.268Z"
   },
   {
    "duration": 3,
    "start_time": "2022-10-10T18:43:15.275Z"
   },
   {
    "duration": 998,
    "start_time": "2022-10-10T18:43:15.279Z"
   },
   {
    "duration": 5,
    "start_time": "2022-10-10T18:43:16.279Z"
   },
   {
    "duration": 2145,
    "start_time": "2022-10-10T18:43:16.285Z"
   },
   {
    "duration": 5,
    "start_time": "2022-10-10T18:43:18.431Z"
   },
   {
    "duration": 23,
    "start_time": "2022-10-10T18:43:18.437Z"
   },
   {
    "duration": 25,
    "start_time": "2022-10-10T18:43:18.461Z"
   },
   {
    "duration": 40,
    "start_time": "2022-10-10T18:43:18.488Z"
   },
   {
    "duration": 115,
    "start_time": "2022-10-10T18:43:18.530Z"
   },
   {
    "duration": 0,
    "start_time": "2022-10-10T18:43:18.646Z"
   },
   {
    "duration": 0,
    "start_time": "2022-10-10T18:43:18.647Z"
   },
   {
    "duration": 0,
    "start_time": "2022-10-10T18:43:18.648Z"
   },
   {
    "duration": 0,
    "start_time": "2022-10-10T18:43:18.649Z"
   },
   {
    "duration": 0,
    "start_time": "2022-10-10T18:43:18.650Z"
   },
   {
    "duration": 0,
    "start_time": "2022-10-10T18:43:18.651Z"
   },
   {
    "duration": 1494,
    "start_time": "2022-10-10T18:43:53.347Z"
   },
   {
    "duration": 759,
    "start_time": "2022-10-10T18:43:54.843Z"
   },
   {
    "duration": 29,
    "start_time": "2022-10-10T18:43:55.603Z"
   },
   {
    "duration": 229,
    "start_time": "2022-10-10T18:43:55.634Z"
   },
   {
    "duration": 3,
    "start_time": "2022-10-10T18:43:55.864Z"
   },
   {
    "duration": 8,
    "start_time": "2022-10-10T18:43:55.868Z"
   },
   {
    "duration": 40,
    "start_time": "2022-10-10T18:43:55.877Z"
   },
   {
    "duration": 4,
    "start_time": "2022-10-10T18:43:55.918Z"
   },
   {
    "duration": 20,
    "start_time": "2022-10-10T18:43:55.923Z"
   },
   {
    "duration": 4,
    "start_time": "2022-10-10T18:43:55.945Z"
   },
   {
    "duration": 5,
    "start_time": "2022-10-10T18:43:55.950Z"
   },
   {
    "duration": 1084,
    "start_time": "2022-10-10T18:43:55.956Z"
   },
   {
    "duration": 4,
    "start_time": "2022-10-10T18:43:57.042Z"
   },
   {
    "duration": 2185,
    "start_time": "2022-10-10T18:43:57.048Z"
   },
   {
    "duration": 7,
    "start_time": "2022-10-10T18:43:59.235Z"
   },
   {
    "duration": 15,
    "start_time": "2022-10-10T18:43:59.243Z"
   },
   {
    "duration": 10,
    "start_time": "2022-10-10T18:43:59.260Z"
   },
   {
    "duration": 4189,
    "start_time": "2022-10-10T18:43:59.271Z"
   },
   {
    "duration": 6,
    "start_time": "2022-10-10T18:44:03.462Z"
   },
   {
    "duration": 2669,
    "start_time": "2022-10-10T18:44:03.470Z"
   },
   {
    "duration": 55216,
    "start_time": "2022-10-10T18:44:06.140Z"
   },
   {
    "duration": 962,
    "start_time": "2022-10-10T18:45:01.357Z"
   },
   {
    "duration": 8332,
    "start_time": "2022-10-10T18:45:02.321Z"
   },
   {
    "duration": 31910,
    "start_time": "2022-10-10T18:45:10.655Z"
   },
   {
    "duration": 4,
    "start_time": "2022-10-10T18:45:42.567Z"
   },
   {
    "duration": 3526,
    "start_time": "2022-10-10T19:11:01.547Z"
   },
   {
    "duration": 2416,
    "start_time": "2022-10-10T19:11:05.075Z"
   },
   {
    "duration": 24,
    "start_time": "2022-10-10T19:11:07.493Z"
   },
   {
    "duration": 212,
    "start_time": "2022-10-10T19:11:07.519Z"
   },
   {
    "duration": 2,
    "start_time": "2022-10-10T19:11:07.734Z"
   },
   {
    "duration": 12,
    "start_time": "2022-10-10T19:11:07.737Z"
   },
   {
    "duration": 26,
    "start_time": "2022-10-10T19:11:07.750Z"
   },
   {
    "duration": 4,
    "start_time": "2022-10-10T19:11:07.778Z"
   },
   {
    "duration": 25,
    "start_time": "2022-10-10T19:11:07.784Z"
   },
   {
    "duration": 24,
    "start_time": "2022-10-10T19:11:07.812Z"
   },
   {
    "duration": 13,
    "start_time": "2022-10-10T19:11:07.838Z"
   },
   {
    "duration": 1133,
    "start_time": "2022-10-10T19:11:07.853Z"
   },
   {
    "duration": 4,
    "start_time": "2022-10-10T19:11:08.988Z"
   },
   {
    "duration": 2353,
    "start_time": "2022-10-10T19:11:08.993Z"
   },
   {
    "duration": 6,
    "start_time": "2022-10-10T19:11:11.347Z"
   },
   {
    "duration": 9,
    "start_time": "2022-10-10T19:11:11.354Z"
   },
   {
    "duration": 25,
    "start_time": "2022-10-10T19:11:11.365Z"
   },
   {
    "duration": 4699,
    "start_time": "2022-10-10T19:11:11.392Z"
   },
   {
    "duration": 5174,
    "start_time": "2022-10-10T19:11:16.093Z"
   },
   {
    "duration": 62738,
    "start_time": "2022-10-10T19:11:21.269Z"
   },
   {
    "duration": 1052,
    "start_time": "2022-10-10T19:12:24.009Z"
   },
   {
    "duration": 8957,
    "start_time": "2022-10-10T19:12:25.063Z"
   },
   {
    "duration": 34091,
    "start_time": "2022-10-10T19:12:34.021Z"
   },
   {
    "duration": 5,
    "start_time": "2022-10-10T19:13:08.114Z"
   },
   {
    "duration": 7,
    "start_time": "2022-10-10T19:13:36.889Z"
   },
   {
    "duration": 4,
    "start_time": "2022-10-10T19:13:47.475Z"
   },
   {
    "duration": 1476,
    "start_time": "2022-10-10T19:14:37.322Z"
   },
   {
    "duration": 800,
    "start_time": "2022-10-10T19:14:38.800Z"
   },
   {
    "duration": 25,
    "start_time": "2022-10-10T19:14:39.601Z"
   },
   {
    "duration": 224,
    "start_time": "2022-10-10T19:14:39.633Z"
   },
   {
    "duration": 2,
    "start_time": "2022-10-10T19:14:39.858Z"
   },
   {
    "duration": 10,
    "start_time": "2022-10-10T19:14:39.861Z"
   },
   {
    "duration": 26,
    "start_time": "2022-10-10T19:14:39.872Z"
   },
   {
    "duration": 4,
    "start_time": "2022-10-10T19:14:39.900Z"
   },
   {
    "duration": 36,
    "start_time": "2022-10-10T19:14:39.905Z"
   },
   {
    "duration": 5,
    "start_time": "2022-10-10T19:14:39.944Z"
   },
   {
    "duration": 9,
    "start_time": "2022-10-10T19:14:39.950Z"
   },
   {
    "duration": 7,
    "start_time": "2022-10-10T19:14:39.960Z"
   },
   {
    "duration": 7,
    "start_time": "2022-10-10T19:14:39.969Z"
   },
   {
    "duration": 1029,
    "start_time": "2022-10-10T19:14:39.978Z"
   },
   {
    "duration": 3,
    "start_time": "2022-10-10T19:14:41.008Z"
   },
   {
    "duration": 2291,
    "start_time": "2022-10-10T19:14:41.013Z"
   },
   {
    "duration": 5,
    "start_time": "2022-10-10T19:14:43.306Z"
   },
   {
    "duration": 11,
    "start_time": "2022-10-10T19:14:43.313Z"
   },
   {
    "duration": 12,
    "start_time": "2022-10-10T19:14:43.325Z"
   },
   {
    "duration": 4486,
    "start_time": "2022-10-10T19:14:43.339Z"
   },
   {
    "duration": 2933,
    "start_time": "2022-10-10T19:14:47.827Z"
   },
   {
    "duration": 59510,
    "start_time": "2022-10-10T19:14:50.762Z"
   },
   {
    "duration": 1644,
    "start_time": "2022-10-10T19:15:50.273Z"
   },
   {
    "duration": 8775,
    "start_time": "2022-10-10T19:15:51.918Z"
   },
   {
    "duration": 33370,
    "start_time": "2022-10-10T19:16:00.695Z"
   },
   {
    "duration": 1485,
    "start_time": "2022-10-10T19:16:52.057Z"
   },
   {
    "duration": 1718,
    "start_time": "2022-10-10T19:18:11.261Z"
   },
   {
    "duration": 791,
    "start_time": "2022-10-10T19:18:12.981Z"
   },
   {
    "duration": 26,
    "start_time": "2022-10-10T19:18:13.774Z"
   },
   {
    "duration": 219,
    "start_time": "2022-10-10T19:18:13.801Z"
   },
   {
    "duration": 3,
    "start_time": "2022-10-10T19:18:14.022Z"
   },
   {
    "duration": 13,
    "start_time": "2022-10-10T19:18:14.026Z"
   },
   {
    "duration": 27,
    "start_time": "2022-10-10T19:18:14.041Z"
   },
   {
    "duration": 4,
    "start_time": "2022-10-10T19:18:14.069Z"
   },
   {
    "duration": 25,
    "start_time": "2022-10-10T19:18:14.075Z"
   },
   {
    "duration": 4,
    "start_time": "2022-10-10T19:18:14.102Z"
   },
   {
    "duration": 6,
    "start_time": "2022-10-10T19:18:14.132Z"
   },
   {
    "duration": 8,
    "start_time": "2022-10-10T19:18:14.140Z"
   },
   {
    "duration": 5,
    "start_time": "2022-10-10T19:18:14.149Z"
   },
   {
    "duration": 1072,
    "start_time": "2022-10-10T19:18:14.157Z"
   },
   {
    "duration": 4,
    "start_time": "2022-10-10T19:18:15.230Z"
   },
   {
    "duration": 18261,
    "start_time": "2022-10-10T19:18:15.235Z"
   },
   {
    "duration": 5,
    "start_time": "2022-10-10T19:18:33.497Z"
   },
   {
    "duration": 9,
    "start_time": "2022-10-10T19:18:33.503Z"
   },
   {
    "duration": 9,
    "start_time": "2022-10-10T19:18:33.514Z"
   },
   {
    "duration": 4445,
    "start_time": "2022-10-10T19:18:33.524Z"
   },
   {
    "duration": 7397,
    "start_time": "2022-10-10T19:18:37.971Z"
   },
   {
    "duration": 59464,
    "start_time": "2022-10-10T19:18:45.369Z"
   },
   {
    "duration": 1558,
    "start_time": "2022-10-10T19:19:44.834Z"
   },
   {
    "duration": 8848,
    "start_time": "2022-10-10T19:19:46.395Z"
   },
   {
    "duration": 33605,
    "start_time": "2022-10-10T19:19:55.244Z"
   },
   {
    "duration": 1343,
    "start_time": "2022-10-10T19:21:47.032Z"
   },
   {
    "duration": 1550,
    "start_time": "2022-10-10T19:22:53.588Z"
   },
   {
    "duration": 803,
    "start_time": "2022-10-10T19:22:55.140Z"
   },
   {
    "duration": 23,
    "start_time": "2022-10-10T19:22:55.945Z"
   },
   {
    "duration": 213,
    "start_time": "2022-10-10T19:22:55.970Z"
   },
   {
    "duration": 3,
    "start_time": "2022-10-10T19:22:56.185Z"
   },
   {
    "duration": 44,
    "start_time": "2022-10-10T19:22:56.190Z"
   },
   {
    "duration": 40,
    "start_time": "2022-10-10T19:22:56.236Z"
   },
   {
    "duration": 6,
    "start_time": "2022-10-10T19:22:56.278Z"
   },
   {
    "duration": 26,
    "start_time": "2022-10-10T19:22:56.286Z"
   },
   {
    "duration": 6,
    "start_time": "2022-10-10T19:22:56.315Z"
   },
   {
    "duration": 13,
    "start_time": "2022-10-10T19:22:56.323Z"
   },
   {
    "duration": 9,
    "start_time": "2022-10-10T19:22:56.338Z"
   },
   {
    "duration": 8,
    "start_time": "2022-10-10T19:22:56.349Z"
   },
   {
    "duration": 1072,
    "start_time": "2022-10-10T19:22:56.359Z"
   },
   {
    "duration": 3,
    "start_time": "2022-10-10T19:22:57.433Z"
   },
   {
    "duration": 18281,
    "start_time": "2022-10-10T19:22:57.437Z"
   },
   {
    "duration": 4,
    "start_time": "2022-10-10T19:23:15.720Z"
   },
   {
    "duration": 11,
    "start_time": "2022-10-10T19:23:15.726Z"
   },
   {
    "duration": 7,
    "start_time": "2022-10-10T19:23:15.739Z"
   },
   {
    "duration": 4523,
    "start_time": "2022-10-10T19:23:15.747Z"
   },
   {
    "duration": 3995,
    "start_time": "2022-10-10T19:23:20.272Z"
   },
   {
    "duration": 62313,
    "start_time": "2022-10-10T19:23:24.269Z"
   },
   {
    "duration": 1447,
    "start_time": "2022-10-10T19:24:26.583Z"
   },
   {
    "duration": 8812,
    "start_time": "2022-10-10T19:24:28.033Z"
   },
   {
    "duration": 33948,
    "start_time": "2022-10-10T19:24:36.846Z"
   },
   {
    "duration": 8164,
    "start_time": "2022-10-10T19:25:10.798Z"
   },
   {
    "duration": 5436,
    "start_time": "2022-10-10T19:25:28.938Z"
   },
   {
    "duration": 221,
    "start_time": "2022-10-10T19:33:13.884Z"
   },
   {
    "duration": 453,
    "start_time": "2022-10-10T19:33:22.242Z"
   },
   {
    "duration": 4,
    "start_time": "2022-10-10T19:33:32.903Z"
   },
   {
    "duration": 4,
    "start_time": "2022-10-10T19:33:47.430Z"
   },
   {
    "duration": 5,
    "start_time": "2022-10-10T19:33:56.355Z"
   },
   {
    "duration": 0,
    "start_time": "2022-10-10T19:34:31.779Z"
   },
   {
    "duration": 16956,
    "start_time": "2022-10-10T19:34:37.535Z"
   },
   {
    "duration": 8,
    "start_time": "2022-10-10T19:35:39.479Z"
   },
   {
    "duration": 221,
    "start_time": "2022-10-10T19:36:08.094Z"
   },
   {
    "duration": 57,
    "start_time": "2022-10-10T19:41:21.544Z"
   },
   {
    "duration": 1957,
    "start_time": "2022-10-10T19:41:28.897Z"
   },
   {
    "duration": 2261,
    "start_time": "2022-10-10T19:41:30.856Z"
   },
   {
    "duration": 30,
    "start_time": "2022-10-10T19:41:33.119Z"
   },
   {
    "duration": 214,
    "start_time": "2022-10-10T19:41:33.152Z"
   },
   {
    "duration": 3,
    "start_time": "2022-10-10T19:41:33.367Z"
   },
   {
    "duration": 11,
    "start_time": "2022-10-10T19:41:33.371Z"
   },
   {
    "duration": 29,
    "start_time": "2022-10-10T19:41:33.383Z"
   },
   {
    "duration": 23,
    "start_time": "2022-10-10T19:41:33.414Z"
   },
   {
    "duration": 20,
    "start_time": "2022-10-10T19:41:33.438Z"
   },
   {
    "duration": 5,
    "start_time": "2022-10-10T19:41:33.461Z"
   },
   {
    "duration": 10,
    "start_time": "2022-10-10T19:41:33.468Z"
   },
   {
    "duration": 6,
    "start_time": "2022-10-10T19:41:33.480Z"
   },
   {
    "duration": 17,
    "start_time": "2022-10-10T19:41:33.488Z"
   },
   {
    "duration": 1061,
    "start_time": "2022-10-10T19:41:33.507Z"
   },
   {
    "duration": 3,
    "start_time": "2022-10-10T19:41:34.570Z"
   },
   {
    "duration": 9,
    "start_time": "2022-10-10T19:41:34.574Z"
   },
   {
    "duration": 284,
    "start_time": "2022-10-10T19:41:34.584Z"
   },
   {
    "duration": 0,
    "start_time": "2022-10-10T19:41:34.870Z"
   },
   {
    "duration": 0,
    "start_time": "2022-10-10T19:41:34.872Z"
   },
   {
    "duration": 0,
    "start_time": "2022-10-10T19:41:34.873Z"
   },
   {
    "duration": 0,
    "start_time": "2022-10-10T19:41:34.875Z"
   },
   {
    "duration": 0,
    "start_time": "2022-10-10T19:41:34.876Z"
   },
   {
    "duration": 0,
    "start_time": "2022-10-10T19:41:34.877Z"
   },
   {
    "duration": 0,
    "start_time": "2022-10-10T19:41:34.878Z"
   },
   {
    "duration": 0,
    "start_time": "2022-10-10T19:41:34.879Z"
   },
   {
    "duration": 0,
    "start_time": "2022-10-10T19:41:34.881Z"
   },
   {
    "duration": 57,
    "start_time": "2022-10-10T19:42:43.252Z"
   },
   {
    "duration": 1957,
    "start_time": "2022-10-10T19:42:52.211Z"
   },
   {
    "duration": 2244,
    "start_time": "2022-10-10T19:42:54.170Z"
   },
   {
    "duration": 33,
    "start_time": "2022-10-10T19:42:56.417Z"
   },
   {
    "duration": 230,
    "start_time": "2022-10-10T19:42:56.453Z"
   },
   {
    "duration": 3,
    "start_time": "2022-10-10T19:42:56.684Z"
   },
   {
    "duration": 24,
    "start_time": "2022-10-10T19:42:56.688Z"
   },
   {
    "duration": 33,
    "start_time": "2022-10-10T19:42:56.714Z"
   },
   {
    "duration": 7,
    "start_time": "2022-10-10T19:42:56.749Z"
   },
   {
    "duration": 25,
    "start_time": "2022-10-10T19:42:56.758Z"
   },
   {
    "duration": 9,
    "start_time": "2022-10-10T19:42:56.786Z"
   },
   {
    "duration": 15,
    "start_time": "2022-10-10T19:42:56.797Z"
   },
   {
    "duration": 22,
    "start_time": "2022-10-10T19:42:56.814Z"
   },
   {
    "duration": 12,
    "start_time": "2022-10-10T19:42:56.837Z"
   },
   {
    "duration": 1008,
    "start_time": "2022-10-10T19:42:56.851Z"
   },
   {
    "duration": 4,
    "start_time": "2022-10-10T19:42:57.861Z"
   },
   {
    "duration": 21,
    "start_time": "2022-10-10T19:42:57.866Z"
   },
   {
    "duration": 17,
    "start_time": "2022-10-10T19:43:48.221Z"
   },
   {
    "duration": 17,
    "start_time": "2022-10-10T19:43:48.240Z"
   },
   {
    "duration": 13,
    "start_time": "2022-10-10T19:43:48.259Z"
   },
   {
    "duration": 4769,
    "start_time": "2022-10-10T19:43:48.273Z"
   },
   {
    "duration": 1526,
    "start_time": "2022-10-10T19:43:57.289Z"
   },
   {
    "duration": 812,
    "start_time": "2022-10-10T19:43:58.818Z"
   },
   {
    "duration": 30,
    "start_time": "2022-10-10T19:43:59.631Z"
   },
   {
    "duration": 235,
    "start_time": "2022-10-10T19:43:59.663Z"
   },
   {
    "duration": 3,
    "start_time": "2022-10-10T19:43:59.900Z"
   },
   {
    "duration": 17,
    "start_time": "2022-10-10T19:43:59.905Z"
   },
   {
    "duration": 48,
    "start_time": "2022-10-10T19:43:59.932Z"
   },
   {
    "duration": 6,
    "start_time": "2022-10-10T19:43:59.982Z"
   },
   {
    "duration": 15,
    "start_time": "2022-10-10T19:43:59.990Z"
   },
   {
    "duration": 5,
    "start_time": "2022-10-10T19:44:00.007Z"
   },
   {
    "duration": 24,
    "start_time": "2022-10-10T19:44:00.015Z"
   },
   {
    "duration": 10,
    "start_time": "2022-10-10T19:44:00.041Z"
   },
   {
    "duration": 8,
    "start_time": "2022-10-10T19:44:00.053Z"
   },
   {
    "duration": 1041,
    "start_time": "2022-10-10T19:44:00.064Z"
   },
   {
    "duration": 4,
    "start_time": "2022-10-10T19:44:01.107Z"
   },
   {
    "duration": 45,
    "start_time": "2022-10-10T19:44:01.112Z"
   },
   {
    "duration": 22,
    "start_time": "2022-10-10T19:44:01.159Z"
   },
   {
    "duration": 0,
    "start_time": "2022-10-10T19:44:01.183Z"
   },
   {
    "duration": 0,
    "start_time": "2022-10-10T19:44:01.184Z"
   },
   {
    "duration": 0,
    "start_time": "2022-10-10T19:44:01.185Z"
   },
   {
    "duration": 0,
    "start_time": "2022-10-10T19:44:01.187Z"
   },
   {
    "duration": 0,
    "start_time": "2022-10-10T19:44:01.187Z"
   },
   {
    "duration": 0,
    "start_time": "2022-10-10T19:44:01.189Z"
   },
   {
    "duration": 0,
    "start_time": "2022-10-10T19:44:01.190Z"
   },
   {
    "duration": 0,
    "start_time": "2022-10-10T19:44:01.191Z"
   },
   {
    "duration": 0,
    "start_time": "2022-10-10T19:44:01.192Z"
   },
   {
    "duration": 5,
    "start_time": "2022-10-10T19:44:30.721Z"
   },
   {
    "duration": 417,
    "start_time": "2022-10-10T19:44:50.420Z"
   },
   {
    "duration": 325,
    "start_time": "2022-10-10T19:45:01.708Z"
   },
   {
    "duration": 54,
    "start_time": "2022-10-10T19:45:23.963Z"
   },
   {
    "duration": 0,
    "start_time": "2022-10-10T19:46:07.405Z"
   },
   {
    "duration": 1393,
    "start_time": "2022-10-10T19:46:12.083Z"
   },
   {
    "duration": 820,
    "start_time": "2022-10-10T19:46:13.477Z"
   },
   {
    "duration": 25,
    "start_time": "2022-10-10T19:46:14.298Z"
   },
   {
    "duration": 223,
    "start_time": "2022-10-10T19:46:14.324Z"
   },
   {
    "duration": 3,
    "start_time": "2022-10-10T19:46:14.549Z"
   },
   {
    "duration": 10,
    "start_time": "2022-10-10T19:46:14.553Z"
   },
   {
    "duration": 43,
    "start_time": "2022-10-10T19:46:14.564Z"
   },
   {
    "duration": 4,
    "start_time": "2022-10-10T19:46:14.609Z"
   },
   {
    "duration": 31,
    "start_time": "2022-10-10T19:46:14.615Z"
   },
   {
    "duration": 5,
    "start_time": "2022-10-10T19:46:14.648Z"
   },
   {
    "duration": 9,
    "start_time": "2022-10-10T19:46:14.654Z"
   },
   {
    "duration": 9,
    "start_time": "2022-10-10T19:46:14.664Z"
   },
   {
    "duration": 5,
    "start_time": "2022-10-10T19:46:14.674Z"
   },
   {
    "duration": 1082,
    "start_time": "2022-10-10T19:46:14.680Z"
   },
   {
    "duration": 3,
    "start_time": "2022-10-10T19:46:15.765Z"
   },
   {
    "duration": 8,
    "start_time": "2022-10-10T19:46:15.769Z"
   },
   {
    "duration": 49047,
    "start_time": "2022-10-10T19:46:15.779Z"
   },
   {
    "duration": 16,
    "start_time": "2022-10-10T19:47:04.828Z"
   },
   {
    "duration": 8,
    "start_time": "2022-10-10T19:47:04.846Z"
   },
   {
    "duration": 10,
    "start_time": "2022-10-10T19:47:04.856Z"
   },
   {
    "duration": 137,
    "start_time": "2022-10-10T19:47:04.867Z"
   },
   {
    "duration": 0,
    "start_time": "2022-10-10T19:47:05.006Z"
   },
   {
    "duration": 0,
    "start_time": "2022-10-10T19:47:05.007Z"
   },
   {
    "duration": 0,
    "start_time": "2022-10-10T19:47:05.008Z"
   },
   {
    "duration": 0,
    "start_time": "2022-10-10T19:47:05.009Z"
   },
   {
    "duration": 0,
    "start_time": "2022-10-10T19:47:05.010Z"
   },
   {
    "duration": 11,
    "start_time": "2022-10-10T19:47:20.046Z"
   },
   {
    "duration": 1494,
    "start_time": "2022-10-10T19:47:35.909Z"
   },
   {
    "duration": 816,
    "start_time": "2022-10-10T19:47:37.405Z"
   },
   {
    "duration": 32,
    "start_time": "2022-10-10T19:47:38.223Z"
   },
   {
    "duration": 213,
    "start_time": "2022-10-10T19:47:38.257Z"
   },
   {
    "duration": 2,
    "start_time": "2022-10-10T19:47:38.472Z"
   },
   {
    "duration": 9,
    "start_time": "2022-10-10T19:47:38.476Z"
   },
   {
    "duration": 31,
    "start_time": "2022-10-10T19:47:38.487Z"
   },
   {
    "duration": 8,
    "start_time": "2022-10-10T19:47:38.535Z"
   },
   {
    "duration": 13,
    "start_time": "2022-10-10T19:47:38.545Z"
   },
   {
    "duration": 4,
    "start_time": "2022-10-10T19:47:38.561Z"
   },
   {
    "duration": 6,
    "start_time": "2022-10-10T19:47:38.567Z"
   },
   {
    "duration": 6,
    "start_time": "2022-10-10T19:47:38.575Z"
   },
   {
    "duration": 5,
    "start_time": "2022-10-10T19:47:38.582Z"
   },
   {
    "duration": 1155,
    "start_time": "2022-10-10T19:47:38.588Z"
   },
   {
    "duration": 4,
    "start_time": "2022-10-10T19:47:39.746Z"
   },
   {
    "duration": 16,
    "start_time": "2022-10-10T19:47:39.752Z"
   },
   {
    "duration": 5071,
    "start_time": "2022-10-12T12:33:09.676Z"
   },
   {
    "duration": 3627,
    "start_time": "2022-10-12T12:33:14.749Z"
   },
   {
    "duration": 37,
    "start_time": "2022-10-12T12:33:18.379Z"
   },
   {
    "duration": 257,
    "start_time": "2022-10-12T12:33:18.419Z"
   },
   {
    "duration": 3,
    "start_time": "2022-10-12T12:33:18.678Z"
   },
   {
    "duration": 14,
    "start_time": "2022-10-12T12:33:18.683Z"
   },
   {
    "duration": 32,
    "start_time": "2022-10-12T12:33:18.699Z"
   },
   {
    "duration": 4,
    "start_time": "2022-10-12T12:33:18.733Z"
   },
   {
    "duration": 18,
    "start_time": "2022-10-12T12:33:18.739Z"
   },
   {
    "duration": 5,
    "start_time": "2022-10-12T12:33:18.759Z"
   },
   {
    "duration": 32,
    "start_time": "2022-10-12T12:33:18.766Z"
   },
   {
    "duration": 6,
    "start_time": "2022-10-12T12:33:18.800Z"
   },
   {
    "duration": 9,
    "start_time": "2022-10-12T12:33:18.808Z"
   },
   {
    "duration": 1258,
    "start_time": "2022-10-12T12:33:18.820Z"
   },
   {
    "duration": 4,
    "start_time": "2022-10-12T12:33:20.080Z"
   },
   {
    "duration": 7,
    "start_time": "2022-10-12T12:33:20.085Z"
   },
   {
    "duration": 94790,
    "start_time": "2022-10-12T12:33:20.097Z"
   },
   {
    "duration": 814988,
    "start_time": "2022-10-12T12:34:54.890Z"
   },
   {
    "duration": 2,
    "start_time": "2022-10-12T12:48:29.880Z"
   },
   {
    "duration": 188,
    "start_time": "2022-10-12T12:48:29.884Z"
   },
   {
    "duration": 6,
    "start_time": "2022-10-12T12:48:30.074Z"
   },
   {
    "duration": 22,
    "start_time": "2022-10-12T12:48:30.081Z"
   },
   {
    "duration": 14,
    "start_time": "2022-10-12T12:48:30.104Z"
   },
   {
    "duration": 5299,
    "start_time": "2022-10-12T12:48:30.119Z"
   },
   {
    "duration": 14491,
    "start_time": "2022-10-12T12:54:37.833Z"
   },
   {
    "duration": 11302,
    "start_time": "2022-10-12T12:56:57.327Z"
   }
  ],
  "kernelspec": {
   "display_name": "Python 3 (ipykernel)",
   "language": "python",
   "name": "python3"
  },
  "language_info": {
   "codemirror_mode": {
    "name": "ipython",
    "version": 3
   },
   "file_extension": ".py",
   "mimetype": "text/x-python",
   "name": "python",
   "nbconvert_exporter": "python",
   "pygments_lexer": "ipython3",
   "version": "3.9.12"
  },
  "toc": {
   "base_numbering": 1,
   "nav_menu": {},
   "number_sections": true,
   "sideBar": true,
   "skip_h1_title": true,
   "title_cell": "Содержание",
   "title_sidebar": "Contents",
   "toc_cell": true,
   "toc_position": {
    "height": "calc(100% - 180px)",
    "left": "10px",
    "top": "150px",
    "width": "302.391px"
   },
   "toc_section_display": true,
   "toc_window_display": false
  }
 },
 "nbformat": 4,
 "nbformat_minor": 2
}
