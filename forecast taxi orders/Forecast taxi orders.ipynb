{
 "cells": [
  {
   "cell_type": "markdown",
   "metadata": {
    "toc": true
   },
   "source": [
    "<h1>Содержание<span class=\"tocSkip\"></span></h1>\n",
    "<div class=\"toc\"><ul class=\"toc-item\"><li><span><a href=\"#Подготовка\" data-toc-modified-id=\"Подготовка-1\"><span class=\"toc-item-num\">1&nbsp;&nbsp;</span>Подготовка</a></span></li><li><span><a href=\"#Анализ-моделей\" data-toc-modified-id=\"Анализ-моделей-2\"><span class=\"toc-item-num\">2&nbsp;&nbsp;</span>Анализ моделей</a></span></li><li><span><a href=\"#Добавление-дополнительных-признаков\" data-toc-modified-id=\"Добавление-дополнительных-признаков-3\"><span class=\"toc-item-num\">3&nbsp;&nbsp;</span>Добавление дополнительных признаков</a></span></li><li><span><a href=\"#Обучение\" data-toc-modified-id=\"Обучение-4\"><span class=\"toc-item-num\">4&nbsp;&nbsp;</span>Обучение</a></span></li><li><span><a href=\"#Тестирование\" data-toc-modified-id=\"Тестирование-5\"><span class=\"toc-item-num\">5&nbsp;&nbsp;</span>Тестирование</a></span></li></ul></div>"
   ]
  },
  {
   "cell_type": "markdown",
   "metadata": {},
   "source": [
    "#  Прогнозирование заказов такси"
   ]
  },
  {
   "cell_type": "markdown",
   "metadata": {},
   "source": [
    "Компания «Чётенькое такси» собрала исторические данные о заказах такси в аэропортах. Чтобы привлекать больше водителей в период пиковой нагрузки, нужно спрогнозировать количество заказов такси на следующий час. Нужна модель для такого предсказания.\n",
    "\n",
    "Значение метрики *RMSE* на тестовой выборке должно быть не больше 48.\n",
    "\n",
    "\n",
    "Данные лежат в файле `taxi.csv`. Количество заказов находится в столбце `num_orders` (от англ. *number of orders*, «число заказов»)."
   ]
  },
  {
   "cell_type": "markdown",
   "metadata": {},
   "source": [
    "## Подготовка"
   ]
  },
  {
   "cell_type": "markdown",
   "metadata": {},
   "source": [
    "Загрузим данные и выполним их ресемплирование по одному часу."
   ]
  },
  {
   "cell_type": "code",
   "execution_count": 1,
   "metadata": {},
   "outputs": [
    {
     "data": {
      "text/html": [
       "<div>\n",
       "<style scoped>\n",
       "    .dataframe tbody tr th:only-of-type {\n",
       "        vertical-align: middle;\n",
       "    }\n",
       "\n",
       "    .dataframe tbody tr th {\n",
       "        vertical-align: top;\n",
       "    }\n",
       "\n",
       "    .dataframe thead th {\n",
       "        text-align: right;\n",
       "    }\n",
       "</style>\n",
       "<table border=\"1\" class=\"dataframe\">\n",
       "  <thead>\n",
       "    <tr style=\"text-align: right;\">\n",
       "      <th></th>\n",
       "      <th>num_orders</th>\n",
       "    </tr>\n",
       "    <tr>\n",
       "      <th>datetime</th>\n",
       "      <th></th>\n",
       "    </tr>\n",
       "  </thead>\n",
       "  <tbody>\n",
       "    <tr>\n",
       "      <th>2018-03-01 00:00:00</th>\n",
       "      <td>124</td>\n",
       "    </tr>\n",
       "    <tr>\n",
       "      <th>2018-03-01 01:00:00</th>\n",
       "      <td>85</td>\n",
       "    </tr>\n",
       "    <tr>\n",
       "      <th>2018-03-01 02:00:00</th>\n",
       "      <td>71</td>\n",
       "    </tr>\n",
       "    <tr>\n",
       "      <th>2018-03-01 03:00:00</th>\n",
       "      <td>66</td>\n",
       "    </tr>\n",
       "    <tr>\n",
       "      <th>2018-03-01 04:00:00</th>\n",
       "      <td>43</td>\n",
       "    </tr>\n",
       "  </tbody>\n",
       "</table>\n",
       "</div>"
      ],
      "text/plain": [
       "                     num_orders\n",
       "datetime                       \n",
       "2018-03-01 00:00:00         124\n",
       "2018-03-01 01:00:00          85\n",
       "2018-03-01 02:00:00          71\n",
       "2018-03-01 03:00:00          66\n",
       "2018-03-01 04:00:00          43"
      ]
     },
     "execution_count": 1,
     "metadata": {},
     "output_type": "execute_result"
    }
   ],
   "source": [
    "import pandas as pd\n",
    "import numpy as np\n",
    "from sklearn.model_selection import train_test_split\n",
    "from sklearn.linear_model import LinearRegression\n",
    "from sklearn.metrics import mean_squared_error\n",
    "from sklearn.model_selection import TimeSeriesSplit, GridSearchCV\n",
    "from sklearn.ensemble import RandomForestRegressor\n",
    "from sklearn.tree import DecisionTreeRegressor\n",
    "from catboost import CatBoostRegressor\n",
    "from statsmodels.tsa.seasonal import seasonal_decompose\n",
    "import matplotlib.pyplot as plt\n",
    "\n",
    "\n",
    "data = pd.read_csv('/datasets/taxi.csv', index_col=[0], parse_dates=[0])\n",
    "data.sort_index(inplace=True)\n",
    "data = data.resample('1H').sum()\n",
    "\n",
    "data.head()"
   ]
  },
  {
   "cell_type": "markdown",
   "metadata": {},
   "source": [
    "## Анализ моделей"
   ]
  },
  {
   "cell_type": "markdown",
   "metadata": {},
   "source": [
    "Посмотрим на данные в динамике"
   ]
  },
  {
   "cell_type": "code",
   "execution_count": 2,
   "metadata": {},
   "outputs": [
    {
     "data": {
      "text/plain": [
       "Text(0.5, 1.0, 'Количество заказов такси по часам')"
      ]
     },
     "execution_count": 2,
     "metadata": {},
     "output_type": "execute_result"
    },
    {
     "data": {
      "image/png": "[encoded data removed]",
      "text/plain": [
       "<Figure size 432x288 with 1 Axes>"
      ]
     },
     "metadata": {
      "needs_background": "light"
     },
     "output_type": "display_data"
    }
   ],
   "source": [
    "data.plot()\n",
    "plt.title('Количество заказов такси по часам')"
   ]
  },
  {
   "cell_type": "markdown",
   "metadata": {},
   "source": [
    "В данных довольно много шума. Он мешает делать выводы.\n",
    "Попробуем сгладить выбросы с помощью скльзащего среднего"
   ]
  },
  {
   "cell_type": "code",
   "execution_count": 3,
   "metadata": {},
   "outputs": [
    {
     "data": {
      "text/plain": [
       "Text(0.5, 1.0, 'Количество заказов такси по часам - скользящее среднее')"
      ]
     },
     "execution_count": 3,
     "metadata": {},
     "output_type": "execute_result"
    },
    {
     "data": {
      "image/png": "[encoded data removed]",
      "text/plain": [
       "<Figure size 432x288 with 1 Axes>"
      ]
     },
     "metadata": {
      "needs_background": "light"
     },
     "output_type": "display_data"
    }
   ],
   "source": [
    "data.rolling(7).mean().plot()\n",
    "plt.title('Количество заказов такси по часам - скользящее среднее')"
   ]
  },
  {
   "cell_type": "markdown",
   "metadata": {},
   "source": [
    "Ок, мы видим, что количество заказов растет с течением времени. Видимо, сервис становится популярнее. \n",
    "\n",
    "Сезонность анализировать бессмысленно - при текущем масштабе данных суточные/недельные колебания будут незаметны, а месяцы у нас не повторяются\n",
    "\n",
    "Убедимся в этом с помощью инструмента seasonal_decompose:"
   ]
  },
  {
   "cell_type": "code",
   "execution_count": 4,
   "metadata": {},
   "outputs": [
    {
     "data": {
      "image/png": "[encoded data removed]",
      "text/plain": [
       "<Figure size 432x576 with 3 Axes>"
      ]
     },
     "metadata": {
      "needs_background": "light"
     },
     "output_type": "display_data"
    }
   ],
   "source": [
    "decomposed = seasonal_decompose(data)\n",
    "\n",
    "plt.figure(figsize=(6, 8))\n",
    "plt.subplot(311)\n",
    "decomposed.trend.plot(ax=plt.gca())\n",
    "plt.title('Trend')\n",
    "plt.subplot(312)\n",
    "decomposed.seasonal.plot(ax=plt.gca()) \n",
    "plt.title('Seasonality')\n",
    "plt.subplot(313)\n",
    "decomposed.resid.plot(ax=plt.gca()) \n",
    "plt.title('Residuals')\n",
    "plt.tight_layout()"
   ]
  },
  {
   "cell_type": "markdown",
   "metadata": {},
   "source": [
    "Что и ребовалось доказать: виден восходящий тренд числа заказов с течением времени и отсутствие сезонности в почасовых данных в течение полугода"
   ]
  },
  {
   "cell_type": "markdown",
   "metadata": {},
   "source": [
    "## Добавление дополнительных признаков"
   ]
  },
  {
   "cell_type": "markdown",
   "metadata": {},
   "source": [
    "Выделим в качестве признаков год, месяц, день, день недели и час заказа"
   ]
  },
  {
   "cell_type": "code",
   "execution_count": 5,
   "metadata": {},
   "outputs": [],
   "source": [
    "def make_features(data, max_lag, rolling_mean_size):\n",
    "    data['year'] = data.index.year\n",
    "    #data['month'] = data.index.month\n",
    "    #data['day'] = data.index.day\n",
    "    data['dayofweek'] = data.index.dayofweek\n",
    "    data['hour'] = data.index.hour\n",
    "    \n",
    "    for lag in range(1, max_lag + 1):\n",
    "        data['lag_{}'.format(lag)] = data['num_orders'].shift(lag)\n",
    "\n",
    "    data['rolling_mean'] = data['num_orders'].shift().rolling(rolling_mean_size).mean()\n",
    "    \n",
    "    return data"
   ]
  },
  {
   "cell_type": "code",
   "execution_count": 6,
   "metadata": {},
   "outputs": [],
   "source": [
    "data = make_features(data, 5, 1)"
   ]
  },
  {
   "cell_type": "code",
   "execution_count": 7,
   "metadata": {},
   "outputs": [
    {
     "name": "stdout",
     "output_type": "stream",
     "text": [
      "2018\n",
      "2018\n"
     ]
    }
   ],
   "source": [
    "print (data['year'].min())\n",
    "print (data['year'].max())"
   ]
  },
  {
   "cell_type": "markdown",
   "metadata": {},
   "source": [
    "Ок, у нас данные за один год, можно удалить столбец ввиду неинформативности"
   ]
  },
  {
   "cell_type": "code",
   "execution_count": 8,
   "metadata": {},
   "outputs": [],
   "source": [
    "data = data.drop('year',axis = 1)"
   ]
  },
  {
   "cell_type": "markdown",
   "metadata": {},
   "source": [
    "Посмотрим на получившиеся данные"
   ]
  },
  {
   "cell_type": "code",
   "execution_count": 9,
   "metadata": {},
   "outputs": [
    {
     "data": {
      "text/html": [
       "<div>\n",
       "<style scoped>\n",
       "    .dataframe tbody tr th:only-of-type {\n",
       "        vertical-align: middle;\n",
       "    }\n",
       "\n",
       "    .dataframe tbody tr th {\n",
       "        vertical-align: top;\n",
       "    }\n",
       "\n",
       "    .dataframe thead th {\n",
       "        text-align: right;\n",
       "    }\n",
       "</style>\n",
       "<table border=\"1\" class=\"dataframe\">\n",
       "  <thead>\n",
       "    <tr style=\"text-align: right;\">\n",
       "      <th></th>\n",
       "      <th>num_orders</th>\n",
       "      <th>dayofweek</th>\n",
       "      <th>hour</th>\n",
       "      <th>lag_1</th>\n",
       "      <th>lag_2</th>\n",
       "      <th>lag_3</th>\n",
       "      <th>lag_4</th>\n",
       "      <th>lag_5</th>\n",
       "      <th>rolling_mean</th>\n",
       "    </tr>\n",
       "    <tr>\n",
       "      <th>datetime</th>\n",
       "      <th></th>\n",
       "      <th></th>\n",
       "      <th></th>\n",
       "      <th></th>\n",
       "      <th></th>\n",
       "      <th></th>\n",
       "      <th></th>\n",
       "      <th></th>\n",
       "      <th></th>\n",
       "    </tr>\n",
       "  </thead>\n",
       "  <tbody>\n",
       "    <tr>\n",
       "      <th>2018-03-01 00:00:00</th>\n",
       "      <td>124</td>\n",
       "      <td>3</td>\n",
       "      <td>0</td>\n",
       "      <td>NaN</td>\n",
       "      <td>NaN</td>\n",
       "      <td>NaN</td>\n",
       "      <td>NaN</td>\n",
       "      <td>NaN</td>\n",
       "      <td>NaN</td>\n",
       "    </tr>\n",
       "    <tr>\n",
       "      <th>2018-03-01 01:00:00</th>\n",
       "      <td>85</td>\n",
       "      <td>3</td>\n",
       "      <td>1</td>\n",
       "      <td>124.0</td>\n",
       "      <td>NaN</td>\n",
       "      <td>NaN</td>\n",
       "      <td>NaN</td>\n",
       "      <td>NaN</td>\n",
       "      <td>124.0</td>\n",
       "    </tr>\n",
       "    <tr>\n",
       "      <th>2018-03-01 02:00:00</th>\n",
       "      <td>71</td>\n",
       "      <td>3</td>\n",
       "      <td>2</td>\n",
       "      <td>85.0</td>\n",
       "      <td>124.0</td>\n",
       "      <td>NaN</td>\n",
       "      <td>NaN</td>\n",
       "      <td>NaN</td>\n",
       "      <td>85.0</td>\n",
       "    </tr>\n",
       "    <tr>\n",
       "      <th>2018-03-01 03:00:00</th>\n",
       "      <td>66</td>\n",
       "      <td>3</td>\n",
       "      <td>3</td>\n",
       "      <td>71.0</td>\n",
       "      <td>85.0</td>\n",
       "      <td>124.0</td>\n",
       "      <td>NaN</td>\n",
       "      <td>NaN</td>\n",
       "      <td>71.0</td>\n",
       "    </tr>\n",
       "    <tr>\n",
       "      <th>2018-03-01 04:00:00</th>\n",
       "      <td>43</td>\n",
       "      <td>3</td>\n",
       "      <td>4</td>\n",
       "      <td>66.0</td>\n",
       "      <td>71.0</td>\n",
       "      <td>85.0</td>\n",
       "      <td>124.0</td>\n",
       "      <td>NaN</td>\n",
       "      <td>66.0</td>\n",
       "    </tr>\n",
       "  </tbody>\n",
       "</table>\n",
       "</div>"
      ],
      "text/plain": [
       "                     num_orders  dayofweek  hour  lag_1  lag_2  lag_3  lag_4  \\\n",
       "datetime                                                                       \n",
       "2018-03-01 00:00:00         124          3     0    NaN    NaN    NaN    NaN   \n",
       "2018-03-01 01:00:00          85          3     1  124.0    NaN    NaN    NaN   \n",
       "2018-03-01 02:00:00          71          3     2   85.0  124.0    NaN    NaN   \n",
       "2018-03-01 03:00:00          66          3     3   71.0   85.0  124.0    NaN   \n",
       "2018-03-01 04:00:00          43          3     4   66.0   71.0   85.0  124.0   \n",
       "\n",
       "                     lag_5  rolling_mean  \n",
       "datetime                                  \n",
       "2018-03-01 00:00:00    NaN           NaN  \n",
       "2018-03-01 01:00:00    NaN         124.0  \n",
       "2018-03-01 02:00:00    NaN          85.0  \n",
       "2018-03-01 03:00:00    NaN          71.0  \n",
       "2018-03-01 04:00:00    NaN          66.0  "
      ]
     },
     "execution_count": 9,
     "metadata": {},
     "output_type": "execute_result"
    }
   ],
   "source": [
    "data.head()"
   ]
  },
  {
   "cell_type": "markdown",
   "metadata": {},
   "source": [
    "## Обучение"
   ]
  },
  {
   "cell_type": "markdown",
   "metadata": {},
   "source": [
    "Подготовим обучающую и тестовую выборки"
   ]
  },
  {
   "cell_type": "code",
   "execution_count": 10,
   "metadata": {},
   "outputs": [],
   "source": [
    "train, test = train_test_split(data, shuffle=False, test_size=0.1)\n",
    "train = train.dropna()\n",
    "\n",
    "features_train = train.drop('num_orders',axis = 1)\n",
    "target_train = train['num_orders']\n",
    "features_test = test.drop('num_orders',axis = 1)\n",
    "target_test = test['num_orders']"
   ]
  },
  {
   "cell_type": "markdown",
   "metadata": {},
   "source": [
    "Обучим несколько моделей: линейную регрессию, randomforest, дерево решений и CatBoostRegressor"
   ]
  },
  {
   "cell_type": "code",
   "execution_count": 11,
   "metadata": {},
   "outputs": [
    {
     "data": {
      "text/plain": [
       "LinearRegression()"
      ]
     },
     "execution_count": 11,
     "metadata": {},
     "output_type": "execute_result"
    }
   ],
   "source": [
    "model_lin_reg = LinearRegression()\n",
    "model_lin_reg.fit(features_train, target_train)"
   ]
  },
  {
   "cell_type": "code",
   "execution_count": 12,
   "metadata": {},
   "outputs": [],
   "source": [
    "tscv = TimeSeriesSplit(n_splits=5) # Взяли стандартное значение количества разбиений, чтобы модель не переобучалась"
   ]
  },
  {
   "cell_type": "code",
   "execution_count": 13,
   "metadata": {},
   "outputs": [
    {
     "data": {
      "text/plain": [
       "GridSearchCV(cv=TimeSeriesSplit(gap=0, max_train_size=None, n_splits=5, test_size=None),\n",
       "             estimator=RandomForestRegressor(random_state=12345),\n",
       "             param_grid={'max_depth': range(15, 21, 2),\n",
       "                         'n_estimators': range(60, 150, 10)},\n",
       "             scoring='neg_root_mean_squared_error')"
      ]
     },
     "execution_count": 13,
     "metadata": {},
     "output_type": "execute_result"
    }
   ],
   "source": [
    "parametrs = {'n_estimators': range (60, 150, 10), 'max_depth':range (15, 21, 2)}\n",
    "grid = GridSearchCV(RandomForestRegressor(random_state=12345), parametrs, scoring='neg_root_mean_squared_error', cv=tscv)\n",
    "grid.fit(features_train, target_train)"
   ]
  },
  {
   "cell_type": "code",
   "execution_count": 14,
   "metadata": {},
   "outputs": [
    {
     "data": {
      "text/plain": [
       "{'max_depth': 19, 'n_estimators': 130}"
      ]
     },
     "execution_count": 14,
     "metadata": {},
     "output_type": "execute_result"
    }
   ],
   "source": [
    "grid.best_params_"
   ]
  },
  {
   "cell_type": "code",
   "execution_count": 15,
   "metadata": {},
   "outputs": [
    {
     "data": {
      "text/plain": [
       "RandomForestRegressor(max_depth=19, n_estimators=130, random_state=12345)"
      ]
     },
     "execution_count": 15,
     "metadata": {},
     "output_type": "execute_result"
    }
   ],
   "source": [
    "model_random_f = RandomForestRegressor(random_state=12345,max_depth = 19, n_estimators = 130)\n",
    "model_random_f.fit(features_train, target_train)"
   ]
  },
  {
   "cell_type": "code",
   "execution_count": 16,
   "metadata": {},
   "outputs": [
    {
     "data": {
      "text/plain": [
       "GridSearchCV(cv=TimeSeriesSplit(gap=0, max_train_size=None, n_splits=5, test_size=None),\n",
       "             estimator=DecisionTreeRegressor(random_state=12345),\n",
       "             param_grid={'max_depth': range(1, 10)},\n",
       "             scoring='neg_root_mean_squared_error')"
      ]
     },
     "execution_count": 16,
     "metadata": {},
     "output_type": "execute_result"
    }
   ],
   "source": [
    "parametrs = {'max_depth':range (1, 10, 1)}\n",
    "grid = GridSearchCV(DecisionTreeRegressor(random_state=12345), parametrs, scoring='neg_root_mean_squared_error', cv=tscv)\n",
    "grid.fit(features_train, target_train)"
   ]
  },
  {
   "cell_type": "code",
   "execution_count": 17,
   "metadata": {},
   "outputs": [
    {
     "data": {
      "text/plain": [
       "{'max_depth': 8}"
      ]
     },
     "execution_count": 17,
     "metadata": {},
     "output_type": "execute_result"
    }
   ],
   "source": [
    "grid.best_params_"
   ]
  },
  {
   "cell_type": "code",
   "execution_count": 18,
   "metadata": {},
   "outputs": [
    {
     "data": {
      "text/plain": [
       "DecisionTreeRegressor(max_depth=8, random_state=12345)"
      ]
     },
     "execution_count": 18,
     "metadata": {},
     "output_type": "execute_result"
    }
   ],
   "source": [
    "model_decision_t = DecisionTreeRegressor(random_state=12345,max_depth = 8)\n",
    "model_decision_t.fit(features_train, target_train)"
   ]
  },
  {
   "cell_type": "code",
   "execution_count": 19,
   "metadata": {},
   "outputs": [
    {
     "name": "stdout",
     "output_type": "stream",
     "text": [
      "Learning rate set to 0.201579\n",
      "0:\tlearn: 27.0216523\ttotal: 47.2ms\tremaining: 6.08s\n",
      "1:\tlearn: 25.0340051\ttotal: 48.2ms\tremaining: 3.08s\n",
      "2:\tlearn: 23.3750532\ttotal: 49.1ms\tremaining: 2.08s\n",
      "3:\tlearn: 21.8489830\ttotal: 49.9ms\tremaining: 1.57s\n",
      "4:\tlearn: 20.9382842\ttotal: 51ms\tremaining: 1.27s\n",
      "5:\tlearn: 20.3596202\ttotal: 52ms\tremaining: 1.07s\n",
      "6:\tlearn: 19.8727009\ttotal: 52.8ms\tremaining: 928ms\n",
      "7:\tlearn: 19.2399870\ttotal: 53.6ms\tremaining: 818ms\n",
      "8:\tlearn: 18.7054648\ttotal: 54.5ms\tremaining: 732ms\n",
      "9:\tlearn: 18.2509805\ttotal: 55.3ms\tremaining: 664ms\n",
      "10:\tlearn: 17.8187353\ttotal: 56.1ms\tremaining: 607ms\n",
      "11:\tlearn: 17.5288151\ttotal: 57ms\tremaining: 561ms\n",
      "12:\tlearn: 17.2200429\ttotal: 57.8ms\tremaining: 521ms\n",
      "13:\tlearn: 17.0763732\ttotal: 58.6ms\tremaining: 486ms\n",
      "14:\tlearn: 16.8093007\ttotal: 59.5ms\tremaining: 456ms\n",
      "15:\tlearn: 16.6504580\ttotal: 60.3ms\tremaining: 430ms\n",
      "16:\tlearn: 16.4486051\ttotal: 61.2ms\tremaining: 407ms\n",
      "17:\tlearn: 16.2788042\ttotal: 61.9ms\tremaining: 385ms\n",
      "18:\tlearn: 16.0648402\ttotal: 62.8ms\tremaining: 367ms\n",
      "19:\tlearn: 15.9543153\ttotal: 63.5ms\tremaining: 350ms\n",
      "20:\tlearn: 15.8035683\ttotal: 64.3ms\tremaining: 334ms\n",
      "21:\tlearn: 15.6647536\ttotal: 65.3ms\tremaining: 321ms\n",
      "22:\tlearn: 15.6066067\ttotal: 66.3ms\tremaining: 308ms\n",
      "23:\tlearn: 15.4654467\ttotal: 67.2ms\tremaining: 297ms\n",
      "24:\tlearn: 15.3879037\ttotal: 68ms\tremaining: 286ms\n",
      "25:\tlearn: 15.2004943\ttotal: 68.8ms\tremaining: 275ms\n",
      "26:\tlearn: 15.1647473\ttotal: 69.7ms\tremaining: 266ms\n",
      "27:\tlearn: 15.0295198\ttotal: 70.5ms\tremaining: 257ms\n",
      "28:\tlearn: 14.9586978\ttotal: 71.3ms\tremaining: 248ms\n",
      "29:\tlearn: 14.7808238\ttotal: 72.1ms\tremaining: 240ms\n",
      "30:\tlearn: 14.6617491\ttotal: 72.9ms\tremaining: 233ms\n",
      "31:\tlearn: 14.5621832\ttotal: 73.8ms\tremaining: 226ms\n",
      "32:\tlearn: 14.4451044\ttotal: 74.5ms\tremaining: 219ms\n",
      "33:\tlearn: 14.3442833\ttotal: 75.3ms\tremaining: 213ms\n",
      "34:\tlearn: 14.2417323\ttotal: 76.1ms\tremaining: 207ms\n",
      "35:\tlearn: 14.0524905\ttotal: 76.9ms\tremaining: 201ms\n",
      "36:\tlearn: 13.9720129\ttotal: 77.7ms\tremaining: 195ms\n",
      "37:\tlearn: 13.8619791\ttotal: 78.5ms\tremaining: 190ms\n",
      "38:\tlearn: 13.7618437\ttotal: 79.3ms\tremaining: 185ms\n",
      "39:\tlearn: 13.5760936\ttotal: 80.2ms\tremaining: 180ms\n",
      "40:\tlearn: 13.5591736\ttotal: 81ms\tremaining: 176ms\n",
      "41:\tlearn: 13.4496534\ttotal: 81.8ms\tremaining: 171ms\n",
      "42:\tlearn: 13.4411023\ttotal: 82.6ms\tremaining: 167ms\n",
      "43:\tlearn: 13.3281248\ttotal: 83.4ms\tremaining: 163ms\n",
      "44:\tlearn: 13.2824881\ttotal: 84.2ms\tremaining: 159ms\n",
      "45:\tlearn: 13.2759779\ttotal: 85ms\tremaining: 155ms\n",
      "46:\tlearn: 13.1110212\ttotal: 85.9ms\tremaining: 152ms\n",
      "47:\tlearn: 12.9552178\ttotal: 86.7ms\tremaining: 148ms\n",
      "48:\tlearn: 12.8563236\ttotal: 87.5ms\tremaining: 145ms\n",
      "49:\tlearn: 12.8154754\ttotal: 88.3ms\tremaining: 141ms\n",
      "50:\tlearn: 12.7047216\ttotal: 89.2ms\tremaining: 138ms\n",
      "51:\tlearn: 12.6271137\ttotal: 90.1ms\tremaining: 135ms\n",
      "52:\tlearn: 12.5353327\ttotal: 90.8ms\tremaining: 132ms\n",
      "53:\tlearn: 12.4420667\ttotal: 91.7ms\tremaining: 129ms\n",
      "54:\tlearn: 12.3871460\ttotal: 92.5ms\tremaining: 126ms\n",
      "55:\tlearn: 12.3046583\ttotal: 93.4ms\tremaining: 123ms\n",
      "56:\tlearn: 12.2917765\ttotal: 94.2ms\tremaining: 121ms\n",
      "57:\tlearn: 12.2506537\ttotal: 95ms\tremaining: 118ms\n",
      "58:\tlearn: 12.1385932\ttotal: 95.8ms\tremaining: 115ms\n",
      "59:\tlearn: 11.9861479\ttotal: 96.8ms\tremaining: 113ms\n",
      "60:\tlearn: 11.8755869\ttotal: 97.6ms\tremaining: 110ms\n",
      "61:\tlearn: 11.7531441\ttotal: 98.4ms\tremaining: 108ms\n",
      "62:\tlearn: 11.6129370\ttotal: 99.2ms\tremaining: 106ms\n",
      "63:\tlearn: 11.5197744\ttotal: 100ms\tremaining: 103ms\n",
      "64:\tlearn: 11.4292115\ttotal: 101ms\tremaining: 101ms\n",
      "65:\tlearn: 11.3987349\ttotal: 102ms\tremaining: 99ms\n",
      "66:\tlearn: 11.2642447\ttotal: 103ms\tremaining: 96.8ms\n",
      "67:\tlearn: 11.2605249\ttotal: 104ms\tremaining: 94.7ms\n",
      "68:\tlearn: 11.1645595\ttotal: 105ms\tremaining: 92.6ms\n",
      "69:\tlearn: 11.1618017\ttotal: 106ms\tremaining: 90.4ms\n",
      "70:\tlearn: 11.0607525\ttotal: 106ms\tremaining: 88.4ms\n",
      "71:\tlearn: 10.9530461\ttotal: 107ms\tremaining: 86.4ms\n",
      "72:\tlearn: 10.9041353\ttotal: 108ms\tremaining: 84.4ms\n",
      "73:\tlearn: 10.8585996\ttotal: 109ms\tremaining: 82.4ms\n",
      "74:\tlearn: 10.8276750\ttotal: 110ms\tremaining: 80.5ms\n",
      "75:\tlearn: 10.7773336\ttotal: 111ms\tremaining: 78.6ms\n",
      "76:\tlearn: 10.7745103\ttotal: 111ms\tremaining: 76.7ms\n",
      "77:\tlearn: 10.7298259\ttotal: 112ms\tremaining: 74.9ms\n",
      "78:\tlearn: 10.6763412\ttotal: 113ms\tremaining: 73ms\n",
      "79:\tlearn: 10.5844064\ttotal: 114ms\tremaining: 71.2ms\n",
      "80:\tlearn: 10.5059916\ttotal: 115ms\tremaining: 69.4ms\n",
      "81:\tlearn: 10.4242738\ttotal: 116ms\tremaining: 67.7ms\n",
      "82:\tlearn: 10.3601980\ttotal: 116ms\tremaining: 65.9ms\n",
      "83:\tlearn: 10.2745579\ttotal: 117ms\tremaining: 64.2ms\n",
      "84:\tlearn: 10.2056297\ttotal: 118ms\tremaining: 62.6ms\n",
      "85:\tlearn: 10.0976694\ttotal: 119ms\tremaining: 60.9ms\n",
      "86:\tlearn: 10.0336452\ttotal: 120ms\tremaining: 59.2ms\n",
      "87:\tlearn: 10.0044106\ttotal: 121ms\tremaining: 57.6ms\n",
      "88:\tlearn: 9.9497909\ttotal: 122ms\tremaining: 56ms\n",
      "89:\tlearn: 9.8402000\ttotal: 122ms\tremaining: 54.4ms\n",
      "90:\tlearn: 9.7614986\ttotal: 123ms\tremaining: 52.8ms\n",
      "91:\tlearn: 9.6750149\ttotal: 124ms\tremaining: 51.3ms\n",
      "92:\tlearn: 9.6629639\ttotal: 125ms\tremaining: 49.7ms\n",
      "93:\tlearn: 9.6444941\ttotal: 126ms\tremaining: 48.2ms\n",
      "94:\tlearn: 9.6204412\ttotal: 127ms\tremaining: 46.6ms\n",
      "95:\tlearn: 9.5631156\ttotal: 127ms\tremaining: 45.1ms\n",
      "96:\tlearn: 9.4636660\ttotal: 128ms\tremaining: 43.6ms\n",
      "97:\tlearn: 9.3743484\ttotal: 129ms\tremaining: 42.1ms\n",
      "98:\tlearn: 9.3223804\ttotal: 130ms\tremaining: 40.7ms\n",
      "99:\tlearn: 9.2727535\ttotal: 131ms\tremaining: 39.4ms\n",
      "100:\tlearn: 9.2139391\ttotal: 133ms\tremaining: 38.1ms\n",
      "101:\tlearn: 9.1596753\ttotal: 134ms\tremaining: 36.7ms\n",
      "102:\tlearn: 9.0941618\ttotal: 135ms\tremaining: 35.3ms\n",
      "103:\tlearn: 9.0524094\ttotal: 136ms\tremaining: 33.9ms\n",
      "104:\tlearn: 9.0299154\ttotal: 136ms\tremaining: 32.5ms\n",
      "105:\tlearn: 8.9980203\ttotal: 137ms\tremaining: 31.1ms\n",
      "106:\tlearn: 8.9508693\ttotal: 138ms\tremaining: 29.7ms\n",
      "107:\tlearn: 8.8891449\ttotal: 139ms\tremaining: 28.3ms\n",
      "108:\tlearn: 8.8696901\ttotal: 140ms\tremaining: 26.9ms\n",
      "109:\tlearn: 8.7782715\ttotal: 141ms\tremaining: 25.6ms\n",
      "110:\tlearn: 8.7278628\ttotal: 142ms\tremaining: 24.2ms\n",
      "111:\tlearn: 8.6780803\ttotal: 142ms\tremaining: 22.9ms\n",
      "112:\tlearn: 8.5878539\ttotal: 143ms\tremaining: 21.6ms\n",
      "113:\tlearn: 8.5417076\ttotal: 144ms\tremaining: 20.2ms\n",
      "114:\tlearn: 8.4790103\ttotal: 145ms\tremaining: 18.9ms\n",
      "115:\tlearn: 8.3895894\ttotal: 146ms\tremaining: 17.6ms\n",
      "116:\tlearn: 8.3509292\ttotal: 147ms\tremaining: 16.3ms\n",
      "117:\tlearn: 8.3280823\ttotal: 148ms\tremaining: 15.1ms\n",
      "118:\tlearn: 8.2888812\ttotal: 149ms\tremaining: 13.8ms\n",
      "119:\tlearn: 8.1957073\ttotal: 150ms\tremaining: 12.5ms\n",
      "120:\tlearn: 8.1496958\ttotal: 151ms\tremaining: 11.2ms\n",
      "121:\tlearn: 8.0942615\ttotal: 151ms\tremaining: 9.93ms\n",
      "122:\tlearn: 8.0145454\ttotal: 152ms\tremaining: 8.66ms\n",
      "123:\tlearn: 7.9700802\ttotal: 153ms\tremaining: 7.41ms\n",
      "124:\tlearn: 7.8878621\ttotal: 154ms\tremaining: 6.16ms\n",
      "125:\tlearn: 7.8418316\ttotal: 155ms\tremaining: 4.91ms\n",
      "126:\tlearn: 7.7737607\ttotal: 156ms\tremaining: 3.67ms\n",
      "127:\tlearn: 7.7126145\ttotal: 156ms\tremaining: 2.44ms\n",
      "128:\tlearn: 7.6575366\ttotal: 157ms\tremaining: 1.22ms\n",
      "129:\tlearn: 7.6224657\ttotal: 158ms\tremaining: 0us\n",
      "Learning rate set to 0.22483\n",
      "0:\tlearn: 27.8740984\ttotal: 1.55ms\tremaining: 200ms\n",
      "1:\tlearn: 26.0828303\ttotal: 2.73ms\tremaining: 175ms\n",
      "2:\tlearn: 24.3454329\ttotal: 3.83ms\tremaining: 162ms\n",
      "3:\tlearn: 23.2221360\ttotal: 4.85ms\tremaining: 153ms\n",
      "4:\tlearn: 22.3199320\ttotal: 5.89ms\tremaining: 147ms\n",
      "5:\tlearn: 21.6833978\ttotal: 6.94ms\tremaining: 143ms\n",
      "6:\tlearn: 21.1788315\ttotal: 7.96ms\tremaining: 140ms\n",
      "7:\tlearn: 20.6074981\ttotal: 8.95ms\tremaining: 136ms\n",
      "8:\tlearn: 20.2419441\ttotal: 9.91ms\tremaining: 133ms\n",
      "9:\tlearn: 20.0317346\ttotal: 10.9ms\tremaining: 130ms\n",
      "10:\tlearn: 19.7717316\ttotal: 11.8ms\tremaining: 128ms\n",
      "11:\tlearn: 19.4467869\ttotal: 12.8ms\tremaining: 126ms\n",
      "12:\tlearn: 19.1127960\ttotal: 13.9ms\tremaining: 125ms\n",
      "13:\tlearn: 18.9546940\ttotal: 14.9ms\tremaining: 123ms\n",
      "14:\tlearn: 18.7313957\ttotal: 15.8ms\tremaining: 121ms\n",
      "15:\tlearn: 18.5703617\ttotal: 16.9ms\tremaining: 120ms\n",
      "16:\tlearn: 18.4635872\ttotal: 17.9ms\tremaining: 119ms\n",
      "17:\tlearn: 18.3153789\ttotal: 18.8ms\tremaining: 117ms\n",
      "18:\tlearn: 18.0645231\ttotal: 19.9ms\tremaining: 116ms\n",
      "19:\tlearn: 17.8891869\ttotal: 21ms\tremaining: 116ms\n",
      "20:\tlearn: 17.7988264\ttotal: 22ms\tremaining: 114ms\n",
      "21:\tlearn: 17.7227039\ttotal: 23ms\tremaining: 113ms\n",
      "22:\tlearn: 17.6850838\ttotal: 24ms\tremaining: 112ms\n",
      "23:\tlearn: 17.5739248\ttotal: 25ms\tremaining: 110ms\n",
      "24:\tlearn: 17.4318493\ttotal: 25.9ms\tremaining: 109ms\n",
      "25:\tlearn: 17.3114444\ttotal: 26.9ms\tremaining: 108ms\n",
      "26:\tlearn: 17.2427607\ttotal: 27.9ms\tremaining: 106ms\n",
      "27:\tlearn: 17.1256675\ttotal: 28.9ms\tremaining: 105ms\n",
      "28:\tlearn: 17.0708901\ttotal: 29.9ms\tremaining: 104ms\n",
      "29:\tlearn: 16.9553577\ttotal: 30.8ms\tremaining: 103ms\n",
      "30:\tlearn: 16.8599574\ttotal: 31.8ms\tremaining: 102ms\n",
      "31:\tlearn: 16.7789731\ttotal: 32.8ms\tremaining: 100ms\n",
      "32:\tlearn: 16.6853110\ttotal: 33.7ms\tremaining: 99.1ms\n",
      "33:\tlearn: 16.5398247\ttotal: 34.7ms\tremaining: 98ms\n",
      "34:\tlearn: 16.4422791\ttotal: 35.7ms\tremaining: 97ms\n",
      "35:\tlearn: 16.2704386\ttotal: 36.7ms\tremaining: 95.8ms\n",
      "36:\tlearn: 16.2553029\ttotal: 37.7ms\tremaining: 94.8ms\n",
      "37:\tlearn: 16.1506154\ttotal: 38.7ms\tremaining: 93.6ms\n",
      "38:\tlearn: 16.1146978\ttotal: 39.6ms\tremaining: 92.5ms\n",
      "39:\tlearn: 16.0618020\ttotal: 40.6ms\tremaining: 91.4ms\n",
      "40:\tlearn: 16.0158916\ttotal: 41.5ms\tremaining: 90.1ms\n",
      "41:\tlearn: 15.8696637\ttotal: 42.5ms\tremaining: 89ms\n",
      "42:\tlearn: 15.8538061\ttotal: 43.4ms\tremaining: 87.9ms\n",
      "43:\tlearn: 15.7791023\ttotal: 44.4ms\tremaining: 86.7ms\n",
      "44:\tlearn: 15.6980118\ttotal: 45.3ms\tremaining: 85.6ms\n",
      "45:\tlearn: 15.6845420\ttotal: 46.3ms\tremaining: 84.5ms\n",
      "46:\tlearn: 15.6800697\ttotal: 47.2ms\tremaining: 83.4ms\n",
      "47:\tlearn: 15.5520233\ttotal: 48.2ms\tremaining: 82.4ms\n",
      "48:\tlearn: 15.4520009\ttotal: 49.2ms\tremaining: 81.4ms\n",
      "49:\tlearn: 15.4146189\ttotal: 50.2ms\tremaining: 80.3ms\n",
      "50:\tlearn: 15.3139620\ttotal: 51.2ms\tremaining: 79.3ms\n",
      "51:\tlearn: 15.2154905\ttotal: 52.2ms\tremaining: 78.3ms\n",
      "52:\tlearn: 15.1561552\ttotal: 53.2ms\tremaining: 77.2ms\n",
      "53:\tlearn: 15.1014906\ttotal: 54.1ms\tremaining: 76.2ms\n",
      "54:\tlearn: 15.0013184\ttotal: 55.1ms\tremaining: 75.1ms\n",
      "55:\tlearn: 14.9190295\ttotal: 56.4ms\tremaining: 74.6ms\n",
      "56:\tlearn: 14.7973809\ttotal: 57.4ms\tremaining: 73.5ms\n",
      "57:\tlearn: 14.6842793\ttotal: 58.4ms\tremaining: 72.5ms\n",
      "58:\tlearn: 14.6640931\ttotal: 59.4ms\tremaining: 71.4ms\n",
      "59:\tlearn: 14.4838922\ttotal: 60.4ms\tremaining: 70.4ms\n",
      "60:\tlearn: 14.3811684\ttotal: 61.7ms\tremaining: 69.7ms\n",
      "61:\tlearn: 14.2575979\ttotal: 62.7ms\tremaining: 68.8ms\n",
      "62:\tlearn: 14.2510706\ttotal: 63.8ms\tremaining: 67.8ms\n",
      "63:\tlearn: 14.1191222\ttotal: 64.8ms\tremaining: 66.9ms\n",
      "64:\tlearn: 14.0306186\ttotal: 65.9ms\tremaining: 65.9ms\n",
      "65:\tlearn: 13.9400522\ttotal: 67ms\tremaining: 64.9ms\n",
      "66:\tlearn: 13.8524169\ttotal: 68ms\tremaining: 63.9ms\n",
      "67:\tlearn: 13.7625075\ttotal: 69ms\tremaining: 62.9ms\n",
      "68:\tlearn: 13.7206397\ttotal: 70ms\tremaining: 61.9ms\n",
      "69:\tlearn: 13.7115546\ttotal: 70.9ms\tremaining: 60.8ms\n",
      "70:\tlearn: 13.6650231\ttotal: 71.9ms\tremaining: 59.8ms\n",
      "71:\tlearn: 13.6129013\ttotal: 72.9ms\tremaining: 58.8ms\n",
      "72:\tlearn: 13.5273114\ttotal: 73.9ms\tremaining: 57.7ms\n",
      "73:\tlearn: 13.4842786\ttotal: 74.9ms\tremaining: 56.7ms\n",
      "74:\tlearn: 13.4505811\ttotal: 75.9ms\tremaining: 55.6ms\n",
      "75:\tlearn: 13.4153369\ttotal: 76.8ms\tremaining: 54.6ms\n",
      "76:\tlearn: 13.3338010\ttotal: 77.9ms\tremaining: 53.6ms\n",
      "77:\tlearn: 13.3212806\ttotal: 78.8ms\tremaining: 52.5ms\n",
      "78:\tlearn: 13.2761048\ttotal: 79.8ms\tremaining: 51.5ms\n",
      "79:\tlearn: 13.2692106\ttotal: 80.8ms\tremaining: 50.5ms\n",
      "80:\tlearn: 13.2654568\ttotal: 81.8ms\tremaining: 49.5ms\n",
      "81:\tlearn: 13.1949136\ttotal: 82.8ms\tremaining: 48.5ms\n",
      "82:\tlearn: 13.1391766\ttotal: 83.8ms\tremaining: 47.4ms\n",
      "83:\tlearn: 13.0985648\ttotal: 84.8ms\tremaining: 46.4ms\n",
      "84:\tlearn: 13.0219237\ttotal: 85.8ms\tremaining: 45.4ms\n",
      "85:\tlearn: 13.0075263\ttotal: 86.5ms\tremaining: 44.3ms\n",
      "86:\tlearn: 12.9773867\ttotal: 88.1ms\tremaining: 43.5ms\n",
      "87:\tlearn: 12.9623148\ttotal: 89.6ms\tremaining: 42.7ms\n",
      "88:\tlearn: 12.9192692\ttotal: 90.6ms\tremaining: 41.7ms\n",
      "89:\tlearn: 12.8346326\ttotal: 91.6ms\tremaining: 40.7ms\n",
      "90:\tlearn: 12.7839565\ttotal: 92.6ms\tremaining: 39.7ms\n",
      "91:\tlearn: 12.7077144\ttotal: 93.6ms\tremaining: 38.7ms\n",
      "92:\tlearn: 12.6768214\ttotal: 94.6ms\tremaining: 37.6ms\n",
      "93:\tlearn: 12.6575890\ttotal: 95.5ms\tremaining: 36.6ms\n",
      "94:\tlearn: 12.6077165\ttotal: 96.5ms\tremaining: 35.6ms\n",
      "95:\tlearn: 12.6055494\ttotal: 97.5ms\tremaining: 34.5ms\n",
      "96:\tlearn: 12.5304390\ttotal: 98.5ms\tremaining: 33.5ms\n",
      "97:\tlearn: 12.5259104\ttotal: 99.5ms\tremaining: 32.5ms\n",
      "98:\tlearn: 12.4785088\ttotal: 101ms\tremaining: 31.6ms\n",
      "99:\tlearn: 12.4536987\ttotal: 102ms\tremaining: 30.6ms\n",
      "100:\tlearn: 12.3877922\ttotal: 103ms\tremaining: 29.5ms\n",
      "101:\tlearn: 12.2968902\ttotal: 104ms\tremaining: 28.5ms\n",
      "102:\tlearn: 12.1941198\ttotal: 105ms\tremaining: 27.5ms\n",
      "103:\tlearn: 12.1187193\ttotal: 106ms\tremaining: 26.5ms\n",
      "104:\tlearn: 12.0511354\ttotal: 107ms\tremaining: 25.5ms\n",
      "105:\tlearn: 11.9903117\ttotal: 108ms\tremaining: 24.4ms\n",
      "106:\tlearn: 11.9315807\ttotal: 109ms\tremaining: 23.4ms\n",
      "107:\tlearn: 11.9241543\ttotal: 110ms\tremaining: 22.4ms\n",
      "108:\tlearn: 11.8688219\ttotal: 111ms\tremaining: 21.4ms\n",
      "109:\tlearn: 11.8029556\ttotal: 112ms\tremaining: 20.3ms\n",
      "110:\tlearn: 11.7460772\ttotal: 113ms\tremaining: 19.3ms\n",
      "111:\tlearn: 11.7145074\ttotal: 114ms\tremaining: 18.3ms\n",
      "112:\tlearn: 11.6909343\ttotal: 115ms\tremaining: 17.3ms\n",
      "113:\tlearn: 11.6820001\ttotal: 116ms\tremaining: 16.3ms\n",
      "114:\tlearn: 11.6100020\ttotal: 117ms\tremaining: 15.3ms\n",
      "115:\tlearn: 11.6081037\ttotal: 118ms\tremaining: 14.2ms\n",
      "116:\tlearn: 11.5636196\ttotal: 119ms\tremaining: 13.2ms\n",
      "117:\tlearn: 11.4881485\ttotal: 120ms\tremaining: 12.2ms\n",
      "118:\tlearn: 11.4331221\ttotal: 121ms\tremaining: 11.2ms\n",
      "119:\tlearn: 11.4103707\ttotal: 123ms\tremaining: 10.2ms\n",
      "120:\tlearn: 11.3423778\ttotal: 124ms\tremaining: 9.2ms\n",
      "121:\tlearn: 11.2913107\ttotal: 125ms\tremaining: 8.17ms\n",
      "122:\tlearn: 11.2620972\ttotal: 126ms\tremaining: 7.15ms\n",
      "123:\tlearn: 11.2205029\ttotal: 127ms\tremaining: 6.16ms\n",
      "124:\tlearn: 11.1618328\ttotal: 128ms\tremaining: 5.13ms\n",
      "125:\tlearn: 11.1257791\ttotal: 129ms\tremaining: 4.1ms\n",
      "126:\tlearn: 11.0756725\ttotal: 130ms\tremaining: 3.08ms\n",
      "127:\tlearn: 11.0266217\ttotal: 131ms\tremaining: 2.05ms\n",
      "128:\tlearn: 11.0050465\ttotal: 132ms\tremaining: 1.02ms\n",
      "129:\tlearn: 10.9786837\ttotal: 133ms\tremaining: 0us\n",
      "Learning rate set to 0.239676\n",
      "0:\tlearn: 29.1989767\ttotal: 1.63ms\tremaining: 211ms\n",
      "1:\tlearn: 26.8912733\ttotal: 3.01ms\tremaining: 193ms\n",
      "2:\tlearn: 25.3690092\ttotal: 4.28ms\tremaining: 181ms\n",
      "3:\tlearn: 24.2970891\ttotal: 5.54ms\tremaining: 174ms\n",
      "4:\tlearn: 23.6079251\ttotal: 6.73ms\tremaining: 168ms\n",
      "5:\tlearn: 22.9883144\ttotal: 7.92ms\tremaining: 164ms\n",
      "6:\tlearn: 22.5830615\ttotal: 9.13ms\tremaining: 161ms\n",
      "7:\tlearn: 22.2104126\ttotal: 10.3ms\tremaining: 157ms\n",
      "8:\tlearn: 21.8176051\ttotal: 11.5ms\tremaining: 154ms\n",
      "9:\tlearn: 21.5271740\ttotal: 12.7ms\tremaining: 152ms\n",
      "10:\tlearn: 21.3022159\ttotal: 13.8ms\tremaining: 150ms\n",
      "11:\tlearn: 21.1977291\ttotal: 14.9ms\tremaining: 147ms\n",
      "12:\tlearn: 20.7850425\ttotal: 16ms\tremaining: 144ms\n",
      "13:\tlearn: 20.6411882\ttotal: 17.2ms\tremaining: 142ms\n",
      "14:\tlearn: 20.3778493\ttotal: 18.3ms\tremaining: 140ms\n",
      "15:\tlearn: 20.2744590\ttotal: 19.4ms\tremaining: 138ms\n",
      "16:\tlearn: 20.0988696\ttotal: 20.6ms\tremaining: 137ms\n",
      "17:\tlearn: 19.8843344\ttotal: 21.8ms\tremaining: 135ms\n",
      "18:\tlearn: 19.6739558\ttotal: 23ms\tremaining: 134ms\n",
      "19:\tlearn: 19.6119656\ttotal: 24.1ms\tremaining: 133ms\n",
      "20:\tlearn: 19.5485166\ttotal: 25.3ms\tremaining: 131ms\n",
      "21:\tlearn: 19.4618569\ttotal: 26.4ms\tremaining: 129ms\n",
      "22:\tlearn: 19.3628233\ttotal: 27.5ms\tremaining: 128ms\n",
      "23:\tlearn: 19.2397587\ttotal: 28.6ms\tremaining: 126ms\n",
      "24:\tlearn: 19.0089545\ttotal: 29.8ms\tremaining: 125ms\n",
      "25:\tlearn: 18.8734008\ttotal: 31.5ms\tremaining: 126ms\n",
      "26:\tlearn: 18.7742856\ttotal: 32.7ms\tremaining: 125ms\n",
      "27:\tlearn: 18.6992972\ttotal: 33.9ms\tremaining: 124ms\n",
      "28:\tlearn: 18.6214235\ttotal: 35.1ms\tremaining: 122ms\n",
      "29:\tlearn: 18.5447258\ttotal: 36.2ms\tremaining: 121ms\n",
      "30:\tlearn: 18.4267921\ttotal: 37.4ms\tremaining: 119ms\n",
      "31:\tlearn: 18.3194824\ttotal: 38.6ms\tremaining: 118ms\n",
      "32:\tlearn: 18.2529074\ttotal: 39.8ms\tremaining: 117ms\n",
      "33:\tlearn: 18.1816761\ttotal: 41.2ms\tremaining: 116ms\n",
      "34:\tlearn: 18.0775705\ttotal: 42.4ms\tremaining: 115ms\n",
      "35:\tlearn: 18.0543817\ttotal: 44.3ms\tremaining: 116ms\n",
      "36:\tlearn: 17.9215148\ttotal: 45.8ms\tremaining: 115ms\n",
      "37:\tlearn: 17.8767886\ttotal: 46.9ms\tremaining: 114ms\n",
      "38:\tlearn: 17.8623875\ttotal: 48.1ms\tremaining: 112ms\n",
      "39:\tlearn: 17.7127316\ttotal: 49.9ms\tremaining: 112ms\n",
      "40:\tlearn: 17.6992165\ttotal: 51.7ms\tremaining: 112ms\n",
      "41:\tlearn: 17.5912359\ttotal: 53.4ms\tremaining: 112ms\n",
      "42:\tlearn: 17.4470507\ttotal: 54.8ms\tremaining: 111ms\n",
      "43:\tlearn: 17.4207770\ttotal: 56.1ms\tremaining: 110ms\n",
      "44:\tlearn: 17.2373617\ttotal: 57.5ms\tremaining: 109ms\n",
      "45:\tlearn: 17.1352009\ttotal: 59ms\tremaining: 108ms\n",
      "46:\tlearn: 17.0228123\ttotal: 61ms\tremaining: 108ms\n",
      "47:\tlearn: 16.9809107\ttotal: 62.9ms\tremaining: 107ms\n",
      "48:\tlearn: 16.9254786\ttotal: 64.9ms\tremaining: 107ms\n",
      "49:\tlearn: 16.9173625\ttotal: 66.7ms\tremaining: 107ms\n",
      "50:\tlearn: 16.8313454\ttotal: 68.1ms\tremaining: 105ms\n",
      "51:\tlearn: 16.7302070\ttotal: 69.2ms\tremaining: 104ms\n",
      "52:\tlearn: 16.6482214\ttotal: 70.4ms\tremaining: 102ms\n",
      "53:\tlearn: 16.5577580\ttotal: 71.6ms\tremaining: 101ms\n",
      "54:\tlearn: 16.4844019\ttotal: 72.8ms\tremaining: 99.2ms\n",
      "55:\tlearn: 16.4801949\ttotal: 73.9ms\tremaining: 97.6ms\n",
      "56:\tlearn: 16.4297357\ttotal: 75ms\tremaining: 96ms\n",
      "57:\tlearn: 16.4019366\ttotal: 76.1ms\tremaining: 94.5ms\n",
      "58:\tlearn: 16.3989410\ttotal: 77.3ms\tremaining: 93ms\n",
      "59:\tlearn: 16.3959086\ttotal: 78ms\tremaining: 91ms\n",
      "60:\tlearn: 16.2359167\ttotal: 79.2ms\tremaining: 89.6ms\n",
      "61:\tlearn: 16.1319115\ttotal: 80.4ms\tremaining: 88.2ms\n",
      "62:\tlearn: 16.0942769\ttotal: 81.6ms\tremaining: 86.8ms\n",
      "63:\tlearn: 16.0100866\ttotal: 82.8ms\tremaining: 85.4ms\n",
      "64:\tlearn: 15.9783343\ttotal: 83.9ms\tremaining: 83.9ms\n",
      "65:\tlearn: 15.9466965\ttotal: 85.1ms\tremaining: 82.6ms\n",
      "66:\tlearn: 15.8474051\ttotal: 86.3ms\tremaining: 81.2ms\n",
      "67:\tlearn: 15.7668127\ttotal: 87.5ms\tremaining: 79.8ms\n",
      "68:\tlearn: 15.7287688\ttotal: 88.7ms\tremaining: 78.5ms\n",
      "69:\tlearn: 15.6924798\ttotal: 89.9ms\tremaining: 77ms\n",
      "70:\tlearn: 15.6082386\ttotal: 91ms\tremaining: 75.6ms\n",
      "71:\tlearn: 15.5129654\ttotal: 92.1ms\tremaining: 74.2ms\n",
      "72:\tlearn: 15.4569740\ttotal: 93.2ms\tremaining: 72.8ms\n",
      "73:\tlearn: 15.3351521\ttotal: 94.4ms\tremaining: 71.5ms\n",
      "74:\tlearn: 15.2492687\ttotal: 95.7ms\tremaining: 70.2ms\n",
      "75:\tlearn: 15.1906546\ttotal: 97ms\tremaining: 68.9ms\n",
      "76:\tlearn: 15.1679358\ttotal: 98.1ms\tremaining: 67.5ms\n",
      "77:\tlearn: 15.1484315\ttotal: 99.3ms\tremaining: 66.2ms\n",
      "78:\tlearn: 15.0909078\ttotal: 100ms\tremaining: 64.8ms\n",
      "79:\tlearn: 15.0675797\ttotal: 102ms\tremaining: 63.5ms\n",
      "80:\tlearn: 15.0146551\ttotal: 103ms\tremaining: 62.2ms\n",
      "81:\tlearn: 14.9901935\ttotal: 104ms\tremaining: 60.9ms\n",
      "82:\tlearn: 14.9100647\ttotal: 105ms\tremaining: 59.6ms\n",
      "83:\tlearn: 14.8709672\ttotal: 107ms\tremaining: 58.3ms\n",
      "84:\tlearn: 14.7781957\ttotal: 108ms\tremaining: 57ms\n",
      "85:\tlearn: 14.7081551\ttotal: 109ms\tremaining: 55.7ms\n",
      "86:\tlearn: 14.6544659\ttotal: 110ms\tremaining: 54.4ms\n",
      "87:\tlearn: 14.6184372\ttotal: 111ms\tremaining: 53.1ms\n",
      "88:\tlearn: 14.5730514\ttotal: 112ms\tremaining: 51.8ms\n",
      "89:\tlearn: 14.5377392\ttotal: 114ms\tremaining: 50.5ms\n",
      "90:\tlearn: 14.4395368\ttotal: 115ms\tremaining: 49.3ms\n",
      "91:\tlearn: 14.3954697\ttotal: 116ms\tremaining: 48ms\n",
      "92:\tlearn: 14.3273878\ttotal: 117ms\tremaining: 46.7ms\n",
      "93:\tlearn: 14.2481798\ttotal: 119ms\tremaining: 45.4ms\n",
      "94:\tlearn: 14.2060593\ttotal: 120ms\tremaining: 44.1ms\n",
      "95:\tlearn: 14.1856906\ttotal: 121ms\tremaining: 42.8ms\n",
      "96:\tlearn: 14.1156074\ttotal: 122ms\tremaining: 41.5ms\n",
      "97:\tlearn: 14.1127755\ttotal: 123ms\tremaining: 40.2ms\n",
      "98:\tlearn: 14.0695936\ttotal: 124ms\tremaining: 39ms\n",
      "99:\tlearn: 14.0665926\ttotal: 126ms\tremaining: 37.7ms\n",
      "100:\tlearn: 13.9886432\ttotal: 127ms\tremaining: 36.4ms\n",
      "101:\tlearn: 13.9333749\ttotal: 128ms\tremaining: 35.1ms\n",
      "102:\tlearn: 13.8606485\ttotal: 129ms\tremaining: 33.8ms\n",
      "103:\tlearn: 13.8310671\ttotal: 130ms\tremaining: 32.6ms\n",
      "104:\tlearn: 13.8043331\ttotal: 131ms\tremaining: 31.3ms\n",
      "105:\tlearn: 13.7533717\ttotal: 133ms\tremaining: 30ms\n",
      "106:\tlearn: 13.7404587\ttotal: 134ms\tremaining: 28.7ms\n",
      "107:\tlearn: 13.6867198\ttotal: 135ms\tremaining: 27.5ms\n",
      "108:\tlearn: 13.6544905\ttotal: 136ms\tremaining: 26.2ms\n",
      "109:\tlearn: 13.6196896\ttotal: 137ms\tremaining: 24.9ms\n",
      "110:\tlearn: 13.6173233\ttotal: 138ms\tremaining: 23.7ms\n",
      "111:\tlearn: 13.5597016\ttotal: 139ms\tremaining: 22.4ms\n",
      "112:\tlearn: 13.5287925\ttotal: 141ms\tremaining: 21.2ms\n",
      "113:\tlearn: 13.5018903\ttotal: 142ms\tremaining: 19.9ms\n",
      "114:\tlearn: 13.4577968\ttotal: 143ms\tremaining: 18.7ms\n",
      "115:\tlearn: 13.4454839\ttotal: 144ms\tremaining: 17.4ms\n",
      "116:\tlearn: 13.3408749\ttotal: 146ms\tremaining: 16.2ms\n",
      "117:\tlearn: 13.2964161\ttotal: 147ms\tremaining: 14.9ms\n",
      "118:\tlearn: 13.2683693\ttotal: 148ms\tremaining: 13.7ms\n",
      "119:\tlearn: 13.2242869\ttotal: 149ms\tremaining: 12.4ms\n",
      "120:\tlearn: 13.2000695\ttotal: 150ms\tremaining: 11.2ms\n",
      "121:\tlearn: 13.1317624\ttotal: 151ms\tremaining: 9.93ms\n",
      "122:\tlearn: 13.0878240\ttotal: 153ms\tremaining: 8.68ms\n",
      "123:\tlearn: 13.0644590\ttotal: 154ms\tremaining: 7.44ms\n",
      "124:\tlearn: 13.0626109\ttotal: 155ms\tremaining: 6.2ms\n",
      "125:\tlearn: 13.0445438\ttotal: 156ms\tremaining: 4.96ms\n",
      "126:\tlearn: 13.0371833\ttotal: 157ms\tremaining: 3.71ms\n",
      "127:\tlearn: 13.0070645\ttotal: 158ms\tremaining: 2.47ms\n",
      "128:\tlearn: 12.9522127\ttotal: 159ms\tremaining: 1.24ms\n",
      "129:\tlearn: 12.9194228\ttotal: 161ms\tremaining: 0us\n",
      "Learning rate set to 0.250806\n",
      "0:\tlearn: 30.3947564\ttotal: 1.76ms\tremaining: 227ms\n",
      "1:\tlearn: 27.9813941\ttotal: 3.34ms\tremaining: 214ms\n",
      "2:\tlearn: 26.3886770\ttotal: 4.85ms\tremaining: 205ms\n",
      "3:\tlearn: 25.1253550\ttotal: 6.38ms\tremaining: 201ms\n",
      "4:\tlearn: 24.3171215\ttotal: 7.86ms\tremaining: 197ms\n",
      "5:\tlearn: 23.7866184\ttotal: 9.27ms\tremaining: 192ms\n",
      "6:\tlearn: 23.3515658\ttotal: 10.7ms\tremaining: 188ms\n",
      "7:\tlearn: 23.0118618\ttotal: 12ms\tremaining: 183ms\n",
      "8:\tlearn: 22.7416654\ttotal: 13.3ms\tremaining: 179ms\n",
      "9:\tlearn: 22.4484092\ttotal: 14.6ms\tremaining: 176ms\n",
      "10:\tlearn: 22.1618407\ttotal: 16ms\tremaining: 173ms\n",
      "11:\tlearn: 21.9031829\ttotal: 17.6ms\tremaining: 173ms\n",
      "12:\tlearn: 21.6848037\ttotal: 19.9ms\tremaining: 179ms\n",
      "13:\tlearn: 21.3530999\ttotal: 21.3ms\tremaining: 176ms\n",
      "14:\tlearn: 21.3020784\ttotal: 22.7ms\tremaining: 174ms\n",
      "15:\tlearn: 21.1830100\ttotal: 24.2ms\tremaining: 173ms\n",
      "16:\tlearn: 20.9904483\ttotal: 25.6ms\tremaining: 170ms\n",
      "17:\tlearn: 20.7900962\ttotal: 27ms\tremaining: 168ms\n",
      "18:\tlearn: 20.6268099\ttotal: 28.3ms\tremaining: 166ms\n",
      "19:\tlearn: 20.4458756\ttotal: 29.7ms\tremaining: 163ms\n",
      "20:\tlearn: 20.2677038\ttotal: 31.1ms\tremaining: 162ms\n",
      "21:\tlearn: 20.2045916\ttotal: 32.4ms\tremaining: 159ms\n",
      "22:\tlearn: 20.1585577\ttotal: 33.7ms\tremaining: 157ms\n",
      "23:\tlearn: 20.0614241\ttotal: 35.1ms\tremaining: 155ms\n",
      "24:\tlearn: 19.9815788\ttotal: 36.5ms\tremaining: 153ms\n",
      "25:\tlearn: 19.8938888\ttotal: 37.9ms\tremaining: 152ms\n",
      "26:\tlearn: 19.8281236\ttotal: 39.2ms\tremaining: 149ms\n",
      "27:\tlearn: 19.7486658\ttotal: 40.8ms\tremaining: 149ms\n",
      "28:\tlearn: 19.6743617\ttotal: 42.3ms\tremaining: 147ms\n",
      "29:\tlearn: 19.5124847\ttotal: 43.7ms\tremaining: 146ms\n",
      "30:\tlearn: 19.4425395\ttotal: 45ms\tremaining: 144ms\n",
      "31:\tlearn: 19.3044916\ttotal: 46.3ms\tremaining: 142ms\n",
      "32:\tlearn: 19.2387930\ttotal: 47.7ms\tremaining: 140ms\n",
      "33:\tlearn: 19.0827390\ttotal: 49ms\tremaining: 138ms\n",
      "34:\tlearn: 19.0036701\ttotal: 50.4ms\tremaining: 137ms\n",
      "35:\tlearn: 18.9034522\ttotal: 51.7ms\tremaining: 135ms\n",
      "36:\tlearn: 18.8018778\ttotal: 53ms\tremaining: 133ms\n",
      "37:\tlearn: 18.6862157\ttotal: 54.3ms\tremaining: 132ms\n",
      "38:\tlearn: 18.6184657\ttotal: 55.6ms\tremaining: 130ms\n",
      "39:\tlearn: 18.5678529\ttotal: 56.9ms\tremaining: 128ms\n",
      "40:\tlearn: 18.5321067\ttotal: 58.2ms\tremaining: 126ms\n",
      "41:\tlearn: 18.4384500\ttotal: 59.4ms\tremaining: 125ms\n",
      "42:\tlearn: 18.3779650\ttotal: 60.7ms\tremaining: 123ms\n",
      "43:\tlearn: 18.2530943\ttotal: 62ms\tremaining: 121ms\n",
      "44:\tlearn: 18.2182400\ttotal: 63.2ms\tremaining: 119ms\n",
      "45:\tlearn: 18.1325554\ttotal: 64.5ms\tremaining: 118ms\n",
      "46:\tlearn: 18.0984968\ttotal: 65.8ms\tremaining: 116ms\n",
      "47:\tlearn: 18.0090449\ttotal: 67.1ms\tremaining: 115ms\n",
      "48:\tlearn: 17.9594613\ttotal: 68.5ms\tremaining: 113ms\n",
      "49:\tlearn: 17.8360695\ttotal: 69.9ms\tremaining: 112ms\n",
      "50:\tlearn: 17.8199108\ttotal: 71.2ms\tremaining: 110ms\n",
      "51:\tlearn: 17.8128763\ttotal: 72.5ms\tremaining: 109ms\n",
      "52:\tlearn: 17.7032665\ttotal: 73.8ms\tremaining: 107ms\n",
      "53:\tlearn: 17.6155373\ttotal: 75.1ms\tremaining: 106ms\n",
      "54:\tlearn: 17.5679467\ttotal: 76.4ms\tremaining: 104ms\n",
      "55:\tlearn: 17.5280964\ttotal: 77.7ms\tremaining: 103ms\n",
      "56:\tlearn: 17.3958773\ttotal: 79.1ms\tremaining: 101ms\n",
      "57:\tlearn: 17.3511607\ttotal: 80.4ms\tremaining: 99.8ms\n",
      "58:\tlearn: 17.2369971\ttotal: 81.7ms\tremaining: 98.4ms\n",
      "59:\tlearn: 17.1913901\ttotal: 83ms\tremaining: 96.8ms\n",
      "60:\tlearn: 17.0955333\ttotal: 84.3ms\tremaining: 95.4ms\n",
      "61:\tlearn: 17.0335685\ttotal: 85.7ms\tremaining: 94ms\n",
      "62:\tlearn: 16.9870664\ttotal: 87ms\tremaining: 92.6ms\n",
      "63:\tlearn: 16.9249108\ttotal: 88.4ms\tremaining: 91.2ms\n",
      "64:\tlearn: 16.8945818\ttotal: 89.7ms\tremaining: 89.7ms\n",
      "65:\tlearn: 16.8027259\ttotal: 91ms\tremaining: 88.2ms\n",
      "66:\tlearn: 16.7032855\ttotal: 92.3ms\tremaining: 86.8ms\n",
      "67:\tlearn: 16.6428126\ttotal: 93.6ms\tremaining: 85.3ms\n",
      "68:\tlearn: 16.6069168\ttotal: 94.9ms\tremaining: 83.9ms\n",
      "69:\tlearn: 16.5475929\ttotal: 96.2ms\tremaining: 82.5ms\n",
      "70:\tlearn: 16.4807686\ttotal: 97.5ms\tremaining: 81ms\n",
      "71:\tlearn: 16.4780394\ttotal: 98.8ms\tremaining: 79.6ms\n",
      "72:\tlearn: 16.4241994\ttotal: 100ms\tremaining: 78.1ms\n",
      "73:\tlearn: 16.3624224\ttotal: 101ms\tremaining: 76.7ms\n",
      "74:\tlearn: 16.2626250\ttotal: 103ms\tremaining: 75.3ms\n",
      "75:\tlearn: 16.2251936\ttotal: 104ms\tremaining: 73.8ms\n",
      "76:\tlearn: 16.1905777\ttotal: 105ms\tremaining: 72.4ms\n",
      "77:\tlearn: 16.1326358\ttotal: 107ms\tremaining: 71ms\n",
      "78:\tlearn: 16.0658739\ttotal: 108ms\tremaining: 69.6ms\n",
      "79:\tlearn: 16.0082069\ttotal: 109ms\tremaining: 68.2ms\n",
      "80:\tlearn: 15.9695749\ttotal: 110ms\tremaining: 66.8ms\n",
      "81:\tlearn: 15.9169415\ttotal: 112ms\tremaining: 65.4ms\n",
      "82:\tlearn: 15.8928451\ttotal: 113ms\tremaining: 64ms\n",
      "83:\tlearn: 15.8776472\ttotal: 114ms\tremaining: 62.6ms\n",
      "84:\tlearn: 15.8530132\ttotal: 116ms\tremaining: 61.2ms\n",
      "85:\tlearn: 15.7739218\ttotal: 117ms\tremaining: 59.8ms\n",
      "86:\tlearn: 15.7361364\ttotal: 118ms\tremaining: 58.4ms\n",
      "87:\tlearn: 15.6859214\ttotal: 120ms\tremaining: 57ms\n",
      "88:\tlearn: 15.6484305\ttotal: 121ms\tremaining: 55.7ms\n",
      "89:\tlearn: 15.6200704\ttotal: 122ms\tremaining: 54.3ms\n",
      "90:\tlearn: 15.5955371\ttotal: 123ms\tremaining: 52.9ms\n",
      "91:\tlearn: 15.5666773\ttotal: 125ms\tremaining: 51.5ms\n",
      "92:\tlearn: 15.5169057\ttotal: 126ms\tremaining: 50.2ms\n",
      "93:\tlearn: 15.5014203\ttotal: 127ms\tremaining: 48.8ms\n",
      "94:\tlearn: 15.4484681\ttotal: 129ms\tremaining: 47.4ms\n",
      "95:\tlearn: 15.3959485\ttotal: 130ms\tremaining: 46ms\n",
      "96:\tlearn: 15.3603280\ttotal: 131ms\tremaining: 44.7ms\n",
      "97:\tlearn: 15.2867834\ttotal: 133ms\tremaining: 43.3ms\n",
      "98:\tlearn: 15.2568844\ttotal: 134ms\tremaining: 41.9ms\n",
      "99:\tlearn: 15.2460461\ttotal: 135ms\tremaining: 40.6ms\n",
      "100:\tlearn: 15.2189931\ttotal: 136ms\tremaining: 39.2ms\n",
      "101:\tlearn: 15.1208698\ttotal: 138ms\tremaining: 37.8ms\n",
      "102:\tlearn: 15.0803331\ttotal: 139ms\tremaining: 36.5ms\n",
      "103:\tlearn: 15.0558294\ttotal: 140ms\tremaining: 35.1ms\n",
      "104:\tlearn: 15.0122157\ttotal: 142ms\tremaining: 33.7ms\n",
      "105:\tlearn: 14.9600260\ttotal: 143ms\tremaining: 32.4ms\n",
      "106:\tlearn: 14.9170976\ttotal: 144ms\tremaining: 31ms\n",
      "107:\tlearn: 14.9152621\ttotal: 145ms\tremaining: 29.6ms\n",
      "108:\tlearn: 14.9045471\ttotal: 147ms\tremaining: 28.3ms\n",
      "109:\tlearn: 14.8694370\ttotal: 148ms\tremaining: 26.9ms\n",
      "110:\tlearn: 14.8459427\ttotal: 150ms\tremaining: 25.6ms\n",
      "111:\tlearn: 14.8122132\ttotal: 151ms\tremaining: 24.2ms\n",
      "112:\tlearn: 14.7983518\ttotal: 152ms\tremaining: 22.9ms\n",
      "113:\tlearn: 14.7745075\ttotal: 153ms\tremaining: 21.5ms\n",
      "114:\tlearn: 14.7390551\ttotal: 155ms\tremaining: 20.2ms\n",
      "115:\tlearn: 14.6936896\ttotal: 156ms\tremaining: 18.8ms\n",
      "116:\tlearn: 14.6298769\ttotal: 157ms\tremaining: 17.5ms\n",
      "117:\tlearn: 14.6081279\ttotal: 159ms\tremaining: 16.2ms\n",
      "118:\tlearn: 14.5388461\ttotal: 160ms\tremaining: 14.8ms\n",
      "119:\tlearn: 14.5009157\ttotal: 161ms\tremaining: 13.5ms\n",
      "120:\tlearn: 14.4995953\ttotal: 163ms\tremaining: 12.1ms\n",
      "121:\tlearn: 14.4591960\ttotal: 164ms\tremaining: 10.8ms\n",
      "122:\tlearn: 14.4328969\ttotal: 165ms\tremaining: 9.41ms\n",
      "123:\tlearn: 14.4049223\ttotal: 167ms\tremaining: 8.06ms\n",
      "124:\tlearn: 14.3898378\ttotal: 168ms\tremaining: 6.71ms\n",
      "125:\tlearn: 14.3545013\ttotal: 169ms\tremaining: 5.38ms\n",
      "126:\tlearn: 14.3349312\ttotal: 171ms\tremaining: 4.03ms\n",
      "127:\tlearn: 14.2997262\ttotal: 172ms\tremaining: 2.69ms\n",
      "128:\tlearn: 14.2248683\ttotal: 173ms\tremaining: 1.34ms\n",
      "129:\tlearn: 14.1704446\ttotal: 175ms\tremaining: 0us\n",
      "Learning rate set to 0.259797\n",
      "0:\tlearn: 31.8424911\ttotal: 2.48ms\tremaining: 320ms\n",
      "1:\tlearn: 29.3173464\ttotal: 4.23ms\tremaining: 271ms\n",
      "2:\tlearn: 27.4742987\ttotal: 5.83ms\tremaining: 247ms\n",
      "3:\tlearn: 26.0568352\ttotal: 7.34ms\tremaining: 231ms\n",
      "4:\tlearn: 25.2138811\ttotal: 8.88ms\tremaining: 222ms\n",
      "5:\tlearn: 24.6870962\ttotal: 10.4ms\tremaining: 214ms\n",
      "6:\tlearn: 24.3865580\ttotal: 11.9ms\tremaining: 208ms\n",
      "7:\tlearn: 23.8866848\ttotal: 13.4ms\tremaining: 204ms\n",
      "8:\tlearn: 23.5567848\ttotal: 14.8ms\tremaining: 199ms\n",
      "9:\tlearn: 23.4011607\ttotal: 16.3ms\tremaining: 195ms\n",
      "10:\tlearn: 23.1311467\ttotal: 17.8ms\tremaining: 192ms\n",
      "11:\tlearn: 23.0236619\ttotal: 19.2ms\tremaining: 189ms\n",
      "12:\tlearn: 22.8242085\ttotal: 20.6ms\tremaining: 186ms\n",
      "13:\tlearn: 22.4107287\ttotal: 22.1ms\tremaining: 183ms\n",
      "14:\tlearn: 22.0357731\ttotal: 23.5ms\tremaining: 180ms\n",
      "15:\tlearn: 21.9436519\ttotal: 24.9ms\tremaining: 177ms\n",
      "16:\tlearn: 21.8338324\ttotal: 26.3ms\tremaining: 175ms\n",
      "17:\tlearn: 21.7226261\ttotal: 27.7ms\tremaining: 173ms\n",
      "18:\tlearn: 21.6516348\ttotal: 29.6ms\tremaining: 173ms\n",
      "19:\tlearn: 21.4901374\ttotal: 31.6ms\tremaining: 174ms\n",
      "20:\tlearn: 21.3832111\ttotal: 33ms\tremaining: 171ms\n",
      "21:\tlearn: 21.3061779\ttotal: 34.4ms\tremaining: 169ms\n",
      "22:\tlearn: 21.1967531\ttotal: 35.9ms\tremaining: 167ms\n",
      "23:\tlearn: 21.0777615\ttotal: 37.3ms\tremaining: 165ms\n",
      "24:\tlearn: 20.9903241\ttotal: 38.7ms\tremaining: 163ms\n",
      "25:\tlearn: 20.8873831\ttotal: 40.2ms\tremaining: 161ms\n",
      "26:\tlearn: 20.8263278\ttotal: 41.7ms\tremaining: 159ms\n",
      "27:\tlearn: 20.6231869\ttotal: 43.1ms\tremaining: 157ms\n",
      "28:\tlearn: 20.5606414\ttotal: 44.5ms\tremaining: 155ms\n",
      "29:\tlearn: 20.5061641\ttotal: 45.9ms\tremaining: 153ms\n",
      "30:\tlearn: 20.3550325\ttotal: 47.4ms\tremaining: 151ms\n",
      "31:\tlearn: 20.2530855\ttotal: 48.8ms\tremaining: 149ms\n",
      "32:\tlearn: 20.1372182\ttotal: 50.2ms\tremaining: 148ms\n",
      "33:\tlearn: 20.0454190\ttotal: 51.7ms\tremaining: 146ms\n",
      "34:\tlearn: 19.9571768\ttotal: 53.1ms\tremaining: 144ms\n",
      "35:\tlearn: 19.8848654\ttotal: 54.5ms\tremaining: 142ms\n",
      "36:\tlearn: 19.8302898\ttotal: 55.9ms\tremaining: 141ms\n",
      "37:\tlearn: 19.7284521\ttotal: 57.6ms\tremaining: 139ms\n",
      "38:\tlearn: 19.6449024\ttotal: 59ms\tremaining: 138ms\n",
      "39:\tlearn: 19.5028335\ttotal: 60.4ms\tremaining: 136ms\n",
      "40:\tlearn: 19.4530497\ttotal: 61.9ms\tremaining: 134ms\n",
      "41:\tlearn: 19.4041145\ttotal: 63.3ms\tremaining: 133ms\n",
      "42:\tlearn: 19.3486500\ttotal: 64.7ms\tremaining: 131ms\n",
      "43:\tlearn: 19.2858929\ttotal: 66.2ms\tremaining: 129ms\n",
      "44:\tlearn: 19.2417009\ttotal: 67.5ms\tremaining: 128ms\n",
      "45:\tlearn: 19.1463998\ttotal: 69ms\tremaining: 126ms\n",
      "46:\tlearn: 19.1027232\ttotal: 70.4ms\tremaining: 124ms\n",
      "47:\tlearn: 19.0167150\ttotal: 71.8ms\tremaining: 123ms\n",
      "48:\tlearn: 18.9690550\ttotal: 73.3ms\tremaining: 121ms\n",
      "49:\tlearn: 18.8822138\ttotal: 74.7ms\tremaining: 120ms\n",
      "50:\tlearn: 18.8211987\ttotal: 76.1ms\tremaining: 118ms\n",
      "51:\tlearn: 18.7986460\ttotal: 77.4ms\tremaining: 116ms\n",
      "52:\tlearn: 18.7393023\ttotal: 78.8ms\tremaining: 114ms\n",
      "53:\tlearn: 18.7320537\ttotal: 80.1ms\tremaining: 113ms\n",
      "54:\tlearn: 18.6967142\ttotal: 81.5ms\tremaining: 111ms\n",
      "55:\tlearn: 18.6669389\ttotal: 82.8ms\tremaining: 109ms\n",
      "56:\tlearn: 18.6616688\ttotal: 84.1ms\tremaining: 108ms\n",
      "57:\tlearn: 18.5873174\ttotal: 85.5ms\tremaining: 106ms\n",
      "58:\tlearn: 18.4993898\ttotal: 87.1ms\tremaining: 105ms\n",
      "59:\tlearn: 18.3766966\ttotal: 88.6ms\tremaining: 103ms\n",
      "60:\tlearn: 18.2891775\ttotal: 90.2ms\tremaining: 102ms\n",
      "61:\tlearn: 18.2242009\ttotal: 91.6ms\tremaining: 100ms\n",
      "62:\tlearn: 18.1813810\ttotal: 93.1ms\tremaining: 99ms\n",
      "63:\tlearn: 18.1476301\ttotal: 94.5ms\tremaining: 97.5ms\n",
      "64:\tlearn: 18.1422137\ttotal: 95.9ms\tremaining: 95.9ms\n",
      "65:\tlearn: 18.1142804\ttotal: 97.4ms\tremaining: 94.4ms\n",
      "66:\tlearn: 18.0921047\ttotal: 98.8ms\tremaining: 92.9ms\n",
      "67:\tlearn: 18.0200946\ttotal: 100ms\tremaining: 91.3ms\n",
      "68:\tlearn: 17.9666726\ttotal: 102ms\tremaining: 89.8ms\n",
      "69:\tlearn: 17.9226570\ttotal: 103ms\tremaining: 88.3ms\n",
      "70:\tlearn: 17.8926699\ttotal: 105ms\tremaining: 86.9ms\n",
      "71:\tlearn: 17.8589317\ttotal: 106ms\tremaining: 85.4ms\n",
      "72:\tlearn: 17.7788499\ttotal: 107ms\tremaining: 83.9ms\n",
      "73:\tlearn: 17.7181190\ttotal: 109ms\tremaining: 82.4ms\n",
      "74:\tlearn: 17.7118567\ttotal: 110ms\tremaining: 80.8ms\n",
      "75:\tlearn: 17.6586143\ttotal: 112ms\tremaining: 79.4ms\n",
      "76:\tlearn: 17.6060432\ttotal: 113ms\tremaining: 77.9ms\n",
      "77:\tlearn: 17.5910467\ttotal: 115ms\tremaining: 76.4ms\n",
      "78:\tlearn: 17.5518657\ttotal: 116ms\tremaining: 74.9ms\n",
      "79:\tlearn: 17.4806522\ttotal: 117ms\tremaining: 73.4ms\n",
      "80:\tlearn: 17.4612569\ttotal: 119ms\tremaining: 72ms\n",
      "81:\tlearn: 17.4255854\ttotal: 120ms\tremaining: 70.5ms\n",
      "82:\tlearn: 17.3571656\ttotal: 122ms\tremaining: 69ms\n",
      "83:\tlearn: 17.2553602\ttotal: 123ms\tremaining: 67.5ms\n",
      "84:\tlearn: 17.2120872\ttotal: 125ms\tremaining: 66.1ms\n",
      "85:\tlearn: 17.1536993\ttotal: 126ms\tremaining: 64.6ms\n",
      "86:\tlearn: 17.0645044\ttotal: 128ms\tremaining: 63.2ms\n",
      "87:\tlearn: 17.0177337\ttotal: 129ms\tremaining: 61.7ms\n",
      "88:\tlearn: 16.9934765\ttotal: 131ms\tremaining: 60.2ms\n",
      "89:\tlearn: 16.9730880\ttotal: 132ms\tremaining: 58.7ms\n",
      "90:\tlearn: 16.9352752\ttotal: 133ms\tremaining: 57.2ms\n",
      "91:\tlearn: 16.9012868\ttotal: 135ms\tremaining: 55.7ms\n",
      "92:\tlearn: 16.8639899\ttotal: 136ms\tremaining: 54.2ms\n",
      "93:\tlearn: 16.8604461\ttotal: 138ms\tremaining: 52.7ms\n",
      "94:\tlearn: 16.7804229\ttotal: 139ms\tremaining: 51.3ms\n",
      "95:\tlearn: 16.7513618\ttotal: 141ms\tremaining: 49.8ms\n",
      "96:\tlearn: 16.6791267\ttotal: 142ms\tremaining: 48.3ms\n",
      "97:\tlearn: 16.6590643\ttotal: 143ms\tremaining: 46.8ms\n",
      "98:\tlearn: 16.6520072\ttotal: 145ms\tremaining: 45.4ms\n",
      "99:\tlearn: 16.6157784\ttotal: 146ms\tremaining: 43.9ms\n",
      "100:\tlearn: 16.5774849\ttotal: 148ms\tremaining: 42.4ms\n",
      "101:\tlearn: 16.5463228\ttotal: 149ms\tremaining: 40.9ms\n",
      "102:\tlearn: 16.5205396\ttotal: 151ms\tremaining: 39.5ms\n",
      "103:\tlearn: 16.4875173\ttotal: 152ms\tremaining: 38ms\n",
      "104:\tlearn: 16.4826761\ttotal: 153ms\tremaining: 36.5ms\n",
      "105:\tlearn: 16.4411758\ttotal: 155ms\tremaining: 35ms\n",
      "106:\tlearn: 16.4171852\ttotal: 156ms\tremaining: 33.6ms\n",
      "107:\tlearn: 16.3878240\ttotal: 158ms\tremaining: 32.1ms\n",
      "108:\tlearn: 16.3334402\ttotal: 159ms\tremaining: 30.6ms\n",
      "109:\tlearn: 16.3171541\ttotal: 160ms\tremaining: 29.2ms\n",
      "110:\tlearn: 16.2681752\ttotal: 162ms\tremaining: 27.7ms\n",
      "111:\tlearn: 16.2553359\ttotal: 163ms\tremaining: 26.2ms\n",
      "112:\tlearn: 16.1921192\ttotal: 165ms\tremaining: 24.8ms\n",
      "113:\tlearn: 16.1616118\ttotal: 166ms\tremaining: 23.3ms\n",
      "114:\tlearn: 16.1470674\ttotal: 168ms\tremaining: 21.9ms\n",
      "115:\tlearn: 16.1247143\ttotal: 169ms\tremaining: 20.4ms\n",
      "116:\tlearn: 16.0454757\ttotal: 170ms\tremaining: 18.9ms\n",
      "117:\tlearn: 16.0041091\ttotal: 172ms\tremaining: 17.5ms\n",
      "118:\tlearn: 15.9727461\ttotal: 173ms\tremaining: 16ms\n",
      "119:\tlearn: 15.9504014\ttotal: 175ms\tremaining: 14.6ms\n",
      "120:\tlearn: 15.9021648\ttotal: 176ms\tremaining: 13.1ms\n",
      "121:\tlearn: 15.8426229\ttotal: 178ms\tremaining: 11.7ms\n",
      "122:\tlearn: 15.8185784\ttotal: 180ms\tremaining: 10.2ms\n",
      "123:\tlearn: 15.8022867\ttotal: 181ms\tremaining: 8.76ms\n",
      "124:\tlearn: 15.7454301\ttotal: 182ms\tremaining: 7.3ms\n",
      "125:\tlearn: 15.6925033\ttotal: 184ms\tremaining: 5.84ms\n",
      "126:\tlearn: 15.6904719\ttotal: 185ms\tremaining: 4.38ms\n",
      "127:\tlearn: 15.6467997\ttotal: 187ms\tremaining: 2.92ms\n",
      "128:\tlearn: 15.6303958\ttotal: 188ms\tremaining: 1.46ms\n",
      "129:\tlearn: 15.5908916\ttotal: 190ms\tremaining: 0us\n",
      "Learning rate set to 0.200327\n",
      "0:\tlearn: 27.0368418\ttotal: 1.11ms\tremaining: 144ms\n",
      "1:\tlearn: 25.0570445\ttotal: 2.21ms\tremaining: 142ms\n",
      "2:\tlearn: 23.4020972\ttotal: 3.12ms\tremaining: 133ms\n",
      "3:\tlearn: 21.8779401\ttotal: 3.96ms\tremaining: 126ms\n",
      "4:\tlearn: 20.9661677\ttotal: 4.87ms\tremaining: 123ms\n",
      "5:\tlearn: 20.3862929\ttotal: 5.74ms\tremaining: 120ms\n",
      "6:\tlearn: 19.8353750\ttotal: 6.55ms\tremaining: 116ms\n",
      "7:\tlearn: 19.1218132\ttotal: 7.42ms\tremaining: 114ms\n",
      "8:\tlearn: 18.6645393\ttotal: 8.32ms\tremaining: 113ms\n",
      "9:\tlearn: 18.2513054\ttotal: 9.15ms\tremaining: 111ms\n",
      "10:\tlearn: 17.8720071\ttotal: 9.96ms\tremaining: 109ms\n",
      "11:\tlearn: 17.6901467\ttotal: 10.8ms\tremaining: 107ms\n",
      "12:\tlearn: 17.3847616\ttotal: 11.6ms\tremaining: 106ms\n",
      "13:\tlearn: 17.2129321\ttotal: 12.4ms\tremaining: 104ms\n",
      "14:\tlearn: 17.0280923\ttotal: 13.3ms\tremaining: 103ms\n",
      "15:\tlearn: 16.8980909\ttotal: 14.1ms\tremaining: 101ms\n",
      "16:\tlearn: 16.6696994\ttotal: 15ms\tremaining: 100ms\n",
      "17:\tlearn: 16.4615117\ttotal: 15.8ms\tremaining: 99.2ms\n",
      "18:\tlearn: 16.2835741\ttotal: 16.7ms\tremaining: 98.2ms\n",
      "19:\tlearn: 16.0846308\ttotal: 17.5ms\tremaining: 97.2ms\n",
      "20:\tlearn: 15.9055900\ttotal: 18.3ms\tremaining: 95.8ms\n",
      "21:\tlearn: 15.7386945\ttotal: 19.1ms\tremaining: 94.5ms\n",
      "22:\tlearn: 15.6935816\ttotal: 19.9ms\tremaining: 93.4ms\n",
      "23:\tlearn: 15.5976044\ttotal: 20.7ms\tremaining: 92.2ms\n",
      "24:\tlearn: 15.4511649\ttotal: 21.5ms\tremaining: 91.4ms\n",
      "25:\tlearn: 15.3468911\ttotal: 22.4ms\tremaining: 90.4ms\n",
      "26:\tlearn: 15.2246183\ttotal: 23.2ms\tremaining: 89.3ms\n",
      "27:\tlearn: 15.0903499\ttotal: 24ms\tremaining: 88.4ms\n",
      "28:\tlearn: 14.9971764\ttotal: 24.9ms\tremaining: 87.5ms\n",
      "29:\tlearn: 14.7947733\ttotal: 25.7ms\tremaining: 86.5ms\n",
      "30:\tlearn: 14.6226764\ttotal: 26.6ms\tremaining: 85.9ms\n",
      "31:\tlearn: 14.4815286\ttotal: 27.5ms\tremaining: 85ms\n",
      "32:\tlearn: 14.4200113\ttotal: 28.3ms\tremaining: 84.2ms\n",
      "33:\tlearn: 14.3359829\ttotal: 29.2ms\tremaining: 83.2ms\n",
      "34:\tlearn: 14.1237567\ttotal: 30.1ms\tremaining: 82.5ms\n",
      "35:\tlearn: 14.0080117\ttotal: 31ms\tremaining: 81.8ms\n",
      "36:\tlearn: 13.9747056\ttotal: 31.8ms\tremaining: 80.8ms\n",
      "37:\tlearn: 13.8503309\ttotal: 32.7ms\tremaining: 80.1ms\n",
      "38:\tlearn: 13.7574912\ttotal: 33.6ms\tremaining: 79.3ms\n",
      "39:\tlearn: 13.6469372\ttotal: 34.4ms\tremaining: 78.3ms\n",
      "40:\tlearn: 13.5223647\ttotal: 35.3ms\tremaining: 77.5ms\n",
      "41:\tlearn: 13.4318401\ttotal: 36.2ms\tremaining: 76.7ms\n",
      "42:\tlearn: 13.3578514\ttotal: 37ms\tremaining: 75.7ms\n",
      "43:\tlearn: 13.3433620\ttotal: 37.8ms\tremaining: 74.7ms\n",
      "44:\tlearn: 13.2537833\ttotal: 38.6ms\tremaining: 73.8ms\n",
      "45:\tlearn: 13.2473491\ttotal: 39.5ms\tremaining: 72.9ms\n",
      "46:\tlearn: 13.1520703\ttotal: 40.3ms\tremaining: 72ms\n",
      "47:\tlearn: 13.1251293\ttotal: 41.1ms\tremaining: 71.1ms\n",
      "48:\tlearn: 13.0772787\ttotal: 41.9ms\tremaining: 70.2ms\n",
      "49:\tlearn: 12.9204194\ttotal: 42.7ms\tremaining: 69.2ms\n",
      "50:\tlearn: 12.8357683\ttotal: 43.5ms\tremaining: 68.3ms\n",
      "51:\tlearn: 12.7206117\ttotal: 44.3ms\tremaining: 67.3ms\n",
      "52:\tlearn: 12.6345770\ttotal: 45.3ms\tremaining: 66.6ms\n",
      "53:\tlearn: 12.5145318\ttotal: 46ms\tremaining: 65.7ms\n",
      "54:\tlearn: 12.3657475\ttotal: 46.9ms\tremaining: 64.8ms\n",
      "55:\tlearn: 12.2223621\ttotal: 47.7ms\tremaining: 63.8ms\n",
      "56:\tlearn: 12.2077547\ttotal: 48.5ms\tremaining: 62.9ms\n",
      "57:\tlearn: 12.0879117\ttotal: 49.3ms\tremaining: 62.1ms\n",
      "58:\tlearn: 11.9754945\ttotal: 50.1ms\tremaining: 61.2ms\n",
      "59:\tlearn: 11.9705156\ttotal: 51ms\tremaining: 60.3ms\n",
      "60:\tlearn: 11.9587257\ttotal: 51.8ms\tremaining: 59.4ms\n",
      "61:\tlearn: 11.9068985\ttotal: 52.9ms\tremaining: 58.9ms\n",
      "62:\tlearn: 11.8707441\ttotal: 53.9ms\tremaining: 58.2ms\n",
      "63:\tlearn: 11.7426800\ttotal: 54.8ms\tremaining: 57.3ms\n",
      "64:\tlearn: 11.6278732\ttotal: 55.6ms\tremaining: 56.4ms\n",
      "65:\tlearn: 11.5466050\ttotal: 56.4ms\tremaining: 55.6ms\n",
      "66:\tlearn: 11.4310254\ttotal: 57.2ms\tremaining: 54.7ms\n",
      "67:\tlearn: 11.3780151\ttotal: 58.1ms\tremaining: 53.8ms\n",
      "68:\tlearn: 11.2696113\ttotal: 58.9ms\tremaining: 52.9ms\n",
      "69:\tlearn: 11.2025468\ttotal: 59.7ms\tremaining: 52ms\n",
      "70:\tlearn: 11.1167016\ttotal: 60.6ms\tremaining: 51.2ms\n",
      "71:\tlearn: 11.1017460\ttotal: 61.4ms\tremaining: 50.3ms\n",
      "72:\tlearn: 11.0135890\ttotal: 62.2ms\tremaining: 49.5ms\n",
      "73:\tlearn: 10.9854522\ttotal: 63ms\tremaining: 48.5ms\n",
      "74:\tlearn: 10.9635205\ttotal: 63.8ms\tremaining: 47.7ms\n",
      "75:\tlearn: 10.9098930\ttotal: 64.6ms\tremaining: 46.7ms\n",
      "76:\tlearn: 10.9065567\ttotal: 65.4ms\tremaining: 45.9ms\n",
      "77:\tlearn: 10.8659149\ttotal: 66.2ms\tremaining: 45ms\n",
      "78:\tlearn: 10.8397427\ttotal: 67ms\tremaining: 44.1ms\n",
      "79:\tlearn: 10.8045936\ttotal: 67.8ms\tremaining: 43.2ms\n",
      "80:\tlearn: 10.7072095\ttotal: 68.6ms\tremaining: 42.4ms\n",
      "81:\tlearn: 10.6283850\ttotal: 69.5ms\tremaining: 41.5ms\n",
      "82:\tlearn: 10.5752911\ttotal: 70.3ms\tremaining: 40.7ms\n",
      "83:\tlearn: 10.4953793\ttotal: 71.1ms\tremaining: 39.8ms\n",
      "84:\tlearn: 10.4159173\ttotal: 71.9ms\tremaining: 38.9ms\n",
      "85:\tlearn: 10.3614201\ttotal: 72.7ms\tremaining: 38.1ms\n",
      "86:\tlearn: 10.2877302\ttotal: 73.6ms\tremaining: 37.2ms\n",
      "87:\tlearn: 10.2451077\ttotal: 74.4ms\tremaining: 36.3ms\n",
      "88:\tlearn: 10.1887453\ttotal: 75.2ms\tremaining: 35.5ms\n",
      "89:\tlearn: 10.0654182\ttotal: 76ms\tremaining: 34.6ms\n",
      "90:\tlearn: 10.0071867\ttotal: 76.8ms\tremaining: 33.8ms\n",
      "91:\tlearn: 9.9192726\ttotal: 77.7ms\tremaining: 32.9ms\n",
      "92:\tlearn: 9.8481906\ttotal: 78.5ms\tremaining: 32.1ms\n",
      "93:\tlearn: 9.7692831\ttotal: 79.3ms\tremaining: 31.2ms\n",
      "94:\tlearn: 9.7180878\ttotal: 80.1ms\tremaining: 30.3ms\n",
      "95:\tlearn: 9.6198463\ttotal: 80.9ms\tremaining: 29.5ms\n",
      "96:\tlearn: 9.5985468\ttotal: 81.7ms\tremaining: 28.6ms\n",
      "97:\tlearn: 9.5279624\ttotal: 82.6ms\tremaining: 27.8ms\n",
      "98:\tlearn: 9.4979022\ttotal: 83.4ms\tremaining: 27ms\n",
      "99:\tlearn: 9.4165194\ttotal: 84.2ms\tremaining: 26.1ms\n",
      "100:\tlearn: 9.3286025\ttotal: 85ms\tremaining: 25.3ms\n",
      "101:\tlearn: 9.3157963\ttotal: 85.9ms\tremaining: 24.4ms\n",
      "102:\tlearn: 9.2464090\ttotal: 86.7ms\tremaining: 23.6ms\n",
      "103:\tlearn: 9.1689563\ttotal: 87.5ms\tremaining: 22.7ms\n",
      "104:\tlearn: 9.1026772\ttotal: 88.3ms\tremaining: 21.9ms\n",
      "105:\tlearn: 9.0632517\ttotal: 89.1ms\tremaining: 21ms\n",
      "106:\tlearn: 9.0043095\ttotal: 89.9ms\tremaining: 20.2ms\n",
      "107:\tlearn: 8.9267607\ttotal: 90.7ms\tremaining: 19.3ms\n",
      "108:\tlearn: 8.8745109\ttotal: 91.5ms\tremaining: 18.5ms\n",
      "109:\tlearn: 8.8243537\ttotal: 92.3ms\tremaining: 17.6ms\n",
      "110:\tlearn: 8.7594683\ttotal: 93.1ms\tremaining: 16.8ms\n",
      "111:\tlearn: 8.6806594\ttotal: 93.9ms\tremaining: 15.9ms\n",
      "112:\tlearn: 8.6248702\ttotal: 94.8ms\tremaining: 15.1ms\n",
      "113:\tlearn: 8.5899986\ttotal: 95.6ms\tremaining: 14.3ms\n",
      "114:\tlearn: 8.5720355\ttotal: 96.4ms\tremaining: 13.4ms\n",
      "115:\tlearn: 8.5207020\ttotal: 97.2ms\tremaining: 12.6ms\n",
      "116:\tlearn: 8.4758904\ttotal: 98ms\tremaining: 11.7ms\n",
      "117:\tlearn: 8.3999177\ttotal: 98.9ms\tremaining: 10.9ms\n",
      "118:\tlearn: 8.3205319\ttotal: 99.7ms\tremaining: 10.1ms\n",
      "119:\tlearn: 8.2436999\ttotal: 101ms\tremaining: 9.22ms\n",
      "120:\tlearn: 8.1582791\ttotal: 101ms\tremaining: 8.38ms\n",
      "121:\tlearn: 8.0539888\ttotal: 102ms\tremaining: 7.54ms\n",
      "122:\tlearn: 8.0087926\ttotal: 103ms\tremaining: 6.7ms\n",
      "123:\tlearn: 7.9442347\ttotal: 104ms\tremaining: 5.86ms\n",
      "124:\tlearn: 7.9016372\ttotal: 105ms\tremaining: 5.02ms\n",
      "125:\tlearn: 7.8647688\ttotal: 106ms\tremaining: 4.19ms\n",
      "126:\tlearn: 7.8231985\ttotal: 106ms\tremaining: 3.35ms\n",
      "127:\tlearn: 7.7626154\ttotal: 107ms\tremaining: 2.51ms\n",
      "128:\tlearn: 7.6977003\ttotal: 108ms\tremaining: 1.67ms\n",
      "129:\tlearn: 7.6784523\ttotal: 109ms\tremaining: 837us\n",
      "130:\tlearn: 7.6757219\ttotal: 110ms\tremaining: 0us\n",
      "Learning rate set to 0.223433\n",
      "0:\tlearn: 27.8881273\ttotal: 1.25ms\tremaining: 163ms\n",
      "1:\tlearn: 26.1041182\ttotal: 2.5ms\tremaining: 161ms\n",
      "2:\tlearn: 24.3699923\ttotal: 3.71ms\tremaining: 158ms\n",
      "3:\tlearn: 23.2478027\ttotal: 4.76ms\tremaining: 151ms\n",
      "4:\tlearn: 22.3444645\ttotal: 5.79ms\tremaining: 146ms\n",
      "5:\tlearn: 21.7067029\ttotal: 6.84ms\tremaining: 143ms\n",
      "6:\tlearn: 21.1986165\ttotal: 7.98ms\tremaining: 141ms\n",
      "7:\tlearn: 20.6258892\ttotal: 9.02ms\tremaining: 139ms\n",
      "8:\tlearn: 20.3651106\ttotal: 10ms\tremaining: 136ms\n",
      "9:\tlearn: 20.1299592\ttotal: 11ms\tremaining: 133ms\n",
      "10:\tlearn: 19.7663079\ttotal: 12ms\tremaining: 131ms\n",
      "11:\tlearn: 19.4989791\ttotal: 13.2ms\tremaining: 131ms\n",
      "12:\tlearn: 19.2688774\ttotal: 14.3ms\tremaining: 130ms\n",
      "13:\tlearn: 19.1119077\ttotal: 15.3ms\tremaining: 128ms\n",
      "14:\tlearn: 18.9598940\ttotal: 16.3ms\tremaining: 126ms\n",
      "15:\tlearn: 18.7914311\ttotal: 17.3ms\tremaining: 124ms\n",
      "16:\tlearn: 18.6396612\ttotal: 18.3ms\tremaining: 123ms\n",
      "17:\tlearn: 18.3956153\ttotal: 19.4ms\tremaining: 121ms\n",
      "18:\tlearn: 18.2161640\ttotal: 20.3ms\tremaining: 120ms\n",
      "19:\tlearn: 18.0573951\ttotal: 21.3ms\tremaining: 118ms\n",
      "20:\tlearn: 17.9628648\ttotal: 22.4ms\tremaining: 117ms\n",
      "21:\tlearn: 17.8025181\ttotal: 23.3ms\tremaining: 116ms\n",
      "22:\tlearn: 17.7522043\ttotal: 24.3ms\tremaining: 114ms\n",
      "23:\tlearn: 17.6734195\ttotal: 25.3ms\tremaining: 113ms\n",
      "24:\tlearn: 17.5297787\ttotal: 26.4ms\tremaining: 112ms\n",
      "25:\tlearn: 17.4343827\ttotal: 27.3ms\tremaining: 110ms\n",
      "26:\tlearn: 17.3941301\ttotal: 28.4ms\tremaining: 109ms\n",
      "27:\tlearn: 17.3026788\ttotal: 29.4ms\tremaining: 108ms\n",
      "28:\tlearn: 17.2476437\ttotal: 30.5ms\tremaining: 107ms\n",
      "29:\tlearn: 17.0922210\ttotal: 31.5ms\tremaining: 106ms\n",
      "30:\tlearn: 16.9897774\ttotal: 32.6ms\tremaining: 105ms\n",
      "31:\tlearn: 16.9516315\ttotal: 33.6ms\tremaining: 104ms\n",
      "32:\tlearn: 16.8525558\ttotal: 34.5ms\tremaining: 103ms\n",
      "33:\tlearn: 16.7788823\ttotal: 35.6ms\tremaining: 102ms\n",
      "34:\tlearn: 16.6521432\ttotal: 36.6ms\tremaining: 100ms\n",
      "35:\tlearn: 16.4889146\ttotal: 37.6ms\tremaining: 99.1ms\n",
      "36:\tlearn: 16.4250989\ttotal: 38.5ms\tremaining: 97.9ms\n",
      "37:\tlearn: 16.3465117\ttotal: 39.5ms\tremaining: 96.8ms\n",
      "38:\tlearn: 16.2491417\ttotal: 40.5ms\tremaining: 95.5ms\n",
      "39:\tlearn: 16.2345743\ttotal: 41.5ms\tremaining: 94.4ms\n",
      "40:\tlearn: 16.0829972\ttotal: 42.5ms\tremaining: 93.3ms\n",
      "41:\tlearn: 16.0197409\ttotal: 43.5ms\tremaining: 92.2ms\n",
      "42:\tlearn: 15.8872266\ttotal: 44.5ms\tremaining: 91.2ms\n",
      "43:\tlearn: 15.8325274\ttotal: 45.5ms\tremaining: 90ms\n",
      "44:\tlearn: 15.7769501\ttotal: 46.5ms\tremaining: 88.8ms\n",
      "45:\tlearn: 15.6877100\ttotal: 47.5ms\tremaining: 87.8ms\n",
      "46:\tlearn: 15.6337619\ttotal: 48.9ms\tremaining: 87.3ms\n",
      "47:\tlearn: 15.4678072\ttotal: 50.2ms\tremaining: 86.9ms\n",
      "48:\tlearn: 15.3159207\ttotal: 51.3ms\tremaining: 85.8ms\n",
      "49:\tlearn: 15.3114756\ttotal: 52.3ms\tremaining: 84.8ms\n",
      "50:\tlearn: 15.2087754\ttotal: 53.4ms\tremaining: 83.7ms\n",
      "51:\tlearn: 15.1325027\ttotal: 54.4ms\tremaining: 82.7ms\n",
      "52:\tlearn: 15.0159592\ttotal: 55.4ms\tremaining: 81.6ms\n",
      "53:\tlearn: 15.0117388\ttotal: 56.4ms\tremaining: 80.4ms\n",
      "54:\tlearn: 14.9567447\ttotal: 57.4ms\tremaining: 79.3ms\n",
      "55:\tlearn: 14.8842141\ttotal: 58.4ms\tremaining: 78.2ms\n",
      "56:\tlearn: 14.8477296\ttotal: 60ms\tremaining: 77.9ms\n",
      "57:\tlearn: 14.6971821\ttotal: 61ms\tremaining: 76.8ms\n",
      "58:\tlearn: 14.6944138\ttotal: 62ms\tremaining: 75.7ms\n",
      "59:\tlearn: 14.5923190\ttotal: 63.2ms\tremaining: 74.8ms\n",
      "60:\tlearn: 14.5714818\ttotal: 64.2ms\tremaining: 73.7ms\n",
      "61:\tlearn: 14.4810462\ttotal: 65.3ms\tremaining: 72.7ms\n",
      "62:\tlearn: 14.4548034\ttotal: 66.4ms\tremaining: 71.7ms\n",
      "63:\tlearn: 14.4521522\ttotal: 67.3ms\tremaining: 70.5ms\n",
      "64:\tlearn: 14.3669436\ttotal: 68.3ms\tremaining: 69.4ms\n",
      "65:\tlearn: 14.2715766\ttotal: 69.3ms\tremaining: 68.3ms\n",
      "66:\tlearn: 14.1930136\ttotal: 70.3ms\tremaining: 67.2ms\n",
      "67:\tlearn: 14.1861958\ttotal: 71.3ms\tremaining: 66.1ms\n",
      "68:\tlearn: 14.0226541\ttotal: 72.3ms\tremaining: 65ms\n",
      "69:\tlearn: 13.9723284\ttotal: 73.4ms\tremaining: 63.9ms\n",
      "70:\tlearn: 13.8840056\ttotal: 74.4ms\tremaining: 62.9ms\n",
      "71:\tlearn: 13.8403216\ttotal: 75.4ms\tremaining: 61.8ms\n",
      "72:\tlearn: 13.7617230\ttotal: 76.4ms\tremaining: 60.7ms\n",
      "73:\tlearn: 13.7214065\ttotal: 77.4ms\tremaining: 59.6ms\n",
      "74:\tlearn: 13.6504545\ttotal: 78.5ms\tremaining: 58.6ms\n",
      "75:\tlearn: 13.6349786\ttotal: 79.5ms\tremaining: 57.5ms\n",
      "76:\tlearn: 13.5481025\ttotal: 80.5ms\tremaining: 56.5ms\n",
      "77:\tlearn: 13.4473082\ttotal: 81.5ms\tremaining: 55.4ms\n",
      "78:\tlearn: 13.3868921\ttotal: 82.5ms\tremaining: 54.3ms\n",
      "79:\tlearn: 13.3248165\ttotal: 83.6ms\tremaining: 53.3ms\n",
      "80:\tlearn: 13.2711201\ttotal: 84.6ms\tremaining: 52.2ms\n",
      "81:\tlearn: 13.2455617\ttotal: 85.6ms\tremaining: 51.2ms\n",
      "82:\tlearn: 13.1350136\ttotal: 86.6ms\tremaining: 50.1ms\n",
      "83:\tlearn: 13.1228832\ttotal: 87.7ms\tremaining: 49.1ms\n",
      "84:\tlearn: 13.0919327\ttotal: 88.7ms\tremaining: 48ms\n",
      "85:\tlearn: 13.0159023\ttotal: 89.6ms\tremaining: 46.9ms\n",
      "86:\tlearn: 12.9375767\ttotal: 90.7ms\tremaining: 45.9ms\n",
      "87:\tlearn: 12.8721659\ttotal: 91.7ms\tremaining: 44.8ms\n",
      "88:\tlearn: 12.7989990\ttotal: 92.7ms\tremaining: 43.7ms\n",
      "89:\tlearn: 12.7900565\ttotal: 93.7ms\tremaining: 42.7ms\n",
      "90:\tlearn: 12.7492658\ttotal: 94.7ms\tremaining: 41.6ms\n",
      "91:\tlearn: 12.6549518\ttotal: 95.8ms\tremaining: 40.6ms\n",
      "92:\tlearn: 12.5925527\ttotal: 96.9ms\tremaining: 39.6ms\n",
      "93:\tlearn: 12.5356939\ttotal: 97.9ms\tremaining: 38.5ms\n",
      "94:\tlearn: 12.4812882\ttotal: 98.9ms\tremaining: 37.5ms\n",
      "95:\tlearn: 12.4306819\ttotal: 99.9ms\tremaining: 36.4ms\n",
      "96:\tlearn: 12.4073983\ttotal: 101ms\tremaining: 35.4ms\n",
      "97:\tlearn: 12.3375384\ttotal: 102ms\tremaining: 34.3ms\n",
      "98:\tlearn: 12.3219736\ttotal: 103ms\tremaining: 33.3ms\n",
      "99:\tlearn: 12.2797384\ttotal: 104ms\tremaining: 32.2ms\n",
      "100:\tlearn: 12.2225156\ttotal: 105ms\tremaining: 31.2ms\n",
      "101:\tlearn: 12.1703343\ttotal: 106ms\tremaining: 30.1ms\n",
      "102:\tlearn: 12.1350802\ttotal: 107ms\tremaining: 29.1ms\n",
      "103:\tlearn: 12.0886479\ttotal: 108ms\tremaining: 28ms\n",
      "104:\tlearn: 12.0638965\ttotal: 109ms\tremaining: 27ms\n",
      "105:\tlearn: 12.0546988\ttotal: 110ms\tremaining: 26ms\n",
      "106:\tlearn: 12.0495652\ttotal: 112ms\tremaining: 25ms\n",
      "107:\tlearn: 11.9753129\ttotal: 113ms\tremaining: 24.1ms\n",
      "108:\tlearn: 11.9299925\ttotal: 114ms\tremaining: 23.1ms\n",
      "109:\tlearn: 11.8674264\ttotal: 115ms\tremaining: 22ms\n",
      "110:\tlearn: 11.8050439\ttotal: 116ms\tremaining: 21ms\n",
      "111:\tlearn: 11.7719473\ttotal: 117ms\tremaining: 19.9ms\n",
      "112:\tlearn: 11.7397384\ttotal: 118ms\tremaining: 18.9ms\n",
      "113:\tlearn: 11.6778672\ttotal: 119ms\tremaining: 17.8ms\n",
      "114:\tlearn: 11.6399532\ttotal: 120ms\tremaining: 16.7ms\n",
      "115:\tlearn: 11.5855280\ttotal: 121ms\tremaining: 15.7ms\n",
      "116:\tlearn: 11.5536694\ttotal: 122ms\tremaining: 14.6ms\n",
      "117:\tlearn: 11.4940033\ttotal: 123ms\tremaining: 13.6ms\n",
      "118:\tlearn: 11.4537656\ttotal: 124ms\tremaining: 12.5ms\n",
      "119:\tlearn: 11.3848797\ttotal: 125ms\tremaining: 11.5ms\n",
      "120:\tlearn: 11.3558413\ttotal: 126ms\tremaining: 10.4ms\n",
      "121:\tlearn: 11.3544947\ttotal: 127ms\tremaining: 9.4ms\n",
      "122:\tlearn: 11.3336254\ttotal: 128ms\tremaining: 8.35ms\n",
      "123:\tlearn: 11.2882876\ttotal: 130ms\tremaining: 7.32ms\n",
      "124:\tlearn: 11.2505136\ttotal: 131ms\tremaining: 6.28ms\n",
      "125:\tlearn: 11.2293948\ttotal: 132ms\tremaining: 5.23ms\n",
      "126:\tlearn: 11.1952294\ttotal: 133ms\tremaining: 4.18ms\n",
      "127:\tlearn: 11.1730705\ttotal: 134ms\tremaining: 3.13ms\n",
      "128:\tlearn: 11.1118204\ttotal: 135ms\tremaining: 2.09ms\n",
      "129:\tlearn: 11.0780795\ttotal: 136ms\tremaining: 1.04ms\n",
      "130:\tlearn: 11.0470635\ttotal: 137ms\tremaining: 0us\n",
      "Learning rate set to 0.238187\n",
      "0:\tlearn: 29.2142420\ttotal: 1.6ms\tremaining: 209ms\n",
      "1:\tlearn: 26.9151526\ttotal: 3.23ms\tremaining: 208ms\n",
      "2:\tlearn: 25.3944547\ttotal: 4.99ms\tremaining: 213ms\n",
      "3:\tlearn: 24.3219340\ttotal: 6.44ms\tremaining: 205ms\n",
      "4:\tlearn: 23.6314219\ttotal: 7.93ms\tremaining: 200ms\n",
      "5:\tlearn: 23.0092251\ttotal: 9.43ms\tremaining: 196ms\n",
      "6:\tlearn: 22.6005115\ttotal: 10.8ms\tremaining: 191ms\n",
      "7:\tlearn: 22.2262990\ttotal: 12.1ms\tremaining: 186ms\n",
      "8:\tlearn: 21.8333502\ttotal: 13.5ms\tremaining: 183ms\n",
      "9:\tlearn: 21.5418453\ttotal: 15ms\tremaining: 182ms\n",
      "10:\tlearn: 21.3171348\ttotal: 16.7ms\tremaining: 182ms\n",
      "11:\tlearn: 21.2124908\ttotal: 18ms\tremaining: 179ms\n",
      "12:\tlearn: 20.8007742\ttotal: 19.6ms\tremaining: 178ms\n",
      "13:\tlearn: 20.6563542\ttotal: 21.5ms\tremaining: 179ms\n",
      "14:\tlearn: 20.3928383\ttotal: 23.3ms\tremaining: 181ms\n",
      "15:\tlearn: 20.2898549\ttotal: 25ms\tremaining: 179ms\n",
      "16:\tlearn: 20.1134866\ttotal: 26.7ms\tremaining: 179ms\n",
      "17:\tlearn: 19.8986797\ttotal: 28ms\tremaining: 176ms\n",
      "18:\tlearn: 19.6883529\ttotal: 29.2ms\tremaining: 172ms\n",
      "19:\tlearn: 19.6263678\ttotal: 30.6ms\tremaining: 170ms\n",
      "20:\tlearn: 19.5628788\ttotal: 32.1ms\tremaining: 168ms\n",
      "21:\tlearn: 19.4761924\ttotal: 33.4ms\tremaining: 166ms\n",
      "22:\tlearn: 19.3773305\ttotal: 35.3ms\tremaining: 166ms\n",
      "23:\tlearn: 19.2540692\ttotal: 36.9ms\tremaining: 165ms\n",
      "24:\tlearn: 19.0237384\ttotal: 38.3ms\tremaining: 163ms\n",
      "25:\tlearn: 18.8876797\ttotal: 39.9ms\tremaining: 161ms\n",
      "26:\tlearn: 18.7882053\ttotal: 41.3ms\tremaining: 159ms\n",
      "27:\tlearn: 18.7135446\ttotal: 42.7ms\tremaining: 157ms\n",
      "28:\tlearn: 18.6356675\ttotal: 44.2ms\tremaining: 156ms\n",
      "29:\tlearn: 18.5590477\ttotal: 45.6ms\tremaining: 153ms\n",
      "30:\tlearn: 18.4318589\ttotal: 47.1ms\tremaining: 152ms\n",
      "31:\tlearn: 18.3263995\ttotal: 48.5ms\tremaining: 150ms\n",
      "32:\tlearn: 18.2557564\ttotal: 49.9ms\tremaining: 148ms\n",
      "33:\tlearn: 18.1683063\ttotal: 51.4ms\tremaining: 147ms\n",
      "34:\tlearn: 18.0756473\ttotal: 52.8ms\tremaining: 145ms\n",
      "35:\tlearn: 17.9093037\ttotal: 54.4ms\tremaining: 144ms\n",
      "36:\tlearn: 17.7960056\ttotal: 55.7ms\tremaining: 141ms\n",
      "37:\tlearn: 17.7661802\ttotal: 56.9ms\tremaining: 139ms\n",
      "38:\tlearn: 17.7524900\ttotal: 58.5ms\tremaining: 138ms\n",
      "39:\tlearn: 17.6083186\ttotal: 60ms\tremaining: 136ms\n",
      "40:\tlearn: 17.5826921\ttotal: 61.3ms\tremaining: 135ms\n",
      "41:\tlearn: 17.5500292\ttotal: 62.9ms\tremaining: 133ms\n",
      "42:\tlearn: 17.4927225\ttotal: 64.6ms\tremaining: 132ms\n",
      "43:\tlearn: 17.4319055\ttotal: 66ms\tremaining: 130ms\n",
      "44:\tlearn: 17.3192143\ttotal: 67.4ms\tremaining: 129ms\n",
      "45:\tlearn: 17.2859243\ttotal: 68.8ms\tremaining: 127ms\n",
      "46:\tlearn: 17.2786789\ttotal: 70.2ms\tremaining: 125ms\n",
      "47:\tlearn: 17.1535909\ttotal: 72.1ms\tremaining: 125ms\n",
      "48:\tlearn: 17.0869263\ttotal: 73.7ms\tremaining: 123ms\n",
      "49:\tlearn: 17.0829199\ttotal: 75.1ms\tremaining: 122ms\n",
      "50:\tlearn: 17.0419767\ttotal: 76.8ms\tremaining: 120ms\n",
      "51:\tlearn: 16.9733574\ttotal: 78.5ms\tremaining: 119ms\n",
      "52:\tlearn: 16.9688146\ttotal: 79.9ms\tremaining: 118ms\n",
      "53:\tlearn: 16.8623074\ttotal: 81.5ms\tremaining: 116ms\n",
      "54:\tlearn: 16.8191244\ttotal: 82.8ms\tremaining: 114ms\n",
      "55:\tlearn: 16.6503556\ttotal: 84.1ms\tremaining: 113ms\n",
      "56:\tlearn: 16.5384083\ttotal: 85.5ms\tremaining: 111ms\n",
      "57:\tlearn: 16.4412630\ttotal: 87ms\tremaining: 109ms\n",
      "58:\tlearn: 16.4380921\ttotal: 88.7ms\tremaining: 108ms\n",
      "59:\tlearn: 16.3887105\ttotal: 90.5ms\tremaining: 107ms\n",
      "60:\tlearn: 16.3820636\ttotal: 92ms\tremaining: 106ms\n",
      "61:\tlearn: 16.3792708\ttotal: 93.3ms\tremaining: 104ms\n",
      "62:\tlearn: 16.2923170\ttotal: 94.7ms\tremaining: 102ms\n",
      "63:\tlearn: 16.2023403\ttotal: 96.3ms\tremaining: 101ms\n",
      "64:\tlearn: 16.0848202\ttotal: 97.8ms\tremaining: 99.3ms\n",
      "65:\tlearn: 16.0189638\ttotal: 99.4ms\tremaining: 97.9ms\n",
      "66:\tlearn: 15.9978953\ttotal: 101ms\tremaining: 96.7ms\n",
      "67:\tlearn: 15.9446556\ttotal: 103ms\tremaining: 95.4ms\n",
      "68:\tlearn: 15.8688471\ttotal: 105ms\tremaining: 93.9ms\n",
      "69:\tlearn: 15.7357816\ttotal: 106ms\tremaining: 92.2ms\n",
      "70:\tlearn: 15.7332790\ttotal: 107ms\tremaining: 90.7ms\n",
      "71:\tlearn: 15.6946210\ttotal: 109ms\tremaining: 89.4ms\n",
      "72:\tlearn: 15.5657387\ttotal: 111ms\tremaining: 88.1ms\n",
      "73:\tlearn: 15.4562180\ttotal: 112ms\tremaining: 86.6ms\n",
      "74:\tlearn: 15.4163212\ttotal: 114ms\tremaining: 84.9ms\n",
      "75:\tlearn: 15.3360528\ttotal: 115ms\tremaining: 83.2ms\n",
      "76:\tlearn: 15.2929864\ttotal: 117ms\tremaining: 81.8ms\n",
      "77:\tlearn: 15.2129472\ttotal: 118ms\tremaining: 80.3ms\n",
      "78:\tlearn: 15.1325867\ttotal: 120ms\tremaining: 79.1ms\n",
      "79:\tlearn: 15.0483029\ttotal: 122ms\tremaining: 77.7ms\n",
      "80:\tlearn: 15.0417039\ttotal: 123ms\tremaining: 76.2ms\n",
      "81:\tlearn: 14.9871387\ttotal: 125ms\tremaining: 74.8ms\n",
      "82:\tlearn: 14.9399916\ttotal: 126ms\tremaining: 73.1ms\n",
      "83:\tlearn: 14.8674656\ttotal: 128ms\tremaining: 71.7ms\n",
      "84:\tlearn: 14.8526758\ttotal: 129ms\tremaining: 70ms\n",
      "85:\tlearn: 14.8385241\ttotal: 131ms\tremaining: 68.4ms\n",
      "86:\tlearn: 14.8292235\ttotal: 132ms\tremaining: 66.8ms\n",
      "87:\tlearn: 14.8138448\ttotal: 134ms\tremaining: 65.4ms\n",
      "88:\tlearn: 14.7590686\ttotal: 136ms\tremaining: 64ms\n",
      "89:\tlearn: 14.6800337\ttotal: 137ms\tremaining: 62.4ms\n",
      "90:\tlearn: 14.6773172\ttotal: 139ms\tremaining: 60.9ms\n",
      "91:\tlearn: 14.6576541\ttotal: 140ms\tremaining: 59.4ms\n",
      "92:\tlearn: 14.6315712\ttotal: 141ms\tremaining: 57.8ms\n",
      "93:\tlearn: 14.5511681\ttotal: 143ms\tremaining: 56.3ms\n",
      "94:\tlearn: 14.5046439\ttotal: 144ms\tremaining: 54.7ms\n",
      "95:\tlearn: 14.4576014\ttotal: 146ms\tremaining: 53.2ms\n",
      "96:\tlearn: 14.4019619\ttotal: 147ms\tremaining: 51.6ms\n",
      "97:\tlearn: 14.3237127\ttotal: 149ms\tremaining: 50ms\n",
      "98:\tlearn: 14.3079684\ttotal: 150ms\tremaining: 48.4ms\n",
      "99:\tlearn: 14.2526720\ttotal: 151ms\tremaining: 46.8ms\n",
      "100:\tlearn: 14.1935393\ttotal: 152ms\tremaining: 45.2ms\n",
      "101:\tlearn: 14.1558059\ttotal: 153ms\tremaining: 43.6ms\n",
      "102:\tlearn: 14.1269748\ttotal: 155ms\tremaining: 42ms\n",
      "103:\tlearn: 14.1006236\ttotal: 156ms\tremaining: 40.4ms\n",
      "104:\tlearn: 14.0404967\ttotal: 157ms\tremaining: 38.9ms\n",
      "105:\tlearn: 14.0380929\ttotal: 158ms\tremaining: 37.3ms\n",
      "106:\tlearn: 14.0124330\ttotal: 159ms\tremaining: 35.7ms\n",
      "107:\tlearn: 13.9469156\ttotal: 160ms\tremaining: 34.2ms\n",
      "108:\tlearn: 13.8903135\ttotal: 162ms\tremaining: 32.6ms\n",
      "109:\tlearn: 13.8066908\ttotal: 163ms\tremaining: 31.1ms\n",
      "110:\tlearn: 13.7687595\ttotal: 164ms\tremaining: 29.5ms\n",
      "111:\tlearn: 13.7408257\ttotal: 165ms\tremaining: 28ms\n",
      "112:\tlearn: 13.6892878\ttotal: 166ms\tremaining: 26.5ms\n",
      "113:\tlearn: 13.6660076\ttotal: 168ms\tremaining: 25ms\n",
      "114:\tlearn: 13.6428082\ttotal: 169ms\tremaining: 23.5ms\n",
      "115:\tlearn: 13.5874391\ttotal: 170ms\tremaining: 22ms\n",
      "116:\tlearn: 13.5671889\ttotal: 171ms\tremaining: 20.5ms\n",
      "117:\tlearn: 13.5288007\ttotal: 173ms\tremaining: 19ms\n",
      "118:\tlearn: 13.4797250\ttotal: 174ms\tremaining: 17.5ms\n",
      "119:\tlearn: 13.4238542\ttotal: 176ms\tremaining: 16.1ms\n",
      "120:\tlearn: 13.3877117\ttotal: 178ms\tremaining: 14.7ms\n",
      "121:\tlearn: 13.3786973\ttotal: 179ms\tremaining: 13.2ms\n",
      "122:\tlearn: 13.3525442\ttotal: 180ms\tremaining: 11.7ms\n",
      "123:\tlearn: 13.3213539\ttotal: 181ms\tremaining: 10.2ms\n",
      "124:\tlearn: 13.2779414\ttotal: 183ms\tremaining: 8.76ms\n",
      "125:\tlearn: 13.2287527\ttotal: 184ms\tremaining: 7.29ms\n",
      "126:\tlearn: 13.2105785\ttotal: 185ms\tremaining: 5.83ms\n",
      "127:\tlearn: 13.1967796\ttotal: 186ms\tremaining: 4.36ms\n",
      "128:\tlearn: 13.1217632\ttotal: 187ms\tremaining: 2.9ms\n",
      "129:\tlearn: 13.0644136\ttotal: 189ms\tremaining: 1.45ms\n",
      "130:\tlearn: 13.0300531\ttotal: 190ms\tremaining: 0us\n",
      "Learning rate set to 0.249249\n",
      "0:\tlearn: 30.4115019\ttotal: 1.64ms\tremaining: 213ms\n",
      "1:\tlearn: 28.0055589\ttotal: 3.14ms\tremaining: 202ms\n",
      "2:\tlearn: 26.4151153\ttotal: 4.53ms\tremaining: 193ms\n",
      "3:\tlearn: 25.1501004\ttotal: 5.96ms\tremaining: 189ms\n",
      "4:\tlearn: 24.3394267\ttotal: 7.22ms\tremaining: 182ms\n",
      "5:\tlearn: 23.8063303\ttotal: 8.56ms\tremaining: 178ms\n",
      "6:\tlearn: 23.3699765\ttotal: 9.88ms\tremaining: 175ms\n",
      "7:\tlearn: 23.0296564\ttotal: 11.2ms\tremaining: 172ms\n",
      "8:\tlearn: 22.7159249\ttotal: 12.5ms\tremaining: 170ms\n",
      "9:\tlearn: 22.4280612\ttotal: 13.8ms\tremaining: 167ms\n",
      "10:\tlearn: 22.1728336\ttotal: 15.2ms\tremaining: 166ms\n",
      "11:\tlearn: 21.9207448\ttotal: 16.5ms\tremaining: 163ms\n",
      "12:\tlearn: 21.5075936\ttotal: 17.7ms\tremaining: 161ms\n",
      "13:\tlearn: 21.3512457\ttotal: 19ms\tremaining: 159ms\n",
      "14:\tlearn: 21.1826317\ttotal: 20.3ms\tremaining: 157ms\n",
      "15:\tlearn: 21.1088590\ttotal: 21.6ms\tremaining: 155ms\n",
      "16:\tlearn: 20.9315540\ttotal: 22.9ms\tremaining: 154ms\n",
      "17:\tlearn: 20.7763595\ttotal: 24.2ms\tremaining: 152ms\n",
      "18:\tlearn: 20.5191252\ttotal: 25.5ms\tremaining: 151ms\n",
      "19:\tlearn: 20.3518399\ttotal: 26.9ms\tremaining: 149ms\n",
      "20:\tlearn: 20.2441913\ttotal: 28.1ms\tremaining: 147ms\n",
      "21:\tlearn: 20.1783957\ttotal: 29.4ms\tremaining: 146ms\n",
      "22:\tlearn: 20.1126802\ttotal: 30.7ms\tremaining: 144ms\n",
      "23:\tlearn: 19.9499221\ttotal: 32ms\tremaining: 143ms\n",
      "24:\tlearn: 19.8862945\ttotal: 33.2ms\tremaining: 141ms\n",
      "25:\tlearn: 19.7942218\ttotal: 34.6ms\tremaining: 140ms\n",
      "26:\tlearn: 19.7157592\ttotal: 35.9ms\tremaining: 138ms\n",
      "27:\tlearn: 19.6481842\ttotal: 37.2ms\tremaining: 137ms\n",
      "28:\tlearn: 19.6167348\ttotal: 38.5ms\tremaining: 135ms\n",
      "29:\tlearn: 19.5514446\ttotal: 39.8ms\tremaining: 134ms\n",
      "30:\tlearn: 19.4615355\ttotal: 41ms\tremaining: 132ms\n",
      "31:\tlearn: 19.3490655\ttotal: 42.4ms\tremaining: 131ms\n",
      "32:\tlearn: 19.2871286\ttotal: 43.8ms\tremaining: 130ms\n",
      "33:\tlearn: 19.2655931\ttotal: 45.1ms\tremaining: 129ms\n",
      "34:\tlearn: 19.1724361\ttotal: 46.5ms\tremaining: 127ms\n",
      "35:\tlearn: 19.0203078\ttotal: 47.9ms\tremaining: 126ms\n",
      "36:\tlearn: 18.9023636\ttotal: 49.3ms\tremaining: 125ms\n",
      "37:\tlearn: 18.7937090\ttotal: 50.6ms\tremaining: 124ms\n",
      "38:\tlearn: 18.7445589\ttotal: 51.9ms\tremaining: 122ms\n",
      "39:\tlearn: 18.6624295\ttotal: 53.2ms\tremaining: 121ms\n",
      "40:\tlearn: 18.5548013\ttotal: 54.6ms\tremaining: 120ms\n",
      "41:\tlearn: 18.4265418\ttotal: 55.9ms\tremaining: 119ms\n",
      "42:\tlearn: 18.3381779\ttotal: 57.2ms\tremaining: 117ms\n",
      "43:\tlearn: 18.2729190\ttotal: 58.5ms\tremaining: 116ms\n",
      "44:\tlearn: 18.2416229\ttotal: 59.8ms\tremaining: 114ms\n",
      "45:\tlearn: 18.2309805\ttotal: 61.1ms\tremaining: 113ms\n",
      "46:\tlearn: 18.1684080\ttotal: 62.4ms\tremaining: 111ms\n",
      "47:\tlearn: 18.0774717\ttotal: 63.8ms\tremaining: 110ms\n",
      "48:\tlearn: 17.8972305\ttotal: 65.2ms\tremaining: 109ms\n",
      "49:\tlearn: 17.8254105\ttotal: 66.6ms\tremaining: 108ms\n",
      "50:\tlearn: 17.7744192\ttotal: 67.9ms\tremaining: 107ms\n",
      "51:\tlearn: 17.7233607\ttotal: 69.2ms\tremaining: 105ms\n",
      "52:\tlearn: 17.6901642\ttotal: 70.4ms\tremaining: 104ms\n",
      "53:\tlearn: 17.5826057\ttotal: 71.8ms\tremaining: 102ms\n",
      "54:\tlearn: 17.5755027\ttotal: 73ms\tremaining: 101ms\n",
      "55:\tlearn: 17.4942735\ttotal: 74.3ms\tremaining: 99.5ms\n",
      "56:\tlearn: 17.3924546\ttotal: 75.7ms\tremaining: 98.3ms\n",
      "57:\tlearn: 17.3693547\ttotal: 77ms\tremaining: 96.9ms\n",
      "58:\tlearn: 17.3481829\ttotal: 78.3ms\tremaining: 95.5ms\n",
      "59:\tlearn: 17.2966643\ttotal: 79.6ms\tremaining: 94.2ms\n",
      "60:\tlearn: 17.2702147\ttotal: 80.9ms\tremaining: 92.8ms\n",
      "61:\tlearn: 17.1856216\ttotal: 82.2ms\tremaining: 91.5ms\n",
      "62:\tlearn: 17.1233985\ttotal: 83.5ms\tremaining: 90.1ms\n",
      "63:\tlearn: 17.0594406\ttotal: 84.9ms\tremaining: 88.9ms\n",
      "64:\tlearn: 17.0468783\ttotal: 86.3ms\tremaining: 87.6ms\n",
      "65:\tlearn: 17.0237092\ttotal: 87.6ms\tremaining: 86.3ms\n",
      "66:\tlearn: 17.0106748\ttotal: 88.9ms\tremaining: 84.9ms\n",
      "67:\tlearn: 16.9254519\ttotal: 90.3ms\tremaining: 83.7ms\n",
      "68:\tlearn: 16.8994668\ttotal: 91.7ms\tremaining: 82.4ms\n",
      "69:\tlearn: 16.8306315\ttotal: 93.1ms\tremaining: 81.1ms\n",
      "70:\tlearn: 16.7818090\ttotal: 94.5ms\tremaining: 79.8ms\n",
      "71:\tlearn: 16.6973978\ttotal: 95.9ms\tremaining: 78.6ms\n",
      "72:\tlearn: 16.6386257\ttotal: 97.2ms\tremaining: 77.2ms\n",
      "73:\tlearn: 16.6263479\ttotal: 98.5ms\tremaining: 75.8ms\n",
      "74:\tlearn: 16.5408128\ttotal: 99.8ms\tremaining: 74.5ms\n",
      "75:\tlearn: 16.5048710\ttotal: 101ms\tremaining: 73.2ms\n",
      "76:\tlearn: 16.4730046\ttotal: 102ms\tremaining: 71.9ms\n",
      "77:\tlearn: 16.4502474\ttotal: 104ms\tremaining: 70.5ms\n",
      "78:\tlearn: 16.3881839\ttotal: 105ms\tremaining: 69.2ms\n",
      "79:\tlearn: 16.3544150\ttotal: 106ms\tremaining: 67.9ms\n",
      "80:\tlearn: 16.3512949\ttotal: 108ms\tremaining: 66.5ms\n",
      "81:\tlearn: 16.3001570\ttotal: 109ms\tremaining: 65.2ms\n",
      "82:\tlearn: 16.2945993\ttotal: 110ms\tremaining: 63.8ms\n",
      "83:\tlearn: 16.2923219\ttotal: 112ms\tremaining: 62.4ms\n",
      "84:\tlearn: 16.2482832\ttotal: 113ms\tremaining: 61ms\n",
      "85:\tlearn: 16.2084956\ttotal: 114ms\tremaining: 59.7ms\n",
      "86:\tlearn: 16.1801553\ttotal: 115ms\tremaining: 58.3ms\n",
      "87:\tlearn: 16.1405432\ttotal: 117ms\tremaining: 57ms\n",
      "88:\tlearn: 16.0481903\ttotal: 118ms\tremaining: 55.9ms\n",
      "89:\tlearn: 15.9657735\ttotal: 120ms\tremaining: 54.6ms\n",
      "90:\tlearn: 15.8870775\ttotal: 121ms\tremaining: 53.2ms\n",
      "91:\tlearn: 15.8284557\ttotal: 122ms\tremaining: 51.9ms\n",
      "92:\tlearn: 15.8004385\ttotal: 124ms\tremaining: 50.6ms\n",
      "93:\tlearn: 15.7667295\ttotal: 125ms\tremaining: 49.2ms\n",
      "94:\tlearn: 15.7015409\ttotal: 127ms\tremaining: 47.9ms\n",
      "95:\tlearn: 15.6598252\ttotal: 128ms\tremaining: 46.6ms\n",
      "96:\tlearn: 15.6360333\ttotal: 129ms\tremaining: 45.3ms\n",
      "97:\tlearn: 15.5747597\ttotal: 130ms\tremaining: 43.9ms\n",
      "98:\tlearn: 15.5417557\ttotal: 132ms\tremaining: 42.6ms\n",
      "99:\tlearn: 15.5033412\ttotal: 133ms\tremaining: 41.3ms\n",
      "100:\tlearn: 15.4660673\ttotal: 134ms\tremaining: 39.9ms\n",
      "101:\tlearn: 15.4416894\ttotal: 136ms\tremaining: 38.6ms\n",
      "102:\tlearn: 15.3956180\ttotal: 137ms\tremaining: 37.3ms\n",
      "103:\tlearn: 15.3637120\ttotal: 138ms\tremaining: 35.9ms\n",
      "104:\tlearn: 15.3253121\ttotal: 140ms\tremaining: 34.6ms\n",
      "105:\tlearn: 15.2851465\ttotal: 141ms\tremaining: 33.2ms\n",
      "106:\tlearn: 15.2519859\ttotal: 142ms\tremaining: 31.9ms\n",
      "107:\tlearn: 15.2014109\ttotal: 143ms\tremaining: 30.6ms\n",
      "108:\tlearn: 15.1858545\ttotal: 145ms\tremaining: 29.2ms\n",
      "109:\tlearn: 15.1112940\ttotal: 146ms\tremaining: 27.9ms\n",
      "110:\tlearn: 15.0854907\ttotal: 147ms\tremaining: 26.5ms\n",
      "111:\tlearn: 15.0339786\ttotal: 149ms\tremaining: 25.2ms\n",
      "112:\tlearn: 14.9827452\ttotal: 150ms\tremaining: 23.9ms\n",
      "113:\tlearn: 14.9600776\ttotal: 152ms\tremaining: 22.6ms\n",
      "114:\tlearn: 14.9084006\ttotal: 153ms\tremaining: 21.3ms\n",
      "115:\tlearn: 14.8426747\ttotal: 154ms\tremaining: 19.9ms\n",
      "116:\tlearn: 14.7737830\ttotal: 156ms\tremaining: 18.6ms\n",
      "117:\tlearn: 14.7413402\ttotal: 157ms\tremaining: 17.3ms\n",
      "118:\tlearn: 14.6916411\ttotal: 158ms\tremaining: 15.9ms\n",
      "119:\tlearn: 14.6880709\ttotal: 159ms\tremaining: 14.6ms\n",
      "120:\tlearn: 14.6842706\ttotal: 161ms\tremaining: 13.3ms\n",
      "121:\tlearn: 14.6552953\ttotal: 162ms\tremaining: 11.9ms\n",
      "122:\tlearn: 14.6458074\ttotal: 163ms\tremaining: 10.6ms\n",
      "123:\tlearn: 14.6095475\ttotal: 164ms\tremaining: 9.28ms\n",
      "124:\tlearn: 14.5887569\ttotal: 166ms\tremaining: 7.96ms\n",
      "125:\tlearn: 14.5730047\ttotal: 167ms\tremaining: 6.63ms\n",
      "126:\tlearn: 14.5428597\ttotal: 168ms\tremaining: 5.3ms\n",
      "127:\tlearn: 14.5178721\ttotal: 170ms\tremaining: 3.98ms\n",
      "128:\tlearn: 14.5019195\ttotal: 171ms\tremaining: 2.65ms\n",
      "129:\tlearn: 14.4952027\ttotal: 172ms\tremaining: 1.33ms\n",
      "130:\tlearn: 14.4474747\ttotal: 174ms\tremaining: 0us\n",
      "Learning rate set to 0.258184\n",
      "0:\tlearn: 31.8588674\ttotal: 1.87ms\tremaining: 243ms\n",
      "1:\tlearn: 29.1488557\ttotal: 3.69ms\tremaining: 238ms\n",
      "2:\tlearn: 27.2665898\ttotal: 5.36ms\tremaining: 229ms\n",
      "3:\tlearn: 26.3338288\ttotal: 7.03ms\tremaining: 223ms\n",
      "4:\tlearn: 25.3235380\ttotal: 8.6ms\tremaining: 217ms\n",
      "5:\tlearn: 24.7840538\ttotal: 10.3ms\tremaining: 215ms\n",
      "6:\tlearn: 24.4923026\ttotal: 12.6ms\tremaining: 223ms\n",
      "7:\tlearn: 24.1043166\ttotal: 14.1ms\tremaining: 217ms\n",
      "8:\tlearn: 23.6207362\ttotal: 15.7ms\tremaining: 212ms\n",
      "9:\tlearn: 23.2834547\ttotal: 17.2ms\tremaining: 209ms\n",
      "10:\tlearn: 23.0656844\ttotal: 18.8ms\tremaining: 205ms\n",
      "11:\tlearn: 22.9491650\ttotal: 20.6ms\tremaining: 205ms\n",
      "12:\tlearn: 22.6256879\ttotal: 22.1ms\tremaining: 201ms\n",
      "13:\tlearn: 22.4207786\ttotal: 23.7ms\tremaining: 198ms\n",
      "14:\tlearn: 22.2190984\ttotal: 25.3ms\tremaining: 195ms\n",
      "15:\tlearn: 22.1344946\ttotal: 26.8ms\tremaining: 192ms\n",
      "16:\tlearn: 21.9836029\ttotal: 28.3ms\tremaining: 189ms\n",
      "17:\tlearn: 21.8434756\ttotal: 29.7ms\tremaining: 187ms\n",
      "18:\tlearn: 21.6693467\ttotal: 31.4ms\tremaining: 185ms\n",
      "19:\tlearn: 21.5887490\ttotal: 33.3ms\tremaining: 185ms\n",
      "20:\tlearn: 21.4742743\ttotal: 34.9ms\tremaining: 183ms\n",
      "21:\tlearn: 21.3432235\ttotal: 36.6ms\tremaining: 181ms\n",
      "22:\tlearn: 21.2391828\ttotal: 38.1ms\tremaining: 179ms\n",
      "23:\tlearn: 21.0789557\ttotal: 40.2ms\tremaining: 179ms\n",
      "24:\tlearn: 21.0227336\ttotal: 41.7ms\tremaining: 177ms\n",
      "25:\tlearn: 20.8895858\ttotal: 43.6ms\tremaining: 176ms\n",
      "26:\tlearn: 20.8198485\ttotal: 45.1ms\tremaining: 174ms\n",
      "27:\tlearn: 20.5918967\ttotal: 46.7ms\tremaining: 172ms\n",
      "28:\tlearn: 20.5457518\ttotal: 48.2ms\tremaining: 169ms\n",
      "29:\tlearn: 20.3801706\ttotal: 49.7ms\tremaining: 167ms\n",
      "30:\tlearn: 20.3170130\ttotal: 51.2ms\tremaining: 165ms\n",
      "31:\tlearn: 20.2236994\ttotal: 53.3ms\tremaining: 165ms\n",
      "32:\tlearn: 20.1190137\ttotal: 55.5ms\tremaining: 165ms\n",
      "33:\tlearn: 20.0711568\ttotal: 57.8ms\tremaining: 165ms\n",
      "34:\tlearn: 20.0183567\ttotal: 60.3ms\tremaining: 165ms\n",
      "35:\tlearn: 19.8700588\ttotal: 62.6ms\tremaining: 165ms\n",
      "36:\tlearn: 19.7595438\ttotal: 64.2ms\tremaining: 163ms\n",
      "37:\tlearn: 19.6873190\ttotal: 65.8ms\tremaining: 161ms\n",
      "38:\tlearn: 19.5774286\ttotal: 67.3ms\tremaining: 159ms\n",
      "39:\tlearn: 19.5126181\ttotal: 68.8ms\tremaining: 156ms\n",
      "40:\tlearn: 19.4070270\ttotal: 70.9ms\tremaining: 156ms\n",
      "41:\tlearn: 19.3304846\ttotal: 72.6ms\tremaining: 154ms\n",
      "42:\tlearn: 19.2952639\ttotal: 74.3ms\tremaining: 152ms\n",
      "43:\tlearn: 19.1774485\ttotal: 75.8ms\tremaining: 150ms\n",
      "44:\tlearn: 19.1463218\ttotal: 77.7ms\tremaining: 148ms\n",
      "45:\tlearn: 19.1310981\ttotal: 79.2ms\tremaining: 146ms\n",
      "46:\tlearn: 19.0437644\ttotal: 81.9ms\tremaining: 146ms\n",
      "47:\tlearn: 18.9512496\ttotal: 83.6ms\tremaining: 144ms\n",
      "48:\tlearn: 18.8553327\ttotal: 85.1ms\tremaining: 142ms\n",
      "49:\tlearn: 18.7979611\ttotal: 86.7ms\tremaining: 140ms\n",
      "50:\tlearn: 18.6915238\ttotal: 88.5ms\tremaining: 139ms\n",
      "51:\tlearn: 18.6342850\ttotal: 90ms\tremaining: 137ms\n",
      "52:\tlearn: 18.5796493\ttotal: 91.5ms\tremaining: 135ms\n",
      "53:\tlearn: 18.4330936\ttotal: 93.1ms\tremaining: 133ms\n",
      "54:\tlearn: 18.4025529\ttotal: 94.5ms\tremaining: 131ms\n",
      "55:\tlearn: 18.3324105\ttotal: 96ms\tremaining: 129ms\n",
      "56:\tlearn: 18.2726814\ttotal: 97.5ms\tremaining: 127ms\n",
      "57:\tlearn: 18.1856642\ttotal: 99ms\tremaining: 125ms\n",
      "58:\tlearn: 18.1561046\ttotal: 100ms\tremaining: 123ms\n",
      "59:\tlearn: 18.0655673\ttotal: 102ms\tremaining: 121ms\n",
      "60:\tlearn: 18.0465793\ttotal: 104ms\tremaining: 120ms\n",
      "61:\tlearn: 17.9903329\ttotal: 106ms\tremaining: 118ms\n",
      "62:\tlearn: 17.9035300\ttotal: 108ms\tremaining: 117ms\n",
      "63:\tlearn: 17.8731255\ttotal: 110ms\tremaining: 115ms\n",
      "64:\tlearn: 17.8236027\ttotal: 112ms\tremaining: 114ms\n",
      "65:\tlearn: 17.8141767\ttotal: 114ms\tremaining: 112ms\n",
      "66:\tlearn: 17.7682241\ttotal: 116ms\tremaining: 111ms\n",
      "67:\tlearn: 17.6717393\ttotal: 118ms\tremaining: 109ms\n",
      "68:\tlearn: 17.5913460\ttotal: 120ms\tremaining: 108ms\n",
      "69:\tlearn: 17.5680379\ttotal: 121ms\tremaining: 106ms\n",
      "70:\tlearn: 17.4911221\ttotal: 123ms\tremaining: 104ms\n",
      "71:\tlearn: 17.4459194\ttotal: 125ms\tremaining: 102ms\n",
      "72:\tlearn: 17.4133574\ttotal: 127ms\tremaining: 101ms\n",
      "73:\tlearn: 17.4086972\ttotal: 129ms\tremaining: 99ms\n",
      "74:\tlearn: 17.3305104\ttotal: 131ms\tremaining: 97.7ms\n",
      "75:\tlearn: 17.3260754\ttotal: 133ms\tremaining: 95.9ms\n",
      "76:\tlearn: 17.3219802\ttotal: 134ms\tremaining: 94ms\n",
      "77:\tlearn: 17.3179036\ttotal: 136ms\tremaining: 92.1ms\n",
      "78:\tlearn: 17.2931173\ttotal: 137ms\tremaining: 90.4ms\n",
      "79:\tlearn: 17.2762668\ttotal: 139ms\tremaining: 88.6ms\n",
      "80:\tlearn: 17.2064355\ttotal: 141ms\tremaining: 86.8ms\n",
      "81:\tlearn: 17.1558211\ttotal: 143ms\tremaining: 85.3ms\n",
      "82:\tlearn: 17.1469475\ttotal: 144ms\tremaining: 83.4ms\n",
      "83:\tlearn: 17.1135836\ttotal: 146ms\tremaining: 81.5ms\n",
      "84:\tlearn: 17.0864235\ttotal: 147ms\tremaining: 79.7ms\n",
      "85:\tlearn: 17.0286067\ttotal: 149ms\tremaining: 77.9ms\n",
      "86:\tlearn: 17.0253203\ttotal: 151ms\tremaining: 76.2ms\n",
      "87:\tlearn: 17.0114015\ttotal: 152ms\tremaining: 74.4ms\n",
      "88:\tlearn: 16.9717648\ttotal: 154ms\tremaining: 72.6ms\n",
      "89:\tlearn: 16.9307703\ttotal: 156ms\tremaining: 70.8ms\n",
      "90:\tlearn: 16.9266588\ttotal: 157ms\tremaining: 69ms\n",
      "91:\tlearn: 16.8629921\ttotal: 159ms\tremaining: 67.4ms\n",
      "92:\tlearn: 16.8054767\ttotal: 160ms\tremaining: 65.6ms\n",
      "93:\tlearn: 16.7842026\ttotal: 162ms\tremaining: 63.8ms\n",
      "94:\tlearn: 16.7579300\ttotal: 164ms\tremaining: 62ms\n",
      "95:\tlearn: 16.6755137\ttotal: 165ms\tremaining: 60.2ms\n",
      "96:\tlearn: 16.6362131\ttotal: 167ms\tremaining: 58.4ms\n",
      "97:\tlearn: 16.5909396\ttotal: 168ms\tremaining: 56.7ms\n",
      "98:\tlearn: 16.5532179\ttotal: 170ms\tremaining: 55ms\n",
      "99:\tlearn: 16.5223927\ttotal: 172ms\tremaining: 53.4ms\n",
      "100:\tlearn: 16.4844715\ttotal: 174ms\tremaining: 51.6ms\n",
      "101:\tlearn: 16.4474048\ttotal: 175ms\tremaining: 49.8ms\n",
      "102:\tlearn: 16.4180242\ttotal: 177ms\tremaining: 48ms\n",
      "103:\tlearn: 16.3994784\ttotal: 178ms\tremaining: 46.2ms\n",
      "104:\tlearn: 16.3593433\ttotal: 180ms\tremaining: 44.5ms\n",
      "105:\tlearn: 16.3411410\ttotal: 181ms\tremaining: 42.7ms\n",
      "106:\tlearn: 16.3293942\ttotal: 182ms\tremaining: 40.9ms\n",
      "107:\tlearn: 16.2778965\ttotal: 184ms\tremaining: 39.1ms\n",
      "108:\tlearn: 16.2346293\ttotal: 185ms\tremaining: 37.4ms\n",
      "109:\tlearn: 16.2060245\ttotal: 187ms\tremaining: 35.6ms\n",
      "110:\tlearn: 16.1936715\ttotal: 188ms\tremaining: 33.9ms\n",
      "111:\tlearn: 16.1700520\ttotal: 190ms\tremaining: 32.2ms\n",
      "112:\tlearn: 16.1335351\ttotal: 191ms\tremaining: 30.4ms\n",
      "113:\tlearn: 16.0902885\ttotal: 193ms\tremaining: 28.7ms\n",
      "114:\tlearn: 16.0755216\ttotal: 194ms\tremaining: 27ms\n",
      "115:\tlearn: 16.0533786\ttotal: 195ms\tremaining: 25.3ms\n",
      "116:\tlearn: 15.9984993\ttotal: 197ms\tremaining: 23.6ms\n",
      "117:\tlearn: 15.9565910\ttotal: 198ms\tremaining: 21.9ms\n",
      "118:\tlearn: 15.9542186\ttotal: 200ms\tremaining: 20.1ms\n",
      "119:\tlearn: 15.8924539\ttotal: 201ms\tremaining: 18.4ms\n",
      "120:\tlearn: 15.8478770\ttotal: 203ms\tremaining: 16.8ms\n",
      "121:\tlearn: 15.8179881\ttotal: 204ms\tremaining: 15.1ms\n",
      "122:\tlearn: 15.7897606\ttotal: 206ms\tremaining: 13.4ms\n",
      "123:\tlearn: 15.7743123\ttotal: 208ms\tremaining: 11.7ms\n",
      "124:\tlearn: 15.7521154\ttotal: 209ms\tremaining: 10.1ms\n",
      "125:\tlearn: 15.7274381\ttotal: 211ms\tremaining: 8.37ms\n",
      "126:\tlearn: 15.6985773\ttotal: 212ms\tremaining: 6.69ms\n",
      "127:\tlearn: 15.6932529\ttotal: 214ms\tremaining: 5.01ms\n",
      "128:\tlearn: 15.6829059\ttotal: 215ms\tremaining: 3.33ms\n",
      "129:\tlearn: 15.6216994\ttotal: 217ms\tremaining: 1.67ms\n",
      "130:\tlearn: 15.5929326\ttotal: 218ms\tremaining: 0us\n",
      "Learning rate set to 0.199093\n",
      "0:\tlearn: 27.0518249\ttotal: 1.04ms\tremaining: 136ms\n",
      "1:\tlearn: 25.0736812\ttotal: 2.15ms\tremaining: 140ms\n",
      "2:\tlearn: 23.4230042\ttotal: 3.14ms\tremaining: 135ms\n",
      "3:\tlearn: 21.9007570\ttotal: 4.04ms\tremaining: 129ms\n",
      "4:\tlearn: 20.9882595\ttotal: 4.92ms\tremaining: 125ms\n",
      "5:\tlearn: 20.4081376\ttotal: 5.83ms\tremaining: 122ms\n",
      "6:\tlearn: 19.9946874\ttotal: 6.75ms\tremaining: 121ms\n",
      "7:\tlearn: 19.3440313\ttotal: 7.66ms\tremaining: 119ms\n",
      "8:\tlearn: 18.7966955\ttotal: 8.51ms\tremaining: 116ms\n",
      "9:\tlearn: 18.3485581\ttotal: 9.35ms\tremaining: 114ms\n",
      "10:\tlearn: 17.9671014\ttotal: 10.2ms\tremaining: 113ms\n",
      "11:\tlearn: 17.7155573\ttotal: 11.2ms\tremaining: 112ms\n",
      "12:\tlearn: 17.3909097\ttotal: 12.1ms\tremaining: 110ms\n",
      "13:\tlearn: 17.2542409\ttotal: 12.9ms\tremaining: 109ms\n",
      "14:\tlearn: 17.0480689\ttotal: 13.8ms\tremaining: 108ms\n",
      "15:\tlearn: 16.9283039\ttotal: 14.7ms\tremaining: 106ms\n",
      "16:\tlearn: 16.7204419\ttotal: 15.6ms\tremaining: 105ms\n",
      "17:\tlearn: 16.4820658\ttotal: 16.5ms\tremaining: 104ms\n",
      "18:\tlearn: 16.2864661\ttotal: 17.3ms\tremaining: 103ms\n",
      "19:\tlearn: 16.1180593\ttotal: 18.2ms\tremaining: 102ms\n",
      "20:\tlearn: 15.9776926\ttotal: 19.1ms\tremaining: 101ms\n",
      "21:\tlearn: 15.8832741\ttotal: 20ms\tremaining: 100ms\n",
      "22:\tlearn: 15.7992388\ttotal: 20.9ms\tremaining: 98.9ms\n",
      "23:\tlearn: 15.6910095\ttotal: 21.8ms\tremaining: 98ms\n",
      "24:\tlearn: 15.6145930\ttotal: 22.7ms\tremaining: 97.1ms\n",
      "25:\tlearn: 15.4949542\ttotal: 23.5ms\tremaining: 96ms\n",
      "26:\tlearn: 15.3801919\ttotal: 24.5ms\tremaining: 95.1ms\n",
      "27:\tlearn: 15.2404986\ttotal: 25.3ms\tremaining: 94.1ms\n",
      "28:\tlearn: 15.1198675\ttotal: 26.3ms\tremaining: 93.3ms\n",
      "29:\tlearn: 14.9710155\ttotal: 27.2ms\tremaining: 92.3ms\n",
      "30:\tlearn: 14.8553446\ttotal: 28ms\tremaining: 91.3ms\n",
      "31:\tlearn: 14.7515042\ttotal: 28.9ms\tremaining: 90.4ms\n",
      "32:\tlearn: 14.6836554\ttotal: 29.8ms\tremaining: 89.4ms\n",
      "33:\tlearn: 14.6049657\ttotal: 30.7ms\tremaining: 88.5ms\n",
      "34:\tlearn: 14.4721549\ttotal: 31.7ms\tremaining: 87.9ms\n",
      "35:\tlearn: 14.2852347\ttotal: 32.6ms\tremaining: 87ms\n",
      "36:\tlearn: 14.1618266\ttotal: 33.5ms\tremaining: 86ms\n",
      "37:\tlearn: 14.0655333\ttotal: 34.4ms\tremaining: 85ms\n",
      "38:\tlearn: 13.9569482\ttotal: 35.3ms\tremaining: 84.1ms\n",
      "39:\tlearn: 13.8189168\ttotal: 36.1ms\tremaining: 83.1ms\n",
      "40:\tlearn: 13.7446641\ttotal: 37ms\tremaining: 82ms\n",
      "41:\tlearn: 13.5386489\ttotal: 37.8ms\tremaining: 81.1ms\n",
      "42:\tlearn: 13.3988846\ttotal: 38.7ms\tremaining: 80.2ms\n",
      "43:\tlearn: 13.3254209\ttotal: 39.6ms\tremaining: 79.3ms\n",
      "44:\tlearn: 13.2919686\ttotal: 40.5ms\tremaining: 78.3ms\n",
      "45:\tlearn: 13.2660952\ttotal: 41.4ms\tremaining: 77.3ms\n",
      "46:\tlearn: 13.1814714\ttotal: 42.3ms\tremaining: 76.4ms\n",
      "47:\tlearn: 13.0991956\ttotal: 43.2ms\tremaining: 75.5ms\n",
      "48:\tlearn: 13.0528448\ttotal: 44ms\tremaining: 74.6ms\n",
      "49:\tlearn: 13.0428183\ttotal: 44.9ms\tremaining: 73.7ms\n",
      "50:\tlearn: 12.9866415\ttotal: 45.8ms\tremaining: 72.8ms\n",
      "51:\tlearn: 12.9012465\ttotal: 46.7ms\tremaining: 71.9ms\n",
      "52:\tlearn: 12.8942606\ttotal: 47.6ms\tremaining: 71ms\n",
      "53:\tlearn: 12.8404052\ttotal: 48.5ms\tremaining: 70.1ms\n",
      "54:\tlearn: 12.8278489\ttotal: 49.4ms\tremaining: 69.2ms\n",
      "55:\tlearn: 12.6336964\ttotal: 50.5ms\tremaining: 68.6ms\n",
      "56:\tlearn: 12.6284405\ttotal: 51.5ms\tremaining: 67.7ms\n",
      "57:\tlearn: 12.5136699\ttotal: 52.4ms\tremaining: 66.8ms\n",
      "58:\tlearn: 12.3980959\ttotal: 53.3ms\tremaining: 66ms\n",
      "59:\tlearn: 12.3938156\ttotal: 54.2ms\tremaining: 65.1ms\n",
      "60:\tlearn: 12.2837094\ttotal: 55ms\tremaining: 64.1ms\n",
      "61:\tlearn: 12.2455156\ttotal: 55.9ms\tremaining: 63.2ms\n",
      "62:\tlearn: 12.1680183\ttotal: 56.8ms\tremaining: 62.2ms\n",
      "63:\tlearn: 12.0238790\ttotal: 57.7ms\tremaining: 61.3ms\n",
      "64:\tlearn: 11.9488854\ttotal: 58.7ms\tremaining: 60.5ms\n",
      "65:\tlearn: 11.9308069\ttotal: 59.6ms\tremaining: 59.6ms\n",
      "66:\tlearn: 11.7947051\ttotal: 60.6ms\tremaining: 58.8ms\n",
      "67:\tlearn: 11.7310681\ttotal: 61.6ms\tremaining: 58ms\n",
      "68:\tlearn: 11.7001245\ttotal: 62.4ms\tremaining: 57ms\n",
      "69:\tlearn: 11.5437842\ttotal: 63.3ms\tremaining: 56.1ms\n",
      "70:\tlearn: 11.4885263\ttotal: 64.1ms\tremaining: 55ms\n",
      "71:\tlearn: 11.3460575\ttotal: 64.9ms\tremaining: 54.1ms\n",
      "72:\tlearn: 11.2781177\ttotal: 65.7ms\tremaining: 53.1ms\n",
      "73:\tlearn: 11.1599652\ttotal: 66.6ms\tremaining: 52.2ms\n",
      "74:\tlearn: 11.1229381\ttotal: 67.5ms\tremaining: 51.3ms\n",
      "75:\tlearn: 11.0228958\ttotal: 68.4ms\tremaining: 50.4ms\n",
      "76:\tlearn: 10.9735202\ttotal: 69.2ms\tremaining: 49.4ms\n",
      "77:\tlearn: 10.8638659\ttotal: 70.1ms\tremaining: 48.6ms\n",
      "78:\tlearn: 10.7656565\ttotal: 71ms\tremaining: 47.6ms\n",
      "79:\tlearn: 10.6571400\ttotal: 71.8ms\tremaining: 46.7ms\n",
      "80:\tlearn: 10.6419314\ttotal: 72.6ms\tremaining: 45.7ms\n",
      "81:\tlearn: 10.5644226\ttotal: 73.5ms\tremaining: 44.8ms\n",
      "82:\tlearn: 10.5169521\ttotal: 74.5ms\tremaining: 44ms\n",
      "83:\tlearn: 10.4601238\ttotal: 75.4ms\tremaining: 43.1ms\n",
      "84:\tlearn: 10.3712127\ttotal: 76.3ms\tremaining: 42.2ms\n",
      "85:\tlearn: 10.3670813\ttotal: 77.1ms\tremaining: 41.2ms\n",
      "86:\tlearn: 10.3018992\ttotal: 77.9ms\tremaining: 40.3ms\n",
      "87:\tlearn: 10.2351737\ttotal: 78.6ms\tremaining: 39.3ms\n",
      "88:\tlearn: 10.2162233\ttotal: 79.7ms\tremaining: 38.5ms\n",
      "89:\tlearn: 10.1175819\ttotal: 80.6ms\tremaining: 37.6ms\n",
      "90:\tlearn: 10.1132373\ttotal: 81.4ms\tremaining: 36.7ms\n",
      "91:\tlearn: 10.0639954\ttotal: 82.2ms\tremaining: 35.7ms\n",
      "92:\tlearn: 10.0542730\ttotal: 83.1ms\tremaining: 34.9ms\n",
      "93:\tlearn: 9.9424680\ttotal: 83.9ms\tremaining: 33.9ms\n",
      "94:\tlearn: 9.9117146\ttotal: 84.7ms\tremaining: 33ms\n",
      "95:\tlearn: 9.8613313\ttotal: 85.5ms\tremaining: 32.1ms\n",
      "96:\tlearn: 9.7750996\ttotal: 86.3ms\tremaining: 31.2ms\n",
      "97:\tlearn: 9.7205365\ttotal: 87.1ms\tremaining: 30.2ms\n",
      "98:\tlearn: 9.6765275\ttotal: 87.9ms\tremaining: 29.3ms\n",
      "99:\tlearn: 9.6227619\ttotal: 88.7ms\tremaining: 28.4ms\n",
      "100:\tlearn: 9.5115465\ttotal: 89.5ms\tremaining: 27.5ms\n",
      "101:\tlearn: 9.5003467\ttotal: 90.3ms\tremaining: 26.6ms\n",
      "102:\tlearn: 9.4862688\ttotal: 91.1ms\tremaining: 25.7ms\n",
      "103:\tlearn: 9.3878454\ttotal: 91.9ms\tremaining: 24.7ms\n",
      "104:\tlearn: 9.3486801\ttotal: 92.7ms\tremaining: 23.8ms\n",
      "105:\tlearn: 9.2644320\ttotal: 93.5ms\tremaining: 22.9ms\n",
      "106:\tlearn: 9.2148039\ttotal: 94.3ms\tremaining: 22ms\n",
      "107:\tlearn: 9.1296042\ttotal: 95.1ms\tremaining: 21.1ms\n",
      "108:\tlearn: 9.0162063\ttotal: 96ms\tremaining: 20.3ms\n",
      "109:\tlearn: 8.9352417\ttotal: 96.8ms\tremaining: 19.4ms\n",
      "110:\tlearn: 8.8818306\ttotal: 97.6ms\tremaining: 18.5ms\n",
      "111:\tlearn: 8.8625467\ttotal: 98.5ms\tremaining: 17.6ms\n",
      "112:\tlearn: 8.7944562\ttotal: 99.4ms\tremaining: 16.7ms\n",
      "113:\tlearn: 8.7217580\ttotal: 100ms\tremaining: 15.8ms\n",
      "114:\tlearn: 8.7190341\ttotal: 101ms\tremaining: 14.9ms\n",
      "115:\tlearn: 8.6621810\ttotal: 102ms\tremaining: 14.1ms\n",
      "116:\tlearn: 8.6266140\ttotal: 103ms\tremaining: 13.2ms\n",
      "117:\tlearn: 8.5648871\ttotal: 104ms\tremaining: 12.3ms\n",
      "118:\tlearn: 8.5520809\ttotal: 104ms\tremaining: 11.4ms\n",
      "119:\tlearn: 8.4996826\ttotal: 105ms\tremaining: 10.5ms\n",
      "120:\tlearn: 8.4430118\ttotal: 106ms\tremaining: 9.65ms\n",
      "121:\tlearn: 8.4292099\ttotal: 107ms\tremaining: 8.78ms\n",
      "122:\tlearn: 8.3885883\ttotal: 108ms\tremaining: 7.89ms\n",
      "123:\tlearn: 8.3342670\ttotal: 109ms\tremaining: 7.01ms\n",
      "124:\tlearn: 8.2841092\ttotal: 109ms\tremaining: 6.13ms\n",
      "125:\tlearn: 8.2266956\ttotal: 110ms\tremaining: 5.25ms\n",
      "126:\tlearn: 8.2069737\ttotal: 111ms\tremaining: 4.38ms\n",
      "127:\tlearn: 8.1675163\ttotal: 112ms\tremaining: 3.51ms\n",
      "128:\tlearn: 8.1218234\ttotal: 113ms\tremaining: 2.63ms\n",
      "129:\tlearn: 8.1054190\ttotal: 114ms\tremaining: 1.75ms\n",
      "130:\tlearn: 8.0717282\ttotal: 115ms\tremaining: 875us\n",
      "131:\tlearn: 8.0297326\ttotal: 116ms\tremaining: 0us\n",
      "Learning rate set to 0.222056\n",
      "0:\tlearn: 27.9019720\ttotal: 1.34ms\tremaining: 175ms\n",
      "1:\tlearn: 26.1251623\ttotal: 2.56ms\tremaining: 167ms\n",
      "2:\tlearn: 24.3943340\ttotal: 3.64ms\tremaining: 156ms\n",
      "3:\tlearn: 23.2732818\ttotal: 4.71ms\tremaining: 151ms\n",
      "4:\tlearn: 22.3688633\ttotal: 5.72ms\tremaining: 145ms\n",
      "5:\tlearn: 21.7299110\ttotal: 6.7ms\tremaining: 141ms\n",
      "6:\tlearn: 21.2183604\ttotal: 7.73ms\tremaining: 138ms\n",
      "7:\tlearn: 20.6442643\ttotal: 8.73ms\tremaining: 135ms\n",
      "8:\tlearn: 20.3823302\ttotal: 9.74ms\tremaining: 133ms\n",
      "9:\tlearn: 20.1241329\ttotal: 10.7ms\tremaining: 131ms\n",
      "10:\tlearn: 19.7730874\ttotal: 11.7ms\tremaining: 129ms\n",
      "11:\tlearn: 19.5073202\ttotal: 12.8ms\tremaining: 128ms\n",
      "12:\tlearn: 19.2552004\ttotal: 13.8ms\tremaining: 127ms\n",
      "13:\tlearn: 19.0985896\ttotal: 14.8ms\tremaining: 125ms\n",
      "14:\tlearn: 18.9283226\ttotal: 15.9ms\tremaining: 124ms\n",
      "15:\tlearn: 18.7673593\ttotal: 17ms\tremaining: 123ms\n",
      "16:\tlearn: 18.5282251\ttotal: 17.9ms\tremaining: 121ms\n",
      "17:\tlearn: 18.3465046\ttotal: 19ms\tremaining: 120ms\n",
      "18:\tlearn: 18.1630205\ttotal: 20ms\tremaining: 119ms\n",
      "19:\tlearn: 17.9506105\ttotal: 21.1ms\tremaining: 118ms\n",
      "20:\tlearn: 17.8065936\ttotal: 22.1ms\tremaining: 117ms\n",
      "21:\tlearn: 17.7410733\ttotal: 23.1ms\tremaining: 116ms\n",
      "22:\tlearn: 17.7047492\ttotal: 24.1ms\tremaining: 114ms\n",
      "23:\tlearn: 17.6126360\ttotal: 25.1ms\tremaining: 113ms\n",
      "24:\tlearn: 17.4694103\ttotal: 26.1ms\tremaining: 112ms\n",
      "25:\tlearn: 17.3575578\ttotal: 27.1ms\tremaining: 111ms\n",
      "26:\tlearn: 17.2922050\ttotal: 28.1ms\tremaining: 109ms\n",
      "27:\tlearn: 17.1980427\ttotal: 29.1ms\tremaining: 108ms\n",
      "28:\tlearn: 17.1203083\ttotal: 30.1ms\tremaining: 107ms\n",
      "29:\tlearn: 16.9926705\ttotal: 31.1ms\tremaining: 106ms\n",
      "30:\tlearn: 16.8634563\ttotal: 32.1ms\tremaining: 104ms\n",
      "31:\tlearn: 16.8033689\ttotal: 33ms\tremaining: 103ms\n",
      "32:\tlearn: 16.6831452\ttotal: 34ms\tremaining: 102ms\n",
      "33:\tlearn: 16.6343572\ttotal: 35.1ms\tremaining: 101ms\n",
      "34:\tlearn: 16.5190721\ttotal: 36.1ms\tremaining: 100ms\n",
      "35:\tlearn: 16.3475623\ttotal: 37.1ms\tremaining: 99ms\n",
      "36:\tlearn: 16.3322697\ttotal: 38.7ms\tremaining: 99.4ms\n",
      "37:\tlearn: 16.2137887\ttotal: 40.3ms\tremaining: 99.7ms\n",
      "38:\tlearn: 16.1422809\ttotal: 41.5ms\tremaining: 99ms\n",
      "39:\tlearn: 16.1040694\ttotal: 42.5ms\tremaining: 97.7ms\n",
      "40:\tlearn: 16.0652208\ttotal: 43.5ms\tremaining: 96.5ms\n",
      "41:\tlearn: 15.9331102\ttotal: 44.6ms\tremaining: 95.6ms\n",
      "42:\tlearn: 15.8797832\ttotal: 46.2ms\tremaining: 95.7ms\n",
      "43:\tlearn: 15.7965556\ttotal: 47.9ms\tremaining: 95.8ms\n",
      "44:\tlearn: 15.7447899\ttotal: 48.9ms\tremaining: 94.6ms\n",
      "45:\tlearn: 15.6845614\ttotal: 49.9ms\tremaining: 93.3ms\n",
      "46:\tlearn: 15.6372378\ttotal: 50.9ms\tremaining: 92.1ms\n",
      "47:\tlearn: 15.4663920\ttotal: 51.9ms\tremaining: 90.9ms\n",
      "48:\tlearn: 15.4617228\ttotal: 52.9ms\tremaining: 89.7ms\n",
      "49:\tlearn: 15.4189470\ttotal: 54.3ms\tremaining: 89.1ms\n",
      "50:\tlearn: 15.3282025\ttotal: 55.9ms\tremaining: 88.8ms\n",
      "51:\tlearn: 15.2015375\ttotal: 57.6ms\tremaining: 88.6ms\n",
      "52:\tlearn: 15.1410000\ttotal: 58.7ms\tremaining: 87.5ms\n",
      "53:\tlearn: 15.0593946\ttotal: 59.7ms\tremaining: 86.2ms\n",
      "54:\tlearn: 15.0015285\ttotal: 60.7ms\tremaining: 85ms\n",
      "55:\tlearn: 14.8925434\ttotal: 61.7ms\tremaining: 83.7ms\n",
      "56:\tlearn: 14.8287596\ttotal: 62.8ms\tremaining: 82.6ms\n",
      "57:\tlearn: 14.7157461\ttotal: 63.9ms\tremaining: 81.5ms\n",
      "58:\tlearn: 14.7118265\ttotal: 64.8ms\tremaining: 80.2ms\n",
      "59:\tlearn: 14.6350331\ttotal: 65.8ms\tremaining: 79ms\n",
      "60:\tlearn: 14.4818794\ttotal: 67ms\tremaining: 78ms\n",
      "61:\tlearn: 14.3814580\ttotal: 68.1ms\tremaining: 76.8ms\n",
      "62:\tlearn: 14.2614154\ttotal: 69.1ms\tremaining: 75.6ms\n",
      "63:\tlearn: 14.1950158\ttotal: 70.1ms\tremaining: 74.5ms\n",
      "64:\tlearn: 14.1664017\ttotal: 71.1ms\tremaining: 73.3ms\n",
      "65:\tlearn: 14.0915608\ttotal: 72.1ms\tremaining: 72.1ms\n",
      "66:\tlearn: 14.0788445\ttotal: 73.2ms\tremaining: 71ms\n",
      "67:\tlearn: 14.0701212\ttotal: 74.2ms\tremaining: 69.8ms\n",
      "68:\tlearn: 14.0661231\ttotal: 75.1ms\tremaining: 68.6ms\n",
      "69:\tlearn: 13.9928592\ttotal: 76.1ms\tremaining: 67.4ms\n",
      "70:\tlearn: 13.9171407\ttotal: 77.1ms\tremaining: 66.2ms\n",
      "71:\tlearn: 13.8946814\ttotal: 78.1ms\tremaining: 65.1ms\n",
      "72:\tlearn: 13.8429927\ttotal: 79.1ms\tremaining: 63.9ms\n",
      "73:\tlearn: 13.7734726\ttotal: 80.1ms\tremaining: 62.8ms\n",
      "74:\tlearn: 13.7677844\ttotal: 81.1ms\tremaining: 61.6ms\n",
      "75:\tlearn: 13.7173564\ttotal: 82.1ms\tremaining: 60.5ms\n",
      "76:\tlearn: 13.6624925\ttotal: 83ms\tremaining: 59.3ms\n",
      "77:\tlearn: 13.5522166\ttotal: 84.1ms\tremaining: 58.2ms\n",
      "78:\tlearn: 13.4456936\ttotal: 85ms\tremaining: 57.1ms\n",
      "79:\tlearn: 13.4160372\ttotal: 86ms\tremaining: 55.9ms\n",
      "80:\tlearn: 13.3733281\ttotal: 86.9ms\tremaining: 54.7ms\n",
      "81:\tlearn: 13.3077693\ttotal: 88ms\tremaining: 53.6ms\n",
      "82:\tlearn: 13.2249227\ttotal: 88.9ms\tremaining: 52.5ms\n",
      "83:\tlearn: 13.1250271\ttotal: 89.9ms\tremaining: 51.4ms\n",
      "84:\tlearn: 13.0667357\ttotal: 90.9ms\tremaining: 50.3ms\n",
      "85:\tlearn: 13.0041126\ttotal: 91.9ms\tremaining: 49.2ms\n",
      "86:\tlearn: 12.9119480\ttotal: 92.9ms\tremaining: 48ms\n",
      "87:\tlearn: 12.8267620\ttotal: 93.8ms\tremaining: 46.9ms\n",
      "88:\tlearn: 12.7775340\ttotal: 94.8ms\tremaining: 45.8ms\n",
      "89:\tlearn: 12.7079327\ttotal: 95.7ms\tremaining: 44.7ms\n",
      "90:\tlearn: 12.6571861\ttotal: 96.7ms\tremaining: 43.6ms\n",
      "91:\tlearn: 12.6277427\ttotal: 97.6ms\tremaining: 42.5ms\n",
      "92:\tlearn: 12.5759500\ttotal: 98.6ms\tremaining: 41.3ms\n",
      "93:\tlearn: 12.4894773\ttotal: 99.6ms\tremaining: 40.3ms\n",
      "94:\tlearn: 12.4429838\ttotal: 101ms\tremaining: 39.2ms\n",
      "95:\tlearn: 12.4409171\ttotal: 101ms\tremaining: 38.1ms\n",
      "96:\tlearn: 12.4069436\ttotal: 102ms\tremaining: 37ms\n",
      "97:\tlearn: 12.3582425\ttotal: 103ms\tremaining: 35.9ms\n",
      "98:\tlearn: 12.2827832\ttotal: 104ms\tremaining: 34.8ms\n",
      "99:\tlearn: 12.2460662\ttotal: 106ms\tremaining: 33.8ms\n",
      "100:\tlearn: 12.2252135\ttotal: 107ms\tremaining: 32.7ms\n",
      "101:\tlearn: 12.1944371\ttotal: 108ms\tremaining: 31.6ms\n",
      "102:\tlearn: 12.1391916\ttotal: 109ms\tremaining: 30.6ms\n",
      "103:\tlearn: 12.1366162\ttotal: 110ms\tremaining: 29.5ms\n",
      "104:\tlearn: 12.0642150\ttotal: 111ms\tremaining: 28.4ms\n",
      "105:\tlearn: 12.0461980\ttotal: 112ms\tremaining: 27.4ms\n",
      "106:\tlearn: 11.9308984\ttotal: 113ms\tremaining: 26.3ms\n",
      "107:\tlearn: 11.8567312\ttotal: 114ms\tremaining: 25.2ms\n",
      "108:\tlearn: 11.8546648\ttotal: 115ms\tremaining: 24.2ms\n",
      "109:\tlearn: 11.8518433\ttotal: 115ms\tremaining: 23.1ms\n",
      "110:\tlearn: 11.8501289\ttotal: 116ms\tremaining: 22ms\n",
      "111:\tlearn: 11.7899561\ttotal: 117ms\tremaining: 21ms\n",
      "112:\tlearn: 11.7558321\ttotal: 118ms\tremaining: 19.9ms\n",
      "113:\tlearn: 11.6879942\ttotal: 119ms\tremaining: 18.9ms\n",
      "114:\tlearn: 11.6357445\ttotal: 120ms\tremaining: 17.8ms\n",
      "115:\tlearn: 11.5946157\ttotal: 121ms\tremaining: 16.7ms\n",
      "116:\tlearn: 11.5437050\ttotal: 122ms\tremaining: 15.7ms\n",
      "117:\tlearn: 11.4722475\ttotal: 123ms\tremaining: 14.6ms\n",
      "118:\tlearn: 11.4207255\ttotal: 124ms\tremaining: 13.6ms\n",
      "119:\tlearn: 11.3418609\ttotal: 125ms\tremaining: 12.5ms\n",
      "120:\tlearn: 11.2617755\ttotal: 126ms\tremaining: 11.5ms\n",
      "121:\tlearn: 11.2067781\ttotal: 127ms\tremaining: 10.4ms\n",
      "122:\tlearn: 11.1916955\ttotal: 128ms\tremaining: 9.38ms\n",
      "123:\tlearn: 11.1283161\ttotal: 129ms\tremaining: 8.34ms\n",
      "124:\tlearn: 11.0879787\ttotal: 130ms\tremaining: 7.29ms\n",
      "125:\tlearn: 11.0430459\ttotal: 131ms\tremaining: 6.25ms\n",
      "126:\tlearn: 11.0044188\ttotal: 132ms\tremaining: 5.2ms\n",
      "127:\tlearn: 10.9265621\ttotal: 133ms\tremaining: 4.16ms\n",
      "128:\tlearn: 10.8692698\ttotal: 134ms\tremaining: 3.12ms\n",
      "129:\tlearn: 10.8227282\ttotal: 135ms\tremaining: 2.08ms\n",
      "130:\tlearn: 10.7595998\ttotal: 136ms\tremaining: 1.04ms\n",
      "131:\tlearn: 10.7396872\ttotal: 137ms\tremaining: 0us\n",
      "Learning rate set to 0.236719\n",
      "0:\tlearn: 29.2293123\ttotal: 1.46ms\tremaining: 191ms\n",
      "1:\tlearn: 26.9387808\ttotal: 2.96ms\tremaining: 192ms\n",
      "2:\tlearn: 25.4196976\ttotal: 4.17ms\tremaining: 179ms\n",
      "3:\tlearn: 24.3466306\ttotal: 5.43ms\tremaining: 174ms\n",
      "4:\tlearn: 23.6548126\ttotal: 6.61ms\tremaining: 168ms\n",
      "5:\tlearn: 23.0300765\ttotal: 7.86ms\tremaining: 165ms\n",
      "6:\tlearn: 22.6179452\ttotal: 9.07ms\tremaining: 162ms\n",
      "7:\tlearn: 22.2421882\ttotal: 10.3ms\tremaining: 159ms\n",
      "8:\tlearn: 21.8490968\ttotal: 11.4ms\tremaining: 156ms\n",
      "9:\tlearn: 21.5565243\ttotal: 12.6ms\tremaining: 154ms\n",
      "10:\tlearn: 21.3320552\ttotal: 13.8ms\tremaining: 152ms\n",
      "11:\tlearn: 21.2272528\ttotal: 14.9ms\tremaining: 149ms\n",
      "12:\tlearn: 20.8164896\ttotal: 16.1ms\tremaining: 147ms\n",
      "13:\tlearn: 20.6714985\ttotal: 17.2ms\tremaining: 145ms\n",
      "14:\tlearn: 20.4077985\ttotal: 18.4ms\tremaining: 144ms\n",
      "15:\tlearn: 20.3052187\ttotal: 19.6ms\tremaining: 142ms\n",
      "16:\tlearn: 20.1280738\ttotal: 20.7ms\tremaining: 140ms\n",
      "17:\tlearn: 19.9129942\ttotal: 21.9ms\tremaining: 139ms\n",
      "18:\tlearn: 19.7027183\ttotal: 23.1ms\tremaining: 137ms\n",
      "19:\tlearn: 19.6342570\ttotal: 24.2ms\tremaining: 135ms\n",
      "20:\tlearn: 19.5627790\ttotal: 25.3ms\tremaining: 134ms\n",
      "21:\tlearn: 19.4868094\ttotal: 26.6ms\tremaining: 133ms\n",
      "22:\tlearn: 19.4296050\ttotal: 27.7ms\tremaining: 131ms\n",
      "23:\tlearn: 19.2955972\ttotal: 28.9ms\tremaining: 130ms\n",
      "24:\tlearn: 19.1646524\ttotal: 30.1ms\tremaining: 129ms\n",
      "25:\tlearn: 18.9867484\ttotal: 31.3ms\tremaining: 127ms\n",
      "26:\tlearn: 18.8989641\ttotal: 32.4ms\tremaining: 126ms\n",
      "27:\tlearn: 18.8005987\ttotal: 33.5ms\tremaining: 125ms\n",
      "28:\tlearn: 18.7249549\ttotal: 34.8ms\tremaining: 124ms\n",
      "29:\tlearn: 18.5459585\ttotal: 36ms\tremaining: 122ms\n",
      "30:\tlearn: 18.4996330\ttotal: 37.2ms\tremaining: 121ms\n",
      "31:\tlearn: 18.3986675\ttotal: 38.5ms\tremaining: 120ms\n",
      "32:\tlearn: 18.3288162\ttotal: 39.7ms\tremaining: 119ms\n",
      "33:\tlearn: 18.1561127\ttotal: 40.9ms\tremaining: 118ms\n",
      "34:\tlearn: 18.0534321\ttotal: 42.1ms\tremaining: 117ms\n",
      "35:\tlearn: 17.8960977\ttotal: 43.2ms\tremaining: 115ms\n",
      "36:\tlearn: 17.8065077\ttotal: 44.4ms\tremaining: 114ms\n",
      "37:\tlearn: 17.7403533\ttotal: 45.6ms\tremaining: 113ms\n",
      "38:\tlearn: 17.6402569\ttotal: 46.9ms\tremaining: 112ms\n",
      "39:\tlearn: 17.6148492\ttotal: 48ms\tremaining: 110ms\n",
      "40:\tlearn: 17.6041047\ttotal: 49.1ms\tremaining: 109ms\n",
      "41:\tlearn: 17.5121647\ttotal: 50.3ms\tremaining: 108ms\n",
      "42:\tlearn: 17.4812445\ttotal: 51.5ms\tremaining: 107ms\n",
      "43:\tlearn: 17.3116818\ttotal: 52.7ms\tremaining: 105ms\n",
      "44:\tlearn: 17.2030947\ttotal: 53.8ms\tremaining: 104ms\n",
      "45:\tlearn: 17.1118110\ttotal: 55ms\tremaining: 103ms\n",
      "46:\tlearn: 17.0059987\ttotal: 56.2ms\tremaining: 102ms\n",
      "47:\tlearn: 16.8579892\ttotal: 57.4ms\tremaining: 100ms\n",
      "48:\tlearn: 16.8249220\ttotal: 58.5ms\tremaining: 99.1ms\n",
      "49:\tlearn: 16.8214366\ttotal: 59.6ms\tremaining: 97.8ms\n",
      "50:\tlearn: 16.7687409\ttotal: 60.8ms\tremaining: 96.5ms\n",
      "51:\tlearn: 16.6625485\ttotal: 61.9ms\tremaining: 95.3ms\n",
      "52:\tlearn: 16.5695672\ttotal: 63.1ms\tremaining: 94.1ms\n",
      "53:\tlearn: 16.5312737\ttotal: 64.3ms\tremaining: 92.9ms\n",
      "54:\tlearn: 16.4408060\ttotal: 65.5ms\tremaining: 91.7ms\n",
      "55:\tlearn: 16.3984313\ttotal: 66.6ms\tremaining: 90.4ms\n",
      "56:\tlearn: 16.3297994\ttotal: 67.8ms\tremaining: 89.2ms\n",
      "57:\tlearn: 16.2478629\ttotal: 69ms\tremaining: 88ms\n",
      "58:\tlearn: 16.2098494\ttotal: 70.1ms\tremaining: 86.7ms\n",
      "59:\tlearn: 16.1513630\ttotal: 71.2ms\tremaining: 85.5ms\n",
      "60:\tlearn: 16.0080702\ttotal: 72.4ms\tremaining: 84.3ms\n",
      "61:\tlearn: 15.9354418\ttotal: 73.6ms\tremaining: 83ms\n",
      "62:\tlearn: 15.8906850\ttotal: 74.7ms\tremaining: 81.8ms\n",
      "63:\tlearn: 15.8482589\ttotal: 75.9ms\tremaining: 80.6ms\n",
      "64:\tlearn: 15.7775315\ttotal: 77.1ms\tremaining: 79.5ms\n",
      "65:\tlearn: 15.7683204\ttotal: 78.3ms\tremaining: 78.3ms\n",
      "66:\tlearn: 15.6379086\ttotal: 79.5ms\tremaining: 77.1ms\n",
      "67:\tlearn: 15.5473966\ttotal: 80.7ms\tremaining: 75.9ms\n",
      "68:\tlearn: 15.4733466\ttotal: 81.8ms\tremaining: 74.7ms\n",
      "69:\tlearn: 15.4355977\ttotal: 83ms\tremaining: 73.5ms\n",
      "70:\tlearn: 15.4079426\ttotal: 84.1ms\tremaining: 72.2ms\n",
      "71:\tlearn: 15.3401591\ttotal: 85.2ms\tremaining: 71ms\n",
      "72:\tlearn: 15.2821053\ttotal: 86.4ms\tremaining: 69.8ms\n",
      "73:\tlearn: 15.1931021\ttotal: 87.6ms\tremaining: 68.6ms\n",
      "74:\tlearn: 15.0979749\ttotal: 88.8ms\tremaining: 67.5ms\n",
      "75:\tlearn: 15.0933290\ttotal: 89.8ms\tremaining: 66.2ms\n",
      "76:\tlearn: 15.0358121\ttotal: 91ms\tremaining: 65ms\n",
      "77:\tlearn: 15.0321276\ttotal: 92.3ms\tremaining: 63.9ms\n",
      "78:\tlearn: 14.9730629\ttotal: 93.5ms\tremaining: 62.8ms\n",
      "79:\tlearn: 14.9355655\ttotal: 94.7ms\tremaining: 61.6ms\n",
      "80:\tlearn: 14.9151360\ttotal: 95.8ms\tremaining: 60.3ms\n",
      "81:\tlearn: 14.8504805\ttotal: 97ms\tremaining: 59.2ms\n",
      "82:\tlearn: 14.8474037\ttotal: 98.2ms\tremaining: 58ms\n",
      "83:\tlearn: 14.7993534\ttotal: 99.5ms\tremaining: 56.9ms\n",
      "84:\tlearn: 14.7175135\ttotal: 101ms\tremaining: 55.7ms\n",
      "85:\tlearn: 14.6501936\ttotal: 102ms\tremaining: 54.5ms\n",
      "86:\tlearn: 14.5660024\ttotal: 103ms\tremaining: 53.3ms\n",
      "87:\tlearn: 14.5305096\ttotal: 104ms\tremaining: 52.1ms\n",
      "88:\tlearn: 14.4983283\ttotal: 105ms\tremaining: 50.9ms\n",
      "89:\tlearn: 14.4148690\ttotal: 107ms\tremaining: 49.7ms\n",
      "90:\tlearn: 14.3667327\ttotal: 108ms\tremaining: 48.6ms\n",
      "91:\tlearn: 14.3604998\ttotal: 109ms\tremaining: 47.4ms\n",
      "92:\tlearn: 14.2907309\ttotal: 110ms\tremaining: 46.2ms\n",
      "93:\tlearn: 14.2379646\ttotal: 111ms\tremaining: 45ms\n",
      "94:\tlearn: 14.2269604\ttotal: 112ms\tremaining: 43.8ms\n",
      "95:\tlearn: 14.2056172\ttotal: 114ms\tremaining: 42.6ms\n",
      "96:\tlearn: 14.1664245\ttotal: 115ms\tremaining: 41.4ms\n",
      "97:\tlearn: 14.1012082\ttotal: 116ms\tremaining: 40.2ms\n",
      "98:\tlearn: 14.0583876\ttotal: 117ms\tremaining: 39ms\n",
      "99:\tlearn: 14.0526603\ttotal: 118ms\tremaining: 37.8ms\n",
      "100:\tlearn: 14.0502437\ttotal: 119ms\tremaining: 36.6ms\n",
      "101:\tlearn: 14.0237996\ttotal: 120ms\tremaining: 35.4ms\n",
      "102:\tlearn: 13.9528307\ttotal: 122ms\tremaining: 34.3ms\n",
      "103:\tlearn: 13.9093676\ttotal: 123ms\tremaining: 33.1ms\n",
      "104:\tlearn: 13.8725897\ttotal: 124ms\tremaining: 31.9ms\n",
      "105:\tlearn: 13.8377188\ttotal: 125ms\tremaining: 30.7ms\n",
      "106:\tlearn: 13.7416572\ttotal: 126ms\tremaining: 29.5ms\n",
      "107:\tlearn: 13.6524260\ttotal: 128ms\tremaining: 28.3ms\n",
      "108:\tlearn: 13.5942387\ttotal: 129ms\tremaining: 27.1ms\n",
      "109:\tlearn: 13.5587662\ttotal: 130ms\tremaining: 26ms\n",
      "110:\tlearn: 13.5467139\ttotal: 131ms\tremaining: 24.8ms\n",
      "111:\tlearn: 13.4619009\ttotal: 132ms\tremaining: 23.6ms\n",
      "112:\tlearn: 13.4344469\ttotal: 133ms\tremaining: 22.4ms\n",
      "113:\tlearn: 13.3869591\ttotal: 134ms\tremaining: 21.2ms\n",
      "114:\tlearn: 13.3376811\ttotal: 135ms\tremaining: 20ms\n",
      "115:\tlearn: 13.2645164\ttotal: 137ms\tremaining: 18.8ms\n",
      "116:\tlearn: 13.2321347\ttotal: 138ms\tremaining: 17.7ms\n",
      "117:\tlearn: 13.1593607\ttotal: 139ms\tremaining: 16.5ms\n",
      "118:\tlearn: 13.1575603\ttotal: 140ms\tremaining: 15.3ms\n",
      "119:\tlearn: 13.1251353\ttotal: 141ms\tremaining: 14.1ms\n",
      "120:\tlearn: 13.1024594\ttotal: 142ms\tremaining: 12.9ms\n",
      "121:\tlearn: 13.0791283\ttotal: 143ms\tremaining: 11.8ms\n",
      "122:\tlearn: 13.0499063\ttotal: 145ms\tremaining: 10.6ms\n",
      "123:\tlearn: 13.0390219\ttotal: 146ms\tremaining: 9.41ms\n",
      "124:\tlearn: 13.0160368\ttotal: 147ms\tremaining: 8.23ms\n",
      "125:\tlearn: 12.9586653\ttotal: 148ms\tremaining: 7.05ms\n",
      "126:\tlearn: 12.9438215\ttotal: 149ms\tremaining: 5.87ms\n",
      "127:\tlearn: 12.9287928\ttotal: 150ms\tremaining: 4.7ms\n",
      "128:\tlearn: 12.8931076\ttotal: 151ms\tremaining: 3.52ms\n",
      "129:\tlearn: 12.8759032\ttotal: 153ms\tremaining: 2.35ms\n",
      "130:\tlearn: 12.8589876\ttotal: 154ms\tremaining: 1.17ms\n",
      "131:\tlearn: 12.8461603\ttotal: 155ms\tremaining: 0us\n",
      "Learning rate set to 0.247713\n",
      "0:\tlearn: 30.4280451\ttotal: 1.65ms\tremaining: 216ms\n",
      "1:\tlearn: 28.0295063\ttotal: 3.23ms\tremaining: 210ms\n",
      "2:\tlearn: 26.4413712\ttotal: 4.63ms\tremaining: 199ms\n",
      "3:\tlearn: 25.1747437\ttotal: 5.97ms\tremaining: 191ms\n",
      "4:\tlearn: 24.3616815\ttotal: 7.24ms\tremaining: 184ms\n",
      "5:\tlearn: 23.8260308\ttotal: 8.56ms\tremaining: 180ms\n",
      "6:\tlearn: 23.3883883\ttotal: 10ms\tremaining: 179ms\n",
      "7:\tlearn: 23.0474507\ttotal: 11.3ms\tremaining: 175ms\n",
      "8:\tlearn: 22.7331029\ttotal: 12.6ms\tremaining: 172ms\n",
      "9:\tlearn: 22.4450957\ttotal: 13.9ms\tremaining: 170ms\n",
      "10:\tlearn: 22.1882756\ttotal: 15.2ms\tremaining: 168ms\n",
      "11:\tlearn: 21.9352562\ttotal: 16.5ms\tremaining: 165ms\n",
      "12:\tlearn: 21.5231981\ttotal: 17.7ms\tremaining: 162ms\n",
      "13:\tlearn: 21.3554075\ttotal: 19ms\tremaining: 160ms\n",
      "14:\tlearn: 21.1840312\ttotal: 20.3ms\tremaining: 159ms\n",
      "15:\tlearn: 21.1299516\ttotal: 21.6ms\tremaining: 157ms\n",
      "16:\tlearn: 20.9584117\ttotal: 22.9ms\tremaining: 155ms\n",
      "17:\tlearn: 20.7999563\ttotal: 24.2ms\tremaining: 153ms\n",
      "18:\tlearn: 20.5478627\ttotal: 25.5ms\tremaining: 152ms\n",
      "19:\tlearn: 20.3368938\ttotal: 26.8ms\tremaining: 150ms\n",
      "20:\tlearn: 20.2313859\ttotal: 28.1ms\tremaining: 149ms\n",
      "21:\tlearn: 20.1342667\ttotal: 29.3ms\tremaining: 147ms\n",
      "22:\tlearn: 20.0865368\ttotal: 30.6ms\tremaining: 145ms\n",
      "23:\tlearn: 19.9495775\ttotal: 31.9ms\tremaining: 144ms\n",
      "24:\tlearn: 19.8819044\ttotal: 33.2ms\tremaining: 142ms\n",
      "25:\tlearn: 19.7514090\ttotal: 34.5ms\tremaining: 141ms\n",
      "26:\tlearn: 19.6773022\ttotal: 35.8ms\tremaining: 139ms\n",
      "27:\tlearn: 19.5516182\ttotal: 37.1ms\tremaining: 138ms\n",
      "28:\tlearn: 19.4956851\ttotal: 38.4ms\tremaining: 137ms\n",
      "29:\tlearn: 19.4217838\ttotal: 39.8ms\tremaining: 135ms\n",
      "30:\tlearn: 19.3391023\ttotal: 41.1ms\tremaining: 134ms\n",
      "31:\tlearn: 19.2403585\ttotal: 42.4ms\tremaining: 132ms\n",
      "32:\tlearn: 19.1805311\ttotal: 43.6ms\tremaining: 131ms\n",
      "33:\tlearn: 19.0778526\ttotal: 45ms\tremaining: 130ms\n",
      "34:\tlearn: 18.9597666\ttotal: 46.4ms\tremaining: 129ms\n",
      "35:\tlearn: 18.8164113\ttotal: 47.8ms\tremaining: 127ms\n",
      "36:\tlearn: 18.7307927\ttotal: 49ms\tremaining: 126ms\n",
      "37:\tlearn: 18.6407898\ttotal: 50.3ms\tremaining: 125ms\n",
      "38:\tlearn: 18.5801996\ttotal: 51.6ms\tremaining: 123ms\n",
      "39:\tlearn: 18.4175488\ttotal: 52.9ms\tremaining: 122ms\n",
      "40:\tlearn: 18.3763650\ttotal: 54.2ms\tremaining: 120ms\n",
      "41:\tlearn: 18.2781023\ttotal: 55.5ms\tremaining: 119ms\n",
      "42:\tlearn: 18.2198288\ttotal: 56.8ms\tremaining: 118ms\n",
      "43:\tlearn: 18.1195213\ttotal: 58.1ms\tremaining: 116ms\n",
      "44:\tlearn: 18.0689736\ttotal: 59.3ms\tremaining: 115ms\n",
      "45:\tlearn: 17.9550020\ttotal: 60.7ms\tremaining: 114ms\n",
      "46:\tlearn: 17.8834119\ttotal: 62ms\tremaining: 112ms\n",
      "47:\tlearn: 17.8451873\ttotal: 63.8ms\tremaining: 112ms\n",
      "48:\tlearn: 17.8084727\ttotal: 65.2ms\tremaining: 110ms\n",
      "49:\tlearn: 17.7378660\ttotal: 66.5ms\tremaining: 109ms\n",
      "50:\tlearn: 17.7322831\ttotal: 67.8ms\tremaining: 108ms\n",
      "51:\tlearn: 17.6728055\ttotal: 69.1ms\tremaining: 106ms\n",
      "52:\tlearn: 17.6195036\ttotal: 70.4ms\tremaining: 105ms\n",
      "53:\tlearn: 17.5443777\ttotal: 71.8ms\tremaining: 104ms\n",
      "54:\tlearn: 17.5366769\ttotal: 73ms\tremaining: 102ms\n",
      "55:\tlearn: 17.4986660\ttotal: 74.3ms\tremaining: 101ms\n",
      "56:\tlearn: 17.4008910\ttotal: 75.6ms\tremaining: 99.5ms\n",
      "57:\tlearn: 17.3167970\ttotal: 77ms\tremaining: 98.3ms\n",
      "58:\tlearn: 17.2442440\ttotal: 78.3ms\tremaining: 96.9ms\n",
      "59:\tlearn: 17.1293293\ttotal: 79.7ms\tremaining: 95.6ms\n",
      "60:\tlearn: 17.0497849\ttotal: 81.1ms\tremaining: 94.3ms\n",
      "61:\tlearn: 16.9706588\ttotal: 82.6ms\tremaining: 93.2ms\n",
      "62:\tlearn: 16.8717658\ttotal: 84ms\tremaining: 92ms\n",
      "63:\tlearn: 16.8199160\ttotal: 85.3ms\tremaining: 90.6ms\n",
      "64:\tlearn: 16.7597017\ttotal: 86.6ms\tremaining: 89.2ms\n",
      "65:\tlearn: 16.6574162\ttotal: 87.9ms\tremaining: 87.9ms\n",
      "66:\tlearn: 16.6349756\ttotal: 89.1ms\tremaining: 86.5ms\n",
      "67:\tlearn: 16.5579950\ttotal: 90.5ms\tremaining: 85.2ms\n",
      "68:\tlearn: 16.4786224\ttotal: 91.9ms\tremaining: 83.9ms\n",
      "69:\tlearn: 16.4322777\ttotal: 93.1ms\tremaining: 82.5ms\n",
      "70:\tlearn: 16.4110445\ttotal: 94.4ms\tremaining: 81.1ms\n",
      "71:\tlearn: 16.3457100\ttotal: 95.8ms\tremaining: 79.8ms\n",
      "72:\tlearn: 16.2727220\ttotal: 97.1ms\tremaining: 78.5ms\n",
      "73:\tlearn: 16.2170788\ttotal: 98.5ms\tremaining: 77.2ms\n",
      "74:\tlearn: 16.1922909\ttotal: 99.8ms\tremaining: 75.8ms\n",
      "75:\tlearn: 16.1733839\ttotal: 101ms\tremaining: 74.4ms\n",
      "76:\tlearn: 16.1226436\ttotal: 102ms\tremaining: 73.1ms\n",
      "77:\tlearn: 16.0800544\ttotal: 104ms\tremaining: 71.9ms\n",
      "78:\tlearn: 16.0413531\ttotal: 105ms\tremaining: 70.5ms\n",
      "79:\tlearn: 15.9877696\ttotal: 106ms\tremaining: 69.2ms\n",
      "80:\tlearn: 15.9690208\ttotal: 108ms\tremaining: 67.8ms\n",
      "81:\tlearn: 15.9272771\ttotal: 109ms\tremaining: 66.5ms\n",
      "82:\tlearn: 15.8939486\ttotal: 110ms\tremaining: 65.1ms\n",
      "83:\tlearn: 15.8696066\ttotal: 112ms\tremaining: 63.8ms\n",
      "84:\tlearn: 15.8431140\ttotal: 113ms\tremaining: 62.5ms\n",
      "85:\tlearn: 15.8187782\ttotal: 114ms\tremaining: 61.1ms\n",
      "86:\tlearn: 15.7997119\ttotal: 116ms\tremaining: 59.8ms\n",
      "87:\tlearn: 15.7628512\ttotal: 117ms\tremaining: 58.4ms\n",
      "88:\tlearn: 15.7313981\ttotal: 118ms\tremaining: 57ms\n",
      "89:\tlearn: 15.6361860\ttotal: 119ms\tremaining: 55.7ms\n",
      "90:\tlearn: 15.5458721\ttotal: 121ms\tremaining: 54.3ms\n",
      "91:\tlearn: 15.4607833\ttotal: 122ms\tremaining: 53ms\n",
      "92:\tlearn: 15.4539256\ttotal: 123ms\tremaining: 51.6ms\n",
      "93:\tlearn: 15.4163000\ttotal: 125ms\tremaining: 50.4ms\n",
      "94:\tlearn: 15.3509281\ttotal: 126ms\tremaining: 49.1ms\n",
      "95:\tlearn: 15.3202446\ttotal: 127ms\tremaining: 47.8ms\n",
      "96:\tlearn: 15.2873461\ttotal: 129ms\tremaining: 46.5ms\n",
      "97:\tlearn: 15.2411529\ttotal: 130ms\tremaining: 45.1ms\n",
      "98:\tlearn: 15.2010880\ttotal: 131ms\tremaining: 43.8ms\n",
      "99:\tlearn: 15.1869514\ttotal: 133ms\tremaining: 42.5ms\n",
      "100:\tlearn: 15.1648604\ttotal: 134ms\tremaining: 41.2ms\n",
      "101:\tlearn: 15.1390975\ttotal: 135ms\tremaining: 39.8ms\n",
      "102:\tlearn: 15.1167112\ttotal: 137ms\tremaining: 38.5ms\n",
      "103:\tlearn: 15.0726879\ttotal: 138ms\tremaining: 37.2ms\n",
      "104:\tlearn: 15.0376041\ttotal: 139ms\tremaining: 35.9ms\n",
      "105:\tlearn: 14.9737372\ttotal: 141ms\tremaining: 34.5ms\n",
      "106:\tlearn: 14.9221065\ttotal: 142ms\tremaining: 33.2ms\n",
      "107:\tlearn: 14.8885559\ttotal: 143ms\tremaining: 31.8ms\n",
      "108:\tlearn: 14.8036971\ttotal: 145ms\tremaining: 30.5ms\n",
      "109:\tlearn: 14.7845679\ttotal: 146ms\tremaining: 29.2ms\n",
      "110:\tlearn: 14.7371007\ttotal: 147ms\tremaining: 27.8ms\n",
      "111:\tlearn: 14.7161228\ttotal: 148ms\tremaining: 26.5ms\n",
      "112:\tlearn: 14.6578762\ttotal: 150ms\tremaining: 25.2ms\n",
      "113:\tlearn: 14.6415472\ttotal: 151ms\tremaining: 23.8ms\n",
      "114:\tlearn: 14.6092569\ttotal: 152ms\tremaining: 22.5ms\n",
      "115:\tlearn: 14.5979523\ttotal: 154ms\tremaining: 21.2ms\n",
      "116:\tlearn: 14.5958616\ttotal: 155ms\tremaining: 19.8ms\n",
      "117:\tlearn: 14.5155428\ttotal: 156ms\tremaining: 18.5ms\n",
      "118:\tlearn: 14.4521763\ttotal: 157ms\tremaining: 17.2ms\n",
      "119:\tlearn: 14.4104464\ttotal: 159ms\tremaining: 15.9ms\n",
      "120:\tlearn: 14.3384989\ttotal: 160ms\tremaining: 14.5ms\n",
      "121:\tlearn: 14.2833191\ttotal: 161ms\tremaining: 13.2ms\n",
      "122:\tlearn: 14.2667750\ttotal: 163ms\tremaining: 11.9ms\n",
      "123:\tlearn: 14.2128097\ttotal: 164ms\tremaining: 10.6ms\n",
      "124:\tlearn: 14.1843166\ttotal: 166ms\tremaining: 9.27ms\n",
      "125:\tlearn: 14.1214252\ttotal: 167ms\tremaining: 7.94ms\n",
      "126:\tlearn: 14.0888277\ttotal: 168ms\tremaining: 6.62ms\n",
      "127:\tlearn: 14.0538339\ttotal: 169ms\tremaining: 5.29ms\n",
      "128:\tlearn: 14.0127682\ttotal: 171ms\tremaining: 3.97ms\n",
      "129:\tlearn: 13.9913384\ttotal: 172ms\tremaining: 2.65ms\n",
      "130:\tlearn: 13.9758988\ttotal: 173ms\tremaining: 1.32ms\n",
      "131:\tlearn: 13.9682904\ttotal: 175ms\tremaining: 0us\n",
      "Learning rate set to 0.256593\n",
      "0:\tlearn: 31.8750459\ttotal: 1.83ms\tremaining: 240ms\n",
      "1:\tlearn: 29.1742843\ttotal: 3.57ms\tremaining: 232ms\n",
      "2:\tlearn: 27.2937085\ttotal: 5.15ms\tremaining: 221ms\n",
      "3:\tlearn: 26.3587153\ttotal: 6.66ms\tremaining: 213ms\n",
      "4:\tlearn: 25.2269059\ttotal: 8.2ms\tremaining: 208ms\n",
      "5:\tlearn: 24.7256242\ttotal: 9.63ms\tremaining: 202ms\n",
      "6:\tlearn: 24.4312871\ttotal: 11.2ms\tremaining: 199ms\n",
      "7:\tlearn: 24.0384125\ttotal: 12.7ms\tremaining: 196ms\n",
      "8:\tlearn: 23.5517929\ttotal: 14.1ms\tremaining: 193ms\n",
      "9:\tlearn: 23.3622846\ttotal: 15.6ms\tremaining: 190ms\n",
      "10:\tlearn: 23.1748098\ttotal: 17ms\tremaining: 187ms\n",
      "11:\tlearn: 23.0629225\ttotal: 18.4ms\tremaining: 184ms\n",
      "12:\tlearn: 22.8055543\ttotal: 19.9ms\tremaining: 182ms\n",
      "13:\tlearn: 22.5673747\ttotal: 21.4ms\tremaining: 180ms\n",
      "14:\tlearn: 22.4298341\ttotal: 23.2ms\tremaining: 181ms\n",
      "15:\tlearn: 22.2998855\ttotal: 25.5ms\tremaining: 185ms\n",
      "16:\tlearn: 22.1703816\ttotal: 27.2ms\tremaining: 184ms\n",
      "17:\tlearn: 22.0001456\ttotal: 28.7ms\tremaining: 182ms\n",
      "18:\tlearn: 21.7210974\ttotal: 30.2ms\tremaining: 180ms\n",
      "19:\tlearn: 21.6382848\ttotal: 31.6ms\tremaining: 177ms\n",
      "20:\tlearn: 21.5549771\ttotal: 33.1ms\tremaining: 175ms\n",
      "21:\tlearn: 21.4947107\ttotal: 34.5ms\tremaining: 173ms\n",
      "22:\tlearn: 21.4012875\ttotal: 35.9ms\tremaining: 170ms\n",
      "23:\tlearn: 21.2667335\ttotal: 37.4ms\tremaining: 168ms\n",
      "24:\tlearn: 21.1273840\ttotal: 38.8ms\tremaining: 166ms\n",
      "25:\tlearn: 21.0031458\ttotal: 40.7ms\tremaining: 166ms\n",
      "26:\tlearn: 20.8714017\ttotal: 42.6ms\tremaining: 166ms\n",
      "27:\tlearn: 20.6973518\ttotal: 44.1ms\tremaining: 164ms\n",
      "28:\tlearn: 20.6131496\ttotal: 45.6ms\tremaining: 162ms\n",
      "29:\tlearn: 20.5085362\ttotal: 47.1ms\tremaining: 160ms\n",
      "30:\tlearn: 20.4680405\ttotal: 48.5ms\tremaining: 158ms\n",
      "31:\tlearn: 20.3338249\ttotal: 50.3ms\tremaining: 157ms\n",
      "32:\tlearn: 20.2587082\ttotal: 51.8ms\tremaining: 155ms\n",
      "33:\tlearn: 20.1748695\ttotal: 53.3ms\tremaining: 154ms\n",
      "34:\tlearn: 20.0332717\ttotal: 54.7ms\tremaining: 152ms\n",
      "35:\tlearn: 19.9349086\ttotal: 56.1ms\tremaining: 150ms\n",
      "36:\tlearn: 19.8789182\ttotal: 57.5ms\tremaining: 148ms\n",
      "37:\tlearn: 19.7857796\ttotal: 59ms\tremaining: 146ms\n",
      "38:\tlearn: 19.7320200\ttotal: 60.4ms\tremaining: 144ms\n",
      "39:\tlearn: 19.6036963\ttotal: 61.9ms\tremaining: 142ms\n",
      "40:\tlearn: 19.5623657\ttotal: 63.4ms\tremaining: 141ms\n",
      "41:\tlearn: 19.4637684\ttotal: 65.1ms\tremaining: 140ms\n",
      "42:\tlearn: 19.3426652\ttotal: 66.6ms\tremaining: 138ms\n",
      "43:\tlearn: 19.3305864\ttotal: 68ms\tremaining: 136ms\n",
      "44:\tlearn: 19.2304163\ttotal: 69.5ms\tremaining: 134ms\n",
      "45:\tlearn: 19.1833768\ttotal: 71ms\tremaining: 133ms\n",
      "46:\tlearn: 19.1709216\ttotal: 72.4ms\tremaining: 131ms\n",
      "47:\tlearn: 19.1370112\ttotal: 73.8ms\tremaining: 129ms\n",
      "48:\tlearn: 19.1003201\ttotal: 75.3ms\tremaining: 127ms\n",
      "49:\tlearn: 19.0801738\ttotal: 76.6ms\tremaining: 126ms\n",
      "50:\tlearn: 18.9646601\ttotal: 78.1ms\tremaining: 124ms\n",
      "51:\tlearn: 18.8778628\ttotal: 79.5ms\tremaining: 122ms\n",
      "52:\tlearn: 18.8399601\ttotal: 81ms\tremaining: 121ms\n",
      "53:\tlearn: 18.7375147\ttotal: 82.5ms\tremaining: 119ms\n",
      "54:\tlearn: 18.5839462\ttotal: 83.9ms\tremaining: 118ms\n",
      "55:\tlearn: 18.5143790\ttotal: 85.4ms\tremaining: 116ms\n",
      "56:\tlearn: 18.4839144\ttotal: 86.7ms\tremaining: 114ms\n",
      "57:\tlearn: 18.3948685\ttotal: 88.2ms\tremaining: 113ms\n",
      "58:\tlearn: 18.3619476\ttotal: 89.6ms\tremaining: 111ms\n",
      "59:\tlearn: 18.2869503\ttotal: 91.1ms\tremaining: 109ms\n",
      "60:\tlearn: 18.2466996\ttotal: 92.5ms\tremaining: 108ms\n",
      "61:\tlearn: 18.2179754\ttotal: 93.9ms\tremaining: 106ms\n",
      "62:\tlearn: 18.1644048\ttotal: 95.3ms\tremaining: 104ms\n",
      "63:\tlearn: 18.1570324\ttotal: 96.6ms\tremaining: 103ms\n",
      "64:\tlearn: 18.0671663\ttotal: 98.1ms\tremaining: 101ms\n",
      "65:\tlearn: 17.9897880\ttotal: 99.5ms\tremaining: 99.5ms\n",
      "66:\tlearn: 17.9131050\ttotal: 101ms\tremaining: 98ms\n",
      "67:\tlearn: 17.8731133\ttotal: 102ms\tremaining: 96.4ms\n",
      "68:\tlearn: 17.7799931\ttotal: 104ms\tremaining: 94.8ms\n",
      "69:\tlearn: 17.6929948\ttotal: 106ms\tremaining: 93.5ms\n",
      "70:\tlearn: 17.6858450\ttotal: 108ms\tremaining: 92.6ms\n",
      "71:\tlearn: 17.6073779\ttotal: 109ms\tremaining: 91ms\n",
      "72:\tlearn: 17.6023501\ttotal: 111ms\tremaining: 89.7ms\n",
      "73:\tlearn: 17.5744931\ttotal: 113ms\tremaining: 88.9ms\n",
      "74:\tlearn: 17.5552213\ttotal: 115ms\tremaining: 87.7ms\n",
      "75:\tlearn: 17.5408526\ttotal: 117ms\tremaining: 86.1ms\n",
      "76:\tlearn: 17.5019251\ttotal: 118ms\tremaining: 84.5ms\n",
      "77:\tlearn: 17.4126606\ttotal: 120ms\tremaining: 82.9ms\n",
      "78:\tlearn: 17.3790843\ttotal: 121ms\tremaining: 81.4ms\n",
      "79:\tlearn: 17.3104726\ttotal: 123ms\tremaining: 79.8ms\n",
      "80:\tlearn: 17.2692821\ttotal: 124ms\tremaining: 78.4ms\n",
      "81:\tlearn: 17.2097716\ttotal: 126ms\tremaining: 76.7ms\n",
      "82:\tlearn: 17.2059439\ttotal: 127ms\tremaining: 75.1ms\n",
      "83:\tlearn: 17.1320714\ttotal: 129ms\tremaining: 73.6ms\n",
      "84:\tlearn: 17.0568674\ttotal: 130ms\tremaining: 72ms\n",
      "85:\tlearn: 17.0406338\ttotal: 132ms\tremaining: 70.5ms\n",
      "86:\tlearn: 16.9758347\ttotal: 133ms\tremaining: 69ms\n",
      "87:\tlearn: 16.9233548\ttotal: 135ms\tremaining: 67.4ms\n",
      "88:\tlearn: 16.8705727\ttotal: 136ms\tremaining: 65.8ms\n",
      "89:\tlearn: 16.8259274\ttotal: 138ms\tremaining: 64.2ms\n",
      "90:\tlearn: 16.8230119\ttotal: 139ms\tremaining: 62.6ms\n",
      "91:\tlearn: 16.7717362\ttotal: 140ms\tremaining: 61.1ms\n",
      "92:\tlearn: 16.7535942\ttotal: 142ms\tremaining: 59.5ms\n",
      "93:\tlearn: 16.7218987\ttotal: 143ms\tremaining: 57.9ms\n",
      "94:\tlearn: 16.6845780\ttotal: 145ms\tremaining: 56.4ms\n",
      "95:\tlearn: 16.6434743\ttotal: 146ms\tremaining: 54.9ms\n",
      "96:\tlearn: 16.5931319\ttotal: 148ms\tremaining: 53.3ms\n",
      "97:\tlearn: 16.5348381\ttotal: 149ms\tremaining: 51.8ms\n",
      "98:\tlearn: 16.5054832\ttotal: 151ms\tremaining: 50.3ms\n",
      "99:\tlearn: 16.5033847\ttotal: 152ms\tremaining: 48.7ms\n",
      "100:\tlearn: 16.4363113\ttotal: 153ms\tremaining: 47.1ms\n",
      "101:\tlearn: 16.3706639\ttotal: 155ms\tremaining: 45.6ms\n",
      "102:\tlearn: 16.3430869\ttotal: 157ms\tremaining: 44.1ms\n",
      "103:\tlearn: 16.2970535\ttotal: 158ms\tremaining: 42.5ms\n",
      "104:\tlearn: 16.2594368\ttotal: 159ms\tremaining: 41ms\n",
      "105:\tlearn: 16.2307454\ttotal: 161ms\tremaining: 39.5ms\n",
      "106:\tlearn: 16.2039134\ttotal: 162ms\tremaining: 37.9ms\n",
      "107:\tlearn: 16.1841166\ttotal: 164ms\tremaining: 36.4ms\n",
      "108:\tlearn: 16.1425867\ttotal: 165ms\tremaining: 34.9ms\n",
      "109:\tlearn: 16.0978454\ttotal: 167ms\tremaining: 33.3ms\n",
      "110:\tlearn: 16.0766826\ttotal: 168ms\tremaining: 31.8ms\n",
      "111:\tlearn: 16.0235632\ttotal: 170ms\tremaining: 30.3ms\n",
      "112:\tlearn: 16.0138752\ttotal: 171ms\tremaining: 28.7ms\n",
      "113:\tlearn: 15.9916123\ttotal: 172ms\tremaining: 27.2ms\n",
      "114:\tlearn: 15.9463166\ttotal: 174ms\tremaining: 25.7ms\n",
      "115:\tlearn: 15.9261578\ttotal: 175ms\tremaining: 24.2ms\n",
      "116:\tlearn: 15.9237547\ttotal: 177ms\tremaining: 22.7ms\n",
      "117:\tlearn: 15.9162840\ttotal: 178ms\tremaining: 21.1ms\n",
      "118:\tlearn: 15.8626983\ttotal: 180ms\tremaining: 19.6ms\n",
      "119:\tlearn: 15.8312020\ttotal: 181ms\tremaining: 18.1ms\n",
      "120:\tlearn: 15.7960674\ttotal: 183ms\tremaining: 16.6ms\n",
      "121:\tlearn: 15.7568461\ttotal: 184ms\tremaining: 15.1ms\n",
      "122:\tlearn: 15.7064794\ttotal: 186ms\tremaining: 13.6ms\n",
      "123:\tlearn: 15.6566100\ttotal: 187ms\tremaining: 12.1ms\n",
      "124:\tlearn: 15.6250203\ttotal: 189ms\tremaining: 10.6ms\n",
      "125:\tlearn: 15.5529051\ttotal: 190ms\tremaining: 9.05ms\n",
      "126:\tlearn: 15.5342274\ttotal: 192ms\tremaining: 7.54ms\n",
      "127:\tlearn: 15.5045555\ttotal: 193ms\tremaining: 6.03ms\n",
      "128:\tlearn: 15.4779592\ttotal: 194ms\tremaining: 4.52ms\n",
      "129:\tlearn: 15.4179217\ttotal: 196ms\tremaining: 3.01ms\n",
      "130:\tlearn: 15.3720504\ttotal: 197ms\tremaining: 1.51ms\n",
      "131:\tlearn: 15.3482779\ttotal: 199ms\tremaining: 0us\n",
      "Learning rate set to 0.197875\n",
      "0:\tlearn: 27.0666256\ttotal: 1.09ms\tremaining: 144ms\n",
      "1:\tlearn: 25.0962620\ttotal: 2.12ms\tremaining: 139ms\n",
      "2:\tlearn: 23.4228889\ttotal: 3.03ms\tremaining: 131ms\n",
      "3:\tlearn: 22.1221377\ttotal: 3.93ms\tremaining: 127ms\n",
      "4:\tlearn: 21.1797462\ttotal: 4.86ms\tremaining: 124ms\n",
      "5:\tlearn: 20.4941035\ttotal: 5.73ms\tremaining: 121ms\n",
      "6:\tlearn: 19.9834045\ttotal: 6.55ms\tremaining: 118ms\n",
      "7:\tlearn: 19.4368836\ttotal: 7.41ms\tremaining: 116ms\n",
      "8:\tlearn: 18.7756214\ttotal: 8.25ms\tremaining: 114ms\n",
      "9:\tlearn: 18.3273429\ttotal: 9.07ms\tremaining: 112ms\n",
      "10:\tlearn: 18.0168113\ttotal: 9.93ms\tremaining: 110ms\n",
      "11:\tlearn: 17.7648716\ttotal: 10.8ms\tremaining: 109ms\n",
      "12:\tlearn: 17.4187898\ttotal: 11.6ms\tremaining: 107ms\n",
      "13:\tlearn: 17.2093604\ttotal: 12.4ms\tremaining: 106ms\n",
      "14:\tlearn: 16.9623744\ttotal: 13.3ms\tremaining: 104ms\n",
      "15:\tlearn: 16.8503279\ttotal: 14.1ms\tremaining: 103ms\n",
      "16:\tlearn: 16.6471322\ttotal: 14.9ms\tremaining: 102ms\n",
      "17:\tlearn: 16.4743070\ttotal: 15.8ms\tremaining: 101ms\n",
      "18:\tlearn: 16.2922312\ttotal: 16.6ms\tremaining: 99.6ms\n",
      "19:\tlearn: 16.1160616\ttotal: 17.4ms\tremaining: 98.3ms\n",
      "20:\tlearn: 15.9575899\ttotal: 18.3ms\tremaining: 97.5ms\n",
      "21:\tlearn: 15.8621592\ttotal: 19.2ms\tremaining: 96.7ms\n",
      "22:\tlearn: 15.8116010\ttotal: 20ms\tremaining: 95.6ms\n",
      "23:\tlearn: 15.6732429\ttotal: 20.8ms\tremaining: 94.6ms\n",
      "24:\tlearn: 15.5860857\ttotal: 21.7ms\tremaining: 93.7ms\n",
      "25:\tlearn: 15.4036221\ttotal: 22.6ms\tremaining: 92.9ms\n",
      "26:\tlearn: 15.2992692\ttotal: 23.4ms\tremaining: 91.9ms\n",
      "27:\tlearn: 15.1665295\ttotal: 24.2ms\tremaining: 90.7ms\n",
      "28:\tlearn: 15.0828230\ttotal: 25ms\tremaining: 89.8ms\n",
      "29:\tlearn: 15.0347145\ttotal: 25.8ms\tremaining: 88.7ms\n",
      "30:\tlearn: 14.9342356\ttotal: 26.8ms\tremaining: 88.1ms\n",
      "31:\tlearn: 14.7883243\ttotal: 27.6ms\tremaining: 87.2ms\n",
      "32:\tlearn: 14.6391783\ttotal: 28.5ms\tremaining: 86.4ms\n",
      "33:\tlearn: 14.5585305\ttotal: 29.3ms\tremaining: 85.4ms\n",
      "34:\tlearn: 14.4276348\ttotal: 30.2ms\tremaining: 84.5ms\n",
      "35:\tlearn: 14.3048076\ttotal: 31ms\tremaining: 83.6ms\n",
      "36:\tlearn: 14.2186108\ttotal: 31.9ms\tremaining: 82.8ms\n",
      "37:\tlearn: 14.0578927\ttotal: 32.7ms\tremaining: 81.8ms\n",
      "38:\tlearn: 13.9627094\ttotal: 33.6ms\tremaining: 81ms\n",
      "39:\tlearn: 13.9146664\ttotal: 34.5ms\tremaining: 80.1ms\n",
      "40:\tlearn: 13.8784214\ttotal: 35.4ms\tremaining: 79.5ms\n",
      "41:\tlearn: 13.7202540\ttotal: 36.2ms\tremaining: 78.5ms\n",
      "42:\tlearn: 13.5916826\ttotal: 37ms\tremaining: 77.5ms\n",
      "43:\tlearn: 13.5833171\ttotal: 37.4ms\tremaining: 75.7ms\n",
      "44:\tlearn: 13.4846357\ttotal: 38.2ms\tremaining: 74.7ms\n",
      "45:\tlearn: 13.3227658\ttotal: 39ms\tremaining: 73.8ms\n",
      "46:\tlearn: 13.2520199\ttotal: 39.8ms\tremaining: 72.8ms\n",
      "47:\tlearn: 13.2034010\ttotal: 40.6ms\tremaining: 71.9ms\n",
      "48:\tlearn: 13.0059801\ttotal: 41.5ms\tremaining: 71.1ms\n",
      "49:\tlearn: 12.9226173\ttotal: 42.3ms\tremaining: 70.3ms\n",
      "50:\tlearn: 12.9150224\ttotal: 43.1ms\tremaining: 69.3ms\n",
      "51:\tlearn: 12.8473328\ttotal: 44.3ms\tremaining: 69ms\n",
      "52:\tlearn: 12.7245004\ttotal: 45.3ms\tremaining: 68.3ms\n",
      "53:\tlearn: 12.6028366\ttotal: 46.1ms\tremaining: 67.5ms\n",
      "54:\tlearn: 12.5440493\ttotal: 47ms\tremaining: 66.6ms\n",
      "55:\tlearn: 12.4934020\ttotal: 47.9ms\tremaining: 65.8ms\n",
      "56:\tlearn: 12.4869950\ttotal: 48.7ms\tremaining: 64.9ms\n",
      "57:\tlearn: 12.3530185\ttotal: 49.5ms\tremaining: 64ms\n",
      "58:\tlearn: 12.2746292\ttotal: 50.4ms\tremaining: 63.2ms\n",
      "59:\tlearn: 12.1371753\ttotal: 51.2ms\tremaining: 62.2ms\n",
      "60:\tlearn: 12.1168796\ttotal: 52ms\tremaining: 61.3ms\n",
      "61:\tlearn: 12.0129227\ttotal: 52.8ms\tremaining: 60.5ms\n",
      "62:\tlearn: 11.9483936\ttotal: 53.7ms\tremaining: 59.6ms\n",
      "63:\tlearn: 11.8383531\ttotal: 54.5ms\tremaining: 58.8ms\n",
      "64:\tlearn: 11.6923059\ttotal: 55.3ms\tremaining: 57.9ms\n",
      "65:\tlearn: 11.6097150\ttotal: 56.1ms\tremaining: 57ms\n",
      "66:\tlearn: 11.5854746\ttotal: 57ms\tremaining: 56.1ms\n",
      "67:\tlearn: 11.4898784\ttotal: 57.8ms\tremaining: 55.2ms\n",
      "68:\tlearn: 11.3978240\ttotal: 58.6ms\tremaining: 54.4ms\n",
      "69:\tlearn: 11.3619547\ttotal: 59.4ms\tremaining: 53.5ms\n",
      "70:\tlearn: 11.2772999\ttotal: 60.2ms\tremaining: 52.6ms\n",
      "71:\tlearn: 11.1953980\ttotal: 61.1ms\tremaining: 51.7ms\n",
      "72:\tlearn: 11.1053109\ttotal: 61.9ms\tremaining: 50.9ms\n",
      "73:\tlearn: 11.1003780\ttotal: 62.7ms\tremaining: 50ms\n",
      "74:\tlearn: 11.0607441\ttotal: 63.5ms\tremaining: 49.1ms\n",
      "75:\tlearn: 10.9316070\ttotal: 64.4ms\tremaining: 48.3ms\n",
      "76:\tlearn: 10.8102999\ttotal: 65.2ms\tremaining: 47.4ms\n",
      "77:\tlearn: 10.7903811\ttotal: 66ms\tremaining: 46.5ms\n",
      "78:\tlearn: 10.7244440\ttotal: 66.9ms\tremaining: 45.7ms\n",
      "79:\tlearn: 10.6227066\ttotal: 67.6ms\tremaining: 44.8ms\n",
      "80:\tlearn: 10.5635483\ttotal: 68.4ms\tremaining: 43.9ms\n",
      "81:\tlearn: 10.4715976\ttotal: 69.4ms\tremaining: 43.1ms\n",
      "82:\tlearn: 10.4212245\ttotal: 70.2ms\tremaining: 42.3ms\n",
      "83:\tlearn: 10.4169807\ttotal: 71.1ms\tremaining: 41.5ms\n",
      "84:\tlearn: 10.3621308\ttotal: 72ms\tremaining: 40.6ms\n",
      "85:\tlearn: 10.2643902\ttotal: 72.8ms\tremaining: 39.8ms\n",
      "86:\tlearn: 10.1807364\ttotal: 73.7ms\tremaining: 39ms\n",
      "87:\tlearn: 10.1166882\ttotal: 74.6ms\tremaining: 38.2ms\n",
      "88:\tlearn: 10.0294351\ttotal: 75.5ms\tremaining: 37.3ms\n",
      "89:\tlearn: 9.9708205\ttotal: 76.3ms\tremaining: 36.5ms\n",
      "90:\tlearn: 9.9676652\ttotal: 77.2ms\tremaining: 35.6ms\n",
      "91:\tlearn: 9.9504556\ttotal: 78ms\tremaining: 34.8ms\n",
      "92:\tlearn: 9.8809607\ttotal: 78.9ms\tremaining: 33.9ms\n",
      "93:\tlearn: 9.8133615\ttotal: 79.7ms\tremaining: 33.1ms\n",
      "94:\tlearn: 9.8104322\ttotal: 80.6ms\tremaining: 32.3ms\n",
      "95:\tlearn: 9.7628075\ttotal: 81.5ms\tremaining: 31.4ms\n",
      "96:\tlearn: 9.6813480\ttotal: 82.3ms\tremaining: 30.5ms\n",
      "97:\tlearn: 9.6781050\ttotal: 83.1ms\tremaining: 29.7ms\n",
      "98:\tlearn: 9.6687120\ttotal: 84.3ms\tremaining: 29ms\n",
      "99:\tlearn: 9.5568427\ttotal: 85.2ms\tremaining: 28.1ms\n",
      "100:\tlearn: 9.5053766\ttotal: 86.2ms\tremaining: 27.3ms\n",
      "101:\tlearn: 9.4808738\ttotal: 87ms\tremaining: 26.4ms\n",
      "102:\tlearn: 9.4158789\ttotal: 87.8ms\tremaining: 25.6ms\n",
      "103:\tlearn: 9.4128759\ttotal: 88.6ms\tremaining: 24.7ms\n",
      "104:\tlearn: 9.3289895\ttotal: 89.5ms\tremaining: 23.9ms\n",
      "105:\tlearn: 9.2697926\ttotal: 90.3ms\tremaining: 23ms\n",
      "106:\tlearn: 9.2666933\ttotal: 91.1ms\tremaining: 22.1ms\n",
      "107:\tlearn: 9.1759433\ttotal: 92ms\tremaining: 21.3ms\n",
      "108:\tlearn: 9.1363783\ttotal: 92.8ms\tremaining: 20.4ms\n",
      "109:\tlearn: 9.0844817\ttotal: 93.7ms\tremaining: 19.6ms\n",
      "110:\tlearn: 9.0504945\ttotal: 94.5ms\tremaining: 18.7ms\n",
      "111:\tlearn: 9.0019855\ttotal: 95.3ms\tremaining: 17.9ms\n",
      "112:\tlearn: 8.9757431\ttotal: 96.1ms\tremaining: 17ms\n",
      "113:\tlearn: 8.8921144\ttotal: 97ms\tremaining: 16.2ms\n",
      "114:\tlearn: 8.8558203\ttotal: 97.8ms\tremaining: 15.3ms\n",
      "115:\tlearn: 8.7858311\ttotal: 98.6ms\tremaining: 14.5ms\n",
      "116:\tlearn: 8.7190771\ttotal: 99.5ms\tremaining: 13.6ms\n",
      "117:\tlearn: 8.6396841\ttotal: 101ms\tremaining: 12.8ms\n",
      "118:\tlearn: 8.6373823\ttotal: 101ms\tremaining: 11.9ms\n",
      "119:\tlearn: 8.5959002\ttotal: 102ms\tremaining: 11.1ms\n",
      "120:\tlearn: 8.5860116\ttotal: 103ms\tremaining: 10.2ms\n",
      "121:\tlearn: 8.5368382\ttotal: 104ms\tremaining: 9.38ms\n",
      "122:\tlearn: 8.5014653\ttotal: 105ms\tremaining: 8.52ms\n",
      "123:\tlearn: 8.4636520\ttotal: 106ms\tremaining: 7.67ms\n",
      "124:\tlearn: 8.4185533\ttotal: 107ms\tremaining: 6.82ms\n",
      "125:\tlearn: 8.3742575\ttotal: 107ms\tremaining: 5.96ms\n",
      "126:\tlearn: 8.3016949\ttotal: 108ms\tremaining: 5.11ms\n",
      "127:\tlearn: 8.2727080\ttotal: 109ms\tremaining: 4.26ms\n",
      "128:\tlearn: 8.2422765\ttotal: 110ms\tremaining: 3.41ms\n",
      "129:\tlearn: 8.2175303\ttotal: 111ms\tremaining: 2.56ms\n",
      "130:\tlearn: 8.1805718\ttotal: 112ms\tremaining: 1.7ms\n",
      "131:\tlearn: 8.1319982\ttotal: 112ms\tremaining: 851us\n",
      "132:\tlearn: 8.0989067\ttotal: 113ms\tremaining: 0us\n",
      "Learning rate set to 0.220698\n",
      "0:\tlearn: 27.9156418\ttotal: 1.28ms\tremaining: 169ms\n",
      "1:\tlearn: 26.1459752\ttotal: 2.57ms\tremaining: 168ms\n",
      "2:\tlearn: 24.4184704\ttotal: 3.82ms\tremaining: 165ms\n",
      "3:\tlearn: 23.2985851\ttotal: 4.95ms\tremaining: 160ms\n",
      "4:\tlearn: 22.3931385\ttotal: 6.08ms\tremaining: 156ms\n",
      "5:\tlearn: 21.7530309\ttotal: 7.13ms\tremaining: 151ms\n",
      "6:\tlearn: 21.2380701\ttotal: 8.21ms\tremaining: 148ms\n",
      "7:\tlearn: 20.6642537\ttotal: 9.32ms\tremaining: 146ms\n",
      "8:\tlearn: 20.4127903\ttotal: 10.4ms\tremaining: 143ms\n",
      "9:\tlearn: 20.1276939\ttotal: 11.6ms\tremaining: 142ms\n",
      "10:\tlearn: 19.7866091\ttotal: 12.6ms\tremaining: 140ms\n",
      "11:\tlearn: 19.5282043\ttotal: 13.6ms\tremaining: 137ms\n",
      "12:\tlearn: 19.2299130\ttotal: 14.6ms\tremaining: 134ms\n",
      "13:\tlearn: 19.0321900\ttotal: 15.5ms\tremaining: 132ms\n",
      "14:\tlearn: 18.8429395\ttotal: 16.5ms\tremaining: 130ms\n",
      "15:\tlearn: 18.6910451\ttotal: 17.6ms\tremaining: 128ms\n",
      "16:\tlearn: 18.4872438\ttotal: 19.2ms\tremaining: 131ms\n",
      "17:\tlearn: 18.3366728\ttotal: 20.8ms\tremaining: 133ms\n",
      "18:\tlearn: 18.1888738\ttotal: 22.2ms\tremaining: 133ms\n",
      "19:\tlearn: 18.0093867\ttotal: 23.4ms\tremaining: 132ms\n",
      "20:\tlearn: 17.9309554\ttotal: 24.5ms\tremaining: 130ms\n",
      "21:\tlearn: 17.8656493\ttotal: 25.5ms\tremaining: 129ms\n",
      "22:\tlearn: 17.8126752\ttotal: 26.5ms\tremaining: 127ms\n",
      "23:\tlearn: 17.6978893\ttotal: 27.5ms\tremaining: 125ms\n",
      "24:\tlearn: 17.5503224\ttotal: 28.6ms\tremaining: 123ms\n",
      "25:\tlearn: 17.4372983\ttotal: 29.6ms\tremaining: 122ms\n",
      "26:\tlearn: 17.3968076\ttotal: 30.5ms\tremaining: 120ms\n",
      "27:\tlearn: 17.3182662\ttotal: 31.6ms\tremaining: 118ms\n",
      "28:\tlearn: 17.2286179\ttotal: 32.5ms\tremaining: 117ms\n",
      "29:\tlearn: 17.0949994\ttotal: 33.6ms\tremaining: 115ms\n",
      "30:\tlearn: 17.0187218\ttotal: 34.6ms\tremaining: 114ms\n",
      "31:\tlearn: 16.9591692\ttotal: 35.5ms\tremaining: 112ms\n",
      "32:\tlearn: 16.8595321\ttotal: 36.5ms\tremaining: 111ms\n",
      "33:\tlearn: 16.7809018\ttotal: 37.5ms\tremaining: 109ms\n",
      "34:\tlearn: 16.6975334\ttotal: 38.4ms\tremaining: 108ms\n",
      "35:\tlearn: 16.5687603\ttotal: 39.4ms\tremaining: 106ms\n",
      "36:\tlearn: 16.5530476\ttotal: 40.4ms\tremaining: 105ms\n",
      "37:\tlearn: 16.4758605\ttotal: 41.4ms\tremaining: 104ms\n",
      "38:\tlearn: 16.3933355\ttotal: 42.4ms\tremaining: 102ms\n",
      "39:\tlearn: 16.2778857\ttotal: 43.4ms\tremaining: 101ms\n",
      "40:\tlearn: 16.2377709\ttotal: 44.4ms\tremaining: 99.7ms\n",
      "41:\tlearn: 16.0890606\ttotal: 45.4ms\tremaining: 98.4ms\n",
      "42:\tlearn: 15.9295235\ttotal: 46.4ms\tremaining: 97.2ms\n",
      "43:\tlearn: 15.8705485\ttotal: 47.4ms\tremaining: 95.9ms\n",
      "44:\tlearn: 15.8274367\ttotal: 48.4ms\tremaining: 94.6ms\n",
      "45:\tlearn: 15.7449358\ttotal: 49.3ms\tremaining: 93.3ms\n",
      "46:\tlearn: 15.6825828\ttotal: 50.4ms\tremaining: 92.2ms\n",
      "47:\tlearn: 15.5912175\ttotal: 51.7ms\tremaining: 91.6ms\n",
      "48:\tlearn: 15.5561205\ttotal: 52.7ms\tremaining: 90.4ms\n",
      "49:\tlearn: 15.5183473\ttotal: 53.9ms\tremaining: 89.4ms\n",
      "50:\tlearn: 15.4413447\ttotal: 54.9ms\tremaining: 88.2ms\n",
      "51:\tlearn: 15.4350437\ttotal: 55.9ms\tremaining: 87.1ms\n",
      "52:\tlearn: 15.4176958\ttotal: 57ms\tremaining: 86ms\n",
      "53:\tlearn: 15.3119935\ttotal: 58ms\tremaining: 84.9ms\n",
      "54:\tlearn: 15.2704402\ttotal: 59ms\tremaining: 83.7ms\n",
      "55:\tlearn: 15.2464023\ttotal: 60ms\tremaining: 82.5ms\n",
      "56:\tlearn: 15.1818086\ttotal: 61.1ms\tremaining: 81.5ms\n",
      "57:\tlearn: 15.1359193\ttotal: 62.1ms\tremaining: 80.3ms\n",
      "58:\tlearn: 15.0546255\ttotal: 63.8ms\tremaining: 80ms\n",
      "59:\tlearn: 15.0264919\ttotal: 64.8ms\tremaining: 78.9ms\n",
      "60:\tlearn: 14.9375967\ttotal: 65.9ms\tremaining: 77.7ms\n",
      "61:\tlearn: 14.8241562\ttotal: 66.9ms\tremaining: 76.6ms\n",
      "62:\tlearn: 14.8210889\ttotal: 67.9ms\tremaining: 75.5ms\n",
      "63:\tlearn: 14.7856605\ttotal: 68.9ms\tremaining: 74.3ms\n",
      "64:\tlearn: 14.7796803\ttotal: 69.9ms\tremaining: 73.2ms\n",
      "65:\tlearn: 14.7244187\ttotal: 71ms\tremaining: 72.1ms\n",
      "66:\tlearn: 14.7004208\ttotal: 72ms\tremaining: 71ms\n",
      "67:\tlearn: 14.6720490\ttotal: 73ms\tremaining: 69.8ms\n",
      "68:\tlearn: 14.6695750\ttotal: 74ms\tremaining: 68.6ms\n",
      "69:\tlearn: 14.5774761\ttotal: 75ms\tremaining: 67.5ms\n",
      "70:\tlearn: 14.5573916\ttotal: 76ms\tremaining: 66.4ms\n",
      "71:\tlearn: 14.4518749\ttotal: 77.1ms\tremaining: 65.3ms\n",
      "72:\tlearn: 14.4022513\ttotal: 78.1ms\tremaining: 64.2ms\n",
      "73:\tlearn: 14.3854756\ttotal: 79.1ms\tremaining: 63ms\n",
      "74:\tlearn: 14.3263634\ttotal: 80.1ms\tremaining: 61.9ms\n",
      "75:\tlearn: 14.2949968\ttotal: 81ms\tremaining: 60.8ms\n",
      "76:\tlearn: 14.1897646\ttotal: 82.6ms\tremaining: 60.1ms\n",
      "77:\tlearn: 14.0504949\ttotal: 83.7ms\tremaining: 59ms\n",
      "78:\tlearn: 13.9419219\ttotal: 84.8ms\tremaining: 58ms\n",
      "79:\tlearn: 13.8896614\ttotal: 85.9ms\tremaining: 56.9ms\n",
      "80:\tlearn: 13.8379160\ttotal: 86.8ms\tremaining: 55.8ms\n",
      "81:\tlearn: 13.7150194\ttotal: 88.2ms\tremaining: 54.9ms\n",
      "82:\tlearn: 13.6535378\ttotal: 89.3ms\tremaining: 53.8ms\n",
      "83:\tlearn: 13.6155673\ttotal: 90.3ms\tremaining: 52.7ms\n",
      "84:\tlearn: 13.4969948\ttotal: 91.3ms\tremaining: 51.6ms\n",
      "85:\tlearn: 13.4380839\ttotal: 92.5ms\tremaining: 50.6ms\n",
      "86:\tlearn: 13.3519539\ttotal: 93.6ms\tremaining: 49.5ms\n",
      "87:\tlearn: 13.3202788\ttotal: 94.5ms\tremaining: 48.3ms\n",
      "88:\tlearn: 13.2789299\ttotal: 95.6ms\tremaining: 47.3ms\n",
      "89:\tlearn: 13.1947910\ttotal: 96.6ms\tremaining: 46.2ms\n",
      "90:\tlearn: 13.1430700\ttotal: 97.6ms\tremaining: 45.1ms\n",
      "91:\tlearn: 13.1354833\ttotal: 98.6ms\tremaining: 44ms\n",
      "92:\tlearn: 13.1240580\ttotal: 99.6ms\tremaining: 42.8ms\n",
      "93:\tlearn: 13.0293049\ttotal: 101ms\tremaining: 41.7ms\n",
      "94:\tlearn: 12.9473516\ttotal: 102ms\tremaining: 40.7ms\n",
      "95:\tlearn: 12.9034635\ttotal: 103ms\tremaining: 39.6ms\n",
      "96:\tlearn: 12.8219915\ttotal: 104ms\tremaining: 38.5ms\n",
      "97:\tlearn: 12.8141183\ttotal: 105ms\tremaining: 37.4ms\n",
      "98:\tlearn: 12.7683141\ttotal: 106ms\tremaining: 36.4ms\n",
      "99:\tlearn: 12.7078845\ttotal: 107ms\tremaining: 35.3ms\n",
      "100:\tlearn: 12.6034573\ttotal: 108ms\tremaining: 34.2ms\n",
      "101:\tlearn: 12.5502697\ttotal: 109ms\tremaining: 33.1ms\n",
      "102:\tlearn: 12.4996811\ttotal: 110ms\tremaining: 32ms\n",
      "103:\tlearn: 12.3997239\ttotal: 111ms\tremaining: 31ms\n",
      "104:\tlearn: 12.3802362\ttotal: 112ms\tremaining: 29.9ms\n",
      "105:\tlearn: 12.3421309\ttotal: 113ms\tremaining: 28.8ms\n",
      "106:\tlearn: 12.2814806\ttotal: 114ms\tremaining: 27.7ms\n",
      "107:\tlearn: 12.2651591\ttotal: 115ms\tremaining: 26.6ms\n",
      "108:\tlearn: 12.2110389\ttotal: 116ms\tremaining: 25.5ms\n",
      "109:\tlearn: 12.1464737\ttotal: 117ms\tremaining: 24.5ms\n",
      "110:\tlearn: 12.1128360\ttotal: 118ms\tremaining: 23.4ms\n",
      "111:\tlearn: 12.0332288\ttotal: 119ms\tremaining: 22.3ms\n",
      "112:\tlearn: 11.9651656\ttotal: 120ms\tremaining: 21.2ms\n",
      "113:\tlearn: 11.9238148\ttotal: 121ms\tremaining: 20.2ms\n",
      "114:\tlearn: 11.8781488\ttotal: 122ms\tremaining: 19.1ms\n",
      "115:\tlearn: 11.8110582\ttotal: 123ms\tremaining: 18ms\n",
      "116:\tlearn: 11.7657285\ttotal: 124ms\tremaining: 17ms\n",
      "117:\tlearn: 11.6784217\ttotal: 125ms\tremaining: 15.9ms\n",
      "118:\tlearn: 11.6660232\ttotal: 126ms\tremaining: 14.8ms\n",
      "119:\tlearn: 11.6013753\ttotal: 127ms\tremaining: 13.8ms\n",
      "120:\tlearn: 11.5952931\ttotal: 128ms\tremaining: 12.7ms\n",
      "121:\tlearn: 11.5380253\ttotal: 129ms\tremaining: 11.6ms\n",
      "122:\tlearn: 11.5214790\ttotal: 130ms\tremaining: 10.6ms\n",
      "123:\tlearn: 11.5113704\ttotal: 131ms\tremaining: 9.5ms\n",
      "124:\tlearn: 11.4974595\ttotal: 132ms\tremaining: 8.44ms\n",
      "125:\tlearn: 11.4941866\ttotal: 133ms\tremaining: 7.38ms\n",
      "126:\tlearn: 11.4191809\ttotal: 134ms\tremaining: 6.32ms\n",
      "127:\tlearn: 11.3801984\ttotal: 135ms\tremaining: 5.26ms\n",
      "128:\tlearn: 11.3610664\ttotal: 136ms\tremaining: 4.21ms\n",
      "129:\tlearn: 11.2935757\ttotal: 137ms\tremaining: 3.15ms\n",
      "130:\tlearn: 11.2197735\ttotal: 138ms\tremaining: 2.1ms\n",
      "131:\tlearn: 11.1916551\ttotal: 139ms\tremaining: 1.05ms\n",
      "132:\tlearn: 11.1713899\ttotal: 140ms\tremaining: 0us\n",
      "Learning rate set to 0.235271\n",
      "0:\tlearn: 29.2441968\ttotal: 2.11ms\tremaining: 278ms\n",
      "1:\tlearn: 26.9621702\ttotal: 3.47ms\tremaining: 227ms\n",
      "2:\tlearn: 25.4447489\ttotal: 4.74ms\tremaining: 206ms\n",
      "3:\tlearn: 24.3881520\ttotal: 5.95ms\tremaining: 192ms\n",
      "4:\tlearn: 23.6848271\ttotal: 7.13ms\tremaining: 183ms\n",
      "5:\tlearn: 23.0297491\ttotal: 8.36ms\tremaining: 177ms\n",
      "6:\tlearn: 22.6088007\ttotal: 9.58ms\tremaining: 172ms\n",
      "7:\tlearn: 22.2465270\ttotal: 10.7ms\tremaining: 168ms\n",
      "8:\tlearn: 21.8681534\ttotal: 12ms\tremaining: 165ms\n",
      "9:\tlearn: 21.6162203\ttotal: 13.1ms\tremaining: 162ms\n",
      "10:\tlearn: 21.3738800\ttotal: 14.3ms\tremaining: 158ms\n",
      "11:\tlearn: 21.2446931\ttotal: 15.6ms\tremaining: 157ms\n",
      "12:\tlearn: 21.1263580\ttotal: 16.8ms\tremaining: 155ms\n",
      "13:\tlearn: 20.9441588\ttotal: 18.1ms\tremaining: 153ms\n",
      "14:\tlearn: 20.7130323\ttotal: 19.2ms\tremaining: 151ms\n",
      "15:\tlearn: 20.4779316\ttotal: 20.3ms\tremaining: 149ms\n",
      "16:\tlearn: 20.2790027\ttotal: 21.5ms\tremaining: 146ms\n",
      "17:\tlearn: 20.1068829\ttotal: 22.7ms\tremaining: 145ms\n",
      "18:\tlearn: 19.8613546\ttotal: 23.8ms\tremaining: 143ms\n",
      "19:\tlearn: 19.8158745\ttotal: 24.9ms\tremaining: 141ms\n",
      "20:\tlearn: 19.7401699\ttotal: 26.1ms\tremaining: 139ms\n",
      "21:\tlearn: 19.5916722\ttotal: 27.2ms\tremaining: 137ms\n",
      "22:\tlearn: 19.5305140\ttotal: 28.4ms\tremaining: 136ms\n",
      "23:\tlearn: 19.4016999\ttotal: 29.5ms\tremaining: 134ms\n",
      "24:\tlearn: 19.3460916\ttotal: 30.6ms\tremaining: 132ms\n",
      "25:\tlearn: 19.1929106\ttotal: 31.8ms\tremaining: 131ms\n",
      "26:\tlearn: 19.0729191\ttotal: 32.9ms\tremaining: 129ms\n",
      "27:\tlearn: 19.0302289\ttotal: 34.1ms\tremaining: 128ms\n",
      "28:\tlearn: 18.9673146\ttotal: 35.3ms\tremaining: 127ms\n",
      "29:\tlearn: 18.8020530\ttotal: 36.5ms\tremaining: 125ms\n",
      "30:\tlearn: 18.6818797\ttotal: 37.6ms\tremaining: 124ms\n",
      "31:\tlearn: 18.5996482\ttotal: 38.8ms\tremaining: 122ms\n",
      "32:\tlearn: 18.4551677\ttotal: 40ms\tremaining: 121ms\n",
      "33:\tlearn: 18.3678560\ttotal: 41.1ms\tremaining: 120ms\n",
      "34:\tlearn: 18.2729541\ttotal: 42.4ms\tremaining: 119ms\n",
      "35:\tlearn: 18.0397565\ttotal: 43.6ms\tremaining: 118ms\n",
      "36:\tlearn: 17.9102828\ttotal: 44.8ms\tremaining: 116ms\n",
      "37:\tlearn: 17.8493642\ttotal: 45.9ms\tremaining: 115ms\n",
      "38:\tlearn: 17.7911678\ttotal: 47.1ms\tremaining: 114ms\n",
      "39:\tlearn: 17.7221482\ttotal: 48.4ms\tremaining: 113ms\n",
      "40:\tlearn: 17.6816225\ttotal: 49.5ms\tremaining: 111ms\n",
      "41:\tlearn: 17.5244719\ttotal: 50.7ms\tremaining: 110ms\n",
      "42:\tlearn: 17.4443801\ttotal: 51.8ms\tremaining: 108ms\n",
      "43:\tlearn: 17.3324960\ttotal: 52.9ms\tremaining: 107ms\n",
      "44:\tlearn: 17.2143374\ttotal: 54.1ms\tremaining: 106ms\n",
      "45:\tlearn: 17.1936627\ttotal: 55.2ms\tremaining: 104ms\n",
      "46:\tlearn: 17.1240192\ttotal: 56.3ms\tremaining: 103ms\n",
      "47:\tlearn: 17.0711209\ttotal: 57.4ms\tremaining: 102ms\n",
      "48:\tlearn: 17.0492562\ttotal: 58.6ms\tremaining: 100ms\n",
      "49:\tlearn: 17.0457628\ttotal: 59.7ms\tremaining: 99.1ms\n",
      "50:\tlearn: 17.0197598\ttotal: 60.8ms\tremaining: 97.7ms\n",
      "51:\tlearn: 16.9229044\ttotal: 61.9ms\tremaining: 96.4ms\n",
      "52:\tlearn: 16.8585686\ttotal: 63ms\tremaining: 95.1ms\n",
      "53:\tlearn: 16.7265406\ttotal: 64.1ms\tremaining: 93.8ms\n",
      "54:\tlearn: 16.6408416\ttotal: 65.4ms\tremaining: 92.7ms\n",
      "55:\tlearn: 16.5452013\ttotal: 66.5ms\tremaining: 91.5ms\n",
      "56:\tlearn: 16.5421140\ttotal: 67.7ms\tremaining: 90.2ms\n",
      "57:\tlearn: 16.3943975\ttotal: 68.9ms\tremaining: 89.1ms\n",
      "58:\tlearn: 16.3511907\ttotal: 70.1ms\tremaining: 87.9ms\n",
      "59:\tlearn: 16.3070157\ttotal: 71.2ms\tremaining: 86.6ms\n",
      "60:\tlearn: 16.2242402\ttotal: 72.4ms\tremaining: 85.5ms\n",
      "61:\tlearn: 16.1594399\ttotal: 73.6ms\tremaining: 84.3ms\n",
      "62:\tlearn: 16.1279844\ttotal: 74.8ms\tremaining: 83.1ms\n",
      "63:\tlearn: 16.0373575\ttotal: 75.9ms\tremaining: 81.8ms\n",
      "64:\tlearn: 15.9968939\ttotal: 77ms\tremaining: 80.6ms\n",
      "65:\tlearn: 15.8841778\ttotal: 78.2ms\tremaining: 79.4ms\n",
      "66:\tlearn: 15.7763227\ttotal: 79.3ms\tremaining: 78.1ms\n",
      "67:\tlearn: 15.7533483\ttotal: 80.4ms\tremaining: 76.8ms\n",
      "68:\tlearn: 15.6967432\ttotal: 81.5ms\tremaining: 75.6ms\n",
      "69:\tlearn: 15.6379811\ttotal: 82.6ms\tremaining: 74.4ms\n",
      "70:\tlearn: 15.6017827\ttotal: 83.7ms\tremaining: 73.1ms\n",
      "71:\tlearn: 15.5433062\ttotal: 84.9ms\tremaining: 71.9ms\n",
      "72:\tlearn: 15.5408736\ttotal: 86ms\tremaining: 70.7ms\n",
      "73:\tlearn: 15.5123683\ttotal: 87.1ms\tremaining: 69.4ms\n",
      "74:\tlearn: 15.4290992\ttotal: 88.2ms\tremaining: 68.2ms\n",
      "75:\tlearn: 15.3708748\ttotal: 89.4ms\tremaining: 67.1ms\n",
      "76:\tlearn: 15.3110941\ttotal: 90.7ms\tremaining: 65.9ms\n",
      "77:\tlearn: 15.3083713\ttotal: 91.9ms\tremaining: 64.8ms\n",
      "78:\tlearn: 15.2021974\ttotal: 93.1ms\tremaining: 63.7ms\n",
      "79:\tlearn: 15.1881700\ttotal: 94.2ms\tremaining: 62.4ms\n",
      "80:\tlearn: 15.1749211\ttotal: 95.4ms\tremaining: 61.2ms\n",
      "81:\tlearn: 15.0995062\ttotal: 97ms\tremaining: 60.3ms\n",
      "82:\tlearn: 15.0525214\ttotal: 98.3ms\tremaining: 59.2ms\n",
      "83:\tlearn: 14.9686825\ttotal: 99.7ms\tremaining: 58.2ms\n",
      "84:\tlearn: 14.9665132\ttotal: 101ms\tremaining: 57ms\n",
      "85:\tlearn: 14.9420717\ttotal: 102ms\tremaining: 55.8ms\n",
      "86:\tlearn: 14.8742922\ttotal: 103ms\tremaining: 54.6ms\n",
      "87:\tlearn: 14.8070810\ttotal: 104ms\tremaining: 53.4ms\n",
      "88:\tlearn: 14.7207646\ttotal: 106ms\tremaining: 52.2ms\n",
      "89:\tlearn: 14.6597963\ttotal: 107ms\tremaining: 51ms\n",
      "90:\tlearn: 14.6254017\ttotal: 108ms\tremaining: 49.8ms\n",
      "91:\tlearn: 14.6064190\ttotal: 109ms\tremaining: 48.6ms\n",
      "92:\tlearn: 14.5772511\ttotal: 110ms\tremaining: 47.4ms\n",
      "93:\tlearn: 14.4714208\ttotal: 111ms\tremaining: 46.2ms\n",
      "94:\tlearn: 14.4315579\ttotal: 113ms\tremaining: 45ms\n",
      "95:\tlearn: 14.3534783\ttotal: 114ms\tremaining: 43.8ms\n",
      "96:\tlearn: 14.3250874\ttotal: 115ms\tremaining: 42.6ms\n",
      "97:\tlearn: 14.2989474\ttotal: 116ms\tremaining: 41.4ms\n",
      "98:\tlearn: 14.2504439\ttotal: 117ms\tremaining: 40.2ms\n",
      "99:\tlearn: 14.2246402\ttotal: 118ms\tremaining: 39ms\n",
      "100:\tlearn: 14.1815342\ttotal: 120ms\tremaining: 37.9ms\n",
      "101:\tlearn: 14.1130947\ttotal: 121ms\tremaining: 36.7ms\n",
      "102:\tlearn: 14.0762677\ttotal: 122ms\tremaining: 35.5ms\n",
      "103:\tlearn: 14.0040542\ttotal: 123ms\tremaining: 34.3ms\n",
      "104:\tlearn: 13.9878268\ttotal: 124ms\tremaining: 33.1ms\n",
      "105:\tlearn: 13.9817491\ttotal: 125ms\tremaining: 31.9ms\n",
      "106:\tlearn: 13.9695850\ttotal: 126ms\tremaining: 30.7ms\n",
      "107:\tlearn: 13.9521262\ttotal: 127ms\tremaining: 29.5ms\n",
      "108:\tlearn: 13.8877140\ttotal: 129ms\tremaining: 28.3ms\n",
      "109:\tlearn: 13.8783298\ttotal: 130ms\tremaining: 27.1ms\n",
      "110:\tlearn: 13.8529257\ttotal: 131ms\tremaining: 25.9ms\n",
      "111:\tlearn: 13.8157422\ttotal: 132ms\tremaining: 24.7ms\n",
      "112:\tlearn: 13.7320246\ttotal: 133ms\tremaining: 23.6ms\n",
      "113:\tlearn: 13.7298684\ttotal: 134ms\tremaining: 22.4ms\n",
      "114:\tlearn: 13.6944176\ttotal: 135ms\tremaining: 21.2ms\n",
      "115:\tlearn: 13.6174953\ttotal: 136ms\tremaining: 20ms\n",
      "116:\tlearn: 13.5571484\ttotal: 138ms\tremaining: 18.8ms\n",
      "117:\tlearn: 13.4666978\ttotal: 139ms\tremaining: 17.6ms\n",
      "118:\tlearn: 13.4644370\ttotal: 140ms\tremaining: 16.5ms\n",
      "119:\tlearn: 13.4181839\ttotal: 141ms\tremaining: 15.3ms\n",
      "120:\tlearn: 13.3942211\ttotal: 142ms\tremaining: 14.1ms\n",
      "121:\tlearn: 13.3372600\ttotal: 143ms\tremaining: 12.9ms\n",
      "122:\tlearn: 13.3151273\ttotal: 145ms\tremaining: 11.8ms\n",
      "123:\tlearn: 13.2683504\ttotal: 146ms\tremaining: 10.6ms\n",
      "124:\tlearn: 13.1892938\ttotal: 147ms\tremaining: 9.4ms\n",
      "125:\tlearn: 13.1879367\ttotal: 148ms\tremaining: 8.22ms\n",
      "126:\tlearn: 13.1840788\ttotal: 149ms\tremaining: 7.04ms\n",
      "127:\tlearn: 13.1620969\ttotal: 150ms\tremaining: 5.87ms\n",
      "128:\tlearn: 13.1382881\ttotal: 151ms\tremaining: 4.69ms\n",
      "129:\tlearn: 13.0867531\ttotal: 152ms\tremaining: 3.52ms\n",
      "130:\tlearn: 13.0412384\ttotal: 154ms\tremaining: 2.35ms\n",
      "131:\tlearn: 12.9617011\ttotal: 155ms\tremaining: 1.17ms\n",
      "132:\tlearn: 12.9428487\ttotal: 156ms\tremaining: 0us\n",
      "Learning rate set to 0.246197\n",
      "0:\tlearn: 30.4443960\ttotal: 1.58ms\tremaining: 209ms\n",
      "1:\tlearn: 28.0532480\ttotal: 3.07ms\tremaining: 201ms\n",
      "2:\tlearn: 26.4674557\ttotal: 4.53ms\tremaining: 196ms\n",
      "3:\tlearn: 25.1992935\ttotal: 5.93ms\tremaining: 191ms\n",
      "4:\tlearn: 24.3838929\ttotal: 7.26ms\tremaining: 186ms\n",
      "5:\tlearn: 23.8457259\ttotal: 8.6ms\tremaining: 182ms\n",
      "6:\tlearn: 23.4068068\ttotal: 9.99ms\tremaining: 180ms\n",
      "7:\tlearn: 23.0652503\ttotal: 11.3ms\tremaining: 177ms\n",
      "8:\tlearn: 22.7502901\ttotal: 12.6ms\tremaining: 174ms\n",
      "9:\tlearn: 22.4509414\ttotal: 13.9ms\tremaining: 172ms\n",
      "10:\tlearn: 22.1904358\ttotal: 15.8ms\tremaining: 176ms\n",
      "11:\tlearn: 21.9897036\ttotal: 17.3ms\tremaining: 175ms\n",
      "12:\tlearn: 21.7614716\ttotal: 18.6ms\tremaining: 172ms\n",
      "13:\tlearn: 21.6754961\ttotal: 20ms\tremaining: 170ms\n",
      "14:\tlearn: 21.4039468\ttotal: 21.3ms\tremaining: 168ms\n",
      "15:\tlearn: 21.3222081\ttotal: 22.6ms\tremaining: 165ms\n",
      "16:\tlearn: 21.1437164\ttotal: 24ms\tremaining: 164ms\n",
      "17:\tlearn: 20.9969630\ttotal: 25.3ms\tremaining: 161ms\n",
      "18:\tlearn: 20.6775853\ttotal: 26.6ms\tremaining: 159ms\n",
      "19:\tlearn: 20.5955707\ttotal: 27.9ms\tremaining: 157ms\n",
      "20:\tlearn: 20.5296809\ttotal: 29.1ms\tremaining: 155ms\n",
      "21:\tlearn: 20.4632187\ttotal: 30.4ms\tremaining: 153ms\n",
      "22:\tlearn: 20.3947393\ttotal: 31.6ms\tremaining: 151ms\n",
      "23:\tlearn: 20.2585538\ttotal: 33ms\tremaining: 150ms\n",
      "24:\tlearn: 20.0427677\ttotal: 34.3ms\tremaining: 148ms\n",
      "25:\tlearn: 19.9388608\ttotal: 35.6ms\tremaining: 146ms\n",
      "26:\tlearn: 19.8839426\ttotal: 36.9ms\tremaining: 145ms\n",
      "27:\tlearn: 19.7967147\ttotal: 38.2ms\tremaining: 143ms\n",
      "28:\tlearn: 19.7596190\ttotal: 39.4ms\tremaining: 141ms\n",
      "29:\tlearn: 19.6105926\ttotal: 40.7ms\tremaining: 140ms\n",
      "30:\tlearn: 19.5415615\ttotal: 42.1ms\tremaining: 138ms\n",
      "31:\tlearn: 19.4952626\ttotal: 43.4ms\tremaining: 137ms\n",
      "32:\tlearn: 19.4156036\ttotal: 44.7ms\tremaining: 136ms\n",
      "33:\tlearn: 19.3833708\ttotal: 46.1ms\tremaining: 134ms\n",
      "34:\tlearn: 19.2204646\ttotal: 47.4ms\tremaining: 133ms\n",
      "35:\tlearn: 19.0844418\ttotal: 48.8ms\tremaining: 131ms\n",
      "36:\tlearn: 18.9796562\ttotal: 50.1ms\tremaining: 130ms\n",
      "37:\tlearn: 18.9103538\ttotal: 51.4ms\tremaining: 129ms\n",
      "38:\tlearn: 18.8506016\ttotal: 52.7ms\tremaining: 127ms\n",
      "39:\tlearn: 18.7996139\ttotal: 54ms\tremaining: 126ms\n",
      "40:\tlearn: 18.7186510\ttotal: 55.4ms\tremaining: 124ms\n",
      "41:\tlearn: 18.6840442\ttotal: 56.7ms\tremaining: 123ms\n",
      "42:\tlearn: 18.6005917\ttotal: 58ms\tremaining: 121ms\n",
      "43:\tlearn: 18.4866958\ttotal: 59.3ms\tremaining: 120ms\n",
      "44:\tlearn: 18.3630940\ttotal: 60.6ms\tremaining: 118ms\n",
      "45:\tlearn: 18.3159004\ttotal: 61.8ms\tremaining: 117ms\n",
      "46:\tlearn: 18.2070248\ttotal: 63.1ms\tremaining: 116ms\n",
      "47:\tlearn: 18.1587363\ttotal: 64.5ms\tremaining: 114ms\n",
      "48:\tlearn: 18.1137142\ttotal: 65.8ms\tremaining: 113ms\n",
      "49:\tlearn: 17.9844639\ttotal: 67.1ms\tremaining: 111ms\n",
      "50:\tlearn: 17.9700873\ttotal: 68.3ms\tremaining: 110ms\n",
      "51:\tlearn: 17.8810448\ttotal: 69.6ms\tremaining: 108ms\n",
      "52:\tlearn: 17.8453284\ttotal: 70.8ms\tremaining: 107ms\n",
      "53:\tlearn: 17.8412702\ttotal: 72.2ms\tremaining: 106ms\n",
      "54:\tlearn: 17.8363367\ttotal: 73.5ms\tremaining: 104ms\n",
      "55:\tlearn: 17.7395244\ttotal: 74.9ms\tremaining: 103ms\n",
      "56:\tlearn: 17.6861732\ttotal: 76.1ms\tremaining: 102ms\n",
      "57:\tlearn: 17.6140150\ttotal: 77.4ms\tremaining: 100ms\n",
      "58:\tlearn: 17.5301634\ttotal: 78.7ms\tremaining: 98.7ms\n",
      "59:\tlearn: 17.4362753\ttotal: 80.1ms\tremaining: 97.4ms\n",
      "60:\tlearn: 17.3210568\ttotal: 81.4ms\tremaining: 96.1ms\n",
      "61:\tlearn: 17.2710857\ttotal: 82.8ms\tremaining: 94.8ms\n",
      "62:\tlearn: 17.2487417\ttotal: 84ms\tremaining: 93.4ms\n",
      "63:\tlearn: 17.2334464\ttotal: 85.3ms\tremaining: 92ms\n",
      "64:\tlearn: 17.1239411\ttotal: 86.6ms\tremaining: 90.6ms\n",
      "65:\tlearn: 17.0594482\ttotal: 87.9ms\tremaining: 89.2ms\n",
      "66:\tlearn: 16.9785934\ttotal: 89.3ms\tremaining: 88ms\n",
      "67:\tlearn: 16.8897781\ttotal: 90.6ms\tremaining: 86.6ms\n",
      "68:\tlearn: 16.8830759\ttotal: 91.9ms\tremaining: 85.2ms\n",
      "69:\tlearn: 16.8207628\ttotal: 93.3ms\tremaining: 83.9ms\n",
      "70:\tlearn: 16.7749047\ttotal: 94.6ms\tremaining: 82.6ms\n",
      "71:\tlearn: 16.7696480\ttotal: 95.8ms\tremaining: 81.2ms\n",
      "72:\tlearn: 16.7658623\ttotal: 97ms\tremaining: 79.8ms\n",
      "73:\tlearn: 16.7380713\ttotal: 98.4ms\tremaining: 78.5ms\n",
      "74:\tlearn: 16.6637133\ttotal: 99.7ms\tremaining: 77.1ms\n",
      "75:\tlearn: 16.6537183\ttotal: 101ms\tremaining: 75.7ms\n",
      "76:\tlearn: 16.6072431\ttotal: 102ms\tremaining: 74.4ms\n",
      "77:\tlearn: 16.5540003\ttotal: 104ms\tremaining: 73ms\n",
      "78:\tlearn: 16.5104969\ttotal: 105ms\tremaining: 71.7ms\n",
      "79:\tlearn: 16.4897435\ttotal: 106ms\tremaining: 70.3ms\n",
      "80:\tlearn: 16.4027522\ttotal: 107ms\tremaining: 69ms\n",
      "81:\tlearn: 16.4003966\ttotal: 109ms\tremaining: 67.6ms\n",
      "82:\tlearn: 16.3562002\ttotal: 110ms\tremaining: 66.3ms\n",
      "83:\tlearn: 16.3169793\ttotal: 111ms\tremaining: 65ms\n",
      "84:\tlearn: 16.2592660\ttotal: 113ms\tremaining: 63.6ms\n",
      "85:\tlearn: 16.1678914\ttotal: 114ms\tremaining: 62.3ms\n",
      "86:\tlearn: 16.0943838\ttotal: 115ms\tremaining: 61ms\n",
      "87:\tlearn: 16.0158515\ttotal: 117ms\tremaining: 59.6ms\n",
      "88:\tlearn: 15.9592247\ttotal: 118ms\tremaining: 58.3ms\n",
      "89:\tlearn: 15.9282778\ttotal: 119ms\tremaining: 57ms\n",
      "90:\tlearn: 15.8826173\ttotal: 120ms\tremaining: 55.6ms\n",
      "91:\tlearn: 15.7935388\ttotal: 122ms\tremaining: 54.3ms\n",
      "92:\tlearn: 15.7787719\ttotal: 123ms\tremaining: 52.9ms\n",
      "93:\tlearn: 15.7182818\ttotal: 125ms\tremaining: 51.7ms\n",
      "94:\tlearn: 15.6591177\ttotal: 126ms\tremaining: 50.3ms\n",
      "95:\tlearn: 15.6352845\ttotal: 127ms\tremaining: 49ms\n",
      "96:\tlearn: 15.6093843\ttotal: 128ms\tremaining: 47.6ms\n",
      "97:\tlearn: 15.5401224\ttotal: 130ms\tremaining: 46.3ms\n",
      "98:\tlearn: 15.4748562\ttotal: 131ms\tremaining: 45ms\n",
      "99:\tlearn: 15.4327650\ttotal: 132ms\tremaining: 43.7ms\n",
      "100:\tlearn: 15.4095862\ttotal: 134ms\tremaining: 42.4ms\n",
      "101:\tlearn: 15.3545469\ttotal: 135ms\tremaining: 41.1ms\n",
      "102:\tlearn: 15.3326720\ttotal: 136ms\tremaining: 39.7ms\n",
      "103:\tlearn: 15.3072379\ttotal: 138ms\tremaining: 38.4ms\n",
      "104:\tlearn: 15.2565925\ttotal: 139ms\tremaining: 37.1ms\n",
      "105:\tlearn: 15.2344451\ttotal: 141ms\tremaining: 35.8ms\n",
      "106:\tlearn: 15.2023447\ttotal: 142ms\tremaining: 34.5ms\n",
      "107:\tlearn: 15.1752242\ttotal: 143ms\tremaining: 33.1ms\n",
      "108:\tlearn: 15.1115277\ttotal: 145ms\tremaining: 31.8ms\n",
      "109:\tlearn: 15.1087851\ttotal: 146ms\tremaining: 30.5ms\n",
      "110:\tlearn: 15.0805338\ttotal: 147ms\tremaining: 29.2ms\n",
      "111:\tlearn: 15.0780349\ttotal: 149ms\tremaining: 27.9ms\n",
      "112:\tlearn: 15.0484654\ttotal: 150ms\tremaining: 26.6ms\n",
      "113:\tlearn: 15.0197800\ttotal: 152ms\tremaining: 25.3ms\n",
      "114:\tlearn: 15.0050379\ttotal: 153ms\tremaining: 23.9ms\n",
      "115:\tlearn: 14.9484977\ttotal: 154ms\tremaining: 22.6ms\n",
      "116:\tlearn: 14.8992274\ttotal: 156ms\tremaining: 21.3ms\n",
      "117:\tlearn: 14.8858269\ttotal: 157ms\tremaining: 19.9ms\n",
      "118:\tlearn: 14.8584560\ttotal: 158ms\tremaining: 18.6ms\n",
      "119:\tlearn: 14.8322622\ttotal: 159ms\tremaining: 17.3ms\n",
      "120:\tlearn: 14.8221335\ttotal: 161ms\tremaining: 15.9ms\n",
      "121:\tlearn: 14.7628424\ttotal: 162ms\tremaining: 14.6ms\n",
      "122:\tlearn: 14.6892467\ttotal: 163ms\tremaining: 13.3ms\n",
      "123:\tlearn: 14.6352275\ttotal: 165ms\tremaining: 12ms\n",
      "124:\tlearn: 14.6343922\ttotal: 166ms\tremaining: 10.6ms\n",
      "125:\tlearn: 14.6091196\ttotal: 167ms\tremaining: 9.3ms\n",
      "126:\tlearn: 14.5548575\ttotal: 169ms\tremaining: 7.97ms\n",
      "127:\tlearn: 14.5027359\ttotal: 170ms\tremaining: 6.64ms\n",
      "128:\tlearn: 14.4317082\ttotal: 172ms\tremaining: 5.32ms\n",
      "129:\tlearn: 14.3958146\ttotal: 173ms\tremaining: 3.99ms\n",
      "130:\tlearn: 14.3946802\ttotal: 174ms\tremaining: 2.66ms\n",
      "131:\tlearn: 14.3674123\ttotal: 175ms\tremaining: 1.33ms\n",
      "132:\tlearn: 14.2941836\ttotal: 177ms\tremaining: 0us\n",
      "Learning rate set to 0.255023\n",
      "0:\tlearn: 31.8910360\ttotal: 1.81ms\tremaining: 239ms\n",
      "1:\tlearn: 29.1994856\ttotal: 3.49ms\tremaining: 229ms\n",
      "2:\tlearn: 27.3206634\ttotal: 5.12ms\tremaining: 222ms\n",
      "3:\tlearn: 26.3835055\ttotal: 6.69ms\tremaining: 216ms\n",
      "4:\tlearn: 25.4639133\ttotal: 8.18ms\tremaining: 209ms\n",
      "5:\tlearn: 24.9269430\ttotal: 9.69ms\tremaining: 205ms\n",
      "6:\tlearn: 24.6188401\ttotal: 11.3ms\tremaining: 203ms\n",
      "7:\tlearn: 24.1132662\ttotal: 12.8ms\tremaining: 200ms\n",
      "8:\tlearn: 23.5703586\ttotal: 14.3ms\tremaining: 197ms\n",
      "9:\tlearn: 23.4407442\ttotal: 15.8ms\tremaining: 194ms\n",
      "10:\tlearn: 23.3052631\ttotal: 17.2ms\tremaining: 191ms\n",
      "11:\tlearn: 23.1889656\ttotal: 18.7ms\tremaining: 189ms\n",
      "12:\tlearn: 22.8692557\ttotal: 20.3ms\tremaining: 187ms\n",
      "13:\tlearn: 22.6411926\ttotal: 21.8ms\tremaining: 185ms\n",
      "14:\tlearn: 22.4863752\ttotal: 23.3ms\tremaining: 183ms\n",
      "15:\tlearn: 22.3699433\ttotal: 24.7ms\tremaining: 181ms\n",
      "16:\tlearn: 22.2400595\ttotal: 26.1ms\tremaining: 178ms\n",
      "17:\tlearn: 22.0745322\ttotal: 27.6ms\tremaining: 177ms\n",
      "18:\tlearn: 21.8038996\ttotal: 29ms\tremaining: 174ms\n",
      "19:\tlearn: 21.6597589\ttotal: 30.6ms\tremaining: 173ms\n",
      "20:\tlearn: 21.5718094\ttotal: 32ms\tremaining: 171ms\n",
      "21:\tlearn: 21.4283204\ttotal: 33.5ms\tremaining: 169ms\n",
      "22:\tlearn: 21.3781144\ttotal: 34.9ms\tremaining: 167ms\n",
      "23:\tlearn: 21.3085836\ttotal: 36.3ms\tremaining: 165ms\n",
      "24:\tlearn: 21.2301757\ttotal: 37.8ms\tremaining: 163ms\n",
      "25:\tlearn: 21.1424187\ttotal: 39.2ms\tremaining: 161ms\n",
      "26:\tlearn: 21.0719998\ttotal: 40.7ms\tremaining: 160ms\n",
      "27:\tlearn: 20.9662725\ttotal: 42.3ms\tremaining: 159ms\n",
      "28:\tlearn: 20.9289356\ttotal: 43.7ms\tremaining: 157ms\n",
      "29:\tlearn: 20.7768961\ttotal: 45.2ms\tremaining: 155ms\n",
      "30:\tlearn: 20.6970109\ttotal: 46.6ms\tremaining: 153ms\n",
      "31:\tlearn: 20.6489082\ttotal: 48ms\tremaining: 151ms\n",
      "32:\tlearn: 20.4981053\ttotal: 49.4ms\tremaining: 150ms\n",
      "33:\tlearn: 20.3896665\ttotal: 50.9ms\tremaining: 148ms\n",
      "34:\tlearn: 20.3141956\ttotal: 52.4ms\tremaining: 147ms\n",
      "35:\tlearn: 20.1164754\ttotal: 53.9ms\tremaining: 145ms\n",
      "36:\tlearn: 20.0354952\ttotal: 55.3ms\tremaining: 144ms\n",
      "37:\tlearn: 19.9418626\ttotal: 56.8ms\tremaining: 142ms\n",
      "38:\tlearn: 19.8767304\ttotal: 58.3ms\tremaining: 141ms\n",
      "39:\tlearn: 19.7352984\ttotal: 59.8ms\tremaining: 139ms\n",
      "40:\tlearn: 19.6281282\ttotal: 61.4ms\tremaining: 138ms\n",
      "41:\tlearn: 19.5251816\ttotal: 62.8ms\tremaining: 136ms\n",
      "42:\tlearn: 19.5101171\ttotal: 64.2ms\tremaining: 134ms\n",
      "43:\tlearn: 19.4273136\ttotal: 66.2ms\tremaining: 134ms\n",
      "44:\tlearn: 19.3162378\ttotal: 68ms\tremaining: 133ms\n",
      "45:\tlearn: 19.2220367\ttotal: 69.5ms\tremaining: 131ms\n",
      "46:\tlearn: 19.2089261\ttotal: 71ms\tremaining: 130ms\n",
      "47:\tlearn: 19.0997564\ttotal: 72.5ms\tremaining: 128ms\n",
      "48:\tlearn: 18.9736650\ttotal: 74ms\tremaining: 127ms\n",
      "49:\tlearn: 18.9228318\ttotal: 75.6ms\tremaining: 125ms\n",
      "50:\tlearn: 18.8345415\ttotal: 77.1ms\tremaining: 124ms\n",
      "51:\tlearn: 18.7907879\ttotal: 78.6ms\tremaining: 122ms\n",
      "52:\tlearn: 18.7559702\ttotal: 80ms\tremaining: 121ms\n",
      "53:\tlearn: 18.7163370\ttotal: 81.5ms\tremaining: 119ms\n",
      "54:\tlearn: 18.6656306\ttotal: 82.9ms\tremaining: 118ms\n",
      "55:\tlearn: 18.5817178\ttotal: 84.3ms\tremaining: 116ms\n",
      "56:\tlearn: 18.4844151\ttotal: 85.8ms\tremaining: 114ms\n",
      "57:\tlearn: 18.3748867\ttotal: 87.4ms\tremaining: 113ms\n",
      "58:\tlearn: 18.3012741\ttotal: 89.2ms\tremaining: 112ms\n",
      "59:\tlearn: 18.2629357\ttotal: 90.8ms\tremaining: 110ms\n",
      "60:\tlearn: 18.2308756\ttotal: 92.4ms\tremaining: 109ms\n",
      "61:\tlearn: 18.1590991\ttotal: 93.9ms\tremaining: 108ms\n",
      "62:\tlearn: 18.1282813\ttotal: 95.5ms\tremaining: 106ms\n",
      "63:\tlearn: 18.0664171\ttotal: 97.1ms\tremaining: 105ms\n",
      "64:\tlearn: 17.9638126\ttotal: 98.6ms\tremaining: 103ms\n",
      "65:\tlearn: 17.9207181\ttotal: 101ms\tremaining: 102ms\n",
      "66:\tlearn: 17.8586485\ttotal: 102ms\tremaining: 101ms\n",
      "67:\tlearn: 17.8021000\ttotal: 104ms\tremaining: 99.1ms\n",
      "68:\tlearn: 17.7636931\ttotal: 105ms\tremaining: 97.5ms\n",
      "69:\tlearn: 17.7412742\ttotal: 107ms\tremaining: 95.9ms\n",
      "70:\tlearn: 17.6712727\ttotal: 108ms\tremaining: 94.4ms\n",
      "71:\tlearn: 17.6356824\ttotal: 110ms\tremaining: 92.9ms\n",
      "72:\tlearn: 17.5552434\ttotal: 111ms\tremaining: 91.4ms\n",
      "73:\tlearn: 17.5019752\ttotal: 113ms\tremaining: 89.9ms\n",
      "74:\tlearn: 17.4960014\ttotal: 114ms\tremaining: 88.3ms\n",
      "75:\tlearn: 17.4523267\ttotal: 116ms\tremaining: 86.8ms\n",
      "76:\tlearn: 17.4384888\ttotal: 117ms\tremaining: 85.2ms\n",
      "77:\tlearn: 17.3785561\ttotal: 119ms\tremaining: 83.7ms\n",
      "78:\tlearn: 17.3596023\ttotal: 120ms\tremaining: 82.2ms\n",
      "79:\tlearn: 17.3558473\ttotal: 122ms\tremaining: 80.7ms\n",
      "80:\tlearn: 17.2810309\ttotal: 123ms\tremaining: 79.2ms\n",
      "81:\tlearn: 17.2360774\ttotal: 125ms\tremaining: 77.7ms\n",
      "82:\tlearn: 17.2164972\ttotal: 126ms\tremaining: 76.1ms\n",
      "83:\tlearn: 17.2078359\ttotal: 128ms\tremaining: 74.5ms\n",
      "84:\tlearn: 17.1638453\ttotal: 129ms\tremaining: 73ms\n",
      "85:\tlearn: 17.1305213\ttotal: 131ms\tremaining: 71.5ms\n",
      "86:\tlearn: 17.1106848\ttotal: 132ms\tremaining: 70ms\n",
      "87:\tlearn: 17.0525137\ttotal: 134ms\tremaining: 68.6ms\n",
      "88:\tlearn: 16.9916954\ttotal: 136ms\tremaining: 67ms\n",
      "89:\tlearn: 16.9569846\ttotal: 137ms\tremaining: 65.5ms\n",
      "90:\tlearn: 16.9213496\ttotal: 139ms\tremaining: 64ms\n",
      "91:\tlearn: 16.8892907\ttotal: 140ms\tremaining: 62.5ms\n",
      "92:\tlearn: 16.8593247\ttotal: 142ms\tremaining: 61ms\n",
      "93:\tlearn: 16.8330930\ttotal: 143ms\tremaining: 59.4ms\n",
      "94:\tlearn: 16.7806309\ttotal: 145ms\tremaining: 57.9ms\n",
      "95:\tlearn: 16.7488332\ttotal: 146ms\tremaining: 56.4ms\n",
      "96:\tlearn: 16.6726774\ttotal: 148ms\tremaining: 54.9ms\n",
      "97:\tlearn: 16.6320780\ttotal: 149ms\tremaining: 53.4ms\n",
      "98:\tlearn: 16.6273624\ttotal: 151ms\tremaining: 51.9ms\n",
      "99:\tlearn: 16.5762373\ttotal: 153ms\tremaining: 50.3ms\n",
      "100:\tlearn: 16.5743107\ttotal: 154ms\tremaining: 48.8ms\n",
      "101:\tlearn: 16.4913352\ttotal: 155ms\tremaining: 47.3ms\n",
      "102:\tlearn: 16.4714767\ttotal: 157ms\tremaining: 45.7ms\n",
      "103:\tlearn: 16.4244335\ttotal: 159ms\tremaining: 44.2ms\n",
      "104:\tlearn: 16.3517556\ttotal: 160ms\tremaining: 42.7ms\n",
      "105:\tlearn: 16.3286434\ttotal: 162ms\tremaining: 41.2ms\n",
      "106:\tlearn: 16.3192319\ttotal: 163ms\tremaining: 39.7ms\n",
      "107:\tlearn: 16.2824589\ttotal: 165ms\tremaining: 38.1ms\n",
      "108:\tlearn: 16.2579439\ttotal: 166ms\tremaining: 36.6ms\n",
      "109:\tlearn: 16.2367421\ttotal: 168ms\tremaining: 35.1ms\n",
      "110:\tlearn: 16.1805471\ttotal: 169ms\tremaining: 33.6ms\n",
      "111:\tlearn: 16.1452488\ttotal: 171ms\tremaining: 32ms\n",
      "112:\tlearn: 16.1247401\ttotal: 172ms\tremaining: 30.5ms\n",
      "113:\tlearn: 16.1063433\ttotal: 174ms\tremaining: 29ms\n",
      "114:\tlearn: 16.0825315\ttotal: 175ms\tremaining: 27.5ms\n",
      "115:\tlearn: 16.0443017\ttotal: 177ms\tremaining: 25.9ms\n",
      "116:\tlearn: 16.0040677\ttotal: 179ms\tremaining: 24.4ms\n",
      "117:\tlearn: 15.9776265\ttotal: 180ms\tremaining: 22.9ms\n",
      "118:\tlearn: 15.9590274\ttotal: 182ms\tremaining: 21.4ms\n",
      "119:\tlearn: 15.9296299\ttotal: 183ms\tremaining: 19.8ms\n",
      "120:\tlearn: 15.8953574\ttotal: 185ms\tremaining: 18.3ms\n",
      "121:\tlearn: 15.8857191\ttotal: 186ms\tremaining: 16.8ms\n",
      "122:\tlearn: 15.8138603\ttotal: 188ms\tremaining: 15.3ms\n",
      "123:\tlearn: 15.7498868\ttotal: 189ms\tremaining: 13.7ms\n",
      "124:\tlearn: 15.7259754\ttotal: 191ms\tremaining: 12.2ms\n",
      "125:\tlearn: 15.7054045\ttotal: 192ms\tremaining: 10.7ms\n",
      "126:\tlearn: 15.6972690\ttotal: 194ms\tremaining: 9.15ms\n",
      "127:\tlearn: 15.6259358\ttotal: 195ms\tremaining: 7.62ms\n",
      "128:\tlearn: 15.5754215\ttotal: 197ms\tremaining: 6.1ms\n",
      "129:\tlearn: 15.5275768\ttotal: 198ms\tremaining: 4.58ms\n",
      "130:\tlearn: 15.5052359\ttotal: 200ms\tremaining: 3.05ms\n",
      "131:\tlearn: 15.4825902\ttotal: 201ms\tremaining: 1.52ms\n",
      "132:\tlearn: 15.4540496\ttotal: 203ms\tremaining: 0us\n",
      "Learning rate set to 0.196674\n",
      "0:\tlearn: 27.0812309\ttotal: 1.05ms\tremaining: 140ms\n",
      "1:\tlearn: 25.1185886\ttotal: 2.06ms\tremaining: 136ms\n",
      "2:\tlearn: 23.4496764\ttotal: 3.03ms\tremaining: 132ms\n",
      "3:\tlearn: 22.1504662\ttotal: 3.89ms\tremaining: 127ms\n",
      "4:\tlearn: 21.1885887\ttotal: 4.74ms\tremaining: 122ms\n",
      "5:\tlearn: 20.5220213\ttotal: 5.6ms\tremaining: 119ms\n",
      "6:\tlearn: 20.0047037\ttotal: 6.65ms\tremaining: 121ms\n",
      "7:\tlearn: 19.4564291\ttotal: 7.57ms\tremaining: 119ms\n",
      "8:\tlearn: 18.8496559\ttotal: 8.44ms\tremaining: 117ms\n",
      "9:\tlearn: 18.3765484\ttotal: 9.29ms\tremaining: 115ms\n",
      "10:\tlearn: 17.9364059\ttotal: 10.2ms\tremaining: 114ms\n",
      "11:\tlearn: 17.6713791\ttotal: 11.1ms\tremaining: 112ms\n",
      "12:\tlearn: 17.3716421\ttotal: 11.9ms\tremaining: 111ms\n",
      "13:\tlearn: 17.1782275\ttotal: 12.8ms\tremaining: 109ms\n",
      "14:\tlearn: 16.9150099\ttotal: 13.7ms\tremaining: 109ms\n",
      "15:\tlearn: 16.7438367\ttotal: 14.6ms\tremaining: 107ms\n",
      "16:\tlearn: 16.6119790\ttotal: 15.4ms\tremaining: 106ms\n",
      "17:\tlearn: 16.4531207\ttotal: 16.2ms\tremaining: 104ms\n",
      "18:\tlearn: 16.3321915\ttotal: 17ms\tremaining: 103ms\n",
      "19:\tlearn: 16.1855958\ttotal: 17.8ms\tremaining: 102ms\n",
      "20:\tlearn: 16.0373321\ttotal: 18.7ms\tremaining: 100ms\n",
      "21:\tlearn: 15.8760489\ttotal: 19.5ms\tremaining: 99.3ms\n",
      "22:\tlearn: 15.7634279\ttotal: 20.3ms\tremaining: 98ms\n",
      "23:\tlearn: 15.6093662\ttotal: 21.7ms\tremaining: 99.4ms\n",
      "24:\tlearn: 15.4674509\ttotal: 22.8ms\tremaining: 99.3ms\n",
      "25:\tlearn: 15.2875665\ttotal: 23.7ms\tremaining: 98.4ms\n",
      "26:\tlearn: 15.1484496\ttotal: 24.5ms\tremaining: 97.1ms\n",
      "27:\tlearn: 15.0848937\ttotal: 25.3ms\tremaining: 95.9ms\n",
      "28:\tlearn: 15.0300636\ttotal: 26.3ms\tremaining: 95.3ms\n",
      "29:\tlearn: 14.8378384\ttotal: 27.2ms\tremaining: 94.4ms\n",
      "30:\tlearn: 14.7242429\ttotal: 28.1ms\tremaining: 93.3ms\n",
      "31:\tlearn: 14.5589881\ttotal: 28.9ms\tremaining: 92.1ms\n",
      "32:\tlearn: 14.4373495\ttotal: 29.7ms\tremaining: 91ms\n",
      "33:\tlearn: 14.3027765\ttotal: 30.5ms\tremaining: 89.8ms\n",
      "34:\tlearn: 14.2168575\ttotal: 31.4ms\tremaining: 88.7ms\n",
      "35:\tlearn: 14.0400890\ttotal: 32.2ms\tremaining: 87.6ms\n",
      "36:\tlearn: 13.9952470\ttotal: 33ms\tremaining: 86.6ms\n",
      "37:\tlearn: 13.9137092\ttotal: 33.9ms\tremaining: 85.7ms\n",
      "38:\tlearn: 13.8157694\ttotal: 34.7ms\tremaining: 84.5ms\n",
      "39:\tlearn: 13.7500456\ttotal: 35.5ms\tremaining: 83.5ms\n",
      "40:\tlearn: 13.6933906\ttotal: 36.3ms\tremaining: 82.4ms\n",
      "41:\tlearn: 13.5658124\ttotal: 37.1ms\tremaining: 81.3ms\n",
      "42:\tlearn: 13.5088728\ttotal: 37.9ms\tremaining: 80.2ms\n",
      "43:\tlearn: 13.4992686\ttotal: 38.5ms\tremaining: 78.7ms\n",
      "44:\tlearn: 13.3473502\ttotal: 39.3ms\tremaining: 77.7ms\n",
      "45:\tlearn: 13.2395330\ttotal: 40.1ms\tremaining: 76.7ms\n",
      "46:\tlearn: 13.2299657\ttotal: 40.9ms\tremaining: 75.7ms\n",
      "47:\tlearn: 13.1250235\ttotal: 41.8ms\tremaining: 75ms\n",
      "48:\tlearn: 12.9699512\ttotal: 42.8ms\tremaining: 74.2ms\n",
      "49:\tlearn: 12.9252154\ttotal: 43.6ms\tremaining: 73.3ms\n",
      "50:\tlearn: 12.9181580\ttotal: 44.5ms\tremaining: 72.4ms\n",
      "51:\tlearn: 12.8917634\ttotal: 45.3ms\tremaining: 71.4ms\n",
      "52:\tlearn: 12.7995285\ttotal: 46.1ms\tremaining: 70.5ms\n",
      "53:\tlearn: 12.7923779\ttotal: 47ms\tremaining: 69.6ms\n",
      "54:\tlearn: 12.7865258\ttotal: 47.8ms\tremaining: 68.6ms\n",
      "55:\tlearn: 12.6131258\ttotal: 48.7ms\tremaining: 67.8ms\n",
      "56:\tlearn: 12.4976053\ttotal: 49.5ms\tremaining: 66.9ms\n",
      "57:\tlearn: 12.3492540\ttotal: 50.4ms\tremaining: 66ms\n",
      "58:\tlearn: 12.2568444\ttotal: 51.2ms\tremaining: 65.1ms\n",
      "59:\tlearn: 12.1847863\ttotal: 52.1ms\tremaining: 64.2ms\n",
      "60:\tlearn: 12.0896680\ttotal: 52.9ms\tremaining: 63.3ms\n",
      "61:\tlearn: 12.0642950\ttotal: 53.7ms\tremaining: 62.4ms\n",
      "62:\tlearn: 11.9618258\ttotal: 54.6ms\tremaining: 61.5ms\n",
      "63:\tlearn: 11.8700011\ttotal: 55.4ms\tremaining: 60.6ms\n",
      "64:\tlearn: 11.7680832\ttotal: 56.2ms\tremaining: 59.7ms\n",
      "65:\tlearn: 11.6438179\ttotal: 57ms\tremaining: 58.8ms\n",
      "66:\tlearn: 11.5790757\ttotal: 57.9ms\tremaining: 57.9ms\n",
      "67:\tlearn: 11.5751593\ttotal: 58.6ms\tremaining: 56.9ms\n",
      "68:\tlearn: 11.5305262\ttotal: 59.5ms\tremaining: 56ms\n",
      "69:\tlearn: 11.4259038\ttotal: 60.2ms\tremaining: 55.1ms\n",
      "70:\tlearn: 11.3020099\ttotal: 61.1ms\tremaining: 54.2ms\n",
      "71:\tlearn: 11.2966407\ttotal: 61.9ms\tremaining: 53.3ms\n",
      "72:\tlearn: 11.2922643\ttotal: 62.7ms\tremaining: 52.4ms\n",
      "73:\tlearn: 11.2867216\ttotal: 63.5ms\tremaining: 51.5ms\n",
      "74:\tlearn: 11.2327607\ttotal: 64.3ms\tremaining: 50.6ms\n",
      "75:\tlearn: 11.1528133\ttotal: 65.2ms\tremaining: 49.7ms\n",
      "76:\tlearn: 11.0573829\ttotal: 66ms\tremaining: 48.8ms\n",
      "77:\tlearn: 10.9565872\ttotal: 66.8ms\tremaining: 48ms\n",
      "78:\tlearn: 10.9239272\ttotal: 67.6ms\tremaining: 47.1ms\n",
      "79:\tlearn: 10.8585807\ttotal: 68.4ms\tremaining: 46.2ms\n",
      "80:\tlearn: 10.7257753\ttotal: 69.2ms\tremaining: 45.3ms\n",
      "81:\tlearn: 10.6798125\ttotal: 70.1ms\tremaining: 44.5ms\n",
      "82:\tlearn: 10.6140860\ttotal: 71ms\tremaining: 43.6ms\n",
      "83:\tlearn: 10.5416616\ttotal: 71.8ms\tremaining: 42.7ms\n",
      "84:\tlearn: 10.5097575\ttotal: 72.6ms\tremaining: 41.9ms\n",
      "85:\tlearn: 10.4091820\ttotal: 73.4ms\tremaining: 41ms\n",
      "86:\tlearn: 10.3322506\ttotal: 74.3ms\tremaining: 40.1ms\n",
      "87:\tlearn: 10.2726858\ttotal: 75.1ms\tremaining: 39.2ms\n",
      "88:\tlearn: 10.2212748\ttotal: 75.9ms\tremaining: 38.4ms\n",
      "89:\tlearn: 10.1775020\ttotal: 76.7ms\tremaining: 37.5ms\n",
      "90:\tlearn: 10.1327744\ttotal: 77.6ms\tremaining: 36.6ms\n",
      "91:\tlearn: 10.0491035\ttotal: 78.4ms\tremaining: 35.8ms\n",
      "92:\tlearn: 9.9982788\ttotal: 79.2ms\tremaining: 34.9ms\n",
      "93:\tlearn: 9.9350680\ttotal: 80.1ms\tremaining: 34.1ms\n",
      "94:\tlearn: 9.8429695\ttotal: 81ms\tremaining: 33.2ms\n",
      "95:\tlearn: 9.7439043\ttotal: 81.8ms\tremaining: 32.4ms\n",
      "96:\tlearn: 9.6891895\ttotal: 82.6ms\tremaining: 31.5ms\n",
      "97:\tlearn: 9.6613038\ttotal: 83.4ms\tremaining: 30.6ms\n",
      "98:\tlearn: 9.5985324\ttotal: 84.2ms\tremaining: 29.8ms\n",
      "99:\tlearn: 9.5192753\ttotal: 85.1ms\tremaining: 28.9ms\n",
      "100:\tlearn: 9.4804627\ttotal: 85.9ms\tremaining: 28.1ms\n",
      "101:\tlearn: 9.4605439\ttotal: 86.7ms\tremaining: 27.2ms\n",
      "102:\tlearn: 9.4285563\ttotal: 87.5ms\tremaining: 26.3ms\n",
      "103:\tlearn: 9.3644250\ttotal: 88.4ms\tremaining: 25.5ms\n",
      "104:\tlearn: 9.3511688\ttotal: 89.2ms\tremaining: 24.6ms\n",
      "105:\tlearn: 9.2802144\ttotal: 90ms\tremaining: 23.8ms\n",
      "106:\tlearn: 9.2489098\ttotal: 90.8ms\tremaining: 22.9ms\n",
      "107:\tlearn: 9.2469302\ttotal: 91.4ms\tremaining: 22ms\n",
      "108:\tlearn: 9.2013664\ttotal: 92.2ms\tremaining: 21.2ms\n",
      "109:\tlearn: 9.1391584\ttotal: 93.1ms\tremaining: 20.3ms\n",
      "110:\tlearn: 9.1144243\ttotal: 93.9ms\tremaining: 19.5ms\n",
      "111:\tlearn: 9.0141211\ttotal: 94.7ms\tremaining: 18.6ms\n",
      "112:\tlearn: 8.9713102\ttotal: 95.6ms\tremaining: 17.8ms\n",
      "113:\tlearn: 8.9693376\ttotal: 96.5ms\tremaining: 16.9ms\n",
      "114:\tlearn: 8.9201871\ttotal: 97.3ms\tremaining: 16.1ms\n",
      "115:\tlearn: 8.8742507\ttotal: 98.2ms\tremaining: 15.2ms\n",
      "116:\tlearn: 8.8120719\ttotal: 99ms\tremaining: 14.4ms\n",
      "117:\tlearn: 8.7503883\ttotal: 100ms\tremaining: 13.6ms\n",
      "118:\tlearn: 8.7109477\ttotal: 101ms\tremaining: 12.7ms\n",
      "119:\tlearn: 8.6767090\ttotal: 102ms\tremaining: 11.9ms\n",
      "120:\tlearn: 8.6525142\ttotal: 103ms\tremaining: 11ms\n",
      "121:\tlearn: 8.5898070\ttotal: 103ms\tremaining: 10.2ms\n",
      "122:\tlearn: 8.5227102\ttotal: 104ms\tremaining: 9.33ms\n",
      "123:\tlearn: 8.4992069\ttotal: 105ms\tremaining: 8.48ms\n",
      "124:\tlearn: 8.4456786\ttotal: 106ms\tremaining: 7.63ms\n",
      "125:\tlearn: 8.3756899\ttotal: 107ms\tremaining: 6.78ms\n",
      "126:\tlearn: 8.3740370\ttotal: 108ms\tremaining: 5.93ms\n",
      "127:\tlearn: 8.3420581\ttotal: 108ms\tremaining: 5.08ms\n",
      "128:\tlearn: 8.2924106\ttotal: 109ms\tremaining: 4.23ms\n",
      "129:\tlearn: 8.2672505\ttotal: 110ms\tremaining: 3.39ms\n",
      "130:\tlearn: 8.2200748\ttotal: 111ms\tremaining: 2.54ms\n",
      "131:\tlearn: 8.1570473\ttotal: 112ms\tremaining: 1.69ms\n",
      "132:\tlearn: 8.1009575\ttotal: 113ms\tremaining: 847us\n",
      "133:\tlearn: 8.0592152\ttotal: 113ms\tremaining: 0us\n",
      "Learning rate set to 0.219358\n",
      "0:\tlearn: 27.9291461\ttotal: 1.28ms\tremaining: 171ms\n",
      "1:\tlearn: 26.1665698\ttotal: 2.47ms\tremaining: 163ms\n",
      "2:\tlearn: 24.4424144\ttotal: 3.58ms\tremaining: 156ms\n",
      "3:\tlearn: 23.3922679\ttotal: 4.61ms\tremaining: 150ms\n",
      "4:\tlearn: 22.4501668\ttotal: 5.68ms\tremaining: 147ms\n",
      "5:\tlearn: 21.6684081\ttotal: 6.71ms\tremaining: 143ms\n",
      "6:\tlearn: 21.3598337\ttotal: 7.71ms\tremaining: 140ms\n",
      "7:\tlearn: 20.7688288\ttotal: 8.79ms\tremaining: 138ms\n",
      "8:\tlearn: 20.3850065\ttotal: 9.75ms\tremaining: 135ms\n",
      "9:\tlearn: 20.1034909\ttotal: 10.7ms\tremaining: 133ms\n",
      "10:\tlearn: 19.8342298\ttotal: 11.7ms\tremaining: 131ms\n",
      "11:\tlearn: 19.5582417\ttotal: 12.8ms\tremaining: 130ms\n",
      "12:\tlearn: 19.2273648\ttotal: 13.8ms\tremaining: 129ms\n",
      "13:\tlearn: 19.0005958\ttotal: 14.8ms\tremaining: 127ms\n",
      "14:\tlearn: 18.8096398\ttotal: 15.8ms\tremaining: 125ms\n",
      "15:\tlearn: 18.6402678\ttotal: 16.8ms\tremaining: 124ms\n",
      "16:\tlearn: 18.4302103\ttotal: 17.8ms\tremaining: 122ms\n",
      "17:\tlearn: 18.2645003\ttotal: 18.8ms\tremaining: 121ms\n",
      "18:\tlearn: 18.0922336\ttotal: 19.8ms\tremaining: 120ms\n",
      "19:\tlearn: 17.9447416\ttotal: 20.7ms\tremaining: 118ms\n",
      "20:\tlearn: 17.8307365\ttotal: 21.7ms\tremaining: 117ms\n",
      "21:\tlearn: 17.7647635\ttotal: 22.7ms\tremaining: 115ms\n",
      "22:\tlearn: 17.7249510\ttotal: 23.7ms\tremaining: 114ms\n",
      "23:\tlearn: 17.6040220\ttotal: 24.6ms\tremaining: 113ms\n",
      "24:\tlearn: 17.5236512\ttotal: 25.6ms\tremaining: 112ms\n",
      "25:\tlearn: 17.3859009\ttotal: 26.6ms\tremaining: 110ms\n",
      "26:\tlearn: 17.3445207\ttotal: 27.6ms\tremaining: 109ms\n",
      "27:\tlearn: 17.2504272\ttotal: 28.6ms\tremaining: 108ms\n",
      "28:\tlearn: 17.1620567\ttotal: 29.6ms\tremaining: 107ms\n",
      "29:\tlearn: 16.9955920\ttotal: 30.5ms\tremaining: 106ms\n",
      "30:\tlearn: 16.8730236\ttotal: 31.5ms\tremaining: 105ms\n",
      "31:\tlearn: 16.8222572\ttotal: 32.5ms\tremaining: 104ms\n",
      "32:\tlearn: 16.7064528\ttotal: 33.5ms\tremaining: 103ms\n",
      "33:\tlearn: 16.5986620\ttotal: 34.5ms\tremaining: 101ms\n",
      "34:\tlearn: 16.4912900\ttotal: 35.5ms\tremaining: 100ms\n",
      "35:\tlearn: 16.3055228\ttotal: 36.5ms\tremaining: 99.4ms\n",
      "36:\tlearn: 16.2925773\ttotal: 37.5ms\tremaining: 98.3ms\n",
      "37:\tlearn: 16.2654052\ttotal: 38.5ms\tremaining: 97.3ms\n",
      "38:\tlearn: 16.1777195\ttotal: 39.5ms\tremaining: 96.2ms\n",
      "39:\tlearn: 16.1338758\ttotal: 40.4ms\tremaining: 95ms\n",
      "40:\tlearn: 16.0964002\ttotal: 41.4ms\tremaining: 93.9ms\n",
      "41:\tlearn: 15.9602796\ttotal: 42.4ms\tremaining: 92.9ms\n",
      "42:\tlearn: 15.8521169\ttotal: 43.4ms\tremaining: 91.8ms\n",
      "43:\tlearn: 15.7948773\ttotal: 44.4ms\tremaining: 90.8ms\n",
      "44:\tlearn: 15.7735674\ttotal: 45.4ms\tremaining: 89.9ms\n",
      "45:\tlearn: 15.6230902\ttotal: 46.4ms\tremaining: 88.8ms\n",
      "46:\tlearn: 15.5699926\ttotal: 47.4ms\tremaining: 87.7ms\n",
      "47:\tlearn: 15.4956693\ttotal: 48.3ms\tremaining: 86.6ms\n",
      "48:\tlearn: 15.4096873\ttotal: 49.3ms\tremaining: 85.6ms\n",
      "49:\tlearn: 15.4057524\ttotal: 50.2ms\tremaining: 84.4ms\n",
      "50:\tlearn: 15.3378305\ttotal: 51.2ms\tremaining: 83.4ms\n",
      "51:\tlearn: 15.2325723\ttotal: 52.3ms\tremaining: 82.5ms\n",
      "52:\tlearn: 15.1747404\ttotal: 53.3ms\tremaining: 81.5ms\n",
      "53:\tlearn: 15.1057489\ttotal: 54.3ms\tremaining: 80.5ms\n",
      "54:\tlearn: 14.9871440\ttotal: 55.4ms\tremaining: 79.5ms\n",
      "55:\tlearn: 14.9824741\ttotal: 56.3ms\tremaining: 78.5ms\n",
      "56:\tlearn: 14.9604283\ttotal: 57.3ms\tremaining: 77.4ms\n",
      "57:\tlearn: 14.8766232\ttotal: 58.3ms\tremaining: 76.4ms\n",
      "58:\tlearn: 14.8734331\ttotal: 59.2ms\tremaining: 75.3ms\n",
      "59:\tlearn: 14.7803918\ttotal: 60.2ms\tremaining: 74.3ms\n",
      "60:\tlearn: 14.7108094\ttotal: 61.2ms\tremaining: 73.3ms\n",
      "61:\tlearn: 14.6875450\ttotal: 62.2ms\tremaining: 72.2ms\n",
      "62:\tlearn: 14.5947893\ttotal: 63.1ms\tremaining: 71.2ms\n",
      "63:\tlearn: 14.4795246\ttotal: 64.1ms\tremaining: 70.2ms\n",
      "64:\tlearn: 14.3610330\ttotal: 65.2ms\tremaining: 69.2ms\n",
      "65:\tlearn: 14.2862393\ttotal: 66.2ms\tremaining: 68.2ms\n",
      "66:\tlearn: 14.2102556\ttotal: 67.2ms\tremaining: 67.2ms\n",
      "67:\tlearn: 14.0951451\ttotal: 68.2ms\tremaining: 66.2ms\n",
      "68:\tlearn: 14.0917416\ttotal: 69.2ms\tremaining: 65.2ms\n",
      "69:\tlearn: 13.9776947\ttotal: 70.2ms\tremaining: 64.2ms\n",
      "70:\tlearn: 13.9386908\ttotal: 71.2ms\tremaining: 63.2ms\n",
      "71:\tlearn: 13.9206461\ttotal: 72.2ms\tremaining: 62.1ms\n",
      "72:\tlearn: 13.8101213\ttotal: 73.2ms\tremaining: 61.1ms\n",
      "73:\tlearn: 13.7498595\ttotal: 74.1ms\tremaining: 60.1ms\n",
      "74:\tlearn: 13.6928231\ttotal: 75.1ms\tremaining: 59.1ms\n",
      "75:\tlearn: 13.6492298\ttotal: 76.1ms\tremaining: 58.1ms\n",
      "76:\tlearn: 13.5651691\ttotal: 77.1ms\tremaining: 57.1ms\n",
      "77:\tlearn: 13.5085896\ttotal: 78.2ms\tremaining: 56.1ms\n",
      "78:\tlearn: 13.4510345\ttotal: 79.2ms\tremaining: 55.1ms\n",
      "79:\tlearn: 13.4075838\ttotal: 80.2ms\tremaining: 54.1ms\n",
      "80:\tlearn: 13.3511306\ttotal: 81.2ms\tremaining: 53.1ms\n",
      "81:\tlearn: 13.3192736\ttotal: 82.2ms\tremaining: 52.1ms\n",
      "82:\tlearn: 13.2571599\ttotal: 83.2ms\tremaining: 51.1ms\n",
      "83:\tlearn: 13.2304713\ttotal: 84.2ms\tremaining: 50.1ms\n",
      "84:\tlearn: 13.1666948\ttotal: 85.2ms\tremaining: 49.1ms\n",
      "85:\tlearn: 13.1038355\ttotal: 86.3ms\tremaining: 48.1ms\n",
      "86:\tlearn: 13.0933049\ttotal: 87.3ms\tremaining: 47.1ms\n",
      "87:\tlearn: 13.0557836\ttotal: 88.2ms\tremaining: 46.1ms\n",
      "88:\tlearn: 12.9550708\ttotal: 89.3ms\tremaining: 45.2ms\n",
      "89:\tlearn: 12.9192866\ttotal: 90.4ms\tremaining: 44.2ms\n",
      "90:\tlearn: 12.8139766\ttotal: 91.3ms\tremaining: 43.2ms\n",
      "91:\tlearn: 12.8110533\ttotal: 92.3ms\tremaining: 42.1ms\n",
      "92:\tlearn: 12.7562233\ttotal: 93.3ms\tremaining: 41.1ms\n",
      "93:\tlearn: 12.6493575\ttotal: 94.3ms\tremaining: 40.1ms\n",
      "94:\tlearn: 12.6131442\ttotal: 95.3ms\tremaining: 39.1ms\n",
      "95:\tlearn: 12.5354909\ttotal: 96.4ms\tremaining: 38.1ms\n",
      "96:\tlearn: 12.4765126\ttotal: 97.4ms\tremaining: 37.1ms\n",
      "97:\tlearn: 12.4702552\ttotal: 98.3ms\tremaining: 36.1ms\n",
      "98:\tlearn: 12.3993140\ttotal: 99.3ms\tremaining: 35.1ms\n",
      "99:\tlearn: 12.3664698\ttotal: 100ms\tremaining: 34.1ms\n",
      "100:\tlearn: 12.2749717\ttotal: 101ms\tremaining: 33.1ms\n",
      "101:\tlearn: 12.2508150\ttotal: 102ms\tremaining: 32.1ms\n",
      "102:\tlearn: 12.2262145\ttotal: 103ms\tremaining: 31.1ms\n",
      "103:\tlearn: 12.1613135\ttotal: 104ms\tremaining: 30.1ms\n",
      "104:\tlearn: 12.1047235\ttotal: 105ms\tremaining: 29ms\n",
      "105:\tlearn: 12.0594711\ttotal: 106ms\tremaining: 28ms\n",
      "106:\tlearn: 11.9961588\ttotal: 107ms\tremaining: 27.1ms\n",
      "107:\tlearn: 11.9458128\ttotal: 108ms\tremaining: 26ms\n",
      "108:\tlearn: 11.9441918\ttotal: 109ms\tremaining: 25ms\n",
      "109:\tlearn: 11.8775249\ttotal: 110ms\tremaining: 24ms\n",
      "110:\tlearn: 11.8434565\ttotal: 111ms\tremaining: 23ms\n",
      "111:\tlearn: 11.8166762\ttotal: 112ms\tremaining: 22ms\n",
      "112:\tlearn: 11.8036964\ttotal: 113ms\tremaining: 21ms\n",
      "113:\tlearn: 11.7397133\ttotal: 114ms\tremaining: 20ms\n",
      "114:\tlearn: 11.7160828\ttotal: 115ms\tremaining: 19ms\n",
      "115:\tlearn: 11.6950989\ttotal: 116ms\tremaining: 18ms\n",
      "116:\tlearn: 11.6637140\ttotal: 117ms\tremaining: 17ms\n",
      "117:\tlearn: 11.6385050\ttotal: 118ms\tremaining: 16ms\n",
      "118:\tlearn: 11.5762240\ttotal: 119ms\tremaining: 15ms\n",
      "119:\tlearn: 11.4971293\ttotal: 120ms\tremaining: 14ms\n",
      "120:\tlearn: 11.4676266\ttotal: 121ms\tremaining: 13ms\n",
      "121:\tlearn: 11.4002927\ttotal: 122ms\tremaining: 12ms\n",
      "122:\tlearn: 11.3300418\ttotal: 123ms\tremaining: 11ms\n",
      "123:\tlearn: 11.2875927\ttotal: 124ms\tremaining: 10ms\n",
      "124:\tlearn: 11.2290974\ttotal: 125ms\tremaining: 9.01ms\n",
      "125:\tlearn: 11.2066152\ttotal: 126ms\tremaining: 8.01ms\n",
      "126:\tlearn: 11.1817715\ttotal: 127ms\tremaining: 7.01ms\n",
      "127:\tlearn: 11.1596161\ttotal: 128ms\tremaining: 6.01ms\n",
      "128:\tlearn: 11.1390745\ttotal: 129ms\tremaining: 5.01ms\n",
      "129:\tlearn: 11.0868376\ttotal: 130ms\tremaining: 4ms\n",
      "130:\tlearn: 11.0567844\ttotal: 131ms\tremaining: 3ms\n",
      "131:\tlearn: 11.0013046\ttotal: 132ms\tremaining: 2ms\n",
      "132:\tlearn: 10.9494442\ttotal: 133ms\tremaining: 1ms\n",
      "133:\tlearn: 10.9431226\ttotal: 134ms\tremaining: 0us\n",
      "Learning rate set to 0.233843\n",
      "0:\tlearn: 29.2588951\ttotal: 1.55ms\tremaining: 206ms\n",
      "1:\tlearn: 26.9853179\ttotal: 3.04ms\tremaining: 200ms\n",
      "2:\tlearn: 25.4696034\ttotal: 4.33ms\tremaining: 189ms\n",
      "3:\tlearn: 24.4265031\ttotal: 5.53ms\tremaining: 180ms\n",
      "4:\tlearn: 23.7467567\ttotal: 6.72ms\tremaining: 173ms\n",
      "5:\tlearn: 23.2071920\ttotal: 7.95ms\tremaining: 170ms\n",
      "6:\tlearn: 22.5818410\ttotal: 9.19ms\tremaining: 167ms\n",
      "7:\tlearn: 22.0711351\ttotal: 10.4ms\tremaining: 164ms\n",
      "8:\tlearn: 21.6976920\ttotal: 11.6ms\tremaining: 161ms\n",
      "9:\tlearn: 21.5152979\ttotal: 12.8ms\tremaining: 158ms\n",
      "10:\tlearn: 21.3201975\ttotal: 13.9ms\tremaining: 156ms\n",
      "11:\tlearn: 21.1882298\ttotal: 15ms\tremaining: 153ms\n",
      "12:\tlearn: 20.8040357\ttotal: 16.3ms\tremaining: 151ms\n",
      "13:\tlearn: 20.5892689\ttotal: 17.6ms\tremaining: 151ms\n",
      "14:\tlearn: 20.3601063\ttotal: 18.8ms\tremaining: 149ms\n",
      "15:\tlearn: 20.2255617\ttotal: 20ms\tremaining: 147ms\n",
      "16:\tlearn: 20.0492058\ttotal: 21.3ms\tremaining: 147ms\n",
      "17:\tlearn: 19.8307901\ttotal: 22.5ms\tremaining: 145ms\n",
      "18:\tlearn: 19.7148100\ttotal: 23.6ms\tremaining: 143ms\n",
      "19:\tlearn: 19.5828876\ttotal: 24.8ms\tremaining: 141ms\n",
      "20:\tlearn: 19.4873158\ttotal: 25.9ms\tremaining: 140ms\n",
      "21:\tlearn: 19.3726106\ttotal: 27.1ms\tremaining: 138ms\n",
      "22:\tlearn: 19.2685180\ttotal: 28.2ms\tremaining: 136ms\n",
      "23:\tlearn: 19.1377976\ttotal: 29.4ms\tremaining: 135ms\n",
      "24:\tlearn: 18.9601801\ttotal: 30.5ms\tremaining: 133ms\n",
      "25:\tlearn: 18.8612066\ttotal: 31.7ms\tremaining: 132ms\n",
      "26:\tlearn: 18.7852627\ttotal: 32.8ms\tremaining: 130ms\n",
      "27:\tlearn: 18.7442442\ttotal: 34ms\tremaining: 129ms\n",
      "28:\tlearn: 18.6754487\ttotal: 35.2ms\tremaining: 128ms\n",
      "29:\tlearn: 18.5348635\ttotal: 36.4ms\tremaining: 126ms\n",
      "30:\tlearn: 18.4335530\ttotal: 37.7ms\tremaining: 125ms\n",
      "31:\tlearn: 18.2956537\ttotal: 38.9ms\tremaining: 124ms\n",
      "32:\tlearn: 18.1952730\ttotal: 40.1ms\tremaining: 123ms\n",
      "33:\tlearn: 18.1310513\ttotal: 41.2ms\tremaining: 121ms\n",
      "34:\tlearn: 17.9483044\ttotal: 42.4ms\tremaining: 120ms\n",
      "35:\tlearn: 17.9191315\ttotal: 43.6ms\tremaining: 119ms\n",
      "36:\tlearn: 17.8186358\ttotal: 44.8ms\tremaining: 117ms\n",
      "37:\tlearn: 17.7098764\ttotal: 45.9ms\tremaining: 116ms\n",
      "38:\tlearn: 17.6608084\ttotal: 47.1ms\tremaining: 115ms\n",
      "39:\tlearn: 17.6263967\ttotal: 48.2ms\tremaining: 113ms\n",
      "40:\tlearn: 17.6128444\ttotal: 49.4ms\tremaining: 112ms\n",
      "41:\tlearn: 17.5523535\ttotal: 50.7ms\tremaining: 111ms\n",
      "42:\tlearn: 17.4637856\ttotal: 52ms\tremaining: 110ms\n",
      "43:\tlearn: 17.4031103\ttotal: 53.2ms\tremaining: 109ms\n",
      "44:\tlearn: 17.3118969\ttotal: 54.5ms\tremaining: 108ms\n",
      "45:\tlearn: 17.2452753\ttotal: 55.7ms\tremaining: 107ms\n",
      "46:\tlearn: 17.2269789\ttotal: 56.9ms\tremaining: 105ms\n",
      "47:\tlearn: 17.0633241\ttotal: 58.2ms\tremaining: 104ms\n",
      "48:\tlearn: 16.9992987\ttotal: 59.5ms\tremaining: 103ms\n",
      "49:\tlearn: 16.9410350\ttotal: 60.6ms\tremaining: 102ms\n",
      "50:\tlearn: 16.8773806\ttotal: 61.8ms\tremaining: 101ms\n",
      "51:\tlearn: 16.8216971\ttotal: 63.1ms\tremaining: 99.5ms\n",
      "52:\tlearn: 16.8038364\ttotal: 64.2ms\tremaining: 98.1ms\n",
      "53:\tlearn: 16.7170060\ttotal: 65.3ms\tremaining: 96.8ms\n",
      "54:\tlearn: 16.6164986\ttotal: 66.6ms\tremaining: 95.6ms\n",
      "55:\tlearn: 16.5008288\ttotal: 67.8ms\tremaining: 94.4ms\n",
      "56:\tlearn: 16.4521968\ttotal: 69ms\tremaining: 93.2ms\n",
      "57:\tlearn: 16.4108397\ttotal: 70.3ms\tremaining: 92.2ms\n",
      "58:\tlearn: 16.4064175\ttotal: 71.5ms\tremaining: 90.9ms\n",
      "59:\tlearn: 16.3209063\ttotal: 72.8ms\tremaining: 89.7ms\n",
      "60:\tlearn: 16.2405529\ttotal: 74ms\tremaining: 88.5ms\n",
      "61:\tlearn: 16.1411056\ttotal: 75.5ms\tremaining: 87.6ms\n",
      "62:\tlearn: 16.0570099\ttotal: 76.7ms\tremaining: 86.4ms\n",
      "63:\tlearn: 16.0539325\ttotal: 77.8ms\tremaining: 85.1ms\n",
      "64:\tlearn: 15.9813263\ttotal: 79ms\tremaining: 83.8ms\n",
      "65:\tlearn: 15.9030164\ttotal: 80.2ms\tremaining: 82.6ms\n",
      "66:\tlearn: 15.9000795\ttotal: 81.3ms\tremaining: 81.3ms\n",
      "67:\tlearn: 15.8656430\ttotal: 82.4ms\tremaining: 80ms\n",
      "68:\tlearn: 15.8406243\ttotal: 83.6ms\tremaining: 78.7ms\n",
      "69:\tlearn: 15.7287942\ttotal: 84.8ms\tremaining: 77.5ms\n",
      "70:\tlearn: 15.6679744\ttotal: 86ms\tremaining: 76.3ms\n",
      "71:\tlearn: 15.5718440\ttotal: 87.1ms\tremaining: 75ms\n",
      "72:\tlearn: 15.5470175\ttotal: 88.3ms\tremaining: 73.8ms\n",
      "73:\tlearn: 15.4753254\ttotal: 89.5ms\tremaining: 72.5ms\n",
      "74:\tlearn: 15.3995309\ttotal: 90.6ms\tremaining: 71.3ms\n",
      "75:\tlearn: 15.3630778\ttotal: 91.8ms\tremaining: 70.1ms\n",
      "76:\tlearn: 15.2542183\ttotal: 93ms\tremaining: 68.9ms\n",
      "77:\tlearn: 15.2492802\ttotal: 94.1ms\tremaining: 67.6ms\n",
      "78:\tlearn: 15.2456786\ttotal: 95.2ms\tremaining: 66.3ms\n",
      "79:\tlearn: 15.1933837\ttotal: 96.4ms\tremaining: 65.1ms\n",
      "80:\tlearn: 15.1337511\ttotal: 97.6ms\tremaining: 63.9ms\n",
      "81:\tlearn: 15.1047284\ttotal: 98.9ms\tremaining: 62.7ms\n",
      "82:\tlearn: 15.1023392\ttotal: 100ms\tremaining: 61.5ms\n",
      "83:\tlearn: 15.0739465\ttotal: 101ms\tremaining: 60.3ms\n",
      "84:\tlearn: 14.9740925\ttotal: 102ms\tremaining: 59ms\n",
      "85:\tlearn: 14.9378476\ttotal: 104ms\tremaining: 57.8ms\n",
      "86:\tlearn: 14.9138035\ttotal: 105ms\tremaining: 56.6ms\n",
      "87:\tlearn: 14.8420732\ttotal: 106ms\tremaining: 55.4ms\n",
      "88:\tlearn: 14.7856876\ttotal: 107ms\tremaining: 54.2ms\n",
      "89:\tlearn: 14.7406779\ttotal: 108ms\tremaining: 53ms\n",
      "90:\tlearn: 14.6025681\ttotal: 110ms\tremaining: 51.8ms\n",
      "91:\tlearn: 14.5998749\ttotal: 111ms\tremaining: 50.6ms\n",
      "92:\tlearn: 14.5870654\ttotal: 112ms\tremaining: 49.3ms\n",
      "93:\tlearn: 14.5428636\ttotal: 113ms\tremaining: 48.1ms\n",
      "94:\tlearn: 14.5176736\ttotal: 114ms\tremaining: 46.9ms\n",
      "95:\tlearn: 14.4872560\ttotal: 116ms\tremaining: 45.7ms\n",
      "96:\tlearn: 14.4832803\ttotal: 117ms\tremaining: 44.7ms\n",
      "97:\tlearn: 14.4616825\ttotal: 119ms\tremaining: 43.7ms\n",
      "98:\tlearn: 14.3447584\ttotal: 120ms\tremaining: 42.5ms\n",
      "99:\tlearn: 14.3027277\ttotal: 121ms\tremaining: 41.3ms\n",
      "100:\tlearn: 14.2747522\ttotal: 123ms\tremaining: 40ms\n",
      "101:\tlearn: 14.1890339\ttotal: 124ms\tremaining: 38.8ms\n",
      "102:\tlearn: 14.1859528\ttotal: 125ms\tremaining: 37.6ms\n",
      "103:\tlearn: 14.1393604\ttotal: 126ms\tremaining: 36.4ms\n",
      "104:\tlearn: 14.1102330\ttotal: 127ms\tremaining: 35.1ms\n",
      "105:\tlearn: 14.0738507\ttotal: 128ms\tremaining: 33.9ms\n",
      "106:\tlearn: 14.0715585\ttotal: 130ms\tremaining: 32.7ms\n",
      "107:\tlearn: 14.0163062\ttotal: 131ms\tremaining: 31.5ms\n",
      "108:\tlearn: 14.0042718\ttotal: 132ms\tremaining: 30.3ms\n",
      "109:\tlearn: 13.9687675\ttotal: 133ms\tremaining: 29.1ms\n",
      "110:\tlearn: 13.8872247\ttotal: 135ms\tremaining: 27.9ms\n",
      "111:\tlearn: 13.8681884\ttotal: 136ms\tremaining: 26.7ms\n",
      "112:\tlearn: 13.8082473\ttotal: 137ms\tremaining: 25.5ms\n",
      "113:\tlearn: 13.7280693\ttotal: 138ms\tremaining: 24.3ms\n",
      "114:\tlearn: 13.7225633\ttotal: 140ms\tremaining: 23.1ms\n",
      "115:\tlearn: 13.6928138\ttotal: 141ms\tremaining: 21.9ms\n",
      "116:\tlearn: 13.6017923\ttotal: 143ms\tremaining: 20.7ms\n",
      "117:\tlearn: 13.5815557\ttotal: 144ms\tremaining: 19.5ms\n",
      "118:\tlearn: 13.5801046\ttotal: 145ms\tremaining: 18.3ms\n",
      "119:\tlearn: 13.5641222\ttotal: 146ms\tremaining: 17.1ms\n",
      "120:\tlearn: 13.5343661\ttotal: 147ms\tremaining: 15.8ms\n",
      "121:\tlearn: 13.4711037\ttotal: 149ms\tremaining: 14.6ms\n",
      "122:\tlearn: 13.4289751\ttotal: 150ms\tremaining: 13.4ms\n",
      "123:\tlearn: 13.3627982\ttotal: 151ms\tremaining: 12.2ms\n",
      "124:\tlearn: 13.3614123\ttotal: 152ms\tremaining: 11ms\n",
      "125:\tlearn: 13.3033799\ttotal: 153ms\tremaining: 9.74ms\n",
      "126:\tlearn: 13.3012234\ttotal: 155ms\tremaining: 8.52ms\n",
      "127:\tlearn: 13.2547233\ttotal: 156ms\tremaining: 7.3ms\n",
      "128:\tlearn: 13.2480688\ttotal: 157ms\tremaining: 6.09ms\n",
      "129:\tlearn: 13.2469333\ttotal: 158ms\tremaining: 4.87ms\n",
      "130:\tlearn: 13.2459835\ttotal: 160ms\tremaining: 3.65ms\n",
      "131:\tlearn: 13.2105399\ttotal: 161ms\tremaining: 2.43ms\n",
      "132:\tlearn: 13.1821486\ttotal: 162ms\tremaining: 1.22ms\n",
      "133:\tlearn: 13.1367656\ttotal: 163ms\tremaining: 0us\n",
      "Learning rate set to 0.244703\n",
      "0:\tlearn: 30.4605321\ttotal: 1.56ms\tremaining: 207ms\n",
      "1:\tlearn: 28.0767484\ttotal: 3ms\tremaining: 198ms\n",
      "2:\tlearn: 26.4933282\ttotal: 4.55ms\tremaining: 199ms\n",
      "3:\tlearn: 25.2237096\ttotal: 5.95ms\tremaining: 194ms\n",
      "4:\tlearn: 24.4060238\ttotal: 7.32ms\tremaining: 189ms\n",
      "5:\tlearn: 23.8653822\ttotal: 8.66ms\tremaining: 185ms\n",
      "6:\tlearn: 23.4586857\ttotal: 10ms\tremaining: 182ms\n",
      "7:\tlearn: 23.1150598\ttotal: 11.4ms\tremaining: 179ms\n",
      "8:\tlearn: 22.7758718\ttotal: 12.7ms\tremaining: 176ms\n",
      "9:\tlearn: 22.5257435\ttotal: 13.9ms\tremaining: 173ms\n",
      "10:\tlearn: 22.3055370\ttotal: 15.3ms\tremaining: 171ms\n",
      "11:\tlearn: 22.2164938\ttotal: 16.6ms\tremaining: 169ms\n",
      "12:\tlearn: 21.7559535\ttotal: 18ms\tremaining: 167ms\n",
      "13:\tlearn: 21.5314085\ttotal: 19.3ms\tremaining: 166ms\n",
      "14:\tlearn: 21.3045668\ttotal: 20.7ms\tremaining: 164ms\n",
      "15:\tlearn: 21.1451187\ttotal: 22ms\tremaining: 163ms\n",
      "16:\tlearn: 20.9978722\ttotal: 23.4ms\tremaining: 161ms\n",
      "17:\tlearn: 20.8372564\ttotal: 24.8ms\tremaining: 160ms\n",
      "18:\tlearn: 20.5717575\ttotal: 26.1ms\tremaining: 158ms\n",
      "19:\tlearn: 20.5131880\ttotal: 27.3ms\tremaining: 156ms\n",
      "20:\tlearn: 20.4464599\ttotal: 28.6ms\tremaining: 154ms\n",
      "21:\tlearn: 20.3833199\ttotal: 29.9ms\tremaining: 152ms\n",
      "22:\tlearn: 20.2164280\ttotal: 31.2ms\tremaining: 151ms\n",
      "23:\tlearn: 20.1332936\ttotal: 32.5ms\tremaining: 149ms\n",
      "24:\tlearn: 20.1166241\ttotal: 33.5ms\tremaining: 146ms\n",
      "25:\tlearn: 20.0438721\ttotal: 34.8ms\tremaining: 145ms\n",
      "26:\tlearn: 19.9666028\ttotal: 36.1ms\tremaining: 143ms\n",
      "27:\tlearn: 19.9099314\ttotal: 37.3ms\tremaining: 141ms\n",
      "28:\tlearn: 19.8451827\ttotal: 38.6ms\tremaining: 140ms\n",
      "29:\tlearn: 19.7987510\ttotal: 39.8ms\tremaining: 138ms\n",
      "30:\tlearn: 19.6726884\ttotal: 41.1ms\tremaining: 137ms\n",
      "31:\tlearn: 19.5626159\ttotal: 42.4ms\tremaining: 135ms\n",
      "32:\tlearn: 19.4254494\ttotal: 43.7ms\tremaining: 134ms\n",
      "33:\tlearn: 19.4160551\ttotal: 44.4ms\tremaining: 131ms\n",
      "34:\tlearn: 19.2860507\ttotal: 45.7ms\tremaining: 129ms\n",
      "35:\tlearn: 19.2140909\ttotal: 47ms\tremaining: 128ms\n",
      "36:\tlearn: 19.1695933\ttotal: 48.3ms\tremaining: 127ms\n",
      "37:\tlearn: 19.1058088\ttotal: 49.6ms\tremaining: 125ms\n",
      "38:\tlearn: 18.9676782\ttotal: 50.9ms\tremaining: 124ms\n",
      "39:\tlearn: 18.9163416\ttotal: 52.2ms\tremaining: 123ms\n",
      "40:\tlearn: 18.8622137\ttotal: 53.5ms\tremaining: 121ms\n",
      "41:\tlearn: 18.7880128\ttotal: 54.8ms\tremaining: 120ms\n",
      "42:\tlearn: 18.6896394\ttotal: 56.1ms\tremaining: 119ms\n",
      "43:\tlearn: 18.6030280\ttotal: 57.4ms\tremaining: 117ms\n",
      "44:\tlearn: 18.5109819\ttotal: 58.8ms\tremaining: 116ms\n",
      "45:\tlearn: 18.3999554\ttotal: 60.1ms\tremaining: 115ms\n",
      "46:\tlearn: 18.3376330\ttotal: 61.6ms\tremaining: 114ms\n",
      "47:\tlearn: 18.2672024\ttotal: 63.1ms\tremaining: 113ms\n",
      "48:\tlearn: 18.2273387\ttotal: 64.4ms\tremaining: 112ms\n",
      "49:\tlearn: 18.2123073\ttotal: 65.6ms\tremaining: 110ms\n",
      "50:\tlearn: 18.2052249\ttotal: 66.9ms\tremaining: 109ms\n",
      "51:\tlearn: 18.0916413\ttotal: 68.2ms\tremaining: 108ms\n",
      "52:\tlearn: 18.0363991\ttotal: 69.5ms\tremaining: 106ms\n",
      "53:\tlearn: 18.0017854\ttotal: 70.9ms\tremaining: 105ms\n",
      "54:\tlearn: 17.9335601\ttotal: 72.2ms\tremaining: 104ms\n",
      "55:\tlearn: 17.8793408\ttotal: 73.5ms\tremaining: 102ms\n",
      "56:\tlearn: 17.8746596\ttotal: 74.8ms\tremaining: 101ms\n",
      "57:\tlearn: 17.8280097\ttotal: 76.1ms\tremaining: 99.7ms\n",
      "58:\tlearn: 17.7964023\ttotal: 77.4ms\tremaining: 98.4ms\n",
      "59:\tlearn: 17.6570436\ttotal: 78.7ms\tremaining: 97.1ms\n",
      "60:\tlearn: 17.5265348\ttotal: 80.1ms\tremaining: 95.9ms\n",
      "61:\tlearn: 17.4104473\ttotal: 81.5ms\tremaining: 94.7ms\n",
      "62:\tlearn: 17.4044617\ttotal: 82.4ms\tremaining: 92.9ms\n",
      "63:\tlearn: 17.3515323\ttotal: 83.7ms\tremaining: 91.5ms\n",
      "64:\tlearn: 17.3111658\ttotal: 85ms\tremaining: 90.2ms\n",
      "65:\tlearn: 17.2309693\ttotal: 86.2ms\tremaining: 88.8ms\n",
      "66:\tlearn: 17.1790644\ttotal: 87.5ms\tremaining: 87.5ms\n",
      "67:\tlearn: 17.1303385\ttotal: 88.8ms\tremaining: 86.2ms\n",
      "68:\tlearn: 17.0722097\ttotal: 90.1ms\tremaining: 84.8ms\n",
      "69:\tlearn: 16.9758264\ttotal: 91.4ms\tremaining: 83.6ms\n",
      "70:\tlearn: 16.8735892\ttotal: 92.8ms\tremaining: 82.3ms\n",
      "71:\tlearn: 16.8687571\ttotal: 94ms\tremaining: 80.9ms\n",
      "72:\tlearn: 16.8377112\ttotal: 95.4ms\tremaining: 79.8ms\n",
      "73:\tlearn: 16.8122128\ttotal: 96.8ms\tremaining: 78.5ms\n",
      "74:\tlearn: 16.7782755\ttotal: 98.2ms\tremaining: 77.2ms\n",
      "75:\tlearn: 16.7739749\ttotal: 99.3ms\tremaining: 75.8ms\n",
      "76:\tlearn: 16.7386683\ttotal: 101ms\tremaining: 74.5ms\n",
      "77:\tlearn: 16.6791793\ttotal: 102ms\tremaining: 73.2ms\n",
      "78:\tlearn: 16.5945479\ttotal: 103ms\tremaining: 71.8ms\n",
      "79:\tlearn: 16.5805895\ttotal: 104ms\tremaining: 70.5ms\n",
      "80:\tlearn: 16.5047562\ttotal: 106ms\tremaining: 69.2ms\n",
      "81:\tlearn: 16.4691235\ttotal: 107ms\tremaining: 67.9ms\n",
      "82:\tlearn: 16.4174516\ttotal: 108ms\tremaining: 66.6ms\n",
      "83:\tlearn: 16.3779399\ttotal: 110ms\tremaining: 65.3ms\n",
      "84:\tlearn: 16.3742822\ttotal: 111ms\tremaining: 63.9ms\n",
      "85:\tlearn: 16.2954717\ttotal: 113ms\tremaining: 62.8ms\n",
      "86:\tlearn: 16.2626838\ttotal: 114ms\tremaining: 61.5ms\n",
      "87:\tlearn: 16.2318059\ttotal: 115ms\tremaining: 60.2ms\n",
      "88:\tlearn: 16.1598997\ttotal: 116ms\tremaining: 58.9ms\n",
      "89:\tlearn: 16.0826601\ttotal: 118ms\tremaining: 57.6ms\n",
      "90:\tlearn: 16.0431080\ttotal: 119ms\tremaining: 56.2ms\n",
      "91:\tlearn: 15.9623661\ttotal: 120ms\tremaining: 54.9ms\n",
      "92:\tlearn: 15.8805799\ttotal: 122ms\tremaining: 53.7ms\n",
      "93:\tlearn: 15.8079934\ttotal: 123ms\tremaining: 52.5ms\n",
      "94:\tlearn: 15.7884726\ttotal: 125ms\tremaining: 51.3ms\n",
      "95:\tlearn: 15.7273067\ttotal: 127ms\tremaining: 50.3ms\n",
      "96:\tlearn: 15.6797252\ttotal: 129ms\tremaining: 49ms\n",
      "97:\tlearn: 15.6712872\ttotal: 130ms\tremaining: 47.7ms\n",
      "98:\tlearn: 15.6125092\ttotal: 131ms\tremaining: 46.4ms\n",
      "99:\tlearn: 15.5804908\ttotal: 133ms\tremaining: 45.1ms\n",
      "100:\tlearn: 15.5784015\ttotal: 134ms\tremaining: 43.8ms\n",
      "101:\tlearn: 15.5150722\ttotal: 135ms\tremaining: 42.5ms\n",
      "102:\tlearn: 15.4749730\ttotal: 137ms\tremaining: 41.2ms\n",
      "103:\tlearn: 15.4430252\ttotal: 138ms\tremaining: 39.9ms\n",
      "104:\tlearn: 15.3997883\ttotal: 139ms\tremaining: 38.5ms\n",
      "105:\tlearn: 15.3972641\ttotal: 141ms\tremaining: 37.2ms\n",
      "106:\tlearn: 15.3269167\ttotal: 142ms\tremaining: 35.8ms\n",
      "107:\tlearn: 15.3049687\ttotal: 143ms\tremaining: 34.5ms\n",
      "108:\tlearn: 15.2546664\ttotal: 145ms\tremaining: 33.3ms\n",
      "109:\tlearn: 15.1847307\ttotal: 146ms\tremaining: 31.9ms\n",
      "110:\tlearn: 15.1626450\ttotal: 148ms\tremaining: 30.6ms\n",
      "111:\tlearn: 15.1459749\ttotal: 149ms\tremaining: 29.3ms\n",
      "112:\tlearn: 15.1434051\ttotal: 150ms\tremaining: 27.9ms\n",
      "113:\tlearn: 15.0895876\ttotal: 152ms\tremaining: 26.6ms\n",
      "114:\tlearn: 15.0653577\ttotal: 153ms\tremaining: 25.3ms\n",
      "115:\tlearn: 15.0473691\ttotal: 154ms\tremaining: 24ms\n",
      "116:\tlearn: 14.9820015\ttotal: 156ms\tremaining: 22.6ms\n",
      "117:\tlearn: 14.9484273\ttotal: 157ms\tremaining: 21.3ms\n",
      "118:\tlearn: 14.9118538\ttotal: 158ms\tremaining: 20ms\n",
      "119:\tlearn: 14.8747323\ttotal: 160ms\tremaining: 18.6ms\n",
      "120:\tlearn: 14.8380056\ttotal: 161ms\tremaining: 17.3ms\n",
      "121:\tlearn: 14.7919036\ttotal: 163ms\tremaining: 16ms\n",
      "122:\tlearn: 14.7473590\ttotal: 164ms\tremaining: 14.7ms\n",
      "123:\tlearn: 14.7128128\ttotal: 165ms\tremaining: 13.3ms\n",
      "124:\tlearn: 14.6666265\ttotal: 167ms\tremaining: 12ms\n",
      "125:\tlearn: 14.6438303\ttotal: 168ms\tremaining: 10.7ms\n",
      "126:\tlearn: 14.5919543\ttotal: 169ms\tremaining: 9.33ms\n",
      "127:\tlearn: 14.5560933\ttotal: 171ms\tremaining: 8ms\n",
      "128:\tlearn: 14.5428117\ttotal: 173ms\tremaining: 6.7ms\n",
      "129:\tlearn: 14.5378602\ttotal: 174ms\tremaining: 5.36ms\n",
      "130:\tlearn: 14.5351508\ttotal: 176ms\tremaining: 4.02ms\n",
      "131:\tlearn: 14.4778744\ttotal: 177ms\tremaining: 2.68ms\n",
      "132:\tlearn: 14.4556813\ttotal: 179ms\tremaining: 1.34ms\n",
      "133:\tlearn: 14.4296984\ttotal: 180ms\tremaining: 0us\n",
      "Learning rate set to 0.253475\n",
      "0:\tlearn: 31.9068264\ttotal: 1.84ms\tremaining: 245ms\n",
      "1:\tlearn: 29.1695067\ttotal: 3.62ms\tremaining: 239ms\n",
      "2:\tlearn: 27.2763111\ttotal: 5.23ms\tremaining: 228ms\n",
      "3:\tlearn: 26.0696350\ttotal: 6.73ms\tremaining: 219ms\n",
      "4:\tlearn: 25.2545636\ttotal: 8.22ms\tremaining: 212ms\n",
      "5:\tlearn: 24.7221315\ttotal: 9.67ms\tremaining: 206ms\n",
      "6:\tlearn: 24.2471187\ttotal: 11.5ms\tremaining: 209ms\n",
      "7:\tlearn: 23.8806871\ttotal: 13ms\tremaining: 204ms\n",
      "8:\tlearn: 23.3466526\ttotal: 15ms\tremaining: 208ms\n",
      "9:\tlearn: 23.1451602\ttotal: 17ms\tremaining: 210ms\n",
      "10:\tlearn: 23.0114171\ttotal: 18.5ms\tremaining: 207ms\n",
      "11:\tlearn: 22.8315566\ttotal: 20.1ms\tremaining: 204ms\n",
      "12:\tlearn: 22.6534945\ttotal: 21.6ms\tremaining: 201ms\n",
      "13:\tlearn: 22.5725639\ttotal: 23.1ms\tremaining: 198ms\n",
      "14:\tlearn: 22.3923503\ttotal: 24.7ms\tremaining: 196ms\n",
      "15:\tlearn: 22.2858151\ttotal: 26.5ms\tremaining: 195ms\n",
      "16:\tlearn: 22.1792838\ttotal: 27.9ms\tremaining: 192ms\n",
      "17:\tlearn: 22.0769292\ttotal: 29.5ms\tremaining: 190ms\n",
      "18:\tlearn: 21.7961796\ttotal: 30.9ms\tremaining: 187ms\n",
      "19:\tlearn: 21.6724503\ttotal: 32.4ms\tremaining: 185ms\n",
      "20:\tlearn: 21.4928709\ttotal: 34ms\tremaining: 183ms\n",
      "21:\tlearn: 21.3759369\ttotal: 35.5ms\tremaining: 181ms\n",
      "22:\tlearn: 21.2968442\ttotal: 37ms\tremaining: 178ms\n",
      "23:\tlearn: 21.1039299\ttotal: 38.6ms\tremaining: 177ms\n",
      "24:\tlearn: 21.0043652\ttotal: 40.2ms\tremaining: 175ms\n",
      "25:\tlearn: 20.9475623\ttotal: 41.7ms\tremaining: 173ms\n",
      "26:\tlearn: 20.8679337\ttotal: 43.2ms\tremaining: 171ms\n",
      "27:\tlearn: 20.8027589\ttotal: 45.4ms\tremaining: 172ms\n",
      "28:\tlearn: 20.7530956\ttotal: 47ms\tremaining: 170ms\n",
      "29:\tlearn: 20.6739047\ttotal: 49.1ms\tremaining: 170ms\n",
      "30:\tlearn: 20.5132866\ttotal: 51.3ms\tremaining: 171ms\n",
      "31:\tlearn: 20.4191818\ttotal: 53ms\tremaining: 169ms\n",
      "32:\tlearn: 20.3354038\ttotal: 55.1ms\tremaining: 169ms\n",
      "33:\tlearn: 20.2328538\ttotal: 56.8ms\tremaining: 167ms\n",
      "34:\tlearn: 20.1290208\ttotal: 59ms\tremaining: 167ms\n",
      "35:\tlearn: 20.0353462\ttotal: 61.1ms\tremaining: 166ms\n",
      "36:\tlearn: 19.9285842\ttotal: 62.7ms\tremaining: 164ms\n",
      "37:\tlearn: 19.8947562\ttotal: 64.9ms\tremaining: 164ms\n",
      "38:\tlearn: 19.8162533\ttotal: 66.5ms\tremaining: 162ms\n",
      "39:\tlearn: 19.7266724\ttotal: 68.2ms\tremaining: 160ms\n",
      "40:\tlearn: 19.6856104\ttotal: 69.7ms\tremaining: 158ms\n",
      "41:\tlearn: 19.5849450\ttotal: 71.3ms\tremaining: 156ms\n",
      "42:\tlearn: 19.4823970\ttotal: 72.9ms\tremaining: 154ms\n",
      "43:\tlearn: 19.3910037\ttotal: 74.5ms\tremaining: 152ms\n",
      "44:\tlearn: 19.3075914\ttotal: 76.2ms\tremaining: 151ms\n",
      "45:\tlearn: 19.2326646\ttotal: 77.8ms\tremaining: 149ms\n",
      "46:\tlearn: 19.1236631\ttotal: 79.4ms\tremaining: 147ms\n",
      "47:\tlearn: 19.0991244\ttotal: 80.9ms\tremaining: 145ms\n",
      "48:\tlearn: 19.0172782\ttotal: 82.4ms\tremaining: 143ms\n",
      "49:\tlearn: 18.9372717\ttotal: 84ms\tremaining: 141ms\n",
      "50:\tlearn: 18.8989977\ttotal: 85.5ms\tremaining: 139ms\n",
      "51:\tlearn: 18.8560515\ttotal: 87ms\tremaining: 137ms\n",
      "52:\tlearn: 18.7787070\ttotal: 88.6ms\tremaining: 135ms\n",
      "53:\tlearn: 18.7249888\ttotal: 90.1ms\tremaining: 134ms\n",
      "54:\tlearn: 18.6947213\ttotal: 91.7ms\tremaining: 132ms\n",
      "55:\tlearn: 18.5998799\ttotal: 93.4ms\tremaining: 130ms\n",
      "56:\tlearn: 18.5396010\ttotal: 95.7ms\tremaining: 129ms\n",
      "57:\tlearn: 18.4548756\ttotal: 97.3ms\tremaining: 127ms\n",
      "58:\tlearn: 18.3495948\ttotal: 98.9ms\tremaining: 126ms\n",
      "59:\tlearn: 18.2703947\ttotal: 101ms\tremaining: 124ms\n",
      "60:\tlearn: 18.2290180\ttotal: 102ms\tremaining: 122ms\n",
      "61:\tlearn: 18.1835202\ttotal: 104ms\tremaining: 121ms\n",
      "62:\tlearn: 18.1696648\ttotal: 106ms\tremaining: 119ms\n",
      "63:\tlearn: 18.1103834\ttotal: 107ms\tremaining: 117ms\n",
      "64:\tlearn: 18.0773303\ttotal: 109ms\tremaining: 115ms\n",
      "65:\tlearn: 18.0156900\ttotal: 111ms\tremaining: 114ms\n",
      "66:\tlearn: 17.9180581\ttotal: 113ms\tremaining: 113ms\n",
      "67:\tlearn: 17.8661986\ttotal: 115ms\tremaining: 112ms\n",
      "68:\tlearn: 17.8318135\ttotal: 117ms\tremaining: 110ms\n",
      "69:\tlearn: 17.7956114\ttotal: 119ms\tremaining: 108ms\n",
      "70:\tlearn: 17.7490913\ttotal: 120ms\tremaining: 106ms\n",
      "71:\tlearn: 17.7280885\ttotal: 122ms\tremaining: 105ms\n",
      "72:\tlearn: 17.6573810\ttotal: 123ms\tremaining: 103ms\n",
      "73:\tlearn: 17.5979852\ttotal: 125ms\tremaining: 101ms\n",
      "74:\tlearn: 17.5701777\ttotal: 127ms\tremaining: 99.6ms\n",
      "75:\tlearn: 17.5415113\ttotal: 128ms\tremaining: 97.8ms\n",
      "76:\tlearn: 17.5263188\ttotal: 130ms\tremaining: 96.4ms\n",
      "77:\tlearn: 17.5212095\ttotal: 132ms\tremaining: 94.5ms\n",
      "78:\tlearn: 17.4849853\ttotal: 133ms\tremaining: 92.7ms\n",
      "79:\tlearn: 17.4481627\ttotal: 135ms\tremaining: 90.9ms\n",
      "80:\tlearn: 17.3704357\ttotal: 137ms\tremaining: 89.4ms\n",
      "81:\tlearn: 17.2549676\ttotal: 138ms\tremaining: 87.6ms\n",
      "82:\tlearn: 17.2143265\ttotal: 140ms\tremaining: 86.3ms\n",
      "83:\tlearn: 17.2102392\ttotal: 142ms\tremaining: 84.5ms\n",
      "84:\tlearn: 17.1897180\ttotal: 143ms\tremaining: 82.7ms\n",
      "85:\tlearn: 17.1416410\ttotal: 145ms\tremaining: 81ms\n",
      "86:\tlearn: 17.1102391\ttotal: 147ms\tremaining: 79.5ms\n",
      "87:\tlearn: 17.0666345\ttotal: 149ms\tremaining: 77.7ms\n",
      "88:\tlearn: 17.0004594\ttotal: 151ms\tremaining: 76.2ms\n",
      "89:\tlearn: 16.9304193\ttotal: 152ms\tremaining: 74.4ms\n",
      "90:\tlearn: 16.8940762\ttotal: 154ms\tremaining: 72.7ms\n",
      "91:\tlearn: 16.8287917\ttotal: 155ms\tremaining: 70.9ms\n",
      "92:\tlearn: 16.8158816\ttotal: 157ms\tremaining: 69.2ms\n",
      "93:\tlearn: 16.7748899\ttotal: 159ms\tremaining: 67.5ms\n",
      "94:\tlearn: 16.7310099\ttotal: 160ms\tremaining: 65.8ms\n",
      "95:\tlearn: 16.7203742\ttotal: 162ms\tremaining: 64ms\n",
      "96:\tlearn: 16.6777653\ttotal: 163ms\tremaining: 62.3ms\n",
      "97:\tlearn: 16.6718051\ttotal: 165ms\tremaining: 60.6ms\n",
      "98:\tlearn: 16.6401358\ttotal: 166ms\tremaining: 58.8ms\n",
      "99:\tlearn: 16.6000254\ttotal: 168ms\tremaining: 57.1ms\n",
      "100:\tlearn: 16.5896700\ttotal: 170ms\tremaining: 55.4ms\n",
      "101:\tlearn: 16.5312807\ttotal: 171ms\tremaining: 53.7ms\n",
      "102:\tlearn: 16.5001316\ttotal: 173ms\tremaining: 52ms\n",
      "103:\tlearn: 16.4751897\ttotal: 174ms\tremaining: 50.3ms\n",
      "104:\tlearn: 16.4473695\ttotal: 176ms\tremaining: 48.6ms\n",
      "105:\tlearn: 16.4386322\ttotal: 177ms\tremaining: 46.9ms\n",
      "106:\tlearn: 16.4163988\ttotal: 179ms\tremaining: 45.1ms\n",
      "107:\tlearn: 16.3999330\ttotal: 180ms\tremaining: 43.5ms\n",
      "108:\tlearn: 16.3614920\ttotal: 182ms\tremaining: 41.8ms\n",
      "109:\tlearn: 16.3135018\ttotal: 184ms\tremaining: 40.1ms\n",
      "110:\tlearn: 16.2882450\ttotal: 186ms\tremaining: 38.5ms\n",
      "111:\tlearn: 16.2845786\ttotal: 187ms\tremaining: 36.7ms\n",
      "112:\tlearn: 16.2302113\ttotal: 189ms\tremaining: 35ms\n",
      "113:\tlearn: 16.2066600\ttotal: 190ms\tremaining: 33.4ms\n",
      "114:\tlearn: 16.1667760\ttotal: 192ms\tremaining: 31.7ms\n",
      "115:\tlearn: 16.1471330\ttotal: 193ms\tremaining: 30ms\n",
      "116:\tlearn: 16.1271644\ttotal: 195ms\tremaining: 28.3ms\n",
      "117:\tlearn: 16.1242743\ttotal: 196ms\tremaining: 26.6ms\n",
      "118:\tlearn: 16.0707071\ttotal: 198ms\tremaining: 24.9ms\n",
      "119:\tlearn: 16.0466437\ttotal: 199ms\tremaining: 23.2ms\n",
      "120:\tlearn: 15.9988068\ttotal: 201ms\tremaining: 21.6ms\n",
      "121:\tlearn: 15.9479012\ttotal: 202ms\tremaining: 19.9ms\n",
      "122:\tlearn: 15.9218572\ttotal: 204ms\tremaining: 18.2ms\n",
      "123:\tlearn: 15.8939305\ttotal: 205ms\tremaining: 16.6ms\n",
      "124:\tlearn: 15.8396993\ttotal: 207ms\tremaining: 14.9ms\n",
      "125:\tlearn: 15.8161459\ttotal: 209ms\tremaining: 13.3ms\n",
      "126:\tlearn: 15.8024891\ttotal: 210ms\tremaining: 11.6ms\n",
      "127:\tlearn: 15.7444822\ttotal: 212ms\tremaining: 9.95ms\n",
      "128:\tlearn: 15.7047535\ttotal: 214ms\tremaining: 8.29ms\n",
      "129:\tlearn: 15.6690340\ttotal: 215ms\tremaining: 6.62ms\n",
      "130:\tlearn: 15.6371092\ttotal: 217ms\tremaining: 4.97ms\n",
      "131:\tlearn: 15.6074069\ttotal: 218ms\tremaining: 3.31ms\n",
      "132:\tlearn: 15.5685590\ttotal: 220ms\tremaining: 1.65ms\n",
      "133:\tlearn: 15.5481843\ttotal: 222ms\tremaining: 0us\n",
      "Learning rate set to 0.195488\n",
      "0:\tlearn: 27.0956651\ttotal: 1.08ms\tremaining: 144ms\n",
      "1:\tlearn: 25.1406963\ttotal: 2.14ms\tremaining: 143ms\n",
      "2:\tlearn: 23.4762455\ttotal: 3.07ms\tremaining: 135ms\n",
      "3:\tlearn: 22.1786102\ttotal: 3.94ms\tremaining: 129ms\n",
      "4:\tlearn: 21.2187199\ttotal: 4.76ms\tremaining: 124ms\n",
      "5:\tlearn: 20.5321966\ttotal: 5.93ms\tremaining: 128ms\n",
      "6:\tlearn: 20.0192501\ttotal: 6.96ms\tremaining: 127ms\n",
      "7:\tlearn: 19.4724090\ttotal: 7.83ms\tremaining: 124ms\n",
      "8:\tlearn: 18.8713670\ttotal: 8.66ms\tremaining: 121ms\n",
      "9:\tlearn: 18.4197313\ttotal: 9.46ms\tremaining: 118ms\n",
      "10:\tlearn: 18.1118740\ttotal: 10.3ms\tremaining: 116ms\n",
      "11:\tlearn: 17.8493119\ttotal: 11.2ms\tremaining: 114ms\n",
      "12:\tlearn: 17.4914755\ttotal: 12ms\tremaining: 113ms\n",
      "13:\tlearn: 17.3058078\ttotal: 12.8ms\tremaining: 111ms\n",
      "14:\tlearn: 17.0522423\ttotal: 13.6ms\tremaining: 109ms\n",
      "15:\tlearn: 16.8519679\ttotal: 14.5ms\tremaining: 108ms\n",
      "16:\tlearn: 16.6713320\ttotal: 15.3ms\tremaining: 106ms\n",
      "17:\tlearn: 16.4226054\ttotal: 16.2ms\tremaining: 105ms\n",
      "18:\tlearn: 16.3050824\ttotal: 17ms\tremaining: 104ms\n",
      "19:\tlearn: 16.1159728\ttotal: 17.7ms\tremaining: 102ms\n",
      "20:\tlearn: 15.9474062\ttotal: 18.5ms\tremaining: 101ms\n",
      "21:\tlearn: 15.8153377\ttotal: 19.3ms\tremaining: 99.3ms\n",
      "22:\tlearn: 15.7691651\ttotal: 20.2ms\tremaining: 98.3ms\n",
      "23:\tlearn: 15.6008330\ttotal: 21ms\tremaining: 97.2ms\n",
      "24:\tlearn: 15.5210961\ttotal: 21.8ms\tremaining: 96ms\n",
      "25:\tlearn: 15.3661769\ttotal: 22.6ms\tremaining: 94.9ms\n",
      "26:\tlearn: 15.2637901\ttotal: 23.4ms\tremaining: 93.7ms\n",
      "27:\tlearn: 15.2120847\ttotal: 24.2ms\tremaining: 92.6ms\n",
      "28:\tlearn: 15.1042270\ttotal: 25ms\tremaining: 91.5ms\n",
      "29:\tlearn: 14.9270165\ttotal: 25.8ms\tremaining: 90.4ms\n",
      "30:\tlearn: 14.7339633\ttotal: 26.6ms\tremaining: 89.2ms\n",
      "31:\tlearn: 14.6682248\ttotal: 27.4ms\tremaining: 88.2ms\n",
      "32:\tlearn: 14.5243008\ttotal: 28.2ms\tremaining: 87.2ms\n",
      "33:\tlearn: 14.3992362\ttotal: 29.1ms\tremaining: 86.4ms\n",
      "34:\tlearn: 14.2600954\ttotal: 29.9ms\tremaining: 85.4ms\n",
      "35:\tlearn: 14.0895126\ttotal: 30.7ms\tremaining: 84.5ms\n",
      "36:\tlearn: 13.9442354\ttotal: 31.5ms\tremaining: 83.5ms\n",
      "37:\tlearn: 13.8712361\ttotal: 32.4ms\tremaining: 82.6ms\n",
      "38:\tlearn: 13.7799041\ttotal: 33.2ms\tremaining: 81.6ms\n",
      "39:\tlearn: 13.6283561\ttotal: 33.9ms\tremaining: 80.6ms\n",
      "40:\tlearn: 13.5609383\ttotal: 34.7ms\tremaining: 79.7ms\n",
      "41:\tlearn: 13.4577405\ttotal: 35.6ms\tremaining: 78.7ms\n",
      "42:\tlearn: 13.4078954\ttotal: 36.3ms\tremaining: 77.8ms\n",
      "43:\tlearn: 13.3976926\ttotal: 36.9ms\tremaining: 76.3ms\n",
      "44:\tlearn: 13.3458507\ttotal: 37.7ms\tremaining: 75.3ms\n",
      "45:\tlearn: 13.3368964\ttotal: 38.2ms\tremaining: 73.9ms\n",
      "46:\tlearn: 13.2323728\ttotal: 39ms\tremaining: 73ms\n",
      "47:\tlearn: 13.1470910\ttotal: 39.8ms\tremaining: 72.2ms\n",
      "48:\tlearn: 13.0761483\ttotal: 40.8ms\tremaining: 71.6ms\n",
      "49:\tlearn: 13.0198092\ttotal: 41.7ms\tremaining: 70.9ms\n",
      "50:\tlearn: 12.8879481\ttotal: 42.5ms\tremaining: 70ms\n",
      "51:\tlearn: 12.7209200\ttotal: 43.3ms\tremaining: 69.1ms\n",
      "52:\tlearn: 12.6169530\ttotal: 44.1ms\tremaining: 68.2ms\n",
      "53:\tlearn: 12.4998762\ttotal: 45ms\tremaining: 67.6ms\n",
      "54:\tlearn: 12.4307483\ttotal: 45.9ms\tremaining: 66.7ms\n",
      "55:\tlearn: 12.3928958\ttotal: 46.7ms\tremaining: 65.8ms\n",
      "56:\tlearn: 12.3866999\ttotal: 47.5ms\tremaining: 65ms\n",
      "57:\tlearn: 12.3668986\ttotal: 48.3ms\tremaining: 64.2ms\n",
      "58:\tlearn: 12.2771403\ttotal: 49.2ms\tremaining: 63.3ms\n",
      "59:\tlearn: 12.1874764\ttotal: 50.3ms\tremaining: 62.9ms\n",
      "60:\tlearn: 12.1374304\ttotal: 51.6ms\tremaining: 62.6ms\n",
      "61:\tlearn: 12.0469605\ttotal: 52.6ms\tremaining: 61.9ms\n",
      "62:\tlearn: 11.9274160\ttotal: 53.4ms\tremaining: 61ms\n",
      "63:\tlearn: 11.9235228\ttotal: 54.2ms\tremaining: 60.1ms\n",
      "64:\tlearn: 11.8176726\ttotal: 55ms\tremaining: 59.2ms\n",
      "65:\tlearn: 11.7640831\ttotal: 55.8ms\tremaining: 58.4ms\n",
      "66:\tlearn: 11.6906344\ttotal: 56.6ms\tremaining: 57.5ms\n",
      "67:\tlearn: 11.5972260\ttotal: 57.5ms\tremaining: 56.6ms\n",
      "68:\tlearn: 11.5007588\ttotal: 58.3ms\tremaining: 55.7ms\n",
      "69:\tlearn: 11.4231928\ttotal: 59.1ms\tremaining: 54.9ms\n",
      "70:\tlearn: 11.3418416\ttotal: 59.9ms\tremaining: 53.9ms\n",
      "71:\tlearn: 11.2555783\ttotal: 60.6ms\tremaining: 53.1ms\n",
      "72:\tlearn: 11.2191221\ttotal: 61.5ms\tremaining: 52.2ms\n",
      "73:\tlearn: 11.1576310\ttotal: 62.3ms\tremaining: 51.4ms\n",
      "74:\tlearn: 11.1477228\ttotal: 63.1ms\tremaining: 50.5ms\n",
      "75:\tlearn: 11.0056719\ttotal: 63.9ms\tremaining: 49.6ms\n",
      "76:\tlearn: 10.8707285\ttotal: 64.7ms\tremaining: 48.8ms\n",
      "77:\tlearn: 10.7511446\ttotal: 65.5ms\tremaining: 47.9ms\n",
      "78:\tlearn: 10.7482673\ttotal: 66.3ms\tremaining: 47ms\n",
      "79:\tlearn: 10.6954616\ttotal: 67.1ms\tremaining: 46.2ms\n",
      "80:\tlearn: 10.5825098\ttotal: 68ms\tremaining: 45.3ms\n",
      "81:\tlearn: 10.4645426\ttotal: 68.8ms\tremaining: 44.5ms\n",
      "82:\tlearn: 10.3902513\ttotal: 69.6ms\tremaining: 43.6ms\n",
      "83:\tlearn: 10.3475730\ttotal: 70.5ms\tremaining: 42.8ms\n",
      "84:\tlearn: 10.2434700\ttotal: 71.3ms\tremaining: 41.9ms\n",
      "85:\tlearn: 10.1608892\ttotal: 72.1ms\tremaining: 41.1ms\n",
      "86:\tlearn: 10.1040094\ttotal: 72.9ms\tremaining: 40.2ms\n",
      "87:\tlearn: 10.0195418\ttotal: 73.7ms\tremaining: 39.4ms\n",
      "88:\tlearn: 9.9591233\ttotal: 74.5ms\tremaining: 38.5ms\n",
      "89:\tlearn: 9.8689056\ttotal: 75.4ms\tremaining: 37.7ms\n",
      "90:\tlearn: 9.8466847\ttotal: 76.1ms\tremaining: 36.8ms\n",
      "91:\tlearn: 9.8285940\ttotal: 76.9ms\tremaining: 36ms\n",
      "92:\tlearn: 9.7553172\ttotal: 77.7ms\tremaining: 35.1ms\n",
      "93:\tlearn: 9.6590768\ttotal: 78.5ms\tremaining: 34.3ms\n",
      "94:\tlearn: 9.5694935\ttotal: 79.3ms\tremaining: 33.4ms\n",
      "95:\tlearn: 9.4843404\ttotal: 80.2ms\tremaining: 32.6ms\n",
      "96:\tlearn: 9.4811656\ttotal: 80.9ms\tremaining: 31.7ms\n",
      "97:\tlearn: 9.4230187\ttotal: 81.8ms\tremaining: 30.9ms\n",
      "98:\tlearn: 9.3455063\ttotal: 82.5ms\tremaining: 30ms\n",
      "99:\tlearn: 9.2800393\ttotal: 83.4ms\tremaining: 29.2ms\n",
      "100:\tlearn: 9.1885036\ttotal: 84.2ms\tremaining: 28.3ms\n",
      "101:\tlearn: 9.1455413\ttotal: 85ms\tremaining: 27.5ms\n",
      "102:\tlearn: 9.0998904\ttotal: 85.8ms\tremaining: 26.7ms\n",
      "103:\tlearn: 9.0467128\ttotal: 86.8ms\tremaining: 25.9ms\n",
      "104:\tlearn: 8.9652924\ttotal: 87.6ms\tremaining: 25ms\n",
      "105:\tlearn: 8.9152569\ttotal: 88.4ms\tremaining: 24.2ms\n",
      "106:\tlearn: 8.8399142\ttotal: 89.2ms\tremaining: 23.4ms\n",
      "107:\tlearn: 8.7950330\ttotal: 90.1ms\tremaining: 22.5ms\n",
      "108:\tlearn: 8.7330699\ttotal: 90.9ms\tremaining: 21.7ms\n",
      "109:\tlearn: 8.6970578\ttotal: 91.7ms\tremaining: 20.9ms\n",
      "110:\tlearn: 8.6165051\ttotal: 92.8ms\tremaining: 20.1ms\n",
      "111:\tlearn: 8.5858705\ttotal: 93.8ms\tremaining: 19.3ms\n",
      "112:\tlearn: 8.5111622\ttotal: 94.7ms\tremaining: 18.4ms\n",
      "113:\tlearn: 8.5080661\ttotal: 95.5ms\tremaining: 17.6ms\n",
      "114:\tlearn: 8.4510135\ttotal: 96.9ms\tremaining: 16.8ms\n",
      "115:\tlearn: 8.4023321\ttotal: 98.2ms\tremaining: 16.1ms\n",
      "116:\tlearn: 8.3872235\ttotal: 99.6ms\tremaining: 15.3ms\n",
      "117:\tlearn: 8.3298587\ttotal: 100ms\tremaining: 14.5ms\n",
      "118:\tlearn: 8.2701011\ttotal: 101ms\tremaining: 13.6ms\n",
      "119:\tlearn: 8.2009685\ttotal: 102ms\tremaining: 12.8ms\n",
      "120:\tlearn: 8.1597429\ttotal: 103ms\tremaining: 11.9ms\n",
      "121:\tlearn: 8.1446547\ttotal: 104ms\tremaining: 11.1ms\n",
      "122:\tlearn: 8.1049923\ttotal: 105ms\tremaining: 10.2ms\n",
      "123:\tlearn: 8.0568456\ttotal: 106ms\tremaining: 9.4ms\n",
      "124:\tlearn: 8.0019862\ttotal: 107ms\tremaining: 8.54ms\n",
      "125:\tlearn: 7.9327240\ttotal: 108ms\tremaining: 7.69ms\n",
      "126:\tlearn: 7.8661919\ttotal: 109ms\tremaining: 6.84ms\n",
      "127:\tlearn: 7.8286362\ttotal: 109ms\tremaining: 5.98ms\n",
      "128:\tlearn: 7.7505797\ttotal: 110ms\tremaining: 5.13ms\n",
      "129:\tlearn: 7.7368464\ttotal: 111ms\tremaining: 4.27ms\n",
      "130:\tlearn: 7.6830926\ttotal: 112ms\tremaining: 3.42ms\n",
      "131:\tlearn: 7.6278228\ttotal: 113ms\tremaining: 2.57ms\n",
      "132:\tlearn: 7.6128267\ttotal: 114ms\tremaining: 1.71ms\n",
      "133:\tlearn: 7.5714596\ttotal: 115ms\tremaining: 856us\n",
      "134:\tlearn: 7.5474671\ttotal: 116ms\tremaining: 0us\n",
      "Learning rate set to 0.218036\n",
      "0:\tlearn: 27.9424842\ttotal: 1.28ms\tremaining: 171ms\n",
      "1:\tlearn: 26.1869441\ttotal: 2.52ms\tremaining: 168ms\n",
      "2:\tlearn: 24.4661613\ttotal: 3.6ms\tremaining: 159ms\n",
      "3:\tlearn: 23.3486951\ttotal: 4.64ms\tremaining: 152ms\n",
      "4:\tlearn: 22.4413428\ttotal: 5.65ms\tremaining: 147ms\n",
      "5:\tlearn: 21.7990279\ttotal: 6.63ms\tremaining: 143ms\n",
      "6:\tlearn: 21.2774027\ttotal: 7.67ms\tremaining: 140ms\n",
      "7:\tlearn: 20.7002640\ttotal: 8.65ms\tremaining: 137ms\n",
      "8:\tlearn: 20.4464989\ttotal: 9.66ms\tremaining: 135ms\n",
      "9:\tlearn: 20.1606737\ttotal: 10.9ms\tremaining: 137ms\n",
      "10:\tlearn: 19.8179983\ttotal: 12.2ms\tremaining: 137ms\n",
      "11:\tlearn: 19.5586948\ttotal: 13.2ms\tremaining: 135ms\n",
      "12:\tlearn: 19.2592992\ttotal: 14.2ms\tremaining: 133ms\n",
      "13:\tlearn: 19.0612792\ttotal: 15.1ms\tremaining: 131ms\n",
      "14:\tlearn: 18.8936342\ttotal: 16.1ms\tremaining: 129ms\n",
      "15:\tlearn: 18.7411607\ttotal: 17.1ms\tremaining: 127ms\n",
      "16:\tlearn: 18.5309757\ttotal: 18.1ms\tremaining: 126ms\n",
      "17:\tlearn: 18.3449107\ttotal: 19.1ms\tremaining: 124ms\n",
      "18:\tlearn: 18.1488650\ttotal: 20.1ms\tremaining: 122ms\n",
      "19:\tlearn: 18.0203763\ttotal: 21.1ms\tremaining: 121ms\n",
      "20:\tlearn: 17.9248236\ttotal: 22ms\tremaining: 119ms\n",
      "21:\tlearn: 17.8240358\ttotal: 22.9ms\tremaining: 118ms\n",
      "22:\tlearn: 17.7712799\ttotal: 23.9ms\tremaining: 116ms\n",
      "23:\tlearn: 17.6482009\ttotal: 24.9ms\tremaining: 115ms\n",
      "24:\tlearn: 17.5054216\ttotal: 25.8ms\tremaining: 113ms\n",
      "25:\tlearn: 17.4411386\ttotal: 26.7ms\tremaining: 112ms\n",
      "26:\tlearn: 17.4022221\ttotal: 27.7ms\tremaining: 111ms\n",
      "27:\tlearn: 17.2798342\ttotal: 28.6ms\tremaining: 109ms\n",
      "28:\tlearn: 17.2163295\ttotal: 29.6ms\tremaining: 108ms\n",
      "29:\tlearn: 17.0906010\ttotal: 30.6ms\tremaining: 107ms\n",
      "30:\tlearn: 16.9810968\ttotal: 31.6ms\tremaining: 106ms\n",
      "31:\tlearn: 16.7934313\ttotal: 32.5ms\tremaining: 105ms\n",
      "32:\tlearn: 16.7217550\ttotal: 33.5ms\tremaining: 104ms\n",
      "33:\tlearn: 16.6395425\ttotal: 34.4ms\tremaining: 102ms\n",
      "34:\tlearn: 16.5365427\ttotal: 35.4ms\tremaining: 101ms\n",
      "35:\tlearn: 16.3639407\ttotal: 36.4ms\tremaining: 100ms\n",
      "36:\tlearn: 16.3112739\ttotal: 37.5ms\tremaining: 99.2ms\n",
      "37:\tlearn: 16.2851525\ttotal: 38.4ms\tremaining: 98.1ms\n",
      "38:\tlearn: 16.2561586\ttotal: 39.4ms\tremaining: 96.9ms\n",
      "39:\tlearn: 16.2148870\ttotal: 40.3ms\tremaining: 95.7ms\n",
      "40:\tlearn: 16.1458721\ttotal: 41.3ms\tremaining: 94.7ms\n",
      "41:\tlearn: 15.9770392\ttotal: 42.3ms\tremaining: 93.7ms\n",
      "42:\tlearn: 15.9173071\ttotal: 43.3ms\tremaining: 92.6ms\n",
      "43:\tlearn: 15.7942157\ttotal: 44.3ms\tremaining: 91.6ms\n",
      "44:\tlearn: 15.7418074\ttotal: 45.3ms\tremaining: 90.5ms\n",
      "45:\tlearn: 15.6042163\ttotal: 46.2ms\tremaining: 89.4ms\n",
      "46:\tlearn: 15.5385587\ttotal: 47.2ms\tremaining: 88.4ms\n",
      "47:\tlearn: 15.3700761\ttotal: 48.2ms\tremaining: 87.3ms\n",
      "48:\tlearn: 15.2905141\ttotal: 49.2ms\tremaining: 86.3ms\n",
      "49:\tlearn: 15.2768610\ttotal: 50.1ms\tremaining: 85.2ms\n",
      "50:\tlearn: 15.1706372\ttotal: 51.1ms\tremaining: 84.2ms\n",
      "51:\tlearn: 15.0677577\ttotal: 52.2ms\tremaining: 83.3ms\n",
      "52:\tlearn: 14.9816547\ttotal: 53.3ms\tremaining: 82.4ms\n",
      "53:\tlearn: 14.9212291\ttotal: 54.2ms\tremaining: 81.4ms\n",
      "54:\tlearn: 14.9172407\ttotal: 55.2ms\tremaining: 80.2ms\n",
      "55:\tlearn: 14.8146671\ttotal: 56.2ms\tremaining: 79.2ms\n",
      "56:\tlearn: 14.7600214\ttotal: 57.1ms\tremaining: 78.2ms\n",
      "57:\tlearn: 14.6166156\ttotal: 58.1ms\tremaining: 77.1ms\n",
      "58:\tlearn: 14.6077506\ttotal: 59.2ms\tremaining: 76.2ms\n",
      "59:\tlearn: 14.5629732\ttotal: 60.2ms\tremaining: 75.2ms\n",
      "60:\tlearn: 14.4835681\ttotal: 61.2ms\tremaining: 74.2ms\n",
      "61:\tlearn: 14.4314032\ttotal: 62.4ms\tremaining: 73.5ms\n",
      "62:\tlearn: 14.3717907\ttotal: 63.5ms\tremaining: 72.6ms\n",
      "63:\tlearn: 14.3678596\ttotal: 64.4ms\tremaining: 71.5ms\n",
      "64:\tlearn: 14.2970432\ttotal: 65.4ms\tremaining: 70.4ms\n",
      "65:\tlearn: 14.2304130\ttotal: 66.4ms\tremaining: 69.4ms\n",
      "66:\tlearn: 14.1920768\ttotal: 67.3ms\tremaining: 68.4ms\n",
      "67:\tlearn: 14.1224123\ttotal: 68.4ms\tremaining: 67.4ms\n",
      "68:\tlearn: 14.1060327\ttotal: 69.2ms\tremaining: 66.2ms\n",
      "69:\tlearn: 14.0555770\ttotal: 70.1ms\tremaining: 65.1ms\n",
      "70:\tlearn: 13.9235236\ttotal: 71.2ms\tremaining: 64.2ms\n",
      "71:\tlearn: 13.8749011\ttotal: 72.2ms\tremaining: 63.2ms\n",
      "72:\tlearn: 13.8290758\ttotal: 73.2ms\tremaining: 62.2ms\n",
      "73:\tlearn: 13.7532643\ttotal: 74.2ms\tremaining: 61.2ms\n",
      "74:\tlearn: 13.7467476\ttotal: 75.2ms\tremaining: 60.2ms\n",
      "75:\tlearn: 13.6477892\ttotal: 76.2ms\tremaining: 59.1ms\n",
      "76:\tlearn: 13.5344468\ttotal: 77.2ms\tremaining: 58.1ms\n",
      "77:\tlearn: 13.5105385\ttotal: 78.2ms\tremaining: 57.1ms\n",
      "78:\tlearn: 13.4529478\ttotal: 79.2ms\tremaining: 56.1ms\n",
      "79:\tlearn: 13.4186595\ttotal: 80.1ms\tremaining: 55.1ms\n",
      "80:\tlearn: 13.3639728\ttotal: 81.1ms\tremaining: 54.1ms\n",
      "81:\tlearn: 13.3407102\ttotal: 82.1ms\tremaining: 53.1ms\n",
      "82:\tlearn: 13.2557637\ttotal: 83.1ms\tremaining: 52.1ms\n",
      "83:\tlearn: 13.2425703\ttotal: 84.1ms\tremaining: 51ms\n",
      "84:\tlearn: 13.1468779\ttotal: 85.1ms\tremaining: 50.1ms\n",
      "85:\tlearn: 13.0991415\ttotal: 86.1ms\tremaining: 49.1ms\n",
      "86:\tlearn: 12.9947567\ttotal: 87.1ms\tremaining: 48.1ms\n",
      "87:\tlearn: 12.9361006\ttotal: 88.1ms\tremaining: 47ms\n",
      "88:\tlearn: 12.9202598\ttotal: 89ms\tremaining: 46ms\n",
      "89:\tlearn: 12.8776686\ttotal: 90ms\tremaining: 45ms\n",
      "90:\tlearn: 12.8573068\ttotal: 91ms\tremaining: 44ms\n",
      "91:\tlearn: 12.8101242\ttotal: 92ms\tremaining: 43ms\n",
      "92:\tlearn: 12.7264228\ttotal: 93ms\tremaining: 42ms\n",
      "93:\tlearn: 12.6492445\ttotal: 94ms\tremaining: 41ms\n",
      "94:\tlearn: 12.6139244\ttotal: 95ms\tremaining: 40ms\n",
      "95:\tlearn: 12.5351028\ttotal: 96ms\tremaining: 39ms\n",
      "96:\tlearn: 12.4583374\ttotal: 96.9ms\tremaining: 38ms\n",
      "97:\tlearn: 12.4084696\ttotal: 97.9ms\tremaining: 37ms\n",
      "98:\tlearn: 12.3637043\ttotal: 98.9ms\tremaining: 36ms\n",
      "99:\tlearn: 12.3188318\ttotal: 99.9ms\tremaining: 35ms\n",
      "100:\tlearn: 12.2963134\ttotal: 101ms\tremaining: 34ms\n",
      "101:\tlearn: 12.2713478\ttotal: 102ms\tremaining: 33ms\n",
      "102:\tlearn: 12.2082946\ttotal: 103ms\tremaining: 32ms\n",
      "103:\tlearn: 12.1906237\ttotal: 104ms\tremaining: 31ms\n",
      "104:\tlearn: 12.1552226\ttotal: 105ms\tremaining: 30ms\n",
      "105:\tlearn: 12.1037657\ttotal: 106ms\tremaining: 29ms\n",
      "106:\tlearn: 12.0555394\ttotal: 107ms\tremaining: 28ms\n",
      "107:\tlearn: 11.9778697\ttotal: 108ms\tremaining: 27.1ms\n",
      "108:\tlearn: 11.9021285\ttotal: 109ms\tremaining: 26.1ms\n",
      "109:\tlearn: 11.8146062\ttotal: 110ms\tremaining: 25.1ms\n",
      "110:\tlearn: 11.8076510\ttotal: 111ms\tremaining: 24ms\n",
      "111:\tlearn: 11.7308513\ttotal: 112ms\tremaining: 23ms\n",
      "112:\tlearn: 11.6852714\ttotal: 113ms\tremaining: 22ms\n",
      "113:\tlearn: 11.5957110\ttotal: 114ms\tremaining: 21ms\n",
      "114:\tlearn: 11.5398711\ttotal: 115ms\tremaining: 20ms\n",
      "115:\tlearn: 11.4799461\ttotal: 116ms\tremaining: 19ms\n",
      "116:\tlearn: 11.4201292\ttotal: 117ms\tremaining: 18ms\n",
      "117:\tlearn: 11.3936810\ttotal: 118ms\tremaining: 17ms\n",
      "118:\tlearn: 11.3704905\ttotal: 119ms\tremaining: 16ms\n",
      "119:\tlearn: 11.3532496\ttotal: 120ms\tremaining: 15ms\n",
      "120:\tlearn: 11.3416284\ttotal: 121ms\tremaining: 14ms\n",
      "121:\tlearn: 11.3255151\ttotal: 122ms\tremaining: 13ms\n",
      "122:\tlearn: 11.2840673\ttotal: 123ms\tremaining: 12ms\n",
      "123:\tlearn: 11.2234023\ttotal: 124ms\tremaining: 11ms\n",
      "124:\tlearn: 11.1917937\ttotal: 125ms\tremaining: 10ms\n",
      "125:\tlearn: 11.1142018\ttotal: 126ms\tremaining: 9.01ms\n",
      "126:\tlearn: 11.0777820\ttotal: 127ms\tremaining: 8.01ms\n",
      "127:\tlearn: 11.0141183\ttotal: 128ms\tremaining: 7.01ms\n",
      "128:\tlearn: 10.9846826\ttotal: 129ms\tremaining: 6.01ms\n",
      "129:\tlearn: 10.9435364\ttotal: 130ms\tremaining: 5.01ms\n",
      "130:\tlearn: 10.8848918\ttotal: 131ms\tremaining: 4.01ms\n",
      "131:\tlearn: 10.8069385\ttotal: 132ms\tremaining: 3.01ms\n",
      "132:\tlearn: 10.7498758\ttotal: 133ms\tremaining: 2.01ms\n",
      "133:\tlearn: 10.7209188\ttotal: 134ms\tremaining: 1ms\n",
      "134:\tlearn: 10.6648355\ttotal: 135ms\tremaining: 0us\n",
      "Learning rate set to 0.232434\n",
      "0:\tlearn: 29.2734163\ttotal: 1.44ms\tremaining: 194ms\n",
      "1:\tlearn: 27.0082365\ttotal: 2.9ms\tremaining: 193ms\n",
      "2:\tlearn: 25.4942725\ttotal: 4.13ms\tremaining: 182ms\n",
      "3:\tlearn: 24.4506807\ttotal: 5.36ms\tremaining: 176ms\n",
      "4:\tlearn: 23.7695831\ttotal: 6.62ms\tremaining: 172ms\n",
      "5:\tlearn: 23.2280206\ttotal: 7.96ms\tremaining: 171ms\n",
      "6:\tlearn: 22.6012177\ttotal: 9.24ms\tremaining: 169ms\n",
      "7:\tlearn: 22.0881730\ttotal: 10.4ms\tremaining: 166ms\n",
      "8:\tlearn: 21.7139440\ttotal: 11.6ms\tremaining: 163ms\n",
      "9:\tlearn: 21.5304428\ttotal: 12.8ms\tremaining: 161ms\n",
      "10:\tlearn: 21.3350997\ttotal: 14ms\tremaining: 158ms\n",
      "11:\tlearn: 21.2029639\ttotal: 15.1ms\tremaining: 155ms\n",
      "12:\tlearn: 20.8196099\ttotal: 16.2ms\tremaining: 152ms\n",
      "13:\tlearn: 20.6050642\ttotal: 17.4ms\tremaining: 150ms\n",
      "14:\tlearn: 20.3759970\ttotal: 18.8ms\tremaining: 150ms\n",
      "15:\tlearn: 20.2418042\ttotal: 20.2ms\tremaining: 150ms\n",
      "16:\tlearn: 20.0646855\ttotal: 21.5ms\tremaining: 149ms\n",
      "17:\tlearn: 19.8464949\ttotal: 22.7ms\tremaining: 147ms\n",
      "18:\tlearn: 19.7301323\ttotal: 23.9ms\tremaining: 146ms\n",
      "19:\tlearn: 19.5969809\ttotal: 25ms\tremaining: 144ms\n",
      "20:\tlearn: 19.5015846\ttotal: 26.2ms\tremaining: 142ms\n",
      "21:\tlearn: 19.3872146\ttotal: 27.4ms\tremaining: 141ms\n",
      "22:\tlearn: 19.2832712\ttotal: 28.9ms\tremaining: 141ms\n",
      "23:\tlearn: 19.1523212\ttotal: 30.4ms\tremaining: 141ms\n",
      "24:\tlearn: 18.9747469\ttotal: 31.6ms\tremaining: 139ms\n",
      "25:\tlearn: 18.8750962\ttotal: 32.8ms\tremaining: 138ms\n",
      "26:\tlearn: 18.7994392\ttotal: 34.1ms\tremaining: 136ms\n",
      "27:\tlearn: 18.7585119\ttotal: 35.3ms\tremaining: 135ms\n",
      "28:\tlearn: 18.6898267\ttotal: 37ms\tremaining: 135ms\n",
      "29:\tlearn: 18.5494795\ttotal: 38.9ms\tremaining: 136ms\n",
      "30:\tlearn: 18.4483032\ttotal: 40.9ms\tremaining: 137ms\n",
      "31:\tlearn: 18.3104237\ttotal: 42.9ms\tremaining: 138ms\n",
      "32:\tlearn: 18.2096752\ttotal: 44.9ms\tremaining: 139ms\n",
      "33:\tlearn: 18.1456991\ttotal: 46.8ms\tremaining: 139ms\n",
      "34:\tlearn: 17.9633617\ttotal: 48.9ms\tremaining: 140ms\n",
      "35:\tlearn: 17.9355031\ttotal: 50.9ms\tremaining: 140ms\n",
      "36:\tlearn: 17.8355519\ttotal: 52.9ms\tremaining: 140ms\n",
      "37:\tlearn: 17.7624525\ttotal: 54.9ms\tremaining: 140ms\n",
      "38:\tlearn: 17.7190306\ttotal: 56.8ms\tremaining: 140ms\n",
      "39:\tlearn: 17.6791042\ttotal: 58.6ms\tremaining: 139ms\n",
      "40:\tlearn: 17.5671895\ttotal: 59.9ms\tremaining: 137ms\n",
      "41:\tlearn: 17.4281176\ttotal: 61.2ms\tremaining: 135ms\n",
      "42:\tlearn: 17.3869064\ttotal: 62.3ms\tremaining: 133ms\n",
      "43:\tlearn: 17.3633186\ttotal: 63.5ms\tremaining: 131ms\n",
      "44:\tlearn: 17.2746166\ttotal: 64.7ms\tremaining: 129ms\n",
      "45:\tlearn: 17.1684383\ttotal: 65.9ms\tremaining: 127ms\n",
      "46:\tlearn: 17.1379847\ttotal: 67ms\tremaining: 125ms\n",
      "47:\tlearn: 17.0593202\ttotal: 68.1ms\tremaining: 123ms\n",
      "48:\tlearn: 16.9483486\ttotal: 69.3ms\tremaining: 122ms\n",
      "49:\tlearn: 16.8608430\ttotal: 70.5ms\tremaining: 120ms\n",
      "50:\tlearn: 16.7812704\ttotal: 71.7ms\tremaining: 118ms\n",
      "51:\tlearn: 16.7607511\ttotal: 72.8ms\tremaining: 116ms\n",
      "52:\tlearn: 16.7522723\ttotal: 74ms\tremaining: 114ms\n",
      "53:\tlearn: 16.7029337\ttotal: 75.1ms\tremaining: 113ms\n",
      "54:\tlearn: 16.6589334\ttotal: 76.3ms\tremaining: 111ms\n",
      "55:\tlearn: 16.5761466\ttotal: 77.5ms\tremaining: 109ms\n",
      "56:\tlearn: 16.4439437\ttotal: 78.7ms\tremaining: 108ms\n",
      "57:\tlearn: 16.3991312\ttotal: 79.9ms\tremaining: 106ms\n",
      "58:\tlearn: 16.3945588\ttotal: 81.1ms\tremaining: 104ms\n",
      "59:\tlearn: 16.3035256\ttotal: 82.2ms\tremaining: 103ms\n",
      "60:\tlearn: 16.1721397\ttotal: 83.4ms\tremaining: 101ms\n",
      "61:\tlearn: 16.1095012\ttotal: 84.6ms\tremaining: 99.6ms\n",
      "62:\tlearn: 16.0657831\ttotal: 85.7ms\tremaining: 97.9ms\n",
      "63:\tlearn: 16.0111622\ttotal: 86.8ms\tremaining: 96.3ms\n",
      "64:\tlearn: 15.9066689\ttotal: 87.9ms\tremaining: 94.7ms\n",
      "65:\tlearn: 15.8547762\ttotal: 89.7ms\tremaining: 93.8ms\n",
      "66:\tlearn: 15.8322461\ttotal: 91.5ms\tremaining: 92.9ms\n",
      "67:\tlearn: 15.7998778\ttotal: 93.3ms\tremaining: 91.9ms\n",
      "68:\tlearn: 15.6950362\ttotal: 95.1ms\tremaining: 91ms\n",
      "69:\tlearn: 15.6183229\ttotal: 97ms\tremaining: 90.1ms\n",
      "70:\tlearn: 15.5686523\ttotal: 99.1ms\tremaining: 89.3ms\n",
      "71:\tlearn: 15.5388880\ttotal: 101ms\tremaining: 88.3ms\n",
      "72:\tlearn: 15.5311719\ttotal: 103ms\tremaining: 87.3ms\n",
      "73:\tlearn: 15.5073957\ttotal: 105ms\tremaining: 86.2ms\n",
      "74:\tlearn: 15.4833621\ttotal: 106ms\tremaining: 84.6ms\n",
      "75:\tlearn: 15.4296165\ttotal: 107ms\tremaining: 83.1ms\n",
      "76:\tlearn: 15.3806371\ttotal: 108ms\tremaining: 81.5ms\n",
      "77:\tlearn: 15.3053006\ttotal: 109ms\tremaining: 79.9ms\n",
      "78:\tlearn: 15.2597195\ttotal: 110ms\tremaining: 78.3ms\n",
      "79:\tlearn: 15.2342068\ttotal: 112ms\tremaining: 77.1ms\n",
      "80:\tlearn: 15.1527617\ttotal: 113ms\tremaining: 75.6ms\n",
      "81:\tlearn: 15.0619527\ttotal: 115ms\tremaining: 74.1ms\n",
      "82:\tlearn: 14.9680540\ttotal: 116ms\tremaining: 72.5ms\n",
      "83:\tlearn: 14.8737416\ttotal: 117ms\tremaining: 71ms\n",
      "84:\tlearn: 14.8378102\ttotal: 118ms\tremaining: 69.5ms\n",
      "85:\tlearn: 14.7703330\ttotal: 119ms\tremaining: 68ms\n",
      "86:\tlearn: 14.7006147\ttotal: 121ms\tremaining: 66.5ms\n",
      "87:\tlearn: 14.6363036\ttotal: 122ms\tremaining: 65ms\n",
      "88:\tlearn: 14.5897361\ttotal: 123ms\tremaining: 63.5ms\n",
      "89:\tlearn: 14.5482749\ttotal: 124ms\tremaining: 62ms\n",
      "90:\tlearn: 14.5043638\ttotal: 125ms\tremaining: 60.5ms\n",
      "91:\tlearn: 14.4287961\ttotal: 126ms\tremaining: 59ms\n",
      "92:\tlearn: 14.4253866\ttotal: 127ms\tremaining: 57.6ms\n",
      "93:\tlearn: 14.4232475\ttotal: 129ms\tremaining: 56.2ms\n",
      "94:\tlearn: 14.3123948\ttotal: 130ms\tremaining: 54.7ms\n",
      "95:\tlearn: 14.2562062\ttotal: 131ms\tremaining: 53.3ms\n",
      "96:\tlearn: 14.1685685\ttotal: 132ms\tremaining: 51.9ms\n",
      "97:\tlearn: 14.1311241\ttotal: 134ms\tremaining: 50.4ms\n",
      "98:\tlearn: 14.1275081\ttotal: 135ms\tremaining: 49ms\n",
      "99:\tlearn: 14.0916315\ttotal: 136ms\tremaining: 47.5ms\n",
      "100:\tlearn: 14.0393833\ttotal: 137ms\tremaining: 46.1ms\n",
      "101:\tlearn: 14.0293660\ttotal: 138ms\tremaining: 44.7ms\n",
      "102:\tlearn: 14.0060765\ttotal: 139ms\tremaining: 43.3ms\n",
      "103:\tlearn: 13.9436004\ttotal: 141ms\tremaining: 41.9ms\n",
      "104:\tlearn: 13.8878020\ttotal: 142ms\tremaining: 40.5ms\n",
      "105:\tlearn: 13.8701210\ttotal: 143ms\tremaining: 39.1ms\n",
      "106:\tlearn: 13.8232382\ttotal: 144ms\tremaining: 37.7ms\n",
      "107:\tlearn: 13.7432857\ttotal: 145ms\tremaining: 36.3ms\n",
      "108:\tlearn: 13.6837599\ttotal: 147ms\tremaining: 34.9ms\n",
      "109:\tlearn: 13.6433290\ttotal: 148ms\tremaining: 33.7ms\n",
      "110:\tlearn: 13.6405236\ttotal: 149ms\tremaining: 32.3ms\n",
      "111:\tlearn: 13.5624570\ttotal: 150ms\tremaining: 30.9ms\n",
      "112:\tlearn: 13.5448532\ttotal: 152ms\tremaining: 29.5ms\n",
      "113:\tlearn: 13.4997070\ttotal: 153ms\tremaining: 28.1ms\n",
      "114:\tlearn: 13.4358001\ttotal: 154ms\tremaining: 26.8ms\n",
      "115:\tlearn: 13.3915198\ttotal: 155ms\tremaining: 25.4ms\n",
      "116:\tlearn: 13.3757513\ttotal: 156ms\tremaining: 24ms\n",
      "117:\tlearn: 13.2879880\ttotal: 157ms\tremaining: 22.7ms\n",
      "118:\tlearn: 13.2857277\ttotal: 159ms\tremaining: 21.3ms\n",
      "119:\tlearn: 13.2491701\ttotal: 160ms\tremaining: 20ms\n",
      "120:\tlearn: 13.1951749\ttotal: 161ms\tremaining: 18.6ms\n",
      "121:\tlearn: 13.1532025\ttotal: 162ms\tremaining: 17.3ms\n",
      "122:\tlearn: 13.1518401\ttotal: 163ms\tremaining: 15.9ms\n",
      "123:\tlearn: 13.0797892\ttotal: 164ms\tremaining: 14.6ms\n",
      "124:\tlearn: 13.0096640\ttotal: 165ms\tremaining: 13.2ms\n",
      "125:\tlearn: 12.9446326\ttotal: 167ms\tremaining: 11.9ms\n",
      "126:\tlearn: 12.8997055\ttotal: 168ms\tremaining: 10.6ms\n",
      "127:\tlearn: 12.8423828\ttotal: 169ms\tremaining: 9.24ms\n",
      "128:\tlearn: 12.8289602\ttotal: 170ms\tremaining: 7.92ms\n",
      "129:\tlearn: 12.8005190\ttotal: 171ms\tremaining: 6.59ms\n",
      "130:\tlearn: 12.7653100\ttotal: 173ms\tremaining: 5.27ms\n",
      "131:\tlearn: 12.7637922\ttotal: 174ms\tremaining: 3.95ms\n",
      "132:\tlearn: 12.7396758\ttotal: 175ms\tremaining: 2.63ms\n",
      "133:\tlearn: 12.7103554\ttotal: 176ms\tremaining: 1.31ms\n",
      "134:\tlearn: 12.6390752\ttotal: 177ms\tremaining: 0us\n",
      "Learning rate set to 0.243228\n",
      "0:\tlearn: 30.4764846\ttotal: 1.59ms\tremaining: 213ms\n",
      "1:\tlearn: 28.1000503\ttotal: 3.12ms\tremaining: 207ms\n",
      "2:\tlearn: 26.5190339\ttotal: 4.59ms\tremaining: 202ms\n",
      "3:\tlearn: 25.2480331\ttotal: 6.06ms\tremaining: 199ms\n",
      "4:\tlearn: 24.4281106\ttotal: 7.37ms\tremaining: 192ms\n",
      "5:\tlearn: 23.8850314\ttotal: 8.74ms\tremaining: 188ms\n",
      "6:\tlearn: 23.4764376\ttotal: 10.2ms\tremaining: 187ms\n",
      "7:\tlearn: 23.1322518\ttotal: 11.6ms\tremaining: 185ms\n",
      "8:\tlearn: 22.7927630\ttotal: 12.9ms\tremaining: 181ms\n",
      "9:\tlearn: 22.5418773\ttotal: 14.2ms\tremaining: 177ms\n",
      "10:\tlearn: 22.3214450\ttotal: 15.5ms\tremaining: 175ms\n",
      "11:\tlearn: 22.2311419\ttotal: 16.7ms\tremaining: 172ms\n",
      "12:\tlearn: 21.9747398\ttotal: 18ms\tremaining: 169ms\n",
      "13:\tlearn: 21.7522075\ttotal: 19.4ms\tremaining: 167ms\n",
      "14:\tlearn: 21.5354965\ttotal: 20.7ms\tremaining: 165ms\n",
      "15:\tlearn: 21.3861175\ttotal: 22ms\tremaining: 164ms\n",
      "16:\tlearn: 21.2500667\ttotal: 23.3ms\tremaining: 162ms\n",
      "17:\tlearn: 21.0981477\ttotal: 24.6ms\tremaining: 160ms\n",
      "18:\tlearn: 20.7526508\ttotal: 26ms\tremaining: 159ms\n",
      "19:\tlearn: 20.6973992\ttotal: 27.2ms\tremaining: 157ms\n",
      "20:\tlearn: 20.6315913\ttotal: 28.6ms\tremaining: 155ms\n",
      "21:\tlearn: 20.5535607\ttotal: 29.9ms\tremaining: 154ms\n",
      "22:\tlearn: 20.3890903\ttotal: 31.2ms\tremaining: 152ms\n",
      "23:\tlearn: 20.3160720\ttotal: 32.6ms\tremaining: 151ms\n",
      "24:\tlearn: 20.3012056\ttotal: 33.6ms\tremaining: 148ms\n",
      "25:\tlearn: 20.2749459\ttotal: 35ms\tremaining: 147ms\n",
      "26:\tlearn: 20.1980416\ttotal: 36.3ms\tremaining: 145ms\n",
      "27:\tlearn: 19.9895339\ttotal: 37.7ms\tremaining: 144ms\n",
      "28:\tlearn: 19.9242943\ttotal: 39ms\tremaining: 143ms\n",
      "29:\tlearn: 19.8754284\ttotal: 40.3ms\tremaining: 141ms\n",
      "30:\tlearn: 19.7847070\ttotal: 41.7ms\tremaining: 140ms\n",
      "31:\tlearn: 19.6525963\ttotal: 43ms\tremaining: 138ms\n",
      "32:\tlearn: 19.5907649\ttotal: 44.2ms\tremaining: 137ms\n",
      "33:\tlearn: 19.5431617\ttotal: 45.5ms\tremaining: 135ms\n",
      "34:\tlearn: 19.4543852\ttotal: 46.9ms\tremaining: 134ms\n",
      "35:\tlearn: 19.3485880\ttotal: 48.2ms\tremaining: 133ms\n",
      "36:\tlearn: 19.2087427\ttotal: 49.5ms\tremaining: 131ms\n",
      "37:\tlearn: 19.0342449\ttotal: 50.8ms\tremaining: 130ms\n",
      "38:\tlearn: 18.9612874\ttotal: 52.2ms\tremaining: 128ms\n",
      "39:\tlearn: 18.8255878\ttotal: 53.5ms\tremaining: 127ms\n",
      "40:\tlearn: 18.7039188\ttotal: 54.8ms\tremaining: 126ms\n",
      "41:\tlearn: 18.6453958\ttotal: 56.1ms\tremaining: 124ms\n",
      "42:\tlearn: 18.6056755\ttotal: 57.4ms\tremaining: 123ms\n",
      "43:\tlearn: 18.5419086\ttotal: 58.7ms\tremaining: 121ms\n",
      "44:\tlearn: 18.4199734\ttotal: 60ms\tremaining: 120ms\n",
      "45:\tlearn: 18.3336098\ttotal: 61.3ms\tremaining: 119ms\n",
      "46:\tlearn: 18.2545861\ttotal: 62.6ms\tremaining: 117ms\n",
      "47:\tlearn: 18.1819977\ttotal: 63.9ms\tremaining: 116ms\n",
      "48:\tlearn: 18.1632283\ttotal: 65.1ms\tremaining: 114ms\n",
      "49:\tlearn: 18.0771490\ttotal: 66.3ms\tremaining: 113ms\n",
      "50:\tlearn: 18.0261697\ttotal: 67.6ms\tremaining: 111ms\n",
      "51:\tlearn: 17.9524826\ttotal: 68.9ms\tremaining: 110ms\n",
      "52:\tlearn: 17.8938617\ttotal: 70.3ms\tremaining: 109ms\n",
      "53:\tlearn: 17.7687063\ttotal: 71.6ms\tremaining: 107ms\n",
      "54:\tlearn: 17.7021987\ttotal: 72.8ms\tremaining: 106ms\n",
      "55:\tlearn: 17.5765104\ttotal: 74.1ms\tremaining: 105ms\n",
      "56:\tlearn: 17.5134821\ttotal: 75.4ms\tremaining: 103ms\n",
      "57:\tlearn: 17.4655489\ttotal: 76.7ms\tremaining: 102ms\n",
      "58:\tlearn: 17.4073251\ttotal: 77.9ms\tremaining: 100ms\n",
      "59:\tlearn: 17.3568397\ttotal: 79.2ms\tremaining: 99.1ms\n",
      "60:\tlearn: 17.3125252\ttotal: 80.5ms\tremaining: 97.7ms\n",
      "61:\tlearn: 17.2484493\ttotal: 81.8ms\tremaining: 96.3ms\n",
      "62:\tlearn: 17.1851500\ttotal: 83.1ms\tremaining: 94.9ms\n",
      "63:\tlearn: 17.1266194\ttotal: 84.3ms\tremaining: 93.6ms\n",
      "64:\tlearn: 17.0375558\ttotal: 85.8ms\tremaining: 92.3ms\n",
      "65:\tlearn: 17.0315907\ttotal: 87ms\tremaining: 90.9ms\n",
      "66:\tlearn: 16.9595280\ttotal: 88.3ms\tremaining: 89.6ms\n",
      "67:\tlearn: 16.9169134\ttotal: 89.6ms\tremaining: 88.2ms\n",
      "68:\tlearn: 16.9142866\ttotal: 90.8ms\tremaining: 86.8ms\n",
      "69:\tlearn: 16.8968346\ttotal: 92ms\tremaining: 85.4ms\n",
      "70:\tlearn: 16.8656850\ttotal: 93.2ms\tremaining: 84ms\n",
      "71:\tlearn: 16.8416835\ttotal: 94.5ms\tremaining: 82.7ms\n",
      "72:\tlearn: 16.8094450\ttotal: 95.8ms\tremaining: 81.3ms\n",
      "73:\tlearn: 16.7111132\ttotal: 97.1ms\tremaining: 80ms\n",
      "74:\tlearn: 16.6214116\ttotal: 98.3ms\tremaining: 78.7ms\n",
      "75:\tlearn: 16.5665018\ttotal: 99.7ms\tremaining: 77.4ms\n",
      "76:\tlearn: 16.5592595\ttotal: 101ms\tremaining: 76ms\n",
      "77:\tlearn: 16.4854126\ttotal: 102ms\tremaining: 74.8ms\n",
      "78:\tlearn: 16.4356457\ttotal: 104ms\tremaining: 73.4ms\n",
      "79:\tlearn: 16.3648430\ttotal: 105ms\tremaining: 72.1ms\n",
      "80:\tlearn: 16.3627103\ttotal: 106ms\tremaining: 70.7ms\n",
      "81:\tlearn: 16.2760727\ttotal: 108ms\tremaining: 69.5ms\n",
      "82:\tlearn: 16.2136704\ttotal: 109ms\tremaining: 68.2ms\n",
      "83:\tlearn: 16.1222519\ttotal: 110ms\tremaining: 66.9ms\n",
      "84:\tlearn: 16.0989230\ttotal: 111ms\tremaining: 65.5ms\n",
      "85:\tlearn: 16.0311139\ttotal: 113ms\tremaining: 64.3ms\n",
      "86:\tlearn: 16.0006767\ttotal: 114ms\tremaining: 62.9ms\n",
      "87:\tlearn: 15.9751634\ttotal: 116ms\tremaining: 61.7ms\n",
      "88:\tlearn: 15.9531883\ttotal: 117ms\tremaining: 60.4ms\n",
      "89:\tlearn: 15.9035125\ttotal: 118ms\tremaining: 59.1ms\n",
      "90:\tlearn: 15.8691086\ttotal: 119ms\tremaining: 57.7ms\n",
      "91:\tlearn: 15.8336973\ttotal: 121ms\tremaining: 56.4ms\n",
      "92:\tlearn: 15.7885382\ttotal: 122ms\tremaining: 55.1ms\n",
      "93:\tlearn: 15.7806424\ttotal: 123ms\tremaining: 53.8ms\n",
      "94:\tlearn: 15.7479744\ttotal: 125ms\tremaining: 52.5ms\n",
      "95:\tlearn: 15.6904332\ttotal: 126ms\tremaining: 51.1ms\n",
      "96:\tlearn: 15.6153489\ttotal: 127ms\tremaining: 49.9ms\n",
      "97:\tlearn: 15.5741737\ttotal: 129ms\tremaining: 48.6ms\n",
      "98:\tlearn: 15.5139857\ttotal: 130ms\tremaining: 47.3ms\n",
      "99:\tlearn: 15.4763716\ttotal: 131ms\tremaining: 46ms\n",
      "100:\tlearn: 15.4383466\ttotal: 133ms\tremaining: 44.7ms\n",
      "101:\tlearn: 15.4200058\ttotal: 134ms\tremaining: 43.3ms\n",
      "102:\tlearn: 15.3862902\ttotal: 135ms\tremaining: 42ms\n",
      "103:\tlearn: 15.3680048\ttotal: 137ms\tremaining: 40.8ms\n",
      "104:\tlearn: 15.3139173\ttotal: 138ms\tremaining: 39.5ms\n",
      "105:\tlearn: 15.2514266\ttotal: 139ms\tremaining: 38.2ms\n",
      "106:\tlearn: 15.2497794\ttotal: 141ms\tremaining: 36.8ms\n",
      "107:\tlearn: 15.2188932\ttotal: 142ms\tremaining: 35.5ms\n",
      "108:\tlearn: 15.1347213\ttotal: 143ms\tremaining: 34.2ms\n",
      "109:\tlearn: 15.1316679\ttotal: 145ms\tremaining: 32.9ms\n",
      "110:\tlearn: 15.1103230\ttotal: 146ms\tremaining: 31.6ms\n",
      "111:\tlearn: 15.0492444\ttotal: 147ms\tremaining: 30.2ms\n",
      "112:\tlearn: 15.0326798\ttotal: 149ms\tremaining: 28.9ms\n",
      "113:\tlearn: 14.9964031\ttotal: 150ms\tremaining: 27.6ms\n",
      "114:\tlearn: 14.9560700\ttotal: 151ms\tremaining: 26.3ms\n",
      "115:\tlearn: 14.9053782\ttotal: 153ms\tremaining: 25ms\n",
      "116:\tlearn: 14.8807987\ttotal: 154ms\tremaining: 23.7ms\n",
      "117:\tlearn: 14.8452324\ttotal: 155ms\tremaining: 22.4ms\n",
      "118:\tlearn: 14.8438913\ttotal: 157ms\tremaining: 21ms\n",
      "119:\tlearn: 14.7794615\ttotal: 158ms\tremaining: 19.7ms\n",
      "120:\tlearn: 14.7621468\ttotal: 159ms\tremaining: 18.4ms\n",
      "121:\tlearn: 14.7242462\ttotal: 160ms\tremaining: 17.1ms\n",
      "122:\tlearn: 14.6776520\ttotal: 162ms\tremaining: 15.8ms\n",
      "123:\tlearn: 14.6231728\ttotal: 163ms\tremaining: 14.5ms\n",
      "124:\tlearn: 14.5526091\ttotal: 165ms\tremaining: 13.2ms\n",
      "125:\tlearn: 14.5498355\ttotal: 166ms\tremaining: 11.8ms\n",
      "126:\tlearn: 14.4933264\ttotal: 167ms\tremaining: 10.5ms\n",
      "127:\tlearn: 14.4768804\ttotal: 168ms\tremaining: 9.21ms\n",
      "128:\tlearn: 14.4625906\ttotal: 170ms\tremaining: 7.89ms\n",
      "129:\tlearn: 14.4303231\ttotal: 171ms\tremaining: 6.57ms\n",
      "130:\tlearn: 14.3871064\ttotal: 172ms\tremaining: 5.26ms\n",
      "131:\tlearn: 14.3688751\ttotal: 174ms\tremaining: 3.94ms\n",
      "132:\tlearn: 14.3313488\ttotal: 175ms\tremaining: 2.63ms\n",
      "133:\tlearn: 14.2827153\ttotal: 176ms\tremaining: 1.31ms\n",
      "134:\tlearn: 14.2472899\ttotal: 179ms\tremaining: 0us\n",
      "Learning rate set to 0.251947\n",
      "0:\tlearn: 31.9224369\ttotal: 1.89ms\tremaining: 253ms\n",
      "1:\tlearn: 29.2491746\ttotal: 3.58ms\tremaining: 238ms\n",
      "2:\tlearn: 27.3740376\ttotal: 5.2ms\tremaining: 229ms\n",
      "3:\tlearn: 26.4974347\ttotal: 6.71ms\tremaining: 220ms\n",
      "4:\tlearn: 25.5790173\ttotal: 8.29ms\tremaining: 216ms\n",
      "5:\tlearn: 25.0170748\ttotal: 10ms\tremaining: 216ms\n",
      "6:\tlearn: 24.7081223\ttotal: 11.7ms\tremaining: 213ms\n",
      "7:\tlearn: 24.1625904\ttotal: 13.2ms\tremaining: 210ms\n",
      "8:\tlearn: 23.8315584\ttotal: 14.7ms\tremaining: 206ms\n",
      "9:\tlearn: 23.5761665\ttotal: 16.2ms\tremaining: 202ms\n",
      "10:\tlearn: 23.3992849\ttotal: 17.7ms\tremaining: 199ms\n",
      "11:\tlearn: 23.2849744\ttotal: 19.1ms\tremaining: 196ms\n",
      "12:\tlearn: 23.0083244\ttotal: 20.6ms\tremaining: 194ms\n",
      "13:\tlearn: 22.6166683\ttotal: 22.1ms\tremaining: 191ms\n",
      "14:\tlearn: 22.4360094\ttotal: 23.6ms\tremaining: 189ms\n",
      "15:\tlearn: 22.2847486\ttotal: 25.1ms\tremaining: 186ms\n",
      "16:\tlearn: 22.1604121\ttotal: 26.5ms\tremaining: 184ms\n",
      "17:\tlearn: 21.9563584\ttotal: 28ms\tremaining: 182ms\n",
      "18:\tlearn: 21.7304577\ttotal: 29.5ms\tremaining: 180ms\n",
      "19:\tlearn: 21.5496875\ttotal: 31ms\tremaining: 178ms\n",
      "20:\tlearn: 21.4665620\ttotal: 32.4ms\tremaining: 176ms\n",
      "21:\tlearn: 21.3278488\ttotal: 33.8ms\tremaining: 174ms\n",
      "22:\tlearn: 21.2678159\ttotal: 35.2ms\tremaining: 172ms\n",
      "23:\tlearn: 21.2162523\ttotal: 36.7ms\tremaining: 170ms\n",
      "24:\tlearn: 21.1420452\ttotal: 38.1ms\tremaining: 168ms\n",
      "25:\tlearn: 21.0041557\ttotal: 39.5ms\tremaining: 165ms\n",
      "26:\tlearn: 20.9242383\ttotal: 40.9ms\tremaining: 164ms\n",
      "27:\tlearn: 20.8837397\ttotal: 42.3ms\tremaining: 162ms\n",
      "28:\tlearn: 20.7871783\ttotal: 43.8ms\tremaining: 160ms\n",
      "29:\tlearn: 20.6589522\ttotal: 45.2ms\tremaining: 158ms\n",
      "30:\tlearn: 20.5135484\ttotal: 46.7ms\tremaining: 157ms\n",
      "31:\tlearn: 20.4024312\ttotal: 48.1ms\tremaining: 155ms\n",
      "32:\tlearn: 20.2660827\ttotal: 49.5ms\tremaining: 153ms\n",
      "33:\tlearn: 20.1923634\ttotal: 51ms\tremaining: 151ms\n",
      "34:\tlearn: 20.1020695\ttotal: 52.4ms\tremaining: 150ms\n",
      "35:\tlearn: 19.9986181\ttotal: 53.8ms\tremaining: 148ms\n",
      "36:\tlearn: 19.8826295\ttotal: 55.3ms\tremaining: 146ms\n",
      "37:\tlearn: 19.7434226\ttotal: 56.7ms\tremaining: 145ms\n",
      "38:\tlearn: 19.6643786\ttotal: 58.2ms\tremaining: 143ms\n",
      "39:\tlearn: 19.5469008\ttotal: 59.7ms\tremaining: 142ms\n",
      "40:\tlearn: 19.5155608\ttotal: 61ms\tremaining: 140ms\n",
      "41:\tlearn: 19.3921583\ttotal: 62.4ms\tremaining: 138ms\n",
      "42:\tlearn: 19.3707726\ttotal: 63.7ms\tremaining: 136ms\n",
      "43:\tlearn: 19.3191720\ttotal: 65.1ms\tremaining: 135ms\n",
      "44:\tlearn: 19.2736797\ttotal: 66.6ms\tremaining: 133ms\n",
      "45:\tlearn: 19.2445343\ttotal: 68ms\tremaining: 132ms\n",
      "46:\tlearn: 19.1980517\ttotal: 69.4ms\tremaining: 130ms\n",
      "47:\tlearn: 19.0709769\ttotal: 70.9ms\tremaining: 128ms\n",
      "48:\tlearn: 18.9950652\ttotal: 72.4ms\tremaining: 127ms\n",
      "49:\tlearn: 18.9263822\ttotal: 73.8ms\tremaining: 125ms\n",
      "50:\tlearn: 18.8872022\ttotal: 75.3ms\tremaining: 124ms\n",
      "51:\tlearn: 18.8346625\ttotal: 76.7ms\tremaining: 122ms\n",
      "52:\tlearn: 18.8305873\ttotal: 78.2ms\tremaining: 121ms\n",
      "53:\tlearn: 18.7868239\ttotal: 79.6ms\tremaining: 119ms\n",
      "54:\tlearn: 18.7830614\ttotal: 81.5ms\tremaining: 119ms\n",
      "55:\tlearn: 18.7513563\ttotal: 82.9ms\tremaining: 117ms\n",
      "56:\tlearn: 18.7259212\ttotal: 84.3ms\tremaining: 115ms\n",
      "57:\tlearn: 18.6650753\ttotal: 85.8ms\tremaining: 114ms\n",
      "58:\tlearn: 18.5832280\ttotal: 87.2ms\tremaining: 112ms\n",
      "59:\tlearn: 18.4983278\ttotal: 88.7ms\tremaining: 111ms\n",
      "60:\tlearn: 18.4747278\ttotal: 90.1ms\tremaining: 109ms\n",
      "61:\tlearn: 18.3850947\ttotal: 91.7ms\tremaining: 108ms\n",
      "62:\tlearn: 18.3007428\ttotal: 93.1ms\tremaining: 106ms\n",
      "63:\tlearn: 18.2595271\ttotal: 94.7ms\tremaining: 105ms\n",
      "64:\tlearn: 18.2369888\ttotal: 96.2ms\tremaining: 104ms\n",
      "65:\tlearn: 18.1862109\ttotal: 97.6ms\tremaining: 102ms\n",
      "66:\tlearn: 18.1471834\ttotal: 99.1ms\tremaining: 101ms\n",
      "67:\tlearn: 18.0940479\ttotal: 101ms\tremaining: 99.1ms\n",
      "68:\tlearn: 18.0613101\ttotal: 102ms\tremaining: 97.8ms\n",
      "69:\tlearn: 18.0573704\ttotal: 104ms\tremaining: 96.2ms\n",
      "70:\tlearn: 18.0229416\ttotal: 105ms\tremaining: 94.6ms\n",
      "71:\tlearn: 17.9975159\ttotal: 106ms\tremaining: 93.1ms\n",
      "72:\tlearn: 17.9434719\ttotal: 108ms\tremaining: 91.5ms\n",
      "73:\tlearn: 17.8889974\ttotal: 109ms\tremaining: 90.2ms\n",
      "74:\tlearn: 17.7856000\ttotal: 111ms\tremaining: 89.1ms\n",
      "75:\tlearn: 17.6689861\ttotal: 113ms\tremaining: 87.6ms\n",
      "76:\tlearn: 17.6056003\ttotal: 114ms\tremaining: 86ms\n",
      "77:\tlearn: 17.5553133\ttotal: 116ms\tremaining: 84.6ms\n",
      "78:\tlearn: 17.5048645\ttotal: 117ms\tremaining: 83.1ms\n",
      "79:\tlearn: 17.4731920\ttotal: 119ms\tremaining: 81.6ms\n",
      "80:\tlearn: 17.4198349\ttotal: 120ms\tremaining: 80.1ms\n",
      "81:\tlearn: 17.3680783\ttotal: 122ms\tremaining: 78.6ms\n",
      "82:\tlearn: 17.2843788\ttotal: 123ms\tremaining: 77.1ms\n",
      "83:\tlearn: 17.2218315\ttotal: 124ms\tremaining: 75.6ms\n",
      "84:\tlearn: 17.1922610\ttotal: 126ms\tremaining: 74.1ms\n",
      "85:\tlearn: 17.1076017\ttotal: 127ms\tremaining: 72.6ms\n",
      "86:\tlearn: 17.0417770\ttotal: 129ms\tremaining: 71.1ms\n",
      "87:\tlearn: 16.9798610\ttotal: 130ms\tremaining: 69.6ms\n",
      "88:\tlearn: 16.9746308\ttotal: 132ms\tremaining: 68.1ms\n",
      "89:\tlearn: 16.9447559\ttotal: 133ms\tremaining: 66.6ms\n",
      "90:\tlearn: 16.8873561\ttotal: 135ms\tremaining: 65.1ms\n",
      "91:\tlearn: 16.8358513\ttotal: 136ms\tremaining: 63.6ms\n",
      "92:\tlearn: 16.7920887\ttotal: 138ms\tremaining: 62.1ms\n",
      "93:\tlearn: 16.7833801\ttotal: 139ms\tremaining: 60.6ms\n",
      "94:\tlearn: 16.7417357\ttotal: 141ms\tremaining: 59.2ms\n",
      "95:\tlearn: 16.7115361\ttotal: 142ms\tremaining: 57.7ms\n",
      "96:\tlearn: 16.6689969\ttotal: 144ms\tremaining: 56.3ms\n",
      "97:\tlearn: 16.6526520\ttotal: 145ms\tremaining: 54.8ms\n",
      "98:\tlearn: 16.6004246\ttotal: 147ms\tremaining: 53.3ms\n",
      "99:\tlearn: 16.5760948\ttotal: 148ms\tremaining: 51.8ms\n",
      "100:\tlearn: 16.5653443\ttotal: 149ms\tremaining: 50.3ms\n",
      "101:\tlearn: 16.5340271\ttotal: 151ms\tremaining: 48.8ms\n",
      "102:\tlearn: 16.4911494\ttotal: 152ms\tremaining: 47.4ms\n",
      "103:\tlearn: 16.4670916\ttotal: 154ms\tremaining: 45.9ms\n",
      "104:\tlearn: 16.4341404\ttotal: 155ms\tremaining: 44.4ms\n",
      "105:\tlearn: 16.4269126\ttotal: 157ms\tremaining: 42.9ms\n",
      "106:\tlearn: 16.4185459\ttotal: 158ms\tremaining: 41.4ms\n",
      "107:\tlearn: 16.4156984\ttotal: 160ms\tremaining: 39.9ms\n",
      "108:\tlearn: 16.3565781\ttotal: 161ms\tremaining: 38.5ms\n",
      "109:\tlearn: 16.2914524\ttotal: 163ms\tremaining: 37ms\n",
      "110:\tlearn: 16.2855207\ttotal: 164ms\tremaining: 35.5ms\n",
      "111:\tlearn: 16.2356372\ttotal: 166ms\tremaining: 34ms\n",
      "112:\tlearn: 16.1755787\ttotal: 167ms\tremaining: 32.6ms\n",
      "113:\tlearn: 16.1513396\ttotal: 169ms\tremaining: 31.1ms\n",
      "114:\tlearn: 16.0787195\ttotal: 170ms\tremaining: 29.6ms\n",
      "115:\tlearn: 16.0344208\ttotal: 172ms\tremaining: 28.1ms\n",
      "116:\tlearn: 16.0049958\ttotal: 174ms\tremaining: 26.7ms\n",
      "117:\tlearn: 15.9606977\ttotal: 175ms\tremaining: 25.3ms\n",
      "118:\tlearn: 15.9202233\ttotal: 177ms\tremaining: 23.8ms\n",
      "119:\tlearn: 15.8989651\ttotal: 178ms\tremaining: 22.3ms\n",
      "120:\tlearn: 15.8732338\ttotal: 180ms\tremaining: 20.8ms\n",
      "121:\tlearn: 15.8414886\ttotal: 182ms\tremaining: 19.3ms\n",
      "122:\tlearn: 15.8038065\ttotal: 183ms\tremaining: 17.9ms\n",
      "123:\tlearn: 15.7968809\ttotal: 185ms\tremaining: 16.4ms\n",
      "124:\tlearn: 15.7776482\ttotal: 186ms\tremaining: 14.9ms\n",
      "125:\tlearn: 15.7241738\ttotal: 188ms\tremaining: 13.4ms\n",
      "126:\tlearn: 15.7135596\ttotal: 189ms\tremaining: 11.9ms\n",
      "127:\tlearn: 15.6946550\ttotal: 191ms\tremaining: 10.4ms\n",
      "128:\tlearn: 15.6385829\ttotal: 192ms\tremaining: 8.93ms\n",
      "129:\tlearn: 15.6079154\ttotal: 194ms\tremaining: 7.44ms\n",
      "130:\tlearn: 15.5878514\ttotal: 195ms\tremaining: 5.95ms\n",
      "131:\tlearn: 15.5383629\ttotal: 197ms\tremaining: 4.47ms\n",
      "132:\tlearn: 15.5145286\ttotal: 198ms\tremaining: 2.98ms\n",
      "133:\tlearn: 15.4685996\ttotal: 200ms\tremaining: 1.49ms\n",
      "134:\tlearn: 15.4216019\ttotal: 201ms\tremaining: 0us\n",
      "Learning rate set to 0.194319\n",
      "0:\tlearn: 27.1099034\ttotal: 1.14ms\tremaining: 154ms\n",
      "1:\tlearn: 25.1625453\ttotal: 2.17ms\tremaining: 146ms\n",
      "2:\tlearn: 23.5025472\ttotal: 3.1ms\tremaining: 137ms\n",
      "3:\tlearn: 22.2065163\ttotal: 3.94ms\tremaining: 130ms\n",
      "4:\tlearn: 21.2462418\ttotal: 4.93ms\tremaining: 129ms\n",
      "5:\tlearn: 20.5588951\ttotal: 5.83ms\tremaining: 126ms\n",
      "6:\tlearn: 20.0451097\ttotal: 6.72ms\tremaining: 124ms\n",
      "7:\tlearn: 19.4978285\ttotal: 7.56ms\tremaining: 121ms\n",
      "8:\tlearn: 18.9094598\ttotal: 8.4ms\tremaining: 119ms\n",
      "9:\tlearn: 18.4618380\ttotal: 9.22ms\tremaining: 116ms\n",
      "10:\tlearn: 18.1570559\ttotal: 10.1ms\tremaining: 115ms\n",
      "11:\tlearn: 17.8951053\ttotal: 11ms\tremaining: 113ms\n",
      "12:\tlearn: 17.5370086\ttotal: 11.8ms\tremaining: 112ms\n",
      "13:\tlearn: 17.3521524\ttotal: 12.6ms\tremaining: 110ms\n",
      "14:\tlearn: 17.1024642\ttotal: 13.4ms\tremaining: 108ms\n",
      "15:\tlearn: 16.9026407\ttotal: 14.3ms\tremaining: 107ms\n",
      "16:\tlearn: 16.7220147\ttotal: 15.1ms\tremaining: 106ms\n",
      "17:\tlearn: 16.4743339\ttotal: 16ms\tremaining: 105ms\n",
      "18:\tlearn: 16.3553447\ttotal: 16.8ms\tremaining: 103ms\n",
      "19:\tlearn: 16.1419442\ttotal: 17.6ms\tremaining: 102ms\n",
      "20:\tlearn: 15.9562654\ttotal: 18.4ms\tremaining: 101ms\n",
      "21:\tlearn: 15.8658745\ttotal: 19.3ms\tremaining: 99.8ms\n",
      "22:\tlearn: 15.8172346\ttotal: 20ms\tremaining: 98.4ms\n",
      "23:\tlearn: 15.7247920\ttotal: 20.9ms\tremaining: 97.4ms\n",
      "24:\tlearn: 15.5972236\ttotal: 21.7ms\tremaining: 96.4ms\n",
      "25:\tlearn: 15.4237366\ttotal: 22.5ms\tremaining: 95.4ms\n",
      "26:\tlearn: 15.3342938\ttotal: 23.4ms\tremaining: 94.6ms\n",
      "27:\tlearn: 15.2585457\ttotal: 24.3ms\tremaining: 93.8ms\n",
      "28:\tlearn: 15.1577515\ttotal: 25.2ms\tremaining: 92.9ms\n",
      "29:\tlearn: 15.0068344\ttotal: 26ms\tremaining: 91.9ms\n",
      "30:\tlearn: 14.8575545\ttotal: 26.8ms\tremaining: 90.8ms\n",
      "31:\tlearn: 14.7152381\ttotal: 27.7ms\tremaining: 89.9ms\n",
      "32:\tlearn: 14.6639876\ttotal: 28.4ms\tremaining: 88.8ms\n",
      "33:\tlearn: 14.6139536\ttotal: 29.2ms\tremaining: 87.7ms\n",
      "34:\tlearn: 14.5580701\ttotal: 30ms\tremaining: 86.7ms\n",
      "35:\tlearn: 14.3468741\ttotal: 30.8ms\tremaining: 85.7ms\n",
      "36:\tlearn: 14.2643847\ttotal: 31.6ms\tremaining: 84.7ms\n",
      "37:\tlearn: 14.1700179\ttotal: 32.5ms\tremaining: 83.8ms\n",
      "38:\tlearn: 14.0404402\ttotal: 33.3ms\tremaining: 82.8ms\n",
      "39:\tlearn: 13.9798444\ttotal: 34.2ms\tremaining: 82ms\n",
      "40:\tlearn: 13.8116761\ttotal: 35ms\tremaining: 81ms\n",
      "41:\tlearn: 13.6862784\ttotal: 35.8ms\tremaining: 80.1ms\n",
      "42:\tlearn: 13.6091167\ttotal: 36.6ms\tremaining: 79.1ms\n",
      "43:\tlearn: 13.5908571\ttotal: 37.4ms\tremaining: 78.1ms\n",
      "44:\tlearn: 13.5094197\ttotal: 38.1ms\tremaining: 77.1ms\n",
      "45:\tlearn: 13.3807670\ttotal: 38.9ms\tremaining: 76.2ms\n",
      "46:\tlearn: 13.2936936\ttotal: 39.8ms\tremaining: 75.3ms\n",
      "47:\tlearn: 13.2220505\ttotal: 40.7ms\tremaining: 74.6ms\n",
      "48:\tlearn: 13.0744431\ttotal: 41.5ms\tremaining: 73.7ms\n",
      "49:\tlearn: 13.0576832\ttotal: 42.3ms\tremaining: 72.8ms\n",
      "50:\tlearn: 12.8866856\ttotal: 43.1ms\tremaining: 71.9ms\n",
      "51:\tlearn: 12.8035515\ttotal: 43.9ms\tremaining: 70.9ms\n",
      "52:\tlearn: 12.7209322\ttotal: 44.7ms\tremaining: 70.1ms\n",
      "53:\tlearn: 12.6210903\ttotal: 45.6ms\tremaining: 69.2ms\n",
      "54:\tlearn: 12.5292694\ttotal: 46.7ms\tremaining: 68.7ms\n",
      "55:\tlearn: 12.4483802\ttotal: 47.9ms\tremaining: 68.5ms\n",
      "56:\tlearn: 12.3608387\ttotal: 48.9ms\tremaining: 67.8ms\n",
      "57:\tlearn: 12.2042726\ttotal: 49.8ms\tremaining: 67ms\n",
      "58:\tlearn: 12.1710502\ttotal: 50.7ms\tremaining: 66.1ms\n",
      "59:\tlearn: 12.1057387\ttotal: 51.5ms\tremaining: 65.3ms\n",
      "60:\tlearn: 12.0672816\ttotal: 52.4ms\tremaining: 64.4ms\n",
      "61:\tlearn: 11.9793686\ttotal: 53.2ms\tremaining: 63.6ms\n",
      "62:\tlearn: 11.9643948\ttotal: 54.1ms\tremaining: 62.6ms\n",
      "63:\tlearn: 11.9584475\ttotal: 54.9ms\tremaining: 61.7ms\n",
      "64:\tlearn: 11.8213149\ttotal: 55.8ms\tremaining: 60.9ms\n",
      "65:\tlearn: 11.8012297\ttotal: 56.5ms\tremaining: 60ms\n",
      "66:\tlearn: 11.7190328\ttotal: 57.3ms\tremaining: 59ms\n",
      "67:\tlearn: 11.7127348\ttotal: 58.1ms\tremaining: 58.1ms\n",
      "68:\tlearn: 11.7009584\ttotal: 59ms\tremaining: 57.2ms\n",
      "69:\tlearn: 11.6132656\ttotal: 59.8ms\tremaining: 56.4ms\n",
      "70:\tlearn: 11.4790340\ttotal: 60.6ms\tremaining: 55.5ms\n",
      "71:\tlearn: 11.3577437\ttotal: 61.4ms\tremaining: 54.6ms\n",
      "72:\tlearn: 11.2888753\ttotal: 62.2ms\tremaining: 53.7ms\n",
      "73:\tlearn: 11.2087155\ttotal: 63.1ms\tremaining: 52.9ms\n",
      "74:\tlearn: 11.1857391\ttotal: 63.9ms\tremaining: 52ms\n",
      "75:\tlearn: 11.1332143\ttotal: 64.7ms\tremaining: 51.1ms\n",
      "76:\tlearn: 11.1285047\ttotal: 65.6ms\tremaining: 50.3ms\n",
      "77:\tlearn: 11.0775641\ttotal: 66.5ms\tremaining: 49.5ms\n",
      "78:\tlearn: 11.0096173\ttotal: 67.4ms\tremaining: 48.6ms\n",
      "79:\tlearn: 10.8709344\ttotal: 68.3ms\tremaining: 47.8ms\n",
      "80:\tlearn: 10.7900979\ttotal: 69.1ms\tremaining: 46.9ms\n",
      "81:\tlearn: 10.7395853\ttotal: 69.9ms\tremaining: 46.1ms\n",
      "82:\tlearn: 10.6631004\ttotal: 70.7ms\tremaining: 45.2ms\n",
      "83:\tlearn: 10.5891386\ttotal: 71.6ms\tremaining: 44.3ms\n",
      "84:\tlearn: 10.5411807\ttotal: 72.4ms\tremaining: 43.4ms\n",
      "85:\tlearn: 10.4189683\ttotal: 73.2ms\tremaining: 42.6ms\n",
      "86:\tlearn: 10.2903884\ttotal: 74ms\tremaining: 41.7ms\n",
      "87:\tlearn: 10.2626301\ttotal: 74.8ms\tremaining: 40.8ms\n",
      "88:\tlearn: 10.1873905\ttotal: 75.6ms\tremaining: 39.9ms\n",
      "89:\tlearn: 10.1092263\ttotal: 76.4ms\tremaining: 39ms\n",
      "90:\tlearn: 10.0581982\ttotal: 77.2ms\tremaining: 38.2ms\n",
      "91:\tlearn: 10.0462489\ttotal: 78.1ms\tremaining: 37.3ms\n",
      "92:\tlearn: 9.9444568\ttotal: 78.9ms\tremaining: 36.5ms\n",
      "93:\tlearn: 9.8470449\ttotal: 79.7ms\tremaining: 35.6ms\n",
      "94:\tlearn: 9.8205919\ttotal: 80.5ms\tremaining: 34.7ms\n",
      "95:\tlearn: 9.7527745\ttotal: 81.3ms\tremaining: 33.9ms\n",
      "96:\tlearn: 9.6920004\ttotal: 82.1ms\tremaining: 33ms\n",
      "97:\tlearn: 9.6206769\ttotal: 82.9ms\tremaining: 32.2ms\n",
      "98:\tlearn: 9.5710628\ttotal: 83.7ms\tremaining: 31.3ms\n",
      "99:\tlearn: 9.5299276\ttotal: 84.6ms\tremaining: 30.5ms\n",
      "100:\tlearn: 9.4857186\ttotal: 85.4ms\tremaining: 29.6ms\n",
      "101:\tlearn: 9.4208724\ttotal: 86.2ms\tremaining: 28.7ms\n",
      "102:\tlearn: 9.3354990\ttotal: 87.1ms\tremaining: 27.9ms\n",
      "103:\tlearn: 9.2875032\ttotal: 88.2ms\tremaining: 27.1ms\n",
      "104:\tlearn: 9.2113533\ttotal: 89ms\tremaining: 26.3ms\n",
      "105:\tlearn: 9.1761541\ttotal: 89.8ms\tremaining: 25.4ms\n",
      "106:\tlearn: 9.1438191\ttotal: 90.7ms\tremaining: 24.6ms\n",
      "107:\tlearn: 9.1213795\ttotal: 91.5ms\tremaining: 23.7ms\n",
      "108:\tlearn: 9.0449161\ttotal: 92.3ms\tremaining: 22.9ms\n",
      "109:\tlearn: 8.9885267\ttotal: 93.2ms\tremaining: 22ms\n",
      "110:\tlearn: 8.9101079\ttotal: 94ms\tremaining: 21.2ms\n",
      "111:\tlearn: 8.8238127\ttotal: 94.8ms\tremaining: 20.3ms\n",
      "112:\tlearn: 8.7727164\ttotal: 95.6ms\tremaining: 19.5ms\n",
      "113:\tlearn: 8.7474389\ttotal: 96.4ms\tremaining: 18.6ms\n",
      "114:\tlearn: 8.6789848\ttotal: 97.3ms\tremaining: 17.8ms\n",
      "115:\tlearn: 8.6206316\ttotal: 98.1ms\tremaining: 16.9ms\n",
      "116:\tlearn: 8.5625504\ttotal: 98.9ms\tremaining: 16.1ms\n",
      "117:\tlearn: 8.4956696\ttotal: 99.7ms\tremaining: 15.2ms\n",
      "118:\tlearn: 8.4709851\ttotal: 101ms\tremaining: 14.4ms\n",
      "119:\tlearn: 8.3870852\ttotal: 101ms\tremaining: 13.5ms\n",
      "120:\tlearn: 8.3404008\ttotal: 102ms\tremaining: 12.7ms\n",
      "121:\tlearn: 8.2719640\ttotal: 103ms\tremaining: 11.8ms\n",
      "122:\tlearn: 8.2190370\ttotal: 104ms\tremaining: 11ms\n",
      "123:\tlearn: 8.1565858\ttotal: 105ms\tremaining: 10.2ms\n",
      "124:\tlearn: 8.1173321\ttotal: 106ms\tremaining: 9.32ms\n",
      "125:\tlearn: 8.0846781\ttotal: 107ms\tremaining: 8.47ms\n",
      "126:\tlearn: 8.0439064\ttotal: 108ms\tremaining: 7.62ms\n",
      "127:\tlearn: 8.0138529\ttotal: 108ms\tremaining: 6.77ms\n",
      "128:\tlearn: 7.9466285\ttotal: 109ms\tremaining: 5.93ms\n",
      "129:\tlearn: 7.9023158\ttotal: 110ms\tremaining: 5.08ms\n",
      "130:\tlearn: 7.8631938\ttotal: 111ms\tremaining: 4.24ms\n",
      "131:\tlearn: 7.7991018\ttotal: 112ms\tremaining: 3.4ms\n",
      "132:\tlearn: 7.7904271\ttotal: 113ms\tremaining: 2.55ms\n",
      "133:\tlearn: 7.7304770\ttotal: 114ms\tremaining: 1.7ms\n",
      "134:\tlearn: 7.6912063\ttotal: 115ms\tremaining: 851us\n",
      "135:\tlearn: 7.6552764\ttotal: 116ms\tremaining: 0us\n",
      "Learning rate set to 0.216732\n",
      "0:\tlearn: 27.9556554\ttotal: 1.29ms\tremaining: 175ms\n",
      "1:\tlearn: 26.2070956\ttotal: 2.55ms\tremaining: 171ms\n",
      "2:\tlearn: 24.4897064\ttotal: 3.66ms\tremaining: 162ms\n",
      "3:\tlearn: 23.4419418\ttotal: 4.7ms\tremaining: 155ms\n",
      "4:\tlearn: 22.4984962\ttotal: 5.9ms\tremaining: 155ms\n",
      "5:\tlearn: 21.7134755\ttotal: 6.95ms\tremaining: 151ms\n",
      "6:\tlearn: 21.4017605\ttotal: 7.97ms\tremaining: 147ms\n",
      "7:\tlearn: 20.8079821\ttotal: 9.05ms\tremaining: 145ms\n",
      "8:\tlearn: 20.4224374\ttotal: 10ms\tremaining: 142ms\n",
      "9:\tlearn: 20.1520318\ttotal: 11.1ms\tremaining: 139ms\n",
      "10:\tlearn: 19.7756687\ttotal: 12ms\tremaining: 137ms\n",
      "11:\tlearn: 19.5085809\ttotal: 13ms\tremaining: 134ms\n",
      "12:\tlearn: 19.2015642\ttotal: 14ms\tremaining: 132ms\n",
      "13:\tlearn: 19.0787274\ttotal: 15ms\tremaining: 130ms\n",
      "14:\tlearn: 18.8323256\ttotal: 16ms\tremaining: 129ms\n",
      "15:\tlearn: 18.7259706\ttotal: 16.9ms\tremaining: 127ms\n",
      "16:\tlearn: 18.5030179\ttotal: 17.9ms\tremaining: 125ms\n",
      "17:\tlearn: 18.3290511\ttotal: 18.9ms\tremaining: 124ms\n",
      "18:\tlearn: 18.1656599\ttotal: 19.9ms\tremaining: 123ms\n",
      "19:\tlearn: 17.9998831\ttotal: 20.9ms\tremaining: 121ms\n",
      "20:\tlearn: 17.8654403\ttotal: 21.9ms\tremaining: 120ms\n",
      "21:\tlearn: 17.8088678\ttotal: 22.9ms\tremaining: 119ms\n",
      "22:\tlearn: 17.7505229\ttotal: 23.8ms\tremaining: 117ms\n",
      "23:\tlearn: 17.6778018\ttotal: 24.7ms\tremaining: 115ms\n",
      "24:\tlearn: 17.5204436\ttotal: 25.7ms\tremaining: 114ms\n",
      "25:\tlearn: 17.3410326\ttotal: 26.7ms\tremaining: 113ms\n",
      "26:\tlearn: 17.3058040\ttotal: 27.7ms\tremaining: 112ms\n",
      "27:\tlearn: 17.2324609\ttotal: 28.6ms\tremaining: 111ms\n",
      "28:\tlearn: 17.1458820\ttotal: 29.6ms\tremaining: 109ms\n",
      "29:\tlearn: 17.0174166\ttotal: 30.6ms\tremaining: 108ms\n",
      "30:\tlearn: 16.8712689\ttotal: 31.6ms\tremaining: 107ms\n",
      "31:\tlearn: 16.8429339\ttotal: 32.5ms\tremaining: 106ms\n",
      "32:\tlearn: 16.7205089\ttotal: 33.5ms\tremaining: 105ms\n",
      "33:\tlearn: 16.5770058\ttotal: 34.5ms\tremaining: 103ms\n",
      "34:\tlearn: 16.4652851\ttotal: 35.4ms\tremaining: 102ms\n",
      "35:\tlearn: 16.3709092\ttotal: 36.4ms\tremaining: 101ms\n",
      "36:\tlearn: 16.3285268\ttotal: 37.4ms\tremaining: 100ms\n",
      "37:\tlearn: 16.2408458\ttotal: 38.4ms\tremaining: 99ms\n",
      "38:\tlearn: 16.2119549\ttotal: 39.4ms\tremaining: 98ms\n",
      "39:\tlearn: 16.1252526\ttotal: 40.5ms\tremaining: 97.1ms\n",
      "40:\tlearn: 16.0673253\ttotal: 41.4ms\tremaining: 96ms\n",
      "41:\tlearn: 15.9351836\ttotal: 42.4ms\tremaining: 94.9ms\n",
      "42:\tlearn: 15.8975616\ttotal: 43.4ms\tremaining: 93.9ms\n",
      "43:\tlearn: 15.8467627\ttotal: 44.4ms\tremaining: 92.8ms\n",
      "44:\tlearn: 15.7353389\ttotal: 45.4ms\tremaining: 91.8ms\n",
      "45:\tlearn: 15.6219546\ttotal: 46.4ms\tremaining: 90.8ms\n",
      "46:\tlearn: 15.5399503\ttotal: 47.4ms\tremaining: 89.8ms\n",
      "47:\tlearn: 15.3803982\ttotal: 48.5ms\tremaining: 88.9ms\n",
      "48:\tlearn: 15.3583837\ttotal: 49.4ms\tremaining: 87.7ms\n",
      "49:\tlearn: 15.2063837\ttotal: 50.4ms\tremaining: 86.7ms\n",
      "50:\tlearn: 15.0998518\ttotal: 51.4ms\tremaining: 85.7ms\n",
      "51:\tlearn: 14.9971712\ttotal: 52.4ms\tremaining: 84.7ms\n",
      "52:\tlearn: 14.9927447\ttotal: 53.5ms\tremaining: 83.7ms\n",
      "53:\tlearn: 14.9890090\ttotal: 54.4ms\tremaining: 82.6ms\n",
      "54:\tlearn: 14.9196037\ttotal: 55.4ms\tremaining: 81.6ms\n",
      "55:\tlearn: 14.8370685\ttotal: 56.4ms\tremaining: 80.6ms\n",
      "56:\tlearn: 14.7831524\ttotal: 57.4ms\tremaining: 79.6ms\n",
      "57:\tlearn: 14.7667477\ttotal: 58.4ms\tremaining: 78.5ms\n",
      "58:\tlearn: 14.6873786\ttotal: 59.4ms\tremaining: 77.5ms\n",
      "59:\tlearn: 14.6831210\ttotal: 60.3ms\tremaining: 76.4ms\n",
      "60:\tlearn: 14.6801360\ttotal: 61.9ms\tremaining: 76.1ms\n",
      "61:\tlearn: 14.5886293\ttotal: 63.1ms\tremaining: 75.3ms\n",
      "62:\tlearn: 14.4772971\ttotal: 64.1ms\tremaining: 74.3ms\n",
      "63:\tlearn: 14.4193651\ttotal: 65.1ms\tremaining: 73.3ms\n",
      "64:\tlearn: 14.3609601\ttotal: 66.2ms\tremaining: 72.3ms\n",
      "65:\tlearn: 14.2387068\ttotal: 67.2ms\tremaining: 71.3ms\n",
      "66:\tlearn: 14.1499739\ttotal: 68.3ms\tremaining: 70.4ms\n",
      "67:\tlearn: 14.0251449\ttotal: 69.4ms\tremaining: 69.4ms\n",
      "68:\tlearn: 13.9448840\ttotal: 70.4ms\tremaining: 68.4ms\n",
      "69:\tlearn: 13.8856225\ttotal: 71.4ms\tremaining: 67.3ms\n",
      "70:\tlearn: 13.7912736\ttotal: 72.4ms\tremaining: 66.3ms\n",
      "71:\tlearn: 13.7372922\ttotal: 73.5ms\tremaining: 65.3ms\n",
      "72:\tlearn: 13.7017023\ttotal: 74.5ms\tremaining: 64.3ms\n",
      "73:\tlearn: 13.5918505\ttotal: 75.5ms\tremaining: 63.3ms\n",
      "74:\tlearn: 13.5084976\ttotal: 76.5ms\tremaining: 62.2ms\n",
      "75:\tlearn: 13.5009243\ttotal: 77.5ms\tremaining: 61.2ms\n",
      "76:\tlearn: 13.4323158\ttotal: 78.5ms\tremaining: 60.1ms\n",
      "77:\tlearn: 13.3640713\ttotal: 79.5ms\tremaining: 59.1ms\n",
      "78:\tlearn: 13.2650565\ttotal: 80.5ms\tremaining: 58.1ms\n",
      "79:\tlearn: 13.2156076\ttotal: 81.5ms\tremaining: 57.1ms\n",
      "80:\tlearn: 13.2020451\ttotal: 82.5ms\tremaining: 56ms\n",
      "81:\tlearn: 13.0775693\ttotal: 83.5ms\tremaining: 55ms\n",
      "82:\tlearn: 13.0159222\ttotal: 84.6ms\tremaining: 54ms\n",
      "83:\tlearn: 12.9183749\ttotal: 85.6ms\tremaining: 53ms\n",
      "84:\tlearn: 12.8657606\ttotal: 86.6ms\tremaining: 52ms\n",
      "85:\tlearn: 12.8422534\ttotal: 87.6ms\tremaining: 50.9ms\n",
      "86:\tlearn: 12.7484775\ttotal: 88.6ms\tremaining: 49.9ms\n",
      "87:\tlearn: 12.6920951\ttotal: 89.5ms\tremaining: 48.8ms\n",
      "88:\tlearn: 12.6305996\ttotal: 90.5ms\tremaining: 47.8ms\n",
      "89:\tlearn: 12.5947983\ttotal: 91.5ms\tremaining: 46.8ms\n",
      "90:\tlearn: 12.5446600\ttotal: 92.6ms\tremaining: 45.8ms\n",
      "91:\tlearn: 12.5310635\ttotal: 93.5ms\tremaining: 44.7ms\n",
      "92:\tlearn: 12.5105187\ttotal: 94.5ms\tremaining: 43.7ms\n",
      "93:\tlearn: 12.4345140\ttotal: 95.5ms\tremaining: 42.7ms\n",
      "94:\tlearn: 12.3733508\ttotal: 96.6ms\tremaining: 41.7ms\n",
      "95:\tlearn: 12.2988785\ttotal: 97.6ms\tremaining: 40.7ms\n",
      "96:\tlearn: 12.2969838\ttotal: 98.5ms\tremaining: 39.6ms\n",
      "97:\tlearn: 12.2001014\ttotal: 99.5ms\tremaining: 38.6ms\n",
      "98:\tlearn: 12.0989176\ttotal: 101ms\tremaining: 37.6ms\n",
      "99:\tlearn: 12.0458446\ttotal: 102ms\tremaining: 36.6ms\n",
      "100:\tlearn: 11.9828000\ttotal: 103ms\tremaining: 35.5ms\n",
      "101:\tlearn: 11.9691423\ttotal: 103ms\tremaining: 34.5ms\n",
      "102:\tlearn: 11.8816446\ttotal: 105ms\tremaining: 33.5ms\n",
      "103:\tlearn: 11.8359958\ttotal: 106ms\tremaining: 32.6ms\n",
      "104:\tlearn: 11.7996627\ttotal: 107ms\tremaining: 31.5ms\n",
      "105:\tlearn: 11.7677820\ttotal: 108ms\tremaining: 30.5ms\n",
      "106:\tlearn: 11.6794281\ttotal: 109ms\tremaining: 29.5ms\n",
      "107:\tlearn: 11.6320719\ttotal: 110ms\tremaining: 28.5ms\n",
      "108:\tlearn: 11.6294757\ttotal: 111ms\tremaining: 27.5ms\n",
      "109:\tlearn: 11.6059236\ttotal: 112ms\tremaining: 26.4ms\n",
      "110:\tlearn: 11.5863336\ttotal: 113ms\tremaining: 25.4ms\n",
      "111:\tlearn: 11.5202694\ttotal: 114ms\tremaining: 24.4ms\n",
      "112:\tlearn: 11.4397326\ttotal: 115ms\tremaining: 23.4ms\n",
      "113:\tlearn: 11.3828997\ttotal: 116ms\tremaining: 22.4ms\n",
      "114:\tlearn: 11.3248527\ttotal: 117ms\tremaining: 21.4ms\n",
      "115:\tlearn: 11.2655866\ttotal: 118ms\tremaining: 20.4ms\n",
      "116:\tlearn: 11.2611441\ttotal: 119ms\tremaining: 19.3ms\n",
      "117:\tlearn: 11.2034991\ttotal: 120ms\tremaining: 18.3ms\n",
      "118:\tlearn: 11.1821119\ttotal: 121ms\tremaining: 17.3ms\n",
      "119:\tlearn: 11.1293410\ttotal: 122ms\tremaining: 16.2ms\n",
      "120:\tlearn: 11.0852193\ttotal: 123ms\tremaining: 15.2ms\n",
      "121:\tlearn: 11.0487020\ttotal: 124ms\tremaining: 14.2ms\n",
      "122:\tlearn: 10.9557121\ttotal: 125ms\tremaining: 13.2ms\n",
      "123:\tlearn: 10.9245112\ttotal: 126ms\tremaining: 12.2ms\n",
      "124:\tlearn: 10.8705805\ttotal: 127ms\tremaining: 11.2ms\n",
      "125:\tlearn: 10.8288039\ttotal: 128ms\tremaining: 10.2ms\n",
      "126:\tlearn: 10.8030148\ttotal: 129ms\tremaining: 9.14ms\n",
      "127:\tlearn: 10.7900750\ttotal: 130ms\tremaining: 8.12ms\n",
      "128:\tlearn: 10.7886040\ttotal: 131ms\tremaining: 7.1ms\n",
      "129:\tlearn: 10.7421807\ttotal: 132ms\tremaining: 6.08ms\n",
      "130:\tlearn: 10.6918090\ttotal: 133ms\tremaining: 5.07ms\n",
      "131:\tlearn: 10.6763776\ttotal: 134ms\tremaining: 4.06ms\n",
      "132:\tlearn: 10.6245848\ttotal: 135ms\tremaining: 3.04ms\n",
      "133:\tlearn: 10.5929544\ttotal: 136ms\tremaining: 2.03ms\n",
      "134:\tlearn: 10.5708984\ttotal: 137ms\tremaining: 1.01ms\n",
      "135:\tlearn: 10.5470891\ttotal: 138ms\tremaining: 0us\n",
      "Learning rate set to 0.231043\n",
      "0:\tlearn: 29.2877702\ttotal: 1.49ms\tremaining: 202ms\n",
      "1:\tlearn: 27.0309396\ttotal: 2.89ms\tremaining: 194ms\n",
      "2:\tlearn: 25.5187688\ttotal: 4.25ms\tremaining: 188ms\n",
      "3:\tlearn: 24.4747350\ttotal: 5.57ms\tremaining: 184ms\n",
      "4:\tlearn: 23.7923271\ttotal: 6.87ms\tremaining: 180ms\n",
      "5:\tlearn: 23.2488015\ttotal: 8.06ms\tremaining: 175ms\n",
      "6:\tlearn: 22.6205684\ttotal: 9.34ms\tremaining: 172ms\n",
      "7:\tlearn: 22.1052105\ttotal: 10.7ms\tremaining: 171ms\n",
      "8:\tlearn: 21.7302042\ttotal: 11.8ms\tremaining: 167ms\n",
      "9:\tlearn: 21.5476248\ttotal: 13ms\tremaining: 163ms\n",
      "10:\tlearn: 21.3518149\ttotal: 14.2ms\tremaining: 161ms\n",
      "11:\tlearn: 21.2192211\ttotal: 15.3ms\tremaining: 158ms\n",
      "12:\tlearn: 20.8538528\ttotal: 16.5ms\tremaining: 156ms\n",
      "13:\tlearn: 20.7507132\ttotal: 17.6ms\tremaining: 154ms\n",
      "14:\tlearn: 20.5107845\ttotal: 18.8ms\tremaining: 152ms\n",
      "15:\tlearn: 20.3529205\ttotal: 20ms\tremaining: 150ms\n",
      "16:\tlearn: 20.2254170\ttotal: 21.2ms\tremaining: 148ms\n",
      "17:\tlearn: 19.9913470\ttotal: 22.3ms\tremaining: 147ms\n",
      "18:\tlearn: 19.8815860\ttotal: 23.6ms\tremaining: 145ms\n",
      "19:\tlearn: 19.7954910\ttotal: 24.8ms\tremaining: 144ms\n",
      "20:\tlearn: 19.7217999\ttotal: 25.9ms\tremaining: 142ms\n",
      "21:\tlearn: 19.5849118\ttotal: 27.1ms\tremaining: 141ms\n",
      "22:\tlearn: 19.4975581\ttotal: 28.3ms\tremaining: 139ms\n",
      "23:\tlearn: 19.3691989\ttotal: 29.5ms\tremaining: 138ms\n",
      "24:\tlearn: 19.2666506\ttotal: 30.6ms\tremaining: 136ms\n",
      "25:\tlearn: 19.1009928\ttotal: 31.7ms\tremaining: 134ms\n",
      "26:\tlearn: 19.0556648\ttotal: 32.8ms\tremaining: 133ms\n",
      "27:\tlearn: 19.0035101\ttotal: 34ms\tremaining: 131ms\n",
      "28:\tlearn: 18.9568682\ttotal: 35.1ms\tremaining: 130ms\n",
      "29:\tlearn: 18.8181835\ttotal: 36.9ms\tremaining: 130ms\n",
      "30:\tlearn: 18.6731795\ttotal: 38.1ms\tremaining: 129ms\n",
      "31:\tlearn: 18.5793340\ttotal: 39.4ms\tremaining: 128ms\n",
      "32:\tlearn: 18.4956393\ttotal: 41.3ms\tremaining: 129ms\n",
      "33:\tlearn: 18.4062207\ttotal: 43ms\tremaining: 129ms\n",
      "34:\tlearn: 18.2676849\ttotal: 44.3ms\tremaining: 128ms\n",
      "35:\tlearn: 18.1742103\ttotal: 45.5ms\tremaining: 126ms\n",
      "36:\tlearn: 18.1254083\ttotal: 46.7ms\tremaining: 125ms\n",
      "37:\tlearn: 18.0008592\ttotal: 47.8ms\tremaining: 123ms\n",
      "38:\tlearn: 17.9863507\ttotal: 49ms\tremaining: 122ms\n",
      "39:\tlearn: 17.9507486\ttotal: 50.2ms\tremaining: 121ms\n",
      "40:\tlearn: 17.9097355\ttotal: 51.5ms\tremaining: 119ms\n",
      "41:\tlearn: 17.7452437\ttotal: 52.8ms\tremaining: 118ms\n",
      "42:\tlearn: 17.6560118\ttotal: 54.1ms\tremaining: 117ms\n",
      "43:\tlearn: 17.6021429\ttotal: 55.3ms\tremaining: 116ms\n",
      "44:\tlearn: 17.5385765\ttotal: 56.6ms\tremaining: 114ms\n",
      "45:\tlearn: 17.4820398\ttotal: 57.8ms\tremaining: 113ms\n",
      "46:\tlearn: 17.4430925\ttotal: 59.1ms\tremaining: 112ms\n",
      "47:\tlearn: 17.2866575\ttotal: 60.3ms\tremaining: 111ms\n",
      "48:\tlearn: 17.1487434\ttotal: 61.6ms\tremaining: 109ms\n",
      "49:\tlearn: 17.0200450\ttotal: 62.8ms\tremaining: 108ms\n",
      "50:\tlearn: 16.9065704\ttotal: 64.1ms\tremaining: 107ms\n",
      "51:\tlearn: 16.8047379\ttotal: 65.3ms\tremaining: 106ms\n",
      "52:\tlearn: 16.7130119\ttotal: 66.9ms\tremaining: 105ms\n",
      "53:\tlearn: 16.6267755\ttotal: 68.2ms\tremaining: 104ms\n",
      "54:\tlearn: 16.5479624\ttotal: 69.5ms\tremaining: 102ms\n",
      "55:\tlearn: 16.4593214\ttotal: 70.7ms\tremaining: 101ms\n",
      "56:\tlearn: 16.4109520\ttotal: 71.9ms\tremaining: 99.6ms\n",
      "57:\tlearn: 16.3678325\ttotal: 73.1ms\tremaining: 98.3ms\n",
      "58:\tlearn: 16.2746447\ttotal: 74.3ms\tremaining: 97ms\n",
      "59:\tlearn: 16.2186817\ttotal: 75.6ms\tremaining: 95.7ms\n",
      "60:\tlearn: 16.1365587\ttotal: 76.8ms\tremaining: 94.5ms\n",
      "61:\tlearn: 16.1332083\ttotal: 78ms\tremaining: 93.1ms\n",
      "62:\tlearn: 16.0979037\ttotal: 79.3ms\tremaining: 91.9ms\n",
      "63:\tlearn: 16.0704364\ttotal: 80.5ms\tremaining: 90.5ms\n",
      "64:\tlearn: 15.9666502\ttotal: 81.7ms\tremaining: 89.2ms\n",
      "65:\tlearn: 15.8627216\ttotal: 82.9ms\tremaining: 87.9ms\n",
      "66:\tlearn: 15.8503356\ttotal: 84.2ms\tremaining: 86.7ms\n",
      "67:\tlearn: 15.8472509\ttotal: 85.3ms\tremaining: 85.3ms\n",
      "68:\tlearn: 15.7446787\ttotal: 86.6ms\tremaining: 84.1ms\n",
      "69:\tlearn: 15.7282992\ttotal: 87.8ms\tremaining: 82.8ms\n",
      "70:\tlearn: 15.6980406\ttotal: 89ms\tremaining: 81.5ms\n",
      "71:\tlearn: 15.6956869\ttotal: 90.1ms\tremaining: 80.1ms\n",
      "72:\tlearn: 15.6118848\ttotal: 91.3ms\tremaining: 78.8ms\n",
      "73:\tlearn: 15.5920044\ttotal: 92.7ms\tremaining: 77.6ms\n",
      "74:\tlearn: 15.4810716\ttotal: 93.9ms\tremaining: 76.4ms\n",
      "75:\tlearn: 15.4212459\ttotal: 95.1ms\tremaining: 75.1ms\n",
      "76:\tlearn: 15.3419000\ttotal: 96.4ms\tremaining: 73.9ms\n",
      "77:\tlearn: 15.3091095\ttotal: 97.6ms\tremaining: 72.6ms\n",
      "78:\tlearn: 15.1931863\ttotal: 98.9ms\tremaining: 71.3ms\n",
      "79:\tlearn: 15.1893296\ttotal: 100ms\tremaining: 70.1ms\n",
      "80:\tlearn: 15.1069870\ttotal: 101ms\tremaining: 68.8ms\n",
      "81:\tlearn: 15.1026919\ttotal: 103ms\tremaining: 67.5ms\n",
      "82:\tlearn: 15.0499812\ttotal: 104ms\tremaining: 66.3ms\n",
      "83:\tlearn: 14.9950825\ttotal: 105ms\tremaining: 65ms\n",
      "84:\tlearn: 14.9017002\ttotal: 106ms\tremaining: 63.7ms\n",
      "85:\tlearn: 14.8043260\ttotal: 107ms\tremaining: 62.5ms\n",
      "86:\tlearn: 14.7536824\ttotal: 109ms\tremaining: 61.3ms\n",
      "87:\tlearn: 14.7266750\ttotal: 110ms\tremaining: 60ms\n",
      "88:\tlearn: 14.7243517\ttotal: 111ms\tremaining: 58.7ms\n",
      "89:\tlearn: 14.6973421\ttotal: 112ms\tremaining: 57.4ms\n",
      "90:\tlearn: 14.6095286\ttotal: 113ms\tremaining: 56.1ms\n",
      "91:\tlearn: 14.5808415\ttotal: 115ms\tremaining: 54.9ms\n",
      "92:\tlearn: 14.5751702\ttotal: 116ms\tremaining: 53.6ms\n",
      "93:\tlearn: 14.5099249\ttotal: 117ms\tremaining: 52.3ms\n",
      "94:\tlearn: 14.4369044\ttotal: 118ms\tremaining: 51.1ms\n",
      "95:\tlearn: 14.4164341\ttotal: 120ms\tremaining: 49.9ms\n",
      "96:\tlearn: 14.3831411\ttotal: 121ms\tremaining: 48.6ms\n",
      "97:\tlearn: 14.3548188\ttotal: 122ms\tremaining: 47.4ms\n",
      "98:\tlearn: 14.3208233\ttotal: 123ms\tremaining: 46.1ms\n",
      "99:\tlearn: 14.2953621\ttotal: 124ms\tremaining: 44.8ms\n",
      "100:\tlearn: 14.2725699\ttotal: 126ms\tremaining: 43.5ms\n",
      "101:\tlearn: 14.2188375\ttotal: 127ms\tremaining: 42.3ms\n",
      "102:\tlearn: 14.1567155\ttotal: 128ms\tremaining: 41.1ms\n",
      "103:\tlearn: 14.1288860\ttotal: 129ms\tremaining: 39.8ms\n",
      "104:\tlearn: 14.0901605\ttotal: 131ms\tremaining: 38.6ms\n",
      "105:\tlearn: 14.0123673\ttotal: 132ms\tremaining: 37.3ms\n",
      "106:\tlearn: 13.9770006\ttotal: 133ms\tremaining: 36.1ms\n",
      "107:\tlearn: 13.9233949\ttotal: 134ms\tremaining: 34.8ms\n",
      "108:\tlearn: 13.9082938\ttotal: 135ms\tremaining: 33.5ms\n",
      "109:\tlearn: 13.8256327\ttotal: 137ms\tremaining: 32.3ms\n",
      "110:\tlearn: 13.7862455\ttotal: 138ms\tremaining: 31ms\n",
      "111:\tlearn: 13.7625269\ttotal: 139ms\tremaining: 29.8ms\n",
      "112:\tlearn: 13.7309388\ttotal: 140ms\tremaining: 28.5ms\n",
      "113:\tlearn: 13.7090343\ttotal: 141ms\tremaining: 27.2ms\n",
      "114:\tlearn: 13.6286140\ttotal: 142ms\tremaining: 26ms\n",
      "115:\tlearn: 13.5868342\ttotal: 143ms\tremaining: 24.7ms\n",
      "116:\tlearn: 13.5626118\ttotal: 145ms\tremaining: 23.5ms\n",
      "117:\tlearn: 13.5242296\ttotal: 146ms\tremaining: 22.2ms\n",
      "118:\tlearn: 13.4560747\ttotal: 147ms\tremaining: 21ms\n",
      "119:\tlearn: 13.4363209\ttotal: 148ms\tremaining: 19.7ms\n",
      "120:\tlearn: 13.4221120\ttotal: 149ms\tremaining: 18.5ms\n",
      "121:\tlearn: 13.3444561\ttotal: 150ms\tremaining: 17.3ms\n",
      "122:\tlearn: 13.2665087\ttotal: 152ms\tremaining: 16ms\n",
      "123:\tlearn: 13.2248865\ttotal: 153ms\tremaining: 14.8ms\n",
      "124:\tlearn: 13.1677810\ttotal: 154ms\tremaining: 13.5ms\n",
      "125:\tlearn: 13.1542160\ttotal: 156ms\tremaining: 12.3ms\n",
      "126:\tlearn: 13.0900878\ttotal: 157ms\tremaining: 11.1ms\n",
      "127:\tlearn: 13.0876679\ttotal: 158ms\tremaining: 9.87ms\n",
      "128:\tlearn: 13.0318466\ttotal: 159ms\tremaining: 8.63ms\n",
      "129:\tlearn: 12.9848666\ttotal: 160ms\tremaining: 7.4ms\n",
      "130:\tlearn: 12.9622935\ttotal: 161ms\tremaining: 6.16ms\n",
      "131:\tlearn: 12.9489567\ttotal: 162ms\tremaining: 4.92ms\n",
      "132:\tlearn: 12.9212267\ttotal: 164ms\tremaining: 3.69ms\n",
      "133:\tlearn: 12.9111938\ttotal: 165ms\tremaining: 2.46ms\n",
      "134:\tlearn: 12.8255577\ttotal: 166ms\tremaining: 1.23ms\n",
      "135:\tlearn: 12.7962657\ttotal: 167ms\tremaining: 0us\n",
      "Learning rate set to 0.241773\n",
      "0:\tlearn: 30.4922421\ttotal: 1.66ms\tremaining: 225ms\n",
      "1:\tlearn: 28.1231346\ttotal: 3.13ms\tremaining: 209ms\n",
      "2:\tlearn: 26.5445501\ttotal: 4.53ms\tremaining: 201ms\n",
      "3:\tlearn: 25.2722408\ttotal: 5.84ms\tremaining: 193ms\n",
      "4:\tlearn: 24.4501318\ttotal: 7.11ms\tremaining: 186ms\n",
      "5:\tlearn: 23.9046540\ttotal: 8.45ms\tremaining: 183ms\n",
      "6:\tlearn: 23.4941781\ttotal: 9.8ms\tremaining: 181ms\n",
      "7:\tlearn: 23.1494315\ttotal: 11.2ms\tremaining: 179ms\n",
      "8:\tlearn: 22.8096424\ttotal: 12.4ms\tremaining: 175ms\n",
      "9:\tlearn: 22.5790307\ttotal: 13.7ms\tremaining: 172ms\n",
      "10:\tlearn: 22.2776017\ttotal: 14.9ms\tremaining: 170ms\n",
      "11:\tlearn: 22.1848023\ttotal: 16.2ms\tremaining: 168ms\n",
      "12:\tlearn: 21.9268063\ttotal: 18.4ms\tremaining: 174ms\n",
      "13:\tlearn: 21.6947105\ttotal: 20.5ms\tremaining: 178ms\n",
      "14:\tlearn: 21.4197069\ttotal: 22.7ms\tremaining: 183ms\n",
      "15:\tlearn: 21.3035816\ttotal: 24.3ms\tremaining: 182ms\n",
      "16:\tlearn: 21.1643829\ttotal: 25.8ms\tremaining: 181ms\n",
      "17:\tlearn: 21.0191680\ttotal: 27.2ms\tremaining: 178ms\n",
      "18:\tlearn: 20.6804878\ttotal: 28.5ms\tremaining: 175ms\n",
      "19:\tlearn: 20.5277534\ttotal: 29.8ms\tremaining: 173ms\n",
      "20:\tlearn: 20.4906474\ttotal: 31.1ms\tremaining: 170ms\n",
      "21:\tlearn: 20.4402083\ttotal: 32.5ms\tremaining: 168ms\n",
      "22:\tlearn: 20.2882220\ttotal: 33.8ms\tremaining: 166ms\n",
      "23:\tlearn: 20.1680527\ttotal: 35.2ms\tremaining: 164ms\n",
      "24:\tlearn: 19.9771941\ttotal: 36.5ms\tremaining: 162ms\n",
      "25:\tlearn: 19.8773007\ttotal: 37.7ms\tremaining: 160ms\n",
      "26:\tlearn: 19.7571583\ttotal: 39.2ms\tremaining: 158ms\n",
      "27:\tlearn: 19.6603857\ttotal: 40.5ms\tremaining: 156ms\n",
      "28:\tlearn: 19.6143686\ttotal: 41.8ms\tremaining: 154ms\n",
      "29:\tlearn: 19.4621630\ttotal: 43.1ms\tremaining: 152ms\n",
      "30:\tlearn: 19.3644938\ttotal: 44.4ms\tremaining: 150ms\n",
      "31:\tlearn: 19.2997097\ttotal: 45.7ms\tremaining: 149ms\n",
      "32:\tlearn: 19.1975046\ttotal: 47ms\tremaining: 147ms\n",
      "33:\tlearn: 19.0855096\ttotal: 48.4ms\tremaining: 145ms\n",
      "34:\tlearn: 18.9990557\ttotal: 49.7ms\tremaining: 143ms\n",
      "35:\tlearn: 18.8985084\ttotal: 50.9ms\tremaining: 141ms\n",
      "36:\tlearn: 18.8303515\ttotal: 52.2ms\tremaining: 140ms\n",
      "37:\tlearn: 18.7621583\ttotal: 53.5ms\tremaining: 138ms\n",
      "38:\tlearn: 18.7049277\ttotal: 54.9ms\tremaining: 137ms\n",
      "39:\tlearn: 18.6250088\ttotal: 56.2ms\tremaining: 135ms\n",
      "40:\tlearn: 18.4885861\ttotal: 57.6ms\tremaining: 133ms\n",
      "41:\tlearn: 18.4246849\ttotal: 58.9ms\tremaining: 132ms\n",
      "42:\tlearn: 18.3094393\ttotal: 60.2ms\tremaining: 130ms\n",
      "43:\tlearn: 18.1736685\ttotal: 61.6ms\tremaining: 129ms\n",
      "44:\tlearn: 18.0160258\ttotal: 63ms\tremaining: 127ms\n",
      "45:\tlearn: 17.9329227\ttotal: 64.3ms\tremaining: 126ms\n",
      "46:\tlearn: 17.8834513\ttotal: 65.6ms\tremaining: 124ms\n",
      "47:\tlearn: 17.7887129\ttotal: 66.9ms\tremaining: 123ms\n",
      "48:\tlearn: 17.7453534\ttotal: 68.2ms\tremaining: 121ms\n",
      "49:\tlearn: 17.7045868\ttotal: 69.5ms\tremaining: 120ms\n",
      "50:\tlearn: 17.6640029\ttotal: 70.8ms\tremaining: 118ms\n",
      "51:\tlearn: 17.5479266\ttotal: 72.2ms\tremaining: 117ms\n",
      "52:\tlearn: 17.4878964\ttotal: 73.5ms\tremaining: 115ms\n",
      "53:\tlearn: 17.4454567\ttotal: 74.9ms\tremaining: 114ms\n",
      "54:\tlearn: 17.4054279\ttotal: 76.1ms\tremaining: 112ms\n",
      "55:\tlearn: 17.2973501\ttotal: 77.5ms\tremaining: 111ms\n",
      "56:\tlearn: 17.2516210\ttotal: 78.8ms\tremaining: 109ms\n",
      "57:\tlearn: 17.2389893\ttotal: 80ms\tremaining: 108ms\n",
      "58:\tlearn: 17.2024570\ttotal: 81.3ms\tremaining: 106ms\n",
      "59:\tlearn: 17.1403602\ttotal: 82.6ms\tremaining: 105ms\n",
      "60:\tlearn: 17.0807421\ttotal: 84ms\tremaining: 103ms\n",
      "61:\tlearn: 17.0199342\ttotal: 85.3ms\tremaining: 102ms\n",
      "62:\tlearn: 16.9498936\ttotal: 86.6ms\tremaining: 100ms\n",
      "63:\tlearn: 16.9473640\ttotal: 87.9ms\tremaining: 98.8ms\n",
      "64:\tlearn: 16.9008762\ttotal: 89.2ms\tremaining: 97.4ms\n",
      "65:\tlearn: 16.8689687\ttotal: 90.5ms\tremaining: 95.9ms\n",
      "66:\tlearn: 16.7746067\ttotal: 91.8ms\tremaining: 94.5ms\n",
      "67:\tlearn: 16.7468267\ttotal: 93ms\tremaining: 93ms\n",
      "68:\tlearn: 16.7044613\ttotal: 94.3ms\tremaining: 91.6ms\n",
      "69:\tlearn: 16.6603106\ttotal: 95.7ms\tremaining: 90.2ms\n",
      "70:\tlearn: 16.6574263\ttotal: 96.9ms\tremaining: 88.7ms\n",
      "71:\tlearn: 16.5556490\ttotal: 98.2ms\tremaining: 87.3ms\n",
      "72:\tlearn: 16.5013125\ttotal: 99.4ms\tremaining: 85.8ms\n",
      "73:\tlearn: 16.4406266\ttotal: 101ms\tremaining: 84.3ms\n",
      "74:\tlearn: 16.4074028\ttotal: 102ms\tremaining: 82.9ms\n",
      "75:\tlearn: 16.3609472\ttotal: 103ms\tremaining: 81.5ms\n",
      "76:\tlearn: 16.3095386\ttotal: 105ms\tremaining: 80.1ms\n",
      "77:\tlearn: 16.3040820\ttotal: 106ms\tremaining: 78.6ms\n",
      "78:\tlearn: 16.2256907\ttotal: 107ms\tremaining: 77.3ms\n",
      "79:\tlearn: 16.1770828\ttotal: 108ms\tremaining: 75.9ms\n",
      "80:\tlearn: 16.1164009\ttotal: 110ms\tremaining: 74.5ms\n",
      "81:\tlearn: 16.0902592\ttotal: 111ms\tremaining: 73ms\n",
      "82:\tlearn: 16.0406889\ttotal: 112ms\tremaining: 71.7ms\n",
      "83:\tlearn: 16.0384924\ttotal: 113ms\tremaining: 70.3ms\n",
      "84:\tlearn: 15.9815080\ttotal: 115ms\tremaining: 68.9ms\n",
      "85:\tlearn: 15.9183619\ttotal: 116ms\tremaining: 67.5ms\n",
      "86:\tlearn: 15.8900142\ttotal: 117ms\tremaining: 66.1ms\n",
      "87:\tlearn: 15.8532331\ttotal: 119ms\tremaining: 64.8ms\n",
      "88:\tlearn: 15.8512889\ttotal: 120ms\tremaining: 63.4ms\n",
      "89:\tlearn: 15.8186114\ttotal: 121ms\tremaining: 62ms\n",
      "90:\tlearn: 15.7903813\ttotal: 123ms\tremaining: 60.6ms\n",
      "91:\tlearn: 15.7317413\ttotal: 124ms\tremaining: 59.3ms\n",
      "92:\tlearn: 15.6977303\ttotal: 125ms\tremaining: 57.9ms\n",
      "93:\tlearn: 15.6684907\ttotal: 126ms\tremaining: 56.5ms\n",
      "94:\tlearn: 15.6006610\ttotal: 128ms\tremaining: 55.2ms\n",
      "95:\tlearn: 15.5834042\ttotal: 129ms\tremaining: 53.8ms\n",
      "96:\tlearn: 15.5519900\ttotal: 130ms\tremaining: 52.4ms\n",
      "97:\tlearn: 15.5089604\ttotal: 132ms\tremaining: 51.1ms\n",
      "98:\tlearn: 15.4952318\ttotal: 133ms\tremaining: 49.7ms\n",
      "99:\tlearn: 15.4740224\ttotal: 134ms\tremaining: 48.3ms\n",
      "100:\tlearn: 15.4551087\ttotal: 136ms\tremaining: 47ms\n",
      "101:\tlearn: 15.4301530\ttotal: 137ms\tremaining: 45.6ms\n",
      "102:\tlearn: 15.3853629\ttotal: 138ms\tremaining: 44.3ms\n",
      "103:\tlearn: 15.3331437\ttotal: 140ms\tremaining: 42.9ms\n",
      "104:\tlearn: 15.2874631\ttotal: 141ms\tremaining: 41.6ms\n",
      "105:\tlearn: 15.2808346\ttotal: 142ms\tremaining: 40.2ms\n",
      "106:\tlearn: 15.2696961\ttotal: 143ms\tremaining: 38.8ms\n",
      "107:\tlearn: 15.1945817\ttotal: 145ms\tremaining: 37.5ms\n",
      "108:\tlearn: 15.1397729\ttotal: 146ms\tremaining: 36.2ms\n",
      "109:\tlearn: 15.0634018\ttotal: 147ms\tremaining: 34.8ms\n",
      "110:\tlearn: 15.0007265\ttotal: 149ms\tremaining: 33.5ms\n",
      "111:\tlearn: 14.9723108\ttotal: 150ms\tremaining: 32.1ms\n",
      "112:\tlearn: 14.9430382\ttotal: 151ms\tremaining: 30.8ms\n",
      "113:\tlearn: 14.9375292\ttotal: 152ms\tremaining: 29.4ms\n",
      "114:\tlearn: 14.9327519\ttotal: 154ms\tremaining: 28.1ms\n",
      "115:\tlearn: 14.8839974\ttotal: 155ms\tremaining: 26.7ms\n",
      "116:\tlearn: 14.8131511\ttotal: 156ms\tremaining: 25.4ms\n",
      "117:\tlearn: 14.7721840\ttotal: 158ms\tremaining: 24.1ms\n",
      "118:\tlearn: 14.7296878\ttotal: 159ms\tremaining: 22.7ms\n",
      "119:\tlearn: 14.7198195\ttotal: 160ms\tremaining: 21.4ms\n",
      "120:\tlearn: 14.6877668\ttotal: 162ms\tremaining: 20ms\n",
      "121:\tlearn: 14.6300961\ttotal: 163ms\tremaining: 18.7ms\n",
      "122:\tlearn: 14.6286173\ttotal: 164ms\tremaining: 17.3ms\n",
      "123:\tlearn: 14.5755610\ttotal: 165ms\tremaining: 16ms\n",
      "124:\tlearn: 14.5527954\ttotal: 167ms\tremaining: 14.7ms\n",
      "125:\tlearn: 14.5313468\ttotal: 168ms\tremaining: 13.3ms\n",
      "126:\tlearn: 14.5048303\ttotal: 169ms\tremaining: 12ms\n",
      "127:\tlearn: 14.4887094\ttotal: 170ms\tremaining: 10.6ms\n",
      "128:\tlearn: 14.4871136\ttotal: 172ms\tremaining: 9.31ms\n",
      "129:\tlearn: 14.4412957\ttotal: 173ms\tremaining: 7.98ms\n",
      "130:\tlearn: 14.4197730\ttotal: 174ms\tremaining: 6.65ms\n",
      "131:\tlearn: 14.4035401\ttotal: 175ms\tremaining: 5.32ms\n",
      "132:\tlearn: 14.3985748\ttotal: 177ms\tremaining: 3.99ms\n",
      "133:\tlearn: 14.3665481\ttotal: 178ms\tremaining: 2.66ms\n",
      "134:\tlearn: 14.3142388\ttotal: 179ms\tremaining: 1.33ms\n",
      "135:\tlearn: 14.2869971\ttotal: 181ms\tremaining: 0us\n",
      "Learning rate set to 0.25044\n",
      "0:\tlearn: 31.9378555\ttotal: 1.99ms\tremaining: 269ms\n",
      "1:\tlearn: 29.2736694\ttotal: 3.66ms\tremaining: 245ms\n",
      "2:\tlearn: 27.4004597\ttotal: 6.22ms\tremaining: 276ms\n",
      "3:\tlearn: 26.5214700\ttotal: 7.92ms\tremaining: 261ms\n",
      "4:\tlearn: 25.6010834\ttotal: 9.46ms\tremaining: 248ms\n",
      "5:\tlearn: 25.0368041\ttotal: 11ms\tremaining: 238ms\n",
      "6:\tlearn: 24.7259462\ttotal: 12.5ms\tremaining: 231ms\n",
      "7:\tlearn: 24.1777626\ttotal: 14.1ms\tremaining: 226ms\n",
      "8:\tlearn: 23.8460099\ttotal: 15.7ms\tremaining: 222ms\n",
      "9:\tlearn: 23.5902271\ttotal: 17.4ms\tremaining: 219ms\n",
      "10:\tlearn: 23.4130860\ttotal: 19.2ms\tremaining: 218ms\n",
      "11:\tlearn: 23.2987147\ttotal: 20.7ms\tremaining: 214ms\n",
      "12:\tlearn: 23.0206910\ttotal: 22.3ms\tremaining: 211ms\n",
      "13:\tlearn: 22.6304925\ttotal: 23.7ms\tremaining: 207ms\n",
      "14:\tlearn: 22.4488825\ttotal: 25.7ms\tremaining: 208ms\n",
      "15:\tlearn: 22.2965394\ttotal: 27.4ms\tremaining: 205ms\n",
      "16:\tlearn: 22.2049322\ttotal: 29.1ms\tremaining: 203ms\n",
      "17:\tlearn: 22.0010392\ttotal: 30.7ms\tremaining: 201ms\n",
      "18:\tlearn: 21.7677825\ttotal: 32.2ms\tremaining: 199ms\n",
      "19:\tlearn: 21.5816560\ttotal: 33.7ms\tremaining: 196ms\n",
      "20:\tlearn: 21.4732677\ttotal: 35.2ms\tremaining: 193ms\n",
      "21:\tlearn: 21.3201242\ttotal: 36.7ms\tremaining: 190ms\n",
      "22:\tlearn: 21.2582380\ttotal: 38.4ms\tremaining: 188ms\n",
      "23:\tlearn: 21.2004823\ttotal: 39.9ms\tremaining: 186ms\n",
      "24:\tlearn: 21.1399563\ttotal: 41.5ms\tremaining: 184ms\n",
      "25:\tlearn: 21.0153566\ttotal: 43ms\tremaining: 182ms\n",
      "26:\tlearn: 20.9476392\ttotal: 44.5ms\tremaining: 180ms\n",
      "27:\tlearn: 20.8203756\ttotal: 46ms\tremaining: 178ms\n",
      "28:\tlearn: 20.7236583\ttotal: 47.6ms\tremaining: 176ms\n",
      "29:\tlearn: 20.6596547\ttotal: 49.1ms\tremaining: 174ms\n",
      "30:\tlearn: 20.6090010\ttotal: 50.7ms\tremaining: 172ms\n",
      "31:\tlearn: 20.5255222\ttotal: 52.3ms\tremaining: 170ms\n",
      "32:\tlearn: 20.4040030\ttotal: 53.8ms\tremaining: 168ms\n",
      "33:\tlearn: 20.3242494\ttotal: 55.5ms\tremaining: 166ms\n",
      "34:\tlearn: 20.1946031\ttotal: 57ms\tremaining: 164ms\n",
      "35:\tlearn: 20.0817161\ttotal: 58.5ms\tremaining: 163ms\n",
      "36:\tlearn: 20.0060911\ttotal: 60.3ms\tremaining: 161ms\n",
      "37:\tlearn: 19.9391629\ttotal: 62.5ms\tremaining: 161ms\n",
      "38:\tlearn: 19.8373764\ttotal: 64ms\tremaining: 159ms\n",
      "39:\tlearn: 19.7876681\ttotal: 65.6ms\tremaining: 157ms\n",
      "40:\tlearn: 19.7011492\ttotal: 67ms\tremaining: 155ms\n",
      "41:\tlearn: 19.6518831\ttotal: 68.5ms\tremaining: 153ms\n",
      "42:\tlearn: 19.5765730\ttotal: 69.9ms\tremaining: 151ms\n",
      "43:\tlearn: 19.4609853\ttotal: 71.4ms\tremaining: 149ms\n",
      "44:\tlearn: 19.3560312\ttotal: 72.9ms\tremaining: 147ms\n",
      "45:\tlearn: 19.2951257\ttotal: 74.4ms\tremaining: 146ms\n",
      "46:\tlearn: 19.2218070\ttotal: 75.9ms\tremaining: 144ms\n",
      "47:\tlearn: 19.1403748\ttotal: 77.4ms\tremaining: 142ms\n",
      "48:\tlearn: 19.0872715\ttotal: 79.1ms\tremaining: 140ms\n",
      "49:\tlearn: 18.9831483\ttotal: 80.6ms\tremaining: 139ms\n",
      "50:\tlearn: 18.9294742\ttotal: 82.1ms\tremaining: 137ms\n",
      "51:\tlearn: 18.8524481\ttotal: 83.8ms\tremaining: 135ms\n",
      "52:\tlearn: 18.7879627\ttotal: 85.6ms\tremaining: 134ms\n",
      "53:\tlearn: 18.7341450\ttotal: 87.1ms\tremaining: 132ms\n",
      "54:\tlearn: 18.7289756\ttotal: 88.5ms\tremaining: 130ms\n",
      "55:\tlearn: 18.6694641\ttotal: 90ms\tremaining: 129ms\n",
      "56:\tlearn: 18.6572626\ttotal: 91.4ms\tremaining: 127ms\n",
      "57:\tlearn: 18.5994903\ttotal: 92.9ms\tremaining: 125ms\n",
      "58:\tlearn: 18.5636337\ttotal: 94.3ms\tremaining: 123ms\n",
      "59:\tlearn: 18.4773489\ttotal: 95.9ms\tremaining: 121ms\n",
      "60:\tlearn: 18.4068581\ttotal: 97.4ms\tremaining: 120ms\n",
      "61:\tlearn: 18.3488563\ttotal: 98.9ms\tremaining: 118ms\n",
      "62:\tlearn: 18.3341002\ttotal: 100ms\tremaining: 116ms\n",
      "63:\tlearn: 18.2957824\ttotal: 102ms\tremaining: 115ms\n",
      "64:\tlearn: 18.2134289\ttotal: 103ms\tremaining: 113ms\n",
      "65:\tlearn: 18.1607842\ttotal: 105ms\tremaining: 111ms\n",
      "66:\tlearn: 18.1089025\ttotal: 106ms\tremaining: 110ms\n",
      "67:\tlearn: 18.0215349\ttotal: 108ms\tremaining: 108ms\n",
      "68:\tlearn: 17.9374232\ttotal: 109ms\tremaining: 106ms\n",
      "69:\tlearn: 17.9139088\ttotal: 111ms\tremaining: 105ms\n",
      "70:\tlearn: 17.8246772\ttotal: 112ms\tremaining: 103ms\n",
      "71:\tlearn: 17.7645213\ttotal: 114ms\tremaining: 101ms\n",
      "72:\tlearn: 17.7550583\ttotal: 115ms\tremaining: 99.4ms\n",
      "73:\tlearn: 17.6715126\ttotal: 117ms\tremaining: 97.9ms\n",
      "74:\tlearn: 17.6690404\ttotal: 118ms\tremaining: 96.1ms\n",
      "75:\tlearn: 17.6597961\ttotal: 120ms\tremaining: 94.5ms\n",
      "76:\tlearn: 17.6034977\ttotal: 121ms\tremaining: 92.8ms\n",
      "77:\tlearn: 17.5811591\ttotal: 123ms\tremaining: 91.1ms\n",
      "78:\tlearn: 17.5235359\ttotal: 124ms\tremaining: 89.4ms\n",
      "79:\tlearn: 17.5172308\ttotal: 125ms\tremaining: 87.8ms\n",
      "80:\tlearn: 17.4817410\ttotal: 127ms\tremaining: 86.1ms\n",
      "81:\tlearn: 17.3979639\ttotal: 128ms\tremaining: 84.5ms\n",
      "82:\tlearn: 17.3746738\ttotal: 130ms\tremaining: 82.8ms\n",
      "83:\tlearn: 17.3450483\ttotal: 131ms\tremaining: 81.2ms\n",
      "84:\tlearn: 17.3145346\ttotal: 133ms\tremaining: 79.5ms\n",
      "85:\tlearn: 17.2630410\ttotal: 134ms\tremaining: 77.9ms\n",
      "86:\tlearn: 17.1708727\ttotal: 136ms\tremaining: 76.3ms\n",
      "87:\tlearn: 17.1470763\ttotal: 137ms\tremaining: 74.7ms\n",
      "88:\tlearn: 17.1282790\ttotal: 138ms\tremaining: 73.1ms\n",
      "89:\tlearn: 17.0708974\ttotal: 140ms\tremaining: 71.5ms\n",
      "90:\tlearn: 17.0576545\ttotal: 141ms\tremaining: 69.9ms\n",
      "91:\tlearn: 16.9908902\ttotal: 143ms\tremaining: 68.3ms\n",
      "92:\tlearn: 16.9704857\ttotal: 144ms\tremaining: 66.7ms\n",
      "93:\tlearn: 16.9328416\ttotal: 146ms\tremaining: 65.1ms\n",
      "94:\tlearn: 16.8890476\ttotal: 147ms\tremaining: 63.6ms\n",
      "95:\tlearn: 16.8416103\ttotal: 149ms\tremaining: 62ms\n",
      "96:\tlearn: 16.7876772\ttotal: 150ms\tremaining: 60.5ms\n",
      "97:\tlearn: 16.7671570\ttotal: 152ms\tremaining: 58.9ms\n",
      "98:\tlearn: 16.7117414\ttotal: 154ms\tremaining: 57.4ms\n",
      "99:\tlearn: 16.7007533\ttotal: 155ms\tremaining: 55.8ms\n",
      "100:\tlearn: 16.6244127\ttotal: 157ms\tremaining: 54.3ms\n",
      "101:\tlearn: 16.6123142\ttotal: 158ms\tremaining: 52.7ms\n",
      "102:\tlearn: 16.5543532\ttotal: 160ms\tremaining: 51.1ms\n",
      "103:\tlearn: 16.4925424\ttotal: 161ms\tremaining: 49.7ms\n",
      "104:\tlearn: 16.4669645\ttotal: 163ms\tremaining: 48.1ms\n",
      "105:\tlearn: 16.4239608\ttotal: 165ms\tremaining: 46.6ms\n",
      "106:\tlearn: 16.3861673\ttotal: 166ms\tremaining: 45ms\n",
      "107:\tlearn: 16.3620718\ttotal: 168ms\tremaining: 43.5ms\n",
      "108:\tlearn: 16.2923357\ttotal: 169ms\tremaining: 41.9ms\n",
      "109:\tlearn: 16.1999389\ttotal: 171ms\tremaining: 40.4ms\n",
      "110:\tlearn: 16.1746514\ttotal: 172ms\tremaining: 38.8ms\n",
      "111:\tlearn: 16.1471863\ttotal: 174ms\tremaining: 37.4ms\n",
      "112:\tlearn: 16.1112548\ttotal: 177ms\tremaining: 36ms\n",
      "113:\tlearn: 16.0764222\ttotal: 178ms\tremaining: 34.4ms\n",
      "114:\tlearn: 16.0418405\ttotal: 180ms\tremaining: 32.8ms\n",
      "115:\tlearn: 16.0399907\ttotal: 181ms\tremaining: 31.2ms\n",
      "116:\tlearn: 15.9709419\ttotal: 183ms\tremaining: 29.6ms\n",
      "117:\tlearn: 15.9426840\ttotal: 184ms\tremaining: 28.1ms\n",
      "118:\tlearn: 15.9028619\ttotal: 186ms\tremaining: 26.5ms\n",
      "119:\tlearn: 15.8719940\ttotal: 187ms\tremaining: 24.9ms\n",
      "120:\tlearn: 15.8600465\ttotal: 188ms\tremaining: 23.4ms\n",
      "121:\tlearn: 15.8462241\ttotal: 190ms\tremaining: 21.8ms\n",
      "122:\tlearn: 15.7815003\ttotal: 191ms\tremaining: 20.2ms\n",
      "123:\tlearn: 15.7573953\ttotal: 193ms\tremaining: 18.6ms\n",
      "124:\tlearn: 15.7529232\ttotal: 194ms\tremaining: 17.1ms\n",
      "125:\tlearn: 15.7331157\ttotal: 196ms\tremaining: 15.5ms\n",
      "126:\tlearn: 15.6750049\ttotal: 197ms\tremaining: 14ms\n",
      "127:\tlearn: 15.6372606\ttotal: 199ms\tremaining: 12.4ms\n",
      "128:\tlearn: 15.6029288\ttotal: 200ms\tremaining: 10.9ms\n",
      "129:\tlearn: 15.5847485\ttotal: 202ms\tremaining: 9.3ms\n",
      "130:\tlearn: 15.5798286\ttotal: 203ms\tremaining: 7.75ms\n",
      "131:\tlearn: 15.5657125\ttotal: 204ms\tremaining: 6.2ms\n",
      "132:\tlearn: 15.5392748\ttotal: 206ms\tremaining: 4.64ms\n",
      "133:\tlearn: 15.5208849\ttotal: 207ms\tremaining: 3.1ms\n",
      "134:\tlearn: 15.5159224\ttotal: 209ms\tremaining: 1.55ms\n",
      "135:\tlearn: 15.4870537\ttotal: 210ms\tremaining: 0us\n",
      "Learning rate set to 0.193165\n",
      "0:\tlearn: 27.1239692\ttotal: 1.1ms\tremaining: 149ms\n",
      "1:\tlearn: 25.1841703\ttotal: 2.16ms\tremaining: 146ms\n",
      "2:\tlearn: 23.5286213\ttotal: 3.17ms\tremaining: 142ms\n",
      "3:\tlearn: 22.2342254\ttotal: 4.05ms\tremaining: 135ms\n",
      "4:\tlearn: 21.2736108\ttotal: 4.9ms\tremaining: 129ms\n",
      "5:\tlearn: 20.6389717\ttotal: 5.76ms\tremaining: 126ms\n",
      "6:\tlearn: 20.1120305\ttotal: 6.63ms\tremaining: 123ms\n",
      "7:\tlearn: 19.5604624\ttotal: 7.46ms\tremaining: 120ms\n",
      "8:\tlearn: 18.9466860\ttotal: 8.28ms\tremaining: 118ms\n",
      "9:\tlearn: 18.5220640\ttotal: 9.11ms\tremaining: 116ms\n",
      "10:\tlearn: 18.2108355\ttotal: 10ms\tremaining: 115ms\n",
      "11:\tlearn: 17.8264419\ttotal: 10.9ms\tremaining: 114ms\n",
      "12:\tlearn: 17.4965220\ttotal: 11.8ms\tremaining: 112ms\n",
      "13:\tlearn: 17.2743780\ttotal: 12.6ms\tremaining: 111ms\n",
      "14:\tlearn: 17.0159298\ttotal: 13.4ms\tremaining: 109ms\n",
      "15:\tlearn: 16.8918671\ttotal: 14.3ms\tremaining: 108ms\n",
      "16:\tlearn: 16.6627515\ttotal: 15.1ms\tremaining: 107ms\n",
      "17:\tlearn: 16.4322398\ttotal: 15.9ms\tremaining: 105ms\n",
      "18:\tlearn: 16.2892131\ttotal: 16.7ms\tremaining: 104ms\n",
      "19:\tlearn: 16.1052578\ttotal: 17.5ms\tremaining: 103ms\n",
      "20:\tlearn: 15.9285109\ttotal: 18.4ms\tremaining: 101ms\n",
      "21:\tlearn: 15.8054927\ttotal: 19.2ms\tremaining: 100ms\n",
      "22:\tlearn: 15.7313095\ttotal: 20ms\tremaining: 99.1ms\n",
      "23:\tlearn: 15.6478649\ttotal: 20.8ms\tremaining: 97.9ms\n",
      "24:\tlearn: 15.5622812\ttotal: 21.7ms\tremaining: 97.2ms\n",
      "25:\tlearn: 15.4478920\ttotal: 22.5ms\tremaining: 96.1ms\n",
      "26:\tlearn: 15.3226151\ttotal: 23.3ms\tremaining: 95ms\n",
      "27:\tlearn: 15.2628558\ttotal: 24.2ms\tremaining: 94.3ms\n",
      "28:\tlearn: 15.1794623\ttotal: 25ms\tremaining: 93.2ms\n",
      "29:\tlearn: 15.0195308\ttotal: 25.8ms\tremaining: 92.1ms\n",
      "30:\tlearn: 14.9030847\ttotal: 26.6ms\tremaining: 91ms\n",
      "31:\tlearn: 14.7988331\ttotal: 27.5ms\tremaining: 90.1ms\n",
      "32:\tlearn: 14.6765277\ttotal: 28.3ms\tremaining: 89.1ms\n",
      "33:\tlearn: 14.6282318\ttotal: 29.1ms\tremaining: 88.1ms\n",
      "34:\tlearn: 14.4692821\ttotal: 29.9ms\tremaining: 87.1ms\n",
      "35:\tlearn: 14.2685989\ttotal: 30.8ms\tremaining: 86.4ms\n",
      "36:\tlearn: 14.1647844\ttotal: 31.6ms\tremaining: 85.4ms\n",
      "37:\tlearn: 14.0831657\ttotal: 32.4ms\tremaining: 84.4ms\n",
      "38:\tlearn: 14.0062482\ttotal: 33.3ms\tremaining: 83.6ms\n",
      "39:\tlearn: 13.9267123\ttotal: 34.1ms\tremaining: 82.6ms\n",
      "40:\tlearn: 13.7798958\ttotal: 34.9ms\tremaining: 81.6ms\n",
      "41:\tlearn: 13.6218410\ttotal: 35.7ms\tremaining: 80.7ms\n",
      "42:\tlearn: 13.4734360\ttotal: 36.5ms\tremaining: 79.9ms\n",
      "43:\tlearn: 13.3133391\ttotal: 37.4ms\tremaining: 79ms\n",
      "44:\tlearn: 13.1779193\ttotal: 38.2ms\tremaining: 78.1ms\n",
      "45:\tlearn: 13.1567679\ttotal: 39ms\tremaining: 77.1ms\n",
      "46:\tlearn: 13.1259078\ttotal: 39.8ms\tremaining: 76.3ms\n",
      "47:\tlearn: 12.9827439\ttotal: 40.7ms\tremaining: 75.5ms\n",
      "48:\tlearn: 12.9768229\ttotal: 41.5ms\tremaining: 74.6ms\n",
      "49:\tlearn: 12.8365269\ttotal: 42.3ms\tremaining: 73.6ms\n",
      "50:\tlearn: 12.7671439\ttotal: 43.1ms\tremaining: 72.7ms\n",
      "51:\tlearn: 12.6274428\ttotal: 43.9ms\tremaining: 71.8ms\n",
      "52:\tlearn: 12.5164383\ttotal: 44.7ms\tremaining: 70.9ms\n",
      "53:\tlearn: 12.4213950\ttotal: 45.6ms\tremaining: 70.1ms\n",
      "54:\tlearn: 12.3866827\ttotal: 46.4ms\tremaining: 69.2ms\n",
      "55:\tlearn: 12.3527138\ttotal: 47.2ms\tremaining: 68.2ms\n",
      "56:\tlearn: 12.2280606\ttotal: 48ms\tremaining: 67.3ms\n",
      "57:\tlearn: 12.0783400\ttotal: 48.8ms\tremaining: 66.5ms\n",
      "58:\tlearn: 11.9735838\ttotal: 49.7ms\tremaining: 65.7ms\n",
      "59:\tlearn: 11.8765906\ttotal: 50.5ms\tremaining: 64.8ms\n",
      "60:\tlearn: 11.8054434\ttotal: 51.3ms\tremaining: 63.9ms\n",
      "61:\tlearn: 11.7971709\ttotal: 52.1ms\tremaining: 63ms\n",
      "62:\tlearn: 11.7613354\ttotal: 52.9ms\tremaining: 62.1ms\n",
      "63:\tlearn: 11.6466246\ttotal: 53.8ms\tremaining: 61.3ms\n",
      "64:\tlearn: 11.6188877\ttotal: 54.6ms\tremaining: 60.4ms\n",
      "65:\tlearn: 11.5544263\ttotal: 55.9ms\tremaining: 60.1ms\n",
      "66:\tlearn: 11.4499745\ttotal: 56.8ms\tremaining: 59.3ms\n",
      "67:\tlearn: 11.4448712\ttotal: 57.6ms\tremaining: 58.5ms\n",
      "68:\tlearn: 11.4363656\ttotal: 58.5ms\tremaining: 57.7ms\n",
      "69:\tlearn: 11.3277223\ttotal: 59.4ms\tremaining: 56.9ms\n",
      "70:\tlearn: 11.2511511\ttotal: 60.3ms\tremaining: 56.1ms\n",
      "71:\tlearn: 11.2054713\ttotal: 61.1ms\tremaining: 55.2ms\n",
      "72:\tlearn: 11.1800752\ttotal: 62ms\tremaining: 54.3ms\n",
      "73:\tlearn: 11.0755437\ttotal: 62.8ms\tremaining: 53.5ms\n",
      "74:\tlearn: 10.9667803\ttotal: 63.6ms\tremaining: 52.6ms\n",
      "75:\tlearn: 10.8586498\ttotal: 64.5ms\tremaining: 51.8ms\n",
      "76:\tlearn: 10.7533147\ttotal: 65.4ms\tremaining: 50.9ms\n",
      "77:\tlearn: 10.7291101\ttotal: 66.2ms\tremaining: 50ms\n",
      "78:\tlearn: 10.6838477\ttotal: 67ms\tremaining: 49.2ms\n",
      "79:\tlearn: 10.6777899\ttotal: 67.8ms\tremaining: 48.3ms\n",
      "80:\tlearn: 10.6745857\ttotal: 68.6ms\tremaining: 47.4ms\n",
      "81:\tlearn: 10.5885004\ttotal: 69.4ms\tremaining: 46.6ms\n",
      "82:\tlearn: 10.5034104\ttotal: 70.3ms\tremaining: 45.7ms\n",
      "83:\tlearn: 10.3993915\ttotal: 71.1ms\tremaining: 44.9ms\n",
      "84:\tlearn: 10.3594570\ttotal: 72ms\tremaining: 44ms\n",
      "85:\tlearn: 10.2624808\ttotal: 72.8ms\tremaining: 43.2ms\n",
      "86:\tlearn: 10.1724304\ttotal: 73.7ms\tremaining: 42.4ms\n",
      "87:\tlearn: 10.1072247\ttotal: 74.6ms\tremaining: 41.5ms\n",
      "88:\tlearn: 10.0348282\ttotal: 75.4ms\tremaining: 40.6ms\n",
      "89:\tlearn: 9.9433997\ttotal: 76.2ms\tremaining: 39.8ms\n",
      "90:\tlearn: 9.8957557\ttotal: 77ms\tremaining: 38.9ms\n",
      "91:\tlearn: 9.8782621\ttotal: 77.8ms\tremaining: 38.1ms\n",
      "92:\tlearn: 9.8067896\ttotal: 78.6ms\tremaining: 37.2ms\n",
      "93:\tlearn: 9.7992789\ttotal: 79.4ms\tremaining: 36.3ms\n",
      "94:\tlearn: 9.7472487\ttotal: 80.3ms\tremaining: 35.5ms\n",
      "95:\tlearn: 9.7443993\ttotal: 81.1ms\tremaining: 34.6ms\n",
      "96:\tlearn: 9.6675312\ttotal: 81.9ms\tremaining: 33.8ms\n",
      "97:\tlearn: 9.5873951\ttotal: 82.7ms\tremaining: 32.9ms\n",
      "98:\tlearn: 9.5314684\ttotal: 83.5ms\tremaining: 32ms\n",
      "99:\tlearn: 9.4740399\ttotal: 84.4ms\tremaining: 31.2ms\n",
      "100:\tlearn: 9.4635991\ttotal: 85.1ms\tremaining: 30.3ms\n",
      "101:\tlearn: 9.4431474\ttotal: 86ms\tremaining: 29.5ms\n",
      "102:\tlearn: 9.3815358\ttotal: 86.8ms\tremaining: 28.6ms\n",
      "103:\tlearn: 9.3432753\ttotal: 87.6ms\tremaining: 27.8ms\n",
      "104:\tlearn: 9.2846803\ttotal: 88.5ms\tremaining: 27ms\n",
      "105:\tlearn: 9.2162920\ttotal: 89.4ms\tremaining: 26.1ms\n",
      "106:\tlearn: 9.1324322\ttotal: 90.3ms\tremaining: 25.3ms\n",
      "107:\tlearn: 9.0584104\ttotal: 91.1ms\tremaining: 24.5ms\n",
      "108:\tlearn: 9.0525302\ttotal: 91.9ms\tremaining: 23.6ms\n",
      "109:\tlearn: 8.9840468\ttotal: 92.8ms\tremaining: 22.8ms\n",
      "110:\tlearn: 8.8967275\ttotal: 93.6ms\tremaining: 21.9ms\n",
      "111:\tlearn: 8.8490309\ttotal: 94.5ms\tremaining: 21.1ms\n",
      "112:\tlearn: 8.7797481\ttotal: 95.3ms\tremaining: 20.2ms\n",
      "113:\tlearn: 8.7293257\ttotal: 96.2ms\tremaining: 19.4ms\n",
      "114:\tlearn: 8.6955527\ttotal: 97ms\tremaining: 18.6ms\n",
      "115:\tlearn: 8.6446909\ttotal: 97.8ms\tremaining: 17.7ms\n",
      "116:\tlearn: 8.5726995\ttotal: 98.6ms\tremaining: 16.9ms\n",
      "117:\tlearn: 8.5243487\ttotal: 99.5ms\tremaining: 16ms\n",
      "118:\tlearn: 8.4952505\ttotal: 100ms\tremaining: 15.2ms\n",
      "119:\tlearn: 8.4309406\ttotal: 101ms\tremaining: 14.4ms\n",
      "120:\tlearn: 8.3962266\ttotal: 102ms\tremaining: 13.5ms\n",
      "121:\tlearn: 8.3571402\ttotal: 103ms\tremaining: 12.7ms\n",
      "122:\tlearn: 8.3190353\ttotal: 104ms\tremaining: 11.8ms\n",
      "123:\tlearn: 8.2886993\ttotal: 105ms\tremaining: 11ms\n",
      "124:\tlearn: 8.2861795\ttotal: 105ms\tremaining: 10.1ms\n",
      "125:\tlearn: 8.2430229\ttotal: 106ms\tremaining: 9.28ms\n",
      "126:\tlearn: 8.2025839\ttotal: 107ms\tremaining: 8.44ms\n",
      "127:\tlearn: 8.1342975\ttotal: 108ms\tremaining: 7.6ms\n",
      "128:\tlearn: 8.1063607\ttotal: 110ms\tremaining: 6.79ms\n",
      "129:\tlearn: 8.0474572\ttotal: 111ms\tremaining: 5.98ms\n",
      "130:\tlearn: 8.0365691\ttotal: 112ms\tremaining: 5.14ms\n",
      "131:\tlearn: 7.9817997\ttotal: 114ms\tremaining: 4.31ms\n",
      "132:\tlearn: 7.9137311\ttotal: 115ms\tremaining: 3.46ms\n",
      "133:\tlearn: 7.8949225\ttotal: 116ms\tremaining: 2.6ms\n",
      "134:\tlearn: 7.8549389\ttotal: 117ms\tremaining: 1.74ms\n",
      "135:\tlearn: 7.7988803\ttotal: 118ms\tremaining: 868us\n",
      "136:\tlearn: 7.7461830\ttotal: 119ms\tremaining: 0us\n",
      "Learning rate set to 0.215445\n",
      "0:\tlearn: 27.9686693\ttotal: 1.29ms\tremaining: 175ms\n",
      "1:\tlearn: 26.2270377\ttotal: 2.52ms\tremaining: 170ms\n",
      "2:\tlearn: 24.5130632\ttotal: 3.77ms\tremaining: 169ms\n",
      "3:\tlearn: 23.4665247\ttotal: 5.01ms\tremaining: 167ms\n",
      "4:\tlearn: 22.5224760\ttotal: 6.06ms\tremaining: 160ms\n",
      "5:\tlearn: 21.7358928\ttotal: 7.17ms\tremaining: 156ms\n",
      "6:\tlearn: 21.4226404\ttotal: 8.21ms\tremaining: 152ms\n",
      "7:\tlearn: 20.8275160\ttotal: 9.24ms\tremaining: 149ms\n",
      "8:\tlearn: 20.4239283\ttotal: 10.3ms\tremaining: 147ms\n",
      "9:\tlearn: 20.1620074\ttotal: 11.3ms\tremaining: 144ms\n",
      "10:\tlearn: 19.8227130\ttotal: 12.3ms\tremaining: 141ms\n",
      "11:\tlearn: 19.5624955\ttotal: 13.4ms\tremaining: 139ms\n",
      "12:\tlearn: 19.2388318\ttotal: 14.3ms\tremaining: 137ms\n",
      "13:\tlearn: 19.0779835\ttotal: 16ms\tremaining: 141ms\n",
      "14:\tlearn: 18.8976651\ttotal: 17.1ms\tremaining: 139ms\n",
      "15:\tlearn: 18.7516324\ttotal: 18.1ms\tremaining: 137ms\n",
      "16:\tlearn: 18.5657478\ttotal: 19.2ms\tremaining: 136ms\n",
      "17:\tlearn: 18.3911050\ttotal: 20.3ms\tremaining: 134ms\n",
      "18:\tlearn: 18.2473625\ttotal: 21.3ms\tremaining: 132ms\n",
      "19:\tlearn: 18.0400565\ttotal: 22.4ms\tremaining: 131ms\n",
      "20:\tlearn: 17.8553455\ttotal: 23.4ms\tremaining: 129ms\n",
      "21:\tlearn: 17.7626416\ttotal: 24.4ms\tremaining: 128ms\n",
      "22:\tlearn: 17.6462679\ttotal: 25.4ms\tremaining: 126ms\n",
      "23:\tlearn: 17.5219894\ttotal: 26.5ms\tremaining: 125ms\n",
      "24:\tlearn: 17.3792090\ttotal: 27.5ms\tremaining: 123ms\n",
      "25:\tlearn: 17.2642409\ttotal: 28.6ms\tremaining: 122ms\n",
      "26:\tlearn: 17.2246157\ttotal: 29.5ms\tremaining: 120ms\n",
      "27:\tlearn: 17.0990379\ttotal: 30.5ms\tremaining: 119ms\n",
      "28:\tlearn: 16.9993621\ttotal: 31.5ms\tremaining: 117ms\n",
      "29:\tlearn: 16.8709903\ttotal: 32.6ms\tremaining: 116ms\n",
      "30:\tlearn: 16.7300374\ttotal: 33.6ms\tremaining: 115ms\n",
      "31:\tlearn: 16.7033102\ttotal: 34.6ms\tremaining: 113ms\n",
      "32:\tlearn: 16.5881663\ttotal: 35.6ms\tremaining: 112ms\n",
      "33:\tlearn: 16.4526523\ttotal: 36.6ms\tremaining: 111ms\n",
      "34:\tlearn: 16.3533758\ttotal: 37.6ms\tremaining: 110ms\n",
      "35:\tlearn: 16.2697795\ttotal: 38.7ms\tremaining: 108ms\n",
      "36:\tlearn: 16.2469010\ttotal: 39.3ms\tremaining: 106ms\n",
      "37:\tlearn: 16.1868021\ttotal: 40.3ms\tremaining: 105ms\n",
      "38:\tlearn: 16.1320719\ttotal: 41.3ms\tremaining: 104ms\n",
      "39:\tlearn: 16.0400180\ttotal: 42.4ms\tremaining: 103ms\n",
      "40:\tlearn: 16.0033825\ttotal: 43.4ms\tremaining: 102ms\n",
      "41:\tlearn: 15.9331331\ttotal: 44.4ms\tremaining: 100ms\n",
      "42:\tlearn: 15.8145469\ttotal: 45.4ms\tremaining: 99.3ms\n",
      "43:\tlearn: 15.7906716\ttotal: 46.4ms\tremaining: 98.1ms\n",
      "44:\tlearn: 15.7267154\ttotal: 47.4ms\tremaining: 96.9ms\n",
      "45:\tlearn: 15.5756281\ttotal: 48.4ms\tremaining: 95.8ms\n",
      "46:\tlearn: 15.4594540\ttotal: 49.4ms\tremaining: 94.7ms\n",
      "47:\tlearn: 15.3708165\ttotal: 50.6ms\tremaining: 93.8ms\n",
      "48:\tlearn: 15.3663220\ttotal: 51.5ms\tremaining: 92.5ms\n",
      "49:\tlearn: 15.2431509\ttotal: 52.5ms\tremaining: 91.4ms\n",
      "50:\tlearn: 15.2187792\ttotal: 53.5ms\tremaining: 90.2ms\n",
      "51:\tlearn: 15.1800581\ttotal: 54.5ms\tremaining: 89.1ms\n",
      "52:\tlearn: 15.0858587\ttotal: 55.5ms\tremaining: 87.9ms\n",
      "53:\tlearn: 14.9900429\ttotal: 56.5ms\tremaining: 86.8ms\n",
      "54:\tlearn: 14.9191549\ttotal: 57.5ms\tremaining: 85.8ms\n",
      "55:\tlearn: 14.8503632\ttotal: 58.6ms\tremaining: 84.7ms\n",
      "56:\tlearn: 14.7141384\ttotal: 59.6ms\tremaining: 83.7ms\n",
      "57:\tlearn: 14.7103819\ttotal: 60.6ms\tremaining: 82.5ms\n",
      "58:\tlearn: 14.6276427\ttotal: 61.6ms\tremaining: 81.4ms\n",
      "59:\tlearn: 14.5594859\ttotal: 62.5ms\tremaining: 80.3ms\n",
      "60:\tlearn: 14.4357846\ttotal: 63.7ms\tremaining: 79.3ms\n",
      "61:\tlearn: 14.4310311\ttotal: 64.6ms\tremaining: 78.2ms\n",
      "62:\tlearn: 14.3910747\ttotal: 65.6ms\tremaining: 77ms\n",
      "63:\tlearn: 14.2900812\ttotal: 66.6ms\tremaining: 76ms\n",
      "64:\tlearn: 14.2319118\ttotal: 67.6ms\tremaining: 74.9ms\n",
      "65:\tlearn: 14.1413121\ttotal: 68.6ms\tremaining: 73.8ms\n",
      "66:\tlearn: 14.1383713\ttotal: 69.6ms\tremaining: 72.8ms\n",
      "67:\tlearn: 14.0659722\ttotal: 70.7ms\tremaining: 71.8ms\n",
      "68:\tlearn: 13.9915904\ttotal: 71.7ms\tremaining: 70.7ms\n",
      "69:\tlearn: 13.9859464\ttotal: 72.7ms\tremaining: 69.6ms\n",
      "70:\tlearn: 13.9031805\ttotal: 73.8ms\tremaining: 68.6ms\n",
      "71:\tlearn: 13.8124785\ttotal: 74.9ms\tremaining: 67.6ms\n",
      "72:\tlearn: 13.6954152\ttotal: 75.9ms\tremaining: 66.5ms\n",
      "73:\tlearn: 13.6818022\ttotal: 76.8ms\tremaining: 65.4ms\n",
      "74:\tlearn: 13.6290922\ttotal: 77.8ms\tremaining: 64.3ms\n",
      "75:\tlearn: 13.6252743\ttotal: 78.8ms\tremaining: 63.2ms\n",
      "76:\tlearn: 13.5564732\ttotal: 79.8ms\tremaining: 62.2ms\n",
      "77:\tlearn: 13.5272298\ttotal: 80.8ms\tremaining: 61.1ms\n",
      "78:\tlearn: 13.4116396\ttotal: 81.8ms\tremaining: 60.1ms\n",
      "79:\tlearn: 13.2865383\ttotal: 82.8ms\tremaining: 59ms\n",
      "80:\tlearn: 13.2256307\ttotal: 83.9ms\tremaining: 58ms\n",
      "81:\tlearn: 13.1750792\ttotal: 84.9ms\tremaining: 57ms\n",
      "82:\tlearn: 13.1456595\ttotal: 86ms\tremaining: 55.9ms\n",
      "83:\tlearn: 13.0732681\ttotal: 87ms\tremaining: 54.9ms\n",
      "84:\tlearn: 13.0702383\ttotal: 88ms\tremaining: 53.8ms\n",
      "85:\tlearn: 13.0662940\ttotal: 89ms\tremaining: 52.8ms\n",
      "86:\tlearn: 13.0612993\ttotal: 89.9ms\tremaining: 51.7ms\n",
      "87:\tlearn: 12.9678984\ttotal: 91ms\tremaining: 50.7ms\n",
      "88:\tlearn: 12.9106719\ttotal: 92ms\tremaining: 49.6ms\n",
      "89:\tlearn: 12.8733136\ttotal: 93ms\tremaining: 48.6ms\n",
      "90:\tlearn: 12.7748509\ttotal: 94ms\tremaining: 47.5ms\n",
      "91:\tlearn: 12.7418513\ttotal: 95ms\tremaining: 46.5ms\n",
      "92:\tlearn: 12.6957778\ttotal: 96ms\tremaining: 45.4ms\n",
      "93:\tlearn: 12.6379234\ttotal: 97ms\tremaining: 44.4ms\n",
      "94:\tlearn: 12.5980019\ttotal: 98ms\tremaining: 43.3ms\n",
      "95:\tlearn: 12.5660424\ttotal: 99ms\tremaining: 42.3ms\n",
      "96:\tlearn: 12.5209750\ttotal: 100ms\tremaining: 41.3ms\n",
      "97:\tlearn: 12.4380473\ttotal: 101ms\tremaining: 40.2ms\n",
      "98:\tlearn: 12.3714232\ttotal: 102ms\tremaining: 39.2ms\n",
      "99:\tlearn: 12.3249465\ttotal: 103ms\tremaining: 38.2ms\n",
      "100:\tlearn: 12.2830044\ttotal: 104ms\tremaining: 37.1ms\n",
      "101:\tlearn: 12.2403055\ttotal: 105ms\tremaining: 36.1ms\n",
      "102:\tlearn: 12.2231487\ttotal: 106ms\tremaining: 35.1ms\n",
      "103:\tlearn: 12.1951164\ttotal: 108ms\tremaining: 34.1ms\n",
      "104:\tlearn: 12.1594302\ttotal: 109ms\tremaining: 33.1ms\n",
      "105:\tlearn: 12.0891087\ttotal: 109ms\tremaining: 32ms\n",
      "106:\tlearn: 12.0693118\ttotal: 111ms\tremaining: 31ms\n",
      "107:\tlearn: 12.0377954\ttotal: 112ms\tremaining: 30ms\n",
      "108:\tlearn: 11.9674323\ttotal: 113ms\tremaining: 28.9ms\n",
      "109:\tlearn: 11.8989682\ttotal: 114ms\tremaining: 27.9ms\n",
      "110:\tlearn: 11.8271975\ttotal: 115ms\tremaining: 26.8ms\n",
      "111:\tlearn: 11.8057507\ttotal: 116ms\tremaining: 25.8ms\n",
      "112:\tlearn: 11.7430629\ttotal: 117ms\tremaining: 24.8ms\n",
      "113:\tlearn: 11.6693166\ttotal: 118ms\tremaining: 23.7ms\n",
      "114:\tlearn: 11.6672497\ttotal: 118ms\tremaining: 22.7ms\n",
      "115:\tlearn: 11.6634767\ttotal: 119ms\tremaining: 21.6ms\n",
      "116:\tlearn: 11.6354236\ttotal: 120ms\tremaining: 20.6ms\n",
      "117:\tlearn: 11.6338453\ttotal: 121ms\tremaining: 19.5ms\n",
      "118:\tlearn: 11.5909934\ttotal: 122ms\tremaining: 18.5ms\n",
      "119:\tlearn: 11.5718896\ttotal: 123ms\tremaining: 17.5ms\n",
      "120:\tlearn: 11.5167317\ttotal: 124ms\tremaining: 16.4ms\n",
      "121:\tlearn: 11.4529813\ttotal: 125ms\tremaining: 15.4ms\n",
      "122:\tlearn: 11.4174292\ttotal: 126ms\tremaining: 14.4ms\n",
      "123:\tlearn: 11.3790974\ttotal: 127ms\tremaining: 13.4ms\n",
      "124:\tlearn: 11.3768354\ttotal: 128ms\tremaining: 12.3ms\n",
      "125:\tlearn: 11.3376775\ttotal: 129ms\tremaining: 11.3ms\n",
      "126:\tlearn: 11.2736094\ttotal: 130ms\tremaining: 10.3ms\n",
      "127:\tlearn: 11.2234516\ttotal: 131ms\tremaining: 9.24ms\n",
      "128:\tlearn: 11.1470098\ttotal: 133ms\tremaining: 8.22ms\n",
      "129:\tlearn: 11.0887283\ttotal: 134ms\tremaining: 7.22ms\n",
      "130:\tlearn: 11.0289571\ttotal: 135ms\tremaining: 6.19ms\n",
      "131:\tlearn: 10.9986113\ttotal: 136ms\tremaining: 5.16ms\n",
      "132:\tlearn: 10.9610824\ttotal: 137ms\tremaining: 4.12ms\n",
      "133:\tlearn: 10.9001729\ttotal: 138ms\tremaining: 3.09ms\n",
      "134:\tlearn: 10.8780154\ttotal: 139ms\tremaining: 2.06ms\n",
      "135:\tlearn: 10.8496924\ttotal: 140ms\tremaining: 1.03ms\n",
      "136:\tlearn: 10.8027713\ttotal: 141ms\tremaining: 0us\n",
      "Learning rate set to 0.229671\n",
      "0:\tlearn: 29.3019455\ttotal: 1.48ms\tremaining: 201ms\n",
      "1:\tlearn: 27.0534074\ttotal: 3.3ms\tremaining: 223ms\n",
      "2:\tlearn: 25.5430692\ttotal: 4.6ms\tremaining: 205ms\n",
      "3:\tlearn: 24.4986418\ttotal: 5.83ms\tremaining: 194ms\n",
      "4:\tlearn: 23.8149651\ttotal: 7.06ms\tremaining: 186ms\n",
      "5:\tlearn: 23.2695130\ttotal: 8.34ms\tremaining: 182ms\n",
      "6:\tlearn: 22.6398728\ttotal: 9.65ms\tremaining: 179ms\n",
      "7:\tlearn: 22.1222292\ttotal: 11.2ms\tremaining: 181ms\n",
      "8:\tlearn: 21.7297479\ttotal: 12.5ms\tremaining: 178ms\n",
      "9:\tlearn: 21.5813482\ttotal: 13.8ms\tremaining: 175ms\n",
      "10:\tlearn: 21.3197871\ttotal: 15.2ms\tremaining: 174ms\n",
      "11:\tlearn: 21.1223438\ttotal: 16.5ms\tremaining: 172ms\n",
      "12:\tlearn: 21.0063837\ttotal: 17.8ms\tremaining: 170ms\n",
      "13:\tlearn: 20.9055275\ttotal: 19ms\tremaining: 167ms\n",
      "14:\tlearn: 20.7538238\ttotal: 20.2ms\tremaining: 164ms\n",
      "15:\tlearn: 20.6167610\ttotal: 21.3ms\tremaining: 161ms\n",
      "16:\tlearn: 20.3666759\ttotal: 22.4ms\tremaining: 158ms\n",
      "17:\tlearn: 20.0757623\ttotal: 23.6ms\tremaining: 156ms\n",
      "18:\tlearn: 19.8510574\ttotal: 24.8ms\tremaining: 154ms\n",
      "19:\tlearn: 19.7710675\ttotal: 25.9ms\tremaining: 152ms\n",
      "20:\tlearn: 19.6699658\ttotal: 27.1ms\tremaining: 150ms\n",
      "21:\tlearn: 19.5810460\ttotal: 28.2ms\tremaining: 147ms\n",
      "22:\tlearn: 19.5159668\ttotal: 29.4ms\tremaining: 146ms\n",
      "23:\tlearn: 19.3650100\ttotal: 30.6ms\tremaining: 144ms\n",
      "24:\tlearn: 19.3149267\ttotal: 31.7ms\tremaining: 142ms\n",
      "25:\tlearn: 19.2182736\ttotal: 33.1ms\tremaining: 141ms\n",
      "26:\tlearn: 19.1450659\ttotal: 34.5ms\tremaining: 141ms\n",
      "27:\tlearn: 19.1004475\ttotal: 36ms\tremaining: 140ms\n",
      "28:\tlearn: 19.0723230\ttotal: 37.2ms\tremaining: 138ms\n",
      "29:\tlearn: 18.9014751\ttotal: 38.4ms\tremaining: 137ms\n",
      "30:\tlearn: 18.7692758\ttotal: 39.8ms\tremaining: 136ms\n",
      "31:\tlearn: 18.6535833\ttotal: 41.1ms\tremaining: 135ms\n",
      "32:\tlearn: 18.5227012\ttotal: 42.9ms\tremaining: 135ms\n",
      "33:\tlearn: 18.4509894\ttotal: 44.2ms\tremaining: 134ms\n",
      "34:\tlearn: 18.3544708\ttotal: 45.4ms\tremaining: 132ms\n",
      "35:\tlearn: 18.2256410\ttotal: 46.7ms\tremaining: 131ms\n",
      "36:\tlearn: 18.0104805\ttotal: 47.9ms\tremaining: 130ms\n",
      "37:\tlearn: 17.8677836\ttotal: 49.2ms\tremaining: 128ms\n",
      "38:\tlearn: 17.7669758\ttotal: 50.4ms\tremaining: 127ms\n",
      "39:\tlearn: 17.6727251\ttotal: 51.7ms\tremaining: 125ms\n",
      "40:\tlearn: 17.6280213\ttotal: 52.9ms\tremaining: 124ms\n",
      "41:\tlearn: 17.5972480\ttotal: 54.1ms\tremaining: 122ms\n",
      "42:\tlearn: 17.5179834\ttotal: 55.4ms\tremaining: 121ms\n",
      "43:\tlearn: 17.4420613\ttotal: 56.8ms\tremaining: 120ms\n",
      "44:\tlearn: 17.4135205\ttotal: 58.2ms\tremaining: 119ms\n",
      "45:\tlearn: 17.3737646\ttotal: 59.4ms\tremaining: 117ms\n",
      "46:\tlearn: 17.2247686\ttotal: 60.7ms\tremaining: 116ms\n",
      "47:\tlearn: 17.1651959\ttotal: 61.9ms\tremaining: 115ms\n",
      "48:\tlearn: 17.1012117\ttotal: 63ms\tremaining: 113ms\n",
      "49:\tlearn: 16.9415338\ttotal: 64.2ms\tremaining: 112ms\n",
      "50:\tlearn: 16.9270525\ttotal: 65.3ms\tremaining: 110ms\n",
      "51:\tlearn: 16.8780776\ttotal: 66.5ms\tremaining: 109ms\n",
      "52:\tlearn: 16.8143195\ttotal: 67.7ms\tremaining: 107ms\n",
      "53:\tlearn: 16.7428915\ttotal: 68.9ms\tremaining: 106ms\n",
      "54:\tlearn: 16.6459645\ttotal: 70.1ms\tremaining: 104ms\n",
      "55:\tlearn: 16.5528488\ttotal: 71.6ms\tremaining: 104ms\n",
      "56:\tlearn: 16.5022008\ttotal: 72.9ms\tremaining: 102ms\n",
      "57:\tlearn: 16.3968214\ttotal: 74.1ms\tremaining: 101ms\n",
      "58:\tlearn: 16.3928067\ttotal: 75.2ms\tremaining: 99.5ms\n",
      "59:\tlearn: 16.2566069\ttotal: 76.5ms\tremaining: 98.2ms\n",
      "60:\tlearn: 16.1500611\ttotal: 77.8ms\tremaining: 97ms\n",
      "61:\tlearn: 16.1376079\ttotal: 79ms\tremaining: 95.5ms\n",
      "62:\tlearn: 16.0537882\ttotal: 80.2ms\tremaining: 94.2ms\n",
      "63:\tlearn: 15.9922199\ttotal: 81.4ms\tremaining: 92.8ms\n",
      "64:\tlearn: 15.9406291\ttotal: 82.5ms\tremaining: 91.4ms\n",
      "65:\tlearn: 15.9382710\ttotal: 83.6ms\tremaining: 90ms\n",
      "66:\tlearn: 15.9279134\ttotal: 84.9ms\tremaining: 88.7ms\n",
      "67:\tlearn: 15.8307601\ttotal: 86.1ms\tremaining: 87.4ms\n",
      "68:\tlearn: 15.7757439\ttotal: 87.3ms\tremaining: 86.1ms\n",
      "69:\tlearn: 15.7152504\ttotal: 88.5ms\tremaining: 84.7ms\n",
      "70:\tlearn: 15.6289752\ttotal: 89.7ms\tremaining: 83.4ms\n",
      "71:\tlearn: 15.5506339\ttotal: 90.9ms\tremaining: 82.1ms\n",
      "72:\tlearn: 15.4835162\ttotal: 92.1ms\tremaining: 80.7ms\n",
      "73:\tlearn: 15.4253669\ttotal: 93.3ms\tremaining: 79.4ms\n",
      "74:\tlearn: 15.3750880\ttotal: 94.4ms\tremaining: 78.1ms\n",
      "75:\tlearn: 15.2842793\ttotal: 95.6ms\tremaining: 76.7ms\n",
      "76:\tlearn: 15.2311484\ttotal: 96.7ms\tremaining: 75.3ms\n",
      "77:\tlearn: 15.1541426\ttotal: 97.9ms\tremaining: 74ms\n",
      "78:\tlearn: 15.0774908\ttotal: 99ms\tremaining: 72.7ms\n",
      "79:\tlearn: 15.0599840\ttotal: 100ms\tremaining: 71.3ms\n",
      "80:\tlearn: 15.0473654\ttotal: 101ms\tremaining: 70ms\n",
      "81:\tlearn: 15.0119632\ttotal: 102ms\tremaining: 68.7ms\n",
      "82:\tlearn: 14.9415533\ttotal: 104ms\tremaining: 67.4ms\n",
      "83:\tlearn: 14.9110064\ttotal: 105ms\tremaining: 66.1ms\n",
      "84:\tlearn: 14.8496411\ttotal: 106ms\tremaining: 64.8ms\n",
      "85:\tlearn: 14.7441010\ttotal: 107ms\tremaining: 63.5ms\n",
      "86:\tlearn: 14.6570386\ttotal: 108ms\tremaining: 62.2ms\n",
      "87:\tlearn: 14.6237870\ttotal: 109ms\tremaining: 60.9ms\n",
      "88:\tlearn: 14.5292951\ttotal: 111ms\tremaining: 59.7ms\n",
      "89:\tlearn: 14.4850797\ttotal: 112ms\tremaining: 58.5ms\n",
      "90:\tlearn: 14.4057557\ttotal: 113ms\tremaining: 57.2ms\n",
      "91:\tlearn: 14.3416873\ttotal: 114ms\tremaining: 56ms\n",
      "92:\tlearn: 14.3391422\ttotal: 116ms\tremaining: 54.6ms\n",
      "93:\tlearn: 14.2879716\ttotal: 117ms\tremaining: 53.4ms\n",
      "94:\tlearn: 14.2124246\ttotal: 118ms\tremaining: 52.1ms\n",
      "95:\tlearn: 14.1186559\ttotal: 119ms\tremaining: 50.9ms\n",
      "96:\tlearn: 14.0526024\ttotal: 120ms\tremaining: 49.6ms\n",
      "97:\tlearn: 14.0405071\ttotal: 121ms\tremaining: 48.3ms\n",
      "98:\tlearn: 13.9809936\ttotal: 123ms\tremaining: 47ms\n",
      "99:\tlearn: 13.9384829\ttotal: 124ms\tremaining: 45.8ms\n",
      "100:\tlearn: 13.8844751\ttotal: 125ms\tremaining: 44.5ms\n",
      "101:\tlearn: 13.8340954\ttotal: 126ms\tremaining: 43.3ms\n",
      "102:\tlearn: 13.7588423\ttotal: 128ms\tremaining: 42.1ms\n",
      "103:\tlearn: 13.7156039\ttotal: 129ms\tremaining: 40.9ms\n",
      "104:\tlearn: 13.6420984\ttotal: 130ms\tremaining: 39.7ms\n",
      "105:\tlearn: 13.6175687\ttotal: 131ms\tremaining: 38.4ms\n",
      "106:\tlearn: 13.6131477\ttotal: 132ms\tremaining: 37.1ms\n",
      "107:\tlearn: 13.5933715\ttotal: 134ms\tremaining: 35.9ms\n",
      "108:\tlearn: 13.5559116\ttotal: 135ms\tremaining: 34.7ms\n",
      "109:\tlearn: 13.5002258\ttotal: 136ms\tremaining: 33.4ms\n",
      "110:\tlearn: 13.4709557\ttotal: 137ms\tremaining: 32.2ms\n",
      "111:\tlearn: 13.4408734\ttotal: 139ms\tremaining: 31ms\n",
      "112:\tlearn: 13.4252902\ttotal: 140ms\tremaining: 29.7ms\n",
      "113:\tlearn: 13.4095103\ttotal: 141ms\tremaining: 28.5ms\n",
      "114:\tlearn: 13.3834712\ttotal: 142ms\tremaining: 27.3ms\n",
      "115:\tlearn: 13.3732924\ttotal: 144ms\tremaining: 26ms\n",
      "116:\tlearn: 13.3212022\ttotal: 145ms\tremaining: 24.8ms\n",
      "117:\tlearn: 13.3028051\ttotal: 146ms\tremaining: 23.5ms\n",
      "118:\tlearn: 13.2657784\ttotal: 147ms\tremaining: 22.3ms\n",
      "119:\tlearn: 13.2502251\ttotal: 149ms\tremaining: 21.1ms\n",
      "120:\tlearn: 13.2243557\ttotal: 150ms\tremaining: 19.8ms\n",
      "121:\tlearn: 13.1565893\ttotal: 151ms\tremaining: 18.6ms\n",
      "122:\tlearn: 13.1375578\ttotal: 152ms\tremaining: 17.3ms\n",
      "123:\tlearn: 13.0827368\ttotal: 154ms\tremaining: 16.1ms\n",
      "124:\tlearn: 13.0602779\ttotal: 155ms\tremaining: 14.9ms\n",
      "125:\tlearn: 13.0437849\ttotal: 156ms\tremaining: 13.6ms\n",
      "126:\tlearn: 13.0092427\ttotal: 157ms\tremaining: 12.4ms\n",
      "127:\tlearn: 12.9409053\ttotal: 159ms\tremaining: 11.2ms\n",
      "128:\tlearn: 12.8790928\ttotal: 160ms\tremaining: 9.92ms\n",
      "129:\tlearn: 12.8388817\ttotal: 161ms\tremaining: 8.67ms\n",
      "130:\tlearn: 12.7966602\ttotal: 162ms\tremaining: 7.43ms\n",
      "131:\tlearn: 12.7426611\ttotal: 164ms\tremaining: 6.19ms\n",
      "132:\tlearn: 12.7165214\ttotal: 165ms\tremaining: 4.96ms\n",
      "133:\tlearn: 12.6952738\ttotal: 166ms\tremaining: 3.72ms\n",
      "134:\tlearn: 12.6709780\ttotal: 167ms\tremaining: 2.48ms\n",
      "135:\tlearn: 12.6500654\ttotal: 168ms\tremaining: 1.24ms\n",
      "136:\tlearn: 12.6220776\ttotal: 170ms\tremaining: 0us\n",
      "Learning rate set to 0.240337\n",
      "0:\tlearn: 30.5078142\ttotal: 1.64ms\tremaining: 223ms\n",
      "1:\tlearn: 28.1460128\ttotal: 3.48ms\tremaining: 235ms\n",
      "2:\tlearn: 26.5698881\ttotal: 5.22ms\tremaining: 233ms\n",
      "3:\tlearn: 25.2963415\ttotal: 6.83ms\tremaining: 227ms\n",
      "4:\tlearn: 24.4720945\ttotal: 8.41ms\tremaining: 222ms\n",
      "5:\tlearn: 23.9242559\ttotal: 9.96ms\tremaining: 218ms\n",
      "6:\tlearn: 23.5119128\ttotal: 11.4ms\tremaining: 212ms\n",
      "7:\tlearn: 23.1666045\ttotal: 12.9ms\tremaining: 208ms\n",
      "8:\tlearn: 22.8265158\ttotal: 14.2ms\tremaining: 203ms\n",
      "9:\tlearn: 22.5956108\ttotal: 15.6ms\tremaining: 198ms\n",
      "10:\tlearn: 22.2922949\ttotal: 17ms\tremaining: 195ms\n",
      "11:\tlearn: 22.1988702\ttotal: 18.3ms\tremaining: 191ms\n",
      "12:\tlearn: 21.9402178\ttotal: 19.7ms\tremaining: 188ms\n",
      "13:\tlearn: 21.7081368\ttotal: 21ms\tremaining: 185ms\n",
      "14:\tlearn: 21.4328401\ttotal: 22.5ms\tremaining: 183ms\n",
      "15:\tlearn: 21.3165822\ttotal: 23.9ms\tremaining: 180ms\n",
      "16:\tlearn: 21.1768219\ttotal: 26ms\tremaining: 183ms\n",
      "17:\tlearn: 21.0311983\ttotal: 28ms\tremaining: 185ms\n",
      "18:\tlearn: 20.6935771\ttotal: 30.2ms\tremaining: 187ms\n",
      "19:\tlearn: 20.5313910\ttotal: 32.3ms\tremaining: 189ms\n",
      "20:\tlearn: 20.4937010\ttotal: 33.8ms\tremaining: 187ms\n",
      "21:\tlearn: 20.4431697\ttotal: 35.3ms\tremaining: 185ms\n",
      "22:\tlearn: 20.2903167\ttotal: 37.4ms\tremaining: 185ms\n",
      "23:\tlearn: 20.0829846\ttotal: 39.4ms\tremaining: 186ms\n",
      "24:\tlearn: 20.0205392\ttotal: 41ms\tremaining: 183ms\n",
      "25:\tlearn: 19.9524820\ttotal: 42.4ms\tremaining: 181ms\n",
      "26:\tlearn: 19.8943857\ttotal: 43.7ms\tremaining: 178ms\n",
      "27:\tlearn: 19.8087908\ttotal: 45ms\tremaining: 175ms\n",
      "28:\tlearn: 19.7628482\ttotal: 46.5ms\tremaining: 173ms\n",
      "29:\tlearn: 19.5747364\ttotal: 47.8ms\tremaining: 171ms\n",
      "30:\tlearn: 19.4587009\ttotal: 49.2ms\tremaining: 168ms\n",
      "31:\tlearn: 19.3916577\ttotal: 51.3ms\tremaining: 168ms\n",
      "32:\tlearn: 19.3239474\ttotal: 53ms\tremaining: 167ms\n",
      "33:\tlearn: 19.2291801\ttotal: 55.1ms\tremaining: 167ms\n",
      "34:\tlearn: 19.1381080\ttotal: 57.4ms\tremaining: 167ms\n",
      "35:\tlearn: 18.9975042\ttotal: 59ms\tremaining: 166ms\n",
      "36:\tlearn: 18.8734848\ttotal: 60.9ms\tremaining: 165ms\n",
      "37:\tlearn: 18.8357128\ttotal: 62.1ms\tremaining: 162ms\n",
      "38:\tlearn: 18.7647129\ttotal: 63.5ms\tremaining: 160ms\n",
      "39:\tlearn: 18.7081821\ttotal: 64.8ms\tremaining: 157ms\n",
      "40:\tlearn: 18.6633161\ttotal: 66.1ms\tremaining: 155ms\n",
      "41:\tlearn: 18.5152152\ttotal: 67.5ms\tremaining: 153ms\n",
      "42:\tlearn: 18.3607176\ttotal: 68.9ms\tremaining: 151ms\n",
      "43:\tlearn: 18.2790442\ttotal: 70.3ms\tremaining: 149ms\n",
      "44:\tlearn: 18.1639602\ttotal: 71.8ms\tremaining: 147ms\n",
      "45:\tlearn: 18.0599196\ttotal: 73.1ms\tremaining: 145ms\n",
      "46:\tlearn: 17.9375154\ttotal: 74.5ms\tremaining: 143ms\n",
      "47:\tlearn: 17.8929304\ttotal: 75.8ms\tremaining: 141ms\n",
      "48:\tlearn: 17.8424964\ttotal: 77.4ms\tremaining: 139ms\n",
      "49:\tlearn: 17.8250400\ttotal: 78.7ms\tremaining: 137ms\n",
      "50:\tlearn: 17.8180189\ttotal: 79.6ms\tremaining: 134ms\n",
      "51:\tlearn: 17.7710205\ttotal: 81ms\tremaining: 132ms\n",
      "52:\tlearn: 17.7046530\ttotal: 82.4ms\tremaining: 131ms\n",
      "53:\tlearn: 17.6161943\ttotal: 83.8ms\tremaining: 129ms\n",
      "54:\tlearn: 17.5267648\ttotal: 85.1ms\tremaining: 127ms\n",
      "55:\tlearn: 17.4404807\ttotal: 86.5ms\tremaining: 125ms\n",
      "56:\tlearn: 17.3728658\ttotal: 87.8ms\tremaining: 123ms\n",
      "57:\tlearn: 17.2495115\ttotal: 89.1ms\tremaining: 121ms\n",
      "58:\tlearn: 17.1850150\ttotal: 90.6ms\tremaining: 120ms\n",
      "59:\tlearn: 17.0914120\ttotal: 91.9ms\tremaining: 118ms\n",
      "60:\tlearn: 17.0173892\ttotal: 93.3ms\tremaining: 116ms\n",
      "61:\tlearn: 16.9701875\ttotal: 94.6ms\tremaining: 114ms\n",
      "62:\tlearn: 16.9644239\ttotal: 95.5ms\tremaining: 112ms\n",
      "63:\tlearn: 16.8828319\ttotal: 96.8ms\tremaining: 110ms\n",
      "64:\tlearn: 16.8433165\ttotal: 98ms\tremaining: 109ms\n",
      "65:\tlearn: 16.8264216\ttotal: 99.3ms\tremaining: 107ms\n",
      "66:\tlearn: 16.8140870\ttotal: 101ms\tremaining: 105ms\n",
      "67:\tlearn: 16.7713574\ttotal: 102ms\tremaining: 103ms\n",
      "68:\tlearn: 16.7602269\ttotal: 103ms\tremaining: 102ms\n",
      "69:\tlearn: 16.6738094\ttotal: 105ms\tremaining: 100ms\n",
      "70:\tlearn: 16.6140468\ttotal: 106ms\tremaining: 98.5ms\n",
      "71:\tlearn: 16.5082277\ttotal: 107ms\tremaining: 97ms\n",
      "72:\tlearn: 16.4744156\ttotal: 109ms\tremaining: 95.4ms\n",
      "73:\tlearn: 16.4113242\ttotal: 110ms\tremaining: 93.9ms\n",
      "74:\tlearn: 16.3518035\ttotal: 112ms\tremaining: 92.3ms\n",
      "75:\tlearn: 16.3373263\ttotal: 113ms\tremaining: 90.7ms\n",
      "76:\tlearn: 16.2981491\ttotal: 114ms\tremaining: 89.1ms\n",
      "77:\tlearn: 16.2219191\ttotal: 116ms\tremaining: 87.5ms\n",
      "78:\tlearn: 16.1881706\ttotal: 117ms\tremaining: 85.9ms\n",
      "79:\tlearn: 16.1326190\ttotal: 118ms\tremaining: 84.4ms\n",
      "80:\tlearn: 16.1240395\ttotal: 120ms\tremaining: 82.7ms\n",
      "81:\tlearn: 16.0819851\ttotal: 121ms\tremaining: 81.1ms\n",
      "82:\tlearn: 16.0363406\ttotal: 122ms\tremaining: 79.5ms\n",
      "83:\tlearn: 15.9951930\ttotal: 124ms\tremaining: 78ms\n",
      "84:\tlearn: 15.9726631\ttotal: 125ms\tremaining: 76.4ms\n",
      "85:\tlearn: 15.9321459\ttotal: 126ms\tremaining: 74.9ms\n",
      "86:\tlearn: 15.9059274\ttotal: 128ms\tremaining: 73.3ms\n",
      "87:\tlearn: 15.8619748\ttotal: 129ms\tremaining: 71.8ms\n",
      "88:\tlearn: 15.8094267\ttotal: 130ms\tremaining: 70.3ms\n",
      "89:\tlearn: 15.7521782\ttotal: 132ms\tremaining: 68.8ms\n",
      "90:\tlearn: 15.7003955\ttotal: 133ms\tremaining: 67.2ms\n",
      "91:\tlearn: 15.6228430\ttotal: 134ms\tremaining: 65.7ms\n",
      "92:\tlearn: 15.5853724\ttotal: 136ms\tremaining: 64.2ms\n",
      "93:\tlearn: 15.5750351\ttotal: 137ms\tremaining: 62.7ms\n",
      "94:\tlearn: 15.5472768\ttotal: 138ms\tremaining: 61.1ms\n",
      "95:\tlearn: 15.5064949\ttotal: 139ms\tremaining: 59.6ms\n",
      "96:\tlearn: 15.4554532\ttotal: 141ms\tremaining: 58.1ms\n",
      "97:\tlearn: 15.4383944\ttotal: 142ms\tremaining: 56.6ms\n",
      "98:\tlearn: 15.3732653\ttotal: 144ms\tremaining: 55.2ms\n",
      "99:\tlearn: 15.3571465\ttotal: 145ms\tremaining: 53.7ms\n",
      "100:\tlearn: 15.3161667\ttotal: 146ms\tremaining: 52.2ms\n",
      "101:\tlearn: 15.2861446\ttotal: 148ms\tremaining: 50.7ms\n",
      "102:\tlearn: 15.2413050\ttotal: 149ms\tremaining: 49.2ms\n",
      "103:\tlearn: 15.2131442\ttotal: 150ms\tremaining: 47.7ms\n",
      "104:\tlearn: 15.2087258\ttotal: 152ms\tremaining: 46.2ms\n",
      "105:\tlearn: 15.1485122\ttotal: 153ms\tremaining: 44.7ms\n",
      "106:\tlearn: 15.1299698\ttotal: 154ms\tremaining: 43.3ms\n",
      "107:\tlearn: 15.1109144\ttotal: 156ms\tremaining: 41.8ms\n",
      "108:\tlearn: 15.0962521\ttotal: 157ms\tremaining: 40.3ms\n",
      "109:\tlearn: 15.0609201\ttotal: 158ms\tremaining: 38.9ms\n",
      "110:\tlearn: 15.0571456\ttotal: 160ms\tremaining: 37.4ms\n",
      "111:\tlearn: 15.0231095\ttotal: 161ms\tremaining: 35.9ms\n",
      "112:\tlearn: 14.9411641\ttotal: 162ms\tremaining: 34.4ms\n",
      "113:\tlearn: 14.8852538\ttotal: 163ms\tremaining: 33ms\n",
      "114:\tlearn: 14.8608478\ttotal: 165ms\tremaining: 31.5ms\n",
      "115:\tlearn: 14.8309682\ttotal: 166ms\tremaining: 30.1ms\n",
      "116:\tlearn: 14.8109967\ttotal: 167ms\tremaining: 28.6ms\n",
      "117:\tlearn: 14.7963278\ttotal: 169ms\tremaining: 27.2ms\n",
      "118:\tlearn: 14.7346617\ttotal: 170ms\tremaining: 25.7ms\n",
      "119:\tlearn: 14.7045983\ttotal: 171ms\tremaining: 24.3ms\n",
      "120:\tlearn: 14.6325374\ttotal: 173ms\tremaining: 22.8ms\n",
      "121:\tlearn: 14.5652536\ttotal: 174ms\tremaining: 21.4ms\n",
      "122:\tlearn: 14.5139389\ttotal: 176ms\tremaining: 20ms\n",
      "123:\tlearn: 14.4616038\ttotal: 177ms\tremaining: 18.6ms\n",
      "124:\tlearn: 14.4083960\ttotal: 179ms\tremaining: 17.2ms\n",
      "125:\tlearn: 14.3487020\ttotal: 180ms\tremaining: 15.7ms\n",
      "126:\tlearn: 14.3467710\ttotal: 181ms\tremaining: 14.3ms\n",
      "127:\tlearn: 14.3272257\ttotal: 183ms\tremaining: 12.8ms\n",
      "128:\tlearn: 14.3216994\ttotal: 184ms\tremaining: 11.4ms\n",
      "129:\tlearn: 14.3131875\ttotal: 185ms\tremaining: 9.98ms\n",
      "130:\tlearn: 14.3028251\ttotal: 187ms\tremaining: 8.55ms\n",
      "131:\tlearn: 14.2783736\ttotal: 188ms\tremaining: 7.12ms\n",
      "132:\tlearn: 14.2391368\ttotal: 189ms\tremaining: 5.69ms\n",
      "133:\tlearn: 14.1932306\ttotal: 191ms\tremaining: 4.27ms\n",
      "134:\tlearn: 14.1861666\ttotal: 192ms\tremaining: 2.84ms\n",
      "135:\tlearn: 14.1534808\ttotal: 193ms\tremaining: 1.42ms\n",
      "136:\tlearn: 14.1390596\ttotal: 195ms\tremaining: 0us\n",
      "Learning rate set to 0.248953\n",
      "0:\tlearn: 31.9530920\ttotal: 1.84ms\tremaining: 250ms\n",
      "1:\tlearn: 29.2979373\ttotal: 3.71ms\tremaining: 250ms\n",
      "2:\tlearn: 27.4267085\ttotal: 5.41ms\tremaining: 242ms\n",
      "3:\tlearn: 26.5454001\ttotal: 7.04ms\tremaining: 234ms\n",
      "4:\tlearn: 25.6230976\ttotal: 8.64ms\tremaining: 228ms\n",
      "5:\tlearn: 25.0565144\ttotal: 10.2ms\tremaining: 223ms\n",
      "6:\tlearn: 24.7437582\ttotal: 11.8ms\tremaining: 219ms\n",
      "7:\tlearn: 24.1929507\ttotal: 13.4ms\tremaining: 216ms\n",
      "8:\tlearn: 23.8604784\ttotal: 15ms\tremaining: 213ms\n",
      "9:\tlearn: 23.5288105\ttotal: 16.5ms\tremaining: 210ms\n",
      "10:\tlearn: 23.4001281\ttotal: 18.1ms\tremaining: 207ms\n",
      "11:\tlearn: 23.2276107\ttotal: 19.5ms\tremaining: 203ms\n",
      "12:\tlearn: 22.9528326\ttotal: 21.1ms\tremaining: 201ms\n",
      "13:\tlearn: 22.5755022\ttotal: 22.8ms\tremaining: 201ms\n",
      "14:\tlearn: 22.3630270\ttotal: 24.8ms\tremaining: 202ms\n",
      "15:\tlearn: 22.2664949\ttotal: 26.3ms\tremaining: 199ms\n",
      "16:\tlearn: 22.0152233\ttotal: 27.8ms\tremaining: 197ms\n",
      "17:\tlearn: 21.8034883\ttotal: 29.3ms\tremaining: 194ms\n",
      "18:\tlearn: 21.6382313\ttotal: 30.8ms\tremaining: 191ms\n",
      "19:\tlearn: 21.5905490\ttotal: 32.2ms\tremaining: 188ms\n",
      "20:\tlearn: 21.4783811\ttotal: 33.7ms\tremaining: 186ms\n",
      "21:\tlearn: 21.4002103\ttotal: 35.2ms\tremaining: 184ms\n",
      "22:\tlearn: 21.3331041\ttotal: 36.6ms\tremaining: 182ms\n",
      "23:\tlearn: 21.2255347\ttotal: 38.1ms\tremaining: 179ms\n",
      "24:\tlearn: 21.1501823\ttotal: 39.5ms\tremaining: 177ms\n",
      "25:\tlearn: 21.0941417\ttotal: 41.1ms\tremaining: 175ms\n",
      "26:\tlearn: 21.0265497\ttotal: 42.6ms\tremaining: 174ms\n",
      "27:\tlearn: 20.9439734\ttotal: 44.2ms\tremaining: 172ms\n",
      "28:\tlearn: 20.8624242\ttotal: 45.7ms\tremaining: 170ms\n",
      "29:\tlearn: 20.7972442\ttotal: 47.1ms\tremaining: 168ms\n",
      "30:\tlearn: 20.5802945\ttotal: 48.7ms\tremaining: 167ms\n",
      "31:\tlearn: 20.4859413\ttotal: 50.2ms\tremaining: 165ms\n",
      "32:\tlearn: 20.3544114\ttotal: 51.7ms\tremaining: 163ms\n",
      "33:\tlearn: 20.2535346\ttotal: 53.2ms\tremaining: 161ms\n",
      "34:\tlearn: 20.1364684\ttotal: 54.8ms\tremaining: 160ms\n",
      "35:\tlearn: 20.0433792\ttotal: 56.2ms\tremaining: 158ms\n",
      "36:\tlearn: 19.9312135\ttotal: 57.8ms\tremaining: 156ms\n",
      "37:\tlearn: 19.8586162\ttotal: 59.4ms\tremaining: 155ms\n",
      "38:\tlearn: 19.7841255\ttotal: 60.8ms\tremaining: 153ms\n",
      "39:\tlearn: 19.7287532\ttotal: 62.2ms\tremaining: 151ms\n",
      "40:\tlearn: 19.7172053\ttotal: 63.5ms\tremaining: 149ms\n",
      "41:\tlearn: 19.6623847\ttotal: 65ms\tremaining: 147ms\n",
      "42:\tlearn: 19.6189941\ttotal: 66.4ms\tremaining: 145ms\n",
      "43:\tlearn: 19.5282146\ttotal: 67.8ms\tremaining: 143ms\n",
      "44:\tlearn: 19.4510298\ttotal: 69.3ms\tremaining: 142ms\n",
      "45:\tlearn: 19.3850566\ttotal: 70.7ms\tremaining: 140ms\n",
      "46:\tlearn: 19.2213493\ttotal: 72.2ms\tremaining: 138ms\n",
      "47:\tlearn: 19.0851650\ttotal: 73.7ms\tremaining: 137ms\n",
      "48:\tlearn: 19.0060362\ttotal: 75.1ms\tremaining: 135ms\n",
      "49:\tlearn: 18.9554547\ttotal: 76.6ms\tremaining: 133ms\n",
      "50:\tlearn: 18.9229890\ttotal: 78.2ms\tremaining: 132ms\n",
      "51:\tlearn: 18.9123373\ttotal: 79.6ms\tremaining: 130ms\n",
      "52:\tlearn: 18.8420691\ttotal: 81ms\tremaining: 128ms\n",
      "53:\tlearn: 18.7812619\ttotal: 82.6ms\tremaining: 127ms\n",
      "54:\tlearn: 18.7770679\ttotal: 84ms\tremaining: 125ms\n",
      "55:\tlearn: 18.6719402\ttotal: 85.4ms\tremaining: 124ms\n",
      "56:\tlearn: 18.6307868\ttotal: 86.8ms\tremaining: 122ms\n",
      "57:\tlearn: 18.5328169\ttotal: 88.6ms\tremaining: 121ms\n",
      "58:\tlearn: 18.4375471\ttotal: 90.2ms\tremaining: 119ms\n",
      "59:\tlearn: 18.3807902\ttotal: 91.7ms\tremaining: 118ms\n",
      "60:\tlearn: 18.3017125\ttotal: 93.1ms\tremaining: 116ms\n",
      "61:\tlearn: 18.2199766\ttotal: 94.6ms\tremaining: 114ms\n",
      "62:\tlearn: 18.2026317\ttotal: 96ms\tremaining: 113ms\n",
      "63:\tlearn: 18.1601858\ttotal: 97.5ms\tremaining: 111ms\n",
      "64:\tlearn: 18.1173039\ttotal: 98.9ms\tremaining: 110ms\n",
      "65:\tlearn: 17.9857879\ttotal: 100ms\tremaining: 108ms\n",
      "66:\tlearn: 17.9329814\ttotal: 102ms\tremaining: 106ms\n",
      "67:\tlearn: 17.8595918\ttotal: 103ms\tremaining: 105ms\n",
      "68:\tlearn: 17.8428975\ttotal: 105ms\tremaining: 103ms\n",
      "69:\tlearn: 17.7697275\ttotal: 106ms\tremaining: 102ms\n",
      "70:\tlearn: 17.7664482\ttotal: 108ms\tremaining: 100ms\n",
      "71:\tlearn: 17.6952419\ttotal: 109ms\tremaining: 98.5ms\n",
      "72:\tlearn: 17.6689550\ttotal: 111ms\tremaining: 97.1ms\n",
      "73:\tlearn: 17.6395583\ttotal: 112ms\tremaining: 95.5ms\n",
      "74:\tlearn: 17.5821483\ttotal: 114ms\tremaining: 94ms\n",
      "75:\tlearn: 17.5113069\ttotal: 115ms\tremaining: 92.5ms\n",
      "76:\tlearn: 17.4616046\ttotal: 117ms\tremaining: 90.9ms\n",
      "77:\tlearn: 17.4263780\ttotal: 118ms\tremaining: 89.3ms\n",
      "78:\tlearn: 17.4217558\ttotal: 119ms\tremaining: 87.7ms\n",
      "79:\tlearn: 17.4056715\ttotal: 121ms\tremaining: 86.2ms\n",
      "80:\tlearn: 17.3712128\ttotal: 122ms\tremaining: 84.6ms\n",
      "81:\tlearn: 17.3676990\ttotal: 124ms\tremaining: 83.1ms\n",
      "82:\tlearn: 17.2732606\ttotal: 125ms\tremaining: 81.6ms\n",
      "83:\tlearn: 17.1966400\ttotal: 127ms\tremaining: 80.1ms\n",
      "84:\tlearn: 17.1664285\ttotal: 128ms\tremaining: 78.5ms\n",
      "85:\tlearn: 17.1374722\ttotal: 130ms\tremaining: 76.9ms\n",
      "86:\tlearn: 17.0835954\ttotal: 131ms\tremaining: 75.4ms\n",
      "87:\tlearn: 17.0397479\ttotal: 133ms\tremaining: 73.8ms\n",
      "88:\tlearn: 17.0167171\ttotal: 134ms\tremaining: 72.3ms\n",
      "89:\tlearn: 16.9782632\ttotal: 136ms\tremaining: 70.8ms\n",
      "90:\tlearn: 16.8863937\ttotal: 137ms\tremaining: 69.3ms\n",
      "91:\tlearn: 16.8785315\ttotal: 138ms\tremaining: 67.7ms\n",
      "92:\tlearn: 16.8436293\ttotal: 140ms\tremaining: 66.2ms\n",
      "93:\tlearn: 16.7888036\ttotal: 141ms\tremaining: 64.6ms\n",
      "94:\tlearn: 16.7582003\ttotal: 143ms\tremaining: 63.1ms\n",
      "95:\tlearn: 16.7223438\ttotal: 144ms\tremaining: 61.6ms\n",
      "96:\tlearn: 16.6687543\ttotal: 146ms\tremaining: 60.1ms\n",
      "97:\tlearn: 16.6655183\ttotal: 147ms\tremaining: 58.6ms\n",
      "98:\tlearn: 16.6365118\ttotal: 149ms\tremaining: 57.1ms\n",
      "99:\tlearn: 16.5986919\ttotal: 150ms\tremaining: 55.5ms\n",
      "100:\tlearn: 16.5264588\ttotal: 152ms\tremaining: 54ms\n",
      "101:\tlearn: 16.4965463\ttotal: 153ms\tremaining: 52.5ms\n",
      "102:\tlearn: 16.4825742\ttotal: 155ms\tremaining: 51ms\n",
      "103:\tlearn: 16.4592421\ttotal: 156ms\tremaining: 49.5ms\n",
      "104:\tlearn: 16.4297679\ttotal: 157ms\tremaining: 47.9ms\n",
      "105:\tlearn: 16.3548532\ttotal: 159ms\tremaining: 46.4ms\n",
      "106:\tlearn: 16.3386535\ttotal: 160ms\tremaining: 44.9ms\n",
      "107:\tlearn: 16.2999219\ttotal: 162ms\tremaining: 43.4ms\n",
      "108:\tlearn: 16.2729729\ttotal: 163ms\tremaining: 41.9ms\n",
      "109:\tlearn: 16.2128885\ttotal: 165ms\tremaining: 40.4ms\n",
      "110:\tlearn: 16.1800114\ttotal: 166ms\tremaining: 38.9ms\n",
      "111:\tlearn: 16.1372836\ttotal: 168ms\tremaining: 37.4ms\n",
      "112:\tlearn: 16.0937581\ttotal: 169ms\tremaining: 35.9ms\n",
      "113:\tlearn: 16.0578462\ttotal: 170ms\tremaining: 34.4ms\n",
      "114:\tlearn: 16.0191989\ttotal: 172ms\tremaining: 32.9ms\n",
      "115:\tlearn: 15.9982913\ttotal: 173ms\tremaining: 31.4ms\n",
      "116:\tlearn: 15.9366419\ttotal: 175ms\tremaining: 29.9ms\n",
      "117:\tlearn: 15.8699975\ttotal: 176ms\tremaining: 28.4ms\n",
      "118:\tlearn: 15.7914001\ttotal: 178ms\tremaining: 26.9ms\n",
      "119:\tlearn: 15.7747689\ttotal: 180ms\tremaining: 25.4ms\n",
      "120:\tlearn: 15.7279044\ttotal: 181ms\tremaining: 23.9ms\n",
      "121:\tlearn: 15.7122228\ttotal: 183ms\tremaining: 22.4ms\n",
      "122:\tlearn: 15.6586609\ttotal: 184ms\tremaining: 20.9ms\n",
      "123:\tlearn: 15.5952722\ttotal: 185ms\tremaining: 19.4ms\n",
      "124:\tlearn: 15.5768739\ttotal: 187ms\tremaining: 17.9ms\n",
      "125:\tlearn: 15.5740044\ttotal: 188ms\tremaining: 16.4ms\n",
      "126:\tlearn: 15.5274247\ttotal: 190ms\tremaining: 14.9ms\n",
      "127:\tlearn: 15.4897730\ttotal: 191ms\tremaining: 13.5ms\n",
      "128:\tlearn: 15.4464797\ttotal: 193ms\tremaining: 12ms\n",
      "129:\tlearn: 15.4299814\ttotal: 194ms\tremaining: 10.5ms\n",
      "130:\tlearn: 15.4279724\ttotal: 196ms\tremaining: 8.96ms\n",
      "131:\tlearn: 15.4075325\ttotal: 197ms\tremaining: 7.47ms\n",
      "132:\tlearn: 15.3919476\ttotal: 199ms\tremaining: 5.97ms\n",
      "133:\tlearn: 15.3817510\ttotal: 200ms\tremaining: 4.48ms\n",
      "134:\tlearn: 15.3719938\ttotal: 201ms\tremaining: 2.98ms\n",
      "135:\tlearn: 15.3448860\ttotal: 203ms\tremaining: 1.49ms\n",
      "136:\tlearn: 15.3180442\ttotal: 204ms\tremaining: 0us\n",
      "Learning rate set to 0.192026\n",
      "0:\tlearn: 27.1378625\ttotal: 1.07ms\tremaining: 147ms\n",
      "1:\tlearn: 25.2055695\ttotal: 2.1ms\tremaining: 143ms\n",
      "2:\tlearn: 23.5544644\ttotal: 3.06ms\tremaining: 138ms\n",
      "3:\tlearn: 22.2617324\ttotal: 3.92ms\tremaining: 131ms\n",
      "4:\tlearn: 21.3008208\ttotal: 4.77ms\tremaining: 127ms\n",
      "5:\tlearn: 20.6655187\ttotal: 6.05ms\tremaining: 133ms\n",
      "6:\tlearn: 20.1378535\ttotal: 7.1ms\tremaining: 133ms\n",
      "7:\tlearn: 19.4526421\ttotal: 7.95ms\tremaining: 129ms\n",
      "8:\tlearn: 19.0181206\ttotal: 8.84ms\tremaining: 127ms\n",
      "9:\tlearn: 18.5463564\ttotal: 9.66ms\tremaining: 124ms\n",
      "10:\tlearn: 18.2070093\ttotal: 10.5ms\tremaining: 121ms\n",
      "11:\tlearn: 17.8311293\ttotal: 11.4ms\tremaining: 119ms\n",
      "12:\tlearn: 17.6044567\ttotal: 12.2ms\tremaining: 117ms\n",
      "13:\tlearn: 17.4810417\ttotal: 13ms\tremaining: 115ms\n",
      "14:\tlearn: 17.2282671\ttotal: 13.8ms\tremaining: 113ms\n",
      "15:\tlearn: 17.1041856\ttotal: 14.7ms\tremaining: 112ms\n",
      "16:\tlearn: 16.9067933\ttotal: 15.5ms\tremaining: 110ms\n",
      "17:\tlearn: 16.6954926\ttotal: 16.3ms\tremaining: 109ms\n",
      "18:\tlearn: 16.5253793\ttotal: 17.1ms\tremaining: 107ms\n",
      "19:\tlearn: 16.3179036\ttotal: 18ms\tremaining: 106ms\n",
      "20:\tlearn: 16.1264417\ttotal: 18.8ms\tremaining: 105ms\n",
      "21:\tlearn: 16.0526226\ttotal: 19.6ms\tremaining: 103ms\n",
      "22:\tlearn: 15.9267935\ttotal: 20.4ms\tremaining: 102ms\n",
      "23:\tlearn: 15.7602213\ttotal: 21.2ms\tremaining: 101ms\n",
      "24:\tlearn: 15.6689255\ttotal: 22ms\tremaining: 99.7ms\n",
      "25:\tlearn: 15.5142435\ttotal: 22.9ms\tremaining: 98.5ms\n",
      "26:\tlearn: 15.3911373\ttotal: 23.7ms\tremaining: 97.4ms\n",
      "27:\tlearn: 15.2592572\ttotal: 24.5ms\tremaining: 96.3ms\n",
      "28:\tlearn: 15.1876047\ttotal: 25.4ms\tremaining: 95.3ms\n",
      "29:\tlearn: 15.0176210\ttotal: 26.2ms\tremaining: 94.3ms\n",
      "30:\tlearn: 14.9051899\ttotal: 27ms\tremaining: 93.2ms\n",
      "31:\tlearn: 14.7308473\ttotal: 27.8ms\tremaining: 92.2ms\n",
      "32:\tlearn: 14.5962717\ttotal: 28.6ms\tremaining: 91ms\n",
      "33:\tlearn: 14.5080332\ttotal: 29.4ms\tremaining: 89.9ms\n",
      "34:\tlearn: 14.4071971\ttotal: 30.2ms\tremaining: 88.9ms\n",
      "35:\tlearn: 14.2763013\ttotal: 31ms\tremaining: 87.9ms\n",
      "36:\tlearn: 14.2445998\ttotal: 31.8ms\tremaining: 86.9ms\n",
      "37:\tlearn: 14.1544235\ttotal: 32.6ms\tremaining: 85.8ms\n",
      "38:\tlearn: 14.0596223\ttotal: 33.6ms\tremaining: 85.2ms\n",
      "39:\tlearn: 13.9088289\ttotal: 34.3ms\tremaining: 84.2ms\n",
      "40:\tlearn: 13.8282827\ttotal: 35.2ms\tremaining: 83.3ms\n",
      "41:\tlearn: 13.7352671\ttotal: 36.4ms\tremaining: 83.1ms\n",
      "42:\tlearn: 13.6938682\ttotal: 37.6ms\tremaining: 83ms\n",
      "43:\tlearn: 13.6074040\ttotal: 38.6ms\tremaining: 82.4ms\n",
      "44:\tlearn: 13.4902903\ttotal: 39.4ms\tremaining: 81.4ms\n",
      "45:\tlearn: 13.4553035\ttotal: 40.2ms\tremaining: 80.4ms\n",
      "46:\tlearn: 13.3868096\ttotal: 41ms\tremaining: 79.5ms\n",
      "47:\tlearn: 13.2511453\ttotal: 41.9ms\tremaining: 78.6ms\n",
      "48:\tlearn: 13.2362909\ttotal: 42.7ms\tremaining: 77.6ms\n",
      "49:\tlearn: 13.2041736\ttotal: 43.5ms\tremaining: 76.6ms\n",
      "50:\tlearn: 13.1525053\ttotal: 44.4ms\tremaining: 75.7ms\n",
      "51:\tlearn: 13.1451623\ttotal: 45.2ms\tremaining: 74.8ms\n",
      "52:\tlearn: 13.1282253\ttotal: 46.1ms\tremaining: 73.9ms\n",
      "53:\tlearn: 12.9437846\ttotal: 46.9ms\tremaining: 73ms\n",
      "54:\tlearn: 12.8676712\ttotal: 47.8ms\tremaining: 72.2ms\n",
      "55:\tlearn: 12.7533614\ttotal: 48.6ms\tremaining: 71.2ms\n",
      "56:\tlearn: 12.7464258\ttotal: 49.5ms\tremaining: 70.3ms\n",
      "57:\tlearn: 12.6596159\ttotal: 50.3ms\tremaining: 69.4ms\n",
      "58:\tlearn: 12.6302896\ttotal: 51.1ms\tremaining: 68.5ms\n",
      "59:\tlearn: 12.4801325\ttotal: 52ms\tremaining: 67.5ms\n",
      "60:\tlearn: 12.4068230\ttotal: 52.8ms\tremaining: 66.6ms\n",
      "61:\tlearn: 12.3211652\ttotal: 53.7ms\tremaining: 65.8ms\n",
      "62:\tlearn: 12.2537939\ttotal: 54.5ms\tremaining: 64.9ms\n",
      "63:\tlearn: 12.2491557\ttotal: 54.9ms\tremaining: 63.5ms\n",
      "64:\tlearn: 12.1524693\ttotal: 55.7ms\tremaining: 62.6ms\n",
      "65:\tlearn: 12.1170815\ttotal: 56.5ms\tremaining: 61.7ms\n",
      "66:\tlearn: 11.9710299\ttotal: 57.4ms\tremaining: 60.8ms\n",
      "67:\tlearn: 11.9073531\ttotal: 58.3ms\tremaining: 60ms\n",
      "68:\tlearn: 11.8018535\ttotal: 59.2ms\tremaining: 59.2ms\n",
      "69:\tlearn: 11.7921046\ttotal: 60ms\tremaining: 58.3ms\n",
      "70:\tlearn: 11.6964847\ttotal: 60.9ms\tremaining: 57.5ms\n",
      "71:\tlearn: 11.5579238\ttotal: 61.8ms\tremaining: 56.6ms\n",
      "72:\tlearn: 11.4350235\ttotal: 62.6ms\tremaining: 55.8ms\n",
      "73:\tlearn: 11.3971892\ttotal: 63.5ms\tremaining: 54.9ms\n",
      "74:\tlearn: 11.3297012\ttotal: 64.3ms\tremaining: 54ms\n",
      "75:\tlearn: 11.2700188\ttotal: 65.2ms\tremaining: 53.2ms\n",
      "76:\tlearn: 11.2417260\ttotal: 66ms\tremaining: 52.3ms\n",
      "77:\tlearn: 11.1587362\ttotal: 66.8ms\tremaining: 51.4ms\n",
      "78:\tlearn: 11.1259284\ttotal: 67.6ms\tremaining: 50.5ms\n",
      "79:\tlearn: 11.0308435\ttotal: 68.4ms\tremaining: 49.6ms\n",
      "80:\tlearn: 10.9216362\ttotal: 69.2ms\tremaining: 48.7ms\n",
      "81:\tlearn: 10.8380636\ttotal: 70.1ms\tremaining: 47.9ms\n",
      "82:\tlearn: 10.7795339\ttotal: 71.4ms\tremaining: 47.3ms\n",
      "83:\tlearn: 10.6631267\ttotal: 72.7ms\tremaining: 46.7ms\n",
      "84:\tlearn: 10.5953131\ttotal: 74ms\tremaining: 46.1ms\n",
      "85:\tlearn: 10.5663489\ttotal: 74.8ms\tremaining: 45.2ms\n",
      "86:\tlearn: 10.5203760\ttotal: 75.6ms\tremaining: 44.3ms\n",
      "87:\tlearn: 10.4857915\ttotal: 76.4ms\tremaining: 43.4ms\n",
      "88:\tlearn: 10.3931898\ttotal: 77.3ms\tremaining: 42.6ms\n",
      "89:\tlearn: 10.3347478\ttotal: 78.3ms\tremaining: 41.7ms\n",
      "90:\tlearn: 10.2571375\ttotal: 79.1ms\tremaining: 40.9ms\n",
      "91:\tlearn: 10.2298663\ttotal: 79.9ms\tremaining: 40ms\n",
      "92:\tlearn: 10.1354510\ttotal: 80.8ms\tremaining: 39.1ms\n",
      "93:\tlearn: 10.0472506\ttotal: 81.7ms\tremaining: 38.2ms\n",
      "94:\tlearn: 9.9608241\ttotal: 82.5ms\tremaining: 37.4ms\n",
      "95:\tlearn: 9.9009292\ttotal: 83.4ms\tremaining: 36.5ms\n",
      "96:\tlearn: 9.8408275\ttotal: 84.4ms\tremaining: 35.7ms\n",
      "97:\tlearn: 9.7382538\ttotal: 85.2ms\tremaining: 34.8ms\n",
      "98:\tlearn: 9.6747311\ttotal: 86ms\tremaining: 33.9ms\n",
      "99:\tlearn: 9.6165184\ttotal: 86.9ms\tremaining: 33ms\n",
      "100:\tlearn: 9.5446190\ttotal: 87.8ms\tremaining: 32.2ms\n",
      "101:\tlearn: 9.4933550\ttotal: 88.6ms\tremaining: 31.3ms\n",
      "102:\tlearn: 9.4356300\ttotal: 89.4ms\tremaining: 30.4ms\n",
      "103:\tlearn: 9.3943394\ttotal: 90.2ms\tremaining: 29.5ms\n",
      "104:\tlearn: 9.3922655\ttotal: 91.1ms\tremaining: 28.6ms\n",
      "105:\tlearn: 9.3368244\ttotal: 92ms\tremaining: 27.8ms\n",
      "106:\tlearn: 9.3220541\ttotal: 92.9ms\tremaining: 26.9ms\n",
      "107:\tlearn: 9.2809238\ttotal: 93.7ms\tremaining: 26ms\n",
      "108:\tlearn: 9.2510831\ttotal: 94.5ms\tremaining: 25.1ms\n",
      "109:\tlearn: 9.2407907\ttotal: 95.4ms\tremaining: 24.3ms\n",
      "110:\tlearn: 9.1876756\ttotal: 96.3ms\tremaining: 23.4ms\n",
      "111:\tlearn: 9.1437466\ttotal: 97.1ms\tremaining: 22.5ms\n",
      "112:\tlearn: 9.1242875\ttotal: 97.9ms\tremaining: 21.7ms\n",
      "113:\tlearn: 9.1199784\ttotal: 98.7ms\tremaining: 20.8ms\n",
      "114:\tlearn: 9.0744810\ttotal: 99.5ms\tremaining: 19.9ms\n",
      "115:\tlearn: 9.0335358\ttotal: 100ms\tremaining: 19ms\n",
      "116:\tlearn: 8.9588811\ttotal: 101ms\tremaining: 18.2ms\n",
      "117:\tlearn: 8.9569060\ttotal: 102ms\tremaining: 17.3ms\n",
      "118:\tlearn: 8.8830878\ttotal: 103ms\tremaining: 16.4ms\n",
      "119:\tlearn: 8.8302986\ttotal: 104ms\tremaining: 15.6ms\n",
      "120:\tlearn: 8.8291146\ttotal: 105ms\tremaining: 14.7ms\n",
      "121:\tlearn: 8.7763190\ttotal: 105ms\tremaining: 13.8ms\n",
      "122:\tlearn: 8.7133861\ttotal: 106ms\tremaining: 13ms\n",
      "123:\tlearn: 8.6647719\ttotal: 107ms\tremaining: 12.1ms\n",
      "124:\tlearn: 8.6115595\ttotal: 108ms\tremaining: 11.3ms\n",
      "125:\tlearn: 8.5755869\ttotal: 109ms\tremaining: 10.4ms\n",
      "126:\tlearn: 8.5546628\ttotal: 110ms\tremaining: 9.52ms\n",
      "127:\tlearn: 8.5532490\ttotal: 111ms\tremaining: 8.65ms\n",
      "128:\tlearn: 8.5441862\ttotal: 112ms\tremaining: 7.79ms\n",
      "129:\tlearn: 8.4869272\ttotal: 113ms\tremaining: 6.93ms\n",
      "130:\tlearn: 8.4444568\ttotal: 113ms\tremaining: 6.06ms\n",
      "131:\tlearn: 8.3964539\ttotal: 114ms\tremaining: 5.2ms\n",
      "132:\tlearn: 8.3116332\ttotal: 115ms\tremaining: 4.33ms\n",
      "133:\tlearn: 8.2643096\ttotal: 116ms\tremaining: 3.47ms\n",
      "134:\tlearn: 8.2475428\ttotal: 117ms\tremaining: 2.6ms\n",
      "135:\tlearn: 8.2176468\ttotal: 118ms\tremaining: 1.73ms\n",
      "136:\tlearn: 8.1414551\ttotal: 119ms\tremaining: 866us\n",
      "137:\tlearn: 8.1004561\ttotal: 120ms\tremaining: 0us\n",
      "Learning rate set to 0.214175\n",
      "0:\tlearn: 27.9815253\ttotal: 1.25ms\tremaining: 171ms\n",
      "1:\tlearn: 26.2467683\ttotal: 2.43ms\tremaining: 165ms\n",
      "2:\tlearn: 24.5362274\ttotal: 3.56ms\tremaining: 160ms\n",
      "3:\tlearn: 23.4909371\ttotal: 4.67ms\tremaining: 156ms\n",
      "4:\tlearn: 22.5463301\ttotal: 5.73ms\tremaining: 152ms\n",
      "5:\tlearn: 21.7582292\ttotal: 6.75ms\tremaining: 149ms\n",
      "6:\tlearn: 21.4434611\ttotal: 7.82ms\tremaining: 146ms\n",
      "7:\tlearn: 20.8470177\ttotal: 8.82ms\tremaining: 143ms\n",
      "8:\tlearn: 20.4408341\ttotal: 9.79ms\tremaining: 140ms\n",
      "9:\tlearn: 20.1813799\ttotal: 10.8ms\tremaining: 138ms\n",
      "10:\tlearn: 19.8407185\ttotal: 11.8ms\tremaining: 136ms\n",
      "11:\tlearn: 19.4674911\ttotal: 12.8ms\tremaining: 135ms\n",
      "12:\tlearn: 19.1890396\ttotal: 13.8ms\tremaining: 133ms\n",
      "13:\tlearn: 19.0104223\ttotal: 14.9ms\tremaining: 132ms\n",
      "14:\tlearn: 18.8554289\ttotal: 15.9ms\tremaining: 130ms\n",
      "15:\tlearn: 18.7775696\ttotal: 16.8ms\tremaining: 128ms\n",
      "16:\tlearn: 18.5495078\ttotal: 17.9ms\tremaining: 127ms\n",
      "17:\tlearn: 18.3897451\ttotal: 18.8ms\tremaining: 126ms\n",
      "18:\tlearn: 18.1747844\ttotal: 19.8ms\tremaining: 124ms\n",
      "19:\tlearn: 18.0185208\ttotal: 20.8ms\tremaining: 123ms\n",
      "20:\tlearn: 17.8641982\ttotal: 21.8ms\tremaining: 121ms\n",
      "21:\tlearn: 17.7799860\ttotal: 22.7ms\tremaining: 120ms\n",
      "22:\tlearn: 17.7222706\ttotal: 23.7ms\tremaining: 118ms\n",
      "23:\tlearn: 17.6307391\ttotal: 24.7ms\tremaining: 117ms\n",
      "24:\tlearn: 17.5164657\ttotal: 25.6ms\tremaining: 116ms\n",
      "25:\tlearn: 17.4164787\ttotal: 26.6ms\tremaining: 115ms\n",
      "26:\tlearn: 17.3684405\ttotal: 27.5ms\tremaining: 113ms\n",
      "27:\tlearn: 17.2562846\ttotal: 28.5ms\tremaining: 112ms\n",
      "28:\tlearn: 17.1726083\ttotal: 29.5ms\tremaining: 111ms\n",
      "29:\tlearn: 17.0189939\ttotal: 30.5ms\tremaining: 110ms\n",
      "30:\tlearn: 16.8661475\ttotal: 31.4ms\tremaining: 109ms\n",
      "31:\tlearn: 16.8257330\ttotal: 32.4ms\tremaining: 107ms\n",
      "32:\tlearn: 16.7412979\ttotal: 33.4ms\tremaining: 106ms\n",
      "33:\tlearn: 16.6931703\ttotal: 34.4ms\tremaining: 105ms\n",
      "34:\tlearn: 16.5741037\ttotal: 35.4ms\tremaining: 104ms\n",
      "35:\tlearn: 16.3968190\ttotal: 36.4ms\tremaining: 103ms\n",
      "36:\tlearn: 16.3747913\ttotal: 37.4ms\tremaining: 102ms\n",
      "37:\tlearn: 16.2988911\ttotal: 38.4ms\tremaining: 101ms\n",
      "38:\tlearn: 16.2725789\ttotal: 39.3ms\tremaining: 99.8ms\n",
      "39:\tlearn: 16.1557482\ttotal: 40.4ms\tremaining: 98.9ms\n",
      "40:\tlearn: 16.1144588\ttotal: 41.3ms\tremaining: 97.7ms\n",
      "41:\tlearn: 16.0166953\ttotal: 42.3ms\tremaining: 96.8ms\n",
      "42:\tlearn: 15.9319898\ttotal: 43.5ms\tremaining: 96.2ms\n",
      "43:\tlearn: 15.9154385\ttotal: 44.6ms\tremaining: 95.3ms\n",
      "44:\tlearn: 15.8526660\ttotal: 45.6ms\tremaining: 94.3ms\n",
      "45:\tlearn: 15.7137856\ttotal: 46.7ms\tremaining: 93.4ms\n",
      "46:\tlearn: 15.6392978\ttotal: 47.7ms\tremaining: 92.4ms\n",
      "47:\tlearn: 15.6350272\ttotal: 48.7ms\tremaining: 91.3ms\n",
      "48:\tlearn: 15.5814904\ttotal: 49.7ms\tremaining: 90.3ms\n",
      "49:\tlearn: 15.5777611\ttotal: 50.7ms\tremaining: 89.2ms\n",
      "50:\tlearn: 15.5425960\ttotal: 51.7ms\tremaining: 88.2ms\n",
      "51:\tlearn: 15.4144223\ttotal: 52.7ms\tremaining: 87.2ms\n",
      "52:\tlearn: 15.3675996\ttotal: 53.7ms\tremaining: 86.1ms\n",
      "53:\tlearn: 15.2375986\ttotal: 54.7ms\tremaining: 85.1ms\n",
      "54:\tlearn: 15.1531251\ttotal: 55.7ms\tremaining: 84.1ms\n",
      "55:\tlearn: 15.0444252\ttotal: 56.7ms\tremaining: 83.1ms\n",
      "56:\tlearn: 14.9349265\ttotal: 57.8ms\tremaining: 82.1ms\n",
      "57:\tlearn: 14.8394879\ttotal: 59ms\tremaining: 81.4ms\n",
      "58:\tlearn: 14.8360945\ttotal: 60.1ms\tremaining: 80.4ms\n",
      "59:\tlearn: 14.7627184\ttotal: 61.2ms\tremaining: 79.5ms\n",
      "60:\tlearn: 14.7586894\ttotal: 62.2ms\tremaining: 78.5ms\n",
      "61:\tlearn: 14.7192980\ttotal: 63.2ms\tremaining: 77.4ms\n",
      "62:\tlearn: 14.6442634\ttotal: 64.2ms\tremaining: 76.4ms\n",
      "63:\tlearn: 14.5442460\ttotal: 65.3ms\tremaining: 75.5ms\n",
      "64:\tlearn: 14.4447017\ttotal: 66.3ms\tremaining: 74.4ms\n",
      "65:\tlearn: 14.3340431\ttotal: 67.3ms\tremaining: 73.4ms\n",
      "66:\tlearn: 14.2192087\ttotal: 68.3ms\tremaining: 72.4ms\n",
      "67:\tlearn: 14.2163516\ttotal: 69.3ms\tremaining: 71.3ms\n",
      "68:\tlearn: 14.1384196\ttotal: 70.2ms\tremaining: 70.2ms\n",
      "69:\tlearn: 14.0345791\ttotal: 71.2ms\tremaining: 69.2ms\n",
      "70:\tlearn: 14.0117618\ttotal: 72.2ms\tremaining: 68.1ms\n",
      "71:\tlearn: 13.9615281\ttotal: 73.1ms\tremaining: 67ms\n",
      "72:\tlearn: 13.9172760\ttotal: 74.1ms\tremaining: 66ms\n",
      "73:\tlearn: 13.8392800\ttotal: 75.2ms\tremaining: 65.1ms\n",
      "74:\tlearn: 13.7897201\ttotal: 76.2ms\tremaining: 64ms\n",
      "75:\tlearn: 13.7272251\ttotal: 77.2ms\tremaining: 63ms\n",
      "76:\tlearn: 13.6793898\ttotal: 78.2ms\tremaining: 62ms\n",
      "77:\tlearn: 13.6748653\ttotal: 79.2ms\tremaining: 60.9ms\n",
      "78:\tlearn: 13.6415422\ttotal: 80.1ms\tremaining: 59.9ms\n",
      "79:\tlearn: 13.6096994\ttotal: 81.1ms\tremaining: 58.8ms\n",
      "80:\tlearn: 13.5790529\ttotal: 82.2ms\tremaining: 57.8ms\n",
      "81:\tlearn: 13.5614257\ttotal: 83.2ms\tremaining: 56.8ms\n",
      "82:\tlearn: 13.4670368\ttotal: 84.3ms\tremaining: 55.9ms\n",
      "83:\tlearn: 13.4234178\ttotal: 85.4ms\tremaining: 54.9ms\n",
      "84:\tlearn: 13.3034083\ttotal: 86.5ms\tremaining: 53.9ms\n",
      "85:\tlearn: 13.2156483\ttotal: 87.5ms\tremaining: 52.9ms\n",
      "86:\tlearn: 13.1730989\ttotal: 88.6ms\tremaining: 51.9ms\n",
      "87:\tlearn: 13.0808727\ttotal: 89.6ms\tremaining: 50.9ms\n",
      "88:\tlearn: 13.0100113\ttotal: 90.7ms\tremaining: 49.9ms\n",
      "89:\tlearn: 13.0071730\ttotal: 91.6ms\tremaining: 48.9ms\n",
      "90:\tlearn: 12.9851470\ttotal: 92.6ms\tremaining: 47.8ms\n",
      "91:\tlearn: 12.8785263\ttotal: 93.7ms\tremaining: 46.8ms\n",
      "92:\tlearn: 12.8758838\ttotal: 94.7ms\tremaining: 45.8ms\n",
      "93:\tlearn: 12.7952479\ttotal: 95.8ms\tremaining: 44.8ms\n",
      "94:\tlearn: 12.7545732\ttotal: 96.8ms\tremaining: 43.8ms\n",
      "95:\tlearn: 12.7317436\ttotal: 97.8ms\tremaining: 42.8ms\n",
      "96:\tlearn: 12.6597639\ttotal: 98.8ms\tremaining: 41.8ms\n",
      "97:\tlearn: 12.6295660\ttotal: 99.8ms\tremaining: 40.7ms\n",
      "98:\tlearn: 12.6246134\ttotal: 101ms\tremaining: 39.7ms\n",
      "99:\tlearn: 12.5821215\ttotal: 102ms\tremaining: 38.7ms\n",
      "100:\tlearn: 12.5366809\ttotal: 103ms\tremaining: 37.7ms\n",
      "101:\tlearn: 12.5080071\ttotal: 104ms\tremaining: 36.7ms\n",
      "102:\tlearn: 12.4897168\ttotal: 105ms\tremaining: 35.8ms\n",
      "103:\tlearn: 12.4386009\ttotal: 106ms\tremaining: 34.8ms\n",
      "104:\tlearn: 12.3604129\ttotal: 108ms\tremaining: 33.8ms\n",
      "105:\tlearn: 12.3131904\ttotal: 109ms\tremaining: 32.8ms\n",
      "106:\tlearn: 12.2859944\ttotal: 110ms\tremaining: 31.8ms\n",
      "107:\tlearn: 12.2311471\ttotal: 111ms\tremaining: 30.7ms\n",
      "108:\tlearn: 12.1622955\ttotal: 112ms\tremaining: 29.7ms\n",
      "109:\tlearn: 12.0876511\ttotal: 113ms\tremaining: 28.7ms\n",
      "110:\tlearn: 12.0837331\ttotal: 114ms\tremaining: 27.7ms\n",
      "111:\tlearn: 12.0587380\ttotal: 115ms\tremaining: 26.7ms\n",
      "112:\tlearn: 12.0012575\ttotal: 116ms\tremaining: 25.7ms\n",
      "113:\tlearn: 11.9798009\ttotal: 117ms\tremaining: 24.7ms\n",
      "114:\tlearn: 11.9434829\ttotal: 118ms\tremaining: 23.7ms\n",
      "115:\tlearn: 11.9119507\ttotal: 119ms\tremaining: 22.6ms\n",
      "116:\tlearn: 11.8500019\ttotal: 120ms\tremaining: 21.6ms\n",
      "117:\tlearn: 11.7768528\ttotal: 122ms\tremaining: 20.6ms\n",
      "118:\tlearn: 11.7035774\ttotal: 123ms\tremaining: 19.6ms\n",
      "119:\tlearn: 11.6735183\ttotal: 124ms\tremaining: 18.6ms\n",
      "120:\tlearn: 11.5973007\ttotal: 125ms\tremaining: 17.5ms\n",
      "121:\tlearn: 11.5287255\ttotal: 126ms\tremaining: 16.5ms\n",
      "122:\tlearn: 11.4807301\ttotal: 127ms\tremaining: 15.5ms\n",
      "123:\tlearn: 11.4631096\ttotal: 128ms\tremaining: 14.5ms\n",
      "124:\tlearn: 11.4465519\ttotal: 129ms\tremaining: 13.4ms\n",
      "125:\tlearn: 11.3643901\ttotal: 130ms\tremaining: 12.4ms\n",
      "126:\tlearn: 11.3200236\ttotal: 131ms\tremaining: 11.4ms\n",
      "127:\tlearn: 11.2635073\ttotal: 133ms\tremaining: 10.4ms\n",
      "128:\tlearn: 11.2401424\ttotal: 134ms\tremaining: 9.32ms\n",
      "129:\tlearn: 11.2130058\ttotal: 135ms\tremaining: 8.29ms\n",
      "130:\tlearn: 11.1800709\ttotal: 136ms\tremaining: 7.26ms\n",
      "131:\tlearn: 11.1658783\ttotal: 137ms\tremaining: 6.22ms\n",
      "132:\tlearn: 11.1357092\ttotal: 138ms\tremaining: 5.19ms\n",
      "133:\tlearn: 11.1195032\ttotal: 139ms\tremaining: 4.15ms\n",
      "134:\tlearn: 11.0750452\ttotal: 140ms\tremaining: 3.11ms\n",
      "135:\tlearn: 11.0356267\ttotal: 141ms\tremaining: 2.08ms\n",
      "136:\tlearn: 10.9935201\ttotal: 142ms\tremaining: 1.04ms\n",
      "137:\tlearn: 10.9631790\ttotal: 143ms\tremaining: 0us\n",
      "Learning rate set to 0.228317\n",
      "0:\tlearn: 29.3159518\ttotal: 1.5ms\tremaining: 205ms\n",
      "1:\tlearn: 27.0756536\ttotal: 2.88ms\tremaining: 196ms\n",
      "2:\tlearn: 25.5671865\ttotal: 4.17ms\tremaining: 187ms\n",
      "3:\tlearn: 24.5224125\ttotal: 5.43ms\tremaining: 182ms\n",
      "4:\tlearn: 23.8375072\ttotal: 6.67ms\tremaining: 177ms\n",
      "5:\tlearn: 23.2901637\ttotal: 7.87ms\tremaining: 173ms\n",
      "6:\tlearn: 22.6591387\ttotal: 9.08ms\tremaining: 170ms\n",
      "7:\tlearn: 22.1392360\ttotal: 10.3ms\tremaining: 167ms\n",
      "8:\tlearn: 21.7627040\ttotal: 11.5ms\tremaining: 165ms\n",
      "9:\tlearn: 21.5779867\ttotal: 12.7ms\tremaining: 163ms\n",
      "10:\tlearn: 21.4077408\ttotal: 13.9ms\tremaining: 161ms\n",
      "11:\tlearn: 21.2619026\ttotal: 15.1ms\tremaining: 158ms\n",
      "12:\tlearn: 20.8773337\ttotal: 16.3ms\tremaining: 157ms\n",
      "13:\tlearn: 20.7844256\ttotal: 17.4ms\tremaining: 154ms\n",
      "14:\tlearn: 20.6669763\ttotal: 18.6ms\tremaining: 153ms\n",
      "15:\tlearn: 20.5345333\ttotal: 19.8ms\tremaining: 151ms\n",
      "16:\tlearn: 20.2833193\ttotal: 20.9ms\tremaining: 149ms\n",
      "17:\tlearn: 20.1085704\ttotal: 22.1ms\tremaining: 147ms\n",
      "18:\tlearn: 19.8852444\ttotal: 23.3ms\tremaining: 146ms\n",
      "19:\tlearn: 19.7172389\ttotal: 24.6ms\tremaining: 145ms\n",
      "20:\tlearn: 19.6498667\ttotal: 25.8ms\tremaining: 144ms\n",
      "21:\tlearn: 19.5186281\ttotal: 27.1ms\tremaining: 143ms\n",
      "22:\tlearn: 19.4319191\ttotal: 28.4ms\tremaining: 142ms\n",
      "23:\tlearn: 19.4062229\ttotal: 29.7ms\tremaining: 141ms\n",
      "24:\tlearn: 19.3146542\ttotal: 31ms\tremaining: 140ms\n",
      "25:\tlearn: 19.2041936\ttotal: 32.2ms\tremaining: 139ms\n",
      "26:\tlearn: 19.1406878\ttotal: 33.3ms\tremaining: 137ms\n",
      "27:\tlearn: 19.0220676\ttotal: 34.6ms\tremaining: 136ms\n",
      "28:\tlearn: 18.9530162\ttotal: 35.9ms\tremaining: 135ms\n",
      "29:\tlearn: 18.7709502\ttotal: 37.1ms\tremaining: 134ms\n",
      "30:\tlearn: 18.7068504\ttotal: 38.4ms\tremaining: 133ms\n",
      "31:\tlearn: 18.6746201\ttotal: 39.6ms\tremaining: 131ms\n",
      "32:\tlearn: 18.6003631\ttotal: 40.8ms\tremaining: 130ms\n",
      "33:\tlearn: 18.5296780\ttotal: 42.1ms\tremaining: 129ms\n",
      "34:\tlearn: 18.4597137\ttotal: 43.2ms\tremaining: 127ms\n",
      "35:\tlearn: 18.2235475\ttotal: 44.6ms\tremaining: 126ms\n",
      "36:\tlearn: 18.1321145\ttotal: 45.7ms\tremaining: 125ms\n",
      "37:\tlearn: 18.0039609\ttotal: 46.9ms\tremaining: 123ms\n",
      "38:\tlearn: 17.9544050\ttotal: 48ms\tremaining: 122ms\n",
      "39:\tlearn: 17.8931839\ttotal: 49.1ms\tremaining: 120ms\n",
      "40:\tlearn: 17.8220763\ttotal: 50.2ms\tremaining: 119ms\n",
      "41:\tlearn: 17.6825716\ttotal: 51.4ms\tremaining: 117ms\n",
      "42:\tlearn: 17.6359745\ttotal: 52.5ms\tremaining: 116ms\n",
      "43:\tlearn: 17.6007820\ttotal: 53.7ms\tremaining: 115ms\n",
      "44:\tlearn: 17.4931082\ttotal: 54.9ms\tremaining: 114ms\n",
      "45:\tlearn: 17.3901025\ttotal: 56.1ms\tremaining: 112ms\n",
      "46:\tlearn: 17.2907864\ttotal: 57.3ms\tremaining: 111ms\n",
      "47:\tlearn: 17.2756922\ttotal: 58.5ms\tremaining: 110ms\n",
      "48:\tlearn: 17.2069176\ttotal: 59.9ms\tremaining: 109ms\n",
      "49:\tlearn: 17.1770578\ttotal: 61.2ms\tremaining: 108ms\n",
      "50:\tlearn: 17.1611970\ttotal: 62.4ms\tremaining: 106ms\n",
      "51:\tlearn: 17.0285827\ttotal: 63.7ms\tremaining: 105ms\n",
      "52:\tlearn: 16.9125159\ttotal: 65.7ms\tremaining: 105ms\n",
      "53:\tlearn: 16.8834431\ttotal: 67ms\tremaining: 104ms\n",
      "54:\tlearn: 16.7726390\ttotal: 68.3ms\tremaining: 103ms\n",
      "55:\tlearn: 16.7032918\ttotal: 69.5ms\tremaining: 102ms\n",
      "56:\tlearn: 16.5567529\ttotal: 70.7ms\tremaining: 100ms\n",
      "57:\tlearn: 16.4908486\ttotal: 71.9ms\tremaining: 99.2ms\n",
      "58:\tlearn: 16.4740464\ttotal: 73ms\tremaining: 97.7ms\n",
      "59:\tlearn: 16.3640948\ttotal: 74.2ms\tremaining: 96.5ms\n",
      "60:\tlearn: 16.2746979\ttotal: 75.4ms\tremaining: 95.2ms\n",
      "61:\tlearn: 16.2362277\ttotal: 76.6ms\tremaining: 93.9ms\n",
      "62:\tlearn: 16.1837012\ttotal: 77.9ms\tremaining: 92.7ms\n",
      "63:\tlearn: 16.1431174\ttotal: 79.1ms\tremaining: 91.4ms\n",
      "64:\tlearn: 16.0189381\ttotal: 80.4ms\tremaining: 90.3ms\n",
      "65:\tlearn: 15.9761801\ttotal: 81.7ms\tremaining: 89.1ms\n",
      "66:\tlearn: 15.9496659\ttotal: 82.8ms\tremaining: 87.8ms\n",
      "67:\tlearn: 15.8843260\ttotal: 84ms\tremaining: 86.5ms\n",
      "68:\tlearn: 15.8783533\ttotal: 85.1ms\tremaining: 85.1ms\n",
      "69:\tlearn: 15.8078544\ttotal: 86.2ms\tremaining: 83.8ms\n",
      "70:\tlearn: 15.7760617\ttotal: 87.3ms\tremaining: 82.4ms\n",
      "71:\tlearn: 15.7039293\ttotal: 88.4ms\tremaining: 81ms\n",
      "72:\tlearn: 15.6200522\ttotal: 89.6ms\tremaining: 79.7ms\n",
      "73:\tlearn: 15.5209638\ttotal: 90.7ms\tremaining: 78.5ms\n",
      "74:\tlearn: 15.4062134\ttotal: 91.9ms\tremaining: 77.2ms\n",
      "75:\tlearn: 15.3366077\ttotal: 93.1ms\tremaining: 75.9ms\n",
      "76:\tlearn: 15.2545893\ttotal: 94.3ms\tremaining: 74.7ms\n",
      "77:\tlearn: 15.2226093\ttotal: 95.4ms\tremaining: 73.4ms\n",
      "78:\tlearn: 15.1832138\ttotal: 96.6ms\tremaining: 72.1ms\n",
      "79:\tlearn: 15.1473323\ttotal: 97.8ms\tremaining: 70.9ms\n",
      "80:\tlearn: 15.0974968\ttotal: 99ms\tremaining: 69.7ms\n",
      "81:\tlearn: 14.9914668\ttotal: 100ms\tremaining: 68.4ms\n",
      "82:\tlearn: 14.9344107\ttotal: 102ms\tremaining: 67.3ms\n",
      "83:\tlearn: 14.9318078\ttotal: 103ms\tremaining: 66ms\n",
      "84:\tlearn: 14.8707115\ttotal: 104ms\tremaining: 64.8ms\n",
      "85:\tlearn: 14.8407260\ttotal: 105ms\tremaining: 63.5ms\n",
      "86:\tlearn: 14.8227891\ttotal: 106ms\tremaining: 62.2ms\n",
      "87:\tlearn: 14.7739363\ttotal: 107ms\tremaining: 61ms\n",
      "88:\tlearn: 14.7037111\ttotal: 109ms\tremaining: 59.8ms\n",
      "89:\tlearn: 14.7012675\ttotal: 110ms\tremaining: 58.5ms\n",
      "90:\tlearn: 14.6102087\ttotal: 111ms\tremaining: 57.3ms\n",
      "91:\tlearn: 14.5891474\ttotal: 112ms\tremaining: 56ms\n",
      "92:\tlearn: 14.5236518\ttotal: 113ms\tremaining: 54.8ms\n",
      "93:\tlearn: 14.4288574\ttotal: 115ms\tremaining: 53.8ms\n",
      "94:\tlearn: 14.3971854\ttotal: 116ms\tremaining: 52.6ms\n",
      "95:\tlearn: 14.3612480\ttotal: 117ms\tremaining: 51.3ms\n",
      "96:\tlearn: 14.3307456\ttotal: 119ms\tremaining: 50.1ms\n",
      "97:\tlearn: 14.2851245\ttotal: 120ms\tremaining: 48.9ms\n",
      "98:\tlearn: 14.2340468\ttotal: 121ms\tremaining: 47.7ms\n",
      "99:\tlearn: 14.1577727\ttotal: 122ms\tremaining: 46.5ms\n",
      "100:\tlearn: 14.1555844\ttotal: 123ms\tremaining: 45.2ms\n",
      "101:\tlearn: 14.1204433\ttotal: 125ms\tremaining: 44ms\n",
      "102:\tlearn: 14.1187335\ttotal: 126ms\tremaining: 42.7ms\n",
      "103:\tlearn: 14.0743170\ttotal: 127ms\tremaining: 41.5ms\n",
      "104:\tlearn: 14.0109175\ttotal: 128ms\tremaining: 40.3ms\n",
      "105:\tlearn: 13.9939041\ttotal: 129ms\tremaining: 39ms\n",
      "106:\tlearn: 13.9352646\ttotal: 130ms\tremaining: 37.8ms\n",
      "107:\tlearn: 13.8938566\ttotal: 132ms\tremaining: 36.5ms\n",
      "108:\tlearn: 13.8363322\ttotal: 133ms\tremaining: 35.3ms\n",
      "109:\tlearn: 13.7368628\ttotal: 134ms\tremaining: 34.1ms\n",
      "110:\tlearn: 13.7275205\ttotal: 135ms\tremaining: 32.8ms\n",
      "111:\tlearn: 13.6551700\ttotal: 136ms\tremaining: 31.6ms\n",
      "112:\tlearn: 13.6428162\ttotal: 137ms\tremaining: 30.4ms\n",
      "113:\tlearn: 13.6404453\ttotal: 138ms\tremaining: 29.1ms\n",
      "114:\tlearn: 13.6387145\ttotal: 139ms\tremaining: 27.9ms\n",
      "115:\tlearn: 13.6068371\ttotal: 141ms\tremaining: 26.6ms\n",
      "116:\tlearn: 13.5572078\ttotal: 142ms\tremaining: 25.4ms\n",
      "117:\tlearn: 13.4997891\ttotal: 143ms\tremaining: 24.2ms\n",
      "118:\tlearn: 13.4851717\ttotal: 144ms\tremaining: 23ms\n",
      "119:\tlearn: 13.4579209\ttotal: 145ms\tremaining: 21.8ms\n",
      "120:\tlearn: 13.4113583\ttotal: 146ms\tremaining: 20.6ms\n",
      "121:\tlearn: 13.4100413\ttotal: 147ms\tremaining: 19.3ms\n",
      "122:\tlearn: 13.3612113\ttotal: 149ms\tremaining: 18.1ms\n",
      "123:\tlearn: 13.2949554\ttotal: 150ms\tremaining: 16.9ms\n",
      "124:\tlearn: 13.2929932\ttotal: 151ms\tremaining: 15.7ms\n",
      "125:\tlearn: 13.2414897\ttotal: 152ms\tremaining: 14.5ms\n",
      "126:\tlearn: 13.2126143\ttotal: 154ms\tremaining: 13.3ms\n",
      "127:\tlearn: 13.1927854\ttotal: 155ms\tremaining: 12.1ms\n",
      "128:\tlearn: 13.1124718\ttotal: 156ms\tremaining: 10.9ms\n",
      "129:\tlearn: 13.0803426\ttotal: 157ms\tremaining: 9.66ms\n",
      "130:\tlearn: 13.0245367\ttotal: 158ms\tremaining: 8.46ms\n",
      "131:\tlearn: 13.0160950\ttotal: 159ms\tremaining: 7.25ms\n",
      "132:\tlearn: 12.9856712\ttotal: 161ms\tremaining: 6.04ms\n",
      "133:\tlearn: 12.9820066\ttotal: 162ms\tremaining: 4.83ms\n",
      "134:\tlearn: 12.9401829\ttotal: 163ms\tremaining: 3.62ms\n",
      "135:\tlearn: 12.8789333\ttotal: 164ms\tremaining: 2.41ms\n",
      "136:\tlearn: 12.8122200\ttotal: 165ms\tremaining: 1.21ms\n",
      "137:\tlearn: 12.7661066\ttotal: 166ms\tremaining: 0us\n",
      "Learning rate set to 0.23892\n",
      "0:\tlearn: 30.5232003\ttotal: 1.78ms\tremaining: 244ms\n",
      "1:\tlearn: 28.1686816\ttotal: 4.09ms\tremaining: 278ms\n",
      "2:\tlearn: 26.5950426\ttotal: 6.5ms\tremaining: 292ms\n",
      "3:\tlearn: 25.3203285\ttotal: 8.71ms\tremaining: 292ms\n",
      "4:\tlearn: 24.4939921\ttotal: 10.1ms\tremaining: 270ms\n",
      "5:\tlearn: 23.9438308\ttotal: 12.2ms\tremaining: 269ms\n",
      "6:\tlearn: 23.5296357\ttotal: 13.6ms\tremaining: 255ms\n",
      "7:\tlearn: 23.1837655\ttotal: 15.1ms\tremaining: 245ms\n",
      "8:\tlearn: 22.8510520\ttotal: 16.4ms\tremaining: 235ms\n",
      "9:\tlearn: 22.6164177\ttotal: 17.7ms\tremaining: 227ms\n",
      "10:\tlearn: 22.4346640\ttotal: 19ms\tremaining: 220ms\n",
      "11:\tlearn: 22.2781389\ttotal: 20.3ms\tremaining: 213ms\n",
      "12:\tlearn: 22.0424705\ttotal: 21.7ms\tremaining: 209ms\n",
      "13:\tlearn: 21.8172111\ttotal: 23ms\tremaining: 204ms\n",
      "14:\tlearn: 21.5424033\ttotal: 24.4ms\tremaining: 200ms\n",
      "15:\tlearn: 21.3662774\ttotal: 25.7ms\tremaining: 196ms\n",
      "16:\tlearn: 21.0344374\ttotal: 26.9ms\tremaining: 192ms\n",
      "17:\tlearn: 20.8695899\ttotal: 28.3ms\tremaining: 189ms\n",
      "18:\tlearn: 20.6296260\ttotal: 29.6ms\tremaining: 185ms\n",
      "19:\tlearn: 20.5392170\ttotal: 30.9ms\tremaining: 182ms\n",
      "20:\tlearn: 20.4774444\ttotal: 32.2ms\tremaining: 179ms\n",
      "21:\tlearn: 20.3870149\ttotal: 33.4ms\tremaining: 176ms\n",
      "22:\tlearn: 20.2244971\ttotal: 34.7ms\tremaining: 173ms\n",
      "23:\tlearn: 20.0978150\ttotal: 36.1ms\tremaining: 171ms\n",
      "24:\tlearn: 20.0777121\ttotal: 37ms\tremaining: 167ms\n",
      "25:\tlearn: 19.9176008\ttotal: 38.3ms\tremaining: 165ms\n",
      "26:\tlearn: 19.8765717\ttotal: 39.6ms\tremaining: 163ms\n",
      "27:\tlearn: 19.8218367\ttotal: 40.9ms\tremaining: 161ms\n",
      "28:\tlearn: 19.7355997\ttotal: 42.2ms\tremaining: 159ms\n",
      "29:\tlearn: 19.6665604\ttotal: 43.5ms\tremaining: 156ms\n",
      "30:\tlearn: 19.5245020\ttotal: 44.8ms\tremaining: 155ms\n",
      "31:\tlearn: 19.4839236\ttotal: 46.1ms\tremaining: 153ms\n",
      "32:\tlearn: 19.4105245\ttotal: 47.3ms\tremaining: 151ms\n",
      "33:\tlearn: 19.3231678\ttotal: 48.6ms\tremaining: 149ms\n",
      "34:\tlearn: 19.2803243\ttotal: 49.9ms\tremaining: 147ms\n",
      "35:\tlearn: 19.2050841\ttotal: 51.3ms\tremaining: 145ms\n",
      "36:\tlearn: 19.1585133\ttotal: 52.5ms\tremaining: 143ms\n",
      "37:\tlearn: 19.0429456\ttotal: 53.8ms\tremaining: 142ms\n",
      "38:\tlearn: 18.9188177\ttotal: 55.1ms\tremaining: 140ms\n",
      "39:\tlearn: 18.8570548\ttotal: 56.4ms\tremaining: 138ms\n",
      "40:\tlearn: 18.8020607\ttotal: 57.7ms\tremaining: 137ms\n",
      "41:\tlearn: 18.7075320\ttotal: 59ms\tremaining: 135ms\n",
      "42:\tlearn: 18.6686400\ttotal: 60.3ms\tremaining: 133ms\n",
      "43:\tlearn: 18.5257782\ttotal: 61.7ms\tremaining: 132ms\n",
      "44:\tlearn: 18.4482930\ttotal: 63ms\tremaining: 130ms\n",
      "45:\tlearn: 18.3525711\ttotal: 64.3ms\tremaining: 129ms\n",
      "46:\tlearn: 18.2524803\ttotal: 65.7ms\tremaining: 127ms\n",
      "47:\tlearn: 18.1882469\ttotal: 66.9ms\tremaining: 125ms\n",
      "48:\tlearn: 18.1301736\ttotal: 68.3ms\tremaining: 124ms\n",
      "49:\tlearn: 18.1257548\ttotal: 69.5ms\tremaining: 122ms\n",
      "50:\tlearn: 17.9749716\ttotal: 70.9ms\tremaining: 121ms\n",
      "51:\tlearn: 17.9637190\ttotal: 72.1ms\tremaining: 119ms\n",
      "52:\tlearn: 17.8930105\ttotal: 73.3ms\tremaining: 118ms\n",
      "53:\tlearn: 17.8801095\ttotal: 74.5ms\tremaining: 116ms\n",
      "54:\tlearn: 17.7897462\ttotal: 75.8ms\tremaining: 114ms\n",
      "55:\tlearn: 17.6471124\ttotal: 77.1ms\tremaining: 113ms\n",
      "56:\tlearn: 17.6362362\ttotal: 78.3ms\tremaining: 111ms\n",
      "57:\tlearn: 17.5413836\ttotal: 79.9ms\tremaining: 110ms\n",
      "58:\tlearn: 17.4749903\ttotal: 81.4ms\tremaining: 109ms\n",
      "59:\tlearn: 17.4034171\ttotal: 82.7ms\tremaining: 108ms\n",
      "60:\tlearn: 17.3100986\ttotal: 84.2ms\tremaining: 106ms\n",
      "61:\tlearn: 17.2214643\ttotal: 85.5ms\tremaining: 105ms\n",
      "62:\tlearn: 17.1890580\ttotal: 86.8ms\tremaining: 103ms\n",
      "63:\tlearn: 17.1837385\ttotal: 87.7ms\tremaining: 101ms\n",
      "64:\tlearn: 17.1096667\ttotal: 88.9ms\tremaining: 99.9ms\n",
      "65:\tlearn: 17.0944211\ttotal: 90.2ms\tremaining: 98.4ms\n",
      "66:\tlearn: 17.0086789\ttotal: 91.5ms\tremaining: 97ms\n",
      "67:\tlearn: 16.9853702\ttotal: 92.8ms\tremaining: 95.5ms\n",
      "68:\tlearn: 16.9191885\ttotal: 94.1ms\tremaining: 94.1ms\n",
      "69:\tlearn: 16.8901170\ttotal: 95.5ms\tremaining: 92.7ms\n",
      "70:\tlearn: 16.8428263\ttotal: 96.8ms\tremaining: 91.3ms\n",
      "71:\tlearn: 16.7846424\ttotal: 98.1ms\tremaining: 89.9ms\n",
      "72:\tlearn: 16.7027586\ttotal: 99.4ms\tremaining: 88.5ms\n",
      "73:\tlearn: 16.6504973\ttotal: 101ms\tremaining: 87.2ms\n",
      "74:\tlearn: 16.6476615\ttotal: 102ms\tremaining: 85.7ms\n",
      "75:\tlearn: 16.5911548\ttotal: 103ms\tremaining: 84.3ms\n",
      "76:\tlearn: 16.5168471\ttotal: 105ms\tremaining: 82.9ms\n",
      "77:\tlearn: 16.5056083\ttotal: 106ms\tremaining: 81.4ms\n",
      "78:\tlearn: 16.4484565\ttotal: 107ms\tremaining: 80ms\n",
      "79:\tlearn: 16.3720561\ttotal: 108ms\tremaining: 78.6ms\n",
      "80:\tlearn: 16.2853989\ttotal: 110ms\tremaining: 77.2ms\n",
      "81:\tlearn: 16.2215038\ttotal: 111ms\tremaining: 75.8ms\n",
      "82:\tlearn: 16.2036580\ttotal: 112ms\tremaining: 74.5ms\n",
      "83:\tlearn: 16.2012911\ttotal: 114ms\tremaining: 73.1ms\n",
      "84:\tlearn: 16.1683108\ttotal: 115ms\tremaining: 71.7ms\n",
      "85:\tlearn: 16.1121505\ttotal: 116ms\tremaining: 70.3ms\n",
      "86:\tlearn: 16.0686366\ttotal: 118ms\tremaining: 69ms\n",
      "87:\tlearn: 16.0333420\ttotal: 119ms\tremaining: 67.6ms\n",
      "88:\tlearn: 15.9924889\ttotal: 120ms\tremaining: 66.2ms\n",
      "89:\tlearn: 15.9448538\ttotal: 122ms\tremaining: 64.8ms\n",
      "90:\tlearn: 15.8867817\ttotal: 123ms\tremaining: 63.5ms\n",
      "91:\tlearn: 15.8214727\ttotal: 124ms\tremaining: 62.1ms\n",
      "92:\tlearn: 15.7857228\ttotal: 126ms\tremaining: 60.8ms\n",
      "93:\tlearn: 15.7560731\ttotal: 127ms\tremaining: 59.4ms\n",
      "94:\tlearn: 15.7273452\ttotal: 128ms\tremaining: 58ms\n",
      "95:\tlearn: 15.6699616\ttotal: 129ms\tremaining: 56.6ms\n",
      "96:\tlearn: 15.6174434\ttotal: 131ms\tremaining: 55.3ms\n",
      "97:\tlearn: 15.5804948\ttotal: 132ms\tremaining: 53.9ms\n",
      "98:\tlearn: 15.5266274\ttotal: 133ms\tremaining: 52.5ms\n",
      "99:\tlearn: 15.5246332\ttotal: 135ms\tremaining: 51.2ms\n",
      "100:\tlearn: 15.4780365\ttotal: 136ms\tremaining: 49.8ms\n",
      "101:\tlearn: 15.4187440\ttotal: 137ms\tremaining: 48.4ms\n",
      "102:\tlearn: 15.3942753\ttotal: 139ms\tremaining: 47.1ms\n",
      "103:\tlearn: 15.3534095\ttotal: 140ms\tremaining: 45.7ms\n",
      "104:\tlearn: 15.3241269\ttotal: 141ms\tremaining: 44.3ms\n",
      "105:\tlearn: 15.3205791\ttotal: 142ms\tremaining: 43ms\n",
      "106:\tlearn: 15.2953755\ttotal: 144ms\tremaining: 41.6ms\n",
      "107:\tlearn: 15.2706041\ttotal: 145ms\tremaining: 40.3ms\n",
      "108:\tlearn: 15.2317233\ttotal: 146ms\tremaining: 38.9ms\n",
      "109:\tlearn: 15.1855976\ttotal: 148ms\tremaining: 37.6ms\n",
      "110:\tlearn: 15.1421107\ttotal: 149ms\tremaining: 36.2ms\n",
      "111:\tlearn: 15.1080718\ttotal: 150ms\tremaining: 34.9ms\n",
      "112:\tlearn: 15.0899142\ttotal: 152ms\tremaining: 33.5ms\n",
      "113:\tlearn: 15.0756090\ttotal: 153ms\tremaining: 32.2ms\n",
      "114:\tlearn: 15.0443125\ttotal: 154ms\tremaining: 30.8ms\n",
      "115:\tlearn: 15.0067035\ttotal: 156ms\tremaining: 29.5ms\n",
      "116:\tlearn: 14.9254617\ttotal: 157ms\tremaining: 28.2ms\n",
      "117:\tlearn: 14.8999453\ttotal: 159ms\tremaining: 26.9ms\n",
      "118:\tlearn: 14.8646494\ttotal: 160ms\tremaining: 25.5ms\n",
      "119:\tlearn: 14.8398814\ttotal: 161ms\tremaining: 24.2ms\n",
      "120:\tlearn: 14.8099580\ttotal: 163ms\tremaining: 22.8ms\n",
      "121:\tlearn: 14.7680580\ttotal: 164ms\tremaining: 21.5ms\n",
      "122:\tlearn: 14.7420539\ttotal: 165ms\tremaining: 20.2ms\n",
      "123:\tlearn: 14.6815414\ttotal: 167ms\tremaining: 18.8ms\n",
      "124:\tlearn: 14.6550635\ttotal: 168ms\tremaining: 17.5ms\n",
      "125:\tlearn: 14.5755827\ttotal: 169ms\tremaining: 16.1ms\n",
      "126:\tlearn: 14.5121146\ttotal: 171ms\tremaining: 14.8ms\n",
      "127:\tlearn: 14.4833558\ttotal: 172ms\tremaining: 13.4ms\n",
      "128:\tlearn: 14.4700031\ttotal: 173ms\tremaining: 12.1ms\n",
      "129:\tlearn: 14.4410222\ttotal: 175ms\tremaining: 10.8ms\n",
      "130:\tlearn: 14.4377786\ttotal: 176ms\tremaining: 9.4ms\n",
      "131:\tlearn: 14.3969165\ttotal: 177ms\tremaining: 8.06ms\n",
      "132:\tlearn: 14.3620624\ttotal: 179ms\tremaining: 6.72ms\n",
      "133:\tlearn: 14.2991362\ttotal: 180ms\tremaining: 5.38ms\n",
      "134:\tlearn: 14.2539418\ttotal: 181ms\tremaining: 4.03ms\n",
      "135:\tlearn: 14.2205209\ttotal: 183ms\tremaining: 2.69ms\n",
      "136:\tlearn: 14.1567565\ttotal: 184ms\tremaining: 1.34ms\n",
      "137:\tlearn: 14.1339679\ttotal: 186ms\tremaining: 0us\n",
      "Learning rate set to 0.247485\n",
      "0:\tlearn: 31.9681557\ttotal: 1.92ms\tremaining: 263ms\n",
      "1:\tlearn: 29.3219905\ttotal: 3.62ms\tremaining: 246ms\n",
      "2:\tlearn: 27.4527952\ttotal: 5.23ms\tremaining: 235ms\n",
      "3:\tlearn: 26.5692338\ttotal: 6.71ms\tremaining: 225ms\n",
      "4:\tlearn: 25.6450671\ttotal: 8.23ms\tremaining: 219ms\n",
      "5:\tlearn: 25.0762123\ttotal: 9.68ms\tremaining: 213ms\n",
      "6:\tlearn: 24.7615643\ttotal: 11.2ms\tremaining: 210ms\n",
      "7:\tlearn: 24.2081595\ttotal: 12.7ms\tremaining: 206ms\n",
      "8:\tlearn: 23.8749688\ttotal: 14ms\tremaining: 201ms\n",
      "9:\tlearn: 23.5422321\ttotal: 15.4ms\tremaining: 198ms\n",
      "10:\tlearn: 23.4138215\ttotal: 16.8ms\tremaining: 194ms\n",
      "11:\tlearn: 23.2385704\ttotal: 18.3ms\tremaining: 193ms\n",
      "12:\tlearn: 22.9685987\ttotal: 19.8ms\tremaining: 191ms\n",
      "13:\tlearn: 22.5952336\ttotal: 21.3ms\tremaining: 188ms\n",
      "14:\tlearn: 22.4004683\ttotal: 22.7ms\tremaining: 186ms\n",
      "15:\tlearn: 22.3176690\ttotal: 24.1ms\tremaining: 184ms\n",
      "16:\tlearn: 22.0091000\ttotal: 25.6ms\tremaining: 182ms\n",
      "17:\tlearn: 21.8548746\ttotal: 27.1ms\tremaining: 181ms\n",
      "18:\tlearn: 21.7009595\ttotal: 28.9ms\tremaining: 181ms\n",
      "19:\tlearn: 21.6065127\ttotal: 30.4ms\tremaining: 180ms\n",
      "20:\tlearn: 21.5031302\ttotal: 31.9ms\tremaining: 178ms\n",
      "21:\tlearn: 21.4275866\ttotal: 33.5ms\tremaining: 177ms\n",
      "22:\tlearn: 21.2950494\ttotal: 35.7ms\tremaining: 178ms\n",
      "23:\tlearn: 21.1968545\ttotal: 37.1ms\tremaining: 176ms\n",
      "24:\tlearn: 21.0962503\ttotal: 38.6ms\tremaining: 174ms\n",
      "25:\tlearn: 20.9907419\ttotal: 40ms\tremaining: 172ms\n",
      "26:\tlearn: 20.8857850\ttotal: 41.5ms\tremaining: 170ms\n",
      "27:\tlearn: 20.8254926\ttotal: 42.9ms\tremaining: 168ms\n",
      "28:\tlearn: 20.6752546\ttotal: 44.5ms\tremaining: 167ms\n",
      "29:\tlearn: 20.5682537\ttotal: 46ms\tremaining: 165ms\n",
      "30:\tlearn: 20.4660339\ttotal: 47.4ms\tremaining: 164ms\n",
      "31:\tlearn: 20.3938626\ttotal: 48.9ms\tremaining: 162ms\n",
      "32:\tlearn: 20.3163639\ttotal: 50.4ms\tremaining: 160ms\n",
      "33:\tlearn: 20.1996841\ttotal: 52.5ms\tremaining: 161ms\n",
      "34:\tlearn: 20.1452445\ttotal: 53.9ms\tremaining: 159ms\n",
      "35:\tlearn: 20.0384048\ttotal: 55.4ms\tremaining: 157ms\n",
      "36:\tlearn: 19.9884197\ttotal: 56.8ms\tremaining: 155ms\n",
      "37:\tlearn: 19.9155039\ttotal: 58.6ms\tremaining: 154ms\n",
      "38:\tlearn: 19.8017021\ttotal: 60.2ms\tremaining: 153ms\n",
      "39:\tlearn: 19.6955652\ttotal: 61.7ms\tremaining: 151ms\n",
      "40:\tlearn: 19.5635163\ttotal: 63.2ms\tremaining: 150ms\n",
      "41:\tlearn: 19.5128783\ttotal: 64.7ms\tremaining: 148ms\n",
      "42:\tlearn: 19.4424103\ttotal: 66.1ms\tremaining: 146ms\n",
      "43:\tlearn: 19.3851313\ttotal: 67.5ms\tremaining: 144ms\n",
      "44:\tlearn: 19.3425220\ttotal: 68.9ms\tremaining: 142ms\n",
      "45:\tlearn: 19.2897263\ttotal: 70.3ms\tremaining: 141ms\n",
      "46:\tlearn: 19.1807354\ttotal: 71.8ms\tremaining: 139ms\n",
      "47:\tlearn: 19.0731186\ttotal: 73.3ms\tremaining: 137ms\n",
      "48:\tlearn: 18.9779097\ttotal: 74.7ms\tremaining: 136ms\n",
      "49:\tlearn: 18.9725716\ttotal: 76.3ms\tremaining: 134ms\n",
      "50:\tlearn: 18.8796666\ttotal: 78.5ms\tremaining: 134ms\n",
      "51:\tlearn: 18.8445627\ttotal: 80.7ms\tremaining: 133ms\n",
      "52:\tlearn: 18.7879755\ttotal: 82.8ms\tremaining: 133ms\n",
      "53:\tlearn: 18.7096340\ttotal: 85.1ms\tremaining: 132ms\n",
      "54:\tlearn: 18.6922913\ttotal: 86.5ms\tremaining: 130ms\n",
      "55:\tlearn: 18.6268163\ttotal: 87.9ms\tremaining: 129ms\n",
      "56:\tlearn: 18.5783227\ttotal: 89.3ms\tremaining: 127ms\n",
      "57:\tlearn: 18.5272258\ttotal: 90.8ms\tremaining: 125ms\n",
      "58:\tlearn: 18.5044330\ttotal: 92.2ms\tremaining: 123ms\n",
      "59:\tlearn: 18.4410862\ttotal: 93.7ms\tremaining: 122ms\n",
      "60:\tlearn: 18.3327499\ttotal: 95.2ms\tremaining: 120ms\n",
      "61:\tlearn: 18.2927897\ttotal: 96.7ms\tremaining: 119ms\n",
      "62:\tlearn: 18.2561706\ttotal: 98.2ms\tremaining: 117ms\n",
      "63:\tlearn: 18.2249542\ttotal: 99.6ms\tremaining: 115ms\n",
      "64:\tlearn: 18.2181989\ttotal: 101ms\tremaining: 114ms\n",
      "65:\tlearn: 18.1967596\ttotal: 102ms\tremaining: 112ms\n",
      "66:\tlearn: 18.1279005\ttotal: 104ms\tremaining: 110ms\n",
      "67:\tlearn: 18.1041995\ttotal: 105ms\tremaining: 108ms\n",
      "68:\tlearn: 18.0626563\ttotal: 107ms\tremaining: 107ms\n",
      "69:\tlearn: 18.0582881\ttotal: 108ms\tremaining: 105ms\n",
      "70:\tlearn: 18.0214045\ttotal: 110ms\tremaining: 103ms\n",
      "71:\tlearn: 17.9912676\ttotal: 111ms\tremaining: 102ms\n",
      "72:\tlearn: 17.9226149\ttotal: 113ms\tremaining: 100ms\n",
      "73:\tlearn: 17.8734510\ttotal: 114ms\tremaining: 98.5ms\n",
      "74:\tlearn: 17.7848038\ttotal: 115ms\tremaining: 96.9ms\n",
      "75:\tlearn: 17.7482266\ttotal: 117ms\tremaining: 95.3ms\n",
      "76:\tlearn: 17.6803139\ttotal: 118ms\tremaining: 93.6ms\n",
      "77:\tlearn: 17.6222951\ttotal: 120ms\tremaining: 92.1ms\n",
      "78:\tlearn: 17.5848359\ttotal: 121ms\tremaining: 90.5ms\n",
      "79:\tlearn: 17.5737502\ttotal: 122ms\tremaining: 88.8ms\n",
      "80:\tlearn: 17.5331081\ttotal: 124ms\tremaining: 87.2ms\n",
      "81:\tlearn: 17.5129882\ttotal: 125ms\tremaining: 85.6ms\n",
      "82:\tlearn: 17.4938303\ttotal: 127ms\tremaining: 84.1ms\n",
      "83:\tlearn: 17.4345339\ttotal: 128ms\tremaining: 82.5ms\n",
      "84:\tlearn: 17.4044299\ttotal: 130ms\tremaining: 80.9ms\n",
      "85:\tlearn: 17.3475559\ttotal: 131ms\tremaining: 79.4ms\n",
      "86:\tlearn: 17.2747966\ttotal: 133ms\tremaining: 77.8ms\n",
      "87:\tlearn: 17.2276670\ttotal: 134ms\tremaining: 76.2ms\n",
      "88:\tlearn: 17.1976622\ttotal: 135ms\tremaining: 74.6ms\n",
      "89:\tlearn: 17.1762285\ttotal: 137ms\tremaining: 73ms\n",
      "90:\tlearn: 17.1563963\ttotal: 138ms\tremaining: 71.4ms\n",
      "91:\tlearn: 17.1207360\ttotal: 140ms\tremaining: 69.8ms\n",
      "92:\tlearn: 17.1045291\ttotal: 141ms\tremaining: 68.3ms\n",
      "93:\tlearn: 17.0439137\ttotal: 143ms\tremaining: 66.7ms\n",
      "94:\tlearn: 17.0089327\ttotal: 144ms\tremaining: 65.2ms\n",
      "95:\tlearn: 16.9246095\ttotal: 145ms\tremaining: 63.6ms\n",
      "96:\tlearn: 16.8628178\ttotal: 147ms\tremaining: 62.1ms\n",
      "97:\tlearn: 16.8530934\ttotal: 148ms\tremaining: 60.5ms\n",
      "98:\tlearn: 16.7788975\ttotal: 150ms\tremaining: 59.1ms\n",
      "99:\tlearn: 16.7573505\ttotal: 151ms\tremaining: 57.5ms\n",
      "100:\tlearn: 16.7005252\ttotal: 153ms\tremaining: 56ms\n",
      "101:\tlearn: 16.6427425\ttotal: 154ms\tremaining: 54.4ms\n",
      "102:\tlearn: 16.6081955\ttotal: 156ms\tremaining: 52.9ms\n",
      "103:\tlearn: 16.5864788\ttotal: 157ms\tremaining: 51.4ms\n",
      "104:\tlearn: 16.5818007\ttotal: 159ms\tremaining: 49.8ms\n",
      "105:\tlearn: 16.5594324\ttotal: 160ms\tremaining: 48.3ms\n",
      "106:\tlearn: 16.5506292\ttotal: 161ms\tremaining: 46.7ms\n",
      "107:\tlearn: 16.5345495\ttotal: 163ms\tremaining: 45.2ms\n",
      "108:\tlearn: 16.4767967\ttotal: 164ms\tremaining: 43.6ms\n",
      "109:\tlearn: 16.4457284\ttotal: 166ms\tremaining: 42.1ms\n",
      "110:\tlearn: 16.3896465\ttotal: 167ms\tremaining: 40.6ms\n",
      "111:\tlearn: 16.3698766\ttotal: 168ms\tremaining: 39.1ms\n",
      "112:\tlearn: 16.3445796\ttotal: 170ms\tremaining: 37.6ms\n",
      "113:\tlearn: 16.3364560\ttotal: 172ms\tremaining: 36.1ms\n",
      "114:\tlearn: 16.3117357\ttotal: 173ms\tremaining: 34.6ms\n",
      "115:\tlearn: 16.2956169\ttotal: 175ms\tremaining: 33.2ms\n",
      "116:\tlearn: 16.2495936\ttotal: 176ms\tremaining: 31.7ms\n",
      "117:\tlearn: 16.2308403\ttotal: 178ms\tremaining: 30.1ms\n",
      "118:\tlearn: 16.2207034\ttotal: 179ms\tremaining: 28.6ms\n",
      "119:\tlearn: 16.2044178\ttotal: 181ms\tremaining: 27.1ms\n",
      "120:\tlearn: 16.1491545\ttotal: 182ms\tremaining: 25.6ms\n",
      "121:\tlearn: 16.1325199\ttotal: 184ms\tremaining: 24.1ms\n",
      "122:\tlearn: 16.1168350\ttotal: 185ms\tremaining: 22.6ms\n",
      "123:\tlearn: 16.1137338\ttotal: 186ms\tremaining: 21ms\n",
      "124:\tlearn: 16.0884359\ttotal: 188ms\tremaining: 19.5ms\n",
      "125:\tlearn: 16.0236974\ttotal: 189ms\tremaining: 18ms\n",
      "126:\tlearn: 15.9612730\ttotal: 191ms\tremaining: 16.5ms\n",
      "127:\tlearn: 15.9296492\ttotal: 193ms\tremaining: 15ms\n",
      "128:\tlearn: 15.9084698\ttotal: 194ms\tremaining: 13.5ms\n",
      "129:\tlearn: 15.9058555\ttotal: 195ms\tremaining: 12ms\n",
      "130:\tlearn: 15.8782710\ttotal: 197ms\tremaining: 10.5ms\n",
      "131:\tlearn: 15.8570491\ttotal: 198ms\tremaining: 9.01ms\n",
      "132:\tlearn: 15.8171452\ttotal: 200ms\tremaining: 7.5ms\n",
      "133:\tlearn: 15.7822720\ttotal: 201ms\tremaining: 6ms\n",
      "134:\tlearn: 15.7618305\ttotal: 202ms\tremaining: 4.5ms\n",
      "135:\tlearn: 15.7174812\ttotal: 204ms\tremaining: 3ms\n",
      "136:\tlearn: 15.6880482\ttotal: 205ms\tremaining: 1.5ms\n",
      "137:\tlearn: 15.6718318\ttotal: 208ms\tremaining: 0us\n",
      "Learning rate set to 0.190902\n",
      "0:\tlearn: 27.1515829\ttotal: 1.04ms\tremaining: 143ms\n",
      "1:\tlearn: 25.2267408\ttotal: 2.13ms\tremaining: 146ms\n",
      "2:\tlearn: 23.5800726\ttotal: 3.05ms\tremaining: 138ms\n",
      "3:\tlearn: 22.3273881\ttotal: 3.93ms\tremaining: 133ms\n",
      "4:\tlearn: 21.3698299\ttotal: 4.75ms\tremaining: 127ms\n",
      "5:\tlearn: 20.7411987\ttotal: 5.64ms\tremaining: 125ms\n",
      "6:\tlearn: 20.0252904\ttotal: 6.48ms\tremaining: 122ms\n",
      "7:\tlearn: 19.3398711\ttotal: 7.35ms\tremaining: 120ms\n",
      "8:\tlearn: 18.8553176\ttotal: 8.19ms\tremaining: 118ms\n",
      "9:\tlearn: 18.4472021\ttotal: 9.01ms\tremaining: 116ms\n",
      "10:\tlearn: 18.1282826\ttotal: 9.82ms\tremaining: 114ms\n",
      "11:\tlearn: 17.9068305\ttotal: 10.7ms\tremaining: 113ms\n",
      "12:\tlearn: 17.6651296\ttotal: 11.5ms\tremaining: 112ms\n",
      "13:\tlearn: 17.4740752\ttotal: 12.4ms\tremaining: 110ms\n",
      "14:\tlearn: 17.2376262\ttotal: 13.2ms\tremaining: 109ms\n",
      "15:\tlearn: 17.1007624\ttotal: 14ms\tremaining: 108ms\n",
      "16:\tlearn: 16.8787757\ttotal: 14.9ms\tremaining: 107ms\n",
      "17:\tlearn: 16.7371836\ttotal: 15.7ms\tremaining: 105ms\n",
      "18:\tlearn: 16.5291703\ttotal: 16.4ms\tremaining: 104ms\n",
      "19:\tlearn: 16.3054572\ttotal: 17.2ms\tremaining: 102ms\n",
      "20:\tlearn: 16.1589571\ttotal: 18ms\tremaining: 101ms\n",
      "21:\tlearn: 16.0200444\ttotal: 18.8ms\tremaining: 100ms\n",
      "22:\tlearn: 15.9299734\ttotal: 19.6ms\tremaining: 99ms\n",
      "23:\tlearn: 15.8374303\ttotal: 20.4ms\tremaining: 97.7ms\n",
      "24:\tlearn: 15.6832793\ttotal: 21.3ms\tremaining: 97ms\n",
      "25:\tlearn: 15.5663884\ttotal: 22.1ms\tremaining: 96.2ms\n",
      "26:\tlearn: 15.4073384\ttotal: 23ms\tremaining: 95.3ms\n",
      "27:\tlearn: 15.3020396\ttotal: 23.8ms\tremaining: 94.5ms\n",
      "28:\tlearn: 15.2341581\ttotal: 24.8ms\tremaining: 94ms\n",
      "29:\tlearn: 15.0748285\ttotal: 25.6ms\tremaining: 92.9ms\n",
      "30:\tlearn: 14.9423959\ttotal: 26.4ms\tremaining: 92ms\n",
      "31:\tlearn: 14.8209379\ttotal: 27.2ms\tremaining: 91ms\n",
      "32:\tlearn: 14.6760396\ttotal: 28ms\tremaining: 90.1ms\n",
      "33:\tlearn: 14.5889842\ttotal: 28.9ms\tremaining: 89.1ms\n",
      "34:\tlearn: 14.4542309\ttotal: 29.7ms\tremaining: 88.3ms\n",
      "35:\tlearn: 14.3548531\ttotal: 30.6ms\tremaining: 87.5ms\n",
      "36:\tlearn: 14.2620133\ttotal: 31.5ms\tremaining: 86.7ms\n",
      "37:\tlearn: 14.1895575\ttotal: 32.3ms\tremaining: 85.8ms\n",
      "38:\tlearn: 14.0633080\ttotal: 33.2ms\tremaining: 85ms\n",
      "39:\tlearn: 13.9844157\ttotal: 34ms\tremaining: 84.1ms\n",
      "40:\tlearn: 13.8680411\ttotal: 34.9ms\tremaining: 83.3ms\n",
      "41:\tlearn: 13.7786362\ttotal: 36ms\tremaining: 83.2ms\n",
      "42:\tlearn: 13.6737751\ttotal: 36.9ms\tremaining: 82.4ms\n",
      "43:\tlearn: 13.6093228\ttotal: 37.8ms\tremaining: 81.6ms\n",
      "44:\tlearn: 13.4487457\ttotal: 38.7ms\tremaining: 80.7ms\n",
      "45:\tlearn: 13.4408974\ttotal: 39.5ms\tremaining: 79.9ms\n",
      "46:\tlearn: 13.3312460\ttotal: 40.4ms\tremaining: 79ms\n",
      "47:\tlearn: 13.1456199\ttotal: 41.2ms\tremaining: 78ms\n",
      "48:\tlearn: 13.0974541\ttotal: 42.1ms\tremaining: 77.4ms\n",
      "49:\tlearn: 13.0752996\ttotal: 42.9ms\tremaining: 76.4ms\n",
      "50:\tlearn: 13.0694301\ttotal: 43.7ms\tremaining: 75.4ms\n",
      "51:\tlearn: 12.9636761\ttotal: 44.5ms\tremaining: 74.5ms\n",
      "52:\tlearn: 12.8897132\ttotal: 45.3ms\tremaining: 73.6ms\n",
      "53:\tlearn: 12.7469828\ttotal: 46.2ms\tremaining: 72.7ms\n",
      "54:\tlearn: 12.7112213\ttotal: 47ms\tremaining: 71.8ms\n",
      "55:\tlearn: 12.6051633\ttotal: 47.8ms\tremaining: 70.9ms\n",
      "56:\tlearn: 12.4954634\ttotal: 48.7ms\tremaining: 70.1ms\n",
      "57:\tlearn: 12.3381857\ttotal: 49.5ms\tremaining: 69.2ms\n",
      "58:\tlearn: 12.2048314\ttotal: 50.4ms\tremaining: 68.3ms\n",
      "59:\tlearn: 12.1386509\ttotal: 51.2ms\tremaining: 67.4ms\n",
      "60:\tlearn: 12.1177881\ttotal: 52.1ms\tremaining: 66.6ms\n",
      "61:\tlearn: 11.9699379\ttotal: 52.9ms\tremaining: 65.7ms\n",
      "62:\tlearn: 11.8865938\ttotal: 53.7ms\tremaining: 64.8ms\n",
      "63:\tlearn: 11.8421079\ttotal: 54.5ms\tremaining: 63.9ms\n",
      "64:\tlearn: 11.8379837\ttotal: 55.1ms\tremaining: 62.7ms\n",
      "65:\tlearn: 11.6947682\ttotal: 55.9ms\tremaining: 61.8ms\n",
      "66:\tlearn: 11.6298242\ttotal: 57.3ms\tremaining: 61.5ms\n",
      "67:\tlearn: 11.6023582\ttotal: 58.2ms\tremaining: 60.8ms\n",
      "68:\tlearn: 11.5129279\ttotal: 59.1ms\tremaining: 59.9ms\n",
      "69:\tlearn: 11.4228012\ttotal: 59.9ms\tremaining: 59ms\n",
      "70:\tlearn: 11.4130415\ttotal: 60.7ms\tremaining: 58.2ms\n",
      "71:\tlearn: 11.4038142\ttotal: 61.6ms\tremaining: 57.3ms\n",
      "72:\tlearn: 11.3139872\ttotal: 62.4ms\tremaining: 56.4ms\n",
      "73:\tlearn: 11.2700480\ttotal: 63.2ms\tremaining: 55.5ms\n",
      "74:\tlearn: 11.2671534\ttotal: 63.7ms\tremaining: 54.4ms\n",
      "75:\tlearn: 11.1844687\ttotal: 64.6ms\tremaining: 53.5ms\n",
      "76:\tlearn: 11.0437794\ttotal: 65.4ms\tremaining: 52.7ms\n",
      "77:\tlearn: 10.9650363\ttotal: 66.2ms\tremaining: 51.8ms\n",
      "78:\tlearn: 10.8892353\ttotal: 67.3ms\tremaining: 51.1ms\n",
      "79:\tlearn: 10.7935272\ttotal: 68.1ms\tremaining: 50.2ms\n",
      "80:\tlearn: 10.6767019\ttotal: 69ms\tremaining: 49.4ms\n",
      "81:\tlearn: 10.5780915\ttotal: 69.8ms\tremaining: 48.5ms\n",
      "82:\tlearn: 10.4811362\ttotal: 70.6ms\tremaining: 47.7ms\n",
      "83:\tlearn: 10.3940412\ttotal: 71.5ms\tremaining: 46.8ms\n",
      "84:\tlearn: 10.3347735\ttotal: 72.3ms\tremaining: 45.9ms\n",
      "85:\tlearn: 10.3034208\ttotal: 73.1ms\tremaining: 45ms\n",
      "86:\tlearn: 10.2506907\ttotal: 73.9ms\tremaining: 44.2ms\n",
      "87:\tlearn: 10.1852559\ttotal: 74.7ms\tremaining: 43.3ms\n",
      "88:\tlearn: 10.0956126\ttotal: 75.5ms\tremaining: 42.4ms\n",
      "89:\tlearn: 10.0060692\ttotal: 76.3ms\tremaining: 41.5ms\n",
      "90:\tlearn: 9.9547781\ttotal: 77.1ms\tremaining: 40.7ms\n",
      "91:\tlearn: 9.8441447\ttotal: 78ms\tremaining: 39.8ms\n",
      "92:\tlearn: 9.7567918\ttotal: 78.7ms\tremaining: 38.9ms\n",
      "93:\tlearn: 9.6840467\ttotal: 79.6ms\tremaining: 38.1ms\n",
      "94:\tlearn: 9.5995094\ttotal: 80.4ms\tremaining: 37.2ms\n",
      "95:\tlearn: 9.5244513\ttotal: 81.2ms\tremaining: 36.4ms\n",
      "96:\tlearn: 9.4206881\ttotal: 82ms\tremaining: 35.5ms\n",
      "97:\tlearn: 9.3775670\ttotal: 82.8ms\tremaining: 34.7ms\n",
      "98:\tlearn: 9.3272917\ttotal: 83.7ms\tremaining: 33.8ms\n",
      "99:\tlearn: 9.2832617\ttotal: 84.9ms\tremaining: 33.1ms\n",
      "100:\tlearn: 9.1986038\ttotal: 85.8ms\tremaining: 32.3ms\n",
      "101:\tlearn: 9.1787648\ttotal: 86.7ms\tremaining: 31.4ms\n",
      "102:\tlearn: 9.1267050\ttotal: 87.5ms\tremaining: 30.6ms\n",
      "103:\tlearn: 9.0413906\ttotal: 88.4ms\tremaining: 29.7ms\n",
      "104:\tlearn: 9.0165398\ttotal: 89.3ms\tremaining: 28.9ms\n",
      "105:\tlearn: 8.9337887\ttotal: 90.1ms\tremaining: 28ms\n",
      "106:\tlearn: 8.8747802\ttotal: 90.9ms\tremaining: 27.2ms\n",
      "107:\tlearn: 8.8262905\ttotal: 91.7ms\tremaining: 26.3ms\n",
      "108:\tlearn: 8.7737857\ttotal: 92.7ms\tremaining: 25.5ms\n",
      "109:\tlearn: 8.7579750\ttotal: 94ms\tremaining: 24.8ms\n",
      "110:\tlearn: 8.7250618\ttotal: 95.4ms\tremaining: 24.1ms\n",
      "111:\tlearn: 8.6987717\ttotal: 96.5ms\tremaining: 23.3ms\n",
      "112:\tlearn: 8.6956148\ttotal: 97.4ms\tremaining: 22.4ms\n",
      "113:\tlearn: 8.6334644\ttotal: 98.2ms\tremaining: 21.5ms\n",
      "114:\tlearn: 8.5589053\ttotal: 99.1ms\tremaining: 20.7ms\n",
      "115:\tlearn: 8.4782920\ttotal: 100ms\tremaining: 19.8ms\n",
      "116:\tlearn: 8.4320360\ttotal: 101ms\tremaining: 19ms\n",
      "117:\tlearn: 8.3997272\ttotal: 102ms\tremaining: 18.1ms\n",
      "118:\tlearn: 8.3600378\ttotal: 103ms\tremaining: 17.3ms\n",
      "119:\tlearn: 8.3129164\ttotal: 104ms\tremaining: 16.4ms\n",
      "120:\tlearn: 8.2660052\ttotal: 104ms\tremaining: 15.5ms\n",
      "121:\tlearn: 8.2636952\ttotal: 105ms\tremaining: 14.7ms\n",
      "122:\tlearn: 8.2334571\ttotal: 107ms\tremaining: 13.9ms\n",
      "123:\tlearn: 8.1971343\ttotal: 108ms\tremaining: 13ms\n",
      "124:\tlearn: 8.1326545\ttotal: 108ms\tremaining: 12.1ms\n",
      "125:\tlearn: 8.1157040\ttotal: 109ms\tremaining: 11.3ms\n",
      "126:\tlearn: 8.0868566\ttotal: 110ms\tremaining: 10.4ms\n",
      "127:\tlearn: 8.0343921\ttotal: 111ms\tremaining: 9.52ms\n",
      "128:\tlearn: 7.9721859\ttotal: 112ms\tremaining: 8.65ms\n",
      "129:\tlearn: 7.9097893\ttotal: 112ms\tremaining: 7.79ms\n",
      "130:\tlearn: 7.8672891\ttotal: 113ms\tremaining: 6.92ms\n",
      "131:\tlearn: 7.8070070\ttotal: 114ms\tremaining: 6.05ms\n",
      "132:\tlearn: 7.7637859\ttotal: 115ms\tremaining: 5.19ms\n",
      "133:\tlearn: 7.7336904\ttotal: 116ms\tremaining: 4.32ms\n",
      "134:\tlearn: 7.7251489\ttotal: 117ms\tremaining: 3.45ms\n",
      "135:\tlearn: 7.7041302\ttotal: 117ms\tremaining: 2.59ms\n",
      "136:\tlearn: 7.6837260\ttotal: 118ms\tremaining: 1.73ms\n",
      "137:\tlearn: 7.6463618\ttotal: 119ms\tremaining: 862us\n",
      "138:\tlearn: 7.5779968\ttotal: 120ms\tremaining: 0us\n",
      "Learning rate set to 0.212921\n",
      "0:\tlearn: 27.9942330\ttotal: 1.24ms\tremaining: 171ms\n",
      "1:\tlearn: 26.2663012\ttotal: 2.51ms\tremaining: 172ms\n",
      "2:\tlearn: 24.5592132\ttotal: 3.59ms\tremaining: 163ms\n",
      "3:\tlearn: 23.5151931\ttotal: 4.62ms\tremaining: 156ms\n",
      "4:\tlearn: 22.5700713\ttotal: 5.67ms\tremaining: 152ms\n",
      "5:\tlearn: 21.7804958\ttotal: 6.69ms\tremaining: 148ms\n",
      "6:\tlearn: 21.4642331\ttotal: 7.72ms\tremaining: 146ms\n",
      "7:\tlearn: 20.8664968\ttotal: 8.89ms\tremaining: 146ms\n",
      "8:\tlearn: 20.4577417\ttotal: 9.9ms\tremaining: 143ms\n",
      "9:\tlearn: 20.1953906\ttotal: 10.9ms\tremaining: 140ms\n",
      "10:\tlearn: 19.8543367\ttotal: 11.9ms\tremaining: 138ms\n",
      "11:\tlearn: 19.5939844\ttotal: 12.9ms\tremaining: 136ms\n",
      "12:\tlearn: 19.2700477\ttotal: 13.8ms\tremaining: 134ms\n",
      "13:\tlearn: 19.1087384\ttotal: 14.8ms\tremaining: 132ms\n",
      "14:\tlearn: 18.9279269\ttotal: 15.8ms\tremaining: 131ms\n",
      "15:\tlearn: 18.7850217\ttotal: 16.8ms\tremaining: 129ms\n",
      "16:\tlearn: 18.6062761\ttotal: 17.8ms\tremaining: 128ms\n",
      "17:\tlearn: 18.3906457\ttotal: 18.9ms\tremaining: 127ms\n",
      "18:\tlearn: 18.3031397\ttotal: 19.9ms\tremaining: 126ms\n",
      "19:\tlearn: 18.0907218\ttotal: 20.8ms\tremaining: 124ms\n",
      "20:\tlearn: 17.9966731\ttotal: 21.8ms\tremaining: 123ms\n",
      "21:\tlearn: 17.9335142\ttotal: 22.8ms\tremaining: 121ms\n",
      "22:\tlearn: 17.8479601\ttotal: 23.8ms\tremaining: 120ms\n",
      "23:\tlearn: 17.7541226\ttotal: 24.8ms\tremaining: 119ms\n",
      "24:\tlearn: 17.5762289\ttotal: 25.8ms\tremaining: 118ms\n",
      "25:\tlearn: 17.4522030\ttotal: 26.8ms\tremaining: 116ms\n",
      "26:\tlearn: 17.4024125\ttotal: 27.8ms\tremaining: 115ms\n",
      "27:\tlearn: 17.2816259\ttotal: 28.8ms\tremaining: 114ms\n",
      "28:\tlearn: 17.1830285\ttotal: 29.8ms\tremaining: 113ms\n",
      "29:\tlearn: 17.0594449\ttotal: 30.8ms\tremaining: 112ms\n",
      "30:\tlearn: 16.9466567\ttotal: 31.9ms\tremaining: 111ms\n",
      "31:\tlearn: 16.8342544\ttotal: 32.9ms\tremaining: 110ms\n",
      "32:\tlearn: 16.7356984\ttotal: 34.4ms\tremaining: 110ms\n",
      "33:\tlearn: 16.6447209\ttotal: 35.4ms\tremaining: 109ms\n",
      "34:\tlearn: 16.5400014\ttotal: 36.4ms\tremaining: 108ms\n",
      "35:\tlearn: 16.4435535\ttotal: 37.4ms\tremaining: 107ms\n",
      "36:\tlearn: 16.4145185\ttotal: 38.4ms\tremaining: 106ms\n",
      "37:\tlearn: 16.3730789\ttotal: 39.4ms\tremaining: 105ms\n",
      "38:\tlearn: 16.3048236\ttotal: 40.4ms\tremaining: 104ms\n",
      "39:\tlearn: 16.2594658\ttotal: 41.4ms\tremaining: 103ms\n",
      "40:\tlearn: 16.2322953\ttotal: 42.4ms\tremaining: 101ms\n",
      "41:\tlearn: 16.0828428\ttotal: 43.4ms\tremaining: 100ms\n",
      "42:\tlearn: 16.0455083\ttotal: 44.4ms\tremaining: 99.1ms\n",
      "43:\tlearn: 16.0100834\ttotal: 45.4ms\tremaining: 97.9ms\n",
      "44:\tlearn: 15.9317658\ttotal: 46.4ms\tremaining: 96.9ms\n",
      "45:\tlearn: 15.7243348\ttotal: 47.4ms\tremaining: 95.8ms\n",
      "46:\tlearn: 15.6629093\ttotal: 48.4ms\tremaining: 94.7ms\n",
      "47:\tlearn: 15.5206086\ttotal: 49.3ms\tremaining: 93.6ms\n",
      "48:\tlearn: 15.4268479\ttotal: 50.4ms\tremaining: 92.6ms\n",
      "49:\tlearn: 15.3373516\ttotal: 51.4ms\tremaining: 91.5ms\n",
      "50:\tlearn: 15.3330122\ttotal: 53.1ms\tremaining: 91.7ms\n",
      "51:\tlearn: 15.2121766\ttotal: 54.4ms\tremaining: 91ms\n",
      "52:\tlearn: 15.2083364\ttotal: 55.3ms\tremaining: 89.8ms\n",
      "53:\tlearn: 15.1102900\ttotal: 56.4ms\tremaining: 88.7ms\n",
      "54:\tlearn: 15.0999459\ttotal: 57.4ms\tremaining: 87.6ms\n",
      "55:\tlearn: 15.0024533\ttotal: 58.4ms\tremaining: 86.5ms\n",
      "56:\tlearn: 14.8683795\ttotal: 59.4ms\tremaining: 85.5ms\n",
      "57:\tlearn: 14.8239204\ttotal: 60.5ms\tremaining: 84.4ms\n",
      "58:\tlearn: 14.7356456\ttotal: 61.5ms\tremaining: 83.4ms\n",
      "59:\tlearn: 14.5997869\ttotal: 62.5ms\tremaining: 82.3ms\n",
      "60:\tlearn: 14.5954472\ttotal: 63.4ms\tremaining: 81.1ms\n",
      "61:\tlearn: 14.5908743\ttotal: 64.4ms\tremaining: 79.9ms\n",
      "62:\tlearn: 14.5880611\ttotal: 65.4ms\tremaining: 78.8ms\n",
      "63:\tlearn: 14.5102435\ttotal: 66.4ms\tremaining: 77.8ms\n",
      "64:\tlearn: 14.4011671\ttotal: 67.4ms\tremaining: 76.8ms\n",
      "65:\tlearn: 14.2946617\ttotal: 68.5ms\tremaining: 75.7ms\n",
      "66:\tlearn: 14.2844550\ttotal: 69.4ms\tremaining: 74.6ms\n",
      "67:\tlearn: 14.1818812\ttotal: 70.4ms\tremaining: 73.5ms\n",
      "68:\tlearn: 14.1283643\ttotal: 71.5ms\tremaining: 72.5ms\n",
      "69:\tlearn: 14.1255941\ttotal: 72.6ms\tremaining: 71.5ms\n",
      "70:\tlearn: 14.0889398\ttotal: 73.6ms\tremaining: 70.5ms\n",
      "71:\tlearn: 14.0001530\ttotal: 74.6ms\tremaining: 69.4ms\n",
      "72:\tlearn: 13.8868230\ttotal: 75.6ms\tremaining: 68.4ms\n",
      "73:\tlearn: 13.8383812\ttotal: 76.6ms\tremaining: 67.3ms\n",
      "74:\tlearn: 13.7271653\ttotal: 77.6ms\tremaining: 66.2ms\n",
      "75:\tlearn: 13.6922511\ttotal: 78.6ms\tremaining: 65.2ms\n",
      "76:\tlearn: 13.6101732\ttotal: 79.6ms\tremaining: 64.1ms\n",
      "77:\tlearn: 13.5279752\ttotal: 80.6ms\tremaining: 63ms\n",
      "78:\tlearn: 13.4352826\ttotal: 81.6ms\tremaining: 62ms\n",
      "79:\tlearn: 13.3294584\ttotal: 82.6ms\tremaining: 60.9ms\n",
      "80:\tlearn: 13.2593848\ttotal: 83.7ms\tremaining: 59.9ms\n",
      "81:\tlearn: 13.2188466\ttotal: 84.7ms\tremaining: 58.9ms\n",
      "82:\tlearn: 13.1543812\ttotal: 85.8ms\tremaining: 57.9ms\n",
      "83:\tlearn: 13.1153432\ttotal: 86.8ms\tremaining: 56.8ms\n",
      "84:\tlearn: 13.0559390\ttotal: 87.8ms\tremaining: 55.8ms\n",
      "85:\tlearn: 13.0050162\ttotal: 88.8ms\tremaining: 54.8ms\n",
      "86:\tlearn: 12.9902944\ttotal: 89.8ms\tremaining: 53.7ms\n",
      "87:\tlearn: 12.9418930\ttotal: 90.8ms\tremaining: 52.6ms\n",
      "88:\tlearn: 12.8720082\ttotal: 91.8ms\tremaining: 51.6ms\n",
      "89:\tlearn: 12.8615037\ttotal: 92.7ms\tremaining: 50.5ms\n",
      "90:\tlearn: 12.8051400\ttotal: 93.7ms\tremaining: 49.4ms\n",
      "91:\tlearn: 12.7533920\ttotal: 94.7ms\tremaining: 48.4ms\n",
      "92:\tlearn: 12.7075117\ttotal: 95.8ms\tremaining: 47.4ms\n",
      "93:\tlearn: 12.6797086\ttotal: 96.8ms\tremaining: 46.3ms\n",
      "94:\tlearn: 12.5772260\ttotal: 97.8ms\tremaining: 45.3ms\n",
      "95:\tlearn: 12.5338240\ttotal: 98.8ms\tremaining: 44.2ms\n",
      "96:\tlearn: 12.4630821\ttotal: 99.8ms\tremaining: 43.2ms\n",
      "97:\tlearn: 12.4162700\ttotal: 101ms\tremaining: 42.2ms\n",
      "98:\tlearn: 12.3525598\ttotal: 102ms\tremaining: 41.2ms\n",
      "99:\tlearn: 12.3266444\ttotal: 103ms\tremaining: 40.1ms\n",
      "100:\tlearn: 12.2765252\ttotal: 104ms\tremaining: 39.1ms\n",
      "101:\tlearn: 12.2396499\ttotal: 105ms\tremaining: 38.1ms\n",
      "102:\tlearn: 12.1753954\ttotal: 106ms\tremaining: 37.1ms\n",
      "103:\tlearn: 12.1519409\ttotal: 107ms\tremaining: 36ms\n",
      "104:\tlearn: 12.1165514\ttotal: 108ms\tremaining: 35ms\n",
      "105:\tlearn: 12.1014439\ttotal: 109ms\tremaining: 33.9ms\n",
      "106:\tlearn: 12.0704743\ttotal: 110ms\tremaining: 32.9ms\n",
      "107:\tlearn: 12.0219128\ttotal: 111ms\tremaining: 31.9ms\n",
      "108:\tlearn: 11.9173638\ttotal: 112ms\tremaining: 30.8ms\n",
      "109:\tlearn: 11.8645623\ttotal: 113ms\tremaining: 29.8ms\n",
      "110:\tlearn: 11.7909238\ttotal: 114ms\tremaining: 28.7ms\n",
      "111:\tlearn: 11.7261720\ttotal: 115ms\tremaining: 27.7ms\n",
      "112:\tlearn: 11.7243176\ttotal: 116ms\tremaining: 26.7ms\n",
      "113:\tlearn: 11.6867437\ttotal: 117ms\tremaining: 25.6ms\n",
      "114:\tlearn: 11.6525416\ttotal: 118ms\tremaining: 24.6ms\n",
      "115:\tlearn: 11.6316485\ttotal: 119ms\tremaining: 23.6ms\n",
      "116:\tlearn: 11.5697212\ttotal: 120ms\tremaining: 22.5ms\n",
      "117:\tlearn: 11.4877131\ttotal: 121ms\tremaining: 21.5ms\n",
      "118:\tlearn: 11.4117837\ttotal: 122ms\tremaining: 20.5ms\n",
      "119:\tlearn: 11.3695951\ttotal: 123ms\tremaining: 19.5ms\n",
      "120:\tlearn: 11.3501543\ttotal: 124ms\tremaining: 18.4ms\n",
      "121:\tlearn: 11.3221739\ttotal: 125ms\tremaining: 17.4ms\n",
      "122:\tlearn: 11.2948283\ttotal: 126ms\tremaining: 16.4ms\n",
      "123:\tlearn: 11.2368358\ttotal: 127ms\tremaining: 15.4ms\n",
      "124:\tlearn: 11.2137574\ttotal: 128ms\tremaining: 14.4ms\n",
      "125:\tlearn: 11.1733833\ttotal: 129ms\tremaining: 13.3ms\n",
      "126:\tlearn: 11.1424499\ttotal: 130ms\tremaining: 12.3ms\n",
      "127:\tlearn: 11.1329265\ttotal: 131ms\tremaining: 11.3ms\n",
      "128:\tlearn: 11.0756830\ttotal: 132ms\tremaining: 10.3ms\n",
      "129:\tlearn: 11.0030859\ttotal: 133ms\tremaining: 9.22ms\n",
      "130:\tlearn: 10.9735556\ttotal: 134ms\tremaining: 8.2ms\n",
      "131:\tlearn: 10.9499278\ttotal: 135ms\tremaining: 7.18ms\n",
      "132:\tlearn: 10.8978132\ttotal: 136ms\tremaining: 6.15ms\n",
      "133:\tlearn: 10.8823615\ttotal: 137ms\tremaining: 5.13ms\n",
      "134:\tlearn: 10.8680276\ttotal: 138ms\tremaining: 4.1ms\n",
      "135:\tlearn: 10.8180623\ttotal: 139ms\tremaining: 3.08ms\n",
      "136:\tlearn: 10.7707738\ttotal: 140ms\tremaining: 2.05ms\n",
      "137:\tlearn: 10.7365094\ttotal: 141ms\tremaining: 1.02ms\n",
      "138:\tlearn: 10.6869063\ttotal: 142ms\tremaining: 0us\n",
      "Learning rate set to 0.226981\n",
      "0:\tlearn: 29.3297888\ttotal: 1.41ms\tremaining: 195ms\n",
      "1:\tlearn: 27.0976757\ttotal: 2.94ms\tremaining: 202ms\n",
      "2:\tlearn: 25.5911160\ttotal: 4.21ms\tremaining: 191ms\n",
      "3:\tlearn: 24.5460415\ttotal: 5.46ms\tremaining: 184ms\n",
      "4:\tlearn: 23.8599471\ttotal: 6.66ms\tremaining: 179ms\n",
      "5:\tlearn: 23.3107475\ttotal: 7.85ms\tremaining: 174ms\n",
      "6:\tlearn: 22.6783603\ttotal: 9.13ms\tremaining: 172ms\n",
      "7:\tlearn: 22.1562255\ttotal: 10.4ms\tremaining: 170ms\n",
      "8:\tlearn: 21.7789448\ttotal: 11.5ms\tremaining: 166ms\n",
      "9:\tlearn: 21.5931682\ttotal: 12.7ms\tremaining: 164ms\n",
      "10:\tlearn: 21.4224680\ttotal: 13.8ms\tremaining: 161ms\n",
      "11:\tlearn: 21.2762306\ttotal: 14.9ms\tremaining: 158ms\n",
      "12:\tlearn: 20.8925837\ttotal: 16.1ms\tremaining: 156ms\n",
      "13:\tlearn: 20.7996765\ttotal: 17.2ms\tremaining: 154ms\n",
      "14:\tlearn: 20.6818283\ttotal: 18.4ms\tremaining: 152ms\n",
      "15:\tlearn: 20.5494929\ttotal: 19.7ms\tremaining: 151ms\n",
      "16:\tlearn: 20.2981895\ttotal: 20.8ms\tremaining: 150ms\n",
      "17:\tlearn: 20.1394765\ttotal: 22.1ms\tremaining: 149ms\n",
      "18:\tlearn: 19.9126042\ttotal: 23.3ms\tremaining: 147ms\n",
      "19:\tlearn: 19.7195145\ttotal: 24.6ms\tremaining: 146ms\n",
      "20:\tlearn: 19.6562613\ttotal: 26.2ms\tremaining: 147ms\n",
      "21:\tlearn: 19.5636698\ttotal: 28.1ms\tremaining: 149ms\n",
      "22:\tlearn: 19.5193099\ttotal: 30ms\tremaining: 151ms\n",
      "23:\tlearn: 19.3795083\ttotal: 32ms\tremaining: 153ms\n",
      "24:\tlearn: 19.3106227\ttotal: 33.9ms\tremaining: 155ms\n",
      "25:\tlearn: 19.2001335\ttotal: 36ms\tremaining: 156ms\n",
      "26:\tlearn: 19.1326432\ttotal: 37.9ms\tremaining: 157ms\n",
      "27:\tlearn: 19.1003518\ttotal: 39.5ms\tremaining: 156ms\n",
      "28:\tlearn: 19.0227996\ttotal: 40.6ms\tremaining: 154ms\n",
      "29:\tlearn: 18.8700107\ttotal: 41.8ms\tremaining: 152ms\n",
      "30:\tlearn: 18.7602731\ttotal: 43.7ms\tremaining: 152ms\n",
      "31:\tlearn: 18.6212549\ttotal: 45.6ms\tremaining: 153ms\n",
      "32:\tlearn: 18.5634684\ttotal: 47.5ms\tremaining: 153ms\n",
      "33:\tlearn: 18.4613833\ttotal: 48.9ms\tremaining: 151ms\n",
      "34:\tlearn: 18.3748472\ttotal: 50.1ms\tremaining: 149ms\n",
      "35:\tlearn: 18.2484505\ttotal: 51.3ms\tremaining: 147ms\n",
      "36:\tlearn: 18.2217558\ttotal: 52.1ms\tremaining: 144ms\n",
      "37:\tlearn: 18.1086688\ttotal: 53.3ms\tremaining: 142ms\n",
      "38:\tlearn: 18.0816017\ttotal: 54.5ms\tremaining: 140ms\n",
      "39:\tlearn: 18.0012734\ttotal: 55.7ms\tremaining: 138ms\n",
      "40:\tlearn: 17.9155291\ttotal: 56.8ms\tremaining: 136ms\n",
      "41:\tlearn: 17.8630492\ttotal: 58.1ms\tremaining: 134ms\n",
      "42:\tlearn: 17.7279240\ttotal: 59.9ms\tremaining: 134ms\n",
      "43:\tlearn: 17.7073596\ttotal: 61.7ms\tremaining: 133ms\n",
      "44:\tlearn: 17.6348699\ttotal: 63.5ms\tremaining: 133ms\n",
      "45:\tlearn: 17.5050091\ttotal: 64.7ms\tremaining: 131ms\n",
      "46:\tlearn: 17.4838544\ttotal: 65.9ms\tremaining: 129ms\n",
      "47:\tlearn: 17.4108705\ttotal: 67.7ms\tremaining: 128ms\n",
      "48:\tlearn: 17.3593434\ttotal: 68.9ms\tremaining: 127ms\n",
      "49:\tlearn: 17.2399348\ttotal: 70.2ms\tremaining: 125ms\n",
      "50:\tlearn: 17.1944341\ttotal: 71.6ms\tremaining: 124ms\n",
      "51:\tlearn: 17.0587106\ttotal: 72.9ms\tremaining: 122ms\n",
      "52:\tlearn: 17.0223359\ttotal: 74ms\tremaining: 120ms\n",
      "53:\tlearn: 16.9394127\ttotal: 75.2ms\tremaining: 118ms\n",
      "54:\tlearn: 16.8661415\ttotal: 76.5ms\tremaining: 117ms\n",
      "55:\tlearn: 16.8426160\ttotal: 77.6ms\tremaining: 115ms\n",
      "56:\tlearn: 16.8387217\ttotal: 78.9ms\tremaining: 113ms\n",
      "57:\tlearn: 16.8286706\ttotal: 80ms\tremaining: 112ms\n",
      "58:\tlearn: 16.6591403\ttotal: 81.2ms\tremaining: 110ms\n",
      "59:\tlearn: 16.6175484\ttotal: 82.4ms\tremaining: 108ms\n",
      "60:\tlearn: 16.5178594\ttotal: 83.5ms\tremaining: 107ms\n",
      "61:\tlearn: 16.4133362\ttotal: 84.7ms\tremaining: 105ms\n",
      "62:\tlearn: 16.3234796\ttotal: 85.9ms\tremaining: 104ms\n",
      "63:\tlearn: 16.2437154\ttotal: 87.1ms\tremaining: 102ms\n",
      "64:\tlearn: 16.2166697\ttotal: 88.2ms\tremaining: 100ms\n",
      "65:\tlearn: 16.1339346\ttotal: 89.3ms\tremaining: 98.8ms\n",
      "66:\tlearn: 16.0223214\ttotal: 90.6ms\tremaining: 97.3ms\n",
      "67:\tlearn: 15.9633764\ttotal: 91.7ms\tremaining: 95.7ms\n",
      "68:\tlearn: 15.9302062\ttotal: 92.9ms\tremaining: 94.2ms\n",
      "69:\tlearn: 15.8891359\ttotal: 94ms\tremaining: 92.7ms\n",
      "70:\tlearn: 15.8211791\ttotal: 95.2ms\tremaining: 91.2ms\n",
      "71:\tlearn: 15.7453419\ttotal: 96.3ms\tremaining: 89.6ms\n",
      "72:\tlearn: 15.6808648\ttotal: 97.5ms\tremaining: 88.1ms\n",
      "73:\tlearn: 15.6289197\ttotal: 98.6ms\tremaining: 86.6ms\n",
      "74:\tlearn: 15.5415818\ttotal: 99.8ms\tremaining: 85.1ms\n",
      "75:\tlearn: 15.4689112\ttotal: 101ms\tremaining: 83.6ms\n",
      "76:\tlearn: 15.4429484\ttotal: 102ms\tremaining: 82.2ms\n",
      "77:\tlearn: 15.3161100\ttotal: 103ms\tremaining: 80.7ms\n",
      "78:\tlearn: 15.3032057\ttotal: 104ms\tremaining: 79.2ms\n",
      "79:\tlearn: 15.2658317\ttotal: 105ms\tremaining: 77.7ms\n",
      "80:\tlearn: 15.1817810\ttotal: 106ms\tremaining: 76.2ms\n",
      "81:\tlearn: 15.1449406\ttotal: 108ms\tremaining: 74.7ms\n",
      "82:\tlearn: 15.0918529\ttotal: 109ms\tremaining: 73.3ms\n",
      "83:\tlearn: 15.0404768\ttotal: 110ms\tremaining: 71.9ms\n",
      "84:\tlearn: 15.0066401\ttotal: 111ms\tremaining: 70.5ms\n",
      "85:\tlearn: 14.9487957\ttotal: 112ms\tremaining: 69.1ms\n",
      "86:\tlearn: 14.8546177\ttotal: 113ms\tremaining: 67.7ms\n",
      "87:\tlearn: 14.8434091\ttotal: 114ms\tremaining: 66.3ms\n",
      "88:\tlearn: 14.8308854\ttotal: 116ms\tremaining: 65ms\n",
      "89:\tlearn: 14.7592452\ttotal: 117ms\tremaining: 63.7ms\n",
      "90:\tlearn: 14.7000220\ttotal: 118ms\tremaining: 62.3ms\n",
      "91:\tlearn: 14.5858734\ttotal: 119ms\tremaining: 61ms\n",
      "92:\tlearn: 14.5338819\ttotal: 121ms\tremaining: 59.6ms\n",
      "93:\tlearn: 14.5309769\ttotal: 122ms\tremaining: 58.2ms\n",
      "94:\tlearn: 14.5053373\ttotal: 123ms\tremaining: 56.9ms\n",
      "95:\tlearn: 14.4611046\ttotal: 124ms\tremaining: 55.5ms\n",
      "96:\tlearn: 14.4239376\ttotal: 125ms\tremaining: 54.2ms\n",
      "97:\tlearn: 14.4216247\ttotal: 126ms\tremaining: 52.8ms\n",
      "98:\tlearn: 14.3923055\ttotal: 127ms\tremaining: 51.4ms\n",
      "99:\tlearn: 14.3167890\ttotal: 128ms\tremaining: 50.1ms\n",
      "100:\tlearn: 14.2900392\ttotal: 130ms\tremaining: 48.7ms\n",
      "101:\tlearn: 14.2439646\ttotal: 131ms\tremaining: 47.4ms\n",
      "102:\tlearn: 14.1635456\ttotal: 132ms\tremaining: 46.1ms\n",
      "103:\tlearn: 14.1349354\ttotal: 133ms\tremaining: 44.7ms\n",
      "104:\tlearn: 14.0803551\ttotal: 134ms\tremaining: 43.4ms\n",
      "105:\tlearn: 14.0500461\ttotal: 135ms\tremaining: 42.1ms\n",
      "106:\tlearn: 14.0340994\ttotal: 136ms\tremaining: 40.8ms\n",
      "107:\tlearn: 14.0113800\ttotal: 138ms\tremaining: 39.5ms\n",
      "108:\tlearn: 13.9863968\ttotal: 139ms\tremaining: 38.2ms\n",
      "109:\tlearn: 13.9716153\ttotal: 140ms\tremaining: 36.9ms\n",
      "110:\tlearn: 13.9125169\ttotal: 141ms\tremaining: 35.6ms\n",
      "111:\tlearn: 13.8740655\ttotal: 142ms\tremaining: 34.3ms\n",
      "112:\tlearn: 13.8090422\ttotal: 143ms\tremaining: 33ms\n",
      "113:\tlearn: 13.8009815\ttotal: 145ms\tremaining: 31.7ms\n",
      "114:\tlearn: 13.7203113\ttotal: 146ms\tremaining: 30.4ms\n",
      "115:\tlearn: 13.7128379\ttotal: 147ms\tremaining: 29.1ms\n",
      "116:\tlearn: 13.6664112\ttotal: 148ms\tremaining: 27.9ms\n",
      "117:\tlearn: 13.6305330\ttotal: 149ms\tremaining: 26.6ms\n",
      "118:\tlearn: 13.5938135\ttotal: 150ms\tremaining: 25.3ms\n",
      "119:\tlearn: 13.5591887\ttotal: 152ms\tremaining: 24ms\n",
      "120:\tlearn: 13.4870814\ttotal: 153ms\tremaining: 22.7ms\n",
      "121:\tlearn: 13.4344260\ttotal: 154ms\tremaining: 21.5ms\n",
      "122:\tlearn: 13.4199110\ttotal: 155ms\tremaining: 20.2ms\n",
      "123:\tlearn: 13.3848357\ttotal: 156ms\tremaining: 18.9ms\n",
      "124:\tlearn: 13.3711865\ttotal: 157ms\tremaining: 17.6ms\n",
      "125:\tlearn: 13.3142052\ttotal: 159ms\tremaining: 16.4ms\n",
      "126:\tlearn: 13.2886014\ttotal: 160ms\tremaining: 15.1ms\n",
      "127:\tlearn: 13.2617988\ttotal: 161ms\tremaining: 13.8ms\n",
      "128:\tlearn: 13.2525384\ttotal: 162ms\tremaining: 12.6ms\n",
      "129:\tlearn: 13.1986015\ttotal: 163ms\tremaining: 11.3ms\n",
      "130:\tlearn: 13.1965314\ttotal: 164ms\tremaining: 10ms\n",
      "131:\tlearn: 13.1425036\ttotal: 165ms\tremaining: 8.77ms\n",
      "132:\tlearn: 13.1134078\ttotal: 166ms\tremaining: 7.51ms\n",
      "133:\tlearn: 13.0790217\ttotal: 168ms\tremaining: 6.25ms\n",
      "134:\tlearn: 13.0447879\ttotal: 169ms\tremaining: 5ms\n",
      "135:\tlearn: 13.0194765\ttotal: 170ms\tremaining: 3.75ms\n",
      "136:\tlearn: 12.9829997\ttotal: 172ms\tremaining: 2.5ms\n",
      "137:\tlearn: 12.9339585\ttotal: 173ms\tremaining: 1.25ms\n",
      "138:\tlearn: 12.8849918\ttotal: 174ms\tremaining: 0us\n",
      "Learning rate set to 0.237522\n",
      "0:\tlearn: 30.5383996\ttotal: 1.59ms\tremaining: 220ms\n",
      "1:\tlearn: 28.1911372\ttotal: 3.41ms\tremaining: 234ms\n",
      "2:\tlearn: 26.6200078\ttotal: 4.94ms\tremaining: 224ms\n",
      "3:\tlearn: 25.3441950\ttotal: 6.41ms\tremaining: 216ms\n",
      "4:\tlearn: 24.5158174\ttotal: 7.79ms\tremaining: 209ms\n",
      "5:\tlearn: 23.9633718\ttotal: 9.1ms\tremaining: 202ms\n",
      "6:\tlearn: 23.5473409\ttotal: 10.5ms\tremaining: 197ms\n",
      "7:\tlearn: 23.2009089\ttotal: 11.9ms\tremaining: 195ms\n",
      "8:\tlearn: 22.8227389\ttotal: 13.2ms\tremaining: 191ms\n",
      "9:\tlearn: 22.5877716\ttotal: 14.5ms\tremaining: 187ms\n",
      "10:\tlearn: 22.3058181\ttotal: 15.8ms\tremaining: 184ms\n",
      "11:\tlearn: 22.2274059\ttotal: 17ms\tremaining: 180ms\n",
      "12:\tlearn: 21.9736878\ttotal: 18.3ms\tremaining: 178ms\n",
      "13:\tlearn: 21.7281253\ttotal: 19.7ms\tremaining: 176ms\n",
      "14:\tlearn: 21.4703069\ttotal: 21.1ms\tremaining: 174ms\n",
      "15:\tlearn: 21.3146616\ttotal: 23ms\tremaining: 177ms\n",
      "16:\tlearn: 21.1239260\ttotal: 24.7ms\tremaining: 177ms\n",
      "17:\tlearn: 20.9690493\ttotal: 26ms\tremaining: 175ms\n",
      "18:\tlearn: 20.7256297\ttotal: 27.3ms\tremaining: 172ms\n",
      "19:\tlearn: 20.6496215\ttotal: 28.6ms\tremaining: 170ms\n",
      "20:\tlearn: 20.5305550\ttotal: 29.9ms\tremaining: 168ms\n",
      "21:\tlearn: 20.4560634\ttotal: 31.2ms\tremaining: 166ms\n",
      "22:\tlearn: 20.3811005\ttotal: 32.4ms\tremaining: 164ms\n",
      "23:\tlearn: 20.3152233\ttotal: 33.8ms\tremaining: 162ms\n",
      "24:\tlearn: 20.2840746\ttotal: 34.6ms\tremaining: 158ms\n",
      "25:\tlearn: 20.1157381\ttotal: 36ms\tremaining: 156ms\n",
      "26:\tlearn: 20.0408656\ttotal: 37.2ms\tremaining: 154ms\n",
      "27:\tlearn: 19.9826350\ttotal: 38.5ms\tremaining: 153ms\n",
      "28:\tlearn: 19.8852608\ttotal: 39.9ms\tremaining: 151ms\n",
      "29:\tlearn: 19.7380214\ttotal: 41.6ms\tremaining: 151ms\n",
      "30:\tlearn: 19.6614588\ttotal: 43.7ms\tremaining: 152ms\n",
      "31:\tlearn: 19.5971975\ttotal: 45ms\tremaining: 150ms\n",
      "32:\tlearn: 19.5100396\ttotal: 46.3ms\tremaining: 149ms\n",
      "33:\tlearn: 19.3601228\ttotal: 47.6ms\tremaining: 147ms\n",
      "34:\tlearn: 19.3117190\ttotal: 48.9ms\tremaining: 145ms\n",
      "35:\tlearn: 19.2453078\ttotal: 50.2ms\tremaining: 144ms\n",
      "36:\tlearn: 19.1561541\ttotal: 51.5ms\tremaining: 142ms\n",
      "37:\tlearn: 19.1133404\ttotal: 52.8ms\tremaining: 140ms\n",
      "38:\tlearn: 19.0430912\ttotal: 54.1ms\tremaining: 139ms\n",
      "39:\tlearn: 18.8811747\ttotal: 55.4ms\tremaining: 137ms\n",
      "40:\tlearn: 18.7390792\ttotal: 56.8ms\tremaining: 136ms\n",
      "41:\tlearn: 18.6869375\ttotal: 58ms\tremaining: 134ms\n",
      "42:\tlearn: 18.5829429\ttotal: 59.3ms\tremaining: 132ms\n",
      "43:\tlearn: 18.5302770\ttotal: 60.6ms\tremaining: 131ms\n",
      "44:\tlearn: 18.4764619\ttotal: 61.9ms\tremaining: 129ms\n",
      "45:\tlearn: 18.3772089\ttotal: 63.4ms\tremaining: 128ms\n",
      "46:\tlearn: 18.3297882\ttotal: 64.6ms\tremaining: 127ms\n",
      "47:\tlearn: 18.2574575\ttotal: 66ms\tremaining: 125ms\n",
      "48:\tlearn: 18.1603932\ttotal: 67.3ms\tremaining: 124ms\n",
      "49:\tlearn: 18.0653838\ttotal: 68.6ms\tremaining: 122ms\n",
      "50:\tlearn: 17.9559627\ttotal: 69.9ms\tremaining: 121ms\n",
      "51:\tlearn: 17.9512097\ttotal: 71.2ms\tremaining: 119ms\n",
      "52:\tlearn: 17.8860330\ttotal: 72.5ms\tremaining: 118ms\n",
      "53:\tlearn: 17.8264048\ttotal: 73.8ms\tremaining: 116ms\n",
      "54:\tlearn: 17.7595808\ttotal: 75.1ms\tremaining: 115ms\n",
      "55:\tlearn: 17.7209779\ttotal: 76.4ms\tremaining: 113ms\n",
      "56:\tlearn: 17.6640475\ttotal: 77.7ms\tremaining: 112ms\n",
      "57:\tlearn: 17.6167808\ttotal: 79.1ms\tremaining: 110ms\n",
      "58:\tlearn: 17.6129238\ttotal: 80.3ms\tremaining: 109ms\n",
      "59:\tlearn: 17.6013569\ttotal: 81.6ms\tremaining: 107ms\n",
      "60:\tlearn: 17.5099277\ttotal: 82.9ms\tremaining: 106ms\n",
      "61:\tlearn: 17.3748091\ttotal: 84.2ms\tremaining: 105ms\n",
      "62:\tlearn: 17.2876352\ttotal: 85.5ms\tremaining: 103ms\n",
      "63:\tlearn: 17.2448290\ttotal: 86.8ms\tremaining: 102ms\n",
      "64:\tlearn: 17.1899132\ttotal: 88.2ms\tremaining: 100ms\n",
      "65:\tlearn: 17.1389233\ttotal: 89.6ms\tremaining: 99.1ms\n",
      "66:\tlearn: 17.1223659\ttotal: 90.8ms\tremaining: 97.6ms\n",
      "67:\tlearn: 17.0819409\ttotal: 92.1ms\tremaining: 96.2ms\n",
      "68:\tlearn: 17.0055976\ttotal: 93.4ms\tremaining: 94.7ms\n",
      "69:\tlearn: 16.9254137\ttotal: 94.7ms\tremaining: 93.4ms\n",
      "70:\tlearn: 16.8640371\ttotal: 96.1ms\tremaining: 92ms\n",
      "71:\tlearn: 16.8186688\ttotal: 97.4ms\tremaining: 90.6ms\n",
      "72:\tlearn: 16.8157612\ttotal: 98.6ms\tremaining: 89.2ms\n",
      "73:\tlearn: 16.8015123\ttotal: 99.9ms\tremaining: 87.8ms\n",
      "74:\tlearn: 16.7082487\ttotal: 101ms\tremaining: 86.4ms\n",
      "75:\tlearn: 16.6237846\ttotal: 103ms\tremaining: 85ms\n",
      "76:\tlearn: 16.5565292\ttotal: 104ms\tremaining: 83.7ms\n",
      "77:\tlearn: 16.5178323\ttotal: 105ms\tremaining: 82.3ms\n",
      "78:\tlearn: 16.4440036\ttotal: 107ms\tremaining: 80.9ms\n",
      "79:\tlearn: 16.4099580\ttotal: 108ms\tremaining: 79.5ms\n",
      "80:\tlearn: 16.3453769\ttotal: 109ms\tremaining: 78.1ms\n",
      "81:\tlearn: 16.2530726\ttotal: 110ms\tremaining: 76.8ms\n",
      "82:\tlearn: 16.2434750\ttotal: 112ms\tremaining: 75.4ms\n",
      "83:\tlearn: 16.1846422\ttotal: 113ms\tremaining: 74ms\n",
      "84:\tlearn: 16.0919180\ttotal: 114ms\tremaining: 72.7ms\n",
      "85:\tlearn: 16.0610714\ttotal: 116ms\tremaining: 71.3ms\n",
      "86:\tlearn: 16.0246051\ttotal: 117ms\tremaining: 69.9ms\n",
      "87:\tlearn: 15.9849728\ttotal: 118ms\tremaining: 68.6ms\n",
      "88:\tlearn: 15.9494622\ttotal: 120ms\tremaining: 67.3ms\n",
      "89:\tlearn: 15.8825980\ttotal: 121ms\tremaining: 66ms\n",
      "90:\tlearn: 15.8806307\ttotal: 122ms\tremaining: 64.6ms\n",
      "91:\tlearn: 15.8187272\ttotal: 124ms\tremaining: 63.2ms\n",
      "92:\tlearn: 15.8006468\ttotal: 125ms\tremaining: 61.9ms\n",
      "93:\tlearn: 15.7671976\ttotal: 127ms\tremaining: 60.7ms\n",
      "94:\tlearn: 15.7013422\ttotal: 128ms\tremaining: 59.3ms\n",
      "95:\tlearn: 15.6572865\ttotal: 129ms\tremaining: 58ms\n",
      "96:\tlearn: 15.6201583\ttotal: 131ms\tremaining: 56.6ms\n",
      "97:\tlearn: 15.5199348\ttotal: 132ms\tremaining: 55.3ms\n",
      "98:\tlearn: 15.4691639\ttotal: 134ms\tremaining: 53.9ms\n",
      "99:\tlearn: 15.4457598\ttotal: 135ms\tremaining: 52.6ms\n",
      "100:\tlearn: 15.4093115\ttotal: 136ms\tremaining: 51.2ms\n",
      "101:\tlearn: 15.3454729\ttotal: 138ms\tremaining: 49.9ms\n",
      "102:\tlearn: 15.2678272\ttotal: 139ms\tremaining: 48.5ms\n",
      "103:\tlearn: 15.2255196\ttotal: 140ms\tremaining: 47.2ms\n",
      "104:\tlearn: 15.1918681\ttotal: 141ms\tremaining: 45.8ms\n",
      "105:\tlearn: 15.1412310\ttotal: 143ms\tremaining: 44.5ms\n",
      "106:\tlearn: 15.1003551\ttotal: 144ms\tremaining: 43.1ms\n",
      "107:\tlearn: 15.0484078\ttotal: 145ms\tremaining: 41.8ms\n",
      "108:\tlearn: 15.0222741\ttotal: 147ms\tremaining: 40.4ms\n",
      "109:\tlearn: 14.9945990\ttotal: 148ms\tremaining: 39ms\n",
      "110:\tlearn: 14.9486892\ttotal: 149ms\tremaining: 37.6ms\n",
      "111:\tlearn: 14.9168396\ttotal: 151ms\tremaining: 36.3ms\n",
      "112:\tlearn: 14.8602692\ttotal: 152ms\tremaining: 34.9ms\n",
      "113:\tlearn: 14.8438983\ttotal: 153ms\tremaining: 33.6ms\n",
      "114:\tlearn: 14.7856951\ttotal: 155ms\tremaining: 32.3ms\n",
      "115:\tlearn: 14.7584750\ttotal: 157ms\tremaining: 31ms\n",
      "116:\tlearn: 14.7094764\ttotal: 158ms\tremaining: 29.7ms\n",
      "117:\tlearn: 14.6858088\ttotal: 159ms\tremaining: 28.3ms\n",
      "118:\tlearn: 14.6496029\ttotal: 160ms\tremaining: 27ms\n",
      "119:\tlearn: 14.6367621\ttotal: 162ms\tremaining: 25.6ms\n",
      "120:\tlearn: 14.5971337\ttotal: 163ms\tremaining: 24.3ms\n",
      "121:\tlearn: 14.5895057\ttotal: 165ms\tremaining: 23ms\n",
      "122:\tlearn: 14.5770627\ttotal: 166ms\tremaining: 21.6ms\n",
      "123:\tlearn: 14.5593515\ttotal: 168ms\tremaining: 20.3ms\n",
      "124:\tlearn: 14.5358905\ttotal: 169ms\tremaining: 18.9ms\n",
      "125:\tlearn: 14.4610369\ttotal: 171ms\tremaining: 17.7ms\n",
      "126:\tlearn: 14.4255847\ttotal: 172ms\tremaining: 16.3ms\n",
      "127:\tlearn: 14.4031570\ttotal: 174ms\tremaining: 14.9ms\n",
      "128:\tlearn: 14.3519963\ttotal: 175ms\tremaining: 13.6ms\n",
      "129:\tlearn: 14.3482742\ttotal: 176ms\tremaining: 12.2ms\n",
      "130:\tlearn: 14.3074891\ttotal: 177ms\tremaining: 10.8ms\n",
      "131:\tlearn: 14.2673857\ttotal: 179ms\tremaining: 9.51ms\n",
      "132:\tlearn: 14.2556865\ttotal: 181ms\tremaining: 8.16ms\n",
      "133:\tlearn: 14.2007298\ttotal: 182ms\tremaining: 6.8ms\n",
      "134:\tlearn: 14.1988736\ttotal: 183ms\tremaining: 5.44ms\n",
      "135:\tlearn: 14.1732515\ttotal: 185ms\tremaining: 4.08ms\n",
      "136:\tlearn: 14.1373750\ttotal: 186ms\tremaining: 2.72ms\n",
      "137:\tlearn: 14.0998960\ttotal: 187ms\tremaining: 1.36ms\n",
      "138:\tlearn: 14.0712216\ttotal: 189ms\tremaining: 0us\n",
      "Learning rate set to 0.246037\n",
      "0:\tlearn: 31.9830352\ttotal: 1.9ms\tremaining: 262ms\n",
      "1:\tlearn: 29.3458088\ttotal: 3.64ms\tremaining: 250ms\n",
      "2:\tlearn: 27.4786954\ttotal: 5.3ms\tremaining: 240ms\n",
      "3:\tlearn: 26.5929479\ttotal: 6.82ms\tremaining: 230ms\n",
      "4:\tlearn: 25.6669695\ttotal: 8.4ms\tremaining: 225ms\n",
      "5:\tlearn: 25.0958770\ttotal: 10ms\tremaining: 222ms\n",
      "6:\tlearn: 24.7793463\ttotal: 11.7ms\tremaining: 220ms\n",
      "7:\tlearn: 24.2233733\ttotal: 13.2ms\tremaining: 217ms\n",
      "8:\tlearn: 23.8894661\ttotal: 14.8ms\tremaining: 213ms\n",
      "9:\tlearn: 23.5556635\ttotal: 16.3ms\tremaining: 210ms\n",
      "10:\tlearn: 23.4275223\ttotal: 17.7ms\tremaining: 206ms\n",
      "11:\tlearn: 23.2514270\ttotal: 19.1ms\tremaining: 203ms\n",
      "12:\tlearn: 22.9799090\ttotal: 20.6ms\tremaining: 200ms\n",
      "13:\tlearn: 22.6080916\ttotal: 22.1ms\tremaining: 198ms\n",
      "14:\tlearn: 22.4124733\ttotal: 23.6ms\tremaining: 195ms\n",
      "15:\tlearn: 22.3295868\ttotal: 25.2ms\tremaining: 193ms\n",
      "16:\tlearn: 22.0207777\ttotal: 26.9ms\tremaining: 193ms\n",
      "17:\tlearn: 21.8329462\ttotal: 29.3ms\tremaining: 197ms\n",
      "18:\tlearn: 21.6609263\ttotal: 31.8ms\tremaining: 201ms\n",
      "19:\tlearn: 21.5659869\ttotal: 34.1ms\tremaining: 203ms\n",
      "20:\tlearn: 21.4565039\ttotal: 36.4ms\tremaining: 204ms\n",
      "21:\tlearn: 21.3628907\ttotal: 38.5ms\tremaining: 205ms\n",
      "22:\tlearn: 21.3034938\ttotal: 40.6ms\tremaining: 205ms\n",
      "23:\tlearn: 21.2202245\ttotal: 42.9ms\tremaining: 206ms\n",
      "24:\tlearn: 21.1233983\ttotal: 45.1ms\tremaining: 206ms\n",
      "25:\tlearn: 20.9959976\ttotal: 47.3ms\tremaining: 206ms\n",
      "26:\tlearn: 20.9717596\ttotal: 49.5ms\tremaining: 205ms\n",
      "27:\tlearn: 20.9055911\ttotal: 51.7ms\tremaining: 205ms\n",
      "28:\tlearn: 20.7800120\ttotal: 53.9ms\tremaining: 205ms\n",
      "29:\tlearn: 20.6298332\ttotal: 56.4ms\tremaining: 205ms\n",
      "30:\tlearn: 20.5171949\ttotal: 58.7ms\tremaining: 204ms\n",
      "31:\tlearn: 20.4121342\ttotal: 60.4ms\tremaining: 202ms\n",
      "32:\tlearn: 20.3457133\ttotal: 62.2ms\tremaining: 200ms\n",
      "33:\tlearn: 20.2605754\ttotal: 64.2ms\tremaining: 198ms\n",
      "34:\tlearn: 20.2043531\ttotal: 65.7ms\tremaining: 195ms\n",
      "35:\tlearn: 20.0734079\ttotal: 67.5ms\tremaining: 193ms\n",
      "36:\tlearn: 19.9901408\ttotal: 69.1ms\tremaining: 191ms\n",
      "37:\tlearn: 19.8908363\ttotal: 70.9ms\tremaining: 189ms\n",
      "38:\tlearn: 19.8125956\ttotal: 72.6ms\tremaining: 186ms\n",
      "39:\tlearn: 19.7008880\ttotal: 74.7ms\tremaining: 185ms\n",
      "40:\tlearn: 19.5861259\ttotal: 76.5ms\tremaining: 183ms\n",
      "41:\tlearn: 19.4776565\ttotal: 78.6ms\tremaining: 182ms\n",
      "42:\tlearn: 19.4177686\ttotal: 81ms\tremaining: 181ms\n",
      "43:\tlearn: 19.3135249\ttotal: 83.5ms\tremaining: 180ms\n",
      "44:\tlearn: 19.2526089\ttotal: 85.9ms\tremaining: 179ms\n",
      "45:\tlearn: 19.1787473\ttotal: 88ms\tremaining: 178ms\n",
      "46:\tlearn: 19.1206046\ttotal: 90ms\tremaining: 176ms\n",
      "47:\tlearn: 19.0462352\ttotal: 92.6ms\tremaining: 176ms\n",
      "48:\tlearn: 19.0225930\ttotal: 94.9ms\tremaining: 174ms\n",
      "49:\tlearn: 18.9740067\ttotal: 96.6ms\tremaining: 172ms\n",
      "50:\tlearn: 18.9351733\ttotal: 98.2ms\tremaining: 169ms\n",
      "51:\tlearn: 18.8126470\ttotal: 99.9ms\tremaining: 167ms\n",
      "52:\tlearn: 18.7381423\ttotal: 102ms\tremaining: 165ms\n",
      "53:\tlearn: 18.6738213\ttotal: 103ms\tremaining: 163ms\n",
      "54:\tlearn: 18.6204778\ttotal: 105ms\tremaining: 161ms\n",
      "55:\tlearn: 18.6001147\ttotal: 107ms\tremaining: 159ms\n",
      "56:\tlearn: 18.5831688\ttotal: 109ms\tremaining: 157ms\n",
      "57:\tlearn: 18.5476212\ttotal: 110ms\tremaining: 154ms\n",
      "58:\tlearn: 18.4863019\ttotal: 112ms\tremaining: 152ms\n",
      "59:\tlearn: 18.4121027\ttotal: 114ms\tremaining: 150ms\n",
      "60:\tlearn: 18.3426054\ttotal: 116ms\tremaining: 148ms\n",
      "61:\tlearn: 18.2708620\ttotal: 118ms\tremaining: 147ms\n",
      "62:\tlearn: 18.2356023\ttotal: 120ms\tremaining: 145ms\n",
      "63:\tlearn: 18.1932499\ttotal: 122ms\tremaining: 143ms\n",
      "64:\tlearn: 18.1402083\ttotal: 124ms\tremaining: 141ms\n",
      "65:\tlearn: 18.1169753\ttotal: 126ms\tremaining: 139ms\n",
      "66:\tlearn: 18.0254782\ttotal: 128ms\tremaining: 138ms\n",
      "67:\tlearn: 17.9467924\ttotal: 130ms\tremaining: 136ms\n",
      "68:\tlearn: 17.9088338\ttotal: 132ms\tremaining: 134ms\n",
      "69:\tlearn: 17.8819632\ttotal: 134ms\tremaining: 132ms\n",
      "70:\tlearn: 17.8785511\ttotal: 135ms\tremaining: 130ms\n",
      "71:\tlearn: 17.8214489\ttotal: 137ms\tremaining: 127ms\n",
      "72:\tlearn: 17.8094486\ttotal: 138ms\tremaining: 125ms\n",
      "73:\tlearn: 17.7842288\ttotal: 140ms\tremaining: 123ms\n",
      "74:\tlearn: 17.7804968\ttotal: 142ms\tremaining: 121ms\n",
      "75:\tlearn: 17.7033228\ttotal: 144ms\tremaining: 120ms\n",
      "76:\tlearn: 17.6580606\ttotal: 146ms\tremaining: 118ms\n",
      "77:\tlearn: 17.6295304\ttotal: 148ms\tremaining: 116ms\n",
      "78:\tlearn: 17.5425066\ttotal: 150ms\tremaining: 114ms\n",
      "79:\tlearn: 17.4684784\ttotal: 152ms\tremaining: 112ms\n",
      "80:\tlearn: 17.3842071\ttotal: 154ms\tremaining: 110ms\n",
      "81:\tlearn: 17.3181967\ttotal: 155ms\tremaining: 108ms\n",
      "82:\tlearn: 17.3036207\ttotal: 157ms\tremaining: 106ms\n",
      "83:\tlearn: 17.2787476\ttotal: 159ms\tremaining: 104ms\n",
      "84:\tlearn: 17.2580563\ttotal: 161ms\tremaining: 102ms\n",
      "85:\tlearn: 17.2282884\ttotal: 163ms\tremaining: 100ms\n",
      "86:\tlearn: 17.2065918\ttotal: 165ms\tremaining: 98.4ms\n",
      "87:\tlearn: 17.1905254\ttotal: 167ms\tremaining: 96.6ms\n",
      "88:\tlearn: 17.1612416\ttotal: 169ms\tremaining: 94.8ms\n",
      "89:\tlearn: 17.1440198\ttotal: 170ms\tremaining: 92.7ms\n",
      "90:\tlearn: 17.1343414\ttotal: 172ms\tremaining: 90.8ms\n",
      "91:\tlearn: 17.0590694\ttotal: 174ms\tremaining: 89ms\n",
      "92:\tlearn: 16.9790886\ttotal: 176ms\tremaining: 87.2ms\n",
      "93:\tlearn: 16.9380105\ttotal: 178ms\tremaining: 85.3ms\n",
      "94:\tlearn: 16.9009958\ttotal: 180ms\tremaining: 83.2ms\n",
      "95:\tlearn: 16.8825321\ttotal: 182ms\tremaining: 81.3ms\n",
      "96:\tlearn: 16.8784024\ttotal: 183ms\tremaining: 79.3ms\n",
      "97:\tlearn: 16.8317176\ttotal: 185ms\tremaining: 77.4ms\n",
      "98:\tlearn: 16.7775189\ttotal: 187ms\tremaining: 75.5ms\n",
      "99:\tlearn: 16.7197529\ttotal: 188ms\tremaining: 73.5ms\n",
      "100:\tlearn: 16.6737835\ttotal: 191ms\tremaining: 71.7ms\n",
      "101:\tlearn: 16.6534556\ttotal: 192ms\tremaining: 69.8ms\n",
      "102:\tlearn: 16.6051904\ttotal: 194ms\tremaining: 67.9ms\n",
      "103:\tlearn: 16.5799908\ttotal: 196ms\tremaining: 66.1ms\n",
      "104:\tlearn: 16.5761948\ttotal: 198ms\tremaining: 64.1ms\n",
      "105:\tlearn: 16.5494033\ttotal: 200ms\tremaining: 62.3ms\n",
      "106:\tlearn: 16.5167751\ttotal: 202ms\tremaining: 60.3ms\n",
      "107:\tlearn: 16.4855780\ttotal: 204ms\tremaining: 58.5ms\n",
      "108:\tlearn: 16.4250898\ttotal: 206ms\tremaining: 56.6ms\n",
      "109:\tlearn: 16.3685638\ttotal: 208ms\tremaining: 54.8ms\n",
      "110:\tlearn: 16.3018173\ttotal: 210ms\tremaining: 52.9ms\n",
      "111:\tlearn: 16.2665364\ttotal: 212ms\tremaining: 51ms\n",
      "112:\tlearn: 16.1847477\ttotal: 214ms\tremaining: 49.2ms\n",
      "113:\tlearn: 16.1586710\ttotal: 216ms\tremaining: 47.3ms\n",
      "114:\tlearn: 16.1244453\ttotal: 217ms\tremaining: 45.3ms\n",
      "115:\tlearn: 16.1157671\ttotal: 219ms\tremaining: 43.4ms\n",
      "116:\tlearn: 16.0615866\ttotal: 221ms\tremaining: 41.5ms\n",
      "117:\tlearn: 16.0104425\ttotal: 223ms\tremaining: 39.6ms\n",
      "118:\tlearn: 15.9641747\ttotal: 224ms\tremaining: 37.7ms\n",
      "119:\tlearn: 15.9380871\ttotal: 226ms\tremaining: 35.8ms\n",
      "120:\tlearn: 15.8811507\ttotal: 228ms\tremaining: 34ms\n",
      "121:\tlearn: 15.8601756\ttotal: 230ms\tremaining: 32.1ms\n",
      "122:\tlearn: 15.8353984\ttotal: 232ms\tremaining: 30.2ms\n",
      "123:\tlearn: 15.7946949\ttotal: 234ms\tremaining: 28.3ms\n",
      "124:\tlearn: 15.7309039\ttotal: 236ms\tremaining: 26.5ms\n",
      "125:\tlearn: 15.6824954\ttotal: 238ms\tremaining: 24.5ms\n",
      "126:\tlearn: 15.6790287\ttotal: 240ms\tremaining: 22.6ms\n",
      "127:\tlearn: 15.6538555\ttotal: 241ms\tremaining: 20.7ms\n",
      "128:\tlearn: 15.6287771\ttotal: 243ms\tremaining: 18.8ms\n",
      "129:\tlearn: 15.5981442\ttotal: 244ms\tremaining: 16.9ms\n",
      "130:\tlearn: 15.5334507\ttotal: 246ms\tremaining: 15ms\n",
      "131:\tlearn: 15.4906510\ttotal: 248ms\tremaining: 13.2ms\n",
      "132:\tlearn: 15.4852892\ttotal: 250ms\tremaining: 11.3ms\n",
      "133:\tlearn: 15.4755586\ttotal: 252ms\tremaining: 9.41ms\n",
      "134:\tlearn: 15.4400294\ttotal: 254ms\tremaining: 7.53ms\n",
      "135:\tlearn: 15.3917078\ttotal: 256ms\tremaining: 5.65ms\n",
      "136:\tlearn: 15.3580501\ttotal: 258ms\tremaining: 3.77ms\n",
      "137:\tlearn: 15.2926806\ttotal: 260ms\tremaining: 1.89ms\n",
      "138:\tlearn: 15.2466962\ttotal: 262ms\tremaining: 0us\n",
      "Learning rate set to 0.189793\n",
      "0:\tlearn: 27.1651296\ttotal: 1.04ms\tremaining: 145ms\n",
      "1:\tlearn: 25.2476816\ttotal: 2.03ms\tremaining: 140ms\n",
      "2:\tlearn: 23.6054412\ttotal: 2.96ms\tremaining: 135ms\n",
      "3:\tlearn: 22.3535353\ttotal: 3.86ms\tremaining: 131ms\n",
      "4:\tlearn: 21.3959425\ttotal: 4.71ms\tremaining: 127ms\n",
      "5:\tlearn: 20.7666331\ttotal: 5.56ms\tremaining: 124ms\n",
      "6:\tlearn: 20.0489579\ttotal: 6.48ms\tremaining: 123ms\n",
      "7:\tlearn: 19.3618683\ttotal: 7.38ms\tremaining: 122ms\n",
      "8:\tlearn: 18.8759294\ttotal: 8.21ms\tremaining: 119ms\n",
      "9:\tlearn: 18.4664866\ttotal: 9.07ms\tremaining: 118ms\n",
      "10:\tlearn: 18.1474339\ttotal: 9.88ms\tremaining: 116ms\n",
      "11:\tlearn: 17.9254511\ttotal: 10.7ms\tremaining: 114ms\n",
      "12:\tlearn: 17.6832927\ttotal: 11.6ms\tremaining: 113ms\n",
      "13:\tlearn: 17.5332418\ttotal: 12.5ms\tremaining: 112ms\n",
      "14:\tlearn: 17.3255760\ttotal: 13.3ms\tremaining: 111ms\n",
      "15:\tlearn: 17.1152602\ttotal: 14.1ms\tremaining: 109ms\n",
      "16:\tlearn: 16.9099713\ttotal: 14.9ms\tremaining: 108ms\n",
      "17:\tlearn: 16.7272574\ttotal: 16.2ms\tremaining: 110ms\n",
      "18:\tlearn: 16.5432578\ttotal: 17.3ms\tremaining: 110ms\n",
      "19:\tlearn: 16.4346543\ttotal: 18.1ms\tremaining: 109ms\n",
      "20:\tlearn: 16.2860054\ttotal: 19ms\tremaining: 107ms\n",
      "21:\tlearn: 16.2116449\ttotal: 19.8ms\tremaining: 106ms\n",
      "22:\tlearn: 16.1222679\ttotal: 20.6ms\tremaining: 105ms\n",
      "23:\tlearn: 15.9848576\ttotal: 21.5ms\tremaining: 104ms\n",
      "24:\tlearn: 15.8381425\ttotal: 22.3ms\tremaining: 103ms\n",
      "25:\tlearn: 15.7130048\ttotal: 23.1ms\tremaining: 101ms\n",
      "26:\tlearn: 15.5729441\ttotal: 23.8ms\tremaining: 99.7ms\n",
      "27:\tlearn: 15.4494741\ttotal: 24.6ms\tremaining: 98.6ms\n",
      "28:\tlearn: 15.3700504\ttotal: 25.4ms\tremaining: 97.4ms\n",
      "29:\tlearn: 15.1824827\ttotal: 26.2ms\tremaining: 96.1ms\n",
      "30:\tlearn: 15.1160424\ttotal: 27.1ms\tremaining: 95.3ms\n",
      "31:\tlearn: 14.8747307\ttotal: 28ms\tremaining: 94.5ms\n",
      "32:\tlearn: 14.7823476\ttotal: 28.8ms\tremaining: 93.4ms\n",
      "33:\tlearn: 14.6798708\ttotal: 29.6ms\tremaining: 92.4ms\n",
      "34:\tlearn: 14.5372456\ttotal: 30.4ms\tremaining: 91.2ms\n",
      "35:\tlearn: 14.3948151\ttotal: 31.3ms\tremaining: 90.5ms\n",
      "36:\tlearn: 14.2971889\ttotal: 32.2ms\tremaining: 89.5ms\n",
      "37:\tlearn: 14.2311611\ttotal: 32.9ms\tremaining: 88.4ms\n",
      "38:\tlearn: 14.1423755\ttotal: 33.8ms\tremaining: 87.4ms\n",
      "39:\tlearn: 14.0454073\ttotal: 34.6ms\tremaining: 86.5ms\n",
      "40:\tlearn: 13.9116218\ttotal: 35.4ms\tremaining: 85.5ms\n",
      "41:\tlearn: 13.8081813\ttotal: 36.3ms\tremaining: 84.6ms\n",
      "42:\tlearn: 13.6772437\ttotal: 37.1ms\tremaining: 83.7ms\n",
      "43:\tlearn: 13.6506314\ttotal: 37.9ms\tremaining: 82.8ms\n",
      "44:\tlearn: 13.5117767\ttotal: 38.7ms\tremaining: 81.8ms\n",
      "45:\tlearn: 13.4984508\ttotal: 39.5ms\tremaining: 80.7ms\n",
      "46:\tlearn: 13.4529364\ttotal: 40.3ms\tremaining: 79.7ms\n",
      "47:\tlearn: 13.3735066\ttotal: 41.3ms\tremaining: 79.1ms\n",
      "48:\tlearn: 13.3112551\ttotal: 42.1ms\tremaining: 78.2ms\n",
      "49:\tlearn: 13.3054534\ttotal: 43ms\tremaining: 77.4ms\n",
      "50:\tlearn: 13.2989165\ttotal: 43.9ms\tremaining: 76.5ms\n",
      "51:\tlearn: 13.2930243\ttotal: 44.7ms\tremaining: 75.6ms\n",
      "52:\tlearn: 13.1647053\ttotal: 45.5ms\tremaining: 74.6ms\n",
      "53:\tlearn: 13.0727253\ttotal: 46.3ms\tremaining: 73.8ms\n",
      "54:\tlearn: 13.0678886\ttotal: 47.5ms\tremaining: 73.3ms\n",
      "55:\tlearn: 13.0292416\ttotal: 48.3ms\tremaining: 72.4ms\n",
      "56:\tlearn: 12.8909577\ttotal: 49.1ms\tremaining: 71.5ms\n",
      "57:\tlearn: 12.7628702\ttotal: 49.9ms\tremaining: 70.6ms\n",
      "58:\tlearn: 12.6607920\ttotal: 51.1ms\tremaining: 70.1ms\n",
      "59:\tlearn: 12.5849456\ttotal: 51.9ms\tremaining: 69.2ms\n",
      "60:\tlearn: 12.4508493\ttotal: 52.8ms\tremaining: 68.4ms\n",
      "61:\tlearn: 12.4474187\ttotal: 53.7ms\tremaining: 67.5ms\n",
      "62:\tlearn: 12.3235527\ttotal: 54.5ms\tremaining: 66.6ms\n",
      "63:\tlearn: 12.2848439\ttotal: 55.8ms\tremaining: 66.3ms\n",
      "64:\tlearn: 12.2024347\ttotal: 56.8ms\tremaining: 65.5ms\n",
      "65:\tlearn: 12.0806483\ttotal: 57.8ms\tremaining: 64.8ms\n",
      "66:\tlearn: 11.9638587\ttotal: 58.6ms\tremaining: 63.9ms\n",
      "67:\tlearn: 11.8461413\ttotal: 59.5ms\tremaining: 63ms\n",
      "68:\tlearn: 11.7549195\ttotal: 60.3ms\tremaining: 62.1ms\n",
      "69:\tlearn: 11.6805853\ttotal: 61.1ms\tremaining: 61.1ms\n",
      "70:\tlearn: 11.6656731\ttotal: 61.7ms\tremaining: 60ms\n",
      "71:\tlearn: 11.6044258\ttotal: 62.5ms\tremaining: 59.1ms\n",
      "72:\tlearn: 11.5119626\ttotal: 63.4ms\tremaining: 58.2ms\n",
      "73:\tlearn: 11.4083082\ttotal: 64.2ms\tremaining: 57.3ms\n",
      "74:\tlearn: 11.3170531\ttotal: 65.1ms\tremaining: 56.4ms\n",
      "75:\tlearn: 11.2181816\ttotal: 65.9ms\tremaining: 55.5ms\n",
      "76:\tlearn: 11.1752408\ttotal: 66.8ms\tremaining: 54.6ms\n",
      "77:\tlearn: 11.0632720\ttotal: 67.6ms\tremaining: 53.7ms\n",
      "78:\tlearn: 10.9475627\ttotal: 68.4ms\tremaining: 52.8ms\n",
      "79:\tlearn: 10.8730962\ttotal: 69.2ms\tremaining: 51.9ms\n",
      "80:\tlearn: 10.8700973\ttotal: 69.8ms\tremaining: 50.8ms\n",
      "81:\tlearn: 10.8072848\ttotal: 70.7ms\tremaining: 50ms\n",
      "82:\tlearn: 10.7488718\ttotal: 71.5ms\tremaining: 49.1ms\n",
      "83:\tlearn: 10.7183257\ttotal: 72.3ms\tremaining: 48.2ms\n",
      "84:\tlearn: 10.6717119\ttotal: 73.2ms\tremaining: 47.4ms\n",
      "85:\tlearn: 10.6084939\ttotal: 74ms\tremaining: 46.5ms\n",
      "86:\tlearn: 10.5558493\ttotal: 74.9ms\tremaining: 45.6ms\n",
      "87:\tlearn: 10.4727649\ttotal: 75.7ms\tremaining: 44.7ms\n",
      "88:\tlearn: 10.4459282\ttotal: 76.5ms\tremaining: 43.8ms\n",
      "89:\tlearn: 10.3702155\ttotal: 77.4ms\tremaining: 43ms\n",
      "90:\tlearn: 10.3309314\ttotal: 78.2ms\tremaining: 42.1ms\n",
      "91:\tlearn: 10.2791978\ttotal: 79ms\tremaining: 41.2ms\n",
      "92:\tlearn: 10.2092629\ttotal: 79.8ms\tremaining: 40.4ms\n",
      "93:\tlearn: 10.0940641\ttotal: 80.7ms\tremaining: 39.5ms\n",
      "94:\tlearn: 10.0539510\ttotal: 81.6ms\tremaining: 38.6ms\n",
      "95:\tlearn: 9.9462870\ttotal: 82.4ms\tremaining: 37.8ms\n",
      "96:\tlearn: 9.8824723\ttotal: 83.3ms\tremaining: 36.9ms\n",
      "97:\tlearn: 9.8383778\ttotal: 84.1ms\tremaining: 36ms\n",
      "98:\tlearn: 9.8064881\ttotal: 84.9ms\tremaining: 35.1ms\n",
      "99:\tlearn: 9.7121155\ttotal: 85.7ms\tremaining: 34.3ms\n",
      "100:\tlearn: 9.6392432\ttotal: 86.6ms\tremaining: 33.4ms\n",
      "101:\tlearn: 9.5711612\ttotal: 87.4ms\tremaining: 32.6ms\n",
      "102:\tlearn: 9.5137963\ttotal: 88.3ms\tremaining: 31.7ms\n",
      "103:\tlearn: 9.4181730\ttotal: 89.1ms\tremaining: 30.8ms\n",
      "104:\tlearn: 9.3575931\ttotal: 89.9ms\tremaining: 30ms\n",
      "105:\tlearn: 9.3005179\ttotal: 90.7ms\tremaining: 29.1ms\n",
      "106:\tlearn: 9.2482085\ttotal: 91.5ms\tremaining: 28.2ms\n",
      "107:\tlearn: 9.1818022\ttotal: 92.3ms\tremaining: 27.4ms\n",
      "108:\tlearn: 9.1194678\ttotal: 93.2ms\tremaining: 26.5ms\n",
      "109:\tlearn: 9.0640199\ttotal: 94ms\tremaining: 25.6ms\n",
      "110:\tlearn: 9.0223729\ttotal: 94.9ms\tremaining: 24.8ms\n",
      "111:\tlearn: 8.9605115\ttotal: 95.8ms\tremaining: 23.9ms\n",
      "112:\tlearn: 8.8689504\ttotal: 96.6ms\tremaining: 23.1ms\n",
      "113:\tlearn: 8.8145113\ttotal: 97.4ms\tremaining: 22.2ms\n",
      "114:\tlearn: 8.7705281\ttotal: 98.3ms\tremaining: 21.4ms\n",
      "115:\tlearn: 8.7378240\ttotal: 99.1ms\tremaining: 20.5ms\n",
      "116:\tlearn: 8.6869144\ttotal: 99.9ms\tremaining: 19.6ms\n",
      "117:\tlearn: 8.6225860\ttotal: 101ms\tremaining: 18.8ms\n",
      "118:\tlearn: 8.5854491\ttotal: 102ms\tremaining: 17.9ms\n",
      "119:\tlearn: 8.5509171\ttotal: 102ms\tremaining: 17.1ms\n",
      "120:\tlearn: 8.5029747\ttotal: 103ms\tremaining: 16.2ms\n",
      "121:\tlearn: 8.4460973\ttotal: 104ms\tremaining: 15.4ms\n",
      "122:\tlearn: 8.4164938\ttotal: 105ms\tremaining: 14.5ms\n",
      "123:\tlearn: 8.3822182\ttotal: 106ms\tremaining: 13.7ms\n",
      "124:\tlearn: 8.2905349\ttotal: 107ms\tremaining: 12.8ms\n",
      "125:\tlearn: 8.2826995\ttotal: 107ms\tremaining: 11.9ms\n",
      "126:\tlearn: 8.2065474\ttotal: 108ms\tremaining: 11.1ms\n",
      "127:\tlearn: 8.1758812\ttotal: 109ms\tremaining: 10.2ms\n",
      "128:\tlearn: 8.1463263\ttotal: 110ms\tremaining: 9.37ms\n",
      "129:\tlearn: 8.0699908\ttotal: 111ms\tremaining: 8.52ms\n",
      "130:\tlearn: 8.0486678\ttotal: 112ms\tremaining: 7.66ms\n",
      "131:\tlearn: 8.0248900\ttotal: 112ms\tremaining: 6.81ms\n",
      "132:\tlearn: 8.0123246\ttotal: 113ms\tremaining: 5.96ms\n",
      "133:\tlearn: 7.9546166\ttotal: 114ms\tremaining: 5.1ms\n",
      "134:\tlearn: 7.8996972\ttotal: 115ms\tremaining: 4.25ms\n",
      "135:\tlearn: 7.8857185\ttotal: 116ms\tremaining: 3.4ms\n",
      "136:\tlearn: 7.8636797\ttotal: 116ms\tremaining: 2.55ms\n",
      "137:\tlearn: 7.8085085\ttotal: 117ms\tremaining: 1.7ms\n",
      "138:\tlearn: 7.7655477\ttotal: 118ms\tremaining: 848us\n",
      "139:\tlearn: 7.7245277\ttotal: 119ms\tremaining: 0us\n",
      "Learning rate set to 0.211684\n",
      "0:\tlearn: 28.0067815\ttotal: 1.25ms\tremaining: 174ms\n",
      "1:\tlearn: 26.2856184\ttotal: 2.5ms\tremaining: 173ms\n",
      "2:\tlearn: 24.5819977\ttotal: 3.68ms\tremaining: 168ms\n",
      "3:\tlearn: 23.5392676\ttotal: 4.74ms\tremaining: 161ms\n",
      "4:\tlearn: 22.5936738\ttotal: 5.77ms\tremaining: 156ms\n",
      "5:\tlearn: 21.8026679\ttotal: 6.81ms\tremaining: 152ms\n",
      "6:\tlearn: 21.4849330\ttotal: 7.84ms\tremaining: 149ms\n",
      "7:\tlearn: 20.8859308\ttotal: 8.87ms\tremaining: 146ms\n",
      "8:\tlearn: 20.4746315\ttotal: 9.88ms\tremaining: 144ms\n",
      "9:\tlearn: 20.2148153\ttotal: 11.6ms\tremaining: 150ms\n",
      "10:\tlearn: 19.8723964\ttotal: 12.7ms\tremaining: 149ms\n",
      "11:\tlearn: 19.4971673\ttotal: 13.8ms\tremaining: 147ms\n",
      "12:\tlearn: 19.2172829\ttotal: 14.8ms\tremaining: 144ms\n",
      "13:\tlearn: 19.0386723\ttotal: 15.8ms\tremaining: 142ms\n",
      "14:\tlearn: 18.8831667\ttotal: 16.8ms\tremaining: 140ms\n",
      "15:\tlearn: 18.8051958\ttotal: 17.8ms\tremaining: 138ms\n",
      "16:\tlearn: 18.5768897\ttotal: 18.8ms\tremaining: 136ms\n",
      "17:\tlearn: 18.4133191\ttotal: 19.8ms\tremaining: 134ms\n",
      "18:\tlearn: 18.2154295\ttotal: 20.8ms\tremaining: 132ms\n",
      "19:\tlearn: 18.0709272\ttotal: 21.7ms\tremaining: 130ms\n",
      "20:\tlearn: 17.9747223\ttotal: 22.7ms\tremaining: 129ms\n",
      "21:\tlearn: 17.9125276\ttotal: 23.7ms\tremaining: 127ms\n",
      "22:\tlearn: 17.8766015\ttotal: 24.6ms\tremaining: 125ms\n",
      "23:\tlearn: 17.7838587\ttotal: 25.6ms\tremaining: 124ms\n",
      "24:\tlearn: 17.6297199\ttotal: 26.5ms\tremaining: 122ms\n",
      "25:\tlearn: 17.5073803\ttotal: 27.5ms\tremaining: 121ms\n",
      "26:\tlearn: 17.4635542\ttotal: 28.5ms\tremaining: 119ms\n",
      "27:\tlearn: 17.3523067\ttotal: 29.5ms\tremaining: 118ms\n",
      "28:\tlearn: 17.2695650\ttotal: 30.5ms\tremaining: 117ms\n",
      "29:\tlearn: 17.1180894\ttotal: 31.4ms\tremaining: 115ms\n",
      "30:\tlearn: 17.0103176\ttotal: 32.4ms\tremaining: 114ms\n",
      "31:\tlearn: 16.9476194\ttotal: 33.4ms\tremaining: 113ms\n",
      "32:\tlearn: 16.8557050\ttotal: 34.3ms\tremaining: 111ms\n",
      "33:\tlearn: 16.7318627\ttotal: 35.6ms\tremaining: 111ms\n",
      "34:\tlearn: 16.6235843\ttotal: 36.6ms\tremaining: 110ms\n",
      "35:\tlearn: 16.4835383\ttotal: 37.6ms\tremaining: 109ms\n",
      "36:\tlearn: 16.4464365\ttotal: 38.7ms\tremaining: 108ms\n",
      "37:\tlearn: 16.3682699\ttotal: 39.6ms\tremaining: 106ms\n",
      "38:\tlearn: 16.2949932\ttotal: 40.6ms\tremaining: 105ms\n",
      "39:\tlearn: 16.1950721\ttotal: 41.6ms\tremaining: 104ms\n",
      "40:\tlearn: 16.1466969\ttotal: 42.5ms\tremaining: 103ms\n",
      "41:\tlearn: 16.0327429\ttotal: 43.5ms\tremaining: 102ms\n",
      "42:\tlearn: 15.9804758\ttotal: 44.5ms\tremaining: 100ms\n",
      "43:\tlearn: 15.9387677\ttotal: 45.4ms\tremaining: 99.1ms\n",
      "44:\tlearn: 15.8296839\ttotal: 46.4ms\tremaining: 98ms\n",
      "45:\tlearn: 15.7138357\ttotal: 47.4ms\tremaining: 96.9ms\n",
      "46:\tlearn: 15.6443440\ttotal: 48.4ms\tremaining: 95.8ms\n",
      "47:\tlearn: 15.4980324\ttotal: 49.4ms\tremaining: 94.7ms\n",
      "48:\tlearn: 15.4938566\ttotal: 50.4ms\tremaining: 93.5ms\n",
      "49:\tlearn: 15.4140130\ttotal: 51.4ms\tremaining: 92.5ms\n",
      "50:\tlearn: 15.3415417\ttotal: 52.4ms\tremaining: 91.5ms\n",
      "51:\tlearn: 15.2237534\ttotal: 53.4ms\tremaining: 90.4ms\n",
      "52:\tlearn: 15.1632293\ttotal: 54.4ms\tremaining: 89.3ms\n",
      "53:\tlearn: 15.1191394\ttotal: 55.4ms\tremaining: 88.2ms\n",
      "54:\tlearn: 15.0112783\ttotal: 56.3ms\tremaining: 87.1ms\n",
      "55:\tlearn: 15.0007674\ttotal: 57.3ms\tremaining: 85.9ms\n",
      "56:\tlearn: 14.9278821\ttotal: 58.4ms\tremaining: 85.1ms\n",
      "57:\tlearn: 14.8542260\ttotal: 59.6ms\tremaining: 84.3ms\n",
      "58:\tlearn: 14.8297886\ttotal: 60.7ms\tremaining: 83.3ms\n",
      "59:\tlearn: 14.7761679\ttotal: 61.7ms\tremaining: 82.3ms\n",
      "60:\tlearn: 14.6628786\ttotal: 62.8ms\tremaining: 81.4ms\n",
      "61:\tlearn: 14.6402587\ttotal: 63.9ms\tremaining: 80.4ms\n",
      "62:\tlearn: 14.5267383\ttotal: 64.9ms\tremaining: 79.4ms\n",
      "63:\tlearn: 14.3883273\ttotal: 66.1ms\tremaining: 78.5ms\n",
      "64:\tlearn: 14.3307411\ttotal: 67.7ms\tremaining: 78.2ms\n",
      "65:\tlearn: 14.2853789\ttotal: 68.8ms\tremaining: 77.2ms\n",
      "66:\tlearn: 14.2342380\ttotal: 69.8ms\tremaining: 76ms\n",
      "67:\tlearn: 14.1151670\ttotal: 70.8ms\tremaining: 75ms\n",
      "68:\tlearn: 14.1116809\ttotal: 72.1ms\tremaining: 74.2ms\n",
      "69:\tlearn: 13.9952149\ttotal: 73.2ms\tremaining: 73.2ms\n",
      "70:\tlearn: 13.9522459\ttotal: 74.3ms\tremaining: 72.2ms\n",
      "71:\tlearn: 13.8833455\ttotal: 75.4ms\tremaining: 71.2ms\n",
      "72:\tlearn: 13.8101618\ttotal: 76.3ms\tremaining: 70.1ms\n",
      "73:\tlearn: 13.7679874\ttotal: 77.4ms\tremaining: 69ms\n",
      "74:\tlearn: 13.6716434\ttotal: 78.5ms\tremaining: 68ms\n",
      "75:\tlearn: 13.5957868\ttotal: 79.5ms\tremaining: 66.9ms\n",
      "76:\tlearn: 13.5932277\ttotal: 80.5ms\tremaining: 65.8ms\n",
      "77:\tlearn: 13.5176469\ttotal: 81.4ms\tremaining: 64.7ms\n",
      "78:\tlearn: 13.4318100\ttotal: 82.4ms\tremaining: 63.6ms\n",
      "79:\tlearn: 13.3819148\ttotal: 83.4ms\tremaining: 62.6ms\n",
      "80:\tlearn: 13.3387104\ttotal: 84.4ms\tremaining: 61.5ms\n",
      "81:\tlearn: 13.2549830\ttotal: 85.4ms\tremaining: 60.4ms\n",
      "82:\tlearn: 13.2486763\ttotal: 86.3ms\tremaining: 59.3ms\n",
      "83:\tlearn: 13.1673660\ttotal: 87.4ms\tremaining: 58.2ms\n",
      "84:\tlearn: 13.1350884\ttotal: 88.4ms\tremaining: 57.2ms\n",
      "85:\tlearn: 13.0348464\ttotal: 89.4ms\tremaining: 56.1ms\n",
      "86:\tlearn: 12.9758622\ttotal: 90.5ms\tremaining: 55.1ms\n",
      "87:\tlearn: 12.9206494\ttotal: 91.6ms\tremaining: 54.1ms\n",
      "88:\tlearn: 12.8779922\ttotal: 92.6ms\tremaining: 53.1ms\n",
      "89:\tlearn: 12.8490439\ttotal: 93.7ms\tremaining: 52ms\n",
      "90:\tlearn: 12.7302887\ttotal: 94.7ms\tremaining: 51ms\n",
      "91:\tlearn: 12.7039914\ttotal: 95.7ms\tremaining: 49.9ms\n",
      "92:\tlearn: 12.6535616\ttotal: 96.8ms\tremaining: 48.9ms\n",
      "93:\tlearn: 12.6512443\ttotal: 97.7ms\tremaining: 47.8ms\n",
      "94:\tlearn: 12.5671709\ttotal: 98.8ms\tremaining: 46.8ms\n",
      "95:\tlearn: 12.5364849\ttotal: 99.8ms\tremaining: 45.8ms\n",
      "96:\tlearn: 12.5142803\ttotal: 101ms\tremaining: 44.7ms\n",
      "97:\tlearn: 12.4843540\ttotal: 102ms\tremaining: 43.7ms\n",
      "98:\tlearn: 12.4814343\ttotal: 103ms\tremaining: 42.8ms\n",
      "99:\tlearn: 12.4089619\ttotal: 105ms\tremaining: 41.8ms\n",
      "100:\tlearn: 12.3580829\ttotal: 106ms\tremaining: 41.1ms\n",
      "101:\tlearn: 12.3061297\ttotal: 108ms\tremaining: 40.1ms\n",
      "102:\tlearn: 12.2750450\ttotal: 109ms\tremaining: 39.1ms\n",
      "103:\tlearn: 12.2194043\ttotal: 110ms\tremaining: 38ms\n",
      "104:\tlearn: 12.1922822\ttotal: 111ms\tremaining: 37.1ms\n",
      "105:\tlearn: 12.1811477\ttotal: 113ms\tremaining: 36.3ms\n",
      "106:\tlearn: 12.1292360\ttotal: 115ms\tremaining: 35.4ms\n",
      "107:\tlearn: 12.0905107\ttotal: 116ms\tremaining: 34.5ms\n",
      "108:\tlearn: 12.0281622\ttotal: 118ms\tremaining: 33.6ms\n",
      "109:\tlearn: 11.9520928\ttotal: 120ms\tremaining: 32.6ms\n",
      "110:\tlearn: 11.9010902\ttotal: 121ms\tremaining: 31.7ms\n",
      "111:\tlearn: 11.8762204\ttotal: 123ms\tremaining: 30.7ms\n",
      "112:\tlearn: 11.8283929\ttotal: 125ms\tremaining: 29.8ms\n",
      "113:\tlearn: 11.7996303\ttotal: 126ms\tremaining: 28.8ms\n",
      "114:\tlearn: 11.7889386\ttotal: 128ms\tremaining: 27.8ms\n",
      "115:\tlearn: 11.7818936\ttotal: 129ms\tremaining: 26.7ms\n",
      "116:\tlearn: 11.7441268\ttotal: 130ms\tremaining: 25.5ms\n",
      "117:\tlearn: 11.6934666\ttotal: 131ms\tremaining: 24.4ms\n",
      "118:\tlearn: 11.6440263\ttotal: 132ms\tremaining: 23.3ms\n",
      "119:\tlearn: 11.6060775\ttotal: 133ms\tremaining: 22.2ms\n",
      "120:\tlearn: 11.5567796\ttotal: 134ms\tremaining: 21ms\n",
      "121:\tlearn: 11.5379458\ttotal: 135ms\tremaining: 19.9ms\n",
      "122:\tlearn: 11.4854534\ttotal: 136ms\tremaining: 18.8ms\n",
      "123:\tlearn: 11.4654826\ttotal: 137ms\tremaining: 17.7ms\n",
      "124:\tlearn: 11.4581152\ttotal: 138ms\tremaining: 16.6ms\n",
      "125:\tlearn: 11.4216757\ttotal: 139ms\tremaining: 15.5ms\n",
      "126:\tlearn: 11.3752692\ttotal: 140ms\tremaining: 14.4ms\n",
      "127:\tlearn: 11.3538007\ttotal: 142ms\tremaining: 13.3ms\n",
      "128:\tlearn: 11.2898082\ttotal: 143ms\tremaining: 12.2ms\n",
      "129:\tlearn: 11.2422118\ttotal: 144ms\tremaining: 11.1ms\n",
      "130:\tlearn: 11.2039524\ttotal: 145ms\tremaining: 9.95ms\n",
      "131:\tlearn: 11.1693024\ttotal: 146ms\tremaining: 8.84ms\n",
      "132:\tlearn: 11.1085756\ttotal: 147ms\tremaining: 7.73ms\n",
      "133:\tlearn: 11.0173496\ttotal: 148ms\tremaining: 6.62ms\n",
      "134:\tlearn: 10.9653148\ttotal: 149ms\tremaining: 5.52ms\n",
      "135:\tlearn: 10.9047529\ttotal: 150ms\tremaining: 4.42ms\n",
      "136:\tlearn: 10.8982062\ttotal: 152ms\tremaining: 3.32ms\n",
      "137:\tlearn: 10.8838727\ttotal: 153ms\tremaining: 2.21ms\n",
      "138:\tlearn: 10.8819384\ttotal: 154ms\tremaining: 1.1ms\n",
      "139:\tlearn: 10.8090387\ttotal: 155ms\tremaining: 0us\n",
      "Learning rate set to 0.225662\n",
      "0:\tlearn: 29.3434658\ttotal: 1.43ms\tremaining: 199ms\n",
      "1:\tlearn: 27.1194870\ttotal: 2.83ms\tremaining: 195ms\n",
      "2:\tlearn: 25.6148705\ttotal: 4.08ms\tremaining: 186ms\n",
      "3:\tlearn: 24.5695401\ttotal: 5.39ms\tremaining: 183ms\n",
      "4:\tlearn: 23.5720744\ttotal: 6.64ms\tremaining: 179ms\n",
      "5:\tlearn: 23.0055188\ttotal: 7.81ms\tremaining: 174ms\n",
      "6:\tlearn: 22.6723706\ttotal: 9ms\tremaining: 171ms\n",
      "7:\tlearn: 22.2614875\ttotal: 10.1ms\tremaining: 167ms\n",
      "8:\tlearn: 21.9250537\ttotal: 11.3ms\tremaining: 165ms\n",
      "9:\tlearn: 21.7185751\ttotal: 12.4ms\tremaining: 162ms\n",
      "10:\tlearn: 21.5467503\ttotal: 13.7ms\tremaining: 161ms\n",
      "11:\tlearn: 21.4239389\ttotal: 15.5ms\tremaining: 166ms\n",
      "12:\tlearn: 21.2311042\ttotal: 17.4ms\tremaining: 170ms\n",
      "13:\tlearn: 20.9058287\ttotal: 19.4ms\tremaining: 174ms\n",
      "14:\tlearn: 20.6054768\ttotal: 21.3ms\tremaining: 177ms\n",
      "15:\tlearn: 20.4350791\ttotal: 23.3ms\tremaining: 181ms\n",
      "16:\tlearn: 20.2812598\ttotal: 25.3ms\tremaining: 183ms\n",
      "17:\tlearn: 20.0751876\ttotal: 27.2ms\tremaining: 185ms\n",
      "18:\tlearn: 19.9818295\ttotal: 29.2ms\tremaining: 186ms\n",
      "19:\tlearn: 19.8503890\ttotal: 31.1ms\tremaining: 187ms\n",
      "20:\tlearn: 19.7538978\ttotal: 32.6ms\tremaining: 185ms\n",
      "21:\tlearn: 19.6652711\ttotal: 34ms\tremaining: 182ms\n",
      "22:\tlearn: 19.5265378\ttotal: 35.3ms\tremaining: 180ms\n",
      "23:\tlearn: 19.4073518\ttotal: 36.5ms\tremaining: 176ms\n",
      "24:\tlearn: 19.3158522\ttotal: 38.1ms\tremaining: 175ms\n",
      "25:\tlearn: 19.1870501\ttotal: 40ms\tremaining: 175ms\n",
      "26:\tlearn: 19.0973120\ttotal: 41.9ms\tremaining: 176ms\n",
      "27:\tlearn: 19.0533828\ttotal: 43.8ms\tremaining: 175ms\n",
      "28:\tlearn: 18.9720854\ttotal: 45.1ms\tremaining: 172ms\n",
      "29:\tlearn: 18.8154104\ttotal: 46.8ms\tremaining: 171ms\n",
      "30:\tlearn: 18.6907896\ttotal: 48.4ms\tremaining: 170ms\n",
      "31:\tlearn: 18.6107855\ttotal: 49.7ms\tremaining: 168ms\n",
      "32:\tlearn: 18.5317409\ttotal: 51.5ms\tremaining: 167ms\n",
      "33:\tlearn: 18.4497688\ttotal: 53.3ms\tremaining: 166ms\n",
      "34:\tlearn: 18.2920867\ttotal: 54.7ms\tremaining: 164ms\n",
      "35:\tlearn: 18.1597335\ttotal: 55.9ms\tremaining: 162ms\n",
      "36:\tlearn: 18.0541708\ttotal: 57.1ms\tremaining: 159ms\n",
      "37:\tlearn: 17.9881405\ttotal: 58.4ms\tremaining: 157ms\n",
      "38:\tlearn: 17.9560577\ttotal: 59.2ms\tremaining: 153ms\n",
      "39:\tlearn: 17.9307625\ttotal: 60.3ms\tremaining: 151ms\n",
      "40:\tlearn: 17.8775339\ttotal: 61.6ms\tremaining: 149ms\n",
      "41:\tlearn: 17.8401925\ttotal: 62.8ms\tremaining: 147ms\n",
      "42:\tlearn: 17.7284147\ttotal: 64.1ms\tremaining: 145ms\n",
      "43:\tlearn: 17.7145254\ttotal: 65.2ms\tremaining: 142ms\n",
      "44:\tlearn: 17.7043380\ttotal: 66.3ms\tremaining: 140ms\n",
      "45:\tlearn: 17.6376838\ttotal: 67.6ms\tremaining: 138ms\n",
      "46:\tlearn: 17.5302726\ttotal: 68.7ms\tremaining: 136ms\n",
      "47:\tlearn: 17.4625437\ttotal: 69.9ms\tremaining: 134ms\n",
      "48:\tlearn: 17.4544561\ttotal: 71.1ms\tremaining: 132ms\n",
      "49:\tlearn: 17.3816258\ttotal: 72.3ms\tremaining: 130ms\n",
      "50:\tlearn: 17.3177816\ttotal: 73.4ms\tremaining: 128ms\n",
      "51:\tlearn: 17.2203882\ttotal: 75.3ms\tremaining: 127ms\n",
      "52:\tlearn: 17.1310880\ttotal: 77.1ms\tremaining: 126ms\n",
      "53:\tlearn: 17.0319055\ttotal: 78.9ms\tremaining: 126ms\n",
      "54:\tlearn: 16.8971905\ttotal: 80.8ms\tremaining: 125ms\n",
      "55:\tlearn: 16.8924664\ttotal: 82.5ms\tremaining: 124ms\n",
      "56:\tlearn: 16.7355655\ttotal: 84.3ms\tremaining: 123ms\n",
      "57:\tlearn: 16.6428599\ttotal: 86.1ms\tremaining: 122ms\n",
      "58:\tlearn: 16.5737982\ttotal: 87.8ms\tremaining: 121ms\n",
      "59:\tlearn: 16.4583213\ttotal: 89.6ms\tremaining: 120ms\n",
      "60:\tlearn: 16.3782780\ttotal: 91.4ms\tremaining: 118ms\n",
      "61:\tlearn: 16.2970163\ttotal: 93.2ms\tremaining: 117ms\n",
      "62:\tlearn: 16.2884466\ttotal: 94.8ms\tremaining: 116ms\n",
      "63:\tlearn: 16.2018759\ttotal: 96.4ms\tremaining: 114ms\n",
      "64:\tlearn: 16.1423711\ttotal: 97.6ms\tremaining: 113ms\n",
      "65:\tlearn: 16.0204079\ttotal: 98.8ms\tremaining: 111ms\n",
      "66:\tlearn: 15.9850380\ttotal: 99.9ms\tremaining: 109ms\n",
      "67:\tlearn: 15.9603558\ttotal: 101ms\tremaining: 107ms\n",
      "68:\tlearn: 15.9573949\ttotal: 102ms\tremaining: 105ms\n",
      "69:\tlearn: 15.9528889\ttotal: 103ms\tremaining: 103ms\n",
      "70:\tlearn: 15.8486260\ttotal: 104ms\tremaining: 101ms\n",
      "71:\tlearn: 15.8197936\ttotal: 106ms\tremaining: 99.7ms\n",
      "72:\tlearn: 15.7376234\ttotal: 107ms\tremaining: 98ms\n",
      "73:\tlearn: 15.6805690\ttotal: 108ms\tremaining: 96.3ms\n",
      "74:\tlearn: 15.6266585\ttotal: 109ms\tremaining: 94.6ms\n",
      "75:\tlearn: 15.5485553\ttotal: 110ms\tremaining: 92.9ms\n",
      "76:\tlearn: 15.4633497\ttotal: 112ms\tremaining: 91.3ms\n",
      "77:\tlearn: 15.4608669\ttotal: 113ms\tremaining: 89.5ms\n",
      "78:\tlearn: 15.4039799\ttotal: 114ms\tremaining: 87.9ms\n",
      "79:\tlearn: 15.3874369\ttotal: 115ms\tremaining: 86.2ms\n",
      "80:\tlearn: 15.3608944\ttotal: 116ms\tremaining: 84.5ms\n",
      "81:\tlearn: 15.3020548\ttotal: 117ms\tremaining: 82.9ms\n",
      "82:\tlearn: 15.2999805\ttotal: 118ms\tremaining: 81.2ms\n",
      "83:\tlearn: 15.2541563\ttotal: 119ms\tremaining: 79.6ms\n",
      "84:\tlearn: 15.2080046\ttotal: 121ms\tremaining: 78ms\n",
      "85:\tlearn: 15.1679603\ttotal: 122ms\tremaining: 76.4ms\n",
      "86:\tlearn: 15.0644577\ttotal: 123ms\tremaining: 74.8ms\n",
      "87:\tlearn: 14.9561229\ttotal: 124ms\tremaining: 73.2ms\n",
      "88:\tlearn: 14.9425778\ttotal: 125ms\tremaining: 71.6ms\n",
      "89:\tlearn: 14.8819262\ttotal: 126ms\tremaining: 70.1ms\n",
      "90:\tlearn: 14.8481467\ttotal: 127ms\tremaining: 68.5ms\n",
      "91:\tlearn: 14.7870751\ttotal: 128ms\tremaining: 67ms\n",
      "92:\tlearn: 14.7574392\ttotal: 130ms\tremaining: 65.5ms\n",
      "93:\tlearn: 14.6974356\ttotal: 131ms\tremaining: 64ms\n",
      "94:\tlearn: 14.6441893\ttotal: 132ms\tremaining: 62.5ms\n",
      "95:\tlearn: 14.5774389\ttotal: 133ms\tremaining: 61ms\n",
      "96:\tlearn: 14.5170433\ttotal: 134ms\tremaining: 59.5ms\n",
      "97:\tlearn: 14.4945897\ttotal: 135ms\tremaining: 58ms\n",
      "98:\tlearn: 14.4650564\ttotal: 136ms\tremaining: 56.5ms\n",
      "99:\tlearn: 14.4201946\ttotal: 138ms\tremaining: 55.2ms\n",
      "100:\tlearn: 14.3660201\ttotal: 139ms\tremaining: 53.8ms\n",
      "101:\tlearn: 14.3520560\ttotal: 140ms\tremaining: 52.3ms\n",
      "102:\tlearn: 14.2648034\ttotal: 142ms\tremaining: 50.8ms\n",
      "103:\tlearn: 14.2427210\ttotal: 143ms\tremaining: 49.4ms\n",
      "104:\tlearn: 14.2177812\ttotal: 144ms\tremaining: 47.9ms\n",
      "105:\tlearn: 14.1912619\ttotal: 145ms\tremaining: 46.5ms\n",
      "106:\tlearn: 14.1624014\ttotal: 146ms\tremaining: 45.1ms\n",
      "107:\tlearn: 14.1231223\ttotal: 147ms\tremaining: 43.6ms\n",
      "108:\tlearn: 14.0537519\ttotal: 148ms\tremaining: 42.2ms\n",
      "109:\tlearn: 14.0420587\ttotal: 150ms\tremaining: 40.8ms\n",
      "110:\tlearn: 13.9634617\ttotal: 151ms\tremaining: 39.4ms\n",
      "111:\tlearn: 13.9456432\ttotal: 152ms\tremaining: 38ms\n",
      "112:\tlearn: 13.9289183\ttotal: 154ms\tremaining: 36.8ms\n",
      "113:\tlearn: 13.9149537\ttotal: 156ms\tremaining: 35.5ms\n",
      "114:\tlearn: 13.8682095\ttotal: 158ms\tremaining: 34.3ms\n",
      "115:\tlearn: 13.8459693\ttotal: 160ms\tremaining: 33ms\n",
      "116:\tlearn: 13.8256597\ttotal: 161ms\tremaining: 31.6ms\n",
      "117:\tlearn: 13.7811454\ttotal: 162ms\tremaining: 30.3ms\n",
      "118:\tlearn: 13.7703773\ttotal: 164ms\tremaining: 28.9ms\n",
      "119:\tlearn: 13.7434221\ttotal: 165ms\tremaining: 27.5ms\n",
      "120:\tlearn: 13.7069622\ttotal: 166ms\tremaining: 26.1ms\n",
      "121:\tlearn: 13.6085546\ttotal: 167ms\tremaining: 24.7ms\n",
      "122:\tlearn: 13.5443341\ttotal: 169ms\tremaining: 23.4ms\n",
      "123:\tlearn: 13.5391209\ttotal: 171ms\tremaining: 22ms\n",
      "124:\tlearn: 13.5056483\ttotal: 172ms\tremaining: 20.6ms\n",
      "125:\tlearn: 13.4208277\ttotal: 173ms\tremaining: 19.2ms\n",
      "126:\tlearn: 13.4007695\ttotal: 174ms\tremaining: 17.9ms\n",
      "127:\tlearn: 13.3713653\ttotal: 176ms\tremaining: 16.5ms\n",
      "128:\tlearn: 13.3541908\ttotal: 177ms\tremaining: 15.1ms\n",
      "129:\tlearn: 13.3287353\ttotal: 178ms\tremaining: 13.7ms\n",
      "130:\tlearn: 13.2760696\ttotal: 179ms\tremaining: 12.3ms\n",
      "131:\tlearn: 13.2190785\ttotal: 181ms\tremaining: 10.9ms\n",
      "132:\tlearn: 13.2056942\ttotal: 182ms\tremaining: 9.57ms\n",
      "133:\tlearn: 13.1613196\ttotal: 183ms\tremaining: 8.19ms\n",
      "134:\tlearn: 13.1515885\ttotal: 184ms\tremaining: 6.82ms\n",
      "135:\tlearn: 13.1078822\ttotal: 185ms\tremaining: 5.45ms\n",
      "136:\tlearn: 13.0662026\ttotal: 187ms\tremaining: 4.08ms\n",
      "137:\tlearn: 13.0429256\ttotal: 188ms\tremaining: 2.72ms\n",
      "138:\tlearn: 13.0031195\ttotal: 189ms\tremaining: 1.36ms\n",
      "139:\tlearn: 12.9757485\ttotal: 191ms\tremaining: 0us\n",
      "Learning rate set to 0.236142\n",
      "0:\tlearn: 30.5534222\ttotal: 1.57ms\tremaining: 219ms\n",
      "1:\tlearn: 28.2133925\ttotal: 3.1ms\tremaining: 214ms\n",
      "2:\tlearn: 26.6447967\ttotal: 4.57ms\tremaining: 209ms\n",
      "3:\tlearn: 25.3679514\ttotal: 5.96ms\tremaining: 203ms\n",
      "4:\tlearn: 24.5375794\ttotal: 7.33ms\tremaining: 198ms\n",
      "5:\tlearn: 23.9828864\ttotal: 8.64ms\tremaining: 193ms\n",
      "6:\tlearn: 23.5650352\ttotal: 10ms\tremaining: 191ms\n",
      "7:\tlearn: 23.2180414\ttotal: 11.4ms\tremaining: 189ms\n",
      "8:\tlearn: 22.8376764\ttotal: 12.9ms\tremaining: 188ms\n",
      "9:\tlearn: 22.6024446\ttotal: 14.2ms\tremaining: 185ms\n",
      "10:\tlearn: 22.3207553\ttotal: 15.6ms\tremaining: 182ms\n",
      "11:\tlearn: 22.2426566\ttotal: 16.9ms\tremaining: 180ms\n",
      "12:\tlearn: 21.9980942\ttotal: 18.2ms\tremaining: 178ms\n",
      "13:\tlearn: 21.7606910\ttotal: 19.5ms\tremaining: 176ms\n",
      "14:\tlearn: 21.5073450\ttotal: 21ms\tremaining: 175ms\n",
      "15:\tlearn: 21.3828392\ttotal: 22.3ms\tremaining: 173ms\n",
      "16:\tlearn: 21.1630829\ttotal: 23.6ms\tremaining: 171ms\n",
      "17:\tlearn: 21.0184182\ttotal: 24.9ms\tremaining: 169ms\n",
      "18:\tlearn: 20.6914555\ttotal: 26.2ms\tremaining: 167ms\n",
      "19:\tlearn: 20.5281419\ttotal: 27.5ms\tremaining: 165ms\n",
      "20:\tlearn: 20.4080707\ttotal: 28.8ms\tremaining: 163ms\n",
      "21:\tlearn: 20.3334570\ttotal: 30.1ms\tremaining: 161ms\n",
      "22:\tlearn: 20.2454677\ttotal: 31.4ms\tremaining: 160ms\n",
      "23:\tlearn: 20.1334040\ttotal: 32.7ms\tremaining: 158ms\n",
      "24:\tlearn: 20.0668483\ttotal: 34ms\tremaining: 156ms\n",
      "25:\tlearn: 19.9746229\ttotal: 35.3ms\tremaining: 155ms\n",
      "26:\tlearn: 19.9100762\ttotal: 37ms\tremaining: 155ms\n",
      "27:\tlearn: 19.8156880\ttotal: 38.3ms\tremaining: 153ms\n",
      "28:\tlearn: 19.7373689\ttotal: 39.6ms\tremaining: 152ms\n",
      "29:\tlearn: 19.6149484\ttotal: 40.9ms\tremaining: 150ms\n",
      "30:\tlearn: 19.4928224\ttotal: 42.2ms\tremaining: 149ms\n",
      "31:\tlearn: 19.4130730\ttotal: 43.6ms\tremaining: 147ms\n",
      "32:\tlearn: 19.3606168\ttotal: 44.9ms\tremaining: 146ms\n",
      "33:\tlearn: 19.1948453\ttotal: 46.2ms\tremaining: 144ms\n",
      "34:\tlearn: 19.1342358\ttotal: 47.5ms\tremaining: 142ms\n",
      "35:\tlearn: 19.0323624\ttotal: 48.8ms\tremaining: 141ms\n",
      "36:\tlearn: 18.9180215\ttotal: 50.1ms\tremaining: 140ms\n",
      "37:\tlearn: 18.8169796\ttotal: 51.6ms\tremaining: 138ms\n",
      "38:\tlearn: 18.7515698\ttotal: 52.9ms\tremaining: 137ms\n",
      "39:\tlearn: 18.6507480\ttotal: 54.2ms\tremaining: 135ms\n",
      "40:\tlearn: 18.5858559\ttotal: 55.5ms\tremaining: 134ms\n",
      "41:\tlearn: 18.5373642\ttotal: 56.7ms\tremaining: 132ms\n",
      "42:\tlearn: 18.4685866\ttotal: 58ms\tremaining: 131ms\n",
      "43:\tlearn: 18.4462050\ttotal: 59.3ms\tremaining: 129ms\n",
      "44:\tlearn: 18.3921812\ttotal: 60.6ms\tremaining: 128ms\n",
      "45:\tlearn: 18.3565028\ttotal: 61.9ms\tremaining: 127ms\n",
      "46:\tlearn: 18.3275040\ttotal: 63.2ms\tremaining: 125ms\n",
      "47:\tlearn: 18.1955104\ttotal: 64.5ms\tremaining: 124ms\n",
      "48:\tlearn: 18.1338860\ttotal: 65.8ms\tremaining: 122ms\n",
      "49:\tlearn: 18.0691856\ttotal: 67.1ms\tremaining: 121ms\n",
      "50:\tlearn: 18.0592277\ttotal: 68.7ms\tremaining: 120ms\n",
      "51:\tlearn: 18.0229117\ttotal: 70.3ms\tremaining: 119ms\n",
      "52:\tlearn: 17.9742167\ttotal: 71.8ms\tremaining: 118ms\n",
      "53:\tlearn: 17.8819260\ttotal: 73.2ms\tremaining: 117ms\n",
      "54:\tlearn: 17.7921985\ttotal: 74.6ms\tremaining: 115ms\n",
      "55:\tlearn: 17.7448818\ttotal: 76.1ms\tremaining: 114ms\n",
      "56:\tlearn: 17.7390343\ttotal: 77.5ms\tremaining: 113ms\n",
      "57:\tlearn: 17.6194683\ttotal: 79ms\tremaining: 112ms\n",
      "58:\tlearn: 17.6145394\ttotal: 80.3ms\tremaining: 110ms\n",
      "59:\tlearn: 17.6117508\ttotal: 81.8ms\tremaining: 109ms\n",
      "60:\tlearn: 17.6087837\ttotal: 83.2ms\tremaining: 108ms\n",
      "61:\tlearn: 17.5752510\ttotal: 84.7ms\tremaining: 107ms\n",
      "62:\tlearn: 17.5730534\ttotal: 86.1ms\tremaining: 105ms\n",
      "63:\tlearn: 17.5379641\ttotal: 87.4ms\tremaining: 104ms\n",
      "64:\tlearn: 17.5037174\ttotal: 88.8ms\tremaining: 102ms\n",
      "65:\tlearn: 17.4175313\ttotal: 90.2ms\tremaining: 101ms\n",
      "66:\tlearn: 17.3503934\ttotal: 91.5ms\tremaining: 99.7ms\n",
      "67:\tlearn: 17.3020368\ttotal: 92.8ms\tremaining: 98.2ms\n",
      "68:\tlearn: 17.1945293\ttotal: 94.1ms\tremaining: 96.8ms\n",
      "69:\tlearn: 17.1221157\ttotal: 95.4ms\tremaining: 95.4ms\n",
      "70:\tlearn: 17.0641967\ttotal: 96.8ms\tremaining: 94ms\n",
      "71:\tlearn: 17.0051439\ttotal: 98.1ms\tremaining: 92.6ms\n",
      "72:\tlearn: 16.9616358\ttotal: 99.3ms\tremaining: 91.2ms\n",
      "73:\tlearn: 16.9209526\ttotal: 101ms\tremaining: 89.8ms\n",
      "74:\tlearn: 16.8801792\ttotal: 102ms\tremaining: 88.4ms\n",
      "75:\tlearn: 16.7774552\ttotal: 103ms\tremaining: 87ms\n",
      "76:\tlearn: 16.7039648\ttotal: 105ms\tremaining: 85.7ms\n",
      "77:\tlearn: 16.6886450\ttotal: 106ms\tremaining: 84.2ms\n",
      "78:\tlearn: 16.6166452\ttotal: 107ms\tremaining: 82.8ms\n",
      "79:\tlearn: 16.5300433\ttotal: 109ms\tremaining: 81.4ms\n",
      "80:\tlearn: 16.5271981\ttotal: 110ms\tremaining: 80ms\n",
      "81:\tlearn: 16.5103298\ttotal: 111ms\tremaining: 78.6ms\n",
      "82:\tlearn: 16.4806840\ttotal: 112ms\tremaining: 77.2ms\n",
      "83:\tlearn: 16.4528802\ttotal: 114ms\tremaining: 76ms\n",
      "84:\tlearn: 16.4134225\ttotal: 115ms\tremaining: 74.7ms\n",
      "85:\tlearn: 16.3572227\ttotal: 117ms\tremaining: 73.3ms\n",
      "86:\tlearn: 16.3156572\ttotal: 118ms\tremaining: 72ms\n",
      "87:\tlearn: 16.2440756\ttotal: 120ms\tremaining: 70.6ms\n",
      "88:\tlearn: 16.2127579\ttotal: 121ms\tremaining: 69.3ms\n",
      "89:\tlearn: 16.1808742\ttotal: 122ms\tremaining: 67.9ms\n",
      "90:\tlearn: 16.1470304\ttotal: 124ms\tremaining: 66.5ms\n",
      "91:\tlearn: 16.1043129\ttotal: 125ms\tremaining: 65.1ms\n",
      "92:\tlearn: 16.0564047\ttotal: 126ms\tremaining: 63.8ms\n",
      "93:\tlearn: 16.0521805\ttotal: 128ms\tremaining: 62.4ms\n",
      "94:\tlearn: 15.9995127\ttotal: 129ms\tremaining: 61.1ms\n",
      "95:\tlearn: 15.9386402\ttotal: 130ms\tremaining: 59.7ms\n",
      "96:\tlearn: 15.8601135\ttotal: 132ms\tremaining: 58.3ms\n",
      "97:\tlearn: 15.8380413\ttotal: 133ms\tremaining: 57ms\n",
      "98:\tlearn: 15.7790262\ttotal: 135ms\tremaining: 55.9ms\n",
      "99:\tlearn: 15.7474253\ttotal: 136ms\tremaining: 54.6ms\n",
      "100:\tlearn: 15.7216061\ttotal: 138ms\tremaining: 53.2ms\n",
      "101:\tlearn: 15.6539402\ttotal: 139ms\tremaining: 51.8ms\n",
      "102:\tlearn: 15.5986642\ttotal: 140ms\tremaining: 50.5ms\n",
      "103:\tlearn: 15.5425526\ttotal: 142ms\tremaining: 49.1ms\n",
      "104:\tlearn: 15.4935647\ttotal: 143ms\tremaining: 47.7ms\n",
      "105:\tlearn: 15.4703855\ttotal: 144ms\tremaining: 46.3ms\n",
      "106:\tlearn: 15.4600786\ttotal: 146ms\tremaining: 44.9ms\n",
      "107:\tlearn: 15.3782337\ttotal: 147ms\tremaining: 43.6ms\n",
      "108:\tlearn: 15.3389150\ttotal: 148ms\tremaining: 42.2ms\n",
      "109:\tlearn: 15.2968798\ttotal: 150ms\tremaining: 40.8ms\n",
      "110:\tlearn: 15.2547837\ttotal: 151ms\tremaining: 39.5ms\n",
      "111:\tlearn: 15.2275933\ttotal: 152ms\tremaining: 38.1ms\n",
      "112:\tlearn: 15.1870316\ttotal: 154ms\tremaining: 36.7ms\n",
      "113:\tlearn: 15.1674520\ttotal: 155ms\tremaining: 35.4ms\n",
      "114:\tlearn: 15.1449969\ttotal: 156ms\tremaining: 34ms\n",
      "115:\tlearn: 15.1175715\ttotal: 158ms\tremaining: 32.6ms\n",
      "116:\tlearn: 15.1157444\ttotal: 159ms\tremaining: 31.2ms\n",
      "117:\tlearn: 15.0384740\ttotal: 160ms\tremaining: 29.9ms\n",
      "118:\tlearn: 14.9890066\ttotal: 162ms\tremaining: 28.5ms\n",
      "119:\tlearn: 14.9321446\ttotal: 163ms\tremaining: 27.2ms\n",
      "120:\tlearn: 14.8964091\ttotal: 164ms\tremaining: 25.8ms\n",
      "121:\tlearn: 14.8790387\ttotal: 166ms\tremaining: 24.4ms\n",
      "122:\tlearn: 14.8165112\ttotal: 167ms\tremaining: 23.1ms\n",
      "123:\tlearn: 14.7640670\ttotal: 168ms\tremaining: 21.7ms\n",
      "124:\tlearn: 14.7514696\ttotal: 170ms\tremaining: 20.4ms\n",
      "125:\tlearn: 14.7242730\ttotal: 171ms\tremaining: 19ms\n",
      "126:\tlearn: 14.7205967\ttotal: 172ms\tremaining: 17.6ms\n",
      "127:\tlearn: 14.7040060\ttotal: 174ms\tremaining: 16.3ms\n",
      "128:\tlearn: 14.6636255\ttotal: 175ms\tremaining: 14.9ms\n",
      "129:\tlearn: 14.6234278\ttotal: 176ms\tremaining: 13.6ms\n",
      "130:\tlearn: 14.5876366\ttotal: 178ms\tremaining: 12.2ms\n",
      "131:\tlearn: 14.5064773\ttotal: 179ms\tremaining: 10.8ms\n",
      "132:\tlearn: 14.5029229\ttotal: 180ms\tremaining: 9.48ms\n",
      "133:\tlearn: 14.5018466\ttotal: 181ms\tremaining: 8.12ms\n",
      "134:\tlearn: 14.4808614\ttotal: 183ms\tremaining: 6.77ms\n",
      "135:\tlearn: 14.4459244\ttotal: 184ms\tremaining: 5.41ms\n",
      "136:\tlearn: 14.3893540\ttotal: 185ms\tremaining: 4.06ms\n",
      "137:\tlearn: 14.3374922\ttotal: 187ms\tremaining: 2.7ms\n",
      "138:\tlearn: 14.2921045\ttotal: 188ms\tremaining: 1.35ms\n",
      "139:\tlearn: 14.2572883\ttotal: 190ms\tremaining: 0us\n",
      "Learning rate set to 0.244607\n",
      "0:\tlearn: 31.9977506\ttotal: 1.86ms\tremaining: 259ms\n",
      "1:\tlearn: 29.3694219\ttotal: 3.46ms\tremaining: 239ms\n",
      "2:\tlearn: 27.5044395\ttotal: 5.05ms\tremaining: 230ms\n",
      "3:\tlearn: 26.6165686\ttotal: 6.57ms\tremaining: 223ms\n",
      "4:\tlearn: 25.6888284\ttotal: 8.09ms\tremaining: 219ms\n",
      "5:\tlearn: 25.1155296\ttotal: 9.54ms\tremaining: 213ms\n",
      "6:\tlearn: 24.7971232\ttotal: 11.2ms\tremaining: 212ms\n",
      "7:\tlearn: 24.2386082\ttotal: 12.7ms\tremaining: 209ms\n",
      "8:\tlearn: 23.9039858\ttotal: 14.2ms\tremaining: 206ms\n",
      "9:\tlearn: 23.5691193\ttotal: 16.9ms\tremaining: 220ms\n",
      "10:\tlearn: 23.4412451\ttotal: 18.6ms\tremaining: 219ms\n",
      "11:\tlearn: 23.2643121\ttotal: 20.1ms\tremaining: 215ms\n",
      "12:\tlearn: 23.0105006\ttotal: 21.7ms\tremaining: 212ms\n",
      "13:\tlearn: 22.6133642\ttotal: 23.2ms\tremaining: 208ms\n",
      "14:\tlearn: 22.4211758\ttotal: 24.7ms\tremaining: 206ms\n",
      "15:\tlearn: 22.3388049\ttotal: 26.2ms\tremaining: 203ms\n",
      "16:\tlearn: 22.2060621\ttotal: 27.8ms\tremaining: 201ms\n",
      "17:\tlearn: 21.9862043\ttotal: 29.3ms\tremaining: 198ms\n",
      "18:\tlearn: 21.7229405\ttotal: 30.7ms\tremaining: 196ms\n",
      "19:\tlearn: 21.6343810\ttotal: 32.2ms\tremaining: 193ms\n",
      "20:\tlearn: 21.5373394\ttotal: 33.6ms\tremaining: 190ms\n",
      "21:\tlearn: 21.3831288\ttotal: 35.1ms\tremaining: 188ms\n",
      "22:\tlearn: 21.3260210\ttotal: 36.6ms\tremaining: 186ms\n",
      "23:\tlearn: 21.2122875\ttotal: 38.1ms\tremaining: 184ms\n",
      "24:\tlearn: 21.1152846\ttotal: 39.6ms\tremaining: 182ms\n",
      "25:\tlearn: 20.9535325\ttotal: 41.2ms\tremaining: 181ms\n",
      "26:\tlearn: 20.8657875\ttotal: 42.7ms\tremaining: 179ms\n",
      "27:\tlearn: 20.7732679\ttotal: 44.2ms\tremaining: 177ms\n",
      "28:\tlearn: 20.7304864\ttotal: 45.7ms\tremaining: 175ms\n",
      "29:\tlearn: 20.6029031\ttotal: 47.1ms\tremaining: 173ms\n",
      "30:\tlearn: 20.4861080\ttotal: 48.6ms\tremaining: 171ms\n",
      "31:\tlearn: 20.3625122\ttotal: 50.1ms\tremaining: 169ms\n",
      "32:\tlearn: 20.2876198\ttotal: 51.6ms\tremaining: 167ms\n",
      "33:\tlearn: 20.2156996\ttotal: 53.1ms\tremaining: 165ms\n",
      "34:\tlearn: 20.1545546\ttotal: 54.5ms\tremaining: 164ms\n",
      "35:\tlearn: 20.0204693\ttotal: 56ms\tremaining: 162ms\n",
      "36:\tlearn: 19.9328570\ttotal: 57.6ms\tremaining: 160ms\n",
      "37:\tlearn: 19.8756032\ttotal: 59.1ms\tremaining: 159ms\n",
      "38:\tlearn: 19.7938230\ttotal: 60.6ms\tremaining: 157ms\n",
      "39:\tlearn: 19.6517714\ttotal: 62.1ms\tremaining: 155ms\n",
      "40:\tlearn: 19.6027511\ttotal: 63.5ms\tremaining: 153ms\n",
      "41:\tlearn: 19.4949730\ttotal: 65ms\tremaining: 152ms\n",
      "42:\tlearn: 19.4566653\ttotal: 66.3ms\tremaining: 150ms\n",
      "43:\tlearn: 19.3844355\ttotal: 67.8ms\tremaining: 148ms\n",
      "44:\tlearn: 19.2956911\ttotal: 69.3ms\tremaining: 146ms\n",
      "45:\tlearn: 19.2098137\ttotal: 70.7ms\tremaining: 145ms\n",
      "46:\tlearn: 19.0961650\ttotal: 72.2ms\tremaining: 143ms\n",
      "47:\tlearn: 19.0331388\ttotal: 73.6ms\tremaining: 141ms\n",
      "48:\tlearn: 19.0041018\ttotal: 75ms\tremaining: 139ms\n",
      "49:\tlearn: 18.9692531\ttotal: 76.4ms\tremaining: 138ms\n",
      "50:\tlearn: 18.8840446\ttotal: 77.9ms\tremaining: 136ms\n",
      "51:\tlearn: 18.8750186\ttotal: 79.3ms\tremaining: 134ms\n",
      "52:\tlearn: 18.8010997\ttotal: 80.8ms\tremaining: 133ms\n",
      "53:\tlearn: 18.7765411\ttotal: 82.3ms\tremaining: 131ms\n",
      "54:\tlearn: 18.7242406\ttotal: 83.7ms\tremaining: 129ms\n",
      "55:\tlearn: 18.7174508\ttotal: 85.1ms\tremaining: 128ms\n",
      "56:\tlearn: 18.6271555\ttotal: 86.6ms\tremaining: 126ms\n",
      "57:\tlearn: 18.5455854\ttotal: 88.1ms\tremaining: 125ms\n",
      "58:\tlearn: 18.4923682\ttotal: 89.6ms\tremaining: 123ms\n",
      "59:\tlearn: 18.4869384\ttotal: 90.9ms\tremaining: 121ms\n",
      "60:\tlearn: 18.3627102\ttotal: 92.4ms\tremaining: 120ms\n",
      "61:\tlearn: 18.2932219\ttotal: 93.8ms\tremaining: 118ms\n",
      "62:\tlearn: 18.2802590\ttotal: 95.3ms\tremaining: 116ms\n",
      "63:\tlearn: 18.2187580\ttotal: 96.7ms\tremaining: 115ms\n",
      "64:\tlearn: 18.1669669\ttotal: 98.2ms\tremaining: 113ms\n",
      "65:\tlearn: 18.1560868\ttotal: 99.5ms\tremaining: 112ms\n",
      "66:\tlearn: 18.1206728\ttotal: 101ms\tremaining: 110ms\n",
      "67:\tlearn: 18.0284856\ttotal: 102ms\tremaining: 108ms\n",
      "68:\tlearn: 17.9956166\ttotal: 104ms\tremaining: 107ms\n",
      "69:\tlearn: 17.8994572\ttotal: 105ms\tremaining: 105ms\n",
      "70:\tlearn: 17.8352606\ttotal: 107ms\tremaining: 104ms\n",
      "71:\tlearn: 17.8082852\ttotal: 108ms\tremaining: 102ms\n",
      "72:\tlearn: 17.7274292\ttotal: 109ms\tremaining: 100ms\n",
      "73:\tlearn: 17.6909657\ttotal: 111ms\tremaining: 98.7ms\n",
      "74:\tlearn: 17.6445552\ttotal: 112ms\tremaining: 97.2ms\n",
      "75:\tlearn: 17.5876254\ttotal: 114ms\tremaining: 95.7ms\n",
      "76:\tlearn: 17.5138073\ttotal: 115ms\tremaining: 94.2ms\n",
      "77:\tlearn: 17.5053613\ttotal: 117ms\tremaining: 92.6ms\n",
      "78:\tlearn: 17.4289581\ttotal: 118ms\tremaining: 91.1ms\n",
      "79:\tlearn: 17.4035423\ttotal: 119ms\tremaining: 89.6ms\n",
      "80:\tlearn: 17.3407432\ttotal: 121ms\tremaining: 88ms\n",
      "81:\tlearn: 17.2701411\ttotal: 122ms\tremaining: 86.6ms\n",
      "82:\tlearn: 17.2230734\ttotal: 124ms\tremaining: 85.1ms\n",
      "83:\tlearn: 17.2007018\ttotal: 125ms\tremaining: 83.5ms\n",
      "84:\tlearn: 17.1745321\ttotal: 127ms\tremaining: 82ms\n",
      "85:\tlearn: 17.1116572\ttotal: 128ms\tremaining: 80.4ms\n",
      "86:\tlearn: 17.0867557\ttotal: 129ms\tremaining: 78.9ms\n",
      "87:\tlearn: 17.0121498\ttotal: 131ms\tremaining: 77.4ms\n",
      "88:\tlearn: 16.9692361\ttotal: 132ms\tremaining: 75.9ms\n",
      "89:\tlearn: 16.9298384\ttotal: 134ms\tremaining: 74.4ms\n",
      "90:\tlearn: 16.8622807\ttotal: 135ms\tremaining: 72.9ms\n",
      "91:\tlearn: 16.8589299\ttotal: 137ms\tremaining: 71.3ms\n",
      "92:\tlearn: 16.8318319\ttotal: 138ms\tremaining: 69.8ms\n",
      "93:\tlearn: 16.7946968\ttotal: 140ms\tremaining: 68.3ms\n",
      "94:\tlearn: 16.7701938\ttotal: 141ms\tremaining: 66.8ms\n",
      "95:\tlearn: 16.7312242\ttotal: 142ms\tremaining: 65.3ms\n",
      "96:\tlearn: 16.7050816\ttotal: 144ms\tremaining: 63.8ms\n",
      "97:\tlearn: 16.6789806\ttotal: 145ms\tremaining: 62.2ms\n",
      "98:\tlearn: 16.6529614\ttotal: 147ms\tremaining: 60.7ms\n",
      "99:\tlearn: 16.6282011\ttotal: 148ms\tremaining: 59.2ms\n",
      "100:\tlearn: 16.6001927\ttotal: 149ms\tremaining: 57.7ms\n",
      "101:\tlearn: 16.5586516\ttotal: 151ms\tremaining: 56.2ms\n",
      "102:\tlearn: 16.5417963\ttotal: 152ms\tremaining: 54.7ms\n",
      "103:\tlearn: 16.5186867\ttotal: 154ms\tremaining: 53.2ms\n",
      "104:\tlearn: 16.4962248\ttotal: 155ms\tremaining: 51.7ms\n",
      "105:\tlearn: 16.4887430\ttotal: 156ms\tremaining: 50.2ms\n",
      "106:\tlearn: 16.4247347\ttotal: 158ms\tremaining: 48.7ms\n",
      "107:\tlearn: 16.3450807\ttotal: 159ms\tremaining: 47.2ms\n",
      "108:\tlearn: 16.3239568\ttotal: 161ms\tremaining: 45.8ms\n",
      "109:\tlearn: 16.2640468\ttotal: 162ms\tremaining: 44.3ms\n",
      "110:\tlearn: 16.2354523\ttotal: 164ms\tremaining: 42.8ms\n",
      "111:\tlearn: 16.2328367\ttotal: 165ms\tremaining: 41.3ms\n",
      "112:\tlearn: 16.1669316\ttotal: 167ms\tremaining: 39.8ms\n",
      "113:\tlearn: 16.1404427\ttotal: 168ms\tremaining: 38.4ms\n",
      "114:\tlearn: 16.1001808\ttotal: 170ms\tremaining: 36.9ms\n",
      "115:\tlearn: 16.0868172\ttotal: 171ms\tremaining: 35.4ms\n",
      "116:\tlearn: 16.0423949\ttotal: 173ms\tremaining: 33.9ms\n",
      "117:\tlearn: 15.9986211\ttotal: 174ms\tremaining: 32.4ms\n",
      "118:\tlearn: 15.9429476\ttotal: 175ms\tremaining: 31ms\n",
      "119:\tlearn: 15.9100250\ttotal: 177ms\tremaining: 29.5ms\n",
      "120:\tlearn: 15.8538680\ttotal: 178ms\tremaining: 28ms\n",
      "121:\tlearn: 15.8334328\ttotal: 180ms\tremaining: 26.5ms\n",
      "122:\tlearn: 15.8093278\ttotal: 181ms\tremaining: 25.1ms\n",
      "123:\tlearn: 15.7926330\ttotal: 183ms\tremaining: 23.6ms\n",
      "124:\tlearn: 15.7544126\ttotal: 184ms\tremaining: 22.1ms\n",
      "125:\tlearn: 15.7108820\ttotal: 185ms\tremaining: 20.6ms\n",
      "126:\tlearn: 15.7060148\ttotal: 187ms\tremaining: 19.1ms\n",
      "127:\tlearn: 15.6513353\ttotal: 188ms\tremaining: 17.6ms\n",
      "128:\tlearn: 15.6106140\ttotal: 190ms\tremaining: 16.2ms\n",
      "129:\tlearn: 15.5907413\ttotal: 191ms\tremaining: 14.7ms\n",
      "130:\tlearn: 15.5560194\ttotal: 193ms\tremaining: 13.3ms\n",
      "131:\tlearn: 15.5525135\ttotal: 194ms\tremaining: 11.8ms\n",
      "132:\tlearn: 15.5133558\ttotal: 196ms\tremaining: 10.3ms\n",
      "133:\tlearn: 15.4875180\ttotal: 197ms\tremaining: 8.83ms\n",
      "134:\tlearn: 15.4749154\ttotal: 199ms\tremaining: 7.35ms\n",
      "135:\tlearn: 15.4456767\ttotal: 200ms\tremaining: 5.88ms\n",
      "136:\tlearn: 15.3898995\ttotal: 201ms\tremaining: 4.41ms\n",
      "137:\tlearn: 15.3802140\ttotal: 203ms\tremaining: 2.94ms\n",
      "138:\tlearn: 15.3255251\ttotal: 204ms\tremaining: 1.47ms\n",
      "139:\tlearn: 15.2859601\ttotal: 206ms\tremaining: 0us\n",
      "Learning rate set to 0.253221\n",
      "0:\tlearn: 35.0291600\ttotal: 2.13ms\tremaining: 295ms\n",
      "1:\tlearn: 32.1738420\ttotal: 3.97ms\tremaining: 272ms\n",
      "2:\tlearn: 30.2766668\ttotal: 5.8ms\tremaining: 263ms\n",
      "3:\tlearn: 29.1841234\ttotal: 7.61ms\tremaining: 257ms\n",
      "4:\tlearn: 28.1977619\ttotal: 9.47ms\tremaining: 254ms\n",
      "5:\tlearn: 27.6390391\ttotal: 11.2ms\tremaining: 248ms\n",
      "6:\tlearn: 27.2700425\ttotal: 13ms\tremaining: 245ms\n",
      "7:\tlearn: 26.6585964\ttotal: 14.6ms\tremaining: 240ms\n",
      "8:\tlearn: 26.4585720\ttotal: 16.3ms\tremaining: 236ms\n",
      "9:\tlearn: 26.1989552\ttotal: 18ms\tremaining: 232ms\n",
      "10:\tlearn: 26.1548075\ttotal: 19.5ms\tremaining: 227ms\n",
      "11:\tlearn: 25.9974314\ttotal: 21.1ms\tremaining: 223ms\n",
      "12:\tlearn: 25.8509504\ttotal: 22.7ms\tremaining: 220ms\n",
      "13:\tlearn: 25.7675604\ttotal: 24.3ms\tremaining: 217ms\n",
      "14:\tlearn: 25.3280695\ttotal: 25.9ms\tremaining: 214ms\n",
      "15:\tlearn: 24.8778011\ttotal: 27.6ms\tremaining: 212ms\n",
      "16:\tlearn: 24.7407740\ttotal: 29.3ms\tremaining: 210ms\n",
      "17:\tlearn: 24.5009447\ttotal: 31ms\tremaining: 208ms\n",
      "18:\tlearn: 24.2449890\ttotal: 32.6ms\tremaining: 206ms\n",
      "19:\tlearn: 24.1811670\ttotal: 34.3ms\tremaining: 204ms\n",
      "20:\tlearn: 24.0973052\ttotal: 35.8ms\tremaining: 201ms\n",
      "21:\tlearn: 24.0831206\ttotal: 36.5ms\tremaining: 194ms\n",
      "22:\tlearn: 23.9637776\ttotal: 38.2ms\tremaining: 193ms\n",
      "23:\tlearn: 23.8068586\ttotal: 39.9ms\tremaining: 191ms\n",
      "24:\tlearn: 23.5924323\ttotal: 41.6ms\tremaining: 190ms\n",
      "25:\tlearn: 23.4541336\ttotal: 43.2ms\tremaining: 188ms\n",
      "26:\tlearn: 23.4425634\ttotal: 44.1ms\tremaining: 183ms\n",
      "27:\tlearn: 23.3392032\ttotal: 45.8ms\tremaining: 181ms\n",
      "28:\tlearn: 23.2400215\ttotal: 47.4ms\tremaining: 180ms\n",
      "29:\tlearn: 23.1254441\ttotal: 49ms\tremaining: 178ms\n",
      "30:\tlearn: 22.9580102\ttotal: 50.7ms\tremaining: 176ms\n",
      "31:\tlearn: 22.8212758\ttotal: 52.3ms\tremaining: 175ms\n",
      "32:\tlearn: 22.7171245\ttotal: 55.1ms\tremaining: 177ms\n",
      "33:\tlearn: 22.5574846\ttotal: 57.8ms\tremaining: 179ms\n",
      "34:\tlearn: 22.4643966\ttotal: 60.5ms\tremaining: 180ms\n",
      "35:\tlearn: 22.3638829\ttotal: 63.1ms\tremaining: 180ms\n",
      "36:\tlearn: 22.3440884\ttotal: 65.6ms\tremaining: 181ms\n",
      "37:\tlearn: 22.1029104\ttotal: 67.5ms\tremaining: 179ms\n",
      "38:\tlearn: 22.0974592\ttotal: 68.1ms\tremaining: 175ms\n",
      "39:\tlearn: 22.0127506\ttotal: 69.8ms\tremaining: 173ms\n",
      "40:\tlearn: 21.7799603\ttotal: 71.7ms\tremaining: 171ms\n",
      "41:\tlearn: 21.7495725\ttotal: 73.4ms\tremaining: 170ms\n",
      "42:\tlearn: 21.6374329\ttotal: 76ms\tremaining: 170ms\n",
      "43:\tlearn: 21.6194905\ttotal: 78.7ms\tremaining: 170ms\n",
      "44:\tlearn: 21.4841552\ttotal: 81.6ms\tremaining: 170ms\n",
      "45:\tlearn: 21.3251266\ttotal: 84.2ms\tremaining: 170ms\n",
      "46:\tlearn: 21.2986235\ttotal: 85.8ms\tremaining: 168ms\n",
      "47:\tlearn: 21.1926017\ttotal: 87.5ms\tremaining: 166ms\n",
      "48:\tlearn: 21.1269156\ttotal: 89.1ms\tremaining: 164ms\n",
      "49:\tlearn: 21.0204417\ttotal: 90.8ms\tremaining: 162ms\n",
      "50:\tlearn: 20.9279737\ttotal: 92.4ms\tremaining: 159ms\n",
      "51:\tlearn: 20.8447790\ttotal: 94.1ms\tremaining: 157ms\n",
      "52:\tlearn: 20.7854977\ttotal: 95.8ms\tremaining: 155ms\n",
      "53:\tlearn: 20.7307870\ttotal: 97.5ms\tremaining: 153ms\n",
      "54:\tlearn: 20.6633301\ttotal: 99.1ms\tremaining: 151ms\n",
      "55:\tlearn: 20.6559087\ttotal: 101ms\tremaining: 149ms\n",
      "56:\tlearn: 20.5195026\ttotal: 102ms\tremaining: 147ms\n",
      "57:\tlearn: 20.5031752\ttotal: 104ms\tremaining: 145ms\n",
      "58:\tlearn: 20.4423304\ttotal: 106ms\tremaining: 143ms\n",
      "59:\tlearn: 20.3722867\ttotal: 107ms\tremaining: 141ms\n",
      "60:\tlearn: 20.3669281\ttotal: 109ms\tremaining: 139ms\n",
      "61:\tlearn: 20.3058042\ttotal: 111ms\tremaining: 137ms\n",
      "62:\tlearn: 20.2417733\ttotal: 112ms\tremaining: 135ms\n",
      "63:\tlearn: 20.2043112\ttotal: 114ms\tremaining: 133ms\n",
      "64:\tlearn: 20.1379855\ttotal: 116ms\tremaining: 131ms\n",
      "65:\tlearn: 20.1080736\ttotal: 117ms\tremaining: 130ms\n",
      "66:\tlearn: 20.0892391\ttotal: 119ms\tremaining: 128ms\n",
      "67:\tlearn: 20.0830625\ttotal: 120ms\tremaining: 126ms\n",
      "68:\tlearn: 20.0294507\ttotal: 122ms\tremaining: 124ms\n",
      "69:\tlearn: 19.9571913\ttotal: 123ms\tremaining: 122ms\n",
      "70:\tlearn: 19.8481774\ttotal: 125ms\tremaining: 120ms\n",
      "71:\tlearn: 19.7952372\ttotal: 127ms\tremaining: 118ms\n",
      "72:\tlearn: 19.7913134\ttotal: 129ms\tremaining: 116ms\n",
      "73:\tlearn: 19.7339954\ttotal: 131ms\tremaining: 115ms\n",
      "74:\tlearn: 19.6951611\ttotal: 132ms\tremaining: 113ms\n",
      "75:\tlearn: 19.6866389\ttotal: 134ms\tremaining: 111ms\n",
      "76:\tlearn: 19.6494074\ttotal: 135ms\tremaining: 109ms\n",
      "77:\tlearn: 19.5627231\ttotal: 137ms\tremaining: 107ms\n",
      "78:\tlearn: 19.5471277\ttotal: 139ms\tremaining: 105ms\n",
      "79:\tlearn: 19.5447160\ttotal: 140ms\tremaining: 103ms\n",
      "80:\tlearn: 19.4939752\ttotal: 142ms\tremaining: 101ms\n",
      "81:\tlearn: 19.4292973\ttotal: 143ms\tremaining: 99.6ms\n",
      "82:\tlearn: 19.3538772\ttotal: 145ms\tremaining: 97.8ms\n",
      "83:\tlearn: 19.2889448\ttotal: 147ms\tremaining: 96ms\n",
      "84:\tlearn: 19.2180576\ttotal: 148ms\tremaining: 94.2ms\n",
      "85:\tlearn: 19.1773506\ttotal: 150ms\tremaining: 92.3ms\n",
      "86:\tlearn: 19.1514770\ttotal: 151ms\tremaining: 90.5ms\n",
      "87:\tlearn: 19.0761654\ttotal: 153ms\tremaining: 88.8ms\n",
      "88:\tlearn: 19.0061806\ttotal: 155ms\tremaining: 87ms\n",
      "89:\tlearn: 18.9404493\ttotal: 156ms\tremaining: 85.2ms\n",
      "90:\tlearn: 18.9144116\ttotal: 158ms\tremaining: 83.4ms\n",
      "91:\tlearn: 18.8552129\ttotal: 160ms\tremaining: 81.6ms\n",
      "92:\tlearn: 18.8055669\ttotal: 161ms\tremaining: 79.8ms\n",
      "93:\tlearn: 18.7546233\ttotal: 163ms\tremaining: 78ms\n",
      "94:\tlearn: 18.7014187\ttotal: 165ms\tremaining: 76.2ms\n",
      "95:\tlearn: 18.6360827\ttotal: 166ms\tremaining: 74.4ms\n",
      "96:\tlearn: 18.5856652\ttotal: 168ms\tremaining: 72.7ms\n",
      "97:\tlearn: 18.5579915\ttotal: 170ms\tremaining: 70.9ms\n",
      "98:\tlearn: 18.4875879\ttotal: 171ms\tremaining: 69.2ms\n",
      "99:\tlearn: 18.4561629\ttotal: 173ms\tremaining: 67.4ms\n",
      "100:\tlearn: 18.4517038\ttotal: 174ms\tremaining: 65.6ms\n",
      "101:\tlearn: 18.3871497\ttotal: 176ms\tremaining: 63.9ms\n",
      "102:\tlearn: 18.3267956\ttotal: 178ms\tremaining: 62.1ms\n",
      "103:\tlearn: 18.2941622\ttotal: 179ms\tremaining: 60.3ms\n",
      "104:\tlearn: 18.2526840\ttotal: 181ms\tremaining: 58.6ms\n",
      "105:\tlearn: 18.2098544\ttotal: 183ms\tremaining: 56.8ms\n",
      "106:\tlearn: 18.2073639\ttotal: 184ms\tremaining: 55.1ms\n",
      "107:\tlearn: 18.1715310\ttotal: 186ms\tremaining: 53.3ms\n",
      "108:\tlearn: 18.1125391\ttotal: 187ms\tremaining: 51.6ms\n",
      "109:\tlearn: 18.0965152\ttotal: 189ms\tremaining: 49.8ms\n",
      "110:\tlearn: 18.0416239\ttotal: 191ms\tremaining: 48.1ms\n",
      "111:\tlearn: 18.0204508\ttotal: 192ms\tremaining: 46.3ms\n",
      "112:\tlearn: 18.0155322\ttotal: 194ms\tremaining: 44.6ms\n",
      "113:\tlearn: 17.9955655\ttotal: 196ms\tremaining: 42.9ms\n",
      "114:\tlearn: 17.9235612\ttotal: 197ms\tremaining: 41.2ms\n",
      "115:\tlearn: 17.8927723\ttotal: 199ms\tremaining: 39.4ms\n",
      "116:\tlearn: 17.8492448\ttotal: 200ms\tremaining: 37.7ms\n",
      "117:\tlearn: 17.7939021\ttotal: 202ms\tremaining: 36ms\n",
      "118:\tlearn: 17.7387990\ttotal: 204ms\tremaining: 34.3ms\n",
      "119:\tlearn: 17.6950214\ttotal: 205ms\tremaining: 32.5ms\n",
      "120:\tlearn: 17.6543307\ttotal: 207ms\tremaining: 30.8ms\n",
      "121:\tlearn: 17.6201864\ttotal: 209ms\tremaining: 29.1ms\n",
      "122:\tlearn: 17.6150088\ttotal: 210ms\tremaining: 27.4ms\n",
      "123:\tlearn: 17.6066454\ttotal: 212ms\tremaining: 25.6ms\n",
      "124:\tlearn: 17.5786673\ttotal: 214ms\tremaining: 23.9ms\n",
      "125:\tlearn: 17.5452045\ttotal: 215ms\tremaining: 22.2ms\n",
      "126:\tlearn: 17.5262948\ttotal: 217ms\tremaining: 20.5ms\n",
      "127:\tlearn: 17.4783229\ttotal: 218ms\tremaining: 18.8ms\n",
      "128:\tlearn: 17.4394251\ttotal: 220ms\tremaining: 17.1ms\n",
      "129:\tlearn: 17.4048134\ttotal: 222ms\tremaining: 15.3ms\n",
      "130:\tlearn: 17.4031745\ttotal: 223ms\tremaining: 13.6ms\n",
      "131:\tlearn: 17.3866837\ttotal: 225ms\tremaining: 11.9ms\n",
      "132:\tlearn: 17.3589705\ttotal: 226ms\tremaining: 10.2ms\n",
      "133:\tlearn: 17.3226702\ttotal: 228ms\tremaining: 8.51ms\n",
      "134:\tlearn: 17.2947159\ttotal: 230ms\tremaining: 6.8ms\n",
      "135:\tlearn: 17.2859836\ttotal: 231ms\tremaining: 5.1ms\n",
      "136:\tlearn: 17.2697331\ttotal: 233ms\tremaining: 3.4ms\n",
      "137:\tlearn: 17.2367117\ttotal: 234ms\tremaining: 1.7ms\n",
      "138:\tlearn: 17.2098349\ttotal: 236ms\tremaining: 0us\n"
     ]
    },
    {
     "data": {
      "text/plain": [
       "GridSearchCV(cv=TimeSeriesSplit(gap=0, max_train_size=None, n_splits=5, test_size=None),\n",
       "             estimator=<catboost.core.CatBoostRegressor object at 0x7fc08b01df70>,\n",
       "             param_grid={'n_estimators': range(130, 141)},\n",
       "             scoring='neg_root_mean_squared_error')"
      ]
     },
     "execution_count": 19,
     "metadata": {},
     "output_type": "execute_result"
    }
   ],
   "source": [
    "parametrs = {'n_estimators': range (130, 141, 1)}\n",
    "grid = GridSearchCV(CatBoostRegressor(random_state=12345), parametrs, scoring='neg_root_mean_squared_error', cv=tscv)\n",
    "grid.fit(features_train, target_train)"
   ]
  },
  {
   "cell_type": "code",
   "execution_count": 20,
   "metadata": {},
   "outputs": [
    {
     "data": {
      "text/plain": [
       "{'n_estimators': 139}"
      ]
     },
     "execution_count": 20,
     "metadata": {},
     "output_type": "execute_result"
    }
   ],
   "source": [
    "grid.best_params_"
   ]
  },
  {
   "cell_type": "code",
   "execution_count": 21,
   "metadata": {},
   "outputs": [
    {
     "name": "stdout",
     "output_type": "stream",
     "text": [
      "Learning rate set to 0.253221\n",
      "0:\tlearn: 35.0291600\ttotal: 2.27ms\tremaining: 313ms\n",
      "1:\tlearn: 32.1738420\ttotal: 4.23ms\tremaining: 290ms\n",
      "2:\tlearn: 30.2766668\ttotal: 6.02ms\tremaining: 273ms\n",
      "3:\tlearn: 29.1841234\ttotal: 7.8ms\tremaining: 263ms\n",
      "4:\tlearn: 28.1977619\ttotal: 9.5ms\tremaining: 255ms\n",
      "5:\tlearn: 27.6390391\ttotal: 11.2ms\tremaining: 248ms\n",
      "6:\tlearn: 27.2700425\ttotal: 12.9ms\tremaining: 242ms\n",
      "7:\tlearn: 26.6585964\ttotal: 14.5ms\tremaining: 237ms\n",
      "8:\tlearn: 26.4585720\ttotal: 16.1ms\tremaining: 233ms\n",
      "9:\tlearn: 26.1989552\ttotal: 17.7ms\tremaining: 229ms\n",
      "10:\tlearn: 26.1548075\ttotal: 19.3ms\tremaining: 225ms\n",
      "11:\tlearn: 25.9974314\ttotal: 20.9ms\tremaining: 221ms\n",
      "12:\tlearn: 25.8509504\ttotal: 22.4ms\tremaining: 217ms\n",
      "13:\tlearn: 25.7675604\ttotal: 24ms\tremaining: 214ms\n",
      "14:\tlearn: 25.3280695\ttotal: 25.6ms\tremaining: 211ms\n",
      "15:\tlearn: 24.8778011\ttotal: 27.2ms\tremaining: 209ms\n",
      "16:\tlearn: 24.7407740\ttotal: 28.8ms\tremaining: 207ms\n",
      "17:\tlearn: 24.5009447\ttotal: 30.5ms\tremaining: 205ms\n",
      "18:\tlearn: 24.2449890\ttotal: 32.1ms\tremaining: 203ms\n",
      "19:\tlearn: 24.1811670\ttotal: 33.6ms\tremaining: 200ms\n",
      "20:\tlearn: 24.0973052\ttotal: 35.2ms\tremaining: 198ms\n",
      "21:\tlearn: 24.0831206\ttotal: 35.8ms\tremaining: 191ms\n",
      "22:\tlearn: 23.9637776\ttotal: 37.5ms\tremaining: 189ms\n",
      "23:\tlearn: 23.8068586\ttotal: 39.2ms\tremaining: 188ms\n",
      "24:\tlearn: 23.5924323\ttotal: 40.8ms\tremaining: 186ms\n",
      "25:\tlearn: 23.4541336\ttotal: 42.4ms\tremaining: 184ms\n",
      "26:\tlearn: 23.4425634\ttotal: 43.3ms\tremaining: 179ms\n",
      "27:\tlearn: 23.3392032\ttotal: 45ms\tremaining: 178ms\n",
      "28:\tlearn: 23.2400215\ttotal: 46.6ms\tremaining: 177ms\n",
      "29:\tlearn: 23.1254441\ttotal: 48.2ms\tremaining: 175ms\n",
      "30:\tlearn: 22.9580102\ttotal: 49.8ms\tremaining: 174ms\n",
      "31:\tlearn: 22.8212758\ttotal: 51.6ms\tremaining: 172ms\n",
      "32:\tlearn: 22.7171245\ttotal: 53.3ms\tremaining: 171ms\n",
      "33:\tlearn: 22.5574846\ttotal: 55.2ms\tremaining: 170ms\n",
      "34:\tlearn: 22.4643966\ttotal: 56.9ms\tremaining: 169ms\n",
      "35:\tlearn: 22.3638829\ttotal: 58.6ms\tremaining: 168ms\n",
      "36:\tlearn: 22.3440884\ttotal: 60.2ms\tremaining: 166ms\n",
      "37:\tlearn: 22.1029104\ttotal: 61.9ms\tremaining: 164ms\n",
      "38:\tlearn: 22.0974592\ttotal: 62.5ms\tremaining: 160ms\n",
      "39:\tlearn: 22.0127506\ttotal: 64.2ms\tremaining: 159ms\n",
      "40:\tlearn: 21.7799603\ttotal: 65.9ms\tremaining: 157ms\n",
      "41:\tlearn: 21.7495725\ttotal: 67.4ms\tremaining: 156ms\n",
      "42:\tlearn: 21.6374329\ttotal: 69ms\tremaining: 154ms\n",
      "43:\tlearn: 21.6194905\ttotal: 70.6ms\tremaining: 152ms\n",
      "44:\tlearn: 21.4841552\ttotal: 72.2ms\tremaining: 151ms\n",
      "45:\tlearn: 21.3251266\ttotal: 73.9ms\tremaining: 149ms\n",
      "46:\tlearn: 21.2986235\ttotal: 75.6ms\tremaining: 148ms\n",
      "47:\tlearn: 21.1926017\ttotal: 77.3ms\tremaining: 146ms\n",
      "48:\tlearn: 21.1269156\ttotal: 78.9ms\tremaining: 145ms\n",
      "49:\tlearn: 21.0204417\ttotal: 80.6ms\tremaining: 144ms\n",
      "50:\tlearn: 20.9279737\ttotal: 82.3ms\tremaining: 142ms\n",
      "51:\tlearn: 20.8447790\ttotal: 84ms\tremaining: 140ms\n",
      "52:\tlearn: 20.7854977\ttotal: 85.6ms\tremaining: 139ms\n",
      "53:\tlearn: 20.7307870\ttotal: 87.2ms\tremaining: 137ms\n",
      "54:\tlearn: 20.6633301\ttotal: 88.8ms\tremaining: 136ms\n",
      "55:\tlearn: 20.6559087\ttotal: 90.4ms\tremaining: 134ms\n",
      "56:\tlearn: 20.5195026\ttotal: 92.1ms\tremaining: 132ms\n",
      "57:\tlearn: 20.5031752\ttotal: 93.6ms\tremaining: 131ms\n",
      "58:\tlearn: 20.4423304\ttotal: 95.2ms\tremaining: 129ms\n",
      "59:\tlearn: 20.3722867\ttotal: 96.8ms\tremaining: 128ms\n",
      "60:\tlearn: 20.3669281\ttotal: 98.4ms\tremaining: 126ms\n",
      "61:\tlearn: 20.3058042\ttotal: 100ms\tremaining: 124ms\n",
      "62:\tlearn: 20.2417733\ttotal: 102ms\tremaining: 123ms\n",
      "63:\tlearn: 20.2043112\ttotal: 103ms\tremaining: 121ms\n",
      "64:\tlearn: 20.1379855\ttotal: 105ms\tremaining: 119ms\n",
      "65:\tlearn: 20.1080736\ttotal: 106ms\tremaining: 118ms\n",
      "66:\tlearn: 20.0892391\ttotal: 108ms\tremaining: 116ms\n",
      "67:\tlearn: 20.0830625\ttotal: 110ms\tremaining: 114ms\n",
      "68:\tlearn: 20.0294507\ttotal: 111ms\tremaining: 113ms\n",
      "69:\tlearn: 19.9571913\ttotal: 113ms\tremaining: 111ms\n",
      "70:\tlearn: 19.8481774\ttotal: 115ms\tremaining: 110ms\n",
      "71:\tlearn: 19.7952372\ttotal: 116ms\tremaining: 108ms\n",
      "72:\tlearn: 19.7913134\ttotal: 118ms\tremaining: 106ms\n",
      "73:\tlearn: 19.7339954\ttotal: 119ms\tremaining: 105ms\n",
      "74:\tlearn: 19.6951611\ttotal: 121ms\tremaining: 103ms\n",
      "75:\tlearn: 19.6866389\ttotal: 122ms\tremaining: 101ms\n",
      "76:\tlearn: 19.6494074\ttotal: 124ms\tremaining: 99.8ms\n",
      "77:\tlearn: 19.5627231\ttotal: 126ms\tremaining: 98.2ms\n",
      "78:\tlearn: 19.5471277\ttotal: 127ms\tremaining: 96.5ms\n",
      "79:\tlearn: 19.5447160\ttotal: 129ms\tremaining: 94.8ms\n",
      "80:\tlearn: 19.4939752\ttotal: 130ms\tremaining: 93.2ms\n",
      "81:\tlearn: 19.4292973\ttotal: 132ms\tremaining: 91.6ms\n",
      "82:\tlearn: 19.3538772\ttotal: 133ms\tremaining: 90.1ms\n",
      "83:\tlearn: 19.2889448\ttotal: 135ms\tremaining: 88.5ms\n",
      "84:\tlearn: 19.2180576\ttotal: 137ms\tremaining: 86.9ms\n",
      "85:\tlearn: 19.1773506\ttotal: 138ms\tremaining: 85.2ms\n",
      "86:\tlearn: 19.1514770\ttotal: 140ms\tremaining: 83.6ms\n",
      "87:\tlearn: 19.0761654\ttotal: 142ms\tremaining: 82.1ms\n",
      "88:\tlearn: 19.0061806\ttotal: 143ms\tremaining: 80.5ms\n",
      "89:\tlearn: 18.9404493\ttotal: 145ms\tremaining: 78.9ms\n",
      "90:\tlearn: 18.9144116\ttotal: 147ms\tremaining: 77.3ms\n",
      "91:\tlearn: 18.8552129\ttotal: 148ms\tremaining: 75.7ms\n",
      "92:\tlearn: 18.8055669\ttotal: 150ms\tremaining: 74.1ms\n",
      "93:\tlearn: 18.7546233\ttotal: 151ms\tremaining: 72.5ms\n",
      "94:\tlearn: 18.7014187\ttotal: 153ms\tremaining: 70.9ms\n",
      "95:\tlearn: 18.6360827\ttotal: 155ms\tremaining: 69.3ms\n",
      "96:\tlearn: 18.5856652\ttotal: 156ms\tremaining: 67.7ms\n",
      "97:\tlearn: 18.5579915\ttotal: 158ms\tremaining: 66.1ms\n",
      "98:\tlearn: 18.4875879\ttotal: 160ms\tremaining: 64.5ms\n",
      "99:\tlearn: 18.4561629\ttotal: 162ms\tremaining: 63.1ms\n",
      "100:\tlearn: 18.4517038\ttotal: 164ms\tremaining: 61.6ms\n",
      "101:\tlearn: 18.3871497\ttotal: 165ms\tremaining: 60ms\n",
      "102:\tlearn: 18.3267956\ttotal: 167ms\tremaining: 58.4ms\n",
      "103:\tlearn: 18.2941622\ttotal: 169ms\tremaining: 56.9ms\n",
      "104:\tlearn: 18.2526840\ttotal: 171ms\tremaining: 55.3ms\n",
      "105:\tlearn: 18.2098544\ttotal: 173ms\tremaining: 54ms\n",
      "106:\tlearn: 18.2073639\ttotal: 176ms\tremaining: 52.6ms\n",
      "107:\tlearn: 18.1715310\ttotal: 179ms\tremaining: 51.3ms\n",
      "108:\tlearn: 18.1125391\ttotal: 181ms\tremaining: 49.9ms\n",
      "109:\tlearn: 18.0965152\ttotal: 184ms\tremaining: 48.5ms\n",
      "110:\tlearn: 18.0416239\ttotal: 187ms\tremaining: 47.1ms\n",
      "111:\tlearn: 18.0204508\ttotal: 189ms\tremaining: 45.7ms\n",
      "112:\tlearn: 18.0155322\ttotal: 191ms\tremaining: 44ms\n",
      "113:\tlearn: 17.9955655\ttotal: 193ms\tremaining: 42.3ms\n",
      "114:\tlearn: 17.9235612\ttotal: 194ms\tremaining: 40.6ms\n",
      "115:\tlearn: 17.8927723\ttotal: 196ms\tremaining: 38.9ms\n",
      "116:\tlearn: 17.8492448\ttotal: 198ms\tremaining: 37.2ms\n",
      "117:\tlearn: 17.7939021\ttotal: 199ms\tremaining: 35.5ms\n",
      "118:\tlearn: 17.7387990\ttotal: 201ms\tremaining: 33.8ms\n",
      "119:\tlearn: 17.6950214\ttotal: 203ms\tremaining: 32.1ms\n",
      "120:\tlearn: 17.6543307\ttotal: 204ms\tremaining: 30.4ms\n",
      "121:\tlearn: 17.6201864\ttotal: 206ms\tremaining: 28.7ms\n",
      "122:\tlearn: 17.6150088\ttotal: 208ms\tremaining: 27ms\n",
      "123:\tlearn: 17.6066454\ttotal: 209ms\tremaining: 25.3ms\n",
      "124:\tlearn: 17.5786673\ttotal: 211ms\tremaining: 23.6ms\n",
      "125:\tlearn: 17.5452045\ttotal: 212ms\tremaining: 21.9ms\n",
      "126:\tlearn: 17.5262948\ttotal: 214ms\tremaining: 20.2ms\n",
      "127:\tlearn: 17.4783229\ttotal: 215ms\tremaining: 18.5ms\n",
      "128:\tlearn: 17.4394251\ttotal: 217ms\tremaining: 16.8ms\n",
      "129:\tlearn: 17.4048134\ttotal: 219ms\tremaining: 15.1ms\n",
      "130:\tlearn: 17.4031745\ttotal: 220ms\tremaining: 13.4ms\n",
      "131:\tlearn: 17.3866837\ttotal: 222ms\tremaining: 11.8ms\n",
      "132:\tlearn: 17.3589705\ttotal: 223ms\tremaining: 10.1ms\n",
      "133:\tlearn: 17.3226702\ttotal: 225ms\tremaining: 8.4ms\n",
      "134:\tlearn: 17.2947159\ttotal: 227ms\tremaining: 6.71ms\n",
      "135:\tlearn: 17.2859836\ttotal: 228ms\tremaining: 5.03ms\n",
      "136:\tlearn: 17.2697331\ttotal: 230ms\tremaining: 3.35ms\n",
      "137:\tlearn: 17.2367117\ttotal: 231ms\tremaining: 1.68ms\n",
      "138:\tlearn: 17.2098349\ttotal: 233ms\tremaining: 0us\n"
     ]
    },
    {
     "data": {
      "text/plain": [
       "<catboost.core.CatBoostRegressor at 0x7fc08b01d5e0>"
      ]
     },
     "execution_count": 21,
     "metadata": {},
     "output_type": "execute_result"
    }
   ],
   "source": [
    "model_cat = CatBoostRegressor(random_state=12345,loss_function=\"RMSE\", iterations=139)\n",
    "model_cat.fit(features_train, target_train)"
   ]
  },
  {
   "cell_type": "markdown",
   "metadata": {},
   "source": [
    "Сравним значения RMSE моделей на обучающей выборке."
   ]
  },
  {
   "cell_type": "code",
   "execution_count": 22,
   "metadata": {},
   "outputs": [
    {
     "name": "stdout",
     "output_type": "stream",
     "text": [
      "RMSE обучающей выборки LinearRegression: 31.62646196671147\n",
      "RMSE обучающей выборки RandomForestRegressor: 9.105038710073563\n",
      "RMSE обучающей выборки DecisionTreeRegressor: 21.930223032758363\n",
      "RMSE обучающей выборки CatBoostRegressor: 17.209834898289447\n"
     ]
    }
   ],
   "source": [
    "print(\"RMSE обучающей выборки LinearRegression:\", mean_squared_error(target_train,model_lin_reg.predict(features_train))**0.5)\n",
    "print(\"RMSE обучающей выборки RandomForestRegressor:\", mean_squared_error(target_train,model_random_f.predict(features_train))**0.5)\n",
    "print(\"RMSE обучающей выборки DecisionTreeRegressor:\", mean_squared_error(target_train,model_decision_t.predict(features_train))**0.5)\n",
    "print(\"RMSE обучающей выборки CatBoostRegressor:\", mean_squared_error(target_train,model_cat.predict(features_train))**0.5)"
   ]
  },
  {
   "cell_type": "markdown",
   "metadata": {},
   "source": [
    "## Тестирование"
   ]
  },
  {
   "cell_type": "markdown",
   "metadata": {},
   "source": [
    "Проверим работу модели с лучшим результатом на тестовой выборке"
   ]
  },
  {
   "cell_type": "code",
   "execution_count": 23,
   "metadata": {},
   "outputs": [
    {
     "name": "stdout",
     "output_type": "stream",
     "text": [
      "RMSE тестовой выборки RandomForestRegressor:  52.579072881901936\n"
     ]
    }
   ],
   "source": [
    "print(\"RMSE тестовой выборки RandomForestRegressor: \", mean_squared_error(target_test,model_random_f.predict(features_test))**0.5)"
   ]
  },
  {
   "cell_type": "markdown",
   "metadata": {},
   "source": [
    "Результат хуже целевого, проверим другую модель."
   ]
  },
  {
   "cell_type": "code",
   "execution_count": 24,
   "metadata": {},
   "outputs": [
    {
     "name": "stdout",
     "output_type": "stream",
     "text": [
      "RMSE тестовой выборки CatBoostRegressor:  47.49187004889193\n"
     ]
    }
   ],
   "source": [
    "print(\"RMSE тестовой выборки CatBoostRegressor: \", mean_squared_error(target_test,model_cat.predict(features_test))**0.5)"
   ]
  },
  {
   "cell_type": "markdown",
   "metadata": {},
   "source": [
    "Результат данной модели подходит - примем ее за решение задачи."
   ]
  },
  {
   "cell_type": "code",
   "execution_count": 43,
   "metadata": {},
   "outputs": [],
   "source": [
    "predictions = pd.DataFrame(model_cat.predict(features_test), index = target_test.index)"
   ]
  },
  {
   "cell_type": "code",
   "execution_count": 48,
   "metadata": {},
   "outputs": [],
   "source": [
    "#predictions = predictions.rename(columns={\"0\": \"predictions\"}) #не работает :/"
   ]
  },
  {
   "cell_type": "code",
   "execution_count": 47,
   "metadata": {},
   "outputs": [
    {
     "data": {
      "text/plain": [
       "Text(0.5, 1.0, 'Сравнение результата модели и целевой функции')"
      ]
     },
     "execution_count": 47,
     "metadata": {},
     "output_type": "execute_result"
    },
    {
     "data": {
      "image/png": "[encoded data removed]",
      "text/plain": [
       "<Figure size 432x288 with 1 Axes>"
      ]
     },
     "metadata": {
      "needs_background": "light"
     },
     "output_type": "display_data"
    }
   ],
   "source": [
    "target_test.to_frame().join(predictions)['2018-08-13':'2018-08-17'].plot()\n",
    "plt.title('Сравнение результата модели и целевой функции')"
   ]
  },
  {
   "cell_type": "markdown",
   "metadata": {},
   "source": [
    "# Вывод"
   ]
  },
  {
   "cell_type": "markdown",
   "metadata": {},
   "source": [
    "Итог:\n",
    "- Мы загрузили данные - в материале предоставлены только время и количество заказов.\n",
    "- Агрегировали заказы по каждому часу, в качестве признаков выделили день недели, час заказа  и др\n",
    "- Подготовили выборки - обучающая составила 90% от всех данных (по условию задачи)\n",
    "- Обучили и протестировали на обеих выборках несколько моделей - линейную регрессию, случайный лес, дерево решений и CatBoostRegressor\n",
    "- Лучший результат на тестовой выборке показала модель CatBoostRegressor с 139 итерациями: RMSE тестовой выборки CatBoostRegressor:  47.5 (целевое значение RMSE - 48) "
   ]
  }
 ],
 "metadata": {
  "ExecuteTimeLog": [
   {
    "duration": 1116,
    "start_time": "2022-09-26T08:19:46.145Z"
   },
   {
    "duration": 52,
    "start_time": "2022-09-26T08:19:53.509Z"
   },
   {
    "duration": 50,
    "start_time": "2022-09-26T08:19:58.488Z"
   },
   {
    "duration": 47,
    "start_time": "2022-09-26T08:20:03.531Z"
   },
   {
    "duration": 50,
    "start_time": "2022-09-26T08:22:52.279Z"
   },
   {
    "duration": 47,
    "start_time": "2022-09-26T08:23:08.712Z"
   },
   {
    "duration": 50,
    "start_time": "2022-09-26T08:23:29.187Z"
   },
   {
    "duration": 4,
    "start_time": "2022-09-26T08:24:21.092Z"
   },
   {
    "duration": 1624,
    "start_time": "2022-09-26T08:24:51.480Z"
   },
   {
    "duration": 5,
    "start_time": "2022-09-26T08:25:06.898Z"
   },
   {
    "duration": 9,
    "start_time": "2022-09-26T08:25:10.320Z"
   },
   {
    "duration": 24,
    "start_time": "2022-09-26T08:25:20.240Z"
   },
   {
    "duration": 8,
    "start_time": "2022-09-26T08:25:45.443Z"
   },
   {
    "duration": 4,
    "start_time": "2022-09-26T08:25:47.784Z"
   },
   {
    "duration": 1099,
    "start_time": "2022-09-26T08:27:04.630Z"
   },
   {
    "duration": 3,
    "start_time": "2022-09-26T08:27:05.731Z"
   },
   {
    "duration": 20,
    "start_time": "2022-09-26T08:27:05.735Z"
   },
   {
    "duration": 8,
    "start_time": "2022-09-26T08:27:05.757Z"
   },
   {
    "duration": 7,
    "start_time": "2022-09-26T08:27:05.766Z"
   },
   {
    "duration": 9,
    "start_time": "2022-09-26T08:27:05.774Z"
   },
   {
    "duration": 19,
    "start_time": "2022-09-26T08:27:05.785Z"
   },
   {
    "duration": 1116,
    "start_time": "2022-09-26T08:27:50.300Z"
   },
   {
    "duration": 5,
    "start_time": "2022-09-26T08:27:51.418Z"
   },
   {
    "duration": 26,
    "start_time": "2022-09-26T08:27:51.425Z"
   },
   {
    "duration": 11,
    "start_time": "2022-09-26T08:27:51.453Z"
   },
   {
    "duration": 7,
    "start_time": "2022-09-26T08:27:51.466Z"
   },
   {
    "duration": 12,
    "start_time": "2022-09-26T08:27:51.475Z"
   },
   {
    "duration": 15,
    "start_time": "2022-09-26T08:27:51.488Z"
   },
   {
    "duration": 1085,
    "start_time": "2022-09-26T08:29:01.495Z"
   },
   {
    "duration": 3,
    "start_time": "2022-09-26T08:29:02.582Z"
   },
   {
    "duration": 22,
    "start_time": "2022-09-26T08:29:02.587Z"
   },
   {
    "duration": 8,
    "start_time": "2022-09-26T08:29:02.611Z"
   },
   {
    "duration": 8,
    "start_time": "2022-09-26T08:29:02.620Z"
   },
   {
    "duration": 173,
    "start_time": "2022-09-26T08:29:02.630Z"
   },
   {
    "duration": 1082,
    "start_time": "2022-09-26T08:29:33.963Z"
   },
   {
    "duration": 4,
    "start_time": "2022-09-26T08:29:35.047Z"
   },
   {
    "duration": 19,
    "start_time": "2022-09-26T08:29:35.052Z"
   },
   {
    "duration": 12,
    "start_time": "2022-09-26T08:29:35.073Z"
   },
   {
    "duration": 7,
    "start_time": "2022-09-26T08:29:35.087Z"
   },
   {
    "duration": 12,
    "start_time": "2022-09-26T08:29:35.100Z"
   },
   {
    "duration": 53,
    "start_time": "2022-09-26T08:30:30.185Z"
   },
   {
    "duration": 1004,
    "start_time": "2022-09-26T08:32:42.234Z"
   },
   {
    "duration": 1115,
    "start_time": "2022-09-26T08:32:52.177Z"
   },
   {
    "duration": 53,
    "start_time": "2022-09-26T08:32:53.294Z"
   },
   {
    "duration": 0,
    "start_time": "2022-09-26T08:32:53.349Z"
   },
   {
    "duration": 0,
    "start_time": "2022-09-26T08:32:53.350Z"
   },
   {
    "duration": 0,
    "start_time": "2022-09-26T08:32:53.351Z"
   },
   {
    "duration": 0,
    "start_time": "2022-09-26T08:32:53.352Z"
   },
   {
    "duration": 0,
    "start_time": "2022-09-26T08:32:53.353Z"
   },
   {
    "duration": 0,
    "start_time": "2022-09-26T08:32:53.354Z"
   },
   {
    "duration": 1327,
    "start_time": "2022-09-26T08:33:05.063Z"
   },
   {
    "duration": 1104,
    "start_time": "2022-09-26T08:33:11.824Z"
   },
   {
    "duration": 4,
    "start_time": "2022-09-26T08:33:12.929Z"
   },
   {
    "duration": 57,
    "start_time": "2022-09-26T08:33:12.935Z"
   },
   {
    "duration": 4,
    "start_time": "2022-09-26T08:33:12.993Z"
   },
   {
    "duration": 13,
    "start_time": "2022-09-26T08:33:12.998Z"
   },
   {
    "duration": 9,
    "start_time": "2022-09-26T08:33:13.012Z"
   },
   {
    "duration": 179,
    "start_time": "2022-09-26T08:33:13.022Z"
   },
   {
    "duration": 4,
    "start_time": "2022-09-26T08:33:19.196Z"
   },
   {
    "duration": 4,
    "start_time": "2022-09-26T08:33:30.947Z"
   },
   {
    "duration": 3,
    "start_time": "2022-09-26T08:34:26.800Z"
   },
   {
    "duration": 973,
    "start_time": "2022-09-26T08:34:43.180Z"
   },
   {
    "duration": 1309,
    "start_time": "2022-09-26T08:34:50.593Z"
   },
   {
    "duration": 3,
    "start_time": "2022-09-26T08:34:51.904Z"
   },
   {
    "duration": 42,
    "start_time": "2022-09-26T08:34:51.909Z"
   },
   {
    "duration": 52,
    "start_time": "2022-09-26T08:34:51.953Z"
   },
   {
    "duration": 40,
    "start_time": "2022-09-26T08:34:52.007Z"
   },
   {
    "duration": 77,
    "start_time": "2022-09-26T08:34:52.049Z"
   },
   {
    "duration": 51,
    "start_time": "2022-09-26T08:34:52.128Z"
   },
   {
    "duration": 218,
    "start_time": "2022-09-26T08:34:52.181Z"
   },
   {
    "duration": 14,
    "start_time": "2022-09-26T08:38:54.877Z"
   },
   {
    "duration": 1032,
    "start_time": "2022-09-26T08:39:08.052Z"
   },
   {
    "duration": 3,
    "start_time": "2022-09-26T08:39:09.086Z"
   },
   {
    "duration": 20,
    "start_time": "2022-09-26T08:39:09.091Z"
   },
   {
    "duration": 4,
    "start_time": "2022-09-26T08:39:09.113Z"
   },
   {
    "duration": 10,
    "start_time": "2022-09-26T08:39:09.118Z"
   },
   {
    "duration": 28,
    "start_time": "2022-09-26T08:39:09.129Z"
   },
   {
    "duration": 21,
    "start_time": "2022-09-26T08:39:09.159Z"
   },
   {
    "duration": 19,
    "start_time": "2022-09-26T08:39:09.181Z"
   },
   {
    "duration": 107,
    "start_time": "2022-09-26T08:39:09.202Z"
   },
   {
    "duration": 1122,
    "start_time": "2022-09-26T08:40:36.082Z"
   },
   {
    "duration": 4,
    "start_time": "2022-09-26T08:40:37.206Z"
   },
   {
    "duration": 44,
    "start_time": "2022-09-26T08:40:37.211Z"
   },
   {
    "duration": 19,
    "start_time": "2022-09-26T08:40:37.257Z"
   },
   {
    "duration": 20,
    "start_time": "2022-09-26T08:40:37.277Z"
   },
   {
    "duration": 32,
    "start_time": "2022-09-26T08:40:37.299Z"
   },
   {
    "duration": 35,
    "start_time": "2022-09-26T08:40:37.332Z"
   },
   {
    "duration": 10,
    "start_time": "2022-09-26T08:40:37.368Z"
   },
   {
    "duration": 124,
    "start_time": "2022-09-26T08:40:37.379Z"
   },
   {
    "duration": 1135,
    "start_time": "2022-09-26T08:40:52.883Z"
   },
   {
    "duration": 4,
    "start_time": "2022-09-26T08:40:54.020Z"
   },
   {
    "duration": 21,
    "start_time": "2022-09-26T08:40:54.025Z"
   },
   {
    "duration": 5,
    "start_time": "2022-09-26T08:40:54.048Z"
   },
   {
    "duration": 7,
    "start_time": "2022-09-26T08:40:54.054Z"
   },
   {
    "duration": 21,
    "start_time": "2022-09-26T08:40:54.063Z"
   },
   {
    "duration": 43,
    "start_time": "2022-09-26T08:40:54.086Z"
   },
   {
    "duration": 8,
    "start_time": "2022-09-26T08:40:54.130Z"
   },
   {
    "duration": 162,
    "start_time": "2022-09-26T08:40:54.139Z"
   },
   {
    "duration": 1257,
    "start_time": "2022-09-26T08:41:13.192Z"
   },
   {
    "duration": 52,
    "start_time": "2022-09-26T08:41:14.451Z"
   },
   {
    "duration": 55,
    "start_time": "2022-09-26T08:41:14.505Z"
   },
   {
    "duration": 42,
    "start_time": "2022-09-26T08:41:14.562Z"
   },
   {
    "duration": 34,
    "start_time": "2022-09-26T08:41:14.606Z"
   },
   {
    "duration": 80,
    "start_time": "2022-09-26T08:41:14.642Z"
   },
   {
    "duration": 11,
    "start_time": "2022-09-26T08:41:14.724Z"
   },
   {
    "duration": 69,
    "start_time": "2022-09-26T08:41:14.737Z"
   },
   {
    "duration": 197,
    "start_time": "2022-09-26T08:41:14.808Z"
   },
   {
    "duration": 1107,
    "start_time": "2022-09-26T08:41:29.607Z"
   },
   {
    "duration": 4,
    "start_time": "2022-09-26T08:41:30.716Z"
   },
   {
    "duration": 26,
    "start_time": "2022-09-26T08:41:30.721Z"
   },
   {
    "duration": 10,
    "start_time": "2022-09-26T08:41:30.748Z"
   },
   {
    "duration": 15,
    "start_time": "2022-09-26T08:41:30.759Z"
   },
   {
    "duration": 31,
    "start_time": "2022-09-26T08:41:30.775Z"
   },
   {
    "duration": 12,
    "start_time": "2022-09-26T08:41:30.807Z"
   },
   {
    "duration": 10,
    "start_time": "2022-09-26T08:41:30.820Z"
   },
   {
    "duration": 72,
    "start_time": "2022-09-26T08:41:30.832Z"
   },
   {
    "duration": 1126,
    "start_time": "2022-09-26T08:41:49.651Z"
   },
   {
    "duration": 5,
    "start_time": "2022-09-26T08:41:50.779Z"
   },
   {
    "duration": 22,
    "start_time": "2022-09-26T08:41:50.785Z"
   },
   {
    "duration": 4,
    "start_time": "2022-09-26T08:41:50.808Z"
   },
   {
    "duration": 9,
    "start_time": "2022-09-26T08:41:50.814Z"
   },
   {
    "duration": 23,
    "start_time": "2022-09-26T08:41:50.824Z"
   },
   {
    "duration": 15,
    "start_time": "2022-09-26T08:41:50.849Z"
   },
   {
    "duration": 10,
    "start_time": "2022-09-26T08:41:50.866Z"
   },
   {
    "duration": 104,
    "start_time": "2022-09-26T08:41:50.901Z"
   },
   {
    "duration": 1342,
    "start_time": "2022-09-26T17:30:37.218Z"
   },
   {
    "duration": 5,
    "start_time": "2022-09-26T17:30:38.563Z"
   },
   {
    "duration": 39,
    "start_time": "2022-09-26T17:30:38.570Z"
   },
   {
    "duration": 33,
    "start_time": "2022-09-26T17:30:38.611Z"
   },
   {
    "duration": 7,
    "start_time": "2022-09-26T17:30:38.647Z"
   },
   {
    "duration": 39,
    "start_time": "2022-09-26T17:30:38.657Z"
   },
   {
    "duration": 26,
    "start_time": "2022-09-26T17:30:38.699Z"
   },
   {
    "duration": 27,
    "start_time": "2022-09-26T17:30:38.727Z"
   },
   {
    "duration": 190,
    "start_time": "2022-09-26T17:30:38.756Z"
   },
   {
    "duration": 1193,
    "start_time": "2022-09-26T17:31:45.622Z"
   },
   {
    "duration": 5,
    "start_time": "2022-09-26T17:31:46.817Z"
   },
   {
    "duration": 30,
    "start_time": "2022-09-26T17:31:46.824Z"
   },
   {
    "duration": 5,
    "start_time": "2022-09-26T17:31:46.857Z"
   },
   {
    "duration": 7,
    "start_time": "2022-09-26T17:31:46.864Z"
   },
   {
    "duration": 21,
    "start_time": "2022-09-26T17:31:46.873Z"
   },
   {
    "duration": 15,
    "start_time": "2022-09-26T17:31:46.896Z"
   },
   {
    "duration": 35,
    "start_time": "2022-09-26T17:31:46.913Z"
   },
   {
    "duration": 89,
    "start_time": "2022-09-26T17:31:46.951Z"
   },
   {
    "duration": 1148,
    "start_time": "2022-09-26T17:41:51.654Z"
   },
   {
    "duration": 4,
    "start_time": "2022-09-26T17:41:52.804Z"
   },
   {
    "duration": 17,
    "start_time": "2022-09-26T17:41:52.809Z"
   },
   {
    "duration": 5,
    "start_time": "2022-09-26T17:41:52.829Z"
   },
   {
    "duration": 6,
    "start_time": "2022-09-26T17:41:52.835Z"
   },
   {
    "duration": 14,
    "start_time": "2022-09-26T17:41:52.842Z"
   },
   {
    "duration": 10,
    "start_time": "2022-09-26T17:41:52.858Z"
   },
   {
    "duration": 10,
    "start_time": "2022-09-26T17:41:52.869Z"
   },
   {
    "duration": 70,
    "start_time": "2022-09-26T17:41:52.880Z"
   },
   {
    "duration": 0,
    "start_time": "2022-09-26T17:41:52.951Z"
   },
   {
    "duration": 0,
    "start_time": "2022-09-26T17:41:52.953Z"
   },
   {
    "duration": 109,
    "start_time": "2022-09-26T17:43:39.739Z"
   },
   {
    "duration": 4156,
    "start_time": "2022-09-26T17:44:28.618Z"
   },
   {
    "duration": 4,
    "start_time": "2022-09-26T17:44:42.735Z"
   },
   {
    "duration": 1159,
    "start_time": "2022-09-26T17:51:43.753Z"
   },
   {
    "duration": 5,
    "start_time": "2022-09-26T17:51:44.913Z"
   },
   {
    "duration": 45,
    "start_time": "2022-09-26T17:51:44.919Z"
   },
   {
    "duration": 10,
    "start_time": "2022-09-26T17:51:44.966Z"
   },
   {
    "duration": 28,
    "start_time": "2022-09-26T17:51:44.977Z"
   },
   {
    "duration": 40,
    "start_time": "2022-09-26T17:51:45.007Z"
   },
   {
    "duration": 23,
    "start_time": "2022-09-26T17:51:45.049Z"
   },
   {
    "duration": 65,
    "start_time": "2022-09-26T17:51:45.073Z"
   },
   {
    "duration": 0,
    "start_time": "2022-09-26T17:51:45.140Z"
   },
   {
    "duration": 0,
    "start_time": "2022-09-26T17:51:45.141Z"
   },
   {
    "duration": 0,
    "start_time": "2022-09-26T17:51:45.142Z"
   },
   {
    "duration": 0,
    "start_time": "2022-09-26T17:51:45.143Z"
   },
   {
    "duration": 0,
    "start_time": "2022-09-26T17:51:45.144Z"
   },
   {
    "duration": 0,
    "start_time": "2022-09-26T17:51:45.145Z"
   },
   {
    "duration": 108,
    "start_time": "2022-09-26T17:51:51.824Z"
   },
   {
    "duration": 12,
    "start_time": "2022-09-26T17:52:07.651Z"
   },
   {
    "duration": 15170,
    "start_time": "2022-09-26T17:52:09.598Z"
   },
   {
    "duration": 4,
    "start_time": "2022-09-26T17:52:24.769Z"
   },
   {
    "duration": 521,
    "start_time": "2022-09-26T17:52:24.774Z"
   },
   {
    "duration": 3,
    "start_time": "2022-09-26T17:52:25.297Z"
   },
   {
    "duration": 1269,
    "start_time": "2022-09-26T17:56:16.521Z"
   },
   {
    "duration": 4,
    "start_time": "2022-09-26T17:56:17.793Z"
   },
   {
    "duration": 19,
    "start_time": "2022-09-26T17:56:17.799Z"
   },
   {
    "duration": 7,
    "start_time": "2022-09-26T17:56:17.821Z"
   },
   {
    "duration": 11,
    "start_time": "2022-09-26T17:56:17.830Z"
   },
   {
    "duration": 23,
    "start_time": "2022-09-26T17:56:17.842Z"
   },
   {
    "duration": 18,
    "start_time": "2022-09-26T17:56:17.868Z"
   },
   {
    "duration": 9,
    "start_time": "2022-09-26T17:56:17.888Z"
   },
   {
    "duration": 15532,
    "start_time": "2022-09-26T17:56:17.899Z"
   },
   {
    "duration": 10,
    "start_time": "2022-09-26T17:56:33.433Z"
   },
   {
    "duration": 50,
    "start_time": "2022-09-26T17:56:33.445Z"
   },
   {
    "duration": 0,
    "start_time": "2022-09-26T17:56:33.497Z"
   },
   {
    "duration": 0,
    "start_time": "2022-09-26T17:56:33.498Z"
   },
   {
    "duration": 0,
    "start_time": "2022-09-26T17:56:33.499Z"
   },
   {
    "duration": 0,
    "start_time": "2022-09-26T17:56:33.501Z"
   },
   {
    "duration": 0,
    "start_time": "2022-09-26T17:56:33.502Z"
   },
   {
    "duration": 0,
    "start_time": "2022-09-26T17:56:33.503Z"
   },
   {
    "duration": 244,
    "start_time": "2022-09-26T17:57:15.477Z"
   },
   {
    "duration": 587,
    "start_time": "2022-09-26T17:57:18.115Z"
   },
   {
    "duration": 4,
    "start_time": "2022-09-26T17:57:20.405Z"
   },
   {
    "duration": 22,
    "start_time": "2022-09-26T17:57:22.413Z"
   },
   {
    "duration": 10,
    "start_time": "2022-09-26T17:57:27.600Z"
   },
   {
    "duration": 21,
    "start_time": "2022-09-26T17:57:29.520Z"
   },
   {
    "duration": 10,
    "start_time": "2022-09-26T17:57:31.812Z"
   },
   {
    "duration": 65,
    "start_time": "2022-09-26T18:01:19.228Z"
   },
   {
    "duration": 103,
    "start_time": "2022-09-26T18:01:26.795Z"
   },
   {
    "duration": 1260,
    "start_time": "2022-09-26T18:02:31.620Z"
   },
   {
    "duration": 4,
    "start_time": "2022-09-26T18:02:32.882Z"
   },
   {
    "duration": 16,
    "start_time": "2022-09-26T18:02:32.888Z"
   },
   {
    "duration": 5,
    "start_time": "2022-09-26T18:02:32.906Z"
   },
   {
    "duration": 15,
    "start_time": "2022-09-26T18:02:32.913Z"
   },
   {
    "duration": 19,
    "start_time": "2022-09-26T18:02:32.930Z"
   },
   {
    "duration": 11,
    "start_time": "2022-09-26T18:02:32.951Z"
   },
   {
    "duration": 8,
    "start_time": "2022-09-26T18:02:32.963Z"
   },
   {
    "duration": 15476,
    "start_time": "2022-09-26T18:02:32.973Z"
   },
   {
    "duration": 4,
    "start_time": "2022-09-26T18:02:48.453Z"
   },
   {
    "duration": 276,
    "start_time": "2022-09-26T18:02:48.459Z"
   },
   {
    "duration": 559,
    "start_time": "2022-09-26T18:02:48.739Z"
   },
   {
    "duration": 4,
    "start_time": "2022-09-26T18:02:49.300Z"
   },
   {
    "duration": 35,
    "start_time": "2022-09-26T18:02:49.306Z"
   },
   {
    "duration": 29984,
    "start_time": "2022-09-26T18:02:49.343Z"
   },
   {
    "duration": 12,
    "start_time": "2022-09-26T18:03:19.329Z"
   },
   {
    "duration": 198,
    "start_time": "2022-09-26T18:03:19.343Z"
   },
   {
    "duration": 10,
    "start_time": "2022-09-26T18:03:19.543Z"
   },
   {
    "duration": 27,
    "start_time": "2022-09-26T18:03:19.554Z"
   },
   {
    "duration": 695,
    "start_time": "2022-09-26T18:04:32.210Z"
   },
   {
    "duration": 8,
    "start_time": "2022-09-26T18:05:25.289Z"
   },
   {
    "duration": 26180,
    "start_time": "2022-09-26T18:05:43.518Z"
   },
   {
    "duration": 3,
    "start_time": "2022-09-26T18:06:09.700Z"
   },
   {
    "duration": 940,
    "start_time": "2022-09-26T18:06:42.517Z"
   },
   {
    "duration": 8,
    "start_time": "2022-09-26T18:06:50.218Z"
   },
   {
    "duration": 1238,
    "start_time": "2022-09-26T18:18:23.852Z"
   },
   {
    "duration": 4,
    "start_time": "2022-09-26T18:18:25.092Z"
   },
   {
    "duration": 20,
    "start_time": "2022-09-26T18:18:25.097Z"
   },
   {
    "duration": 7,
    "start_time": "2022-09-26T18:18:25.118Z"
   },
   {
    "duration": 6,
    "start_time": "2022-09-26T18:18:25.127Z"
   },
   {
    "duration": 16,
    "start_time": "2022-09-26T18:18:25.135Z"
   },
   {
    "duration": 11,
    "start_time": "2022-09-26T18:18:25.153Z"
   },
   {
    "duration": 12,
    "start_time": "2022-09-26T18:18:25.166Z"
   },
   {
    "duration": 15632,
    "start_time": "2022-09-26T18:18:25.180Z"
   },
   {
    "duration": 4,
    "start_time": "2022-09-26T18:18:40.814Z"
   },
   {
    "duration": 264,
    "start_time": "2022-09-26T18:18:40.820Z"
   },
   {
    "duration": 573,
    "start_time": "2022-09-26T18:18:41.086Z"
   },
   {
    "duration": 4,
    "start_time": "2022-09-26T18:18:41.661Z"
   },
   {
    "duration": 22,
    "start_time": "2022-09-26T18:18:41.668Z"
   },
   {
    "duration": 20783,
    "start_time": "2022-09-26T18:18:41.692Z"
   },
   {
    "duration": 4,
    "start_time": "2022-09-26T18:19:02.477Z"
   },
   {
    "duration": 761,
    "start_time": "2022-09-26T18:19:02.484Z"
   },
   {
    "duration": 98,
    "start_time": "2022-09-26T18:19:03.246Z"
   },
   {
    "duration": 129,
    "start_time": "2022-09-26T18:19:03.347Z"
   },
   {
    "duration": 13,
    "start_time": "2022-09-26T18:19:03.478Z"
   },
   {
    "duration": 18,
    "start_time": "2022-09-26T18:19:03.493Z"
   },
   {
    "duration": 21212,
    "start_time": "2022-09-26T18:19:51.458Z"
   },
   {
    "duration": 4,
    "start_time": "2022-09-26T18:20:12.672Z"
   },
   {
    "duration": 582,
    "start_time": "2022-09-26T18:20:20.305Z"
   },
   {
    "duration": 36,
    "start_time": "2022-09-26T18:20:32.564Z"
   },
   {
    "duration": 1250,
    "start_time": "2022-09-26T18:20:41.342Z"
   },
   {
    "duration": 4,
    "start_time": "2022-09-26T18:20:42.595Z"
   },
   {
    "duration": 19,
    "start_time": "2022-09-26T18:20:42.601Z"
   },
   {
    "duration": 6,
    "start_time": "2022-09-26T18:20:42.623Z"
   },
   {
    "duration": 14,
    "start_time": "2022-09-26T18:20:42.631Z"
   },
   {
    "duration": 17,
    "start_time": "2022-09-26T18:20:42.647Z"
   },
   {
    "duration": 12,
    "start_time": "2022-09-26T18:20:42.666Z"
   },
   {
    "duration": 8,
    "start_time": "2022-09-26T18:20:42.680Z"
   },
   {
    "duration": 20978,
    "start_time": "2022-09-26T18:20:42.690Z"
   },
   {
    "duration": 4,
    "start_time": "2022-09-26T18:21:03.672Z"
   },
   {
    "duration": 590,
    "start_time": "2022-09-26T18:21:03.678Z"
   },
   {
    "duration": 582,
    "start_time": "2022-09-26T18:21:04.270Z"
   },
   {
    "duration": 4,
    "start_time": "2022-09-26T18:21:04.855Z"
   },
   {
    "duration": 23,
    "start_time": "2022-09-26T18:21:04.861Z"
   },
   {
    "duration": 22597,
    "start_time": "2022-09-26T18:21:04.886Z"
   },
   {
    "duration": 4,
    "start_time": "2022-09-26T18:21:27.484Z"
   },
   {
    "duration": 958,
    "start_time": "2022-09-26T18:21:27.490Z"
   },
   {
    "duration": 90,
    "start_time": "2022-09-26T18:21:28.450Z"
   },
   {
    "duration": 141,
    "start_time": "2022-09-26T18:21:28.543Z"
   },
   {
    "duration": 11,
    "start_time": "2022-09-26T18:21:28.686Z"
   },
   {
    "duration": 8,
    "start_time": "2022-09-26T18:21:28.699Z"
   },
   {
    "duration": 77,
    "start_time": "2022-09-27T07:19:55.835Z"
   },
   {
    "duration": 1822,
    "start_time": "2022-09-27T07:20:02.252Z"
   },
   {
    "duration": 262,
    "start_time": "2022-09-27T07:20:04.076Z"
   },
   {
    "duration": 6,
    "start_time": "2022-09-27T07:20:04.340Z"
   },
   {
    "duration": 14,
    "start_time": "2022-09-27T07:20:04.348Z"
   },
   {
    "duration": 81,
    "start_time": "2022-09-27T07:20:04.364Z"
   },
   {
    "duration": 5,
    "start_time": "2022-09-27T07:20:04.447Z"
   },
   {
    "duration": 13,
    "start_time": "2022-09-27T07:20:04.454Z"
   },
   {
    "duration": 9,
    "start_time": "2022-09-27T07:20:04.470Z"
   },
   {
    "duration": 34,
    "start_time": "2022-09-27T07:20:04.481Z"
   },
   {
    "duration": 22326,
    "start_time": "2022-09-27T07:20:04.518Z"
   },
   {
    "duration": 4,
    "start_time": "2022-09-27T07:20:26.845Z"
   },
   {
    "duration": 624,
    "start_time": "2022-09-27T07:20:26.851Z"
   },
   {
    "duration": 592,
    "start_time": "2022-09-27T07:20:27.477Z"
   },
   {
    "duration": 4,
    "start_time": "2022-09-27T07:20:28.072Z"
   },
   {
    "duration": 45,
    "start_time": "2022-09-27T07:20:28.077Z"
   },
   {
    "duration": 22317,
    "start_time": "2022-09-27T07:20:28.124Z"
   },
   {
    "duration": 3,
    "start_time": "2022-09-27T07:20:50.443Z"
   },
   {
    "duration": 802,
    "start_time": "2022-09-27T07:20:50.448Z"
   },
   {
    "duration": 58,
    "start_time": "2022-09-27T07:20:51.252Z"
   },
   {
    "duration": 138,
    "start_time": "2022-09-27T07:20:51.312Z"
   },
   {
    "duration": 8,
    "start_time": "2022-09-27T07:20:51.451Z"
   },
   {
    "duration": 35,
    "start_time": "2022-09-27T07:20:51.461Z"
   },
   {
    "duration": 140,
    "start_time": "2022-09-27T07:22:01.671Z"
   },
   {
    "duration": 55,
    "start_time": "2022-09-27T07:22:44.543Z"
   },
   {
    "duration": 55,
    "start_time": "2022-09-27T07:22:51.135Z"
   },
   {
    "duration": 68,
    "start_time": "2022-09-27T07:23:48.609Z"
   },
   {
    "duration": 53,
    "start_time": "2022-09-27T07:23:55.968Z"
   },
   {
    "duration": 1052,
    "start_time": "2022-09-27T07:28:32.310Z"
   },
   {
    "duration": 1050,
    "start_time": "2022-09-27T07:28:44.958Z"
   },
   {
    "duration": 1316,
    "start_time": "2022-09-27T07:28:51.629Z"
   },
   {
    "duration": 141,
    "start_time": "2022-09-27T07:29:02.472Z"
   },
   {
    "duration": 1911,
    "start_time": "2022-09-27T07:29:09.251Z"
   },
   {
    "duration": 69,
    "start_time": "2022-09-27T07:29:24.290Z"
   },
   {
    "duration": 73,
    "start_time": "2022-09-27T07:29:37.274Z"
   },
   {
    "duration": 71,
    "start_time": "2022-09-27T07:29:43.142Z"
   },
   {
    "duration": 210,
    "start_time": "2022-09-27T07:29:50.932Z"
   },
   {
    "duration": 1454,
    "start_time": "2022-09-27T07:30:08.322Z"
   },
   {
    "duration": 223,
    "start_time": "2022-09-27T07:30:09.778Z"
   },
   {
    "duration": 6,
    "start_time": "2022-09-27T07:30:10.003Z"
   },
   {
    "duration": 38,
    "start_time": "2022-09-27T07:30:10.011Z"
   },
   {
    "duration": 24,
    "start_time": "2022-09-27T07:30:10.050Z"
   },
   {
    "duration": 15,
    "start_time": "2022-09-27T07:30:10.075Z"
   },
   {
    "duration": 23,
    "start_time": "2022-09-27T07:30:10.091Z"
   },
   {
    "duration": 25,
    "start_time": "2022-09-27T07:30:10.115Z"
   },
   {
    "duration": 7,
    "start_time": "2022-09-27T07:30:10.142Z"
   },
   {
    "duration": 22952,
    "start_time": "2022-09-27T07:30:10.151Z"
   },
   {
    "duration": 5,
    "start_time": "2022-09-27T07:30:33.105Z"
   },
   {
    "duration": 620,
    "start_time": "2022-09-27T07:30:33.112Z"
   },
   {
    "duration": 590,
    "start_time": "2022-09-27T07:30:33.734Z"
   },
   {
    "duration": 3,
    "start_time": "2022-09-27T07:30:34.326Z"
   },
   {
    "duration": 68,
    "start_time": "2022-09-27T07:30:34.332Z"
   },
   {
    "duration": 27743,
    "start_time": "2022-09-27T07:30:34.402Z"
   },
   {
    "duration": 4,
    "start_time": "2022-09-27T07:31:02.146Z"
   },
   {
    "duration": 958,
    "start_time": "2022-09-27T07:31:02.152Z"
   },
   {
    "duration": 10,
    "start_time": "2022-09-27T07:31:03.111Z"
   },
   {
    "duration": 196,
    "start_time": "2022-09-27T07:31:03.123Z"
   },
   {
    "duration": 8,
    "start_time": "2022-09-27T07:31:03.320Z"
   },
   {
    "duration": 32,
    "start_time": "2022-09-27T07:31:03.329Z"
   },
   {
    "duration": 137,
    "start_time": "2022-09-27T07:31:03.363Z"
   },
   {
    "duration": 1457,
    "start_time": "2022-09-27T07:31:34.027Z"
   },
   {
    "duration": 741,
    "start_time": "2022-09-27T07:31:35.486Z"
   },
   {
    "duration": 5,
    "start_time": "2022-09-27T07:31:36.228Z"
   },
   {
    "duration": 16,
    "start_time": "2022-09-27T07:31:36.235Z"
   },
   {
    "duration": 5,
    "start_time": "2022-09-27T07:31:36.252Z"
   },
   {
    "duration": 10,
    "start_time": "2022-09-27T07:31:36.258Z"
   },
   {
    "duration": 47,
    "start_time": "2022-09-27T07:31:36.270Z"
   },
   {
    "duration": 15,
    "start_time": "2022-09-27T07:31:36.319Z"
   },
   {
    "duration": 16,
    "start_time": "2022-09-27T07:31:36.335Z"
   },
   {
    "duration": 23064,
    "start_time": "2022-09-27T07:31:36.408Z"
   },
   {
    "duration": 4,
    "start_time": "2022-09-27T07:31:59.473Z"
   },
   {
    "duration": 609,
    "start_time": "2022-09-27T07:31:59.478Z"
   },
   {
    "duration": 590,
    "start_time": "2022-09-27T07:32:00.089Z"
   },
   {
    "duration": 4,
    "start_time": "2022-09-27T07:32:00.681Z"
   },
   {
    "duration": 42,
    "start_time": "2022-09-27T07:32:00.686Z"
   },
   {
    "duration": 24445,
    "start_time": "2022-09-27T07:32:00.730Z"
   },
   {
    "duration": 4,
    "start_time": "2022-09-27T07:32:25.177Z"
   },
   {
    "duration": 836,
    "start_time": "2022-09-27T07:32:25.183Z"
   },
   {
    "duration": 11,
    "start_time": "2022-09-27T07:32:26.021Z"
   },
   {
    "duration": 196,
    "start_time": "2022-09-27T07:32:26.034Z"
   },
   {
    "duration": 7,
    "start_time": "2022-09-27T07:32:26.232Z"
   },
   {
    "duration": 14,
    "start_time": "2022-09-27T07:32:26.240Z"
   },
   {
    "duration": 566,
    "start_time": "2022-09-27T07:35:34.735Z"
   },
   {
    "duration": 1452,
    "start_time": "2022-09-27T07:35:51.223Z"
   },
   {
    "duration": 247,
    "start_time": "2022-09-27T07:35:52.679Z"
   },
   {
    "duration": 710,
    "start_time": "2022-09-27T07:35:52.927Z"
   },
   {
    "duration": 5,
    "start_time": "2022-09-27T07:35:53.640Z"
   },
   {
    "duration": 18,
    "start_time": "2022-09-27T07:35:53.646Z"
   },
   {
    "duration": 5,
    "start_time": "2022-09-27T07:35:53.665Z"
   },
   {
    "duration": 14,
    "start_time": "2022-09-27T07:35:53.671Z"
   },
   {
    "duration": 13,
    "start_time": "2022-09-27T07:35:53.686Z"
   },
   {
    "duration": 8,
    "start_time": "2022-09-27T07:35:53.709Z"
   },
   {
    "duration": 7,
    "start_time": "2022-09-27T07:35:53.720Z"
   },
   {
    "duration": 23278,
    "start_time": "2022-09-27T07:35:53.729Z"
   },
   {
    "duration": 4,
    "start_time": "2022-09-27T07:36:17.008Z"
   },
   {
    "duration": 620,
    "start_time": "2022-09-27T07:36:17.013Z"
   },
   {
    "duration": 568,
    "start_time": "2022-09-27T07:36:17.634Z"
   },
   {
    "duration": 6,
    "start_time": "2022-09-27T07:36:18.204Z"
   },
   {
    "duration": 26,
    "start_time": "2022-09-27T07:36:18.211Z"
   },
   {
    "duration": 20563,
    "start_time": "2022-09-27T07:36:18.239Z"
   },
   {
    "duration": 4,
    "start_time": "2022-09-27T07:36:38.804Z"
   },
   {
    "duration": 678,
    "start_time": "2022-09-27T07:36:38.809Z"
   },
   {
    "duration": 24,
    "start_time": "2022-09-27T07:36:39.488Z"
   },
   {
    "duration": 207,
    "start_time": "2022-09-27T07:36:39.514Z"
   },
   {
    "duration": 7,
    "start_time": "2022-09-27T07:36:39.723Z"
   },
   {
    "duration": 8,
    "start_time": "2022-09-27T07:36:39.731Z"
   },
   {
    "duration": 1177,
    "start_time": "2022-09-27T07:37:06.246Z"
   },
   {
    "duration": 54,
    "start_time": "2022-09-27T07:37:16.634Z"
   },
   {
    "duration": 386,
    "start_time": "2022-09-27T07:37:19.055Z"
   },
   {
    "duration": 2329,
    "start_time": "2022-09-27T07:39:02.382Z"
   },
   {
    "duration": 232,
    "start_time": "2022-09-27T07:39:04.713Z"
   },
   {
    "duration": 268,
    "start_time": "2022-09-27T07:39:04.946Z"
   },
   {
    "duration": 658,
    "start_time": "2022-09-27T07:39:05.216Z"
   },
   {
    "duration": 4,
    "start_time": "2022-09-27T07:39:05.876Z"
   },
   {
    "duration": 21,
    "start_time": "2022-09-27T07:39:05.881Z"
   },
   {
    "duration": 9,
    "start_time": "2022-09-27T07:39:05.903Z"
   },
   {
    "duration": 15,
    "start_time": "2022-09-27T07:39:05.913Z"
   },
   {
    "duration": 18,
    "start_time": "2022-09-27T07:39:05.930Z"
   },
   {
    "duration": 10,
    "start_time": "2022-09-27T07:39:05.950Z"
   },
   {
    "duration": 16,
    "start_time": "2022-09-27T07:39:05.962Z"
   },
   {
    "duration": 21951,
    "start_time": "2022-09-27T07:39:05.979Z"
   },
   {
    "duration": 4,
    "start_time": "2022-09-27T07:39:27.932Z"
   },
   {
    "duration": 620,
    "start_time": "2022-09-27T07:39:27.937Z"
   },
   {
    "duration": 583,
    "start_time": "2022-09-27T07:39:28.558Z"
   },
   {
    "duration": 4,
    "start_time": "2022-09-27T07:39:29.142Z"
   },
   {
    "duration": 29,
    "start_time": "2022-09-27T07:39:29.147Z"
   },
   {
    "duration": 23618,
    "start_time": "2022-09-27T07:39:29.178Z"
   },
   {
    "duration": 5,
    "start_time": "2022-09-27T07:39:52.798Z"
   },
   {
    "duration": 664,
    "start_time": "2022-09-27T07:39:52.805Z"
   },
   {
    "duration": 11,
    "start_time": "2022-09-27T07:39:53.470Z"
   },
   {
    "duration": 154,
    "start_time": "2022-09-27T07:39:53.483Z"
   },
   {
    "duration": 8,
    "start_time": "2022-09-27T07:39:53.638Z"
   },
   {
    "duration": 18,
    "start_time": "2022-09-27T07:39:53.648Z"
   },
   {
    "duration": 634,
    "start_time": "2022-09-27T07:40:28.937Z"
   },
   {
    "duration": 568,
    "start_time": "2022-09-27T07:40:39.417Z"
   },
   {
    "duration": 117,
    "start_time": "2022-09-27T07:45:03.365Z"
   },
   {
    "duration": 48,
    "start_time": "2022-09-27T07:46:47.206Z"
   },
   {
    "duration": 58,
    "start_time": "2022-09-27T07:47:51.724Z"
   },
   {
    "duration": 58,
    "start_time": "2022-09-27T08:11:25.172Z"
   },
   {
    "duration": 60,
    "start_time": "2022-09-27T08:12:40.523Z"
   },
   {
    "duration": 50,
    "start_time": "2022-09-27T08:20:04.258Z"
   },
   {
    "duration": 1443,
    "start_time": "2022-09-27T08:20:36.036Z"
   },
   {
    "duration": 225,
    "start_time": "2022-09-27T08:20:37.481Z"
   },
   {
    "duration": 286,
    "start_time": "2022-09-27T08:20:37.708Z"
   },
   {
    "duration": 701,
    "start_time": "2022-09-27T08:20:37.997Z"
   },
   {
    "duration": 5,
    "start_time": "2022-09-27T08:20:38.699Z"
   },
   {
    "duration": 22,
    "start_time": "2022-09-27T08:20:38.708Z"
   },
   {
    "duration": 18,
    "start_time": "2022-09-27T08:20:38.732Z"
   },
   {
    "duration": 25,
    "start_time": "2022-09-27T08:20:38.753Z"
   },
   {
    "duration": 19,
    "start_time": "2022-09-27T08:20:38.780Z"
   },
   {
    "duration": 23,
    "start_time": "2022-09-27T08:20:38.801Z"
   },
   {
    "duration": 18,
    "start_time": "2022-09-27T08:20:38.826Z"
   },
   {
    "duration": 22115,
    "start_time": "2022-09-27T08:20:38.845Z"
   },
   {
    "duration": 3,
    "start_time": "2022-09-27T08:21:00.962Z"
   },
   {
    "duration": 616,
    "start_time": "2022-09-27T08:21:00.966Z"
   },
   {
    "duration": 585,
    "start_time": "2022-09-27T08:21:01.583Z"
   },
   {
    "duration": 4,
    "start_time": "2022-09-27T08:21:02.170Z"
   },
   {
    "duration": 35,
    "start_time": "2022-09-27T08:21:02.176Z"
   },
   {
    "duration": 21315,
    "start_time": "2022-09-27T08:21:02.212Z"
   },
   {
    "duration": 4,
    "start_time": "2022-09-27T08:21:23.528Z"
   },
   {
    "duration": 772,
    "start_time": "2022-09-27T08:21:23.534Z"
   },
   {
    "duration": 15,
    "start_time": "2022-09-27T08:21:24.308Z"
   },
   {
    "duration": 120,
    "start_time": "2022-09-27T08:21:24.413Z"
   },
   {
    "duration": 8,
    "start_time": "2022-09-27T08:21:24.534Z"
   },
   {
    "duration": 9,
    "start_time": "2022-09-27T08:21:24.544Z"
   },
   {
    "duration": 1551,
    "start_time": "2022-09-27T08:32:44.575Z"
   },
   {
    "duration": 227,
    "start_time": "2022-09-27T08:32:46.128Z"
   },
   {
    "duration": 280,
    "start_time": "2022-09-27T08:32:46.356Z"
   },
   {
    "duration": 642,
    "start_time": "2022-09-27T08:32:46.638Z"
   },
   {
    "duration": 4,
    "start_time": "2022-09-27T08:32:47.283Z"
   },
   {
    "duration": 24,
    "start_time": "2022-09-27T08:32:47.289Z"
   },
   {
    "duration": 6,
    "start_time": "2022-09-27T08:32:47.315Z"
   },
   {
    "duration": 10,
    "start_time": "2022-09-27T08:32:47.322Z"
   },
   {
    "duration": 15,
    "start_time": "2022-09-27T08:32:47.334Z"
   },
   {
    "duration": 15,
    "start_time": "2022-09-27T08:32:47.351Z"
   },
   {
    "duration": 10,
    "start_time": "2022-09-27T08:32:47.367Z"
   },
   {
    "duration": 4,
    "start_time": "2022-09-27T08:32:47.378Z"
   },
   {
    "duration": 24018,
    "start_time": "2022-09-27T08:32:47.409Z"
   },
   {
    "duration": 4,
    "start_time": "2022-09-27T08:33:11.429Z"
   },
   {
    "duration": 619,
    "start_time": "2022-09-27T08:33:11.434Z"
   },
   {
    "duration": 713,
    "start_time": "2022-09-27T08:33:12.055Z"
   },
   {
    "duration": 5,
    "start_time": "2022-09-27T08:33:12.770Z"
   },
   {
    "duration": 34,
    "start_time": "2022-09-27T08:33:12.777Z"
   },
   {
    "duration": 41750,
    "start_time": "2022-09-27T08:33:12.813Z"
   },
   {
    "duration": 4,
    "start_time": "2022-09-27T08:33:54.565Z"
   },
   {
    "duration": 723,
    "start_time": "2022-09-27T08:33:54.570Z"
   },
   {
    "duration": 13,
    "start_time": "2022-09-27T08:33:55.295Z"
   },
   {
    "duration": 215,
    "start_time": "2022-09-27T08:33:55.310Z"
   },
   {
    "duration": 7,
    "start_time": "2022-09-27T08:33:55.527Z"
   },
   {
    "duration": 16,
    "start_time": "2022-09-27T08:33:55.535Z"
   },
   {
    "duration": 1563,
    "start_time": "2022-09-27T08:37:31.886Z"
   },
   {
    "duration": 236,
    "start_time": "2022-09-27T08:37:33.451Z"
   },
   {
    "duration": 300,
    "start_time": "2022-09-27T08:37:33.689Z"
   },
   {
    "duration": 686,
    "start_time": "2022-09-27T08:37:33.992Z"
   },
   {
    "duration": 5,
    "start_time": "2022-09-27T08:37:34.680Z"
   },
   {
    "duration": 24,
    "start_time": "2022-09-27T08:37:34.687Z"
   },
   {
    "duration": 6,
    "start_time": "2022-09-27T08:37:34.713Z"
   },
   {
    "duration": 9,
    "start_time": "2022-09-27T08:37:34.721Z"
   },
   {
    "duration": 16,
    "start_time": "2022-09-27T08:37:34.732Z"
   },
   {
    "duration": 16,
    "start_time": "2022-09-27T08:37:34.751Z"
   },
   {
    "duration": 9,
    "start_time": "2022-09-27T08:37:34.769Z"
   },
   {
    "duration": 3,
    "start_time": "2022-09-27T08:37:34.779Z"
   },
   {
    "duration": 23916,
    "start_time": "2022-09-27T08:37:34.809Z"
   },
   {
    "duration": 4,
    "start_time": "2022-09-27T08:37:58.726Z"
   },
   {
    "duration": 621,
    "start_time": "2022-09-27T08:37:58.731Z"
   },
   {
    "duration": 673,
    "start_time": "2022-09-27T08:37:59.354Z"
   },
   {
    "duration": 4,
    "start_time": "2022-09-27T08:38:00.029Z"
   },
   {
    "duration": 57,
    "start_time": "2022-09-27T08:38:00.034Z"
   },
   {
    "duration": 36963,
    "start_time": "2022-09-27T08:38:00.093Z"
   },
   {
    "duration": 4,
    "start_time": "2022-09-27T08:38:37.057Z"
   },
   {
    "duration": 764,
    "start_time": "2022-09-27T08:38:37.063Z"
   },
   {
    "duration": 9,
    "start_time": "2022-09-27T08:38:37.829Z"
   },
   {
    "duration": 185,
    "start_time": "2022-09-27T08:38:37.840Z"
   },
   {
    "duration": 8,
    "start_time": "2022-09-27T08:38:38.027Z"
   },
   {
    "duration": 7,
    "start_time": "2022-09-27T08:38:38.037Z"
   },
   {
    "duration": 1560,
    "start_time": "2022-09-27T08:41:52.016Z"
   },
   {
    "duration": 221,
    "start_time": "2022-09-27T08:41:53.578Z"
   },
   {
    "duration": 292,
    "start_time": "2022-09-27T08:41:53.801Z"
   },
   {
    "duration": 680,
    "start_time": "2022-09-27T08:41:54.095Z"
   },
   {
    "duration": 5,
    "start_time": "2022-09-27T08:41:54.777Z"
   },
   {
    "duration": 17,
    "start_time": "2022-09-27T08:41:54.783Z"
   },
   {
    "duration": 2744,
    "start_time": "2022-09-27T08:41:54.801Z"
   },
   {
    "duration": 0,
    "start_time": "2022-09-27T08:41:57.547Z"
   },
   {
    "duration": 0,
    "start_time": "2022-09-27T08:41:57.548Z"
   },
   {
    "duration": 0,
    "start_time": "2022-09-27T08:41:57.549Z"
   },
   {
    "duration": 0,
    "start_time": "2022-09-27T08:41:57.550Z"
   },
   {
    "duration": 0,
    "start_time": "2022-09-27T08:41:57.552Z"
   },
   {
    "duration": 0,
    "start_time": "2022-09-27T08:41:57.552Z"
   },
   {
    "duration": 0,
    "start_time": "2022-09-27T08:41:57.553Z"
   },
   {
    "duration": 0,
    "start_time": "2022-09-27T08:41:57.554Z"
   },
   {
    "duration": 0,
    "start_time": "2022-09-27T08:41:57.556Z"
   },
   {
    "duration": 0,
    "start_time": "2022-09-27T08:41:57.556Z"
   },
   {
    "duration": 0,
    "start_time": "2022-09-27T08:41:57.557Z"
   },
   {
    "duration": 0,
    "start_time": "2022-09-27T08:41:57.558Z"
   },
   {
    "duration": 0,
    "start_time": "2022-09-27T08:41:57.559Z"
   },
   {
    "duration": 0,
    "start_time": "2022-09-27T08:41:57.560Z"
   },
   {
    "duration": 0,
    "start_time": "2022-09-27T08:41:57.560Z"
   },
   {
    "duration": 0,
    "start_time": "2022-09-27T08:41:57.561Z"
   },
   {
    "duration": 0,
    "start_time": "2022-09-27T08:41:57.562Z"
   },
   {
    "duration": 0,
    "start_time": "2022-09-27T08:41:57.563Z"
   },
   {
    "duration": 88,
    "start_time": "2022-09-27T08:43:22.619Z"
   },
   {
    "duration": 8,
    "start_time": "2022-09-27T08:45:44.401Z"
   },
   {
    "duration": 1410,
    "start_time": "2022-09-27T08:46:05.964Z"
   },
   {
    "duration": 220,
    "start_time": "2022-09-27T08:46:07.376Z"
   },
   {
    "duration": 287,
    "start_time": "2022-09-27T08:46:07.597Z"
   },
   {
    "duration": 718,
    "start_time": "2022-09-27T08:46:07.886Z"
   },
   {
    "duration": 3,
    "start_time": "2022-09-27T08:46:08.608Z"
   },
   {
    "duration": 14,
    "start_time": "2022-09-27T08:46:08.613Z"
   },
   {
    "duration": 3,
    "start_time": "2022-09-27T08:46:08.629Z"
   },
   {
    "duration": 10,
    "start_time": "2022-09-27T08:46:08.634Z"
   },
   {
    "duration": 47,
    "start_time": "2022-09-27T08:46:08.646Z"
   },
   {
    "duration": 9,
    "start_time": "2022-09-27T08:46:08.695Z"
   },
   {
    "duration": 125,
    "start_time": "2022-09-27T08:46:08.705Z"
   },
   {
    "duration": 0,
    "start_time": "2022-09-27T08:46:08.831Z"
   },
   {
    "duration": 0,
    "start_time": "2022-09-27T08:46:08.832Z"
   },
   {
    "duration": 0,
    "start_time": "2022-09-27T08:46:08.833Z"
   },
   {
    "duration": 0,
    "start_time": "2022-09-27T08:46:08.835Z"
   },
   {
    "duration": 0,
    "start_time": "2022-09-27T08:46:08.835Z"
   },
   {
    "duration": 0,
    "start_time": "2022-09-27T08:46:08.836Z"
   },
   {
    "duration": 0,
    "start_time": "2022-09-27T08:46:08.837Z"
   },
   {
    "duration": 0,
    "start_time": "2022-09-27T08:46:08.839Z"
   },
   {
    "duration": 0,
    "start_time": "2022-09-27T08:46:08.840Z"
   },
   {
    "duration": 0,
    "start_time": "2022-09-27T08:46:08.841Z"
   },
   {
    "duration": 0,
    "start_time": "2022-09-27T08:46:08.842Z"
   },
   {
    "duration": 0,
    "start_time": "2022-09-27T08:46:08.843Z"
   },
   {
    "duration": 0,
    "start_time": "2022-09-27T08:46:08.844Z"
   },
   {
    "duration": 0,
    "start_time": "2022-09-27T08:46:08.845Z"
   },
   {
    "duration": 0,
    "start_time": "2022-09-27T08:46:08.846Z"
   },
   {
    "duration": 8,
    "start_time": "2022-09-27T08:46:15.886Z"
   },
   {
    "duration": 4,
    "start_time": "2022-09-27T08:46:19.242Z"
   },
   {
    "duration": 3,
    "start_time": "2022-09-27T08:46:33.688Z"
   },
   {
    "duration": 1466,
    "start_time": "2022-09-27T08:46:46.707Z"
   },
   {
    "duration": 220,
    "start_time": "2022-09-27T08:46:48.174Z"
   },
   {
    "duration": 295,
    "start_time": "2022-09-27T08:46:48.396Z"
   },
   {
    "duration": 668,
    "start_time": "2022-09-27T08:46:48.693Z"
   },
   {
    "duration": 3,
    "start_time": "2022-09-27T08:46:49.363Z"
   },
   {
    "duration": 27,
    "start_time": "2022-09-27T08:46:49.368Z"
   },
   {
    "duration": 4,
    "start_time": "2022-09-27T08:46:49.396Z"
   },
   {
    "duration": 7,
    "start_time": "2022-09-27T08:46:49.401Z"
   },
   {
    "duration": 13,
    "start_time": "2022-09-27T08:46:49.410Z"
   },
   {
    "duration": 13,
    "start_time": "2022-09-27T08:46:49.425Z"
   },
   {
    "duration": 6,
    "start_time": "2022-09-27T08:46:49.440Z"
   },
   {
    "duration": 11,
    "start_time": "2022-09-27T08:46:49.447Z"
   },
   {
    "duration": 3,
    "start_time": "2022-09-27T08:46:49.459Z"
   },
   {
    "duration": 14967,
    "start_time": "2022-09-27T08:46:49.464Z"
   },
   {
    "duration": 4,
    "start_time": "2022-09-27T08:47:04.432Z"
   },
   {
    "duration": 548,
    "start_time": "2022-09-27T08:47:04.438Z"
   },
   {
    "duration": 395,
    "start_time": "2022-09-27T08:47:04.988Z"
   },
   {
    "duration": 3,
    "start_time": "2022-09-27T08:47:05.385Z"
   },
   {
    "duration": 25,
    "start_time": "2022-09-27T08:47:05.389Z"
   },
   {
    "duration": 20358,
    "start_time": "2022-09-27T08:47:05.416Z"
   },
   {
    "duration": 4,
    "start_time": "2022-09-27T08:47:25.775Z"
   },
   {
    "duration": 654,
    "start_time": "2022-09-27T08:47:25.781Z"
   },
   {
    "duration": 10,
    "start_time": "2022-09-27T08:47:26.437Z"
   },
   {
    "duration": 185,
    "start_time": "2022-09-27T08:47:26.449Z"
   },
   {
    "duration": 8,
    "start_time": "2022-09-27T08:47:26.635Z"
   },
   {
    "duration": 14,
    "start_time": "2022-09-27T08:47:26.645Z"
   },
   {
    "duration": 107,
    "start_time": "2022-09-27T08:47:51.884Z"
   },
   {
    "duration": 3,
    "start_time": "2022-09-27T08:48:08.849Z"
   },
   {
    "duration": 1452,
    "start_time": "2022-09-27T08:49:59.224Z"
   },
   {
    "duration": 226,
    "start_time": "2022-09-27T08:50:00.678Z"
   },
   {
    "duration": 294,
    "start_time": "2022-09-27T08:50:00.906Z"
   },
   {
    "duration": 671,
    "start_time": "2022-09-27T08:50:01.202Z"
   },
   {
    "duration": 4,
    "start_time": "2022-09-27T08:50:01.874Z"
   },
   {
    "duration": 25,
    "start_time": "2022-09-27T08:50:01.880Z"
   },
   {
    "duration": 16,
    "start_time": "2022-09-27T08:50:01.907Z"
   },
   {
    "duration": 48,
    "start_time": "2022-09-27T08:50:01.925Z"
   },
   {
    "duration": 63,
    "start_time": "2022-09-27T08:50:01.975Z"
   },
   {
    "duration": 60,
    "start_time": "2022-09-27T08:50:02.041Z"
   },
   {
    "duration": 53,
    "start_time": "2022-09-27T08:50:02.103Z"
   },
   {
    "duration": 78,
    "start_time": "2022-09-27T08:50:02.158Z"
   },
   {
    "duration": 51,
    "start_time": "2022-09-27T08:50:02.238Z"
   },
   {
    "duration": 16335,
    "start_time": "2022-09-27T08:50:02.291Z"
   },
   {
    "duration": 4,
    "start_time": "2022-09-27T08:50:18.627Z"
   },
   {
    "duration": 540,
    "start_time": "2022-09-27T08:50:18.632Z"
   },
   {
    "duration": 485,
    "start_time": "2022-09-27T08:50:19.173Z"
   },
   {
    "duration": 3,
    "start_time": "2022-09-27T08:50:19.659Z"
   },
   {
    "duration": 23,
    "start_time": "2022-09-27T08:50:19.664Z"
   },
   {
    "duration": 24024,
    "start_time": "2022-09-27T08:50:19.689Z"
   },
   {
    "duration": 4,
    "start_time": "2022-09-27T08:50:43.714Z"
   },
   {
    "duration": 705,
    "start_time": "2022-09-27T08:50:43.719Z"
   },
   {
    "duration": 85,
    "start_time": "2022-09-27T08:50:44.426Z"
   },
   {
    "duration": 122,
    "start_time": "2022-09-27T08:50:44.512Z"
   },
   {
    "duration": 7,
    "start_time": "2022-09-27T08:50:44.635Z"
   },
   {
    "duration": 9,
    "start_time": "2022-09-27T08:50:44.644Z"
   },
   {
    "duration": 3,
    "start_time": "2022-09-27T08:51:29.769Z"
   },
   {
    "duration": 1556,
    "start_time": "2022-09-27T08:51:34.831Z"
   },
   {
    "duration": 233,
    "start_time": "2022-09-27T08:51:36.390Z"
   },
   {
    "duration": 291,
    "start_time": "2022-09-27T08:51:36.625Z"
   },
   {
    "duration": 657,
    "start_time": "2022-09-27T08:51:36.919Z"
   },
   {
    "duration": 5,
    "start_time": "2022-09-27T08:51:37.578Z"
   },
   {
    "duration": 13,
    "start_time": "2022-09-27T08:51:37.584Z"
   },
   {
    "duration": 13,
    "start_time": "2022-09-27T08:51:37.598Z"
   },
   {
    "duration": 7,
    "start_time": "2022-09-27T08:51:37.613Z"
   },
   {
    "duration": 12,
    "start_time": "2022-09-27T08:51:37.621Z"
   },
   {
    "duration": 12,
    "start_time": "2022-09-27T08:51:37.635Z"
   },
   {
    "duration": 7,
    "start_time": "2022-09-27T08:51:37.649Z"
   },
   {
    "duration": 14,
    "start_time": "2022-09-27T08:51:37.658Z"
   },
   {
    "duration": 37,
    "start_time": "2022-09-27T08:51:37.673Z"
   },
   {
    "duration": 19209,
    "start_time": "2022-09-27T08:51:37.712Z"
   },
   {
    "duration": 4,
    "start_time": "2022-09-27T08:51:56.922Z"
   },
   {
    "duration": 534,
    "start_time": "2022-09-27T08:51:56.927Z"
   },
   {
    "duration": 536,
    "start_time": "2022-09-27T08:51:57.463Z"
   },
   {
    "duration": 8,
    "start_time": "2022-09-27T08:51:58.001Z"
   },
   {
    "duration": 43,
    "start_time": "2022-09-27T08:51:58.011Z"
   },
   {
    "duration": 26886,
    "start_time": "2022-09-27T08:51:58.056Z"
   },
   {
    "duration": 3,
    "start_time": "2022-09-27T08:52:24.944Z"
   },
   {
    "duration": 814,
    "start_time": "2022-09-27T08:52:24.948Z"
   },
   {
    "duration": 10,
    "start_time": "2022-09-27T08:52:25.764Z"
   },
   {
    "duration": 138,
    "start_time": "2022-09-27T08:52:25.808Z"
   },
   {
    "duration": 10,
    "start_time": "2022-09-27T08:52:25.948Z"
   },
   {
    "duration": 33,
    "start_time": "2022-09-27T08:52:25.959Z"
   },
   {
    "duration": 1462,
    "start_time": "2022-09-27T08:54:04.896Z"
   },
   {
    "duration": 224,
    "start_time": "2022-09-27T08:54:06.360Z"
   },
   {
    "duration": 280,
    "start_time": "2022-09-27T08:54:06.585Z"
   },
   {
    "duration": 632,
    "start_time": "2022-09-27T08:54:06.867Z"
   },
   {
    "duration": 8,
    "start_time": "2022-09-27T08:54:07.502Z"
   },
   {
    "duration": 42,
    "start_time": "2022-09-27T08:54:07.512Z"
   },
   {
    "duration": 15,
    "start_time": "2022-09-27T08:54:07.556Z"
   },
   {
    "duration": 20,
    "start_time": "2022-09-27T08:54:07.573Z"
   },
   {
    "duration": 40,
    "start_time": "2022-09-27T08:54:07.595Z"
   },
   {
    "duration": 17,
    "start_time": "2022-09-27T08:54:07.636Z"
   },
   {
    "duration": 30,
    "start_time": "2022-09-27T08:54:07.655Z"
   },
   {
    "duration": 35,
    "start_time": "2022-09-27T08:54:07.686Z"
   },
   {
    "duration": 21,
    "start_time": "2022-09-27T08:54:07.722Z"
   },
   {
    "duration": 21690,
    "start_time": "2022-09-27T08:54:07.746Z"
   },
   {
    "duration": 4,
    "start_time": "2022-09-27T08:54:29.437Z"
   },
   {
    "duration": 527,
    "start_time": "2022-09-27T08:54:29.442Z"
   },
   {
    "duration": 626,
    "start_time": "2022-09-27T08:54:29.971Z"
   },
   {
    "duration": 3,
    "start_time": "2022-09-27T08:54:30.598Z"
   },
   {
    "duration": 33,
    "start_time": "2022-09-27T08:54:30.608Z"
   },
   {
    "duration": 28295,
    "start_time": "2022-09-27T08:54:30.643Z"
   },
   {
    "duration": 3,
    "start_time": "2022-09-27T08:54:58.939Z"
   },
   {
    "duration": 627,
    "start_time": "2022-09-27T08:54:58.944Z"
   },
   {
    "duration": 13,
    "start_time": "2022-09-27T08:54:59.573Z"
   },
   {
    "duration": 141,
    "start_time": "2022-09-27T08:54:59.587Z"
   },
   {
    "duration": 8,
    "start_time": "2022-09-27T08:54:59.729Z"
   },
   {
    "duration": 8,
    "start_time": "2022-09-27T08:54:59.738Z"
   },
   {
    "duration": 1424,
    "start_time": "2022-09-27T08:55:23.968Z"
   },
   {
    "duration": 223,
    "start_time": "2022-09-27T08:55:25.393Z"
   },
   {
    "duration": 278,
    "start_time": "2022-09-27T08:55:25.617Z"
   },
   {
    "duration": 686,
    "start_time": "2022-09-27T08:55:25.897Z"
   },
   {
    "duration": 4,
    "start_time": "2022-09-27T08:55:26.585Z"
   },
   {
    "duration": 19,
    "start_time": "2022-09-27T08:55:26.590Z"
   },
   {
    "duration": 3,
    "start_time": "2022-09-27T08:55:26.610Z"
   },
   {
    "duration": 8,
    "start_time": "2022-09-27T08:55:26.614Z"
   },
   {
    "duration": 14,
    "start_time": "2022-09-27T08:55:26.623Z"
   },
   {
    "duration": 9,
    "start_time": "2022-09-27T08:55:26.640Z"
   },
   {
    "duration": 5,
    "start_time": "2022-09-27T08:55:26.650Z"
   },
   {
    "duration": 11,
    "start_time": "2022-09-27T08:55:26.656Z"
   },
   {
    "duration": 2,
    "start_time": "2022-09-27T08:55:26.669Z"
   },
   {
    "duration": 24388,
    "start_time": "2022-09-27T08:55:26.673Z"
   },
   {
    "duration": 4,
    "start_time": "2022-09-27T08:55:51.062Z"
   },
   {
    "duration": 528,
    "start_time": "2022-09-27T08:55:51.067Z"
   },
   {
    "duration": 682,
    "start_time": "2022-09-27T08:55:51.597Z"
   },
   {
    "duration": 3,
    "start_time": "2022-09-27T08:55:52.281Z"
   },
   {
    "duration": 24,
    "start_time": "2022-09-27T08:55:52.285Z"
   },
   {
    "duration": 36356,
    "start_time": "2022-09-27T08:55:52.310Z"
   },
   {
    "duration": 3,
    "start_time": "2022-09-27T08:56:28.668Z"
   },
   {
    "duration": 852,
    "start_time": "2022-09-27T08:56:28.672Z"
   },
   {
    "duration": 12,
    "start_time": "2022-09-27T08:56:29.526Z"
   },
   {
    "duration": 192,
    "start_time": "2022-09-27T08:56:29.540Z"
   },
   {
    "duration": 7,
    "start_time": "2022-09-27T08:56:29.733Z"
   },
   {
    "duration": 8,
    "start_time": "2022-09-27T08:56:29.741Z"
   },
   {
    "duration": 1516,
    "start_time": "2022-09-27T08:57:21.900Z"
   },
   {
    "duration": 228,
    "start_time": "2022-09-27T08:57:23.418Z"
   },
   {
    "duration": 294,
    "start_time": "2022-09-27T08:57:23.648Z"
   },
   {
    "duration": 653,
    "start_time": "2022-09-27T08:57:23.944Z"
   },
   {
    "duration": 4,
    "start_time": "2022-09-27T08:57:24.598Z"
   },
   {
    "duration": 26,
    "start_time": "2022-09-27T08:57:24.608Z"
   },
   {
    "duration": 9,
    "start_time": "2022-09-27T08:57:24.635Z"
   },
   {
    "duration": 21,
    "start_time": "2022-09-27T08:57:24.645Z"
   },
   {
    "duration": 21,
    "start_time": "2022-09-27T08:57:24.668Z"
   },
   {
    "duration": 11,
    "start_time": "2022-09-27T08:57:24.692Z"
   },
   {
    "duration": 16,
    "start_time": "2022-09-27T08:57:24.705Z"
   },
   {
    "duration": 24,
    "start_time": "2022-09-27T08:57:24.723Z"
   },
   {
    "duration": 14,
    "start_time": "2022-09-27T08:57:24.748Z"
   },
   {
    "duration": 39992,
    "start_time": "2022-09-27T08:57:24.764Z"
   },
   {
    "duration": 3,
    "start_time": "2022-09-27T08:58:04.758Z"
   },
   {
    "duration": 544,
    "start_time": "2022-09-27T08:58:04.763Z"
   },
   {
    "duration": 1129,
    "start_time": "2022-09-27T08:58:05.309Z"
   },
   {
    "duration": 4,
    "start_time": "2022-09-27T08:58:06.439Z"
   },
   {
    "duration": 26,
    "start_time": "2022-09-27T08:58:06.444Z"
   },
   {
    "duration": 59737,
    "start_time": "2022-09-27T08:58:06.471Z"
   },
   {
    "duration": 3,
    "start_time": "2022-09-27T08:59:06.209Z"
   },
   {
    "duration": 768,
    "start_time": "2022-09-27T08:59:06.214Z"
   },
   {
    "duration": 9,
    "start_time": "2022-09-27T08:59:06.984Z"
   },
   {
    "duration": 136,
    "start_time": "2022-09-27T08:59:06.994Z"
   },
   {
    "duration": 8,
    "start_time": "2022-09-27T08:59:07.131Z"
   },
   {
    "duration": 70,
    "start_time": "2022-09-27T08:59:07.140Z"
   },
   {
    "duration": 1557,
    "start_time": "2022-09-27T09:00:25.184Z"
   },
   {
    "duration": 220,
    "start_time": "2022-09-27T09:00:26.743Z"
   },
   {
    "duration": 296,
    "start_time": "2022-09-27T09:00:26.964Z"
   },
   {
    "duration": 619,
    "start_time": "2022-09-27T09:00:27.262Z"
   },
   {
    "duration": 4,
    "start_time": "2022-09-27T09:00:27.883Z"
   },
   {
    "duration": 22,
    "start_time": "2022-09-27T09:00:27.888Z"
   },
   {
    "duration": 4,
    "start_time": "2022-09-27T09:00:27.912Z"
   },
   {
    "duration": 12,
    "start_time": "2022-09-27T09:00:27.917Z"
   },
   {
    "duration": 28,
    "start_time": "2022-09-27T09:00:27.930Z"
   },
   {
    "duration": 8,
    "start_time": "2022-09-27T09:00:27.961Z"
   },
   {
    "duration": 3,
    "start_time": "2022-09-27T09:00:27.971Z"
   },
   {
    "duration": 10,
    "start_time": "2022-09-27T09:00:27.975Z"
   },
   {
    "duration": 3,
    "start_time": "2022-09-27T09:00:27.986Z"
   },
   {
    "duration": 8280,
    "start_time": "2022-09-27T09:00:27.990Z"
   },
   {
    "duration": 3,
    "start_time": "2022-09-27T09:00:36.272Z"
   },
   {
    "duration": 542,
    "start_time": "2022-09-27T09:00:36.277Z"
   },
   {
    "duration": 267,
    "start_time": "2022-09-27T09:00:36.821Z"
   },
   {
    "duration": 3,
    "start_time": "2022-09-27T09:00:37.090Z"
   },
   {
    "duration": 27,
    "start_time": "2022-09-27T09:00:37.095Z"
   },
   {
    "duration": 19935,
    "start_time": "2022-09-27T09:00:37.123Z"
   },
   {
    "duration": 3,
    "start_time": "2022-09-27T09:00:57.060Z"
   },
   {
    "duration": 1175,
    "start_time": "2022-09-27T09:00:57.065Z"
   },
   {
    "duration": 68,
    "start_time": "2022-09-27T09:00:58.242Z"
   },
   {
    "duration": 132,
    "start_time": "2022-09-27T09:00:58.311Z"
   },
   {
    "duration": 7,
    "start_time": "2022-09-27T09:00:58.445Z"
   },
   {
    "duration": 9,
    "start_time": "2022-09-27T09:00:58.453Z"
   },
   {
    "duration": 1495,
    "start_time": "2022-09-27T09:02:24.789Z"
   },
   {
    "duration": 219,
    "start_time": "2022-09-27T09:02:26.286Z"
   },
   {
    "duration": 272,
    "start_time": "2022-09-27T09:02:26.507Z"
   },
   {
    "duration": 671,
    "start_time": "2022-09-27T09:02:26.781Z"
   },
   {
    "duration": 4,
    "start_time": "2022-09-27T09:02:27.454Z"
   },
   {
    "duration": 17,
    "start_time": "2022-09-27T09:02:27.459Z"
   },
   {
    "duration": 11,
    "start_time": "2022-09-27T09:02:27.478Z"
   },
   {
    "duration": 8,
    "start_time": "2022-09-27T09:02:27.491Z"
   },
   {
    "duration": 14,
    "start_time": "2022-09-27T09:02:27.501Z"
   },
   {
    "duration": 7,
    "start_time": "2022-09-27T09:02:27.518Z"
   },
   {
    "duration": 7,
    "start_time": "2022-09-27T09:02:27.527Z"
   },
   {
    "duration": 8,
    "start_time": "2022-09-27T09:02:27.535Z"
   },
   {
    "duration": 13782,
    "start_time": "2022-09-27T09:02:27.545Z"
   },
   {
    "duration": 4,
    "start_time": "2022-09-27T09:02:41.329Z"
   },
   {
    "duration": 233,
    "start_time": "2022-09-27T09:02:41.335Z"
   },
   {
    "duration": 433,
    "start_time": "2022-09-27T09:02:41.570Z"
   },
   {
    "duration": 6,
    "start_time": "2022-09-27T09:02:42.004Z"
   },
   {
    "duration": 42,
    "start_time": "2022-09-27T09:02:42.011Z"
   },
   {
    "duration": 23487,
    "start_time": "2022-09-27T09:02:42.055Z"
   },
   {
    "duration": 4,
    "start_time": "2022-09-27T09:03:05.543Z"
   },
   {
    "duration": 817,
    "start_time": "2022-09-27T09:03:05.548Z"
   },
   {
    "duration": 14,
    "start_time": "2022-09-27T09:03:06.367Z"
   },
   {
    "duration": 115,
    "start_time": "2022-09-27T09:03:06.409Z"
   },
   {
    "duration": 8,
    "start_time": "2022-09-27T09:03:06.525Z"
   },
   {
    "duration": 12,
    "start_time": "2022-09-27T09:03:06.534Z"
   },
   {
    "duration": 1436,
    "start_time": "2022-09-27T09:04:15.963Z"
   },
   {
    "duration": 227,
    "start_time": "2022-09-27T09:04:17.401Z"
   },
   {
    "duration": 291,
    "start_time": "2022-09-27T09:04:17.630Z"
   },
   {
    "duration": 680,
    "start_time": "2022-09-27T09:04:17.923Z"
   },
   {
    "duration": 5,
    "start_time": "2022-09-27T09:04:18.604Z"
   },
   {
    "duration": 33,
    "start_time": "2022-09-27T09:04:18.610Z"
   },
   {
    "duration": 14,
    "start_time": "2022-09-27T09:04:18.645Z"
   },
   {
    "duration": 29,
    "start_time": "2022-09-27T09:04:18.660Z"
   },
   {
    "duration": 28,
    "start_time": "2022-09-27T09:04:18.691Z"
   },
   {
    "duration": 26,
    "start_time": "2022-09-27T09:04:18.721Z"
   },
   {
    "duration": 8,
    "start_time": "2022-09-27T09:04:18.749Z"
   },
   {
    "duration": 14,
    "start_time": "2022-09-27T09:04:18.759Z"
   },
   {
    "duration": 13909,
    "start_time": "2022-09-27T09:04:18.774Z"
   },
   {
    "duration": 5,
    "start_time": "2022-09-27T09:04:32.685Z"
   },
   {
    "duration": 476,
    "start_time": "2022-09-27T09:04:32.692Z"
   },
   {
    "duration": 411,
    "start_time": "2022-09-27T09:04:33.170Z"
   },
   {
    "duration": 3,
    "start_time": "2022-09-27T09:04:33.583Z"
   },
   {
    "duration": 27,
    "start_time": "2022-09-27T09:04:33.588Z"
   },
   {
    "duration": 23361,
    "start_time": "2022-09-27T09:04:33.617Z"
   },
   {
    "duration": 4,
    "start_time": "2022-09-27T09:04:56.979Z"
   },
   {
    "duration": 832,
    "start_time": "2022-09-27T09:04:56.984Z"
   },
   {
    "duration": 12,
    "start_time": "2022-09-27T09:04:57.817Z"
   },
   {
    "duration": 246,
    "start_time": "2022-09-27T09:04:57.830Z"
   },
   {
    "duration": 18,
    "start_time": "2022-09-27T09:04:58.077Z"
   },
   {
    "duration": 35,
    "start_time": "2022-09-27T09:04:58.096Z"
   },
   {
    "duration": 1602,
    "start_time": "2022-09-27T09:05:46.239Z"
   },
   {
    "duration": 241,
    "start_time": "2022-09-27T09:05:47.843Z"
   },
   {
    "duration": 293,
    "start_time": "2022-09-27T09:05:48.086Z"
   },
   {
    "duration": 682,
    "start_time": "2022-09-27T09:05:48.381Z"
   },
   {
    "duration": 5,
    "start_time": "2022-09-27T09:05:49.066Z"
   },
   {
    "duration": 18,
    "start_time": "2022-09-27T09:05:49.073Z"
   },
   {
    "duration": 4,
    "start_time": "2022-09-27T09:05:49.093Z"
   },
   {
    "duration": 16,
    "start_time": "2022-09-27T09:05:49.098Z"
   },
   {
    "duration": 13,
    "start_time": "2022-09-27T09:05:49.116Z"
   },
   {
    "duration": 9,
    "start_time": "2022-09-27T09:05:49.132Z"
   },
   {
    "duration": 10,
    "start_time": "2022-09-27T09:05:49.142Z"
   },
   {
    "duration": 12,
    "start_time": "2022-09-27T09:05:49.154Z"
   },
   {
    "duration": 16522,
    "start_time": "2022-09-27T09:05:49.168Z"
   },
   {
    "duration": 4,
    "start_time": "2022-09-27T09:06:05.691Z"
   },
   {
    "duration": 446,
    "start_time": "2022-09-27T09:06:05.696Z"
   },
   {
    "duration": 472,
    "start_time": "2022-09-27T09:06:06.143Z"
   },
   {
    "duration": 4,
    "start_time": "2022-09-27T09:06:06.616Z"
   },
   {
    "duration": 36,
    "start_time": "2022-09-27T09:06:06.621Z"
   },
   {
    "duration": 27344,
    "start_time": "2022-09-27T09:06:06.659Z"
   },
   {
    "duration": 3,
    "start_time": "2022-09-27T09:06:34.005Z"
   },
   {
    "duration": 756,
    "start_time": "2022-09-27T09:06:34.010Z"
   },
   {
    "duration": 14,
    "start_time": "2022-09-27T09:06:34.768Z"
   },
   {
    "duration": 127,
    "start_time": "2022-09-27T09:06:34.809Z"
   },
   {
    "duration": 9,
    "start_time": "2022-09-27T09:06:34.937Z"
   },
   {
    "duration": 8,
    "start_time": "2022-09-27T09:06:34.947Z"
   },
   {
    "duration": 1492,
    "start_time": "2022-09-27T09:11:42.835Z"
   },
   {
    "duration": 227,
    "start_time": "2022-09-27T09:11:44.329Z"
   },
   {
    "duration": 293,
    "start_time": "2022-09-27T09:11:44.558Z"
   },
   {
    "duration": 646,
    "start_time": "2022-09-27T09:11:44.853Z"
   },
   {
    "duration": 9,
    "start_time": "2022-09-27T09:11:45.500Z"
   },
   {
    "duration": 20,
    "start_time": "2022-09-27T09:11:45.510Z"
   },
   {
    "duration": 7,
    "start_time": "2022-09-27T09:11:45.532Z"
   },
   {
    "duration": 13,
    "start_time": "2022-09-27T09:11:45.541Z"
   },
   {
    "duration": 17,
    "start_time": "2022-09-27T09:11:45.555Z"
   },
   {
    "duration": 22,
    "start_time": "2022-09-27T09:11:45.575Z"
   },
   {
    "duration": 14,
    "start_time": "2022-09-27T09:11:45.598Z"
   },
   {
    "duration": 3,
    "start_time": "2022-09-27T09:11:45.613Z"
   },
   {
    "duration": 20059,
    "start_time": "2022-09-27T09:11:45.617Z"
   },
   {
    "duration": 4,
    "start_time": "2022-09-27T09:12:05.677Z"
   },
   {
    "duration": 426,
    "start_time": "2022-09-27T09:12:05.682Z"
   },
   {
    "duration": 547,
    "start_time": "2022-09-27T09:12:06.110Z"
   },
   {
    "duration": 4,
    "start_time": "2022-09-27T09:12:06.658Z"
   },
   {
    "duration": 21,
    "start_time": "2022-09-27T09:12:06.663Z"
   },
   {
    "duration": 32899,
    "start_time": "2022-09-27T09:12:06.685Z"
   },
   {
    "duration": 3,
    "start_time": "2022-09-27T09:12:39.586Z"
   },
   {
    "duration": 820,
    "start_time": "2022-09-27T09:12:39.590Z"
   },
   {
    "duration": 101,
    "start_time": "2022-09-27T09:12:40.412Z"
   },
   {
    "duration": 124,
    "start_time": "2022-09-27T09:12:40.515Z"
   },
   {
    "duration": 7,
    "start_time": "2022-09-27T09:12:40.641Z"
   },
   {
    "duration": 10,
    "start_time": "2022-09-27T09:12:40.650Z"
   },
   {
    "duration": 1551,
    "start_time": "2022-09-27T09:16:01.288Z"
   },
   {
    "duration": 240,
    "start_time": "2022-09-27T09:16:02.841Z"
   },
   {
    "duration": 290,
    "start_time": "2022-09-27T09:16:03.082Z"
   },
   {
    "duration": 682,
    "start_time": "2022-09-27T09:16:03.374Z"
   },
   {
    "duration": 4,
    "start_time": "2022-09-27T09:16:04.057Z"
   },
   {
    "duration": 32,
    "start_time": "2022-09-27T09:16:04.063Z"
   },
   {
    "duration": 10,
    "start_time": "2022-09-27T09:16:04.097Z"
   },
   {
    "duration": 26,
    "start_time": "2022-09-27T09:16:04.109Z"
   },
   {
    "duration": 26,
    "start_time": "2022-09-27T09:16:04.137Z"
   },
   {
    "duration": 23,
    "start_time": "2022-09-27T09:16:04.165Z"
   },
   {
    "duration": 29,
    "start_time": "2022-09-27T09:16:04.189Z"
   },
   {
    "duration": 9,
    "start_time": "2022-09-27T09:16:04.220Z"
   },
   {
    "duration": 27023,
    "start_time": "2022-09-27T09:16:04.230Z"
   },
   {
    "duration": 3,
    "start_time": "2022-09-27T09:16:31.255Z"
   },
   {
    "duration": 437,
    "start_time": "2022-09-27T09:16:31.260Z"
   },
   {
    "duration": 780,
    "start_time": "2022-09-27T09:16:31.699Z"
   },
   {
    "duration": 4,
    "start_time": "2022-09-27T09:16:32.481Z"
   },
   {
    "duration": 30,
    "start_time": "2022-09-27T09:16:32.486Z"
   },
   {
    "duration": 41309,
    "start_time": "2022-09-27T09:16:32.518Z"
   },
   {
    "duration": 4,
    "start_time": "2022-09-27T09:17:13.829Z"
   },
   {
    "duration": 767,
    "start_time": "2022-09-27T09:17:13.835Z"
   },
   {
    "duration": 16,
    "start_time": "2022-09-27T09:17:14.604Z"
   },
   {
    "duration": 209,
    "start_time": "2022-09-27T09:17:14.622Z"
   },
   {
    "duration": 8,
    "start_time": "2022-09-27T09:17:14.834Z"
   },
   {
    "duration": 24,
    "start_time": "2022-09-27T09:17:14.844Z"
   },
   {
    "duration": 696,
    "start_time": "2022-09-27T09:17:29.262Z"
   },
   {
    "duration": 6,
    "start_time": "2022-09-27T09:17:38.073Z"
   },
   {
    "duration": 771,
    "start_time": "2022-09-27T09:17:46.865Z"
   },
   {
    "duration": 7,
    "start_time": "2022-09-27T09:17:54.507Z"
   },
   {
    "duration": 130,
    "start_time": "2022-09-27T09:18:43.459Z"
   },
   {
    "duration": 9,
    "start_time": "2022-09-27T09:19:03.741Z"
   },
   {
    "duration": 37619,
    "start_time": "2022-09-27T09:22:52.131Z"
   },
   {
    "duration": 3,
    "start_time": "2022-09-27T09:23:29.752Z"
   },
   {
    "duration": 726,
    "start_time": "2022-09-27T09:23:34.484Z"
   },
   {
    "duration": 7,
    "start_time": "2022-09-27T09:23:46.075Z"
   },
   {
    "duration": 1465,
    "start_time": "2022-09-27T09:24:02.928Z"
   },
   {
    "duration": 261,
    "start_time": "2022-09-27T09:24:04.395Z"
   },
   {
    "duration": 330,
    "start_time": "2022-09-27T09:24:04.658Z"
   },
   {
    "duration": 711,
    "start_time": "2022-09-27T09:24:04.991Z"
   },
   {
    "duration": 4,
    "start_time": "2022-09-27T09:24:05.708Z"
   },
   {
    "duration": 40,
    "start_time": "2022-09-27T09:24:05.714Z"
   },
   {
    "duration": 36,
    "start_time": "2022-09-27T09:24:05.756Z"
   },
   {
    "duration": 32,
    "start_time": "2022-09-27T09:24:05.794Z"
   },
   {
    "duration": 22,
    "start_time": "2022-09-27T09:24:05.827Z"
   },
   {
    "duration": 26,
    "start_time": "2022-09-27T09:24:05.852Z"
   },
   {
    "duration": 32,
    "start_time": "2022-09-27T09:24:05.880Z"
   },
   {
    "duration": 14,
    "start_time": "2022-09-27T09:24:05.913Z"
   },
   {
    "duration": 28055,
    "start_time": "2022-09-27T09:24:05.929Z"
   },
   {
    "duration": 4,
    "start_time": "2022-09-27T09:24:33.985Z"
   },
   {
    "duration": 445,
    "start_time": "2022-09-27T09:24:33.991Z"
   },
   {
    "duration": 767,
    "start_time": "2022-09-27T09:24:34.438Z"
   },
   {
    "duration": 3,
    "start_time": "2022-09-27T09:24:35.206Z"
   },
   {
    "duration": 41,
    "start_time": "2022-09-27T09:24:35.210Z"
   },
   {
    "duration": 41433,
    "start_time": "2022-09-27T09:24:35.252Z"
   },
   {
    "duration": 4,
    "start_time": "2022-09-27T09:25:16.687Z"
   },
   {
    "duration": 803,
    "start_time": "2022-09-27T09:25:16.692Z"
   },
   {
    "duration": 8,
    "start_time": "2022-09-27T09:25:17.497Z"
   },
   {
    "duration": 211,
    "start_time": "2022-09-27T09:25:17.507Z"
   },
   {
    "duration": 9,
    "start_time": "2022-09-27T09:25:17.720Z"
   },
   {
    "duration": 6,
    "start_time": "2022-09-27T09:25:17.731Z"
   },
   {
    "duration": 1540,
    "start_time": "2022-09-27T09:25:42.092Z"
   },
   {
    "duration": 232,
    "start_time": "2022-09-27T09:25:43.634Z"
   },
   {
    "duration": 294,
    "start_time": "2022-09-27T09:25:43.868Z"
   },
   {
    "duration": 628,
    "start_time": "2022-09-27T09:25:44.164Z"
   },
   {
    "duration": 4,
    "start_time": "2022-09-27T09:25:44.794Z"
   },
   {
    "duration": 18,
    "start_time": "2022-09-27T09:25:44.799Z"
   },
   {
    "duration": 5,
    "start_time": "2022-09-27T09:25:44.818Z"
   },
   {
    "duration": 9,
    "start_time": "2022-09-27T09:25:44.824Z"
   },
   {
    "duration": 17,
    "start_time": "2022-09-27T09:25:44.834Z"
   },
   {
    "duration": 11,
    "start_time": "2022-09-27T09:25:44.854Z"
   },
   {
    "duration": 16,
    "start_time": "2022-09-27T09:25:44.867Z"
   },
   {
    "duration": 4,
    "start_time": "2022-09-27T09:25:44.909Z"
   },
   {
    "duration": 13725,
    "start_time": "2022-09-27T09:25:44.914Z"
   },
   {
    "duration": 4,
    "start_time": "2022-09-27T09:25:58.640Z"
   },
   {
    "duration": 433,
    "start_time": "2022-09-27T09:25:58.646Z"
   },
   {
    "duration": 399,
    "start_time": "2022-09-27T09:25:59.081Z"
   },
   {
    "duration": 4,
    "start_time": "2022-09-27T09:25:59.481Z"
   },
   {
    "duration": 28,
    "start_time": "2022-09-27T09:25:59.486Z"
   },
   {
    "duration": 17218,
    "start_time": "2022-09-27T09:25:59.516Z"
   },
   {
    "duration": 4,
    "start_time": "2022-09-27T09:26:16.735Z"
   },
   {
    "duration": 739,
    "start_time": "2022-09-27T09:26:16.740Z"
   },
   {
    "duration": 30,
    "start_time": "2022-09-27T09:26:17.481Z"
   },
   {
    "duration": 122,
    "start_time": "2022-09-27T09:26:17.518Z"
   },
   {
    "duration": 8,
    "start_time": "2022-09-27T09:26:17.641Z"
   },
   {
    "duration": 61,
    "start_time": "2022-09-27T09:26:17.651Z"
   },
   {
    "duration": 31920,
    "start_time": "2022-09-27T09:27:51.907Z"
   },
   {
    "duration": 4,
    "start_time": "2022-09-27T09:28:23.829Z"
   },
   {
    "duration": 1458,
    "start_time": "2022-09-27T09:30:45.180Z"
   },
   {
    "duration": 231,
    "start_time": "2022-09-27T09:30:46.640Z"
   },
   {
    "duration": 269,
    "start_time": "2022-09-27T09:30:46.873Z"
   },
   {
    "duration": 640,
    "start_time": "2022-09-27T09:30:47.145Z"
   },
   {
    "duration": 4,
    "start_time": "2022-09-27T09:30:47.787Z"
   },
   {
    "duration": 25,
    "start_time": "2022-09-27T09:30:47.793Z"
   },
   {
    "duration": 4,
    "start_time": "2022-09-27T09:30:47.820Z"
   },
   {
    "duration": 6,
    "start_time": "2022-09-27T09:30:47.826Z"
   },
   {
    "duration": 13,
    "start_time": "2022-09-27T09:30:47.834Z"
   },
   {
    "duration": 22,
    "start_time": "2022-09-27T09:30:47.850Z"
   },
   {
    "duration": 14,
    "start_time": "2022-09-27T09:30:47.874Z"
   },
   {
    "duration": 20,
    "start_time": "2022-09-27T09:30:47.890Z"
   },
   {
    "duration": 31369,
    "start_time": "2022-09-27T09:30:47.912Z"
   },
   {
    "duration": 3,
    "start_time": "2022-09-27T09:31:19.283Z"
   },
   {
    "duration": 825,
    "start_time": "2022-09-27T09:31:19.288Z"
   },
   {
    "duration": 408,
    "start_time": "2022-09-27T09:31:20.114Z"
   },
   {
    "duration": 3,
    "start_time": "2022-09-27T09:31:20.523Z"
   },
   {
    "duration": 35,
    "start_time": "2022-09-27T09:31:20.528Z"
   },
   {
    "duration": 19120,
    "start_time": "2022-09-27T09:31:20.564Z"
   },
   {
    "duration": 4,
    "start_time": "2022-09-27T09:31:39.686Z"
   },
   {
    "duration": 876,
    "start_time": "2022-09-27T09:31:39.692Z"
   },
   {
    "duration": 10,
    "start_time": "2022-09-27T09:31:40.570Z"
   },
   {
    "duration": 173,
    "start_time": "2022-09-27T09:31:40.582Z"
   },
   {
    "duration": 8,
    "start_time": "2022-09-27T09:31:40.757Z"
   },
   {
    "duration": 9,
    "start_time": "2022-09-27T09:31:40.767Z"
   },
   {
    "duration": 831,
    "start_time": "2022-09-27T09:34:13.101Z"
   },
   {
    "duration": 7,
    "start_time": "2022-09-27T09:34:21.612Z"
   },
   {
    "duration": 39442,
    "start_time": "2022-09-27T09:34:39.061Z"
   },
   {
    "duration": 3,
    "start_time": "2022-09-27T09:35:18.505Z"
   },
   {
    "duration": 697,
    "start_time": "2022-09-27T09:37:57.050Z"
   },
   {
    "duration": 7,
    "start_time": "2022-09-27T09:38:03.554Z"
   },
   {
    "duration": 3,
    "start_time": "2022-09-27T09:38:42.717Z"
   },
   {
    "duration": 1480,
    "start_time": "2022-09-27T09:39:14.985Z"
   },
   {
    "duration": 231,
    "start_time": "2022-09-27T09:39:16.467Z"
   },
   {
    "duration": 309,
    "start_time": "2022-09-27T09:39:16.700Z"
   },
   {
    "duration": 668,
    "start_time": "2022-09-27T09:39:17.012Z"
   },
   {
    "duration": 4,
    "start_time": "2022-09-27T09:39:17.682Z"
   },
   {
    "duration": 12,
    "start_time": "2022-09-27T09:39:17.688Z"
   },
   {
    "duration": 3,
    "start_time": "2022-09-27T09:39:17.709Z"
   },
   {
    "duration": 6,
    "start_time": "2022-09-27T09:39:17.714Z"
   },
   {
    "duration": 13,
    "start_time": "2022-09-27T09:39:17.722Z"
   },
   {
    "duration": 8,
    "start_time": "2022-09-27T09:39:17.738Z"
   },
   {
    "duration": 7,
    "start_time": "2022-09-27T09:39:17.747Z"
   },
   {
    "duration": 4,
    "start_time": "2022-09-27T09:39:17.756Z"
   },
   {
    "duration": 31656,
    "start_time": "2022-09-27T09:39:17.761Z"
   },
   {
    "duration": 4,
    "start_time": "2022-09-27T09:39:49.418Z"
   },
   {
    "duration": 842,
    "start_time": "2022-09-27T09:39:49.423Z"
   },
   {
    "duration": 402,
    "start_time": "2022-09-27T09:39:50.266Z"
   },
   {
    "duration": 3,
    "start_time": "2022-09-27T09:39:50.670Z"
   },
   {
    "duration": 29,
    "start_time": "2022-09-27T09:39:50.674Z"
   },
   {
    "duration": 40733,
    "start_time": "2022-09-27T09:39:50.704Z"
   },
   {
    "duration": 3,
    "start_time": "2022-09-27T09:40:31.439Z"
   },
   {
    "duration": 825,
    "start_time": "2022-09-27T09:40:31.443Z"
   },
   {
    "duration": 10,
    "start_time": "2022-09-27T09:40:32.270Z"
   },
   {
    "duration": 166,
    "start_time": "2022-09-27T09:40:32.282Z"
   },
   {
    "duration": 9,
    "start_time": "2022-09-27T09:40:32.450Z"
   },
   {
    "duration": 41,
    "start_time": "2022-09-27T09:40:32.461Z"
   },
   {
    "duration": 194,
    "start_time": "2022-09-27T09:47:01.239Z"
   },
   {
    "duration": 66214,
    "start_time": "2022-09-27T09:51:32.649Z"
   },
   {
    "duration": 4,
    "start_time": "2022-09-27T09:52:38.865Z"
   },
   {
    "duration": 1336,
    "start_time": "2022-09-27T09:53:31.851Z"
   },
   {
    "duration": 251,
    "start_time": "2022-09-27T09:53:44.023Z"
   },
   {
    "duration": 17,
    "start_time": "2022-09-27T09:53:50.502Z"
   },
   {
    "duration": 111867,
    "start_time": "2022-09-27T09:56:18.897Z"
   },
   {
    "duration": 4,
    "start_time": "2022-09-27T09:58:10.766Z"
   },
   {
    "duration": 2151,
    "start_time": "2022-09-27T09:58:50.908Z"
   },
   {
    "duration": 276,
    "start_time": "2022-09-27T09:58:58.513Z"
   },
   {
    "duration": 24,
    "start_time": "2022-09-27T09:59:02.032Z"
   },
   {
    "duration": 4,
    "start_time": "2022-09-27T09:59:25.157Z"
   },
   {
    "duration": 45,
    "start_time": "2022-09-27T10:02:46.255Z"
   },
   {
    "duration": 173,
    "start_time": "2022-09-27T10:03:35.368Z"
   },
   {
    "duration": 290,
    "start_time": "2022-09-27T10:03:55.524Z"
   },
   {
    "duration": 247,
    "start_time": "2022-09-27T10:04:27.126Z"
   },
   {
    "duration": 3,
    "start_time": "2022-09-27T10:04:30.364Z"
   },
   {
    "duration": 171,
    "start_time": "2022-09-27T10:04:32.262Z"
   },
   {
    "duration": 10,
    "start_time": "2022-09-27T10:04:49.733Z"
   },
   {
    "duration": 4,
    "start_time": "2022-09-27T10:05:28.841Z"
   },
   {
    "duration": 279,
    "start_time": "2022-09-27T10:05:30.634Z"
   },
   {
    "duration": 158,
    "start_time": "2022-09-27T10:06:32.820Z"
   },
   {
    "duration": 179,
    "start_time": "2022-09-27T10:09:50.563Z"
   },
   {
    "duration": 190,
    "start_time": "2022-09-27T10:09:55.811Z"
   },
   {
    "duration": 294,
    "start_time": "2022-09-27T10:10:13.084Z"
   },
   {
    "duration": 4,
    "start_time": "2022-09-27T10:17:21.222Z"
   },
   {
    "duration": 340,
    "start_time": "2022-09-27T10:17:24.435Z"
   },
   {
    "duration": 12,
    "start_time": "2022-09-27T10:18:57.500Z"
   },
   {
    "duration": 10,
    "start_time": "2022-09-27T10:19:17.771Z"
   },
   {
    "duration": 15,
    "start_time": "2022-09-27T10:19:33.384Z"
   },
   {
    "duration": 4,
    "start_time": "2022-09-27T10:19:44.893Z"
   },
   {
    "duration": 14,
    "start_time": "2022-09-27T10:19:57.843Z"
   },
   {
    "duration": 1371,
    "start_time": "2022-09-27T10:20:37.063Z"
   },
   {
    "duration": 223,
    "start_time": "2022-09-27T10:20:38.436Z"
   },
   {
    "duration": 274,
    "start_time": "2022-09-27T10:20:38.661Z"
   },
   {
    "duration": 641,
    "start_time": "2022-09-27T10:20:38.937Z"
   },
   {
    "duration": 4,
    "start_time": "2022-09-27T10:20:39.579Z"
   },
   {
    "duration": 29,
    "start_time": "2022-09-27T10:20:39.584Z"
   },
   {
    "duration": 4,
    "start_time": "2022-09-27T10:20:39.614Z"
   },
   {
    "duration": 6,
    "start_time": "2022-09-27T10:20:39.620Z"
   },
   {
    "duration": 25,
    "start_time": "2022-09-27T10:20:39.627Z"
   },
   {
    "duration": 10,
    "start_time": "2022-09-27T10:20:39.654Z"
   },
   {
    "duration": 11,
    "start_time": "2022-09-27T10:20:39.665Z"
   },
   {
    "duration": 32,
    "start_time": "2022-09-27T10:20:39.677Z"
   },
   {
    "duration": 112610,
    "start_time": "2022-09-27T10:20:39.710Z"
   },
   {
    "duration": 4,
    "start_time": "2022-09-27T10:22:32.322Z"
   },
   {
    "duration": 2223,
    "start_time": "2022-09-27T10:22:32.327Z"
   },
   {
    "duration": 394,
    "start_time": "2022-09-27T10:22:34.552Z"
   },
   {
    "duration": 4,
    "start_time": "2022-09-27T10:22:34.948Z"
   },
   {
    "duration": 23,
    "start_time": "2022-09-27T10:22:34.953Z"
   },
   {
    "duration": 35593,
    "start_time": "2022-09-27T10:22:34.977Z"
   },
   {
    "duration": 3,
    "start_time": "2022-09-27T10:23:10.571Z"
   },
   {
    "duration": 639,
    "start_time": "2022-09-27T10:23:10.576Z"
   },
   {
    "duration": 274,
    "start_time": "2022-09-27T10:23:11.216Z"
   },
   {
    "duration": 38,
    "start_time": "2022-09-27T10:23:11.492Z"
   },
   {
    "duration": 40,
    "start_time": "2022-09-27T10:23:11.531Z"
   },
   {
    "duration": 0,
    "start_time": "2022-09-27T10:23:11.572Z"
   },
   {
    "duration": 0,
    "start_time": "2022-09-27T10:23:11.573Z"
   },
   {
    "duration": 0,
    "start_time": "2022-09-27T10:23:11.574Z"
   },
   {
    "duration": 0,
    "start_time": "2022-09-27T10:23:11.575Z"
   },
   {
    "duration": 0,
    "start_time": "2022-09-27T10:23:11.577Z"
   },
   {
    "duration": 5,
    "start_time": "2022-09-27T10:23:33.274Z"
   },
   {
    "duration": 3,
    "start_time": "2022-09-27T10:23:38.612Z"
   },
   {
    "duration": 235,
    "start_time": "2022-09-27T10:23:40.372Z"
   },
   {
    "duration": 4,
    "start_time": "2022-09-27T10:24:20.125Z"
   },
   {
    "duration": 3,
    "start_time": "2022-09-27T10:24:30.692Z"
   },
   {
    "duration": 12,
    "start_time": "2022-09-27T10:26:18.112Z"
   },
   {
    "duration": 14,
    "start_time": "2022-09-27T10:26:30.842Z"
   },
   {
    "duration": 13,
    "start_time": "2022-09-27T10:27:17.283Z"
   },
   {
    "duration": 12,
    "start_time": "2022-09-27T10:27:31.288Z"
   },
   {
    "duration": 13,
    "start_time": "2022-09-27T10:27:39.858Z"
   },
   {
    "duration": 13,
    "start_time": "2022-09-27T10:27:51.352Z"
   },
   {
    "duration": 4,
    "start_time": "2022-09-27T10:28:03.292Z"
   },
   {
    "duration": 197,
    "start_time": "2022-09-27T10:28:05.171Z"
   },
   {
    "duration": 1368,
    "start_time": "2022-09-27T10:28:35.653Z"
   },
   {
    "duration": 228,
    "start_time": "2022-09-27T10:28:37.023Z"
   },
   {
    "duration": 285,
    "start_time": "2022-09-27T10:28:37.253Z"
   },
   {
    "duration": 632,
    "start_time": "2022-09-27T10:28:37.539Z"
   },
   {
    "duration": 4,
    "start_time": "2022-09-27T10:28:38.173Z"
   },
   {
    "duration": 14,
    "start_time": "2022-09-27T10:28:38.178Z"
   },
   {
    "duration": 17,
    "start_time": "2022-09-27T10:28:38.193Z"
   },
   {
    "duration": 6,
    "start_time": "2022-09-27T10:28:38.211Z"
   },
   {
    "duration": 13,
    "start_time": "2022-09-27T10:28:38.218Z"
   },
   {
    "duration": 11,
    "start_time": "2022-09-27T10:28:38.233Z"
   },
   {
    "duration": 7,
    "start_time": "2022-09-27T10:28:38.245Z"
   },
   {
    "duration": 3,
    "start_time": "2022-09-27T10:28:38.254Z"
   },
   {
    "duration": 111980,
    "start_time": "2022-09-27T10:28:38.259Z"
   },
   {
    "duration": 4,
    "start_time": "2022-09-27T10:30:30.242Z"
   },
   {
    "duration": 2139,
    "start_time": "2022-09-27T10:30:30.248Z"
   },
   {
    "duration": 447,
    "start_time": "2022-09-27T10:30:32.389Z"
   },
   {
    "duration": 4,
    "start_time": "2022-09-27T10:30:32.838Z"
   },
   {
    "duration": 45,
    "start_time": "2022-09-27T10:30:32.844Z"
   },
   {
    "duration": 37413,
    "start_time": "2022-09-27T10:30:32.891Z"
   },
   {
    "duration": 3,
    "start_time": "2022-09-27T10:31:10.306Z"
   },
   {
    "duration": 747,
    "start_time": "2022-09-27T10:31:10.311Z"
   },
   {
    "duration": 222,
    "start_time": "2022-09-27T10:31:11.060Z"
   },
   {
    "duration": 36,
    "start_time": "2022-09-27T10:31:11.284Z"
   },
   {
    "duration": 12,
    "start_time": "2022-09-27T10:31:11.322Z"
   },
   {
    "duration": 18,
    "start_time": "2022-09-27T10:31:11.336Z"
   },
   {
    "duration": 259,
    "start_time": "2022-09-27T10:31:11.355Z"
   },
   {
    "duration": 140,
    "start_time": "2022-09-27T10:32:43.945Z"
   },
   {
    "duration": 203,
    "start_time": "2022-09-27T10:34:32.284Z"
   },
   {
    "duration": 200,
    "start_time": "2022-09-27T10:35:17.989Z"
   },
   {
    "duration": 9,
    "start_time": "2022-09-27T10:35:28.561Z"
   },
   {
    "duration": 214,
    "start_time": "2022-09-27T10:36:21.363Z"
   },
   {
    "duration": 163,
    "start_time": "2022-09-27T10:36:31.290Z"
   },
   {
    "duration": 1421,
    "start_time": "2022-09-27T10:37:20.423Z"
   },
   {
    "duration": 224,
    "start_time": "2022-09-27T10:37:21.846Z"
   },
   {
    "duration": 277,
    "start_time": "2022-09-27T10:37:22.071Z"
   },
   {
    "duration": 676,
    "start_time": "2022-09-27T10:37:22.350Z"
   },
   {
    "duration": 4,
    "start_time": "2022-09-27T10:37:23.028Z"
   },
   {
    "duration": 30,
    "start_time": "2022-09-27T10:37:23.033Z"
   },
   {
    "duration": 7,
    "start_time": "2022-09-27T10:37:23.065Z"
   },
   {
    "duration": 16,
    "start_time": "2022-09-27T10:37:23.073Z"
   },
   {
    "duration": 18,
    "start_time": "2022-09-27T10:37:23.090Z"
   },
   {
    "duration": 10,
    "start_time": "2022-09-27T10:37:23.111Z"
   },
   {
    "duration": 27,
    "start_time": "2022-09-27T10:37:23.123Z"
   },
   {
    "duration": 8,
    "start_time": "2022-09-27T10:37:23.151Z"
   },
   {
    "duration": 112435,
    "start_time": "2022-09-27T10:37:23.161Z"
   },
   {
    "duration": 4,
    "start_time": "2022-09-27T10:39:15.598Z"
   },
   {
    "duration": 2119,
    "start_time": "2022-09-27T10:39:15.608Z"
   },
   {
    "duration": 400,
    "start_time": "2022-09-27T10:39:17.729Z"
   },
   {
    "duration": 4,
    "start_time": "2022-09-27T10:39:18.131Z"
   },
   {
    "duration": 26,
    "start_time": "2022-09-27T10:39:18.136Z"
   },
   {
    "duration": 39047,
    "start_time": "2022-09-27T10:39:18.163Z"
   },
   {
    "duration": 4,
    "start_time": "2022-09-27T10:39:57.211Z"
   },
   {
    "duration": 862,
    "start_time": "2022-09-27T10:39:57.216Z"
   },
   {
    "duration": 237,
    "start_time": "2022-09-27T10:39:58.079Z"
   },
   {
    "duration": 22,
    "start_time": "2022-09-27T10:39:58.317Z"
   },
   {
    "duration": 5,
    "start_time": "2022-09-27T10:39:58.340Z"
   },
   {
    "duration": 7,
    "start_time": "2022-09-27T10:39:58.347Z"
   },
   {
    "duration": 184,
    "start_time": "2022-09-27T10:39:58.356Z"
   },
   {
    "duration": 52,
    "start_time": "2022-09-27T10:41:28.881Z"
   },
   {
    "duration": 169,
    "start_time": "2022-09-27T10:43:25.359Z"
   },
   {
    "duration": 315,
    "start_time": "2022-09-27T10:43:40.696Z"
   },
   {
    "duration": 261,
    "start_time": "2022-09-27T10:43:43.961Z"
   },
   {
    "duration": 17,
    "start_time": "2022-09-27T10:44:05.591Z"
   },
   {
    "duration": 4,
    "start_time": "2022-09-27T10:44:54.482Z"
   },
   {
    "duration": 195,
    "start_time": "2022-09-27T10:45:55.344Z"
   },
   {
    "duration": 4,
    "start_time": "2022-09-27T10:46:28.527Z"
   },
   {
    "duration": 9,
    "start_time": "2022-09-27T10:46:39.840Z"
   },
   {
    "duration": 66,
    "start_time": "2022-09-27T10:46:42.563Z"
   },
   {
    "duration": 3,
    "start_time": "2022-09-27T10:46:45.042Z"
   },
   {
    "duration": 2,
    "start_time": "2022-09-27T10:47:16.560Z"
   },
   {
    "duration": 13,
    "start_time": "2022-09-27T10:48:22.591Z"
   },
   {
    "duration": 9,
    "start_time": "2022-09-27T10:48:31.451Z"
   },
   {
    "duration": 171,
    "start_time": "2022-09-27T10:48:33.932Z"
   },
   {
    "duration": 14,
    "start_time": "2022-09-27T10:49:17.093Z"
   },
   {
    "duration": 4,
    "start_time": "2022-09-27T10:49:23.396Z"
   },
   {
    "duration": 10,
    "start_time": "2022-09-27T10:49:30.137Z"
   },
   {
    "duration": 9,
    "start_time": "2022-09-27T10:49:55.914Z"
   },
   {
    "duration": 4,
    "start_time": "2022-09-27T10:50:06.879Z"
   },
   {
    "duration": 195,
    "start_time": "2022-09-27T10:50:09.216Z"
   },
   {
    "duration": 2,
    "start_time": "2022-09-27T10:51:09.054Z"
   }
  ],
  "kernelspec": {
   "display_name": "Python 3 (ipykernel)",
   "language": "python",
   "name": "python3"
  },
  "language_info": {
   "codemirror_mode": {
    "name": "ipython",
    "version": 3
   },
   "file_extension": ".py",
   "mimetype": "text/x-python",
   "name": "python",
   "nbconvert_exporter": "python",
   "pygments_lexer": "ipython3",
   "version": "3.9.12"
  },
  "toc": {
   "base_numbering": 1,
   "nav_menu": {},
   "number_sections": true,
   "sideBar": true,
   "skip_h1_title": true,
   "title_cell": "Содержание",
   "title_sidebar": "Contents",
   "toc_cell": true,
   "toc_position": {
    "height": "calc(100% - 180px)",
    "left": "10px",
    "top": "150px",
    "width": "270.188px"
   },
   "toc_section_display": true,
   "toc_window_display": true
  }
 },
 "nbformat": 4,
 "nbformat_minor": 2
}
