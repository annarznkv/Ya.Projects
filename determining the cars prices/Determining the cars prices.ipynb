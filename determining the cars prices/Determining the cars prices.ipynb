{
 "cells": [
  {
   "cell_type": "markdown",
   "metadata": {},
   "source": [
    "# Определение стоимости автомобилей"
   ]
  },
  {
   "cell_type": "markdown",
   "metadata": {},
   "source": [
    "Сервис по продаже автомобилей с пробегом «Не бит, не крашен» разрабатывает приложение для привлечения новых клиентов. В нём можно быстро узнать рыночную стоимость своего автомобиля. В распоряжении исторические данные: технические характеристики, комплектации и цены автомобилей. Нужно построить модель для определения стоимости. \n",
    "\n",
    "Заказчику важны:\n",
    "\n",
    "- качество предсказания;\n",
    "- скорость предсказания;\n",
    "- время обучения."
   ]
  },
  {
   "cell_type": "markdown",
   "metadata": {},
   "source": [
    "Основные шаги:\n",
    "- Загрузим и изучим данные\n",
    "- Заполним пропущенные значения и обработаем аномалии в столбцах. Удалим неинформативные\n",
    "- Подготовим выборки для обучения моделей.\n",
    "- Обучим три модели: LGBMRegressor, CatBoostRegressor, RandomForestRegressor. Для каждой модели попробуем разные гиперпараметры.\n",
    "- Проанализируем время обучения, время предсказания и качество моделей.\n",
    "- Опираясь на критерии заказчика, выберем лучшую модель и проверим её качество на тестовой выборке."
   ]
  },
  {
   "cell_type": "markdown",
   "metadata": {},
   "source": [
    "## Подготовка данных"
   ]
  },
  {
   "cell_type": "code",
   "execution_count": 1,
   "metadata": {},
   "outputs": [],
   "source": [
    "import numpy as np\n",
    "import pandas as pd\n",
    "\n",
    "from catboost import CatBoostRegressor\n",
    "from lightgbm import LGBMRegressor\n",
    "\n",
    "from sklearn.metrics import mean_squared_error\n",
    "from sklearn.model_selection import train_test_split\n",
    "from sklearn.model_selection import GridSearchCV\n",
    "from sklearn.preprocessing import OrdinalEncoder\n",
    "from sklearn.ensemble import RandomForestRegressor\n",
    "\n",
    "#np.random.seed(12345)"
   ]
  },
  {
   "cell_type": "code",
   "execution_count": 2,
   "metadata": {},
   "outputs": [
    {
     "name": "stdout",
     "output_type": "stream",
     "text": [
      "<class 'pandas.core.frame.DataFrame'>\n",
      "RangeIndex: 354369 entries, 0 to 354368\n",
      "Data columns (total 16 columns):\n",
      " #   Column             Non-Null Count   Dtype \n",
      "---  ------             --------------   ----- \n",
      " 0   DateCrawled        354369 non-null  object\n",
      " 1   Price              354369 non-null  int64 \n",
      " 2   VehicleType        316879 non-null  object\n",
      " 3   RegistrationYear   354369 non-null  int64 \n",
      " 4   Gearbox            334536 non-null  object\n",
      " 5   Power              354369 non-null  int64 \n",
      " 6   Model              334664 non-null  object\n",
      " 7   Kilometer          354369 non-null  int64 \n",
      " 8   RegistrationMonth  354369 non-null  int64 \n",
      " 9   FuelType           321474 non-null  object\n",
      " 10  Brand              354369 non-null  object\n",
      " 11  NotRepaired        283215 non-null  object\n",
      " 12  DateCreated        354369 non-null  object\n",
      " 13  NumberOfPictures   354369 non-null  int64 \n",
      " 14  PostalCode         354369 non-null  int64 \n",
      " 15  LastSeen           354369 non-null  object\n",
      "dtypes: int64(7), object(9)\n",
      "memory usage: 43.3+ MB\n"
     ]
    }
   ],
   "source": [
    "df = pd.read_csv('/datasets/autos.csv')\n",
    "df.info()"
   ]
  },
  {
   "cell_type": "markdown",
   "metadata": {},
   "source": [
    "Признаки\n",
    "- DateCrawled — дата скачивания анкеты из базы\n",
    "- VehicleType — тип автомобильного кузова\n",
    "- RegistrationYear — год регистрации автомобиля\n",
    "- Gearbox — тип коробки передач\n",
    "- Power — мощность (л. с.)\n",
    "- Model — модель автомобиля\n",
    "- Kilometer — пробег (км)\n",
    "- RegistrationMonth — месяц регистрации автомобиля\n",
    "- FuelType — тип топлива\n",
    "- Brand — марка автомобиля\n",
    "- NotRepaired — была машина в ремонте или нет\n",
    "- DateCreated — дата создания анкеты\n",
    "- NumberOfPictures — количество фотографий автомобиля\n",
    "- PostalCode — почтовый индекс владельца анкеты (пользователя)\n",
    "- LastSeen — дата последней активности пользователя\n",
    "\n",
    "\n",
    "Целевой признак\n",
    "- Price — цена (евро)"
   ]
  },
  {
   "cell_type": "code",
   "execution_count": 3,
   "metadata": {},
   "outputs": [
    {
     "data": {
      "text/html": [
       "<div>\n",
       "<style scoped>\n",
       "    .dataframe tbody tr th:only-of-type {\n",
       "        vertical-align: middle;\n",
       "    }\n",
       "\n",
       "    .dataframe tbody tr th {\n",
       "        vertical-align: top;\n",
       "    }\n",
       "\n",
       "    .dataframe thead th {\n",
       "        text-align: right;\n",
       "    }\n",
       "</style>\n",
       "<table border=\"1\" class=\"dataframe\">\n",
       "  <thead>\n",
       "    <tr style=\"text-align: right;\">\n",
       "      <th></th>\n",
       "      <th>DateCrawled</th>\n",
       "      <th>Price</th>\n",
       "      <th>VehicleType</th>\n",
       "      <th>RegistrationYear</th>\n",
       "      <th>Gearbox</th>\n",
       "      <th>Power</th>\n",
       "      <th>Model</th>\n",
       "      <th>Kilometer</th>\n",
       "      <th>RegistrationMonth</th>\n",
       "      <th>FuelType</th>\n",
       "      <th>Brand</th>\n",
       "      <th>NotRepaired</th>\n",
       "      <th>DateCreated</th>\n",
       "      <th>NumberOfPictures</th>\n",
       "      <th>PostalCode</th>\n",
       "      <th>LastSeen</th>\n",
       "    </tr>\n",
       "  </thead>\n",
       "  <tbody>\n",
       "    <tr>\n",
       "      <th>0</th>\n",
       "      <td>2016-03-24 11:52:17</td>\n",
       "      <td>480</td>\n",
       "      <td>NaN</td>\n",
       "      <td>1993</td>\n",
       "      <td>manual</td>\n",
       "      <td>0</td>\n",
       "      <td>golf</td>\n",
       "      <td>150000</td>\n",
       "      <td>0</td>\n",
       "      <td>petrol</td>\n",
       "      <td>volkswagen</td>\n",
       "      <td>NaN</td>\n",
       "      <td>2016-03-24 00:00:00</td>\n",
       "      <td>0</td>\n",
       "      <td>70435</td>\n",
       "      <td>2016-04-07 03:16:57</td>\n",
       "    </tr>\n",
       "    <tr>\n",
       "      <th>1</th>\n",
       "      <td>2016-03-24 10:58:45</td>\n",
       "      <td>18300</td>\n",
       "      <td>coupe</td>\n",
       "      <td>2011</td>\n",
       "      <td>manual</td>\n",
       "      <td>190</td>\n",
       "      <td>NaN</td>\n",
       "      <td>125000</td>\n",
       "      <td>5</td>\n",
       "      <td>gasoline</td>\n",
       "      <td>audi</td>\n",
       "      <td>yes</td>\n",
       "      <td>2016-03-24 00:00:00</td>\n",
       "      <td>0</td>\n",
       "      <td>66954</td>\n",
       "      <td>2016-04-07 01:46:50</td>\n",
       "    </tr>\n",
       "    <tr>\n",
       "      <th>2</th>\n",
       "      <td>2016-03-14 12:52:21</td>\n",
       "      <td>9800</td>\n",
       "      <td>suv</td>\n",
       "      <td>2004</td>\n",
       "      <td>auto</td>\n",
       "      <td>163</td>\n",
       "      <td>grand</td>\n",
       "      <td>125000</td>\n",
       "      <td>8</td>\n",
       "      <td>gasoline</td>\n",
       "      <td>jeep</td>\n",
       "      <td>NaN</td>\n",
       "      <td>2016-03-14 00:00:00</td>\n",
       "      <td>0</td>\n",
       "      <td>90480</td>\n",
       "      <td>2016-04-05 12:47:46</td>\n",
       "    </tr>\n",
       "    <tr>\n",
       "      <th>3</th>\n",
       "      <td>2016-03-17 16:54:04</td>\n",
       "      <td>1500</td>\n",
       "      <td>small</td>\n",
       "      <td>2001</td>\n",
       "      <td>manual</td>\n",
       "      <td>75</td>\n",
       "      <td>golf</td>\n",
       "      <td>150000</td>\n",
       "      <td>6</td>\n",
       "      <td>petrol</td>\n",
       "      <td>volkswagen</td>\n",
       "      <td>no</td>\n",
       "      <td>2016-03-17 00:00:00</td>\n",
       "      <td>0</td>\n",
       "      <td>91074</td>\n",
       "      <td>2016-03-17 17:40:17</td>\n",
       "    </tr>\n",
       "    <tr>\n",
       "      <th>4</th>\n",
       "      <td>2016-03-31 17:25:20</td>\n",
       "      <td>3600</td>\n",
       "      <td>small</td>\n",
       "      <td>2008</td>\n",
       "      <td>manual</td>\n",
       "      <td>69</td>\n",
       "      <td>fabia</td>\n",
       "      <td>90000</td>\n",
       "      <td>7</td>\n",
       "      <td>gasoline</td>\n",
       "      <td>skoda</td>\n",
       "      <td>no</td>\n",
       "      <td>2016-03-31 00:00:00</td>\n",
       "      <td>0</td>\n",
       "      <td>60437</td>\n",
       "      <td>2016-04-06 10:17:21</td>\n",
       "    </tr>\n",
       "  </tbody>\n",
       "</table>\n",
       "</div>"
      ],
      "text/plain": [
       "           DateCrawled  Price VehicleType  RegistrationYear Gearbox  Power  \\\n",
       "0  2016-03-24 11:52:17    480         NaN              1993  manual      0   \n",
       "1  2016-03-24 10:58:45  18300       coupe              2011  manual    190   \n",
       "2  2016-03-14 12:52:21   9800         suv              2004    auto    163   \n",
       "3  2016-03-17 16:54:04   1500       small              2001  manual     75   \n",
       "4  2016-03-31 17:25:20   3600       small              2008  manual     69   \n",
       "\n",
       "   Model  Kilometer  RegistrationMonth  FuelType       Brand NotRepaired  \\\n",
       "0   golf     150000                  0    petrol  volkswagen         NaN   \n",
       "1    NaN     125000                  5  gasoline        audi         yes   \n",
       "2  grand     125000                  8  gasoline        jeep         NaN   \n",
       "3   golf     150000                  6    petrol  volkswagen          no   \n",
       "4  fabia      90000                  7  gasoline       skoda          no   \n",
       "\n",
       "           DateCreated  NumberOfPictures  PostalCode             LastSeen  \n",
       "0  2016-03-24 00:00:00                 0       70435  2016-04-07 03:16:57  \n",
       "1  2016-03-24 00:00:00                 0       66954  2016-04-07 01:46:50  \n",
       "2  2016-03-14 00:00:00                 0       90480  2016-04-05 12:47:46  \n",
       "3  2016-03-17 00:00:00                 0       91074  2016-03-17 17:40:17  \n",
       "4  2016-03-31 00:00:00                 0       60437  2016-04-06 10:17:21  "
      ]
     },
     "execution_count": 3,
     "metadata": {},
     "output_type": "execute_result"
    }
   ],
   "source": [
    "df.head()"
   ]
  },
  {
   "cell_type": "markdown",
   "metadata": {},
   "source": [
    " Все количественные параметры заполнены - пропущены только категориальные переменные"
   ]
  },
  {
   "cell_type": "code",
   "execution_count": 4,
   "metadata": {},
   "outputs": [
    {
     "name": "stdout",
     "output_type": "stream",
     "text": [
      "DateCrawled              0\n",
      "Price                    0\n",
      "VehicleType          37490\n",
      "RegistrationYear         0\n",
      "Gearbox              19833\n",
      "Power                    0\n",
      "Model                19705\n",
      "Kilometer                0\n",
      "RegistrationMonth        0\n",
      "FuelType             32895\n",
      "Brand                    0\n",
      "NotRepaired          71154\n",
      "DateCreated              0\n",
      "NumberOfPictures         0\n",
      "PostalCode               0\n",
      "LastSeen                 0\n",
      "dtype: int64\n",
      "Доля строк без пропусков: 0.6936667710776055\n"
     ]
    }
   ],
   "source": [
    "#Оценим количество пропущенных значений\n",
    "print(df.isna().sum())\n",
    "print(\"Доля строк без пропусков:\",df.dropna().shape[0]/df.shape[0])"
   ]
  },
  {
   "cell_type": "markdown",
   "metadata": {},
   "source": [
    "Если удалим все пропуски, потеряем треть данных :(\n",
    "\n",
    "Ок, заменим все пропуски на 'no_data'"
   ]
  },
  {
   "cell_type": "code",
   "execution_count": 5,
   "metadata": {},
   "outputs": [],
   "source": [
    "df['NotRepaired'] = df['NotRepaired'].fillna('no_data')\n",
    "df['Model'] = df['Model'].fillna('no_data')\n",
    "df['VehicleType'] = df['VehicleType'].fillna('no_data')\n",
    "df['FuelType'] = df['FuelType'].fillna('no_data')\n",
    "df['Gearbox'] = df['Gearbox'].fillna('no_data')"
   ]
  },
  {
   "cell_type": "code",
   "execution_count": 6,
   "metadata": {},
   "outputs": [],
   "source": [
    "#Эти данные ничего не дадут анализу - удаляем\n",
    "df = df.drop(['DateCrawled','DateCreated','LastSeen','RegistrationMonth'],axis = 1)"
   ]
  },
  {
   "cell_type": "code",
   "execution_count": 7,
   "metadata": {},
   "outputs": [],
   "source": [
    "df['NumberOfPictures'].describe() #Количество картинок у всех нулевое - удалим столбец\n",
    "df = df.drop('NumberOfPictures',axis = 1)"
   ]
  },
  {
   "cell_type": "code",
   "execution_count": 8,
   "metadata": {},
   "outputs": [
    {
     "name": "stdout",
     "output_type": "stream",
     "text": [
      "VehicleType ['no_data' 'coupe' 'suv' 'small' 'sedan' 'convertible' 'bus' 'wagon'\n",
      " 'other']\n",
      "Gearbox ['manual' 'auto' 'no_data']\n",
      "Model ['golf' 'no_data' 'grand' 'fabia' '3er' '2_reihe' 'other' 'c_max'\n",
      " '3_reihe' 'passat' 'navara' 'ka' 'polo' 'twingo' 'a_klasse' 'scirocco'\n",
      " '5er' 'meriva' 'arosa' 'c4' 'civic' 'transporter' 'punto' 'e_klasse'\n",
      " 'clio' 'kadett' 'kangoo' 'corsa' 'one' 'fortwo' '1er' 'b_klasse' 'signum'\n",
      " 'astra' 'a8' 'jetta' 'fiesta' 'c_klasse' 'micra' 'vito' 'sprinter' '156'\n",
      " 'escort' 'forester' 'xc_reihe' 'scenic' 'a4' 'a1' 'insignia' 'combo'\n",
      " 'focus' 'tt' 'a6' 'jazz' 'omega' 'slk' '7er' '80' '147' '100' 'z_reihe'\n",
      " 'sportage' 'sorento' 'v40' 'ibiza' 'mustang' 'eos' 'touran' 'getz' 'a3'\n",
      " 'almera' 'megane' 'lupo' 'r19' 'zafira' 'caddy' 'mondeo' 'cordoba' 'colt'\n",
      " 'impreza' 'vectra' 'berlingo' 'tiguan' 'i_reihe' 'espace' 'sharan'\n",
      " '6_reihe' 'panda' 'up' 'seicento' 'ceed' '5_reihe' 'yeti' 'octavia' 'mii'\n",
      " 'rx_reihe' '6er' 'modus' 'fox' 'matiz' 'beetle' 'c1' 'rio' 'touareg'\n",
      " 'logan' 'spider' 'cuore' 's_max' 'a2' 'galaxy' 'c3' 'viano' 's_klasse'\n",
      " '1_reihe' 'avensis' 'roomster' 'sl' 'kaefer' 'santa' 'cooper' 'leon'\n",
      " '4_reihe' 'a5' '500' 'laguna' 'ptcruiser' 'clk' 'primera' 'x_reihe'\n",
      " 'exeo' '159' 'transit' 'juke' 'qashqai' 'carisma' 'accord' 'corolla'\n",
      " 'lanos' 'phaeton' 'verso' 'swift' 'rav' 'picanto' 'boxster' 'kalos'\n",
      " 'superb' 'stilo' 'alhambra' 'mx_reihe' 'roadster' 'ypsilon' 'cayenne'\n",
      " 'galant' 'justy' '90' 'sirion' 'crossfire' 'agila' 'duster' 'cr_reihe'\n",
      " 'v50' 'c_reihe' 'v_klasse' 'm_klasse' 'yaris' 'c5' 'aygo' 'cc' 'carnival'\n",
      " 'fusion' '911' 'bora' 'forfour' 'm_reihe' 'cl' 'tigra' '300c' 'spark'\n",
      " 'v70' 'kuga' 'x_type' 'ducato' 's_type' 'x_trail' 'toledo' 'altea'\n",
      " 'voyager' 'calibra' 'bravo' 'antara' 'tucson' 'citigo' 'jimny' 'wrangler'\n",
      " 'lybra' 'q7' 'lancer' 'captiva' 'c2' 'discovery' 'freelander' 'sandero'\n",
      " 'note' '900' 'cherokee' 'clubman' 'samara' 'defender' '601' 'cx_reihe'\n",
      " 'legacy' 'pajero' 'auris' 'niva' 's60' 'nubira' 'vivaro' 'g_klasse'\n",
      " 'lodgy' '850' 'range_rover' 'q3' 'serie_2' 'glk' 'charade' 'croma'\n",
      " 'outlander' 'doblo' 'musa' 'move' '9000' 'v60' '145' 'aveo' '200' 'b_max'\n",
      " 'range_rover_sport' 'terios' 'rangerover' 'q5' 'range_rover_evoque'\n",
      " 'materia' 'delta' 'gl' 'kalina' 'amarok' 'elefantino' 'i3' 'kappa'\n",
      " 'serie_3' 'serie_1']\n",
      "FuelType ['petrol' 'gasoline' 'no_data' 'lpg' 'other' 'hybrid' 'cng' 'electric']\n",
      "Brand ['volkswagen' 'audi' 'jeep' 'skoda' 'bmw' 'peugeot' 'ford' 'mazda'\n",
      " 'nissan' 'renault' 'mercedes_benz' 'opel' 'seat' 'citroen' 'honda' 'fiat'\n",
      " 'mini' 'smart' 'hyundai' 'sonstige_autos' 'alfa_romeo' 'subaru' 'volvo'\n",
      " 'mitsubishi' 'kia' 'suzuki' 'lancia' 'toyota' 'chevrolet' 'dacia'\n",
      " 'daihatsu' 'trabant' 'saab' 'chrysler' 'jaguar' 'daewoo' 'porsche'\n",
      " 'rover' 'land_rover' 'lada']\n",
      "NotRepaired ['no_data' 'yes' 'no']\n"
     ]
    }
   ],
   "source": [
    "print('VehicleType',df['VehicleType'].unique())\n",
    "print('Gearbox',df['Gearbox'].unique())\n",
    "print('Model',df['Model'].unique())\n",
    "print('FuelType',df['FuelType'].unique())\n",
    "print('Brand',df['Brand'].unique())\n",
    "print('NotRepaired',df['NotRepaired'].unique())"
   ]
  },
  {
   "cell_type": "markdown",
   "metadata": {},
   "source": [
    "Дополнительно унифицировать категориальные данные не получится - нет идей\n",
    "\n",
    "Посмотрим на количественные данные и очистим от выбросов и мусора"
   ]
  },
  {
   "cell_type": "code",
   "execution_count": 9,
   "metadata": {},
   "outputs": [],
   "source": [
    "df = df.drop(df.loc[df['RegistrationYear']>2016].index)\n",
    "df = df.drop(df.loc[df['RegistrationYear']<1980].index)\n",
    "df = df.drop(df.loc[df['Power']>400].index)\n",
    "df = df.drop(df.loc[df['Power']<80].index) #как минимум для безопасной перевозки 4 взрослых в машине минимальная мощность составит около 80 лошадиных сил.\n",
    "df = df.drop(df.loc[df['Price']<1000].index)#примем, что авто ниже 1к евро - металлолом"
   ]
  },
  {
   "cell_type": "code",
   "execution_count": 10,
   "metadata": {},
   "outputs": [
    {
     "name": "stdout",
     "output_type": "stream",
     "text": [
      "not numeric type VehicleType\n",
      "not numeric type Gearbox\n",
      "not numeric type Model\n",
      "not numeric type FuelType\n",
      "not numeric type Brand\n",
      "not numeric type NotRepaired\n"
     ]
    },
    {
     "data": {
      "image/png": "[encoded data removed]",
      "text/plain": [
       "<Figure size 432x288 with 1 Axes>"
      ]
     },
     "metadata": {
      "needs_background": "light"
     },
     "output_type": "display_data"
    },
    {
     "data": {
      "image/png": "[encoded data removed]",
      "text/plain": [
       "<Figure size 432x288 with 1 Axes>"
      ]
     },
     "metadata": {
      "needs_background": "light"
     },
     "output_type": "display_data"
    },
    {
     "data": {
      "image/png": "[encoded data removed]",
      "text/plain": [
       "<Figure size 432x288 with 1 Axes>"
      ]
     },
     "metadata": {
      "needs_background": "light"
     },
     "output_type": "display_data"
    },
    {
     "data": {
      "image/png": "[encoded data removed]",
      "text/plain": [
       "<Figure size 432x288 with 1 Axes>"
      ]
     },
     "metadata": {
      "needs_background": "light"
     },
     "output_type": "display_data"
    },
    {
     "data": {
      "image/png": "[encoded data removed]",
      "text/plain": [
       "<Figure size 432x288 with 1 Axes>"
      ]
     },
     "metadata": {
      "needs_background": "light"
     },
     "output_type": "display_data"
    }
   ],
   "source": [
    "for i in df:\n",
    "    try:\n",
    "        df.plot(y = i,title = i,kind = 'hist', bins = 50)\n",
    "    except:\n",
    "        print('not numeric type',i)"
   ]
  },
  {
   "cell_type": "code",
   "execution_count": 11,
   "metadata": {},
   "outputs": [
    {
     "data": {
      "text/html": [
       "<div>\n",
       "<style scoped>\n",
       "    .dataframe tbody tr th:only-of-type {\n",
       "        vertical-align: middle;\n",
       "    }\n",
       "\n",
       "    .dataframe tbody tr th {\n",
       "        vertical-align: top;\n",
       "    }\n",
       "\n",
       "    .dataframe thead th {\n",
       "        text-align: right;\n",
       "    }\n",
       "</style>\n",
       "<table border=\"1\" class=\"dataframe\">\n",
       "  <thead>\n",
       "    <tr style=\"text-align: right;\">\n",
       "      <th></th>\n",
       "      <th>Price</th>\n",
       "      <th>RegistrationYear</th>\n",
       "      <th>Power</th>\n",
       "      <th>Kilometer</th>\n",
       "      <th>PostalCode</th>\n",
       "    </tr>\n",
       "  </thead>\n",
       "  <tbody>\n",
       "    <tr>\n",
       "      <th>Price</th>\n",
       "      <td>1.000000</td>\n",
       "      <td>0.577559</td>\n",
       "      <td>0.381447</td>\n",
       "      <td>-0.449913</td>\n",
       "      <td>0.051756</td>\n",
       "    </tr>\n",
       "    <tr>\n",
       "      <th>RegistrationYear</th>\n",
       "      <td>0.577559</td>\n",
       "      <td>1.000000</td>\n",
       "      <td>-0.014664</td>\n",
       "      <td>-0.406885</td>\n",
       "      <td>0.017660</td>\n",
       "    </tr>\n",
       "    <tr>\n",
       "      <th>Power</th>\n",
       "      <td>0.381447</td>\n",
       "      <td>-0.014664</td>\n",
       "      <td>1.000000</td>\n",
       "      <td>0.128399</td>\n",
       "      <td>0.029284</td>\n",
       "    </tr>\n",
       "    <tr>\n",
       "      <th>Kilometer</th>\n",
       "      <td>-0.449913</td>\n",
       "      <td>-0.406885</td>\n",
       "      <td>0.128399</td>\n",
       "      <td>1.000000</td>\n",
       "      <td>-0.014530</td>\n",
       "    </tr>\n",
       "    <tr>\n",
       "      <th>PostalCode</th>\n",
       "      <td>0.051756</td>\n",
       "      <td>0.017660</td>\n",
       "      <td>0.029284</td>\n",
       "      <td>-0.014530</td>\n",
       "      <td>1.000000</td>\n",
       "    </tr>\n",
       "  </tbody>\n",
       "</table>\n",
       "</div>"
      ],
      "text/plain": [
       "                     Price  RegistrationYear     Power  Kilometer  PostalCode\n",
       "Price             1.000000          0.577559  0.381447  -0.449913    0.051756\n",
       "RegistrationYear  0.577559          1.000000 -0.014664  -0.406885    0.017660\n",
       "Power             0.381447         -0.014664  1.000000   0.128399    0.029284\n",
       "Kilometer        -0.449913         -0.406885  0.128399   1.000000   -0.014530\n",
       "PostalCode        0.051756          0.017660  0.029284  -0.014530    1.000000"
      ]
     },
     "execution_count": 11,
     "metadata": {},
     "output_type": "execute_result"
    }
   ],
   "source": [
    "#Проведем корреляционный анализ данных\n",
    "df.corr()"
   ]
  },
  {
   "cell_type": "code",
   "execution_count": 12,
   "metadata": {},
   "outputs": [
    {
     "name": "stdout",
     "output_type": "stream",
     "text": [
      "14233\n"
     ]
    }
   ],
   "source": [
    "#Удалим дубликаты\n",
    "print(df.duplicated().sum())\n",
    "df = df.drop_duplicates()"
   ]
  },
  {
   "cell_type": "code",
   "execution_count": 13,
   "metadata": {},
   "outputs": [
    {
     "data": {
      "text/html": [
       "<div>\n",
       "<style scoped>\n",
       "    .dataframe tbody tr th:only-of-type {\n",
       "        vertical-align: middle;\n",
       "    }\n",
       "\n",
       "    .dataframe tbody tr th {\n",
       "        vertical-align: top;\n",
       "    }\n",
       "\n",
       "    .dataframe thead th {\n",
       "        text-align: right;\n",
       "    }\n",
       "</style>\n",
       "<table border=\"1\" class=\"dataframe\">\n",
       "  <thead>\n",
       "    <tr style=\"text-align: right;\">\n",
       "      <th></th>\n",
       "      <th>Price</th>\n",
       "      <th>VehicleType</th>\n",
       "      <th>RegistrationYear</th>\n",
       "      <th>Gearbox</th>\n",
       "      <th>Power</th>\n",
       "      <th>Model</th>\n",
       "      <th>Kilometer</th>\n",
       "      <th>FuelType</th>\n",
       "      <th>Brand</th>\n",
       "      <th>NotRepaired</th>\n",
       "      <th>PostalCode</th>\n",
       "    </tr>\n",
       "  </thead>\n",
       "  <tbody>\n",
       "    <tr>\n",
       "      <th>1</th>\n",
       "      <td>18300</td>\n",
       "      <td>coupe</td>\n",
       "      <td>2011</td>\n",
       "      <td>manual</td>\n",
       "      <td>190</td>\n",
       "      <td>no_data</td>\n",
       "      <td>125000</td>\n",
       "      <td>gasoline</td>\n",
       "      <td>audi</td>\n",
       "      <td>yes</td>\n",
       "      <td>66954</td>\n",
       "    </tr>\n",
       "    <tr>\n",
       "      <th>2</th>\n",
       "      <td>9800</td>\n",
       "      <td>suv</td>\n",
       "      <td>2004</td>\n",
       "      <td>auto</td>\n",
       "      <td>163</td>\n",
       "      <td>grand</td>\n",
       "      <td>125000</td>\n",
       "      <td>gasoline</td>\n",
       "      <td>jeep</td>\n",
       "      <td>no_data</td>\n",
       "      <td>90480</td>\n",
       "    </tr>\n",
       "    <tr>\n",
       "      <th>6</th>\n",
       "      <td>2200</td>\n",
       "      <td>convertible</td>\n",
       "      <td>2004</td>\n",
       "      <td>manual</td>\n",
       "      <td>109</td>\n",
       "      <td>2_reihe</td>\n",
       "      <td>150000</td>\n",
       "      <td>petrol</td>\n",
       "      <td>peugeot</td>\n",
       "      <td>no</td>\n",
       "      <td>67112</td>\n",
       "    </tr>\n",
       "    <tr>\n",
       "      <th>8</th>\n",
       "      <td>14500</td>\n",
       "      <td>bus</td>\n",
       "      <td>2014</td>\n",
       "      <td>manual</td>\n",
       "      <td>125</td>\n",
       "      <td>c_max</td>\n",
       "      <td>30000</td>\n",
       "      <td>petrol</td>\n",
       "      <td>ford</td>\n",
       "      <td>no_data</td>\n",
       "      <td>94505</td>\n",
       "    </tr>\n",
       "    <tr>\n",
       "      <th>10</th>\n",
       "      <td>2000</td>\n",
       "      <td>sedan</td>\n",
       "      <td>2004</td>\n",
       "      <td>manual</td>\n",
       "      <td>105</td>\n",
       "      <td>3_reihe</td>\n",
       "      <td>150000</td>\n",
       "      <td>petrol</td>\n",
       "      <td>mazda</td>\n",
       "      <td>no</td>\n",
       "      <td>96224</td>\n",
       "    </tr>\n",
       "  </tbody>\n",
       "</table>\n",
       "</div>"
      ],
      "text/plain": [
       "    Price  VehicleType  RegistrationYear Gearbox  Power    Model  Kilometer  \\\n",
       "1   18300        coupe              2011  manual    190  no_data     125000   \n",
       "2    9800          suv              2004    auto    163    grand     125000   \n",
       "6    2200  convertible              2004  manual    109  2_reihe     150000   \n",
       "8   14500          bus              2014  manual    125    c_max      30000   \n",
       "10   2000        sedan              2004  manual    105  3_reihe     150000   \n",
       "\n",
       "    FuelType    Brand NotRepaired  PostalCode  \n",
       "1   gasoline     audi         yes       66954  \n",
       "2   gasoline     jeep     no_data       90480  \n",
       "6     petrol  peugeot          no       67112  \n",
       "8     petrol     ford     no_data       94505  \n",
       "10    petrol    mazda          no       96224  "
      ]
     },
     "execution_count": 13,
     "metadata": {},
     "output_type": "execute_result"
    }
   ],
   "source": [
    "df.head()"
   ]
  },
  {
   "cell_type": "markdown",
   "metadata": {},
   "source": [
    "Ок, связи между данными слабые, наиболее сильная - между годом регистрации авто и ценой"
   ]
  },
  {
   "cell_type": "code",
   "execution_count": 14,
   "metadata": {},
   "outputs": [
    {
     "name": "stdout",
     "output_type": "stream",
     "text": [
      "<class 'pandas.core.frame.DataFrame'>\n",
      "Int64Index: 179612 entries, 1 to 354368\n",
      "Data columns (total 11 columns):\n",
      " #   Column            Non-Null Count   Dtype \n",
      "---  ------            --------------   ----- \n",
      " 0   Price             179612 non-null  int64 \n",
      " 1   VehicleType       179612 non-null  object\n",
      " 2   RegistrationYear  179612 non-null  int64 \n",
      " 3   Gearbox           179612 non-null  object\n",
      " 4   Power             179612 non-null  int64 \n",
      " 5   Model             179612 non-null  object\n",
      " 6   Kilometer         179612 non-null  int64 \n",
      " 7   FuelType          179612 non-null  object\n",
      " 8   Brand             179612 non-null  object\n",
      " 9   NotRepaired       179612 non-null  object\n",
      " 10  PostalCode        179612 non-null  int64 \n",
      "dtypes: int64(5), object(6)\n",
      "memory usage: 16.4+ MB\n"
     ]
    }
   ],
   "source": [
    "df.info()"
   ]
  },
  {
   "cell_type": "markdown",
   "metadata": {},
   "source": [
    "При очистке потеряли треть данных все-таки :/"
   ]
  },
  {
   "cell_type": "markdown",
   "metadata": {},
   "source": [
    "## Обучение моделей"
   ]
  },
  {
   "cell_type": "code",
   "execution_count": 15,
   "metadata": {},
   "outputs": [
    {
     "name": "stdout",
     "output_type": "stream",
     "text": [
      "<class 'pandas.core.frame.DataFrame'>\n",
      "Int64Index: 179612 entries, 1 to 354368\n",
      "Data columns (total 11 columns):\n",
      " #   Column            Non-Null Count   Dtype \n",
      "---  ------            --------------   ----- \n",
      " 0   Price             179612 non-null  int64 \n",
      " 1   VehicleType       179612 non-null  object\n",
      " 2   RegistrationYear  179612 non-null  int64 \n",
      " 3   Gearbox           179612 non-null  object\n",
      " 4   Power             179612 non-null  int64 \n",
      " 5   Model             179612 non-null  object\n",
      " 6   Kilometer         179612 non-null  int64 \n",
      " 7   FuelType          179612 non-null  object\n",
      " 8   Brand             179612 non-null  object\n",
      " 9   NotRepaired       179612 non-null  object\n",
      " 10  PostalCode        179612 non-null  int64 \n",
      "dtypes: int64(5), object(6)\n",
      "memory usage: 16.4+ MB\n"
     ]
    }
   ],
   "source": [
    "df.info()"
   ]
  },
  {
   "cell_type": "code",
   "execution_count": 16,
   "metadata": {},
   "outputs": [],
   "source": [
    "#разделим выборку на тестовую, обучающую и валидационную\n",
    "features_train, features_valid, target_train, target_valid = train_test_split(\n",
    "    df.drop('Price', axis=1), df['Price'], test_size=0.40, random_state=12345)\n",
    "features_test, features_valid, target_test, target_valid = train_test_split(\n",
    "    features_valid, target_valid, test_size=0.50, random_state=12345)"
   ]
  },
  {
   "cell_type": "code",
   "execution_count": 17,
   "metadata": {},
   "outputs": [
    {
     "name": "stdout",
     "output_type": "stream",
     "text": [
      "<class 'pandas.core.frame.DataFrame'>\n",
      "Int64Index: 107767 entries, 263856 to 146341\n",
      "Data columns (total 10 columns):\n",
      " #   Column            Non-Null Count   Dtype \n",
      "---  ------            --------------   ----- \n",
      " 0   VehicleType       107767 non-null  object\n",
      " 1   RegistrationYear  107767 non-null  int64 \n",
      " 2   Gearbox           107767 non-null  object\n",
      " 3   Power             107767 non-null  int64 \n",
      " 4   Model             107767 non-null  object\n",
      " 5   Kilometer         107767 non-null  int64 \n",
      " 6   FuelType          107767 non-null  object\n",
      " 7   Brand             107767 non-null  object\n",
      " 8   NotRepaired       107767 non-null  object\n",
      " 9   PostalCode        107767 non-null  int64 \n",
      "dtypes: int64(4), object(6)\n",
      "memory usage: 9.0+ MB\n"
     ]
    }
   ],
   "source": [
    "features_train.info()"
   ]
  },
  {
   "cell_type": "code",
   "execution_count": 18,
   "metadata": {},
   "outputs": [
    {
     "name": "stdout",
     "output_type": "stream",
     "text": [
      "<class 'pandas.core.frame.DataFrame'>\n",
      "Int64Index: 35922 entries, 255931 to 217901\n",
      "Data columns (total 10 columns):\n",
      " #   Column            Non-Null Count  Dtype \n",
      "---  ------            --------------  ----- \n",
      " 0   VehicleType       35922 non-null  object\n",
      " 1   RegistrationYear  35922 non-null  int64 \n",
      " 2   Gearbox           35922 non-null  object\n",
      " 3   Power             35922 non-null  int64 \n",
      " 4   Model             35922 non-null  object\n",
      " 5   Kilometer         35922 non-null  int64 \n",
      " 6   FuelType          35922 non-null  object\n",
      " 7   Brand             35922 non-null  object\n",
      " 8   NotRepaired       35922 non-null  object\n",
      " 9   PostalCode        35922 non-null  int64 \n",
      "dtypes: int64(4), object(6)\n",
      "memory usage: 3.0+ MB\n"
     ]
    }
   ],
   "source": [
    "features_test.info() #тут все ок"
   ]
  },
  {
   "cell_type": "code",
   "execution_count": 19,
   "metadata": {},
   "outputs": [
    {
     "name": "stdout",
     "output_type": "stream",
     "text": [
      "<class 'pandas.core.frame.DataFrame'>\n",
      "Int64Index: 35923 entries, 213636 to 119600\n",
      "Data columns (total 10 columns):\n",
      " #   Column            Non-Null Count  Dtype \n",
      "---  ------            --------------  ----- \n",
      " 0   VehicleType       35923 non-null  object\n",
      " 1   RegistrationYear  35923 non-null  int64 \n",
      " 2   Gearbox           35923 non-null  object\n",
      " 3   Power             35923 non-null  int64 \n",
      " 4   Model             35923 non-null  object\n",
      " 5   Kilometer         35923 non-null  int64 \n",
      " 6   FuelType          35923 non-null  object\n",
      " 7   Brand             35923 non-null  object\n",
      " 8   NotRepaired       35923 non-null  object\n",
      " 9   PostalCode        35923 non-null  int64 \n",
      "dtypes: int64(4), object(6)\n",
      "memory usage: 3.0+ MB\n"
     ]
    }
   ],
   "source": [
    "features_valid.info()  #тут все ок"
   ]
  },
  {
   "cell_type": "code",
   "execution_count": 20,
   "metadata": {},
   "outputs": [],
   "source": [
    "#Из-за обсузовавшихся в features_train дыр мы не можем кодировать данные после разбиения, поэтому кодируем \"до\"\n",
    "cat_col = ['VehicleType', 'Gearbox', 'Model','FuelType', 'Brand', 'NotRepaired']\n",
    "encoder = OrdinalEncoder()\n",
    "\n",
    "df_ordinal = df.copy()\n",
    "encoder.fit(df_ordinal[cat_col])\n",
    "df_ordinal[cat_col] = encoder.transform(df_ordinal[cat_col])"
   ]
  },
  {
   "cell_type": "code",
   "execution_count": 21,
   "metadata": {},
   "outputs": [],
   "source": [
    "#разделим закодированную выборку на тестовую, обучающую и валидационную\n",
    "features_train_ordinal, features_valid_ordinal, target_train_ordinal, target_valid_ordinal = train_test_split(\n",
    "    df_ordinal.drop('Price', axis=1), df_ordinal['Price'], test_size=0.40, random_state=12345)\n",
    "features_test_ordinal, features_valid_ordinal, target_test_ordinal, target_valid_ordinal = train_test_split(\n",
    "    features_valid_ordinal, target_valid_ordinal, test_size=0.50, random_state=12345)"
   ]
  },
  {
   "cell_type": "code",
   "execution_count": 22,
   "metadata": {},
   "outputs": [
    {
     "name": "stdout",
     "output_type": "stream",
     "text": [
      "Learning rate set to 0.401005\n",
      "0:\tlearn: 3648.6115723\ttotal: 99.9ms\tremaining: 14.9s\n",
      "100:\tlearn: 1761.3327435\ttotal: 4.21s\tremaining: 2.04s\n",
      "149:\tlearn: 1722.2584154\ttotal: 6.2s\tremaining: 0us\n",
      "iterations: 150 RMSE is 1789.6400587221522\n",
      "Learning rate set to 0.380507\n",
      "0:\tlearn: 3696.5656854\ttotal: 49.3ms\tremaining: 7.84s\n",
      "100:\tlearn: 1768.7617325\ttotal: 4.09s\tremaining: 2.39s\n",
      "159:\tlearn: 1722.9345307\ttotal: 6.54s\tremaining: 0us\n",
      "iterations: 160 RMSE is 1791.5375531703614\n",
      "Learning rate set to 0.362207\n",
      "0:\tlearn: 3740.1950509\ttotal: 48.5ms\tremaining: 8.2s\n",
      "100:\tlearn: 1767.7133850\ttotal: 4.31s\tremaining: 2.94s\n",
      "169:\tlearn: 1716.7994933\ttotal: 7.14s\tremaining: 0us\n",
      "iterations: 170 RMSE is 1786.7079061900342\n",
      "CPU times: user 20.5 s, sys: 209 ms, total: 20.7 s\n",
      "Wall time: 22.5 s\n"
     ]
    }
   ],
   "source": [
    "%%time\n",
    "\n",
    "#запустим модель CatBoostRegressor на выборке без кодирования\n",
    "cat_features = ['VehicleType', 'Gearbox', 'Model',\n",
    "                'FuelType', 'Brand', 'NotRepaired']\n",
    "\n",
    "for i in range(150,180,10):\n",
    "    model = CatBoostRegressor(loss_function=\"RMSE\", iterations=i)\n",
    "\n",
    "    model.fit(features_train, target_train, cat_features=cat_features, verbose = 100)\n",
    "\n",
    "    probabilities_valid = model.predict(features_valid)\n",
    "    print(\"iterations:\", i, \"RMSE is\", mean_squared_error(target_valid, probabilities_valid)**0.5)"
   ]
  },
  {
   "cell_type": "markdown",
   "metadata": {},
   "source": [
    "Ок, лучший результат модели CatBoostRegressor на некодированной выборке - при 150 итерациях"
   ]
  },
  {
   "cell_type": "code",
   "execution_count": 23,
   "metadata": {},
   "outputs": [
    {
     "name": "stdout",
     "output_type": "stream",
     "text": [
      "Learning rate set to 0.387113\n",
      "0:\tlearn: 3675.8279851\ttotal: 14.7ms\tremaining: 2.19s\n",
      "1:\tlearn: 3068.1616801\ttotal: 26.8ms\tremaining: 1.98s\n",
      "2:\tlearn: 2723.7859338\ttotal: 39.7ms\tremaining: 1.94s\n",
      "3:\tlearn: 2526.6299842\ttotal: 52.2ms\tremaining: 1.91s\n",
      "4:\tlearn: 2394.4349371\ttotal: 64.5ms\tremaining: 1.87s\n",
      "5:\tlearn: 2309.2622054\ttotal: 76.4ms\tremaining: 1.83s\n",
      "6:\tlearn: 2258.2705743\ttotal: 88ms\tremaining: 1.8s\n",
      "7:\tlearn: 2217.0714420\ttotal: 101ms\tremaining: 1.79s\n",
      "8:\tlearn: 2155.9309368\ttotal: 114ms\tremaining: 1.78s\n",
      "9:\tlearn: 2129.1597280\ttotal: 126ms\tremaining: 1.76s\n",
      "10:\tlearn: 2109.9180357\ttotal: 140ms\tremaining: 1.76s\n",
      "11:\tlearn: 2089.7242111\ttotal: 152ms\tremaining: 1.75s\n",
      "12:\tlearn: 2059.0898358\ttotal: 164ms\tremaining: 1.72s\n",
      "13:\tlearn: 2048.3351732\ttotal: 174ms\tremaining: 1.69s\n",
      "14:\tlearn: 2032.5243791\ttotal: 188ms\tremaining: 1.69s\n",
      "15:\tlearn: 2019.1901211\ttotal: 202ms\tremaining: 1.69s\n",
      "16:\tlearn: 2000.9291806\ttotal: 214ms\tremaining: 1.68s\n",
      "17:\tlearn: 1993.3744874\ttotal: 226ms\tremaining: 1.66s\n",
      "18:\tlearn: 1988.4644529\ttotal: 237ms\tremaining: 1.64s\n",
      "19:\tlearn: 1980.6525674\ttotal: 249ms\tremaining: 1.62s\n",
      "20:\tlearn: 1970.6555443\ttotal: 259ms\tremaining: 1.59s\n",
      "21:\tlearn: 1963.1636956\ttotal: 274ms\tremaining: 1.59s\n",
      "22:\tlearn: 1958.5146869\ttotal: 286ms\tremaining: 1.58s\n",
      "23:\tlearn: 1950.1318007\ttotal: 299ms\tremaining: 1.57s\n",
      "24:\tlearn: 1942.7643948\ttotal: 312ms\tremaining: 1.56s\n",
      "25:\tlearn: 1936.0749867\ttotal: 324ms\tremaining: 1.54s\n",
      "26:\tlearn: 1929.6753924\ttotal: 336ms\tremaining: 1.53s\n",
      "27:\tlearn: 1923.9631763\ttotal: 348ms\tremaining: 1.51s\n",
      "28:\tlearn: 1918.4571720\ttotal: 360ms\tremaining: 1.5s\n",
      "29:\tlearn: 1912.2703672\ttotal: 372ms\tremaining: 1.49s\n",
      "30:\tlearn: 1908.8023358\ttotal: 382ms\tremaining: 1.47s\n",
      "31:\tlearn: 1905.0655099\ttotal: 394ms\tremaining: 1.45s\n",
      "32:\tlearn: 1899.7638187\ttotal: 407ms\tremaining: 1.44s\n",
      "33:\tlearn: 1894.4911460\ttotal: 420ms\tremaining: 1.43s\n",
      "34:\tlearn: 1891.1161311\ttotal: 432ms\tremaining: 1.42s\n",
      "35:\tlearn: 1887.3570942\ttotal: 444ms\tremaining: 1.41s\n",
      "36:\tlearn: 1881.1051648\ttotal: 457ms\tremaining: 1.39s\n",
      "37:\tlearn: 1877.7428571\ttotal: 468ms\tremaining: 1.38s\n",
      "38:\tlearn: 1872.9214079\ttotal: 480ms\tremaining: 1.37s\n",
      "39:\tlearn: 1868.2754622\ttotal: 492ms\tremaining: 1.35s\n",
      "40:\tlearn: 1862.4135463\ttotal: 504ms\tremaining: 1.34s\n",
      "41:\tlearn: 1860.1405889\ttotal: 516ms\tremaining: 1.33s\n",
      "42:\tlearn: 1858.3159799\ttotal: 527ms\tremaining: 1.31s\n",
      "43:\tlearn: 1855.7506508\ttotal: 539ms\tremaining: 1.3s\n",
      "44:\tlearn: 1852.0817560\ttotal: 550ms\tremaining: 1.28s\n",
      "45:\tlearn: 1848.9772190\ttotal: 563ms\tremaining: 1.27s\n",
      "46:\tlearn: 1846.4294586\ttotal: 574ms\tremaining: 1.26s\n",
      "47:\tlearn: 1844.6764035\ttotal: 585ms\tremaining: 1.24s\n",
      "48:\tlearn: 1840.6806041\ttotal: 597ms\tremaining: 1.23s\n",
      "49:\tlearn: 1838.8117449\ttotal: 609ms\tremaining: 1.22s\n",
      "50:\tlearn: 1836.3507588\ttotal: 621ms\tremaining: 1.2s\n",
      "51:\tlearn: 1834.3235359\ttotal: 633ms\tremaining: 1.19s\n",
      "52:\tlearn: 1831.6944274\ttotal: 647ms\tremaining: 1.18s\n",
      "53:\tlearn: 1829.7477118\ttotal: 660ms\tremaining: 1.17s\n",
      "54:\tlearn: 1826.4952403\ttotal: 676ms\tremaining: 1.17s\n",
      "55:\tlearn: 1824.8163064\ttotal: 689ms\tremaining: 1.16s\n",
      "56:\tlearn: 1822.3727208\ttotal: 702ms\tremaining: 1.14s\n",
      "57:\tlearn: 1820.4390881\ttotal: 714ms\tremaining: 1.13s\n",
      "58:\tlearn: 1818.9274019\ttotal: 725ms\tremaining: 1.12s\n",
      "59:\tlearn: 1816.9382528\ttotal: 737ms\tremaining: 1.1s\n",
      "60:\tlearn: 1815.5040790\ttotal: 747ms\tremaining: 1.09s\n",
      "61:\tlearn: 1811.9736782\ttotal: 759ms\tremaining: 1.08s\n",
      "62:\tlearn: 1809.4560638\ttotal: 770ms\tremaining: 1.06s\n",
      "63:\tlearn: 1807.1600072\ttotal: 782ms\tremaining: 1.05s\n",
      "64:\tlearn: 1804.9753539\ttotal: 795ms\tremaining: 1.04s\n",
      "65:\tlearn: 1802.4695412\ttotal: 807ms\tremaining: 1.03s\n",
      "66:\tlearn: 1800.3972346\ttotal: 818ms\tremaining: 1.01s\n",
      "67:\tlearn: 1799.0845552\ttotal: 834ms\tremaining: 1s\n",
      "68:\tlearn: 1797.2632902\ttotal: 850ms\tremaining: 998ms\n",
      "69:\tlearn: 1795.3132341\ttotal: 865ms\tremaining: 989ms\n",
      "70:\tlearn: 1793.5680179\ttotal: 878ms\tremaining: 977ms\n",
      "71:\tlearn: 1791.9527042\ttotal: 890ms\tremaining: 964ms\n",
      "72:\tlearn: 1790.4367393\ttotal: 903ms\tremaining: 952ms\n",
      "73:\tlearn: 1788.4687478\ttotal: 915ms\tremaining: 940ms\n",
      "74:\tlearn: 1786.7115275\ttotal: 927ms\tremaining: 927ms\n",
      "75:\tlearn: 1785.2476745\ttotal: 939ms\tremaining: 914ms\n",
      "76:\tlearn: 1783.6427509\ttotal: 951ms\tremaining: 901ms\n",
      "77:\tlearn: 1782.1037540\ttotal: 962ms\tremaining: 888ms\n",
      "78:\tlearn: 1780.7479121\ttotal: 973ms\tremaining: 875ms\n",
      "79:\tlearn: 1779.1075506\ttotal: 985ms\tremaining: 862ms\n",
      "80:\tlearn: 1777.3574921\ttotal: 997ms\tremaining: 849ms\n",
      "81:\tlearn: 1775.4641057\ttotal: 1.01s\tremaining: 838ms\n",
      "82:\tlearn: 1774.3589179\ttotal: 1.03s\tremaining: 828ms\n",
      "83:\tlearn: 1773.0761620\ttotal: 1.04s\tremaining: 816ms\n",
      "84:\tlearn: 1772.0582709\ttotal: 1.05s\tremaining: 802ms\n",
      "85:\tlearn: 1770.7847586\ttotal: 1.06s\tremaining: 789ms\n",
      "86:\tlearn: 1769.2974484\ttotal: 1.07s\tremaining: 777ms\n",
      "87:\tlearn: 1768.4508622\ttotal: 1.08s\tremaining: 764ms\n",
      "88:\tlearn: 1767.0153201\ttotal: 1.1s\tremaining: 752ms\n",
      "89:\tlearn: 1765.1965404\ttotal: 1.11s\tremaining: 740ms\n",
      "90:\tlearn: 1762.1127107\ttotal: 1.12s\tremaining: 727ms\n",
      "91:\tlearn: 1760.4026421\ttotal: 1.13s\tremaining: 714ms\n",
      "92:\tlearn: 1759.2676208\ttotal: 1.14s\tremaining: 702ms\n",
      "93:\tlearn: 1757.7301618\ttotal: 1.16s\tremaining: 690ms\n",
      "94:\tlearn: 1756.2668342\ttotal: 1.17s\tremaining: 678ms\n",
      "95:\tlearn: 1755.4628252\ttotal: 1.19s\tremaining: 668ms\n",
      "96:\tlearn: 1753.8874879\ttotal: 1.2s\tremaining: 655ms\n",
      "97:\tlearn: 1753.0137724\ttotal: 1.21s\tremaining: 642ms\n",
      "98:\tlearn: 1751.2924962\ttotal: 1.22s\tremaining: 630ms\n",
      "99:\tlearn: 1749.5929491\ttotal: 1.23s\tremaining: 617ms\n",
      "100:\tlearn: 1748.8653186\ttotal: 1.25s\tremaining: 604ms\n",
      "101:\tlearn: 1747.9059022\ttotal: 1.26s\tremaining: 591ms\n",
      "102:\tlearn: 1747.0630606\ttotal: 1.27s\tremaining: 579ms\n",
      "103:\tlearn: 1745.2070307\ttotal: 1.28s\tremaining: 566ms\n",
      "104:\tlearn: 1743.8268911\ttotal: 1.29s\tremaining: 554ms\n",
      "105:\tlearn: 1741.7090521\ttotal: 1.3s\tremaining: 542ms\n",
      "106:\tlearn: 1740.5829072\ttotal: 1.32s\tremaining: 530ms\n",
      "107:\tlearn: 1739.1629232\ttotal: 1.33s\tremaining: 518ms\n",
      "108:\tlearn: 1737.3773347\ttotal: 1.34s\tremaining: 505ms\n",
      "109:\tlearn: 1736.3489092\ttotal: 1.36s\tremaining: 493ms\n",
      "110:\tlearn: 1734.9167228\ttotal: 1.37s\tremaining: 481ms\n",
      "111:\tlearn: 1734.4231729\ttotal: 1.38s\tremaining: 469ms\n",
      "112:\tlearn: 1733.1004599\ttotal: 1.39s\tremaining: 457ms\n",
      "113:\tlearn: 1731.9214329\ttotal: 1.41s\tremaining: 445ms\n",
      "114:\tlearn: 1730.4470038\ttotal: 1.42s\tremaining: 433ms\n",
      "115:\tlearn: 1729.6706494\ttotal: 1.43s\tremaining: 420ms\n",
      "116:\tlearn: 1728.4483698\ttotal: 1.45s\tremaining: 408ms\n",
      "117:\tlearn: 1727.4857742\ttotal: 1.46s\tremaining: 396ms\n",
      "118:\tlearn: 1726.5443707\ttotal: 1.47s\tremaining: 383ms\n",
      "119:\tlearn: 1725.0978428\ttotal: 1.48s\tremaining: 371ms\n",
      "120:\tlearn: 1723.9214763\ttotal: 1.5s\tremaining: 359ms\n",
      "121:\tlearn: 1722.7483778\ttotal: 1.51s\tremaining: 346ms\n",
      "122:\tlearn: 1721.3095216\ttotal: 1.52s\tremaining: 333ms\n",
      "123:\tlearn: 1720.6973719\ttotal: 1.53s\tremaining: 321ms\n",
      "124:\tlearn: 1719.2092803\ttotal: 1.54s\tremaining: 309ms\n",
      "125:\tlearn: 1718.0558014\ttotal: 1.55s\tremaining: 296ms\n",
      "126:\tlearn: 1716.9316847\ttotal: 1.57s\tremaining: 284ms\n",
      "127:\tlearn: 1715.6830911\ttotal: 1.58s\tremaining: 272ms\n",
      "128:\tlearn: 1715.2547412\ttotal: 1.59s\tremaining: 259ms\n",
      "129:\tlearn: 1714.1034154\ttotal: 1.6s\tremaining: 247ms\n",
      "130:\tlearn: 1713.0298784\ttotal: 1.62s\tremaining: 235ms\n",
      "131:\tlearn: 1712.0895677\ttotal: 1.63s\tremaining: 222ms\n",
      "132:\tlearn: 1710.8378819\ttotal: 1.64s\tremaining: 210ms\n",
      "133:\tlearn: 1709.5706001\ttotal: 1.65s\tremaining: 197ms\n",
      "134:\tlearn: 1708.2920035\ttotal: 1.66s\tremaining: 185ms\n",
      "135:\tlearn: 1707.1733849\ttotal: 1.68s\tremaining: 173ms\n",
      "136:\tlearn: 1705.8302441\ttotal: 1.69s\tremaining: 161ms\n",
      "137:\tlearn: 1704.7867610\ttotal: 1.71s\tremaining: 148ms\n",
      "138:\tlearn: 1703.9577158\ttotal: 1.72s\tremaining: 136ms\n",
      "139:\tlearn: 1703.1872813\ttotal: 1.73s\tremaining: 124ms\n",
      "140:\tlearn: 1702.3419579\ttotal: 1.74s\tremaining: 111ms\n",
      "141:\tlearn: 1701.7766856\ttotal: 1.75s\tremaining: 98.7ms\n",
      "142:\tlearn: 1701.1745404\ttotal: 1.76s\tremaining: 86.3ms\n",
      "143:\tlearn: 1700.1227753\ttotal: 1.77s\tremaining: 74ms\n",
      "144:\tlearn: 1699.6638289\ttotal: 1.79s\tremaining: 61.6ms\n",
      "145:\tlearn: 1698.9606327\ttotal: 1.8s\tremaining: 49.3ms\n",
      "146:\tlearn: 1697.9970235\ttotal: 1.81s\tremaining: 37ms\n",
      "147:\tlearn: 1696.8304670\ttotal: 1.83s\tremaining: 24.7ms\n",
      "148:\tlearn: 1696.1135644\ttotal: 1.84s\tremaining: 12.3ms\n",
      "149:\tlearn: 1695.4135769\ttotal: 1.85s\tremaining: 0us\n",
      "Learning rate set to 0.387113\n",
      "0:\tlearn: 3657.7575461\ttotal: 14.5ms\tremaining: 2.16s\n",
      "1:\tlearn: 3062.4927857\ttotal: 29.7ms\tremaining: 2.2s\n",
      "2:\tlearn: 2722.5119251\ttotal: 44.7ms\tremaining: 2.19s\n",
      "3:\tlearn: 2523.8544826\ttotal: 59.7ms\tremaining: 2.18s\n",
      "4:\tlearn: 2398.7807303\ttotal: 74.6ms\tremaining: 2.16s\n",
      "5:\tlearn: 2319.2149783\ttotal: 89.8ms\tremaining: 2.15s\n",
      "6:\tlearn: 2255.6984266\ttotal: 103ms\tremaining: 2.11s\n",
      "7:\tlearn: 2215.2363901\ttotal: 115ms\tremaining: 2.03s\n",
      "8:\tlearn: 2153.0803620\ttotal: 128ms\tremaining: 2s\n",
      "9:\tlearn: 2125.9087511\ttotal: 140ms\tremaining: 1.96s\n",
      "10:\tlearn: 2093.6789692\ttotal: 152ms\tremaining: 1.92s\n",
      "11:\tlearn: 2075.7888831\ttotal: 163ms\tremaining: 1.88s\n",
      "12:\tlearn: 2051.9656312\ttotal: 177ms\tremaining: 1.86s\n",
      "13:\tlearn: 2027.9232317\ttotal: 189ms\tremaining: 1.83s\n",
      "14:\tlearn: 2018.5952471\ttotal: 199ms\tremaining: 1.79s\n",
      "15:\tlearn: 2008.8672803\ttotal: 211ms\tremaining: 1.77s\n",
      "16:\tlearn: 1993.6821887\ttotal: 226ms\tremaining: 1.77s\n",
      "17:\tlearn: 1988.9176790\ttotal: 237ms\tremaining: 1.74s\n",
      "18:\tlearn: 1978.9929113\ttotal: 248ms\tremaining: 1.71s\n",
      "19:\tlearn: 1969.1243319\ttotal: 260ms\tremaining: 1.69s\n",
      "20:\tlearn: 1960.3350458\ttotal: 278ms\tremaining: 1.71s\n",
      "21:\tlearn: 1950.9547244\ttotal: 292ms\tremaining: 1.7s\n",
      "22:\tlearn: 1944.7822951\ttotal: 305ms\tremaining: 1.69s\n",
      "23:\tlearn: 1939.3917347\ttotal: 319ms\tremaining: 1.67s\n",
      "24:\tlearn: 1935.7496331\ttotal: 332ms\tremaining: 1.66s\n",
      "25:\tlearn: 1927.9628674\ttotal: 346ms\tremaining: 1.65s\n",
      "26:\tlearn: 1920.4358258\ttotal: 360ms\tremaining: 1.64s\n",
      "27:\tlearn: 1915.1228312\ttotal: 373ms\tremaining: 1.62s\n",
      "28:\tlearn: 1909.8200941\ttotal: 386ms\tremaining: 1.61s\n",
      "29:\tlearn: 1906.5750654\ttotal: 399ms\tremaining: 1.59s\n",
      "30:\tlearn: 1902.8433225\ttotal: 411ms\tremaining: 1.58s\n",
      "31:\tlearn: 1896.9105803\ttotal: 425ms\tremaining: 1.57s\n",
      "32:\tlearn: 1893.1883876\ttotal: 438ms\tremaining: 1.55s\n",
      "33:\tlearn: 1888.2194558\ttotal: 451ms\tremaining: 1.54s\n",
      "34:\tlearn: 1884.1514302\ttotal: 468ms\tremaining: 1.54s\n",
      "35:\tlearn: 1879.1610574\ttotal: 481ms\tremaining: 1.52s\n",
      "36:\tlearn: 1873.7709874\ttotal: 493ms\tremaining: 1.51s\n",
      "37:\tlearn: 1870.7129799\ttotal: 505ms\tremaining: 1.49s\n",
      "38:\tlearn: 1867.4428123\ttotal: 517ms\tremaining: 1.47s\n",
      "39:\tlearn: 1864.4809829\ttotal: 530ms\tremaining: 1.46s\n",
      "40:\tlearn: 1862.2129176\ttotal: 542ms\tremaining: 1.44s\n",
      "41:\tlearn: 1859.0581067\ttotal: 554ms\tremaining: 1.43s\n",
      "42:\tlearn: 1856.7619101\ttotal: 566ms\tremaining: 1.41s\n",
      "43:\tlearn: 1854.0545683\ttotal: 578ms\tremaining: 1.39s\n",
      "44:\tlearn: 1850.6179882\ttotal: 590ms\tremaining: 1.38s\n",
      "45:\tlearn: 1846.7783688\ttotal: 603ms\tremaining: 1.36s\n",
      "46:\tlearn: 1844.3333293\ttotal: 615ms\tremaining: 1.35s\n",
      "47:\tlearn: 1841.9514580\ttotal: 629ms\tremaining: 1.33s\n",
      "48:\tlearn: 1839.6161060\ttotal: 641ms\tremaining: 1.32s\n",
      "49:\tlearn: 1836.9530455\ttotal: 654ms\tremaining: 1.31s\n",
      "50:\tlearn: 1833.0549087\ttotal: 667ms\tremaining: 1.29s\n",
      "51:\tlearn: 1831.0976810\ttotal: 678ms\tremaining: 1.28s\n",
      "52:\tlearn: 1829.2865911\ttotal: 690ms\tremaining: 1.26s\n",
      "53:\tlearn: 1827.0594951\ttotal: 703ms\tremaining: 1.25s\n",
      "54:\tlearn: 1825.1972978\ttotal: 716ms\tremaining: 1.24s\n",
      "55:\tlearn: 1822.2248871\ttotal: 729ms\tremaining: 1.22s\n",
      "56:\tlearn: 1819.7756435\ttotal: 742ms\tremaining: 1.21s\n",
      "57:\tlearn: 1817.1543907\ttotal: 754ms\tremaining: 1.2s\n",
      "58:\tlearn: 1815.6249169\ttotal: 768ms\tremaining: 1.18s\n",
      "59:\tlearn: 1813.4126390\ttotal: 781ms\tremaining: 1.17s\n",
      "60:\tlearn: 1812.0896137\ttotal: 793ms\tremaining: 1.16s\n",
      "61:\tlearn: 1809.8998198\ttotal: 806ms\tremaining: 1.14s\n",
      "62:\tlearn: 1807.0878503\ttotal: 819ms\tremaining: 1.13s\n",
      "63:\tlearn: 1805.0850145\ttotal: 834ms\tremaining: 1.12s\n",
      "64:\tlearn: 1802.2440979\ttotal: 847ms\tremaining: 1.11s\n",
      "65:\tlearn: 1799.7369803\ttotal: 861ms\tremaining: 1.09s\n",
      "66:\tlearn: 1796.7353657\ttotal: 873ms\tremaining: 1.08s\n",
      "67:\tlearn: 1793.8508422\ttotal: 886ms\tremaining: 1.07s\n",
      "68:\tlearn: 1791.4373830\ttotal: 898ms\tremaining: 1.05s\n",
      "69:\tlearn: 1790.0860675\ttotal: 911ms\tremaining: 1.04s\n",
      "70:\tlearn: 1788.6739631\ttotal: 923ms\tremaining: 1.03s\n",
      "71:\tlearn: 1786.3798442\ttotal: 936ms\tremaining: 1.01s\n",
      "72:\tlearn: 1783.6791221\ttotal: 949ms\tremaining: 1s\n",
      "73:\tlearn: 1782.6303354\ttotal: 963ms\tremaining: 989ms\n",
      "74:\tlearn: 1781.6884333\ttotal: 975ms\tremaining: 975ms\n",
      "75:\tlearn: 1780.3463002\ttotal: 988ms\tremaining: 962ms\n",
      "76:\tlearn: 1779.1149992\ttotal: 1s\tremaining: 948ms\n",
      "77:\tlearn: 1777.9322796\ttotal: 1.01s\tremaining: 935ms\n",
      "78:\tlearn: 1775.7030461\ttotal: 1.03s\tremaining: 922ms\n",
      "79:\tlearn: 1773.8352091\ttotal: 1.05s\tremaining: 916ms\n",
      "80:\tlearn: 1771.6419164\ttotal: 1.06s\tremaining: 903ms\n",
      "81:\tlearn: 1770.4541778\ttotal: 1.07s\tremaining: 890ms\n",
      "82:\tlearn: 1769.3723322\ttotal: 1.08s\tremaining: 876ms\n",
      "83:\tlearn: 1768.2270420\ttotal: 1.1s\tremaining: 863ms\n",
      "84:\tlearn: 1766.7201127\ttotal: 1.11s\tremaining: 849ms\n",
      "85:\tlearn: 1765.6979525\ttotal: 1.12s\tremaining: 835ms\n",
      "86:\tlearn: 1763.9401204\ttotal: 1.14s\tremaining: 823ms\n",
      "87:\tlearn: 1761.4912904\ttotal: 1.15s\tremaining: 810ms\n",
      "88:\tlearn: 1760.2888750\ttotal: 1.16s\tremaining: 796ms\n",
      "89:\tlearn: 1758.2108788\ttotal: 1.17s\tremaining: 783ms\n",
      "90:\tlearn: 1756.8980910\ttotal: 1.19s\tremaining: 770ms\n",
      "91:\tlearn: 1755.5150054\ttotal: 1.2s\tremaining: 757ms\n",
      "92:\tlearn: 1754.1153648\ttotal: 1.21s\tremaining: 743ms\n",
      "93:\tlearn: 1752.7778047\ttotal: 1.22s\tremaining: 729ms\n",
      "94:\tlearn: 1750.9982990\ttotal: 1.24s\tremaining: 716ms\n",
      "95:\tlearn: 1749.8628175\ttotal: 1.25s\tremaining: 702ms\n",
      "96:\tlearn: 1748.9819981\ttotal: 1.26s\tremaining: 689ms\n",
      "97:\tlearn: 1747.9389227\ttotal: 1.27s\tremaining: 676ms\n",
      "98:\tlearn: 1746.8895123\ttotal: 1.28s\tremaining: 662ms\n",
      "99:\tlearn: 1745.5894115\ttotal: 1.3s\tremaining: 649ms\n",
      "100:\tlearn: 1744.5554371\ttotal: 1.31s\tremaining: 636ms\n",
      "101:\tlearn: 1743.6804521\ttotal: 1.32s\tremaining: 622ms\n",
      "102:\tlearn: 1742.9735653\ttotal: 1.33s\tremaining: 609ms\n",
      "103:\tlearn: 1741.7034022\ttotal: 1.35s\tremaining: 596ms\n",
      "104:\tlearn: 1740.5410467\ttotal: 1.36s\tremaining: 584ms\n",
      "105:\tlearn: 1739.0916022\ttotal: 1.38s\tremaining: 571ms\n",
      "106:\tlearn: 1737.0910135\ttotal: 1.39s\tremaining: 559ms\n",
      "107:\tlearn: 1736.2361893\ttotal: 1.4s\tremaining: 546ms\n",
      "108:\tlearn: 1735.3638036\ttotal: 1.42s\tremaining: 533ms\n",
      "109:\tlearn: 1733.9247584\ttotal: 1.43s\tremaining: 520ms\n",
      "110:\tlearn: 1732.9596749\ttotal: 1.45s\tremaining: 508ms\n",
      "111:\tlearn: 1731.8676359\ttotal: 1.46s\tremaining: 495ms\n",
      "112:\tlearn: 1730.9899159\ttotal: 1.47s\tremaining: 481ms\n",
      "113:\tlearn: 1730.2549834\ttotal: 1.48s\tremaining: 468ms\n",
      "114:\tlearn: 1729.1690880\ttotal: 1.5s\tremaining: 455ms\n",
      "115:\tlearn: 1728.2701458\ttotal: 1.51s\tremaining: 442ms\n",
      "116:\tlearn: 1727.3501005\ttotal: 1.52s\tremaining: 429ms\n",
      "117:\tlearn: 1725.8938114\ttotal: 1.53s\tremaining: 416ms\n",
      "118:\tlearn: 1724.8561680\ttotal: 1.55s\tremaining: 403ms\n",
      "119:\tlearn: 1723.9700029\ttotal: 1.56s\tremaining: 390ms\n",
      "120:\tlearn: 1723.1362617\ttotal: 1.57s\tremaining: 377ms\n",
      "121:\tlearn: 1722.0884738\ttotal: 1.58s\tremaining: 364ms\n",
      "122:\tlearn: 1721.1211839\ttotal: 1.6s\tremaining: 351ms\n",
      "123:\tlearn: 1720.3308862\ttotal: 1.61s\tremaining: 338ms\n",
      "124:\tlearn: 1719.5063517\ttotal: 1.62s\tremaining: 325ms\n",
      "125:\tlearn: 1718.3077812\ttotal: 1.64s\tremaining: 312ms\n",
      "126:\tlearn: 1717.3666483\ttotal: 1.65s\tremaining: 299ms\n",
      "127:\tlearn: 1715.5683878\ttotal: 1.66s\tremaining: 286ms\n",
      "128:\tlearn: 1714.5477448\ttotal: 1.68s\tremaining: 273ms\n",
      "129:\tlearn: 1713.6248172\ttotal: 1.69s\tremaining: 260ms\n",
      "130:\tlearn: 1713.0010473\ttotal: 1.7s\tremaining: 247ms\n",
      "131:\tlearn: 1712.1572255\ttotal: 1.71s\tremaining: 233ms\n",
      "132:\tlearn: 1711.0866620\ttotal: 1.72s\tremaining: 220ms\n",
      "133:\tlearn: 1710.2100712\ttotal: 1.74s\tremaining: 208ms\n",
      "134:\tlearn: 1709.0410159\ttotal: 1.75s\tremaining: 195ms\n",
      "135:\tlearn: 1707.8708406\ttotal: 1.76s\tremaining: 182ms\n",
      "136:\tlearn: 1706.3974197\ttotal: 1.78s\tremaining: 169ms\n",
      "137:\tlearn: 1705.9773015\ttotal: 1.79s\tremaining: 156ms\n",
      "138:\tlearn: 1705.1772897\ttotal: 1.8s\tremaining: 142ms\n",
      "139:\tlearn: 1704.2957366\ttotal: 1.81s\tremaining: 129ms\n",
      "140:\tlearn: 1703.6652649\ttotal: 1.82s\tremaining: 117ms\n",
      "141:\tlearn: 1702.5681937\ttotal: 1.84s\tremaining: 104ms\n",
      "142:\tlearn: 1701.7690418\ttotal: 1.85s\tremaining: 90.6ms\n",
      "143:\tlearn: 1700.7763396\ttotal: 1.86s\tremaining: 77.6ms\n",
      "144:\tlearn: 1699.5630008\ttotal: 1.88s\tremaining: 64.7ms\n",
      "145:\tlearn: 1698.2266787\ttotal: 1.89s\tremaining: 51.8ms\n",
      "146:\tlearn: 1697.4968724\ttotal: 1.9s\tremaining: 38.8ms\n",
      "147:\tlearn: 1696.5679962\ttotal: 1.91s\tremaining: 25.9ms\n",
      "148:\tlearn: 1695.0835825\ttotal: 1.93s\tremaining: 12.9ms\n",
      "149:\tlearn: 1694.5865559\ttotal: 1.94s\tremaining: 0us\n",
      "Learning rate set to 0.387114\n",
      "0:\tlearn: 3660.7144383\ttotal: 13.5ms\tremaining: 2.01s\n",
      "1:\tlearn: 3060.2714869\ttotal: 26.5ms\tremaining: 1.96s\n",
      "2:\tlearn: 2721.3381706\ttotal: 39.3ms\tremaining: 1.93s\n",
      "3:\tlearn: 2520.5833605\ttotal: 52.3ms\tremaining: 1.91s\n",
      "4:\tlearn: 2396.9134775\ttotal: 64.9ms\tremaining: 1.88s\n",
      "5:\tlearn: 2315.0991651\ttotal: 77.7ms\tremaining: 1.86s\n",
      "6:\tlearn: 2263.0752781\ttotal: 90.5ms\tremaining: 1.85s\n",
      "7:\tlearn: 2189.8752234\ttotal: 103ms\tremaining: 1.84s\n",
      "8:\tlearn: 2154.2602827\ttotal: 116ms\tremaining: 1.81s\n",
      "9:\tlearn: 2115.8570475\ttotal: 129ms\tremaining: 1.8s\n",
      "10:\tlearn: 2096.0844902\ttotal: 141ms\tremaining: 1.78s\n",
      "11:\tlearn: 2069.5481994\ttotal: 154ms\tremaining: 1.77s\n",
      "12:\tlearn: 2044.1938209\ttotal: 168ms\tremaining: 1.77s\n",
      "13:\tlearn: 2032.9127893\ttotal: 180ms\tremaining: 1.74s\n",
      "14:\tlearn: 2021.3065395\ttotal: 192ms\tremaining: 1.73s\n",
      "15:\tlearn: 2011.1641645\ttotal: 204ms\tremaining: 1.71s\n",
      "16:\tlearn: 1996.5861605\ttotal: 217ms\tremaining: 1.7s\n",
      "17:\tlearn: 1987.2946951\ttotal: 231ms\tremaining: 1.69s\n",
      "18:\tlearn: 1974.0117566\ttotal: 246ms\tremaining: 1.69s\n",
      "19:\tlearn: 1962.7774639\ttotal: 260ms\tremaining: 1.69s\n",
      "20:\tlearn: 1958.7973273\ttotal: 275ms\tremaining: 1.69s\n",
      "21:\tlearn: 1953.7023457\ttotal: 288ms\tremaining: 1.67s\n",
      "22:\tlearn: 1947.1984700\ttotal: 301ms\tremaining: 1.66s\n",
      "23:\tlearn: 1940.4518975\ttotal: 313ms\tremaining: 1.64s\n",
      "24:\tlearn: 1932.2327532\ttotal: 327ms\tremaining: 1.64s\n",
      "25:\tlearn: 1927.1642497\ttotal: 340ms\tremaining: 1.62s\n",
      "26:\tlearn: 1924.4965487\ttotal: 352ms\tremaining: 1.6s\n",
      "27:\tlearn: 1921.9982506\ttotal: 364ms\tremaining: 1.59s\n",
      "28:\tlearn: 1915.5532475\ttotal: 376ms\tremaining: 1.57s\n",
      "29:\tlearn: 1909.3148520\ttotal: 389ms\tremaining: 1.55s\n",
      "30:\tlearn: 1904.8574348\ttotal: 401ms\tremaining: 1.54s\n",
      "31:\tlearn: 1900.1268271\ttotal: 413ms\tremaining: 1.52s\n",
      "32:\tlearn: 1894.8812370\ttotal: 427ms\tremaining: 1.51s\n",
      "33:\tlearn: 1890.8041392\ttotal: 439ms\tremaining: 1.5s\n",
      "34:\tlearn: 1887.5027827\ttotal: 451ms\tremaining: 1.48s\n",
      "35:\tlearn: 1884.8848395\ttotal: 463ms\tremaining: 1.47s\n",
      "36:\tlearn: 1877.1575936\ttotal: 476ms\tremaining: 1.45s\n",
      "37:\tlearn: 1873.9698941\ttotal: 490ms\tremaining: 1.44s\n",
      "38:\tlearn: 1870.0619894\ttotal: 504ms\tremaining: 1.43s\n",
      "39:\tlearn: 1865.9426142\ttotal: 518ms\tremaining: 1.42s\n",
      "40:\tlearn: 1861.8251009\ttotal: 530ms\tremaining: 1.41s\n",
      "41:\tlearn: 1855.9393649\ttotal: 544ms\tremaining: 1.4s\n",
      "42:\tlearn: 1852.9581650\ttotal: 556ms\tremaining: 1.38s\n",
      "43:\tlearn: 1849.0650519\ttotal: 577ms\tremaining: 1.39s\n",
      "44:\tlearn: 1844.9975591\ttotal: 591ms\tremaining: 1.38s\n",
      "45:\tlearn: 1843.0533173\ttotal: 603ms\tremaining: 1.36s\n",
      "46:\tlearn: 1840.4669263\ttotal: 616ms\tremaining: 1.35s\n",
      "47:\tlearn: 1838.0396420\ttotal: 628ms\tremaining: 1.33s\n",
      "48:\tlearn: 1836.7944408\ttotal: 641ms\tremaining: 1.32s\n",
      "49:\tlearn: 1834.1379979\ttotal: 658ms\tremaining: 1.31s\n",
      "50:\tlearn: 1832.0085278\ttotal: 671ms\tremaining: 1.3s\n",
      "51:\tlearn: 1829.5662778\ttotal: 684ms\tremaining: 1.29s\n",
      "52:\tlearn: 1827.8485266\ttotal: 696ms\tremaining: 1.27s\n",
      "53:\tlearn: 1824.0764501\ttotal: 709ms\tremaining: 1.26s\n",
      "54:\tlearn: 1820.8304688\ttotal: 722ms\tremaining: 1.25s\n",
      "55:\tlearn: 1818.5511324\ttotal: 735ms\tremaining: 1.23s\n",
      "56:\tlearn: 1816.0564019\ttotal: 747ms\tremaining: 1.22s\n",
      "57:\tlearn: 1813.9707986\ttotal: 760ms\tremaining: 1.2s\n",
      "58:\tlearn: 1813.0649652\ttotal: 771ms\tremaining: 1.19s\n",
      "59:\tlearn: 1809.9620552\ttotal: 783ms\tremaining: 1.17s\n",
      "60:\tlearn: 1808.3061526\ttotal: 795ms\tremaining: 1.16s\n",
      "61:\tlearn: 1806.8520827\ttotal: 806ms\tremaining: 1.14s\n",
      "62:\tlearn: 1804.8056341\ttotal: 818ms\tremaining: 1.13s\n",
      "63:\tlearn: 1803.2168178\ttotal: 830ms\tremaining: 1.11s\n",
      "64:\tlearn: 1801.1472734\ttotal: 846ms\tremaining: 1.11s\n",
      "65:\tlearn: 1798.9619366\ttotal: 859ms\tremaining: 1.09s\n",
      "66:\tlearn: 1797.4119081\ttotal: 870ms\tremaining: 1.08s\n",
      "67:\tlearn: 1796.1329434\ttotal: 882ms\tremaining: 1.06s\n",
      "68:\tlearn: 1794.3062719\ttotal: 893ms\tremaining: 1.05s\n",
      "69:\tlearn: 1792.6971862\ttotal: 906ms\tremaining: 1.03s\n",
      "70:\tlearn: 1790.2620398\ttotal: 919ms\tremaining: 1.02s\n",
      "71:\tlearn: 1788.2293443\ttotal: 932ms\tremaining: 1.01s\n",
      "72:\tlearn: 1785.6635317\ttotal: 943ms\tremaining: 995ms\n",
      "73:\tlearn: 1783.3895714\ttotal: 956ms\tremaining: 982ms\n",
      "74:\tlearn: 1781.7378223\ttotal: 967ms\tremaining: 967ms\n",
      "75:\tlearn: 1780.5490562\ttotal: 979ms\tremaining: 953ms\n",
      "76:\tlearn: 1778.8423758\ttotal: 991ms\tremaining: 939ms\n",
      "77:\tlearn: 1777.7686003\ttotal: 1s\tremaining: 926ms\n",
      "78:\tlearn: 1776.6587528\ttotal: 1.01s\tremaining: 912ms\n",
      "79:\tlearn: 1774.9655361\ttotal: 1.03s\tremaining: 898ms\n",
      "80:\tlearn: 1773.8949548\ttotal: 1.04s\tremaining: 885ms\n",
      "81:\tlearn: 1772.4552775\ttotal: 1.05s\tremaining: 871ms\n",
      "82:\tlearn: 1771.3836234\ttotal: 1.06s\tremaining: 858ms\n",
      "83:\tlearn: 1770.2965660\ttotal: 1.07s\tremaining: 844ms\n",
      "84:\tlearn: 1768.5481046\ttotal: 1.09s\tremaining: 831ms\n",
      "85:\tlearn: 1767.2296628\ttotal: 1.1s\tremaining: 817ms\n",
      "86:\tlearn: 1765.3560045\ttotal: 1.11s\tremaining: 804ms\n",
      "87:\tlearn: 1763.4126724\ttotal: 1.12s\tremaining: 791ms\n",
      "88:\tlearn: 1762.1772480\ttotal: 1.13s\tremaining: 776ms\n",
      "89:\tlearn: 1760.7070609\ttotal: 1.14s\tremaining: 763ms\n",
      "90:\tlearn: 1759.1070334\ttotal: 1.16s\tremaining: 750ms\n",
      "91:\tlearn: 1757.9611161\ttotal: 1.17s\tremaining: 736ms\n",
      "92:\tlearn: 1757.2214155\ttotal: 1.18s\tremaining: 723ms\n",
      "93:\tlearn: 1755.3641937\ttotal: 1.19s\tremaining: 710ms\n",
      "94:\tlearn: 1753.9548189\ttotal: 1.2s\tremaining: 697ms\n",
      "95:\tlearn: 1752.4557674\ttotal: 1.22s\tremaining: 684ms\n",
      "96:\tlearn: 1751.5723890\ttotal: 1.23s\tremaining: 671ms\n",
      "97:\tlearn: 1750.1831134\ttotal: 1.24s\tremaining: 660ms\n",
      "98:\tlearn: 1748.5699274\ttotal: 1.25s\tremaining: 647ms\n",
      "99:\tlearn: 1747.3190566\ttotal: 1.27s\tremaining: 633ms\n",
      "100:\tlearn: 1746.2343180\ttotal: 1.28s\tremaining: 621ms\n",
      "101:\tlearn: 1745.3415895\ttotal: 1.29s\tremaining: 608ms\n",
      "102:\tlearn: 1744.7971001\ttotal: 1.3s\tremaining: 594ms\n",
      "103:\tlearn: 1744.1421573\ttotal: 1.31s\tremaining: 581ms\n",
      "104:\tlearn: 1742.8688895\ttotal: 1.32s\tremaining: 568ms\n",
      "105:\tlearn: 1741.5691362\ttotal: 1.34s\tremaining: 555ms\n",
      "106:\tlearn: 1740.6318959\ttotal: 1.35s\tremaining: 542ms\n",
      "107:\tlearn: 1739.7907153\ttotal: 1.36s\tremaining: 529ms\n",
      "108:\tlearn: 1738.8092183\ttotal: 1.37s\tremaining: 516ms\n",
      "109:\tlearn: 1737.6246470\ttotal: 1.38s\tremaining: 503ms\n",
      "110:\tlearn: 1736.8978179\ttotal: 1.4s\tremaining: 490ms\n",
      "111:\tlearn: 1735.2551744\ttotal: 1.41s\tremaining: 477ms\n",
      "112:\tlearn: 1734.0131294\ttotal: 1.42s\tremaining: 464ms\n",
      "113:\tlearn: 1732.5956390\ttotal: 1.43s\tremaining: 452ms\n",
      "114:\tlearn: 1730.9767018\ttotal: 1.44s\tremaining: 439ms\n",
      "115:\tlearn: 1729.5639695\ttotal: 1.45s\tremaining: 426ms\n",
      "116:\tlearn: 1727.9790281\ttotal: 1.47s\tremaining: 413ms\n",
      "117:\tlearn: 1726.8011796\ttotal: 1.48s\tremaining: 401ms\n",
      "118:\tlearn: 1725.5646860\ttotal: 1.49s\tremaining: 388ms\n",
      "119:\tlearn: 1724.2169216\ttotal: 1.5s\tremaining: 376ms\n",
      "120:\tlearn: 1723.2339323\ttotal: 1.51s\tremaining: 363ms\n",
      "121:\tlearn: 1721.9856727\ttotal: 1.53s\tremaining: 350ms\n",
      "122:\tlearn: 1720.6215904\ttotal: 1.54s\tremaining: 338ms\n",
      "123:\tlearn: 1719.3555757\ttotal: 1.55s\tremaining: 326ms\n",
      "124:\tlearn: 1718.4507828\ttotal: 1.56s\tremaining: 313ms\n",
      "125:\tlearn: 1717.7429354\ttotal: 1.58s\tremaining: 300ms\n",
      "126:\tlearn: 1716.4100388\ttotal: 1.59s\tremaining: 288ms\n",
      "127:\tlearn: 1715.3780041\ttotal: 1.6s\tremaining: 275ms\n",
      "128:\tlearn: 1714.9733578\ttotal: 1.61s\tremaining: 262ms\n",
      "129:\tlearn: 1714.0413345\ttotal: 1.62s\tremaining: 250ms\n",
      "130:\tlearn: 1713.3686796\ttotal: 1.63s\tremaining: 237ms\n",
      "131:\tlearn: 1712.3310202\ttotal: 1.65s\tremaining: 224ms\n",
      "132:\tlearn: 1711.5012011\ttotal: 1.66s\tremaining: 212ms\n",
      "133:\tlearn: 1710.4018821\ttotal: 1.67s\tremaining: 199ms\n",
      "134:\tlearn: 1709.3996828\ttotal: 1.68s\tremaining: 187ms\n",
      "135:\tlearn: 1708.0156527\ttotal: 1.69s\tremaining: 174ms\n",
      "136:\tlearn: 1707.3342198\ttotal: 1.7s\tremaining: 162ms\n",
      "137:\tlearn: 1706.5382943\ttotal: 1.72s\tremaining: 149ms\n",
      "138:\tlearn: 1705.8515058\ttotal: 1.73s\tremaining: 137ms\n",
      "139:\tlearn: 1705.4239902\ttotal: 1.74s\tremaining: 124ms\n",
      "140:\tlearn: 1704.6205206\ttotal: 1.75s\tremaining: 112ms\n",
      "141:\tlearn: 1703.2835088\ttotal: 1.76s\tremaining: 99.2ms\n",
      "142:\tlearn: 1702.7641265\ttotal: 1.77s\tremaining: 86.7ms\n",
      "143:\tlearn: 1701.5766960\ttotal: 1.78s\tremaining: 74.4ms\n",
      "144:\tlearn: 1700.8854319\ttotal: 1.8s\tremaining: 62ms\n",
      "145:\tlearn: 1700.0958038\ttotal: 1.81s\tremaining: 49.6ms\n",
      "146:\tlearn: 1699.6443627\ttotal: 1.82s\tremaining: 37.2ms\n",
      "147:\tlearn: 1698.7754060\ttotal: 1.83s\tremaining: 24.8ms\n",
      "148:\tlearn: 1698.1636651\ttotal: 1.85s\tremaining: 12.4ms\n",
      "149:\tlearn: 1697.2681100\ttotal: 1.86s\tremaining: 0us\n",
      "Learning rate set to 0.387114\n",
      "0:\tlearn: 3678.9334312\ttotal: 16.2ms\tremaining: 2.42s\n",
      "1:\tlearn: 3089.5925881\ttotal: 33.2ms\tremaining: 2.46s\n",
      "2:\tlearn: 2762.9461231\ttotal: 47.1ms\tremaining: 2.31s\n",
      "3:\tlearn: 2542.6315480\ttotal: 60.2ms\tremaining: 2.2s\n",
      "4:\tlearn: 2423.0182063\ttotal: 74.5ms\tremaining: 2.16s\n",
      "5:\tlearn: 2337.4753431\ttotal: 87.1ms\tremaining: 2.09s\n",
      "6:\tlearn: 2251.7851262\ttotal: 102ms\tremaining: 2.08s\n",
      "7:\tlearn: 2207.0428255\ttotal: 114ms\tremaining: 2.03s\n",
      "8:\tlearn: 2163.0494895\ttotal: 127ms\tremaining: 1.99s\n",
      "9:\tlearn: 2125.5500137\ttotal: 140ms\tremaining: 1.96s\n",
      "10:\tlearn: 2103.6220341\ttotal: 152ms\tremaining: 1.92s\n",
      "11:\tlearn: 2083.4568329\ttotal: 164ms\tremaining: 1.89s\n",
      "12:\tlearn: 2067.3877890\ttotal: 179ms\tremaining: 1.89s\n",
      "13:\tlearn: 2052.7396068\ttotal: 191ms\tremaining: 1.86s\n",
      "14:\tlearn: 2040.4605250\ttotal: 202ms\tremaining: 1.82s\n",
      "15:\tlearn: 2021.6039040\ttotal: 215ms\tremaining: 1.8s\n",
      "16:\tlearn: 2013.7988825\ttotal: 226ms\tremaining: 1.77s\n",
      "17:\tlearn: 2004.2513463\ttotal: 239ms\tremaining: 1.75s\n",
      "18:\tlearn: 1995.1042208\ttotal: 252ms\tremaining: 1.74s\n",
      "19:\tlearn: 1985.0352918\ttotal: 268ms\tremaining: 1.74s\n",
      "20:\tlearn: 1977.3242238\ttotal: 281ms\tremaining: 1.73s\n",
      "21:\tlearn: 1969.1205265\ttotal: 295ms\tremaining: 1.71s\n",
      "22:\tlearn: 1961.6895797\ttotal: 307ms\tremaining: 1.69s\n",
      "23:\tlearn: 1956.0385333\ttotal: 319ms\tremaining: 1.68s\n",
      "24:\tlearn: 1952.5909045\ttotal: 332ms\tremaining: 1.66s\n",
      "25:\tlearn: 1947.3538241\ttotal: 345ms\tremaining: 1.64s\n",
      "26:\tlearn: 1940.6036609\ttotal: 358ms\tremaining: 1.63s\n",
      "27:\tlearn: 1932.4799324\ttotal: 371ms\tremaining: 1.62s\n",
      "28:\tlearn: 1924.8887266\ttotal: 384ms\tremaining: 1.6s\n",
      "29:\tlearn: 1919.5640356\ttotal: 397ms\tremaining: 1.59s\n",
      "30:\tlearn: 1914.6706373\ttotal: 409ms\tremaining: 1.57s\n",
      "31:\tlearn: 1909.9660371\ttotal: 423ms\tremaining: 1.56s\n",
      "32:\tlearn: 1905.5969740\ttotal: 436ms\tremaining: 1.54s\n",
      "33:\tlearn: 1899.9668255\ttotal: 447ms\tremaining: 1.52s\n",
      "34:\tlearn: 1895.7230962\ttotal: 460ms\tremaining: 1.51s\n",
      "35:\tlearn: 1891.0705108\ttotal: 472ms\tremaining: 1.5s\n",
      "36:\tlearn: 1887.4902411\ttotal: 484ms\tremaining: 1.48s\n",
      "37:\tlearn: 1882.9547432\ttotal: 496ms\tremaining: 1.46s\n",
      "38:\tlearn: 1878.8560186\ttotal: 509ms\tremaining: 1.45s\n",
      "39:\tlearn: 1875.6831234\ttotal: 521ms\tremaining: 1.43s\n",
      "40:\tlearn: 1870.5013890\ttotal: 533ms\tremaining: 1.42s\n",
      "41:\tlearn: 1866.1757218\ttotal: 546ms\tremaining: 1.4s\n",
      "42:\tlearn: 1863.3626898\ttotal: 558ms\tremaining: 1.39s\n",
      "43:\tlearn: 1860.8252586\ttotal: 570ms\tremaining: 1.37s\n",
      "44:\tlearn: 1857.4079394\ttotal: 584ms\tremaining: 1.36s\n",
      "45:\tlearn: 1855.2079734\ttotal: 596ms\tremaining: 1.35s\n",
      "46:\tlearn: 1853.1400120\ttotal: 608ms\tremaining: 1.33s\n",
      "47:\tlearn: 1849.5817648\ttotal: 620ms\tremaining: 1.32s\n",
      "48:\tlearn: 1847.6091187\ttotal: 632ms\tremaining: 1.3s\n",
      "49:\tlearn: 1845.5897395\ttotal: 644ms\tremaining: 1.29s\n",
      "50:\tlearn: 1841.9637339\ttotal: 656ms\tremaining: 1.27s\n",
      "51:\tlearn: 1839.0722058\ttotal: 668ms\tremaining: 1.26s\n",
      "52:\tlearn: 1836.0962130\ttotal: 680ms\tremaining: 1.24s\n",
      "53:\tlearn: 1833.9240685\ttotal: 692ms\tremaining: 1.23s\n",
      "54:\tlearn: 1831.0676160\ttotal: 704ms\tremaining: 1.22s\n",
      "55:\tlearn: 1827.7176445\ttotal: 718ms\tremaining: 1.21s\n",
      "56:\tlearn: 1825.2423305\ttotal: 730ms\tremaining: 1.19s\n",
      "57:\tlearn: 1823.3034010\ttotal: 742ms\tremaining: 1.18s\n",
      "58:\tlearn: 1819.9173628\ttotal: 755ms\tremaining: 1.16s\n",
      "59:\tlearn: 1818.0137391\ttotal: 767ms\tremaining: 1.15s\n",
      "60:\tlearn: 1816.2568634\ttotal: 778ms\tremaining: 1.13s\n",
      "61:\tlearn: 1814.6982357\ttotal: 789ms\tremaining: 1.12s\n",
      "62:\tlearn: 1812.6925293\ttotal: 801ms\tremaining: 1.11s\n",
      "63:\tlearn: 1810.7942967\ttotal: 817ms\tremaining: 1.1s\n",
      "64:\tlearn: 1808.2971325\ttotal: 831ms\tremaining: 1.09s\n",
      "65:\tlearn: 1806.3317100\ttotal: 844ms\tremaining: 1.07s\n",
      "66:\tlearn: 1804.3089850\ttotal: 856ms\tremaining: 1.06s\n",
      "67:\tlearn: 1803.0125564\ttotal: 868ms\tremaining: 1.05s\n",
      "68:\tlearn: 1801.4412818\ttotal: 880ms\tremaining: 1.03s\n",
      "69:\tlearn: 1799.1316124\ttotal: 892ms\tremaining: 1.02s\n",
      "70:\tlearn: 1797.6904833\ttotal: 904ms\tremaining: 1s\n",
      "71:\tlearn: 1795.6568960\ttotal: 915ms\tremaining: 992ms\n",
      "72:\tlearn: 1793.6943096\ttotal: 928ms\tremaining: 979ms\n",
      "73:\tlearn: 1791.9678262\ttotal: 939ms\tremaining: 965ms\n",
      "74:\tlearn: 1789.2376888\ttotal: 952ms\tremaining: 952ms\n",
      "75:\tlearn: 1787.4361340\ttotal: 963ms\tremaining: 938ms\n",
      "76:\tlearn: 1786.2025469\ttotal: 976ms\tremaining: 925ms\n",
      "77:\tlearn: 1784.5630028\ttotal: 987ms\tremaining: 911ms\n",
      "78:\tlearn: 1781.2505958\ttotal: 1.01s\tremaining: 906ms\n",
      "79:\tlearn: 1779.6027645\ttotal: 1.02s\tremaining: 895ms\n",
      "80:\tlearn: 1778.5457939\ttotal: 1.03s\tremaining: 881ms\n",
      "81:\tlearn: 1777.0611051\ttotal: 1.05s\tremaining: 869ms\n",
      "82:\tlearn: 1775.6173318\ttotal: 1.07s\tremaining: 861ms\n",
      "83:\tlearn: 1772.9469628\ttotal: 1.08s\tremaining: 849ms\n",
      "84:\tlearn: 1771.7686580\ttotal: 1.1s\tremaining: 838ms\n",
      "85:\tlearn: 1770.8202908\ttotal: 1.11s\tremaining: 827ms\n",
      "86:\tlearn: 1768.5946718\ttotal: 1.13s\tremaining: 817ms\n",
      "87:\tlearn: 1766.5181341\ttotal: 1.14s\tremaining: 806ms\n",
      "88:\tlearn: 1764.1799016\ttotal: 1.16s\tremaining: 794ms\n",
      "89:\tlearn: 1763.1711386\ttotal: 1.17s\tremaining: 780ms\n",
      "90:\tlearn: 1761.7574792\ttotal: 1.18s\tremaining: 767ms\n",
      "91:\tlearn: 1760.3142815\ttotal: 1.2s\tremaining: 753ms\n",
      "92:\tlearn: 1758.9671507\ttotal: 1.21s\tremaining: 740ms\n",
      "93:\tlearn: 1757.9703105\ttotal: 1.22s\tremaining: 727ms\n",
      "94:\tlearn: 1757.1742696\ttotal: 1.23s\tremaining: 714ms\n",
      "95:\tlearn: 1755.6952591\ttotal: 1.25s\tremaining: 704ms\n",
      "96:\tlearn: 1754.2899748\ttotal: 1.27s\tremaining: 693ms\n",
      "97:\tlearn: 1753.2481033\ttotal: 1.28s\tremaining: 679ms\n",
      "98:\tlearn: 1752.2640402\ttotal: 1.29s\tremaining: 665ms\n",
      "99:\tlearn: 1751.6006671\ttotal: 1.3s\tremaining: 652ms\n",
      "100:\tlearn: 1750.5828075\ttotal: 1.32s\tremaining: 641ms\n",
      "101:\tlearn: 1749.3010676\ttotal: 1.33s\tremaining: 627ms\n",
      "102:\tlearn: 1747.5653307\ttotal: 1.35s\tremaining: 614ms\n",
      "103:\tlearn: 1746.2746439\ttotal: 1.36s\tremaining: 601ms\n",
      "104:\tlearn: 1744.8369261\ttotal: 1.37s\tremaining: 587ms\n",
      "105:\tlearn: 1744.1095980\ttotal: 1.38s\tremaining: 574ms\n",
      "106:\tlearn: 1742.6706338\ttotal: 1.4s\tremaining: 561ms\n",
      "107:\tlearn: 1741.5014572\ttotal: 1.41s\tremaining: 548ms\n",
      "108:\tlearn: 1740.5589899\ttotal: 1.42s\tremaining: 535ms\n",
      "109:\tlearn: 1738.8350555\ttotal: 1.43s\tremaining: 521ms\n",
      "110:\tlearn: 1737.3069230\ttotal: 1.45s\tremaining: 508ms\n",
      "111:\tlearn: 1734.8135053\ttotal: 1.46s\tremaining: 495ms\n",
      "112:\tlearn: 1733.9060216\ttotal: 1.47s\tremaining: 482ms\n",
      "113:\tlearn: 1732.5890317\ttotal: 1.48s\tremaining: 469ms\n",
      "114:\tlearn: 1731.6338346\ttotal: 1.5s\tremaining: 455ms\n",
      "115:\tlearn: 1730.6570908\ttotal: 1.51s\tremaining: 442ms\n",
      "116:\tlearn: 1729.4795387\ttotal: 1.52s\tremaining: 429ms\n",
      "117:\tlearn: 1728.4169690\ttotal: 1.53s\tremaining: 416ms\n",
      "118:\tlearn: 1727.9508266\ttotal: 1.55s\tremaining: 403ms\n",
      "119:\tlearn: 1727.2927058\ttotal: 1.56s\tremaining: 390ms\n",
      "120:\tlearn: 1726.3134193\ttotal: 1.57s\tremaining: 377ms\n",
      "121:\tlearn: 1725.0522287\ttotal: 1.58s\tremaining: 364ms\n",
      "122:\tlearn: 1723.9222943\ttotal: 1.59s\tremaining: 350ms\n",
      "123:\tlearn: 1722.6969503\ttotal: 1.61s\tremaining: 337ms\n",
      "124:\tlearn: 1721.7769058\ttotal: 1.62s\tremaining: 324ms\n",
      "125:\tlearn: 1720.6030158\ttotal: 1.63s\tremaining: 311ms\n",
      "126:\tlearn: 1719.3868906\ttotal: 1.64s\tremaining: 297ms\n",
      "127:\tlearn: 1718.2987510\ttotal: 1.65s\tremaining: 284ms\n",
      "128:\tlearn: 1717.2928342\ttotal: 1.67s\tremaining: 271ms\n",
      "129:\tlearn: 1716.0126623\ttotal: 1.68s\tremaining: 258ms\n",
      "130:\tlearn: 1714.2674176\ttotal: 1.69s\tremaining: 245ms\n",
      "131:\tlearn: 1713.4165729\ttotal: 1.7s\tremaining: 232ms\n",
      "132:\tlearn: 1712.0698415\ttotal: 1.71s\tremaining: 219ms\n",
      "133:\tlearn: 1711.0499650\ttotal: 1.73s\tremaining: 206ms\n",
      "134:\tlearn: 1709.8239196\ttotal: 1.74s\tremaining: 193ms\n",
      "135:\tlearn: 1708.6679142\ttotal: 1.75s\tremaining: 180ms\n",
      "136:\tlearn: 1707.9910758\ttotal: 1.76s\tremaining: 167ms\n",
      "137:\tlearn: 1707.3290549\ttotal: 1.77s\tremaining: 154ms\n",
      "138:\tlearn: 1705.7665499\ttotal: 1.78s\tremaining: 141ms\n",
      "139:\tlearn: 1704.7894397\ttotal: 1.8s\tremaining: 128ms\n",
      "140:\tlearn: 1704.0159395\ttotal: 1.81s\tremaining: 116ms\n",
      "141:\tlearn: 1703.3523472\ttotal: 1.82s\tremaining: 103ms\n",
      "142:\tlearn: 1702.2670222\ttotal: 1.83s\tremaining: 89.9ms\n",
      "143:\tlearn: 1701.6626542\ttotal: 1.85s\tremaining: 77ms\n",
      "144:\tlearn: 1700.9441390\ttotal: 1.86s\tremaining: 64.1ms\n",
      "145:\tlearn: 1699.9828484\ttotal: 1.87s\tremaining: 51.3ms\n",
      "146:\tlearn: 1698.8694200\ttotal: 1.88s\tremaining: 38.4ms\n",
      "147:\tlearn: 1698.0846942\ttotal: 1.89s\tremaining: 25.6ms\n",
      "148:\tlearn: 1697.2248816\ttotal: 1.91s\tremaining: 12.8ms\n",
      "149:\tlearn: 1696.5132682\ttotal: 1.92s\tremaining: 0us\n",
      "Learning rate set to 0.387114\n",
      "0:\tlearn: 3657.3316137\ttotal: 13.7ms\tremaining: 2.04s\n",
      "1:\tlearn: 3060.6667118\ttotal: 27.2ms\tremaining: 2.01s\n",
      "2:\tlearn: 2733.3785097\ttotal: 41.5ms\tremaining: 2.03s\n",
      "3:\tlearn: 2534.8416723\ttotal: 54.2ms\tremaining: 1.98s\n",
      "4:\tlearn: 2421.9141912\ttotal: 66.8ms\tremaining: 1.94s\n",
      "5:\tlearn: 2319.3759333\ttotal: 80.3ms\tremaining: 1.93s\n",
      "6:\tlearn: 2255.3931420\ttotal: 94.1ms\tremaining: 1.92s\n",
      "7:\tlearn: 2209.9369697\ttotal: 108ms\tremaining: 1.91s\n",
      "8:\tlearn: 2174.8264254\ttotal: 120ms\tremaining: 1.88s\n",
      "9:\tlearn: 2143.0161063\ttotal: 135ms\tremaining: 1.89s\n",
      "10:\tlearn: 2106.1083702\ttotal: 148ms\tremaining: 1.88s\n",
      "11:\tlearn: 2086.6033604\ttotal: 161ms\tremaining: 1.85s\n",
      "12:\tlearn: 2058.4961921\ttotal: 174ms\tremaining: 1.83s\n",
      "13:\tlearn: 2047.4892278\ttotal: 185ms\tremaining: 1.8s\n",
      "14:\tlearn: 2029.7734775\ttotal: 199ms\tremaining: 1.79s\n",
      "15:\tlearn: 2016.7636917\ttotal: 213ms\tremaining: 1.78s\n",
      "16:\tlearn: 2001.9367797\ttotal: 226ms\tremaining: 1.76s\n",
      "17:\tlearn: 1987.6283002\ttotal: 238ms\tremaining: 1.75s\n",
      "18:\tlearn: 1981.7495400\ttotal: 251ms\tremaining: 1.73s\n",
      "19:\tlearn: 1973.8513459\ttotal: 264ms\tremaining: 1.72s\n",
      "20:\tlearn: 1962.4952507\ttotal: 280ms\tremaining: 1.72s\n",
      "21:\tlearn: 1954.9613752\ttotal: 291ms\tremaining: 1.69s\n",
      "22:\tlearn: 1948.6455504\ttotal: 303ms\tremaining: 1.68s\n",
      "23:\tlearn: 1943.9430495\ttotal: 316ms\tremaining: 1.66s\n",
      "24:\tlearn: 1939.0722528\ttotal: 328ms\tremaining: 1.64s\n",
      "25:\tlearn: 1934.6136043\ttotal: 340ms\tremaining: 1.62s\n",
      "26:\tlearn: 1927.0498610\ttotal: 353ms\tremaining: 1.61s\n",
      "27:\tlearn: 1922.4781583\ttotal: 366ms\tremaining: 1.59s\n",
      "28:\tlearn: 1919.3979366\ttotal: 378ms\tremaining: 1.58s\n",
      "29:\tlearn: 1911.5361765\ttotal: 393ms\tremaining: 1.57s\n",
      "30:\tlearn: 1906.2577159\ttotal: 406ms\tremaining: 1.56s\n",
      "31:\tlearn: 1900.3431718\ttotal: 426ms\tremaining: 1.57s\n",
      "32:\tlearn: 1897.4090397\ttotal: 447ms\tremaining: 1.58s\n",
      "33:\tlearn: 1893.4438305\ttotal: 464ms\tremaining: 1.58s\n",
      "34:\tlearn: 1889.3219800\ttotal: 481ms\tremaining: 1.58s\n",
      "35:\tlearn: 1886.3200230\ttotal: 502ms\tremaining: 1.59s\n",
      "36:\tlearn: 1882.0020247\ttotal: 516ms\tremaining: 1.57s\n",
      "37:\tlearn: 1877.3871582\ttotal: 528ms\tremaining: 1.56s\n",
      "38:\tlearn: 1873.6362426\ttotal: 541ms\tremaining: 1.54s\n",
      "39:\tlearn: 1869.7612913\ttotal: 554ms\tremaining: 1.52s\n",
      "40:\tlearn: 1866.7412539\ttotal: 566ms\tremaining: 1.5s\n",
      "41:\tlearn: 1862.3660288\ttotal: 579ms\tremaining: 1.49s\n",
      "42:\tlearn: 1860.2010734\ttotal: 590ms\tremaining: 1.47s\n",
      "43:\tlearn: 1856.7981416\ttotal: 603ms\tremaining: 1.45s\n",
      "44:\tlearn: 1854.3287447\ttotal: 615ms\tremaining: 1.44s\n",
      "45:\tlearn: 1851.4579012\ttotal: 627ms\tremaining: 1.42s\n",
      "46:\tlearn: 1845.8407601\ttotal: 641ms\tremaining: 1.41s\n",
      "47:\tlearn: 1842.7488161\ttotal: 655ms\tremaining: 1.39s\n",
      "48:\tlearn: 1840.7241822\ttotal: 668ms\tremaining: 1.38s\n",
      "49:\tlearn: 1838.3388342\ttotal: 681ms\tremaining: 1.36s\n",
      "50:\tlearn: 1835.9861096\ttotal: 693ms\tremaining: 1.34s\n",
      "51:\tlearn: 1833.9035737\ttotal: 704ms\tremaining: 1.33s\n",
      "52:\tlearn: 1832.3650320\ttotal: 716ms\tremaining: 1.31s\n",
      "53:\tlearn: 1828.8030561\ttotal: 728ms\tremaining: 1.29s\n",
      "54:\tlearn: 1827.1026596\ttotal: 742ms\tremaining: 1.28s\n",
      "55:\tlearn: 1824.5476951\ttotal: 755ms\tremaining: 1.27s\n",
      "56:\tlearn: 1821.7059191\ttotal: 767ms\tremaining: 1.25s\n",
      "57:\tlearn: 1819.9070910\ttotal: 779ms\tremaining: 1.24s\n",
      "58:\tlearn: 1818.3499833\ttotal: 790ms\tremaining: 1.22s\n",
      "59:\tlearn: 1816.0238214\ttotal: 803ms\tremaining: 1.2s\n",
      "60:\tlearn: 1813.7362896\ttotal: 815ms\tremaining: 1.19s\n",
      "61:\tlearn: 1811.3523499\ttotal: 827ms\tremaining: 1.17s\n",
      "62:\tlearn: 1809.5838817\ttotal: 839ms\tremaining: 1.16s\n",
      "63:\tlearn: 1808.5283011\ttotal: 850ms\tremaining: 1.14s\n",
      "64:\tlearn: 1805.8371586\ttotal: 862ms\tremaining: 1.13s\n",
      "65:\tlearn: 1802.8425010\ttotal: 875ms\tremaining: 1.11s\n",
      "66:\tlearn: 1801.2644507\ttotal: 887ms\tremaining: 1.1s\n",
      "67:\tlearn: 1799.2876391\ttotal: 899ms\tremaining: 1.08s\n",
      "68:\tlearn: 1796.7620127\ttotal: 912ms\tremaining: 1.07s\n",
      "69:\tlearn: 1795.4922752\ttotal: 924ms\tremaining: 1.05s\n",
      "70:\tlearn: 1793.4973710\ttotal: 936ms\tremaining: 1.04s\n",
      "71:\tlearn: 1791.8986122\ttotal: 948ms\tremaining: 1.03s\n",
      "72:\tlearn: 1789.5384605\ttotal: 961ms\tremaining: 1.01s\n",
      "73:\tlearn: 1787.2510310\ttotal: 974ms\tremaining: 1s\n",
      "74:\tlearn: 1785.9215953\ttotal: 986ms\tremaining: 986ms\n",
      "75:\tlearn: 1783.8872031\ttotal: 998ms\tremaining: 972ms\n",
      "76:\tlearn: 1783.0611277\ttotal: 1.01s\tremaining: 958ms\n",
      "77:\tlearn: 1781.8274043\ttotal: 1.02s\tremaining: 944ms\n",
      "78:\tlearn: 1779.8110255\ttotal: 1.03s\tremaining: 931ms\n",
      "79:\tlearn: 1778.2261962\ttotal: 1.05s\tremaining: 917ms\n",
      "80:\tlearn: 1777.0496704\ttotal: 1.06s\tremaining: 903ms\n",
      "81:\tlearn: 1775.5324168\ttotal: 1.07s\tremaining: 890ms\n",
      "82:\tlearn: 1773.9740445\ttotal: 1.08s\tremaining: 876ms\n",
      "83:\tlearn: 1772.0827248\ttotal: 1.1s\tremaining: 863ms\n",
      "84:\tlearn: 1769.8337711\ttotal: 1.11s\tremaining: 850ms\n",
      "85:\tlearn: 1768.2569965\ttotal: 1.12s\tremaining: 836ms\n",
      "86:\tlearn: 1767.0743580\ttotal: 1.14s\tremaining: 824ms\n",
      "87:\tlearn: 1764.7822992\ttotal: 1.15s\tremaining: 810ms\n",
      "88:\tlearn: 1763.7204205\ttotal: 1.16s\tremaining: 797ms\n",
      "89:\tlearn: 1762.2695043\ttotal: 1.18s\tremaining: 784ms\n",
      "90:\tlearn: 1760.2584539\ttotal: 1.19s\tremaining: 771ms\n",
      "91:\tlearn: 1759.4551217\ttotal: 1.2s\tremaining: 758ms\n",
      "92:\tlearn: 1758.0731748\ttotal: 1.22s\tremaining: 745ms\n",
      "93:\tlearn: 1756.5169046\ttotal: 1.23s\tremaining: 732ms\n",
      "94:\tlearn: 1755.4416204\ttotal: 1.24s\tremaining: 718ms\n",
      "95:\tlearn: 1754.3553722\ttotal: 1.25s\tremaining: 705ms\n",
      "96:\tlearn: 1753.3819849\ttotal: 1.27s\tremaining: 692ms\n",
      "97:\tlearn: 1751.8280649\ttotal: 1.28s\tremaining: 679ms\n",
      "98:\tlearn: 1750.9827074\ttotal: 1.29s\tremaining: 665ms\n",
      "99:\tlearn: 1748.7778986\ttotal: 1.3s\tremaining: 652ms\n",
      "100:\tlearn: 1747.7380236\ttotal: 1.32s\tremaining: 639ms\n",
      "101:\tlearn: 1746.4731762\ttotal: 1.33s\tremaining: 626ms\n",
      "102:\tlearn: 1745.0814921\ttotal: 1.34s\tremaining: 613ms\n",
      "103:\tlearn: 1742.8318200\ttotal: 1.36s\tremaining: 601ms\n",
      "104:\tlearn: 1742.4343080\ttotal: 1.37s\tremaining: 587ms\n",
      "105:\tlearn: 1741.6919089\ttotal: 1.38s\tremaining: 574ms\n",
      "106:\tlearn: 1740.8583782\ttotal: 1.4s\tremaining: 561ms\n",
      "107:\tlearn: 1739.4444565\ttotal: 1.41s\tremaining: 548ms\n",
      "108:\tlearn: 1737.9739926\ttotal: 1.42s\tremaining: 535ms\n",
      "109:\tlearn: 1737.1616599\ttotal: 1.43s\tremaining: 522ms\n",
      "110:\tlearn: 1736.4520248\ttotal: 1.45s\tremaining: 508ms\n",
      "111:\tlearn: 1735.9136471\ttotal: 1.46s\tremaining: 496ms\n",
      "112:\tlearn: 1734.8204266\ttotal: 1.47s\tremaining: 482ms\n",
      "113:\tlearn: 1733.7649870\ttotal: 1.49s\tremaining: 469ms\n",
      "114:\tlearn: 1732.5926002\ttotal: 1.5s\tremaining: 456ms\n",
      "115:\tlearn: 1731.7796386\ttotal: 1.51s\tremaining: 443ms\n",
      "116:\tlearn: 1730.6459166\ttotal: 1.52s\tremaining: 429ms\n",
      "117:\tlearn: 1729.2581392\ttotal: 1.53s\tremaining: 417ms\n",
      "118:\tlearn: 1728.4496157\ttotal: 1.55s\tremaining: 403ms\n",
      "119:\tlearn: 1727.4310367\ttotal: 1.56s\tremaining: 390ms\n",
      "120:\tlearn: 1726.2333267\ttotal: 1.57s\tremaining: 377ms\n",
      "121:\tlearn: 1725.1657736\ttotal: 1.59s\tremaining: 364ms\n",
      "122:\tlearn: 1723.9716002\ttotal: 1.6s\tremaining: 352ms\n",
      "123:\tlearn: 1722.8936474\ttotal: 1.62s\tremaining: 339ms\n",
      "124:\tlearn: 1721.8029926\ttotal: 1.63s\tremaining: 326ms\n",
      "125:\tlearn: 1720.4125233\ttotal: 1.64s\tremaining: 313ms\n",
      "126:\tlearn: 1719.2895414\ttotal: 1.65s\tremaining: 300ms\n",
      "127:\tlearn: 1718.4123434\ttotal: 1.67s\tremaining: 287ms\n",
      "128:\tlearn: 1717.5890006\ttotal: 1.68s\tremaining: 274ms\n",
      "129:\tlearn: 1716.1229674\ttotal: 1.69s\tremaining: 261ms\n",
      "130:\tlearn: 1714.4304931\ttotal: 1.71s\tremaining: 248ms\n",
      "131:\tlearn: 1714.0713030\ttotal: 1.72s\tremaining: 234ms\n",
      "132:\tlearn: 1713.1298448\ttotal: 1.73s\tremaining: 221ms\n",
      "133:\tlearn: 1712.2436737\ttotal: 1.74s\tremaining: 208ms\n",
      "134:\tlearn: 1711.1823461\ttotal: 1.76s\tremaining: 195ms\n",
      "135:\tlearn: 1710.3015473\ttotal: 1.77s\tremaining: 182ms\n",
      "136:\tlearn: 1709.3592664\ttotal: 1.78s\tremaining: 169ms\n",
      "137:\tlearn: 1708.4576460\ttotal: 1.79s\tremaining: 156ms\n",
      "138:\tlearn: 1707.8646915\ttotal: 1.8s\tremaining: 143ms\n",
      "139:\tlearn: 1707.1320285\ttotal: 1.82s\tremaining: 130ms\n",
      "140:\tlearn: 1706.5941540\ttotal: 1.83s\tremaining: 117ms\n",
      "141:\tlearn: 1705.0689766\ttotal: 1.84s\tremaining: 104ms\n",
      "142:\tlearn: 1703.5569942\ttotal: 1.86s\tremaining: 90.9ms\n",
      "143:\tlearn: 1702.5316204\ttotal: 1.87s\tremaining: 77.9ms\n",
      "144:\tlearn: 1701.8282849\ttotal: 1.88s\tremaining: 64.9ms\n",
      "145:\tlearn: 1700.2076522\ttotal: 1.9s\tremaining: 51.9ms\n",
      "146:\tlearn: 1699.0826196\ttotal: 1.91s\tremaining: 39ms\n",
      "147:\tlearn: 1698.5661370\ttotal: 1.92s\tremaining: 26ms\n",
      "148:\tlearn: 1698.0412389\ttotal: 1.93s\tremaining: 13ms\n",
      "149:\tlearn: 1697.4932696\ttotal: 1.95s\tremaining: 0us\n",
      "Learning rate set to 0.367325\n",
      "0:\tlearn: 3722.9726583\ttotal: 21.7ms\tremaining: 3.44s\n",
      "1:\tlearn: 3117.8983333\ttotal: 40.5ms\tremaining: 3.2s\n",
      "2:\tlearn: 2794.4705604\ttotal: 53.8ms\tremaining: 2.81s\n",
      "3:\tlearn: 2578.2480435\ttotal: 67ms\tremaining: 2.61s\n",
      "4:\tlearn: 2445.0915764\ttotal: 79.7ms\tremaining: 2.47s\n",
      "5:\tlearn: 2345.3049479\ttotal: 93.1ms\tremaining: 2.39s\n",
      "6:\tlearn: 2285.5398791\ttotal: 105ms\tremaining: 2.3s\n",
      "7:\tlearn: 2239.2151566\ttotal: 119ms\tremaining: 2.26s\n",
      "8:\tlearn: 2183.2277628\ttotal: 133ms\tremaining: 2.24s\n",
      "9:\tlearn: 2148.8569061\ttotal: 146ms\tremaining: 2.19s\n",
      "10:\tlearn: 2114.9578204\ttotal: 160ms\tremaining: 2.16s\n",
      "11:\tlearn: 2090.3174631\ttotal: 172ms\tremaining: 2.12s\n",
      "12:\tlearn: 2070.1529254\ttotal: 185ms\tremaining: 2.1s\n",
      "13:\tlearn: 2052.2448772\ttotal: 198ms\tremaining: 2.06s\n",
      "14:\tlearn: 2039.6776829\ttotal: 210ms\tremaining: 2.03s\n",
      "15:\tlearn: 2022.2150069\ttotal: 224ms\tremaining: 2.01s\n",
      "16:\tlearn: 2014.3001112\ttotal: 237ms\tremaining: 2s\n",
      "17:\tlearn: 2007.6609704\ttotal: 250ms\tremaining: 1.97s\n",
      "18:\tlearn: 1996.7768278\ttotal: 264ms\tremaining: 1.96s\n",
      "19:\tlearn: 1982.7274218\ttotal: 277ms\tremaining: 1.94s\n",
      "20:\tlearn: 1974.6839355\ttotal: 290ms\tremaining: 1.92s\n",
      "21:\tlearn: 1969.9660748\ttotal: 303ms\tremaining: 1.9s\n",
      "22:\tlearn: 1962.7354913\ttotal: 317ms\tremaining: 1.89s\n",
      "23:\tlearn: 1957.8378433\ttotal: 329ms\tremaining: 1.86s\n",
      "24:\tlearn: 1951.3261681\ttotal: 341ms\tremaining: 1.84s\n",
      "25:\tlearn: 1945.9540684\ttotal: 355ms\tremaining: 1.83s\n",
      "26:\tlearn: 1940.3822963\ttotal: 368ms\tremaining: 1.81s\n",
      "27:\tlearn: 1935.6991993\ttotal: 380ms\tremaining: 1.79s\n",
      "28:\tlearn: 1928.4371250\ttotal: 393ms\tremaining: 1.77s\n",
      "29:\tlearn: 1923.4155211\ttotal: 407ms\tremaining: 1.76s\n",
      "30:\tlearn: 1920.2748355\ttotal: 419ms\tremaining: 1.74s\n",
      "31:\tlearn: 1912.1823833\ttotal: 436ms\tremaining: 1.74s\n",
      "32:\tlearn: 1907.5541861\ttotal: 448ms\tremaining: 1.73s\n",
      "33:\tlearn: 1901.9137517\ttotal: 462ms\tremaining: 1.71s\n",
      "34:\tlearn: 1897.8655971\ttotal: 474ms\tremaining: 1.69s\n",
      "35:\tlearn: 1893.4937146\ttotal: 487ms\tremaining: 1.68s\n",
      "36:\tlearn: 1889.5467070\ttotal: 500ms\tremaining: 1.66s\n",
      "37:\tlearn: 1886.3289791\ttotal: 513ms\tremaining: 1.65s\n",
      "38:\tlearn: 1882.2676378\ttotal: 526ms\tremaining: 1.63s\n",
      "39:\tlearn: 1877.9272455\ttotal: 540ms\tremaining: 1.62s\n",
      "40:\tlearn: 1873.3633297\ttotal: 554ms\tremaining: 1.61s\n",
      "41:\tlearn: 1871.2574052\ttotal: 567ms\tremaining: 1.59s\n",
      "42:\tlearn: 1868.9891413\ttotal: 579ms\tremaining: 1.57s\n",
      "43:\tlearn: 1865.1404176\ttotal: 592ms\tremaining: 1.56s\n",
      "44:\tlearn: 1862.6043972\ttotal: 604ms\tremaining: 1.54s\n",
      "45:\tlearn: 1859.3599589\ttotal: 620ms\tremaining: 1.54s\n",
      "46:\tlearn: 1856.1861212\ttotal: 635ms\tremaining: 1.52s\n",
      "47:\tlearn: 1852.6020556\ttotal: 647ms\tremaining: 1.51s\n",
      "48:\tlearn: 1849.4180618\ttotal: 660ms\tremaining: 1.49s\n",
      "49:\tlearn: 1847.2204565\ttotal: 673ms\tremaining: 1.48s\n",
      "50:\tlearn: 1845.4159618\ttotal: 685ms\tremaining: 1.46s\n",
      "51:\tlearn: 1843.4110903\ttotal: 698ms\tremaining: 1.45s\n",
      "52:\tlearn: 1840.3964841\ttotal: 711ms\tremaining: 1.44s\n",
      "53:\tlearn: 1838.3814105\ttotal: 724ms\tremaining: 1.42s\n",
      "54:\tlearn: 1835.6830655\ttotal: 736ms\tremaining: 1.41s\n",
      "55:\tlearn: 1833.0597013\ttotal: 750ms\tremaining: 1.39s\n",
      "56:\tlearn: 1830.8297249\ttotal: 762ms\tremaining: 1.38s\n",
      "57:\tlearn: 1828.4015973\ttotal: 776ms\tremaining: 1.36s\n",
      "58:\tlearn: 1826.8870960\ttotal: 788ms\tremaining: 1.35s\n",
      "59:\tlearn: 1824.8223735\ttotal: 801ms\tremaining: 1.33s\n",
      "60:\tlearn: 1821.5924180\ttotal: 816ms\tremaining: 1.32s\n",
      "61:\tlearn: 1819.5313161\ttotal: 831ms\tremaining: 1.31s\n",
      "62:\tlearn: 1815.8838984\ttotal: 846ms\tremaining: 1.3s\n",
      "63:\tlearn: 1812.6106355\ttotal: 859ms\tremaining: 1.29s\n",
      "64:\tlearn: 1811.1835549\ttotal: 872ms\tremaining: 1.27s\n",
      "65:\tlearn: 1809.1044143\ttotal: 884ms\tremaining: 1.26s\n",
      "66:\tlearn: 1806.2676221\ttotal: 899ms\tremaining: 1.25s\n",
      "67:\tlearn: 1804.2945278\ttotal: 913ms\tremaining: 1.23s\n",
      "68:\tlearn: 1802.2034351\ttotal: 927ms\tremaining: 1.22s\n",
      "69:\tlearn: 1801.0578324\ttotal: 939ms\tremaining: 1.21s\n",
      "70:\tlearn: 1798.8023620\ttotal: 953ms\tremaining: 1.19s\n",
      "71:\tlearn: 1797.0276906\ttotal: 966ms\tremaining: 1.18s\n",
      "72:\tlearn: 1794.9590457\ttotal: 978ms\tremaining: 1.17s\n",
      "73:\tlearn: 1792.3128183\ttotal: 998ms\tremaining: 1.16s\n",
      "74:\tlearn: 1790.3697146\ttotal: 1.01s\tremaining: 1.15s\n",
      "75:\tlearn: 1789.3599492\ttotal: 1.02s\tremaining: 1.13s\n",
      "76:\tlearn: 1788.4662740\ttotal: 1.04s\tremaining: 1.12s\n",
      "77:\tlearn: 1786.3992048\ttotal: 1.05s\tremaining: 1.1s\n",
      "78:\tlearn: 1784.7203547\ttotal: 1.06s\tremaining: 1.09s\n",
      "79:\tlearn: 1782.6375460\ttotal: 1.08s\tremaining: 1.08s\n",
      "80:\tlearn: 1781.5375177\ttotal: 1.09s\tremaining: 1.07s\n",
      "81:\tlearn: 1780.2237945\ttotal: 1.11s\tremaining: 1.05s\n",
      "82:\tlearn: 1778.8654583\ttotal: 1.12s\tremaining: 1.04s\n",
      "83:\tlearn: 1777.8308378\ttotal: 1.13s\tremaining: 1.02s\n",
      "84:\tlearn: 1775.9790243\ttotal: 1.15s\tremaining: 1.01s\n",
      "85:\tlearn: 1774.7986140\ttotal: 1.16s\tremaining: 998ms\n",
      "86:\tlearn: 1773.7593990\ttotal: 1.17s\tremaining: 985ms\n",
      "87:\tlearn: 1772.6184325\ttotal: 1.19s\tremaining: 970ms\n",
      "88:\tlearn: 1771.8909856\ttotal: 1.2s\tremaining: 956ms\n",
      "89:\tlearn: 1769.3329079\ttotal: 1.21s\tremaining: 943ms\n",
      "90:\tlearn: 1767.4783145\ttotal: 1.22s\tremaining: 929ms\n",
      "91:\tlearn: 1766.0689016\ttotal: 1.24s\tremaining: 915ms\n",
      "92:\tlearn: 1764.8628733\ttotal: 1.25s\tremaining: 900ms\n",
      "93:\tlearn: 1762.8711249\ttotal: 1.26s\tremaining: 886ms\n",
      "94:\tlearn: 1761.9807218\ttotal: 1.27s\tremaining: 872ms\n",
      "95:\tlearn: 1760.6273944\ttotal: 1.29s\tremaining: 857ms\n",
      "96:\tlearn: 1758.6602408\ttotal: 1.3s\tremaining: 844ms\n",
      "97:\tlearn: 1756.2246149\ttotal: 1.31s\tremaining: 831ms\n",
      "98:\tlearn: 1755.3403509\ttotal: 1.33s\tremaining: 817ms\n",
      "99:\tlearn: 1753.7461511\ttotal: 1.34s\tremaining: 804ms\n",
      "100:\tlearn: 1752.5217623\ttotal: 1.35s\tremaining: 791ms\n",
      "101:\tlearn: 1751.0048424\ttotal: 1.37s\tremaining: 778ms\n",
      "102:\tlearn: 1750.0151645\ttotal: 1.38s\tremaining: 764ms\n",
      "103:\tlearn: 1748.7017272\ttotal: 1.39s\tremaining: 751ms\n",
      "104:\tlearn: 1747.1450486\ttotal: 1.41s\tremaining: 737ms\n",
      "105:\tlearn: 1746.0716887\ttotal: 1.42s\tremaining: 723ms\n",
      "106:\tlearn: 1745.0689936\ttotal: 1.43s\tremaining: 709ms\n",
      "107:\tlearn: 1743.9569629\ttotal: 1.44s\tremaining: 695ms\n",
      "108:\tlearn: 1743.1279674\ttotal: 1.46s\tremaining: 681ms\n",
      "109:\tlearn: 1741.6974420\ttotal: 1.47s\tremaining: 668ms\n",
      "110:\tlearn: 1740.9399402\ttotal: 1.49s\tremaining: 656ms\n",
      "111:\tlearn: 1739.6180048\ttotal: 1.5s\tremaining: 644ms\n",
      "112:\tlearn: 1738.8687425\ttotal: 1.51s\tremaining: 630ms\n",
      "113:\tlearn: 1738.1182760\ttotal: 1.53s\tremaining: 617ms\n",
      "114:\tlearn: 1737.1266613\ttotal: 1.54s\tremaining: 603ms\n",
      "115:\tlearn: 1736.2593689\ttotal: 1.55s\tremaining: 590ms\n",
      "116:\tlearn: 1734.6160267\ttotal: 1.57s\tremaining: 576ms\n",
      "117:\tlearn: 1733.2806853\ttotal: 1.58s\tremaining: 563ms\n",
      "118:\tlearn: 1732.1592500\ttotal: 1.59s\tremaining: 549ms\n",
      "119:\tlearn: 1731.1535300\ttotal: 1.61s\tremaining: 536ms\n",
      "120:\tlearn: 1730.1186479\ttotal: 1.62s\tremaining: 523ms\n",
      "121:\tlearn: 1728.7888459\ttotal: 1.63s\tremaining: 509ms\n",
      "122:\tlearn: 1728.0801392\ttotal: 1.65s\tremaining: 496ms\n",
      "123:\tlearn: 1727.0058211\ttotal: 1.66s\tremaining: 482ms\n",
      "124:\tlearn: 1726.2477694\ttotal: 1.67s\tremaining: 469ms\n",
      "125:\tlearn: 1725.4791972\ttotal: 1.69s\tremaining: 455ms\n",
      "126:\tlearn: 1724.7358235\ttotal: 1.7s\tremaining: 441ms\n",
      "127:\tlearn: 1724.0241720\ttotal: 1.71s\tremaining: 428ms\n",
      "128:\tlearn: 1722.4848251\ttotal: 1.72s\tremaining: 414ms\n",
      "129:\tlearn: 1721.1875745\ttotal: 1.74s\tremaining: 401ms\n",
      "130:\tlearn: 1720.2245261\ttotal: 1.75s\tremaining: 388ms\n",
      "131:\tlearn: 1719.5357562\ttotal: 1.76s\tremaining: 374ms\n",
      "132:\tlearn: 1719.0181605\ttotal: 1.77s\tremaining: 360ms\n",
      "133:\tlearn: 1717.6622025\ttotal: 1.79s\tremaining: 347ms\n",
      "134:\tlearn: 1717.0970775\ttotal: 1.8s\tremaining: 334ms\n",
      "135:\tlearn: 1716.2083491\ttotal: 1.81s\tremaining: 320ms\n",
      "136:\tlearn: 1715.2646026\ttotal: 1.83s\tremaining: 307ms\n",
      "137:\tlearn: 1713.8232074\ttotal: 1.84s\tremaining: 293ms\n",
      "138:\tlearn: 1712.8551134\ttotal: 1.85s\tremaining: 280ms\n",
      "139:\tlearn: 1711.7217551\ttotal: 1.87s\tremaining: 267ms\n",
      "140:\tlearn: 1711.0652447\ttotal: 1.88s\tremaining: 253ms\n",
      "141:\tlearn: 1710.1606412\ttotal: 1.89s\tremaining: 240ms\n",
      "142:\tlearn: 1709.0666699\ttotal: 1.9s\tremaining: 226ms\n",
      "143:\tlearn: 1707.6717706\ttotal: 1.92s\tremaining: 213ms\n",
      "144:\tlearn: 1707.0525989\ttotal: 1.93s\tremaining: 200ms\n",
      "145:\tlearn: 1705.9369275\ttotal: 1.94s\tremaining: 186ms\n",
      "146:\tlearn: 1705.2842832\ttotal: 1.96s\tremaining: 173ms\n",
      "147:\tlearn: 1704.7258291\ttotal: 1.97s\tremaining: 160ms\n",
      "148:\tlearn: 1703.9150761\ttotal: 1.98s\tremaining: 146ms\n",
      "149:\tlearn: 1703.1350788\ttotal: 1.99s\tremaining: 133ms\n",
      "150:\tlearn: 1702.6557803\ttotal: 2.01s\tremaining: 120ms\n",
      "151:\tlearn: 1701.7595873\ttotal: 2.02s\tremaining: 106ms\n",
      "152:\tlearn: 1701.0924708\ttotal: 2.03s\tremaining: 93ms\n",
      "153:\tlearn: 1700.0128380\ttotal: 2.05s\tremaining: 79.9ms\n",
      "154:\tlearn: 1699.2356317\ttotal: 2.06s\tremaining: 66.5ms\n",
      "155:\tlearn: 1698.4052283\ttotal: 2.08s\tremaining: 53.2ms\n",
      "156:\tlearn: 1697.4551441\ttotal: 2.09s\tremaining: 40ms\n",
      "157:\tlearn: 1696.5418657\ttotal: 2.1s\tremaining: 26.6ms\n",
      "158:\tlearn: 1695.3943851\ttotal: 2.12s\tremaining: 13.3ms\n",
      "159:\tlearn: 1694.5617633\ttotal: 2.13s\tremaining: 0us\n",
      "Learning rate set to 0.367325\n",
      "0:\tlearn: 3705.5595408\ttotal: 12.9ms\tremaining: 2.06s\n",
      "1:\tlearn: 3115.8102862\ttotal: 25.1ms\tremaining: 1.99s\n",
      "2:\tlearn: 2778.3753825\ttotal: 38.7ms\tremaining: 2.03s\n",
      "3:\tlearn: 2572.4385350\ttotal: 50.8ms\tremaining: 1.98s\n",
      "4:\tlearn: 2451.2795679\ttotal: 63ms\tremaining: 1.95s\n",
      "5:\tlearn: 2343.7328013\ttotal: 75.3ms\tremaining: 1.93s\n",
      "6:\tlearn: 2281.0644813\ttotal: 88.6ms\tremaining: 1.94s\n",
      "7:\tlearn: 2232.6558217\ttotal: 106ms\tremaining: 2.01s\n",
      "8:\tlearn: 2174.4628468\ttotal: 118ms\tremaining: 1.98s\n",
      "9:\tlearn: 2139.9289741\ttotal: 131ms\tremaining: 1.96s\n",
      "10:\tlearn: 2115.7805784\ttotal: 143ms\tremaining: 1.94s\n",
      "11:\tlearn: 2078.2008372\ttotal: 156ms\tremaining: 1.92s\n",
      "12:\tlearn: 2062.6276193\ttotal: 167ms\tremaining: 1.88s\n",
      "13:\tlearn: 2047.7575311\ttotal: 179ms\tremaining: 1.87s\n",
      "14:\tlearn: 2033.0716010\ttotal: 191ms\tremaining: 1.84s\n",
      "15:\tlearn: 2019.4183974\ttotal: 204ms\tremaining: 1.83s\n",
      "16:\tlearn: 2011.9169126\ttotal: 220ms\tremaining: 1.85s\n",
      "17:\tlearn: 2004.3814146\ttotal: 234ms\tremaining: 1.84s\n",
      "18:\tlearn: 1990.7640175\ttotal: 249ms\tremaining: 1.85s\n",
      "19:\tlearn: 1979.0804607\ttotal: 267ms\tremaining: 1.87s\n",
      "20:\tlearn: 1970.3626607\ttotal: 284ms\tremaining: 1.88s\n",
      "21:\tlearn: 1964.8863026\ttotal: 296ms\tremaining: 1.85s\n",
      "22:\tlearn: 1957.3585276\ttotal: 308ms\tremaining: 1.83s\n",
      "23:\tlearn: 1945.9957121\ttotal: 320ms\tremaining: 1.81s\n",
      "24:\tlearn: 1941.4443739\ttotal: 333ms\tremaining: 1.8s\n",
      "25:\tlearn: 1936.7534524\ttotal: 345ms\tremaining: 1.78s\n",
      "26:\tlearn: 1930.8423822\ttotal: 357ms\tremaining: 1.76s\n",
      "27:\tlearn: 1925.9596488\ttotal: 369ms\tremaining: 1.74s\n",
      "28:\tlearn: 1918.9772781\ttotal: 383ms\tremaining: 1.73s\n",
      "29:\tlearn: 1913.6937147\ttotal: 395ms\tremaining: 1.71s\n",
      "30:\tlearn: 1909.0898130\ttotal: 408ms\tremaining: 1.7s\n",
      "31:\tlearn: 1904.5614437\ttotal: 420ms\tremaining: 1.68s\n",
      "32:\tlearn: 1900.3172864\ttotal: 433ms\tremaining: 1.67s\n",
      "33:\tlearn: 1897.0737187\ttotal: 447ms\tremaining: 1.66s\n",
      "34:\tlearn: 1892.6605336\ttotal: 459ms\tremaining: 1.64s\n",
      "35:\tlearn: 1888.2104173\ttotal: 472ms\tremaining: 1.62s\n",
      "36:\tlearn: 1884.8578318\ttotal: 484ms\tremaining: 1.61s\n",
      "37:\tlearn: 1880.9243834\ttotal: 497ms\tremaining: 1.6s\n",
      "38:\tlearn: 1878.0169838\ttotal: 510ms\tremaining: 1.58s\n",
      "39:\tlearn: 1872.9156697\ttotal: 523ms\tremaining: 1.57s\n",
      "40:\tlearn: 1870.0349376\ttotal: 535ms\tremaining: 1.55s\n",
      "41:\tlearn: 1866.0540881\ttotal: 548ms\tremaining: 1.54s\n",
      "42:\tlearn: 1862.7502914\ttotal: 562ms\tremaining: 1.53s\n",
      "43:\tlearn: 1860.6248789\ttotal: 574ms\tremaining: 1.51s\n",
      "44:\tlearn: 1858.0468730\ttotal: 587ms\tremaining: 1.5s\n",
      "45:\tlearn: 1856.2039704\ttotal: 599ms\tremaining: 1.48s\n",
      "46:\tlearn: 1853.3739878\ttotal: 612ms\tremaining: 1.47s\n",
      "47:\tlearn: 1851.0532376\ttotal: 625ms\tremaining: 1.46s\n",
      "48:\tlearn: 1848.1315168\ttotal: 639ms\tremaining: 1.45s\n",
      "49:\tlearn: 1844.6674488\ttotal: 652ms\tremaining: 1.43s\n",
      "50:\tlearn: 1842.5804729\ttotal: 665ms\tremaining: 1.42s\n",
      "51:\tlearn: 1839.8747455\ttotal: 677ms\tremaining: 1.41s\n",
      "52:\tlearn: 1836.8413618\ttotal: 689ms\tremaining: 1.39s\n",
      "53:\tlearn: 1834.5018740\ttotal: 702ms\tremaining: 1.38s\n",
      "54:\tlearn: 1831.9876287\ttotal: 715ms\tremaining: 1.36s\n",
      "55:\tlearn: 1829.9776758\ttotal: 727ms\tremaining: 1.35s\n",
      "56:\tlearn: 1826.0367190\ttotal: 740ms\tremaining: 1.34s\n",
      "57:\tlearn: 1822.7360788\ttotal: 754ms\tremaining: 1.32s\n",
      "58:\tlearn: 1821.3671684\ttotal: 766ms\tremaining: 1.31s\n",
      "59:\tlearn: 1819.2859388\ttotal: 779ms\tremaining: 1.3s\n",
      "60:\tlearn: 1816.2481693\ttotal: 792ms\tremaining: 1.28s\n",
      "61:\tlearn: 1814.5377206\ttotal: 806ms\tremaining: 1.27s\n",
      "62:\tlearn: 1813.4485045\ttotal: 818ms\tremaining: 1.26s\n",
      "63:\tlearn: 1810.6495425\ttotal: 834ms\tremaining: 1.25s\n",
      "64:\tlearn: 1809.4452684\ttotal: 847ms\tremaining: 1.24s\n",
      "65:\tlearn: 1807.8384051\ttotal: 863ms\tremaining: 1.23s\n",
      "66:\tlearn: 1806.1667464\ttotal: 877ms\tremaining: 1.22s\n",
      "67:\tlearn: 1804.7037275\ttotal: 891ms\tremaining: 1.21s\n",
      "68:\tlearn: 1803.3493757\ttotal: 904ms\tremaining: 1.19s\n",
      "69:\tlearn: 1801.7178034\ttotal: 917ms\tremaining: 1.18s\n",
      "70:\tlearn: 1799.1805157\ttotal: 932ms\tremaining: 1.17s\n",
      "71:\tlearn: 1796.5314033\ttotal: 945ms\tremaining: 1.16s\n",
      "72:\tlearn: 1794.6078102\ttotal: 958ms\tremaining: 1.14s\n",
      "73:\tlearn: 1793.2719241\ttotal: 970ms\tremaining: 1.13s\n",
      "74:\tlearn: 1791.7298759\ttotal: 982ms\tremaining: 1.11s\n",
      "75:\tlearn: 1789.9843976\ttotal: 995ms\tremaining: 1.1s\n",
      "76:\tlearn: 1788.8354205\ttotal: 1.01s\tremaining: 1.08s\n",
      "77:\tlearn: 1787.5375569\ttotal: 1.02s\tremaining: 1.07s\n",
      "78:\tlearn: 1786.7741457\ttotal: 1.03s\tremaining: 1.06s\n",
      "79:\tlearn: 1784.0116800\ttotal: 1.04s\tremaining: 1.04s\n",
      "80:\tlearn: 1782.8420996\ttotal: 1.06s\tremaining: 1.03s\n",
      "81:\tlearn: 1781.2535120\ttotal: 1.07s\tremaining: 1.02s\n",
      "82:\tlearn: 1779.8036775\ttotal: 1.08s\tremaining: 1s\n",
      "83:\tlearn: 1777.8219720\ttotal: 1.09s\tremaining: 991ms\n",
      "84:\tlearn: 1776.2168830\ttotal: 1.11s\tremaining: 978ms\n",
      "85:\tlearn: 1774.7445142\ttotal: 1.12s\tremaining: 965ms\n",
      "86:\tlearn: 1773.6468286\ttotal: 1.13s\tremaining: 951ms\n",
      "87:\tlearn: 1771.4772800\ttotal: 1.15s\tremaining: 938ms\n",
      "88:\tlearn: 1770.1137641\ttotal: 1.16s\tremaining: 924ms\n",
      "89:\tlearn: 1768.9580186\ttotal: 1.17s\tremaining: 911ms\n",
      "90:\tlearn: 1767.6112418\ttotal: 1.18s\tremaining: 897ms\n",
      "91:\tlearn: 1766.2309836\ttotal: 1.2s\tremaining: 885ms\n",
      "92:\tlearn: 1765.4527962\ttotal: 1.21s\tremaining: 871ms\n",
      "93:\tlearn: 1764.1652775\ttotal: 1.22s\tremaining: 858ms\n",
      "94:\tlearn: 1762.7372855\ttotal: 1.23s\tremaining: 844ms\n",
      "95:\tlearn: 1761.4921336\ttotal: 1.25s\tremaining: 831ms\n",
      "96:\tlearn: 1760.2227371\ttotal: 1.26s\tremaining: 818ms\n",
      "97:\tlearn: 1758.6974801\ttotal: 1.27s\tremaining: 804ms\n",
      "98:\tlearn: 1756.7846567\ttotal: 1.28s\tremaining: 792ms\n",
      "99:\tlearn: 1755.2930460\ttotal: 1.3s\tremaining: 779ms\n",
      "100:\tlearn: 1753.9822411\ttotal: 1.31s\tremaining: 766ms\n",
      "101:\tlearn: 1752.5624638\ttotal: 1.32s\tremaining: 753ms\n",
      "102:\tlearn: 1751.7881188\ttotal: 1.34s\tremaining: 740ms\n",
      "103:\tlearn: 1751.1741556\ttotal: 1.35s\tremaining: 726ms\n",
      "104:\tlearn: 1749.8334396\ttotal: 1.36s\tremaining: 713ms\n",
      "105:\tlearn: 1748.2947668\ttotal: 1.37s\tremaining: 700ms\n",
      "106:\tlearn: 1746.6509333\ttotal: 1.39s\tremaining: 687ms\n",
      "107:\tlearn: 1745.8940513\ttotal: 1.4s\tremaining: 674ms\n",
      "108:\tlearn: 1744.6284713\ttotal: 1.41s\tremaining: 661ms\n",
      "109:\tlearn: 1743.3481945\ttotal: 1.42s\tremaining: 648ms\n",
      "110:\tlearn: 1741.8957932\ttotal: 1.44s\tremaining: 635ms\n",
      "111:\tlearn: 1741.2668842\ttotal: 1.45s\tremaining: 621ms\n",
      "112:\tlearn: 1740.4304185\ttotal: 1.46s\tremaining: 607ms\n",
      "113:\tlearn: 1739.1809208\ttotal: 1.47s\tremaining: 595ms\n",
      "114:\tlearn: 1738.2754448\ttotal: 1.49s\tremaining: 582ms\n",
      "115:\tlearn: 1736.6619224\ttotal: 1.5s\tremaining: 570ms\n",
      "116:\tlearn: 1735.3283376\ttotal: 1.52s\tremaining: 557ms\n",
      "117:\tlearn: 1734.2144556\ttotal: 1.53s\tremaining: 544ms\n",
      "118:\tlearn: 1733.1590881\ttotal: 1.54s\tremaining: 531ms\n",
      "119:\tlearn: 1730.8950505\ttotal: 1.55s\tremaining: 518ms\n",
      "120:\tlearn: 1729.9496213\ttotal: 1.57s\tremaining: 505ms\n",
      "121:\tlearn: 1728.6531303\ttotal: 1.58s\tremaining: 493ms\n",
      "122:\tlearn: 1727.9625890\ttotal: 1.59s\tremaining: 480ms\n",
      "123:\tlearn: 1726.6299015\ttotal: 1.61s\tremaining: 468ms\n",
      "124:\tlearn: 1725.9071172\ttotal: 1.62s\tremaining: 455ms\n",
      "125:\tlearn: 1724.7742865\ttotal: 1.64s\tremaining: 442ms\n",
      "126:\tlearn: 1723.3997097\ttotal: 1.65s\tremaining: 430ms\n",
      "127:\tlearn: 1722.2235276\ttotal: 1.67s\tremaining: 417ms\n",
      "128:\tlearn: 1721.3586378\ttotal: 1.68s\tremaining: 404ms\n",
      "129:\tlearn: 1720.7102157\ttotal: 1.69s\tremaining: 391ms\n",
      "130:\tlearn: 1719.2378837\ttotal: 1.71s\tremaining: 378ms\n",
      "131:\tlearn: 1718.2650582\ttotal: 1.72s\tremaining: 365ms\n",
      "132:\tlearn: 1717.4380028\ttotal: 1.73s\tremaining: 352ms\n",
      "133:\tlearn: 1716.6563513\ttotal: 1.75s\tremaining: 339ms\n",
      "134:\tlearn: 1715.9628524\ttotal: 1.76s\tremaining: 326ms\n",
      "135:\tlearn: 1715.3602822\ttotal: 1.77s\tremaining: 313ms\n",
      "136:\tlearn: 1714.2784189\ttotal: 1.78s\tremaining: 300ms\n",
      "137:\tlearn: 1713.6132268\ttotal: 1.79s\tremaining: 286ms\n",
      "138:\tlearn: 1712.3610889\ttotal: 1.81s\tremaining: 273ms\n",
      "139:\tlearn: 1710.9031582\ttotal: 1.82s\tremaining: 260ms\n",
      "140:\tlearn: 1709.8586211\ttotal: 1.83s\tremaining: 247ms\n",
      "141:\tlearn: 1709.2618725\ttotal: 1.85s\tremaining: 234ms\n",
      "142:\tlearn: 1708.2788853\ttotal: 1.86s\tremaining: 221ms\n",
      "143:\tlearn: 1707.7819541\ttotal: 1.87s\tremaining: 208ms\n",
      "144:\tlearn: 1706.8468823\ttotal: 1.89s\tremaining: 195ms\n",
      "145:\tlearn: 1705.6048964\ttotal: 1.9s\tremaining: 182ms\n",
      "146:\tlearn: 1704.4488139\ttotal: 1.91s\tremaining: 169ms\n",
      "147:\tlearn: 1703.9369549\ttotal: 1.92s\tremaining: 156ms\n",
      "148:\tlearn: 1703.4621602\ttotal: 1.94s\tremaining: 143ms\n",
      "149:\tlearn: 1702.8687572\ttotal: 1.95s\tremaining: 130ms\n",
      "150:\tlearn: 1702.1994130\ttotal: 1.96s\tremaining: 117ms\n",
      "151:\tlearn: 1701.3458562\ttotal: 1.97s\tremaining: 104ms\n",
      "152:\tlearn: 1700.8276738\ttotal: 1.98s\tremaining: 90.8ms\n",
      "153:\tlearn: 1698.6790488\ttotal: 2s\tremaining: 77.9ms\n",
      "154:\tlearn: 1697.8701171\ttotal: 2.01s\tremaining: 65ms\n",
      "155:\tlearn: 1697.2349965\ttotal: 2.03s\tremaining: 52ms\n",
      "156:\tlearn: 1696.4524621\ttotal: 2.04s\tremaining: 39ms\n",
      "157:\tlearn: 1695.7114026\ttotal: 2.06s\tremaining: 26ms\n",
      "158:\tlearn: 1694.7442125\ttotal: 2.07s\tremaining: 13ms\n",
      "159:\tlearn: 1693.5525709\ttotal: 2.08s\tremaining: 0us\n",
      "Learning rate set to 0.367326\n",
      "0:\tlearn: 3708.8602634\ttotal: 13.4ms\tremaining: 2.13s\n",
      "1:\tlearn: 3112.6881476\ttotal: 26.5ms\tremaining: 2.1s\n",
      "2:\tlearn: 2766.0040395\ttotal: 39.4ms\tremaining: 2.06s\n",
      "3:\tlearn: 2556.3707450\ttotal: 52.5ms\tremaining: 2.05s\n",
      "4:\tlearn: 2434.1606366\ttotal: 65.3ms\tremaining: 2.02s\n",
      "5:\tlearn: 2342.1561145\ttotal: 77.6ms\tremaining: 1.99s\n",
      "6:\tlearn: 2267.5598460\ttotal: 90.7ms\tremaining: 1.98s\n",
      "7:\tlearn: 2218.7291112\ttotal: 104ms\tremaining: 1.97s\n",
      "8:\tlearn: 2180.2472494\ttotal: 116ms\tremaining: 1.95s\n",
      "9:\tlearn: 2140.4375080\ttotal: 129ms\tremaining: 1.93s\n",
      "10:\tlearn: 2102.1277229\ttotal: 145ms\tremaining: 1.96s\n",
      "11:\tlearn: 2080.4032232\ttotal: 161ms\tremaining: 1.99s\n",
      "12:\tlearn: 2060.5973312\ttotal: 177ms\tremaining: 2.01s\n",
      "13:\tlearn: 2048.8020994\ttotal: 195ms\tremaining: 2.03s\n",
      "14:\tlearn: 2032.4373714\ttotal: 212ms\tremaining: 2.05s\n",
      "15:\tlearn: 2022.2286708\ttotal: 227ms\tremaining: 2.04s\n",
      "16:\tlearn: 2007.3840998\ttotal: 243ms\tremaining: 2.04s\n",
      "17:\tlearn: 1995.3960904\ttotal: 255ms\tremaining: 2.01s\n",
      "18:\tlearn: 1986.9461005\ttotal: 267ms\tremaining: 1.98s\n",
      "19:\tlearn: 1978.3420635\ttotal: 280ms\tremaining: 1.96s\n",
      "20:\tlearn: 1971.4459669\ttotal: 294ms\tremaining: 1.94s\n",
      "21:\tlearn: 1963.7153400\ttotal: 306ms\tremaining: 1.92s\n",
      "22:\tlearn: 1957.8277650\ttotal: 318ms\tremaining: 1.89s\n",
      "23:\tlearn: 1946.0687471\ttotal: 332ms\tremaining: 1.88s\n",
      "24:\tlearn: 1943.0572445\ttotal: 344ms\tremaining: 1.86s\n",
      "25:\tlearn: 1935.7891743\ttotal: 357ms\tremaining: 1.84s\n",
      "26:\tlearn: 1927.8855249\ttotal: 371ms\tremaining: 1.83s\n",
      "27:\tlearn: 1923.0264640\ttotal: 384ms\tremaining: 1.81s\n",
      "28:\tlearn: 1918.9302123\ttotal: 397ms\tremaining: 1.79s\n",
      "29:\tlearn: 1912.4582853\ttotal: 410ms\tremaining: 1.78s\n",
      "30:\tlearn: 1907.0454457\ttotal: 423ms\tremaining: 1.76s\n",
      "31:\tlearn: 1903.5332127\ttotal: 435ms\tremaining: 1.74s\n",
      "32:\tlearn: 1896.7404803\ttotal: 448ms\tremaining: 1.72s\n",
      "33:\tlearn: 1893.2008462\ttotal: 461ms\tremaining: 1.71s\n",
      "34:\tlearn: 1887.4486329\ttotal: 476ms\tremaining: 1.7s\n",
      "35:\tlearn: 1884.1815377\ttotal: 492ms\tremaining: 1.7s\n",
      "36:\tlearn: 1881.1814578\ttotal: 510ms\tremaining: 1.69s\n",
      "37:\tlearn: 1876.5158342\ttotal: 524ms\tremaining: 1.68s\n",
      "38:\tlearn: 1873.0475556\ttotal: 536ms\tremaining: 1.66s\n",
      "39:\tlearn: 1868.5951312\ttotal: 549ms\tremaining: 1.65s\n",
      "40:\tlearn: 1864.9345292\ttotal: 561ms\tremaining: 1.63s\n",
      "41:\tlearn: 1861.9071460\ttotal: 573ms\tremaining: 1.61s\n",
      "42:\tlearn: 1857.4353137\ttotal: 586ms\tremaining: 1.59s\n",
      "43:\tlearn: 1854.1208749\ttotal: 598ms\tremaining: 1.58s\n",
      "44:\tlearn: 1851.0014284\ttotal: 611ms\tremaining: 1.56s\n",
      "45:\tlearn: 1848.6796788\ttotal: 623ms\tremaining: 1.54s\n",
      "46:\tlearn: 1845.8220708\ttotal: 637ms\tremaining: 1.53s\n",
      "47:\tlearn: 1841.4075550\ttotal: 650ms\tremaining: 1.52s\n",
      "48:\tlearn: 1838.7098922\ttotal: 663ms\tremaining: 1.5s\n",
      "49:\tlearn: 1835.9055065\ttotal: 676ms\tremaining: 1.49s\n",
      "50:\tlearn: 1833.3016967\ttotal: 691ms\tremaining: 1.48s\n",
      "51:\tlearn: 1831.7073328\ttotal: 703ms\tremaining: 1.46s\n",
      "52:\tlearn: 1829.3336617\ttotal: 715ms\tremaining: 1.44s\n",
      "53:\tlearn: 1827.4202561\ttotal: 728ms\tremaining: 1.43s\n",
      "54:\tlearn: 1825.2974681\ttotal: 740ms\tremaining: 1.41s\n",
      "55:\tlearn: 1823.4646503\ttotal: 752ms\tremaining: 1.4s\n",
      "56:\tlearn: 1821.4951771\ttotal: 764ms\tremaining: 1.38s\n",
      "57:\tlearn: 1817.9388366\ttotal: 778ms\tremaining: 1.37s\n",
      "58:\tlearn: 1814.6255725\ttotal: 792ms\tremaining: 1.36s\n",
      "59:\tlearn: 1813.0828466\ttotal: 804ms\tremaining: 1.34s\n",
      "60:\tlearn: 1811.0582050\ttotal: 817ms\tremaining: 1.32s\n",
      "61:\tlearn: 1808.9810354\ttotal: 830ms\tremaining: 1.31s\n",
      "62:\tlearn: 1807.6214307\ttotal: 843ms\tremaining: 1.3s\n",
      "63:\tlearn: 1804.6144040\ttotal: 856ms\tremaining: 1.28s\n",
      "64:\tlearn: 1803.2478859\ttotal: 869ms\tremaining: 1.27s\n",
      "65:\tlearn: 1800.9798476\ttotal: 882ms\tremaining: 1.25s\n",
      "66:\tlearn: 1799.0791456\ttotal: 894ms\tremaining: 1.24s\n",
      "67:\tlearn: 1797.9566301\ttotal: 908ms\tremaining: 1.23s\n",
      "68:\tlearn: 1796.2243605\ttotal: 922ms\tremaining: 1.22s\n",
      "69:\tlearn: 1794.2875729\ttotal: 934ms\tremaining: 1.2s\n",
      "70:\tlearn: 1792.1015736\ttotal: 947ms\tremaining: 1.19s\n",
      "71:\tlearn: 1790.3072822\ttotal: 960ms\tremaining: 1.17s\n",
      "72:\tlearn: 1788.7015331\ttotal: 972ms\tremaining: 1.16s\n",
      "73:\tlearn: 1786.1365695\ttotal: 985ms\tremaining: 1.14s\n",
      "74:\tlearn: 1784.1839497\ttotal: 998ms\tremaining: 1.13s\n",
      "75:\tlearn: 1782.8318096\ttotal: 1.01s\tremaining: 1.12s\n",
      "76:\tlearn: 1781.4328476\ttotal: 1.02s\tremaining: 1.1s\n",
      "77:\tlearn: 1779.4087432\ttotal: 1.04s\tremaining: 1.09s\n",
      "78:\tlearn: 1777.7402471\ttotal: 1.05s\tremaining: 1.08s\n",
      "79:\tlearn: 1776.3426024\ttotal: 1.06s\tremaining: 1.06s\n",
      "80:\tlearn: 1774.9282695\ttotal: 1.08s\tremaining: 1.05s\n",
      "81:\tlearn: 1773.9726065\ttotal: 1.09s\tremaining: 1.04s\n",
      "82:\tlearn: 1772.4604340\ttotal: 1.1s\tremaining: 1.02s\n",
      "83:\tlearn: 1771.2822060\ttotal: 1.11s\tremaining: 1.01s\n",
      "84:\tlearn: 1769.5549467\ttotal: 1.13s\tremaining: 997ms\n",
      "85:\tlearn: 1768.4443288\ttotal: 1.14s\tremaining: 983ms\n",
      "86:\tlearn: 1767.1907158\ttotal: 1.15s\tremaining: 968ms\n",
      "87:\tlearn: 1765.9719863\ttotal: 1.17s\tremaining: 957ms\n",
      "88:\tlearn: 1764.6031962\ttotal: 1.18s\tremaining: 945ms\n",
      "89:\tlearn: 1763.1404176\ttotal: 1.2s\tremaining: 932ms\n",
      "90:\tlearn: 1761.1896834\ttotal: 1.21s\tremaining: 919ms\n",
      "91:\tlearn: 1759.8074383\ttotal: 1.22s\tremaining: 905ms\n",
      "92:\tlearn: 1758.5637374\ttotal: 1.24s\tremaining: 891ms\n",
      "93:\tlearn: 1757.2988357\ttotal: 1.25s\tremaining: 877ms\n",
      "94:\tlearn: 1756.1967850\ttotal: 1.26s\tremaining: 865ms\n",
      "95:\tlearn: 1755.2000083\ttotal: 1.28s\tremaining: 851ms\n",
      "96:\tlearn: 1754.1925276\ttotal: 1.29s\tremaining: 837ms\n",
      "97:\tlearn: 1752.4660844\ttotal: 1.3s\tremaining: 823ms\n",
      "98:\tlearn: 1751.3704070\ttotal: 1.31s\tremaining: 809ms\n",
      "99:\tlearn: 1748.6158434\ttotal: 1.33s\tremaining: 796ms\n",
      "100:\tlearn: 1747.6876840\ttotal: 1.34s\tremaining: 782ms\n",
      "101:\tlearn: 1746.6553796\ttotal: 1.35s\tremaining: 768ms\n",
      "102:\tlearn: 1745.7162895\ttotal: 1.36s\tremaining: 754ms\n",
      "103:\tlearn: 1744.9840129\ttotal: 1.37s\tremaining: 739ms\n",
      "104:\tlearn: 1744.0507767\ttotal: 1.38s\tremaining: 725ms\n",
      "105:\tlearn: 1743.3312249\ttotal: 1.4s\tremaining: 711ms\n",
      "106:\tlearn: 1742.3529633\ttotal: 1.41s\tremaining: 697ms\n",
      "107:\tlearn: 1741.1524925\ttotal: 1.42s\tremaining: 683ms\n",
      "108:\tlearn: 1740.1630082\ttotal: 1.43s\tremaining: 670ms\n",
      "109:\tlearn: 1739.3174196\ttotal: 1.45s\tremaining: 657ms\n",
      "110:\tlearn: 1737.9775477\ttotal: 1.46s\tremaining: 643ms\n",
      "111:\tlearn: 1736.5285793\ttotal: 1.47s\tremaining: 630ms\n",
      "112:\tlearn: 1735.3659058\ttotal: 1.48s\tremaining: 617ms\n",
      "113:\tlearn: 1734.6975768\ttotal: 1.49s\tremaining: 603ms\n",
      "114:\tlearn: 1734.0157860\ttotal: 1.5s\tremaining: 589ms\n",
      "115:\tlearn: 1732.7185060\ttotal: 1.52s\tremaining: 575ms\n",
      "116:\tlearn: 1731.1610784\ttotal: 1.53s\tremaining: 562ms\n",
      "117:\tlearn: 1730.2589322\ttotal: 1.54s\tremaining: 548ms\n",
      "118:\tlearn: 1729.3268845\ttotal: 1.55s\tremaining: 535ms\n",
      "119:\tlearn: 1727.9259949\ttotal: 1.56s\tremaining: 521ms\n",
      "120:\tlearn: 1727.1393155\ttotal: 1.58s\tremaining: 508ms\n",
      "121:\tlearn: 1725.8986987\ttotal: 1.59s\tremaining: 495ms\n",
      "122:\tlearn: 1724.3949966\ttotal: 1.6s\tremaining: 482ms\n",
      "123:\tlearn: 1723.2212139\ttotal: 1.61s\tremaining: 469ms\n",
      "124:\tlearn: 1722.2290589\ttotal: 1.63s\tremaining: 456ms\n",
      "125:\tlearn: 1721.0453562\ttotal: 1.64s\tremaining: 442ms\n",
      "126:\tlearn: 1720.2963577\ttotal: 1.65s\tremaining: 429ms\n",
      "127:\tlearn: 1719.2931824\ttotal: 1.66s\tremaining: 416ms\n",
      "128:\tlearn: 1718.4360274\ttotal: 1.68s\tremaining: 403ms\n",
      "129:\tlearn: 1717.6742627\ttotal: 1.69s\tremaining: 389ms\n",
      "130:\tlearn: 1716.9644483\ttotal: 1.7s\tremaining: 376ms\n",
      "131:\tlearn: 1716.0522590\ttotal: 1.71s\tremaining: 363ms\n",
      "132:\tlearn: 1714.9340838\ttotal: 1.72s\tremaining: 350ms\n",
      "133:\tlearn: 1714.2036843\ttotal: 1.73s\tremaining: 337ms\n",
      "134:\tlearn: 1713.5148911\ttotal: 1.74s\tremaining: 323ms\n",
      "135:\tlearn: 1712.4651146\ttotal: 1.76s\tremaining: 310ms\n",
      "136:\tlearn: 1711.6082389\ttotal: 1.77s\tremaining: 297ms\n",
      "137:\tlearn: 1710.9117345\ttotal: 1.78s\tremaining: 284ms\n",
      "138:\tlearn: 1709.9104578\ttotal: 1.79s\tremaining: 271ms\n",
      "139:\tlearn: 1708.3632028\ttotal: 1.8s\tremaining: 258ms\n",
      "140:\tlearn: 1707.5844050\ttotal: 1.82s\tremaining: 245ms\n",
      "141:\tlearn: 1706.4825109\ttotal: 1.83s\tremaining: 232ms\n",
      "142:\tlearn: 1705.0544494\ttotal: 1.84s\tremaining: 219ms\n",
      "143:\tlearn: 1703.9733597\ttotal: 1.86s\tremaining: 206ms\n",
      "144:\tlearn: 1703.2467064\ttotal: 1.87s\tremaining: 194ms\n",
      "145:\tlearn: 1702.6625074\ttotal: 1.88s\tremaining: 181ms\n",
      "146:\tlearn: 1701.9832594\ttotal: 1.9s\tremaining: 168ms\n",
      "147:\tlearn: 1700.9606188\ttotal: 1.91s\tremaining: 155ms\n",
      "148:\tlearn: 1700.0165373\ttotal: 1.92s\tremaining: 142ms\n",
      "149:\tlearn: 1698.9527801\ttotal: 1.94s\tremaining: 129ms\n",
      "150:\tlearn: 1698.1148363\ttotal: 1.95s\tremaining: 116ms\n",
      "151:\tlearn: 1697.4177666\ttotal: 1.96s\tremaining: 103ms\n",
      "152:\tlearn: 1697.0185645\ttotal: 1.97s\tremaining: 90.3ms\n",
      "153:\tlearn: 1695.9206196\ttotal: 1.99s\tremaining: 77.4ms\n",
      "154:\tlearn: 1695.3425087\ttotal: 2s\tremaining: 64.5ms\n",
      "155:\tlearn: 1694.4259584\ttotal: 2.01s\tremaining: 51.6ms\n",
      "156:\tlearn: 1694.1364108\ttotal: 2.02s\tremaining: 38.7ms\n",
      "157:\tlearn: 1693.1979780\ttotal: 2.04s\tremaining: 25.8ms\n",
      "158:\tlearn: 1691.9956803\ttotal: 2.05s\tremaining: 12.9ms\n",
      "159:\tlearn: 1690.9654765\ttotal: 2.07s\tremaining: 0us\n",
      "Learning rate set to 0.367326\n",
      "0:\tlearn: 3726.3573253\ttotal: 13.7ms\tremaining: 2.17s\n",
      "1:\tlearn: 3138.7586691\ttotal: 27ms\tremaining: 2.13s\n",
      "2:\tlearn: 2798.5301442\ttotal: 40.2ms\tremaining: 2.1s\n",
      "3:\tlearn: 2570.2206206\ttotal: 60.3ms\tremaining: 2.35s\n",
      "4:\tlearn: 2448.8304633\ttotal: 74.6ms\tremaining: 2.31s\n",
      "5:\tlearn: 2342.6903269\ttotal: 87.6ms\tremaining: 2.25s\n",
      "6:\tlearn: 2279.0802563\ttotal: 100ms\tremaining: 2.19s\n",
      "7:\tlearn: 2231.2404044\ttotal: 114ms\tremaining: 2.16s\n",
      "8:\tlearn: 2171.4287433\ttotal: 127ms\tremaining: 2.13s\n",
      "9:\tlearn: 2135.5319222\ttotal: 140ms\tremaining: 2.1s\n",
      "10:\tlearn: 2102.4716058\ttotal: 153ms\tremaining: 2.07s\n",
      "11:\tlearn: 2083.0909800\ttotal: 165ms\tremaining: 2.04s\n",
      "12:\tlearn: 2065.0833109\ttotal: 178ms\tremaining: 2.01s\n",
      "13:\tlearn: 2051.6408853\ttotal: 190ms\tremaining: 1.98s\n",
      "14:\tlearn: 2038.1827975\ttotal: 201ms\tremaining: 1.95s\n",
      "15:\tlearn: 2025.1189621\ttotal: 214ms\tremaining: 1.92s\n",
      "16:\tlearn: 2010.9242260\ttotal: 227ms\tremaining: 1.91s\n",
      "17:\tlearn: 1995.1854638\ttotal: 240ms\tremaining: 1.89s\n",
      "18:\tlearn: 1989.4774608\ttotal: 252ms\tremaining: 1.87s\n",
      "19:\tlearn: 1981.6832765\ttotal: 265ms\tremaining: 1.85s\n",
      "20:\tlearn: 1971.7812950\ttotal: 279ms\tremaining: 1.84s\n",
      "21:\tlearn: 1962.6594216\ttotal: 291ms\tremaining: 1.83s\n",
      "22:\tlearn: 1958.3642969\ttotal: 303ms\tremaining: 1.8s\n",
      "23:\tlearn: 1950.2660234\ttotal: 316ms\tremaining: 1.79s\n",
      "24:\tlearn: 1941.6088760\ttotal: 330ms\tremaining: 1.78s\n",
      "25:\tlearn: 1934.6084940\ttotal: 343ms\tremaining: 1.77s\n",
      "26:\tlearn: 1929.0676306\ttotal: 354ms\tremaining: 1.75s\n",
      "27:\tlearn: 1923.4616675\ttotal: 369ms\tremaining: 1.74s\n",
      "28:\tlearn: 1919.7300586\ttotal: 381ms\tremaining: 1.72s\n",
      "29:\tlearn: 1915.9994812\ttotal: 394ms\tremaining: 1.71s\n",
      "30:\tlearn: 1912.0029589\ttotal: 407ms\tremaining: 1.69s\n",
      "31:\tlearn: 1909.0175745\ttotal: 419ms\tremaining: 1.68s\n",
      "32:\tlearn: 1905.9042867\ttotal: 432ms\tremaining: 1.66s\n",
      "33:\tlearn: 1899.6364228\ttotal: 445ms\tremaining: 1.65s\n",
      "34:\tlearn: 1897.2391709\ttotal: 457ms\tremaining: 1.63s\n",
      "35:\tlearn: 1893.2216025\ttotal: 470ms\tremaining: 1.62s\n",
      "36:\tlearn: 1888.3895710\ttotal: 482ms\tremaining: 1.6s\n",
      "37:\tlearn: 1882.7024743\ttotal: 495ms\tremaining: 1.59s\n",
      "38:\tlearn: 1879.8694149\ttotal: 507ms\tremaining: 1.57s\n",
      "39:\tlearn: 1875.4643108\ttotal: 519ms\tremaining: 1.56s\n",
      "40:\tlearn: 1869.4122416\ttotal: 533ms\tremaining: 1.55s\n",
      "41:\tlearn: 1864.9885809\ttotal: 548ms\tremaining: 1.54s\n",
      "42:\tlearn: 1862.3542523\ttotal: 561ms\tremaining: 1.52s\n",
      "43:\tlearn: 1860.6054638\ttotal: 573ms\tremaining: 1.51s\n",
      "44:\tlearn: 1858.5393972\ttotal: 586ms\tremaining: 1.5s\n",
      "45:\tlearn: 1855.6878735\ttotal: 598ms\tremaining: 1.48s\n",
      "46:\tlearn: 1853.0132732\ttotal: 610ms\tremaining: 1.47s\n",
      "47:\tlearn: 1850.5967712\ttotal: 623ms\tremaining: 1.45s\n",
      "48:\tlearn: 1848.4919254\ttotal: 636ms\tremaining: 1.44s\n",
      "49:\tlearn: 1845.6466162\ttotal: 649ms\tremaining: 1.43s\n",
      "50:\tlearn: 1843.6750479\ttotal: 661ms\tremaining: 1.41s\n",
      "51:\tlearn: 1840.9289540\ttotal: 674ms\tremaining: 1.4s\n",
      "52:\tlearn: 1838.6422377\ttotal: 686ms\tremaining: 1.38s\n",
      "53:\tlearn: 1835.7932881\ttotal: 698ms\tremaining: 1.37s\n",
      "54:\tlearn: 1832.6426019\ttotal: 712ms\tremaining: 1.36s\n",
      "55:\tlearn: 1830.9868363\ttotal: 731ms\tremaining: 1.36s\n",
      "56:\tlearn: 1828.6281762\ttotal: 748ms\tremaining: 1.35s\n",
      "57:\tlearn: 1827.0736706\ttotal: 761ms\tremaining: 1.34s\n",
      "58:\tlearn: 1825.4844565\ttotal: 773ms\tremaining: 1.32s\n",
      "59:\tlearn: 1823.9212023\ttotal: 785ms\tremaining: 1.31s\n",
      "60:\tlearn: 1822.2942315\ttotal: 797ms\tremaining: 1.29s\n",
      "61:\tlearn: 1820.7852199\ttotal: 809ms\tremaining: 1.28s\n",
      "62:\tlearn: 1817.9638383\ttotal: 823ms\tremaining: 1.27s\n",
      "63:\tlearn: 1816.2659455\ttotal: 835ms\tremaining: 1.25s\n",
      "64:\tlearn: 1814.4766286\ttotal: 849ms\tremaining: 1.24s\n",
      "65:\tlearn: 1810.5046420\ttotal: 863ms\tremaining: 1.23s\n",
      "66:\tlearn: 1808.2463253\ttotal: 880ms\tremaining: 1.22s\n",
      "67:\tlearn: 1806.4202504\ttotal: 898ms\tremaining: 1.22s\n",
      "68:\tlearn: 1803.6395030\ttotal: 913ms\tremaining: 1.2s\n",
      "69:\tlearn: 1801.0344209\ttotal: 928ms\tremaining: 1.19s\n",
      "70:\tlearn: 1799.1416184\ttotal: 941ms\tremaining: 1.18s\n",
      "71:\tlearn: 1797.9568616\ttotal: 953ms\tremaining: 1.16s\n",
      "72:\tlearn: 1796.2380947\ttotal: 966ms\tremaining: 1.15s\n",
      "73:\tlearn: 1793.8192622\ttotal: 980ms\tremaining: 1.14s\n",
      "74:\tlearn: 1791.2605651\ttotal: 992ms\tremaining: 1.12s\n",
      "75:\tlearn: 1790.0888662\ttotal: 1s\tremaining: 1.11s\n",
      "76:\tlearn: 1788.3171926\ttotal: 1.02s\tremaining: 1.1s\n",
      "77:\tlearn: 1786.4693356\ttotal: 1.03s\tremaining: 1.08s\n",
      "78:\tlearn: 1785.6510760\ttotal: 1.04s\tremaining: 1.07s\n",
      "79:\tlearn: 1784.0875607\ttotal: 1.05s\tremaining: 1.05s\n",
      "80:\tlearn: 1782.7496011\ttotal: 1.07s\tremaining: 1.04s\n",
      "81:\tlearn: 1781.3954540\ttotal: 1.08s\tremaining: 1.03s\n",
      "82:\tlearn: 1780.5826542\ttotal: 1.1s\tremaining: 1.02s\n",
      "83:\tlearn: 1779.1076514\ttotal: 1.12s\tremaining: 1.01s\n",
      "84:\tlearn: 1777.8834324\ttotal: 1.13s\tremaining: 999ms\n",
      "85:\tlearn: 1776.6008346\ttotal: 1.15s\tremaining: 987ms\n",
      "86:\tlearn: 1775.8008993\ttotal: 1.16s\tremaining: 976ms\n",
      "87:\tlearn: 1774.5949337\ttotal: 1.18s\tremaining: 966ms\n",
      "88:\tlearn: 1772.7021835\ttotal: 1.2s\tremaining: 954ms\n",
      "89:\tlearn: 1770.7081405\ttotal: 1.21s\tremaining: 944ms\n",
      "90:\tlearn: 1769.1954588\ttotal: 1.23s\tremaining: 933ms\n",
      "91:\tlearn: 1767.7452681\ttotal: 1.25s\tremaining: 922ms\n",
      "92:\tlearn: 1765.4244021\ttotal: 1.26s\tremaining: 911ms\n",
      "93:\tlearn: 1764.0343838\ttotal: 1.28s\tremaining: 898ms\n",
      "94:\tlearn: 1762.5399676\ttotal: 1.29s\tremaining: 885ms\n",
      "95:\tlearn: 1761.7033225\ttotal: 1.3s\tremaining: 871ms\n",
      "96:\tlearn: 1760.3799135\ttotal: 1.32s\tremaining: 859ms\n",
      "97:\tlearn: 1758.7224214\ttotal: 1.34s\tremaining: 846ms\n",
      "98:\tlearn: 1757.0373643\ttotal: 1.35s\tremaining: 833ms\n",
      "99:\tlearn: 1755.4999982\ttotal: 1.37s\tremaining: 820ms\n",
      "100:\tlearn: 1754.1192012\ttotal: 1.38s\tremaining: 807ms\n",
      "101:\tlearn: 1753.0479937\ttotal: 1.4s\tremaining: 794ms\n",
      "102:\tlearn: 1752.1429331\ttotal: 1.41s\tremaining: 779ms\n",
      "103:\tlearn: 1751.1788628\ttotal: 1.42s\tremaining: 764ms\n",
      "104:\tlearn: 1750.0539466\ttotal: 1.43s\tremaining: 750ms\n",
      "105:\tlearn: 1749.0661764\ttotal: 1.45s\tremaining: 736ms\n",
      "106:\tlearn: 1747.0717952\ttotal: 1.46s\tremaining: 723ms\n",
      "107:\tlearn: 1745.8677607\ttotal: 1.47s\tremaining: 709ms\n",
      "108:\tlearn: 1744.8715388\ttotal: 1.49s\tremaining: 695ms\n",
      "109:\tlearn: 1743.9305761\ttotal: 1.5s\tremaining: 682ms\n",
      "110:\tlearn: 1742.0590232\ttotal: 1.51s\tremaining: 668ms\n",
      "111:\tlearn: 1741.0680390\ttotal: 1.53s\tremaining: 655ms\n",
      "112:\tlearn: 1740.0461858\ttotal: 1.54s\tremaining: 642ms\n",
      "113:\tlearn: 1739.0162897\ttotal: 1.55s\tremaining: 628ms\n",
      "114:\tlearn: 1738.0919172\ttotal: 1.57s\tremaining: 614ms\n",
      "115:\tlearn: 1736.9026698\ttotal: 1.58s\tremaining: 600ms\n",
      "116:\tlearn: 1735.5642326\ttotal: 1.6s\tremaining: 587ms\n",
      "117:\tlearn: 1734.2672162\ttotal: 1.61s\tremaining: 573ms\n",
      "118:\tlearn: 1733.2934539\ttotal: 1.62s\tremaining: 559ms\n",
      "119:\tlearn: 1732.6180642\ttotal: 1.64s\tremaining: 545ms\n",
      "120:\tlearn: 1731.6652830\ttotal: 1.65s\tremaining: 531ms\n",
      "121:\tlearn: 1729.9889297\ttotal: 1.66s\tremaining: 517ms\n",
      "122:\tlearn: 1729.1282414\ttotal: 1.67s\tremaining: 504ms\n",
      "123:\tlearn: 1727.9249306\ttotal: 1.69s\tremaining: 490ms\n",
      "124:\tlearn: 1726.1839014\ttotal: 1.7s\tremaining: 476ms\n",
      "125:\tlearn: 1725.4394323\ttotal: 1.71s\tremaining: 462ms\n",
      "126:\tlearn: 1724.1383568\ttotal: 1.73s\tremaining: 449ms\n",
      "127:\tlearn: 1723.4033798\ttotal: 1.74s\tremaining: 435ms\n",
      "128:\tlearn: 1722.2573781\ttotal: 1.75s\tremaining: 421ms\n",
      "129:\tlearn: 1721.5033760\ttotal: 1.76s\tremaining: 407ms\n",
      "130:\tlearn: 1720.2876384\ttotal: 1.78s\tremaining: 393ms\n",
      "131:\tlearn: 1719.6024475\ttotal: 1.79s\tremaining: 380ms\n",
      "132:\tlearn: 1719.2491884\ttotal: 1.8s\tremaining: 366ms\n",
      "133:\tlearn: 1718.4841257\ttotal: 1.81s\tremaining: 352ms\n",
      "134:\tlearn: 1717.4793866\ttotal: 1.83s\tremaining: 339ms\n",
      "135:\tlearn: 1716.7992004\ttotal: 1.84s\tremaining: 325ms\n",
      "136:\tlearn: 1716.1836884\ttotal: 1.85s\tremaining: 311ms\n",
      "137:\tlearn: 1715.3012236\ttotal: 1.87s\tremaining: 298ms\n",
      "138:\tlearn: 1714.4345519\ttotal: 1.88s\tremaining: 284ms\n",
      "139:\tlearn: 1713.1754665\ttotal: 1.89s\tremaining: 271ms\n",
      "140:\tlearn: 1712.4650044\ttotal: 1.91s\tremaining: 257ms\n",
      "141:\tlearn: 1711.6714652\ttotal: 1.92s\tremaining: 243ms\n",
      "142:\tlearn: 1710.3119691\ttotal: 1.93s\tremaining: 230ms\n",
      "143:\tlearn: 1709.4438613\ttotal: 1.94s\tremaining: 216ms\n",
      "144:\tlearn: 1708.6416756\ttotal: 1.96s\tremaining: 203ms\n",
      "145:\tlearn: 1707.9232188\ttotal: 1.97s\tremaining: 189ms\n",
      "146:\tlearn: 1707.1241795\ttotal: 1.99s\tremaining: 176ms\n",
      "147:\tlearn: 1706.2704753\ttotal: 2s\tremaining: 162ms\n",
      "148:\tlearn: 1705.7492129\ttotal: 2.01s\tremaining: 148ms\n",
      "149:\tlearn: 1705.1871488\ttotal: 2.02s\tremaining: 135ms\n",
      "150:\tlearn: 1704.3564232\ttotal: 2.03s\tremaining: 121ms\n",
      "151:\tlearn: 1703.7300397\ttotal: 2.05s\tremaining: 108ms\n",
      "152:\tlearn: 1703.0545464\ttotal: 2.06s\tremaining: 94.2ms\n",
      "153:\tlearn: 1701.8907468\ttotal: 2.07s\tremaining: 80.7ms\n",
      "154:\tlearn: 1700.9106510\ttotal: 2.08s\tremaining: 67.3ms\n",
      "155:\tlearn: 1700.3652483\ttotal: 2.1s\tremaining: 53.8ms\n",
      "156:\tlearn: 1699.4437849\ttotal: 2.11s\tremaining: 40.4ms\n",
      "157:\tlearn: 1698.7960787\ttotal: 2.12s\tremaining: 26.9ms\n",
      "158:\tlearn: 1698.3542900\ttotal: 2.14s\tremaining: 13.4ms\n",
      "159:\tlearn: 1697.3974565\ttotal: 2.15s\tremaining: 0us\n",
      "Learning rate set to 0.367326\n",
      "0:\tlearn: 3705.2482895\ttotal: 20.8ms\tremaining: 3.31s\n",
      "1:\tlearn: 3114.1357272\ttotal: 34.4ms\tremaining: 2.72s\n",
      "2:\tlearn: 2775.6924410\ttotal: 47.9ms\tremaining: 2.51s\n",
      "3:\tlearn: 2570.3086933\ttotal: 60.2ms\tremaining: 2.35s\n",
      "4:\tlearn: 2446.7918221\ttotal: 72.9ms\tremaining: 2.26s\n",
      "5:\tlearn: 2350.0161358\ttotal: 85.5ms\tremaining: 2.19s\n",
      "6:\tlearn: 2286.8209745\ttotal: 98.7ms\tremaining: 2.16s\n",
      "7:\tlearn: 2243.0043612\ttotal: 114ms\tremaining: 2.17s\n",
      "8:\tlearn: 2204.4933551\ttotal: 127ms\tremaining: 2.13s\n",
      "9:\tlearn: 2147.6076041\ttotal: 140ms\tremaining: 2.11s\n",
      "10:\tlearn: 2109.6461515\ttotal: 154ms\tremaining: 2.08s\n",
      "11:\tlearn: 2088.4752144\ttotal: 166ms\tremaining: 2.05s\n",
      "12:\tlearn: 2063.2194474\ttotal: 179ms\tremaining: 2.02s\n",
      "13:\tlearn: 2052.3706270\ttotal: 191ms\tremaining: 1.99s\n",
      "14:\tlearn: 2035.1254068\ttotal: 205ms\tremaining: 1.98s\n",
      "15:\tlearn: 2021.3885678\ttotal: 218ms\tremaining: 1.96s\n",
      "16:\tlearn: 2007.2401132\ttotal: 231ms\tremaining: 1.95s\n",
      "17:\tlearn: 1998.0800538\ttotal: 243ms\tremaining: 1.92s\n",
      "18:\tlearn: 1989.0928379\ttotal: 256ms\tremaining: 1.9s\n",
      "19:\tlearn: 1979.1616805\ttotal: 268ms\tremaining: 1.88s\n",
      "20:\tlearn: 1971.3870392\ttotal: 280ms\tremaining: 1.85s\n",
      "21:\tlearn: 1964.9762273\ttotal: 293ms\tremaining: 1.83s\n",
      "22:\tlearn: 1955.8159736\ttotal: 306ms\tremaining: 1.82s\n",
      "23:\tlearn: 1949.8029208\ttotal: 318ms\tremaining: 1.8s\n",
      "24:\tlearn: 1942.8611079\ttotal: 331ms\tremaining: 1.79s\n",
      "25:\tlearn: 1936.6065688\ttotal: 344ms\tremaining: 1.77s\n",
      "26:\tlearn: 1930.3054982\ttotal: 356ms\tremaining: 1.75s\n",
      "27:\tlearn: 1923.8837831\ttotal: 368ms\tremaining: 1.74s\n",
      "28:\tlearn: 1920.5124109\ttotal: 381ms\tremaining: 1.72s\n",
      "29:\tlearn: 1914.7943624\ttotal: 395ms\tremaining: 1.71s\n",
      "30:\tlearn: 1910.2796881\ttotal: 407ms\tremaining: 1.69s\n",
      "31:\tlearn: 1906.8571446\ttotal: 419ms\tremaining: 1.68s\n",
      "32:\tlearn: 1903.5778353\ttotal: 432ms\tremaining: 1.66s\n",
      "33:\tlearn: 1898.3967529\ttotal: 445ms\tremaining: 1.65s\n",
      "34:\tlearn: 1894.8373369\ttotal: 457ms\tremaining: 1.63s\n",
      "35:\tlearn: 1892.7375790\ttotal: 468ms\tremaining: 1.61s\n",
      "36:\tlearn: 1888.8080304\ttotal: 481ms\tremaining: 1.6s\n",
      "37:\tlearn: 1884.0163694\ttotal: 494ms\tremaining: 1.58s\n",
      "38:\tlearn: 1881.6836984\ttotal: 505ms\tremaining: 1.57s\n",
      "39:\tlearn: 1877.4158821\ttotal: 518ms\tremaining: 1.55s\n",
      "40:\tlearn: 1871.2038885\ttotal: 531ms\tremaining: 1.54s\n",
      "41:\tlearn: 1867.9944182\ttotal: 544ms\tremaining: 1.53s\n",
      "42:\tlearn: 1864.2587270\ttotal: 556ms\tremaining: 1.51s\n",
      "43:\tlearn: 1860.9406566\ttotal: 568ms\tremaining: 1.5s\n",
      "44:\tlearn: 1857.7713043\ttotal: 580ms\tremaining: 1.48s\n",
      "45:\tlearn: 1855.1401533\ttotal: 593ms\tremaining: 1.47s\n",
      "46:\tlearn: 1853.4982063\ttotal: 605ms\tremaining: 1.45s\n",
      "47:\tlearn: 1849.6269842\ttotal: 618ms\tremaining: 1.44s\n",
      "48:\tlearn: 1846.3352929\ttotal: 632ms\tremaining: 1.43s\n",
      "49:\tlearn: 1842.9628726\ttotal: 646ms\tremaining: 1.42s\n",
      "50:\tlearn: 1840.4748684\ttotal: 659ms\tremaining: 1.41s\n",
      "51:\tlearn: 1838.0878605\ttotal: 671ms\tremaining: 1.39s\n",
      "52:\tlearn: 1834.2454554\ttotal: 687ms\tremaining: 1.39s\n",
      "53:\tlearn: 1832.3898589\ttotal: 700ms\tremaining: 1.37s\n",
      "54:\tlearn: 1830.9124785\ttotal: 713ms\tremaining: 1.36s\n",
      "55:\tlearn: 1828.9430626\ttotal: 725ms\tremaining: 1.35s\n",
      "56:\tlearn: 1827.0162075\ttotal: 738ms\tremaining: 1.33s\n",
      "57:\tlearn: 1824.6585962\ttotal: 751ms\tremaining: 1.32s\n",
      "58:\tlearn: 1823.3565461\ttotal: 762ms\tremaining: 1.3s\n",
      "59:\tlearn: 1821.0485177\ttotal: 776ms\tremaining: 1.29s\n",
      "60:\tlearn: 1817.1136399\ttotal: 790ms\tremaining: 1.28s\n",
      "61:\tlearn: 1815.2053307\ttotal: 802ms\tremaining: 1.27s\n",
      "62:\tlearn: 1813.8144670\ttotal: 814ms\tremaining: 1.25s\n",
      "63:\tlearn: 1810.1830665\ttotal: 829ms\tremaining: 1.24s\n",
      "64:\tlearn: 1808.6656261\ttotal: 842ms\tremaining: 1.23s\n",
      "65:\tlearn: 1807.3623308\ttotal: 854ms\tremaining: 1.22s\n",
      "66:\tlearn: 1805.2694668\ttotal: 868ms\tremaining: 1.2s\n",
      "67:\tlearn: 1802.7114311\ttotal: 880ms\tremaining: 1.19s\n",
      "68:\tlearn: 1800.7548183\ttotal: 892ms\tremaining: 1.18s\n",
      "69:\tlearn: 1798.2271098\ttotal: 905ms\tremaining: 1.16s\n",
      "70:\tlearn: 1795.8208503\ttotal: 917ms\tremaining: 1.15s\n",
      "71:\tlearn: 1794.3220964\ttotal: 929ms\tremaining: 1.14s\n",
      "72:\tlearn: 1793.2543408\ttotal: 940ms\tremaining: 1.12s\n",
      "73:\tlearn: 1791.8343214\ttotal: 957ms\tremaining: 1.11s\n",
      "74:\tlearn: 1790.1708957\ttotal: 972ms\tremaining: 1.1s\n",
      "75:\tlearn: 1789.0567472\ttotal: 985ms\tremaining: 1.09s\n",
      "76:\tlearn: 1786.9082187\ttotal: 998ms\tremaining: 1.07s\n",
      "77:\tlearn: 1785.0752138\ttotal: 1.01s\tremaining: 1.06s\n",
      "78:\tlearn: 1783.8488119\ttotal: 1.02s\tremaining: 1.05s\n",
      "79:\tlearn: 1782.3598866\ttotal: 1.03s\tremaining: 1.03s\n",
      "80:\tlearn: 1780.6649019\ttotal: 1.05s\tremaining: 1.02s\n",
      "81:\tlearn: 1778.6071182\ttotal: 1.06s\tremaining: 1.01s\n",
      "82:\tlearn: 1777.5646801\ttotal: 1.07s\tremaining: 994ms\n",
      "83:\tlearn: 1776.0919667\ttotal: 1.08s\tremaining: 981ms\n",
      "84:\tlearn: 1775.2031134\ttotal: 1.09s\tremaining: 966ms\n",
      "85:\tlearn: 1773.7065382\ttotal: 1.11s\tremaining: 954ms\n",
      "86:\tlearn: 1772.3915127\ttotal: 1.12s\tremaining: 944ms\n",
      "87:\tlearn: 1770.4070248\ttotal: 1.14s\tremaining: 932ms\n",
      "88:\tlearn: 1769.3035085\ttotal: 1.15s\tremaining: 919ms\n",
      "89:\tlearn: 1767.6828663\ttotal: 1.16s\tremaining: 906ms\n",
      "90:\tlearn: 1766.1668700\ttotal: 1.18s\tremaining: 892ms\n",
      "91:\tlearn: 1765.2961936\ttotal: 1.19s\tremaining: 879ms\n",
      "92:\tlearn: 1764.4500564\ttotal: 1.2s\tremaining: 866ms\n",
      "93:\tlearn: 1763.6245535\ttotal: 1.21s\tremaining: 853ms\n",
      "94:\tlearn: 1762.1860226\ttotal: 1.23s\tremaining: 840ms\n",
      "95:\tlearn: 1761.1991522\ttotal: 1.24s\tremaining: 827ms\n",
      "96:\tlearn: 1759.4163871\ttotal: 1.25s\tremaining: 814ms\n",
      "97:\tlearn: 1758.7519589\ttotal: 1.26s\tremaining: 800ms\n",
      "98:\tlearn: 1757.3013741\ttotal: 1.28s\tremaining: 788ms\n",
      "99:\tlearn: 1755.3212951\ttotal: 1.29s\tremaining: 775ms\n",
      "100:\tlearn: 1753.8008344\ttotal: 1.3s\tremaining: 761ms\n",
      "101:\tlearn: 1752.0280726\ttotal: 1.32s\tremaining: 749ms\n",
      "102:\tlearn: 1751.2539106\ttotal: 1.33s\tremaining: 736ms\n",
      "103:\tlearn: 1750.0243097\ttotal: 1.34s\tremaining: 722ms\n",
      "104:\tlearn: 1749.1344361\ttotal: 1.35s\tremaining: 709ms\n",
      "105:\tlearn: 1746.3145909\ttotal: 1.37s\tremaining: 696ms\n",
      "106:\tlearn: 1744.9015765\ttotal: 1.38s\tremaining: 683ms\n",
      "107:\tlearn: 1743.2227721\ttotal: 1.39s\tremaining: 670ms\n",
      "108:\tlearn: 1741.8785117\ttotal: 1.4s\tremaining: 657ms\n",
      "109:\tlearn: 1739.9065474\ttotal: 1.42s\tremaining: 644ms\n",
      "110:\tlearn: 1738.5240129\ttotal: 1.43s\tremaining: 631ms\n",
      "111:\tlearn: 1737.9421907\ttotal: 1.44s\tremaining: 619ms\n",
      "112:\tlearn: 1736.9205888\ttotal: 1.46s\tremaining: 606ms\n",
      "113:\tlearn: 1735.6220213\ttotal: 1.47s\tremaining: 593ms\n",
      "114:\tlearn: 1734.8791914\ttotal: 1.48s\tremaining: 579ms\n",
      "115:\tlearn: 1733.1331114\ttotal: 1.49s\tremaining: 567ms\n",
      "116:\tlearn: 1730.7806529\ttotal: 1.51s\tremaining: 554ms\n",
      "117:\tlearn: 1729.6743435\ttotal: 1.52s\tremaining: 541ms\n",
      "118:\tlearn: 1728.3992826\ttotal: 1.53s\tremaining: 529ms\n",
      "119:\tlearn: 1727.3240287\ttotal: 1.55s\tremaining: 516ms\n",
      "120:\tlearn: 1726.4068982\ttotal: 1.56s\tremaining: 504ms\n",
      "121:\tlearn: 1725.8994044\ttotal: 1.57s\tremaining: 491ms\n",
      "122:\tlearn: 1724.7707750\ttotal: 1.59s\tremaining: 478ms\n",
      "123:\tlearn: 1724.0298369\ttotal: 1.6s\tremaining: 465ms\n",
      "124:\tlearn: 1722.8997725\ttotal: 1.61s\tremaining: 452ms\n",
      "125:\tlearn: 1722.1500897\ttotal: 1.63s\tremaining: 439ms\n",
      "126:\tlearn: 1721.2388669\ttotal: 1.64s\tremaining: 426ms\n",
      "127:\tlearn: 1720.4157957\ttotal: 1.65s\tremaining: 413ms\n",
      "128:\tlearn: 1719.5373554\ttotal: 1.66s\tremaining: 400ms\n",
      "129:\tlearn: 1718.1193460\ttotal: 1.68s\tremaining: 387ms\n",
      "130:\tlearn: 1717.2541549\ttotal: 1.69s\tremaining: 374ms\n",
      "131:\tlearn: 1716.4067889\ttotal: 1.7s\tremaining: 361ms\n",
      "132:\tlearn: 1715.0990449\ttotal: 1.71s\tremaining: 348ms\n",
      "133:\tlearn: 1714.5950700\ttotal: 1.73s\tremaining: 335ms\n",
      "134:\tlearn: 1713.7661521\ttotal: 1.74s\tremaining: 322ms\n",
      "135:\tlearn: 1712.5866756\ttotal: 1.75s\tremaining: 309ms\n",
      "136:\tlearn: 1712.1928934\ttotal: 1.76s\tremaining: 296ms\n",
      "137:\tlearn: 1711.2149175\ttotal: 1.78s\tremaining: 283ms\n",
      "138:\tlearn: 1710.4645475\ttotal: 1.79s\tremaining: 270ms\n",
      "139:\tlearn: 1709.2830238\ttotal: 1.81s\tremaining: 258ms\n",
      "140:\tlearn: 1708.1075652\ttotal: 1.82s\tremaining: 246ms\n",
      "141:\tlearn: 1707.4407604\ttotal: 1.84s\tremaining: 233ms\n",
      "142:\tlearn: 1707.0209685\ttotal: 1.85s\tremaining: 220ms\n",
      "143:\tlearn: 1706.2679321\ttotal: 1.86s\tremaining: 207ms\n",
      "144:\tlearn: 1705.5082974\ttotal: 1.88s\tremaining: 194ms\n",
      "145:\tlearn: 1704.7356412\ttotal: 1.89s\tremaining: 181ms\n",
      "146:\tlearn: 1703.9013428\ttotal: 1.9s\tremaining: 168ms\n",
      "147:\tlearn: 1703.5059822\ttotal: 1.91s\tremaining: 155ms\n",
      "148:\tlearn: 1702.7205624\ttotal: 1.92s\tremaining: 142ms\n",
      "149:\tlearn: 1702.0166260\ttotal: 1.94s\tremaining: 129ms\n",
      "150:\tlearn: 1701.3477083\ttotal: 1.95s\tremaining: 116ms\n",
      "151:\tlearn: 1700.2421472\ttotal: 1.96s\tremaining: 103ms\n",
      "152:\tlearn: 1699.8540502\ttotal: 1.97s\tremaining: 90.2ms\n",
      "153:\tlearn: 1698.6596927\ttotal: 1.99s\tremaining: 77.4ms\n",
      "154:\tlearn: 1697.9118857\ttotal: 2s\tremaining: 64.5ms\n",
      "155:\tlearn: 1697.2631493\ttotal: 2.01s\tremaining: 51.5ms\n",
      "156:\tlearn: 1696.3015834\ttotal: 2.02s\tremaining: 38.7ms\n",
      "157:\tlearn: 1695.8991392\ttotal: 2.04s\tremaining: 25.8ms\n",
      "158:\tlearn: 1695.0447500\ttotal: 2.05s\tremaining: 12.9ms\n",
      "159:\tlearn: 1694.3342095\ttotal: 2.06s\tremaining: 0us\n",
      "Learning rate set to 0.349659\n",
      "0:\tlearn: 3765.8042130\ttotal: 12.6ms\tremaining: 2.12s\n",
      "1:\tlearn: 3167.2004685\ttotal: 25ms\tremaining: 2.1s\n",
      "2:\tlearn: 2843.6807741\ttotal: 36.9ms\tremaining: 2.05s\n",
      "3:\tlearn: 2612.0014641\ttotal: 49.3ms\tremaining: 2.05s\n",
      "4:\tlearn: 2477.8373509\ttotal: 63ms\tremaining: 2.08s\n",
      "5:\tlearn: 2374.5900667\ttotal: 75.4ms\tremaining: 2.06s\n",
      "6:\tlearn: 2307.6976366\ttotal: 88ms\tremaining: 2.05s\n",
      "7:\tlearn: 2238.8673925\ttotal: 101ms\tremaining: 2.05s\n",
      "8:\tlearn: 2198.7523894\ttotal: 113ms\tremaining: 2.01s\n",
      "9:\tlearn: 2157.0252504\ttotal: 124ms\tremaining: 1.99s\n",
      "10:\tlearn: 2128.6417315\ttotal: 137ms\tremaining: 1.97s\n",
      "11:\tlearn: 2110.7272462\ttotal: 148ms\tremaining: 1.95s\n",
      "12:\tlearn: 2094.0402161\ttotal: 159ms\tremaining: 1.92s\n",
      "13:\tlearn: 2072.2900828\ttotal: 171ms\tremaining: 1.91s\n",
      "14:\tlearn: 2056.5838708\ttotal: 184ms\tremaining: 1.9s\n",
      "15:\tlearn: 2043.8201663\ttotal: 196ms\tremaining: 1.89s\n",
      "16:\tlearn: 2030.6500412\ttotal: 209ms\tremaining: 1.88s\n",
      "17:\tlearn: 2022.1542187\ttotal: 222ms\tremaining: 1.88s\n",
      "18:\tlearn: 2009.7737288\ttotal: 238ms\tremaining: 1.89s\n",
      "19:\tlearn: 1994.2935272\ttotal: 250ms\tremaining: 1.87s\n",
      "20:\tlearn: 1984.3651270\ttotal: 262ms\tremaining: 1.86s\n",
      "21:\tlearn: 1978.6029202\ttotal: 273ms\tremaining: 1.83s\n",
      "22:\tlearn: 1967.6768219\ttotal: 285ms\tremaining: 1.82s\n",
      "23:\tlearn: 1960.9035675\ttotal: 302ms\tremaining: 1.83s\n",
      "24:\tlearn: 1952.7696682\ttotal: 318ms\tremaining: 1.84s\n",
      "25:\tlearn: 1948.6747333\ttotal: 330ms\tremaining: 1.82s\n",
      "26:\tlearn: 1942.9011764\ttotal: 342ms\tremaining: 1.81s\n",
      "27:\tlearn: 1939.7335499\ttotal: 356ms\tremaining: 1.8s\n",
      "28:\tlearn: 1935.1617724\ttotal: 374ms\tremaining: 1.82s\n",
      "29:\tlearn: 1927.7085546\ttotal: 388ms\tremaining: 1.81s\n",
      "30:\tlearn: 1921.7769852\ttotal: 400ms\tremaining: 1.79s\n",
      "31:\tlearn: 1916.3665025\ttotal: 411ms\tremaining: 1.77s\n",
      "32:\tlearn: 1911.9372582\ttotal: 422ms\tremaining: 1.75s\n",
      "33:\tlearn: 1907.1319281\ttotal: 433ms\tremaining: 1.73s\n",
      "34:\tlearn: 1905.1308676\ttotal: 445ms\tremaining: 1.72s\n",
      "35:\tlearn: 1901.4249084\ttotal: 456ms\tremaining: 1.7s\n",
      "36:\tlearn: 1896.4609935\ttotal: 467ms\tremaining: 1.68s\n",
      "37:\tlearn: 1892.0090345\ttotal: 479ms\tremaining: 1.66s\n",
      "38:\tlearn: 1887.9106490\ttotal: 490ms\tremaining: 1.65s\n",
      "39:\tlearn: 1884.1612104\ttotal: 502ms\tremaining: 1.63s\n",
      "40:\tlearn: 1880.5835806\ttotal: 513ms\tremaining: 1.61s\n",
      "41:\tlearn: 1876.8117812\ttotal: 524ms\tremaining: 1.6s\n",
      "42:\tlearn: 1871.7326557\ttotal: 537ms\tremaining: 1.59s\n",
      "43:\tlearn: 1869.2684158\ttotal: 549ms\tremaining: 1.57s\n",
      "44:\tlearn: 1866.8340648\ttotal: 561ms\tremaining: 1.56s\n",
      "45:\tlearn: 1864.4483910\ttotal: 572ms\tremaining: 1.54s\n",
      "46:\tlearn: 1862.4538806\ttotal: 583ms\tremaining: 1.53s\n",
      "47:\tlearn: 1858.0084020\ttotal: 596ms\tremaining: 1.51s\n",
      "48:\tlearn: 1855.5299849\ttotal: 608ms\tremaining: 1.5s\n",
      "49:\tlearn: 1851.5700511\ttotal: 620ms\tremaining: 1.49s\n",
      "50:\tlearn: 1849.3770126\ttotal: 632ms\tremaining: 1.47s\n",
      "51:\tlearn: 1845.1179536\ttotal: 645ms\tremaining: 1.46s\n",
      "52:\tlearn: 1842.2286317\ttotal: 656ms\tremaining: 1.45s\n",
      "53:\tlearn: 1840.6708832\ttotal: 668ms\tremaining: 1.43s\n",
      "54:\tlearn: 1838.6578958\ttotal: 679ms\tremaining: 1.42s\n",
      "55:\tlearn: 1836.5693728\ttotal: 691ms\tremaining: 1.41s\n",
      "56:\tlearn: 1834.4116833\ttotal: 702ms\tremaining: 1.39s\n",
      "57:\tlearn: 1832.2753207\ttotal: 714ms\tremaining: 1.38s\n",
      "58:\tlearn: 1828.2905592\ttotal: 726ms\tremaining: 1.37s\n",
      "59:\tlearn: 1825.8714254\ttotal: 738ms\tremaining: 1.35s\n",
      "60:\tlearn: 1824.1721927\ttotal: 750ms\tremaining: 1.34s\n",
      "61:\tlearn: 1822.6525476\ttotal: 761ms\tremaining: 1.32s\n",
      "62:\tlearn: 1820.5063576\ttotal: 771ms\tremaining: 1.31s\n",
      "63:\tlearn: 1818.9450968\ttotal: 782ms\tremaining: 1.29s\n",
      "64:\tlearn: 1816.4902795\ttotal: 792ms\tremaining: 1.28s\n",
      "65:\tlearn: 1813.8701020\ttotal: 805ms\tremaining: 1.27s\n",
      "66:\tlearn: 1810.9273791\ttotal: 817ms\tremaining: 1.25s\n",
      "67:\tlearn: 1807.9215816\ttotal: 830ms\tremaining: 1.24s\n",
      "68:\tlearn: 1805.7827815\ttotal: 843ms\tremaining: 1.23s\n",
      "69:\tlearn: 1803.9880075\ttotal: 856ms\tremaining: 1.22s\n",
      "70:\tlearn: 1802.9353510\ttotal: 867ms\tremaining: 1.21s\n",
      "71:\tlearn: 1801.2774850\ttotal: 878ms\tremaining: 1.2s\n",
      "72:\tlearn: 1799.4459282\ttotal: 890ms\tremaining: 1.18s\n",
      "73:\tlearn: 1798.1366155\ttotal: 901ms\tremaining: 1.17s\n",
      "74:\tlearn: 1796.5298602\ttotal: 911ms\tremaining: 1.15s\n",
      "75:\tlearn: 1794.5329786\ttotal: 924ms\tremaining: 1.14s\n",
      "76:\tlearn: 1793.1011727\ttotal: 936ms\tremaining: 1.13s\n",
      "77:\tlearn: 1791.8743184\ttotal: 947ms\tremaining: 1.12s\n",
      "78:\tlearn: 1790.5557326\ttotal: 959ms\tremaining: 1.1s\n",
      "79:\tlearn: 1789.2069389\ttotal: 970ms\tremaining: 1.09s\n",
      "80:\tlearn: 1787.2810591\ttotal: 981ms\tremaining: 1.08s\n",
      "81:\tlearn: 1785.3083552\ttotal: 991ms\tremaining: 1.06s\n",
      "82:\tlearn: 1784.1032639\ttotal: 1s\tremaining: 1.05s\n",
      "83:\tlearn: 1783.0056158\ttotal: 1.01s\tremaining: 1.04s\n",
      "84:\tlearn: 1781.4809149\ttotal: 1.02s\tremaining: 1.02s\n",
      "85:\tlearn: 1778.8701284\ttotal: 1.04s\tremaining: 1.01s\n",
      "86:\tlearn: 1777.4238025\ttotal: 1.05s\tremaining: 1s\n",
      "87:\tlearn: 1776.3235447\ttotal: 1.06s\tremaining: 990ms\n",
      "88:\tlearn: 1774.8662266\ttotal: 1.07s\tremaining: 978ms\n",
      "89:\tlearn: 1773.3079023\ttotal: 1.09s\tremaining: 967ms\n",
      "90:\tlearn: 1771.6733263\ttotal: 1.1s\tremaining: 955ms\n",
      "91:\tlearn: 1769.6901846\ttotal: 1.11s\tremaining: 944ms\n",
      "92:\tlearn: 1768.3916983\ttotal: 1.13s\tremaining: 932ms\n",
      "93:\tlearn: 1766.7957054\ttotal: 1.14s\tremaining: 920ms\n",
      "94:\tlearn: 1765.5473360\ttotal: 1.15s\tremaining: 907ms\n",
      "95:\tlearn: 1764.4786484\ttotal: 1.16s\tremaining: 896ms\n",
      "96:\tlearn: 1763.2918655\ttotal: 1.17s\tremaining: 884ms\n",
      "97:\tlearn: 1761.7915688\ttotal: 1.19s\tremaining: 872ms\n",
      "98:\tlearn: 1760.5344132\ttotal: 1.2s\tremaining: 860ms\n",
      "99:\tlearn: 1759.4361922\ttotal: 1.21s\tremaining: 849ms\n",
      "100:\tlearn: 1757.4217285\ttotal: 1.23s\tremaining: 838ms\n",
      "101:\tlearn: 1756.1644074\ttotal: 1.24s\tremaining: 826ms\n",
      "102:\tlearn: 1754.2321494\ttotal: 1.25s\tremaining: 815ms\n",
      "103:\tlearn: 1753.4051496\ttotal: 1.26s\tremaining: 802ms\n",
      "104:\tlearn: 1752.2927603\ttotal: 1.27s\tremaining: 789ms\n",
      "105:\tlearn: 1751.3357285\ttotal: 1.29s\tremaining: 777ms\n",
      "106:\tlearn: 1749.0614686\ttotal: 1.3s\tremaining: 765ms\n",
      "107:\tlearn: 1747.7066487\ttotal: 1.31s\tremaining: 753ms\n",
      "108:\tlearn: 1746.2112616\ttotal: 1.32s\tremaining: 741ms\n",
      "109:\tlearn: 1745.0331293\ttotal: 1.33s\tremaining: 728ms\n",
      "110:\tlearn: 1744.4082216\ttotal: 1.35s\tremaining: 716ms\n",
      "111:\tlearn: 1743.4678175\ttotal: 1.36s\tremaining: 704ms\n",
      "112:\tlearn: 1741.9607506\ttotal: 1.38s\tremaining: 694ms\n",
      "113:\tlearn: 1740.8670806\ttotal: 1.39s\tremaining: 685ms\n",
      "114:\tlearn: 1739.5074827\ttotal: 1.41s\tremaining: 675ms\n",
      "115:\tlearn: 1738.3991551\ttotal: 1.43s\tremaining: 664ms\n",
      "116:\tlearn: 1737.6836463\ttotal: 1.44s\tremaining: 652ms\n",
      "117:\tlearn: 1736.5430109\ttotal: 1.45s\tremaining: 640ms\n",
      "118:\tlearn: 1735.4776396\ttotal: 1.46s\tremaining: 628ms\n",
      "119:\tlearn: 1734.2075038\ttotal: 1.48s\tremaining: 616ms\n",
      "120:\tlearn: 1733.2614312\ttotal: 1.49s\tremaining: 603ms\n",
      "121:\tlearn: 1732.0475831\ttotal: 1.5s\tremaining: 591ms\n",
      "122:\tlearn: 1730.7507025\ttotal: 1.51s\tremaining: 579ms\n",
      "123:\tlearn: 1729.8663531\ttotal: 1.53s\tremaining: 567ms\n",
      "124:\tlearn: 1728.9380247\ttotal: 1.54s\tremaining: 555ms\n",
      "125:\tlearn: 1727.8615171\ttotal: 1.55s\tremaining: 543ms\n",
      "126:\tlearn: 1726.7742895\ttotal: 1.57s\tremaining: 531ms\n",
      "127:\tlearn: 1725.8160661\ttotal: 1.58s\tremaining: 518ms\n",
      "128:\tlearn: 1725.1610906\ttotal: 1.59s\tremaining: 506ms\n",
      "129:\tlearn: 1724.1172478\ttotal: 1.6s\tremaining: 494ms\n",
      "130:\tlearn: 1723.1198834\ttotal: 1.61s\tremaining: 481ms\n",
      "131:\tlearn: 1722.5418475\ttotal: 1.63s\tremaining: 468ms\n",
      "132:\tlearn: 1721.5530132\ttotal: 1.64s\tremaining: 456ms\n",
      "133:\tlearn: 1720.6740910\ttotal: 1.65s\tremaining: 444ms\n",
      "134:\tlearn: 1719.5142650\ttotal: 1.66s\tremaining: 432ms\n",
      "135:\tlearn: 1718.8679527\ttotal: 1.68s\tremaining: 419ms\n",
      "136:\tlearn: 1718.1994517\ttotal: 1.69s\tremaining: 407ms\n",
      "137:\tlearn: 1717.3041038\ttotal: 1.7s\tremaining: 394ms\n",
      "138:\tlearn: 1716.2176380\ttotal: 1.71s\tremaining: 382ms\n",
      "139:\tlearn: 1715.5254717\ttotal: 1.72s\tremaining: 369ms\n",
      "140:\tlearn: 1714.3638110\ttotal: 1.74s\tremaining: 357ms\n",
      "141:\tlearn: 1713.7876280\ttotal: 1.75s\tremaining: 345ms\n",
      "142:\tlearn: 1712.7362610\ttotal: 1.76s\tremaining: 333ms\n",
      "143:\tlearn: 1712.1868917\ttotal: 1.77s\tremaining: 320ms\n",
      "144:\tlearn: 1711.5980645\ttotal: 1.78s\tremaining: 307ms\n",
      "145:\tlearn: 1711.2495270\ttotal: 1.79s\tremaining: 295ms\n",
      "146:\tlearn: 1710.5653351\ttotal: 1.81s\tremaining: 283ms\n",
      "147:\tlearn: 1709.1876641\ttotal: 1.82s\tremaining: 270ms\n",
      "148:\tlearn: 1708.5293781\ttotal: 1.83s\tremaining: 258ms\n",
      "149:\tlearn: 1707.6196249\ttotal: 1.85s\tremaining: 246ms\n",
      "150:\tlearn: 1706.8706246\ttotal: 1.86s\tremaining: 234ms\n",
      "151:\tlearn: 1705.7968560\ttotal: 1.88s\tremaining: 222ms\n",
      "152:\tlearn: 1704.5277744\ttotal: 1.89s\tremaining: 210ms\n",
      "153:\tlearn: 1703.5213066\ttotal: 1.9s\tremaining: 198ms\n",
      "154:\tlearn: 1702.7267696\ttotal: 1.92s\tremaining: 185ms\n",
      "155:\tlearn: 1701.8177554\ttotal: 1.93s\tremaining: 173ms\n",
      "156:\tlearn: 1700.6366554\ttotal: 1.94s\tremaining: 161ms\n",
      "157:\tlearn: 1700.0778871\ttotal: 1.95s\tremaining: 148ms\n",
      "158:\tlearn: 1699.4293606\ttotal: 1.97s\tremaining: 136ms\n",
      "159:\tlearn: 1698.6169114\ttotal: 1.98s\tremaining: 124ms\n",
      "160:\tlearn: 1697.9360730\ttotal: 1.99s\tremaining: 111ms\n",
      "161:\tlearn: 1696.9142221\ttotal: 2s\tremaining: 98.8ms\n",
      "162:\tlearn: 1695.9180890\ttotal: 2.01s\tremaining: 86.4ms\n",
      "163:\tlearn: 1694.8827264\ttotal: 2.02s\tremaining: 74ms\n",
      "164:\tlearn: 1694.4245379\ttotal: 2.04s\tremaining: 61.7ms\n",
      "165:\tlearn: 1693.3851679\ttotal: 2.05s\tremaining: 49.4ms\n",
      "166:\tlearn: 1692.8718690\ttotal: 2.06s\tremaining: 37.1ms\n",
      "167:\tlearn: 1692.0452470\ttotal: 2.08s\tremaining: 24.7ms\n",
      "168:\tlearn: 1691.6268387\ttotal: 2.09s\tremaining: 12.4ms\n",
      "169:\tlearn: 1690.6510489\ttotal: 2.1s\tremaining: 0us\n",
      "Learning rate set to 0.349659\n",
      "0:\tlearn: 3748.9787458\ttotal: 12ms\tremaining: 2.03s\n",
      "1:\tlearn: 3166.2466229\ttotal: 23.5ms\tremaining: 1.97s\n",
      "2:\tlearn: 2832.3141648\ttotal: 35.7ms\tremaining: 1.99s\n",
      "3:\tlearn: 2619.7245891\ttotal: 47.6ms\tremaining: 1.98s\n",
      "4:\tlearn: 2479.6064985\ttotal: 59.3ms\tremaining: 1.96s\n",
      "5:\tlearn: 2375.2909976\ttotal: 70.8ms\tremaining: 1.94s\n",
      "6:\tlearn: 2306.6308562\ttotal: 81.5ms\tremaining: 1.9s\n",
      "7:\tlearn: 2258.7459898\ttotal: 92.4ms\tremaining: 1.87s\n",
      "8:\tlearn: 2223.3842210\ttotal: 103ms\tremaining: 1.85s\n",
      "9:\tlearn: 2171.6314899\ttotal: 116ms\tremaining: 1.86s\n",
      "10:\tlearn: 2149.4868355\ttotal: 128ms\tremaining: 1.85s\n",
      "11:\tlearn: 2110.5891597\ttotal: 140ms\tremaining: 1.85s\n",
      "12:\tlearn: 2088.9076146\ttotal: 152ms\tremaining: 1.83s\n",
      "13:\tlearn: 2072.3204936\ttotal: 163ms\tremaining: 1.81s\n",
      "14:\tlearn: 2049.3983242\ttotal: 175ms\tremaining: 1.81s\n",
      "15:\tlearn: 2035.3638924\ttotal: 187ms\tremaining: 1.8s\n",
      "16:\tlearn: 2025.2810530\ttotal: 198ms\tremaining: 1.79s\n",
      "17:\tlearn: 2008.0259449\ttotal: 211ms\tremaining: 1.78s\n",
      "18:\tlearn: 1996.5834552\ttotal: 224ms\tremaining: 1.78s\n",
      "19:\tlearn: 1987.2624550\ttotal: 236ms\tremaining: 1.77s\n",
      "20:\tlearn: 1981.4785718\ttotal: 248ms\tremaining: 1.76s\n",
      "21:\tlearn: 1975.3074397\ttotal: 260ms\tremaining: 1.75s\n",
      "22:\tlearn: 1965.7262136\ttotal: 272ms\tremaining: 1.74s\n",
      "23:\tlearn: 1959.0281998\ttotal: 284ms\tremaining: 1.73s\n",
      "24:\tlearn: 1951.1718041\ttotal: 297ms\tremaining: 1.72s\n",
      "25:\tlearn: 1947.3007980\ttotal: 309ms\tremaining: 1.71s\n",
      "26:\tlearn: 1941.5612176\ttotal: 323ms\tremaining: 1.71s\n",
      "27:\tlearn: 1932.3619761\ttotal: 337ms\tremaining: 1.71s\n",
      "28:\tlearn: 1926.5910223\ttotal: 350ms\tremaining: 1.7s\n",
      "29:\tlearn: 1922.1648931\ttotal: 363ms\tremaining: 1.69s\n",
      "30:\tlearn: 1915.2069856\ttotal: 375ms\tremaining: 1.68s\n",
      "31:\tlearn: 1912.4191428\ttotal: 387ms\tremaining: 1.67s\n",
      "32:\tlearn: 1909.0346499\ttotal: 400ms\tremaining: 1.66s\n",
      "33:\tlearn: 1902.9031401\ttotal: 414ms\tremaining: 1.66s\n",
      "34:\tlearn: 1900.0020515\ttotal: 426ms\tremaining: 1.64s\n",
      "35:\tlearn: 1895.4028505\ttotal: 437ms\tremaining: 1.63s\n",
      "36:\tlearn: 1891.6340205\ttotal: 450ms\tremaining: 1.62s\n",
      "37:\tlearn: 1885.2093780\ttotal: 463ms\tremaining: 1.61s\n",
      "38:\tlearn: 1880.5812664\ttotal: 477ms\tremaining: 1.6s\n",
      "39:\tlearn: 1877.8125145\ttotal: 489ms\tremaining: 1.59s\n",
      "40:\tlearn: 1873.7591896\ttotal: 502ms\tremaining: 1.58s\n",
      "41:\tlearn: 1870.7299542\ttotal: 514ms\tremaining: 1.57s\n",
      "42:\tlearn: 1866.8896718\ttotal: 528ms\tremaining: 1.56s\n",
      "43:\tlearn: 1862.9564194\ttotal: 542ms\tremaining: 1.55s\n",
      "44:\tlearn: 1860.7442622\ttotal: 555ms\tremaining: 1.54s\n",
      "45:\tlearn: 1858.6026790\ttotal: 566ms\tremaining: 1.53s\n",
      "46:\tlearn: 1855.8685187\ttotal: 579ms\tremaining: 1.52s\n",
      "47:\tlearn: 1852.6342264\ttotal: 592ms\tremaining: 1.5s\n",
      "48:\tlearn: 1849.3878307\ttotal: 604ms\tremaining: 1.49s\n",
      "49:\tlearn: 1847.7586619\ttotal: 616ms\tremaining: 1.48s\n",
      "50:\tlearn: 1845.5569039\ttotal: 627ms\tremaining: 1.46s\n",
      "51:\tlearn: 1842.4660463\ttotal: 638ms\tremaining: 1.45s\n",
      "52:\tlearn: 1839.4570503\ttotal: 649ms\tremaining: 1.43s\n",
      "53:\tlearn: 1836.8642007\ttotal: 661ms\tremaining: 1.42s\n",
      "54:\tlearn: 1833.7186172\ttotal: 673ms\tremaining: 1.41s\n",
      "55:\tlearn: 1831.6885325\ttotal: 685ms\tremaining: 1.39s\n",
      "56:\tlearn: 1830.0486379\ttotal: 696ms\tremaining: 1.38s\n",
      "57:\tlearn: 1827.9769087\ttotal: 708ms\tremaining: 1.37s\n",
      "58:\tlearn: 1826.3239878\ttotal: 719ms\tremaining: 1.35s\n",
      "59:\tlearn: 1824.6842330\ttotal: 730ms\tremaining: 1.34s\n",
      "60:\tlearn: 1822.1229490\ttotal: 743ms\tremaining: 1.33s\n",
      "61:\tlearn: 1820.8487555\ttotal: 754ms\tremaining: 1.31s\n",
      "62:\tlearn: 1818.5124665\ttotal: 766ms\tremaining: 1.3s\n",
      "63:\tlearn: 1816.5106919\ttotal: 779ms\tremaining: 1.29s\n",
      "64:\tlearn: 1814.7172523\ttotal: 792ms\tremaining: 1.28s\n",
      "65:\tlearn: 1812.6040169\ttotal: 804ms\tremaining: 1.27s\n",
      "66:\tlearn: 1811.2526766\ttotal: 816ms\tremaining: 1.25s\n",
      "67:\tlearn: 1809.3950999\ttotal: 829ms\tremaining: 1.24s\n",
      "68:\tlearn: 1807.1426019\ttotal: 842ms\tremaining: 1.23s\n",
      "69:\tlearn: 1805.4361387\ttotal: 854ms\tremaining: 1.22s\n",
      "70:\tlearn: 1803.2919596\ttotal: 867ms\tremaining: 1.21s\n",
      "71:\tlearn: 1801.4258611\ttotal: 880ms\tremaining: 1.2s\n",
      "72:\tlearn: 1800.1550660\ttotal: 893ms\tremaining: 1.19s\n",
      "73:\tlearn: 1798.1516171\ttotal: 906ms\tremaining: 1.18s\n",
      "74:\tlearn: 1797.1090206\ttotal: 917ms\tremaining: 1.16s\n",
      "75:\tlearn: 1794.9113644\ttotal: 930ms\tremaining: 1.15s\n",
      "76:\tlearn: 1793.6320791\ttotal: 942ms\tremaining: 1.14s\n",
      "77:\tlearn: 1792.1305320\ttotal: 954ms\tremaining: 1.13s\n",
      "78:\tlearn: 1790.9875061\ttotal: 966ms\tremaining: 1.11s\n",
      "79:\tlearn: 1788.5763169\ttotal: 979ms\tremaining: 1.1s\n",
      "80:\tlearn: 1787.6700686\ttotal: 991ms\tremaining: 1.09s\n",
      "81:\tlearn: 1786.4705691\ttotal: 1s\tremaining: 1.07s\n",
      "82:\tlearn: 1785.2973394\ttotal: 1.01s\tremaining: 1.06s\n",
      "83:\tlearn: 1784.0555656\ttotal: 1.03s\tremaining: 1.05s\n",
      "84:\tlearn: 1782.4100705\ttotal: 1.04s\tremaining: 1.04s\n",
      "85:\tlearn: 1779.3148961\ttotal: 1.05s\tremaining: 1.03s\n",
      "86:\tlearn: 1778.0153004\ttotal: 1.06s\tremaining: 1.02s\n",
      "87:\tlearn: 1777.0268999\ttotal: 1.08s\tremaining: 1s\n",
      "88:\tlearn: 1775.9273826\ttotal: 1.09s\tremaining: 992ms\n",
      "89:\tlearn: 1774.7280580\ttotal: 1.1s\tremaining: 980ms\n",
      "90:\tlearn: 1773.4346781\ttotal: 1.12s\tremaining: 969ms\n",
      "91:\tlearn: 1772.3871453\ttotal: 1.13s\tremaining: 958ms\n",
      "92:\tlearn: 1770.7547490\ttotal: 1.14s\tremaining: 947ms\n",
      "93:\tlearn: 1769.9352183\ttotal: 1.15s\tremaining: 933ms\n",
      "94:\tlearn: 1768.7431171\ttotal: 1.17s\tremaining: 921ms\n",
      "95:\tlearn: 1767.3192682\ttotal: 1.18s\tremaining: 909ms\n",
      "96:\tlearn: 1765.6631928\ttotal: 1.19s\tremaining: 896ms\n",
      "97:\tlearn: 1764.2713458\ttotal: 1.2s\tremaining: 883ms\n",
      "98:\tlearn: 1762.9188167\ttotal: 1.21s\tremaining: 871ms\n",
      "99:\tlearn: 1761.6151199\ttotal: 1.23s\tremaining: 858ms\n",
      "100:\tlearn: 1759.5271502\ttotal: 1.24s\tremaining: 846ms\n",
      "101:\tlearn: 1757.7123442\ttotal: 1.25s\tremaining: 833ms\n",
      "102:\tlearn: 1756.6501890\ttotal: 1.26s\tremaining: 820ms\n",
      "103:\tlearn: 1755.4716131\ttotal: 1.27s\tremaining: 807ms\n",
      "104:\tlearn: 1754.2959332\ttotal: 1.28s\tremaining: 794ms\n",
      "105:\tlearn: 1752.8733720\ttotal: 1.29s\tremaining: 782ms\n",
      "106:\tlearn: 1750.9456297\ttotal: 1.31s\tremaining: 771ms\n",
      "107:\tlearn: 1749.8957494\ttotal: 1.32s\tremaining: 759ms\n",
      "108:\tlearn: 1748.7538023\ttotal: 1.33s\tremaining: 747ms\n",
      "109:\tlearn: 1747.8171792\ttotal: 1.34s\tremaining: 734ms\n",
      "110:\tlearn: 1747.0976349\ttotal: 1.36s\tremaining: 721ms\n",
      "111:\tlearn: 1745.8868659\ttotal: 1.37s\tremaining: 709ms\n",
      "112:\tlearn: 1744.6099053\ttotal: 1.38s\tremaining: 696ms\n",
      "113:\tlearn: 1743.1507151\ttotal: 1.39s\tremaining: 684ms\n",
      "114:\tlearn: 1741.7271845\ttotal: 1.4s\tremaining: 671ms\n",
      "115:\tlearn: 1739.5924684\ttotal: 1.42s\tremaining: 659ms\n",
      "116:\tlearn: 1738.8383145\ttotal: 1.43s\tremaining: 646ms\n",
      "117:\tlearn: 1737.5124839\ttotal: 1.44s\tremaining: 634ms\n",
      "118:\tlearn: 1735.8712440\ttotal: 1.45s\tremaining: 622ms\n",
      "119:\tlearn: 1734.7274126\ttotal: 1.46s\tremaining: 609ms\n",
      "120:\tlearn: 1733.6414271\ttotal: 1.47s\tremaining: 596ms\n",
      "121:\tlearn: 1732.6886958\ttotal: 1.48s\tremaining: 584ms\n",
      "122:\tlearn: 1731.3292982\ttotal: 1.5s\tremaining: 571ms\n",
      "123:\tlearn: 1730.2958621\ttotal: 1.51s\tremaining: 559ms\n",
      "124:\tlearn: 1729.3452076\ttotal: 1.52s\tremaining: 547ms\n",
      "125:\tlearn: 1728.4239716\ttotal: 1.53s\tremaining: 535ms\n",
      "126:\tlearn: 1727.6287784\ttotal: 1.54s\tremaining: 523ms\n",
      "127:\tlearn: 1726.4493680\ttotal: 1.55s\tremaining: 510ms\n",
      "128:\tlearn: 1725.6778787\ttotal: 1.56s\tremaining: 497ms\n",
      "129:\tlearn: 1724.5399046\ttotal: 1.58s\tremaining: 486ms\n",
      "130:\tlearn: 1723.3924569\ttotal: 1.59s\tremaining: 473ms\n",
      "131:\tlearn: 1722.3451589\ttotal: 1.6s\tremaining: 460ms\n",
      "132:\tlearn: 1721.5973324\ttotal: 1.61s\tremaining: 448ms\n",
      "133:\tlearn: 1721.1519247\ttotal: 1.62s\tremaining: 435ms\n",
      "134:\tlearn: 1720.6236224\ttotal: 1.63s\tremaining: 423ms\n",
      "135:\tlearn: 1719.6796025\ttotal: 1.64s\tremaining: 410ms\n",
      "136:\tlearn: 1719.0331790\ttotal: 1.66s\tremaining: 399ms\n",
      "137:\tlearn: 1718.2719849\ttotal: 1.67s\tremaining: 387ms\n",
      "138:\tlearn: 1717.3481509\ttotal: 1.68s\tremaining: 374ms\n",
      "139:\tlearn: 1716.3185928\ttotal: 1.69s\tremaining: 362ms\n",
      "140:\tlearn: 1713.3385843\ttotal: 1.7s\tremaining: 350ms\n",
      "141:\tlearn: 1712.4935085\ttotal: 1.72s\tremaining: 338ms\n",
      "142:\tlearn: 1711.5648577\ttotal: 1.73s\tremaining: 326ms\n",
      "143:\tlearn: 1710.6832815\ttotal: 1.74s\tremaining: 314ms\n",
      "144:\tlearn: 1709.4979822\ttotal: 1.75s\tremaining: 302ms\n",
      "145:\tlearn: 1708.8326436\ttotal: 1.76s\tremaining: 290ms\n",
      "146:\tlearn: 1708.0435765\ttotal: 1.78s\tremaining: 278ms\n",
      "147:\tlearn: 1707.0471074\ttotal: 1.79s\tremaining: 266ms\n",
      "148:\tlearn: 1706.2250318\ttotal: 1.8s\tremaining: 254ms\n",
      "149:\tlearn: 1705.2804772\ttotal: 1.81s\tremaining: 242ms\n",
      "150:\tlearn: 1704.7291057\ttotal: 1.83s\tremaining: 230ms\n",
      "151:\tlearn: 1703.8077992\ttotal: 1.84s\tremaining: 218ms\n",
      "152:\tlearn: 1702.8462217\ttotal: 1.86s\tremaining: 206ms\n",
      "153:\tlearn: 1702.0517463\ttotal: 1.87s\tremaining: 194ms\n",
      "154:\tlearn: 1701.5621727\ttotal: 1.88s\tremaining: 182ms\n",
      "155:\tlearn: 1700.3751224\ttotal: 1.89s\tremaining: 170ms\n",
      "156:\tlearn: 1699.8985957\ttotal: 1.91s\tremaining: 158ms\n",
      "157:\tlearn: 1698.7872266\ttotal: 1.92s\tremaining: 146ms\n",
      "158:\tlearn: 1697.9421389\ttotal: 1.93s\tremaining: 134ms\n",
      "159:\tlearn: 1697.3884663\ttotal: 1.94s\tremaining: 122ms\n",
      "160:\tlearn: 1696.5761459\ttotal: 1.96s\tremaining: 109ms\n",
      "161:\tlearn: 1695.9892971\ttotal: 1.97s\tremaining: 97.2ms\n",
      "162:\tlearn: 1695.2900822\ttotal: 1.98s\tremaining: 85.1ms\n",
      "163:\tlearn: 1694.3616413\ttotal: 1.99s\tremaining: 72.9ms\n",
      "164:\tlearn: 1693.5593441\ttotal: 2.01s\tremaining: 60.8ms\n",
      "165:\tlearn: 1693.1808941\ttotal: 2.02s\tremaining: 48.6ms\n",
      "166:\tlearn: 1692.0878839\ttotal: 2.03s\tremaining: 36.5ms\n",
      "167:\tlearn: 1691.1798095\ttotal: 2.04s\tremaining: 24.3ms\n",
      "168:\tlearn: 1690.1912470\ttotal: 2.06s\tremaining: 12.2ms\n",
      "169:\tlearn: 1689.5073077\ttotal: 2.07s\tremaining: 0us\n",
      "Learning rate set to 0.34966\n",
      "0:\tlearn: 3752.5883255\ttotal: 13.5ms\tremaining: 2.29s\n",
      "1:\tlearn: 3162.4147485\ttotal: 26.7ms\tremaining: 2.24s\n",
      "2:\tlearn: 2810.0488038\ttotal: 39.8ms\tremaining: 2.21s\n",
      "3:\tlearn: 2591.3051580\ttotal: 52.6ms\tremaining: 2.18s\n",
      "4:\tlearn: 2464.1667174\ttotal: 65.1ms\tremaining: 2.15s\n",
      "5:\tlearn: 2369.6918190\ttotal: 77.8ms\tremaining: 2.13s\n",
      "6:\tlearn: 2300.1066062\ttotal: 90.8ms\tremaining: 2.11s\n",
      "7:\tlearn: 2238.1685173\ttotal: 104ms\tremaining: 2.1s\n",
      "8:\tlearn: 2201.6280333\ttotal: 116ms\tremaining: 2.07s\n",
      "9:\tlearn: 2167.5308443\ttotal: 128ms\tremaining: 2.05s\n",
      "10:\tlearn: 2134.4647568\ttotal: 144ms\tremaining: 2.08s\n",
      "11:\tlearn: 2099.2643123\ttotal: 160ms\tremaining: 2.1s\n",
      "12:\tlearn: 2076.0997713\ttotal: 177ms\tremaining: 2.14s\n",
      "13:\tlearn: 2056.1939295\ttotal: 193ms\tremaining: 2.15s\n",
      "14:\tlearn: 2047.0242894\ttotal: 209ms\tremaining: 2.15s\n",
      "15:\tlearn: 2029.9768751\ttotal: 225ms\tremaining: 2.16s\n",
      "16:\tlearn: 2015.0630337\ttotal: 242ms\tremaining: 2.17s\n",
      "17:\tlearn: 2003.1215525\ttotal: 256ms\tremaining: 2.17s\n",
      "18:\tlearn: 1996.8717113\ttotal: 271ms\tremaining: 2.15s\n",
      "19:\tlearn: 1990.2306355\ttotal: 285ms\tremaining: 2.14s\n",
      "20:\tlearn: 1981.5159578\ttotal: 300ms\tremaining: 2.13s\n",
      "21:\tlearn: 1974.4918331\ttotal: 315ms\tremaining: 2.12s\n",
      "22:\tlearn: 1965.3918121\ttotal: 331ms\tremaining: 2.11s\n",
      "23:\tlearn: 1958.8454789\ttotal: 347ms\tremaining: 2.11s\n",
      "24:\tlearn: 1950.0262953\ttotal: 360ms\tremaining: 2.09s\n",
      "25:\tlearn: 1940.8195495\ttotal: 374ms\tremaining: 2.07s\n",
      "26:\tlearn: 1935.3996156\ttotal: 386ms\tremaining: 2.04s\n",
      "27:\tlearn: 1931.1523119\ttotal: 399ms\tremaining: 2.02s\n",
      "28:\tlearn: 1925.3947710\ttotal: 416ms\tremaining: 2.02s\n",
      "29:\tlearn: 1921.5284618\ttotal: 431ms\tremaining: 2.01s\n",
      "30:\tlearn: 1915.6725325\ttotal: 445ms\tremaining: 1.99s\n",
      "31:\tlearn: 1908.9313749\ttotal: 458ms\tremaining: 1.97s\n",
      "32:\tlearn: 1905.4406354\ttotal: 474ms\tremaining: 1.97s\n",
      "33:\tlearn: 1901.9546719\ttotal: 485ms\tremaining: 1.94s\n",
      "34:\tlearn: 1897.9356277\ttotal: 497ms\tremaining: 1.92s\n",
      "35:\tlearn: 1894.7730025\ttotal: 510ms\tremaining: 1.9s\n",
      "36:\tlearn: 1890.9548980\ttotal: 522ms\tremaining: 1.88s\n",
      "37:\tlearn: 1887.0211426\ttotal: 535ms\tremaining: 1.86s\n",
      "38:\tlearn: 1881.3997437\ttotal: 549ms\tremaining: 1.84s\n",
      "39:\tlearn: 1878.3989408\ttotal: 563ms\tremaining: 1.83s\n",
      "40:\tlearn: 1875.9910669\ttotal: 577ms\tremaining: 1.81s\n",
      "41:\tlearn: 1872.9498880\ttotal: 590ms\tremaining: 1.8s\n",
      "42:\tlearn: 1869.0956710\ttotal: 602ms\tremaining: 1.78s\n",
      "43:\tlearn: 1865.4200925\ttotal: 616ms\tremaining: 1.76s\n",
      "44:\tlearn: 1860.1177322\ttotal: 630ms\tremaining: 1.75s\n",
      "45:\tlearn: 1856.9164979\ttotal: 642ms\tremaining: 1.73s\n",
      "46:\tlearn: 1853.2901364\ttotal: 653ms\tremaining: 1.71s\n",
      "47:\tlearn: 1851.6124794\ttotal: 665ms\tremaining: 1.69s\n",
      "48:\tlearn: 1847.6281665\ttotal: 678ms\tremaining: 1.67s\n",
      "49:\tlearn: 1844.0706441\ttotal: 691ms\tremaining: 1.66s\n",
      "50:\tlearn: 1841.3165103\ttotal: 704ms\tremaining: 1.64s\n",
      "51:\tlearn: 1839.0159337\ttotal: 716ms\tremaining: 1.62s\n",
      "52:\tlearn: 1837.0492520\ttotal: 729ms\tremaining: 1.61s\n",
      "53:\tlearn: 1835.9010722\ttotal: 741ms\tremaining: 1.59s\n",
      "54:\tlearn: 1833.5559001\ttotal: 753ms\tremaining: 1.57s\n",
      "55:\tlearn: 1831.0541864\ttotal: 766ms\tremaining: 1.56s\n",
      "56:\tlearn: 1828.8229874\ttotal: 778ms\tremaining: 1.54s\n",
      "57:\tlearn: 1825.8873893\ttotal: 791ms\tremaining: 1.53s\n",
      "58:\tlearn: 1823.7222745\ttotal: 804ms\tremaining: 1.51s\n",
      "59:\tlearn: 1821.4451464\ttotal: 817ms\tremaining: 1.5s\n",
      "60:\tlearn: 1818.8421479\ttotal: 830ms\tremaining: 1.48s\n",
      "61:\tlearn: 1816.9199477\ttotal: 842ms\tremaining: 1.47s\n",
      "62:\tlearn: 1814.4928561\ttotal: 855ms\tremaining: 1.45s\n",
      "63:\tlearn: 1811.3749497\ttotal: 869ms\tremaining: 1.44s\n",
      "64:\tlearn: 1809.1656835\ttotal: 881ms\tremaining: 1.42s\n",
      "65:\tlearn: 1806.8650695\ttotal: 894ms\tremaining: 1.41s\n",
      "66:\tlearn: 1805.1249499\ttotal: 906ms\tremaining: 1.39s\n",
      "67:\tlearn: 1803.0444025\ttotal: 918ms\tremaining: 1.38s\n",
      "68:\tlearn: 1801.5990086\ttotal: 930ms\tremaining: 1.36s\n",
      "69:\tlearn: 1799.3163741\ttotal: 943ms\tremaining: 1.35s\n",
      "70:\tlearn: 1797.9698888\ttotal: 956ms\tremaining: 1.33s\n",
      "71:\tlearn: 1796.5169450\ttotal: 968ms\tremaining: 1.32s\n",
      "72:\tlearn: 1795.3478616\ttotal: 980ms\tremaining: 1.3s\n",
      "73:\tlearn: 1793.6434429\ttotal: 994ms\tremaining: 1.29s\n",
      "74:\tlearn: 1792.3504497\ttotal: 1s\tremaining: 1.27s\n",
      "75:\tlearn: 1790.1127447\ttotal: 1.02s\tremaining: 1.26s\n",
      "76:\tlearn: 1787.9382039\ttotal: 1.03s\tremaining: 1.25s\n",
      "77:\tlearn: 1785.5172189\ttotal: 1.04s\tremaining: 1.23s\n",
      "78:\tlearn: 1783.7617628\ttotal: 1.06s\tremaining: 1.22s\n",
      "79:\tlearn: 1782.5058085\ttotal: 1.07s\tremaining: 1.2s\n",
      "80:\tlearn: 1780.1112477\ttotal: 1.08s\tremaining: 1.19s\n",
      "81:\tlearn: 1778.4751213\ttotal: 1.09s\tremaining: 1.18s\n",
      "82:\tlearn: 1777.2822846\ttotal: 1.11s\tremaining: 1.16s\n",
      "83:\tlearn: 1775.3411755\ttotal: 1.12s\tremaining: 1.15s\n",
      "84:\tlearn: 1773.3431139\ttotal: 1.13s\tremaining: 1.13s\n",
      "85:\tlearn: 1772.2214270\ttotal: 1.15s\tremaining: 1.12s\n",
      "86:\tlearn: 1770.8067804\ttotal: 1.16s\tremaining: 1.1s\n",
      "87:\tlearn: 1769.3572399\ttotal: 1.17s\tremaining: 1.09s\n",
      "88:\tlearn: 1767.9971947\ttotal: 1.18s\tremaining: 1.08s\n",
      "89:\tlearn: 1767.0296337\ttotal: 1.2s\tremaining: 1.06s\n",
      "90:\tlearn: 1766.5357703\ttotal: 1.21s\tremaining: 1.05s\n",
      "91:\tlearn: 1765.7968468\ttotal: 1.22s\tremaining: 1.03s\n",
      "92:\tlearn: 1764.3745580\ttotal: 1.23s\tremaining: 1.02s\n",
      "93:\tlearn: 1763.3017922\ttotal: 1.24s\tremaining: 1s\n",
      "94:\tlearn: 1761.7976274\ttotal: 1.26s\tremaining: 992ms\n",
      "95:\tlearn: 1760.2867826\ttotal: 1.27s\tremaining: 978ms\n",
      "96:\tlearn: 1758.2769519\ttotal: 1.28s\tremaining: 966ms\n",
      "97:\tlearn: 1756.9029829\ttotal: 1.3s\tremaining: 957ms\n",
      "98:\tlearn: 1755.9232916\ttotal: 1.31s\tremaining: 943ms\n",
      "99:\tlearn: 1755.3101129\ttotal: 1.33s\tremaining: 929ms\n",
      "100:\tlearn: 1754.0909827\ttotal: 1.34s\tremaining: 919ms\n",
      "101:\tlearn: 1752.5533035\ttotal: 1.36s\tremaining: 905ms\n",
      "102:\tlearn: 1751.9527119\ttotal: 1.37s\tremaining: 891ms\n",
      "103:\tlearn: 1750.3547922\ttotal: 1.38s\tremaining: 877ms\n",
      "104:\tlearn: 1749.4789243\ttotal: 1.39s\tremaining: 863ms\n",
      "105:\tlearn: 1748.3031187\ttotal: 1.41s\tremaining: 850ms\n",
      "106:\tlearn: 1747.2000893\ttotal: 1.42s\tremaining: 836ms\n",
      "107:\tlearn: 1746.2964065\ttotal: 1.44s\tremaining: 824ms\n",
      "108:\tlearn: 1745.6207460\ttotal: 1.45s\tremaining: 810ms\n",
      "109:\tlearn: 1744.0660646\ttotal: 1.46s\tremaining: 796ms\n",
      "110:\tlearn: 1743.0584473\ttotal: 1.47s\tremaining: 782ms\n",
      "111:\tlearn: 1742.2510472\ttotal: 1.48s\tremaining: 768ms\n",
      "112:\tlearn: 1741.1435323\ttotal: 1.49s\tremaining: 754ms\n",
      "113:\tlearn: 1739.7361205\ttotal: 1.51s\tremaining: 740ms\n",
      "114:\tlearn: 1739.2659528\ttotal: 1.52s\tremaining: 726ms\n",
      "115:\tlearn: 1736.6196808\ttotal: 1.53s\tremaining: 713ms\n",
      "116:\tlearn: 1735.4808596\ttotal: 1.54s\tremaining: 699ms\n",
      "117:\tlearn: 1734.4109208\ttotal: 1.56s\tremaining: 688ms\n",
      "118:\tlearn: 1733.7575156\ttotal: 1.57s\tremaining: 674ms\n",
      "119:\tlearn: 1732.9024607\ttotal: 1.59s\tremaining: 662ms\n",
      "120:\tlearn: 1732.1250462\ttotal: 1.6s\tremaining: 648ms\n",
      "121:\tlearn: 1731.0719346\ttotal: 1.62s\tremaining: 636ms\n",
      "122:\tlearn: 1729.0469978\ttotal: 1.64s\tremaining: 626ms\n",
      "123:\tlearn: 1727.8958729\ttotal: 1.65s\tremaining: 613ms\n",
      "124:\tlearn: 1726.9101626\ttotal: 1.66s\tremaining: 599ms\n",
      "125:\tlearn: 1726.0999311\ttotal: 1.68s\tremaining: 585ms\n",
      "126:\tlearn: 1725.1583024\ttotal: 1.69s\tremaining: 571ms\n",
      "127:\tlearn: 1723.8891428\ttotal: 1.7s\tremaining: 558ms\n",
      "128:\tlearn: 1723.2088161\ttotal: 1.71s\tremaining: 545ms\n",
      "129:\tlearn: 1722.4600973\ttotal: 1.73s\tremaining: 531ms\n",
      "130:\tlearn: 1721.6159644\ttotal: 1.74s\tremaining: 517ms\n",
      "131:\tlearn: 1720.6085322\ttotal: 1.75s\tremaining: 504ms\n",
      "132:\tlearn: 1719.9566825\ttotal: 1.76s\tremaining: 491ms\n",
      "133:\tlearn: 1719.2367221\ttotal: 1.77s\tremaining: 477ms\n",
      "134:\tlearn: 1718.3046354\ttotal: 1.79s\tremaining: 463ms\n",
      "135:\tlearn: 1717.6543214\ttotal: 1.8s\tremaining: 450ms\n",
      "136:\tlearn: 1717.0502371\ttotal: 1.81s\tremaining: 436ms\n",
      "137:\tlearn: 1715.7257012\ttotal: 1.82s\tremaining: 423ms\n",
      "138:\tlearn: 1714.8534558\ttotal: 1.84s\tremaining: 410ms\n",
      "139:\tlearn: 1714.0797754\ttotal: 1.85s\tremaining: 397ms\n",
      "140:\tlearn: 1713.5370117\ttotal: 1.86s\tremaining: 384ms\n",
      "141:\tlearn: 1713.2188476\ttotal: 1.88s\tremaining: 370ms\n",
      "142:\tlearn: 1712.1316808\ttotal: 1.89s\tremaining: 357ms\n",
      "143:\tlearn: 1711.3362768\ttotal: 1.9s\tremaining: 343ms\n",
      "144:\tlearn: 1709.8786279\ttotal: 1.91s\tremaining: 330ms\n",
      "145:\tlearn: 1708.8548364\ttotal: 1.93s\tremaining: 317ms\n",
      "146:\tlearn: 1707.9720397\ttotal: 1.94s\tremaining: 304ms\n",
      "147:\tlearn: 1707.0371874\ttotal: 1.96s\tremaining: 291ms\n",
      "148:\tlearn: 1705.8094032\ttotal: 1.97s\tremaining: 278ms\n",
      "149:\tlearn: 1705.0907284\ttotal: 1.98s\tremaining: 265ms\n",
      "150:\tlearn: 1704.1936323\ttotal: 2s\tremaining: 251ms\n",
      "151:\tlearn: 1703.2693003\ttotal: 2.01s\tremaining: 238ms\n",
      "152:\tlearn: 1702.1215311\ttotal: 2.02s\tremaining: 225ms\n",
      "153:\tlearn: 1701.6620300\ttotal: 2.03s\tremaining: 211ms\n",
      "154:\tlearn: 1701.0636005\ttotal: 2.05s\tremaining: 198ms\n",
      "155:\tlearn: 1700.6255894\ttotal: 2.06s\tremaining: 185ms\n",
      "156:\tlearn: 1699.5058132\ttotal: 2.07s\tremaining: 172ms\n",
      "157:\tlearn: 1698.5731972\ttotal: 2.08s\tremaining: 158ms\n",
      "158:\tlearn: 1697.8412129\ttotal: 2.1s\tremaining: 145ms\n",
      "159:\tlearn: 1697.2469380\ttotal: 2.11s\tremaining: 132ms\n",
      "160:\tlearn: 1696.6101391\ttotal: 2.12s\tremaining: 119ms\n",
      "161:\tlearn: 1695.8467552\ttotal: 2.13s\tremaining: 105ms\n",
      "162:\tlearn: 1695.1038644\ttotal: 2.15s\tremaining: 92.1ms\n",
      "163:\tlearn: 1694.6058988\ttotal: 2.16s\tremaining: 78.9ms\n",
      "164:\tlearn: 1693.4748184\ttotal: 2.17s\tremaining: 65.8ms\n",
      "165:\tlearn: 1692.8072714\ttotal: 2.18s\tremaining: 52.6ms\n",
      "166:\tlearn: 1692.1236723\ttotal: 2.19s\tremaining: 39.4ms\n",
      "167:\tlearn: 1691.4943760\ttotal: 2.21s\tremaining: 26.3ms\n",
      "168:\tlearn: 1690.4685004\ttotal: 2.22s\tremaining: 13.1ms\n",
      "169:\tlearn: 1689.8084963\ttotal: 2.23s\tremaining: 0us\n",
      "Learning rate set to 0.34966\n",
      "0:\tlearn: 3769.4401118\ttotal: 12.6ms\tremaining: 2.13s\n",
      "1:\tlearn: 3188.5082165\ttotal: 24.7ms\tremaining: 2.07s\n",
      "2:\tlearn: 2845.9250869\ttotal: 37.8ms\tremaining: 2.1s\n",
      "3:\tlearn: 2620.1787278\ttotal: 50.4ms\tremaining: 2.09s\n",
      "4:\tlearn: 2487.1923531\ttotal: 66.4ms\tremaining: 2.19s\n",
      "5:\tlearn: 2382.4144388\ttotal: 79.1ms\tremaining: 2.16s\n",
      "6:\tlearn: 2319.7741052\ttotal: 91.7ms\tremaining: 2.13s\n",
      "7:\tlearn: 2269.9253802\ttotal: 104ms\tremaining: 2.11s\n",
      "8:\tlearn: 2234.4823850\ttotal: 117ms\tremaining: 2.08s\n",
      "9:\tlearn: 2177.6862226\ttotal: 129ms\tremaining: 2.06s\n",
      "10:\tlearn: 2152.8027943\ttotal: 140ms\tremaining: 2.03s\n",
      "11:\tlearn: 2122.9988064\ttotal: 153ms\tremaining: 2.01s\n",
      "12:\tlearn: 2095.1480280\ttotal: 165ms\tremaining: 1.99s\n",
      "13:\tlearn: 2079.4295668\ttotal: 176ms\tremaining: 1.96s\n",
      "14:\tlearn: 2068.3742897\ttotal: 187ms\tremaining: 1.93s\n",
      "15:\tlearn: 2039.7579584\ttotal: 199ms\tremaining: 1.92s\n",
      "16:\tlearn: 2030.3580697\ttotal: 210ms\tremaining: 1.89s\n",
      "17:\tlearn: 2020.8683453\ttotal: 223ms\tremaining: 1.88s\n",
      "18:\tlearn: 2008.5868832\ttotal: 235ms\tremaining: 1.87s\n",
      "19:\tlearn: 1999.5055490\ttotal: 248ms\tremaining: 1.86s\n",
      "20:\tlearn: 1990.0083159\ttotal: 261ms\tremaining: 1.85s\n",
      "21:\tlearn: 1984.6919882\ttotal: 274ms\tremaining: 1.84s\n",
      "22:\tlearn: 1976.6283420\ttotal: 287ms\tremaining: 1.83s\n",
      "23:\tlearn: 1967.1644563\ttotal: 300ms\tremaining: 1.82s\n",
      "24:\tlearn: 1958.1238564\ttotal: 314ms\tremaining: 1.82s\n",
      "25:\tlearn: 1952.3912446\ttotal: 326ms\tremaining: 1.8s\n",
      "26:\tlearn: 1943.7539239\ttotal: 340ms\tremaining: 1.8s\n",
      "27:\tlearn: 1938.5993428\ttotal: 352ms\tremaining: 1.78s\n",
      "28:\tlearn: 1934.3604307\ttotal: 364ms\tremaining: 1.77s\n",
      "29:\tlearn: 1931.1530137\ttotal: 377ms\tremaining: 1.76s\n",
      "30:\tlearn: 1926.6628844\ttotal: 389ms\tremaining: 1.75s\n",
      "31:\tlearn: 1923.1056626\ttotal: 401ms\tremaining: 1.73s\n",
      "32:\tlearn: 1916.2647971\ttotal: 415ms\tremaining: 1.72s\n",
      "33:\tlearn: 1913.3832701\ttotal: 427ms\tremaining: 1.71s\n",
      "34:\tlearn: 1908.6827837\ttotal: 441ms\tremaining: 1.7s\n",
      "35:\tlearn: 1904.0452531\ttotal: 454ms\tremaining: 1.69s\n",
      "36:\tlearn: 1900.5442514\ttotal: 467ms\tremaining: 1.68s\n",
      "37:\tlearn: 1896.7594405\ttotal: 480ms\tremaining: 1.67s\n",
      "38:\tlearn: 1892.7119138\ttotal: 492ms\tremaining: 1.65s\n",
      "39:\tlearn: 1886.9066048\ttotal: 506ms\tremaining: 1.64s\n",
      "40:\tlearn: 1883.4672521\ttotal: 519ms\tremaining: 1.63s\n",
      "41:\tlearn: 1878.9419378\ttotal: 532ms\tremaining: 1.62s\n",
      "42:\tlearn: 1876.4320861\ttotal: 545ms\tremaining: 1.61s\n",
      "43:\tlearn: 1872.0139090\ttotal: 559ms\tremaining: 1.6s\n",
      "44:\tlearn: 1869.9619530\ttotal: 571ms\tremaining: 1.59s\n",
      "45:\tlearn: 1867.5864898\ttotal: 583ms\tremaining: 1.57s\n",
      "46:\tlearn: 1862.7821116\ttotal: 596ms\tremaining: 1.56s\n",
      "47:\tlearn: 1860.5461709\ttotal: 608ms\tremaining: 1.55s\n",
      "48:\tlearn: 1857.5726517\ttotal: 622ms\tremaining: 1.54s\n",
      "49:\tlearn: 1854.4786233\ttotal: 636ms\tremaining: 1.53s\n",
      "50:\tlearn: 1852.3354193\ttotal: 649ms\tremaining: 1.51s\n",
      "51:\tlearn: 1848.7436395\ttotal: 662ms\tremaining: 1.5s\n",
      "52:\tlearn: 1846.3217780\ttotal: 678ms\tremaining: 1.5s\n",
      "53:\tlearn: 1844.9180033\ttotal: 690ms\tremaining: 1.48s\n",
      "54:\tlearn: 1842.4032562\ttotal: 703ms\tremaining: 1.47s\n",
      "55:\tlearn: 1839.5076439\ttotal: 718ms\tremaining: 1.46s\n",
      "56:\tlearn: 1837.5004405\ttotal: 731ms\tremaining: 1.45s\n",
      "57:\tlearn: 1835.2263119\ttotal: 743ms\tremaining: 1.43s\n",
      "58:\tlearn: 1831.8248032\ttotal: 756ms\tremaining: 1.42s\n",
      "59:\tlearn: 1830.4799748\ttotal: 769ms\tremaining: 1.41s\n",
      "60:\tlearn: 1828.1977489\ttotal: 782ms\tremaining: 1.4s\n",
      "61:\tlearn: 1825.4540571\ttotal: 796ms\tremaining: 1.39s\n",
      "62:\tlearn: 1822.7264117\ttotal: 808ms\tremaining: 1.37s\n",
      "63:\tlearn: 1820.9780793\ttotal: 820ms\tremaining: 1.36s\n",
      "64:\tlearn: 1818.8535273\ttotal: 833ms\tremaining: 1.34s\n",
      "65:\tlearn: 1816.2859002\ttotal: 845ms\tremaining: 1.33s\n",
      "66:\tlearn: 1815.0655969\ttotal: 857ms\tremaining: 1.32s\n",
      "67:\tlearn: 1813.3673385\ttotal: 870ms\tremaining: 1.3s\n",
      "68:\tlearn: 1811.0161941\ttotal: 883ms\tremaining: 1.29s\n",
      "69:\tlearn: 1809.4917154\ttotal: 895ms\tremaining: 1.28s\n",
      "70:\tlearn: 1807.0200373\ttotal: 907ms\tremaining: 1.26s\n",
      "71:\tlearn: 1804.7030377\ttotal: 919ms\tremaining: 1.25s\n",
      "72:\tlearn: 1803.3799915\ttotal: 932ms\tremaining: 1.24s\n",
      "73:\tlearn: 1801.1877716\ttotal: 944ms\tremaining: 1.23s\n",
      "74:\tlearn: 1799.3863922\ttotal: 957ms\tremaining: 1.21s\n",
      "75:\tlearn: 1797.6019776\ttotal: 969ms\tremaining: 1.2s\n",
      "76:\tlearn: 1795.3998950\ttotal: 982ms\tremaining: 1.19s\n",
      "77:\tlearn: 1793.9372017\ttotal: 994ms\tremaining: 1.17s\n",
      "78:\tlearn: 1793.0142624\ttotal: 1.01s\tremaining: 1.16s\n",
      "79:\tlearn: 1791.1164334\ttotal: 1.02s\tremaining: 1.15s\n",
      "80:\tlearn: 1789.2934479\ttotal: 1.03s\tremaining: 1.13s\n",
      "81:\tlearn: 1787.5893505\ttotal: 1.04s\tremaining: 1.12s\n",
      "82:\tlearn: 1785.5724583\ttotal: 1.06s\tremaining: 1.11s\n",
      "83:\tlearn: 1783.9348959\ttotal: 1.07s\tremaining: 1.1s\n",
      "84:\tlearn: 1782.4686794\ttotal: 1.08s\tremaining: 1.08s\n",
      "85:\tlearn: 1781.2082603\ttotal: 1.09s\tremaining: 1.07s\n",
      "86:\tlearn: 1779.4455392\ttotal: 1.11s\tremaining: 1.06s\n",
      "87:\tlearn: 1778.1996432\ttotal: 1.12s\tremaining: 1.04s\n",
      "88:\tlearn: 1776.2325938\ttotal: 1.14s\tremaining: 1.03s\n",
      "89:\tlearn: 1774.8361359\ttotal: 1.15s\tremaining: 1.02s\n",
      "90:\tlearn: 1773.3418905\ttotal: 1.16s\tremaining: 1.01s\n",
      "91:\tlearn: 1771.5781109\ttotal: 1.17s\tremaining: 994ms\n",
      "92:\tlearn: 1770.1811528\ttotal: 1.19s\tremaining: 981ms\n",
      "93:\tlearn: 1768.5146082\ttotal: 1.2s\tremaining: 969ms\n",
      "94:\tlearn: 1767.1090397\ttotal: 1.21s\tremaining: 956ms\n",
      "95:\tlearn: 1766.0792565\ttotal: 1.22s\tremaining: 943ms\n",
      "96:\tlearn: 1764.8597114\ttotal: 1.24s\tremaining: 930ms\n",
      "97:\tlearn: 1763.5706858\ttotal: 1.25s\tremaining: 921ms\n",
      "98:\tlearn: 1762.0079367\ttotal: 1.27s\tremaining: 908ms\n",
      "99:\tlearn: 1761.0005250\ttotal: 1.28s\tremaining: 896ms\n",
      "100:\tlearn: 1759.8690336\ttotal: 1.29s\tremaining: 883ms\n",
      "101:\tlearn: 1758.9147941\ttotal: 1.3s\tremaining: 870ms\n",
      "102:\tlearn: 1758.0723427\ttotal: 1.32s\tremaining: 857ms\n",
      "103:\tlearn: 1756.9119907\ttotal: 1.33s\tremaining: 845ms\n",
      "104:\tlearn: 1756.0631356\ttotal: 1.34s\tremaining: 832ms\n",
      "105:\tlearn: 1755.2324909\ttotal: 1.35s\tremaining: 818ms\n",
      "106:\tlearn: 1754.0809886\ttotal: 1.37s\tremaining: 805ms\n",
      "107:\tlearn: 1753.2143260\ttotal: 1.38s\tremaining: 793ms\n",
      "108:\tlearn: 1752.7627350\ttotal: 1.39s\tremaining: 780ms\n",
      "109:\tlearn: 1752.2025863\ttotal: 1.41s\tremaining: 767ms\n",
      "110:\tlearn: 1751.1757406\ttotal: 1.42s\tremaining: 754ms\n",
      "111:\tlearn: 1750.0553247\ttotal: 1.43s\tremaining: 741ms\n",
      "112:\tlearn: 1748.8243545\ttotal: 1.44s\tremaining: 728ms\n",
      "113:\tlearn: 1747.1502998\ttotal: 1.46s\tremaining: 716ms\n",
      "114:\tlearn: 1746.0231760\ttotal: 1.47s\tremaining: 704ms\n",
      "115:\tlearn: 1745.1939177\ttotal: 1.49s\tremaining: 693ms\n",
      "116:\tlearn: 1744.3773672\ttotal: 1.5s\tremaining: 682ms\n",
      "117:\tlearn: 1743.3192097\ttotal: 1.52s\tremaining: 669ms\n",
      "118:\tlearn: 1741.6745434\ttotal: 1.53s\tremaining: 656ms\n",
      "119:\tlearn: 1739.5336892\ttotal: 1.54s\tremaining: 643ms\n",
      "120:\tlearn: 1737.8421451\ttotal: 1.56s\tremaining: 631ms\n",
      "121:\tlearn: 1737.0014928\ttotal: 1.57s\tremaining: 617ms\n",
      "122:\tlearn: 1735.9859586\ttotal: 1.58s\tremaining: 604ms\n",
      "123:\tlearn: 1734.4994942\ttotal: 1.59s\tremaining: 591ms\n",
      "124:\tlearn: 1733.5166168\ttotal: 1.61s\tremaining: 579ms\n",
      "125:\tlearn: 1732.4506258\ttotal: 1.62s\tremaining: 566ms\n",
      "126:\tlearn: 1731.5488915\ttotal: 1.63s\tremaining: 553ms\n",
      "127:\tlearn: 1730.8221577\ttotal: 1.64s\tremaining: 540ms\n",
      "128:\tlearn: 1729.9003228\ttotal: 1.66s\tremaining: 527ms\n",
      "129:\tlearn: 1729.3643648\ttotal: 1.67s\tremaining: 514ms\n",
      "130:\tlearn: 1728.4735918\ttotal: 1.68s\tremaining: 501ms\n",
      "131:\tlearn: 1727.7563400\ttotal: 1.7s\tremaining: 488ms\n",
      "132:\tlearn: 1726.8453168\ttotal: 1.71s\tremaining: 476ms\n",
      "133:\tlearn: 1725.9706898\ttotal: 1.72s\tremaining: 463ms\n",
      "134:\tlearn: 1724.8894046\ttotal: 1.74s\tremaining: 450ms\n",
      "135:\tlearn: 1724.4200360\ttotal: 1.75s\tremaining: 437ms\n",
      "136:\tlearn: 1723.8690306\ttotal: 1.76s\tremaining: 424ms\n",
      "137:\tlearn: 1722.6858446\ttotal: 1.77s\tremaining: 411ms\n",
      "138:\tlearn: 1721.9900565\ttotal: 1.79s\tremaining: 399ms\n",
      "139:\tlearn: 1721.2430513\ttotal: 1.8s\tremaining: 386ms\n",
      "140:\tlearn: 1720.2753785\ttotal: 1.81s\tremaining: 373ms\n",
      "141:\tlearn: 1719.1004588\ttotal: 1.83s\tremaining: 360ms\n",
      "142:\tlearn: 1718.4783541\ttotal: 1.84s\tremaining: 347ms\n",
      "143:\tlearn: 1717.9230628\ttotal: 1.85s\tremaining: 335ms\n",
      "144:\tlearn: 1716.9009062\ttotal: 1.87s\tremaining: 322ms\n",
      "145:\tlearn: 1715.6165183\ttotal: 1.88s\tremaining: 309ms\n",
      "146:\tlearn: 1714.3315312\ttotal: 1.89s\tremaining: 296ms\n",
      "147:\tlearn: 1713.2077216\ttotal: 1.91s\tremaining: 283ms\n",
      "148:\tlearn: 1712.1896255\ttotal: 1.92s\tremaining: 271ms\n",
      "149:\tlearn: 1711.2592440\ttotal: 1.93s\tremaining: 258ms\n",
      "150:\tlearn: 1710.6693053\ttotal: 1.95s\tremaining: 245ms\n",
      "151:\tlearn: 1710.1597789\ttotal: 1.96s\tremaining: 232ms\n",
      "152:\tlearn: 1709.2768917\ttotal: 1.97s\tremaining: 219ms\n",
      "153:\tlearn: 1708.3955590\ttotal: 1.98s\tremaining: 206ms\n",
      "154:\tlearn: 1707.7955057\ttotal: 2s\tremaining: 193ms\n",
      "155:\tlearn: 1707.1812277\ttotal: 2.01s\tremaining: 180ms\n",
      "156:\tlearn: 1706.1705643\ttotal: 2.02s\tremaining: 168ms\n",
      "157:\tlearn: 1705.4881656\ttotal: 2.04s\tremaining: 155ms\n",
      "158:\tlearn: 1705.1116160\ttotal: 2.05s\tremaining: 142ms\n",
      "159:\tlearn: 1704.4322228\ttotal: 2.07s\tremaining: 129ms\n",
      "160:\tlearn: 1703.5353354\ttotal: 2.08s\tremaining: 116ms\n",
      "161:\tlearn: 1702.5805887\ttotal: 2.09s\tremaining: 103ms\n",
      "162:\tlearn: 1701.6539662\ttotal: 2.1s\tremaining: 90.4ms\n",
      "163:\tlearn: 1701.0560431\ttotal: 2.12s\tremaining: 77.5ms\n",
      "164:\tlearn: 1700.4122528\ttotal: 2.13s\tremaining: 64.6ms\n",
      "165:\tlearn: 1699.4925623\ttotal: 2.14s\tremaining: 51.6ms\n",
      "166:\tlearn: 1698.5005298\ttotal: 2.16s\tremaining: 38.7ms\n",
      "167:\tlearn: 1697.8666516\ttotal: 2.17s\tremaining: 25.8ms\n",
      "168:\tlearn: 1697.4111788\ttotal: 2.18s\tremaining: 12.9ms\n",
      "169:\tlearn: 1696.8362679\ttotal: 2.19s\tremaining: 0us\n",
      "Learning rate set to 0.34966\n",
      "0:\tlearn: 3748.7702418\ttotal: 13.6ms\tremaining: 2.31s\n",
      "1:\tlearn: 3164.7133309\ttotal: 26.5ms\tremaining: 2.23s\n",
      "2:\tlearn: 2829.3519100\ttotal: 39.1ms\tremaining: 2.18s\n",
      "3:\tlearn: 2607.5540336\ttotal: 51.3ms\tremaining: 2.13s\n",
      "4:\tlearn: 2459.3545930\ttotal: 64ms\tremaining: 2.11s\n",
      "5:\tlearn: 2363.0625500\ttotal: 76.3ms\tremaining: 2.09s\n",
      "6:\tlearn: 2300.6269623\ttotal: 89.3ms\tremaining: 2.08s\n",
      "7:\tlearn: 2247.7438196\ttotal: 102ms\tremaining: 2.06s\n",
      "8:\tlearn: 2207.3836253\ttotal: 114ms\tremaining: 2.03s\n",
      "9:\tlearn: 2170.1068046\ttotal: 126ms\tremaining: 2.02s\n",
      "10:\tlearn: 2142.8499709\ttotal: 138ms\tremaining: 2s\n",
      "11:\tlearn: 2121.0033718\ttotal: 149ms\tremaining: 1.96s\n",
      "12:\tlearn: 2083.6155399\ttotal: 161ms\tremaining: 1.95s\n",
      "13:\tlearn: 2069.9011184\ttotal: 172ms\tremaining: 1.92s\n",
      "14:\tlearn: 2057.6631162\ttotal: 183ms\tremaining: 1.89s\n",
      "15:\tlearn: 2043.1867813\ttotal: 196ms\tremaining: 1.88s\n",
      "16:\tlearn: 2024.6474228\ttotal: 210ms\tremaining: 1.89s\n",
      "17:\tlearn: 2006.8504585\ttotal: 224ms\tremaining: 1.89s\n",
      "18:\tlearn: 1999.0656503\ttotal: 240ms\tremaining: 1.91s\n",
      "19:\tlearn: 1993.4449212\ttotal: 259ms\tremaining: 1.94s\n",
      "20:\tlearn: 1984.4168172\ttotal: 273ms\tremaining: 1.93s\n",
      "21:\tlearn: 1974.5729445\ttotal: 285ms\tremaining: 1.92s\n",
      "22:\tlearn: 1967.0828774\ttotal: 298ms\tremaining: 1.9s\n",
      "23:\tlearn: 1959.5477813\ttotal: 309ms\tremaining: 1.88s\n",
      "24:\tlearn: 1951.4450069\ttotal: 322ms\tremaining: 1.87s\n",
      "25:\tlearn: 1945.8822993\ttotal: 334ms\tremaining: 1.85s\n",
      "26:\tlearn: 1942.0534201\ttotal: 346ms\tremaining: 1.83s\n",
      "27:\tlearn: 1936.3071892\ttotal: 358ms\tremaining: 1.81s\n",
      "28:\tlearn: 1929.8109036\ttotal: 370ms\tremaining: 1.8s\n",
      "29:\tlearn: 1922.9051777\ttotal: 382ms\tremaining: 1.78s\n",
      "30:\tlearn: 1918.8473370\ttotal: 395ms\tremaining: 1.77s\n",
      "31:\tlearn: 1914.6713469\ttotal: 407ms\tremaining: 1.75s\n",
      "32:\tlearn: 1911.2611854\ttotal: 420ms\tremaining: 1.74s\n",
      "33:\tlearn: 1905.5337193\ttotal: 435ms\tremaining: 1.74s\n",
      "34:\tlearn: 1900.0791520\ttotal: 454ms\tremaining: 1.75s\n",
      "35:\tlearn: 1896.0305386\ttotal: 468ms\tremaining: 1.74s\n",
      "36:\tlearn: 1892.0514355\ttotal: 481ms\tremaining: 1.73s\n",
      "37:\tlearn: 1886.8802894\ttotal: 494ms\tremaining: 1.72s\n",
      "38:\tlearn: 1883.7108919\ttotal: 507ms\tremaining: 1.7s\n",
      "39:\tlearn: 1880.3626324\ttotal: 521ms\tremaining: 1.69s\n",
      "40:\tlearn: 1875.2143025\ttotal: 534ms\tremaining: 1.68s\n",
      "41:\tlearn: 1872.5882719\ttotal: 546ms\tremaining: 1.66s\n",
      "42:\tlearn: 1867.5039342\ttotal: 560ms\tremaining: 1.65s\n",
      "43:\tlearn: 1864.3349257\ttotal: 576ms\tremaining: 1.65s\n",
      "44:\tlearn: 1861.3877962\ttotal: 593ms\tremaining: 1.65s\n",
      "45:\tlearn: 1858.4690041\ttotal: 608ms\tremaining: 1.64s\n",
      "46:\tlearn: 1856.8318668\ttotal: 623ms\tremaining: 1.63s\n",
      "47:\tlearn: 1854.4710507\ttotal: 637ms\tremaining: 1.62s\n",
      "48:\tlearn: 1852.2157753\ttotal: 656ms\tremaining: 1.62s\n",
      "49:\tlearn: 1850.4251691\ttotal: 670ms\tremaining: 1.61s\n",
      "50:\tlearn: 1846.2061304\ttotal: 683ms\tremaining: 1.59s\n",
      "51:\tlearn: 1844.0259761\ttotal: 695ms\tremaining: 1.58s\n",
      "52:\tlearn: 1839.6499986\ttotal: 708ms\tremaining: 1.56s\n",
      "53:\tlearn: 1837.6853614\ttotal: 720ms\tremaining: 1.55s\n",
      "54:\tlearn: 1836.3716787\ttotal: 731ms\tremaining: 1.53s\n",
      "55:\tlearn: 1832.6299032\ttotal: 744ms\tremaining: 1.51s\n",
      "56:\tlearn: 1830.7714160\ttotal: 756ms\tremaining: 1.5s\n",
      "57:\tlearn: 1827.1959217\ttotal: 768ms\tremaining: 1.48s\n",
      "58:\tlearn: 1824.0364705\ttotal: 781ms\tremaining: 1.47s\n",
      "59:\tlearn: 1821.8512835\ttotal: 793ms\tremaining: 1.45s\n",
      "60:\tlearn: 1820.7080885\ttotal: 806ms\tremaining: 1.44s\n",
      "61:\tlearn: 1818.2090573\ttotal: 819ms\tremaining: 1.43s\n",
      "62:\tlearn: 1816.5839608\ttotal: 831ms\tremaining: 1.41s\n",
      "63:\tlearn: 1814.7517397\ttotal: 843ms\tremaining: 1.4s\n",
      "64:\tlearn: 1812.1857487\ttotal: 856ms\tremaining: 1.38s\n",
      "65:\tlearn: 1810.5470598\ttotal: 868ms\tremaining: 1.37s\n",
      "66:\tlearn: 1808.3864388\ttotal: 879ms\tremaining: 1.35s\n",
      "67:\tlearn: 1806.2669588\ttotal: 892ms\tremaining: 1.34s\n",
      "68:\tlearn: 1803.7820171\ttotal: 905ms\tremaining: 1.32s\n",
      "69:\tlearn: 1802.0707395\ttotal: 917ms\tremaining: 1.31s\n",
      "70:\tlearn: 1799.8595120\ttotal: 929ms\tremaining: 1.29s\n",
      "71:\tlearn: 1797.5136524\ttotal: 943ms\tremaining: 1.28s\n",
      "72:\tlearn: 1795.7250397\ttotal: 955ms\tremaining: 1.27s\n",
      "73:\tlearn: 1794.2651859\ttotal: 966ms\tremaining: 1.25s\n",
      "74:\tlearn: 1792.0477543\ttotal: 978ms\tremaining: 1.24s\n",
      "75:\tlearn: 1790.4517339\ttotal: 990ms\tremaining: 1.22s\n",
      "76:\tlearn: 1789.2518008\ttotal: 1s\tremaining: 1.21s\n",
      "77:\tlearn: 1787.0255143\ttotal: 1.01s\tremaining: 1.19s\n",
      "78:\tlearn: 1784.9727390\ttotal: 1.03s\tremaining: 1.19s\n",
      "79:\tlearn: 1783.7351512\ttotal: 1.04s\tremaining: 1.17s\n",
      "80:\tlearn: 1782.4698632\ttotal: 1.05s\tremaining: 1.16s\n",
      "81:\tlearn: 1780.9435765\ttotal: 1.06s\tremaining: 1.14s\n",
      "82:\tlearn: 1778.7953964\ttotal: 1.07s\tremaining: 1.13s\n",
      "83:\tlearn: 1776.7414685\ttotal: 1.09s\tremaining: 1.11s\n",
      "84:\tlearn: 1775.2292796\ttotal: 1.1s\tremaining: 1.1s\n",
      "85:\tlearn: 1773.8632689\ttotal: 1.11s\tremaining: 1.09s\n",
      "86:\tlearn: 1772.3503139\ttotal: 1.12s\tremaining: 1.07s\n",
      "87:\tlearn: 1771.4167407\ttotal: 1.14s\tremaining: 1.06s\n",
      "88:\tlearn: 1770.2221943\ttotal: 1.15s\tremaining: 1.04s\n",
      "89:\tlearn: 1768.8247861\ttotal: 1.16s\tremaining: 1.03s\n",
      "90:\tlearn: 1767.0176627\ttotal: 1.17s\tremaining: 1.02s\n",
      "91:\tlearn: 1765.6288578\ttotal: 1.19s\tremaining: 1s\n",
      "92:\tlearn: 1763.6888517\ttotal: 1.2s\tremaining: 992ms\n",
      "93:\tlearn: 1762.8913882\ttotal: 1.21s\tremaining: 980ms\n",
      "94:\tlearn: 1762.3987779\ttotal: 1.22s\tremaining: 965ms\n",
      "95:\tlearn: 1761.2873149\ttotal: 1.23s\tremaining: 951ms\n",
      "96:\tlearn: 1760.0431507\ttotal: 1.24s\tremaining: 936ms\n",
      "97:\tlearn: 1758.9551555\ttotal: 1.25s\tremaining: 922ms\n",
      "98:\tlearn: 1757.7870859\ttotal: 1.27s\tremaining: 909ms\n",
      "99:\tlearn: 1756.7487455\ttotal: 1.28s\tremaining: 895ms\n",
      "100:\tlearn: 1755.0817366\ttotal: 1.29s\tremaining: 881ms\n",
      "101:\tlearn: 1754.1010191\ttotal: 1.3s\tremaining: 867ms\n",
      "102:\tlearn: 1752.2696634\ttotal: 1.31s\tremaining: 853ms\n",
      "103:\tlearn: 1751.5804046\ttotal: 1.32s\tremaining: 840ms\n",
      "104:\tlearn: 1750.7091810\ttotal: 1.33s\tremaining: 826ms\n",
      "105:\tlearn: 1749.2718697\ttotal: 1.35s\tremaining: 813ms\n",
      "106:\tlearn: 1747.9569698\ttotal: 1.36s\tremaining: 800ms\n",
      "107:\tlearn: 1746.1289169\ttotal: 1.37s\tremaining: 787ms\n",
      "108:\tlearn: 1744.8763264\ttotal: 1.38s\tremaining: 773ms\n",
      "109:\tlearn: 1743.1366436\ttotal: 1.39s\tremaining: 761ms\n",
      "110:\tlearn: 1742.0056011\ttotal: 1.41s\tremaining: 747ms\n",
      "111:\tlearn: 1741.1832889\ttotal: 1.42s\tremaining: 734ms\n",
      "112:\tlearn: 1740.2323159\ttotal: 1.43s\tremaining: 721ms\n",
      "113:\tlearn: 1739.2991710\ttotal: 1.44s\tremaining: 707ms\n",
      "114:\tlearn: 1738.0853553\ttotal: 1.45s\tremaining: 694ms\n",
      "115:\tlearn: 1737.1049268\ttotal: 1.46s\tremaining: 681ms\n",
      "116:\tlearn: 1736.2792408\ttotal: 1.47s\tremaining: 667ms\n",
      "117:\tlearn: 1735.8613745\ttotal: 1.48s\tremaining: 654ms\n",
      "118:\tlearn: 1734.9234538\ttotal: 1.5s\tremaining: 641ms\n",
      "119:\tlearn: 1733.7586539\ttotal: 1.51s\tremaining: 628ms\n",
      "120:\tlearn: 1732.7367725\ttotal: 1.52s\tremaining: 615ms\n",
      "121:\tlearn: 1731.4746389\ttotal: 1.53s\tremaining: 603ms\n",
      "122:\tlearn: 1731.0575406\ttotal: 1.54s\tremaining: 590ms\n",
      "123:\tlearn: 1730.2123757\ttotal: 1.55s\tremaining: 577ms\n",
      "124:\tlearn: 1729.6830178\ttotal: 1.56s\tremaining: 564ms\n",
      "125:\tlearn: 1728.6263322\ttotal: 1.58s\tremaining: 551ms\n",
      "126:\tlearn: 1728.1529509\ttotal: 1.59s\tremaining: 537ms\n",
      "127:\tlearn: 1726.7323868\ttotal: 1.6s\tremaining: 524ms\n",
      "128:\tlearn: 1725.6839285\ttotal: 1.61s\tremaining: 512ms\n",
      "129:\tlearn: 1724.7854866\ttotal: 1.62s\tremaining: 499ms\n",
      "130:\tlearn: 1724.2104089\ttotal: 1.63s\tremaining: 486ms\n",
      "131:\tlearn: 1722.7729048\ttotal: 1.64s\tremaining: 473ms\n",
      "132:\tlearn: 1720.8501175\ttotal: 1.66s\tremaining: 460ms\n",
      "133:\tlearn: 1720.1098474\ttotal: 1.67s\tremaining: 448ms\n",
      "134:\tlearn: 1719.4887925\ttotal: 1.68s\tremaining: 435ms\n",
      "135:\tlearn: 1718.2229013\ttotal: 1.69s\tremaining: 423ms\n",
      "136:\tlearn: 1717.2976012\ttotal: 1.7s\tremaining: 410ms\n",
      "137:\tlearn: 1716.1982032\ttotal: 1.72s\tremaining: 398ms\n",
      "138:\tlearn: 1715.3299702\ttotal: 1.73s\tremaining: 385ms\n",
      "139:\tlearn: 1714.5103513\ttotal: 1.74s\tremaining: 373ms\n",
      "140:\tlearn: 1713.4746398\ttotal: 1.75s\tremaining: 360ms\n",
      "141:\tlearn: 1712.8629471\ttotal: 1.76s\tremaining: 347ms\n",
      "142:\tlearn: 1712.1839140\ttotal: 1.77s\tremaining: 335ms\n",
      "143:\tlearn: 1711.5189824\ttotal: 1.78s\tremaining: 322ms\n",
      "144:\tlearn: 1710.7923413\ttotal: 1.79s\tremaining: 309ms\n",
      "145:\tlearn: 1709.4701810\ttotal: 1.81s\tremaining: 297ms\n",
      "146:\tlearn: 1708.2154446\ttotal: 1.82s\tremaining: 285ms\n",
      "147:\tlearn: 1707.0256674\ttotal: 1.83s\tremaining: 272ms\n",
      "148:\tlearn: 1706.2647597\ttotal: 1.84s\tremaining: 260ms\n",
      "149:\tlearn: 1705.4579441\ttotal: 1.86s\tremaining: 247ms\n",
      "150:\tlearn: 1704.9149388\ttotal: 1.87s\tremaining: 236ms\n",
      "151:\tlearn: 1704.0292264\ttotal: 1.89s\tremaining: 223ms\n",
      "152:\tlearn: 1703.4154487\ttotal: 1.9s\tremaining: 211ms\n",
      "153:\tlearn: 1702.6533637\ttotal: 1.91s\tremaining: 198ms\n",
      "154:\tlearn: 1702.0012602\ttotal: 1.92s\tremaining: 186ms\n",
      "155:\tlearn: 1700.7805838\ttotal: 1.93s\tremaining: 173ms\n",
      "156:\tlearn: 1699.9004077\ttotal: 1.94s\tremaining: 161ms\n",
      "157:\tlearn: 1699.3266008\ttotal: 1.96s\tremaining: 149ms\n",
      "158:\tlearn: 1698.1864620\ttotal: 1.97s\tremaining: 136ms\n",
      "159:\tlearn: 1697.5417295\ttotal: 1.98s\tremaining: 124ms\n",
      "160:\tlearn: 1696.8320763\ttotal: 1.99s\tremaining: 111ms\n",
      "161:\tlearn: 1695.7130904\ttotal: 2s\tremaining: 98.9ms\n",
      "162:\tlearn: 1694.9267192\ttotal: 2.01s\tremaining: 86.5ms\n",
      "163:\tlearn: 1694.3104252\ttotal: 2.02s\tremaining: 74.1ms\n",
      "164:\tlearn: 1693.2863469\ttotal: 2.04s\tremaining: 61.8ms\n",
      "165:\tlearn: 1692.7611080\ttotal: 2.05s\tremaining: 49.4ms\n",
      "166:\tlearn: 1692.0588799\ttotal: 2.06s\tremaining: 37ms\n",
      "167:\tlearn: 1691.5482336\ttotal: 2.07s\tremaining: 24.7ms\n",
      "168:\tlearn: 1690.7740520\ttotal: 2.09s\tremaining: 12.3ms\n",
      "169:\tlearn: 1690.1222046\ttotal: 2.1s\tremaining: 0us\n",
      "Learning rate set to 0.362207\n",
      "0:\tlearn: 3726.1399612\ttotal: 16.7ms\tremaining: 2.83s\n",
      "1:\tlearn: 3137.0677743\ttotal: 33.1ms\tremaining: 2.78s\n",
      "2:\tlearn: 2803.1312067\ttotal: 49.9ms\tremaining: 2.78s\n",
      "3:\tlearn: 2585.7393458\ttotal: 64.8ms\tremaining: 2.69s\n",
      "4:\tlearn: 2452.0635192\ttotal: 81.8ms\tremaining: 2.7s\n",
      "5:\tlearn: 2357.5481897\ttotal: 95.9ms\tremaining: 2.62s\n",
      "6:\tlearn: 2298.8041423\ttotal: 110ms\tremaining: 2.56s\n",
      "7:\tlearn: 2254.4391867\ttotal: 124ms\tremaining: 2.51s\n",
      "8:\tlearn: 2203.6203954\ttotal: 138ms\tremaining: 2.47s\n",
      "9:\tlearn: 2159.9655328\ttotal: 152ms\tremaining: 2.43s\n",
      "10:\tlearn: 2132.4099274\ttotal: 166ms\tremaining: 2.4s\n",
      "11:\tlearn: 2113.3972020\ttotal: 183ms\tremaining: 2.41s\n",
      "12:\tlearn: 2084.6549982\ttotal: 201ms\tremaining: 2.42s\n",
      "13:\tlearn: 2063.5590998\ttotal: 215ms\tremaining: 2.4s\n",
      "14:\tlearn: 2053.9838113\ttotal: 229ms\tremaining: 2.37s\n",
      "15:\tlearn: 2046.0536681\ttotal: 243ms\tremaining: 2.34s\n",
      "16:\tlearn: 2019.9701562\ttotal: 257ms\tremaining: 2.31s\n",
      "17:\tlearn: 2007.7273630\ttotal: 272ms\tremaining: 2.3s\n",
      "18:\tlearn: 1995.9141581\ttotal: 291ms\tremaining: 2.31s\n",
      "19:\tlearn: 1988.2777212\ttotal: 305ms\tremaining: 2.29s\n",
      "20:\tlearn: 1979.2189707\ttotal: 318ms\tremaining: 2.26s\n",
      "21:\tlearn: 1972.7420838\ttotal: 333ms\tremaining: 2.24s\n",
      "22:\tlearn: 1965.4372959\ttotal: 349ms\tremaining: 2.23s\n",
      "23:\tlearn: 1956.0195923\ttotal: 364ms\tremaining: 2.21s\n",
      "24:\tlearn: 1951.7041371\ttotal: 378ms\tremaining: 2.19s\n",
      "25:\tlearn: 1948.1005543\ttotal: 391ms\tremaining: 2.17s\n",
      "26:\tlearn: 1941.1580126\ttotal: 406ms\tremaining: 2.15s\n",
      "27:\tlearn: 1937.5506752\ttotal: 419ms\tremaining: 2.12s\n",
      "28:\tlearn: 1930.0717574\ttotal: 434ms\tremaining: 2.11s\n",
      "29:\tlearn: 1926.1473280\ttotal: 450ms\tremaining: 2.1s\n",
      "30:\tlearn: 1922.6109569\ttotal: 463ms\tremaining: 2.08s\n",
      "31:\tlearn: 1919.0700575\ttotal: 478ms\tremaining: 2.06s\n",
      "32:\tlearn: 1915.6206916\ttotal: 491ms\tremaining: 2.04s\n",
      "33:\tlearn: 1911.9299984\ttotal: 506ms\tremaining: 2.02s\n",
      "34:\tlearn: 1905.8173130\ttotal: 520ms\tremaining: 2.01s\n",
      "35:\tlearn: 1901.1266609\ttotal: 536ms\tremaining: 2s\n",
      "36:\tlearn: 1899.0617122\ttotal: 551ms\tremaining: 1.98s\n",
      "37:\tlearn: 1895.5075966\ttotal: 567ms\tremaining: 1.97s\n",
      "38:\tlearn: 1892.2488470\ttotal: 582ms\tremaining: 1.95s\n",
      "39:\tlearn: 1888.9877523\ttotal: 597ms\tremaining: 1.94s\n",
      "40:\tlearn: 1883.6110191\ttotal: 612ms\tremaining: 1.93s\n",
      "41:\tlearn: 1880.2469775\ttotal: 626ms\tremaining: 1.91s\n",
      "42:\tlearn: 1877.0320568\ttotal: 642ms\tremaining: 1.89s\n",
      "43:\tlearn: 1873.4418950\ttotal: 656ms\tremaining: 1.88s\n",
      "44:\tlearn: 1870.0378004\ttotal: 671ms\tremaining: 1.86s\n",
      "45:\tlearn: 1868.1822764\ttotal: 685ms\tremaining: 1.84s\n",
      "46:\tlearn: 1866.0987715\ttotal: 698ms\tremaining: 1.83s\n",
      "47:\tlearn: 1863.5891578\ttotal: 712ms\tremaining: 1.81s\n",
      "48:\tlearn: 1861.3555302\ttotal: 727ms\tremaining: 1.79s\n",
      "49:\tlearn: 1857.4097641\ttotal: 740ms\tremaining: 1.78s\n",
      "50:\tlearn: 1854.6746206\ttotal: 756ms\tremaining: 1.76s\n",
      "51:\tlearn: 1852.2218007\ttotal: 771ms\tremaining: 1.75s\n",
      "52:\tlearn: 1850.0597945\ttotal: 786ms\tremaining: 1.74s\n",
      "53:\tlearn: 1848.2531020\ttotal: 801ms\tremaining: 1.72s\n",
      "54:\tlearn: 1846.0566112\ttotal: 815ms\tremaining: 1.7s\n",
      "55:\tlearn: 1842.3073649\ttotal: 829ms\tremaining: 1.69s\n",
      "56:\tlearn: 1839.8937775\ttotal: 844ms\tremaining: 1.67s\n",
      "57:\tlearn: 1837.2885919\ttotal: 864ms\tremaining: 1.67s\n",
      "58:\tlearn: 1835.3357337\ttotal: 878ms\tremaining: 1.65s\n",
      "59:\tlearn: 1832.4523384\ttotal: 893ms\tremaining: 1.64s\n",
      "60:\tlearn: 1831.1232116\ttotal: 907ms\tremaining: 1.62s\n",
      "61:\tlearn: 1829.2725546\ttotal: 923ms\tremaining: 1.61s\n",
      "62:\tlearn: 1827.2173242\ttotal: 937ms\tremaining: 1.59s\n",
      "63:\tlearn: 1824.9241169\ttotal: 952ms\tremaining: 1.58s\n",
      "64:\tlearn: 1823.5345887\ttotal: 967ms\tremaining: 1.56s\n",
      "65:\tlearn: 1822.4873869\ttotal: 980ms\tremaining: 1.54s\n",
      "66:\tlearn: 1820.0164696\ttotal: 995ms\tremaining: 1.53s\n",
      "67:\tlearn: 1816.5321823\ttotal: 1.01s\tremaining: 1.52s\n",
      "68:\tlearn: 1814.4539214\ttotal: 1.03s\tremaining: 1.5s\n",
      "69:\tlearn: 1812.6521830\ttotal: 1.04s\tremaining: 1.49s\n",
      "70:\tlearn: 1810.9935871\ttotal: 1.06s\tremaining: 1.47s\n",
      "71:\tlearn: 1809.4007722\ttotal: 1.07s\tremaining: 1.46s\n",
      "72:\tlearn: 1807.9715445\ttotal: 1.08s\tremaining: 1.44s\n",
      "73:\tlearn: 1806.2186405\ttotal: 1.1s\tremaining: 1.42s\n",
      "74:\tlearn: 1804.6364334\ttotal: 1.11s\tremaining: 1.41s\n",
      "75:\tlearn: 1803.1501154\ttotal: 1.13s\tremaining: 1.39s\n",
      "76:\tlearn: 1801.5104290\ttotal: 1.14s\tremaining: 1.38s\n",
      "77:\tlearn: 1799.0050074\ttotal: 1.16s\tremaining: 1.36s\n",
      "78:\tlearn: 1796.9200054\ttotal: 1.17s\tremaining: 1.35s\n",
      "79:\tlearn: 1795.7959772\ttotal: 1.19s\tremaining: 1.33s\n",
      "80:\tlearn: 1794.6464597\ttotal: 1.2s\tremaining: 1.32s\n",
      "81:\tlearn: 1792.9161179\ttotal: 1.22s\tremaining: 1.3s\n",
      "82:\tlearn: 1791.6039167\ttotal: 1.23s\tremaining: 1.29s\n",
      "83:\tlearn: 1790.6802865\ttotal: 1.24s\tremaining: 1.27s\n",
      "84:\tlearn: 1789.4379677\ttotal: 1.26s\tremaining: 1.26s\n",
      "85:\tlearn: 1788.3895684\ttotal: 1.27s\tremaining: 1.24s\n",
      "86:\tlearn: 1787.2095637\ttotal: 1.29s\tremaining: 1.23s\n",
      "87:\tlearn: 1785.6891063\ttotal: 1.3s\tremaining: 1.21s\n",
      "88:\tlearn: 1784.3699966\ttotal: 1.32s\tremaining: 1.2s\n",
      "89:\tlearn: 1782.6908579\ttotal: 1.33s\tremaining: 1.18s\n",
      "90:\tlearn: 1781.4720796\ttotal: 1.35s\tremaining: 1.17s\n",
      "91:\tlearn: 1780.3092259\ttotal: 1.36s\tremaining: 1.15s\n",
      "92:\tlearn: 1778.8974279\ttotal: 1.38s\tremaining: 1.14s\n",
      "93:\tlearn: 1778.1559696\ttotal: 1.39s\tremaining: 1.12s\n",
      "94:\tlearn: 1777.1581792\ttotal: 1.41s\tremaining: 1.11s\n",
      "95:\tlearn: 1775.0355889\ttotal: 1.42s\tremaining: 1.09s\n",
      "96:\tlearn: 1774.0496436\ttotal: 1.44s\tremaining: 1.08s\n",
      "97:\tlearn: 1772.8471450\ttotal: 1.45s\tremaining: 1.07s\n",
      "98:\tlearn: 1771.0728705\ttotal: 1.47s\tremaining: 1.05s\n",
      "99:\tlearn: 1770.1354525\ttotal: 1.49s\tremaining: 1.04s\n",
      "100:\tlearn: 1769.0711512\ttotal: 1.51s\tremaining: 1.03s\n",
      "101:\tlearn: 1767.9086702\ttotal: 1.53s\tremaining: 1.02s\n",
      "102:\tlearn: 1766.9130859\ttotal: 1.55s\tremaining: 1.01s\n",
      "103:\tlearn: 1765.2075834\ttotal: 1.57s\tremaining: 997ms\n",
      "104:\tlearn: 1764.3725318\ttotal: 1.59s\tremaining: 984ms\n",
      "105:\tlearn: 1763.1952396\ttotal: 1.61s\tremaining: 971ms\n",
      "106:\tlearn: 1762.6516818\ttotal: 1.63s\tremaining: 957ms\n",
      "107:\tlearn: 1760.9817281\ttotal: 1.65s\tremaining: 944ms\n",
      "108:\tlearn: 1759.8183816\ttotal: 1.66s\tremaining: 931ms\n",
      "109:\tlearn: 1758.9591077\ttotal: 1.68s\tremaining: 918ms\n",
      "110:\tlearn: 1758.2150925\ttotal: 1.7s\tremaining: 905ms\n",
      "111:\tlearn: 1757.4163977\ttotal: 1.72s\tremaining: 890ms\n",
      "112:\tlearn: 1756.6524904\ttotal: 1.74s\tremaining: 875ms\n",
      "113:\tlearn: 1755.9498522\ttotal: 1.75s\tremaining: 859ms\n",
      "114:\tlearn: 1755.1639008\ttotal: 1.76s\tremaining: 844ms\n",
      "115:\tlearn: 1753.3679923\ttotal: 1.78s\tremaining: 829ms\n",
      "116:\tlearn: 1752.3469245\ttotal: 1.8s\tremaining: 814ms\n",
      "117:\tlearn: 1751.7915570\ttotal: 1.81s\tremaining: 799ms\n",
      "118:\tlearn: 1751.0758222\ttotal: 1.83s\tremaining: 783ms\n",
      "119:\tlearn: 1750.0266378\ttotal: 1.84s\tremaining: 768ms\n",
      "120:\tlearn: 1748.9272140\ttotal: 1.86s\tremaining: 753ms\n",
      "121:\tlearn: 1748.2155470\ttotal: 1.87s\tremaining: 737ms\n",
      "122:\tlearn: 1746.7114042\ttotal: 1.89s\tremaining: 722ms\n",
      "123:\tlearn: 1745.6431263\ttotal: 1.91s\tremaining: 707ms\n",
      "124:\tlearn: 1744.3043991\ttotal: 1.92s\tremaining: 692ms\n",
      "125:\tlearn: 1743.6158186\ttotal: 1.94s\tremaining: 676ms\n",
      "126:\tlearn: 1742.8513307\ttotal: 1.95s\tremaining: 660ms\n",
      "127:\tlearn: 1741.7350492\ttotal: 1.97s\tremaining: 645ms\n",
      "128:\tlearn: 1740.7175151\ttotal: 1.98s\tremaining: 630ms\n",
      "129:\tlearn: 1739.4354963\ttotal: 2s\tremaining: 615ms\n",
      "130:\tlearn: 1738.2392869\ttotal: 2.02s\tremaining: 600ms\n",
      "131:\tlearn: 1737.4358011\ttotal: 2.03s\tremaining: 584ms\n",
      "132:\tlearn: 1736.4499195\ttotal: 2.04s\tremaining: 569ms\n",
      "133:\tlearn: 1735.9978928\ttotal: 2.06s\tremaining: 553ms\n",
      "134:\tlearn: 1735.0116328\ttotal: 2.08s\tremaining: 538ms\n",
      "135:\tlearn: 1734.0861065\ttotal: 2.09s\tremaining: 523ms\n",
      "136:\tlearn: 1733.7128217\ttotal: 2.1s\tremaining: 507ms\n",
      "137:\tlearn: 1733.0802893\ttotal: 2.12s\tremaining: 492ms\n",
      "138:\tlearn: 1731.6690637\ttotal: 2.14s\tremaining: 476ms\n",
      "139:\tlearn: 1731.0879081\ttotal: 2.15s\tremaining: 461ms\n",
      "140:\tlearn: 1730.6577520\ttotal: 2.17s\tremaining: 446ms\n",
      "141:\tlearn: 1729.8280769\ttotal: 2.18s\tremaining: 430ms\n",
      "142:\tlearn: 1728.2761921\ttotal: 2.2s\tremaining: 415ms\n",
      "143:\tlearn: 1727.6099594\ttotal: 2.21s\tremaining: 399ms\n",
      "144:\tlearn: 1725.5901150\ttotal: 2.23s\tremaining: 384ms\n",
      "145:\tlearn: 1724.6040558\ttotal: 2.24s\tremaining: 369ms\n",
      "146:\tlearn: 1723.7011023\ttotal: 2.26s\tremaining: 353ms\n",
      "147:\tlearn: 1721.9673732\ttotal: 2.27s\tremaining: 338ms\n",
      "148:\tlearn: 1720.8705755\ttotal: 2.29s\tremaining: 323ms\n",
      "149:\tlearn: 1720.0760129\ttotal: 2.3s\tremaining: 307ms\n",
      "150:\tlearn: 1719.4139905\ttotal: 2.32s\tremaining: 292ms\n",
      "151:\tlearn: 1718.6003352\ttotal: 2.33s\tremaining: 276ms\n",
      "152:\tlearn: 1717.8603143\ttotal: 2.35s\tremaining: 261ms\n",
      "153:\tlearn: 1717.2318321\ttotal: 2.36s\tremaining: 245ms\n",
      "154:\tlearn: 1716.8649240\ttotal: 2.38s\tremaining: 230ms\n",
      "155:\tlearn: 1716.5085935\ttotal: 2.39s\tremaining: 214ms\n",
      "156:\tlearn: 1716.1670941\ttotal: 2.4s\tremaining: 199ms\n",
      "157:\tlearn: 1715.2618366\ttotal: 2.42s\tremaining: 184ms\n",
      "158:\tlearn: 1714.8402137\ttotal: 2.43s\tremaining: 168ms\n",
      "159:\tlearn: 1714.1050374\ttotal: 2.45s\tremaining: 153ms\n",
      "160:\tlearn: 1713.1927235\ttotal: 2.46s\tremaining: 138ms\n",
      "161:\tlearn: 1712.4579303\ttotal: 2.48s\tremaining: 122ms\n",
      "162:\tlearn: 1710.0623662\ttotal: 2.49s\tremaining: 107ms\n",
      "163:\tlearn: 1709.1566486\ttotal: 2.51s\tremaining: 91.8ms\n",
      "164:\tlearn: 1708.3895564\ttotal: 2.52s\tremaining: 76.5ms\n",
      "165:\tlearn: 1707.6556602\ttotal: 2.54s\tremaining: 61.2ms\n",
      "166:\tlearn: 1706.9563323\ttotal: 2.56s\tremaining: 45.9ms\n",
      "167:\tlearn: 1706.1778799\ttotal: 2.57s\tremaining: 30.6ms\n",
      "168:\tlearn: 1706.0365812\ttotal: 2.58s\tremaining: 15.3ms\n",
      "169:\tlearn: 1705.0397268\ttotal: 2.6s\tremaining: 0us\n",
      "CPU times: user 35.1 s, sys: 477 ms, total: 35.6 s\n",
      "Wall time: 44.1 s\n"
     ]
    },
    {
     "data": {
      "text/plain": [
       "GridSearchCV(cv=5,\n",
       "             estimator=<catboost.core.CatBoostRegressor object at 0x7f1c8e1997c0>,\n",
       "             param_grid={'n_estimators': range(150, 180, 10)})"
      ]
     },
     "execution_count": 23,
     "metadata": {},
     "output_type": "execute_result"
    }
   ],
   "source": [
    "%%time\n",
    "\n",
    "#запустим модель CatBoostRegressor на выборке с кодированием, подберем лучший гиперпараметр и сравним с результатами прочих моделей\n",
    "\n",
    "\n",
    "parametrs = {'n_estimators': range (150, 180, 10)}\n",
    "grid = GridSearchCV(CatBoostRegressor(), parametrs, cv=5)\n",
    "grid.fit(features_train_ordinal, target_train_ordinal)\n"
   ]
  },
  {
   "cell_type": "code",
   "execution_count": 24,
   "metadata": {},
   "outputs": [
    {
     "data": {
      "text/plain": [
       "{'n_estimators': 170}"
      ]
     },
     "execution_count": 24,
     "metadata": {},
     "output_type": "execute_result"
    }
   ],
   "source": [
    "grid.best_params_"
   ]
  },
  {
   "cell_type": "code",
   "execution_count": 25,
   "metadata": {},
   "outputs": [
    {
     "name": "stdout",
     "output_type": "stream",
     "text": [
      "Learning rate set to 0.362207\n",
      "0:\tlearn: 3726.1399612\ttotal: 16.1ms\tremaining: 2.73s\n",
      "1:\tlearn: 3137.0677743\ttotal: 31.7ms\tremaining: 2.66s\n",
      "2:\tlearn: 2803.1312067\ttotal: 46.6ms\tremaining: 2.59s\n",
      "3:\tlearn: 2585.7393458\ttotal: 61.7ms\tremaining: 2.56s\n",
      "4:\tlearn: 2452.0635192\ttotal: 77.1ms\tremaining: 2.54s\n",
      "5:\tlearn: 2357.5481897\ttotal: 91.7ms\tremaining: 2.51s\n",
      "6:\tlearn: 2298.8041423\ttotal: 108ms\tremaining: 2.51s\n",
      "7:\tlearn: 2254.4391867\ttotal: 122ms\tremaining: 2.48s\n",
      "8:\tlearn: 2203.6203954\ttotal: 137ms\tremaining: 2.46s\n",
      "9:\tlearn: 2159.9655328\ttotal: 153ms\tremaining: 2.45s\n",
      "10:\tlearn: 2132.4099274\ttotal: 167ms\tremaining: 2.41s\n",
      "11:\tlearn: 2113.3972020\ttotal: 180ms\tremaining: 2.37s\n",
      "12:\tlearn: 2084.6549982\ttotal: 194ms\tremaining: 2.34s\n",
      "13:\tlearn: 2063.5590998\ttotal: 218ms\tremaining: 2.43s\n",
      "14:\tlearn: 2053.9838113\ttotal: 241ms\tremaining: 2.49s\n",
      "15:\tlearn: 2046.0536681\ttotal: 260ms\tremaining: 2.5s\n",
      "16:\tlearn: 2019.9701562\ttotal: 276ms\tremaining: 2.48s\n",
      "17:\tlearn: 2007.7273630\ttotal: 292ms\tremaining: 2.46s\n",
      "18:\tlearn: 1995.9141581\ttotal: 309ms\tremaining: 2.45s\n",
      "19:\tlearn: 1988.2777212\ttotal: 328ms\tremaining: 2.46s\n",
      "20:\tlearn: 1979.2189707\ttotal: 342ms\tremaining: 2.43s\n",
      "21:\tlearn: 1972.7420838\ttotal: 357ms\tremaining: 2.4s\n",
      "22:\tlearn: 1965.4372959\ttotal: 376ms\tremaining: 2.4s\n",
      "23:\tlearn: 1956.0195923\ttotal: 392ms\tremaining: 2.39s\n",
      "24:\tlearn: 1951.7041371\ttotal: 408ms\tremaining: 2.37s\n",
      "25:\tlearn: 1948.1005543\ttotal: 423ms\tremaining: 2.34s\n",
      "26:\tlearn: 1941.1580126\ttotal: 441ms\tremaining: 2.33s\n",
      "27:\tlearn: 1937.5506752\ttotal: 456ms\tremaining: 2.31s\n",
      "28:\tlearn: 1930.0717574\ttotal: 471ms\tremaining: 2.29s\n",
      "29:\tlearn: 1926.1473280\ttotal: 486ms\tremaining: 2.27s\n",
      "30:\tlearn: 1922.6109569\ttotal: 501ms\tremaining: 2.25s\n",
      "31:\tlearn: 1919.0700575\ttotal: 516ms\tremaining: 2.23s\n",
      "32:\tlearn: 1915.6206916\ttotal: 530ms\tremaining: 2.2s\n",
      "33:\tlearn: 1911.9299984\ttotal: 546ms\tremaining: 2.19s\n",
      "34:\tlearn: 1905.8173130\ttotal: 561ms\tremaining: 2.16s\n",
      "35:\tlearn: 1901.1266609\ttotal: 576ms\tremaining: 2.14s\n",
      "36:\tlearn: 1899.0617122\ttotal: 592ms\tremaining: 2.13s\n",
      "37:\tlearn: 1895.5075966\ttotal: 608ms\tremaining: 2.11s\n",
      "38:\tlearn: 1892.2488470\ttotal: 624ms\tremaining: 2.09s\n",
      "39:\tlearn: 1888.9877523\ttotal: 639ms\tremaining: 2.08s\n",
      "40:\tlearn: 1883.6110191\ttotal: 654ms\tremaining: 2.06s\n",
      "41:\tlearn: 1880.2469775\ttotal: 669ms\tremaining: 2.04s\n",
      "42:\tlearn: 1877.0320568\ttotal: 684ms\tremaining: 2.02s\n",
      "43:\tlearn: 1873.4418950\ttotal: 699ms\tremaining: 2s\n",
      "44:\tlearn: 1870.0378004\ttotal: 718ms\tremaining: 2s\n",
      "45:\tlearn: 1868.1822764\ttotal: 733ms\tremaining: 1.98s\n",
      "46:\tlearn: 1866.0987715\ttotal: 749ms\tremaining: 1.96s\n",
      "47:\tlearn: 1863.5891578\ttotal: 764ms\tremaining: 1.94s\n",
      "48:\tlearn: 1861.3555302\ttotal: 780ms\tremaining: 1.93s\n",
      "49:\tlearn: 1857.4097641\ttotal: 796ms\tremaining: 1.91s\n",
      "50:\tlearn: 1854.6746206\ttotal: 812ms\tremaining: 1.89s\n",
      "51:\tlearn: 1852.2218007\ttotal: 828ms\tremaining: 1.88s\n",
      "52:\tlearn: 1850.0597945\ttotal: 844ms\tremaining: 1.86s\n",
      "53:\tlearn: 1848.2531020\ttotal: 859ms\tremaining: 1.84s\n",
      "54:\tlearn: 1846.0566112\ttotal: 873ms\tremaining: 1.82s\n",
      "55:\tlearn: 1842.3073649\ttotal: 889ms\tremaining: 1.81s\n",
      "56:\tlearn: 1839.8937775\ttotal: 904ms\tremaining: 1.79s\n",
      "57:\tlearn: 1837.2885919\ttotal: 923ms\tremaining: 1.78s\n",
      "58:\tlearn: 1835.3357337\ttotal: 938ms\tremaining: 1.76s\n",
      "59:\tlearn: 1832.4523384\ttotal: 953ms\tremaining: 1.75s\n",
      "60:\tlearn: 1831.1232116\ttotal: 966ms\tremaining: 1.73s\n",
      "61:\tlearn: 1829.2725546\ttotal: 983ms\tremaining: 1.71s\n",
      "62:\tlearn: 1827.2173242\ttotal: 998ms\tremaining: 1.69s\n",
      "63:\tlearn: 1824.9241169\ttotal: 1.01s\tremaining: 1.68s\n",
      "64:\tlearn: 1823.5345887\ttotal: 1.03s\tremaining: 1.66s\n",
      "65:\tlearn: 1822.4873869\ttotal: 1.04s\tremaining: 1.64s\n",
      "66:\tlearn: 1820.0164696\ttotal: 1.06s\tremaining: 1.63s\n",
      "67:\tlearn: 1816.5321823\ttotal: 1.07s\tremaining: 1.61s\n",
      "68:\tlearn: 1814.4539214\ttotal: 1.09s\tremaining: 1.6s\n",
      "69:\tlearn: 1812.6521830\ttotal: 1.11s\tremaining: 1.58s\n",
      "70:\tlearn: 1810.9935871\ttotal: 1.12s\tremaining: 1.56s\n",
      "71:\tlearn: 1809.4007722\ttotal: 1.14s\tremaining: 1.55s\n",
      "72:\tlearn: 1807.9715445\ttotal: 1.15s\tremaining: 1.53s\n",
      "73:\tlearn: 1806.2186405\ttotal: 1.17s\tremaining: 1.51s\n",
      "74:\tlearn: 1804.6364334\ttotal: 1.18s\tremaining: 1.5s\n",
      "75:\tlearn: 1803.1501154\ttotal: 1.2s\tremaining: 1.48s\n",
      "76:\tlearn: 1801.5104290\ttotal: 1.21s\tremaining: 1.46s\n",
      "77:\tlearn: 1799.0050074\ttotal: 1.23s\tremaining: 1.45s\n",
      "78:\tlearn: 1796.9200054\ttotal: 1.24s\tremaining: 1.43s\n",
      "79:\tlearn: 1795.7959772\ttotal: 1.26s\tremaining: 1.42s\n",
      "80:\tlearn: 1794.6464597\ttotal: 1.27s\tremaining: 1.4s\n",
      "81:\tlearn: 1792.9161179\ttotal: 1.29s\tremaining: 1.38s\n",
      "82:\tlearn: 1791.6039167\ttotal: 1.3s\tremaining: 1.37s\n",
      "83:\tlearn: 1790.6802865\ttotal: 1.32s\tremaining: 1.35s\n",
      "84:\tlearn: 1789.4379677\ttotal: 1.34s\tremaining: 1.34s\n",
      "85:\tlearn: 1788.3895684\ttotal: 1.35s\tremaining: 1.32s\n",
      "86:\tlearn: 1787.2095637\ttotal: 1.37s\tremaining: 1.3s\n",
      "87:\tlearn: 1785.6891063\ttotal: 1.39s\tremaining: 1.29s\n",
      "88:\tlearn: 1784.3699966\ttotal: 1.4s\tremaining: 1.27s\n",
      "89:\tlearn: 1782.6908579\ttotal: 1.42s\tremaining: 1.26s\n",
      "90:\tlearn: 1781.4720796\ttotal: 1.43s\tremaining: 1.24s\n",
      "91:\tlearn: 1780.3092259\ttotal: 1.45s\tremaining: 1.23s\n",
      "92:\tlearn: 1778.8974279\ttotal: 1.46s\tremaining: 1.21s\n",
      "93:\tlearn: 1778.1559696\ttotal: 1.48s\tremaining: 1.2s\n",
      "94:\tlearn: 1777.1581792\ttotal: 1.49s\tremaining: 1.18s\n",
      "95:\tlearn: 1775.0355889\ttotal: 1.51s\tremaining: 1.16s\n",
      "96:\tlearn: 1774.0496436\ttotal: 1.52s\tremaining: 1.15s\n",
      "97:\tlearn: 1772.8471450\ttotal: 1.54s\tremaining: 1.13s\n",
      "98:\tlearn: 1771.0728705\ttotal: 1.56s\tremaining: 1.12s\n",
      "99:\tlearn: 1770.1354525\ttotal: 1.57s\tremaining: 1.1s\n",
      "100:\tlearn: 1769.0711512\ttotal: 1.59s\tremaining: 1.08s\n",
      "101:\tlearn: 1767.9086702\ttotal: 1.61s\tremaining: 1.07s\n",
      "102:\tlearn: 1766.9130859\ttotal: 1.62s\tremaining: 1.05s\n",
      "103:\tlearn: 1765.2075834\ttotal: 1.64s\tremaining: 1.04s\n",
      "104:\tlearn: 1764.3725318\ttotal: 1.65s\tremaining: 1.02s\n",
      "105:\tlearn: 1763.1952396\ttotal: 1.67s\tremaining: 1.01s\n",
      "106:\tlearn: 1762.6516818\ttotal: 1.69s\tremaining: 992ms\n",
      "107:\tlearn: 1760.9817281\ttotal: 1.7s\tremaining: 976ms\n",
      "108:\tlearn: 1759.8183816\ttotal: 1.72s\tremaining: 961ms\n",
      "109:\tlearn: 1758.9591077\ttotal: 1.73s\tremaining: 944ms\n",
      "110:\tlearn: 1758.2150925\ttotal: 1.75s\tremaining: 929ms\n",
      "111:\tlearn: 1757.4163977\ttotal: 1.76s\tremaining: 913ms\n",
      "112:\tlearn: 1756.6524904\ttotal: 1.78s\tremaining: 897ms\n",
      "113:\tlearn: 1755.9498522\ttotal: 1.79s\tremaining: 881ms\n",
      "114:\tlearn: 1755.1639008\ttotal: 1.81s\tremaining: 864ms\n",
      "115:\tlearn: 1753.3679923\ttotal: 1.82s\tremaining: 849ms\n",
      "116:\tlearn: 1752.3469245\ttotal: 1.84s\tremaining: 833ms\n",
      "117:\tlearn: 1751.7915570\ttotal: 1.85s\tremaining: 817ms\n",
      "118:\tlearn: 1751.0758222\ttotal: 1.87s\tremaining: 801ms\n",
      "119:\tlearn: 1750.0266378\ttotal: 1.88s\tremaining: 785ms\n",
      "120:\tlearn: 1748.9272140\ttotal: 1.9s\tremaining: 769ms\n",
      "121:\tlearn: 1748.2155470\ttotal: 1.91s\tremaining: 753ms\n",
      "122:\tlearn: 1746.7114042\ttotal: 1.93s\tremaining: 737ms\n",
      "123:\tlearn: 1745.6431263\ttotal: 1.94s\tremaining: 721ms\n",
      "124:\tlearn: 1744.3043991\ttotal: 1.96s\tremaining: 705ms\n",
      "125:\tlearn: 1743.6158186\ttotal: 1.97s\tremaining: 689ms\n",
      "126:\tlearn: 1742.8513307\ttotal: 1.99s\tremaining: 673ms\n",
      "127:\tlearn: 1741.7350492\ttotal: 2s\tremaining: 658ms\n",
      "128:\tlearn: 1740.7175151\ttotal: 2.02s\tremaining: 642ms\n",
      "129:\tlearn: 1739.4354963\ttotal: 2.04s\tremaining: 627ms\n",
      "130:\tlearn: 1738.2392869\ttotal: 2.05s\tremaining: 612ms\n",
      "131:\tlearn: 1737.4358011\ttotal: 2.07s\tremaining: 596ms\n",
      "132:\tlearn: 1736.4499195\ttotal: 2.08s\tremaining: 580ms\n",
      "133:\tlearn: 1735.9978928\ttotal: 2.1s\tremaining: 564ms\n",
      "134:\tlearn: 1735.0116328\ttotal: 2.11s\tremaining: 548ms\n",
      "135:\tlearn: 1734.0861065\ttotal: 2.13s\tremaining: 532ms\n",
      "136:\tlearn: 1733.7128217\ttotal: 2.14s\tremaining: 516ms\n",
      "137:\tlearn: 1733.0802893\ttotal: 2.16s\tremaining: 501ms\n",
      "138:\tlearn: 1731.6690637\ttotal: 2.17s\tremaining: 485ms\n",
      "139:\tlearn: 1731.0879081\ttotal: 2.19s\tremaining: 469ms\n",
      "140:\tlearn: 1730.6577520\ttotal: 2.2s\tremaining: 453ms\n",
      "141:\tlearn: 1729.8280769\ttotal: 2.22s\tremaining: 438ms\n",
      "142:\tlearn: 1728.2761921\ttotal: 2.24s\tremaining: 422ms\n",
      "143:\tlearn: 1727.6099594\ttotal: 2.25s\tremaining: 406ms\n",
      "144:\tlearn: 1725.5901150\ttotal: 2.27s\tremaining: 391ms\n",
      "145:\tlearn: 1724.6040558\ttotal: 2.28s\tremaining: 375ms\n",
      "146:\tlearn: 1723.7011023\ttotal: 2.3s\tremaining: 360ms\n",
      "147:\tlearn: 1721.9673732\ttotal: 2.31s\tremaining: 344ms\n",
      "148:\tlearn: 1720.8705755\ttotal: 2.33s\tremaining: 329ms\n",
      "149:\tlearn: 1720.0760129\ttotal: 2.35s\tremaining: 314ms\n",
      "150:\tlearn: 1719.4139905\ttotal: 2.37s\tremaining: 298ms\n",
      "151:\tlearn: 1718.6003352\ttotal: 2.39s\tremaining: 283ms\n",
      "152:\tlearn: 1717.8603143\ttotal: 2.41s\tremaining: 267ms\n",
      "153:\tlearn: 1717.2318321\ttotal: 2.42s\tremaining: 252ms\n",
      "154:\tlearn: 1716.8649240\ttotal: 2.44s\tremaining: 236ms\n",
      "155:\tlearn: 1716.5085935\ttotal: 2.45s\tremaining: 220ms\n",
      "156:\tlearn: 1716.1670941\ttotal: 2.47s\tremaining: 204ms\n",
      "157:\tlearn: 1715.2618366\ttotal: 2.48s\tremaining: 189ms\n",
      "158:\tlearn: 1714.8402137\ttotal: 2.5s\tremaining: 173ms\n",
      "159:\tlearn: 1714.1050374\ttotal: 2.51s\tremaining: 157ms\n",
      "160:\tlearn: 1713.1927235\ttotal: 2.53s\tremaining: 141ms\n",
      "161:\tlearn: 1712.4579303\ttotal: 2.54s\tremaining: 126ms\n",
      "162:\tlearn: 1710.0623662\ttotal: 2.56s\tremaining: 110ms\n",
      "163:\tlearn: 1709.1566486\ttotal: 2.58s\tremaining: 94.3ms\n",
      "164:\tlearn: 1708.3895564\ttotal: 2.59s\tremaining: 78.6ms\n",
      "165:\tlearn: 1707.6556602\ttotal: 2.61s\tremaining: 62.9ms\n",
      "166:\tlearn: 1706.9563323\ttotal: 2.62s\tremaining: 47.1ms\n",
      "167:\tlearn: 1706.1778799\ttotal: 2.64s\tremaining: 31.4ms\n",
      "168:\tlearn: 1706.0365812\ttotal: 2.65s\tremaining: 15.7ms\n",
      "169:\tlearn: 1705.0397268\ttotal: 2.67s\tremaining: 0us\n",
      "CPU times: user 2.77 s, sys: 60.6 ms, total: 2.83 s\n",
      "Wall time: 3.32 s\n"
     ]
    },
    {
     "data": {
      "text/plain": [
       "<catboost.core.CatBoostRegressor at 0x7f1c8e199490>"
      ]
     },
     "execution_count": 25,
     "metadata": {},
     "output_type": "execute_result"
    }
   ],
   "source": [
    "%%time\n",
    "model = CatBoostRegressor(random_state=12345,loss_function=\"RMSE\", iterations=170)\n",
    "model.fit(features_train_ordinal, target_train_ordinal)"
   ]
  },
  {
   "cell_type": "code",
   "execution_count": 26,
   "metadata": {},
   "outputs": [
    {
     "name": "stdout",
     "output_type": "stream",
     "text": [
      "n_estimators: 170 RMSE is 1785.6780088285402\n",
      "CPU times: user 11.9 ms, sys: 4.28 ms, total: 16.1 ms\n",
      "Wall time: 14.2 ms\n"
     ]
    }
   ],
   "source": [
    "%%time\n",
    "probabilities_valid = model.predict(features_valid_ordinal)\n",
    "print(\"n_estimators:\", i, \"RMSE is\", mean_squared_error(target_valid_ordinal, probabilities_valid)**0.5)"
   ]
  },
  {
   "cell_type": "code",
   "execution_count": 27,
   "metadata": {},
   "outputs": [
    {
     "name": "stdout",
     "output_type": "stream",
     "text": [
      "n_estimators: 150 RMSE is 1796.2463707636182\n",
      "n_estimators: 160 RMSE is 1792.265838757033\n",
      "n_estimators: 170 RMSE is 1788.69277754852\n",
      "CPU times: user 17min 45s, sys: 2.91 s, total: 17min 48s\n",
      "Wall time: 17min 55s\n"
     ]
    }
   ],
   "source": [
    "%%time\n",
    "\n",
    "#запустим модель LGBMRegressor на выборке с кодированием, подберем лучший гиперпараметр и сравним с результатами прочих моделей\n",
    "for i in range(150,180,10):\n",
    "    model = LGBMRegressor(random_state=12345, n_estimators= i, metric = 'Rmse')\n",
    "    model.fit(features_train_ordinal, target_train_ordinal)\n",
    "\n",
    "    probabilities_valid = model.predict(features_valid_ordinal)\n",
    "    print(\"n_estimators:\", i, \"RMSE is\", mean_squared_error(target_valid_ordinal, probabilities_valid)**0.5)"
   ]
  },
  {
   "cell_type": "code",
   "execution_count": 28,
   "metadata": {},
   "outputs": [
    {
     "name": "stdout",
     "output_type": "stream",
     "text": [
      "CPU times: user 6min 21s, sys: 1.19 s, total: 6min 23s\n",
      "Wall time: 6min 25s\n"
     ]
    },
    {
     "data": {
      "text/plain": [
       "LGBMRegressor(metric='Rmse', n_estimators=170, random_state=12345)"
      ]
     },
     "execution_count": 28,
     "metadata": {},
     "output_type": "execute_result"
    }
   ],
   "source": [
    "%%time\n",
    "model = LGBMRegressor(random_state=12345, n_estimators= 170, metric = 'Rmse')\n",
    "model.fit(features_train_ordinal, target_train_ordinal)"
   ]
  },
  {
   "cell_type": "code",
   "execution_count": 29,
   "metadata": {},
   "outputs": [
    {
     "name": "stdout",
     "output_type": "stream",
     "text": [
      "n_estimators: 170 RMSE is 1788.69277754852\n",
      "CPU times: user 481 ms, sys: 7.03 ms, total: 488 ms\n",
      "Wall time: 501 ms\n"
     ]
    }
   ],
   "source": [
    "%%time\n",
    "probabilities_valid = model.predict(features_valid_ordinal)\n",
    "print(\"n_estimators:\", i, \"RMSE is\", mean_squared_error(target_valid_ordinal, probabilities_valid)**0.5)"
   ]
  },
  {
   "cell_type": "code",
   "execution_count": 30,
   "metadata": {},
   "outputs": [
    {
     "name": "stdout",
     "output_type": "stream",
     "text": [
      "n_estimators: 150 RMSE is 1806.325086211747\n",
      "n_estimators: 160 RMSE is 1805.5816049080174\n",
      "n_estimators: 170 RMSE is 1804.7717338814448\n",
      "CPU times: user 3min 7s, sys: 2.84 s, total: 3min 10s\n",
      "Wall time: 3min 10s\n"
     ]
    }
   ],
   "source": [
    "%%time\n",
    "\n",
    "#запустим модель RandomForestRegressor на выборке с кодированием, подберем лучший гиперпараметр и сравним с результатами прочих моделей\n",
    "for i in range(150,180,10):\n",
    "    model = RandomForestRegressor(random_state=12345, n_estimators=i)\n",
    "    model.fit(features_train_ordinal, target_train_ordinal)\n",
    "\n",
    "    probabilities_valid = model.predict(features_valid_ordinal)\n",
    "    print(\"n_estimators:\", i, \"RMSE is\", mean_squared_error(target_valid_ordinal, probabilities_valid)**0.5)"
   ]
  },
  {
   "cell_type": "code",
   "execution_count": 31,
   "metadata": {},
   "outputs": [
    {
     "name": "stdout",
     "output_type": "stream",
     "text": [
      "CPU times: user 1min 2s, sys: 960 ms, total: 1min 3s\n",
      "Wall time: 1min 3s\n"
     ]
    },
    {
     "data": {
      "text/plain": [
       "RandomForestRegressor(n_estimators=170, random_state=12345)"
      ]
     },
     "execution_count": 31,
     "metadata": {},
     "output_type": "execute_result"
    }
   ],
   "source": [
    "%%time\n",
    "model = RandomForestRegressor(random_state=12345, n_estimators=170)\n",
    "model.fit(features_train_ordinal, target_train_ordinal)"
   ]
  },
  {
   "cell_type": "code",
   "execution_count": 32,
   "metadata": {},
   "outputs": [
    {
     "name": "stdout",
     "output_type": "stream",
     "text": [
      "n_estimators: 170 RMSE is 1804.7717338814448\n",
      "CPU times: user 2.6 s, sys: 1.12 ms, total: 2.6 s\n",
      "Wall time: 2.6 s\n"
     ]
    }
   ],
   "source": [
    "%%time\n",
    "probabilities_valid = model.predict(features_valid_ordinal)\n",
    "print(\"n_estimators:\", i, \"RMSE is\", mean_squared_error(target_valid_ordinal, probabilities_valid)**0.5)"
   ]
  },
  {
   "cell_type": "markdown",
   "metadata": {},
   "source": [
    "Сравним результаты трех моделей:"
   ]
  },
  {
   "cell_type": "code",
   "execution_count": 41,
   "metadata": {},
   "outputs": [
    {
     "data": {
      "text/html": [
       "<div>\n",
       "<style scoped>\n",
       "    .dataframe tbody tr th:only-of-type {\n",
       "        vertical-align: middle;\n",
       "    }\n",
       "\n",
       "    .dataframe tbody tr th {\n",
       "        vertical-align: top;\n",
       "    }\n",
       "\n",
       "    .dataframe thead th {\n",
       "        text-align: right;\n",
       "    }\n",
       "</style>\n",
       "<table border=\"1\" class=\"dataframe\">\n",
       "  <thead>\n",
       "    <tr style=\"text-align: right;\">\n",
       "      <th></th>\n",
       "      <th>metric</th>\n",
       "      <th>CatBoostRegressor</th>\n",
       "      <th>LGBMRegressor</th>\n",
       "      <th>RandomForestRegressor</th>\n",
       "    </tr>\n",
       "  </thead>\n",
       "  <tbody>\n",
       "    <tr>\n",
       "      <th>0</th>\n",
       "      <td>Время обучения</td>\n",
       "      <td>3.32s</td>\n",
       "      <td>6min 25s</td>\n",
       "      <td>1min 3s</td>\n",
       "    </tr>\n",
       "    <tr>\n",
       "      <th>1</th>\n",
       "      <td>Время предсказания</td>\n",
       "      <td>14.2 ms</td>\n",
       "      <td>501 ms</td>\n",
       "      <td>2.6 s</td>\n",
       "    </tr>\n",
       "    <tr>\n",
       "      <th>2</th>\n",
       "      <td>RMSE</td>\n",
       "      <td>1786</td>\n",
       "      <td>1789</td>\n",
       "      <td>1805</td>\n",
       "    </tr>\n",
       "  </tbody>\n",
       "</table>\n",
       "</div>"
      ],
      "text/plain": [
       "               metric CatBoostRegressor LGBMRegressor RandomForestRegressor\n",
       "0      Время обучения             3.32s      6min 25s               1min 3s\n",
       "1  Время предсказания           14.2 ms        501 ms                 2.6 s\n",
       "2                RMSE              1786          1789                  1805"
      ]
     },
     "execution_count": 41,
     "metadata": {},
     "output_type": "execute_result"
    }
   ],
   "source": [
    "result = [['Время обучения','3.32s','6min 25s','1min 3s'], ['Время предсказания','14.2 ms','501 ms','2.6 s'],['RMSE',1786,1789,1805]]\n",
    "pd.DataFrame(result, columns=[\"metric\",\"CatBoostRegressor\", \"LGBMRegressor\", \"RandomForestRegressor\"])"
   ]
  },
  {
   "cell_type": "markdown",
   "metadata": {},
   "source": [
    "Очевидно, что лучший результат из трех моделей показала CatBoostRegressor"
   ]
  },
  {
   "cell_type": "markdown",
   "metadata": {},
   "source": [
    "## Анализ моделей"
   ]
  },
  {
   "cell_type": "markdown",
   "metadata": {},
   "source": [
    "Заказчику важны:\n",
    "- качество предсказания;\n",
    "- скорость предсказания;\n",
    "- время обучения.\n",
    "\n",
    "\n",
    "Наиболее быстрая и точная модель - CatBoostRegressor."
   ]
  },
  {
   "cell_type": "markdown",
   "metadata": {},
   "source": [
    "Проверим результат работы на тестовой выборке."
   ]
  },
  {
   "cell_type": "code",
   "execution_count": 33,
   "metadata": {},
   "outputs": [],
   "source": [
    "#Валидационная выборка уже не нужна - увеличим обучающую\n",
    "features_train = pd.concat([features_train,features_valid])\n",
    "target_train = pd.concat([target_train,target_valid])"
   ]
  },
  {
   "cell_type": "code",
   "execution_count": 43,
   "metadata": {},
   "outputs": [
    {
     "name": "stdout",
     "output_type": "stream",
     "text": [
      "Learning rate set to 0.379051\n",
      "0:\tlearn: 3698.5740408\ttotal: 74.8ms\tremaining: 12.6s\n",
      "100:\tlearn: 1781.1978255\ttotal: 5.68s\tremaining: 3.88s\n",
      "169:\tlearn: 1732.4425291\ttotal: 9.22s\tremaining: 0us\n",
      "iterations: 170 RMSE is 1763.8958909960827\n",
      "CPU times: user 9.41 s, sys: 74 ms, total: 9.48 s\n",
      "Wall time: 10.5 s\n"
     ]
    }
   ],
   "source": [
    "%%time\n",
    "\n",
    "#Проверим работу модели\n",
    "model = CatBoostRegressor(loss_function=\"RMSE\", iterations=170)\n",
    "model.fit(features_train, target_train, cat_features=cat_features, verbose = 100)\n",
    "probabilities_valid = model.predict(features_test)\n",
    "print(\"iterations:\", i, \"RMSE is\", mean_squared_error(target_test, probabilities_valid)**0.5)"
   ]
  },
  {
   "cell_type": "markdown",
   "metadata": {},
   "source": [
    "Ок, \n",
    "\n",
    "Мы подготовили выборку и отсекли те данные, которые кажутся сомнительными:\n",
    "- стоиместь ниже 1000 евро\n",
    "- мощность ниже 80 лс\n",
    "- год регистрации - раньше 1980 и позже 2016 \n",
    "\n",
    "Полученную выборку мы разделили на тестовую, обучающую и валидационную. Проверили работу трех моделей - CatBoostRegressor, LGBMRegressor, RandomForestRegressor.\n",
    "\n",
    "Лучший (наиболее быстрый и точный) результат показала модель CatBoostRegressor(loss_function=\"RMSE\", iterations=170). \n",
    "\n",
    "Значение RMSE соответствует целевому (ниже 2500)"
   ]
  }
 ],
 "metadata": {
  "ExecuteTimeLog": [
   {
    "duration": 2355,
    "start_time": "2022-09-15T08:31:50.014Z"
   },
   {
    "duration": 1036,
    "start_time": "2022-09-15T08:32:30.591Z"
   },
   {
    "duration": 2864,
    "start_time": "2022-09-15T08:32:53.633Z"
   },
   {
    "duration": 76,
    "start_time": "2022-09-15T08:34:12.399Z"
   },
   {
    "duration": 198,
    "start_time": "2022-09-15T08:35:15.365Z"
   },
   {
    "duration": 72,
    "start_time": "2022-09-15T08:36:04.512Z"
   },
   {
    "duration": 50744,
    "start_time": "2022-09-15T08:38:02.779Z"
   },
   {
    "duration": 100,
    "start_time": "2022-09-15T08:44:05.665Z"
   },
   {
    "duration": 394,
    "start_time": "2022-09-15T08:45:17.862Z"
   },
   {
    "duration": 2041,
    "start_time": "2022-09-15T08:45:26.458Z"
   },
   {
    "duration": 1064,
    "start_time": "2022-09-15T08:45:28.502Z"
   },
   {
    "duration": 434,
    "start_time": "2022-09-15T08:45:29.567Z"
   },
   {
    "duration": 2740,
    "start_time": "2022-09-15T08:45:30.003Z"
   },
   {
    "duration": 84,
    "start_time": "2022-09-15T08:45:32.745Z"
   },
   {
    "duration": 414,
    "start_time": "2022-09-15T08:47:45.306Z"
   },
   {
    "duration": 423,
    "start_time": "2022-09-15T08:48:14.697Z"
   },
   {
    "duration": 107,
    "start_time": "2022-09-15T08:48:47.394Z"
   },
   {
    "duration": 54,
    "start_time": "2022-09-15T08:53:00.143Z"
   },
   {
    "duration": 76,
    "start_time": "2022-09-15T08:53:05.119Z"
   },
   {
    "duration": 68,
    "start_time": "2022-09-15T08:53:09.321Z"
   },
   {
    "duration": 75,
    "start_time": "2022-09-15T08:53:34.875Z"
   },
   {
    "duration": 333,
    "start_time": "2022-09-15T08:53:40.598Z"
   },
   {
    "duration": 383,
    "start_time": "2022-09-15T08:53:49.018Z"
   },
   {
    "duration": 119,
    "start_time": "2022-09-15T08:54:22.442Z"
   },
   {
    "duration": 51,
    "start_time": "2022-09-15T18:49:36.132Z"
   },
   {
    "duration": 3953,
    "start_time": "2022-09-15T18:49:41.501Z"
   },
   {
    "duration": 18,
    "start_time": "2022-09-15T18:49:45.456Z"
   },
   {
    "duration": 872,
    "start_time": "2022-09-15T18:49:45.476Z"
   },
   {
    "duration": 364,
    "start_time": "2022-09-15T18:49:46.350Z"
   },
   {
    "duration": 92,
    "start_time": "2022-09-15T18:49:46.716Z"
   },
   {
    "duration": 119,
    "start_time": "2022-09-15T18:49:46.821Z"
   },
   {
    "duration": 2649,
    "start_time": "2022-09-15T18:49:46.942Z"
   },
   {
    "duration": 71,
    "start_time": "2022-09-15T18:49:49.593Z"
   },
   {
    "duration": 58,
    "start_time": "2022-09-15T18:53:26.753Z"
   },
   {
    "duration": 61,
    "start_time": "2022-09-15T18:53:45.746Z"
   },
   {
    "duration": 65,
    "start_time": "2022-09-15T18:53:59.485Z"
   },
   {
    "duration": 22,
    "start_time": "2022-09-15T18:54:09.667Z"
   },
   {
    "duration": 1818,
    "start_time": "2022-09-15T18:54:44.020Z"
   },
   {
    "duration": 16,
    "start_time": "2022-09-15T18:54:45.840Z"
   },
   {
    "duration": 173,
    "start_time": "2022-09-15T18:54:45.857Z"
   },
   {
    "duration": 672,
    "start_time": "2022-09-15T18:54:46.033Z"
   },
   {
    "duration": 256,
    "start_time": "2022-09-15T18:54:46.707Z"
   },
   {
    "duration": 101,
    "start_time": "2022-09-15T18:54:46.965Z"
   },
   {
    "duration": 80,
    "start_time": "2022-09-15T18:54:47.068Z"
   },
   {
    "duration": 2511,
    "start_time": "2022-09-15T18:54:47.150Z"
   },
   {
    "duration": 79,
    "start_time": "2022-09-15T18:54:49.663Z"
   },
   {
    "duration": 86,
    "start_time": "2022-09-15T18:56:49.140Z"
   },
   {
    "duration": 106,
    "start_time": "2022-09-15T18:58:57.150Z"
   },
   {
    "duration": 99,
    "start_time": "2022-09-15T18:59:09.374Z"
   },
   {
    "duration": 205,
    "start_time": "2022-09-15T18:59:50.633Z"
   },
   {
    "duration": 167,
    "start_time": "2022-09-15T19:01:39.850Z"
   },
   {
    "duration": 170,
    "start_time": "2022-09-15T19:01:47.226Z"
   },
   {
    "duration": 175,
    "start_time": "2022-09-15T19:02:25.810Z"
   },
   {
    "duration": 182,
    "start_time": "2022-09-15T19:02:31.374Z"
   },
   {
    "duration": 116,
    "start_time": "2022-09-15T19:04:22.156Z"
   },
   {
    "duration": 161,
    "start_time": "2022-09-15T19:10:32.133Z"
   },
   {
    "duration": 260,
    "start_time": "2022-09-15T19:10:47.133Z"
   },
   {
    "duration": 13,
    "start_time": "2022-09-15T19:10:54.407Z"
   },
   {
    "duration": 30,
    "start_time": "2022-09-15T19:11:26.113Z"
   },
   {
    "duration": 692,
    "start_time": "2022-09-15T19:11:27.398Z"
   },
   {
    "duration": 84,
    "start_time": "2022-09-15T19:13:40.973Z"
   },
   {
    "duration": 1954,
    "start_time": "2022-09-15T19:14:26.064Z"
   },
   {
    "duration": 26,
    "start_time": "2022-09-15T19:14:28.020Z"
   },
   {
    "duration": 252,
    "start_time": "2022-09-15T19:14:28.048Z"
   },
   {
    "duration": 311,
    "start_time": "2022-09-15T19:14:28.302Z"
   },
   {
    "duration": 156,
    "start_time": "2022-09-15T19:14:28.615Z"
   },
   {
    "duration": 636,
    "start_time": "2022-09-15T19:14:28.773Z"
   },
   {
    "duration": 263,
    "start_time": "2022-09-15T19:14:29.411Z"
   },
   {
    "duration": 109,
    "start_time": "2022-09-15T19:14:29.676Z"
   },
   {
    "duration": 2210,
    "start_time": "2022-09-15T19:14:29.787Z"
   },
   {
    "duration": 70,
    "start_time": "2022-09-15T19:14:31.999Z"
   },
   {
    "duration": 79,
    "start_time": "2022-09-15T19:18:05.780Z"
   },
   {
    "duration": 1700,
    "start_time": "2022-09-15T19:18:09.785Z"
   },
   {
    "duration": 110,
    "start_time": "2022-09-15T19:18:55.378Z"
   },
   {
    "duration": 412,
    "start_time": "2022-09-15T19:19:01.609Z"
   },
   {
    "duration": 22,
    "start_time": "2022-09-15T19:20:08.906Z"
   },
   {
    "duration": 13,
    "start_time": "2022-09-15T19:20:22.683Z"
   },
   {
    "duration": 40,
    "start_time": "2022-09-15T19:28:20.532Z"
   },
   {
    "duration": 26,
    "start_time": "2022-09-15T19:28:47.880Z"
   },
   {
    "duration": 10,
    "start_time": "2022-09-15T19:29:12.998Z"
   },
   {
    "duration": 399,
    "start_time": "2022-09-15T19:29:35.916Z"
   },
   {
    "duration": 5,
    "start_time": "2022-09-15T19:29:53.737Z"
   },
   {
    "duration": 93,
    "start_time": "2022-09-15T19:29:56.289Z"
   },
   {
    "duration": 1207,
    "start_time": "2022-09-15T19:30:16.533Z"
   },
   {
    "duration": 1747,
    "start_time": "2022-09-15T19:30:24.175Z"
   },
   {
    "duration": 16,
    "start_time": "2022-09-15T19:30:25.924Z"
   },
   {
    "duration": 266,
    "start_time": "2022-09-15T19:30:25.942Z"
   },
   {
    "duration": 301,
    "start_time": "2022-09-15T19:30:26.210Z"
   },
   {
    "duration": 162,
    "start_time": "2022-09-15T19:30:26.512Z"
   },
   {
    "duration": 705,
    "start_time": "2022-09-15T19:30:26.676Z"
   },
   {
    "duration": 293,
    "start_time": "2022-09-15T19:30:27.382Z"
   },
   {
    "duration": 103,
    "start_time": "2022-09-15T19:30:27.677Z"
   },
   {
    "duration": 2230,
    "start_time": "2022-09-15T19:30:27.783Z"
   },
   {
    "duration": 98,
    "start_time": "2022-09-15T19:30:30.016Z"
   },
   {
    "duration": 0,
    "start_time": "2022-09-15T19:30:30.122Z"
   },
   {
    "duration": 0,
    "start_time": "2022-09-15T19:30:30.123Z"
   },
   {
    "duration": 44,
    "start_time": "2022-09-15T19:30:49.358Z"
   },
   {
    "duration": 11,
    "start_time": "2022-09-15T19:31:15.594Z"
   },
   {
    "duration": 12,
    "start_time": "2022-09-15T19:31:18.038Z"
   },
   {
    "duration": 5,
    "start_time": "2022-09-15T19:31:21.045Z"
   },
   {
    "duration": 95,
    "start_time": "2022-09-15T19:31:23.728Z"
   },
   {
    "duration": 1465,
    "start_time": "2022-09-15T19:31:44.543Z"
   },
   {
    "duration": 1807,
    "start_time": "2022-09-15T19:32:49.808Z"
   },
   {
    "duration": 20,
    "start_time": "2022-09-15T19:32:51.616Z"
   },
   {
    "duration": 230,
    "start_time": "2022-09-15T19:32:51.637Z"
   },
   {
    "duration": 286,
    "start_time": "2022-09-15T19:32:51.869Z"
   },
   {
    "duration": 149,
    "start_time": "2022-09-15T19:32:52.156Z"
   },
   {
    "duration": 631,
    "start_time": "2022-09-15T19:32:52.306Z"
   },
   {
    "duration": 260,
    "start_time": "2022-09-15T19:32:52.938Z"
   },
   {
    "duration": 99,
    "start_time": "2022-09-15T19:32:53.200Z"
   },
   {
    "duration": 2154,
    "start_time": "2022-09-15T19:32:53.301Z"
   },
   {
    "duration": 129,
    "start_time": "2022-09-15T19:32:55.457Z"
   },
   {
    "duration": 0,
    "start_time": "2022-09-15T19:32:55.588Z"
   },
   {
    "duration": 0,
    "start_time": "2022-09-15T19:32:55.590Z"
   },
   {
    "duration": 37,
    "start_time": "2022-09-15T19:33:38.933Z"
   },
   {
    "duration": 1794,
    "start_time": "2022-09-15T19:33:46.352Z"
   },
   {
    "duration": 17,
    "start_time": "2022-09-15T19:33:48.148Z"
   },
   {
    "duration": 270,
    "start_time": "2022-09-15T19:33:48.168Z"
   },
   {
    "duration": 331,
    "start_time": "2022-09-15T19:33:48.439Z"
   },
   {
    "duration": 165,
    "start_time": "2022-09-15T19:33:48.772Z"
   },
   {
    "duration": 630,
    "start_time": "2022-09-15T19:33:48.939Z"
   },
   {
    "duration": 265,
    "start_time": "2022-09-15T19:33:49.571Z"
   },
   {
    "duration": 105,
    "start_time": "2022-09-15T19:33:49.837Z"
   },
   {
    "duration": 2313,
    "start_time": "2022-09-15T19:33:49.944Z"
   },
   {
    "duration": 151,
    "start_time": "2022-09-15T19:33:52.259Z"
   },
   {
    "duration": 0,
    "start_time": "2022-09-15T19:33:52.412Z"
   },
   {
    "duration": 0,
    "start_time": "2022-09-15T19:33:52.413Z"
   },
   {
    "duration": 796,
    "start_time": "2022-09-15T19:34:05.962Z"
   },
   {
    "duration": 74,
    "start_time": "2022-09-15T19:35:31.918Z"
   },
   {
    "duration": 8,
    "start_time": "2022-09-15T19:35:43.870Z"
   },
   {
    "duration": 762,
    "start_time": "2022-09-15T19:35:48.915Z"
   },
   {
    "duration": 75,
    "start_time": "2022-09-15T19:35:52.184Z"
   },
   {
    "duration": 9,
    "start_time": "2022-09-15T19:35:55.073Z"
   },
   {
    "duration": 9,
    "start_time": "2022-09-15T19:36:03.615Z"
   },
   {
    "duration": 765,
    "start_time": "2022-09-15T19:36:06.016Z"
   },
   {
    "duration": 51,
    "start_time": "2022-09-15T19:36:09.064Z"
   },
   {
    "duration": 13,
    "start_time": "2022-09-15T19:36:11.301Z"
   },
   {
    "duration": 356,
    "start_time": "2022-09-15T19:36:36.125Z"
   },
   {
    "duration": 1952,
    "start_time": "2022-09-15T19:36:48.571Z"
   },
   {
    "duration": 18,
    "start_time": "2022-09-15T19:36:50.525Z"
   },
   {
    "duration": 256,
    "start_time": "2022-09-15T19:36:50.545Z"
   },
   {
    "duration": 317,
    "start_time": "2022-09-15T19:36:50.804Z"
   },
   {
    "duration": 168,
    "start_time": "2022-09-15T19:36:51.123Z"
   },
   {
    "duration": 691,
    "start_time": "2022-09-15T19:36:51.293Z"
   },
   {
    "duration": 306,
    "start_time": "2022-09-15T19:36:51.986Z"
   },
   {
    "duration": 132,
    "start_time": "2022-09-15T19:36:52.294Z"
   },
   {
    "duration": 2347,
    "start_time": "2022-09-15T19:36:52.427Z"
   },
   {
    "duration": 54,
    "start_time": "2022-09-15T19:36:54.776Z"
   },
   {
    "duration": 422,
    "start_time": "2022-09-15T19:36:54.832Z"
   },
   {
    "duration": 0,
    "start_time": "2022-09-15T19:36:55.256Z"
   },
   {
    "duration": 79,
    "start_time": "2022-09-15T19:37:42.767Z"
   },
   {
    "duration": 1940,
    "start_time": "2022-09-15T19:37:45.253Z"
   },
   {
    "duration": 12,
    "start_time": "2022-09-15T19:38:18.539Z"
   },
   {
    "duration": 1955,
    "start_time": "2022-09-15T19:38:26.336Z"
   },
   {
    "duration": 19,
    "start_time": "2022-09-15T19:38:28.292Z"
   },
   {
    "duration": 250,
    "start_time": "2022-09-15T19:38:28.322Z"
   },
   {
    "duration": 305,
    "start_time": "2022-09-15T19:38:28.574Z"
   },
   {
    "duration": 150,
    "start_time": "2022-09-15T19:38:28.881Z"
   },
   {
    "duration": 658,
    "start_time": "2022-09-15T19:38:29.033Z"
   },
   {
    "duration": 254,
    "start_time": "2022-09-15T19:38:29.695Z"
   },
   {
    "duration": 104,
    "start_time": "2022-09-15T19:38:29.950Z"
   },
   {
    "duration": 91,
    "start_time": "2022-09-15T19:38:30.057Z"
   },
   {
    "duration": 0,
    "start_time": "2022-09-15T19:38:30.150Z"
   },
   {
    "duration": 0,
    "start_time": "2022-09-15T19:38:30.151Z"
   },
   {
    "duration": 0,
    "start_time": "2022-09-15T19:38:30.153Z"
   },
   {
    "duration": 96,
    "start_time": "2022-09-15T19:38:59.436Z"
   },
   {
    "duration": 2231,
    "start_time": "2022-09-15T19:39:02.774Z"
   },
   {
    "duration": 164,
    "start_time": "2022-09-15T19:40:05.882Z"
   },
   {
    "duration": 1856,
    "start_time": "2022-09-15T19:40:07.670Z"
   },
   {
    "duration": 205,
    "start_time": "2022-09-15T19:41:08.407Z"
   },
   {
    "duration": 2212,
    "start_time": "2022-09-15T19:41:12.211Z"
   },
   {
    "duration": 152,
    "start_time": "2022-09-15T19:43:04.413Z"
   },
   {
    "duration": 1674,
    "start_time": "2022-09-15T19:43:07.149Z"
   },
   {
    "duration": 305,
    "start_time": "2022-09-15T19:43:53.870Z"
   },
   {
    "duration": 186,
    "start_time": "2022-09-15T19:44:00.459Z"
   },
   {
    "duration": 10,
    "start_time": "2022-09-15T19:45:07.510Z"
   },
   {
    "duration": 11,
    "start_time": "2022-09-15T19:45:36.258Z"
   },
   {
    "duration": 24,
    "start_time": "2022-09-15T19:46:42.009Z"
   },
   {
    "duration": 1156,
    "start_time": "2022-09-15T19:46:53.378Z"
   },
   {
    "duration": 1731,
    "start_time": "2022-09-15T19:47:03.367Z"
   },
   {
    "duration": 22,
    "start_time": "2022-09-15T19:47:05.100Z"
   },
   {
    "duration": 237,
    "start_time": "2022-09-15T19:47:05.124Z"
   },
   {
    "duration": 293,
    "start_time": "2022-09-15T19:47:05.363Z"
   },
   {
    "duration": 152,
    "start_time": "2022-09-15T19:47:05.657Z"
   },
   {
    "duration": 671,
    "start_time": "2022-09-15T19:47:05.811Z"
   },
   {
    "duration": 258,
    "start_time": "2022-09-15T19:47:06.484Z"
   },
   {
    "duration": 106,
    "start_time": "2022-09-15T19:47:06.743Z"
   },
   {
    "duration": 224,
    "start_time": "2022-09-15T19:47:06.851Z"
   },
   {
    "duration": 1930,
    "start_time": "2022-09-15T19:47:07.077Z"
   },
   {
    "duration": 80,
    "start_time": "2022-09-15T19:47:09.009Z"
   },
   {
    "duration": 44,
    "start_time": "2022-09-15T19:47:09.091Z"
   },
   {
    "duration": 1749,
    "start_time": "2022-09-15T19:47:31.856Z"
   },
   {
    "duration": 24,
    "start_time": "2022-09-15T19:47:33.607Z"
   },
   {
    "duration": 236,
    "start_time": "2022-09-15T19:47:33.632Z"
   },
   {
    "duration": 294,
    "start_time": "2022-09-15T19:47:33.870Z"
   },
   {
    "duration": 158,
    "start_time": "2022-09-15T19:47:34.166Z"
   },
   {
    "duration": 578,
    "start_time": "2022-09-15T19:47:34.325Z"
   },
   {
    "duration": 258,
    "start_time": "2022-09-15T19:47:34.904Z"
   },
   {
    "duration": 101,
    "start_time": "2022-09-15T19:47:35.164Z"
   },
   {
    "duration": 220,
    "start_time": "2022-09-15T19:47:35.266Z"
   },
   {
    "duration": 34,
    "start_time": "2022-09-15T19:47:35.488Z"
   },
   {
    "duration": 1744,
    "start_time": "2022-09-15T19:47:35.524Z"
   },
   {
    "duration": 36,
    "start_time": "2022-09-15T19:47:37.269Z"
   },
   {
    "duration": 1841,
    "start_time": "2022-09-15T19:48:31.483Z"
   },
   {
    "duration": 1743,
    "start_time": "2022-09-15T19:51:38.876Z"
   },
   {
    "duration": 17,
    "start_time": "2022-09-15T19:51:40.621Z"
   },
   {
    "duration": 231,
    "start_time": "2022-09-15T19:51:40.640Z"
   },
   {
    "duration": 317,
    "start_time": "2022-09-15T19:51:40.873Z"
   },
   {
    "duration": 179,
    "start_time": "2022-09-15T19:51:41.191Z"
   },
   {
    "duration": 665,
    "start_time": "2022-09-15T19:51:41.372Z"
   },
   {
    "duration": 117,
    "start_time": "2022-09-15T19:51:42.039Z"
   },
   {
    "duration": 240,
    "start_time": "2022-09-15T19:51:42.157Z"
   },
   {
    "duration": 36,
    "start_time": "2022-09-15T19:51:42.399Z"
   },
   {
    "duration": 1654,
    "start_time": "2022-09-15T19:51:42.438Z"
   },
   {
    "duration": 41,
    "start_time": "2022-09-15T19:51:44.093Z"
   },
   {
    "duration": 884,
    "start_time": "2022-09-15T20:01:04.421Z"
   },
   {
    "duration": 93,
    "start_time": "2022-09-15T20:04:03.555Z"
   },
   {
    "duration": 190,
    "start_time": "2022-09-15T20:05:01.765Z"
   },
   {
    "duration": 228,
    "start_time": "2022-09-15T20:05:11.482Z"
   },
   {
    "duration": 99,
    "start_time": "2022-09-15T20:11:00.789Z"
   },
   {
    "duration": 87,
    "start_time": "2022-09-15T20:12:36.105Z"
   },
   {
    "duration": 11,
    "start_time": "2022-09-15T20:12:56.340Z"
   },
   {
    "duration": 1841,
    "start_time": "2022-09-15T20:13:06.656Z"
   },
   {
    "duration": 23,
    "start_time": "2022-09-15T20:13:08.498Z"
   },
   {
    "duration": 252,
    "start_time": "2022-09-15T20:13:08.523Z"
   },
   {
    "duration": 313,
    "start_time": "2022-09-15T20:13:08.777Z"
   },
   {
    "duration": 148,
    "start_time": "2022-09-15T20:13:09.092Z"
   },
   {
    "duration": 647,
    "start_time": "2022-09-15T20:13:09.241Z"
   },
   {
    "duration": 99,
    "start_time": "2022-09-15T20:13:09.890Z"
   },
   {
    "duration": 218,
    "start_time": "2022-09-15T20:13:09.991Z"
   },
   {
    "duration": 35,
    "start_time": "2022-09-15T20:13:10.211Z"
   },
   {
    "duration": 1916,
    "start_time": "2022-09-15T20:13:10.248Z"
   },
   {
    "duration": 40,
    "start_time": "2022-09-15T20:13:12.166Z"
   },
   {
    "duration": 77,
    "start_time": "2022-09-15T20:13:12.208Z"
   },
   {
    "duration": 109,
    "start_time": "2022-09-15T20:13:12.287Z"
   },
   {
    "duration": 2329,
    "start_time": "2022-09-15T20:13:12.397Z"
   },
   {
    "duration": 64,
    "start_time": "2022-09-15T20:13:43.935Z"
   },
   {
    "duration": 46,
    "start_time": "2022-09-15T20:13:55.849Z"
   },
   {
    "duration": 2189,
    "start_time": "2022-09-15T20:15:41.134Z"
   },
   {
    "duration": 43,
    "start_time": "2022-09-15T20:16:58.288Z"
   },
   {
    "duration": 1863,
    "start_time": "2022-09-15T20:18:31.109Z"
   },
   {
    "duration": 18,
    "start_time": "2022-09-15T20:18:32.974Z"
   },
   {
    "duration": 250,
    "start_time": "2022-09-15T20:18:32.994Z"
   },
   {
    "duration": 65,
    "start_time": "2022-09-15T20:18:33.247Z"
   },
   {
    "duration": 260,
    "start_time": "2022-09-15T20:18:33.313Z"
   },
   {
    "duration": 534,
    "start_time": "2022-09-15T20:18:33.575Z"
   },
   {
    "duration": 97,
    "start_time": "2022-09-15T20:18:34.111Z"
   },
   {
    "duration": 196,
    "start_time": "2022-09-15T20:18:34.209Z"
   },
   {
    "duration": 25,
    "start_time": "2022-09-15T20:18:34.407Z"
   },
   {
    "duration": 1703,
    "start_time": "2022-09-15T20:18:34.434Z"
   },
   {
    "duration": 41,
    "start_time": "2022-09-15T20:18:36.140Z"
   },
   {
    "duration": 66,
    "start_time": "2022-09-15T20:18:36.183Z"
   },
   {
    "duration": 72,
    "start_time": "2022-09-15T20:18:36.250Z"
   },
   {
    "duration": 1571,
    "start_time": "2022-09-15T20:18:36.323Z"
   },
   {
    "duration": 10,
    "start_time": "2022-09-15T20:20:11.785Z"
   },
   {
    "duration": 1922,
    "start_time": "2022-09-15T20:20:48.258Z"
   },
   {
    "duration": 16,
    "start_time": "2022-09-15T20:20:50.182Z"
   },
   {
    "duration": 247,
    "start_time": "2022-09-15T20:20:50.199Z"
   },
   {
    "duration": 84,
    "start_time": "2022-09-15T20:20:50.448Z"
   },
   {
    "duration": 244,
    "start_time": "2022-09-15T20:20:50.534Z"
   },
   {
    "duration": 521,
    "start_time": "2022-09-15T20:20:50.780Z"
   },
   {
    "duration": 124,
    "start_time": "2022-09-15T20:20:51.303Z"
   },
   {
    "duration": 201,
    "start_time": "2022-09-15T20:20:51.428Z"
   },
   {
    "duration": 24,
    "start_time": "2022-09-15T20:20:51.630Z"
   },
   {
    "duration": 1642,
    "start_time": "2022-09-15T20:20:51.656Z"
   },
   {
    "duration": 40,
    "start_time": "2022-09-15T20:20:53.300Z"
   },
   {
    "duration": 50,
    "start_time": "2022-09-15T20:20:53.341Z"
   },
   {
    "duration": 88,
    "start_time": "2022-09-15T20:20:53.393Z"
   },
   {
    "duration": 9914,
    "start_time": "2022-09-15T20:20:53.482Z"
   },
   {
    "duration": 9430,
    "start_time": "2022-09-15T20:21:48.503Z"
   },
   {
    "duration": 9246,
    "start_time": "2022-09-15T20:23:02.149Z"
   },
   {
    "duration": 51,
    "start_time": "2022-09-16T18:46:47.348Z"
   },
   {
    "duration": 2320,
    "start_time": "2022-09-16T18:46:53.666Z"
   },
   {
    "duration": 17,
    "start_time": "2022-09-16T18:46:55.988Z"
   },
   {
    "duration": 314,
    "start_time": "2022-09-16T18:46:56.006Z"
   },
   {
    "duration": 128,
    "start_time": "2022-09-16T18:46:56.323Z"
   },
   {
    "duration": 275,
    "start_time": "2022-09-16T18:46:56.453Z"
   },
   {
    "duration": 561,
    "start_time": "2022-09-16T18:46:56.730Z"
   },
   {
    "duration": 116,
    "start_time": "2022-09-16T18:46:57.293Z"
   },
   {
    "duration": 210,
    "start_time": "2022-09-16T18:46:57.411Z"
   },
   {
    "duration": 34,
    "start_time": "2022-09-16T18:46:57.623Z"
   },
   {
    "duration": 1930,
    "start_time": "2022-09-16T18:46:57.659Z"
   },
   {
    "duration": 37,
    "start_time": "2022-09-16T18:46:59.590Z"
   },
   {
    "duration": 70,
    "start_time": "2022-09-16T18:46:59.629Z"
   },
   {
    "duration": 80,
    "start_time": "2022-09-16T18:46:59.700Z"
   },
   {
    "duration": 10401,
    "start_time": "2022-09-16T18:46:59.781Z"
   },
   {
    "duration": 128,
    "start_time": "2022-09-16T18:47:10.184Z"
   },
   {
    "duration": 2099,
    "start_time": "2022-09-16T18:54:47.006Z"
   },
   {
    "duration": 17,
    "start_time": "2022-09-16T18:54:49.107Z"
   },
   {
    "duration": 314,
    "start_time": "2022-09-16T18:54:49.126Z"
   },
   {
    "duration": 93,
    "start_time": "2022-09-16T18:54:49.446Z"
   },
   {
    "duration": 286,
    "start_time": "2022-09-16T18:54:49.547Z"
   },
   {
    "duration": 627,
    "start_time": "2022-09-16T18:54:49.834Z"
   },
   {
    "duration": 119,
    "start_time": "2022-09-16T18:54:50.463Z"
   },
   {
    "duration": 224,
    "start_time": "2022-09-16T18:54:50.583Z"
   },
   {
    "duration": 24,
    "start_time": "2022-09-16T18:54:50.809Z"
   },
   {
    "duration": 1804,
    "start_time": "2022-09-16T18:54:50.834Z"
   },
   {
    "duration": 43,
    "start_time": "2022-09-16T18:54:52.639Z"
   },
   {
    "duration": 76,
    "start_time": "2022-09-16T18:54:52.684Z"
   },
   {
    "duration": 75,
    "start_time": "2022-09-16T18:54:52.761Z"
   },
   {
    "duration": 10648,
    "start_time": "2022-09-16T18:54:52.838Z"
   },
   {
    "duration": 733,
    "start_time": "2022-09-16T18:55:03.488Z"
   },
   {
    "duration": 137,
    "start_time": "2022-09-16T18:55:04.223Z"
   },
   {
    "duration": 2098,
    "start_time": "2022-09-16T18:56:12.518Z"
   },
   {
    "duration": 18,
    "start_time": "2022-09-16T18:56:14.618Z"
   },
   {
    "duration": 286,
    "start_time": "2022-09-16T18:56:14.638Z"
   },
   {
    "duration": 90,
    "start_time": "2022-09-16T18:56:14.926Z"
   },
   {
    "duration": 272,
    "start_time": "2022-09-16T18:56:15.018Z"
   },
   {
    "duration": 600,
    "start_time": "2022-09-16T18:56:15.292Z"
   },
   {
    "duration": 121,
    "start_time": "2022-09-16T18:56:15.894Z"
   },
   {
    "duration": 219,
    "start_time": "2022-09-16T18:56:16.017Z"
   },
   {
    "duration": 23,
    "start_time": "2022-09-16T18:56:16.238Z"
   },
   {
    "duration": 1890,
    "start_time": "2022-09-16T18:56:16.264Z"
   },
   {
    "duration": 40,
    "start_time": "2022-09-16T18:56:18.157Z"
   },
   {
    "duration": 74,
    "start_time": "2022-09-16T18:56:18.199Z"
   },
   {
    "duration": 72,
    "start_time": "2022-09-16T18:56:18.275Z"
   },
   {
    "duration": 10060,
    "start_time": "2022-09-16T18:56:18.348Z"
   },
   {
    "duration": 722,
    "start_time": "2022-09-16T18:56:28.410Z"
   },
   {
    "duration": 5618,
    "start_time": "2022-09-16T18:56:29.134Z"
   },
   {
    "duration": 101,
    "start_time": "2022-09-16T19:02:34.097Z"
   },
   {
    "duration": 2244,
    "start_time": "2022-09-16T19:02:56.437Z"
   },
   {
    "duration": 19,
    "start_time": "2022-09-16T19:02:58.682Z"
   },
   {
    "duration": 297,
    "start_time": "2022-09-16T19:02:58.705Z"
   },
   {
    "duration": 91,
    "start_time": "2022-09-16T19:02:59.003Z"
   },
   {
    "duration": 267,
    "start_time": "2022-09-16T19:02:59.096Z"
   },
   {
    "duration": 599,
    "start_time": "2022-09-16T19:02:59.365Z"
   },
   {
    "duration": 112,
    "start_time": "2022-09-16T19:02:59.966Z"
   },
   {
    "duration": 215,
    "start_time": "2022-09-16T19:03:00.080Z"
   },
   {
    "duration": 26,
    "start_time": "2022-09-16T19:03:00.297Z"
   },
   {
    "duration": 1831,
    "start_time": "2022-09-16T19:03:00.324Z"
   },
   {
    "duration": 44,
    "start_time": "2022-09-16T19:03:02.157Z"
   },
   {
    "duration": 85,
    "start_time": "2022-09-16T19:03:02.202Z"
   },
   {
    "duration": 85,
    "start_time": "2022-09-16T19:03:02.288Z"
   },
   {
    "duration": 761,
    "start_time": "2022-09-16T19:03:02.375Z"
   },
   {
    "duration": 1898,
    "start_time": "2022-09-16T19:03:03.137Z"
   },
   {
    "duration": 12,
    "start_time": "2022-09-16T19:05:43.842Z"
   },
   {
    "duration": 2061,
    "start_time": "2022-09-16T19:05:49.201Z"
   },
   {
    "duration": 18,
    "start_time": "2022-09-16T19:05:51.264Z"
   },
   {
    "duration": 319,
    "start_time": "2022-09-16T19:05:51.284Z"
   },
   {
    "duration": 87,
    "start_time": "2022-09-16T19:05:51.606Z"
   },
   {
    "duration": 267,
    "start_time": "2022-09-16T19:05:51.695Z"
   },
   {
    "duration": 39,
    "start_time": "2022-09-16T19:05:51.963Z"
   },
   {
    "duration": 367,
    "start_time": "2022-09-16T19:05:52.004Z"
   },
   {
    "duration": 105,
    "start_time": "2022-09-16T19:05:52.373Z"
   },
   {
    "duration": 190,
    "start_time": "2022-09-16T19:05:52.480Z"
   },
   {
    "duration": 25,
    "start_time": "2022-09-16T19:05:52.672Z"
   },
   {
    "duration": 1674,
    "start_time": "2022-09-16T19:05:52.698Z"
   },
   {
    "duration": 35,
    "start_time": "2022-09-16T19:05:54.374Z"
   },
   {
    "duration": 67,
    "start_time": "2022-09-16T19:05:54.411Z"
   },
   {
    "duration": 67,
    "start_time": "2022-09-16T19:05:54.480Z"
   },
   {
    "duration": 510,
    "start_time": "2022-09-16T19:05:54.549Z"
   },
   {
    "duration": 164,
    "start_time": "2022-09-16T19:05:55.061Z"
   },
   {
    "duration": 2161,
    "start_time": "2022-09-16T19:06:27.484Z"
   },
   {
    "duration": 19,
    "start_time": "2022-09-16T19:06:29.647Z"
   },
   {
    "duration": 295,
    "start_time": "2022-09-16T19:06:29.668Z"
   },
   {
    "duration": 98,
    "start_time": "2022-09-16T19:06:29.966Z"
   },
   {
    "duration": 266,
    "start_time": "2022-09-16T19:06:30.065Z"
   },
   {
    "duration": 44,
    "start_time": "2022-09-16T19:06:30.332Z"
   },
   {
    "duration": 374,
    "start_time": "2022-09-16T19:06:30.377Z"
   },
   {
    "duration": 110,
    "start_time": "2022-09-16T19:06:30.753Z"
   },
   {
    "duration": 183,
    "start_time": "2022-09-16T19:06:30.865Z"
   },
   {
    "duration": 22,
    "start_time": "2022-09-16T19:06:31.050Z"
   },
   {
    "duration": 1705,
    "start_time": "2022-09-16T19:06:31.074Z"
   },
   {
    "duration": 35,
    "start_time": "2022-09-16T19:06:32.781Z"
   },
   {
    "duration": 63,
    "start_time": "2022-09-16T19:06:32.818Z"
   },
   {
    "duration": 68,
    "start_time": "2022-09-16T19:06:32.882Z"
   },
   {
    "duration": 492,
    "start_time": "2022-09-16T19:06:32.951Z"
   },
   {
    "duration": 1967,
    "start_time": "2022-09-16T19:06:33.445Z"
   },
   {
    "duration": 2157,
    "start_time": "2022-09-16T19:07:32.119Z"
   },
   {
    "duration": 19,
    "start_time": "2022-09-16T19:07:34.278Z"
   },
   {
    "duration": 308,
    "start_time": "2022-09-16T19:07:34.298Z"
   },
   {
    "duration": 84,
    "start_time": "2022-09-16T19:07:34.608Z"
   },
   {
    "duration": 262,
    "start_time": "2022-09-16T19:07:34.694Z"
   },
   {
    "duration": 39,
    "start_time": "2022-09-16T19:07:34.957Z"
   },
   {
    "duration": 372,
    "start_time": "2022-09-16T19:07:34.997Z"
   },
   {
    "duration": 114,
    "start_time": "2022-09-16T19:07:35.370Z"
   },
   {
    "duration": 186,
    "start_time": "2022-09-16T19:07:35.486Z"
   },
   {
    "duration": 23,
    "start_time": "2022-09-16T19:07:35.674Z"
   },
   {
    "duration": 1719,
    "start_time": "2022-09-16T19:07:35.698Z"
   },
   {
    "duration": 48,
    "start_time": "2022-09-16T19:07:37.418Z"
   },
   {
    "duration": 51,
    "start_time": "2022-09-16T19:07:37.468Z"
   },
   {
    "duration": 69,
    "start_time": "2022-09-16T19:07:37.521Z"
   },
   {
    "duration": 8790,
    "start_time": "2022-09-16T19:07:37.592Z"
   },
   {
    "duration": 503,
    "start_time": "2022-09-16T19:07:46.383Z"
   },
   {
    "duration": 4472,
    "start_time": "2022-09-16T19:07:46.888Z"
   },
   {
    "duration": 1997,
    "start_time": "2022-09-16T19:07:51.363Z"
   },
   {
    "duration": 9961,
    "start_time": "2022-09-16T19:18:17.417Z"
   },
   {
    "duration": 96739,
    "start_time": "2022-09-16T19:18:34.413Z"
   },
   {
    "duration": 145,
    "start_time": "2022-09-16T19:32:48.334Z"
   },
   {
    "duration": 2396,
    "start_time": "2022-09-16T19:35:05.049Z"
   },
   {
    "duration": 28,
    "start_time": "2022-09-16T19:35:07.450Z"
   },
   {
    "duration": 328,
    "start_time": "2022-09-16T19:35:07.483Z"
   },
   {
    "duration": 102,
    "start_time": "2022-09-16T19:35:07.814Z"
   },
   {
    "duration": 310,
    "start_time": "2022-09-16T19:35:07.918Z"
   },
   {
    "duration": 51,
    "start_time": "2022-09-16T19:35:08.230Z"
   },
   {
    "duration": 415,
    "start_time": "2022-09-16T19:35:08.283Z"
   },
   {
    "duration": 124,
    "start_time": "2022-09-16T19:35:08.700Z"
   },
   {
    "duration": 201,
    "start_time": "2022-09-16T19:35:08.826Z"
   },
   {
    "duration": 35,
    "start_time": "2022-09-16T19:35:09.029Z"
   },
   {
    "duration": 1911,
    "start_time": "2022-09-16T19:35:09.066Z"
   },
   {
    "duration": 37,
    "start_time": "2022-09-16T19:35:10.979Z"
   },
   {
    "duration": 79,
    "start_time": "2022-09-16T19:35:11.019Z"
   },
   {
    "duration": 81,
    "start_time": "2022-09-16T19:35:11.100Z"
   },
   {
    "duration": 9612,
    "start_time": "2022-09-16T19:35:11.183Z"
   },
   {
    "duration": 516,
    "start_time": "2022-09-16T19:35:20.797Z"
   },
   {
    "duration": 100009,
    "start_time": "2022-09-16T19:35:21.314Z"
   },
   {
    "duration": 2317,
    "start_time": "2022-09-16T19:37:08.948Z"
   },
   {
    "duration": 19,
    "start_time": "2022-09-16T19:37:11.267Z"
   },
   {
    "duration": 402,
    "start_time": "2022-09-16T19:37:11.288Z"
   },
   {
    "duration": 123,
    "start_time": "2022-09-16T19:37:11.692Z"
   },
   {
    "duration": 288,
    "start_time": "2022-09-16T19:37:11.817Z"
   },
   {
    "duration": 52,
    "start_time": "2022-09-16T19:37:12.107Z"
   },
   {
    "duration": 421,
    "start_time": "2022-09-16T19:37:12.161Z"
   },
   {
    "duration": 121,
    "start_time": "2022-09-16T19:37:12.584Z"
   },
   {
    "duration": 197,
    "start_time": "2022-09-16T19:37:12.708Z"
   },
   {
    "duration": 27,
    "start_time": "2022-09-16T19:37:12.908Z"
   },
   {
    "duration": 1826,
    "start_time": "2022-09-16T19:37:12.937Z"
   },
   {
    "duration": 42,
    "start_time": "2022-09-16T19:37:14.765Z"
   },
   {
    "duration": 71,
    "start_time": "2022-09-16T19:37:14.809Z"
   },
   {
    "duration": 75,
    "start_time": "2022-09-16T19:37:14.884Z"
   },
   {
    "duration": 9292,
    "start_time": "2022-09-16T19:37:14.961Z"
   },
   {
    "duration": 491,
    "start_time": "2022-09-16T19:37:24.254Z"
   },
   {
    "duration": 2151,
    "start_time": "2022-09-16T19:41:39.102Z"
   },
   {
    "duration": 17,
    "start_time": "2022-09-16T19:41:41.255Z"
   },
   {
    "duration": 334,
    "start_time": "2022-09-16T19:41:41.274Z"
   },
   {
    "duration": 122,
    "start_time": "2022-09-16T19:41:41.610Z"
   },
   {
    "duration": 272,
    "start_time": "2022-09-16T19:41:41.733Z"
   },
   {
    "duration": 44,
    "start_time": "2022-09-16T19:41:42.007Z"
   },
   {
    "duration": 376,
    "start_time": "2022-09-16T19:41:42.053Z"
   },
   {
    "duration": 100,
    "start_time": "2022-09-16T19:41:42.430Z"
   },
   {
    "duration": 186,
    "start_time": "2022-09-16T19:41:42.532Z"
   },
   {
    "duration": 30,
    "start_time": "2022-09-16T19:41:42.720Z"
   },
   {
    "duration": 1649,
    "start_time": "2022-09-16T19:41:42.752Z"
   },
   {
    "duration": 34,
    "start_time": "2022-09-16T19:41:44.403Z"
   },
   {
    "duration": 53,
    "start_time": "2022-09-16T19:41:44.447Z"
   },
   {
    "duration": 70,
    "start_time": "2022-09-16T19:41:44.501Z"
   },
   {
    "duration": 24990,
    "start_time": "2022-09-16T19:41:44.573Z"
   },
   {
    "duration": 543,
    "start_time": "2022-09-16T19:42:09.565Z"
   },
   {
    "duration": 2263,
    "start_time": "2022-09-16T19:43:45.804Z"
   },
   {
    "duration": 18,
    "start_time": "2022-09-16T19:43:48.069Z"
   },
   {
    "duration": 296,
    "start_time": "2022-09-16T19:43:48.089Z"
   },
   {
    "duration": 92,
    "start_time": "2022-09-16T19:43:48.388Z"
   },
   {
    "duration": 268,
    "start_time": "2022-09-16T19:43:48.482Z"
   },
   {
    "duration": 40,
    "start_time": "2022-09-16T19:43:48.751Z"
   },
   {
    "duration": 420,
    "start_time": "2022-09-16T19:43:48.792Z"
   },
   {
    "duration": 106,
    "start_time": "2022-09-16T19:43:49.213Z"
   },
   {
    "duration": 175,
    "start_time": "2022-09-16T19:43:49.321Z"
   },
   {
    "duration": 22,
    "start_time": "2022-09-16T19:43:49.499Z"
   },
   {
    "duration": 1657,
    "start_time": "2022-09-16T19:43:49.523Z"
   },
   {
    "duration": 36,
    "start_time": "2022-09-16T19:43:51.181Z"
   },
   {
    "duration": 62,
    "start_time": "2022-09-16T19:43:51.218Z"
   },
   {
    "duration": 71,
    "start_time": "2022-09-16T19:43:51.282Z"
   },
   {
    "duration": 28935,
    "start_time": "2022-09-16T19:43:51.355Z"
   },
   {
    "duration": 497,
    "start_time": "2022-09-16T19:44:20.292Z"
   },
   {
    "duration": 125671,
    "start_time": "2022-09-16T19:44:20.791Z"
   },
   {
    "duration": 122015,
    "start_time": "2022-09-16T19:46:26.464Z"
   },
   {
    "duration": 2287,
    "start_time": "2022-09-16T19:52:46.765Z"
   },
   {
    "duration": 28,
    "start_time": "2022-09-16T19:52:49.056Z"
   },
   {
    "duration": 351,
    "start_time": "2022-09-16T19:52:49.085Z"
   },
   {
    "duration": 95,
    "start_time": "2022-09-16T19:52:49.438Z"
   },
   {
    "duration": 290,
    "start_time": "2022-09-16T19:52:49.535Z"
   },
   {
    "duration": 41,
    "start_time": "2022-09-16T19:52:49.827Z"
   },
   {
    "duration": 398,
    "start_time": "2022-09-16T19:52:49.870Z"
   },
   {
    "duration": 120,
    "start_time": "2022-09-16T19:52:50.270Z"
   },
   {
    "duration": 185,
    "start_time": "2022-09-16T19:52:50.391Z"
   },
   {
    "duration": 25,
    "start_time": "2022-09-16T19:52:50.578Z"
   },
   {
    "duration": 1791,
    "start_time": "2022-09-16T19:52:50.605Z"
   },
   {
    "duration": 35,
    "start_time": "2022-09-16T19:52:52.397Z"
   },
   {
    "duration": 78,
    "start_time": "2022-09-16T19:52:52.434Z"
   },
   {
    "duration": 79,
    "start_time": "2022-09-16T19:52:52.514Z"
   },
   {
    "duration": 27730,
    "start_time": "2022-09-16T19:52:52.594Z"
   },
   {
    "duration": 535,
    "start_time": "2022-09-16T19:53:20.326Z"
   },
   {
    "duration": 2174,
    "start_time": "2022-09-16T19:54:23.390Z"
   },
   {
    "duration": 22,
    "start_time": "2022-09-16T19:54:25.566Z"
   },
   {
    "duration": 354,
    "start_time": "2022-09-16T19:54:25.592Z"
   },
   {
    "duration": 99,
    "start_time": "2022-09-16T19:54:25.949Z"
   },
   {
    "duration": 318,
    "start_time": "2022-09-16T19:54:26.050Z"
   },
   {
    "duration": 43,
    "start_time": "2022-09-16T19:54:26.371Z"
   },
   {
    "duration": 419,
    "start_time": "2022-09-16T19:54:26.416Z"
   },
   {
    "duration": 119,
    "start_time": "2022-09-16T19:54:26.837Z"
   },
   {
    "duration": 180,
    "start_time": "2022-09-16T19:54:26.961Z"
   },
   {
    "duration": 30,
    "start_time": "2022-09-16T19:54:27.142Z"
   },
   {
    "duration": 1794,
    "start_time": "2022-09-16T19:54:27.174Z"
   },
   {
    "duration": 40,
    "start_time": "2022-09-16T19:54:28.973Z"
   },
   {
    "duration": 71,
    "start_time": "2022-09-16T19:54:29.014Z"
   },
   {
    "duration": 77,
    "start_time": "2022-09-16T19:54:29.086Z"
   },
   {
    "duration": 24782,
    "start_time": "2022-09-16T19:54:29.165Z"
   },
   {
    "duration": 505,
    "start_time": "2022-09-16T19:54:53.949Z"
   },
   {
    "duration": 11755,
    "start_time": "2022-09-16T19:54:54.456Z"
   },
   {
    "duration": 2228,
    "start_time": "2022-09-16T19:56:18.316Z"
   },
   {
    "duration": 19,
    "start_time": "2022-09-16T19:56:20.546Z"
   },
   {
    "duration": 309,
    "start_time": "2022-09-16T19:56:20.566Z"
   },
   {
    "duration": 92,
    "start_time": "2022-09-16T19:56:20.877Z"
   },
   {
    "duration": 264,
    "start_time": "2022-09-16T19:56:20.972Z"
   },
   {
    "duration": 41,
    "start_time": "2022-09-16T19:56:21.237Z"
   },
   {
    "duration": 421,
    "start_time": "2022-09-16T19:56:21.280Z"
   },
   {
    "duration": 154,
    "start_time": "2022-09-16T19:56:21.703Z"
   },
   {
    "duration": 203,
    "start_time": "2022-09-16T19:56:21.859Z"
   },
   {
    "duration": 27,
    "start_time": "2022-09-16T19:56:22.063Z"
   },
   {
    "duration": 1796,
    "start_time": "2022-09-16T19:56:22.092Z"
   },
   {
    "duration": 45,
    "start_time": "2022-09-16T19:56:23.890Z"
   },
   {
    "duration": 56,
    "start_time": "2022-09-16T19:56:23.947Z"
   },
   {
    "duration": 80,
    "start_time": "2022-09-16T19:56:24.006Z"
   },
   {
    "duration": 25185,
    "start_time": "2022-09-16T19:56:24.088Z"
   },
   {
    "duration": 524,
    "start_time": "2022-09-16T19:56:49.275Z"
   },
   {
    "duration": 16,
    "start_time": "2022-09-16T19:56:49.801Z"
   },
   {
    "duration": 2164,
    "start_time": "2022-09-16T19:58:13.344Z"
   },
   {
    "duration": 18,
    "start_time": "2022-09-16T19:58:15.510Z"
   },
   {
    "duration": 317,
    "start_time": "2022-09-16T19:58:15.530Z"
   },
   {
    "duration": 98,
    "start_time": "2022-09-16T19:58:15.849Z"
   },
   {
    "duration": 287,
    "start_time": "2022-09-16T19:58:15.948Z"
   },
   {
    "duration": 55,
    "start_time": "2022-09-16T19:58:16.236Z"
   },
   {
    "duration": 427,
    "start_time": "2022-09-16T19:58:16.293Z"
   },
   {
    "duration": 108,
    "start_time": "2022-09-16T19:58:16.722Z"
   },
   {
    "duration": 191,
    "start_time": "2022-09-16T19:58:16.831Z"
   },
   {
    "duration": 29,
    "start_time": "2022-09-16T19:58:17.025Z"
   },
   {
    "duration": 1529,
    "start_time": "2022-09-16T19:58:17.056Z"
   },
   {
    "duration": 30,
    "start_time": "2022-09-16T19:58:18.587Z"
   },
   {
    "duration": 62,
    "start_time": "2022-09-16T19:58:18.618Z"
   },
   {
    "duration": 48,
    "start_time": "2022-09-16T19:58:18.682Z"
   },
   {
    "duration": 23854,
    "start_time": "2022-09-16T19:58:18.746Z"
   },
   {
    "duration": 460,
    "start_time": "2022-09-16T19:58:42.602Z"
   },
   {
    "duration": 15,
    "start_time": "2022-09-16T19:58:43.064Z"
   },
   {
    "duration": 98930,
    "start_time": "2022-09-16T20:04:58.867Z"
   },
   {
    "duration": 9418,
    "start_time": "2022-09-16T20:49:41.330Z"
   },
   {
    "duration": 2240,
    "start_time": "2022-09-16T20:52:01.795Z"
   },
   {
    "duration": 21,
    "start_time": "2022-09-16T20:52:04.037Z"
   },
   {
    "duration": 300,
    "start_time": "2022-09-16T20:52:04.059Z"
   },
   {
    "duration": 91,
    "start_time": "2022-09-16T20:52:04.360Z"
   },
   {
    "duration": 273,
    "start_time": "2022-09-16T20:52:04.453Z"
   },
   {
    "duration": 43,
    "start_time": "2022-09-16T20:52:04.728Z"
   },
   {
    "duration": 360,
    "start_time": "2022-09-16T20:52:04.773Z"
   },
   {
    "duration": 104,
    "start_time": "2022-09-16T20:52:05.135Z"
   },
   {
    "duration": 189,
    "start_time": "2022-09-16T20:52:05.246Z"
   },
   {
    "duration": 20,
    "start_time": "2022-09-16T20:52:05.436Z"
   },
   {
    "duration": 1521,
    "start_time": "2022-09-16T20:52:05.458Z"
   },
   {
    "duration": 29,
    "start_time": "2022-09-16T20:52:06.980Z"
   },
   {
    "duration": 66,
    "start_time": "2022-09-16T20:52:07.010Z"
   },
   {
    "duration": 48,
    "start_time": "2022-09-16T20:52:07.079Z"
   },
   {
    "duration": 7445,
    "start_time": "2022-09-16T20:52:07.129Z"
   },
   {
    "duration": 489,
    "start_time": "2022-09-16T20:52:14.576Z"
   },
   {
    "duration": 14,
    "start_time": "2022-09-16T20:52:15.067Z"
   },
   {
    "duration": 2317,
    "start_time": "2022-09-16T20:55:01.070Z"
   },
   {
    "duration": 25,
    "start_time": "2022-09-16T20:55:03.390Z"
   },
   {
    "duration": 337,
    "start_time": "2022-09-16T20:55:03.417Z"
   },
   {
    "duration": 111,
    "start_time": "2022-09-16T20:55:03.757Z"
   },
   {
    "duration": 271,
    "start_time": "2022-09-16T20:55:03.870Z"
   },
   {
    "duration": 40,
    "start_time": "2022-09-16T20:55:04.142Z"
   },
   {
    "duration": 390,
    "start_time": "2022-09-16T20:55:04.183Z"
   },
   {
    "duration": 115,
    "start_time": "2022-09-16T20:55:04.574Z"
   },
   {
    "duration": 185,
    "start_time": "2022-09-16T20:55:04.691Z"
   },
   {
    "duration": 18,
    "start_time": "2022-09-16T20:55:04.878Z"
   },
   {
    "duration": 1579,
    "start_time": "2022-09-16T20:55:04.898Z"
   },
   {
    "duration": 35,
    "start_time": "2022-09-16T20:55:06.479Z"
   },
   {
    "duration": 69,
    "start_time": "2022-09-16T20:55:06.516Z"
   },
   {
    "duration": 61,
    "start_time": "2022-09-16T20:55:06.587Z"
   },
   {
    "duration": 25111,
    "start_time": "2022-09-16T20:55:06.650Z"
   },
   {
    "duration": 455,
    "start_time": "2022-09-16T20:55:31.763Z"
   },
   {
    "duration": 15,
    "start_time": "2022-09-16T20:55:32.220Z"
   },
   {
    "duration": 2108,
    "start_time": "2022-09-16T20:59:28.565Z"
   },
   {
    "duration": 17,
    "start_time": "2022-09-16T20:59:30.675Z"
   },
   {
    "duration": 293,
    "start_time": "2022-09-16T20:59:30.693Z"
   },
   {
    "duration": 93,
    "start_time": "2022-09-16T20:59:30.989Z"
   },
   {
    "duration": 263,
    "start_time": "2022-09-16T20:59:31.083Z"
   },
   {
    "duration": 42,
    "start_time": "2022-09-16T20:59:31.348Z"
   },
   {
    "duration": 363,
    "start_time": "2022-09-16T20:59:31.391Z"
   },
   {
    "duration": 106,
    "start_time": "2022-09-16T20:59:31.756Z"
   },
   {
    "duration": 168,
    "start_time": "2022-09-16T20:59:31.864Z"
   },
   {
    "duration": 27,
    "start_time": "2022-09-16T20:59:32.034Z"
   },
   {
    "duration": 1431,
    "start_time": "2022-09-16T20:59:32.062Z"
   },
   {
    "duration": 27,
    "start_time": "2022-09-16T20:59:33.495Z"
   },
   {
    "duration": 67,
    "start_time": "2022-09-16T20:59:33.524Z"
   },
   {
    "duration": 73,
    "start_time": "2022-09-16T20:59:33.593Z"
   },
   {
    "duration": 23860,
    "start_time": "2022-09-16T20:59:33.668Z"
   },
   {
    "duration": 449,
    "start_time": "2022-09-16T20:59:57.530Z"
   },
   {
    "duration": 25775,
    "start_time": "2022-09-16T20:59:57.981Z"
   },
   {
    "duration": 97948,
    "start_time": "2022-09-16T21:00:23.758Z"
   },
   {
    "duration": 32040,
    "start_time": "2022-09-16T21:02:01.708Z"
   },
   {
    "duration": 19162,
    "start_time": "2022-09-16T21:03:13.286Z"
   },
   {
    "duration": 265720,
    "start_time": "2022-09-16T21:03:32.450Z"
   },
   {
    "duration": 2538,
    "start_time": "2022-09-17T13:03:40.968Z"
   },
   {
    "duration": 21,
    "start_time": "2022-09-17T13:03:43.508Z"
   },
   {
    "duration": 281,
    "start_time": "2022-09-17T13:03:43.530Z"
   },
   {
    "duration": 88,
    "start_time": "2022-09-17T13:03:43.813Z"
   },
   {
    "duration": 335,
    "start_time": "2022-09-17T13:03:43.903Z"
   },
   {
    "duration": 38,
    "start_time": "2022-09-17T13:03:44.240Z"
   },
   {
    "duration": 402,
    "start_time": "2022-09-17T13:03:44.279Z"
   },
   {
    "duration": 114,
    "start_time": "2022-09-17T13:03:44.683Z"
   },
   {
    "duration": 190,
    "start_time": "2022-09-17T13:03:44.799Z"
   },
   {
    "duration": 19,
    "start_time": "2022-09-17T13:03:44.991Z"
   },
   {
    "duration": 1892,
    "start_time": "2022-09-17T13:03:45.012Z"
   },
   {
    "duration": 36,
    "start_time": "2022-09-17T13:03:46.921Z"
   },
   {
    "duration": 70,
    "start_time": "2022-09-17T13:03:46.958Z"
   },
   {
    "duration": 58,
    "start_time": "2022-09-17T13:03:47.030Z"
   },
   {
    "duration": 27411,
    "start_time": "2022-09-17T13:03:47.090Z"
   },
   {
    "duration": 472,
    "start_time": "2022-09-17T13:04:14.502Z"
   },
   {
    "duration": 20146,
    "start_time": "2022-09-17T13:04:14.975Z"
   },
   {
    "duration": 285733,
    "start_time": "2022-09-17T13:04:35.123Z"
   },
   {
    "duration": 127,
    "start_time": "2022-09-17T13:09:20.860Z"
   },
   {
    "duration": 5406,
    "start_time": "2022-09-17T13:13:26.398Z"
   },
   {
    "duration": 14492,
    "start_time": "2022-09-17T13:13:40.949Z"
   },
   {
    "duration": 16742,
    "start_time": "2022-09-17T13:14:21.320Z"
   },
   {
    "duration": 167,
    "start_time": "2022-09-17T13:18:36.473Z"
   },
   {
    "duration": 4654,
    "start_time": "2022-09-17T13:21:04.498Z"
   },
   {
    "duration": 8163,
    "start_time": "2022-09-17T13:22:28.197Z"
   },
   {
    "duration": 62,
    "start_time": "2022-09-17T13:23:23.108Z"
   },
   {
    "duration": 2081,
    "start_time": "2022-09-17T13:23:29.229Z"
   },
   {
    "duration": 2342,
    "start_time": "2022-09-17T13:23:55.024Z"
   },
   {
    "duration": 21,
    "start_time": "2022-09-17T13:23:57.368Z"
   },
   {
    "duration": 320,
    "start_time": "2022-09-17T13:23:57.390Z"
   },
   {
    "duration": 81,
    "start_time": "2022-09-17T13:23:57.720Z"
   },
   {
    "duration": 130,
    "start_time": "2022-09-17T13:23:57.803Z"
   },
   {
    "duration": 280,
    "start_time": "2022-09-17T13:23:57.935Z"
   },
   {
    "duration": 115,
    "start_time": "2022-09-17T13:23:58.216Z"
   },
   {
    "duration": 667,
    "start_time": "2022-09-17T13:23:58.333Z"
   },
   {
    "duration": 142,
    "start_time": "2022-09-17T13:23:59.002Z"
   },
   {
    "duration": 237,
    "start_time": "2022-09-17T13:23:59.147Z"
   },
   {
    "duration": 27,
    "start_time": "2022-09-17T13:23:59.385Z"
   },
   {
    "duration": 1703,
    "start_time": "2022-09-17T13:23:59.413Z"
   },
   {
    "duration": 34,
    "start_time": "2022-09-17T13:24:01.121Z"
   },
   {
    "duration": 75,
    "start_time": "2022-09-17T13:24:01.157Z"
   },
   {
    "duration": 97,
    "start_time": "2022-09-17T13:24:01.233Z"
   },
   {
    "duration": 1698,
    "start_time": "2022-09-17T13:24:01.332Z"
   },
   {
    "duration": 146,
    "start_time": "2022-09-17T13:24:03.032Z"
   },
   {
    "duration": 0,
    "start_time": "2022-09-17T13:24:03.180Z"
   },
   {
    "duration": 0,
    "start_time": "2022-09-17T13:24:03.181Z"
   },
   {
    "duration": 0,
    "start_time": "2022-09-17T13:24:03.182Z"
   },
   {
    "duration": 0,
    "start_time": "2022-09-17T13:24:03.183Z"
   },
   {
    "duration": 6,
    "start_time": "2022-09-17T13:24:56.338Z"
   },
   {
    "duration": 152,
    "start_time": "2022-09-17T13:25:04.012Z"
   },
   {
    "duration": 173,
    "start_time": "2022-09-17T13:25:15.845Z"
   },
   {
    "duration": 136,
    "start_time": "2022-09-17T13:25:19.544Z"
   },
   {
    "duration": 140,
    "start_time": "2022-09-17T13:25:29.251Z"
   },
   {
    "duration": 4,
    "start_time": "2022-09-17T13:25:31.543Z"
   },
   {
    "duration": 3987,
    "start_time": "2022-09-17T13:26:03.929Z"
   },
   {
    "duration": 2256,
    "start_time": "2022-09-17T13:26:11.249Z"
   },
   {
    "duration": 22,
    "start_time": "2022-09-17T13:26:13.508Z"
   },
   {
    "duration": 289,
    "start_time": "2022-09-17T13:26:13.532Z"
   },
   {
    "duration": 80,
    "start_time": "2022-09-17T13:26:13.823Z"
   },
   {
    "duration": 259,
    "start_time": "2022-09-17T13:26:13.905Z"
   },
   {
    "duration": 0,
    "start_time": "2022-09-17T13:26:14.167Z"
   },
   {
    "duration": 0,
    "start_time": "2022-09-17T13:26:14.168Z"
   },
   {
    "duration": 0,
    "start_time": "2022-09-17T13:26:14.169Z"
   },
   {
    "duration": 0,
    "start_time": "2022-09-17T13:26:14.170Z"
   },
   {
    "duration": 0,
    "start_time": "2022-09-17T13:26:14.171Z"
   },
   {
    "duration": 0,
    "start_time": "2022-09-17T13:26:14.172Z"
   },
   {
    "duration": 0,
    "start_time": "2022-09-17T13:26:14.173Z"
   },
   {
    "duration": 0,
    "start_time": "2022-09-17T13:26:14.175Z"
   },
   {
    "duration": 0,
    "start_time": "2022-09-17T13:26:14.176Z"
   },
   {
    "duration": 0,
    "start_time": "2022-09-17T13:26:14.177Z"
   },
   {
    "duration": 0,
    "start_time": "2022-09-17T13:26:14.178Z"
   },
   {
    "duration": 0,
    "start_time": "2022-09-17T13:26:14.179Z"
   },
   {
    "duration": 0,
    "start_time": "2022-09-17T13:26:14.180Z"
   },
   {
    "duration": 0,
    "start_time": "2022-09-17T13:26:14.181Z"
   },
   {
    "duration": 0,
    "start_time": "2022-09-17T13:26:14.183Z"
   },
   {
    "duration": 0,
    "start_time": "2022-09-17T13:26:14.184Z"
   },
   {
    "duration": 0,
    "start_time": "2022-09-17T13:26:14.185Z"
   },
   {
    "duration": 0,
    "start_time": "2022-09-17T13:26:14.186Z"
   },
   {
    "duration": 147,
    "start_time": "2022-09-17T13:26:44.526Z"
   },
   {
    "duration": 135,
    "start_time": "2022-09-17T13:26:47.069Z"
   },
   {
    "duration": 4,
    "start_time": "2022-09-17T13:26:49.383Z"
   },
   {
    "duration": 245,
    "start_time": "2022-09-17T13:27:19.229Z"
   },
   {
    "duration": 139,
    "start_time": "2022-09-17T13:27:21.668Z"
   },
   {
    "duration": 4,
    "start_time": "2022-09-17T13:27:28.179Z"
   },
   {
    "duration": 2246,
    "start_time": "2022-09-17T13:28:03.870Z"
   },
   {
    "duration": 19,
    "start_time": "2022-09-17T13:28:06.121Z"
   },
   {
    "duration": 275,
    "start_time": "2022-09-17T13:28:06.142Z"
   },
   {
    "duration": 102,
    "start_time": "2022-09-17T13:28:06.419Z"
   },
   {
    "duration": 945,
    "start_time": "2022-09-17T13:28:06.522Z"
   },
   {
    "duration": 223,
    "start_time": "2022-09-17T13:28:07.469Z"
   },
   {
    "duration": 156,
    "start_time": "2022-09-17T13:28:07.694Z"
   },
   {
    "duration": 4,
    "start_time": "2022-09-17T13:28:07.852Z"
   },
   {
    "duration": 287,
    "start_time": "2022-09-17T13:28:07.858Z"
   },
   {
    "duration": 114,
    "start_time": "2022-09-17T13:28:08.148Z"
   },
   {
    "duration": 672,
    "start_time": "2022-09-17T13:28:08.263Z"
   },
   {
    "duration": 156,
    "start_time": "2022-09-17T13:28:08.937Z"
   },
   {
    "duration": 263,
    "start_time": "2022-09-17T13:28:09.095Z"
   },
   {
    "duration": 35,
    "start_time": "2022-09-17T13:28:09.361Z"
   },
   {
    "duration": 1736,
    "start_time": "2022-09-17T13:28:09.398Z"
   },
   {
    "duration": 33,
    "start_time": "2022-09-17T13:28:11.137Z"
   },
   {
    "duration": 74,
    "start_time": "2022-09-17T13:28:11.172Z"
   },
   {
    "duration": 100,
    "start_time": "2022-09-17T13:28:11.248Z"
   },
   {
    "duration": 1644,
    "start_time": "2022-09-17T13:28:11.350Z"
   },
   {
    "duration": 150,
    "start_time": "2022-09-17T13:28:12.995Z"
   },
   {
    "duration": 0,
    "start_time": "2022-09-17T13:28:13.147Z"
   },
   {
    "duration": 0,
    "start_time": "2022-09-17T13:28:13.148Z"
   },
   {
    "duration": 0,
    "start_time": "2022-09-17T13:28:13.149Z"
   },
   {
    "duration": 0,
    "start_time": "2022-09-17T13:28:13.150Z"
   },
   {
    "duration": 4142,
    "start_time": "2022-09-17T13:29:23.955Z"
   },
   {
    "duration": 2226,
    "start_time": "2022-09-17T13:29:33.575Z"
   },
   {
    "duration": 30,
    "start_time": "2022-09-17T13:29:35.803Z"
   },
   {
    "duration": 286,
    "start_time": "2022-09-17T13:29:35.835Z"
   },
   {
    "duration": 84,
    "start_time": "2022-09-17T13:29:36.124Z"
   },
   {
    "duration": 927,
    "start_time": "2022-09-17T13:29:36.220Z"
   },
   {
    "duration": 272,
    "start_time": "2022-09-17T13:29:37.148Z"
   },
   {
    "duration": 150,
    "start_time": "2022-09-17T13:29:37.422Z"
   },
   {
    "duration": 4,
    "start_time": "2022-09-17T13:29:37.573Z"
   },
   {
    "duration": 284,
    "start_time": "2022-09-17T13:29:37.579Z"
   },
   {
    "duration": 109,
    "start_time": "2022-09-17T13:29:37.867Z"
   },
   {
    "duration": 641,
    "start_time": "2022-09-17T13:29:37.978Z"
   },
   {
    "duration": 114,
    "start_time": "2022-09-17T13:29:38.621Z"
   },
   {
    "duration": 272,
    "start_time": "2022-09-17T13:29:38.737Z"
   },
   {
    "duration": 41,
    "start_time": "2022-09-17T13:29:39.011Z"
   },
   {
    "duration": 1716,
    "start_time": "2022-09-17T13:29:39.055Z"
   },
   {
    "duration": 32,
    "start_time": "2022-09-17T13:29:40.774Z"
   },
   {
    "duration": 61,
    "start_time": "2022-09-17T13:29:40.820Z"
   },
   {
    "duration": 103,
    "start_time": "2022-09-17T13:29:40.883Z"
   },
   {
    "duration": 1650,
    "start_time": "2022-09-17T13:29:40.988Z"
   },
   {
    "duration": 162,
    "start_time": "2022-09-17T13:29:42.640Z"
   },
   {
    "duration": 0,
    "start_time": "2022-09-17T13:29:42.804Z"
   },
   {
    "duration": 1,
    "start_time": "2022-09-17T13:29:42.804Z"
   },
   {
    "duration": 0,
    "start_time": "2022-09-17T13:29:42.806Z"
   },
   {
    "duration": 0,
    "start_time": "2022-09-17T13:29:42.807Z"
   },
   {
    "duration": 2247,
    "start_time": "2022-09-17T13:30:52.641Z"
   },
   {
    "duration": 30,
    "start_time": "2022-09-17T13:30:54.891Z"
   },
   {
    "duration": 258,
    "start_time": "2022-09-17T13:30:54.923Z"
   },
   {
    "duration": 90,
    "start_time": "2022-09-17T13:30:55.184Z"
   },
   {
    "duration": 275,
    "start_time": "2022-09-17T13:30:55.276Z"
   },
   {
    "duration": 154,
    "start_time": "2022-09-17T13:30:55.553Z"
   },
   {
    "duration": 11,
    "start_time": "2022-09-17T13:30:55.710Z"
   },
   {
    "duration": 282,
    "start_time": "2022-09-17T13:30:55.723Z"
   },
   {
    "duration": 114,
    "start_time": "2022-09-17T13:30:56.006Z"
   },
   {
    "duration": 640,
    "start_time": "2022-09-17T13:30:56.123Z"
   },
   {
    "duration": 121,
    "start_time": "2022-09-17T13:30:56.765Z"
   },
   {
    "duration": 244,
    "start_time": "2022-09-17T13:30:56.888Z"
   },
   {
    "duration": 28,
    "start_time": "2022-09-17T13:30:57.134Z"
   },
   {
    "duration": 1751,
    "start_time": "2022-09-17T13:30:57.164Z"
   },
   {
    "duration": 40,
    "start_time": "2022-09-17T13:30:58.920Z"
   },
   {
    "duration": 597,
    "start_time": "2022-09-17T13:30:58.962Z"
   },
   {
    "duration": 67,
    "start_time": "2022-09-17T13:30:59.561Z"
   },
   {
    "duration": 95,
    "start_time": "2022-09-17T13:30:59.630Z"
   },
   {
    "duration": 1660,
    "start_time": "2022-09-17T13:30:59.727Z"
   },
   {
    "duration": 153,
    "start_time": "2022-09-17T13:31:01.389Z"
   },
   {
    "duration": 0,
    "start_time": "2022-09-17T13:31:01.543Z"
   },
   {
    "duration": 0,
    "start_time": "2022-09-17T13:31:01.545Z"
   },
   {
    "duration": 0,
    "start_time": "2022-09-17T13:31:01.546Z"
   },
   {
    "duration": 0,
    "start_time": "2022-09-17T13:31:01.547Z"
   },
   {
    "duration": 10,
    "start_time": "2022-09-17T13:32:35.963Z"
   },
   {
    "duration": 208,
    "start_time": "2022-09-17T13:32:38.130Z"
   },
   {
    "duration": 11,
    "start_time": "2022-09-17T13:32:59.930Z"
   },
   {
    "duration": 188,
    "start_time": "2022-09-17T13:38:43.316Z"
   },
   {
    "duration": 257,
    "start_time": "2022-09-17T13:39:00.104Z"
   },
   {
    "duration": 10,
    "start_time": "2022-09-17T13:39:13.237Z"
   },
   {
    "duration": 4,
    "start_time": "2022-09-17T13:39:16.208Z"
   },
   {
    "duration": 399,
    "start_time": "2022-09-17T13:40:04.649Z"
   },
   {
    "duration": 581,
    "start_time": "2022-09-17T13:41:12.512Z"
   },
   {
    "duration": 767,
    "start_time": "2022-09-17T13:41:46.369Z"
   },
   {
    "duration": 950,
    "start_time": "2022-09-17T13:42:46.958Z"
   },
   {
    "duration": 1059,
    "start_time": "2022-09-17T13:43:41.994Z"
   },
   {
    "duration": 1139,
    "start_time": "2022-09-17T13:43:47.615Z"
   },
   {
    "duration": 1166,
    "start_time": "2022-09-17T13:44:40.776Z"
   },
   {
    "duration": 2434,
    "start_time": "2022-09-17T13:45:40.541Z"
   },
   {
    "duration": 20,
    "start_time": "2022-09-17T13:45:42.977Z"
   },
   {
    "duration": 329,
    "start_time": "2022-09-17T13:45:42.999Z"
   },
   {
    "duration": 97,
    "start_time": "2022-09-17T13:45:43.331Z"
   },
   {
    "duration": 38,
    "start_time": "2022-09-17T13:45:43.430Z"
   },
   {
    "duration": 464,
    "start_time": "2022-09-17T13:45:43.470Z"
   },
   {
    "duration": 125,
    "start_time": "2022-09-17T13:45:43.936Z"
   },
   {
    "duration": 199,
    "start_time": "2022-09-17T13:45:44.063Z"
   },
   {
    "duration": 19,
    "start_time": "2022-09-17T13:45:44.263Z"
   },
   {
    "duration": 1674,
    "start_time": "2022-09-17T13:45:44.285Z"
   },
   {
    "duration": 30,
    "start_time": "2022-09-17T13:45:45.960Z"
   },
   {
    "duration": 155,
    "start_time": "2022-09-17T13:45:45.991Z"
   },
   {
    "duration": 0,
    "start_time": "2022-09-17T13:45:46.148Z"
   },
   {
    "duration": 0,
    "start_time": "2022-09-17T13:45:46.149Z"
   },
   {
    "duration": 0,
    "start_time": "2022-09-17T13:45:46.150Z"
   },
   {
    "duration": 0,
    "start_time": "2022-09-17T13:45:46.151Z"
   },
   {
    "duration": 0,
    "start_time": "2022-09-17T13:45:46.152Z"
   },
   {
    "duration": 0,
    "start_time": "2022-09-17T13:45:46.153Z"
   },
   {
    "duration": 0,
    "start_time": "2022-09-17T13:45:46.154Z"
   },
   {
    "duration": 0,
    "start_time": "2022-09-17T13:45:46.155Z"
   },
   {
    "duration": 0,
    "start_time": "2022-09-17T13:45:46.156Z"
   },
   {
    "duration": 0,
    "start_time": "2022-09-17T13:45:46.157Z"
   },
   {
    "duration": 0,
    "start_time": "2022-09-17T13:45:46.159Z"
   },
   {
    "duration": 0,
    "start_time": "2022-09-17T13:45:46.160Z"
   },
   {
    "duration": 303,
    "start_time": "2022-09-17T13:46:17.428Z"
   },
   {
    "duration": 2529,
    "start_time": "2022-09-17T13:46:28.175Z"
   },
   {
    "duration": 34,
    "start_time": "2022-09-17T13:46:30.706Z"
   },
   {
    "duration": 262,
    "start_time": "2022-09-17T13:46:30.746Z"
   },
   {
    "duration": 101,
    "start_time": "2022-09-17T13:46:31.011Z"
   },
   {
    "duration": 41,
    "start_time": "2022-09-17T13:46:31.114Z"
   },
   {
    "duration": 502,
    "start_time": "2022-09-17T13:46:31.157Z"
   },
   {
    "duration": 125,
    "start_time": "2022-09-17T13:46:31.661Z"
   },
   {
    "duration": 205,
    "start_time": "2022-09-17T13:46:31.788Z"
   },
   {
    "duration": 31,
    "start_time": "2022-09-17T13:46:31.996Z"
   },
   {
    "duration": 1848,
    "start_time": "2022-09-17T13:46:32.030Z"
   },
   {
    "duration": 41,
    "start_time": "2022-09-17T13:46:33.880Z"
   },
   {
    "duration": 285,
    "start_time": "2022-09-17T13:46:33.924Z"
   },
   {
    "duration": 20,
    "start_time": "2022-09-17T13:46:34.211Z"
   },
   {
    "duration": 1329,
    "start_time": "2022-09-17T13:46:34.234Z"
   },
   {
    "duration": 5,
    "start_time": "2022-09-17T13:46:35.565Z"
   },
   {
    "duration": 89,
    "start_time": "2022-09-17T13:46:35.572Z"
   },
   {
    "duration": 127,
    "start_time": "2022-09-17T13:46:35.663Z"
   },
   {
    "duration": 1709,
    "start_time": "2022-09-17T13:46:35.792Z"
   },
   {
    "duration": 172,
    "start_time": "2022-09-17T13:46:37.502Z"
   },
   {
    "duration": 0,
    "start_time": "2022-09-17T13:46:37.676Z"
   },
   {
    "duration": 0,
    "start_time": "2022-09-17T13:46:37.677Z"
   },
   {
    "duration": 0,
    "start_time": "2022-09-17T13:46:37.679Z"
   },
   {
    "duration": 1,
    "start_time": "2022-09-17T13:46:37.679Z"
   },
   {
    "duration": 2289,
    "start_time": "2022-09-17T13:47:29.544Z"
   },
   {
    "duration": 56,
    "start_time": "2022-09-17T17:57:01.610Z"
   },
   {
    "duration": 2761,
    "start_time": "2022-09-17T17:57:07.089Z"
   },
   {
    "duration": 22,
    "start_time": "2022-09-17T17:57:09.852Z"
   },
   {
    "duration": 297,
    "start_time": "2022-09-17T17:57:09.876Z"
   },
   {
    "duration": 86,
    "start_time": "2022-09-17T17:57:10.175Z"
   },
   {
    "duration": 28,
    "start_time": "2022-09-17T17:57:10.263Z"
   },
   {
    "duration": 450,
    "start_time": "2022-09-17T17:57:10.292Z"
   },
   {
    "duration": 118,
    "start_time": "2022-09-17T17:57:10.744Z"
   },
   {
    "duration": 188,
    "start_time": "2022-09-17T17:57:10.864Z"
   },
   {
    "duration": 18,
    "start_time": "2022-09-17T17:57:11.054Z"
   },
   {
    "duration": 1867,
    "start_time": "2022-09-17T17:57:11.075Z"
   },
   {
    "duration": 30,
    "start_time": "2022-09-17T17:57:12.944Z"
   },
   {
    "duration": 288,
    "start_time": "2022-09-17T17:57:12.975Z"
   },
   {
    "duration": 12,
    "start_time": "2022-09-17T17:57:13.265Z"
   },
   {
    "duration": 1236,
    "start_time": "2022-09-17T17:57:13.279Z"
   },
   {
    "duration": 7,
    "start_time": "2022-09-17T17:57:14.520Z"
   },
   {
    "duration": 74,
    "start_time": "2022-09-17T17:57:14.530Z"
   },
   {
    "duration": 123,
    "start_time": "2022-09-17T17:57:14.606Z"
   },
   {
    "duration": 1517,
    "start_time": "2022-09-17T17:57:14.735Z"
   },
   {
    "duration": 80,
    "start_time": "2022-09-17T17:57:16.254Z"
   },
   {
    "duration": 1236,
    "start_time": "2022-09-17T17:57:16.336Z"
   },
   {
    "duration": 0,
    "start_time": "2022-09-17T17:57:17.574Z"
   },
   {
    "duration": 0,
    "start_time": "2022-09-17T17:57:17.576Z"
   },
   {
    "duration": 0,
    "start_time": "2022-09-17T17:57:17.577Z"
   },
   {
    "duration": 0,
    "start_time": "2022-09-17T17:57:17.578Z"
   },
   {
    "duration": 1475,
    "start_time": "2022-09-17T18:02:01.457Z"
   },
   {
    "duration": 1636,
    "start_time": "2022-09-17T18:02:13.619Z"
   },
   {
    "duration": 1970,
    "start_time": "2022-09-17T18:02:27.806Z"
   },
   {
    "duration": 1092,
    "start_time": "2022-09-17T18:02:41.571Z"
   },
   {
    "duration": 3447,
    "start_time": "2022-09-17T18:04:38.503Z"
   },
   {
    "duration": 2530,
    "start_time": "2022-09-17T18:04:52.518Z"
   },
   {
    "duration": 20,
    "start_time": "2022-09-17T18:04:55.051Z"
   },
   {
    "duration": 319,
    "start_time": "2022-09-17T18:04:55.073Z"
   },
   {
    "duration": 91,
    "start_time": "2022-09-17T18:04:55.394Z"
   },
   {
    "duration": 28,
    "start_time": "2022-09-17T18:04:55.487Z"
   },
   {
    "duration": 478,
    "start_time": "2022-09-17T18:04:55.517Z"
   },
   {
    "duration": 133,
    "start_time": "2022-09-17T18:04:55.996Z"
   },
   {
    "duration": 206,
    "start_time": "2022-09-17T18:04:56.132Z"
   },
   {
    "duration": 21,
    "start_time": "2022-09-17T18:04:56.340Z"
   },
   {
    "duration": 1828,
    "start_time": "2022-09-17T18:04:56.365Z"
   },
   {
    "duration": 56,
    "start_time": "2022-09-17T18:04:58.196Z"
   },
   {
    "duration": 309,
    "start_time": "2022-09-17T18:04:58.253Z"
   },
   {
    "duration": 11,
    "start_time": "2022-09-17T18:04:58.563Z"
   },
   {
    "duration": 1400,
    "start_time": "2022-09-17T18:04:58.576Z"
   },
   {
    "duration": 4,
    "start_time": "2022-09-17T18:04:59.978Z"
   },
   {
    "duration": 79,
    "start_time": "2022-09-17T18:04:59.984Z"
   },
   {
    "duration": 123,
    "start_time": "2022-09-17T18:05:00.065Z"
   },
   {
    "duration": 1540,
    "start_time": "2022-09-17T18:05:00.190Z"
   },
   {
    "duration": 376,
    "start_time": "2022-09-17T18:05:01.732Z"
   },
   {
    "duration": 1,
    "start_time": "2022-09-17T18:05:02.109Z"
   },
   {
    "duration": 0,
    "start_time": "2022-09-17T18:05:02.111Z"
   },
   {
    "duration": 0,
    "start_time": "2022-09-17T18:05:02.113Z"
   },
   {
    "duration": 0,
    "start_time": "2022-09-17T18:05:02.114Z"
   },
   {
    "duration": 0,
    "start_time": "2022-09-17T18:05:02.122Z"
   },
   {
    "duration": 0,
    "start_time": "2022-09-17T18:05:02.123Z"
   },
   {
    "duration": 9266,
    "start_time": "2022-09-17T18:06:43.178Z"
   },
   {
    "duration": 7419,
    "start_time": "2022-09-17T18:06:52.833Z"
   },
   {
    "duration": 2360,
    "start_time": "2022-09-17T18:07:18.137Z"
   },
   {
    "duration": 35,
    "start_time": "2022-09-17T18:07:20.500Z"
   },
   {
    "duration": 278,
    "start_time": "2022-09-17T18:07:20.537Z"
   },
   {
    "duration": 94,
    "start_time": "2022-09-17T18:07:20.817Z"
   },
   {
    "duration": 31,
    "start_time": "2022-09-17T18:07:20.913Z"
   },
   {
    "duration": 480,
    "start_time": "2022-09-17T18:07:20.945Z"
   },
   {
    "duration": 120,
    "start_time": "2022-09-17T18:07:21.427Z"
   },
   {
    "duration": 192,
    "start_time": "2022-09-17T18:07:21.548Z"
   },
   {
    "duration": 23,
    "start_time": "2022-09-17T18:07:21.741Z"
   },
   {
    "duration": 1709,
    "start_time": "2022-09-17T18:07:21.767Z"
   },
   {
    "duration": 30,
    "start_time": "2022-09-17T18:07:23.478Z"
   },
   {
    "duration": 257,
    "start_time": "2022-09-17T18:07:23.510Z"
   },
   {
    "duration": 12,
    "start_time": "2022-09-17T18:07:23.769Z"
   },
   {
    "duration": 1034,
    "start_time": "2022-09-17T18:07:23.782Z"
   },
   {
    "duration": 14,
    "start_time": "2022-09-17T18:07:24.819Z"
   },
   {
    "duration": 59,
    "start_time": "2022-09-17T18:07:24.835Z"
   },
   {
    "duration": 111,
    "start_time": "2022-09-17T18:07:24.896Z"
   },
   {
    "duration": 1502,
    "start_time": "2022-09-17T18:07:25.009Z"
   },
   {
    "duration": 26,
    "start_time": "2022-09-17T18:07:26.513Z"
   },
   {
    "duration": 351,
    "start_time": "2022-09-17T18:07:26.541Z"
   },
   {
    "duration": 0,
    "start_time": "2022-09-17T18:07:26.893Z"
   },
   {
    "duration": 0,
    "start_time": "2022-09-17T18:07:26.895Z"
   },
   {
    "duration": 0,
    "start_time": "2022-09-17T18:07:26.896Z"
   },
   {
    "duration": 0,
    "start_time": "2022-09-17T18:07:26.897Z"
   },
   {
    "duration": 943,
    "start_time": "2022-09-17T18:08:39.767Z"
   },
   {
    "duration": 2448,
    "start_time": "2022-09-17T18:08:47.133Z"
   },
   {
    "duration": 20,
    "start_time": "2022-09-17T18:08:49.583Z"
   },
   {
    "duration": 290,
    "start_time": "2022-09-17T18:08:49.605Z"
   },
   {
    "duration": 95,
    "start_time": "2022-09-17T18:08:49.897Z"
   },
   {
    "duration": 45,
    "start_time": "2022-09-17T18:08:49.994Z"
   },
   {
    "duration": 448,
    "start_time": "2022-09-17T18:08:50.041Z"
   },
   {
    "duration": 128,
    "start_time": "2022-09-17T18:08:50.491Z"
   },
   {
    "duration": 181,
    "start_time": "2022-09-17T18:08:50.620Z"
   },
   {
    "duration": 30,
    "start_time": "2022-09-17T18:08:50.802Z"
   },
   {
    "duration": 1642,
    "start_time": "2022-09-17T18:08:50.834Z"
   },
   {
    "duration": 29,
    "start_time": "2022-09-17T18:08:52.478Z"
   },
   {
    "duration": 274,
    "start_time": "2022-09-17T18:08:52.508Z"
   },
   {
    "duration": 12,
    "start_time": "2022-09-17T18:08:52.784Z"
   },
   {
    "duration": 1042,
    "start_time": "2022-09-17T18:08:52.799Z"
   },
   {
    "duration": 5,
    "start_time": "2022-09-17T18:08:53.843Z"
   },
   {
    "duration": 61,
    "start_time": "2022-09-17T18:08:53.850Z"
   },
   {
    "duration": 113,
    "start_time": "2022-09-17T18:08:53.922Z"
   },
   {
    "duration": 1516,
    "start_time": "2022-09-17T18:08:54.036Z"
   },
   {
    "duration": 20,
    "start_time": "2022-09-17T18:08:55.554Z"
   },
   {
    "duration": 172,
    "start_time": "2022-09-17T18:08:55.576Z"
   },
   {
    "duration": 0,
    "start_time": "2022-09-17T18:08:55.750Z"
   },
   {
    "duration": 0,
    "start_time": "2022-09-17T18:08:55.751Z"
   },
   {
    "duration": 0,
    "start_time": "2022-09-17T18:08:55.753Z"
   },
   {
    "duration": 0,
    "start_time": "2022-09-17T18:08:55.754Z"
   },
   {
    "duration": 939,
    "start_time": "2022-09-17T18:11:26.393Z"
   },
   {
    "duration": 2382,
    "start_time": "2022-09-17T18:12:11.013Z"
   },
   {
    "duration": 38,
    "start_time": "2022-09-17T18:12:13.397Z"
   },
   {
    "duration": 278,
    "start_time": "2022-09-17T18:12:13.437Z"
   },
   {
    "duration": 88,
    "start_time": "2022-09-17T18:12:13.720Z"
   },
   {
    "duration": 36,
    "start_time": "2022-09-17T18:12:13.822Z"
   },
   {
    "duration": 490,
    "start_time": "2022-09-17T18:12:13.860Z"
   },
   {
    "duration": 116,
    "start_time": "2022-09-17T18:12:14.352Z"
   },
   {
    "duration": 209,
    "start_time": "2022-09-17T18:12:14.470Z"
   },
   {
    "duration": 21,
    "start_time": "2022-09-17T18:12:14.680Z"
   },
   {
    "duration": 1641,
    "start_time": "2022-09-17T18:12:14.703Z"
   },
   {
    "duration": 31,
    "start_time": "2022-09-17T18:12:16.346Z"
   },
   {
    "duration": 318,
    "start_time": "2022-09-17T18:12:16.379Z"
   },
   {
    "duration": 12,
    "start_time": "2022-09-17T18:12:16.699Z"
   },
   {
    "duration": 1191,
    "start_time": "2022-09-17T18:12:16.713Z"
   },
   {
    "duration": 4,
    "start_time": "2022-09-17T18:12:17.905Z"
   },
   {
    "duration": 72,
    "start_time": "2022-09-17T18:12:17.920Z"
   },
   {
    "duration": 141,
    "start_time": "2022-09-17T18:12:17.994Z"
   },
   {
    "duration": 1669,
    "start_time": "2022-09-17T18:12:18.138Z"
   },
   {
    "duration": 34,
    "start_time": "2022-09-17T18:12:19.809Z"
   },
   {
    "duration": 165,
    "start_time": "2022-09-17T18:12:19.845Z"
   },
   {
    "duration": 0,
    "start_time": "2022-09-17T18:12:20.012Z"
   },
   {
    "duration": 0,
    "start_time": "2022-09-17T18:12:20.013Z"
   },
   {
    "duration": 0,
    "start_time": "2022-09-17T18:12:20.015Z"
   },
   {
    "duration": 0,
    "start_time": "2022-09-17T18:12:20.016Z"
   },
   {
    "duration": 1257,
    "start_time": "2022-09-17T18:13:47.696Z"
   },
   {
    "duration": 2435,
    "start_time": "2022-09-17T18:13:59.078Z"
   },
   {
    "duration": 29,
    "start_time": "2022-09-17T18:14:01.516Z"
   },
   {
    "duration": 305,
    "start_time": "2022-09-17T18:14:01.547Z"
   },
   {
    "duration": 94,
    "start_time": "2022-09-17T18:14:01.854Z"
   },
   {
    "duration": 31,
    "start_time": "2022-09-17T18:14:01.950Z"
   },
   {
    "duration": 524,
    "start_time": "2022-09-17T18:14:01.983Z"
   },
   {
    "duration": 136,
    "start_time": "2022-09-17T18:14:02.509Z"
   },
   {
    "duration": 210,
    "start_time": "2022-09-17T18:14:02.647Z"
   },
   {
    "duration": 20,
    "start_time": "2022-09-17T18:14:02.859Z"
   },
   {
    "duration": 1656,
    "start_time": "2022-09-17T18:14:02.880Z"
   },
   {
    "duration": 34,
    "start_time": "2022-09-17T18:14:04.538Z"
   },
   {
    "duration": 314,
    "start_time": "2022-09-17T18:14:04.574Z"
   },
   {
    "duration": 11,
    "start_time": "2022-09-17T18:14:04.890Z"
   },
   {
    "duration": 1190,
    "start_time": "2022-09-17T18:14:04.904Z"
   },
   {
    "duration": 5,
    "start_time": "2022-09-17T18:14:06.096Z"
   },
   {
    "duration": 76,
    "start_time": "2022-09-17T18:14:06.103Z"
   },
   {
    "duration": 128,
    "start_time": "2022-09-17T18:14:06.180Z"
   },
   {
    "duration": 1624,
    "start_time": "2022-09-17T18:14:06.310Z"
   },
   {
    "duration": 21,
    "start_time": "2022-09-17T18:14:07.936Z"
   },
   {
    "duration": 287,
    "start_time": "2022-09-17T18:14:07.958Z"
   },
   {
    "duration": 0,
    "start_time": "2022-09-17T18:14:08.247Z"
   },
   {
    "duration": 0,
    "start_time": "2022-09-17T18:14:08.248Z"
   },
   {
    "duration": 0,
    "start_time": "2022-09-17T18:14:08.249Z"
   },
   {
    "duration": 0,
    "start_time": "2022-09-17T18:14:08.250Z"
   },
   {
    "duration": 2477,
    "start_time": "2022-09-17T18:16:10.684Z"
   },
   {
    "duration": 21,
    "start_time": "2022-09-17T18:16:13.163Z"
   },
   {
    "duration": 297,
    "start_time": "2022-09-17T18:16:13.186Z"
   },
   {
    "duration": 99,
    "start_time": "2022-09-17T18:16:13.485Z"
   },
   {
    "duration": 30,
    "start_time": "2022-09-17T18:16:13.586Z"
   },
   {
    "duration": 517,
    "start_time": "2022-09-17T18:16:13.620Z"
   },
   {
    "duration": 116,
    "start_time": "2022-09-17T18:16:14.140Z"
   },
   {
    "duration": 208,
    "start_time": "2022-09-17T18:16:14.258Z"
   },
   {
    "duration": 20,
    "start_time": "2022-09-17T18:16:14.467Z"
   },
   {
    "duration": 1708,
    "start_time": "2022-09-17T18:16:14.490Z"
   },
   {
    "duration": 53,
    "start_time": "2022-09-17T18:16:16.200Z"
   },
   {
    "duration": 315,
    "start_time": "2022-09-17T18:16:16.255Z"
   },
   {
    "duration": 13,
    "start_time": "2022-09-17T18:16:16.572Z"
   },
   {
    "duration": 13,
    "start_time": "2022-09-17T18:16:16.587Z"
   },
   {
    "duration": 79,
    "start_time": "2022-09-17T18:16:16.602Z"
   },
   {
    "duration": 89,
    "start_time": "2022-09-17T18:16:16.683Z"
   },
   {
    "duration": 557,
    "start_time": "2022-09-17T18:16:16.774Z"
   },
   {
    "duration": 20,
    "start_time": "2022-09-17T18:16:17.338Z"
   },
   {
    "duration": 174,
    "start_time": "2022-09-17T18:16:17.359Z"
   },
   {
    "duration": 0,
    "start_time": "2022-09-17T18:16:17.538Z"
   },
   {
    "duration": 0,
    "start_time": "2022-09-17T18:16:17.540Z"
   },
   {
    "duration": 0,
    "start_time": "2022-09-17T18:16:17.542Z"
   },
   {
    "duration": 0,
    "start_time": "2022-09-17T18:16:17.543Z"
   },
   {
    "duration": 5,
    "start_time": "2022-09-17T18:16:53.633Z"
   },
   {
    "duration": 1092,
    "start_time": "2022-09-17T18:16:56.664Z"
   },
   {
    "duration": 1001,
    "start_time": "2022-09-17T18:19:44.491Z"
   },
   {
    "duration": 19,
    "start_time": "2022-09-17T18:20:03.257Z"
   },
   {
    "duration": 2380,
    "start_time": "2022-09-17T18:20:17.560Z"
   },
   {
    "duration": 20,
    "start_time": "2022-09-17T18:20:19.942Z"
   },
   {
    "duration": 296,
    "start_time": "2022-09-17T18:20:19.964Z"
   },
   {
    "duration": 98,
    "start_time": "2022-09-17T18:20:20.263Z"
   },
   {
    "duration": 27,
    "start_time": "2022-09-17T18:20:20.363Z"
   },
   {
    "duration": 489,
    "start_time": "2022-09-17T18:20:20.392Z"
   },
   {
    "duration": 122,
    "start_time": "2022-09-17T18:20:20.883Z"
   },
   {
    "duration": 189,
    "start_time": "2022-09-17T18:20:21.006Z"
   },
   {
    "duration": 37,
    "start_time": "2022-09-17T18:20:21.197Z"
   },
   {
    "duration": 1747,
    "start_time": "2022-09-17T18:20:21.238Z"
   },
   {
    "duration": 48,
    "start_time": "2022-09-17T18:20:22.987Z"
   },
   {
    "duration": 305,
    "start_time": "2022-09-17T18:20:23.037Z"
   },
   {
    "duration": 11,
    "start_time": "2022-09-17T18:20:23.344Z"
   },
   {
    "duration": 7,
    "start_time": "2022-09-17T18:20:23.357Z"
   },
   {
    "duration": 73,
    "start_time": "2022-09-17T18:20:23.365Z"
   },
   {
    "duration": 74,
    "start_time": "2022-09-17T18:20:23.440Z"
   },
   {
    "duration": 536,
    "start_time": "2022-09-17T18:20:23.520Z"
   },
   {
    "duration": 19,
    "start_time": "2022-09-17T18:20:24.057Z"
   },
   {
    "duration": 83,
    "start_time": "2022-09-17T18:20:24.078Z"
   },
   {
    "duration": 21,
    "start_time": "2022-09-17T18:20:24.163Z"
   },
   {
    "duration": 1250,
    "start_time": "2022-09-17T18:20:24.186Z"
   },
   {
    "duration": 0,
    "start_time": "2022-09-17T18:20:25.438Z"
   },
   {
    "duration": 0,
    "start_time": "2022-09-17T18:20:25.439Z"
   },
   {
    "duration": 0,
    "start_time": "2022-09-17T18:20:25.441Z"
   },
   {
    "duration": 0,
    "start_time": "2022-09-17T18:20:25.442Z"
   },
   {
    "duration": 1125,
    "start_time": "2022-09-17T18:22:13.436Z"
   },
   {
    "duration": 1119,
    "start_time": "2022-09-17T18:22:20.037Z"
   },
   {
    "duration": 22,
    "start_time": "2022-09-17T18:23:59.838Z"
   },
   {
    "duration": 12,
    "start_time": "2022-09-17T18:25:32.151Z"
   },
   {
    "duration": 2323,
    "start_time": "2022-09-17T18:25:38.840Z"
   },
   {
    "duration": 20,
    "start_time": "2022-09-17T18:25:41.165Z"
   },
   {
    "duration": 309,
    "start_time": "2022-09-17T18:25:41.186Z"
   },
   {
    "duration": 100,
    "start_time": "2022-09-17T18:25:41.497Z"
   },
   {
    "duration": 37,
    "start_time": "2022-09-17T18:25:41.600Z"
   },
   {
    "duration": 495,
    "start_time": "2022-09-17T18:25:41.639Z"
   },
   {
    "duration": 116,
    "start_time": "2022-09-17T18:25:42.136Z"
   },
   {
    "duration": 205,
    "start_time": "2022-09-17T18:25:42.254Z"
   },
   {
    "duration": 21,
    "start_time": "2022-09-17T18:25:42.461Z"
   },
   {
    "duration": 1707,
    "start_time": "2022-09-17T18:25:42.483Z"
   },
   {
    "duration": 42,
    "start_time": "2022-09-17T18:25:44.191Z"
   },
   {
    "duration": 313,
    "start_time": "2022-09-17T18:25:44.235Z"
   },
   {
    "duration": 12,
    "start_time": "2022-09-17T18:25:44.549Z"
   },
   {
    "duration": 68,
    "start_time": "2022-09-17T18:25:44.564Z"
   },
   {
    "duration": 69,
    "start_time": "2022-09-17T18:25:44.633Z"
   },
   {
    "duration": 38,
    "start_time": "2022-09-17T18:25:44.704Z"
   },
   {
    "duration": 230,
    "start_time": "2022-09-17T18:25:44.744Z"
   },
   {
    "duration": 20,
    "start_time": "2022-09-17T18:25:44.976Z"
   },
   {
    "duration": 34597,
    "start_time": "2022-09-17T18:25:44.997Z"
   },
   {
    "duration": 2450,
    "start_time": "2022-09-17T18:26:26.320Z"
   },
   {
    "duration": 22,
    "start_time": "2022-09-17T18:26:28.773Z"
   },
   {
    "duration": 403,
    "start_time": "2022-09-17T18:26:28.797Z"
   },
   {
    "duration": 108,
    "start_time": "2022-09-17T18:26:29.203Z"
   },
   {
    "duration": 37,
    "start_time": "2022-09-17T18:26:29.314Z"
   },
   {
    "duration": 507,
    "start_time": "2022-09-17T18:26:29.354Z"
   },
   {
    "duration": 126,
    "start_time": "2022-09-17T18:26:29.862Z"
   },
   {
    "duration": 192,
    "start_time": "2022-09-17T18:26:29.990Z"
   },
   {
    "duration": 24,
    "start_time": "2022-09-17T18:26:30.184Z"
   },
   {
    "duration": 1682,
    "start_time": "2022-09-17T18:26:30.220Z"
   },
   {
    "duration": 45,
    "start_time": "2022-09-17T18:26:31.904Z"
   },
   {
    "duration": 305,
    "start_time": "2022-09-17T18:26:31.951Z"
   },
   {
    "duration": 12,
    "start_time": "2022-09-17T18:26:32.258Z"
   },
   {
    "duration": 71,
    "start_time": "2022-09-17T18:26:32.271Z"
   },
   {
    "duration": 89,
    "start_time": "2022-09-17T18:26:32.344Z"
   },
   {
    "duration": 17,
    "start_time": "2022-09-17T18:26:32.437Z"
   },
   {
    "duration": 491,
    "start_time": "2022-09-17T18:26:32.456Z"
   },
   {
    "duration": 0,
    "start_time": "2022-09-17T18:26:32.949Z"
   },
   {
    "duration": 0,
    "start_time": "2022-09-17T18:26:32.951Z"
   },
   {
    "duration": 0,
    "start_time": "2022-09-17T18:26:32.952Z"
   },
   {
    "duration": 0,
    "start_time": "2022-09-17T18:26:32.953Z"
   },
   {
    "duration": 0,
    "start_time": "2022-09-17T18:26:32.954Z"
   },
   {
    "duration": 379,
    "start_time": "2022-09-17T18:26:48.977Z"
   },
   {
    "duration": 18,
    "start_time": "2022-09-17T18:26:51.399Z"
   },
   {
    "duration": 10,
    "start_time": "2022-09-17T18:27:11.045Z"
   },
   {
    "duration": 10,
    "start_time": "2022-09-17T18:27:21.174Z"
   },
   {
    "duration": 97,
    "start_time": "2022-09-17T18:27:23.441Z"
   },
   {
    "duration": 3,
    "start_time": "2022-09-17T18:27:25.769Z"
   },
   {
    "duration": 352,
    "start_time": "2022-09-17T18:27:51.335Z"
   },
   {
    "duration": 2271,
    "start_time": "2022-09-17T18:28:25.777Z"
   },
   {
    "duration": 20,
    "start_time": "2022-09-17T18:28:28.050Z"
   },
   {
    "duration": 297,
    "start_time": "2022-09-17T18:28:28.072Z"
   },
   {
    "duration": 99,
    "start_time": "2022-09-17T18:28:28.372Z"
   },
   {
    "duration": 32,
    "start_time": "2022-09-17T18:28:28.473Z"
   },
   {
    "duration": 505,
    "start_time": "2022-09-17T18:28:28.509Z"
   },
   {
    "duration": 140,
    "start_time": "2022-09-17T18:28:29.023Z"
   },
   {
    "duration": 204,
    "start_time": "2022-09-17T18:28:29.165Z"
   },
   {
    "duration": 20,
    "start_time": "2022-09-17T18:28:29.371Z"
   },
   {
    "duration": 1683,
    "start_time": "2022-09-17T18:28:29.393Z"
   },
   {
    "duration": 30,
    "start_time": "2022-09-17T18:28:31.078Z"
   },
   {
    "duration": 297,
    "start_time": "2022-09-17T18:28:31.120Z"
   },
   {
    "duration": 15,
    "start_time": "2022-09-17T18:28:31.420Z"
   },
   {
    "duration": 70,
    "start_time": "2022-09-17T18:28:31.437Z"
   },
   {
    "duration": 80,
    "start_time": "2022-09-17T18:28:31.508Z"
   },
   {
    "duration": 352,
    "start_time": "2022-09-17T18:28:31.590Z"
   },
   {
    "duration": 43,
    "start_time": "2022-09-17T18:28:31.944Z"
   },
   {
    "duration": 34297,
    "start_time": "2022-09-17T18:28:31.988Z"
   },
   {
    "duration": 13680,
    "start_time": "2022-09-17T18:29:06.287Z"
   },
   {
    "duration": 229273,
    "start_time": "2022-09-17T18:29:19.968Z"
   },
   {
    "duration": 228,
    "start_time": "2022-09-17T18:33:09.243Z"
   },
   {
    "duration": 51,
    "start_time": "2022-09-17T18:34:16.775Z"
   },
   {
    "duration": 70,
    "start_time": "2022-09-17T18:35:34.959Z"
   },
   {
    "duration": 22,
    "start_time": "2022-09-17T18:38:45.010Z"
   },
   {
    "duration": 16,
    "start_time": "2022-09-17T18:39:22.772Z"
   },
   {
    "duration": 17,
    "start_time": "2022-09-17T18:39:36.792Z"
   },
   {
    "duration": 14,
    "start_time": "2022-09-17T18:39:52.838Z"
   },
   {
    "duration": 16,
    "start_time": "2022-09-17T18:40:10.544Z"
   },
   {
    "duration": 11,
    "start_time": "2022-09-17T18:41:58.733Z"
   },
   {
    "duration": 50,
    "start_time": "2022-09-17T18:42:06.232Z"
   },
   {
    "duration": 17,
    "start_time": "2022-09-17T18:42:17.570Z"
   },
   {
    "duration": 17,
    "start_time": "2022-09-17T18:42:39.049Z"
   },
   {
    "duration": 346,
    "start_time": "2022-09-17T18:43:03.079Z"
   },
   {
    "duration": 367,
    "start_time": "2022-09-17T18:43:16.635Z"
   },
   {
    "duration": 350,
    "start_time": "2022-09-17T18:43:38.005Z"
   },
   {
    "duration": 29,
    "start_time": "2022-09-17T18:43:41.105Z"
   },
   {
    "duration": 357,
    "start_time": "2022-09-17T18:44:02.177Z"
   },
   {
    "duration": 15,
    "start_time": "2022-09-17T18:44:04.065Z"
   },
   {
    "duration": 2373,
    "start_time": "2022-09-17T18:44:28.168Z"
   },
   {
    "duration": 20,
    "start_time": "2022-09-17T18:44:30.543Z"
   },
   {
    "duration": 303,
    "start_time": "2022-09-17T18:44:30.565Z"
   },
   {
    "duration": 99,
    "start_time": "2022-09-17T18:44:30.870Z"
   },
   {
    "duration": 29,
    "start_time": "2022-09-17T18:44:30.971Z"
   },
   {
    "duration": 482,
    "start_time": "2022-09-17T18:44:31.002Z"
   },
   {
    "duration": 116,
    "start_time": "2022-09-17T18:44:31.485Z"
   },
   {
    "duration": 197,
    "start_time": "2022-09-17T18:44:31.602Z"
   },
   {
    "duration": 29,
    "start_time": "2022-09-17T18:44:31.801Z"
   },
   {
    "duration": 1682,
    "start_time": "2022-09-17T18:44:31.833Z"
   },
   {
    "duration": 33,
    "start_time": "2022-09-17T18:44:33.520Z"
   },
   {
    "duration": 316,
    "start_time": "2022-09-17T18:44:33.555Z"
   },
   {
    "duration": 11,
    "start_time": "2022-09-17T18:44:33.873Z"
   },
   {
    "duration": 67,
    "start_time": "2022-09-17T18:44:33.887Z"
   },
   {
    "duration": 79,
    "start_time": "2022-09-17T18:44:33.956Z"
   },
   {
    "duration": 357,
    "start_time": "2022-09-17T18:44:34.037Z"
   },
   {
    "duration": 29,
    "start_time": "2022-09-17T18:44:34.396Z"
   },
   {
    "duration": 18,
    "start_time": "2022-09-17T18:44:34.426Z"
   },
   {
    "duration": 29,
    "start_time": "2022-09-17T18:44:34.446Z"
   },
   {
    "duration": 6,
    "start_time": "2022-09-17T18:44:34.476Z"
   },
   {
    "duration": 0,
    "start_time": "2022-09-17T18:44:34.483Z"
   },
   {
    "duration": 0,
    "start_time": "2022-09-17T18:44:34.484Z"
   },
   {
    "duration": 0,
    "start_time": "2022-09-17T18:44:34.486Z"
   },
   {
    "duration": 4315,
    "start_time": "2022-09-17T18:45:10.987Z"
   },
   {
    "duration": 36,
    "start_time": "2022-09-17T18:45:15.304Z"
   },
   {
    "duration": 283,
    "start_time": "2022-09-17T18:45:15.342Z"
   },
   {
    "duration": 80,
    "start_time": "2022-09-17T18:45:15.628Z"
   },
   {
    "duration": 33,
    "start_time": "2022-09-17T18:45:15.710Z"
   },
   {
    "duration": 482,
    "start_time": "2022-09-17T18:45:15.745Z"
   },
   {
    "duration": 140,
    "start_time": "2022-09-17T18:45:16.233Z"
   },
   {
    "duration": 201,
    "start_time": "2022-09-17T18:45:16.375Z"
   },
   {
    "duration": 23,
    "start_time": "2022-09-17T18:45:16.578Z"
   },
   {
    "duration": 1710,
    "start_time": "2022-09-17T18:45:16.604Z"
   },
   {
    "duration": 36,
    "start_time": "2022-09-17T18:45:18.316Z"
   },
   {
    "duration": 314,
    "start_time": "2022-09-17T18:45:18.353Z"
   },
   {
    "duration": 12,
    "start_time": "2022-09-17T18:45:18.669Z"
   },
   {
    "duration": 75,
    "start_time": "2022-09-17T18:45:18.683Z"
   },
   {
    "duration": 76,
    "start_time": "2022-09-17T18:45:18.760Z"
   },
   {
    "duration": 470,
    "start_time": "2022-09-17T18:45:18.838Z"
   },
   {
    "duration": 24,
    "start_time": "2022-09-17T18:45:19.310Z"
   },
   {
    "duration": 23,
    "start_time": "2022-09-17T18:45:19.336Z"
   },
   {
    "duration": 27,
    "start_time": "2022-09-17T18:45:19.361Z"
   },
   {
    "duration": 5,
    "start_time": "2022-09-17T18:45:19.390Z"
   },
   {
    "duration": 0,
    "start_time": "2022-09-17T18:45:19.397Z"
   },
   {
    "duration": 0,
    "start_time": "2022-09-17T18:45:19.398Z"
   },
   {
    "duration": 0,
    "start_time": "2022-09-17T18:45:19.399Z"
   },
   {
    "duration": 34166,
    "start_time": "2022-09-17T18:46:07.815Z"
   },
   {
    "duration": 9392,
    "start_time": "2022-09-17T18:47:01.187Z"
   },
   {
    "duration": 140921,
    "start_time": "2022-09-17T18:48:18.520Z"
   },
   {
    "duration": 213669,
    "start_time": "2022-09-17T18:50:58.869Z"
   },
   {
    "duration": 2375,
    "start_time": "2022-09-17T18:57:06.686Z"
   },
   {
    "duration": 23,
    "start_time": "2022-09-17T18:57:09.064Z"
   },
   {
    "duration": 347,
    "start_time": "2022-09-17T18:57:09.089Z"
   },
   {
    "duration": 95,
    "start_time": "2022-09-17T18:57:09.439Z"
   },
   {
    "duration": 31,
    "start_time": "2022-09-17T18:57:09.536Z"
   },
   {
    "duration": 496,
    "start_time": "2022-09-17T18:57:09.569Z"
   },
   {
    "duration": 112,
    "start_time": "2022-09-17T18:57:10.067Z"
   },
   {
    "duration": 207,
    "start_time": "2022-09-17T18:57:10.181Z"
   },
   {
    "duration": 20,
    "start_time": "2022-09-17T18:57:10.390Z"
   },
   {
    "duration": 1643,
    "start_time": "2022-09-17T18:57:10.420Z"
   },
   {
    "duration": 34,
    "start_time": "2022-09-17T18:57:12.065Z"
   },
   {
    "duration": 334,
    "start_time": "2022-09-17T18:57:12.101Z"
   },
   {
    "duration": 12,
    "start_time": "2022-09-17T18:57:12.437Z"
   },
   {
    "duration": 79,
    "start_time": "2022-09-17T18:57:12.451Z"
   },
   {
    "duration": 103,
    "start_time": "2022-09-17T18:57:12.532Z"
   },
   {
    "duration": 372,
    "start_time": "2022-09-17T18:57:12.637Z"
   },
   {
    "duration": 24,
    "start_time": "2022-09-17T18:57:13.011Z"
   },
   {
    "duration": 34,
    "start_time": "2022-09-17T18:57:13.037Z"
   },
   {
    "duration": 6,
    "start_time": "2022-09-17T18:57:13.074Z"
   },
   {
    "duration": 0,
    "start_time": "2022-09-17T18:57:13.082Z"
   },
   {
    "duration": 0,
    "start_time": "2022-09-17T18:57:13.083Z"
   },
   {
    "duration": 0,
    "start_time": "2022-09-17T18:57:13.084Z"
   },
   {
    "duration": 28003,
    "start_time": "2022-09-17T18:58:10.240Z"
   },
   {
    "duration": 8953,
    "start_time": "2022-09-17T18:59:33.897Z"
   },
   {
    "duration": 133890,
    "start_time": "2022-09-17T18:59:42.852Z"
   },
   {
    "duration": 2353,
    "start_time": "2022-09-17T19:03:25.879Z"
   },
   {
    "duration": 23,
    "start_time": "2022-09-17T19:03:28.234Z"
   },
   {
    "duration": 294,
    "start_time": "2022-09-17T19:03:28.259Z"
   },
   {
    "duration": 93,
    "start_time": "2022-09-17T19:03:28.555Z"
   },
   {
    "duration": 31,
    "start_time": "2022-09-17T19:03:28.650Z"
   },
   {
    "duration": 568,
    "start_time": "2022-09-17T19:03:28.682Z"
   },
   {
    "duration": 135,
    "start_time": "2022-09-17T19:03:29.252Z"
   },
   {
    "duration": 191,
    "start_time": "2022-09-17T19:03:29.389Z"
   },
   {
    "duration": 23,
    "start_time": "2022-09-17T19:03:29.582Z"
   },
   {
    "duration": 1749,
    "start_time": "2022-09-17T19:03:29.607Z"
   },
   {
    "duration": 32,
    "start_time": "2022-09-17T19:03:31.358Z"
   },
   {
    "duration": 341,
    "start_time": "2022-09-17T19:03:31.391Z"
   },
   {
    "duration": 13,
    "start_time": "2022-09-17T19:03:31.734Z"
   },
   {
    "duration": 60,
    "start_time": "2022-09-17T19:03:31.751Z"
   },
   {
    "duration": 121,
    "start_time": "2022-09-17T19:03:31.813Z"
   },
   {
    "duration": 366,
    "start_time": "2022-09-17T19:03:31.936Z"
   },
   {
    "duration": 27,
    "start_time": "2022-09-17T19:03:32.304Z"
   },
   {
    "duration": 37,
    "start_time": "2022-09-17T19:03:32.337Z"
   },
   {
    "duration": 28516,
    "start_time": "2022-09-17T19:03:32.376Z"
   },
   {
    "duration": 8866,
    "start_time": "2022-09-17T19:04:00.894Z"
   },
   {
    "duration": 114071,
    "start_time": "2022-09-17T19:04:09.763Z"
   },
   {
    "duration": 165396,
    "start_time": "2022-09-17T19:06:03.838Z"
   },
   {
    "duration": 584,
    "start_time": "2022-09-17T19:08:49.236Z"
   },
   {
    "duration": 14086,
    "start_time": "2022-09-17T19:11:29.920Z"
   },
   {
    "duration": 2306,
    "start_time": "2022-09-17T19:13:37.545Z"
   },
   {
    "duration": 23,
    "start_time": "2022-09-17T19:13:39.853Z"
   },
   {
    "duration": 304,
    "start_time": "2022-09-17T19:13:39.878Z"
   },
   {
    "duration": 96,
    "start_time": "2022-09-17T19:13:40.185Z"
   },
   {
    "duration": 30,
    "start_time": "2022-09-17T19:13:40.283Z"
   },
   {
    "duration": 465,
    "start_time": "2022-09-17T19:13:40.322Z"
   },
   {
    "duration": 131,
    "start_time": "2022-09-17T19:13:40.789Z"
   },
   {
    "duration": 190,
    "start_time": "2022-09-17T19:13:40.924Z"
   },
   {
    "duration": 28,
    "start_time": "2022-09-17T19:13:41.116Z"
   },
   {
    "duration": 1702,
    "start_time": "2022-09-17T19:13:41.147Z"
   },
   {
    "duration": 31,
    "start_time": "2022-09-17T19:13:42.851Z"
   },
   {
    "duration": 333,
    "start_time": "2022-09-17T19:13:42.883Z"
   },
   {
    "duration": 17,
    "start_time": "2022-09-17T19:13:43.220Z"
   },
   {
    "duration": 53,
    "start_time": "2022-09-17T19:13:43.238Z"
   },
   {
    "duration": 110,
    "start_time": "2022-09-17T19:13:43.293Z"
   },
   {
    "duration": 370,
    "start_time": "2022-09-17T19:13:43.405Z"
   },
   {
    "duration": 13,
    "start_time": "2022-09-17T19:13:43.777Z"
   },
   {
    "duration": 60,
    "start_time": "2022-09-17T19:13:43.792Z"
   },
   {
    "duration": 28579,
    "start_time": "2022-09-17T19:13:43.854Z"
   },
   {
    "duration": 8547,
    "start_time": "2022-09-17T19:14:12.436Z"
   },
   {
    "duration": 224550,
    "start_time": "2022-09-17T19:14:20.985Z"
   },
   {
    "duration": 166341,
    "start_time": "2022-09-17T19:18:05.538Z"
   },
   {
    "duration": 30,
    "start_time": "2022-09-17T19:20:51.881Z"
   },
   {
    "duration": 9,
    "start_time": "2022-09-17T19:20:51.924Z"
   },
   {
    "duration": 11695,
    "start_time": "2022-09-17T19:21:20.669Z"
   },
   {
    "duration": 12156,
    "start_time": "2022-09-17T19:21:54.766Z"
   },
   {
    "duration": 2398,
    "start_time": "2022-09-17T19:25:10.061Z"
   },
   {
    "duration": 19,
    "start_time": "2022-09-17T19:25:12.461Z"
   },
   {
    "duration": 315,
    "start_time": "2022-09-17T19:25:12.482Z"
   },
   {
    "duration": 94,
    "start_time": "2022-09-17T19:25:12.800Z"
   },
   {
    "duration": 38,
    "start_time": "2022-09-17T19:25:12.896Z"
   },
   {
    "duration": 472,
    "start_time": "2022-09-17T19:25:12.936Z"
   },
   {
    "duration": 128,
    "start_time": "2022-09-17T19:25:13.410Z"
   },
   {
    "duration": 198,
    "start_time": "2022-09-17T19:25:13.540Z"
   },
   {
    "duration": 21,
    "start_time": "2022-09-17T19:25:13.740Z"
   },
   {
    "duration": 1632,
    "start_time": "2022-09-17T19:25:13.764Z"
   },
   {
    "duration": 41,
    "start_time": "2022-09-17T19:25:15.398Z"
   },
   {
    "duration": 309,
    "start_time": "2022-09-17T19:25:15.440Z"
   },
   {
    "duration": 11,
    "start_time": "2022-09-17T19:25:15.751Z"
   },
   {
    "duration": 73,
    "start_time": "2022-09-17T19:25:15.763Z"
   },
   {
    "duration": 124,
    "start_time": "2022-09-17T19:25:15.838Z"
   },
   {
    "duration": 355,
    "start_time": "2022-09-17T19:25:15.963Z"
   },
   {
    "duration": 38,
    "start_time": "2022-09-17T19:25:16.320Z"
   },
   {
    "duration": 35126,
    "start_time": "2022-09-17T19:25:16.359Z"
   },
   {
    "duration": 5,
    "start_time": "2022-09-17T19:25:51.487Z"
   },
   {
    "duration": 0,
    "start_time": "2022-09-17T19:25:51.494Z"
   },
   {
    "duration": 0,
    "start_time": "2022-09-17T19:25:51.495Z"
   },
   {
    "duration": 0,
    "start_time": "2022-09-17T19:25:51.496Z"
   },
   {
    "duration": 0,
    "start_time": "2022-09-17T19:25:51.497Z"
   },
   {
    "duration": 8151,
    "start_time": "2022-09-17T19:28:26.003Z"
   },
   {
    "duration": 5,
    "start_time": "2022-09-17T19:28:34.156Z"
   },
   {
    "duration": 0,
    "start_time": "2022-09-17T19:28:34.163Z"
   },
   {
    "duration": 31,
    "start_time": "2022-09-17T19:28:37.007Z"
   },
   {
    "duration": 12597,
    "start_time": "2022-09-17T19:28:38.702Z"
   },
   {
    "duration": 2376,
    "start_time": "2022-09-17T19:40:27.391Z"
   },
   {
    "duration": 21,
    "start_time": "2022-09-17T19:40:29.769Z"
   },
   {
    "duration": 307,
    "start_time": "2022-09-17T19:40:29.794Z"
   },
   {
    "duration": 144,
    "start_time": "2022-09-17T19:40:30.103Z"
   },
   {
    "duration": 29,
    "start_time": "2022-09-17T19:40:30.249Z"
   },
   {
    "duration": 168,
    "start_time": "2022-09-17T19:40:30.280Z"
   },
   {
    "duration": 205,
    "start_time": "2022-09-17T19:40:30.449Z"
   },
   {
    "duration": 25,
    "start_time": "2022-09-17T19:40:30.655Z"
   },
   {
    "duration": 1702,
    "start_time": "2022-09-17T19:40:30.683Z"
   },
   {
    "duration": 42,
    "start_time": "2022-09-17T19:40:32.387Z"
   },
   {
    "duration": 308,
    "start_time": "2022-09-17T19:40:32.430Z"
   },
   {
    "duration": 16,
    "start_time": "2022-09-17T19:40:32.740Z"
   },
   {
    "duration": 78,
    "start_time": "2022-09-17T19:40:32.758Z"
   },
   {
    "duration": 92,
    "start_time": "2022-09-17T19:40:32.838Z"
   },
   {
    "duration": 383,
    "start_time": "2022-09-17T19:40:32.932Z"
   },
   {
    "duration": 39,
    "start_time": "2022-09-17T19:40:33.324Z"
   },
   {
    "duration": 28329,
    "start_time": "2022-09-17T19:40:33.366Z"
   },
   {
    "duration": 7977,
    "start_time": "2022-09-17T19:41:01.697Z"
   },
   {
    "duration": 108869,
    "start_time": "2022-09-17T19:41:09.676Z"
   },
   {
    "duration": 164913,
    "start_time": "2022-09-17T19:42:58.620Z"
   },
   {
    "duration": 29,
    "start_time": "2022-09-17T19:45:43.535Z"
   },
   {
    "duration": 12002,
    "start_time": "2022-09-17T19:45:43.566Z"
   },
   {
    "duration": 81,
    "start_time": "2022-09-18T18:10:05.792Z"
   },
   {
    "duration": 86,
    "start_time": "2022-09-18T18:11:52.952Z"
   },
   {
    "duration": 83,
    "start_time": "2022-09-18T18:15:13.400Z"
   },
   {
    "duration": 259,
    "start_time": "2022-09-18T18:18:57.714Z"
   },
   {
    "duration": 65,
    "start_time": "2022-09-18T18:24:19.072Z"
   },
   {
    "duration": 1372,
    "start_time": "2022-09-18T18:36:14.905Z"
   },
   {
    "duration": 3292,
    "start_time": "2022-09-18T18:36:16.279Z"
   },
   {
    "duration": 28,
    "start_time": "2022-09-18T18:36:19.573Z"
   },
   {
    "duration": 275,
    "start_time": "2022-09-18T18:36:19.603Z"
   },
   {
    "duration": 91,
    "start_time": "2022-09-18T18:36:19.881Z"
   },
   {
    "duration": 35,
    "start_time": "2022-09-18T18:36:19.973Z"
   },
   {
    "duration": 42,
    "start_time": "2022-09-18T18:36:20.010Z"
   },
   {
    "duration": 156,
    "start_time": "2022-09-18T18:36:20.054Z"
   },
   {
    "duration": 234,
    "start_time": "2022-09-18T18:36:20.212Z"
   },
   {
    "duration": 1852,
    "start_time": "2022-09-18T18:36:20.448Z"
   },
   {
    "duration": 30,
    "start_time": "2022-09-18T18:36:22.301Z"
   },
   {
    "duration": 228,
    "start_time": "2022-09-18T18:36:22.332Z"
   },
   {
    "duration": 13,
    "start_time": "2022-09-18T18:36:22.561Z"
   },
   {
    "duration": 57,
    "start_time": "2022-09-18T18:36:22.577Z"
   },
   {
    "duration": 83,
    "start_time": "2022-09-18T18:36:22.637Z"
   },
   {
    "duration": 320,
    "start_time": "2022-09-18T18:36:22.722Z"
   },
   {
    "duration": 0,
    "start_time": "2022-09-18T18:36:23.044Z"
   },
   {
    "duration": 0,
    "start_time": "2022-09-18T18:36:23.045Z"
   },
   {
    "duration": 0,
    "start_time": "2022-09-18T18:36:23.046Z"
   },
   {
    "duration": 0,
    "start_time": "2022-09-18T18:36:23.048Z"
   },
   {
    "duration": 0,
    "start_time": "2022-09-18T18:36:23.049Z"
   },
   {
    "duration": 0,
    "start_time": "2022-09-18T18:36:23.050Z"
   },
   {
    "duration": 507,
    "start_time": "2022-09-18T18:37:22.791Z"
   },
   {
    "duration": 112,
    "start_time": "2022-09-18T18:42:50.366Z"
   },
   {
    "duration": 29,
    "start_time": "2022-09-18T18:43:00.400Z"
   },
   {
    "duration": 18,
    "start_time": "2022-09-18T18:43:19.514Z"
   },
   {
    "duration": 1349,
    "start_time": "2022-09-18T18:43:25.426Z"
   },
   {
    "duration": 915,
    "start_time": "2022-09-18T18:43:26.777Z"
   },
   {
    "duration": 20,
    "start_time": "2022-09-18T18:43:27.696Z"
   },
   {
    "duration": 265,
    "start_time": "2022-09-18T18:43:27.718Z"
   },
   {
    "duration": 100,
    "start_time": "2022-09-18T18:43:27.985Z"
   },
   {
    "duration": 30,
    "start_time": "2022-09-18T18:43:28.088Z"
   },
   {
    "duration": 44,
    "start_time": "2022-09-18T18:43:28.121Z"
   },
   {
    "duration": 135,
    "start_time": "2022-09-18T18:43:28.167Z"
   },
   {
    "duration": 235,
    "start_time": "2022-09-18T18:43:28.303Z"
   },
   {
    "duration": 1566,
    "start_time": "2022-09-18T18:43:28.541Z"
   },
   {
    "duration": 31,
    "start_time": "2022-09-18T18:43:30.109Z"
   },
   {
    "duration": 234,
    "start_time": "2022-09-18T18:43:30.142Z"
   },
   {
    "duration": 20,
    "start_time": "2022-09-18T18:43:30.378Z"
   },
   {
    "duration": 69,
    "start_time": "2022-09-18T18:43:30.401Z"
   },
   {
    "duration": 86,
    "start_time": "2022-09-18T18:43:30.472Z"
   },
   {
    "duration": 219,
    "start_time": "2022-09-18T18:43:30.561Z"
   },
   {
    "duration": 34,
    "start_time": "2022-09-18T18:43:30.782Z"
   },
   {
    "duration": 280,
    "start_time": "2022-09-18T18:43:30.818Z"
   },
   {
    "duration": 0,
    "start_time": "2022-09-18T18:43:31.100Z"
   },
   {
    "duration": 0,
    "start_time": "2022-09-18T18:43:31.101Z"
   },
   {
    "duration": 0,
    "start_time": "2022-09-18T18:43:31.102Z"
   },
   {
    "duration": 0,
    "start_time": "2022-09-18T18:43:31.103Z"
   },
   {
    "duration": 0,
    "start_time": "2022-09-18T18:43:31.104Z"
   },
   {
    "duration": 0,
    "start_time": "2022-09-18T18:43:31.105Z"
   },
   {
    "duration": 312,
    "start_time": "2022-09-18T18:50:54.443Z"
   },
   {
    "duration": 25,
    "start_time": "2022-09-18T18:51:09.889Z"
   },
   {
    "duration": 15,
    "start_time": "2022-09-18T18:51:34.806Z"
   },
   {
    "duration": 1335,
    "start_time": "2022-09-18T18:51:45.035Z"
   },
   {
    "duration": 995,
    "start_time": "2022-09-18T18:51:46.372Z"
   },
   {
    "duration": 31,
    "start_time": "2022-09-18T18:51:47.368Z"
   },
   {
    "duration": 294,
    "start_time": "2022-09-18T18:51:47.401Z"
   },
   {
    "duration": 85,
    "start_time": "2022-09-18T18:51:47.698Z"
   },
   {
    "duration": 27,
    "start_time": "2022-09-18T18:51:47.796Z"
   },
   {
    "duration": 38,
    "start_time": "2022-09-18T18:51:47.825Z"
   },
   {
    "duration": 139,
    "start_time": "2022-09-18T18:51:47.865Z"
   },
   {
    "duration": 236,
    "start_time": "2022-09-18T18:51:48.006Z"
   },
   {
    "duration": 1545,
    "start_time": "2022-09-18T18:51:48.244Z"
   },
   {
    "duration": 29,
    "start_time": "2022-09-18T18:51:49.794Z"
   },
   {
    "duration": 220,
    "start_time": "2022-09-18T18:51:49.826Z"
   },
   {
    "duration": 13,
    "start_time": "2022-09-18T18:51:50.048Z"
   },
   {
    "duration": 57,
    "start_time": "2022-09-18T18:51:50.064Z"
   },
   {
    "duration": 96,
    "start_time": "2022-09-18T18:51:50.122Z"
   },
   {
    "duration": 56,
    "start_time": "2022-09-18T18:51:50.219Z"
   },
   {
    "duration": 559,
    "start_time": "2022-09-18T18:51:50.277Z"
   },
   {
    "duration": 218,
    "start_time": "2022-09-18T18:51:50.838Z"
   },
   {
    "duration": 21,
    "start_time": "2022-09-18T18:51:51.058Z"
   },
   {
    "duration": 247,
    "start_time": "2022-09-18T18:51:51.081Z"
   },
   {
    "duration": 0,
    "start_time": "2022-09-18T18:51:51.330Z"
   },
   {
    "duration": 0,
    "start_time": "2022-09-18T18:51:51.331Z"
   },
   {
    "duration": 0,
    "start_time": "2022-09-18T18:51:51.332Z"
   },
   {
    "duration": 0,
    "start_time": "2022-09-18T18:51:51.332Z"
   },
   {
    "duration": 0,
    "start_time": "2022-09-18T18:51:51.333Z"
   },
   {
    "duration": 0,
    "start_time": "2022-09-18T18:51:51.334Z"
   },
   {
    "duration": 26,
    "start_time": "2022-09-18T18:52:11.640Z"
   },
   {
    "duration": 19,
    "start_time": "2022-09-18T18:53:28.391Z"
   },
   {
    "duration": 11,
    "start_time": "2022-09-18T18:54:05.098Z"
   },
   {
    "duration": 12,
    "start_time": "2022-09-18T18:54:13.368Z"
   },
   {
    "duration": 11,
    "start_time": "2022-09-18T18:56:23.563Z"
   },
   {
    "duration": 5,
    "start_time": "2022-09-18T18:56:26.337Z"
   },
   {
    "duration": 15,
    "start_time": "2022-09-18T18:56:33.738Z"
   },
   {
    "duration": 31,
    "start_time": "2022-09-18T18:57:56.591Z"
   },
   {
    "duration": 11,
    "start_time": "2022-09-18T18:58:18.450Z"
   },
   {
    "duration": 16,
    "start_time": "2022-09-18T18:58:41.000Z"
   },
   {
    "duration": 389,
    "start_time": "2022-09-18T19:00:55.614Z"
   },
   {
    "duration": 443,
    "start_time": "2022-09-18T19:03:07.194Z"
   },
   {
    "duration": 1433,
    "start_time": "2022-09-18T19:03:36.204Z"
   },
   {
    "duration": 984,
    "start_time": "2022-09-18T19:03:37.639Z"
   },
   {
    "duration": 19,
    "start_time": "2022-09-18T19:03:38.625Z"
   },
   {
    "duration": 310,
    "start_time": "2022-09-18T19:03:38.646Z"
   },
   {
    "duration": 93,
    "start_time": "2022-09-18T19:03:38.959Z"
   },
   {
    "duration": 29,
    "start_time": "2022-09-18T19:03:39.055Z"
   },
   {
    "duration": 36,
    "start_time": "2022-09-18T19:03:39.094Z"
   },
   {
    "duration": 135,
    "start_time": "2022-09-18T19:03:39.132Z"
   },
   {
    "duration": 225,
    "start_time": "2022-09-18T19:03:39.268Z"
   },
   {
    "duration": 1600,
    "start_time": "2022-09-18T19:03:39.495Z"
   },
   {
    "duration": 28,
    "start_time": "2022-09-18T19:03:41.097Z"
   },
   {
    "duration": 213,
    "start_time": "2022-09-18T19:03:41.127Z"
   },
   {
    "duration": 12,
    "start_time": "2022-09-18T19:03:41.342Z"
   },
   {
    "duration": 64,
    "start_time": "2022-09-18T19:03:41.357Z"
   },
   {
    "duration": 42,
    "start_time": "2022-09-18T19:03:41.423Z"
   },
   {
    "duration": 90,
    "start_time": "2022-09-18T19:03:41.467Z"
   },
   {
    "duration": 45,
    "start_time": "2022-09-18T19:03:41.559Z"
   },
   {
    "duration": 20,
    "start_time": "2022-09-18T19:03:41.606Z"
   },
   {
    "duration": 20,
    "start_time": "2022-09-18T19:03:41.628Z"
   },
   {
    "duration": 598,
    "start_time": "2022-09-18T19:03:41.650Z"
   },
   {
    "duration": 24816,
    "start_time": "2022-09-18T19:03:42.249Z"
   },
   {
    "duration": 180,
    "start_time": "2022-09-18T19:04:07.067Z"
   },
   {
    "duration": 85,
    "start_time": "2022-09-18T19:04:07.249Z"
   },
   {
    "duration": 103,
    "start_time": "2022-09-18T19:04:07.336Z"
   },
   {
    "duration": 22,
    "start_time": "2022-09-18T19:04:07.441Z"
   },
   {
    "duration": 6919,
    "start_time": "2022-09-18T19:04:07.464Z"
   },
   {
    "duration": 1350,
    "start_time": "2022-09-18T19:04:17.663Z"
   },
   {
    "duration": 968,
    "start_time": "2022-09-18T19:04:19.015Z"
   },
   {
    "duration": 30,
    "start_time": "2022-09-18T19:04:19.985Z"
   },
   {
    "duration": 285,
    "start_time": "2022-09-18T19:04:20.017Z"
   },
   {
    "duration": 91,
    "start_time": "2022-09-18T19:04:20.304Z"
   },
   {
    "duration": 28,
    "start_time": "2022-09-18T19:04:20.397Z"
   },
   {
    "duration": 49,
    "start_time": "2022-09-18T19:04:20.427Z"
   },
   {
    "duration": 131,
    "start_time": "2022-09-18T19:04:20.478Z"
   },
   {
    "duration": 246,
    "start_time": "2022-09-18T19:04:20.611Z"
   },
   {
    "duration": 1679,
    "start_time": "2022-09-18T19:04:20.860Z"
   },
   {
    "duration": 29,
    "start_time": "2022-09-18T19:04:22.541Z"
   },
   {
    "duration": 223,
    "start_time": "2022-09-18T19:04:22.572Z"
   },
   {
    "duration": 13,
    "start_time": "2022-09-18T19:04:22.796Z"
   },
   {
    "duration": 69,
    "start_time": "2022-09-18T19:04:22.811Z"
   },
   {
    "duration": 66,
    "start_time": "2022-09-18T19:04:22.895Z"
   },
   {
    "duration": 86,
    "start_time": "2022-09-18T19:04:22.963Z"
   },
   {
    "duration": 31,
    "start_time": "2022-09-18T19:04:23.051Z"
   },
   {
    "duration": 29,
    "start_time": "2022-09-18T19:04:23.083Z"
   },
   {
    "duration": 18,
    "start_time": "2022-09-18T19:04:23.113Z"
   },
   {
    "duration": 584,
    "start_time": "2022-09-18T19:04:23.133Z"
   },
   {
    "duration": 117,
    "start_time": "2022-09-18T19:04:23.718Z"
   },
   {
    "duration": 0,
    "start_time": "2022-09-18T19:04:23.837Z"
   },
   {
    "duration": 0,
    "start_time": "2022-09-18T19:04:23.838Z"
   },
   {
    "duration": 0,
    "start_time": "2022-09-18T19:04:23.840Z"
   },
   {
    "duration": 0,
    "start_time": "2022-09-18T19:04:23.841Z"
   },
   {
    "duration": 0,
    "start_time": "2022-09-18T19:04:23.842Z"
   },
   {
    "duration": 0,
    "start_time": "2022-09-18T19:04:23.843Z"
   },
   {
    "duration": 1431,
    "start_time": "2022-09-18T19:04:49.597Z"
   },
   {
    "duration": 969,
    "start_time": "2022-09-18T19:04:51.030Z"
   },
   {
    "duration": 22,
    "start_time": "2022-09-18T19:04:52.001Z"
   },
   {
    "duration": 298,
    "start_time": "2022-09-18T19:04:52.025Z"
   },
   {
    "duration": 89,
    "start_time": "2022-09-18T19:04:52.325Z"
   },
   {
    "duration": 30,
    "start_time": "2022-09-18T19:04:52.416Z"
   },
   {
    "duration": 50,
    "start_time": "2022-09-18T19:04:52.448Z"
   },
   {
    "duration": 127,
    "start_time": "2022-09-18T19:04:52.499Z"
   },
   {
    "duration": 236,
    "start_time": "2022-09-18T19:04:52.628Z"
   },
   {
    "duration": 1631,
    "start_time": "2022-09-18T19:04:52.867Z"
   },
   {
    "duration": 29,
    "start_time": "2022-09-18T19:04:54.500Z"
   },
   {
    "duration": 214,
    "start_time": "2022-09-18T19:04:54.530Z"
   },
   {
    "duration": 12,
    "start_time": "2022-09-18T19:04:54.746Z"
   },
   {
    "duration": 62,
    "start_time": "2022-09-18T19:04:54.759Z"
   },
   {
    "duration": 44,
    "start_time": "2022-09-18T19:04:54.823Z"
   },
   {
    "duration": 75,
    "start_time": "2022-09-18T19:04:54.869Z"
   },
   {
    "duration": 30,
    "start_time": "2022-09-18T19:04:54.946Z"
   },
   {
    "duration": 29,
    "start_time": "2022-09-18T19:04:54.978Z"
   },
   {
    "duration": 18,
    "start_time": "2022-09-18T19:04:55.009Z"
   },
   {
    "duration": 609,
    "start_time": "2022-09-18T19:04:55.028Z"
   },
   {
    "duration": 67,
    "start_time": "2022-09-18T19:04:55.639Z"
   },
   {
    "duration": 24069,
    "start_time": "2022-09-18T19:04:55.708Z"
   },
   {
    "duration": 3311,
    "start_time": "2022-09-18T19:05:19.779Z"
   },
   {
    "duration": 103,
    "start_time": "2022-09-18T19:05:23.092Z"
   },
   {
    "duration": 134,
    "start_time": "2022-09-18T19:05:23.197Z"
   },
   {
    "duration": 19,
    "start_time": "2022-09-18T19:05:23.333Z"
   },
   {
    "duration": 10265,
    "start_time": "2022-09-18T19:05:23.354Z"
   },
   {
    "duration": 552,
    "start_time": "2022-09-18T19:06:45.801Z"
   },
   {
    "duration": 18,
    "start_time": "2022-09-18T19:07:49.866Z"
   },
   {
    "duration": 1285,
    "start_time": "2022-09-18T19:08:17.432Z"
   },
   {
    "duration": 934,
    "start_time": "2022-09-18T19:08:18.719Z"
   },
   {
    "duration": 18,
    "start_time": "2022-09-18T19:08:19.655Z"
   },
   {
    "duration": 269,
    "start_time": "2022-09-18T19:08:19.675Z"
   },
   {
    "duration": 89,
    "start_time": "2022-09-18T19:08:19.946Z"
   },
   {
    "duration": 28,
    "start_time": "2022-09-18T19:08:20.037Z"
   },
   {
    "duration": 50,
    "start_time": "2022-09-18T19:08:20.067Z"
   },
   {
    "duration": 122,
    "start_time": "2022-09-18T19:08:20.119Z"
   },
   {
    "duration": 231,
    "start_time": "2022-09-18T19:08:20.243Z"
   },
   {
    "duration": 1567,
    "start_time": "2022-09-18T19:08:20.476Z"
   },
   {
    "duration": 31,
    "start_time": "2022-09-18T19:08:22.045Z"
   },
   {
    "duration": 224,
    "start_time": "2022-09-18T19:08:22.078Z"
   },
   {
    "duration": 13,
    "start_time": "2022-09-18T19:08:22.303Z"
   },
   {
    "duration": 45,
    "start_time": "2022-09-18T19:08:22.318Z"
   },
   {
    "duration": 57,
    "start_time": "2022-09-18T19:08:22.365Z"
   },
   {
    "duration": 86,
    "start_time": "2022-09-18T19:08:22.424Z"
   },
   {
    "duration": 30,
    "start_time": "2022-09-18T19:08:22.513Z"
   },
   {
    "duration": 17,
    "start_time": "2022-09-18T19:08:22.545Z"
   },
   {
    "duration": 39,
    "start_time": "2022-09-18T19:08:22.564Z"
   },
   {
    "duration": 626,
    "start_time": "2022-09-18T19:08:22.605Z"
   },
   {
    "duration": 43,
    "start_time": "2022-09-18T19:08:23.234Z"
   },
   {
    "duration": 35,
    "start_time": "2022-09-18T19:08:23.279Z"
   },
   {
    "duration": 23836,
    "start_time": "2022-09-18T19:08:23.316Z"
   },
   {
    "duration": 9580,
    "start_time": "2022-09-18T19:08:47.154Z"
   },
   {
    "duration": 342618,
    "start_time": "2022-09-18T19:08:56.736Z"
   },
   {
    "duration": 86388,
    "start_time": "2022-09-18T19:14:39.356Z"
   },
   {
    "duration": 28,
    "start_time": "2022-09-18T19:16:05.746Z"
   },
   {
    "duration": 2842,
    "start_time": "2022-09-18T19:16:05.778Z"
   },
   {
    "duration": 1379,
    "start_time": "2022-09-18T19:16:17.229Z"
   },
   {
    "duration": 941,
    "start_time": "2022-09-18T19:16:18.610Z"
   },
   {
    "duration": 21,
    "start_time": "2022-09-18T19:16:19.552Z"
   },
   {
    "duration": 287,
    "start_time": "2022-09-18T19:16:19.575Z"
   },
   {
    "duration": 85,
    "start_time": "2022-09-18T19:16:19.865Z"
   },
   {
    "duration": 43,
    "start_time": "2022-09-18T19:16:19.952Z"
   },
   {
    "duration": 44,
    "start_time": "2022-09-18T19:16:19.997Z"
   },
   {
    "duration": 117,
    "start_time": "2022-09-18T19:16:20.043Z"
   },
   {
    "duration": 221,
    "start_time": "2022-09-18T19:16:20.162Z"
   },
   {
    "duration": 1587,
    "start_time": "2022-09-18T19:16:20.384Z"
   },
   {
    "duration": 36,
    "start_time": "2022-09-18T19:16:21.973Z"
   },
   {
    "duration": 208,
    "start_time": "2022-09-18T19:16:22.010Z"
   },
   {
    "duration": 12,
    "start_time": "2022-09-18T19:16:22.220Z"
   },
   {
    "duration": 61,
    "start_time": "2022-09-18T19:16:22.235Z"
   },
   {
    "duration": 41,
    "start_time": "2022-09-18T19:16:22.298Z"
   },
   {
    "duration": 75,
    "start_time": "2022-09-18T19:16:22.341Z"
   },
   {
    "duration": 29,
    "start_time": "2022-09-18T19:16:22.418Z"
   },
   {
    "duration": 17,
    "start_time": "2022-09-18T19:16:22.449Z"
   },
   {
    "duration": 33,
    "start_time": "2022-09-18T19:16:22.468Z"
   },
   {
    "duration": 603,
    "start_time": "2022-09-18T19:16:22.502Z"
   },
   {
    "duration": 44,
    "start_time": "2022-09-18T19:16:23.107Z"
   },
   {
    "duration": 24591,
    "start_time": "2022-09-18T19:16:23.152Z"
   },
   {
    "duration": 10022,
    "start_time": "2022-09-18T19:16:47.745Z"
   },
   {
    "duration": 970052,
    "start_time": "2022-09-18T19:16:57.768Z"
   },
   {
    "duration": 199181,
    "start_time": "2022-09-18T19:33:07.822Z"
   },
   {
    "duration": 26,
    "start_time": "2022-09-18T19:36:27.005Z"
   },
   {
    "duration": 10329,
    "start_time": "2022-09-18T19:36:27.033Z"
   },
   {
    "duration": 106,
    "start_time": "2022-09-18T19:36:37.367Z"
   },
   {
    "duration": 0,
    "start_time": "2022-09-18T19:36:37.481Z"
   },
   {
    "duration": 14,
    "start_time": "2022-09-18T19:37:16.357Z"
   },
   {
    "duration": 1358,
    "start_time": "2022-09-18T19:37:22.791Z"
   },
   {
    "duration": 964,
    "start_time": "2022-09-18T19:37:24.151Z"
   },
   {
    "duration": 19,
    "start_time": "2022-09-18T19:37:25.118Z"
   },
   {
    "duration": 279,
    "start_time": "2022-09-18T19:37:25.139Z"
   },
   {
    "duration": 96,
    "start_time": "2022-09-18T19:37:25.419Z"
   },
   {
    "duration": 28,
    "start_time": "2022-09-18T19:37:25.517Z"
   },
   {
    "duration": 37,
    "start_time": "2022-09-18T19:37:25.547Z"
   },
   {
    "duration": 122,
    "start_time": "2022-09-18T19:37:25.595Z"
   },
   {
    "duration": 229,
    "start_time": "2022-09-18T19:37:25.720Z"
   },
   {
    "duration": 1647,
    "start_time": "2022-09-18T19:37:25.950Z"
   },
   {
    "duration": 29,
    "start_time": "2022-09-18T19:37:27.598Z"
   },
   {
    "duration": 222,
    "start_time": "2022-09-18T19:37:27.629Z"
   },
   {
    "duration": 12,
    "start_time": "2022-09-18T19:37:27.853Z"
   },
   {
    "duration": 55,
    "start_time": "2022-09-18T19:37:27.867Z"
   },
   {
    "duration": 44,
    "start_time": "2022-09-18T19:37:27.924Z"
   },
   {
    "duration": 87,
    "start_time": "2022-09-18T19:37:27.969Z"
   },
   {
    "duration": 39,
    "start_time": "2022-09-18T19:37:28.058Z"
   },
   {
    "duration": 19,
    "start_time": "2022-09-18T19:37:28.099Z"
   },
   {
    "duration": 20,
    "start_time": "2022-09-18T19:37:28.120Z"
   },
   {
    "duration": 582,
    "start_time": "2022-09-18T19:37:28.142Z"
   },
   {
    "duration": 43,
    "start_time": "2022-09-18T19:37:28.726Z"
   },
   {
    "duration": 24142,
    "start_time": "2022-09-18T19:37:28.771Z"
   },
   {
    "duration": 10147,
    "start_time": "2022-09-18T19:37:52.915Z"
   },
   {
    "duration": 1534,
    "start_time": "2022-09-18T19:55:25.791Z"
   },
   {
    "duration": 1009,
    "start_time": "2022-09-18T19:55:27.327Z"
   },
   {
    "duration": 21,
    "start_time": "2022-09-18T19:55:28.338Z"
   },
   {
    "duration": 294,
    "start_time": "2022-09-18T19:55:28.362Z"
   },
   {
    "duration": 95,
    "start_time": "2022-09-18T19:55:28.657Z"
   },
   {
    "duration": 30,
    "start_time": "2022-09-18T19:55:28.754Z"
   },
   {
    "duration": 50,
    "start_time": "2022-09-18T19:55:28.786Z"
   },
   {
    "duration": 148,
    "start_time": "2022-09-18T19:55:28.839Z"
   },
   {
    "duration": 253,
    "start_time": "2022-09-18T19:55:28.989Z"
   },
   {
    "duration": 1773,
    "start_time": "2022-09-18T19:55:29.245Z"
   },
   {
    "duration": 40,
    "start_time": "2022-09-18T19:55:31.020Z"
   },
   {
    "duration": 244,
    "start_time": "2022-09-18T19:55:31.062Z"
   },
   {
    "duration": 13,
    "start_time": "2022-09-18T19:55:31.311Z"
   },
   {
    "duration": 57,
    "start_time": "2022-09-18T19:55:31.326Z"
   },
   {
    "duration": 74,
    "start_time": "2022-09-18T19:55:31.385Z"
   },
   {
    "duration": 77,
    "start_time": "2022-09-18T19:55:31.461Z"
   },
   {
    "duration": 32,
    "start_time": "2022-09-18T19:55:31.540Z"
   },
   {
    "duration": 41,
    "start_time": "2022-09-18T19:55:31.574Z"
   },
   {
    "duration": 38,
    "start_time": "2022-09-18T19:55:31.618Z"
   },
   {
    "duration": 654,
    "start_time": "2022-09-18T19:55:31.658Z"
   },
   {
    "duration": 48,
    "start_time": "2022-09-18T19:55:32.316Z"
   },
   {
    "duration": 26013,
    "start_time": "2022-09-18T19:55:32.366Z"
   },
   {
    "duration": 10177,
    "start_time": "2022-09-18T19:55:58.381Z"
   },
   {
    "duration": 4,
    "start_time": "2022-09-18T19:56:08.560Z"
   },
   {
    "duration": 1013521,
    "start_time": "2022-09-18T19:56:08.566Z"
   },
   {
    "duration": 87,
    "start_time": "2022-09-18T20:13:02.089Z"
   },
   {
    "duration": 35325,
    "start_time": "2022-09-18T20:13:02.178Z"
   },
   {
    "duration": 1323,
    "start_time": "2022-09-18T20:13:52.260Z"
   },
   {
    "duration": 965,
    "start_time": "2022-09-18T20:13:53.585Z"
   },
   {
    "duration": 19,
    "start_time": "2022-09-18T20:13:54.552Z"
   },
   {
    "duration": 288,
    "start_time": "2022-09-18T20:13:54.573Z"
   },
   {
    "duration": 98,
    "start_time": "2022-09-18T20:13:54.863Z"
   },
   {
    "duration": 35,
    "start_time": "2022-09-18T20:13:54.963Z"
   },
   {
    "duration": 50,
    "start_time": "2022-09-18T20:13:55.001Z"
   },
   {
    "duration": 148,
    "start_time": "2022-09-18T20:13:55.054Z"
   },
   {
    "duration": 233,
    "start_time": "2022-09-18T20:13:55.204Z"
   },
   {
    "duration": 1681,
    "start_time": "2022-09-18T20:13:55.441Z"
   },
   {
    "duration": 29,
    "start_time": "2022-09-18T20:13:57.124Z"
   },
   {
    "duration": 241,
    "start_time": "2022-09-18T20:13:57.155Z"
   },
   {
    "duration": 14,
    "start_time": "2022-09-18T20:13:57.409Z"
   },
   {
    "duration": 83,
    "start_time": "2022-09-18T20:13:57.426Z"
   },
   {
    "duration": 46,
    "start_time": "2022-09-18T20:13:57.510Z"
   },
   {
    "duration": 74,
    "start_time": "2022-09-18T20:13:57.558Z"
   },
   {
    "duration": 31,
    "start_time": "2022-09-18T20:13:57.633Z"
   },
   {
    "duration": 16,
    "start_time": "2022-09-18T20:13:57.665Z"
   },
   {
    "duration": 22,
    "start_time": "2022-09-18T20:13:57.683Z"
   },
   {
    "duration": 741,
    "start_time": "2022-09-18T20:13:57.707Z"
   },
   {
    "duration": 61,
    "start_time": "2022-09-18T20:13:58.450Z"
   },
   {
    "duration": 24262,
    "start_time": "2022-09-18T20:13:58.512Z"
   },
   {
    "duration": 4,
    "start_time": "2022-09-18T20:14:22.776Z"
   },
   {
    "duration": 47577,
    "start_time": "2022-09-18T20:14:22.782Z"
   },
   {
    "duration": 6,
    "start_time": "2022-09-18T20:15:10.361Z"
   },
   {
    "duration": 46992,
    "start_time": "2022-09-18T20:15:10.369Z"
   },
   {
    "duration": 7340,
    "start_time": "2022-09-18T20:15:57.363Z"
   },
   {
    "duration": 36,
    "start_time": "2022-09-18T20:16:04.708Z"
   },
   {
    "duration": 10701,
    "start_time": "2022-09-18T20:16:04.746Z"
   },
   {
    "duration": 4,
    "start_time": "2022-09-18T20:16:15.449Z"
   },
   {
    "duration": 472262,
    "start_time": "2022-09-18T20:16:19.940Z"
   },
   {
    "duration": 87,
    "start_time": "2022-09-18T20:24:12.205Z"
   },
   {
    "duration": 1664,
    "start_time": "2022-09-18T20:24:15.599Z"
   },
   {
    "duration": 1101,
    "start_time": "2022-09-18T20:24:17.266Z"
   },
   {
    "duration": 35,
    "start_time": "2022-09-18T20:24:18.369Z"
   },
   {
    "duration": 296,
    "start_time": "2022-09-18T20:24:18.407Z"
   },
   {
    "duration": 97,
    "start_time": "2022-09-18T20:24:18.705Z"
   },
   {
    "duration": 33,
    "start_time": "2022-09-18T20:24:18.804Z"
   },
   {
    "duration": 70,
    "start_time": "2022-09-18T20:24:18.839Z"
   },
   {
    "duration": 131,
    "start_time": "2022-09-18T20:24:18.911Z"
   },
   {
    "duration": 240,
    "start_time": "2022-09-18T20:24:19.044Z"
   },
   {
    "duration": 1588,
    "start_time": "2022-09-18T20:24:19.287Z"
   },
   {
    "duration": 38,
    "start_time": "2022-09-18T20:24:20.877Z"
   },
   {
    "duration": 227,
    "start_time": "2022-09-18T20:24:20.916Z"
   },
   {
    "duration": 12,
    "start_time": "2022-09-18T20:24:21.145Z"
   },
   {
    "duration": 59,
    "start_time": "2022-09-18T20:24:21.159Z"
   },
   {
    "duration": 62,
    "start_time": "2022-09-18T20:24:21.220Z"
   },
   {
    "duration": 66,
    "start_time": "2022-09-18T20:24:21.295Z"
   },
   {
    "duration": 42,
    "start_time": "2022-09-18T20:24:21.363Z"
   },
   {
    "duration": 38,
    "start_time": "2022-09-18T20:24:21.408Z"
   },
   {
    "duration": 28,
    "start_time": "2022-09-18T20:24:21.448Z"
   },
   {
    "duration": 594,
    "start_time": "2022-09-18T20:24:21.478Z"
   },
   {
    "duration": 55,
    "start_time": "2022-09-18T20:24:22.074Z"
   },
   {
    "duration": 25521,
    "start_time": "2022-09-18T20:24:22.131Z"
   },
   {
    "duration": 106505,
    "start_time": "2022-09-18T20:24:47.654Z"
   },
   {
    "duration": 90,
    "start_time": "2022-09-18T20:26:34.161Z"
   },
   {
    "duration": 6068,
    "start_time": "2022-09-18T20:26:34.253Z"
   },
   {
    "duration": 49152,
    "start_time": "2022-09-18T20:26:40.323Z"
   },
   {
    "duration": 38,
    "start_time": "2022-09-18T20:27:29.477Z"
   },
   {
    "duration": 1638,
    "start_time": "2022-09-18T20:27:36.708Z"
   },
   {
    "duration": 1097,
    "start_time": "2022-09-18T20:27:38.349Z"
   },
   {
    "duration": 22,
    "start_time": "2022-09-18T20:27:39.448Z"
   },
   {
    "duration": 325,
    "start_time": "2022-09-18T20:27:39.472Z"
   },
   {
    "duration": 121,
    "start_time": "2022-09-18T20:27:39.802Z"
   },
   {
    "duration": 29,
    "start_time": "2022-09-18T20:27:39.925Z"
   },
   {
    "duration": 65,
    "start_time": "2022-09-18T20:27:39.957Z"
   },
   {
    "duration": 128,
    "start_time": "2022-09-18T20:27:40.024Z"
   },
   {
    "duration": 264,
    "start_time": "2022-09-18T20:27:40.154Z"
   },
   {
    "duration": 1803,
    "start_time": "2022-09-18T20:27:40.420Z"
   },
   {
    "duration": 33,
    "start_time": "2022-09-18T20:27:42.225Z"
   },
   {
    "duration": 268,
    "start_time": "2022-09-18T20:27:42.260Z"
   },
   {
    "duration": 11,
    "start_time": "2022-09-18T20:27:42.530Z"
   },
   {
    "duration": 75,
    "start_time": "2022-09-18T20:27:42.544Z"
   },
   {
    "duration": 47,
    "start_time": "2022-09-18T20:27:42.622Z"
   },
   {
    "duration": 93,
    "start_time": "2022-09-18T20:27:42.670Z"
   },
   {
    "duration": 55,
    "start_time": "2022-09-18T20:27:42.765Z"
   },
   {
    "duration": 70,
    "start_time": "2022-09-18T20:27:42.822Z"
   },
   {
    "duration": 21,
    "start_time": "2022-09-18T20:27:42.894Z"
   },
   {
    "duration": 660,
    "start_time": "2022-09-18T20:27:42.921Z"
   },
   {
    "duration": 57,
    "start_time": "2022-09-18T20:27:43.583Z"
   },
   {
    "duration": 26698,
    "start_time": "2022-09-18T20:27:43.643Z"
   },
   {
    "duration": 50390,
    "start_time": "2022-09-18T20:28:10.343Z"
   },
   {
    "duration": 1470,
    "start_time": "2022-09-18T20:31:55.853Z"
   },
   {
    "duration": 1182,
    "start_time": "2022-09-18T20:31:57.326Z"
   },
   {
    "duration": 22,
    "start_time": "2022-09-18T20:31:58.510Z"
   },
   {
    "duration": 324,
    "start_time": "2022-09-18T20:31:58.533Z"
   },
   {
    "duration": 109,
    "start_time": "2022-09-18T20:31:58.860Z"
   },
   {
    "duration": 39,
    "start_time": "2022-09-18T20:31:58.971Z"
   },
   {
    "duration": 43,
    "start_time": "2022-09-18T20:31:59.012Z"
   },
   {
    "duration": 151,
    "start_time": "2022-09-18T20:31:59.057Z"
   },
   {
    "duration": 239,
    "start_time": "2022-09-18T20:31:59.216Z"
   },
   {
    "duration": 1773,
    "start_time": "2022-09-18T20:31:59.456Z"
   },
   {
    "duration": 31,
    "start_time": "2022-09-18T20:32:01.231Z"
   },
   {
    "duration": 248,
    "start_time": "2022-09-18T20:32:01.263Z"
   },
   {
    "duration": 18,
    "start_time": "2022-09-18T20:32:01.515Z"
   },
   {
    "duration": 48,
    "start_time": "2022-09-18T20:32:01.537Z"
   },
   {
    "duration": 59,
    "start_time": "2022-09-18T20:32:01.586Z"
   },
   {
    "duration": 93,
    "start_time": "2022-09-18T20:32:01.647Z"
   },
   {
    "duration": 33,
    "start_time": "2022-09-18T20:32:01.742Z"
   },
   {
    "duration": 44,
    "start_time": "2022-09-18T20:32:01.777Z"
   },
   {
    "duration": 21,
    "start_time": "2022-09-18T20:32:01.828Z"
   },
   {
    "duration": 676,
    "start_time": "2022-09-18T20:32:01.851Z"
   },
   {
    "duration": 49,
    "start_time": "2022-09-18T20:32:02.529Z"
   },
   {
    "duration": 26057,
    "start_time": "2022-09-18T20:32:02.580Z"
   },
   {
    "duration": 51262,
    "start_time": "2022-09-18T20:32:28.639Z"
   },
   {
    "duration": 16,
    "start_time": "2022-09-18T20:33:19.905Z"
   },
   {
    "duration": 653668,
    "start_time": "2022-09-18T20:33:19.923Z"
   },
   {
    "duration": 729,
    "start_time": "2022-09-18T20:44:13.593Z"
   },
   {
    "duration": 1348,
    "start_time": "2022-09-18T20:49:55.117Z"
   },
   {
    "duration": 1139,
    "start_time": "2022-09-18T20:49:56.468Z"
   },
   {
    "duration": 20,
    "start_time": "2022-09-18T20:49:57.609Z"
   },
   {
    "duration": 317,
    "start_time": "2022-09-18T20:49:57.630Z"
   },
   {
    "duration": 97,
    "start_time": "2022-09-18T20:49:57.949Z"
   },
   {
    "duration": 32,
    "start_time": "2022-09-18T20:49:58.048Z"
   },
   {
    "duration": 51,
    "start_time": "2022-09-18T20:49:58.081Z"
   },
   {
    "duration": 126,
    "start_time": "2022-09-18T20:49:58.134Z"
   },
   {
    "duration": 241,
    "start_time": "2022-09-18T20:49:58.261Z"
   },
   {
    "duration": 1525,
    "start_time": "2022-09-18T20:49:58.503Z"
   },
   {
    "duration": 30,
    "start_time": "2022-09-18T20:50:00.030Z"
   },
   {
    "duration": 223,
    "start_time": "2022-09-18T20:50:00.061Z"
   },
   {
    "duration": 18,
    "start_time": "2022-09-18T20:50:00.286Z"
   },
   {
    "duration": 54,
    "start_time": "2022-09-18T20:50:00.307Z"
   },
   {
    "duration": 48,
    "start_time": "2022-09-18T20:50:00.363Z"
   },
   {
    "duration": 71,
    "start_time": "2022-09-18T20:50:00.413Z"
   },
   {
    "duration": 38,
    "start_time": "2022-09-18T20:50:00.485Z"
   },
   {
    "duration": 17,
    "start_time": "2022-09-18T20:50:00.524Z"
   },
   {
    "duration": 22,
    "start_time": "2022-09-18T20:50:00.543Z"
   },
   {
    "duration": 645,
    "start_time": "2022-09-18T20:50:00.567Z"
   },
   {
    "duration": 45,
    "start_time": "2022-09-18T20:50:01.215Z"
   },
   {
    "duration": 22512,
    "start_time": "2022-09-18T20:50:01.262Z"
   },
   {
    "duration": 44113,
    "start_time": "2022-09-18T20:50:23.776Z"
   },
   {
    "duration": 4,
    "start_time": "2022-09-18T20:51:07.890Z"
   },
   {
    "duration": 3334,
    "start_time": "2022-09-18T20:51:07.896Z"
   },
   {
    "duration": 20,
    "start_time": "2022-09-18T20:51:11.232Z"
   },
   {
    "duration": 1075744,
    "start_time": "2022-09-18T20:51:11.253Z"
   },
   {
    "duration": 385504,
    "start_time": "2022-09-18T21:09:06.999Z"
   },
   {
    "duration": 506,
    "start_time": "2022-09-18T21:15:32.505Z"
   },
   {
    "duration": 190640,
    "start_time": "2022-09-18T21:15:33.012Z"
   },
   {
    "duration": 63494,
    "start_time": "2022-09-18T21:18:43.654Z"
   },
   {
    "duration": 2608,
    "start_time": "2022-09-18T21:19:47.150Z"
   },
   {
    "duration": 35,
    "start_time": "2022-09-18T21:19:49.760Z"
   },
   {
    "duration": 9921,
    "start_time": "2022-09-18T21:19:49.797Z"
   },
   {
    "duration": 120,
    "start_time": "2022-09-19T06:07:45.687Z"
   },
   {
    "duration": 134,
    "start_time": "2022-09-19T06:10:41.019Z"
   },
   {
    "duration": 109,
    "start_time": "2022-09-19T06:10:55.936Z"
   },
   {
    "duration": 117,
    "start_time": "2022-09-19T06:11:31.242Z"
   },
   {
    "duration": 22,
    "start_time": "2022-09-19T06:11:49.999Z"
   },
   {
    "duration": 10,
    "start_time": "2022-09-19T06:12:09.086Z"
   },
   {
    "duration": 8,
    "start_time": "2022-09-19T06:12:19.910Z"
   },
   {
    "duration": 135,
    "start_time": "2022-09-19T06:14:05.117Z"
   },
   {
    "duration": 10471,
    "start_time": "2022-09-19T06:15:00.622Z"
   },
   {
    "duration": 73,
    "start_time": "2022-09-19T06:27:42.191Z"
   }
  ],
  "kernelspec": {
   "display_name": "Python 3 (ipykernel)",
   "language": "python",
   "name": "python3"
  },
  "language_info": {
   "codemirror_mode": {
    "name": "ipython",
    "version": 3
   },
   "file_extension": ".py",
   "mimetype": "text/x-python",
   "name": "python",
   "nbconvert_exporter": "python",
   "pygments_lexer": "ipython3",
   "version": "3.9.12"
  },
  "toc": {
   "base_numbering": 1,
   "nav_menu": {},
   "number_sections": true,
   "sideBar": true,
   "skip_h1_title": true,
   "title_cell": "Table of Contents",
   "title_sidebar": "Contents",
   "toc_cell": false,
   "toc_position": {},
   "toc_section_display": true,
   "toc_window_display": false
  }
 },
 "nbformat": 4,
 "nbformat_minor": 2
}
