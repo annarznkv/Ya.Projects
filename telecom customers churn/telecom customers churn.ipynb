{
 "cells": [
  {
   "cell_type": "markdown",
   "id": "aea3373f",
   "metadata": {},
   "source": [
    "### Описание задачи\n",
    "\n",
    "Цель - спрогнозировать отток клиентов оператора связи «Ниединогоразрыва.ком».\n",
    "Поттенциально отточным клиентам будут предложены промокоды и спец условия для их удержания.\n",
    "\n",
    "Оператор предоставляет следующие услуги:\n",
    "- Стационарная телефонная связь. Возможно подключение телефонного аппарата к нескольким линиям одновременно.\n",
    "- Интернет. Подключение может быть двух типов: через телефонную линию (DSL*,* от англ. *digital subscriber line*, «цифровая абонентская линия») или оптоволоконный кабель (*Fiber optic*).\n",
    "- Интернет-безопасность: антивирус (*DeviceProtection*) и блокировка небезопасных сайтов (*OnlineSecurity*);\n",
    "- Выделенная линия технической поддержки (*TechSupport*);\n",
    "- Облачное хранилище файлов для резервного копирования данных (*OnlineBackup*);\n",
    "- Стриминговое телевидение (*StreamingTV*) и каталог фильмов (*StreamingMovies*).\n",
    "\n",
    "За услуги клиенты могут платить каждый месяц или заключить договор на 1–2 года. Доступны различные способы расчёта и возможность получения электронного чека."
   ]
  },
  {
   "cell_type": "markdown",
   "id": "0ae405fa",
   "metadata": {},
   "source": [
    "### Описание данных\n",
    "Данные состоят из файлов, полученных из разных источников:\n",
    "- `contract.csv` — информация о договоре;\n",
    "- `personal.csv` — персональные данные клиента;\n",
    "- `internet.csv` — информация об интернет-услугах;\n",
    "- `phone.csv` — информация об услугах телефонии.\n",
    "\n",
    "Во всех файлах столбец `customerID` содержит код клиента.\n",
    "\n",
    "Информация о договорах актуальна на 1 февраля 2020."
   ]
  },
  {
   "cell_type": "markdown",
   "id": "983cba93",
   "metadata": {},
   "source": [
    " ### План решения задачи. \n",
    "    \n",
    "- Загрузим и проанализируем данные - посмотрим на их структуру, аномалии, пропуски, дубликаты, распределение\n",
    "- Подготовим данные для работы с машинным обучением - объединим в один датасет, почистим лишнее, закодируем. Разделим на обучающую, вализационную и тестовую выборки в соотношении 50%, 25% и 25%\n",
    "- Применим три модели: логистическую регрессию, RandomForest и CatBoost\n",
    "- Подберем гиперпараменты, посмотрим результаты на валидационной выборке и проверим работу лучшей модели на тестовой\n",
    "- Проанализируем результаты: выведем матрицу ошибок и важность признаков. Оценим, насколько модель применима для бизнес-решений"
   ]
  },
  {
   "cell_type": "markdown",
   "id": "ec0bb293",
   "metadata": {},
   "source": [
    "### Предобработка и анализ данных\n",
    "\n",
    "Исследуем каждый файл данных в отдельности: посмотрим на данные, на их объем, уникальность, типы, дубликаты, распределение и структуру"
   ]
  },
  {
   "cell_type": "code",
   "execution_count": 1,
   "id": "728b27dc",
   "metadata": {},
   "outputs": [],
   "source": [
    "#pip install catboost"
   ]
  },
  {
   "cell_type": "code",
   "execution_count": 2,
   "id": "12d7a573",
   "metadata": {},
   "outputs": [],
   "source": [
    "# Подключим библиотеки\n",
    "import pandas as pd\n",
    "import matplotlib.pyplot as plt\n",
    "\n",
    "from sklearn.model_selection import train_test_split\n",
    "from sklearn.model_selection import GridSearchCV\n",
    "from sklearn.model_selection import cross_val_score\n",
    "\n",
    "from sklearn.ensemble import RandomForestClassifier\n",
    "from sklearn.linear_model import LogisticRegression\n",
    "from catboost import CatBoostClassifier\n",
    "\n",
    "from sklearn.metrics import roc_auc_score\n",
    "from sklearn.metrics import confusion_matrix\n",
    "\n",
    "from sklearn.preprocessing import OneHotEncoder\n",
    "from sklearn.preprocessing import StandardScaler\n",
    "from sklearn.preprocessing import OrdinalEncoder\n",
    "\n",
    "from sklearn.pipeline import Pipeline\n"
   ]
  },
  {
   "cell_type": "code",
   "execution_count": 3,
   "id": "51aa6bbb",
   "metadata": {},
   "outputs": [],
   "source": [
    "#Загрузим данные\n",
    "try:\n",
    "    contracts = pd.read_csv('final_provider/contract.csv')\n",
    "    clients = pd.read_csv('final_provider/personal.csv')\n",
    "    inet_services = pd.read_csv('final_provider/internet.csv')\n",
    "    phone_services = pd.read_csv('final_provider/phone.csv')\n",
    "\n",
    "except:\n",
    "    contracts = pd.read_csv('/datasets/final_provider/contract.csv')\n",
    "    clients = pd.read_csv('/datasets/final_provider/personal.csv')\n",
    "    inet_services = pd.read_csv('/datasets/final_provider/internet.csv')\n",
    "    phone_services = pd.read_csv('/datasets/final_provider/phone.csv')"
   ]
  },
  {
   "cell_type": "code",
   "execution_count": 4,
   "id": "237517e6",
   "metadata": {},
   "outputs": [
    {
     "data": {
      "text/html": [
       "<div>\n",
       "<style scoped>\n",
       "    .dataframe tbody tr th:only-of-type {\n",
       "        vertical-align: middle;\n",
       "    }\n",
       "\n",
       "    .dataframe tbody tr th {\n",
       "        vertical-align: top;\n",
       "    }\n",
       "\n",
       "    .dataframe thead th {\n",
       "        text-align: right;\n",
       "    }\n",
       "</style>\n",
       "<table border=\"1\" class=\"dataframe\">\n",
       "  <thead>\n",
       "    <tr style=\"text-align: right;\">\n",
       "      <th></th>\n",
       "      <th>customerID</th>\n",
       "      <th>BeginDate</th>\n",
       "      <th>EndDate</th>\n",
       "      <th>Type</th>\n",
       "      <th>PaperlessBilling</th>\n",
       "      <th>PaymentMethod</th>\n",
       "      <th>MonthlyCharges</th>\n",
       "      <th>TotalCharges</th>\n",
       "    </tr>\n",
       "  </thead>\n",
       "  <tbody>\n",
       "    <tr>\n",
       "      <th>0</th>\n",
       "      <td>7590-VHVEG</td>\n",
       "      <td>2020-01-01</td>\n",
       "      <td>No</td>\n",
       "      <td>Month-to-month</td>\n",
       "      <td>Yes</td>\n",
       "      <td>Electronic check</td>\n",
       "      <td>29.85</td>\n",
       "      <td>29.85</td>\n",
       "    </tr>\n",
       "    <tr>\n",
       "      <th>1</th>\n",
       "      <td>5575-GNVDE</td>\n",
       "      <td>2017-04-01</td>\n",
       "      <td>No</td>\n",
       "      <td>One year</td>\n",
       "      <td>No</td>\n",
       "      <td>Mailed check</td>\n",
       "      <td>56.95</td>\n",
       "      <td>1889.5</td>\n",
       "    </tr>\n",
       "    <tr>\n",
       "      <th>2</th>\n",
       "      <td>3668-QPYBK</td>\n",
       "      <td>2019-10-01</td>\n",
       "      <td>2019-12-01 00:00:00</td>\n",
       "      <td>Month-to-month</td>\n",
       "      <td>Yes</td>\n",
       "      <td>Mailed check</td>\n",
       "      <td>53.85</td>\n",
       "      <td>108.15</td>\n",
       "    </tr>\n",
       "    <tr>\n",
       "      <th>3</th>\n",
       "      <td>7795-CFOCW</td>\n",
       "      <td>2016-05-01</td>\n",
       "      <td>No</td>\n",
       "      <td>One year</td>\n",
       "      <td>No</td>\n",
       "      <td>Bank transfer (automatic)</td>\n",
       "      <td>42.30</td>\n",
       "      <td>1840.75</td>\n",
       "    </tr>\n",
       "    <tr>\n",
       "      <th>4</th>\n",
       "      <td>9237-HQITU</td>\n",
       "      <td>2019-09-01</td>\n",
       "      <td>2019-11-01 00:00:00</td>\n",
       "      <td>Month-to-month</td>\n",
       "      <td>Yes</td>\n",
       "      <td>Electronic check</td>\n",
       "      <td>70.70</td>\n",
       "      <td>151.65</td>\n",
       "    </tr>\n",
       "  </tbody>\n",
       "</table>\n",
       "</div>"
      ],
      "text/plain": [
       "   customerID   BeginDate              EndDate            Type  \\\n",
       "0  7590-VHVEG  2020-01-01                   No  Month-to-month   \n",
       "1  5575-GNVDE  2017-04-01                   No        One year   \n",
       "2  3668-QPYBK  2019-10-01  2019-12-01 00:00:00  Month-to-month   \n",
       "3  7795-CFOCW  2016-05-01                   No        One year   \n",
       "4  9237-HQITU  2019-09-01  2019-11-01 00:00:00  Month-to-month   \n",
       "\n",
       "  PaperlessBilling              PaymentMethod  MonthlyCharges TotalCharges  \n",
       "0              Yes           Electronic check           29.85        29.85  \n",
       "1               No               Mailed check           56.95       1889.5  \n",
       "2              Yes               Mailed check           53.85       108.15  \n",
       "3               No  Bank transfer (automatic)           42.30      1840.75  \n",
       "4              Yes           Electronic check           70.70       151.65  "
      ]
     },
     "execution_count": 4,
     "metadata": {},
     "output_type": "execute_result"
    }
   ],
   "source": [
    "#Посмотрим на данные\n",
    "contracts.head()"
   ]
  },
  {
   "cell_type": "code",
   "execution_count": 5,
   "id": "76810c5c",
   "metadata": {},
   "outputs": [
    {
     "name": "stdout",
     "output_type": "stream",
     "text": [
      "<class 'pandas.core.frame.DataFrame'>\n",
      "RangeIndex: 7043 entries, 0 to 7042\n",
      "Data columns (total 8 columns):\n",
      " #   Column            Non-Null Count  Dtype  \n",
      "---  ------            --------------  -----  \n",
      " 0   customerID        7043 non-null   object \n",
      " 1   BeginDate         7043 non-null   object \n",
      " 2   EndDate           7043 non-null   object \n",
      " 3   Type              7043 non-null   object \n",
      " 4   PaperlessBilling  7043 non-null   object \n",
      " 5   PaymentMethod     7043 non-null   object \n",
      " 6   MonthlyCharges    7043 non-null   float64\n",
      " 7   TotalCharges      7043 non-null   object \n",
      "dtypes: float64(1), object(7)\n",
      "memory usage: 440.3+ KB\n"
     ]
    }
   ],
   "source": [
    "contracts.info()"
   ]
  },
  {
   "cell_type": "code",
   "execution_count": 6,
   "id": "9c4346f5",
   "metadata": {},
   "outputs": [
    {
     "name": "stdout",
     "output_type": "stream",
     "text": [
      "7043\n"
     ]
    }
   ],
   "source": [
    "#посчитаем уникальных клиентов\n",
    "print(len(pd.unique(contracts['customerID'])))"
   ]
  },
  {
   "cell_type": "code",
   "execution_count": 7,
   "id": "c159fc21",
   "metadata": {},
   "outputs": [
    {
     "data": {
      "text/plain": [
       "0"
      ]
     },
     "execution_count": 7,
     "metadata": {},
     "output_type": "execute_result"
    }
   ],
   "source": [
    "#посчитаем дубликаты\n",
    "contracts.duplicated().sum()"
   ]
  },
  {
   "cell_type": "code",
   "execution_count": 8,
   "id": "3898593c",
   "metadata": {},
   "outputs": [],
   "source": [
    "#Добавим столбец с непустой датой окончания контракта. Если контракт еще действует, поставим дату выгрузки - 1 февраля 2020\n",
    "contracts['EndDate_Today'] = contracts['EndDate']\n",
    "contracts.loc[contracts['EndDate']=='No', 'EndDate_Today'] = '2020-02-01'"
   ]
  },
  {
   "cell_type": "code",
   "execution_count": 9,
   "id": "f4c1f7e3",
   "metadata": {},
   "outputs": [],
   "source": [
    "#Преобразуем типы данных\n",
    "contracts['TotalCharges'] = pd.to_numeric(contracts['TotalCharges'], errors='coerce')\n",
    "contracts['BeginDate'] = pd.to_datetime(contracts['BeginDate'], format='%Y-%m-%d', errors='coerce')\n",
    "contracts['EndDate_Today'] = pd.to_datetime(contracts['EndDate_Today'], format='%Y-%m-%dT%H:%M:%S', errors='coerce')\n",
    "contracts['EndDate'] = pd.to_datetime(contracts['EndDate'], format='%Y-%m-%dT%H:%M:%S', errors='coerce')"
   ]
  },
  {
   "cell_type": "code",
   "execution_count": 10,
   "id": "2e4eaa9f",
   "metadata": {},
   "outputs": [],
   "source": [
    "#Добавим признаки \"потерянный клиент\", \"срок жизни клиента\" и \"год начала сотрудничества\"\n",
    "contracts['LifeTime'] = contracts['EndDate_Today']- (contracts['BeginDate'])\n",
    "contracts['BeginYear'] = pd.DatetimeIndex(contracts['BeginDate']).year\n",
    "contracts['Lost_client'] = 0\n",
    "contracts.loc[contracts['EndDate'].isna()==True, 'Lost_client'] = 1"
   ]
  },
  {
   "cell_type": "code",
   "execution_count": 11,
   "id": "a9b92b8e",
   "metadata": {},
   "outputs": [],
   "source": [
    "contracts['LifeTime'] = contracts['LifeTime'].astype(int)"
   ]
  },
  {
   "cell_type": "code",
   "execution_count": 12,
   "id": "e1f082d6",
   "metadata": {},
   "outputs": [],
   "source": [
    "#Удалим лишние столбцы\n",
    "contracts = contracts.drop(['EndDate','BeginDate','EndDate_Today'], axis = 1)"
   ]
  },
  {
   "cell_type": "code",
   "execution_count": 13,
   "id": "ce5ca7ca",
   "metadata": {},
   "outputs": [
    {
     "data": {
      "text/html": [
       "<div>\n",
       "<style scoped>\n",
       "    .dataframe tbody tr th:only-of-type {\n",
       "        vertical-align: middle;\n",
       "    }\n",
       "\n",
       "    .dataframe tbody tr th {\n",
       "        vertical-align: top;\n",
       "    }\n",
       "\n",
       "    .dataframe thead th {\n",
       "        text-align: right;\n",
       "    }\n",
       "</style>\n",
       "<table border=\"1\" class=\"dataframe\">\n",
       "  <thead>\n",
       "    <tr style=\"text-align: right;\">\n",
       "      <th></th>\n",
       "      <th>customerID</th>\n",
       "      <th>Type</th>\n",
       "      <th>PaperlessBilling</th>\n",
       "      <th>PaymentMethod</th>\n",
       "      <th>MonthlyCharges</th>\n",
       "      <th>TotalCharges</th>\n",
       "      <th>LifeTime</th>\n",
       "      <th>BeginYear</th>\n",
       "      <th>Lost_client</th>\n",
       "    </tr>\n",
       "  </thead>\n",
       "  <tbody>\n",
       "    <tr>\n",
       "      <th>0</th>\n",
       "      <td>7590-VHVEG</td>\n",
       "      <td>Month-to-month</td>\n",
       "      <td>Yes</td>\n",
       "      <td>Electronic check</td>\n",
       "      <td>29.85</td>\n",
       "      <td>29.85</td>\n",
       "      <td>2678400000000000</td>\n",
       "      <td>2020</td>\n",
       "      <td>1</td>\n",
       "    </tr>\n",
       "    <tr>\n",
       "      <th>1</th>\n",
       "      <td>5575-GNVDE</td>\n",
       "      <td>One year</td>\n",
       "      <td>No</td>\n",
       "      <td>Mailed check</td>\n",
       "      <td>56.95</td>\n",
       "      <td>1889.50</td>\n",
       "      <td>89510400000000000</td>\n",
       "      <td>2017</td>\n",
       "      <td>1</td>\n",
       "    </tr>\n",
       "    <tr>\n",
       "      <th>2</th>\n",
       "      <td>3668-QPYBK</td>\n",
       "      <td>Month-to-month</td>\n",
       "      <td>Yes</td>\n",
       "      <td>Mailed check</td>\n",
       "      <td>53.85</td>\n",
       "      <td>108.15</td>\n",
       "      <td>5270400000000000</td>\n",
       "      <td>2019</td>\n",
       "      <td>0</td>\n",
       "    </tr>\n",
       "    <tr>\n",
       "      <th>3</th>\n",
       "      <td>7795-CFOCW</td>\n",
       "      <td>One year</td>\n",
       "      <td>No</td>\n",
       "      <td>Bank transfer (automatic)</td>\n",
       "      <td>42.30</td>\n",
       "      <td>1840.75</td>\n",
       "      <td>118454400000000000</td>\n",
       "      <td>2016</td>\n",
       "      <td>1</td>\n",
       "    </tr>\n",
       "    <tr>\n",
       "      <th>4</th>\n",
       "      <td>9237-HQITU</td>\n",
       "      <td>Month-to-month</td>\n",
       "      <td>Yes</td>\n",
       "      <td>Electronic check</td>\n",
       "      <td>70.70</td>\n",
       "      <td>151.65</td>\n",
       "      <td>5270400000000000</td>\n",
       "      <td>2019</td>\n",
       "      <td>0</td>\n",
       "    </tr>\n",
       "  </tbody>\n",
       "</table>\n",
       "</div>"
      ],
      "text/plain": [
       "   customerID            Type PaperlessBilling              PaymentMethod  \\\n",
       "0  7590-VHVEG  Month-to-month              Yes           Electronic check   \n",
       "1  5575-GNVDE        One year               No               Mailed check   \n",
       "2  3668-QPYBK  Month-to-month              Yes               Mailed check   \n",
       "3  7795-CFOCW        One year               No  Bank transfer (automatic)   \n",
       "4  9237-HQITU  Month-to-month              Yes           Electronic check   \n",
       "\n",
       "   MonthlyCharges  TotalCharges            LifeTime  BeginYear  Lost_client  \n",
       "0           29.85         29.85    2678400000000000       2020            1  \n",
       "1           56.95       1889.50   89510400000000000       2017            1  \n",
       "2           53.85        108.15    5270400000000000       2019            0  \n",
       "3           42.30       1840.75  118454400000000000       2016            1  \n",
       "4           70.70        151.65    5270400000000000       2019            0  "
      ]
     },
     "execution_count": 13,
     "metadata": {},
     "output_type": "execute_result"
    }
   ],
   "source": [
    "contracts.head()"
   ]
  },
  {
   "cell_type": "code",
   "execution_count": 14,
   "id": "0da7388e",
   "metadata": {},
   "outputs": [
    {
     "name": "stdout",
     "output_type": "stream",
     "text": [
      "Type\n",
      "Month-to-month    3875\n",
      "One year          1473\n",
      "Two year          1695\n",
      "Name: Type, dtype: int64\n",
      "\n",
      "PaperlessBilling\n",
      "No     2872\n",
      "Yes    4171\n",
      "Name: PaperlessBilling, dtype: int64\n",
      "\n",
      "PaymentMethod\n",
      "Bank transfer (automatic)    1544\n",
      "Credit card (automatic)      1522\n",
      "Electronic check             2365\n",
      "Mailed check                 1612\n",
      "Name: PaymentMethod, dtype: int64\n",
      "\n",
      "Lost_client\n",
      "0    1869\n",
      "1    5174\n",
      "Name: Lost_client, dtype: int64\n"
     ]
    }
   ],
   "source": [
    "#Посмотрим на баланс классов\n",
    "print(contracts.groupby(by='Type')['Type'].count())\n",
    "print()\n",
    "print(contracts.groupby(by='PaperlessBilling')['PaperlessBilling'].count())\n",
    "print()\n",
    "print(contracts.groupby(by='PaymentMethod')['PaymentMethod'].count())\n",
    "print()\n",
    "print(contracts.groupby(by='Lost_client')['Lost_client'].count())"
   ]
  },
  {
   "cell_type": "code",
   "execution_count": 15,
   "id": "2f9affdd",
   "metadata": {},
   "outputs": [
    {
     "data": {
      "text/html": [
       "<div>\n",
       "<style scoped>\n",
       "    .dataframe tbody tr th:only-of-type {\n",
       "        vertical-align: middle;\n",
       "    }\n",
       "\n",
       "    .dataframe tbody tr th {\n",
       "        vertical-align: top;\n",
       "    }\n",
       "\n",
       "    .dataframe thead th {\n",
       "        text-align: right;\n",
       "    }\n",
       "</style>\n",
       "<table border=\"1\" class=\"dataframe\">\n",
       "  <thead>\n",
       "    <tr style=\"text-align: right;\">\n",
       "      <th></th>\n",
       "      <th>MonthlyCharges</th>\n",
       "      <th>TotalCharges</th>\n",
       "      <th>LifeTime</th>\n",
       "      <th>BeginYear</th>\n",
       "      <th>Lost_client</th>\n",
       "    </tr>\n",
       "  </thead>\n",
       "  <tbody>\n",
       "    <tr>\n",
       "      <th>count</th>\n",
       "      <td>7043.000000</td>\n",
       "      <td>7032.000000</td>\n",
       "      <td>7.043000e+03</td>\n",
       "      <td>7043.000000</td>\n",
       "      <td>7043.000000</td>\n",
       "    </tr>\n",
       "    <tr>\n",
       "      <th>mean</th>\n",
       "      <td>64.761692</td>\n",
       "      <td>2283.300441</td>\n",
       "      <td>8.519007e+16</td>\n",
       "      <td>2016.878603</td>\n",
       "      <td>0.734630</td>\n",
       "    </tr>\n",
       "    <tr>\n",
       "      <th>std</th>\n",
       "      <td>30.090047</td>\n",
       "      <td>2266.771362</td>\n",
       "      <td>6.459159e+16</td>\n",
       "      <td>1.970573</td>\n",
       "      <td>0.441561</td>\n",
       "    </tr>\n",
       "    <tr>\n",
       "      <th>min</th>\n",
       "      <td>18.250000</td>\n",
       "      <td>18.800000</td>\n",
       "      <td>0.000000e+00</td>\n",
       "      <td>2013.000000</td>\n",
       "      <td>0.000000</td>\n",
       "    </tr>\n",
       "    <tr>\n",
       "      <th>25%</th>\n",
       "      <td>35.500000</td>\n",
       "      <td>401.450000</td>\n",
       "      <td>2.358720e+16</td>\n",
       "      <td>2015.000000</td>\n",
       "      <td>0.000000</td>\n",
       "    </tr>\n",
       "    <tr>\n",
       "      <th>50%</th>\n",
       "      <td>70.350000</td>\n",
       "      <td>1397.475000</td>\n",
       "      <td>7.629120e+16</td>\n",
       "      <td>2017.000000</td>\n",
       "      <td>1.000000</td>\n",
       "    </tr>\n",
       "    <tr>\n",
       "      <th>75%</th>\n",
       "      <td>89.850000</td>\n",
       "      <td>3794.737500</td>\n",
       "      <td>1.448064e+17</td>\n",
       "      <td>2019.000000</td>\n",
       "      <td>1.000000</td>\n",
       "    </tr>\n",
       "    <tr>\n",
       "      <th>max</th>\n",
       "      <td>118.750000</td>\n",
       "      <td>8684.800000</td>\n",
       "      <td>1.893024e+17</td>\n",
       "      <td>2020.000000</td>\n",
       "      <td>1.000000</td>\n",
       "    </tr>\n",
       "  </tbody>\n",
       "</table>\n",
       "</div>"
      ],
      "text/plain": [
       "       MonthlyCharges  TotalCharges      LifeTime    BeginYear  Lost_client\n",
       "count     7043.000000   7032.000000  7.043000e+03  7043.000000  7043.000000\n",
       "mean        64.761692   2283.300441  8.519007e+16  2016.878603     0.734630\n",
       "std         30.090047   2266.771362  6.459159e+16     1.970573     0.441561\n",
       "min         18.250000     18.800000  0.000000e+00  2013.000000     0.000000\n",
       "25%         35.500000    401.450000  2.358720e+16  2015.000000     0.000000\n",
       "50%         70.350000   1397.475000  7.629120e+16  2017.000000     1.000000\n",
       "75%         89.850000   3794.737500  1.448064e+17  2019.000000     1.000000\n",
       "max        118.750000   8684.800000  1.893024e+17  2020.000000     1.000000"
      ]
     },
     "execution_count": 15,
     "metadata": {},
     "output_type": "execute_result"
    }
   ],
   "source": [
    "#Посмотрим на распределение данных\n",
    "contracts.describe()"
   ]
  },
  {
   "cell_type": "code",
   "execution_count": 16,
   "id": "371aab06",
   "metadata": {},
   "outputs": [
    {
     "data": {
      "image/png": "[encoded data removed]",
      "text/plain": [
       "<Figure size 1080x360 with 1 Axes>"
      ]
     },
     "metadata": {
      "needs_background": "light"
     },
     "output_type": "display_data"
    },
    {
     "data": {
      "image/png": "[encoded data removed]",
      "text/plain": [
       "<Figure size 1080x360 with 1 Axes>"
      ]
     },
     "metadata": {
      "needs_background": "light"
     },
     "output_type": "display_data"
    }
   ],
   "source": [
    "contracts.boxplot(column=['MonthlyCharges'],figsize=(15, 5))\n",
    "plt.show()\n",
    "contracts.boxplot(column=['TotalCharges'],figsize=(15, 5))\n",
    "plt.show()"
   ]
  },
  {
   "cell_type": "code",
   "execution_count": 17,
   "id": "4c98ad4d",
   "metadata": {},
   "outputs": [
    {
     "name": "stdout",
     "output_type": "stream",
     "text": [
      "not numeric type customerID\n",
      "not numeric type Type\n",
      "not numeric type PaperlessBilling\n",
      "not numeric type PaymentMethod\n"
     ]
    },
    {
     "data": {
      "image/png": "[encoded data removed]",
      "text/plain": [
       "<Figure size 1080x360 with 1 Axes>"
      ]
     },
     "metadata": {
      "needs_background": "light"
     },
     "output_type": "display_data"
    },
    {
     "data": {
      "image/png": "[encoded data removed]",
      "text/plain": [
       "<Figure size 1080x360 with 1 Axes>"
      ]
     },
     "metadata": {
      "needs_background": "light"
     },
     "output_type": "display_data"
    },
    {
     "data": {
      "image/png": "[encoded data removed]",
      "text/plain": [
       "<Figure size 1080x360 with 1 Axes>"
      ]
     },
     "metadata": {
      "needs_background": "light"
     },
     "output_type": "display_data"
    },
    {
     "data": {
      "image/png": "[encoded data removed]",
      "text/plain": [
       "<Figure size 1080x360 with 1 Axes>"
      ]
     },
     "metadata": {
      "needs_background": "light"
     },
     "output_type": "display_data"
    },
    {
     "data": {
      "image/png": "[encoded data removed]",
      "text/plain": [
       "<Figure size 1080x360 with 1 Axes>"
      ]
     },
     "metadata": {
      "needs_background": "light"
     },
     "output_type": "display_data"
    }
   ],
   "source": [
    "for i in contracts:\n",
    "    try:\n",
    "        contracts.plot(y = i,title = i,kind = 'hist', bins = 50,figsize=(15, 5))\n",
    "    except:\n",
    "        print('not numeric type',i)"
   ]
  },
  {
   "cell_type": "code",
   "execution_count": 18,
   "id": "a1bcc9e3",
   "metadata": {},
   "outputs": [
    {
     "data": {
      "text/plain": [
       "<AxesSubplot:title={'center':'MonthlyCharges<22'}, ylabel='Frequency'>"
      ]
     },
     "execution_count": 18,
     "metadata": {},
     "output_type": "execute_result"
    },
    {
     "data": {
      "image/png": "[encoded data removed]",
      "text/plain": [
       "<Figure size 1080x360 with 1 Axes>"
      ]
     },
     "metadata": {
      "needs_background": "light"
     },
     "output_type": "display_data"
    }
   ],
   "source": [
    "#посмотрим внимательней на структуру пика околонулевых платежей\n",
    "contracts['MonthlyCharges'].loc[contracts['MonthlyCharges']<22].plot(title = 'MonthlyCharges<22',kind = 'hist', bins = 50,figsize=(15, 5))"
   ]
  },
  {
   "cell_type": "markdown",
   "id": "2f91866a",
   "metadata": {},
   "source": [
    "Выводы по данным  о договорах:\n",
    "- Представлена информация по 7 тыс. контрактов уникальных клиентов. 73% записей - ушедшие клиенты\n",
    "- 1,2 тыс клиентов (17%) заплатили оператору около 20 евро - видимо, это самый популярный и дешевый тариф.\n",
    "- 55% клиентов предпочитают ежемесячную оплату. Четверть - заключили контракт сразу на 2 года.\n",
    "- 59% клинтов не запрашивают чеки об оплате.\n",
    "- 34% пользователей оплачивают электронными чеками. 44% - автоматическими банковскими транзакциями (картой или переводом), 23% - через Mailed check\n",
    "- Средний месячный доход от клиента - 65 евро, минимальный - 18 евро, медиана - 70 евро, а максимальный - 119 евро\n",
    "- Общие доходы от клиента варьируются от 19 евро за весь период до 8685 уе с медианой в 1395 евро\n",
    "- Средняя продолжительность жизни клиента - 986 дней (почти 3 года), медиана - 883 дня (2,5 года). Самый лояльный клиент - провел с оператором целых 6 лет"
   ]
  },
  {
   "cell_type": "code",
   "execution_count": 19,
   "id": "8c3992c1",
   "metadata": {},
   "outputs": [
    {
     "data": {
      "text/html": [
       "<div>\n",
       "<style scoped>\n",
       "    .dataframe tbody tr th:only-of-type {\n",
       "        vertical-align: middle;\n",
       "    }\n",
       "\n",
       "    .dataframe tbody tr th {\n",
       "        vertical-align: top;\n",
       "    }\n",
       "\n",
       "    .dataframe thead th {\n",
       "        text-align: right;\n",
       "    }\n",
       "</style>\n",
       "<table border=\"1\" class=\"dataframe\">\n",
       "  <thead>\n",
       "    <tr style=\"text-align: right;\">\n",
       "      <th></th>\n",
       "      <th>customerID</th>\n",
       "      <th>gender</th>\n",
       "      <th>SeniorCitizen</th>\n",
       "      <th>Partner</th>\n",
       "      <th>Dependents</th>\n",
       "    </tr>\n",
       "  </thead>\n",
       "  <tbody>\n",
       "    <tr>\n",
       "      <th>0</th>\n",
       "      <td>7590-VHVEG</td>\n",
       "      <td>Female</td>\n",
       "      <td>0</td>\n",
       "      <td>Yes</td>\n",
       "      <td>No</td>\n",
       "    </tr>\n",
       "    <tr>\n",
       "      <th>1</th>\n",
       "      <td>5575-GNVDE</td>\n",
       "      <td>Male</td>\n",
       "      <td>0</td>\n",
       "      <td>No</td>\n",
       "      <td>No</td>\n",
       "    </tr>\n",
       "    <tr>\n",
       "      <th>2</th>\n",
       "      <td>3668-QPYBK</td>\n",
       "      <td>Male</td>\n",
       "      <td>0</td>\n",
       "      <td>No</td>\n",
       "      <td>No</td>\n",
       "    </tr>\n",
       "    <tr>\n",
       "      <th>3</th>\n",
       "      <td>7795-CFOCW</td>\n",
       "      <td>Male</td>\n",
       "      <td>0</td>\n",
       "      <td>No</td>\n",
       "      <td>No</td>\n",
       "    </tr>\n",
       "    <tr>\n",
       "      <th>4</th>\n",
       "      <td>9237-HQITU</td>\n",
       "      <td>Female</td>\n",
       "      <td>0</td>\n",
       "      <td>No</td>\n",
       "      <td>No</td>\n",
       "    </tr>\n",
       "  </tbody>\n",
       "</table>\n",
       "</div>"
      ],
      "text/plain": [
       "   customerID  gender  SeniorCitizen Partner Dependents\n",
       "0  7590-VHVEG  Female              0     Yes         No\n",
       "1  5575-GNVDE    Male              0      No         No\n",
       "2  3668-QPYBK    Male              0      No         No\n",
       "3  7795-CFOCW    Male              0      No         No\n",
       "4  9237-HQITU  Female              0      No         No"
      ]
     },
     "execution_count": 19,
     "metadata": {},
     "output_type": "execute_result"
    }
   ],
   "source": [
    "clients.head()"
   ]
  },
  {
   "cell_type": "code",
   "execution_count": 20,
   "id": "0a23f51f",
   "metadata": {},
   "outputs": [
    {
     "name": "stdout",
     "output_type": "stream",
     "text": [
      "7043\n"
     ]
    }
   ],
   "source": [
    "#посчитаем уникальных клиентов\n",
    "print(len(pd.unique(clients['customerID'])))"
   ]
  },
  {
   "cell_type": "code",
   "execution_count": 21,
   "id": "3145b5e5",
   "metadata": {},
   "outputs": [
    {
     "data": {
      "text/plain": [
       "0"
      ]
     },
     "execution_count": 21,
     "metadata": {},
     "output_type": "execute_result"
    }
   ],
   "source": [
    "#посчитаем дубликаты\n",
    "clients.duplicated().sum()"
   ]
  },
  {
   "cell_type": "code",
   "execution_count": 22,
   "id": "96515983",
   "metadata": {},
   "outputs": [
    {
     "name": "stdout",
     "output_type": "stream",
     "text": [
      "<class 'pandas.core.frame.DataFrame'>\n",
      "RangeIndex: 7043 entries, 0 to 7042\n",
      "Data columns (total 5 columns):\n",
      " #   Column         Non-Null Count  Dtype \n",
      "---  ------         --------------  ----- \n",
      " 0   customerID     7043 non-null   object\n",
      " 1   gender         7043 non-null   object\n",
      " 2   SeniorCitizen  7043 non-null   int64 \n",
      " 3   Partner        7043 non-null   object\n",
      " 4   Dependents     7043 non-null   object\n",
      "dtypes: int64(1), object(4)\n",
      "memory usage: 275.2+ KB\n"
     ]
    }
   ],
   "source": [
    "clients.info()"
   ]
  },
  {
   "cell_type": "code",
   "execution_count": 23,
   "id": "40fd1f72",
   "metadata": {},
   "outputs": [
    {
     "name": "stdout",
     "output_type": "stream",
     "text": [
      "gender\n",
      "Female    3488\n",
      "Male      3555\n",
      "Name: gender, dtype: int64\n",
      "\n",
      "SeniorCitizen\n",
      "0    5901\n",
      "1    1142\n",
      "Name: SeniorCitizen, dtype: int64\n",
      "\n",
      "Partner\n",
      "No     3641\n",
      "Yes    3402\n",
      "Name: Partner, dtype: int64\n",
      "\n",
      "Dependents\n",
      "No     4933\n",
      "Yes    2110\n",
      "Name: Dependents, dtype: int64\n"
     ]
    }
   ],
   "source": [
    "#Посмотрим на баланс классов\n",
    "print(clients.groupby(by='gender')['gender'].count())\n",
    "print()\n",
    "print(clients.groupby(by='SeniorCitizen')['SeniorCitizen'].count())\n",
    "print()\n",
    "print(clients.groupby(by='Partner')['Partner'].count())\n",
    "print()\n",
    "print(clients.groupby(by='Dependents')['Dependents'].count())"
   ]
  },
  {
   "cell_type": "markdown",
   "id": "e9ce857e",
   "metadata": {},
   "source": [
    "Выводы по данным  о клиентах:\n",
    "- Представлена информация по 7 тыс. уникальных клиентов, все данные - текстовые\n",
    "- Равное распределение по гендерному признаку (50% мужчин и женщин)\n",
    "- 16% клиентов - пенсионеры\n",
    "- 52% клиентов имеют партнера, 30% - иждевенцев (вероятно, дети)"
   ]
  },
  {
   "cell_type": "code",
   "execution_count": 24,
   "id": "bf305e6e",
   "metadata": {},
   "outputs": [
    {
     "data": {
      "text/html": [
       "<div>\n",
       "<style scoped>\n",
       "    .dataframe tbody tr th:only-of-type {\n",
       "        vertical-align: middle;\n",
       "    }\n",
       "\n",
       "    .dataframe tbody tr th {\n",
       "        vertical-align: top;\n",
       "    }\n",
       "\n",
       "    .dataframe thead th {\n",
       "        text-align: right;\n",
       "    }\n",
       "</style>\n",
       "<table border=\"1\" class=\"dataframe\">\n",
       "  <thead>\n",
       "    <tr style=\"text-align: right;\">\n",
       "      <th></th>\n",
       "      <th>customerID</th>\n",
       "      <th>InternetService</th>\n",
       "      <th>OnlineSecurity</th>\n",
       "      <th>OnlineBackup</th>\n",
       "      <th>DeviceProtection</th>\n",
       "      <th>TechSupport</th>\n",
       "      <th>StreamingTV</th>\n",
       "      <th>StreamingMovies</th>\n",
       "    </tr>\n",
       "  </thead>\n",
       "  <tbody>\n",
       "    <tr>\n",
       "      <th>0</th>\n",
       "      <td>7590-VHVEG</td>\n",
       "      <td>DSL</td>\n",
       "      <td>No</td>\n",
       "      <td>Yes</td>\n",
       "      <td>No</td>\n",
       "      <td>No</td>\n",
       "      <td>No</td>\n",
       "      <td>No</td>\n",
       "    </tr>\n",
       "    <tr>\n",
       "      <th>1</th>\n",
       "      <td>5575-GNVDE</td>\n",
       "      <td>DSL</td>\n",
       "      <td>Yes</td>\n",
       "      <td>No</td>\n",
       "      <td>Yes</td>\n",
       "      <td>No</td>\n",
       "      <td>No</td>\n",
       "      <td>No</td>\n",
       "    </tr>\n",
       "    <tr>\n",
       "      <th>2</th>\n",
       "      <td>3668-QPYBK</td>\n",
       "      <td>DSL</td>\n",
       "      <td>Yes</td>\n",
       "      <td>Yes</td>\n",
       "      <td>No</td>\n",
       "      <td>No</td>\n",
       "      <td>No</td>\n",
       "      <td>No</td>\n",
       "    </tr>\n",
       "    <tr>\n",
       "      <th>3</th>\n",
       "      <td>7795-CFOCW</td>\n",
       "      <td>DSL</td>\n",
       "      <td>Yes</td>\n",
       "      <td>No</td>\n",
       "      <td>Yes</td>\n",
       "      <td>Yes</td>\n",
       "      <td>No</td>\n",
       "      <td>No</td>\n",
       "    </tr>\n",
       "    <tr>\n",
       "      <th>4</th>\n",
       "      <td>9237-HQITU</td>\n",
       "      <td>Fiber optic</td>\n",
       "      <td>No</td>\n",
       "      <td>No</td>\n",
       "      <td>No</td>\n",
       "      <td>No</td>\n",
       "      <td>No</td>\n",
       "      <td>No</td>\n",
       "    </tr>\n",
       "  </tbody>\n",
       "</table>\n",
       "</div>"
      ],
      "text/plain": [
       "   customerID InternetService OnlineSecurity OnlineBackup DeviceProtection  \\\n",
       "0  7590-VHVEG             DSL             No          Yes               No   \n",
       "1  5575-GNVDE             DSL            Yes           No              Yes   \n",
       "2  3668-QPYBK             DSL            Yes          Yes               No   \n",
       "3  7795-CFOCW             DSL            Yes           No              Yes   \n",
       "4  9237-HQITU     Fiber optic             No           No               No   \n",
       "\n",
       "  TechSupport StreamingTV StreamingMovies  \n",
       "0          No          No              No  \n",
       "1          No          No              No  \n",
       "2          No          No              No  \n",
       "3         Yes          No              No  \n",
       "4          No          No              No  "
      ]
     },
     "execution_count": 24,
     "metadata": {},
     "output_type": "execute_result"
    }
   ],
   "source": [
    "inet_services.head()"
   ]
  },
  {
   "cell_type": "code",
   "execution_count": 25,
   "id": "b4c40565",
   "metadata": {},
   "outputs": [
    {
     "data": {
      "text/plain": [
       "0"
      ]
     },
     "execution_count": 25,
     "metadata": {},
     "output_type": "execute_result"
    }
   ],
   "source": [
    "#посчитаем дубликаты\n",
    "inet_services.duplicated().sum()"
   ]
  },
  {
   "cell_type": "code",
   "execution_count": 26,
   "id": "cf49815a",
   "metadata": {},
   "outputs": [
    {
     "name": "stdout",
     "output_type": "stream",
     "text": [
      "<class 'pandas.core.frame.DataFrame'>\n",
      "RangeIndex: 5517 entries, 0 to 5516\n",
      "Data columns (total 8 columns):\n",
      " #   Column            Non-Null Count  Dtype \n",
      "---  ------            --------------  ----- \n",
      " 0   customerID        5517 non-null   object\n",
      " 1   InternetService   5517 non-null   object\n",
      " 2   OnlineSecurity    5517 non-null   object\n",
      " 3   OnlineBackup      5517 non-null   object\n",
      " 4   DeviceProtection  5517 non-null   object\n",
      " 5   TechSupport       5517 non-null   object\n",
      " 6   StreamingTV       5517 non-null   object\n",
      " 7   StreamingMovies   5517 non-null   object\n",
      "dtypes: object(8)\n",
      "memory usage: 344.9+ KB\n"
     ]
    }
   ],
   "source": [
    "inet_services.info()"
   ]
  },
  {
   "cell_type": "code",
   "execution_count": 27,
   "id": "88224517",
   "metadata": {},
   "outputs": [
    {
     "name": "stdout",
     "output_type": "stream",
     "text": [
      "InternetService\n",
      "DSL            2421\n",
      "Fiber optic    3096\n",
      "Name: InternetService, dtype: int64\n",
      "\n",
      "OnlineSecurity\n",
      "No     3498\n",
      "Yes    2019\n",
      "Name: OnlineSecurity, dtype: int64\n",
      "\n",
      "OnlineBackup\n",
      "No     3088\n",
      "Yes    2429\n",
      "Name: OnlineBackup, dtype: int64\n",
      "\n",
      "DeviceProtection\n",
      "No     3095\n",
      "Yes    2422\n",
      "Name: DeviceProtection, dtype: int64\n",
      "\n",
      "TechSupport\n",
      "No     3473\n",
      "Yes    2044\n",
      "Name: TechSupport, dtype: int64\n",
      "\n",
      "StreamingTV\n",
      "No     2810\n",
      "Yes    2707\n",
      "Name: StreamingTV, dtype: int64\n",
      "\n",
      "StreamingMovies\n",
      "No     2785\n",
      "Yes    2732\n",
      "Name: StreamingMovies, dtype: int64\n",
      "\n"
     ]
    }
   ],
   "source": [
    "for i in inet_services:\n",
    "    if i not in 'customerID':\n",
    "        print(inet_services.groupby(by=i)[i].count())\n",
    "        print()"
   ]
  },
  {
   "cell_type": "markdown",
   "id": "9423ce93",
   "metadata": {},
   "source": [
    "Выводы по данным об интернет-сервисах:\n",
    "- Представлена информация по 5,5 тыс. уникальных клиентов, все данные - текстовые\n",
    "- Подключение к интернету через оптоволокно у 56% пользователей, 44% - через телефонную сеть DSL\n",
    "- Блокировкой небезопасных сайтов пользуются 37% клиентов, антивирусом - 44%\n",
    "- Облачное хранилище используют 44% пользователей\n",
    "- Выделенная линия техподдержки есть у 37% абонентов\n",
    "- Стриминговое ТВ и каталог фильмов смотрят 49% и 50% клиентов"
   ]
  },
  {
   "cell_type": "code",
   "execution_count": 28,
   "id": "3bc18f0f",
   "metadata": {},
   "outputs": [
    {
     "data": {
      "text/html": [
       "<div>\n",
       "<style scoped>\n",
       "    .dataframe tbody tr th:only-of-type {\n",
       "        vertical-align: middle;\n",
       "    }\n",
       "\n",
       "    .dataframe tbody tr th {\n",
       "        vertical-align: top;\n",
       "    }\n",
       "\n",
       "    .dataframe thead th {\n",
       "        text-align: right;\n",
       "    }\n",
       "</style>\n",
       "<table border=\"1\" class=\"dataframe\">\n",
       "  <thead>\n",
       "    <tr style=\"text-align: right;\">\n",
       "      <th></th>\n",
       "      <th>customerID</th>\n",
       "      <th>MultipleLines</th>\n",
       "    </tr>\n",
       "  </thead>\n",
       "  <tbody>\n",
       "    <tr>\n",
       "      <th>0</th>\n",
       "      <td>5575-GNVDE</td>\n",
       "      <td>No</td>\n",
       "    </tr>\n",
       "    <tr>\n",
       "      <th>1</th>\n",
       "      <td>3668-QPYBK</td>\n",
       "      <td>No</td>\n",
       "    </tr>\n",
       "    <tr>\n",
       "      <th>2</th>\n",
       "      <td>9237-HQITU</td>\n",
       "      <td>No</td>\n",
       "    </tr>\n",
       "    <tr>\n",
       "      <th>3</th>\n",
       "      <td>9305-CDSKC</td>\n",
       "      <td>Yes</td>\n",
       "    </tr>\n",
       "    <tr>\n",
       "      <th>4</th>\n",
       "      <td>1452-KIOVK</td>\n",
       "      <td>Yes</td>\n",
       "    </tr>\n",
       "  </tbody>\n",
       "</table>\n",
       "</div>"
      ],
      "text/plain": [
       "   customerID MultipleLines\n",
       "0  5575-GNVDE            No\n",
       "1  3668-QPYBK            No\n",
       "2  9237-HQITU            No\n",
       "3  9305-CDSKC           Yes\n",
       "4  1452-KIOVK           Yes"
      ]
     },
     "execution_count": 28,
     "metadata": {},
     "output_type": "execute_result"
    }
   ],
   "source": [
    "phone_services.head()"
   ]
  },
  {
   "cell_type": "code",
   "execution_count": 29,
   "id": "3704e727",
   "metadata": {},
   "outputs": [
    {
     "data": {
      "text/plain": [
       "0"
      ]
     },
     "execution_count": 29,
     "metadata": {},
     "output_type": "execute_result"
    }
   ],
   "source": [
    "#посчитаем дубликаты\n",
    "phone_services.duplicated().sum()"
   ]
  },
  {
   "cell_type": "code",
   "execution_count": 30,
   "id": "2c2fe024",
   "metadata": {},
   "outputs": [
    {
     "name": "stdout",
     "output_type": "stream",
     "text": [
      "<class 'pandas.core.frame.DataFrame'>\n",
      "RangeIndex: 6361 entries, 0 to 6360\n",
      "Data columns (total 2 columns):\n",
      " #   Column         Non-Null Count  Dtype \n",
      "---  ------         --------------  ----- \n",
      " 0   customerID     6361 non-null   object\n",
      " 1   MultipleLines  6361 non-null   object\n",
      "dtypes: object(2)\n",
      "memory usage: 99.5+ KB\n"
     ]
    }
   ],
   "source": [
    "phone_services.info()"
   ]
  },
  {
   "cell_type": "code",
   "execution_count": 31,
   "id": "6151cdc0",
   "metadata": {
    "scrolled": true
   },
   "outputs": [
    {
     "name": "stdout",
     "output_type": "stream",
     "text": [
      "MultipleLines\n",
      "No     3390\n",
      "Yes    2971\n",
      "Name: MultipleLines, dtype: int64\n"
     ]
    }
   ],
   "source": [
    "print(phone_services.groupby(by='MultipleLines')['MultipleLines'].count())"
   ]
  },
  {
   "cell_type": "markdown",
   "id": "f6d0efea",
   "metadata": {},
   "source": [
    "Выводы по данным о телефонных-сервисах:\n",
    "- Представлена информация по 6,4 тыс. уникальных клиентов, данные - текстовые\n",
    "- 47% пользователей подключили телефон к нескольким линиям одновременно "
   ]
  },
  {
   "cell_type": "markdown",
   "id": "5b54a9cd",
   "metadata": {},
   "source": [
    "### Объединение данных и подготовка к использованию в моделях"
   ]
  },
  {
   "cell_type": "markdown",
   "id": "8569f4b2",
   "metadata": {},
   "source": [
    "Объединим данные по customerID и обработаем образовавшиеся пропуски. Удалим лишние столбцы. \n",
    "\n",
    "\n",
    "Дополнительно - закодируем текстовые столбцы методом ОНЕ. \n",
    "В результате получим два варианта данных для моделей - с кодированием и без."
   ]
  },
  {
   "cell_type": "code",
   "execution_count": 32,
   "id": "9cb58e1c",
   "metadata": {},
   "outputs": [
    {
     "data": {
      "text/html": [
       "<div>\n",
       "<style scoped>\n",
       "    .dataframe tbody tr th:only-of-type {\n",
       "        vertical-align: middle;\n",
       "    }\n",
       "\n",
       "    .dataframe tbody tr th {\n",
       "        vertical-align: top;\n",
       "    }\n",
       "\n",
       "    .dataframe thead th {\n",
       "        text-align: right;\n",
       "    }\n",
       "</style>\n",
       "<table border=\"1\" class=\"dataframe\">\n",
       "  <thead>\n",
       "    <tr style=\"text-align: right;\">\n",
       "      <th></th>\n",
       "      <th>customerID</th>\n",
       "      <th>Type</th>\n",
       "      <th>PaperlessBilling</th>\n",
       "      <th>PaymentMethod</th>\n",
       "      <th>MonthlyCharges</th>\n",
       "      <th>TotalCharges</th>\n",
       "      <th>LifeTime</th>\n",
       "      <th>BeginYear</th>\n",
       "      <th>Lost_client</th>\n",
       "      <th>gender</th>\n",
       "      <th>...</th>\n",
       "      <th>Partner</th>\n",
       "      <th>Dependents</th>\n",
       "      <th>InternetService</th>\n",
       "      <th>OnlineSecurity</th>\n",
       "      <th>OnlineBackup</th>\n",
       "      <th>DeviceProtection</th>\n",
       "      <th>TechSupport</th>\n",
       "      <th>StreamingTV</th>\n",
       "      <th>StreamingMovies</th>\n",
       "      <th>MultipleLines</th>\n",
       "    </tr>\n",
       "  </thead>\n",
       "  <tbody>\n",
       "    <tr>\n",
       "      <th>0</th>\n",
       "      <td>7590-VHVEG</td>\n",
       "      <td>Month-to-month</td>\n",
       "      <td>Yes</td>\n",
       "      <td>Electronic check</td>\n",
       "      <td>29.85</td>\n",
       "      <td>29.85</td>\n",
       "      <td>2678400000000000</td>\n",
       "      <td>2020</td>\n",
       "      <td>1</td>\n",
       "      <td>Female</td>\n",
       "      <td>...</td>\n",
       "      <td>Yes</td>\n",
       "      <td>No</td>\n",
       "      <td>DSL</td>\n",
       "      <td>No</td>\n",
       "      <td>Yes</td>\n",
       "      <td>No</td>\n",
       "      <td>No</td>\n",
       "      <td>No</td>\n",
       "      <td>No</td>\n",
       "      <td>NaN</td>\n",
       "    </tr>\n",
       "    <tr>\n",
       "      <th>1</th>\n",
       "      <td>5575-GNVDE</td>\n",
       "      <td>One year</td>\n",
       "      <td>No</td>\n",
       "      <td>Mailed check</td>\n",
       "      <td>56.95</td>\n",
       "      <td>1889.50</td>\n",
       "      <td>89510400000000000</td>\n",
       "      <td>2017</td>\n",
       "      <td>1</td>\n",
       "      <td>Male</td>\n",
       "      <td>...</td>\n",
       "      <td>No</td>\n",
       "      <td>No</td>\n",
       "      <td>DSL</td>\n",
       "      <td>Yes</td>\n",
       "      <td>No</td>\n",
       "      <td>Yes</td>\n",
       "      <td>No</td>\n",
       "      <td>No</td>\n",
       "      <td>No</td>\n",
       "      <td>No</td>\n",
       "    </tr>\n",
       "    <tr>\n",
       "      <th>2</th>\n",
       "      <td>3668-QPYBK</td>\n",
       "      <td>Month-to-month</td>\n",
       "      <td>Yes</td>\n",
       "      <td>Mailed check</td>\n",
       "      <td>53.85</td>\n",
       "      <td>108.15</td>\n",
       "      <td>5270400000000000</td>\n",
       "      <td>2019</td>\n",
       "      <td>0</td>\n",
       "      <td>Male</td>\n",
       "      <td>...</td>\n",
       "      <td>No</td>\n",
       "      <td>No</td>\n",
       "      <td>DSL</td>\n",
       "      <td>Yes</td>\n",
       "      <td>Yes</td>\n",
       "      <td>No</td>\n",
       "      <td>No</td>\n",
       "      <td>No</td>\n",
       "      <td>No</td>\n",
       "      <td>No</td>\n",
       "    </tr>\n",
       "    <tr>\n",
       "      <th>3</th>\n",
       "      <td>7795-CFOCW</td>\n",
       "      <td>One year</td>\n",
       "      <td>No</td>\n",
       "      <td>Bank transfer (automatic)</td>\n",
       "      <td>42.30</td>\n",
       "      <td>1840.75</td>\n",
       "      <td>118454400000000000</td>\n",
       "      <td>2016</td>\n",
       "      <td>1</td>\n",
       "      <td>Male</td>\n",
       "      <td>...</td>\n",
       "      <td>No</td>\n",
       "      <td>No</td>\n",
       "      <td>DSL</td>\n",
       "      <td>Yes</td>\n",
       "      <td>No</td>\n",
       "      <td>Yes</td>\n",
       "      <td>Yes</td>\n",
       "      <td>No</td>\n",
       "      <td>No</td>\n",
       "      <td>NaN</td>\n",
       "    </tr>\n",
       "    <tr>\n",
       "      <th>4</th>\n",
       "      <td>9237-HQITU</td>\n",
       "      <td>Month-to-month</td>\n",
       "      <td>Yes</td>\n",
       "      <td>Electronic check</td>\n",
       "      <td>70.70</td>\n",
       "      <td>151.65</td>\n",
       "      <td>5270400000000000</td>\n",
       "      <td>2019</td>\n",
       "      <td>0</td>\n",
       "      <td>Female</td>\n",
       "      <td>...</td>\n",
       "      <td>No</td>\n",
       "      <td>No</td>\n",
       "      <td>Fiber optic</td>\n",
       "      <td>No</td>\n",
       "      <td>No</td>\n",
       "      <td>No</td>\n",
       "      <td>No</td>\n",
       "      <td>No</td>\n",
       "      <td>No</td>\n",
       "      <td>No</td>\n",
       "    </tr>\n",
       "  </tbody>\n",
       "</table>\n",
       "<p>5 rows × 21 columns</p>\n",
       "</div>"
      ],
      "text/plain": [
       "   customerID            Type PaperlessBilling              PaymentMethod  \\\n",
       "0  7590-VHVEG  Month-to-month              Yes           Electronic check   \n",
       "1  5575-GNVDE        One year               No               Mailed check   \n",
       "2  3668-QPYBK  Month-to-month              Yes               Mailed check   \n",
       "3  7795-CFOCW        One year               No  Bank transfer (automatic)   \n",
       "4  9237-HQITU  Month-to-month              Yes           Electronic check   \n",
       "\n",
       "   MonthlyCharges  TotalCharges            LifeTime  BeginYear  Lost_client  \\\n",
       "0           29.85         29.85    2678400000000000       2020            1   \n",
       "1           56.95       1889.50   89510400000000000       2017            1   \n",
       "2           53.85        108.15    5270400000000000       2019            0   \n",
       "3           42.30       1840.75  118454400000000000       2016            1   \n",
       "4           70.70        151.65    5270400000000000       2019            0   \n",
       "\n",
       "   gender  ...  Partner Dependents InternetService OnlineSecurity  \\\n",
       "0  Female  ...      Yes         No             DSL             No   \n",
       "1    Male  ...       No         No             DSL            Yes   \n",
       "2    Male  ...       No         No             DSL            Yes   \n",
       "3    Male  ...       No         No             DSL            Yes   \n",
       "4  Female  ...       No         No     Fiber optic             No   \n",
       "\n",
       "  OnlineBackup DeviceProtection TechSupport StreamingTV StreamingMovies  \\\n",
       "0          Yes               No          No          No              No   \n",
       "1           No              Yes          No          No              No   \n",
       "2          Yes               No          No          No              No   \n",
       "3           No              Yes         Yes          No              No   \n",
       "4           No               No          No          No              No   \n",
       "\n",
       "  MultipleLines  \n",
       "0           NaN  \n",
       "1            No  \n",
       "2            No  \n",
       "3           NaN  \n",
       "4            No  \n",
       "\n",
       "[5 rows x 21 columns]"
      ]
     },
     "execution_count": 32,
     "metadata": {},
     "output_type": "execute_result"
    }
   ],
   "source": [
    "data = contracts.merge(clients, on='customerID', how='outer')\n",
    "data = data.merge(inet_services, on='customerID', how='outer')\n",
    "data = data.merge(phone_services, on='customerID', how='outer')\n",
    "data.head()"
   ]
  },
  {
   "cell_type": "code",
   "execution_count": 33,
   "id": "6c3423d5",
   "metadata": {},
   "outputs": [],
   "source": [
    "#Обработаем пропуски после объединения\n",
    "data['MultipleLines'] = data['MultipleLines'].fillna('No')\n",
    "\n",
    "data['InternetService'] = data['InternetService'].fillna('No')\n",
    "data['OnlineSecurity'] = data['OnlineSecurity'].fillna('No')\n",
    "data['OnlineBackup'] = data['OnlineBackup'].fillna('No')\n",
    "data['DeviceProtection'] = data['DeviceProtection'].fillna('No')\n",
    "data['TechSupport'] = data['TechSupport'].fillna('No')\n",
    "data['StreamingTV'] = data['StreamingTV'].fillna('No')\n",
    "data['StreamingMovies'] = data['StreamingMovies'].fillna('No')\n",
    "\n",
    "data['StreamingMovies'] = data['StreamingMovies'].fillna('No')\n",
    "\n",
    "data = data.dropna(subset=['TotalCharges'])"
   ]
  },
  {
   "cell_type": "code",
   "execution_count": 34,
   "id": "6a4a6c1b",
   "metadata": {},
   "outputs": [],
   "source": [
    "#Удалим лишние столбцы\n",
    "data = data.drop(['customerID'], axis = 1)"
   ]
  },
  {
   "cell_type": "code",
   "execution_count": 35,
   "id": "8d380c77",
   "metadata": {},
   "outputs": [
    {
     "data": {
      "text/plain": [
       "Type                0\n",
       "PaperlessBilling    0\n",
       "PaymentMethod       0\n",
       "MonthlyCharges      0\n",
       "TotalCharges        0\n",
       "LifeTime            0\n",
       "BeginYear           0\n",
       "Lost_client         0\n",
       "gender              0\n",
       "SeniorCitizen       0\n",
       "Partner             0\n",
       "Dependents          0\n",
       "InternetService     0\n",
       "OnlineSecurity      0\n",
       "OnlineBackup        0\n",
       "DeviceProtection    0\n",
       "TechSupport         0\n",
       "StreamingTV         0\n",
       "StreamingMovies     0\n",
       "MultipleLines       0\n",
       "dtype: int64"
      ]
     },
     "execution_count": 35,
     "metadata": {},
     "output_type": "execute_result"
    }
   ],
   "source": [
    "data.isna().sum()"
   ]
  },
  {
   "cell_type": "code",
   "execution_count": 36,
   "id": "fa7224b0",
   "metadata": {},
   "outputs": [],
   "source": [
    "#Разделим данные на обучающую и тестовую выборки\n",
    "features_train, features_test, target_train, target_test = train_test_split(\n",
    "    data.drop(['Lost_client'],axis = 1), data['Lost_client'], test_size=0.25, random_state=261222)"
   ]
  },
  {
   "cell_type": "code",
   "execution_count": 37,
   "id": "a6e62693",
   "metadata": {},
   "outputs": [],
   "source": [
    "#Зададим категориальные и количественные признаки\n",
    "numeric = ['MonthlyCharges','TotalCharges','LifeTime','BeginYear','SeniorCitizen']\n",
    "categorical = ['OnlineSecurity', 'PaperlessBilling', 'PaymentMethod', 'Type', 'gender', 'Partner', 'Dependents', 'InternetService', 'OnlineBackup', 'DeviceProtection', 'TechSupport', 'StreamingTV', 'StreamingMovies', 'MultipleLines']"
   ]
  },
  {
   "cell_type": "code",
   "execution_count": 38,
   "id": "124bd376",
   "metadata": {},
   "outputs": [
    {
     "name": "stderr",
     "output_type": "stream",
     "text": [
      "/Users/a.oleinik/opt/anaconda3/lib/python3.9/site-packages/sklearn/utils/deprecation.py:87: FutureWarning: Function get_feature_names is deprecated; get_feature_names is deprecated in 1.0 and will be removed in 1.2. Please use get_feature_names_out instead.\n",
      "  warnings.warn(msg, category=FutureWarning)\n",
      "/Users/a.oleinik/opt/anaconda3/lib/python3.9/site-packages/sklearn/utils/deprecation.py:87: FutureWarning: Function get_feature_names is deprecated; get_feature_names is deprecated in 1.0 and will be removed in 1.2. Please use get_feature_names_out instead.\n",
      "  warnings.warn(msg, category=FutureWarning)\n"
     ]
    }
   ],
   "source": [
    "#Нормальзуем количественные данные и закодируем категориальные техникой ОНЕ для использования в линейной регрессии\n",
    "scaler = StandardScaler()\n",
    "encoder = OneHotEncoder(drop='first', sparse=False, handle_unknown='ignore')\n",
    "\n",
    "features_train_scaled = scaler.fit_transform(features_train[numeric])\n",
    "features_train_ohe = encoder.fit_transform(features_train[categorical])\n",
    "features_train_tramsformed = pd.concat([pd.DataFrame(features_train_scaled, columns=numeric),\n",
    "                                    pd.DataFrame(features_train_ohe, columns=encoder.get_feature_names())], \n",
    "                                       axis=1)\n",
    "\n",
    "\n",
    "features_test_scaled = scaler.transform(features_test[numeric])\n",
    "features_test_ohe = encoder.transform(features_test[categorical])\n",
    "features_test_tramsformed = pd.concat([pd.DataFrame(features_test_scaled, columns=numeric),\n",
    "                                    pd.DataFrame(features_test_ohe, columns=encoder.get_feature_names())], \n",
    "                                      axis=1)"
   ]
  },
  {
   "cell_type": "code",
   "execution_count": 39,
   "id": "9f9cf70d",
   "metadata": {},
   "outputs": [
    {
     "name": "stdout",
     "output_type": "stream",
     "text": [
      "(5274, 23)\n",
      "(1758, 23)\n",
      "MonthlyCharges                0\n",
      "TotalCharges                  0\n",
      "LifeTime                      0\n",
      "BeginYear                     0\n",
      "SeniorCitizen                 0\n",
      "x0_Yes                        0\n",
      "x1_Yes                        0\n",
      "x2_Credit card (automatic)    0\n",
      "x2_Electronic check           0\n",
      "x2_Mailed check               0\n",
      "x3_One year                   0\n",
      "x3_Two year                   0\n",
      "x4_Male                       0\n",
      "x5_Yes                        0\n",
      "x6_Yes                        0\n",
      "x7_Fiber optic                0\n",
      "x7_No                         0\n",
      "x8_Yes                        0\n",
      "x9_Yes                        0\n",
      "x10_Yes                       0\n",
      "x11_Yes                       0\n",
      "x12_Yes                       0\n",
      "x13_Yes                       0\n",
      "dtype: int64\n"
     ]
    }
   ],
   "source": [
    "#Проверим, что с данными все ок\n",
    "print(features_train_tramsformed.shape)\n",
    "print(features_test_tramsformed.shape)\n",
    "print(features_train_tramsformed.isna().sum())"
   ]
  },
  {
   "cell_type": "code",
   "execution_count": 40,
   "id": "743c50e4",
   "metadata": {},
   "outputs": [],
   "source": [
    "#Закодируем категориальные техникой Ordinal для использования в Randomforest\n",
    "encoder = OrdinalEncoder()\n",
    "\n",
    "features_train_oe = features_train.copy()\n",
    "features_test_oe = features_test.copy()\n",
    "\n",
    "features_train_oe[categorical] = encoder.fit_transform(features_train[categorical])\n",
    "features_test_oe[categorical] = encoder.transform(features_test[categorical])"
   ]
  },
  {
   "cell_type": "code",
   "execution_count": 41,
   "id": "ec64a9ef",
   "metadata": {},
   "outputs": [
    {
     "name": "stdout",
     "output_type": "stream",
     "text": [
      "(5274, 19)\n",
      "(1758, 19)\n",
      "Type                0\n",
      "PaperlessBilling    0\n",
      "PaymentMethod       0\n",
      "MonthlyCharges      0\n",
      "TotalCharges        0\n",
      "LifeTime            0\n",
      "BeginYear           0\n",
      "gender              0\n",
      "SeniorCitizen       0\n",
      "Partner             0\n",
      "Dependents          0\n",
      "InternetService     0\n",
      "OnlineSecurity      0\n",
      "OnlineBackup        0\n",
      "DeviceProtection    0\n",
      "TechSupport         0\n",
      "StreamingTV         0\n",
      "StreamingMovies     0\n",
      "MultipleLines       0\n",
      "dtype: int64\n"
     ]
    }
   ],
   "source": [
    "print(features_train_oe.shape)\n",
    "print(features_test_oe.shape)\n",
    "print(features_train_oe.isna().sum())"
   ]
  },
  {
   "cell_type": "markdown",
   "id": "45aed4b3",
   "metadata": {},
   "source": [
    "### Обучение моделей и подбор гиперпараметров"
   ]
  },
  {
   "cell_type": "markdown",
   "id": "79f7b761",
   "metadata": {},
   "source": [
    "Вопрос с кросс-валидацией решим через использование GridSearchCV для подбора гиперпараметров.\n",
    "Оценим работу каждой из моделей на обкучающей выборке."
   ]
  },
  {
   "cell_type": "code",
   "execution_count": 42,
   "id": "ba6c4820",
   "metadata": {},
   "outputs": [
    {
     "name": "stdout",
     "output_type": "stream",
     "text": [
      "{'C': 6}\n"
     ]
    }
   ],
   "source": [
    "#Подберем гиперпараметры для модели логистической регрессии\n",
    "clf = LogisticRegression(random_state=261222, solver='liblinear')\n",
    "\n",
    "parameters = { 'C': range (1, 10, 1) }\n",
    "grid = GridSearchCV(clf, parameters, cv=5, scoring='roc_auc')\n",
    "grid.fit(features_train_tramsformed, target_train)\n",
    "print(grid.best_params_)"
   ]
  },
  {
   "cell_type": "code",
   "execution_count": 43,
   "id": "e78261e8",
   "metadata": {},
   "outputs": [
    {
     "name": "stdout",
     "output_type": "stream",
     "text": [
      "best auc-roc is 0.89\n"
     ]
    }
   ],
   "source": [
    "#Лучший результат\n",
    "print(\"best auc-roc is\",round(grid.best_score_,2))"
   ]
  },
  {
   "cell_type": "code",
   "execution_count": 44,
   "id": "58e0be33",
   "metadata": {},
   "outputs": [
    {
     "name": "stdout",
     "output_type": "stream",
     "text": [
      "{'max_depth': 11, 'n_estimators': 140}\n",
      "best auc-roc is 0.89\n"
     ]
    }
   ],
   "source": [
    "#Подберем гиперпараметры для модели RandomForest\n",
    "clf = RandomForestClassifier(random_state=261222)\n",
    "\n",
    "parameters = { 'n_estimators': range (100, 151, 10),\n",
    "              'max_depth': range (1,13, 2) }\n",
    "grid = GridSearchCV(clf, parameters, cv=5, scoring='roc_auc')\n",
    "grid.fit(features_train_oe, target_train)\n",
    "print(grid.best_params_)\n",
    "\n",
    "#Лучший результат\n",
    "print(\"best auc-roc is\",round(grid.best_score_,2))"
   ]
  },
  {
   "cell_type": "code",
   "execution_count": 45,
   "id": "b8ed977b",
   "metadata": {},
   "outputs": [
    {
     "name": "stdout",
     "output_type": "stream",
     "text": [
      "0:\tlearn: 0.6842372\ttotal: 59.8ms\tremaining: 5.92s\n",
      "99:\tlearn: 0.4026686\ttotal: 187ms\tremaining: 0us\n",
      "0:\tlearn: 0.6852135\ttotal: 1.72ms\tremaining: 171ms\n",
      "99:\tlearn: 0.4011988\ttotal: 118ms\tremaining: 0us\n",
      "0:\tlearn: 0.6841379\ttotal: 1.31ms\tremaining: 130ms\n",
      "99:\tlearn: 0.4023240\ttotal: 114ms\tremaining: 0us\n",
      "0:\tlearn: 0.6841112\ttotal: 1.25ms\tremaining: 123ms\n",
      "99:\tlearn: 0.3996777\ttotal: 114ms\tremaining: 0us\n",
      "0:\tlearn: 0.6865008\ttotal: 1.3ms\tremaining: 128ms\n",
      "99:\tlearn: 0.4004938\ttotal: 116ms\tremaining: 0us\n",
      "0:\tlearn: 0.6798474\ttotal: 1.28ms\tremaining: 127ms\n",
      "99:\tlearn: 0.3722364\ttotal: 117ms\tremaining: 0us\n",
      "0:\tlearn: 0.6813045\ttotal: 1.17ms\tremaining: 116ms\n",
      "99:\tlearn: 0.3750349\ttotal: 123ms\tremaining: 0us\n",
      "0:\tlearn: 0.6796992\ttotal: 1.34ms\tremaining: 133ms\n",
      "99:\tlearn: 0.3715048\ttotal: 128ms\tremaining: 0us\n",
      "0:\tlearn: 0.6796594\ttotal: 1.19ms\tremaining: 118ms\n",
      "99:\tlearn: 0.3733681\ttotal: 115ms\tremaining: 0us\n",
      "0:\tlearn: 0.6832242\ttotal: 1.3ms\tremaining: 129ms\n",
      "99:\tlearn: 0.3707494\ttotal: 118ms\tremaining: 0us\n",
      "0:\tlearn: 0.6755011\ttotal: 1.49ms\tremaining: 147ms\n",
      "99:\tlearn: 0.3564366\ttotal: 116ms\tremaining: 0us\n",
      "0:\tlearn: 0.6774341\ttotal: 1.33ms\tremaining: 132ms\n",
      "99:\tlearn: 0.3605601\ttotal: 116ms\tremaining: 0us\n",
      "0:\tlearn: 0.6753044\ttotal: 1.21ms\tremaining: 120ms\n",
      "99:\tlearn: 0.3585592\ttotal: 117ms\tremaining: 0us\n",
      "0:\tlearn: 0.6752517\ttotal: 1.26ms\tremaining: 124ms\n",
      "99:\tlearn: 0.3591216\ttotal: 129ms\tremaining: 0us\n",
      "0:\tlearn: 0.6799788\ttotal: 1.27ms\tremaining: 126ms\n",
      "99:\tlearn: 0.3570602\ttotal: 117ms\tremaining: 0us\n",
      "0:\tlearn: 0.6824963\ttotal: 3.25ms\tremaining: 648ms\n",
      "199:\tlearn: 0.3289727\ttotal: 478ms\tremaining: 0us\n",
      "0:\tlearn: 0.6821104\ttotal: 3.36ms\tremaining: 670ms\n",
      "199:\tlearn: 0.3316267\ttotal: 491ms\tremaining: 0us\n",
      "0:\tlearn: 0.6824634\ttotal: 3.13ms\tremaining: 622ms\n",
      "199:\tlearn: 0.3291421\ttotal: 470ms\tremaining: 0us\n",
      "0:\tlearn: 0.6825554\ttotal: 3.55ms\tremaining: 707ms\n",
      "199:\tlearn: 0.3262825\ttotal: 513ms\tremaining: 0us\n",
      "0:\tlearn: 0.6804902\ttotal: 2.89ms\tremaining: 576ms\n",
      "199:\tlearn: 0.3283378\ttotal: 481ms\tremaining: 0us\n",
      "0:\tlearn: 0.6772857\ttotal: 3ms\tremaining: 598ms\n",
      "199:\tlearn: 0.3078396\ttotal: 476ms\tremaining: 0us\n",
      "0:\tlearn: 0.6767158\ttotal: 2.93ms\tremaining: 583ms\n",
      "199:\tlearn: 0.3116647\ttotal: 479ms\tremaining: 0us\n",
      "0:\tlearn: 0.6772368\ttotal: 2.88ms\tremaining: 572ms\n",
      "199:\tlearn: 0.3071554\ttotal: 490ms\tremaining: 0us\n",
      "0:\tlearn: 0.6773728\ttotal: 2.93ms\tremaining: 583ms\n",
      "199:\tlearn: 0.3157693\ttotal: 480ms\tremaining: 0us\n",
      "0:\tlearn: 0.6743264\ttotal: 3.43ms\tremaining: 683ms\n",
      "199:\tlearn: 0.3071421\ttotal: 506ms\tremaining: 0us\n",
      "0:\tlearn: 0.6721516\ttotal: 3.71ms\tremaining: 739ms\n",
      "199:\tlearn: 0.2954427\ttotal: 628ms\tremaining: 0us\n",
      "0:\tlearn: 0.6714037\ttotal: 3.25ms\tremaining: 646ms\n",
      "199:\tlearn: 0.2964243\ttotal: 604ms\tremaining: 0us\n",
      "0:\tlearn: 0.6720869\ttotal: 2.99ms\tremaining: 596ms\n",
      "199:\tlearn: 0.2928900\ttotal: 499ms\tremaining: 0us\n",
      "0:\tlearn: 0.6722655\ttotal: 2.69ms\tremaining: 536ms\n",
      "199:\tlearn: 0.2896215\ttotal: 551ms\tremaining: 0us\n",
      "0:\tlearn: 0.6682722\ttotal: 2.86ms\tremaining: 569ms\n",
      "199:\tlearn: 0.2895095\ttotal: 586ms\tremaining: 0us\n",
      "0:\tlearn: 0.6842175\ttotal: 2.4ms\tremaining: 238ms\n",
      "99:\tlearn: 0.3910040\ttotal: 232ms\tremaining: 0us\n",
      "0:\tlearn: 0.6848333\ttotal: 2.72ms\tremaining: 269ms\n",
      "99:\tlearn: 0.3928607\ttotal: 222ms\tremaining: 0us\n",
      "0:\tlearn: 0.6840879\ttotal: 2.42ms\tremaining: 239ms\n",
      "99:\tlearn: 0.3903610\ttotal: 222ms\tremaining: 0us\n",
      "0:\tlearn: 0.6840785\ttotal: 2.17ms\tremaining: 215ms\n",
      "99:\tlearn: 0.3920099\ttotal: 221ms\tremaining: 0us\n",
      "0:\tlearn: 0.6859461\ttotal: 2.48ms\tremaining: 246ms\n",
      "99:\tlearn: 0.3924143\ttotal: 221ms\tremaining: 0us\n",
      "0:\tlearn: 0.6798159\ttotal: 2.63ms\tremaining: 260ms\n",
      "99:\tlearn: 0.3609962\ttotal: 241ms\tremaining: 0us\n",
      "0:\tlearn: 0.6807349\ttotal: 2.22ms\tremaining: 220ms\n",
      "99:\tlearn: 0.3647997\ttotal: 207ms\tremaining: 0us\n",
      "0:\tlearn: 0.6796225\ttotal: 2.34ms\tremaining: 232ms\n",
      "99:\tlearn: 0.3646938\ttotal: 219ms\tremaining: 0us\n",
      "0:\tlearn: 0.6796086\ttotal: 2.12ms\tremaining: 210ms\n",
      "99:\tlearn: 0.3626750\ttotal: 208ms\tremaining: 0us\n",
      "0:\tlearn: 0.6823950\ttotal: 2.39ms\tremaining: 236ms\n",
      "99:\tlearn: 0.3632830\ttotal: 210ms\tremaining: 0us\n",
      "0:\tlearn: 0.6754565\ttotal: 2.08ms\tremaining: 206ms\n",
      "99:\tlearn: 0.3475566\ttotal: 221ms\tremaining: 0us\n",
      "0:\tlearn: 0.6766757\ttotal: 2.59ms\tremaining: 257ms\n",
      "99:\tlearn: 0.3525565\ttotal: 241ms\tremaining: 0us\n",
      "0:\tlearn: 0.6751999\ttotal: 2.25ms\tremaining: 223ms\n",
      "99:\tlearn: 0.3475962\ttotal: 232ms\tremaining: 0us\n",
      "0:\tlearn: 0.6751816\ttotal: 2.22ms\tremaining: 220ms\n",
      "99:\tlearn: 0.3469172\ttotal: 216ms\tremaining: 0us\n",
      "0:\tlearn: 0.6788769\ttotal: 2.51ms\tremaining: 248ms\n",
      "99:\tlearn: 0.3445584\ttotal: 215ms\tremaining: 0us\n",
      "0:\tlearn: 0.6771115\ttotal: 4.1ms\tremaining: 816ms\n",
      "199:\tlearn: 0.3119710\ttotal: 714ms\tremaining: 0us\n",
      "0:\tlearn: 0.6767913\ttotal: 4.26ms\tremaining: 848ms\n",
      "199:\tlearn: 0.3103197\ttotal: 741ms\tremaining: 0us\n",
      "0:\tlearn: 0.6769539\ttotal: 4.76ms\tremaining: 947ms\n",
      "199:\tlearn: 0.3084229\ttotal: 789ms\tremaining: 0us\n",
      "0:\tlearn: 0.6770238\ttotal: 4.57ms\tremaining: 910ms\n",
      "199:\tlearn: 0.3120796\ttotal: 785ms\tremaining: 0us\n",
      "0:\tlearn: 0.6786715\ttotal: 4.37ms\tremaining: 869ms\n",
      "199:\tlearn: 0.3066266\ttotal: 779ms\tremaining: 0us\n",
      "0:\tlearn: 0.6693268\ttotal: 6.14ms\tremaining: 1.22s\n",
      "199:\tlearn: 0.2893894\ttotal: 706ms\tremaining: 0us\n",
      "0:\tlearn: 0.6688543\ttotal: 3.99ms\tremaining: 795ms\n",
      "199:\tlearn: 0.2891976\ttotal: 737ms\tremaining: 0us\n",
      "0:\tlearn: 0.6690924\ttotal: 4.13ms\tremaining: 821ms\n",
      "199:\tlearn: 0.2870188\ttotal: 679ms\tremaining: 0us\n",
      "0:\tlearn: 0.6691967\ttotal: 3.77ms\tremaining: 749ms\n",
      "199:\tlearn: 0.2875874\ttotal: 682ms\tremaining: 0us\n",
      "0:\tlearn: 0.6716307\ttotal: 4.12ms\tremaining: 819ms\n",
      "199:\tlearn: 0.2866054\ttotal: 662ms\tremaining: 0us\n",
      "0:\tlearn: 0.6616970\ttotal: 4.31ms\tremaining: 858ms\n",
      "199:\tlearn: 0.2699314\ttotal: 684ms\tremaining: 0us\n",
      "0:\tlearn: 0.6610775\ttotal: 3.92ms\tremaining: 779ms\n",
      "199:\tlearn: 0.2728196\ttotal: 659ms\tremaining: 0us\n",
      "0:\tlearn: 0.6613872\ttotal: 4.13ms\tremaining: 822ms\n",
      "199:\tlearn: 0.2711017\ttotal: 664ms\tremaining: 0us\n",
      "0:\tlearn: 0.6615256\ttotal: 4.12ms\tremaining: 820ms\n",
      "199:\tlearn: 0.2695674\ttotal: 666ms\tremaining: 0us\n",
      "0:\tlearn: 0.6647210\ttotal: 4.07ms\tremaining: 810ms\n",
      "199:\tlearn: 0.2723714\ttotal: 636ms\tremaining: 0us\n",
      "0:\tlearn: 0.6841952\ttotal: 5.48ms\tremaining: 542ms\n",
      "99:\tlearn: 0.3877312\ttotal: 512ms\tremaining: 0us\n",
      "0:\tlearn: 0.6849373\ttotal: 5.13ms\tremaining: 508ms\n",
      "99:\tlearn: 0.3875318\ttotal: 507ms\tremaining: 0us\n",
      "0:\tlearn: 0.6840967\ttotal: 5.35ms\tremaining: 530ms\n",
      "99:\tlearn: 0.3875047\ttotal: 491ms\tremaining: 0us\n",
      "0:\tlearn: 0.6840810\ttotal: 5.03ms\tremaining: 498ms\n",
      "99:\tlearn: 0.3881863\ttotal: 468ms\tremaining: 0us\n",
      "0:\tlearn: 0.6860035\ttotal: 5.46ms\tremaining: 540ms\n",
      "99:\tlearn: 0.3865112\ttotal: 488ms\tremaining: 0us\n",
      "0:\tlearn: 0.6797816\ttotal: 5.64ms\tremaining: 558ms\n",
      "99:\tlearn: 0.3541157\ttotal: 448ms\tremaining: 0us\n",
      "0:\tlearn: 0.6808893\ttotal: 5.46ms\tremaining: 541ms\n",
      "99:\tlearn: 0.3554334\ttotal: 474ms\tremaining: 0us\n",
      "0:\tlearn: 0.6796344\ttotal: 5.51ms\tremaining: 546ms\n",
      "99:\tlearn: 0.3566293\ttotal: 474ms\tremaining: 0us\n",
      "0:\tlearn: 0.6796110\ttotal: 5.82ms\tremaining: 576ms\n",
      "99:\tlearn: 0.3564396\ttotal: 463ms\tremaining: 0us\n",
      "0:\tlearn: 0.6824790\ttotal: 5.36ms\tremaining: 531ms\n",
      "99:\tlearn: 0.3554597\ttotal: 469ms\tremaining: 0us\n",
      "0:\tlearn: 0.6754094\ttotal: 5.11ms\tremaining: 506ms\n",
      "99:\tlearn: 0.3373036\ttotal: 467ms\tremaining: 0us\n",
      "0:\tlearn: 0.6768793\ttotal: 5.37ms\tremaining: 532ms\n",
      "99:\tlearn: 0.3416586\ttotal: 462ms\tremaining: 0us\n",
      "0:\tlearn: 0.6752142\ttotal: 5.36ms\tremaining: 530ms\n",
      "99:\tlearn: 0.3401135\ttotal: 435ms\tremaining: 0us\n",
      "0:\tlearn: 0.6751832\ttotal: 5.76ms\tremaining: 570ms\n",
      "99:\tlearn: 0.3385152\ttotal: 493ms\tremaining: 0us\n",
      "0:\tlearn: 0.6789860\ttotal: 5.17ms\tremaining: 511ms\n",
      "99:\tlearn: 0.3380371\ttotal: 510ms\tremaining: 0us\n",
      "0:\tlearn: 0.6758694\ttotal: 7.31ms\tremaining: 1.45s\n",
      "199:\tlearn: 0.2903627\ttotal: 1.43s\tremaining: 0us\n",
      "0:\tlearn: 0.6759960\ttotal: 8.07ms\tremaining: 1.61s\n",
      "199:\tlearn: 0.2960033\ttotal: 1.22s\tremaining: 0us\n",
      "0:\tlearn: 0.6757738\ttotal: 8.62ms\tremaining: 1.72s\n",
      "199:\tlearn: 0.2937409\ttotal: 1.19s\tremaining: 0us\n",
      "0:\tlearn: 0.6757782\ttotal: 8.7ms\tremaining: 1.73s\n",
      "199:\tlearn: 0.2898268\ttotal: 1.23s\tremaining: 0us\n",
      "0:\tlearn: 0.6771894\ttotal: 8.75ms\tremaining: 1.74s\n",
      "199:\tlearn: 0.2885719\ttotal: 1.23s\tremaining: 0us\n",
      "0:\tlearn: 0.6674831\ttotal: 7.93ms\tremaining: 1.58s\n",
      "199:\tlearn: 0.2569958\ttotal: 1.29s\tremaining: 0us\n",
      "0:\tlearn: 0.6676709\ttotal: 7.84ms\tremaining: 1.56s\n",
      "199:\tlearn: 0.2657785\ttotal: 1.26s\tremaining: 0us\n",
      "0:\tlearn: 0.6673424\ttotal: 7.41ms\tremaining: 1.47s\n",
      "199:\tlearn: 0.2671292\ttotal: 1.2s\tremaining: 0us\n",
      "0:\tlearn: 0.6673478\ttotal: 8.42ms\tremaining: 1.68s\n",
      "199:\tlearn: 0.2698968\ttotal: 1.17s\tremaining: 0us\n",
      "0:\tlearn: 0.6694263\ttotal: 8.39ms\tremaining: 1.67s\n",
      "199:\tlearn: 0.2625509\ttotal: 1.2s\tremaining: 0us\n",
      "0:\tlearn: 0.6592647\ttotal: 7.64ms\tremaining: 1.52s\n",
      "199:\tlearn: 0.2424707\ttotal: 1.24s\tremaining: 0us\n",
      "0:\tlearn: 0.6595121\ttotal: 8.88ms\tremaining: 1.77s\n",
      "199:\tlearn: 0.2427457\ttotal: 1.22s\tremaining: 0us\n",
      "0:\tlearn: 0.6590808\ttotal: 8.15ms\tremaining: 1.62s\n",
      "199:\tlearn: 0.2404433\ttotal: 1.26s\tremaining: 0us\n",
      "0:\tlearn: 0.6590862\ttotal: 8.51ms\tremaining: 1.69s\n",
      "199:\tlearn: 0.2399518\ttotal: 1.23s\tremaining: 0us\n",
      "0:\tlearn: 0.6618068\ttotal: 8.21ms\tremaining: 1.63s\n",
      "199:\tlearn: 0.2344304\ttotal: 1.27s\tremaining: 0us\n",
      "0:\tlearn: 0.6634719\ttotal: 4.37ms\tremaining: 869ms\n",
      "199:\tlearn: 0.2744416\ttotal: 720ms\tremaining: 0us\n",
      "CPU times: user 4min 10s, sys: 21.4 s, total: 4min 32s\n",
      "Wall time: 53.7 s\n"
     ]
    },
    {
     "data": {
      "text/plain": [
       "GridSearchCV(cv=5,\n",
       "             estimator=<catboost.core.CatBoostClassifier object at 0x7f85d65258e0>,\n",
       "             param_grid={'depth': [5, 7, 9], 'iterations': [100, 200],\n",
       "                         'learning_rate': [0.02, 0.03, 0.04]},\n",
       "             scoring='roc_auc')"
      ]
     },
     "execution_count": 45,
     "metadata": {},
     "output_type": "execute_result"
    }
   ],
   "source": [
    "%%time\n",
    "clf = CatBoostClassifier(loss_function=\"Logloss\", random_state=261222, cat_features=categorical, verbose=500)\n",
    "\n",
    "\n",
    "parameters = {'depth': [5,7,9],\n",
    "              'learning_rate': [0.02,0.03, 0.04],\n",
    "              'iterations': [100, 200]}\n",
    "\n",
    "grid = GridSearchCV(clf, parameters, cv=5, scoring='roc_auc')\n",
    "grid.fit(features_train, target_train)"
   ]
  },
  {
   "cell_type": "code",
   "execution_count": 46,
   "id": "56e86aad",
   "metadata": {},
   "outputs": [
    {
     "name": "stdout",
     "output_type": "stream",
     "text": [
      "{'depth': 7, 'iterations': 200, 'learning_rate': 0.04}\n",
      "best auc-roc is 0.91\n"
     ]
    }
   ],
   "source": [
    "print(grid.best_params_)\n",
    "\n",
    "#Лучший результат\n",
    "print(\"best auc-roc is\",round(grid.best_score_,2))"
   ]
  },
  {
   "cell_type": "markdown",
   "id": "178b0465",
   "metadata": {},
   "source": [
    "Итого, после подбора гиперпараметров для LogisticRegression и RandomForestClassifier имеем следующие результаты:\n",
    "\n",
    "- Аuc-roc для LogisticRegression с гиперпараметром С = 6 составил 0.89\n",
    "- Аuc-roc для RandomForestClassifier с гиперпараметрами max_depth = 11, n_estimators = 140 составил 0.89\n",
    "- Аuc-roc для CatBoostClassifier с гиперпараметрами depth = 7, iterations = 200, learning_rate = 0.04 составил 0.91\n",
    "    \n",
    "Далее протестируем работу CatBoostClassifier с гиперпараметрами depth = 7, iterations = 200, learning_rate = 0.04\n"
   ]
  },
  {
   "cell_type": "markdown",
   "id": "a1b9560a",
   "metadata": {},
   "source": [
    "### Тестирование модели"
   ]
  },
  {
   "cell_type": "markdown",
   "id": "248eb994",
   "metadata": {},
   "source": [
    "Проверим результаты работы модели на тестовой выборке"
   ]
  },
  {
   "cell_type": "code",
   "execution_count": 47,
   "id": "eb4b6a93",
   "metadata": {},
   "outputs": [
    {
     "name": "stdout",
     "output_type": "stream",
     "text": [
      "0:\tlearn: 0.6634719\ttotal: 5.28ms\tremaining: 1.05s\n",
      "199:\tlearn: 0.2744416\ttotal: 749ms\tremaining: 0us\n",
      "auc-roc is  0.92\n"
     ]
    }
   ],
   "source": [
    "model = CatBoostClassifier(loss_function=\"Logloss\", random_state=261222, cat_features=categorical, \n",
    "                           verbose=500, depth = 7, iterations = 200, learning_rate = 0.04)\n",
    "\n",
    "model.fit(features_train, target_train)\n",
    "\n",
    "probabilities_test = model.predict_proba(features_test)\n",
    "probabilities_one_test = probabilities_test[:, 1]\n",
    "print(\"auc-roc is \",round(roc_auc_score(target_test, probabilities_one_test),2))"
   ]
  },
  {
   "cell_type": "markdown",
   "id": "4ca6d7a3",
   "metadata": {},
   "source": [
    "Целевое значение достигнуто. Посмотрим на матрицу ошибок"
   ]
  },
  {
   "cell_type": "code",
   "execution_count": 52,
   "id": "e225cc4e",
   "metadata": {},
   "outputs": [
    {
     "name": "stdout",
     "output_type": "stream",
     "text": [
      "[[ 312  177]\n",
      " [  58 1211]]\n"
     ]
    }
   ],
   "source": [
    "# Выведем матрицу ошибок\n",
    "print(confusion_matrix(target_test,model.predict(features_test)))"
   ]
  },
  {
   "cell_type": "code",
   "execution_count": 53,
   "id": "31b14c22",
   "metadata": {},
   "outputs": [
    {
     "data": {
      "image/png": "[encoded data removed]",
      "text/plain": [
       "<Figure size 1152x1008 with 1 Axes>"
      ]
     },
     "metadata": {
      "needs_background": "light"
     },
     "output_type": "display_data"
    }
   ],
   "source": [
    "# Посмотрим на значимость признаков\n",
    "imp = pd.Series(model.get_feature_importance(),\n",
    "                         features_train.columns)\n",
    "fig, ax = plt.subplots(figsize=(16,14))\n",
    "imp.plot.bar(ax=ax)\n",
    "ax.set_title(\"Важность признаков\")\n",
    "fig.tight_layout()"
   ]
  },
  {
   "cell_type": "markdown",
   "id": "de08fb24",
   "metadata": {},
   "source": [
    "Модель верно распознала 87% клиентов. \n",
    "10% клиентов она приняла за уходящих, хотя на самом деле они не собирались расставаться с оператором.\n",
    "3% клиентов ушли не замеченными моделью.\n",
    "\n",
    "Наиболее значимые признаки - срок жизни клиента, год заключения контракта, тип контракта (оплата за год/ два или помесячно), сумма ежемесячных комиссий и наличие у клиента сервиса блокировки небезопасных сайтов.\n",
    "\n",
    "Предлагаю запустить модель в работу и посмотреть на результаты в боевых условиях.\n",
    "\n",
    "При использовании модели для удержания потенциально отточных клиентов следует заложить 10% погрешность в бюджете на скидки и без того лояльным клиентам.\n",
    "\n",
    "3% уходящих клиентов не будут распознаны моделью. Взаимодействие с наиболее ценными и доходными следует вести через личные контакты, персональных менеджеров, интересующихся удовлетворенностью и планами клиентов."
   ]
  },
  {
   "cell_type": "markdown",
   "id": "0a8042a7",
   "metadata": {},
   "source": [
    "### Финальный отчет\n",
    "\n",
    "#### Статус по выполнению плана работы.\n",
    "Изначально были запланированы следующие шаги:\n",
    "- Загрузeка и анализ данных\n",
    "- Подготовка данных для работы с машинным обучением. Разделение на обучающую, вализационную и тестовую выборки\n",
    "- Применение 3 моделей: логистической регрессии, RandomForest и CatBoost\n",
    "- Подбор гиперпараметров, проверка работы лучшей модели на тестовой выборке\n",
    "- Анализ результатов. Оценка применимости модели для бизнес-решений\n",
    "\n",
    "\n",
    "Из запланированного не выполнены шаги, связанные с валидационной выборкой. \n",
    "Применение GridSearchCV позволило определить не только значения гиперпараметров лучшей модели, но и значение целевой метрики roc-auc на кросс-валидации. Потребность в валидационной выборке пропала.\n",
    "Датасет разделили на обучающую и тестовую выборки в соотношении 75% и 25%.\n",
    "\n",
    "Прочие запланированные шаги исполнены"
   ]
  },
  {
   "cell_type": "markdown",
   "id": "757b0a57",
   "metadata": {},
   "source": [
    "#### Возникшие трудности и инструменты их преодоления.\n",
    "\n",
    "Основная трудность возникла с кодированием данных - три типа моделей потребовали три варианта представления данных:\n",
    "- Случайный лес - Ordinal Encoder\n",
    "- Линейная регрессия - One Hot Encoder \n",
    "(!) get_dummies не подходит для данного типа задач.\n",
    "Дополнительно для линейных моделей требуется масштабирование количественных признаков.\n",
    "- CatBoostClassifier не потребовал никакой дополнительной обработки.\n",
    "\n",
    "\n",
    "Потенциально могли возникнуть проблемы из-за дисбаланса классов, но целевая метрика roc-auc невосприимчива к дисбалансу."
   ]
  },
  {
   "cell_type": "markdown",
   "id": "c84df247",
   "metadata": {},
   "source": [
    "#### Ключевые шаги в решении задачи.\n",
    "- Знакомство с задачей и целями бизнеса.\n",
    "- Загрузка данных и понимание их качества - объем информации, проверка дублирования, заполнение пропусков, изменение типов, расчет новых переменных и исключение дублирующих метрик.\n",
    "- Исследование данных - анализ распределения, выбросов и проч. Предварительные выводы по данным.\n",
    "- Подготовка данных к моделированию - объединение датасетов, разделение на обучающую и тестовую выборки, кодирование категориальных и масштабирование количественных признаков. Для каждой модели потребовался свой тип обработки данных.\n",
    "- Подбор гиперпараметров для моделей. Сравнение значений целевых метрик на кросс-валидации для трех моделей.\n",
    "- Тестирование модели с лучшей целевой метрикой.\n",
    "- Анализ матрицы ошибок и определение наиболее значимых признаков.\n",
    "- Выводы и рекомендации для бизнеса."
   ]
  },
  {
   "cell_type": "markdown",
   "id": "38be8ab6",
   "metadata": {},
   "source": [
    "#### Использованные признаки для обучения. Предобработка признаков.\n",
    "\n",
    "Для обучения модели прогноза оттока использовалась следующая информация:\n",
    "- о наличии у клиентов того или иного продукта, \n",
    "- о типе контракта, \n",
    "- о сроке жизни клиента, \n",
    "- о сумме комиссий и методе оплаты услуг,\n",
    "- социально-демографические данные\n",
    "\n",
    "\n",
    "Категориальные признаки были закодированы методами One Hot Encoder и Ordinal Encoder, количественные - масштабированы для линейной регрессии."
   ]
  },
  {
   "cell_type": "markdown",
   "id": "97547207",
   "metadata": {},
   "source": [
    "#### Итоговая модель, ее гиперпараметы и качество.\n",
    "\n",
    "Лучший результат показала модель CatBoostClassifier с гиперпараметрами depth = 7, iterations = 200, learning_rate = 0.04\n",
    "\n",
    "Значение метрики auc-roc на обучающей и тестовой выборках равно 0,91 и 0,92 соответственно.\n",
    "\n",
    "Модель верно распознала 87% клиентов. \n",
    "10% клиентов она приняла за уходящих ошибочно. 3% ушедших клиентов модель не заметила."
   ]
  }
 ],
 "metadata": {
  "ExecuteTimeLog": [
   {
    "duration": 620,
    "start_time": "2022-12-30T16:01:21.438Z"
   },
   {
    "duration": 155,
    "start_time": "2022-12-30T16:01:22.060Z"
   },
   {
    "duration": 0,
    "start_time": "2022-12-30T16:01:22.217Z"
   },
   {
    "duration": 85,
    "start_time": "2022-12-30T16:01:31.552Z"
   },
   {
    "duration": 3,
    "start_time": "2022-12-30T16:01:53.911Z"
   },
   {
    "duration": 85,
    "start_time": "2022-12-30T16:01:54.565Z"
   },
   {
    "duration": 606,
    "start_time": "2022-12-30T16:02:06.820Z"
   },
   {
    "duration": 148,
    "start_time": "2022-12-30T16:02:07.428Z"
   },
   {
    "duration": 2120,
    "start_time": "2023-01-10T00:54:39.726Z"
   },
   {
    "duration": 121,
    "start_time": "2023-01-10T00:54:43.197Z"
   },
   {
    "duration": 121,
    "start_time": "2023-01-10T00:54:47.956Z"
   },
   {
    "duration": 12,
    "start_time": "2023-01-10T00:54:54.334Z"
   }
  ],
  "kernelspec": {
   "display_name": "Python 3 (ipykernel)",
   "language": "python",
   "name": "python3"
  },
  "language_info": {
   "codemirror_mode": {
    "name": "ipython",
    "version": 3
   },
   "file_extension": ".py",
   "mimetype": "text/x-python",
   "name": "python",
   "nbconvert_exporter": "python",
   "pygments_lexer": "ipython3",
   "version": "3.9.12"
  },
  "toc": {
   "base_numbering": 1,
   "nav_menu": {},
   "number_sections": true,
   "sideBar": true,
   "skip_h1_title": true,
   "title_cell": "Table of Contents",
   "title_sidebar": "Contents",
   "toc_cell": false,
   "toc_position": {},
   "toc_section_display": true,
   "toc_window_display": false
  }
 },
 "nbformat": 4,
 "nbformat_minor": 5
}
