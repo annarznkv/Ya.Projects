{
 "cells": [
  {
   "cell_type": "markdown",
   "metadata": {},
   "source": [
    "### Описание проекта\n",
    "Вы работаете в интернет-магазине «Стримчик», который продаёт по всему миру компьютерные игры. Из открытых источников доступны исторические данные о продажах игр, оценки пользователей и экспертов, жанры и платформы (например, Xbox или PlayStation). Вам нужно выявить определяющие успешность игры закономерности. Это позволит сделать ставку на потенциально популярный продукт и спланировать рекламные кампании.\n",
    "\n",
    "Перед вами данные до 2016 года. Представим, что сейчас декабрь 2016 г., и вы планируете кампанию на 2017-й. Нужно отработать принцип работы с данными. Неважно, прогнозируете ли вы продажи на 2017 год по данным 2016-го или же 2027-й — по данным 2026 года.\n",
    "\n",
    "В наборе данных попадается аббревиатура ESRB (Entertainment Software Rating Board) — это ассоциация, определяющая возрастной рейтинг компьютерных игр. ESRB оценивает игровой контент и присваивает ему подходящую возрастную категорию, например, «Для взрослых», «Для детей младшего возраста» или «Для подростков»."
   ]
  },
  {
   "cell_type": "markdown",
   "metadata": {},
   "source": [
    "### Описание данных\n",
    "- Name — название игры\n",
    "- Platform — платформа\n",
    "- Year_of_Release — год выпуска\n",
    "- Genre — жанр игры\n",
    "- NA_sales — продажи в Северной Америке (миллионы проданных копий)\n",
    "- EU_sales — продажи в Европе (миллионы проданных копий)\n",
    "- JP_sales — продажи в Японии (миллионы проданных копий)\n",
    "- Other_sales — продажи в других странах (миллионы проданных копий)\n",
    "- Critic_Score — оценка критиков (максимум 100)\n",
    "- User_Score — оценка пользователей (максимум 10)\n",
    "- Rating — рейтинг от организации ESRB (англ. Entertainment Software Rating Board). Эта ассоциация определяет рейтинг компьютерных игр и присваивает им подходящую возрастную категорию.\n",
    "\n",
    "\n",
    "Данные за 2016 год могут быть неполными."
   ]
  },
  {
   "cell_type": "markdown",
   "metadata": {},
   "source": [
    "### Знакомство с данными"
   ]
  },
  {
   "cell_type": "code",
   "execution_count": 1,
   "metadata": {},
   "outputs": [],
   "source": [
    "# Подключаем все нужные нам библиотеки\n",
    "\n",
    "import pandas as pd\n",
    "import numpy as np\n",
    "import matplotlib.pyplot as plt\n",
    "from scipy import stats as st\n",
    "import math"
   ]
  },
  {
   "cell_type": "code",
   "execution_count": 2,
   "metadata": {},
   "outputs": [
    {
     "data": {
      "text/html": [
       "<div>\n",
       "<style scoped>\n",
       "    .dataframe tbody tr th:only-of-type {\n",
       "        vertical-align: middle;\n",
       "    }\n",
       "\n",
       "    .dataframe tbody tr th {\n",
       "        vertical-align: top;\n",
       "    }\n",
       "\n",
       "    .dataframe thead th {\n",
       "        text-align: right;\n",
       "    }\n",
       "</style>\n",
       "<table border=\"1\" class=\"dataframe\">\n",
       "  <thead>\n",
       "    <tr style=\"text-align: right;\">\n",
       "      <th></th>\n",
       "      <th>Name</th>\n",
       "      <th>Platform</th>\n",
       "      <th>Year_of_Release</th>\n",
       "      <th>Genre</th>\n",
       "      <th>NA_sales</th>\n",
       "      <th>EU_sales</th>\n",
       "      <th>JP_sales</th>\n",
       "      <th>Other_sales</th>\n",
       "      <th>Critic_Score</th>\n",
       "      <th>User_Score</th>\n",
       "      <th>Rating</th>\n",
       "    </tr>\n",
       "  </thead>\n",
       "  <tbody>\n",
       "    <tr>\n",
       "      <th>0</th>\n",
       "      <td>Wii Sports</td>\n",
       "      <td>Wii</td>\n",
       "      <td>2006.0</td>\n",
       "      <td>Sports</td>\n",
       "      <td>41.36</td>\n",
       "      <td>28.96</td>\n",
       "      <td>3.77</td>\n",
       "      <td>8.45</td>\n",
       "      <td>76.0</td>\n",
       "      <td>8</td>\n",
       "      <td>E</td>\n",
       "    </tr>\n",
       "    <tr>\n",
       "      <th>1</th>\n",
       "      <td>Super Mario Bros.</td>\n",
       "      <td>NES</td>\n",
       "      <td>1985.0</td>\n",
       "      <td>Platform</td>\n",
       "      <td>29.08</td>\n",
       "      <td>3.58</td>\n",
       "      <td>6.81</td>\n",
       "      <td>0.77</td>\n",
       "      <td>NaN</td>\n",
       "      <td>NaN</td>\n",
       "      <td>NaN</td>\n",
       "    </tr>\n",
       "    <tr>\n",
       "      <th>2</th>\n",
       "      <td>Mario Kart Wii</td>\n",
       "      <td>Wii</td>\n",
       "      <td>2008.0</td>\n",
       "      <td>Racing</td>\n",
       "      <td>15.68</td>\n",
       "      <td>12.76</td>\n",
       "      <td>3.79</td>\n",
       "      <td>3.29</td>\n",
       "      <td>82.0</td>\n",
       "      <td>8.3</td>\n",
       "      <td>E</td>\n",
       "    </tr>\n",
       "    <tr>\n",
       "      <th>3</th>\n",
       "      <td>Wii Sports Resort</td>\n",
       "      <td>Wii</td>\n",
       "      <td>2009.0</td>\n",
       "      <td>Sports</td>\n",
       "      <td>15.61</td>\n",
       "      <td>10.93</td>\n",
       "      <td>3.28</td>\n",
       "      <td>2.95</td>\n",
       "      <td>80.0</td>\n",
       "      <td>8</td>\n",
       "      <td>E</td>\n",
       "    </tr>\n",
       "    <tr>\n",
       "      <th>4</th>\n",
       "      <td>Pokemon Red/Pokemon Blue</td>\n",
       "      <td>GB</td>\n",
       "      <td>1996.0</td>\n",
       "      <td>Role-Playing</td>\n",
       "      <td>11.27</td>\n",
       "      <td>8.89</td>\n",
       "      <td>10.22</td>\n",
       "      <td>1.00</td>\n",
       "      <td>NaN</td>\n",
       "      <td>NaN</td>\n",
       "      <td>NaN</td>\n",
       "    </tr>\n",
       "  </tbody>\n",
       "</table>\n",
       "</div>"
      ],
      "text/plain": [
       "                       Name Platform  Year_of_Release         Genre  NA_sales  \\\n",
       "0                Wii Sports      Wii           2006.0        Sports     41.36   \n",
       "1         Super Mario Bros.      NES           1985.0      Platform     29.08   \n",
       "2            Mario Kart Wii      Wii           2008.0        Racing     15.68   \n",
       "3         Wii Sports Resort      Wii           2009.0        Sports     15.61   \n",
       "4  Pokemon Red/Pokemon Blue       GB           1996.0  Role-Playing     11.27   \n",
       "\n",
       "   EU_sales  JP_sales  Other_sales  Critic_Score User_Score Rating  \n",
       "0     28.96      3.77         8.45          76.0          8      E  \n",
       "1      3.58      6.81         0.77           NaN        NaN    NaN  \n",
       "2     12.76      3.79         3.29          82.0        8.3      E  \n",
       "3     10.93      3.28         2.95          80.0          8      E  \n",
       "4      8.89     10.22         1.00           NaN        NaN    NaN  "
      ]
     },
     "metadata": {},
     "output_type": "display_data"
    },
    {
     "name": "stdout",
     "output_type": "stream",
     "text": [
      "<class 'pandas.core.frame.DataFrame'>\n",
      "RangeIndex: 16715 entries, 0 to 16714\n",
      "Data columns (total 11 columns):\n",
      " #   Column           Non-Null Count  Dtype  \n",
      "---  ------           --------------  -----  \n",
      " 0   Name             16713 non-null  object \n",
      " 1   Platform         16715 non-null  object \n",
      " 2   Year_of_Release  16446 non-null  float64\n",
      " 3   Genre            16713 non-null  object \n",
      " 4   NA_sales         16715 non-null  float64\n",
      " 5   EU_sales         16715 non-null  float64\n",
      " 6   JP_sales         16715 non-null  float64\n",
      " 7   Other_sales      16715 non-null  float64\n",
      " 8   Critic_Score     8137 non-null   float64\n",
      " 9   User_Score       10014 non-null  object \n",
      " 10  Rating           9949 non-null   object \n",
      "dtypes: float64(6), object(5)\n",
      "memory usage: 1.4+ MB\n"
     ]
    }
   ],
   "source": [
    "#считываем данные и смотрим на них\n",
    "df = pd.read_csv('/datasets/games.csv')\n",
    "#df = pd.read_csv('games.csv')\n",
    "display(df.head())\n",
    "df.info()"
   ]
  },
  {
   "cell_type": "markdown",
   "metadata": {},
   "source": [
    "- Таблица состоит из 11 столбцов, в строках - информация об играх. \n",
    "- Максимальное количество непустых значений - 16715 - по всем играм определены платформы и объемы продаж.\n",
    "- Менее 5% игр не имеют названия, жанра и/ или года выпуска.\n",
    "- Оценка критиков дана 49% игр,пользователи оценили 60% игр.\n",
    "- Возрастные ограничения определены для 60% игр."
   ]
  },
  {
   "cell_type": "markdown",
   "metadata": {},
   "source": [
    "### Подготовка данных"
   ]
  },
  {
   "cell_type": "code",
   "execution_count": 3,
   "metadata": {},
   "outputs": [],
   "source": [
    "# приведем данные к нижнему регистру\n",
    "df.columns = df.columns.str.lower()"
   ]
  },
  {
   "cell_type": "code",
   "execution_count": 4,
   "metadata": {},
   "outputs": [],
   "source": [
    "# изменим типы данных\n",
    "df['year_of_release'] = df['year_of_release'].astype('Int64') #год - это всегда целое число\n",
    "df['user_score'] = pd.to_numeric(df['user_score'], errors='coerce') #рейтинг - это числовое значение. если нет (в том числе и tbd - NaN)"
   ]
  },
  {
   "cell_type": "code",
   "execution_count": 5,
   "metadata": {},
   "outputs": [
    {
     "name": "stdout",
     "output_type": "stream",
     "text": [
      "<class 'pandas.core.frame.DataFrame'>\n",
      "Int64Index: 16444 entries, 0 to 16714\n",
      "Data columns (total 11 columns):\n",
      " #   Column           Non-Null Count  Dtype  \n",
      "---  ------           --------------  -----  \n",
      " 0   name             16444 non-null  object \n",
      " 1   platform         16444 non-null  object \n",
      " 2   year_of_release  16444 non-null  Int64  \n",
      " 3   genre            16444 non-null  object \n",
      " 4   na_sales         16444 non-null  float64\n",
      " 5   eu_sales         16444 non-null  float64\n",
      " 6   jp_sales         16444 non-null  float64\n",
      " 7   other_sales      16444 non-null  float64\n",
      " 8   critic_score     7983 non-null   float64\n",
      " 9   user_score       7463 non-null   float64\n",
      " 10  rating           9768 non-null   object \n",
      "dtypes: Int64(1), float64(6), object(4)\n",
      "memory usage: 1.5+ MB\n"
     ]
    }
   ],
   "source": [
    "# заменим пропуски\n",
    "df = df.dropna(subset=['year_of_release'])# 269 nan -  пропусков, можно удалить, это меньше 2% данных\n",
    "df = df.dropna(subset=['name'])# 2 nan -  пропуск, можно удалить, это меньше 1% данных\n",
    "df.info()"
   ]
  },
  {
   "cell_type": "code",
   "execution_count": 6,
   "metadata": {},
   "outputs": [
    {
     "name": "stdout",
     "output_type": "stream",
     "text": [
      "['E' nan 'M' 'T' 'E10+' 'K-A' 'AO' 'EC' 'RP']\n"
     ]
    }
   ],
   "source": [
    "print(df['rating'].unique()) "
   ]
  },
  {
   "cell_type": "markdown",
   "metadata": {},
   "source": [
    "Расшифровка:\n",
    "- E    = 6+  = «Everyone» — «Для всех»: Содержание вполне подходит для возрастной категории от 6 лет.\n",
    "- M    = 17+ = «Mature» — «Для взрослых»: Материалы игры не подходят для подростков младше 17 лет. \n",
    "- T    = 13+ = «Teen» — «Подросткам»: Игра подходит для лиц от 13 лет.\n",
    "- E10+ = 10+ = «Everyone 10 and older» — «Для всех от 10 лет и старше»:\n",
    "- K-A  = 6+  = \"K-A\" (\"Kids to Adults\") = E = «Everyone»\n",
    "- AO   = 18+ = «Adults Only 18+» — «Только для взрослых»: Содержание игры только для взрослых старше 18 лет. \n",
    "- EC   = 3+  = «Early childhood» — «Для детей младшего возраста»: Игра подходит для детей от 3 лет\n",
    "- RP   =     = «Rating Pending» — «Рейтинг ожидается»: Продукт был отправлен в ESRB и ожидает присвоения рейтинга. \n",
    "\n",
    "Можно объединить группы Е и К-А, дублируютдруг друга.\n",
    "RP и NAN заменим на Unknown"
   ]
  },
  {
   "cell_type": "code",
   "execution_count": 7,
   "metadata": {},
   "outputs": [
    {
     "name": "stdout",
     "output_type": "stream",
     "text": [
      "['E' 'Unknown' 'M' 'T' 'E10+' 'AO' 'EC']\n"
     ]
    }
   ],
   "source": [
    "#Объединим группы Е и К-А\n",
    "df['rating'] = df['rating'].where(df['rating'] != 'K-A', 'E')\n",
    "\n",
    "#RP и NAN заменим на Unknown\n",
    "df['rating'] = df['rating'].where(df['rating'] != 'RP', 'Unknown')\n",
    "df['rating'] = df['rating'].fillna('Unknown')\n",
    "print(df['rating'].unique())"
   ]
  },
  {
   "cell_type": "code",
   "execution_count": 8,
   "metadata": {},
   "outputs": [
    {
     "name": "stdout",
     "output_type": "stream",
     "text": [
      "31\n",
      "0\n"
     ]
    }
   ],
   "source": [
    "print(df['platform'].nunique()) # 31 уникальное значение - ок\n",
    "print(df.duplicated().sum()) # дубликатов нет - ок"
   ]
  },
  {
   "cell_type": "code",
   "execution_count": 9,
   "metadata": {},
   "outputs": [
    {
     "data": {
      "image/png": "[encoded data removed]",
      "text/plain": [
       "<Figure size 432x288 with 1 Axes>"
      ]
     },
     "metadata": {
      "needs_background": "light"
     },
     "output_type": "display_data"
    }
   ],
   "source": [
    "#Переведем рейтинги к общему порядку чисел и проанализируем данные\n",
    "df['critic_score'] = df['critic_score']/10\n",
    "ax = df['critic_score'].hist(bins = 30, alpha = 0.5, label = 'critic_score')\n",
    "ax = df['user_score'].hist(bins = 30, alpha = 0.5, label = 'user_score')\n",
    "ax.set_xlabel('Оценка')\n",
    "ax.set_ylabel('Количество рецензентов')\n",
    "plt.title('Статистика оценок пользователей и критиков')\n",
    "ax.legend();"
   ]
  },
  {
   "cell_type": "code",
   "execution_count": 10,
   "metadata": {},
   "outputs": [
    {
     "data": {
      "image/png": "[encoded data removed]",
      "text/plain": [
       "<Figure size 432x288 with 1 Axes>"
      ]
     },
     "metadata": {
      "needs_background": "light"
     },
     "output_type": "display_data"
    },
    {
     "data": {
      "text/plain": [
       "count    7983.000000\n",
       "mean        6.899436\n",
       "std         1.392006\n",
       "min         1.300000\n",
       "25%         6.000000\n",
       "50%         7.100000\n",
       "75%         7.900000\n",
       "max         9.800000\n",
       "Name: critic_score, dtype: float64"
      ]
     },
     "execution_count": 10,
     "metadata": {},
     "output_type": "execute_result"
    }
   ],
   "source": [
    "df.boxplot(column='critic_score') \n",
    "plt.show()\n",
    "df['critic_score'].describe()"
   ]
  },
  {
   "cell_type": "code",
   "execution_count": 11,
   "metadata": {},
   "outputs": [
    {
     "data": {
      "image/png": "[encoded data removed]",
      "text/plain": [
       "<Figure size 432x288 with 1 Axes>"
      ]
     },
     "metadata": {
      "needs_background": "light"
     },
     "output_type": "display_data"
    },
    {
     "data": {
      "text/plain": [
       "count    7463.000000\n",
       "mean        7.126330\n",
       "std         1.499447\n",
       "min         0.000000\n",
       "25%         6.400000\n",
       "50%         7.500000\n",
       "75%         8.200000\n",
       "max         9.700000\n",
       "Name: user_score, dtype: float64"
      ]
     },
     "execution_count": 11,
     "metadata": {},
     "output_type": "execute_result"
    }
   ],
   "source": [
    "df.boxplot(column='user_score')\n",
    "plt.show()\n",
    "df['user_score'].describe()"
   ]
  },
  {
   "cell_type": "markdown",
   "metadata": {},
   "source": [
    "Заменять пропуски в оценках пользователей и критиков не нужно - это может сместить выборку."
   ]
  },
  {
   "cell_type": "code",
   "execution_count": 12,
   "metadata": {},
   "outputs": [],
   "source": [
    "# вычислим суммарные продажи\n",
    "df['total_sales'] = df['na_sales']+df['eu_sales']+df['jp_sales']+df['other_sales']"
   ]
  },
  {
   "cell_type": "markdown",
   "metadata": {},
   "source": [
    "### Исследовательский анализ"
   ]
  },
  {
   "cell_type": "markdown",
   "metadata": {},
   "source": [
    "#### Задача: \n",
    "\n",
    "Посмотрите, сколько игр выпускалось в разные годы. Важны ли данные за все периоды?"
   ]
  },
  {
   "cell_type": "code",
   "execution_count": 13,
   "metadata": {},
   "outputs": [
    {
     "data": {
      "image/png": "[encoded data removed]",
      "text/plain": [
       "<Figure size 432x288 with 1 Axes>"
      ]
     },
     "metadata": {
      "needs_background": "light"
     },
     "output_type": "display_data"
    }
   ],
   "source": [
    "ax = df.pivot_table(index = 'year_of_release', values = 'name', aggfunc = 'count')\n",
    "#display(ax)\n",
    "ax = ax.plot();\n",
    "ax.set_xlabel('Год выпуска')\n",
    "ax.set_ylabel('Количество игр')\n",
    "plt.title('Количество выпущенных игр по годам');"
   ]
  },
  {
   "cell_type": "markdown",
   "metadata": {},
   "source": [
    "Данные до 2000 года можно не рассматривать: активный рост начинается с 2000, и пик приходится на 2009"
   ]
  },
  {
   "cell_type": "markdown",
   "metadata": {},
   "source": [
    "#### Задача: \n",
    "\n",
    "Посмотрите, как менялись продажи по платформам. Выберите платформы с наибольшими суммарными продажами и постройте распределение по годам. За какой характерный срок появляются новые и исчезают старые платформы?"
   ]
  },
  {
   "cell_type": "code",
   "execution_count": 14,
   "metadata": {},
   "outputs": [
    {
     "data": {
      "text/html": [
       "<div>\n",
       "<style scoped>\n",
       "    .dataframe tbody tr th:only-of-type {\n",
       "        vertical-align: middle;\n",
       "    }\n",
       "\n",
       "    .dataframe tbody tr th {\n",
       "        vertical-align: top;\n",
       "    }\n",
       "\n",
       "    .dataframe thead tr th {\n",
       "        text-align: left;\n",
       "    }\n",
       "\n",
       "    .dataframe thead tr:last-of-type th {\n",
       "        text-align: right;\n",
       "    }\n",
       "</style>\n",
       "<table border=\"1\" class=\"dataframe\">\n",
       "  <thead>\n",
       "    <tr>\n",
       "      <th></th>\n",
       "      <th>sum</th>\n",
       "    </tr>\n",
       "    <tr>\n",
       "      <th></th>\n",
       "      <th>total_sales</th>\n",
       "    </tr>\n",
       "    <tr>\n",
       "      <th>platform</th>\n",
       "      <th></th>\n",
       "    </tr>\n",
       "  </thead>\n",
       "  <tbody>\n",
       "    <tr>\n",
       "      <th>PS2</th>\n",
       "      <td>1233.56</td>\n",
       "    </tr>\n",
       "    <tr>\n",
       "      <th>X360</th>\n",
       "      <td>961.24</td>\n",
       "    </tr>\n",
       "    <tr>\n",
       "      <th>PS3</th>\n",
       "      <td>931.34</td>\n",
       "    </tr>\n",
       "    <tr>\n",
       "      <th>Wii</th>\n",
       "      <td>891.18</td>\n",
       "    </tr>\n",
       "    <tr>\n",
       "      <th>DS</th>\n",
       "      <td>802.78</td>\n",
       "    </tr>\n",
       "    <tr>\n",
       "      <th>PS</th>\n",
       "      <td>727.58</td>\n",
       "    </tr>\n",
       "    <tr>\n",
       "      <th>PS4</th>\n",
       "      <td>314.14</td>\n",
       "    </tr>\n",
       "    <tr>\n",
       "      <th>GBA</th>\n",
       "      <td>312.88</td>\n",
       "    </tr>\n",
       "    <tr>\n",
       "      <th>PSP</th>\n",
       "      <td>289.53</td>\n",
       "    </tr>\n",
       "    <tr>\n",
       "      <th>3DS</th>\n",
       "      <td>257.81</td>\n",
       "    </tr>\n",
       "    <tr>\n",
       "      <th>PC</th>\n",
       "      <td>255.76</td>\n",
       "    </tr>\n",
       "    <tr>\n",
       "      <th>GB</th>\n",
       "      <td>254.43</td>\n",
       "    </tr>\n",
       "    <tr>\n",
       "      <th>XB</th>\n",
       "      <td>251.57</td>\n",
       "    </tr>\n",
       "    <tr>\n",
       "      <th>NES</th>\n",
       "      <td>251.05</td>\n",
       "    </tr>\n",
       "    <tr>\n",
       "      <th>N64</th>\n",
       "      <td>218.01</td>\n",
       "    </tr>\n",
       "  </tbody>\n",
       "</table>\n",
       "</div>"
      ],
      "text/plain": [
       "                 sum\n",
       "         total_sales\n",
       "platform            \n",
       "PS2          1233.56\n",
       "X360          961.24\n",
       "PS3           931.34\n",
       "Wii           891.18\n",
       "DS            802.78\n",
       "PS            727.58\n",
       "PS4           314.14\n",
       "GBA           312.88\n",
       "PSP           289.53\n",
       "3DS           257.81\n",
       "PC            255.76\n",
       "GB            254.43\n",
       "XB            251.57\n",
       "NES           251.05\n",
       "N64           218.01"
      ]
     },
     "metadata": {},
     "output_type": "display_data"
    }
   ],
   "source": [
    "# Определим топ-15 платформ по продажам (всего - 31 платформа)\n",
    "display(df.pivot_table(index = ['platform'], values = 'total_sales', aggfunc = ['sum']).sort_values(by = ('sum', 'total_sales'),ascending=False).head(15))"
   ]
  },
  {
   "cell_type": "code",
   "execution_count": 15,
   "metadata": {},
   "outputs": [],
   "source": [
    "top_platforms = ['PS2', 'X360', 'PS3', 'Wii', 'DS', 'PS', 'PS4', 'GBA', 'PSP', '3DS', 'PC', 'GB', 'XB', 'NES']"
   ]
  },
  {
   "cell_type": "code",
   "execution_count": 16,
   "metadata": {},
   "outputs": [
    {
     "data": {
      "image/png": "[encoded data removed]",
      "text/plain": [
       "<Figure size 1440x360 with 1 Axes>"
      ]
     },
     "metadata": {
      "needs_background": "light"
     },
     "output_type": "display_data"
    }
   ],
   "source": [
    "ax = df.loc[df['platform'].isin(top_platforms)].pivot_table(index = 'year_of_release', columns = 'platform', values = 'name', aggfunc = 'count')\n",
    "ax = ax.plot(kind = 'line', figsize=(20, 5), grid=True)\n",
    "ax.set_xlabel('Год выпуска')\n",
    "ax.set_ylabel('Количество игр')\n",
    "plt.title('Продолжительность жизни платформ');"
   ]
  },
  {
   "cell_type": "markdown",
   "metadata": {},
   "source": [
    "Средняя продолжительность жизни платформы - 5-10 лет"
   ]
  },
  {
   "cell_type": "markdown",
   "metadata": {},
   "source": [
    "#### Задача:\n",
    "Возьмите данные за соответствующий актуальный период. Актуальный период определите самостоятельно в результате исследования предыдущих вопросов. Основной фактор — эти данные помогут построить прогноз на 2017 год.\n",
    "\n",
    "Не учитывайте в работе данные за предыдущие годы.\n",
    "- Какие платформы лидируют по продажам, растут или падают? Выберите несколько потенциально прибыльных платформ.\n",
    "- Постройте график «ящик с усами» по глобальным продажам игр в разбивке по платформам. Опишите результат.\n",
    "- Посмотрите, как влияют на продажи внутри одной популярной платформы отзывы пользователей и критиков. Постройте диаграмму рассеяния и посчитайте корреляцию между отзывами и продажами. Сформулируйте выводы.\n",
    "- Соотнесите выводы с продажами игр на других платформах.\n",
    "- Посмотрите на общее распределение игр по жанрам. Что можно сказать о самых прибыльных жанрах? Выделяются ли жанры с высокими и низкими продажами?"
   ]
  },
  {
   "cell_type": "markdown",
   "metadata": {},
   "source": [
    "Исходя из средней продолжительности жизни платформы, чтобы построить прогноз на 2017, нужно опираться на данные после 2007 года.\n",
    "Т.к. компьютерные игры - динамично изменяющаяся индустрия, сфокусируемся на данных с 2012 года."
   ]
  },
  {
   "cell_type": "code",
   "execution_count": 17,
   "metadata": {},
   "outputs": [
    {
     "data": {
      "text/html": [
       "<div>\n",
       "<style scoped>\n",
       "    .dataframe tbody tr th:only-of-type {\n",
       "        vertical-align: middle;\n",
       "    }\n",
       "\n",
       "    .dataframe tbody tr th {\n",
       "        vertical-align: top;\n",
       "    }\n",
       "\n",
       "    .dataframe thead th {\n",
       "        text-align: right;\n",
       "    }\n",
       "</style>\n",
       "<table border=\"1\" class=\"dataframe\">\n",
       "  <thead>\n",
       "    <tr style=\"text-align: right;\">\n",
       "      <th></th>\n",
       "      <th>name</th>\n",
       "      <th>platform</th>\n",
       "      <th>year_of_release</th>\n",
       "      <th>genre</th>\n",
       "      <th>na_sales</th>\n",
       "      <th>eu_sales</th>\n",
       "      <th>jp_sales</th>\n",
       "      <th>other_sales</th>\n",
       "      <th>critic_score</th>\n",
       "      <th>user_score</th>\n",
       "      <th>rating</th>\n",
       "      <th>total_sales</th>\n",
       "    </tr>\n",
       "  </thead>\n",
       "  <tbody>\n",
       "    <tr>\n",
       "      <th>16</th>\n",
       "      <td>Grand Theft Auto V</td>\n",
       "      <td>PS3</td>\n",
       "      <td>2013</td>\n",
       "      <td>Action</td>\n",
       "      <td>7.02</td>\n",
       "      <td>9.09</td>\n",
       "      <td>0.98</td>\n",
       "      <td>3.96</td>\n",
       "      <td>9.7</td>\n",
       "      <td>8.2</td>\n",
       "      <td>M</td>\n",
       "      <td>21.05</td>\n",
       "    </tr>\n",
       "    <tr>\n",
       "      <th>23</th>\n",
       "      <td>Grand Theft Auto V</td>\n",
       "      <td>X360</td>\n",
       "      <td>2013</td>\n",
       "      <td>Action</td>\n",
       "      <td>9.66</td>\n",
       "      <td>5.14</td>\n",
       "      <td>0.06</td>\n",
       "      <td>1.41</td>\n",
       "      <td>9.7</td>\n",
       "      <td>8.1</td>\n",
       "      <td>M</td>\n",
       "      <td>16.27</td>\n",
       "    </tr>\n",
       "    <tr>\n",
       "      <th>31</th>\n",
       "      <td>Call of Duty: Black Ops 3</td>\n",
       "      <td>PS4</td>\n",
       "      <td>2015</td>\n",
       "      <td>Shooter</td>\n",
       "      <td>6.03</td>\n",
       "      <td>5.86</td>\n",
       "      <td>0.36</td>\n",
       "      <td>2.38</td>\n",
       "      <td>NaN</td>\n",
       "      <td>NaN</td>\n",
       "      <td>Unknown</td>\n",
       "      <td>14.63</td>\n",
       "    </tr>\n",
       "    <tr>\n",
       "      <th>33</th>\n",
       "      <td>Pokemon X/Pokemon Y</td>\n",
       "      <td>3DS</td>\n",
       "      <td>2013</td>\n",
       "      <td>Role-Playing</td>\n",
       "      <td>5.28</td>\n",
       "      <td>4.19</td>\n",
       "      <td>4.35</td>\n",
       "      <td>0.78</td>\n",
       "      <td>NaN</td>\n",
       "      <td>NaN</td>\n",
       "      <td>Unknown</td>\n",
       "      <td>14.60</td>\n",
       "    </tr>\n",
       "    <tr>\n",
       "      <th>34</th>\n",
       "      <td>Call of Duty: Black Ops II</td>\n",
       "      <td>PS3</td>\n",
       "      <td>2012</td>\n",
       "      <td>Shooter</td>\n",
       "      <td>4.99</td>\n",
       "      <td>5.73</td>\n",
       "      <td>0.65</td>\n",
       "      <td>2.42</td>\n",
       "      <td>8.3</td>\n",
       "      <td>5.3</td>\n",
       "      <td>M</td>\n",
       "      <td>13.79</td>\n",
       "    </tr>\n",
       "    <tr>\n",
       "      <th>...</th>\n",
       "      <td>...</td>\n",
       "      <td>...</td>\n",
       "      <td>...</td>\n",
       "      <td>...</td>\n",
       "      <td>...</td>\n",
       "      <td>...</td>\n",
       "      <td>...</td>\n",
       "      <td>...</td>\n",
       "      <td>...</td>\n",
       "      <td>...</td>\n",
       "      <td>...</td>\n",
       "      <td>...</td>\n",
       "    </tr>\n",
       "    <tr>\n",
       "      <th>16703</th>\n",
       "      <td>Strawberry Nauts</td>\n",
       "      <td>PSV</td>\n",
       "      <td>2016</td>\n",
       "      <td>Adventure</td>\n",
       "      <td>0.00</td>\n",
       "      <td>0.00</td>\n",
       "      <td>0.01</td>\n",
       "      <td>0.00</td>\n",
       "      <td>NaN</td>\n",
       "      <td>NaN</td>\n",
       "      <td>Unknown</td>\n",
       "      <td>0.01</td>\n",
       "    </tr>\n",
       "    <tr>\n",
       "      <th>16707</th>\n",
       "      <td>Aiyoku no Eustia</td>\n",
       "      <td>PSV</td>\n",
       "      <td>2014</td>\n",
       "      <td>Misc</td>\n",
       "      <td>0.00</td>\n",
       "      <td>0.00</td>\n",
       "      <td>0.01</td>\n",
       "      <td>0.00</td>\n",
       "      <td>NaN</td>\n",
       "      <td>NaN</td>\n",
       "      <td>Unknown</td>\n",
       "      <td>0.01</td>\n",
       "    </tr>\n",
       "    <tr>\n",
       "      <th>16710</th>\n",
       "      <td>Samurai Warriors: Sanada Maru</td>\n",
       "      <td>PS3</td>\n",
       "      <td>2016</td>\n",
       "      <td>Action</td>\n",
       "      <td>0.00</td>\n",
       "      <td>0.00</td>\n",
       "      <td>0.01</td>\n",
       "      <td>0.00</td>\n",
       "      <td>NaN</td>\n",
       "      <td>NaN</td>\n",
       "      <td>Unknown</td>\n",
       "      <td>0.01</td>\n",
       "    </tr>\n",
       "    <tr>\n",
       "      <th>16712</th>\n",
       "      <td>Haitaka no Psychedelica</td>\n",
       "      <td>PSV</td>\n",
       "      <td>2016</td>\n",
       "      <td>Adventure</td>\n",
       "      <td>0.00</td>\n",
       "      <td>0.00</td>\n",
       "      <td>0.01</td>\n",
       "      <td>0.00</td>\n",
       "      <td>NaN</td>\n",
       "      <td>NaN</td>\n",
       "      <td>Unknown</td>\n",
       "      <td>0.01</td>\n",
       "    </tr>\n",
       "    <tr>\n",
       "      <th>16714</th>\n",
       "      <td>Winning Post 8 2016</td>\n",
       "      <td>PSV</td>\n",
       "      <td>2016</td>\n",
       "      <td>Simulation</td>\n",
       "      <td>0.00</td>\n",
       "      <td>0.00</td>\n",
       "      <td>0.01</td>\n",
       "      <td>0.00</td>\n",
       "      <td>NaN</td>\n",
       "      <td>NaN</td>\n",
       "      <td>Unknown</td>\n",
       "      <td>0.01</td>\n",
       "    </tr>\n",
       "  </tbody>\n",
       "</table>\n",
       "<p>2886 rows × 12 columns</p>\n",
       "</div>"
      ],
      "text/plain": [
       "                                name platform  year_of_release         genre  \\\n",
       "16                Grand Theft Auto V      PS3             2013        Action   \n",
       "23                Grand Theft Auto V     X360             2013        Action   \n",
       "31         Call of Duty: Black Ops 3      PS4             2015       Shooter   \n",
       "33               Pokemon X/Pokemon Y      3DS             2013  Role-Playing   \n",
       "34        Call of Duty: Black Ops II      PS3             2012       Shooter   \n",
       "...                              ...      ...              ...           ...   \n",
       "16703               Strawberry Nauts      PSV             2016     Adventure   \n",
       "16707               Aiyoku no Eustia      PSV             2014          Misc   \n",
       "16710  Samurai Warriors: Sanada Maru      PS3             2016        Action   \n",
       "16712        Haitaka no Psychedelica      PSV             2016     Adventure   \n",
       "16714            Winning Post 8 2016      PSV             2016    Simulation   \n",
       "\n",
       "       na_sales  eu_sales  jp_sales  other_sales  critic_score  user_score  \\\n",
       "16         7.02      9.09      0.98         3.96           9.7         8.2   \n",
       "23         9.66      5.14      0.06         1.41           9.7         8.1   \n",
       "31         6.03      5.86      0.36         2.38           NaN         NaN   \n",
       "33         5.28      4.19      4.35         0.78           NaN         NaN   \n",
       "34         4.99      5.73      0.65         2.42           8.3         5.3   \n",
       "...         ...       ...       ...          ...           ...         ...   \n",
       "16703      0.00      0.00      0.01         0.00           NaN         NaN   \n",
       "16707      0.00      0.00      0.01         0.00           NaN         NaN   \n",
       "16710      0.00      0.00      0.01         0.00           NaN         NaN   \n",
       "16712      0.00      0.00      0.01         0.00           NaN         NaN   \n",
       "16714      0.00      0.00      0.01         0.00           NaN         NaN   \n",
       "\n",
       "        rating  total_sales  \n",
       "16           M        21.05  \n",
       "23           M        16.27  \n",
       "31     Unknown        14.63  \n",
       "33     Unknown        14.60  \n",
       "34           M        13.79  \n",
       "...        ...          ...  \n",
       "16703  Unknown         0.01  \n",
       "16707  Unknown         0.01  \n",
       "16710  Unknown         0.01  \n",
       "16712  Unknown         0.01  \n",
       "16714  Unknown         0.01  \n",
       "\n",
       "[2886 rows x 12 columns]"
      ]
     },
     "metadata": {},
     "output_type": "display_data"
    }
   ],
   "source": [
    "df_2012_after = df.loc[df['year_of_release']>=2012].copy() #определили скоуп данных для дальнейшей работы\n",
    "display(df_2012_after)"
   ]
  },
  {
   "cell_type": "code",
   "execution_count": 18,
   "metadata": {},
   "outputs": [
    {
     "data": {
      "image/png": "[encoded data removed]",
      "text/plain": [
       "<Figure size 720x720 with 1 Axes>"
      ]
     },
     "metadata": {
      "needs_background": "light"
     },
     "output_type": "display_data"
    }
   ],
   "source": [
    "ax = df_2012_after.pivot_table(index = ['year_of_release'], columns = 'platform', values = 'total_sales', aggfunc = 'sum')\n",
    "ax = ax.plot(kind = 'line', figsize = (10,10), grid=True)\n",
    "ax.set_xlabel('Год выпуска')\n",
    "ax.set_ylabel('Количество продаж всех игр платформы')\n",
    "plt.title('Динамика продаж по платформам 2012 - 2016');"
   ]
  },
  {
   "cell_type": "markdown",
   "metadata": {},
   "source": [
    "Или 2016 год был провальным для всех платформ, или же за 2016 год данные не полные. \n",
    "(Это может быть по условию задачи).\n",
    "\n",
    "Обрежем данные до 2015 года"
   ]
  },
  {
   "cell_type": "code",
   "execution_count": 19,
   "metadata": {},
   "outputs": [
    {
     "data": {
      "text/html": [
       "<div>\n",
       "<style scoped>\n",
       "    .dataframe tbody tr th:only-of-type {\n",
       "        vertical-align: middle;\n",
       "    }\n",
       "\n",
       "    .dataframe tbody tr th {\n",
       "        vertical-align: top;\n",
       "    }\n",
       "\n",
       "    .dataframe thead th {\n",
       "        text-align: right;\n",
       "    }\n",
       "</style>\n",
       "<table border=\"1\" class=\"dataframe\">\n",
       "  <thead>\n",
       "    <tr style=\"text-align: right;\">\n",
       "      <th>platform</th>\n",
       "      <th>3DS</th>\n",
       "      <th>DS</th>\n",
       "      <th>PC</th>\n",
       "      <th>PS3</th>\n",
       "      <th>PS4</th>\n",
       "      <th>PSP</th>\n",
       "      <th>PSV</th>\n",
       "      <th>Wii</th>\n",
       "      <th>WiiU</th>\n",
       "      <th>X360</th>\n",
       "      <th>XOne</th>\n",
       "    </tr>\n",
       "    <tr>\n",
       "      <th>year_of_release</th>\n",
       "      <th></th>\n",
       "      <th></th>\n",
       "      <th></th>\n",
       "      <th></th>\n",
       "      <th></th>\n",
       "      <th></th>\n",
       "      <th></th>\n",
       "      <th></th>\n",
       "      <th></th>\n",
       "      <th></th>\n",
       "      <th></th>\n",
       "    </tr>\n",
       "  </thead>\n",
       "  <tbody>\n",
       "    <tr>\n",
       "      <th>2012</th>\n",
       "      <td>51.36</td>\n",
       "      <td>11.01</td>\n",
       "      <td>23.22</td>\n",
       "      <td>107.36</td>\n",
       "      <td>NaN</td>\n",
       "      <td>7.69</td>\n",
       "      <td>16.19</td>\n",
       "      <td>21.71</td>\n",
       "      <td>17.56</td>\n",
       "      <td>99.74</td>\n",
       "      <td>NaN</td>\n",
       "    </tr>\n",
       "    <tr>\n",
       "      <th>2013</th>\n",
       "      <td>56.57</td>\n",
       "      <td>1.54</td>\n",
       "      <td>12.38</td>\n",
       "      <td>113.25</td>\n",
       "      <td>25.99</td>\n",
       "      <td>3.14</td>\n",
       "      <td>10.59</td>\n",
       "      <td>8.59</td>\n",
       "      <td>21.65</td>\n",
       "      <td>88.58</td>\n",
       "      <td>18.96</td>\n",
       "    </tr>\n",
       "    <tr>\n",
       "      <th>2014</th>\n",
       "      <td>43.76</td>\n",
       "      <td>NaN</td>\n",
       "      <td>13.28</td>\n",
       "      <td>47.76</td>\n",
       "      <td>100.00</td>\n",
       "      <td>0.24</td>\n",
       "      <td>11.90</td>\n",
       "      <td>3.75</td>\n",
       "      <td>22.03</td>\n",
       "      <td>34.74</td>\n",
       "      <td>54.07</td>\n",
       "    </tr>\n",
       "    <tr>\n",
       "      <th>2015</th>\n",
       "      <td>27.78</td>\n",
       "      <td>NaN</td>\n",
       "      <td>8.52</td>\n",
       "      <td>16.82</td>\n",
       "      <td>118.90</td>\n",
       "      <td>0.12</td>\n",
       "      <td>6.25</td>\n",
       "      <td>1.14</td>\n",
       "      <td>16.35</td>\n",
       "      <td>11.96</td>\n",
       "      <td>60.14</td>\n",
       "    </tr>\n",
       "  </tbody>\n",
       "</table>\n",
       "</div>"
      ],
      "text/plain": [
       "platform           3DS     DS     PC     PS3     PS4   PSP    PSV    Wii  \\\n",
       "year_of_release                                                            \n",
       "2012             51.36  11.01  23.22  107.36     NaN  7.69  16.19  21.71   \n",
       "2013             56.57   1.54  12.38  113.25   25.99  3.14  10.59   8.59   \n",
       "2014             43.76    NaN  13.28   47.76  100.00  0.24  11.90   3.75   \n",
       "2015             27.78    NaN   8.52   16.82  118.90  0.12   6.25   1.14   \n",
       "\n",
       "platform          WiiU   X360   XOne  \n",
       "year_of_release                       \n",
       "2012             17.56  99.74    NaN  \n",
       "2013             21.65  88.58  18.96  \n",
       "2014             22.03  34.74  54.07  \n",
       "2015             16.35  11.96  60.14  "
      ]
     },
     "metadata": {},
     "output_type": "display_data"
    },
    {
     "data": {
      "image/png": "[encoded data removed]",
      "text/plain": [
       "<Figure size 720x720 with 1 Axes>"
      ]
     },
     "metadata": {
      "needs_background": "light"
     },
     "output_type": "display_data"
    }
   ],
   "source": [
    "df_2012_after = df_2012_after.loc[df_2012_after['year_of_release']<2016].copy()\n",
    "ax = df_2012_after.pivot_table(index = ['year_of_release'], columns = 'platform', values = 'total_sales', aggfunc = 'sum')\n",
    "display(ax)\n",
    "ax = ax.plot(kind = 'line', figsize = (10,10), grid=True)\n",
    "ax.set_xlabel('Год выпуска')\n",
    "ax.set_ylabel('Количество продаж всех игр платформы')\n",
    "plt.title('Динамика продаж по платформам 2012 - 2015');"
   ]
  },
  {
   "cell_type": "markdown",
   "metadata": {},
   "source": [
    "PS4 и Xone растут по динамике продаж игр. При условии эффективной операционный деятельности (расходы), можно предположить, что эти платформы прибыльны."
   ]
  },
  {
   "cell_type": "code",
   "execution_count": 20,
   "metadata": {},
   "outputs": [
    {
     "data": {
      "text/html": [
       "<div>\n",
       "<style scoped>\n",
       "    .dataframe tbody tr th:only-of-type {\n",
       "        vertical-align: middle;\n",
       "    }\n",
       "\n",
       "    .dataframe tbody tr th {\n",
       "        vertical-align: top;\n",
       "    }\n",
       "\n",
       "    .dataframe thead th {\n",
       "        text-align: right;\n",
       "    }\n",
       "</style>\n",
       "<table border=\"1\" class=\"dataframe\">\n",
       "  <thead>\n",
       "    <tr style=\"text-align: right;\">\n",
       "      <th>platform</th>\n",
       "      <th>3DS</th>\n",
       "      <th>DS</th>\n",
       "      <th>PC</th>\n",
       "      <th>PS3</th>\n",
       "      <th>PS4</th>\n",
       "      <th>PSP</th>\n",
       "      <th>PSV</th>\n",
       "      <th>Wii</th>\n",
       "      <th>WiiU</th>\n",
       "      <th>X360</th>\n",
       "      <th>XOne</th>\n",
       "    </tr>\n",
       "    <tr>\n",
       "      <th>year_of_release</th>\n",
       "      <th></th>\n",
       "      <th></th>\n",
       "      <th></th>\n",
       "      <th></th>\n",
       "      <th></th>\n",
       "      <th></th>\n",
       "      <th></th>\n",
       "      <th></th>\n",
       "      <th></th>\n",
       "      <th></th>\n",
       "      <th></th>\n",
       "    </tr>\n",
       "  </thead>\n",
       "  <tbody>\n",
       "    <tr>\n",
       "      <th>2012</th>\n",
       "      <td>0.552258</td>\n",
       "      <td>0.478696</td>\n",
       "      <td>0.380656</td>\n",
       "      <td>0.725405</td>\n",
       "      <td>NaN</td>\n",
       "      <td>0.072547</td>\n",
       "      <td>0.305472</td>\n",
       "      <td>0.700323</td>\n",
       "      <td>0.548750</td>\n",
       "      <td>0.940943</td>\n",
       "      <td>NaN</td>\n",
       "    </tr>\n",
       "    <tr>\n",
       "      <th>2013</th>\n",
       "      <td>0.621648</td>\n",
       "      <td>0.192500</td>\n",
       "      <td>0.325789</td>\n",
       "      <td>0.898810</td>\n",
       "      <td>1.624375</td>\n",
       "      <td>0.058148</td>\n",
       "      <td>0.168095</td>\n",
       "      <td>0.715833</td>\n",
       "      <td>0.515476</td>\n",
       "      <td>1.181067</td>\n",
       "      <td>0.997895</td>\n",
       "    </tr>\n",
       "    <tr>\n",
       "      <th>2014</th>\n",
       "      <td>0.547000</td>\n",
       "      <td>NaN</td>\n",
       "      <td>0.282553</td>\n",
       "      <td>0.442222</td>\n",
       "      <td>1.333333</td>\n",
       "      <td>0.024000</td>\n",
       "      <td>0.119000</td>\n",
       "      <td>0.625000</td>\n",
       "      <td>0.710645</td>\n",
       "      <td>0.551429</td>\n",
       "      <td>0.886393</td>\n",
       "    </tr>\n",
       "    <tr>\n",
       "      <th>2015</th>\n",
       "      <td>0.323023</td>\n",
       "      <td>NaN</td>\n",
       "      <td>0.170400</td>\n",
       "      <td>0.230411</td>\n",
       "      <td>0.867883</td>\n",
       "      <td>0.040000</td>\n",
       "      <td>0.056818</td>\n",
       "      <td>0.285000</td>\n",
       "      <td>0.583929</td>\n",
       "      <td>0.341714</td>\n",
       "      <td>0.751750</td>\n",
       "    </tr>\n",
       "  </tbody>\n",
       "</table>\n",
       "</div>"
      ],
      "text/plain": [
       "platform              3DS        DS        PC       PS3       PS4       PSP  \\\n",
       "year_of_release                                                               \n",
       "2012             0.552258  0.478696  0.380656  0.725405       NaN  0.072547   \n",
       "2013             0.621648  0.192500  0.325789  0.898810  1.624375  0.058148   \n",
       "2014             0.547000       NaN  0.282553  0.442222  1.333333  0.024000   \n",
       "2015             0.323023       NaN  0.170400  0.230411  0.867883  0.040000   \n",
       "\n",
       "platform              PSV       Wii      WiiU      X360      XOne  \n",
       "year_of_release                                                    \n",
       "2012             0.305472  0.700323  0.548750  0.940943       NaN  \n",
       "2013             0.168095  0.715833  0.515476  1.181067  0.997895  \n",
       "2014             0.119000  0.625000  0.710645  0.551429  0.886393  \n",
       "2015             0.056818  0.285000  0.583929  0.341714  0.751750  "
      ]
     },
     "metadata": {},
     "output_type": "display_data"
    },
    {
     "data": {
      "image/png": "[encoded data removed]",
      "text/plain": [
       "<Figure size 720x720 with 1 Axes>"
      ]
     },
     "metadata": {
      "needs_background": "light"
     },
     "output_type": "display_data"
    }
   ],
   "source": [
    "df_2012_after = df_2012_after.loc[df_2012_after['year_of_release']<2016].copy()\n",
    "ax = df_2012_after.pivot_table(index = ['year_of_release'], columns = 'platform', values = 'total_sales', aggfunc = 'mean')\n",
    "display(ax)\n",
    "ax = ax.plot(kind = 'line', figsize = (10,10), grid=True)\n",
    " "
   ]
  },
  {
   "cell_type": "markdown",
   "metadata": {},
   "source": [
    "Интересно, что удельные продажи игр по платформам снижаются - то есть, встает вопрос об успешности запускаемых продуктов. \n",
    "\n",
    "Количество выпущенных игр в динамике с 2012 года не падает у PC, 3DC, PS4, PSV, XOne. Кажется, что платформы выпускают  игры, которые не пользуются спросом."
   ]
  },
  {
   "cell_type": "code",
   "execution_count": 21,
   "metadata": {},
   "outputs": [
    {
     "name": "stdout",
     "output_type": "stream",
     "text": [
      "Топ-5 платформ по продажам за 2012-2015:\n"
     ]
    },
    {
     "data": {
      "text/html": [
       "<div>\n",
       "<style scoped>\n",
       "    .dataframe tbody tr th:only-of-type {\n",
       "        vertical-align: middle;\n",
       "    }\n",
       "\n",
       "    .dataframe tbody tr th {\n",
       "        vertical-align: top;\n",
       "    }\n",
       "\n",
       "    .dataframe thead tr th {\n",
       "        text-align: left;\n",
       "    }\n",
       "\n",
       "    .dataframe thead tr:last-of-type th {\n",
       "        text-align: right;\n",
       "    }\n",
       "</style>\n",
       "<table border=\"1\" class=\"dataframe\">\n",
       "  <thead>\n",
       "    <tr>\n",
       "      <th></th>\n",
       "      <th>sum</th>\n",
       "    </tr>\n",
       "    <tr>\n",
       "      <th></th>\n",
       "      <th>total_sales</th>\n",
       "    </tr>\n",
       "    <tr>\n",
       "      <th>platform</th>\n",
       "      <th></th>\n",
       "    </tr>\n",
       "  </thead>\n",
       "  <tbody>\n",
       "    <tr>\n",
       "      <th>PS3</th>\n",
       "      <td>285.19</td>\n",
       "    </tr>\n",
       "    <tr>\n",
       "      <th>PS4</th>\n",
       "      <td>244.89</td>\n",
       "    </tr>\n",
       "    <tr>\n",
       "      <th>X360</th>\n",
       "      <td>235.02</td>\n",
       "    </tr>\n",
       "    <tr>\n",
       "      <th>3DS</th>\n",
       "      <td>179.47</td>\n",
       "    </tr>\n",
       "    <tr>\n",
       "      <th>XOne</th>\n",
       "      <td>133.17</td>\n",
       "    </tr>\n",
       "  </tbody>\n",
       "</table>\n",
       "</div>"
      ],
      "text/plain": [
       "                 sum\n",
       "         total_sales\n",
       "platform            \n",
       "PS3           285.19\n",
       "PS4           244.89\n",
       "X360          235.02\n",
       "3DS           179.47\n",
       "XOne          133.17"
      ]
     },
     "metadata": {},
     "output_type": "display_data"
    }
   ],
   "source": [
    "#Определим лидеров по продажам\n",
    "print('Топ-5 платформ по продажам за 2012-2015:')\n",
    "display(df_2012_after.pivot_table(index = ['platform'], values = 'total_sales', aggfunc = ['sum']).sort_values(by = ('sum', 'total_sales'),ascending=False).head())"
   ]
  },
  {
   "cell_type": "code",
   "execution_count": 22,
   "metadata": {},
   "outputs": [
    {
     "data": {
      "text/plain": [
       "array(['PS3', 'X360', 'PS4', '3DS', 'DS', 'XOne', 'WiiU', 'Wii', 'PC',\n",
       "       'PSV', 'PSP'], dtype=object)"
      ]
     },
     "execution_count": 22,
     "metadata": {},
     "output_type": "execute_result"
    }
   ],
   "source": [
    "df_2012_after['platform'].unique()"
   ]
  },
  {
   "cell_type": "code",
   "execution_count": 23,
   "metadata": {},
   "outputs": [
    {
     "data": {
      "image/png": "[encoded data removed]",
      "text/plain": [
       "<Figure size 1440x720 with 1 Axes>"
      ]
     },
     "metadata": {
      "needs_background": "light"
     },
     "output_type": "display_data"
    }
   ],
   "source": [
    "#Построим «ящик с усами» по глобальным продажам игр в разбивке по платформам\n",
    "df_2012_after.pivot_table(index = 'name', columns = 'platform', values = 'total_sales').boxplot(column=['Wii', 'X360', 'PS3', 'DS', 'PS4', '3DS', 'PC', 'XOne', 'WiiU', 'PSP', 'PSV'], figsize = (20,10));"
   ]
  },
  {
   "cell_type": "code",
   "execution_count": 24,
   "metadata": {},
   "outputs": [
    {
     "name": "stdout",
     "output_type": "stream",
     "text": [
      "Platform PS3\n"
     ]
    },
    {
     "data": {
      "text/plain": [
       "count    455.000000\n",
       "mean       0.626791\n",
       "std        1.515258\n",
       "min        0.010000\n",
       "25%        0.050000\n",
       "50%        0.230000\n",
       "75%        0.660000\n",
       "max       21.050000\n",
       "Name: total_sales, dtype: float64"
      ]
     },
     "metadata": {},
     "output_type": "display_data"
    },
    {
     "name": "stdout",
     "output_type": "stream",
     "text": [
      "Platform X360\n"
     ]
    },
    {
     "data": {
      "text/plain": [
       "count    279.000000\n",
       "mean       0.842366\n",
       "std        1.744755\n",
       "min        0.010000\n",
       "25%        0.100000\n",
       "50%        0.340000\n",
       "75%        0.890000\n",
       "max       16.270000\n",
       "Name: total_sales, dtype: float64"
      ]
     },
     "metadata": {},
     "output_type": "display_data"
    },
    {
     "name": "stdout",
     "output_type": "stream",
     "text": [
      "Platform PS4\n"
     ]
    },
    {
     "data": {
      "text/plain": [
       "count    228.000000\n",
       "mean       1.074079\n",
       "std        1.899788\n",
       "min        0.010000\n",
       "25%        0.097500\n",
       "50%        0.310000\n",
       "75%        1.105000\n",
       "max       14.630000\n",
       "Name: total_sales, dtype: float64"
      ]
     },
     "metadata": {},
     "output_type": "display_data"
    },
    {
     "name": "stdout",
     "output_type": "stream",
     "text": [
      "Platform 3DS\n"
     ]
    },
    {
     "data": {
      "text/plain": [
       "count    350.000000\n",
       "mean       0.512771\n",
       "std        1.424582\n",
       "min        0.010000\n",
       "25%        0.050000\n",
       "50%        0.115000\n",
       "75%        0.330000\n",
       "max       14.600000\n",
       "Name: total_sales, dtype: float64"
      ]
     },
     "metadata": {},
     "output_type": "display_data"
    },
    {
     "name": "stdout",
     "output_type": "stream",
     "text": [
      "Platform DS\n"
     ]
    },
    {
     "data": {
      "text/plain": [
       "count    31.000000\n",
       "mean      0.404839\n",
       "std       1.439245\n",
       "min       0.010000\n",
       "25%       0.020000\n",
       "50%       0.050000\n",
       "75%       0.185000\n",
       "max       8.060000\n",
       "Name: total_sales, dtype: float64"
      ]
     },
     "metadata": {},
     "output_type": "display_data"
    },
    {
     "name": "stdout",
     "output_type": "stream",
     "text": [
      "Platform XOne\n"
     ]
    },
    {
     "data": {
      "text/plain": [
       "count    160.000000\n",
       "mean       0.832313\n",
       "std        1.182243\n",
       "min        0.010000\n",
       "25%        0.130000\n",
       "50%        0.350000\n",
       "75%        1.137500\n",
       "max        7.390000\n",
       "Name: total_sales, dtype: float64"
      ]
     },
     "metadata": {},
     "output_type": "display_data"
    },
    {
     "name": "stdout",
     "output_type": "stream",
     "text": [
      "Platform WiiU\n"
     ]
    },
    {
     "data": {
      "text/plain": [
       "count    133.000000\n",
       "mean       0.583383\n",
       "std        1.105384\n",
       "min        0.010000\n",
       "25%        0.080000\n",
       "50%        0.220000\n",
       "75%        0.530000\n",
       "max        7.090000\n",
       "Name: total_sales, dtype: float64"
      ]
     },
     "metadata": {},
     "output_type": "display_data"
    },
    {
     "name": "stdout",
     "output_type": "stream",
     "text": [
      "Platform Wii\n"
     ]
    },
    {
     "data": {
      "text/plain": [
       "count    53.000000\n",
       "mean      0.663962\n",
       "std       1.174720\n",
       "min       0.010000\n",
       "25%       0.060000\n",
       "50%       0.180000\n",
       "75%       0.690000\n",
       "max       6.760000\n",
       "Name: total_sales, dtype: float64"
      ]
     },
     "metadata": {},
     "output_type": "display_data"
    },
    {
     "name": "stdout",
     "output_type": "stream",
     "text": [
      "Platform PC\n"
     ]
    },
    {
     "data": {
      "text/plain": [
       "count    196.000000\n",
       "mean       0.292857\n",
       "std        0.546894\n",
       "min        0.010000\n",
       "25%        0.030000\n",
       "50%        0.100000\n",
       "75%        0.292500\n",
       "max        5.140000\n",
       "Name: total_sales, dtype: float64"
      ]
     },
     "metadata": {},
     "output_type": "display_data"
    },
    {
     "name": "stdout",
     "output_type": "stream",
     "text": [
      "Platform PSV\n"
     ]
    },
    {
     "data": {
      "text/plain": [
       "count    326.000000\n",
       "mean       0.137822\n",
       "std        0.222652\n",
       "min        0.010000\n",
       "25%        0.030000\n",
       "50%        0.060000\n",
       "75%        0.150000\n",
       "max        1.960000\n",
       "Name: total_sales, dtype: float64"
      ]
     },
     "metadata": {},
     "output_type": "display_data"
    },
    {
     "name": "stdout",
     "output_type": "stream",
     "text": [
      "Platform PSP\n"
     ]
    },
    {
     "data": {
      "text/plain": [
       "count    173.000000\n",
       "mean       0.064682\n",
       "std        0.071296\n",
       "min        0.010000\n",
       "25%        0.020000\n",
       "50%        0.030000\n",
       "75%        0.090000\n",
       "max        0.360000\n",
       "Name: total_sales, dtype: float64"
      ]
     },
     "metadata": {},
     "output_type": "display_data"
    }
   ],
   "source": [
    "#Посмотрим на чиловые значения статистики - не очень наглядно, но информативно\n",
    "for i in df_2012_after['platform'].unique():\n",
    "    print('Platform', i)\n",
    "    display(df_2012_after.loc[df['platform'] == i]['total_sales'].describe())"
   ]
  },
  {
   "cell_type": "code",
   "execution_count": 25,
   "metadata": {},
   "outputs": [
    {
     "data": {
      "text/html": [
       "<div>\n",
       "<style scoped>\n",
       "    .dataframe tbody tr th:only-of-type {\n",
       "        vertical-align: middle;\n",
       "    }\n",
       "\n",
       "    .dataframe tbody tr th {\n",
       "        vertical-align: top;\n",
       "    }\n",
       "\n",
       "    .dataframe thead tr th {\n",
       "        text-align: left;\n",
       "    }\n",
       "\n",
       "    .dataframe thead tr:last-of-type th {\n",
       "        text-align: right;\n",
       "    }\n",
       "</style>\n",
       "<table border=\"1\" class=\"dataframe\">\n",
       "  <thead>\n",
       "    <tr>\n",
       "      <th></th>\n",
       "      <th>count</th>\n",
       "      <th>min</th>\n",
       "      <th>max</th>\n",
       "      <th>median</th>\n",
       "    </tr>\n",
       "    <tr>\n",
       "      <th></th>\n",
       "      <th>total_sales</th>\n",
       "      <th>total_sales</th>\n",
       "      <th>total_sales</th>\n",
       "      <th>total_sales</th>\n",
       "    </tr>\n",
       "    <tr>\n",
       "      <th>platform</th>\n",
       "      <th></th>\n",
       "      <th></th>\n",
       "      <th></th>\n",
       "      <th></th>\n",
       "    </tr>\n",
       "  </thead>\n",
       "  <tbody>\n",
       "    <tr>\n",
       "      <th>PS3</th>\n",
       "      <td>455</td>\n",
       "      <td>0.01</td>\n",
       "      <td>21.05</td>\n",
       "      <td>0.23</td>\n",
       "    </tr>\n",
       "    <tr>\n",
       "      <th>X360</th>\n",
       "      <td>279</td>\n",
       "      <td>0.01</td>\n",
       "      <td>16.27</td>\n",
       "      <td>0.34</td>\n",
       "    </tr>\n",
       "    <tr>\n",
       "      <th>PS4</th>\n",
       "      <td>228</td>\n",
       "      <td>0.01</td>\n",
       "      <td>14.63</td>\n",
       "      <td>0.31</td>\n",
       "    </tr>\n",
       "    <tr>\n",
       "      <th>3DS</th>\n",
       "      <td>350</td>\n",
       "      <td>0.01</td>\n",
       "      <td>14.60</td>\n",
       "      <td>0.12</td>\n",
       "    </tr>\n",
       "    <tr>\n",
       "      <th>DS</th>\n",
       "      <td>31</td>\n",
       "      <td>0.01</td>\n",
       "      <td>8.06</td>\n",
       "      <td>0.05</td>\n",
       "    </tr>\n",
       "    <tr>\n",
       "      <th>XOne</th>\n",
       "      <td>160</td>\n",
       "      <td>0.01</td>\n",
       "      <td>7.39</td>\n",
       "      <td>0.35</td>\n",
       "    </tr>\n",
       "    <tr>\n",
       "      <th>WiiU</th>\n",
       "      <td>133</td>\n",
       "      <td>0.01</td>\n",
       "      <td>7.09</td>\n",
       "      <td>0.22</td>\n",
       "    </tr>\n",
       "    <tr>\n",
       "      <th>Wii</th>\n",
       "      <td>53</td>\n",
       "      <td>0.01</td>\n",
       "      <td>6.76</td>\n",
       "      <td>0.18</td>\n",
       "    </tr>\n",
       "    <tr>\n",
       "      <th>PC</th>\n",
       "      <td>196</td>\n",
       "      <td>0.01</td>\n",
       "      <td>5.14</td>\n",
       "      <td>0.10</td>\n",
       "    </tr>\n",
       "    <tr>\n",
       "      <th>PSV</th>\n",
       "      <td>326</td>\n",
       "      <td>0.01</td>\n",
       "      <td>1.96</td>\n",
       "      <td>0.06</td>\n",
       "    </tr>\n",
       "    <tr>\n",
       "      <th>PSP</th>\n",
       "      <td>173</td>\n",
       "      <td>0.01</td>\n",
       "      <td>0.36</td>\n",
       "      <td>0.03</td>\n",
       "    </tr>\n",
       "  </tbody>\n",
       "</table>\n",
       "</div>"
      ],
      "text/plain": [
       "               count         min         max      median\n",
       "         total_sales total_sales total_sales total_sales\n",
       "platform                                                \n",
       "PS3              455        0.01       21.05        0.23\n",
       "X360             279        0.01       16.27        0.34\n",
       "PS4              228        0.01       14.63        0.31\n",
       "3DS              350        0.01       14.60        0.12\n",
       "DS                31        0.01        8.06        0.05\n",
       "XOne             160        0.01        7.39        0.35\n",
       "WiiU             133        0.01        7.09        0.22\n",
       "Wii               53        0.01        6.76        0.18\n",
       "PC               196        0.01        5.14        0.10\n",
       "PSV              326        0.01        1.96        0.06\n",
       "PSP              173        0.01        0.36        0.03"
      ]
     },
     "metadata": {},
     "output_type": "display_data"
    }
   ],
   "source": [
    "#посмотрим на количество игр в разрезе платформ\n",
    "ax = df_2012_after.pivot_table(index = 'platform', values = 'total_sales', aggfunc = ['count','min','max','median']).round(2)\n",
    "display(ax.sort_values(by = ('max','total_sales'),ascending = False))\n",
    "#ax = ax.plot(style='o',figsize = (10,5), grid=True)\n",
    "#ax.set_xlabel('Платформа')\n",
    "#ax.set_ylabel('Количество игр по продажам')\n",
    "#plt.title( 'Количество игр в разрезе платформ');"
   ]
  },
  {
   "cell_type": "code",
   "execution_count": 26,
   "metadata": {},
   "outputs": [
    {
     "data": {
      "text/html": [
       "<div>\n",
       "<style scoped>\n",
       "    .dataframe tbody tr th:only-of-type {\n",
       "        vertical-align: middle;\n",
       "    }\n",
       "\n",
       "    .dataframe tbody tr th {\n",
       "        vertical-align: top;\n",
       "    }\n",
       "\n",
       "    .dataframe thead th {\n",
       "        text-align: right;\n",
       "    }\n",
       "</style>\n",
       "<table border=\"1\" class=\"dataframe\">\n",
       "  <thead>\n",
       "    <tr style=\"text-align: right;\">\n",
       "      <th></th>\n",
       "      <th>st_deviation</th>\n",
       "    </tr>\n",
       "    <tr>\n",
       "      <th>platform</th>\n",
       "      <th></th>\n",
       "    </tr>\n",
       "  </thead>\n",
       "  <tbody>\n",
       "    <tr>\n",
       "      <th>PS4</th>\n",
       "      <td>1.900000</td>\n",
       "    </tr>\n",
       "    <tr>\n",
       "      <th>X360</th>\n",
       "      <td>1.743560</td>\n",
       "    </tr>\n",
       "    <tr>\n",
       "      <th>PS3</th>\n",
       "      <td>1.516575</td>\n",
       "    </tr>\n",
       "    <tr>\n",
       "      <th>DS</th>\n",
       "      <td>1.438749</td>\n",
       "    </tr>\n",
       "    <tr>\n",
       "      <th>3DS</th>\n",
       "      <td>1.424781</td>\n",
       "    </tr>\n",
       "    <tr>\n",
       "      <th>XOne</th>\n",
       "      <td>1.183216</td>\n",
       "    </tr>\n",
       "    <tr>\n",
       "      <th>Wii</th>\n",
       "      <td>1.174734</td>\n",
       "    </tr>\n",
       "    <tr>\n",
       "      <th>WiiU</th>\n",
       "      <td>1.104536</td>\n",
       "    </tr>\n",
       "    <tr>\n",
       "      <th>PC</th>\n",
       "      <td>0.547723</td>\n",
       "    </tr>\n",
       "    <tr>\n",
       "      <th>PSV</th>\n",
       "      <td>0.223607</td>\n",
       "    </tr>\n",
       "    <tr>\n",
       "      <th>PSP</th>\n",
       "      <td>0.100000</td>\n",
       "    </tr>\n",
       "  </tbody>\n",
       "</table>\n",
       "</div>"
      ],
      "text/plain": [
       "          st_deviation\n",
       "platform              \n",
       "PS4           1.900000\n",
       "X360          1.743560\n",
       "PS3           1.516575\n",
       "DS            1.438749\n",
       "3DS           1.424781\n",
       "XOne          1.183216\n",
       "Wii           1.174734\n",
       "WiiU          1.104536\n",
       "PC            0.547723\n",
       "PSV           0.223607\n",
       "PSP           0.100000"
      ]
     },
     "metadata": {},
     "output_type": "display_data"
    }
   ],
   "source": [
    "#посмотрим на ст. отклонения продаж в разрезе платформ\n",
    "ax = df_2012_after.pivot_table(index = 'platform', values = 'total_sales', aggfunc = 'var').round(2)\n",
    "ax['st_deviation'] = np.sqrt(ax['total_sales'])\n",
    "ax = ax.drop('total_sales',axis = 1)\n",
    "display(ax.sort_values(by = 'st_deviation',ascending = False))"
   ]
  },
  {
   "cell_type": "markdown",
   "metadata": {},
   "source": [
    "Глобальные продажи игр в разрезе всех платформ за 2012 - 2015 годы описываются следующими характеристиками:\n",
    "- За период платформы выпустили от 31 (DS) до 455 (PS3) игр\n",
    "- Средние значения продаж находятся в пределах от 0,06  (РSP) до 1,07  (PS4) млн копий\n",
    "- Медианы продаж -  в пределах от 0,03  (PSP) до 0,35  (XOne) млн копий\n",
    "- Разброс в данных можно оценить через стандартное отклонение. Оно варьируется от 0,1 (PSP) до 1,9 (PS4)\n",
    "- Минимальные объемы продаж для всех платформ - 0,01 млн копий. Максимумы - от 0,04 млн копий игры на PSP до - 21.05 млн копий (PS3)"
   ]
  },
  {
   "cell_type": "code",
   "execution_count": 27,
   "metadata": {},
   "outputs": [
    {
     "name": "stderr",
     "output_type": "stream",
     "text": [
      "/opt/conda/lib/python3.9/site-packages/numpy/lib/function_base.py:2683: RuntimeWarning: Degrees of freedom <= 0 for slice\n",
      "  c = cov(x, y, rowvar, dtype=dtype)\n",
      "/opt/conda/lib/python3.9/site-packages/numpy/lib/function_base.py:2542: RuntimeWarning: divide by zero encountered in true_divide\n",
      "  c *= np.true_divide(1, fact)\n"
     ]
    },
    {
     "data": {
      "text/html": [
       "<div>\n",
       "<style scoped>\n",
       "    .dataframe tbody tr th:only-of-type {\n",
       "        vertical-align: middle;\n",
       "    }\n",
       "\n",
       "    .dataframe tbody tr th {\n",
       "        vertical-align: top;\n",
       "    }\n",
       "\n",
       "    .dataframe thead th {\n",
       "        text-align: right;\n",
       "    }\n",
       "</style>\n",
       "<table border=\"1\" class=\"dataframe\">\n",
       "  <thead>\n",
       "    <tr style=\"text-align: right;\">\n",
       "      <th></th>\n",
       "      <th>platforms</th>\n",
       "      <th>sales</th>\n",
       "      <th>corr</th>\n",
       "      <th>score</th>\n",
       "    </tr>\n",
       "  </thead>\n",
       "  <tbody>\n",
       "    <tr>\n",
       "      <th>5</th>\n",
       "      <td>XOne</td>\n",
       "      <td>133.17</td>\n",
       "      <td>0.459385</td>\n",
       "      <td>7.304587</td>\n",
       "    </tr>\n",
       "    <tr>\n",
       "      <th>2</th>\n",
       "      <td>PS4</td>\n",
       "      <td>244.89</td>\n",
       "      <td>0.431848</td>\n",
       "      <td>7.235714</td>\n",
       "    </tr>\n",
       "    <tr>\n",
       "      <th>1</th>\n",
       "      <td>X360</td>\n",
       "      <td>235.02</td>\n",
       "      <td>0.360573</td>\n",
       "      <td>7.087135</td>\n",
       "    </tr>\n",
       "    <tr>\n",
       "      <th>6</th>\n",
       "      <td>WiiU</td>\n",
       "      <td>77.59</td>\n",
       "      <td>0.354691</td>\n",
       "      <td>7.051852</td>\n",
       "    </tr>\n",
       "    <tr>\n",
       "      <th>3</th>\n",
       "      <td>3DS</td>\n",
       "      <td>179.47</td>\n",
       "      <td>0.333148</td>\n",
       "      <td>6.959574</td>\n",
       "    </tr>\n",
       "    <tr>\n",
       "      <th>0</th>\n",
       "      <td>PS3</td>\n",
       "      <td>285.19</td>\n",
       "      <td>0.331497</td>\n",
       "      <td>7.156542</td>\n",
       "    </tr>\n",
       "    <tr>\n",
       "      <th>8</th>\n",
       "      <td>PC</td>\n",
       "      <td>57.40</td>\n",
       "      <td>0.263157</td>\n",
       "      <td>7.590850</td>\n",
       "    </tr>\n",
       "    <tr>\n",
       "      <th>9</th>\n",
       "      <td>PSV</td>\n",
       "      <td>44.93</td>\n",
       "      <td>0.116121</td>\n",
       "      <td>7.102062</td>\n",
       "    </tr>\n",
       "    <tr>\n",
       "      <th>7</th>\n",
       "      <td>Wii</td>\n",
       "      <td>35.19</td>\n",
       "      <td>-0.424341</td>\n",
       "      <td>7.620000</td>\n",
       "    </tr>\n",
       "    <tr>\n",
       "      <th>4</th>\n",
       "      <td>DS</td>\n",
       "      <td>12.55</td>\n",
       "      <td>NaN</td>\n",
       "      <td>8.000000</td>\n",
       "    </tr>\n",
       "    <tr>\n",
       "      <th>10</th>\n",
       "      <td>PSP</td>\n",
       "      <td>11.19</td>\n",
       "      <td>NaN</td>\n",
       "      <td>7.400000</td>\n",
       "    </tr>\n",
       "  </tbody>\n",
       "</table>\n",
       "</div>"
      ],
      "text/plain": [
       "   platforms   sales      corr     score\n",
       "5       XOne  133.17  0.459385  7.304587\n",
       "2        PS4  244.89  0.431848  7.235714\n",
       "1       X360  235.02  0.360573  7.087135\n",
       "6       WiiU   77.59  0.354691  7.051852\n",
       "3        3DS  179.47  0.333148  6.959574\n",
       "0        PS3  285.19  0.331497  7.156542\n",
       "8         PC   57.40  0.263157  7.590850\n",
       "9        PSV   44.93  0.116121  7.102062\n",
       "7        Wii   35.19 -0.424341  7.620000\n",
       "4         DS   12.55       NaN  8.000000\n",
       "10       PSP   11.19       NaN  7.400000"
      ]
     },
     "metadata": {},
     "output_type": "display_data"
    },
    {
     "data": {
      "image/png": "[encoded data removed]",
      "text/plain": [
       "<Figure size 432x288 with 1 Axes>"
      ]
     },
     "metadata": {
      "needs_background": "light"
     },
     "output_type": "display_data"
    }
   ],
   "source": [
    "# Проанализируем связи между отзывами критиков и продажами в рамках одной платформы\n",
    "corr = []\n",
    "sales = []\n",
    "platforms = []\n",
    "score = []\n",
    "for i in df_2012_after['platform'].unique():\n",
    "    platforms.append(i)\n",
    "    corr.append(df_2012_after.loc[df_2012_after['platform'] == i]['critic_score'].corr(df_2012_after.loc[df_2012_after['platform'] == i]['total_sales']))\n",
    "    sales.append(df_2012_after.loc[df_2012_after['platform'] == i]['total_sales'].sum())\n",
    "    score.append(df_2012_after.loc[df_2012_after['platform'] == i]['critic_score'].mean())\n",
    "\n",
    "    \n",
    "d = {'platforms': platforms, 'sales': sales, 'corr': corr, 'score': score}\n",
    "ax = pd.DataFrame(data=d)\n",
    "display(ax.sort_values(by = 'corr',ascending = False))\n",
    "ax = ax.plot(kind = 'scatter',x = 'sales', y = 'corr')\n",
    "ax.set_xlabel('Продажи')\n",
    "ax.set_ylabel('Корреляция с оценкой критиков')\n",
    "plt.title( 'Распределение платформ по объемам продаж и корреляции с оценкой критиков');\n",
    "\n",
    "for i in range(len(platforms)):\n",
    "    plt.annotate(platforms[i], (sales[i]+0.05, corr[i]-0.05))"
   ]
  },
  {
   "cell_type": "markdown",
   "metadata": {},
   "source": [
    "В целом можно утвеждать, что есть связь между оценкой критиков и продажами.\n",
    "Наиболее сильные (корреляция выше 0,4 по модулю) связи - на платформах XOne, PS4, Wii. \n",
    "При этом у Wii обратная связь оценки критиков и объема продаж - странно. У прочих платформ прямая зависимость, поэтому примем Wii за исключение.\n",
    "\n",
    "\n",
    "Построим для самой популярной платформы (самые большие продажи) PS3 диаграмму рассеяния."
   ]
  },
  {
   "cell_type": "code",
   "execution_count": 28,
   "metadata": {},
   "outputs": [
    {
     "data": {
      "image/png": "[encoded data removed]",
      "text/plain": [
       "<Figure size 432x288 with 1 Axes>"
      ]
     },
     "metadata": {
      "needs_background": "light"
     },
     "output_type": "display_data"
    }
   ],
   "source": [
    "ax = df_2012_after.loc[df_2012_after['platform'] == 'PS3'].plot(x='critic_score',y='total_sales',kind='scatter')\n",
    "ax.set_xlabel('Оценка критиков')\n",
    "ax.set_ylabel('Общие продажи')\n",
    "plt.title( 'Связь оценки критиков и общих продаж игр на PS3');"
   ]
  },
  {
   "cell_type": "code",
   "execution_count": 29,
   "metadata": {},
   "outputs": [
    {
     "data": {
      "text/html": [
       "<div>\n",
       "<style scoped>\n",
       "    .dataframe tbody tr th:only-of-type {\n",
       "        vertical-align: middle;\n",
       "    }\n",
       "\n",
       "    .dataframe tbody tr th {\n",
       "        vertical-align: top;\n",
       "    }\n",
       "\n",
       "    .dataframe thead th {\n",
       "        text-align: right;\n",
       "    }\n",
       "</style>\n",
       "<table border=\"1\" class=\"dataframe\">\n",
       "  <thead>\n",
       "    <tr style=\"text-align: right;\">\n",
       "      <th></th>\n",
       "      <th>platforms</th>\n",
       "      <th>sales</th>\n",
       "      <th>corr</th>\n",
       "      <th>score</th>\n",
       "    </tr>\n",
       "  </thead>\n",
       "  <tbody>\n",
       "    <tr>\n",
       "      <th>4</th>\n",
       "      <td>DS</td>\n",
       "      <td>12.55</td>\n",
       "      <td>0.882709</td>\n",
       "      <td>7.000000</td>\n",
       "    </tr>\n",
       "    <tr>\n",
       "      <th>6</th>\n",
       "      <td>WiiU</td>\n",
       "      <td>77.59</td>\n",
       "      <td>0.413265</td>\n",
       "      <td>6.868132</td>\n",
       "    </tr>\n",
       "    <tr>\n",
       "      <th>7</th>\n",
       "      <td>Wii</td>\n",
       "      <td>35.19</td>\n",
       "      <td>0.296197</td>\n",
       "      <td>6.082353</td>\n",
       "    </tr>\n",
       "    <tr>\n",
       "      <th>3</th>\n",
       "      <td>3DS</td>\n",
       "      <td>179.47</td>\n",
       "      <td>0.210567</td>\n",
       "      <td>6.994118</td>\n",
       "    </tr>\n",
       "    <tr>\n",
       "      <th>2</th>\n",
       "      <td>PS4</td>\n",
       "      <td>244.89</td>\n",
       "      <td>0.024231</td>\n",
       "      <td>6.666667</td>\n",
       "    </tr>\n",
       "    <tr>\n",
       "      <th>9</th>\n",
       "      <td>PSV</td>\n",
       "      <td>44.93</td>\n",
       "      <td>0.013595</td>\n",
       "      <td>7.369231</td>\n",
       "    </tr>\n",
       "    <tr>\n",
       "      <th>1</th>\n",
       "      <td>X360</td>\n",
       "      <td>235.02</td>\n",
       "      <td>-0.009605</td>\n",
       "      <td>6.283772</td>\n",
       "    </tr>\n",
       "    <tr>\n",
       "      <th>0</th>\n",
       "      <td>PS3</td>\n",
       "      <td>285.19</td>\n",
       "      <td>-0.021714</td>\n",
       "      <td>6.602555</td>\n",
       "    </tr>\n",
       "    <tr>\n",
       "      <th>5</th>\n",
       "      <td>XOne</td>\n",
       "      <td>133.17</td>\n",
       "      <td>-0.039268</td>\n",
       "      <td>6.477586</td>\n",
       "    </tr>\n",
       "    <tr>\n",
       "      <th>8</th>\n",
       "      <td>PC</td>\n",
       "      <td>57.40</td>\n",
       "      <td>-0.159228</td>\n",
       "      <td>6.465217</td>\n",
       "    </tr>\n",
       "    <tr>\n",
       "      <th>10</th>\n",
       "      <td>PSP</td>\n",
       "      <td>11.19</td>\n",
       "      <td>-0.802302</td>\n",
       "      <td>5.950000</td>\n",
       "    </tr>\n",
       "  </tbody>\n",
       "</table>\n",
       "</div>"
      ],
      "text/plain": [
       "   platforms   sales      corr     score\n",
       "4         DS   12.55  0.882709  7.000000\n",
       "6       WiiU   77.59  0.413265  6.868132\n",
       "7        Wii   35.19  0.296197  6.082353\n",
       "3        3DS  179.47  0.210567  6.994118\n",
       "2        PS4  244.89  0.024231  6.666667\n",
       "9        PSV   44.93  0.013595  7.369231\n",
       "1       X360  235.02 -0.009605  6.283772\n",
       "0        PS3  285.19 -0.021714  6.602555\n",
       "5       XOne  133.17 -0.039268  6.477586\n",
       "8         PC   57.40 -0.159228  6.465217\n",
       "10       PSP   11.19 -0.802302  5.950000"
      ]
     },
     "metadata": {},
     "output_type": "display_data"
    },
    {
     "data": {
      "image/png": "[encoded data removed]",
      "text/plain": [
       "<Figure size 432x288 with 1 Axes>"
      ]
     },
     "metadata": {
      "needs_background": "light"
     },
     "output_type": "display_data"
    }
   ],
   "source": [
    "# Проанализируем связи между отзывами пользователей и продажами в рамках одной платформы\n",
    "corr = []\n",
    "sales = []\n",
    "platforms = []\n",
    "score = []\n",
    "for i in df_2012_after['platform'].unique():\n",
    "    platforms.append(i)\n",
    "    corr.append(df_2012_after.loc[df_2012_after['platform'] == i]['user_score'].corr(df_2012_after.loc[df_2012_after['platform'] == i]['total_sales']))\n",
    "    sales.append(df_2012_after.loc[df_2012_after['platform'] == i]['total_sales'].sum())\n",
    "    score.append(df_2012_after.loc[df_2012_after['platform'] == i]['user_score'].mean())\n",
    "\n",
    "    \n",
    "d = {'platforms': platforms, 'sales': sales, 'corr': corr, 'score': score}\n",
    "ax = pd.DataFrame(data=d)\n",
    "display(ax.sort_values(by = 'corr',ascending = False))\n",
    "ax = ax.plot(kind = 'scatter',x = 'sales', y = 'corr')\n",
    "ax.set_xlabel('Продажи')\n",
    "ax.set_ylabel('Корреляция с оценкой пользователей')\n",
    "plt.title( 'Распределение платформ по объемам продаж и корреляции с оценкой пользователей');\n",
    "\n",
    "for i in range(len(platforms)):\n",
    "    plt.annotate(platforms[i], (sales[i]+0.05, corr[i]-0.05))"
   ]
  },
  {
   "cell_type": "markdown",
   "metadata": {},
   "source": [
    "Аналогично, наиболее сильные связи между оценкми пользователей и продажами (топ-3 корреляции по модулю) - у платформ PSP, DS & WiiU. При этом нет однозначного ответа - прямая или обратная зависимость: максимальные корреляции по модулю получились по платформам с минимальгными продажами. Больше продажи - слабее связь с оценкой пользователей.\n",
    "\n",
    "Отобразим зависимость оценки и продаж для самой популярной платформы - PS3."
   ]
  },
  {
   "cell_type": "code",
   "execution_count": 30,
   "metadata": {},
   "outputs": [
    {
     "data": {
      "image/png": "[encoded data removed]",
      "text/plain": [
       "<Figure size 432x288 with 1 Axes>"
      ]
     },
     "metadata": {
      "needs_background": "light"
     },
     "output_type": "display_data"
    }
   ],
   "source": [
    "ax = df_2012_after.loc[df_2012_after['platform'] == 'PS3'].plot(x='user_score',y='total_sales',kind='scatter')\n",
    "ax.set_xlabel('Оценка пользователей')\n",
    "ax.set_ylabel('Общие продажи')\n",
    "plt.title( 'Связь оценки пользователей и общих продаж игр на PS3');"
   ]
  },
  {
   "cell_type": "markdown",
   "metadata": {},
   "source": [
    "В целом можно утверждать, что есть связь между продажами и оценками критиков. Оценки пользователей не влияют на продажи."
   ]
  },
  {
   "cell_type": "code",
   "execution_count": 31,
   "metadata": {},
   "outputs": [
    {
     "data": {
      "text/html": [
       "<div>\n",
       "<style scoped>\n",
       "    .dataframe tbody tr th:only-of-type {\n",
       "        vertical-align: middle;\n",
       "    }\n",
       "\n",
       "    .dataframe tbody tr th {\n",
       "        vertical-align: top;\n",
       "    }\n",
       "\n",
       "    .dataframe thead tr th {\n",
       "        text-align: left;\n",
       "    }\n",
       "\n",
       "    .dataframe thead tr:last-of-type th {\n",
       "        text-align: right;\n",
       "    }\n",
       "</style>\n",
       "<table border=\"1\" class=\"dataframe\">\n",
       "  <thead>\n",
       "    <tr>\n",
       "      <th></th>\n",
       "      <th colspan=\"5\" halign=\"left\">sum</th>\n",
       "      <th colspan=\"7\" halign=\"left\">mean</th>\n",
       "    </tr>\n",
       "    <tr>\n",
       "      <th></th>\n",
       "      <th>eu_sales</th>\n",
       "      <th>jp_sales</th>\n",
       "      <th>na_sales</th>\n",
       "      <th>other_sales</th>\n",
       "      <th>total_sales</th>\n",
       "      <th>critic_score</th>\n",
       "      <th>eu_sales</th>\n",
       "      <th>jp_sales</th>\n",
       "      <th>na_sales</th>\n",
       "      <th>other_sales</th>\n",
       "      <th>total_sales</th>\n",
       "      <th>user_score</th>\n",
       "    </tr>\n",
       "    <tr>\n",
       "      <th>genre</th>\n",
       "      <th></th>\n",
       "      <th></th>\n",
       "      <th></th>\n",
       "      <th></th>\n",
       "      <th></th>\n",
       "      <th></th>\n",
       "      <th></th>\n",
       "      <th></th>\n",
       "      <th></th>\n",
       "      <th></th>\n",
       "      <th></th>\n",
       "      <th></th>\n",
       "    </tr>\n",
       "  </thead>\n",
       "  <tbody>\n",
       "    <tr>\n",
       "      <th>Shooter</th>\n",
       "      <td>97.57</td>\n",
       "      <td>8.17</td>\n",
       "      <td>128.53</td>\n",
       "      <td>32.24</td>\n",
       "      <td>266.51</td>\n",
       "      <td>7.271111</td>\n",
       "      <td>0.518989</td>\n",
       "      <td>0.043457</td>\n",
       "      <td>0.683670</td>\n",
       "      <td>0.171489</td>\n",
       "      <td>1.417606</td>\n",
       "      <td>6.398726</td>\n",
       "    </tr>\n",
       "    <tr>\n",
       "      <th>Platform</th>\n",
       "      <td>20.02</td>\n",
       "      <td>8.52</td>\n",
       "      <td>24.09</td>\n",
       "      <td>5.14</td>\n",
       "      <td>57.77</td>\n",
       "      <td>7.591667</td>\n",
       "      <td>0.286000</td>\n",
       "      <td>0.121714</td>\n",
       "      <td>0.344143</td>\n",
       "      <td>0.073429</td>\n",
       "      <td>0.825286</td>\n",
       "      <td>7.119643</td>\n",
       "    </tr>\n",
       "    <tr>\n",
       "      <th>Sports</th>\n",
       "      <td>57.08</td>\n",
       "      <td>7.09</td>\n",
       "      <td>73.99</td>\n",
       "      <td>19.42</td>\n",
       "      <td>157.58</td>\n",
       "      <td>7.238462</td>\n",
       "      <td>0.259455</td>\n",
       "      <td>0.032227</td>\n",
       "      <td>0.336318</td>\n",
       "      <td>0.088273</td>\n",
       "      <td>0.716273</td>\n",
       "      <td>5.461392</td>\n",
       "    </tr>\n",
       "    <tr>\n",
       "      <th>Racing</th>\n",
       "      <td>25.52</td>\n",
       "      <td>2.49</td>\n",
       "      <td>16.49</td>\n",
       "      <td>6.21</td>\n",
       "      <td>50.71</td>\n",
       "      <td>7.121212</td>\n",
       "      <td>0.280440</td>\n",
       "      <td>0.027363</td>\n",
       "      <td>0.181209</td>\n",
       "      <td>0.068242</td>\n",
       "      <td>0.557253</td>\n",
       "      <td>5.918841</td>\n",
       "    </tr>\n",
       "    <tr>\n",
       "      <th>Role-Playing</th>\n",
       "      <td>44.25</td>\n",
       "      <td>58.83</td>\n",
       "      <td>58.11</td>\n",
       "      <td>13.43</td>\n",
       "      <td>174.62</td>\n",
       "      <td>7.256429</td>\n",
       "      <td>0.140032</td>\n",
       "      <td>0.186171</td>\n",
       "      <td>0.183892</td>\n",
       "      <td>0.042500</td>\n",
       "      <td>0.552595</td>\n",
       "      <td>7.194631</td>\n",
       "    </tr>\n",
       "    <tr>\n",
       "      <th>Simulation</th>\n",
       "      <td>13.28</td>\n",
       "      <td>10.08</td>\n",
       "      <td>7.81</td>\n",
       "      <td>2.06</td>\n",
       "      <td>33.23</td>\n",
       "      <td>6.751724</td>\n",
       "      <td>0.214194</td>\n",
       "      <td>0.162581</td>\n",
       "      <td>0.125968</td>\n",
       "      <td>0.033226</td>\n",
       "      <td>0.535968</td>\n",
       "      <td>6.578125</td>\n",
       "    </tr>\n",
       "    <tr>\n",
       "      <th>Misc</th>\n",
       "      <td>25.66</td>\n",
       "      <td>11.82</td>\n",
       "      <td>37.43</td>\n",
       "      <td>7.53</td>\n",
       "      <td>82.44</td>\n",
       "      <td>7.282353</td>\n",
       "      <td>0.160375</td>\n",
       "      <td>0.073875</td>\n",
       "      <td>0.233938</td>\n",
       "      <td>0.047062</td>\n",
       "      <td>0.515250</td>\n",
       "      <td>6.881967</td>\n",
       "    </tr>\n",
       "    <tr>\n",
       "      <th>Action</th>\n",
       "      <td>148.66</td>\n",
       "      <td>45.73</td>\n",
       "      <td>168.55</td>\n",
       "      <td>48.07</td>\n",
       "      <td>411.01</td>\n",
       "      <td>7.161035</td>\n",
       "      <td>0.174279</td>\n",
       "      <td>0.053611</td>\n",
       "      <td>0.197597</td>\n",
       "      <td>0.056354</td>\n",
       "      <td>0.481841</td>\n",
       "      <td>6.861187</td>\n",
       "    </tr>\n",
       "    <tr>\n",
       "      <th>Fighting</th>\n",
       "      <td>9.45</td>\n",
       "      <td>8.69</td>\n",
       "      <td>17.95</td>\n",
       "      <td>3.93</td>\n",
       "      <td>40.02</td>\n",
       "      <td>6.975926</td>\n",
       "      <td>0.101613</td>\n",
       "      <td>0.093441</td>\n",
       "      <td>0.193011</td>\n",
       "      <td>0.042258</td>\n",
       "      <td>0.430323</td>\n",
       "      <td>6.900000</td>\n",
       "    </tr>\n",
       "    <tr>\n",
       "      <th>Strategy</th>\n",
       "      <td>4.58</td>\n",
       "      <td>2.65</td>\n",
       "      <td>3.99</td>\n",
       "      <td>0.99</td>\n",
       "      <td>12.21</td>\n",
       "      <td>7.317391</td>\n",
       "      <td>0.078966</td>\n",
       "      <td>0.045690</td>\n",
       "      <td>0.068793</td>\n",
       "      <td>0.017069</td>\n",
       "      <td>0.210517</td>\n",
       "      <td>6.107407</td>\n",
       "    </tr>\n",
       "    <tr>\n",
       "      <th>Puzzle</th>\n",
       "      <td>1.39</td>\n",
       "      <td>2.14</td>\n",
       "      <td>1.13</td>\n",
       "      <td>0.22</td>\n",
       "      <td>4.88</td>\n",
       "      <td>7.544444</td>\n",
       "      <td>0.051481</td>\n",
       "      <td>0.079259</td>\n",
       "      <td>0.041852</td>\n",
       "      <td>0.008148</td>\n",
       "      <td>0.180741</td>\n",
       "      <td>7.633333</td>\n",
       "    </tr>\n",
       "    <tr>\n",
       "      <th>Adventure</th>\n",
       "      <td>8.14</td>\n",
       "      <td>7.06</td>\n",
       "      <td>7.97</td>\n",
       "      <td>2.44</td>\n",
       "      <td>25.61</td>\n",
       "      <td>7.221951</td>\n",
       "      <td>0.033089</td>\n",
       "      <td>0.028699</td>\n",
       "      <td>0.032398</td>\n",
       "      <td>0.009919</td>\n",
       "      <td>0.104106</td>\n",
       "      <td>7.418868</td>\n",
       "    </tr>\n",
       "  </tbody>\n",
       "</table>\n",
       "</div>"
      ],
      "text/plain": [
       "                  sum                                                   mean  \\\n",
       "             eu_sales jp_sales na_sales other_sales total_sales critic_score   \n",
       "genre                                                                          \n",
       "Shooter         97.57     8.17   128.53       32.24      266.51     7.271111   \n",
       "Platform        20.02     8.52    24.09        5.14       57.77     7.591667   \n",
       "Sports          57.08     7.09    73.99       19.42      157.58     7.238462   \n",
       "Racing          25.52     2.49    16.49        6.21       50.71     7.121212   \n",
       "Role-Playing    44.25    58.83    58.11       13.43      174.62     7.256429   \n",
       "Simulation      13.28    10.08     7.81        2.06       33.23     6.751724   \n",
       "Misc            25.66    11.82    37.43        7.53       82.44     7.282353   \n",
       "Action         148.66    45.73   168.55       48.07      411.01     7.161035   \n",
       "Fighting         9.45     8.69    17.95        3.93       40.02     6.975926   \n",
       "Strategy         4.58     2.65     3.99        0.99       12.21     7.317391   \n",
       "Puzzle           1.39     2.14     1.13        0.22        4.88     7.544444   \n",
       "Adventure        8.14     7.06     7.97        2.44       25.61     7.221951   \n",
       "\n",
       "                                                                               \n",
       "              eu_sales  jp_sales  na_sales other_sales total_sales user_score  \n",
       "genre                                                                          \n",
       "Shooter       0.518989  0.043457  0.683670    0.171489    1.417606   6.398726  \n",
       "Platform      0.286000  0.121714  0.344143    0.073429    0.825286   7.119643  \n",
       "Sports        0.259455  0.032227  0.336318    0.088273    0.716273   5.461392  \n",
       "Racing        0.280440  0.027363  0.181209    0.068242    0.557253   5.918841  \n",
       "Role-Playing  0.140032  0.186171  0.183892    0.042500    0.552595   7.194631  \n",
       "Simulation    0.214194  0.162581  0.125968    0.033226    0.535968   6.578125  \n",
       "Misc          0.160375  0.073875  0.233938    0.047062    0.515250   6.881967  \n",
       "Action        0.174279  0.053611  0.197597    0.056354    0.481841   6.861187  \n",
       "Fighting      0.101613  0.093441  0.193011    0.042258    0.430323   6.900000  \n",
       "Strategy      0.078966  0.045690  0.068793    0.017069    0.210517   6.107407  \n",
       "Puzzle        0.051481  0.079259  0.041852    0.008148    0.180741   7.633333  \n",
       "Adventure     0.033089  0.028699  0.032398    0.009919    0.104106   7.418868  "
      ]
     },
     "metadata": {},
     "output_type": "display_data"
    }
   ],
   "source": [
    "#Посмотрим на показатели игр в разрезе жанров.\n",
    "#display(df_2012_after.head())\n",
    "\n",
    "ax = df_2012_after.pivot_table(index = ['genre'],values = ['total_sales', 'na_sales', 'eu_sales','jp_sales','other_sales','critic_score','user_score'], aggfunc = ['sum','mean']).sort_values(by = ('mean','total_sales'),ascending = False)\n",
    "ax = ax.drop([('sum','critic_score')],axis = 1)\n",
    "ax = ax.drop([('sum','user_score')],axis = 1)\n",
    "\n",
    "display(ax)\n"
   ]
  },
  {
   "cell_type": "code",
   "execution_count": 32,
   "metadata": {},
   "outputs": [
    {
     "data": {
      "text/plain": [
       "array(['Action', 'Shooter', 'Role-Playing', 'Platform', 'Misc',\n",
       "       'Simulation', 'Sports', 'Fighting', 'Racing', 'Strategy',\n",
       "       'Adventure', 'Puzzle'], dtype=object)"
      ]
     },
     "execution_count": 32,
     "metadata": {},
     "output_type": "execute_result"
    }
   ],
   "source": [
    "df_2012_after['genre'].unique()"
   ]
  },
  {
   "cell_type": "code",
   "execution_count": 33,
   "metadata": {},
   "outputs": [
    {
     "data": {
      "image/png": "[encoded data removed]",
      "text/plain": [
       "<Figure size 1440x720 with 1 Axes>"
      ]
     },
     "metadata": {
      "needs_background": "light"
     },
     "output_type": "display_data"
    }
   ],
   "source": [
    "#Построим «ящик с усами» по глобальным продажам игр в разбивке по жанрам\n",
    "df_2012_after.pivot_table(index = 'name', columns = 'genre', values = 'total_sales').boxplot(column=['Action', 'Shooter', 'Role-Playing', 'Platform', 'Misc',\n",
    "       'Simulation', 'Sports', 'Fighting', 'Racing', 'Strategy',\n",
    "       'Adventure', 'Puzzle'], figsize = (20,10));"
   ]
  },
  {
   "cell_type": "code",
   "execution_count": 34,
   "metadata": {},
   "outputs": [
    {
     "data": {
      "text/html": [
       "<div>\n",
       "<style scoped>\n",
       "    .dataframe tbody tr th:only-of-type {\n",
       "        vertical-align: middle;\n",
       "    }\n",
       "\n",
       "    .dataframe tbody tr th {\n",
       "        vertical-align: top;\n",
       "    }\n",
       "\n",
       "    .dataframe thead tr th {\n",
       "        text-align: left;\n",
       "    }\n",
       "\n",
       "    .dataframe thead tr:last-of-type th {\n",
       "        text-align: right;\n",
       "    }\n",
       "</style>\n",
       "<table border=\"1\" class=\"dataframe\">\n",
       "  <thead>\n",
       "    <tr>\n",
       "      <th></th>\n",
       "      <th>min</th>\n",
       "      <th>max</th>\n",
       "      <th>count</th>\n",
       "      <th>mean</th>\n",
       "      <th>median</th>\n",
       "    </tr>\n",
       "    <tr>\n",
       "      <th></th>\n",
       "      <th>total_sales</th>\n",
       "      <th>total_sales</th>\n",
       "      <th>total_sales</th>\n",
       "      <th>total_sales</th>\n",
       "      <th>total_sales</th>\n",
       "    </tr>\n",
       "    <tr>\n",
       "      <th>genre</th>\n",
       "      <th></th>\n",
       "      <th></th>\n",
       "      <th></th>\n",
       "      <th></th>\n",
       "      <th></th>\n",
       "    </tr>\n",
       "  </thead>\n",
       "  <tbody>\n",
       "    <tr>\n",
       "      <th>Action</th>\n",
       "      <td>0.01</td>\n",
       "      <td>21.05</td>\n",
       "      <td>853</td>\n",
       "      <td>0.48</td>\n",
       "      <td>0.14</td>\n",
       "    </tr>\n",
       "    <tr>\n",
       "      <th>Shooter</th>\n",
       "      <td>0.01</td>\n",
       "      <td>14.63</td>\n",
       "      <td>188</td>\n",
       "      <td>1.42</td>\n",
       "      <td>0.52</td>\n",
       "    </tr>\n",
       "    <tr>\n",
       "      <th>Role-Playing</th>\n",
       "      <td>0.01</td>\n",
       "      <td>14.60</td>\n",
       "      <td>316</td>\n",
       "      <td>0.55</td>\n",
       "      <td>0.15</td>\n",
       "    </tr>\n",
       "    <tr>\n",
       "      <th>Platform</th>\n",
       "      <td>0.01</td>\n",
       "      <td>9.90</td>\n",
       "      <td>70</td>\n",
       "      <td>0.83</td>\n",
       "      <td>0.29</td>\n",
       "    </tr>\n",
       "    <tr>\n",
       "      <th>Misc</th>\n",
       "      <td>0.01</td>\n",
       "      <td>9.18</td>\n",
       "      <td>160</td>\n",
       "      <td>0.52</td>\n",
       "      <td>0.18</td>\n",
       "    </tr>\n",
       "    <tr>\n",
       "      <th>Simulation</th>\n",
       "      <td>0.01</td>\n",
       "      <td>9.17</td>\n",
       "      <td>62</td>\n",
       "      <td>0.54</td>\n",
       "      <td>0.15</td>\n",
       "    </tr>\n",
       "    <tr>\n",
       "      <th>Sports</th>\n",
       "      <td>0.01</td>\n",
       "      <td>8.58</td>\n",
       "      <td>220</td>\n",
       "      <td>0.72</td>\n",
       "      <td>0.31</td>\n",
       "    </tr>\n",
       "    <tr>\n",
       "      <th>Fighting</th>\n",
       "      <td>0.01</td>\n",
       "      <td>7.55</td>\n",
       "      <td>93</td>\n",
       "      <td>0.43</td>\n",
       "      <td>0.16</td>\n",
       "    </tr>\n",
       "    <tr>\n",
       "      <th>Racing</th>\n",
       "      <td>0.01</td>\n",
       "      <td>7.09</td>\n",
       "      <td>91</td>\n",
       "      <td>0.56</td>\n",
       "      <td>0.23</td>\n",
       "    </tr>\n",
       "    <tr>\n",
       "      <th>Strategy</th>\n",
       "      <td>0.01</td>\n",
       "      <td>1.67</td>\n",
       "      <td>58</td>\n",
       "      <td>0.21</td>\n",
       "      <td>0.08</td>\n",
       "    </tr>\n",
       "    <tr>\n",
       "      <th>Adventure</th>\n",
       "      <td>0.01</td>\n",
       "      <td>1.66</td>\n",
       "      <td>246</td>\n",
       "      <td>0.10</td>\n",
       "      <td>0.03</td>\n",
       "    </tr>\n",
       "    <tr>\n",
       "      <th>Puzzle</th>\n",
       "      <td>0.01</td>\n",
       "      <td>1.19</td>\n",
       "      <td>27</td>\n",
       "      <td>0.18</td>\n",
       "      <td>0.05</td>\n",
       "    </tr>\n",
       "  </tbody>\n",
       "</table>\n",
       "</div>"
      ],
      "text/plain": [
       "                     min         max       count        mean      median\n",
       "             total_sales total_sales total_sales total_sales total_sales\n",
       "genre                                                                   \n",
       "Action              0.01       21.05         853        0.48        0.14\n",
       "Shooter             0.01       14.63         188        1.42        0.52\n",
       "Role-Playing        0.01       14.60         316        0.55        0.15\n",
       "Platform            0.01        9.90          70        0.83        0.29\n",
       "Misc                0.01        9.18         160        0.52        0.18\n",
       "Simulation          0.01        9.17          62        0.54        0.15\n",
       "Sports              0.01        8.58         220        0.72        0.31\n",
       "Fighting            0.01        7.55          93        0.43        0.16\n",
       "Racing              0.01        7.09          91        0.56        0.23\n",
       "Strategy            0.01        1.67          58        0.21        0.08\n",
       "Adventure           0.01        1.66         246        0.10        0.03\n",
       "Puzzle              0.01        1.19          27        0.18        0.05"
      ]
     },
     "metadata": {},
     "output_type": "display_data"
    }
   ],
   "source": [
    "ax = df_2012_after.pivot_table(index = 'genre', values = 'total_sales', aggfunc = ['min','max','count','mean','median']).round(2)\n",
    "display(ax.sort_values(by = ('max','total_sales'),ascending = False))"
   ]
  },
  {
   "cell_type": "code",
   "execution_count": 35,
   "metadata": {},
   "outputs": [
    {
     "data": {
      "text/html": [
       "<div>\n",
       "<style scoped>\n",
       "    .dataframe tbody tr th:only-of-type {\n",
       "        vertical-align: middle;\n",
       "    }\n",
       "\n",
       "    .dataframe tbody tr th {\n",
       "        vertical-align: top;\n",
       "    }\n",
       "\n",
       "    .dataframe thead th {\n",
       "        text-align: right;\n",
       "    }\n",
       "</style>\n",
       "<table border=\"1\" class=\"dataframe\">\n",
       "  <thead>\n",
       "    <tr style=\"text-align: right;\">\n",
       "      <th></th>\n",
       "      <th>st_deviation</th>\n",
       "    </tr>\n",
       "    <tr>\n",
       "      <th>genre</th>\n",
       "      <th></th>\n",
       "    </tr>\n",
       "  </thead>\n",
       "  <tbody>\n",
       "    <tr>\n",
       "      <th>Shooter</th>\n",
       "      <td>2.420744</td>\n",
       "    </tr>\n",
       "    <tr>\n",
       "      <th>Platform</th>\n",
       "      <td>1.473092</td>\n",
       "    </tr>\n",
       "    <tr>\n",
       "      <th>Simulation</th>\n",
       "      <td>1.400000</td>\n",
       "    </tr>\n",
       "    <tr>\n",
       "      <th>Role-Playing</th>\n",
       "      <td>1.363818</td>\n",
       "    </tr>\n",
       "    <tr>\n",
       "      <th>Action</th>\n",
       "      <td>1.268858</td>\n",
       "    </tr>\n",
       "    <tr>\n",
       "      <th>Misc</th>\n",
       "      <td>1.170470</td>\n",
       "    </tr>\n",
       "    <tr>\n",
       "      <th>Sports</th>\n",
       "      <td>1.126943</td>\n",
       "    </tr>\n",
       "    <tr>\n",
       "      <th>Fighting</th>\n",
       "      <td>0.974679</td>\n",
       "    </tr>\n",
       "    <tr>\n",
       "      <th>Racing</th>\n",
       "      <td>0.974679</td>\n",
       "    </tr>\n",
       "    <tr>\n",
       "      <th>Puzzle</th>\n",
       "      <td>0.316228</td>\n",
       "    </tr>\n",
       "    <tr>\n",
       "      <th>Strategy</th>\n",
       "      <td>0.300000</td>\n",
       "    </tr>\n",
       "    <tr>\n",
       "      <th>Adventure</th>\n",
       "      <td>0.223607</td>\n",
       "    </tr>\n",
       "  </tbody>\n",
       "</table>\n",
       "</div>"
      ],
      "text/plain": [
       "              st_deviation\n",
       "genre                     \n",
       "Shooter           2.420744\n",
       "Platform          1.473092\n",
       "Simulation        1.400000\n",
       "Role-Playing      1.363818\n",
       "Action            1.268858\n",
       "Misc              1.170470\n",
       "Sports            1.126943\n",
       "Fighting          0.974679\n",
       "Racing            0.974679\n",
       "Puzzle            0.316228\n",
       "Strategy          0.300000\n",
       "Adventure         0.223607"
      ]
     },
     "metadata": {},
     "output_type": "display_data"
    }
   ],
   "source": [
    "#посмотрим на ст. отклонения продаж в разрезе жанров\n",
    "ax = df_2012_after.pivot_table(index = 'genre', values = 'total_sales', aggfunc = 'var').round(2)\n",
    "ax['st_deviation'] = np.sqrt(ax['total_sales'])\n",
    "ax = ax.drop('total_sales',axis = 1)\n",
    "display(ax.sort_values(by = 'st_deviation',ascending = False))"
   ]
  },
  {
   "cell_type": "code",
   "execution_count": 36,
   "metadata": {},
   "outputs": [
    {
     "data": {
      "text/html": [
       "<div>\n",
       "<style scoped>\n",
       "    .dataframe tbody tr th:only-of-type {\n",
       "        vertical-align: middle;\n",
       "    }\n",
       "\n",
       "    .dataframe tbody tr th {\n",
       "        vertical-align: top;\n",
       "    }\n",
       "\n",
       "    .dataframe thead tr th {\n",
       "        text-align: left;\n",
       "    }\n",
       "\n",
       "    .dataframe thead tr:last-of-type th {\n",
       "        text-align: right;\n",
       "    }\n",
       "</style>\n",
       "<table border=\"1\" class=\"dataframe\">\n",
       "  <thead>\n",
       "    <tr>\n",
       "      <th></th>\n",
       "      <th>mean</th>\n",
       "    </tr>\n",
       "    <tr>\n",
       "      <th></th>\n",
       "      <th>critic_score</th>\n",
       "    </tr>\n",
       "    <tr>\n",
       "      <th>genre</th>\n",
       "      <th></th>\n",
       "    </tr>\n",
       "  </thead>\n",
       "  <tbody>\n",
       "    <tr>\n",
       "      <th>Platform</th>\n",
       "      <td>7.59</td>\n",
       "    </tr>\n",
       "    <tr>\n",
       "      <th>Puzzle</th>\n",
       "      <td>7.54</td>\n",
       "    </tr>\n",
       "    <tr>\n",
       "      <th>Strategy</th>\n",
       "      <td>7.32</td>\n",
       "    </tr>\n",
       "    <tr>\n",
       "      <th>Misc</th>\n",
       "      <td>7.28</td>\n",
       "    </tr>\n",
       "    <tr>\n",
       "      <th>Shooter</th>\n",
       "      <td>7.27</td>\n",
       "    </tr>\n",
       "    <tr>\n",
       "      <th>Role-Playing</th>\n",
       "      <td>7.26</td>\n",
       "    </tr>\n",
       "    <tr>\n",
       "      <th>Sports</th>\n",
       "      <td>7.24</td>\n",
       "    </tr>\n",
       "    <tr>\n",
       "      <th>Adventure</th>\n",
       "      <td>7.22</td>\n",
       "    </tr>\n",
       "    <tr>\n",
       "      <th>Action</th>\n",
       "      <td>7.16</td>\n",
       "    </tr>\n",
       "    <tr>\n",
       "      <th>Racing</th>\n",
       "      <td>7.12</td>\n",
       "    </tr>\n",
       "    <tr>\n",
       "      <th>Fighting</th>\n",
       "      <td>6.98</td>\n",
       "    </tr>\n",
       "    <tr>\n",
       "      <th>Simulation</th>\n",
       "      <td>6.75</td>\n",
       "    </tr>\n",
       "  </tbody>\n",
       "</table>\n",
       "</div>"
      ],
      "text/plain": [
       "                     mean\n",
       "             critic_score\n",
       "genre                    \n",
       "Platform             7.59\n",
       "Puzzle               7.54\n",
       "Strategy             7.32\n",
       "Misc                 7.28\n",
       "Shooter              7.27\n",
       "Role-Playing         7.26\n",
       "Sports               7.24\n",
       "Adventure            7.22\n",
       "Action               7.16\n",
       "Racing               7.12\n",
       "Fighting             6.98\n",
       "Simulation           6.75"
      ]
     },
     "metadata": {},
     "output_type": "display_data"
    }
   ],
   "source": [
    "ax = df_2012_after.pivot_table(index = 'genre', values = 'critic_score', aggfunc = ['mean']).round(2)\n",
    "display(ax.sort_values(by = ('mean','critic_score'),ascending = False))"
   ]
  },
  {
   "cell_type": "code",
   "execution_count": 37,
   "metadata": {},
   "outputs": [
    {
     "data": {
      "text/html": [
       "<div>\n",
       "<style scoped>\n",
       "    .dataframe tbody tr th:only-of-type {\n",
       "        vertical-align: middle;\n",
       "    }\n",
       "\n",
       "    .dataframe tbody tr th {\n",
       "        vertical-align: top;\n",
       "    }\n",
       "\n",
       "    .dataframe thead tr th {\n",
       "        text-align: left;\n",
       "    }\n",
       "\n",
       "    .dataframe thead tr:last-of-type th {\n",
       "        text-align: right;\n",
       "    }\n",
       "</style>\n",
       "<table border=\"1\" class=\"dataframe\">\n",
       "  <thead>\n",
       "    <tr>\n",
       "      <th></th>\n",
       "      <th>mean</th>\n",
       "    </tr>\n",
       "    <tr>\n",
       "      <th></th>\n",
       "      <th>user_score</th>\n",
       "    </tr>\n",
       "    <tr>\n",
       "      <th>genre</th>\n",
       "      <th></th>\n",
       "    </tr>\n",
       "  </thead>\n",
       "  <tbody>\n",
       "    <tr>\n",
       "      <th>Puzzle</th>\n",
       "      <td>7.63</td>\n",
       "    </tr>\n",
       "    <tr>\n",
       "      <th>Adventure</th>\n",
       "      <td>7.42</td>\n",
       "    </tr>\n",
       "    <tr>\n",
       "      <th>Role-Playing</th>\n",
       "      <td>7.19</td>\n",
       "    </tr>\n",
       "    <tr>\n",
       "      <th>Platform</th>\n",
       "      <td>7.12</td>\n",
       "    </tr>\n",
       "    <tr>\n",
       "      <th>Fighting</th>\n",
       "      <td>6.90</td>\n",
       "    </tr>\n",
       "    <tr>\n",
       "      <th>Misc</th>\n",
       "      <td>6.88</td>\n",
       "    </tr>\n",
       "    <tr>\n",
       "      <th>Action</th>\n",
       "      <td>6.86</td>\n",
       "    </tr>\n",
       "    <tr>\n",
       "      <th>Simulation</th>\n",
       "      <td>6.58</td>\n",
       "    </tr>\n",
       "    <tr>\n",
       "      <th>Shooter</th>\n",
       "      <td>6.40</td>\n",
       "    </tr>\n",
       "    <tr>\n",
       "      <th>Strategy</th>\n",
       "      <td>6.11</td>\n",
       "    </tr>\n",
       "    <tr>\n",
       "      <th>Racing</th>\n",
       "      <td>5.92</td>\n",
       "    </tr>\n",
       "    <tr>\n",
       "      <th>Sports</th>\n",
       "      <td>5.46</td>\n",
       "    </tr>\n",
       "  </tbody>\n",
       "</table>\n",
       "</div>"
      ],
      "text/plain": [
       "                   mean\n",
       "             user_score\n",
       "genre                  \n",
       "Puzzle             7.63\n",
       "Adventure          7.42\n",
       "Role-Playing       7.19\n",
       "Platform           7.12\n",
       "Fighting           6.90\n",
       "Misc               6.88\n",
       "Action             6.86\n",
       "Simulation         6.58\n",
       "Shooter            6.40\n",
       "Strategy           6.11\n",
       "Racing             5.92\n",
       "Sports             5.46"
      ]
     },
     "metadata": {},
     "output_type": "display_data"
    }
   ],
   "source": [
    "ax = df_2012_after.pivot_table(index = 'genre', values = 'user_score', aggfunc = ['mean']).round(2)\n",
    "display(ax.sort_values(by = ('mean','user_score'),ascending = False))"
   ]
  },
  {
   "cell_type": "markdown",
   "metadata": {},
   "source": [
    "Жанры-лидеры продаж - это:\n",
    "- Action\n",
    "- Shooter\n",
    "- Role-Playing\n",
    "\n",
    "При этом если сравнить их по средним продажам игр, то \"стабильно успешные\" жанры - это:\n",
    "- Shooter\n",
    "- Platform\n",
    "- Sports\n",
    "\n",
    "Глобальные продажи игр в разрезе жанров за 2012 - 2015 годы описываются следующими характеристиками:\n",
    "- За период выпустили от 27 (Puzzle) до 853 (Action) игр\n",
    "- Средние значения продаж находятся в пределах от 0,01  (Adventure) до 1,42  (Shooter) млн копий\n",
    "- Медианы продаж -  в пределах от 0,03  (Adventure) до 0,52  (Shooter) млн копий\n",
    "- Разброс в данных можно оценить через стандартное отклонение. Оно варьируется от 0,2 (Adventure) до 2,4 (Shooter)\n",
    "- Минимальные объемы продаж для всех жанров - 0,01 млн копий. Максимумы - от 1,19  млн копий Puzzle до - 21.05 млн копий Action\n",
    "\n",
    "Пользователи выше прочих оценивают игры жанров Puzzle и Adventure, критики - Platform и Puzzle."
   ]
  },
  {
   "cell_type": "markdown",
   "metadata": {},
   "source": [
    "### Портрет пользователя каждого региона"
   ]
  },
  {
   "cell_type": "markdown",
   "metadata": {},
   "source": [
    "#### Задача:\n",
    "Определите для пользователя каждого региона (NA, EU, JP):\n",
    "- Самые популярные платформы (топ-5). Опишите различия в долях продаж.\n",
    "- Самые популярные жанры (топ-5). Поясните разницу.\n",
    "- Влияет ли рейтинг ESRB на продажи в отдельном регионе?"
   ]
  },
  {
   "cell_type": "markdown",
   "metadata": {},
   "source": [
    "Для анализа используем данные за период - с 2012 года по 2015 годы, чтобы определить актуальный портрет пользователя."
   ]
  },
  {
   "cell_type": "code",
   "execution_count": 38,
   "metadata": {},
   "outputs": [
    {
     "name": "stdout",
     "output_type": "stream",
     "text": [
      "Top-5 platforms for NA:\n"
     ]
    },
    {
     "data": {
      "text/html": [
       "<div>\n",
       "<style scoped>\n",
       "    .dataframe tbody tr th:only-of-type {\n",
       "        vertical-align: middle;\n",
       "    }\n",
       "\n",
       "    .dataframe tbody tr th {\n",
       "        vertical-align: top;\n",
       "    }\n",
       "\n",
       "    .dataframe thead tr th {\n",
       "        text-align: left;\n",
       "    }\n",
       "\n",
       "    .dataframe thead tr:last-of-type th {\n",
       "        text-align: right;\n",
       "    }\n",
       "</style>\n",
       "<table border=\"1\" class=\"dataframe\">\n",
       "  <thead>\n",
       "    <tr>\n",
       "      <th></th>\n",
       "      <th>sum</th>\n",
       "      <th>share</th>\n",
       "    </tr>\n",
       "    <tr>\n",
       "      <th></th>\n",
       "      <th>na_sales</th>\n",
       "      <th></th>\n",
       "    </tr>\n",
       "    <tr>\n",
       "      <th>platform</th>\n",
       "      <th></th>\n",
       "      <th></th>\n",
       "    </tr>\n",
       "  </thead>\n",
       "  <tbody>\n",
       "    <tr>\n",
       "      <th>X360</th>\n",
       "      <td>139.36</td>\n",
       "      <td>0.255219</td>\n",
       "    </tr>\n",
       "    <tr>\n",
       "      <th>PS3</th>\n",
       "      <td>102.71</td>\n",
       "      <td>0.188100</td>\n",
       "    </tr>\n",
       "    <tr>\n",
       "      <th>PS4</th>\n",
       "      <td>87.25</td>\n",
       "      <td>0.159787</td>\n",
       "    </tr>\n",
       "    <tr>\n",
       "      <th>XOne</th>\n",
       "      <td>78.85</td>\n",
       "      <td>0.144403</td>\n",
       "    </tr>\n",
       "    <tr>\n",
       "      <th>3DS</th>\n",
       "      <td>51.17</td>\n",
       "      <td>0.093711</td>\n",
       "    </tr>\n",
       "  </tbody>\n",
       "</table>\n",
       "</div>"
      ],
      "text/plain": [
       "              sum     share\n",
       "         na_sales          \n",
       "platform                   \n",
       "X360       139.36  0.255219\n",
       "PS3        102.71  0.188100\n",
       "PS4         87.25  0.159787\n",
       "XOne        78.85  0.144403\n",
       "3DS         51.17  0.093711"
      ]
     },
     "metadata": {},
     "output_type": "display_data"
    },
    {
     "name": "stdout",
     "output_type": "stream",
     "text": [
      "Top-5 platforms for JP:\n"
     ]
    },
    {
     "data": {
      "text/html": [
       "<div>\n",
       "<style scoped>\n",
       "    .dataframe tbody tr th:only-of-type {\n",
       "        vertical-align: middle;\n",
       "    }\n",
       "\n",
       "    .dataframe tbody tr th {\n",
       "        vertical-align: top;\n",
       "    }\n",
       "\n",
       "    .dataframe thead tr th {\n",
       "        text-align: left;\n",
       "    }\n",
       "\n",
       "    .dataframe thead tr:last-of-type th {\n",
       "        text-align: right;\n",
       "    }\n",
       "</style>\n",
       "<table border=\"1\" class=\"dataframe\">\n",
       "  <thead>\n",
       "    <tr>\n",
       "      <th></th>\n",
       "      <th>sum</th>\n",
       "      <th>share</th>\n",
       "    </tr>\n",
       "    <tr>\n",
       "      <th></th>\n",
       "      <th>jp_sales</th>\n",
       "      <th></th>\n",
       "    </tr>\n",
       "    <tr>\n",
       "      <th>platform</th>\n",
       "      <th></th>\n",
       "      <th></th>\n",
       "    </tr>\n",
       "  </thead>\n",
       "  <tbody>\n",
       "    <tr>\n",
       "      <th>3DS</th>\n",
       "      <td>79.76</td>\n",
       "      <td>0.460322</td>\n",
       "    </tr>\n",
       "    <tr>\n",
       "      <th>PS3</th>\n",
       "      <td>33.99</td>\n",
       "      <td>0.196168</td>\n",
       "    </tr>\n",
       "    <tr>\n",
       "      <th>PSV</th>\n",
       "      <td>17.48</td>\n",
       "      <td>0.100883</td>\n",
       "    </tr>\n",
       "    <tr>\n",
       "      <th>WiiU</th>\n",
       "      <td>12.34</td>\n",
       "      <td>0.071218</td>\n",
       "    </tr>\n",
       "    <tr>\n",
       "      <th>PSP</th>\n",
       "      <td>10.47</td>\n",
       "      <td>0.060426</td>\n",
       "    </tr>\n",
       "  </tbody>\n",
       "</table>\n",
       "</div>"
      ],
      "text/plain": [
       "              sum     share\n",
       "         jp_sales          \n",
       "platform                   \n",
       "3DS         79.76  0.460322\n",
       "PS3         33.99  0.196168\n",
       "PSV         17.48  0.100883\n",
       "WiiU        12.34  0.071218\n",
       "PSP         10.47  0.060426"
      ]
     },
     "metadata": {},
     "output_type": "display_data"
    },
    {
     "name": "stdout",
     "output_type": "stream",
     "text": [
      "Top-5 platforms for EU:\n"
     ]
    },
    {
     "data": {
      "text/html": [
       "<div>\n",
       "<style scoped>\n",
       "    .dataframe tbody tr th:only-of-type {\n",
       "        vertical-align: middle;\n",
       "    }\n",
       "\n",
       "    .dataframe tbody tr th {\n",
       "        vertical-align: top;\n",
       "    }\n",
       "\n",
       "    .dataframe thead tr th {\n",
       "        text-align: left;\n",
       "    }\n",
       "\n",
       "    .dataframe thead tr:last-of-type th {\n",
       "        text-align: right;\n",
       "    }\n",
       "</style>\n",
       "<table border=\"1\" class=\"dataframe\">\n",
       "  <thead>\n",
       "    <tr>\n",
       "      <th></th>\n",
       "      <th>sum</th>\n",
       "      <th>share</th>\n",
       "    </tr>\n",
       "    <tr>\n",
       "      <th></th>\n",
       "      <th>eu_sales</th>\n",
       "      <th></th>\n",
       "    </tr>\n",
       "    <tr>\n",
       "      <th>platform</th>\n",
       "      <th></th>\n",
       "      <th></th>\n",
       "    </tr>\n",
       "  </thead>\n",
       "  <tbody>\n",
       "    <tr>\n",
       "      <th>PS4</th>\n",
       "      <td>109.31</td>\n",
       "      <td>0.239925</td>\n",
       "    </tr>\n",
       "    <tr>\n",
       "      <th>PS3</th>\n",
       "      <td>105.60</td>\n",
       "      <td>0.231782</td>\n",
       "    </tr>\n",
       "    <tr>\n",
       "      <th>X360</th>\n",
       "      <td>73.81</td>\n",
       "      <td>0.162006</td>\n",
       "    </tr>\n",
       "    <tr>\n",
       "      <th>XOne</th>\n",
       "      <td>41.96</td>\n",
       "      <td>0.092098</td>\n",
       "    </tr>\n",
       "    <tr>\n",
       "      <th>3DS</th>\n",
       "      <td>40.31</td>\n",
       "      <td>0.088477</td>\n",
       "    </tr>\n",
       "  </tbody>\n",
       "</table>\n",
       "</div>"
      ],
      "text/plain": [
       "              sum     share\n",
       "         eu_sales          \n",
       "platform                   \n",
       "PS4        109.31  0.239925\n",
       "PS3        105.60  0.231782\n",
       "X360        73.81  0.162006\n",
       "XOne        41.96  0.092098\n",
       "3DS         40.31  0.088477"
      ]
     },
     "metadata": {},
     "output_type": "display_data"
    }
   ],
   "source": [
    "#Определим самые популярные платформы в разрезе по регионам\n",
    "\n",
    "print('Top-5 platforms for NA:')\n",
    "ax = (df_2012_after.pivot_table(index = ['platform'],values = ['na_sales'], aggfunc = ['sum']).sort_values(by = ('sum','na_sales'),ascending = False).head())\n",
    "ax['share'] = ax[('sum','na_sales')]/df_2012_after['na_sales'].sum()\n",
    "display(ax)\n",
    "print('Top-5 platforms for JP:')\n",
    "ax = (df_2012_after.pivot_table(index = ['platform'],values = ['jp_sales'], aggfunc = ['sum']).sort_values(by = ('sum','jp_sales'),ascending = False).head())\n",
    "ax['share'] = ax[('sum','jp_sales')]/df_2012_after['jp_sales'].sum()\n",
    "display(ax)\n",
    "print('Top-5 platforms for EU:')\n",
    "ax = (df_2012_after.pivot_table(index = ['platform'],values = ['eu_sales'], aggfunc = ['sum']).sort_values(by = ('sum','eu_sales'),ascending = False).head())\n",
    "ax['share'] = ax[('sum','eu_sales')]/df_2012_after['eu_sales'].sum()\n",
    "display(ax)"
   ]
  },
  {
   "cell_type": "code",
   "execution_count": 39,
   "metadata": {},
   "outputs": [
    {
     "name": "stdout",
     "output_type": "stream",
     "text": [
      "Top-5 genres for NA:\n"
     ]
    },
    {
     "data": {
      "text/html": [
       "<div>\n",
       "<style scoped>\n",
       "    .dataframe tbody tr th:only-of-type {\n",
       "        vertical-align: middle;\n",
       "    }\n",
       "\n",
       "    .dataframe tbody tr th {\n",
       "        vertical-align: top;\n",
       "    }\n",
       "\n",
       "    .dataframe thead tr th {\n",
       "        text-align: left;\n",
       "    }\n",
       "\n",
       "    .dataframe thead tr:last-of-type th {\n",
       "        text-align: right;\n",
       "    }\n",
       "</style>\n",
       "<table border=\"1\" class=\"dataframe\">\n",
       "  <thead>\n",
       "    <tr>\n",
       "      <th></th>\n",
       "      <th>mean</th>\n",
       "    </tr>\n",
       "    <tr>\n",
       "      <th></th>\n",
       "      <th>na_sales</th>\n",
       "    </tr>\n",
       "    <tr>\n",
       "      <th>genre</th>\n",
       "      <th></th>\n",
       "    </tr>\n",
       "  </thead>\n",
       "  <tbody>\n",
       "    <tr>\n",
       "      <th>Shooter</th>\n",
       "      <td>0.683670</td>\n",
       "    </tr>\n",
       "    <tr>\n",
       "      <th>Platform</th>\n",
       "      <td>0.344143</td>\n",
       "    </tr>\n",
       "    <tr>\n",
       "      <th>Sports</th>\n",
       "      <td>0.336318</td>\n",
       "    </tr>\n",
       "    <tr>\n",
       "      <th>Misc</th>\n",
       "      <td>0.233938</td>\n",
       "    </tr>\n",
       "    <tr>\n",
       "      <th>Action</th>\n",
       "      <td>0.197597</td>\n",
       "    </tr>\n",
       "  </tbody>\n",
       "</table>\n",
       "</div>"
      ],
      "text/plain": [
       "              mean\n",
       "          na_sales\n",
       "genre             \n",
       "Shooter   0.683670\n",
       "Platform  0.344143\n",
       "Sports    0.336318\n",
       "Misc      0.233938\n",
       "Action    0.197597"
      ]
     },
     "metadata": {},
     "output_type": "display_data"
    },
    {
     "name": "stdout",
     "output_type": "stream",
     "text": [
      "Top-5 genres for JP:\n"
     ]
    },
    {
     "data": {
      "text/html": [
       "<div>\n",
       "<style scoped>\n",
       "    .dataframe tbody tr th:only-of-type {\n",
       "        vertical-align: middle;\n",
       "    }\n",
       "\n",
       "    .dataframe tbody tr th {\n",
       "        vertical-align: top;\n",
       "    }\n",
       "\n",
       "    .dataframe thead tr th {\n",
       "        text-align: left;\n",
       "    }\n",
       "\n",
       "    .dataframe thead tr:last-of-type th {\n",
       "        text-align: right;\n",
       "    }\n",
       "</style>\n",
       "<table border=\"1\" class=\"dataframe\">\n",
       "  <thead>\n",
       "    <tr>\n",
       "      <th></th>\n",
       "      <th>mean</th>\n",
       "    </tr>\n",
       "    <tr>\n",
       "      <th></th>\n",
       "      <th>jp_sales</th>\n",
       "    </tr>\n",
       "    <tr>\n",
       "      <th>genre</th>\n",
       "      <th></th>\n",
       "    </tr>\n",
       "  </thead>\n",
       "  <tbody>\n",
       "    <tr>\n",
       "      <th>Role-Playing</th>\n",
       "      <td>0.186171</td>\n",
       "    </tr>\n",
       "    <tr>\n",
       "      <th>Simulation</th>\n",
       "      <td>0.162581</td>\n",
       "    </tr>\n",
       "    <tr>\n",
       "      <th>Platform</th>\n",
       "      <td>0.121714</td>\n",
       "    </tr>\n",
       "    <tr>\n",
       "      <th>Fighting</th>\n",
       "      <td>0.093441</td>\n",
       "    </tr>\n",
       "    <tr>\n",
       "      <th>Puzzle</th>\n",
       "      <td>0.079259</td>\n",
       "    </tr>\n",
       "  </tbody>\n",
       "</table>\n",
       "</div>"
      ],
      "text/plain": [
       "                  mean\n",
       "              jp_sales\n",
       "genre                 \n",
       "Role-Playing  0.186171\n",
       "Simulation    0.162581\n",
       "Platform      0.121714\n",
       "Fighting      0.093441\n",
       "Puzzle        0.079259"
      ]
     },
     "metadata": {},
     "output_type": "display_data"
    },
    {
     "name": "stdout",
     "output_type": "stream",
     "text": [
      "Top-5 genres for EU:\n"
     ]
    },
    {
     "data": {
      "text/html": [
       "<div>\n",
       "<style scoped>\n",
       "    .dataframe tbody tr th:only-of-type {\n",
       "        vertical-align: middle;\n",
       "    }\n",
       "\n",
       "    .dataframe tbody tr th {\n",
       "        vertical-align: top;\n",
       "    }\n",
       "\n",
       "    .dataframe thead tr th {\n",
       "        text-align: left;\n",
       "    }\n",
       "\n",
       "    .dataframe thead tr:last-of-type th {\n",
       "        text-align: right;\n",
       "    }\n",
       "</style>\n",
       "<table border=\"1\" class=\"dataframe\">\n",
       "  <thead>\n",
       "    <tr>\n",
       "      <th></th>\n",
       "      <th>mean</th>\n",
       "    </tr>\n",
       "    <tr>\n",
       "      <th></th>\n",
       "      <th>eu_sales</th>\n",
       "    </tr>\n",
       "    <tr>\n",
       "      <th>genre</th>\n",
       "      <th></th>\n",
       "    </tr>\n",
       "  </thead>\n",
       "  <tbody>\n",
       "    <tr>\n",
       "      <th>Shooter</th>\n",
       "      <td>0.518989</td>\n",
       "    </tr>\n",
       "    <tr>\n",
       "      <th>Platform</th>\n",
       "      <td>0.286000</td>\n",
       "    </tr>\n",
       "    <tr>\n",
       "      <th>Racing</th>\n",
       "      <td>0.280440</td>\n",
       "    </tr>\n",
       "    <tr>\n",
       "      <th>Sports</th>\n",
       "      <td>0.259455</td>\n",
       "    </tr>\n",
       "    <tr>\n",
       "      <th>Simulation</th>\n",
       "      <td>0.214194</td>\n",
       "    </tr>\n",
       "  </tbody>\n",
       "</table>\n",
       "</div>"
      ],
      "text/plain": [
       "                mean\n",
       "            eu_sales\n",
       "genre               \n",
       "Shooter     0.518989\n",
       "Platform    0.286000\n",
       "Racing      0.280440\n",
       "Sports      0.259455\n",
       "Simulation  0.214194"
      ]
     },
     "metadata": {},
     "output_type": "display_data"
    }
   ],
   "source": [
    "#Определим самые популярные жанры в разрезе по регионам\n",
    "\n",
    "print('Top-5 genres for NA:')\n",
    "ax = (df_2012_after.pivot_table(index = ['genre'],values = ['na_sales'], aggfunc = ['mean']).sort_values(by = ('mean','na_sales'),ascending = False))\n",
    "display(ax.head())\n",
    "print('Top-5 genres for JP:')\n",
    "ax = (df_2012_after.pivot_table(index = ['genre'],values = ['jp_sales'], aggfunc = ['mean']).sort_values(by = ('mean','jp_sales'),ascending = False).head())\n",
    "display(ax.head())\n",
    "print('Top-5 genres for EU:')\n",
    "ax = (df_2012_after.pivot_table(index = ['genre'],values = ['eu_sales'], aggfunc = ['mean']).sort_values(by = ('mean','eu_sales'),ascending = False).head())\n",
    "display(ax.head())"
   ]
  },
  {
   "cell_type": "code",
   "execution_count": 40,
   "metadata": {},
   "outputs": [
    {
     "name": "stdout",
     "output_type": "stream",
     "text": [
      "Ratings for NA:\n"
     ]
    },
    {
     "data": {
      "text/html": [
       "<div>\n",
       "<style scoped>\n",
       "    .dataframe tbody tr th:only-of-type {\n",
       "        vertical-align: middle;\n",
       "    }\n",
       "\n",
       "    .dataframe tbody tr th {\n",
       "        vertical-align: top;\n",
       "    }\n",
       "\n",
       "    .dataframe thead tr th {\n",
       "        text-align: left;\n",
       "    }\n",
       "\n",
       "    .dataframe thead tr:last-of-type th {\n",
       "        text-align: right;\n",
       "    }\n",
       "</style>\n",
       "<table border=\"1\" class=\"dataframe\">\n",
       "  <thead>\n",
       "    <tr>\n",
       "      <th></th>\n",
       "      <th>sum</th>\n",
       "      <th>share</th>\n",
       "    </tr>\n",
       "    <tr>\n",
       "      <th></th>\n",
       "      <th>na_sales</th>\n",
       "      <th></th>\n",
       "    </tr>\n",
       "    <tr>\n",
       "      <th>rating</th>\n",
       "      <th></th>\n",
       "      <th></th>\n",
       "    </tr>\n",
       "  </thead>\n",
       "  <tbody>\n",
       "    <tr>\n",
       "      <th>M</th>\n",
       "      <td>215.90</td>\n",
       "      <td>0.395392</td>\n",
       "    </tr>\n",
       "    <tr>\n",
       "      <th>E</th>\n",
       "      <td>106.40</td>\n",
       "      <td>0.194858</td>\n",
       "    </tr>\n",
       "    <tr>\n",
       "      <th>Unknown</th>\n",
       "      <td>94.78</td>\n",
       "      <td>0.173577</td>\n",
       "    </tr>\n",
       "    <tr>\n",
       "      <th>E10+</th>\n",
       "      <td>71.89</td>\n",
       "      <td>0.131657</td>\n",
       "    </tr>\n",
       "    <tr>\n",
       "      <th>T</th>\n",
       "      <td>57.07</td>\n",
       "      <td>0.104516</td>\n",
       "    </tr>\n",
       "  </tbody>\n",
       "</table>\n",
       "</div>"
      ],
      "text/plain": [
       "             sum     share\n",
       "        na_sales          \n",
       "rating                    \n",
       "M         215.90  0.395392\n",
       "E         106.40  0.194858\n",
       "Unknown    94.78  0.173577\n",
       "E10+       71.89  0.131657\n",
       "T          57.07  0.104516"
      ]
     },
     "metadata": {},
     "output_type": "display_data"
    },
    {
     "name": "stdout",
     "output_type": "stream",
     "text": [
      "Ratings for JP:\n"
     ]
    },
    {
     "data": {
      "text/html": [
       "<div>\n",
       "<style scoped>\n",
       "    .dataframe tbody tr th:only-of-type {\n",
       "        vertical-align: middle;\n",
       "    }\n",
       "\n",
       "    .dataframe tbody tr th {\n",
       "        vertical-align: top;\n",
       "    }\n",
       "\n",
       "    .dataframe thead tr th {\n",
       "        text-align: left;\n",
       "    }\n",
       "\n",
       "    .dataframe thead tr:last-of-type th {\n",
       "        text-align: right;\n",
       "    }\n",
       "</style>\n",
       "<table border=\"1\" class=\"dataframe\">\n",
       "  <thead>\n",
       "    <tr>\n",
       "      <th></th>\n",
       "      <th>sum</th>\n",
       "      <th>share</th>\n",
       "    </tr>\n",
       "    <tr>\n",
       "      <th></th>\n",
       "      <th>jp_sales</th>\n",
       "      <th></th>\n",
       "    </tr>\n",
       "    <tr>\n",
       "      <th>rating</th>\n",
       "      <th></th>\n",
       "      <th></th>\n",
       "    </tr>\n",
       "  </thead>\n",
       "  <tbody>\n",
       "    <tr>\n",
       "      <th>Unknown</th>\n",
       "      <td>94.52</td>\n",
       "      <td>0.545507</td>\n",
       "    </tr>\n",
       "    <tr>\n",
       "      <th>E</th>\n",
       "      <td>27.26</td>\n",
       "      <td>0.157327</td>\n",
       "    </tr>\n",
       "    <tr>\n",
       "      <th>T</th>\n",
       "      <td>23.75</td>\n",
       "      <td>0.137069</td>\n",
       "    </tr>\n",
       "    <tr>\n",
       "      <th>M</th>\n",
       "      <td>20.00</td>\n",
       "      <td>0.115427</td>\n",
       "    </tr>\n",
       "    <tr>\n",
       "      <th>E10+</th>\n",
       "      <td>7.74</td>\n",
       "      <td>0.044670</td>\n",
       "    </tr>\n",
       "  </tbody>\n",
       "</table>\n",
       "</div>"
      ],
      "text/plain": [
       "             sum     share\n",
       "        jp_sales          \n",
       "rating                    \n",
       "Unknown    94.52  0.545507\n",
       "E          27.26  0.157327\n",
       "T          23.75  0.137069\n",
       "M          20.00  0.115427\n",
       "E10+        7.74  0.044670"
      ]
     },
     "metadata": {},
     "output_type": "display_data"
    },
    {
     "name": "stdout",
     "output_type": "stream",
     "text": [
      "Ratings for EU:\n"
     ]
    },
    {
     "data": {
      "text/html": [
       "<div>\n",
       "<style scoped>\n",
       "    .dataframe tbody tr th:only-of-type {\n",
       "        vertical-align: middle;\n",
       "    }\n",
       "\n",
       "    .dataframe tbody tr th {\n",
       "        vertical-align: top;\n",
       "    }\n",
       "\n",
       "    .dataframe thead tr th {\n",
       "        text-align: left;\n",
       "    }\n",
       "\n",
       "    .dataframe thead tr:last-of-type th {\n",
       "        text-align: right;\n",
       "    }\n",
       "</style>\n",
       "<table border=\"1\" class=\"dataframe\">\n",
       "  <thead>\n",
       "    <tr>\n",
       "      <th></th>\n",
       "      <th>sum</th>\n",
       "      <th>share</th>\n",
       "    </tr>\n",
       "    <tr>\n",
       "      <th></th>\n",
       "      <th>eu_sales</th>\n",
       "      <th></th>\n",
       "    </tr>\n",
       "    <tr>\n",
       "      <th>rating</th>\n",
       "      <th></th>\n",
       "      <th></th>\n",
       "    </tr>\n",
       "  </thead>\n",
       "  <tbody>\n",
       "    <tr>\n",
       "      <th>M</th>\n",
       "      <td>177.42</td>\n",
       "      <td>0.389421</td>\n",
       "    </tr>\n",
       "    <tr>\n",
       "      <th>E</th>\n",
       "      <td>99.42</td>\n",
       "      <td>0.218218</td>\n",
       "    </tr>\n",
       "    <tr>\n",
       "      <th>Unknown</th>\n",
       "      <td>84.03</td>\n",
       "      <td>0.184438</td>\n",
       "    </tr>\n",
       "    <tr>\n",
       "      <th>E10+</th>\n",
       "      <td>51.56</td>\n",
       "      <td>0.113169</td>\n",
       "    </tr>\n",
       "    <tr>\n",
       "      <th>T</th>\n",
       "      <td>43.17</td>\n",
       "      <td>0.094754</td>\n",
       "    </tr>\n",
       "  </tbody>\n",
       "</table>\n",
       "</div>"
      ],
      "text/plain": [
       "             sum     share\n",
       "        eu_sales          \n",
       "rating                    \n",
       "M         177.42  0.389421\n",
       "E          99.42  0.218218\n",
       "Unknown    84.03  0.184438\n",
       "E10+       51.56  0.113169\n",
       "T          43.17  0.094754"
      ]
     },
     "metadata": {},
     "output_type": "display_data"
    }
   ],
   "source": [
    "#Определим самые популярные категории в разрезе по регионам\n",
    "\n",
    "print('Ratings for NA:')\n",
    "ax = (df_2012_after.pivot_table(index = ['rating'],values = ['na_sales'], aggfunc = ['sum']).sort_values(by = ('sum','na_sales'),ascending = False))\n",
    "ax['share'] = ax[('sum','na_sales')]/df_2012_after['na_sales'].sum()\n",
    "display(ax)\n",
    "print('Ratings for JP:')\n",
    "ax = (df_2012_after.pivot_table(index = ['rating'],values = ['jp_sales'], aggfunc = ['sum']).sort_values(by = ('sum','jp_sales'),ascending = False))\n",
    "ax['share'] = ax[('sum','jp_sales')]/df_2012_after['jp_sales'].sum()\n",
    "display(ax)\n",
    "print('Ratings for EU:')\n",
    "ax = (df_2012_after.pivot_table(index = ['rating'],values = ['eu_sales'], aggfunc = ['sum']).sort_values(by = ('sum','eu_sales'),ascending = False))\n",
    "ax['share'] = ax[('sum','eu_sales')]/df_2012_after['eu_sales'].sum()\n",
    "display(ax)"
   ]
  },
  {
   "cell_type": "markdown",
   "metadata": {},
   "source": [
    "________________________________________________________\n",
    "Европа:\n",
    "________________________________________________________\n",
    "Топ-5 жанров EU с максимальными средними продажами:\n",
    "- Shooter\n",
    "- Platform\n",
    "- Racing\n",
    "- Sports \n",
    "- Simulation\n",
    " \n",
    "\n",
    "Топ-5 платформ EU совокупно составляют 81% всех продаж:\n",
    "- PS4 (24%)\n",
    "- PS3(23%)\n",
    "- X360 (16%)\n",
    "- XOne (9%)\n",
    "- 3DS (9%)\n",
    "\n",
    "Игры M(17+) - самые популярные, после идут игры E(6+), затем - игры без присвоенного рейтинга\n",
    "________________________________________________________\n",
    "Северная Америка:\n",
    "________________________________________________________\n",
    "Топ-5 жанров NA с максимальными средними продажами\n",
    "- Shooter\n",
    "- Platform\n",
    "- Sports \n",
    "- Misc \n",
    "- Action \n",
    "\n",
    "Топ-5 платформ NA совокупно составляют 84% всех продаж:\n",
    "- X360 (26%)\n",
    "- PS3 (19%)\n",
    "- PS4 (16%)\n",
    "- XOne (14%)\n",
    "- 3DS (9%)\n",
    "\n",
    "\n",
    "Игры М(17+) - самые популярные, после идут игры Е(6+),  затем  - игры без присвоенного рейтинга\n",
    "________________________________________________________\n",
    "Япония:\n",
    "________________________________________________________\n",
    "Топ-5 жанров JP  c максимальными средними продажами\n",
    "- Role-Playing \n",
    "- Simulation\n",
    "- Platform \n",
    "- Fighting\n",
    "- Puzzle\n",
    "\n",
    "\n",
    "Отличие в наборе популярных жанров между странами может быть объяснено культурными особенностями.\n",
    "\n",
    "Топ-5 платформ JP совокупно составляют 89% всех продаж:\n",
    "- 3DS (46%)\n",
    "- PS3 (20%)\n",
    "- PSV (10%)\n",
    "- WiiU (7%)\n",
    "- PSP (6%)\n",
    "\n",
    "Игры без присвоенного рейтинга - самые популярные, после идут игры Е(6+), затем - Т(13+)"
   ]
  },
  {
   "cell_type": "markdown",
   "metadata": {},
   "source": [
    "### Проверка гипотез"
   ]
  },
  {
   "cell_type": "markdown",
   "metadata": {},
   "source": [
    "#### Гипотеза 1:\n",
    "Нулевая: средние пользовательские рейтинги платформ Xbox One и PC равны\n",
    "\n",
    "Альтернативная: средние пользовательские рейтинги платформ Xbox One и PC не равны"
   ]
  },
  {
   "cell_type": "code",
   "execution_count": 41,
   "metadata": {},
   "outputs": [],
   "source": [
    "df_2012_after = df_2012_after.dropna(subset=['user_score']) #Удалим игры без оценок - с ними не вычисляется pvalue"
   ]
  },
  {
   "cell_type": "code",
   "execution_count": 42,
   "metadata": {},
   "outputs": [
    {
     "name": "stdout",
     "output_type": "stream",
     "text": [
      "p-значение: 0.9241799928962661\n",
      "Не получилось отвергнуть нулевую гипотезу\n"
     ]
    }
   ],
   "source": [
    "# Проверим гипотезу двусторонним тестом \n",
    "#(нам неважно, больше или меньше значения средних, поэтому тест двусторонний)\n",
    "\n",
    "\n",
    "alpha = .01 # критический уровень статистической значимости\n",
    "interested_value = df_2012_after.loc[df_2012_after['platform'] == 'XOne']['user_score'].mean() #средний пользовательский рейтинг платформы Xbox\n",
    "user_score_PC = df_2012_after.loc[df_2012_after['platform']=='PC']['user_score'] #срез оценок по другой платформе\n",
    "\n",
    "results = st.ttest_1samp(\n",
    "    user_score_PC, \n",
    "    interested_value)\n",
    "\n",
    "print('p-значение:', results.pvalue)\n",
    "\n",
    "if (results.pvalue < alpha):\n",
    "    print(\"Отвергаем нулевую гипотезу\")\n",
    "else:\n",
    "    print(\"Не получилось отвергнуть нулевую гипотезу\")"
   ]
  },
  {
   "cell_type": "markdown",
   "metadata": {},
   "source": [
    "#### Гипотеза 2:\n",
    "Нулевая: средние пользовательские рейтинги жанров Action и Sports не равны.\n",
    "\n",
    "Альтернативная: средние пользовательские рейтинги жанров Action и Sports равны."
   ]
  },
  {
   "cell_type": "code",
   "execution_count": 43,
   "metadata": {},
   "outputs": [
    {
     "name": "stdout",
     "output_type": "stream",
     "text": [
      "p-значение: 5.196279659953657e-20\n",
      "Отвергаем нулевую гипотезу\n"
     ]
    }
   ],
   "source": [
    "# Проверим гипотезу двусторонним тестом \n",
    "#(нам неважно, больше или меньше значения средних, поэтому тест двусторонний)\n",
    "\n",
    "\n",
    "alpha = .01 # критический уровень статистической значимости\n",
    "interested_value = df_2012_after.loc[df_2012_after['genre'] == 'Action']['user_score'].mean() #средний пользовательский рейтинг жанра Action\n",
    "user_score_sports = df_2012_after.loc[df_2012_after['genre']=='Sports']['user_score'] #срез оценок жанра Sports\n",
    "\n",
    "results = st.ttest_1samp(\n",
    "    user_score_sports, \n",
    "    interested_value)\n",
    "\n",
    "print('p-значение:', results.pvalue)\n",
    "\n",
    "if (results.pvalue < alpha):\n",
    "    print(\"Отвергаем нулевую гипотезу\")\n",
    "else:\n",
    "    print(\"Не получилось отвергнуть нулевую гипотезу\")"
   ]
  },
  {
   "cell_type": "markdown",
   "metadata": {},
   "source": [
    "Проверка гипотез показала, что:\n",
    "- средние пользовательские рейтинги платформ Xbox One и PC равны\n",
    "- средние пользовательские рейтинги жанров Action и Sports не равны"
   ]
  },
  {
   "cell_type": "markdown",
   "metadata": {},
   "source": [
    "### Общий вывод"
   ]
  },
  {
   "cell_type": "markdown",
   "metadata": {},
   "source": [
    "- Для выявления закономерностей, определяющих успешность игры, мы опирались на открытые данные за период 1980 - 2016.\n",
    "- Активное создание игр началось в 2000-х и достигло пика в 2009.\n",
    "- Топ-5 платформ с самыми большими продажами игр за весь период - это PS3, PS4, X360, 3DS, Xone.\n",
    "\n",
    "\n",
    "- Средняя продолжительность жизни платформы - 5-10 лет. То есть, чтобы построить прогноз на 2017, нужно опираться на данные после 2007 года. Т.к. компьютерные игры - динамично изменяющаяся индустрия, сфокусируемся на данных с 2012 года.\n",
    "\n",
    "- Платформы-лидеры продаж с 2012 по 2015 годы - это PS3, X360, Wii, DS, PS4. \n",
    "- При этом PS4 и Xone растут по динамике продаж игр. При условии эффективной операционный деятельности (управление расходами), можно предположить, что эти платформы прибыльны.\n",
    "- Глобальные продажи игр в разрезе всех платформ за 2007 - 2015 годы описываются следующими характеристиками:\n",
    "    - За период платформы выпустили от 31 (DS) до 455 (PS3) игр\n",
    "    - Средние значения продаж находятся в пределах от 0,06  (РSP) до 1,07  (PS4) млн копий\n",
    "    - Медианы продаж -  в пределах от 0,03  (PSP) до 0,35  (XOne) млн копий\n",
    "    - Разброс в данных можно оценить через стандартное отклонение. Оно варьируется от 0,1 (PSP) до 1,9 (PS4)\n",
    "    - Минимальные объемы продаж для всех платформ - 0,01 млн копий. Максимумы - от 0,04 млн копий игры на PSP до - 21.05 млн копий (PS3)\n",
    "    \n",
    "- Жанры-лидеры продаж - это Action, Shooter, Role-Playing.\n",
    "- «Стабильно успешные\" жанры по средним продажам - это Shooter, Platform, Sports.\n",
    "- Пользователи выше прочих оценивают игры жанров Puzzle и Adventure, критики - Platform и Puzzle.\n",
    "- Глобальные продажи игр в разрезе жанров за 2012 - 2015 годы описываются следующими характеристиками:\n",
    "    - За период выпустили от 27 (Puzzle) до 853 (Action) игр\n",
    "    - Средние значения продаж находятся в пределах от 0,01  (Adventure) до 1,42  (Shooter) млн копий\n",
    "    - Медианы продаж -  в пределах от 0,03  (Adventure) до 0,52  (Shooter) млн копий\n",
    "    - Разброс в данных можно оценить через стандартное отклонение. Оно варьируется от 0,2 (Adventure) до 2,4 (Shooter)\n",
    "    - Минимальные объемы продаж для всех жанров - 0,01 млн копий. Максимумы - от 1,19  млн копий Puzzle до - 21.05 млн копий Action\n",
    "\n",
    "- В целом можно утвеждать, что есть связь между оценкой критиков и продажами.\n",
    "- Оценка пользователей не влияет на продажи.\n",
    "\n",
    "- Есть специфика рынков в зависимости от регионов:\n",
    "    - В Северной Америке и Европе предпочитают Shooter/ Platform игры на платформах X360, PS3 и PS4  \n",
    "    - В Японии играют в Role-Playing/ Simulation жанры на платформе 3DS.\n",
    "\n",
    "- Проверка гипотез показала, что:\n",
    "    - средние пользовательские рейтинги платформ Xbox One и PC равны\n",
    "    - средние пользовательские рейтинги жанров Action и Sports не равны.\n",
    "\n",
    "Таким образом, наиболее популярные продукты - это игры жанра shooter, platform на платформах X360, PS3 с высокими оценками критиков. Для диверсификации можно расширить предложение продуктами на растущих платформах PS4 и Xone."
   ]
  }
 ],
 "metadata": {
  "ExecuteTimeLog": [
   {
    "duration": 9,
    "start_time": "2022-06-15T16:57:18.749Z"
   },
   {
    "duration": 2,
    "start_time": "2022-06-15T16:58:43.457Z"
   },
   {
    "duration": 3,
    "start_time": "2022-06-15T16:59:21.612Z"
   },
   {
    "duration": 2,
    "start_time": "2022-06-15T17:00:46.084Z"
   },
   {
    "duration": 3,
    "start_time": "2022-06-15T17:06:14.441Z"
   },
   {
    "duration": 3,
    "start_time": "2022-06-15T17:06:48.355Z"
   },
   {
    "duration": 442,
    "start_time": "2022-06-15T17:07:30.181Z"
   },
   {
    "duration": 91,
    "start_time": "2022-06-15T17:08:18.731Z"
   },
   {
    "duration": 54,
    "start_time": "2022-06-15T17:08:46.526Z"
   },
   {
    "duration": 55,
    "start_time": "2022-06-15T17:09:02.651Z"
   },
   {
    "duration": 60,
    "start_time": "2022-06-15T17:09:08.196Z"
   },
   {
    "duration": 54,
    "start_time": "2022-06-15T17:09:13.693Z"
   },
   {
    "duration": 61,
    "start_time": "2022-06-15T17:09:30.919Z"
   },
   {
    "duration": 67,
    "start_time": "2022-06-15T17:09:44.543Z"
   },
   {
    "duration": 70,
    "start_time": "2022-06-15T17:10:41.618Z"
   },
   {
    "duration": 782,
    "start_time": "2022-06-15T17:44:35.387Z"
   },
   {
    "duration": 40,
    "start_time": "2022-06-15T17:49:32.870Z"
   },
   {
    "duration": 17,
    "start_time": "2022-06-15T17:50:43.101Z"
   },
   {
    "duration": 28,
    "start_time": "2022-06-15T17:50:46.703Z"
   },
   {
    "duration": 87,
    "start_time": "2022-06-15T17:50:58.565Z"
   },
   {
    "duration": 10,
    "start_time": "2022-06-15T17:51:05.245Z"
   },
   {
    "duration": 3,
    "start_time": "2022-06-15T17:51:26.962Z"
   },
   {
    "duration": 2,
    "start_time": "2022-06-15T17:52:49.146Z"
   },
   {
    "duration": 4,
    "start_time": "2022-06-15T17:53:10.722Z"
   },
   {
    "duration": 3,
    "start_time": "2022-06-15T17:53:16.494Z"
   },
   {
    "duration": 14,
    "start_time": "2022-06-15T17:53:29.313Z"
   },
   {
    "duration": 23,
    "start_time": "2022-06-15T18:08:27.007Z"
   },
   {
    "duration": 21,
    "start_time": "2022-06-15T18:10:37.018Z"
   },
   {
    "duration": 8,
    "start_time": "2022-06-15T18:10:56.512Z"
   },
   {
    "duration": 13,
    "start_time": "2022-06-15T18:21:57.550Z"
   },
   {
    "duration": 168,
    "start_time": "2022-06-15T18:22:05.583Z"
   },
   {
    "duration": 9,
    "start_time": "2022-06-15T18:22:30.648Z"
   },
   {
    "duration": 5,
    "start_time": "2022-06-15T18:22:59.795Z"
   },
   {
    "duration": 21,
    "start_time": "2022-06-15T18:23:17.204Z"
   },
   {
    "duration": 1059,
    "start_time": "2022-06-15T18:24:01.175Z"
   },
   {
    "duration": 86,
    "start_time": "2022-06-15T18:24:02.236Z"
   },
   {
    "duration": 3,
    "start_time": "2022-06-15T18:24:02.324Z"
   },
   {
    "duration": 54,
    "start_time": "2022-06-15T18:24:02.330Z"
   },
   {
    "duration": 5,
    "start_time": "2022-06-15T18:24:50.137Z"
   },
   {
    "duration": 14,
    "start_time": "2022-06-15T18:27:32.873Z"
   },
   {
    "duration": 24,
    "start_time": "2022-06-15T18:28:04.976Z"
   },
   {
    "duration": 102,
    "start_time": "2022-06-15T18:30:30.256Z"
   },
   {
    "duration": 14,
    "start_time": "2022-06-15T18:30:34.105Z"
   },
   {
    "duration": 10,
    "start_time": "2022-06-15T18:30:51.925Z"
   },
   {
    "duration": 6,
    "start_time": "2022-06-15T18:31:50.434Z"
   },
   {
    "duration": 5,
    "start_time": "2022-06-15T18:31:55.297Z"
   },
   {
    "duration": 9,
    "start_time": "2022-06-15T18:33:11.341Z"
   },
   {
    "duration": 4,
    "start_time": "2022-06-15T18:33:31.350Z"
   },
   {
    "duration": 14,
    "start_time": "2022-06-15T18:34:32.219Z"
   },
   {
    "duration": 16,
    "start_time": "2022-06-15T18:34:49.094Z"
   },
   {
    "duration": 19,
    "start_time": "2022-06-15T18:40:31.702Z"
   },
   {
    "duration": 21,
    "start_time": "2022-06-15T18:40:39.274Z"
   },
   {
    "duration": 18,
    "start_time": "2022-06-15T18:41:36.098Z"
   },
   {
    "duration": 19,
    "start_time": "2022-06-15T18:41:59.340Z"
   },
   {
    "duration": 19,
    "start_time": "2022-06-15T18:42:38.911Z"
   },
   {
    "duration": 32,
    "start_time": "2022-06-15T18:43:10.727Z"
   },
   {
    "duration": 27,
    "start_time": "2022-06-15T18:43:27.417Z"
   },
   {
    "duration": 25,
    "start_time": "2022-06-15T18:43:36.525Z"
   },
   {
    "duration": 30,
    "start_time": "2022-06-15T18:53:23.020Z"
   },
   {
    "duration": 30,
    "start_time": "2022-06-15T18:53:33.206Z"
   },
   {
    "duration": 23,
    "start_time": "2022-06-15T18:54:14.803Z"
   },
   {
    "duration": 22,
    "start_time": "2022-06-15T18:58:29.507Z"
   },
   {
    "duration": 22,
    "start_time": "2022-06-15T18:58:50.387Z"
   },
   {
    "duration": 23,
    "start_time": "2022-06-15T18:59:05.468Z"
   },
   {
    "duration": 27,
    "start_time": "2022-06-15T19:02:40.845Z"
   },
   {
    "duration": 19,
    "start_time": "2022-06-15T19:02:50.598Z"
   },
   {
    "duration": 30,
    "start_time": "2022-06-15T19:28:21.008Z"
   },
   {
    "duration": 171,
    "start_time": "2022-06-15T19:28:41.062Z"
   },
   {
    "duration": 161,
    "start_time": "2022-06-15T19:29:05.743Z"
   },
   {
    "duration": 135,
    "start_time": "2022-06-15T19:30:50.676Z"
   },
   {
    "duration": 35,
    "start_time": "2022-06-15T19:31:23.770Z"
   },
   {
    "duration": 220,
    "start_time": "2022-06-15T19:35:18.547Z"
   },
   {
    "duration": 1016,
    "start_time": "2022-06-15T19:36:02.133Z"
   },
   {
    "duration": 83,
    "start_time": "2022-06-15T19:36:03.151Z"
   },
   {
    "duration": 3,
    "start_time": "2022-06-15T19:36:03.238Z"
   },
   {
    "duration": 20,
    "start_time": "2022-06-15T19:36:03.243Z"
   },
   {
    "duration": 37,
    "start_time": "2022-06-15T19:36:03.264Z"
   },
   {
    "duration": 257,
    "start_time": "2022-06-15T19:36:03.302Z"
   },
   {
    "duration": 5,
    "start_time": "2022-06-15T19:36:03.561Z"
   },
   {
    "duration": 201,
    "start_time": "2022-06-15T19:36:24.159Z"
   },
   {
    "duration": 981,
    "start_time": "2022-06-15T19:36:30.071Z"
   },
   {
    "duration": 78,
    "start_time": "2022-06-15T19:36:31.054Z"
   },
   {
    "duration": 3,
    "start_time": "2022-06-15T19:36:31.133Z"
   },
   {
    "duration": 19,
    "start_time": "2022-06-15T19:36:31.139Z"
   },
   {
    "duration": 34,
    "start_time": "2022-06-15T19:36:31.160Z"
   },
   {
    "duration": 263,
    "start_time": "2022-06-15T19:36:31.196Z"
   },
   {
    "duration": 5,
    "start_time": "2022-06-15T19:36:31.460Z"
   },
   {
    "duration": 218,
    "start_time": "2022-06-15T19:37:36.809Z"
   },
   {
    "duration": 216,
    "start_time": "2022-06-15T19:37:45.203Z"
   },
   {
    "duration": 294,
    "start_time": "2022-06-15T19:39:19.378Z"
   },
   {
    "duration": 385,
    "start_time": "2022-06-15T19:40:22.532Z"
   },
   {
    "duration": 975,
    "start_time": "2022-06-15T19:40:29.783Z"
   },
   {
    "duration": 74,
    "start_time": "2022-06-15T19:40:30.760Z"
   },
   {
    "duration": 3,
    "start_time": "2022-06-15T19:40:30.835Z"
   },
   {
    "duration": 16,
    "start_time": "2022-06-15T19:40:30.840Z"
   },
   {
    "duration": 36,
    "start_time": "2022-06-15T19:40:30.857Z"
   },
   {
    "duration": 317,
    "start_time": "2022-06-15T19:40:30.895Z"
   },
   {
    "duration": 15,
    "start_time": "2022-06-15T19:40:31.213Z"
   },
   {
    "duration": 211,
    "start_time": "2022-06-15T19:41:19.362Z"
   },
   {
    "duration": 86,
    "start_time": "2022-06-15T19:41:21.980Z"
   },
   {
    "duration": 97,
    "start_time": "2022-06-15T19:41:24.832Z"
   },
   {
    "duration": 1018,
    "start_time": "2022-06-15T19:41:33.951Z"
   },
   {
    "duration": 80,
    "start_time": "2022-06-15T19:41:34.970Z"
   },
   {
    "duration": 3,
    "start_time": "2022-06-15T19:41:35.052Z"
   },
   {
    "duration": 18,
    "start_time": "2022-06-15T19:41:35.057Z"
   },
   {
    "duration": 34,
    "start_time": "2022-06-15T19:41:35.077Z"
   },
   {
    "duration": 278,
    "start_time": "2022-06-15T19:41:35.113Z"
   },
   {
    "duration": 100,
    "start_time": "2022-06-15T19:41:35.393Z"
   },
   {
    "duration": 109,
    "start_time": "2022-06-15T19:41:35.494Z"
   },
   {
    "duration": 5,
    "start_time": "2022-06-15T19:41:35.605Z"
   },
   {
    "duration": 3,
    "start_time": "2022-06-15T19:43:05.142Z"
   },
   {
    "duration": 1030,
    "start_time": "2022-06-15T19:43:56.095Z"
   },
   {
    "duration": 73,
    "start_time": "2022-06-15T19:43:57.127Z"
   },
   {
    "duration": 3,
    "start_time": "2022-06-15T19:43:57.202Z"
   },
   {
    "duration": 13,
    "start_time": "2022-06-15T19:43:57.206Z"
   },
   {
    "duration": 19,
    "start_time": "2022-06-15T19:43:57.220Z"
   },
   {
    "duration": 18,
    "start_time": "2022-06-15T19:43:57.240Z"
   },
   {
    "duration": 248,
    "start_time": "2022-06-15T19:43:57.259Z"
   },
   {
    "duration": 98,
    "start_time": "2022-06-15T19:43:57.508Z"
   },
   {
    "duration": 98,
    "start_time": "2022-06-15T19:43:57.607Z"
   },
   {
    "duration": 5,
    "start_time": "2022-06-15T19:43:57.707Z"
   },
   {
    "duration": 1031,
    "start_time": "2022-06-15T19:44:21.852Z"
   },
   {
    "duration": 71,
    "start_time": "2022-06-15T19:44:22.885Z"
   },
   {
    "duration": 3,
    "start_time": "2022-06-15T19:44:22.958Z"
   },
   {
    "duration": 29,
    "start_time": "2022-06-15T19:44:22.962Z"
   },
   {
    "duration": 35,
    "start_time": "2022-06-15T19:44:22.992Z"
   },
   {
    "duration": 17,
    "start_time": "2022-06-15T19:44:23.028Z"
   },
   {
    "duration": 236,
    "start_time": "2022-06-15T19:44:23.046Z"
   },
   {
    "duration": 100,
    "start_time": "2022-06-15T19:44:23.285Z"
   },
   {
    "duration": 94,
    "start_time": "2022-06-15T19:44:23.387Z"
   },
   {
    "duration": 4,
    "start_time": "2022-06-15T19:44:23.482Z"
   },
   {
    "duration": 15,
    "start_time": "2022-06-15T19:48:48.586Z"
   },
   {
    "duration": 131,
    "start_time": "2022-06-15T19:49:08.698Z"
   },
   {
    "duration": 13,
    "start_time": "2022-06-15T19:49:16.871Z"
   },
   {
    "duration": 151,
    "start_time": "2022-06-15T19:49:28.064Z"
   },
   {
    "duration": 136,
    "start_time": "2022-06-15T19:49:38.456Z"
   },
   {
    "duration": 131,
    "start_time": "2022-06-15T19:49:47.016Z"
   },
   {
    "duration": 131,
    "start_time": "2022-06-15T19:53:49.145Z"
   },
   {
    "duration": 134,
    "start_time": "2022-06-15T19:53:53.878Z"
   },
   {
    "duration": 199,
    "start_time": "2022-06-15T19:54:09.931Z"
   },
   {
    "duration": 134,
    "start_time": "2022-06-15T19:54:15.800Z"
   },
   {
    "duration": 126,
    "start_time": "2022-06-15T19:55:47.965Z"
   },
   {
    "duration": 133,
    "start_time": "2022-06-15T19:56:12.551Z"
   },
   {
    "duration": 243,
    "start_time": "2022-06-15T19:56:50.975Z"
   },
   {
    "duration": 135,
    "start_time": "2022-06-15T19:57:05.659Z"
   },
   {
    "duration": 30,
    "start_time": "2022-06-15T20:01:58.086Z"
   },
   {
    "duration": 16,
    "start_time": "2022-06-15T20:02:07.663Z"
   },
   {
    "duration": 18,
    "start_time": "2022-06-15T20:02:53.103Z"
   },
   {
    "duration": 28,
    "start_time": "2022-06-15T20:03:40.065Z"
   },
   {
    "duration": 20,
    "start_time": "2022-06-15T20:04:18.336Z"
   },
   {
    "duration": 14,
    "start_time": "2022-06-15T20:05:04.052Z"
   },
   {
    "duration": 16,
    "start_time": "2022-06-15T20:05:12.203Z"
   },
   {
    "duration": 14,
    "start_time": "2022-06-15T20:05:26.018Z"
   },
   {
    "duration": 4,
    "start_time": "2022-06-15T20:05:56.365Z"
   },
   {
    "duration": 16,
    "start_time": "2022-06-15T20:06:02.498Z"
   },
   {
    "duration": 29,
    "start_time": "2022-06-15T20:06:47.621Z"
   },
   {
    "duration": 17,
    "start_time": "2022-06-15T20:06:50.708Z"
   },
   {
    "duration": 16,
    "start_time": "2022-06-15T20:07:02.943Z"
   },
   {
    "duration": 17,
    "start_time": "2022-06-15T20:07:44.235Z"
   },
   {
    "duration": 10,
    "start_time": "2022-06-15T20:44:36.696Z"
   },
   {
    "duration": 14,
    "start_time": "2022-06-15T20:44:51.625Z"
   },
   {
    "duration": 17,
    "start_time": "2022-06-15T20:45:09.903Z"
   },
   {
    "duration": 373,
    "start_time": "2022-06-15T20:46:00.077Z"
   },
   {
    "duration": 366,
    "start_time": "2022-06-15T20:46:18.340Z"
   },
   {
    "duration": 544,
    "start_time": "2022-06-15T20:46:33.196Z"
   },
   {
    "duration": 351,
    "start_time": "2022-06-15T20:46:37.780Z"
   },
   {
    "duration": 332,
    "start_time": "2022-06-15T20:46:45.463Z"
   },
   {
    "duration": 312,
    "start_time": "2022-06-15T20:46:53.026Z"
   },
   {
    "duration": 16,
    "start_time": "2022-06-15T20:47:03.847Z"
   },
   {
    "duration": 16,
    "start_time": "2022-06-15T20:47:59.733Z"
   },
   {
    "duration": 20,
    "start_time": "2022-06-15T20:48:41.357Z"
   },
   {
    "duration": 30,
    "start_time": "2022-06-15T20:53:03.146Z"
   },
   {
    "duration": 24,
    "start_time": "2022-06-15T20:53:09.411Z"
   },
   {
    "duration": 14,
    "start_time": "2022-06-15T20:53:12.899Z"
   },
   {
    "duration": 15,
    "start_time": "2022-06-15T20:53:25.056Z"
   },
   {
    "duration": 29,
    "start_time": "2022-06-15T20:58:18.795Z"
   },
   {
    "duration": 51,
    "start_time": "2022-06-15T21:00:03.554Z"
   },
   {
    "duration": 5,
    "start_time": "2022-06-15T21:00:18.034Z"
   },
   {
    "duration": 5,
    "start_time": "2022-06-15T21:00:27.532Z"
   },
   {
    "duration": 3,
    "start_time": "2022-06-15T21:01:27.672Z"
   },
   {
    "duration": 14,
    "start_time": "2022-06-15T21:01:30.231Z"
   },
   {
    "duration": 465,
    "start_time": "2022-06-15T21:01:50.628Z"
   },
   {
    "duration": 30,
    "start_time": "2022-06-15T21:03:35.148Z"
   },
   {
    "duration": 11,
    "start_time": "2022-06-15T21:03:39.756Z"
   },
   {
    "duration": 19,
    "start_time": "2022-06-15T21:03:52.969Z"
   },
   {
    "duration": 151,
    "start_time": "2022-06-15T21:04:01.686Z"
   },
   {
    "duration": 132,
    "start_time": "2022-06-15T21:04:20.783Z"
   },
   {
    "duration": 20,
    "start_time": "2022-06-15T21:06:11.485Z"
   },
   {
    "duration": 45,
    "start_time": "2022-06-15T21:07:17.535Z"
   },
   {
    "duration": 253,
    "start_time": "2022-06-15T21:07:27.763Z"
   },
   {
    "duration": 495,
    "start_time": "2022-06-15T21:08:33.873Z"
   },
   {
    "duration": 247,
    "start_time": "2022-06-15T21:08:49.414Z"
   },
   {
    "duration": 315,
    "start_time": "2022-06-15T21:08:56.137Z"
   },
   {
    "duration": 373,
    "start_time": "2022-06-15T21:11:03.537Z"
   },
   {
    "duration": 19,
    "start_time": "2022-06-15T21:11:38.656Z"
   },
   {
    "duration": 19,
    "start_time": "2022-06-15T21:11:49.644Z"
   },
   {
    "duration": 23,
    "start_time": "2022-06-15T21:11:52.626Z"
   },
   {
    "duration": 367,
    "start_time": "2022-06-15T21:12:26.099Z"
   },
   {
    "duration": 44,
    "start_time": "2022-06-15T21:12:37.908Z"
   },
   {
    "duration": 406,
    "start_time": "2022-06-15T21:13:50.875Z"
   },
   {
    "duration": 404,
    "start_time": "2022-06-15T21:14:05.217Z"
   },
   {
    "duration": 24,
    "start_time": "2022-06-15T21:14:52.442Z"
   },
   {
    "duration": 286,
    "start_time": "2022-06-15T21:14:58.973Z"
   },
   {
    "duration": 278,
    "start_time": "2022-06-15T21:15:08.697Z"
   },
   {
    "duration": 266,
    "start_time": "2022-06-15T21:17:18.717Z"
   },
   {
    "duration": 257,
    "start_time": "2022-06-15T21:17:24.141Z"
   },
   {
    "duration": 384,
    "start_time": "2022-06-15T21:18:01.527Z"
   },
   {
    "duration": 299,
    "start_time": "2022-06-15T21:18:33.249Z"
   },
   {
    "duration": 274,
    "start_time": "2022-06-15T21:19:28.515Z"
   },
   {
    "duration": 275,
    "start_time": "2022-06-15T21:19:38.587Z"
   },
   {
    "duration": 8,
    "start_time": "2022-06-16T12:24:47.417Z"
   },
   {
    "duration": 10,
    "start_time": "2022-06-16T17:35:16.806Z"
   },
   {
    "duration": 36,
    "start_time": "2022-06-16T17:37:50.643Z"
   },
   {
    "duration": 6,
    "start_time": "2022-06-16T17:38:08.208Z"
   },
   {
    "duration": 1073,
    "start_time": "2022-06-16T17:38:13.086Z"
   },
   {
    "duration": 197,
    "start_time": "2022-06-16T17:38:14.161Z"
   },
   {
    "duration": 3,
    "start_time": "2022-06-16T17:38:14.361Z"
   },
   {
    "duration": 30,
    "start_time": "2022-06-16T17:38:14.366Z"
   },
   {
    "duration": 20,
    "start_time": "2022-06-16T17:38:14.397Z"
   },
   {
    "duration": 20,
    "start_time": "2022-06-16T17:38:14.419Z"
   },
   {
    "duration": 236,
    "start_time": "2022-06-16T17:38:14.440Z"
   },
   {
    "duration": 97,
    "start_time": "2022-06-16T17:38:14.677Z"
   },
   {
    "duration": 101,
    "start_time": "2022-06-16T17:38:14.775Z"
   },
   {
    "duration": 4,
    "start_time": "2022-06-16T17:38:14.877Z"
   },
   {
    "duration": 151,
    "start_time": "2022-06-16T17:38:14.882Z"
   },
   {
    "duration": 20,
    "start_time": "2022-06-16T17:38:15.034Z"
   },
   {
    "duration": 10,
    "start_time": "2022-06-16T17:38:15.057Z"
   },
   {
    "duration": 317,
    "start_time": "2022-06-16T17:38:15.069Z"
   },
   {
    "duration": 21,
    "start_time": "2022-06-16T17:38:15.388Z"
   },
   {
    "duration": 22,
    "start_time": "2022-06-16T17:40:28.567Z"
   },
   {
    "duration": 88,
    "start_time": "2022-06-16T17:42:41.294Z"
   },
   {
    "duration": 25,
    "start_time": "2022-06-16T17:42:48.592Z"
   },
   {
    "duration": 254,
    "start_time": "2022-06-16T17:51:54.291Z"
   },
   {
    "duration": 343,
    "start_time": "2022-06-16T17:52:15.362Z"
   },
   {
    "duration": 556,
    "start_time": "2022-06-16T17:53:22.993Z"
   },
   {
    "duration": 742,
    "start_time": "2022-06-16T17:53:51.659Z"
   },
   {
    "duration": 18,
    "start_time": "2022-06-16T17:54:31.862Z"
   },
   {
    "duration": 18,
    "start_time": "2022-06-16T17:55:07.037Z"
   },
   {
    "duration": 170,
    "start_time": "2022-06-16T17:55:36.856Z"
   },
   {
    "duration": 268,
    "start_time": "2022-06-16T17:55:52.141Z"
   },
   {
    "duration": 441,
    "start_time": "2022-06-16T17:56:06.214Z"
   },
   {
    "duration": 430,
    "start_time": "2022-06-16T17:56:17.226Z"
   },
   {
    "duration": 236,
    "start_time": "2022-06-16T17:56:31.026Z"
   },
   {
    "duration": 1033,
    "start_time": "2022-06-16T18:02:01.499Z"
   },
   {
    "duration": 46,
    "start_time": "2022-06-16T18:02:20.537Z"
   },
   {
    "duration": 607,
    "start_time": "2022-06-16T18:02:25.459Z"
   },
   {
    "duration": 24,
    "start_time": "2022-06-16T18:02:39.999Z"
   },
   {
    "duration": 190,
    "start_time": "2022-06-16T18:02:50.546Z"
   },
   {
    "duration": 206,
    "start_time": "2022-06-16T18:02:53.862Z"
   },
   {
    "duration": 312,
    "start_time": "2022-06-16T18:04:48.771Z"
   },
   {
    "duration": 316,
    "start_time": "2022-06-16T18:05:10.659Z"
   },
   {
    "duration": 296,
    "start_time": "2022-06-16T18:06:29.649Z"
   },
   {
    "duration": 360,
    "start_time": "2022-06-16T18:06:44.746Z"
   },
   {
    "duration": 449,
    "start_time": "2022-06-16T18:07:04.913Z"
   },
   {
    "duration": 36,
    "start_time": "2022-06-16T18:07:30.655Z"
   },
   {
    "duration": 47,
    "start_time": "2022-06-16T18:07:49.004Z"
   },
   {
    "duration": 375,
    "start_time": "2022-06-16T18:07:53.736Z"
   },
   {
    "duration": 37,
    "start_time": "2022-06-16T18:08:03.359Z"
   },
   {
    "duration": 26,
    "start_time": "2022-06-16T18:08:43.452Z"
   },
   {
    "duration": 406,
    "start_time": "2022-06-16T18:09:13.126Z"
   },
   {
    "duration": 242,
    "start_time": "2022-06-16T18:09:18.709Z"
   },
   {
    "duration": 26,
    "start_time": "2022-06-16T18:09:33.015Z"
   },
   {
    "duration": 906,
    "start_time": "2022-06-16T18:10:11.218Z"
   },
   {
    "duration": 641,
    "start_time": "2022-06-16T18:13:48.419Z"
   },
   {
    "duration": 487,
    "start_time": "2022-06-16T18:14:10.407Z"
   },
   {
    "duration": 27,
    "start_time": "2022-06-16T18:15:43.452Z"
   },
   {
    "duration": 239,
    "start_time": "2022-06-16T18:16:07.717Z"
   },
   {
    "duration": 282,
    "start_time": "2022-06-16T18:16:24.845Z"
   },
   {
    "duration": 299,
    "start_time": "2022-06-16T18:19:16.098Z"
   },
   {
    "duration": 419,
    "start_time": "2022-06-16T18:19:27.530Z"
   },
   {
    "duration": 347,
    "start_time": "2022-06-16T18:19:44.323Z"
   },
   {
    "duration": 283,
    "start_time": "2022-06-16T18:19:53.803Z"
   },
   {
    "duration": 54,
    "start_time": "2022-06-16T18:20:44.564Z"
   },
   {
    "duration": 6,
    "start_time": "2022-06-16T18:22:30.452Z"
   },
   {
    "duration": 307,
    "start_time": "2022-06-16T18:22:48.245Z"
   },
   {
    "duration": 328,
    "start_time": "2022-06-16T18:22:59.470Z"
   },
   {
    "duration": 332,
    "start_time": "2022-06-16T18:23:10.158Z"
   },
   {
    "duration": 289,
    "start_time": "2022-06-16T18:23:13.158Z"
   },
   {
    "duration": 287,
    "start_time": "2022-06-16T18:23:22.325Z"
   },
   {
    "duration": 965,
    "start_time": "2022-06-16T18:23:30.178Z"
   },
   {
    "duration": 70,
    "start_time": "2022-06-16T18:23:31.145Z"
   },
   {
    "duration": 2,
    "start_time": "2022-06-16T18:23:31.217Z"
   },
   {
    "duration": 29,
    "start_time": "2022-06-16T18:23:31.221Z"
   },
   {
    "duration": 20,
    "start_time": "2022-06-16T18:23:31.251Z"
   },
   {
    "duration": 13,
    "start_time": "2022-06-16T18:23:31.273Z"
   },
   {
    "duration": 219,
    "start_time": "2022-06-16T18:23:31.288Z"
   },
   {
    "duration": 99,
    "start_time": "2022-06-16T18:23:31.508Z"
   },
   {
    "duration": 93,
    "start_time": "2022-06-16T18:23:31.609Z"
   },
   {
    "duration": 5,
    "start_time": "2022-06-16T18:23:31.704Z"
   },
   {
    "duration": 155,
    "start_time": "2022-06-16T18:23:31.710Z"
   },
   {
    "duration": 17,
    "start_time": "2022-06-16T18:23:31.866Z"
   },
   {
    "duration": 4,
    "start_time": "2022-06-16T18:23:31.884Z"
   },
   {
    "duration": 349,
    "start_time": "2022-06-16T18:23:31.889Z"
   },
   {
    "duration": 22,
    "start_time": "2022-06-16T18:23:32.240Z"
   },
   {
    "duration": 266,
    "start_time": "2022-06-16T18:23:32.264Z"
   },
   {
    "duration": 304,
    "start_time": "2022-06-16T18:23:32.532Z"
   },
   {
    "duration": 328,
    "start_time": "2022-06-16T18:30:06.245Z"
   },
   {
    "duration": 312,
    "start_time": "2022-06-16T18:30:17.259Z"
   },
   {
    "duration": 386,
    "start_time": "2022-06-16T18:31:44.894Z"
   },
   {
    "duration": 271,
    "start_time": "2022-06-16T18:33:47.748Z"
   },
   {
    "duration": 275,
    "start_time": "2022-06-16T18:34:05.286Z"
   },
   {
    "duration": 267,
    "start_time": "2022-06-16T18:34:43.349Z"
   },
   {
    "duration": 386,
    "start_time": "2022-06-16T18:35:09.603Z"
   },
   {
    "duration": 301,
    "start_time": "2022-06-16T18:36:36.304Z"
   },
   {
    "duration": 94,
    "start_time": "2022-06-16T18:36:41.483Z"
   },
   {
    "duration": 23,
    "start_time": "2022-06-16T18:36:50.049Z"
   },
   {
    "duration": 287,
    "start_time": "2022-06-16T18:39:31.310Z"
   },
   {
    "duration": 342,
    "start_time": "2022-06-16T18:40:03.692Z"
   },
   {
    "duration": 377,
    "start_time": "2022-06-16T18:43:47.751Z"
   },
   {
    "duration": 68,
    "start_time": "2022-06-16T18:45:08.692Z"
   },
   {
    "duration": 39,
    "start_time": "2022-06-16T18:46:06.650Z"
   },
   {
    "duration": 381,
    "start_time": "2022-06-16T18:47:59.344Z"
   },
   {
    "duration": 339,
    "start_time": "2022-06-16T19:30:32.261Z"
   },
   {
    "duration": 996,
    "start_time": "2022-06-16T19:33:29.853Z"
   },
   {
    "duration": 67,
    "start_time": "2022-06-16T19:33:30.851Z"
   },
   {
    "duration": 3,
    "start_time": "2022-06-16T19:33:30.920Z"
   },
   {
    "duration": 30,
    "start_time": "2022-06-16T19:33:30.924Z"
   },
   {
    "duration": 24,
    "start_time": "2022-06-16T19:33:30.956Z"
   },
   {
    "duration": 15,
    "start_time": "2022-06-16T19:33:30.981Z"
   },
   {
    "duration": 217,
    "start_time": "2022-06-16T19:33:30.997Z"
   },
   {
    "duration": 93,
    "start_time": "2022-06-16T19:33:31.216Z"
   },
   {
    "duration": 96,
    "start_time": "2022-06-16T19:33:31.310Z"
   },
   {
    "duration": 3,
    "start_time": "2022-06-16T19:33:31.408Z"
   },
   {
    "duration": 140,
    "start_time": "2022-06-16T19:33:31.413Z"
   },
   {
    "duration": 16,
    "start_time": "2022-06-16T19:33:31.554Z"
   },
   {
    "duration": 3,
    "start_time": "2022-06-16T19:33:31.572Z"
   },
   {
    "duration": 321,
    "start_time": "2022-06-16T19:33:31.578Z"
   },
   {
    "duration": 24,
    "start_time": "2022-06-16T19:33:31.901Z"
   },
   {
    "duration": 278,
    "start_time": "2022-06-16T19:33:31.929Z"
   },
   {
    "duration": 342,
    "start_time": "2022-06-16T19:33:32.208Z"
   },
   {
    "duration": 300,
    "start_time": "2022-06-16T19:33:32.552Z"
   },
   {
    "duration": 4,
    "start_time": "2022-06-16T19:33:32.853Z"
   },
   {
    "duration": 0,
    "start_time": "2022-06-16T19:33:32.858Z"
   },
   {
    "duration": 361,
    "start_time": "2022-06-16T19:54:54.804Z"
   },
   {
    "duration": 419,
    "start_time": "2022-06-16T19:55:40.995Z"
   },
   {
    "duration": 19,
    "start_time": "2022-06-16T20:03:26.456Z"
   },
   {
    "duration": 40,
    "start_time": "2022-06-16T20:07:05.227Z"
   },
   {
    "duration": 15,
    "start_time": "2022-06-16T20:07:49.387Z"
   },
   {
    "duration": 16,
    "start_time": "2022-06-16T20:08:18.535Z"
   },
   {
    "duration": 1799,
    "start_time": "2022-06-16T20:20:23.168Z"
   },
   {
    "duration": 1868,
    "start_time": "2022-06-16T20:20:47.435Z"
   },
   {
    "duration": 1887,
    "start_time": "2022-06-16T20:21:11.156Z"
   },
   {
    "duration": 1082,
    "start_time": "2022-06-16T20:21:36.339Z"
   },
   {
    "duration": 81,
    "start_time": "2022-06-16T20:21:37.423Z"
   },
   {
    "duration": 3,
    "start_time": "2022-06-16T20:21:37.506Z"
   },
   {
    "duration": 12,
    "start_time": "2022-06-16T20:21:37.510Z"
   },
   {
    "duration": 27,
    "start_time": "2022-06-16T20:21:37.526Z"
   },
   {
    "duration": 19,
    "start_time": "2022-06-16T20:21:37.555Z"
   },
   {
    "duration": 259,
    "start_time": "2022-06-16T20:21:37.576Z"
   },
   {
    "duration": 98,
    "start_time": "2022-06-16T20:21:37.837Z"
   },
   {
    "duration": 105,
    "start_time": "2022-06-16T20:21:37.936Z"
   },
   {
    "duration": 5,
    "start_time": "2022-06-16T20:21:38.042Z"
   },
   {
    "duration": 153,
    "start_time": "2022-06-16T20:21:38.048Z"
   },
   {
    "duration": 29,
    "start_time": "2022-06-16T20:21:38.203Z"
   },
   {
    "duration": 3,
    "start_time": "2022-06-16T20:21:38.237Z"
   },
   {
    "duration": 315,
    "start_time": "2022-06-16T20:21:38.244Z"
   },
   {
    "duration": 24,
    "start_time": "2022-06-16T20:21:38.561Z"
   },
   {
    "duration": 339,
    "start_time": "2022-06-16T20:21:38.587Z"
   },
   {
    "duration": 397,
    "start_time": "2022-06-16T20:21:38.930Z"
   },
   {
    "duration": 373,
    "start_time": "2022-06-16T20:21:39.329Z"
   },
   {
    "duration": 30,
    "start_time": "2022-06-16T20:21:39.704Z"
   },
   {
    "duration": 1839,
    "start_time": "2022-06-16T20:21:39.739Z"
   },
   {
    "duration": 1808,
    "start_time": "2022-06-16T20:21:54.818Z"
   },
   {
    "duration": 1870,
    "start_time": "2022-06-16T20:22:17.719Z"
   },
   {
    "duration": 2176,
    "start_time": "2022-06-16T20:22:50.897Z"
   },
   {
    "duration": 105,
    "start_time": "2022-06-16T20:25:08.571Z"
   },
   {
    "duration": 92,
    "start_time": "2022-06-16T20:25:50.972Z"
   },
   {
    "duration": 111,
    "start_time": "2022-06-16T20:26:39.079Z"
   },
   {
    "duration": 4,
    "start_time": "2022-06-16T20:27:17.293Z"
   },
   {
    "duration": 105,
    "start_time": "2022-06-16T20:27:27.192Z"
   },
   {
    "duration": 23,
    "start_time": "2022-06-16T20:27:58.033Z"
   },
   {
    "duration": 119,
    "start_time": "2022-06-16T20:29:52.574Z"
   },
   {
    "duration": 30,
    "start_time": "2022-06-16T20:30:11.978Z"
   },
   {
    "duration": 103,
    "start_time": "2022-06-16T20:31:16.000Z"
   },
   {
    "duration": 41,
    "start_time": "2022-06-16T20:31:29.511Z"
   },
   {
    "duration": 293,
    "start_time": "2022-06-16T20:31:42.845Z"
   },
   {
    "duration": 559,
    "start_time": "2022-06-16T20:42:10.640Z"
   },
   {
    "duration": 276,
    "start_time": "2022-06-16T20:42:24.871Z"
   },
   {
    "duration": 285,
    "start_time": "2022-06-16T20:42:57.376Z"
   },
   {
    "duration": 95,
    "start_time": "2022-06-16T20:43:22.393Z"
   },
   {
    "duration": 67,
    "start_time": "2022-06-16T20:43:42.696Z"
   },
   {
    "duration": 164,
    "start_time": "2022-06-16T20:43:54.704Z"
   },
   {
    "duration": 99,
    "start_time": "2022-06-16T20:44:15.593Z"
   },
   {
    "duration": 41,
    "start_time": "2022-06-16T20:49:25.026Z"
   },
   {
    "duration": 41,
    "start_time": "2022-06-16T20:49:34.696Z"
   },
   {
    "duration": 35,
    "start_time": "2022-06-16T20:49:44.876Z"
   },
   {
    "duration": 37,
    "start_time": "2022-06-16T20:49:48.442Z"
   },
   {
    "duration": 160,
    "start_time": "2022-06-16T20:50:17.337Z"
   },
   {
    "duration": 310,
    "start_time": "2022-06-16T20:52:35.398Z"
   },
   {
    "duration": 423,
    "start_time": "2022-06-16T20:52:58.319Z"
   },
   {
    "duration": 397,
    "start_time": "2022-06-16T20:53:18.397Z"
   },
   {
    "duration": 331,
    "start_time": "2022-06-16T20:53:52.394Z"
   },
   {
    "duration": 246,
    "start_time": "2022-06-16T20:54:13.998Z"
   },
   {
    "duration": 10,
    "start_time": "2022-06-16T21:45:08.491Z"
   },
   {
    "duration": 19,
    "start_time": "2022-06-16T21:45:15.294Z"
   },
   {
    "duration": 22,
    "start_time": "2022-06-16T21:45:27.809Z"
   },
   {
    "duration": 24,
    "start_time": "2022-06-16T21:45:30.545Z"
   },
   {
    "duration": 274,
    "start_time": "2022-06-16T21:45:46.377Z"
   },
   {
    "duration": 55,
    "start_time": "2022-06-16T21:46:04.033Z"
   },
   {
    "duration": 1219,
    "start_time": "2022-06-16T21:46:08.991Z"
   },
   {
    "duration": 19,
    "start_time": "2022-06-16T21:46:28.348Z"
   },
   {
    "duration": 339,
    "start_time": "2022-06-16T21:46:35.547Z"
   },
   {
    "duration": 245,
    "start_time": "2022-06-16T21:46:59.415Z"
   },
   {
    "duration": 212,
    "start_time": "2022-06-16T21:47:36.102Z"
   },
   {
    "duration": 15,
    "start_time": "2022-06-16T21:48:00.588Z"
   },
   {
    "duration": 163,
    "start_time": "2022-06-16T21:48:11.444Z"
   },
   {
    "duration": 170,
    "start_time": "2022-06-16T21:48:46.286Z"
   },
   {
    "duration": 145,
    "start_time": "2022-06-16T21:48:49.476Z"
   },
   {
    "duration": 170,
    "start_time": "2022-06-16T21:48:56.475Z"
   },
   {
    "duration": 283,
    "start_time": "2022-06-16T21:50:06.059Z"
   },
   {
    "duration": 270,
    "start_time": "2022-06-16T21:50:14.375Z"
   },
   {
    "duration": 143,
    "start_time": "2022-06-16T21:50:32.508Z"
   },
   {
    "duration": 243,
    "start_time": "2022-06-16T21:50:54.791Z"
   },
   {
    "duration": 143,
    "start_time": "2022-06-16T21:51:00.380Z"
   },
   {
    "duration": 151,
    "start_time": "2022-06-16T21:51:17.826Z"
   },
   {
    "duration": 152,
    "start_time": "2022-06-16T21:51:58.594Z"
   },
   {
    "duration": 164,
    "start_time": "2022-06-16T21:52:19.811Z"
   },
   {
    "duration": 1201,
    "start_time": "2022-06-17T18:55:43.671Z"
   },
   {
    "duration": 115,
    "start_time": "2022-06-17T18:55:44.874Z"
   },
   {
    "duration": 3,
    "start_time": "2022-06-17T18:55:44.992Z"
   },
   {
    "duration": 15,
    "start_time": "2022-06-17T18:55:44.998Z"
   },
   {
    "duration": 35,
    "start_time": "2022-06-17T18:55:45.014Z"
   },
   {
    "duration": 18,
    "start_time": "2022-06-17T18:55:45.051Z"
   },
   {
    "duration": 336,
    "start_time": "2022-06-17T18:55:45.071Z"
   },
   {
    "duration": 100,
    "start_time": "2022-06-17T18:55:45.408Z"
   },
   {
    "duration": 104,
    "start_time": "2022-06-17T18:55:45.510Z"
   },
   {
    "duration": 4,
    "start_time": "2022-06-17T18:55:45.616Z"
   },
   {
    "duration": 151,
    "start_time": "2022-06-17T18:55:45.622Z"
   },
   {
    "duration": 16,
    "start_time": "2022-06-17T18:55:45.775Z"
   },
   {
    "duration": 2,
    "start_time": "2022-06-17T18:55:45.793Z"
   },
   {
    "duration": 371,
    "start_time": "2022-06-17T18:55:45.797Z"
   },
   {
    "duration": 24,
    "start_time": "2022-06-17T18:55:46.169Z"
   },
   {
    "duration": 292,
    "start_time": "2022-06-17T18:55:46.194Z"
   },
   {
    "duration": 368,
    "start_time": "2022-06-17T18:55:46.487Z"
   },
   {
    "duration": 371,
    "start_time": "2022-06-17T18:55:46.857Z"
   },
   {
    "duration": 27,
    "start_time": "2022-06-17T18:55:47.229Z"
   },
   {
    "duration": 423,
    "start_time": "2022-06-17T18:55:47.258Z"
   },
   {
    "duration": 98,
    "start_time": "2022-06-17T18:55:47.683Z"
   },
   {
    "duration": 0,
    "start_time": "2022-06-17T18:55:47.783Z"
   },
   {
    "duration": 0,
    "start_time": "2022-06-17T18:55:47.784Z"
   },
   {
    "duration": 116,
    "start_time": "2022-06-17T18:56:56.362Z"
   },
   {
    "duration": 149,
    "start_time": "2022-06-17T18:57:10.637Z"
   },
   {
    "duration": 173,
    "start_time": "2022-06-17T18:57:14.135Z"
   },
   {
    "duration": 166,
    "start_time": "2022-06-17T18:59:33.534Z"
   },
   {
    "duration": 178,
    "start_time": "2022-06-17T19:00:06.938Z"
   },
   {
    "duration": 148,
    "start_time": "2022-06-17T19:00:44.767Z"
   },
   {
    "duration": 155,
    "start_time": "2022-06-17T19:01:00.536Z"
   },
   {
    "duration": 16,
    "start_time": "2022-06-17T19:01:32.007Z"
   },
   {
    "duration": 151,
    "start_time": "2022-06-17T19:01:43.081Z"
   },
   {
    "duration": 157,
    "start_time": "2022-06-17T19:03:11.984Z"
   },
   {
    "duration": 1037,
    "start_time": "2022-06-17T19:03:37.328Z"
   },
   {
    "duration": 71,
    "start_time": "2022-06-17T19:03:38.367Z"
   },
   {
    "duration": 3,
    "start_time": "2022-06-17T19:03:38.439Z"
   },
   {
    "duration": 12,
    "start_time": "2022-06-17T19:03:38.444Z"
   },
   {
    "duration": 20,
    "start_time": "2022-06-17T19:03:38.457Z"
   },
   {
    "duration": 16,
    "start_time": "2022-06-17T19:03:38.478Z"
   },
   {
    "duration": 261,
    "start_time": "2022-06-17T19:03:38.496Z"
   },
   {
    "duration": 101,
    "start_time": "2022-06-17T19:03:38.758Z"
   },
   {
    "duration": 103,
    "start_time": "2022-06-17T19:03:38.861Z"
   },
   {
    "duration": 4,
    "start_time": "2022-06-17T19:03:38.967Z"
   },
   {
    "duration": 158,
    "start_time": "2022-06-17T19:03:38.972Z"
   },
   {
    "duration": 25,
    "start_time": "2022-06-17T19:03:39.131Z"
   },
   {
    "duration": 3,
    "start_time": "2022-06-17T19:03:39.158Z"
   },
   {
    "duration": 322,
    "start_time": "2022-06-17T19:03:39.162Z"
   },
   {
    "duration": 23,
    "start_time": "2022-06-17T19:03:39.485Z"
   },
   {
    "duration": 284,
    "start_time": "2022-06-17T19:03:39.510Z"
   },
   {
    "duration": 395,
    "start_time": "2022-06-17T19:03:39.796Z"
   },
   {
    "duration": 404,
    "start_time": "2022-06-17T19:03:40.193Z"
   },
   {
    "duration": 19,
    "start_time": "2022-06-17T19:03:40.599Z"
   },
   {
    "duration": 388,
    "start_time": "2022-06-17T19:03:40.620Z"
   },
   {
    "duration": 175,
    "start_time": "2022-06-17T19:03:41.010Z"
   },
   {
    "duration": 210,
    "start_time": "2022-06-17T19:03:41.187Z"
   },
   {
    "duration": 172,
    "start_time": "2022-06-17T19:03:41.399Z"
   },
   {
    "duration": 168,
    "start_time": "2022-06-17T19:03:41.572Z"
   },
   {
    "duration": 175,
    "start_time": "2022-06-17T19:05:46.595Z"
   },
   {
    "duration": 185,
    "start_time": "2022-06-17T19:05:53.305Z"
   },
   {
    "duration": 189,
    "start_time": "2022-06-17T19:06:05.809Z"
   },
   {
    "duration": 172,
    "start_time": "2022-06-17T19:06:20.270Z"
   },
   {
    "duration": 172,
    "start_time": "2022-06-17T19:06:30.441Z"
   },
   {
    "duration": 198,
    "start_time": "2022-06-17T19:06:52.580Z"
   },
   {
    "duration": 252,
    "start_time": "2022-06-17T19:07:17.883Z"
   },
   {
    "duration": 99,
    "start_time": "2022-06-17T19:16:46.880Z"
   },
   {
    "duration": 17,
    "start_time": "2022-06-17T19:16:57.533Z"
   },
   {
    "duration": 16,
    "start_time": "2022-06-17T19:17:20.897Z"
   },
   {
    "duration": 3,
    "start_time": "2022-06-17T19:17:54.961Z"
   },
   {
    "duration": 18,
    "start_time": "2022-06-17T19:18:24.217Z"
   },
   {
    "duration": 21,
    "start_time": "2022-06-17T19:18:58.492Z"
   },
   {
    "duration": 13,
    "start_time": "2022-06-17T19:21:15.293Z"
   },
   {
    "duration": 21,
    "start_time": "2022-06-17T19:21:27.745Z"
   },
   {
    "duration": 25,
    "start_time": "2022-06-17T19:22:41.732Z"
   },
   {
    "duration": 28,
    "start_time": "2022-06-17T19:22:57.000Z"
   },
   {
    "duration": 22,
    "start_time": "2022-06-17T19:25:23.936Z"
   },
   {
    "duration": 21,
    "start_time": "2022-06-17T19:25:34.588Z"
   },
   {
    "duration": 28,
    "start_time": "2022-06-17T19:26:02.495Z"
   },
   {
    "duration": 19,
    "start_time": "2022-06-17T19:26:18.786Z"
   },
   {
    "duration": 23,
    "start_time": "2022-06-17T19:26:28.324Z"
   },
   {
    "duration": 19,
    "start_time": "2022-06-17T19:27:17.394Z"
   },
   {
    "duration": 181,
    "start_time": "2022-06-17T19:35:39.124Z"
   },
   {
    "duration": 176,
    "start_time": "2022-06-17T19:40:54.563Z"
   },
   {
    "duration": 211,
    "start_time": "2022-06-17T19:41:13.510Z"
   },
   {
    "duration": 191,
    "start_time": "2022-06-17T19:42:16.235Z"
   },
   {
    "duration": 176,
    "start_time": "2022-06-17T19:42:39.582Z"
   },
   {
    "duration": 354,
    "start_time": "2022-06-17T19:46:58.973Z"
   },
   {
    "duration": 1122,
    "start_time": "2022-06-17T19:47:54.148Z"
   },
   {
    "duration": 129,
    "start_time": "2022-06-17T19:47:55.273Z"
   },
   {
    "duration": 5,
    "start_time": "2022-06-17T19:47:55.404Z"
   },
   {
    "duration": 21,
    "start_time": "2022-06-17T19:47:55.411Z"
   },
   {
    "duration": 36,
    "start_time": "2022-06-17T19:47:55.435Z"
   },
   {
    "duration": 18,
    "start_time": "2022-06-17T19:47:55.472Z"
   },
   {
    "duration": 316,
    "start_time": "2022-06-17T19:47:55.493Z"
   },
   {
    "duration": 107,
    "start_time": "2022-06-17T19:47:55.811Z"
   },
   {
    "duration": 108,
    "start_time": "2022-06-17T19:47:55.920Z"
   },
   {
    "duration": 5,
    "start_time": "2022-06-17T19:47:56.030Z"
   },
   {
    "duration": 171,
    "start_time": "2022-06-17T19:47:56.036Z"
   },
   {
    "duration": 17,
    "start_time": "2022-06-17T19:47:56.208Z"
   },
   {
    "duration": 3,
    "start_time": "2022-06-17T19:47:56.227Z"
   },
   {
    "duration": 344,
    "start_time": "2022-06-17T19:47:56.232Z"
   },
   {
    "duration": 25,
    "start_time": "2022-06-17T19:47:56.577Z"
   },
   {
    "duration": 303,
    "start_time": "2022-06-17T19:47:56.604Z"
   },
   {
    "duration": 392,
    "start_time": "2022-06-17T19:47:56.909Z"
   },
   {
    "duration": 395,
    "start_time": "2022-06-17T19:47:57.302Z"
   },
   {
    "duration": 16,
    "start_time": "2022-06-17T19:47:57.699Z"
   },
   {
    "duration": 382,
    "start_time": "2022-06-17T19:47:57.717Z"
   },
   {
    "duration": 170,
    "start_time": "2022-06-17T19:47:58.100Z"
   },
   {
    "duration": 13,
    "start_time": "2022-06-17T19:47:58.271Z"
   },
   {
    "duration": 15,
    "start_time": "2022-06-17T19:47:58.286Z"
   },
   {
    "duration": 50,
    "start_time": "2022-06-17T19:47:58.303Z"
   },
   {
    "duration": 5,
    "start_time": "2022-06-17T19:47:58.355Z"
   },
   {
    "duration": 0,
    "start_time": "2022-06-17T19:47:58.362Z"
   },
   {
    "duration": 0,
    "start_time": "2022-06-17T19:47:58.364Z"
   },
   {
    "duration": 15,
    "start_time": "2022-06-17T21:25:52.407Z"
   },
   {
    "duration": 140,
    "start_time": "2022-06-17T21:26:23.146Z"
   },
   {
    "duration": 269,
    "start_time": "2022-06-17T21:26:45.854Z"
   },
   {
    "duration": 288,
    "start_time": "2022-06-17T21:36:50.409Z"
   },
   {
    "duration": 197,
    "start_time": "2022-06-17T21:39:29.722Z"
   },
   {
    "duration": 69,
    "start_time": "2022-06-17T21:39:37.777Z"
   },
   {
    "duration": 1023,
    "start_time": "2022-06-17T21:40:53.769Z"
   },
   {
    "duration": 78,
    "start_time": "2022-06-17T21:40:54.794Z"
   },
   {
    "duration": 3,
    "start_time": "2022-06-17T21:40:54.874Z"
   },
   {
    "duration": 11,
    "start_time": "2022-06-17T21:40:54.879Z"
   },
   {
    "duration": 19,
    "start_time": "2022-06-17T21:40:54.891Z"
   },
   {
    "duration": 15,
    "start_time": "2022-06-17T21:40:54.911Z"
   },
   {
    "duration": 302,
    "start_time": "2022-06-17T21:40:54.927Z"
   },
   {
    "duration": 137,
    "start_time": "2022-06-17T21:40:55.232Z"
   },
   {
    "duration": 117,
    "start_time": "2022-06-17T21:40:55.371Z"
   },
   {
    "duration": 5,
    "start_time": "2022-06-17T21:40:55.490Z"
   },
   {
    "duration": 173,
    "start_time": "2022-06-17T21:40:55.497Z"
   },
   {
    "duration": 17,
    "start_time": "2022-06-17T21:40:55.672Z"
   },
   {
    "duration": 4,
    "start_time": "2022-06-17T21:40:55.690Z"
   },
   {
    "duration": 353,
    "start_time": "2022-06-17T21:40:55.695Z"
   },
   {
    "duration": 34,
    "start_time": "2022-06-17T21:40:56.050Z"
   },
   {
    "duration": 322,
    "start_time": "2022-06-17T21:40:56.085Z"
   },
   {
    "duration": 378,
    "start_time": "2022-06-17T21:40:56.409Z"
   },
   {
    "duration": 407,
    "start_time": "2022-06-17T21:40:56.789Z"
   },
   {
    "duration": 17,
    "start_time": "2022-06-17T21:40:57.198Z"
   },
   {
    "duration": 393,
    "start_time": "2022-06-17T21:40:57.216Z"
   },
   {
    "duration": 163,
    "start_time": "2022-06-17T21:40:57.612Z"
   },
   {
    "duration": 14,
    "start_time": "2022-06-17T21:40:57.776Z"
   },
   {
    "duration": 14,
    "start_time": "2022-06-17T21:40:57.791Z"
   },
   {
    "duration": 14,
    "start_time": "2022-06-17T21:40:57.806Z"
   },
   {
    "duration": 49,
    "start_time": "2022-06-17T21:40:57.821Z"
   },
   {
    "duration": 17,
    "start_time": "2022-06-17T21:40:57.873Z"
   },
   {
    "duration": 18,
    "start_time": "2022-06-17T21:40:57.892Z"
   },
   {
    "duration": 106,
    "start_time": "2022-06-17T21:40:57.913Z"
   },
   {
    "duration": 169,
    "start_time": "2022-06-17T21:40:58.020Z"
   },
   {
    "duration": 145,
    "start_time": "2022-06-17T21:40:58.191Z"
   },
   {
    "duration": 76,
    "start_time": "2022-06-17T21:42:26.005Z"
   },
   {
    "duration": 150,
    "start_time": "2022-06-17T21:46:26.013Z"
   },
   {
    "duration": 147,
    "start_time": "2022-06-17T21:46:44.492Z"
   },
   {
    "duration": 143,
    "start_time": "2022-06-17T21:47:09.953Z"
   },
   {
    "duration": 117,
    "start_time": "2022-06-17T21:47:29.418Z"
   },
   {
    "duration": 137,
    "start_time": "2022-06-17T21:48:00.131Z"
   },
   {
    "duration": 92,
    "start_time": "2022-06-17T21:52:05.193Z"
   },
   {
    "duration": 182,
    "start_time": "2022-06-17T21:53:31.936Z"
   },
   {
    "duration": 126,
    "start_time": "2022-06-17T21:54:19.926Z"
   },
   {
    "duration": 220,
    "start_time": "2022-06-17T21:54:46.103Z"
   },
   {
    "duration": 145,
    "start_time": "2022-06-17T21:55:21.578Z"
   },
   {
    "duration": 123,
    "start_time": "2022-06-17T21:55:23.867Z"
   },
   {
    "duration": 136,
    "start_time": "2022-06-17T21:55:26.979Z"
   },
   {
    "duration": 52,
    "start_time": "2022-06-17T21:55:38.947Z"
   },
   {
    "duration": 60,
    "start_time": "2022-06-17T21:56:32.334Z"
   },
   {
    "duration": 984,
    "start_time": "2022-06-17T21:56:50.285Z"
   },
   {
    "duration": 72,
    "start_time": "2022-06-17T21:56:51.271Z"
   },
   {
    "duration": 3,
    "start_time": "2022-06-17T21:56:51.344Z"
   },
   {
    "duration": 28,
    "start_time": "2022-06-17T21:56:51.348Z"
   },
   {
    "duration": 35,
    "start_time": "2022-06-17T21:56:51.379Z"
   },
   {
    "duration": 16,
    "start_time": "2022-06-17T21:56:51.415Z"
   },
   {
    "duration": 253,
    "start_time": "2022-06-17T21:56:51.432Z"
   },
   {
    "duration": 107,
    "start_time": "2022-06-17T21:56:51.687Z"
   },
   {
    "duration": 119,
    "start_time": "2022-06-17T21:56:51.796Z"
   },
   {
    "duration": 5,
    "start_time": "2022-06-17T21:56:51.917Z"
   },
   {
    "duration": 173,
    "start_time": "2022-06-17T21:56:51.924Z"
   },
   {
    "duration": 21,
    "start_time": "2022-06-17T21:56:52.098Z"
   },
   {
    "duration": 4,
    "start_time": "2022-06-17T21:56:52.121Z"
   },
   {
    "duration": 400,
    "start_time": "2022-06-17T21:56:52.128Z"
   },
   {
    "duration": 27,
    "start_time": "2022-06-17T21:56:52.529Z"
   },
   {
    "duration": 356,
    "start_time": "2022-06-17T21:56:52.558Z"
   },
   {
    "duration": 414,
    "start_time": "2022-06-17T21:56:52.916Z"
   },
   {
    "duration": 416,
    "start_time": "2022-06-17T21:56:53.331Z"
   },
   {
    "duration": 24,
    "start_time": "2022-06-17T21:56:53.748Z"
   },
   {
    "duration": 427,
    "start_time": "2022-06-17T21:56:53.773Z"
   },
   {
    "duration": 179,
    "start_time": "2022-06-17T21:56:54.201Z"
   },
   {
    "duration": 17,
    "start_time": "2022-06-17T21:56:54.382Z"
   },
   {
    "duration": 18,
    "start_time": "2022-06-17T21:56:54.401Z"
   },
   {
    "duration": 48,
    "start_time": "2022-06-17T21:56:54.421Z"
   },
   {
    "duration": 18,
    "start_time": "2022-06-17T21:56:54.471Z"
   },
   {
    "duration": 17,
    "start_time": "2022-06-17T21:56:54.491Z"
   },
   {
    "duration": 43,
    "start_time": "2022-06-17T21:56:54.510Z"
   },
   {
    "duration": 60,
    "start_time": "2022-06-17T21:56:54.555Z"
   },
   {
    "duration": 197,
    "start_time": "2022-06-17T21:56:54.617Z"
   },
   {
    "duration": 179,
    "start_time": "2022-06-17T21:56:54.816Z"
   },
   {
    "duration": 157,
    "start_time": "2022-06-17T21:56:54.997Z"
   },
   {
    "duration": 187,
    "start_time": "2022-06-17T21:56:55.157Z"
   },
   {
    "duration": 61,
    "start_time": "2022-06-17T21:56:55.345Z"
   },
   {
    "duration": 173,
    "start_time": "2022-06-17T21:56:55.407Z"
   },
   {
    "duration": 141,
    "start_time": "2022-06-17T21:56:55.581Z"
   },
   {
    "duration": 172,
    "start_time": "2022-06-17T21:56:55.724Z"
   },
   {
    "duration": 5,
    "start_time": "2022-06-17T21:57:27.877Z"
   },
   {
    "duration": 138,
    "start_time": "2022-06-17T21:57:36.879Z"
   },
   {
    "duration": 52,
    "start_time": "2022-06-18T16:28:41.900Z"
   },
   {
    "duration": 1174,
    "start_time": "2022-06-18T16:29:01.574Z"
   },
   {
    "duration": 200,
    "start_time": "2022-06-18T16:29:02.752Z"
   },
   {
    "duration": 3,
    "start_time": "2022-06-18T16:29:02.956Z"
   },
   {
    "duration": 13,
    "start_time": "2022-06-18T16:29:02.961Z"
   },
   {
    "duration": 19,
    "start_time": "2022-06-18T16:29:02.976Z"
   },
   {
    "duration": 39,
    "start_time": "2022-06-18T16:29:02.996Z"
   },
   {
    "duration": 259,
    "start_time": "2022-06-18T16:29:03.036Z"
   },
   {
    "duration": 103,
    "start_time": "2022-06-18T16:29:03.297Z"
   },
   {
    "duration": 113,
    "start_time": "2022-06-18T16:29:03.403Z"
   },
   {
    "duration": 6,
    "start_time": "2022-06-18T16:29:03.525Z"
   },
   {
    "duration": 150,
    "start_time": "2022-06-18T16:29:03.532Z"
   },
   {
    "duration": 17,
    "start_time": "2022-06-18T16:29:03.685Z"
   },
   {
    "duration": 24,
    "start_time": "2022-06-18T16:29:03.704Z"
   },
   {
    "duration": 356,
    "start_time": "2022-06-18T16:29:03.731Z"
   },
   {
    "duration": 24,
    "start_time": "2022-06-18T16:29:04.089Z"
   },
   {
    "duration": 305,
    "start_time": "2022-06-18T16:29:04.115Z"
   },
   {
    "duration": 390,
    "start_time": "2022-06-18T16:29:04.425Z"
   },
   {
    "duration": 393,
    "start_time": "2022-06-18T16:29:04.816Z"
   },
   {
    "duration": 23,
    "start_time": "2022-06-18T16:29:05.210Z"
   },
   {
    "duration": 388,
    "start_time": "2022-06-18T16:29:05.235Z"
   },
   {
    "duration": 139,
    "start_time": "2022-06-18T16:29:05.625Z"
   },
   {
    "duration": 13,
    "start_time": "2022-06-18T16:29:05.766Z"
   },
   {
    "duration": 45,
    "start_time": "2022-06-18T16:29:05.781Z"
   },
   {
    "duration": 16,
    "start_time": "2022-06-18T16:29:05.827Z"
   },
   {
    "duration": 16,
    "start_time": "2022-06-18T16:29:05.845Z"
   },
   {
    "duration": 15,
    "start_time": "2022-06-18T16:29:05.862Z"
   },
   {
    "duration": 14,
    "start_time": "2022-06-18T16:29:05.879Z"
   },
   {
    "duration": 131,
    "start_time": "2022-06-18T16:29:05.895Z"
   },
   {
    "duration": 161,
    "start_time": "2022-06-18T16:29:06.028Z"
   },
   {
    "duration": 152,
    "start_time": "2022-06-18T16:29:06.190Z"
   },
   {
    "duration": 123,
    "start_time": "2022-06-18T16:29:06.344Z"
   },
   {
    "duration": 173,
    "start_time": "2022-06-18T16:29:06.469Z"
   },
   {
    "duration": 59,
    "start_time": "2022-06-18T16:29:06.644Z"
   },
   {
    "duration": 155,
    "start_time": "2022-06-18T16:29:06.705Z"
   },
   {
    "duration": 124,
    "start_time": "2022-06-18T16:29:06.861Z"
   },
   {
    "duration": 133,
    "start_time": "2022-06-18T16:29:06.987Z"
   },
   {
    "duration": 164,
    "start_time": "2022-06-18T16:35:04.787Z"
   },
   {
    "duration": 63,
    "start_time": "2022-06-18T16:35:12.575Z"
   },
   {
    "duration": 176,
    "start_time": "2022-06-18T16:36:02.432Z"
   },
   {
    "duration": 162,
    "start_time": "2022-06-18T16:36:09.532Z"
   },
   {
    "duration": 323,
    "start_time": "2022-06-18T16:41:54.714Z"
   },
   {
    "duration": 163,
    "start_time": "2022-06-18T16:50:37.756Z"
   },
   {
    "duration": 165,
    "start_time": "2022-06-18T16:50:52.081Z"
   },
   {
    "duration": 170,
    "start_time": "2022-06-18T16:52:51.587Z"
   },
   {
    "duration": 195,
    "start_time": "2022-06-18T17:41:29.407Z"
   },
   {
    "duration": 194,
    "start_time": "2022-06-18T17:45:12.943Z"
   },
   {
    "duration": 193,
    "start_time": "2022-06-18T17:45:44.448Z"
   },
   {
    "duration": 226,
    "start_time": "2022-06-18T17:46:08.691Z"
   },
   {
    "duration": 184,
    "start_time": "2022-06-18T17:46:26.656Z"
   },
   {
    "duration": 72,
    "start_time": "2022-06-18T17:48:02.735Z"
   },
   {
    "duration": 183,
    "start_time": "2022-06-18T17:48:15.684Z"
   },
   {
    "duration": 201,
    "start_time": "2022-06-18T17:48:32.305Z"
   },
   {
    "duration": 215,
    "start_time": "2022-06-18T17:48:53.545Z"
   },
   {
    "duration": 199,
    "start_time": "2022-06-18T17:49:03.838Z"
   },
   {
    "duration": 351,
    "start_time": "2022-06-18T17:49:06.898Z"
   },
   {
    "duration": 197,
    "start_time": "2022-06-18T17:49:11.380Z"
   },
   {
    "duration": 188,
    "start_time": "2022-06-18T17:49:15.399Z"
   },
   {
    "duration": 201,
    "start_time": "2022-06-18T17:49:22.244Z"
   },
   {
    "duration": 212,
    "start_time": "2022-06-18T17:49:44.865Z"
   },
   {
    "duration": 196,
    "start_time": "2022-06-18T17:49:52.780Z"
   },
   {
    "duration": 170,
    "start_time": "2022-06-18T17:51:06.690Z"
   },
   {
    "duration": 226,
    "start_time": "2022-06-18T17:51:27.752Z"
   },
   {
    "duration": 937,
    "start_time": "2022-06-18T17:52:05.851Z"
   },
   {
    "duration": 71,
    "start_time": "2022-06-18T17:52:06.790Z"
   },
   {
    "duration": 3,
    "start_time": "2022-06-18T17:52:06.862Z"
   },
   {
    "duration": 10,
    "start_time": "2022-06-18T17:52:06.866Z"
   },
   {
    "duration": 16,
    "start_time": "2022-06-18T17:52:06.879Z"
   },
   {
    "duration": 34,
    "start_time": "2022-06-18T17:52:06.897Z"
   },
   {
    "duration": 233,
    "start_time": "2022-06-18T17:52:06.933Z"
   },
   {
    "duration": 98,
    "start_time": "2022-06-18T17:52:07.168Z"
   },
   {
    "duration": 102,
    "start_time": "2022-06-18T17:52:07.267Z"
   },
   {
    "duration": 4,
    "start_time": "2022-06-18T17:52:07.370Z"
   },
   {
    "duration": 178,
    "start_time": "2022-06-18T17:52:07.376Z"
   },
   {
    "duration": 15,
    "start_time": "2022-06-18T17:52:07.556Z"
   },
   {
    "duration": 31,
    "start_time": "2022-06-18T17:52:07.572Z"
   },
   {
    "duration": 362,
    "start_time": "2022-06-18T17:52:07.605Z"
   },
   {
    "duration": 24,
    "start_time": "2022-06-18T17:52:07.968Z"
   },
   {
    "duration": 318,
    "start_time": "2022-06-18T17:52:07.993Z"
   },
   {
    "duration": 354,
    "start_time": "2022-06-18T17:52:08.313Z"
   },
   {
    "duration": 392,
    "start_time": "2022-06-18T17:52:08.669Z"
   },
   {
    "duration": 15,
    "start_time": "2022-06-18T17:52:09.062Z"
   },
   {
    "duration": 360,
    "start_time": "2022-06-18T17:52:09.078Z"
   },
   {
    "duration": 126,
    "start_time": "2022-06-18T17:52:09.439Z"
   },
   {
    "duration": 12,
    "start_time": "2022-06-18T17:52:09.567Z"
   },
   {
    "duration": 45,
    "start_time": "2022-06-18T17:52:09.581Z"
   },
   {
    "duration": 15,
    "start_time": "2022-06-18T17:52:09.628Z"
   },
   {
    "duration": 16,
    "start_time": "2022-06-18T17:52:09.644Z"
   },
   {
    "duration": 15,
    "start_time": "2022-06-18T17:52:09.662Z"
   },
   {
    "duration": 16,
    "start_time": "2022-06-18T17:52:09.678Z"
   },
   {
    "duration": 258,
    "start_time": "2022-06-18T17:52:09.695Z"
   },
   {
    "duration": 161,
    "start_time": "2022-06-18T17:52:09.955Z"
   },
   {
    "duration": 151,
    "start_time": "2022-06-18T17:52:10.125Z"
   },
   {
    "duration": 137,
    "start_time": "2022-06-18T17:52:10.277Z"
   },
   {
    "duration": 158,
    "start_time": "2022-06-18T17:52:10.416Z"
   },
   {
    "duration": 67,
    "start_time": "2022-06-18T17:52:10.575Z"
   },
   {
    "duration": 152,
    "start_time": "2022-06-18T17:52:10.643Z"
   },
   {
    "duration": 140,
    "start_time": "2022-06-18T17:52:10.796Z"
   },
   {
    "duration": 148,
    "start_time": "2022-06-18T17:52:10.937Z"
   },
   {
    "duration": 246,
    "start_time": "2022-06-18T17:54:23.703Z"
   },
   {
    "duration": 1234,
    "start_time": "2022-06-18T17:56:32.892Z"
   },
   {
    "duration": 184,
    "start_time": "2022-06-18T17:56:52.514Z"
   },
   {
    "duration": 177,
    "start_time": "2022-06-18T17:57:17.193Z"
   },
   {
    "duration": 172,
    "start_time": "2022-06-18T17:57:34.886Z"
   },
   {
    "duration": 84,
    "start_time": "2022-06-18T17:57:52.952Z"
   },
   {
    "duration": 166,
    "start_time": "2022-06-18T17:58:43.679Z"
   },
   {
    "duration": 190,
    "start_time": "2022-06-18T17:58:54.955Z"
   },
   {
    "duration": 167,
    "start_time": "2022-06-18T17:59:01.061Z"
   },
   {
    "duration": 195,
    "start_time": "2022-06-18T17:59:06.409Z"
   },
   {
    "duration": 185,
    "start_time": "2022-06-18T17:59:11.055Z"
   },
   {
    "duration": 214,
    "start_time": "2022-06-18T17:59:21.054Z"
   },
   {
    "duration": 226,
    "start_time": "2022-06-18T17:59:30.961Z"
   },
   {
    "duration": 126,
    "start_time": "2022-06-18T18:01:13.080Z"
   },
   {
    "duration": 325,
    "start_time": "2022-06-18T18:03:52.042Z"
   },
   {
    "duration": 997,
    "start_time": "2022-06-18T18:16:01.661Z"
   },
   {
    "duration": 73,
    "start_time": "2022-06-18T18:16:02.660Z"
   },
   {
    "duration": 3,
    "start_time": "2022-06-18T18:16:02.734Z"
   },
   {
    "duration": 16,
    "start_time": "2022-06-18T18:16:02.739Z"
   },
   {
    "duration": 24,
    "start_time": "2022-06-18T18:16:02.757Z"
   },
   {
    "duration": 20,
    "start_time": "2022-06-18T18:16:02.782Z"
   },
   {
    "duration": 284,
    "start_time": "2022-06-18T18:16:02.825Z"
   },
   {
    "duration": 107,
    "start_time": "2022-06-18T18:16:03.110Z"
   },
   {
    "duration": 122,
    "start_time": "2022-06-18T18:16:03.219Z"
   },
   {
    "duration": 6,
    "start_time": "2022-06-18T18:16:03.344Z"
   },
   {
    "duration": 157,
    "start_time": "2022-06-18T18:16:03.352Z"
   },
   {
    "duration": 25,
    "start_time": "2022-06-18T18:16:03.510Z"
   },
   {
    "duration": 3,
    "start_time": "2022-06-18T18:16:03.536Z"
   },
   {
    "duration": 346,
    "start_time": "2022-06-18T18:16:03.541Z"
   },
   {
    "duration": 26,
    "start_time": "2022-06-18T18:16:03.888Z"
   },
   {
    "duration": 341,
    "start_time": "2022-06-18T18:16:03.916Z"
   },
   {
    "duration": 406,
    "start_time": "2022-06-18T18:16:04.259Z"
   },
   {
    "duration": 412,
    "start_time": "2022-06-18T18:16:04.667Z"
   },
   {
    "duration": 15,
    "start_time": "2022-06-18T18:16:05.081Z"
   },
   {
    "duration": 385,
    "start_time": "2022-06-18T18:16:05.098Z"
   },
   {
    "duration": 160,
    "start_time": "2022-06-18T18:16:05.485Z"
   },
   {
    "duration": 13,
    "start_time": "2022-06-18T18:16:05.646Z"
   },
   {
    "duration": 15,
    "start_time": "2022-06-18T18:16:05.661Z"
   },
   {
    "duration": 14,
    "start_time": "2022-06-18T18:16:05.677Z"
   },
   {
    "duration": 49,
    "start_time": "2022-06-18T18:16:05.693Z"
   },
   {
    "duration": 15,
    "start_time": "2022-06-18T18:16:05.743Z"
   },
   {
    "duration": 15,
    "start_time": "2022-06-18T18:16:05.760Z"
   },
   {
    "duration": 283,
    "start_time": "2022-06-18T18:16:05.778Z"
   },
   {
    "duration": 136,
    "start_time": "2022-06-18T18:16:06.063Z"
   },
   {
    "duration": 262,
    "start_time": "2022-06-18T18:16:06.201Z"
   },
   {
    "duration": 5,
    "start_time": "2022-06-18T18:16:06.464Z"
   },
   {
    "duration": 0,
    "start_time": "2022-06-18T18:16:06.471Z"
   },
   {
    "duration": 0,
    "start_time": "2022-06-18T18:16:06.472Z"
   },
   {
    "duration": 128,
    "start_time": "2022-06-18T18:16:20.994Z"
   },
   {
    "duration": 127,
    "start_time": "2022-06-18T18:16:27.641Z"
   },
   {
    "duration": 306,
    "start_time": "2022-06-18T18:19:26.555Z"
   },
   {
    "duration": 287,
    "start_time": "2022-06-18T18:20:04.061Z"
   },
   {
    "duration": 282,
    "start_time": "2022-06-18T18:20:24.409Z"
   },
   {
    "duration": 360,
    "start_time": "2022-06-18T18:21:16.489Z"
   },
   {
    "duration": 323,
    "start_time": "2022-06-18T18:22:15.602Z"
   },
   {
    "duration": 14,
    "start_time": "2022-06-18T18:36:45.993Z"
   },
   {
    "duration": 13,
    "start_time": "2022-06-18T18:37:57.117Z"
   },
   {
    "duration": 13,
    "start_time": "2022-06-18T18:38:27.790Z"
   },
   {
    "duration": 11,
    "start_time": "2022-06-18T18:39:53.521Z"
   },
   {
    "duration": 4,
    "start_time": "2022-06-18T18:39:58.154Z"
   },
   {
    "duration": 5,
    "start_time": "2022-06-18T18:41:09.438Z"
   },
   {
    "duration": 4,
    "start_time": "2022-06-18T18:41:21.853Z"
   },
   {
    "duration": 14,
    "start_time": "2022-06-18T18:43:34.104Z"
   },
   {
    "duration": 15,
    "start_time": "2022-06-18T18:43:49.688Z"
   },
   {
    "duration": 14,
    "start_time": "2022-06-18T18:43:55.619Z"
   },
   {
    "duration": 14,
    "start_time": "2022-06-18T18:44:52.666Z"
   },
   {
    "duration": 97,
    "start_time": "2022-06-18T18:45:38.475Z"
   },
   {
    "duration": 24,
    "start_time": "2022-06-18T18:46:45.542Z"
   },
   {
    "duration": 23,
    "start_time": "2022-06-18T18:47:18.072Z"
   },
   {
    "duration": 24,
    "start_time": "2022-06-18T18:47:32.566Z"
   },
   {
    "duration": 23,
    "start_time": "2022-06-18T18:47:39.068Z"
   },
   {
    "duration": 23,
    "start_time": "2022-06-18T18:47:45.159Z"
   },
   {
    "duration": 18,
    "start_time": "2022-06-18T18:48:19.655Z"
   },
   {
    "duration": 18,
    "start_time": "2022-06-18T18:48:30.207Z"
   },
   {
    "duration": 15,
    "start_time": "2022-06-18T18:48:51.889Z"
   },
   {
    "duration": 27,
    "start_time": "2022-06-18T18:49:32.285Z"
   },
   {
    "duration": 27,
    "start_time": "2022-06-18T18:51:12.089Z"
   },
   {
    "duration": 34,
    "start_time": "2022-06-18T18:51:26.642Z"
   },
   {
    "duration": 46,
    "start_time": "2022-06-18T18:51:43.911Z"
   },
   {
    "duration": 28,
    "start_time": "2022-06-18T18:57:20.815Z"
   },
   {
    "duration": 28,
    "start_time": "2022-06-18T18:57:48.545Z"
   },
   {
    "duration": 38,
    "start_time": "2022-06-18T18:58:31.786Z"
   },
   {
    "duration": 29,
    "start_time": "2022-06-18T18:58:57.940Z"
   },
   {
    "duration": 39,
    "start_time": "2022-06-18T18:59:09.247Z"
   },
   {
    "duration": 49,
    "start_time": "2022-06-18T18:59:35.868Z"
   },
   {
    "duration": 49,
    "start_time": "2022-06-18T19:00:08.839Z"
   },
   {
    "duration": 47,
    "start_time": "2022-06-18T19:02:24.427Z"
   },
   {
    "duration": 106,
    "start_time": "2022-06-18T19:07:27.193Z"
   },
   {
    "duration": 89,
    "start_time": "2022-06-18T19:07:53.740Z"
   },
   {
    "duration": 56,
    "start_time": "2022-06-18T19:08:06.199Z"
   },
   {
    "duration": 53,
    "start_time": "2022-06-18T19:08:59.809Z"
   },
   {
    "duration": 42,
    "start_time": "2022-06-18T19:11:53.521Z"
   },
   {
    "duration": 34,
    "start_time": "2022-06-18T19:13:53.767Z"
   },
   {
    "duration": 44,
    "start_time": "2022-06-18T19:14:58.276Z"
   },
   {
    "duration": 32,
    "start_time": "2022-06-18T19:20:47.502Z"
   },
   {
    "duration": 14,
    "start_time": "2022-06-18T19:31:16.823Z"
   },
   {
    "duration": 37,
    "start_time": "2022-06-18T19:33:20.732Z"
   },
   {
    "duration": 27,
    "start_time": "2022-06-18T19:33:34.533Z"
   },
   {
    "duration": 17,
    "start_time": "2022-06-18T19:33:43.676Z"
   },
   {
    "duration": 20,
    "start_time": "2022-06-18T19:34:19.376Z"
   },
   {
    "duration": 13,
    "start_time": "2022-06-18T19:34:42.551Z"
   },
   {
    "duration": 28,
    "start_time": "2022-06-18T19:34:56.446Z"
   },
   {
    "duration": 18,
    "start_time": "2022-06-18T19:35:45.373Z"
   },
   {
    "duration": 34,
    "start_time": "2022-06-18T19:36:49.676Z"
   },
   {
    "duration": 41,
    "start_time": "2022-06-18T19:37:11.742Z"
   },
   {
    "duration": 34,
    "start_time": "2022-06-18T19:43:28.510Z"
   },
   {
    "duration": 37,
    "start_time": "2022-06-18T19:44:52.442Z"
   },
   {
    "duration": 52,
    "start_time": "2022-06-18T19:48:58.137Z"
   },
   {
    "duration": 57,
    "start_time": "2022-06-18T19:50:07.271Z"
   },
   {
    "duration": 52,
    "start_time": "2022-06-18T20:04:13.892Z"
   },
   {
    "duration": 69,
    "start_time": "2022-06-18T20:04:26.702Z"
   },
   {
    "duration": 45,
    "start_time": "2022-06-18T20:23:15.784Z"
   },
   {
    "duration": 43,
    "start_time": "2022-06-18T20:41:52.151Z"
   },
   {
    "duration": 48,
    "start_time": "2022-06-18T20:44:05.269Z"
   },
   {
    "duration": 45,
    "start_time": "2022-06-18T20:45:28.804Z"
   },
   {
    "duration": 39,
    "start_time": "2022-06-18T20:48:41.544Z"
   },
   {
    "duration": 48,
    "start_time": "2022-06-18T20:52:55.883Z"
   },
   {
    "duration": 23,
    "start_time": "2022-06-19T08:32:47.340Z"
   },
   {
    "duration": 1931,
    "start_time": "2022-06-19T12:42:51.005Z"
   },
   {
    "duration": 453,
    "start_time": "2022-06-19T12:42:52.938Z"
   },
   {
    "duration": 3,
    "start_time": "2022-06-19T12:42:53.395Z"
   },
   {
    "duration": 24,
    "start_time": "2022-06-19T12:42:53.401Z"
   },
   {
    "duration": 84,
    "start_time": "2022-06-19T12:42:53.431Z"
   },
   {
    "duration": 34,
    "start_time": "2022-06-19T12:42:53.517Z"
   },
   {
    "duration": 475,
    "start_time": "2022-06-19T12:42:53.557Z"
   },
   {
    "duration": 201,
    "start_time": "2022-06-19T12:42:54.035Z"
   },
   {
    "duration": 193,
    "start_time": "2022-06-19T12:42:54.243Z"
   },
   {
    "duration": 23,
    "start_time": "2022-06-19T12:42:54.453Z"
   },
   {
    "duration": 306,
    "start_time": "2022-06-19T12:42:54.483Z"
   },
   {
    "duration": 31,
    "start_time": "2022-06-19T12:42:54.795Z"
   },
   {
    "duration": 26,
    "start_time": "2022-06-19T12:42:54.834Z"
   },
   {
    "duration": 653,
    "start_time": "2022-06-19T12:42:54.866Z"
   },
   {
    "duration": 68,
    "start_time": "2022-06-19T12:42:55.526Z"
   },
   {
    "duration": 551,
    "start_time": "2022-06-19T12:42:55.601Z"
   },
   {
    "duration": 670,
    "start_time": "2022-06-19T12:42:56.161Z"
   },
   {
    "duration": 655,
    "start_time": "2022-06-19T12:42:56.838Z"
   },
   {
    "duration": 35,
    "start_time": "2022-06-19T12:42:57.499Z"
   },
   {
    "duration": 703,
    "start_time": "2022-06-19T12:42:57.541Z"
   },
   {
    "duration": 285,
    "start_time": "2022-06-19T12:42:58.251Z"
   },
   {
    "duration": 33,
    "start_time": "2022-06-19T12:42:58.543Z"
   },
   {
    "duration": 184,
    "start_time": "2022-06-19T12:42:58.588Z"
   },
   {
    "duration": 110,
    "start_time": "2022-06-19T12:42:58.774Z"
   },
   {
    "duration": 35,
    "start_time": "2022-06-19T12:42:58.891Z"
   },
   {
    "duration": 59,
    "start_time": "2022-06-19T12:42:58.929Z"
   },
   {
    "duration": 86,
    "start_time": "2022-06-19T12:42:59.002Z"
   },
   {
    "duration": 571,
    "start_time": "2022-06-19T12:42:59.100Z"
   },
   {
    "duration": 251,
    "start_time": "2022-06-19T12:42:59.673Z"
   },
   {
    "duration": 454,
    "start_time": "2022-06-19T12:42:59.931Z"
   },
   {
    "duration": 198,
    "start_time": "2022-06-19T12:43:00.391Z"
   },
   {
    "duration": 69,
    "start_time": "2022-06-19T12:43:00.597Z"
   },
   {
    "duration": 147,
    "start_time": "2022-06-19T12:43:00.672Z"
   },
   {
    "duration": 132,
    "start_time": "2022-06-19T12:43:00.824Z"
   },
   {
    "duration": 173,
    "start_time": "2022-06-19T12:43:00.960Z"
   },
   {
    "duration": 26,
    "start_time": "2022-06-19T12:43:01.135Z"
   },
   {
    "duration": 292,
    "start_time": "2022-06-19T12:43:01.167Z"
   },
   {
    "duration": 14,
    "start_time": "2022-06-19T12:46:12.905Z"
   },
   {
    "duration": 43,
    "start_time": "2022-06-19T13:07:25.477Z"
   },
   {
    "duration": 37,
    "start_time": "2022-06-19T13:07:56.231Z"
   },
   {
    "duration": 64,
    "start_time": "2022-06-19T13:08:22.562Z"
   },
   {
    "duration": 24,
    "start_time": "2022-06-19T13:08:51.114Z"
   },
   {
    "duration": 42,
    "start_time": "2022-06-19T13:09:06.290Z"
   },
   {
    "duration": 47,
    "start_time": "2022-06-19T13:09:40.853Z"
   },
   {
    "duration": 22,
    "start_time": "2022-06-19T13:13:04.969Z"
   },
   {
    "duration": 24,
    "start_time": "2022-06-19T13:14:25.195Z"
   },
   {
    "duration": 49,
    "start_time": "2022-06-19T13:14:41.178Z"
   },
   {
    "duration": 35,
    "start_time": "2022-06-19T13:31:37.682Z"
   },
   {
    "duration": 47,
    "start_time": "2022-06-19T13:32:06.185Z"
   },
   {
    "duration": 32,
    "start_time": "2022-06-19T13:32:11.505Z"
   },
   {
    "duration": 18,
    "start_time": "2022-06-19T13:32:38.433Z"
   },
   {
    "duration": 16,
    "start_time": "2022-06-19T13:44:27.648Z"
   },
   {
    "duration": 48,
    "start_time": "2022-06-19T13:44:55.433Z"
   },
   {
    "duration": 2009,
    "start_time": "2022-06-19T13:48:17.219Z"
   },
   {
    "duration": 454,
    "start_time": "2022-06-19T13:48:19.240Z"
   },
   {
    "duration": 11,
    "start_time": "2022-06-19T13:48:19.701Z"
   },
   {
    "duration": 116,
    "start_time": "2022-06-19T13:48:19.724Z"
   },
   {
    "duration": 168,
    "start_time": "2022-06-19T13:48:19.856Z"
   },
   {
    "duration": 127,
    "start_time": "2022-06-19T13:48:20.041Z"
   },
   {
    "duration": 695,
    "start_time": "2022-06-19T13:48:20.177Z"
   },
   {
    "duration": 210,
    "start_time": "2022-06-19T13:48:20.877Z"
   },
   {
    "duration": 228,
    "start_time": "2022-06-19T13:48:21.096Z"
   },
   {
    "duration": 12,
    "start_time": "2022-06-19T13:48:21.333Z"
   },
   {
    "duration": 380,
    "start_time": "2022-06-19T13:48:21.351Z"
   },
   {
    "duration": 37,
    "start_time": "2022-06-19T13:48:21.740Z"
   },
   {
    "duration": 70,
    "start_time": "2022-06-19T13:48:21.786Z"
   },
   {
    "duration": 917,
    "start_time": "2022-06-19T13:48:21.868Z"
   },
   {
    "duration": 86,
    "start_time": "2022-06-19T13:48:22.787Z"
   },
   {
    "duration": 674,
    "start_time": "2022-06-19T13:48:22.879Z"
   },
   {
    "duration": 1139,
    "start_time": "2022-06-19T13:48:23.558Z"
   },
   {
    "duration": 744,
    "start_time": "2022-06-19T13:48:24.705Z"
   },
   {
    "duration": 47,
    "start_time": "2022-06-19T13:48:25.461Z"
   },
   {
    "duration": 813,
    "start_time": "2022-06-19T13:48:25.517Z"
   },
   {
    "duration": 262,
    "start_time": "2022-06-19T13:48:26.337Z"
   },
   {
    "duration": 31,
    "start_time": "2022-06-19T13:48:26.606Z"
   },
   {
    "duration": 172,
    "start_time": "2022-06-19T13:48:26.645Z"
   },
   {
    "duration": 119,
    "start_time": "2022-06-19T13:48:26.829Z"
   },
   {
    "duration": 157,
    "start_time": "2022-06-19T13:48:26.958Z"
   },
   {
    "duration": 98,
    "start_time": "2022-06-19T13:48:27.130Z"
   },
   {
    "duration": 145,
    "start_time": "2022-06-19T13:48:27.235Z"
   },
   {
    "duration": 668,
    "start_time": "2022-06-19T13:48:27.394Z"
   },
   {
    "duration": 250,
    "start_time": "2022-06-19T13:48:28.065Z"
   },
   {
    "duration": 572,
    "start_time": "2022-06-19T13:48:28.323Z"
   },
   {
    "duration": 187,
    "start_time": "2022-06-19T13:48:28.901Z"
   },
   {
    "duration": 184,
    "start_time": "2022-06-19T13:48:29.095Z"
   },
   {
    "duration": 228,
    "start_time": "2022-06-19T13:48:29.295Z"
   },
   {
    "duration": 197,
    "start_time": "2022-06-19T13:48:29.535Z"
   },
   {
    "duration": 193,
    "start_time": "2022-06-19T13:48:29.743Z"
   },
   {
    "duration": 33,
    "start_time": "2022-06-19T13:48:29.942Z"
   },
   {
    "duration": 121,
    "start_time": "2022-06-19T13:48:29.987Z"
   },
   {
    "duration": 162,
    "start_time": "2022-06-19T13:48:30.125Z"
   },
   {
    "duration": 365,
    "start_time": "2022-06-19T14:00:00.312Z"
   },
   {
    "duration": 178,
    "start_time": "2022-06-19T14:00:17.238Z"
   },
   {
    "duration": 206,
    "start_time": "2022-06-19T14:00:46.360Z"
   },
   {
    "duration": 217,
    "start_time": "2022-06-19T14:01:07.257Z"
   },
   {
    "duration": 38,
    "start_time": "2022-06-19T14:17:49.341Z"
   },
   {
    "duration": 1177,
    "start_time": "2022-06-19T20:33:51.484Z"
   },
   {
    "duration": 112,
    "start_time": "2022-06-19T20:33:52.663Z"
   },
   {
    "duration": 3,
    "start_time": "2022-06-19T20:33:52.779Z"
   },
   {
    "duration": 12,
    "start_time": "2022-06-19T20:33:52.783Z"
   },
   {
    "duration": 20,
    "start_time": "2022-06-19T20:33:52.797Z"
   },
   {
    "duration": 16,
    "start_time": "2022-06-19T20:33:52.819Z"
   },
   {
    "duration": 246,
    "start_time": "2022-06-19T20:33:52.836Z"
   },
   {
    "duration": 102,
    "start_time": "2022-06-19T20:33:53.083Z"
   },
   {
    "duration": 109,
    "start_time": "2022-06-19T20:33:53.187Z"
   },
   {
    "duration": 5,
    "start_time": "2022-06-19T20:33:53.298Z"
   },
   {
    "duration": 171,
    "start_time": "2022-06-19T20:33:53.305Z"
   },
   {
    "duration": 15,
    "start_time": "2022-06-19T20:33:53.478Z"
   },
   {
    "duration": 3,
    "start_time": "2022-06-19T20:33:53.494Z"
   },
   {
    "duration": 340,
    "start_time": "2022-06-19T20:33:53.499Z"
   },
   {
    "duration": 24,
    "start_time": "2022-06-19T20:33:53.840Z"
   },
   {
    "duration": 307,
    "start_time": "2022-06-19T20:33:53.866Z"
   },
   {
    "duration": 364,
    "start_time": "2022-06-19T20:33:54.175Z"
   },
   {
    "duration": 415,
    "start_time": "2022-06-19T20:33:54.541Z"
   },
   {
    "duration": 21,
    "start_time": "2022-06-19T20:33:54.957Z"
   },
   {
    "duration": 389,
    "start_time": "2022-06-19T20:33:54.980Z"
   },
   {
    "duration": 146,
    "start_time": "2022-06-19T20:33:55.371Z"
   },
   {
    "duration": 14,
    "start_time": "2022-06-19T20:33:55.518Z"
   },
   {
    "duration": 43,
    "start_time": "2022-06-19T20:33:55.533Z"
   },
   {
    "duration": 14,
    "start_time": "2022-06-19T20:33:55.578Z"
   },
   {
    "duration": 15,
    "start_time": "2022-06-19T20:33:55.593Z"
   },
   {
    "duration": 17,
    "start_time": "2022-06-19T20:33:55.610Z"
   },
   {
    "duration": 44,
    "start_time": "2022-06-19T20:33:55.630Z"
   },
   {
    "duration": 275,
    "start_time": "2022-06-19T20:33:55.675Z"
   },
   {
    "duration": 133,
    "start_time": "2022-06-19T20:33:55.952Z"
   },
   {
    "duration": 294,
    "start_time": "2022-06-19T20:33:56.086Z"
   },
   {
    "duration": 116,
    "start_time": "2022-06-19T20:33:56.382Z"
   },
   {
    "duration": 34,
    "start_time": "2022-06-19T20:33:56.500Z"
   },
   {
    "duration": 71,
    "start_time": "2022-06-19T20:33:56.536Z"
   },
   {
    "duration": 66,
    "start_time": "2022-06-19T20:33:56.609Z"
   },
   {
    "duration": 43,
    "start_time": "2022-06-19T20:33:56.677Z"
   },
   {
    "duration": 5,
    "start_time": "2022-06-19T20:33:56.722Z"
   },
   {
    "duration": 9,
    "start_time": "2022-06-19T20:33:56.728Z"
   },
   {
    "duration": 31,
    "start_time": "2022-06-19T20:33:56.739Z"
   },
   {
    "duration": 56,
    "start_time": "2022-06-21T11:59:18.646Z"
   },
   {
    "duration": 1240,
    "start_time": "2022-06-21T11:59:24.841Z"
   },
   {
    "duration": 134,
    "start_time": "2022-06-21T11:59:26.083Z"
   },
   {
    "duration": 0,
    "start_time": "2022-06-21T11:59:26.219Z"
   },
   {
    "duration": 0,
    "start_time": "2022-06-21T11:59:26.220Z"
   },
   {
    "duration": 0,
    "start_time": "2022-06-21T11:59:26.221Z"
   },
   {
    "duration": 0,
    "start_time": "2022-06-21T11:59:26.222Z"
   },
   {
    "duration": 0,
    "start_time": "2022-06-21T11:59:26.223Z"
   },
   {
    "duration": 0,
    "start_time": "2022-06-21T11:59:26.224Z"
   },
   {
    "duration": 0,
    "start_time": "2022-06-21T11:59:26.224Z"
   },
   {
    "duration": 0,
    "start_time": "2022-06-21T11:59:26.225Z"
   },
   {
    "duration": 0,
    "start_time": "2022-06-21T11:59:26.226Z"
   },
   {
    "duration": 0,
    "start_time": "2022-06-21T11:59:26.227Z"
   },
   {
    "duration": 0,
    "start_time": "2022-06-21T11:59:26.228Z"
   },
   {
    "duration": 0,
    "start_time": "2022-06-21T11:59:26.229Z"
   },
   {
    "duration": 0,
    "start_time": "2022-06-21T11:59:26.229Z"
   },
   {
    "duration": 0,
    "start_time": "2022-06-21T11:59:26.231Z"
   },
   {
    "duration": 0,
    "start_time": "2022-06-21T11:59:26.231Z"
   },
   {
    "duration": 0,
    "start_time": "2022-06-21T11:59:26.232Z"
   },
   {
    "duration": 0,
    "start_time": "2022-06-21T11:59:26.256Z"
   },
   {
    "duration": 0,
    "start_time": "2022-06-21T11:59:26.263Z"
   },
   {
    "duration": 0,
    "start_time": "2022-06-21T11:59:26.265Z"
   },
   {
    "duration": 0,
    "start_time": "2022-06-21T11:59:26.268Z"
   },
   {
    "duration": 0,
    "start_time": "2022-06-21T11:59:26.271Z"
   },
   {
    "duration": 0,
    "start_time": "2022-06-21T11:59:26.275Z"
   },
   {
    "duration": 0,
    "start_time": "2022-06-21T11:59:26.278Z"
   },
   {
    "duration": 0,
    "start_time": "2022-06-21T11:59:26.279Z"
   },
   {
    "duration": 0,
    "start_time": "2022-06-21T11:59:26.280Z"
   },
   {
    "duration": 0,
    "start_time": "2022-06-21T11:59:26.282Z"
   },
   {
    "duration": 0,
    "start_time": "2022-06-21T11:59:26.283Z"
   },
   {
    "duration": 0,
    "start_time": "2022-06-21T11:59:26.284Z"
   },
   {
    "duration": 0,
    "start_time": "2022-06-21T11:59:26.285Z"
   },
   {
    "duration": 0,
    "start_time": "2022-06-21T11:59:26.287Z"
   },
   {
    "duration": 0,
    "start_time": "2022-06-21T11:59:26.288Z"
   },
   {
    "duration": 0,
    "start_time": "2022-06-21T11:59:26.289Z"
   },
   {
    "duration": 0,
    "start_time": "2022-06-21T11:59:26.290Z"
   },
   {
    "duration": 0,
    "start_time": "2022-06-21T11:59:26.291Z"
   },
   {
    "duration": 0,
    "start_time": "2022-06-21T11:59:26.293Z"
   },
   {
    "duration": 0,
    "start_time": "2022-06-21T11:59:26.294Z"
   },
   {
    "duration": 0,
    "start_time": "2022-06-21T11:59:26.296Z"
   },
   {
    "duration": 0,
    "start_time": "2022-06-21T11:59:26.297Z"
   },
   {
    "duration": 0,
    "start_time": "2022-06-21T11:59:26.298Z"
   },
   {
    "duration": 0,
    "start_time": "2022-06-21T11:59:26.300Z"
   },
   {
    "duration": 0,
    "start_time": "2022-06-21T11:59:26.301Z"
   },
   {
    "duration": 138,
    "start_time": "2022-06-21T12:00:21.294Z"
   },
   {
    "duration": 1004,
    "start_time": "2022-06-21T12:00:27.826Z"
   },
   {
    "duration": 87,
    "start_time": "2022-06-21T12:00:28.832Z"
   },
   {
    "duration": 3,
    "start_time": "2022-06-21T12:00:28.920Z"
   },
   {
    "duration": 8,
    "start_time": "2022-06-21T12:00:28.925Z"
   },
   {
    "duration": 26,
    "start_time": "2022-06-21T12:00:28.934Z"
   },
   {
    "duration": 10,
    "start_time": "2022-06-21T12:00:28.968Z"
   },
   {
    "duration": 11,
    "start_time": "2022-06-21T12:00:28.979Z"
   },
   {
    "duration": 14,
    "start_time": "2022-06-21T12:00:28.992Z"
   },
   {
    "duration": 230,
    "start_time": "2022-06-21T12:00:29.008Z"
   },
   {
    "duration": 90,
    "start_time": "2022-06-21T12:00:29.253Z"
   },
   {
    "duration": 96,
    "start_time": "2022-06-21T12:00:29.345Z"
   },
   {
    "duration": 3,
    "start_time": "2022-06-21T12:00:29.443Z"
   },
   {
    "duration": 162,
    "start_time": "2022-06-21T12:00:29.457Z"
   },
   {
    "duration": 14,
    "start_time": "2022-06-21T12:00:29.620Z"
   },
   {
    "duration": 2,
    "start_time": "2022-06-21T12:00:29.635Z"
   },
   {
    "duration": 337,
    "start_time": "2022-06-21T12:00:29.638Z"
   },
   {
    "duration": 20,
    "start_time": "2022-06-21T12:00:29.977Z"
   },
   {
    "duration": 315,
    "start_time": "2022-06-21T12:00:29.998Z"
   },
   {
    "duration": 299,
    "start_time": "2022-06-21T12:00:30.314Z"
   },
   {
    "duration": 302,
    "start_time": "2022-06-21T12:00:30.615Z"
   },
   {
    "duration": 15,
    "start_time": "2022-06-21T12:00:30.919Z"
   },
   {
    "duration": 28,
    "start_time": "2022-06-21T12:00:30.935Z"
   },
   {
    "duration": 291,
    "start_time": "2022-06-21T12:00:30.969Z"
   },
   {
    "duration": 104,
    "start_time": "2022-06-21T12:00:31.261Z"
   },
   {
    "duration": 38,
    "start_time": "2022-06-21T12:00:31.366Z"
   },
   {
    "duration": 13,
    "start_time": "2022-06-21T12:00:31.405Z"
   },
   {
    "duration": 241,
    "start_time": "2022-06-21T12:00:31.420Z"
   },
   {
    "duration": 126,
    "start_time": "2022-06-21T12:00:31.665Z"
   },
   {
    "duration": 214,
    "start_time": "2022-06-21T12:00:31.792Z"
   },
   {
    "duration": 136,
    "start_time": "2022-06-21T12:00:32.007Z"
   },
   {
    "duration": 43,
    "start_time": "2022-06-21T12:00:32.144Z"
   },
   {
    "duration": 5,
    "start_time": "2022-06-21T12:00:32.188Z"
   },
   {
    "duration": 287,
    "start_time": "2022-06-21T12:00:32.195Z"
   },
   {
    "duration": 34,
    "start_time": "2022-06-21T12:00:32.484Z"
   },
   {
    "duration": 12,
    "start_time": "2022-06-21T12:00:32.520Z"
   },
   {
    "duration": 37,
    "start_time": "2022-06-21T12:00:32.534Z"
   },
   {
    "duration": 24,
    "start_time": "2022-06-21T12:00:32.573Z"
   },
   {
    "duration": 38,
    "start_time": "2022-06-21T12:00:32.598Z"
   },
   {
    "duration": 62,
    "start_time": "2022-06-21T12:00:32.637Z"
   },
   {
    "duration": 37,
    "start_time": "2022-06-21T12:00:32.701Z"
   },
   {
    "duration": 21,
    "start_time": "2022-06-21T12:00:32.740Z"
   },
   {
    "duration": 24,
    "start_time": "2022-06-21T12:00:32.762Z"
   },
   {
    "duration": 8,
    "start_time": "2022-06-21T12:00:32.787Z"
   },
   {
    "duration": 347,
    "start_time": "2022-06-21T12:01:50.011Z"
   },
   {
    "duration": 308,
    "start_time": "2022-06-21T12:01:56.340Z"
   },
   {
    "duration": 324,
    "start_time": "2022-06-21T12:02:04.003Z"
   },
   {
    "duration": 262,
    "start_time": "2022-06-21T12:02:29.923Z"
   },
   {
    "duration": 316,
    "start_time": "2022-06-21T12:12:58.685Z"
   },
   {
    "duration": 290,
    "start_time": "2022-06-21T12:13:31.567Z"
   },
   {
    "duration": 963,
    "start_time": "2022-06-21T12:31:37.482Z"
   },
   {
    "duration": 71,
    "start_time": "2022-06-21T12:31:38.446Z"
   },
   {
    "duration": 2,
    "start_time": "2022-06-21T12:31:38.519Z"
   },
   {
    "duration": 12,
    "start_time": "2022-06-21T12:31:38.522Z"
   },
   {
    "duration": 26,
    "start_time": "2022-06-21T12:31:38.536Z"
   },
   {
    "duration": 3,
    "start_time": "2022-06-21T12:31:38.565Z"
   },
   {
    "duration": 11,
    "start_time": "2022-06-21T12:31:38.569Z"
   },
   {
    "duration": 14,
    "start_time": "2022-06-21T12:31:38.582Z"
   },
   {
    "duration": 232,
    "start_time": "2022-06-21T12:31:38.598Z"
   },
   {
    "duration": 95,
    "start_time": "2022-06-21T12:31:38.832Z"
   },
   {
    "duration": 98,
    "start_time": "2022-06-21T12:31:38.928Z"
   },
   {
    "duration": 4,
    "start_time": "2022-06-21T12:31:39.027Z"
   },
   {
    "duration": 150,
    "start_time": "2022-06-21T12:31:39.032Z"
   },
   {
    "duration": 14,
    "start_time": "2022-06-21T12:31:39.184Z"
   },
   {
    "duration": 2,
    "start_time": "2022-06-21T12:31:39.200Z"
   },
   {
    "duration": 326,
    "start_time": "2022-06-21T12:31:39.203Z"
   },
   {
    "duration": 24,
    "start_time": "2022-06-21T12:31:39.531Z"
   },
   {
    "duration": 288,
    "start_time": "2022-06-21T12:31:39.558Z"
   },
   {
    "duration": 318,
    "start_time": "2022-06-21T12:31:39.848Z"
   },
   {
    "duration": 281,
    "start_time": "2022-06-21T12:31:40.169Z"
   },
   {
    "duration": 15,
    "start_time": "2022-06-21T12:31:40.454Z"
   },
   {
    "duration": 4,
    "start_time": "2022-06-21T12:31:40.471Z"
   },
   {
    "duration": 315,
    "start_time": "2022-06-21T12:31:40.477Z"
   },
   {
    "duration": 92,
    "start_time": "2022-06-21T12:31:40.793Z"
   },
   {
    "duration": 29,
    "start_time": "2022-06-21T12:31:40.887Z"
   },
   {
    "duration": 35,
    "start_time": "2022-06-21T12:31:40.917Z"
   },
   {
    "duration": 203,
    "start_time": "2022-06-21T12:31:40.954Z"
   },
   {
    "duration": 114,
    "start_time": "2022-06-21T12:31:41.162Z"
   },
   {
    "duration": 226,
    "start_time": "2022-06-21T12:31:41.277Z"
   },
   {
    "duration": 133,
    "start_time": "2022-06-21T12:31:41.505Z"
   },
   {
    "duration": 45,
    "start_time": "2022-06-21T12:31:41.640Z"
   },
   {
    "duration": 4,
    "start_time": "2022-06-21T12:31:41.686Z"
   },
   {
    "duration": 286,
    "start_time": "2022-06-21T12:31:41.691Z"
   },
   {
    "duration": 36,
    "start_time": "2022-06-21T12:31:41.979Z"
   },
   {
    "duration": 13,
    "start_time": "2022-06-21T12:31:42.017Z"
   },
   {
    "duration": 38,
    "start_time": "2022-06-21T12:31:42.032Z"
   },
   {
    "duration": 14,
    "start_time": "2022-06-21T12:31:42.071Z"
   },
   {
    "duration": 41,
    "start_time": "2022-06-21T12:31:42.086Z"
   },
   {
    "duration": 54,
    "start_time": "2022-06-21T12:31:42.128Z"
   },
   {
    "duration": 36,
    "start_time": "2022-06-21T12:31:42.184Z"
   },
   {
    "duration": 31,
    "start_time": "2022-06-21T12:31:42.223Z"
   },
   {
    "duration": 8,
    "start_time": "2022-06-21T12:31:42.258Z"
   },
   {
    "duration": 12,
    "start_time": "2022-06-21T12:31:42.267Z"
   }
  ],
  "kernelspec": {
   "display_name": "Python 3 (ipykernel)",
   "language": "python",
   "name": "python3"
  },
  "language_info": {
   "codemirror_mode": {
    "name": "ipython",
    "version": 3
   },
   "file_extension": ".py",
   "mimetype": "text/x-python",
   "name": "python",
   "nbconvert_exporter": "python",
   "pygments_lexer": "ipython3",
   "version": "3.9.12"
  },
  "toc": {
   "base_numbering": 1,
   "nav_menu": {},
   "number_sections": true,
   "sideBar": true,
   "skip_h1_title": true,
   "title_cell": "Table of Contents",
   "title_sidebar": "Contents",
   "toc_cell": false,
   "toc_position": {},
   "toc_section_display": true,
   "toc_window_display": false
  }
 },
 "nbformat": 4,
 "nbformat_minor": 2
}
